{
 "cells": [
  {
   "cell_type": "code",
   "execution_count": 1,
   "metadata": {},
   "outputs": [
    {
     "name": "stdout",
     "output_type": "stream",
     "text": [
      "[t-SNE] Computing 241 nearest neighbors...\n",
      "[t-SNE] Indexed 1715 samples in 0.002s...\n",
      "[t-SNE] Computed neighbors for 1715 samples in 0.306s...\n",
      "[t-SNE] Computed conditional probabilities for sample 1000 / 1715\n",
      "[t-SNE] Computed conditional probabilities for sample 1715 / 1715\n",
      "[t-SNE] Mean sigma: 0.269872\n",
      "[t-SNE] KL divergence after 250 iterations with early exaggeration: 61.819092\n",
      "[t-SNE] KL divergence after 1000 iterations: 1.297354\n",
      "[t-SNE] Computing 241 nearest neighbors...\n",
      "[t-SNE] Indexed 1715 samples in 0.001s...\n",
      "[t-SNE] Computed neighbors for 1715 samples in 0.098s...\n",
      "[t-SNE] Computed conditional probabilities for sample 1000 / 1715\n",
      "[t-SNE] Computed conditional probabilities for sample 1715 / 1715\n",
      "[t-SNE] Mean sigma: 0.078942\n",
      "[t-SNE] KL divergence after 250 iterations with early exaggeration: 62.715366\n",
      "[t-SNE] KL divergence after 1000 iterations: 1.007133\n"
     ]
    }
   ],
   "source": [
    "# interactive plot to check DVN results\n",
    "import numpy as np\n",
    "import plotly.graph_objects as go\n",
    "from plotly.subplots import make_subplots\n",
    "import pandas as pd\n",
    "from plotly.subplots import make_subplots\n",
    "import pandas as pd\n",
    "import time\n",
    "from sklearn.manifold import TSNE, Isomap, LocallyLinearEmbedding, SpectralEmbedding\n",
    "import plotly_express as px\n",
    "import plotly.graph_objs as go\n",
    "import ipywidgets as widgets\n",
    "import os\n",
    "from sklearn import preprocessing\n",
    "from ast import literal_eval\n",
    "min_max_scaler = preprocessing.MinMaxScaler()\n",
    "n_neighbors = 10\n",
    "\n",
    "class interactive_graph():\n",
    "    def __init__(self,df,grouping_by=\"label\",title=\"\"):\n",
    "        p = px.scatter(df, x=\"v1\",y=\"v2\",color=grouping_by,hover_data=[\"path\"],color_discrete_sequence=px.colors.qualitative.Dark24)\n",
    "    \n",
    "        for trace in p.data:\n",
    "            trace.update(hoverinfo=\"none\",hovertemplate= '')\n",
    "        \n",
    "        self.hover_data = widgets.Textarea()  \n",
    "        self.aud=widgets.Audio(autoplay=True,loop=False,embedding=True)\n",
    "\n",
    "        layout = go.Layout(hovermode=False,)\n",
    "        self.fig  = go.FigureWidget(p)\n",
    "        self.fig.update_layout(\n",
    "            title={\n",
    "                'text': title,\n",
    "                'y':0.9,\n",
    "                'x':0.5,\n",
    "                'xanchor': 'center',\n",
    "                'yanchor': 'top'})\n",
    "        for f in self.fig.data:\n",
    "            f.on_hover(self.hover_fn)\n",
    "            \n",
    "    def hover_fn(self,trace, points, state):\n",
    "        if points.point_inds:\n",
    "            ind = points.point_inds[0]\n",
    "            drmName=trace.customdata[ind][0][2:]\n",
    "            filename=os.getcwd()+\"/\"+drmName\n",
    "            with open(filename,'rb') as f:\n",
    "                audio_data = f.read()\n",
    "            self.aud.value=audio_data\n",
    "            self.hover_data.value = str(drmName)+\"\\n\"\n",
    "\n",
    "def plotly_able_df(df):\n",
    "    \n",
    "    df[\"feats\"]=df[\"feats\"].apply(literal_eval)\n",
    "    X=df[\"feats\"]\n",
    "    #convert series of arrays into a numpy array\n",
    "    X=pd.DataFrame(X.to_list()).to_numpy()\n",
    "    X = min_max_scaler.fit_transform(X)\n",
    "    time_start = time.time()\n",
    "    tsne = TSNE(n_components=2, random_state=0, perplexity=80, verbose=1)\n",
    "    # tsne = Isomap(n_neighbors, n_components=2)\n",
    "    # tsne = LocallyLinearEmbedding(n_neighbors,n_components=4)\n",
    "    # tsne = SpectralEmbedding(n_neighbors=10,n_components=5,random_state=1)\n",
    "    X_2d = tsne.fit_transform(X)\n",
    "    df2=pd.concat([df[\"path\"],df[\"label\"],df[\"drum_type\"],pd.Series(X_2d[:,0]),pd.Series(X_2d[:,1])],axis=1)\n",
    "    df2.columns=[\"path\",\"label\",\"drum_type\",\"v1\",\"v2\"]\n",
    "    df2.label = df2.label.astype('str')\n",
    "    return df2\n",
    "\n",
    "df_64=plotly_able_df(pd.read_csv(\"feature_extraction/csvs/spec_encode_64_290_0.002042.pt.csv\"))\n",
    "df_8=plotly_able_df(pd.read_csv(\"feature_extraction/csvs/spec_encode_sm_8_270_0.003504.pt.csv\"))"
   ]
  },
  {
   "cell_type": "code",
   "execution_count": 2,
   "metadata": {},
   "outputs": [
    {
     "data": {
      "application/vnd.jupyter.widget-view+json": {
       "model_id": "795082240bb64d30afc95d2e2b978eaa",
       "version_major": 2,
       "version_minor": 0
      },
      "text/plain": [
       "FigureWidget({\n",
       "    'data': [{'customdata': array([['./dk_data/tom_high/Roland Tr-909-TR-909Tom Hi 01.wav'],\n",
       "  …"
      ]
     },
     "metadata": {},
     "output_type": "display_data"
    },
    {
     "data": {
      "application/vnd.jupyter.widget-view+json": {
       "model_id": "225b038548f4449d888560aaa7cd1839",
       "version_major": 2,
       "version_minor": 0
      },
      "text/plain": [
       "HBox(children=(Textarea(value=''), Audio(value=b'', loop='False')))"
      ]
     },
     "metadata": {},
     "output_type": "display_data"
    },
    {
     "data": {
      "application/vnd.jupyter.widget-view+json": {
       "model_id": "85542984653948f3a80bc93030734204",
       "version_major": 2,
       "version_minor": 0
      },
      "text/plain": [
       "FigureWidget({\n",
       "    'data': [{'customdata': array([['./dk_data/tom_high/Roland Tr-909-TR-909Tom Hi 01.wav'],\n",
       "  …"
      ]
     },
     "metadata": {},
     "output_type": "display_data"
    },
    {
     "data": {
      "application/vnd.jupyter.widget-view+json": {
       "model_id": "2f2f231413f1499caf967e1c1c6a6bd3",
       "version_major": 2,
       "version_minor": 0
      },
      "text/plain": [
       "HBox(children=(Textarea(value=''), Audio(value=b'', loop='False')))"
      ]
     },
     "metadata": {},
     "output_type": "display_data"
    }
   ],
   "source": [
    "ig=interactive_graph(df_64,grouping_by=\"drum_type\",title=\"64 dim embedding\")\n",
    "display(ig.fig,widgets.HBox([ig.hover_data,ig.aud]))\n",
    "\n",
    "ig=interactive_graph(df_64,grouping_by=\"label\",title=\"64 dim embedding\")\n",
    "display(ig.fig,widgets.HBox([ig.hover_data,ig.aud]))"
   ]
  },
  {
   "cell_type": "code",
   "execution_count": 3,
   "metadata": {},
   "outputs": [
    {
     "data": {
      "application/vnd.jupyter.widget-view+json": {
       "model_id": "fa7c97c09eaf49c79830305bd94300a6",
       "version_major": 2,
       "version_minor": 0
      },
      "text/plain": [
       "FigureWidget({\n",
       "    'data': [{'customdata': array([['./dk_data/tom_high/Roland Tr-909-TR-909Tom Hi 01.wav'],\n",
       "  …"
      ]
     },
     "metadata": {},
     "output_type": "display_data"
    },
    {
     "data": {
      "application/vnd.jupyter.widget-view+json": {
       "model_id": "dc9c3c38fcc44807bc7a520385051183",
       "version_major": 2,
       "version_minor": 0
      },
      "text/plain": [
       "HBox(children=(Textarea(value=''), Audio(value=b'', loop='False')))"
      ]
     },
     "metadata": {},
     "output_type": "display_data"
    },
    {
     "data": {
      "application/vnd.jupyter.widget-view+json": {
       "model_id": "5e68fbb879b74995bcf43ace019e7c95",
       "version_major": 2,
       "version_minor": 0
      },
      "text/plain": [
       "FigureWidget({\n",
       "    'data': [{'customdata': array([['./dk_data/tom_high/Roland Tr-909-TR-909Tom Hi 01.wav'],\n",
       "  …"
      ]
     },
     "metadata": {},
     "output_type": "display_data"
    },
    {
     "data": {
      "application/vnd.jupyter.widget-view+json": {
       "model_id": "d096f67d26c247c3977dc68b9e25ae8a",
       "version_major": 2,
       "version_minor": 0
      },
      "text/plain": [
       "HBox(children=(Textarea(value=''), Audio(value=b'', loop='False')))"
      ]
     },
     "metadata": {},
     "output_type": "display_data"
    }
   ],
   "source": [
    "ig=interactive_graph(df_8,grouping_by=\"drum_type\",title=\"8 dim embedding\")\n",
    "display(ig.fig,widgets.HBox([ig.hover_data,ig.aud]))\n",
    "\n",
    "ig=interactive_graph(df_8,grouping_by=\"label\",title=\"8 dim embedding\")\n",
    "display(ig.fig,widgets.HBox([ig.hover_data,ig.aud]))"
   ]
  }
 ],
 "metadata": {
  "kernelspec": {
   "display_name": "Python 3",
   "language": "python",
   "name": "python3"
  },
  "language_info": {
   "codemirror_mode": {
    "name": "ipython",
    "version": 3
   },
   "file_extension": ".py",
   "mimetype": "text/x-python",
   "name": "python",
   "nbconvert_exporter": "python",
   "pygments_lexer": "ipython3",
   "version": "3.7.5"
  }
 },
 "nbformat": 4,
 "nbformat_minor": 4
}
