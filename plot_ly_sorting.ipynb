{
 "cells": [
  {
   "cell_type": "code",
   "execution_count": 15,
   "metadata": {},
   "outputs": [
    {
     "name": "stdout",
     "output_type": "stream",
     "text": [
      "[t-SNE] Computing 301 nearest neighbors...\n",
      "[t-SNE] Indexed 693 samples in 0.001s...\n",
      "[t-SNE] Computed neighbors for 693 samples in 0.078s...\n",
      "[t-SNE] Computed conditional probabilities for sample 693 / 693\n",
      "[t-SNE] Mean sigma: 2.194537\n",
      "[t-SNE] KL divergence after 250 iterations with early exaggeration: 82.894157\n",
      "[t-SNE] KL divergence after 1000 iterations: 0.941183\n"
     ]
    }
   ],
   "source": [
    "import numpy as np\n",
    "import plotly.graph_objects as go\n",
    "from plotly.subplots import make_subplots\n",
    "import pandas as pd\n",
    "from plotly.subplots import make_subplots\n",
    "import pandas as pd\n",
    "import time\n",
    "from sklearn.manifold import TSNE, Isomap, LocallyLinearEmbedding, SpectralEmbedding\n",
    "\n",
    "df=pd.read_csv(\"csvs/feat_autoencoder_linear.csv\",header=None,error_bad_lines=False)\n",
    "n_neighbors = 10\n",
    "X = df.iloc[:,1:88].values\n",
    "X = np.nan_to_num(X)\n",
    "time_start = time.time()\n",
    "tsne = TSNE(n_components=2, random_state=0, perplexity=100, verbose=1)\n",
    "# tsne = Isomap(n_neighbors, n_components=2)\n",
    "# tsne = LocallyLinearEmbedding(n_neighbors,n_components=2)\n",
    "tsne = SpectralEmbedding(n_neighbors=n_neighbors,n_components=2,random_state=0)\n",
    "# X_2d = tsne.fit_transform(X)\n",
    "\n",
    "df2=pd.concat([df[0],pd.Series(X_2d[:,0]),pd.Series(X_2d[:,1])],axis=1)\n",
    "df2.columns=[\"path\",\"v1\",\"v2\"]\n"
   ]
  },
  {
   "cell_type": "code",
   "execution_count": 16,
   "metadata": {},
   "outputs": [
    {
     "data": {
      "application/vnd.jupyter.widget-view+json": {
       "model_id": "441e840cfcef4b7eb0ede964e0351162",
       "version_major": 2,
       "version_minor": 0
      },
      "text/plain": [
       "FigureWidget({\n",
       "    'data': [{'hovertemplate': '<b>%{hovertext}</b><br><br>x=%{x}<br>y=%{y}<extra></extra>',\n",
       "  …"
      ]
     },
     "metadata": {},
     "output_type": "display_data"
    },
    {
     "data": {
      "application/vnd.jupyter.widget-view+json": {
       "model_id": "cbf10d641a0a464980250d241c9ddd32",
       "version_major": 2,
       "version_minor": 0
      },
      "text/plain": [
       "HBox(children=(Textarea(value=''),))"
      ]
     },
     "metadata": {},
     "output_type": "display_data"
    }
   ],
   "source": [
    "import plotly_express as px\n",
    "import plotly.graph_objs as go\n",
    "import ipywidgets as widgets\n",
    "import os\n",
    "\n",
    "iris = px.data.iris()\n",
    "\n",
    "p = px.scatter(iris, x=df2[\"v1\"], y=df2[\"v2\"],hover_name=df2[\"path\"])\n",
    "\n",
    "def hover_fn(trace, points, state):\n",
    "    if points.point_inds:\n",
    "        ind = points.point_inds[0]\n",
    "        filename=os.getcwd()+\"/\"+df2[\"path\"][ind]\n",
    "        os.system(\"play %s &\" % filename)\n",
    "\n",
    "        hover_data.value = 'name:' + str(points) + ',' + str(ind)\n",
    "    \n",
    "def selection_fn(trace, points, state):\n",
    "    ind = points.point_inds\n",
    "    selection_data.value = 'selection_data:\\n' + str(ind)\n",
    "\n",
    "selection_data = widgets.Textarea()  \n",
    "hover_data = widgets.Textarea()  \n",
    "\n",
    "fig  = go.FigureWidget(p)\n",
    "\n",
    "for f in fig.data:\n",
    "    f.on_hover(hover_fn)\n",
    "    f.on_selection(selection_fn)\n",
    "\n",
    "display(fig,widgets.HBox([hover_data]))"
   ]
  }
 ],
 "metadata": {
  "kernelspec": {
   "display_name": "Python 3",
   "language": "python",
   "name": "python3"
  },
  "language_info": {
   "codemirror_mode": {
    "name": "ipython",
    "version": 3
   },
   "file_extension": ".py",
   "mimetype": "text/x-python",
   "name": "python",
   "nbconvert_exporter": "python",
   "pygments_lexer": "ipython3",
   "version": "3.7.5"
  },
  "varInspector": {
   "cols": {
    "lenName": 16,
    "lenType": 16,
    "lenVar": 40
   },
   "kernels_config": {
    "python": {
     "delete_cmd_postfix": "",
     "delete_cmd_prefix": "del ",
     "library": "var_list.py",
     "varRefreshCmd": "print(var_dic_list())"
    },
    "r": {
     "delete_cmd_postfix": ") ",
     "delete_cmd_prefix": "rm(",
     "library": "var_list.r",
     "varRefreshCmd": "cat(var_dic_list()) "
    }
   },
   "types_to_exclude": [
    "module",
    "function",
    "builtin_function_or_method",
    "instance",
    "_Feature"
   ],
   "window_display": false
  }
 },
 "nbformat": 4,
 "nbformat_minor": 4
}
