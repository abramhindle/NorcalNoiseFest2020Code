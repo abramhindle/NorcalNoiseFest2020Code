{
 "cells": [
  {
   "cell_type": "code",
   "execution_count": 1,
   "metadata": {},
   "outputs": [
    {
     "name": "stderr",
     "output_type": "stream",
     "text": [
      "b'Skipping line 7: expected 88 fields, saw 122\\nSkipping line 13: expected 88 fields, saw 91\\nSkipping line 19: expected 88 fields, saw 166\\n'\n"
     ]
    }
   ],
   "source": [
    "import numpy as np\n",
    "import plotly.graph_objects as go\n",
    "from plotly.subplots import make_subplots\n",
    "import pandas as pd\n",
    "from plotly.subplots import make_subplots\n",
    "import pandas as pd\n",
    "import time\n",
    "from sklearn.manifold import TSNE, Isomap, LocallyLinearEmbedding, SpectralEmbedding\n",
    "\n",
    "df=pd.read_csv(\"feat.csv\",header=None,error_bad_lines=False)\n",
    "n_neighbors = 10\n",
    "X = df.iloc[:,1:88].values\n",
    "X = np.nan_to_num(X)\n",
    "time_start = time.time()\n",
    "# tsne = TSNE(n_components=2, random_state=0, perplexity=100, verbose=1)\n",
    "# tsne = Isomap(n_neighbors, n_components=2)\n",
    "# tsne = LocallyLinearEmbedding(n_neighbors,n_components=2)\n",
    "tsne = SpectralEmbedding(n_neighbors=n_neighbors,n_components=2,random_state=0)\n",
    "X_2d = tsne.fit_transform(X)\n",
    "\n",
    "df2=pd.concat([df[0],pd.Series(X_2d[:,0]),pd.Series(X_2d[:,1])],axis=1)\n",
    "df2.columns=[\"path\",\"v1\",\"v2\"]\n"
   ]
  },
  {
   "cell_type": "code",
   "execution_count": 2,
   "metadata": {},
   "outputs": [
    {
     "data": {
      "application/vnd.jupyter.widget-view+json": {
       "model_id": "d46eafa4786142eb8e636cea5feed993",
       "version_major": 2,
       "version_minor": 0
      },
      "text/plain": [
       "FigureWidget({\n",
       "    'data': [{'hoverlabel': {'namelength': 0},\n",
       "              'hovertemplate': '<b>%{hovertext}<…"
      ]
     },
     "metadata": {},
     "output_type": "display_data"
    },
    {
     "data": {
      "application/vnd.jupyter.widget-view+json": {
       "model_id": "5b1462d9fa9f40a8a8c5b59ad89b5e33",
       "version_major": 2,
       "version_minor": 0
      },
      "text/plain": [
       "HBox(children=(Textarea(value=''),))"
      ]
     },
     "metadata": {},
     "output_type": "display_data"
    }
   ],
   "source": [
    "import plotly_express as px\n",
    "import plotly.graph_objs as go\n",
    "import ipywidgets as widgets\n",
    "import os\n",
    "\n",
    "iris = px.data.iris()\n",
    "\n",
    "p = px.scatter(iris, x=df2[\"v1\"], y=df2[\"v2\"],hover_name=df2[\"path\"])\n",
    "\n",
    "def hover_fn(trace, points, state):\n",
    "    if points.point_inds:\n",
    "        ind = points.point_inds[0]\n",
    "        filename=os.getcwd()+\"/\"+df2[\"path\"][ind]\n",
    "        os.system(\"play %s &\" % filename)\n",
    "\n",
    "        hover_data.value = 'name:' + str(points) + ',' + str(ind)\n",
    "    \n",
    "def selection_fn(trace, points, state):\n",
    "    ind = points.point_inds\n",
    "    selection_data.value = 'selection_data:\\n' + str(ind)\n",
    "\n",
    "selection_data = widgets.Textarea()  \n",
    "hover_data = widgets.Textarea()  \n",
    "\n",
    "fig  = go.FigureWidget(p)\n",
    "\n",
    "for f in fig.data:\n",
    "    f.on_hover(hover_fn)\n",
    "    f.on_selection(selection_fn)\n",
    "\n",
    "display(fig,widgets.HBox([hover_data]))"
   ]
  },
  {
   "cell_type": "code",
   "execution_count": 98,
   "metadata": {},
   "outputs": [
    {
     "data": {
      "text/plain": [
       "(2279, 88)"
      ]
     },
     "execution_count": 98,
     "metadata": {},
     "output_type": "execute_result"
    }
   ],
   "source": [
    "df.shape"
   ]
  }
 ],
 "metadata": {
  "kernelspec": {
   "display_name": "synthpyenv",
   "language": "python",
   "name": "synthpy"
  },
  "language_info": {
   "codemirror_mode": {
    "name": "ipython",
    "version": 3
   },
   "file_extension": ".py",
   "mimetype": "text/x-python",
   "name": "python",
   "nbconvert_exporter": "python",
   "pygments_lexer": "ipython3",
   "version": "3.6.8"
  },
  "varInspector": {
   "cols": {
    "lenName": 16,
    "lenType": 16,
    "lenVar": 40
   },
   "kernels_config": {
    "python": {
     "delete_cmd_postfix": "",
     "delete_cmd_prefix": "del ",
     "library": "var_list.py",
     "varRefreshCmd": "print(var_dic_list())"
    },
    "r": {
     "delete_cmd_postfix": ") ",
     "delete_cmd_prefix": "rm(",
     "library": "var_list.r",
     "varRefreshCmd": "cat(var_dic_list()) "
    }
   },
   "types_to_exclude": [
    "module",
    "function",
    "builtin_function_or_method",
    "instance",
    "_Feature"
   ],
   "window_display": false
  }
 },
 "nbformat": 4,
 "nbformat_minor": 4
}
