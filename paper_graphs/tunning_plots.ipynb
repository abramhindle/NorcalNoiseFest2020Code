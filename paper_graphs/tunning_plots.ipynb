{
 "cells": [
  {
   "cell_type": "code",
   "execution_count": 16,
   "metadata": {},
   "outputs": [
    {
     "name": "stderr",
     "output_type": "stream",
     "text": [
      "[I 2020-07-27 12:40:56,978] Using an existing study with name 'Study_ALL' instead of creating a new one.\n",
      "/home/asalimi/miniconda3/lib/python3.7/site-packages/optuna/_experimental.py:61: ExperimentalWarning:\n",
      "\n",
      "get_param_importances is experimental (supported from v1.3.0). The interface can change in the future.\n",
      "\n",
      "/home/asalimi/miniconda3/lib/python3.7/site-packages/optuna/_experimental.py:83: ExperimentalWarning:\n",
      "\n",
      "MeanDecreaseImpurityImportanceEvaluator is experimental (supported from v1.5.0). The interface can change in the future.\n",
      "\n"
     ]
    }
   ],
   "source": [
    "from kaleido.scopes.plotly import PlotlyScope\n",
    "import optuna\n",
    "import plotly\n",
    "import plotly.express as px\n",
    "import pandas as pd\n",
    "import numpy as np\n",
    "import imp  \n",
    "import customplots as cplot\n",
    "imp.reload(cplot)\n",
    "import plotly.graph_objects as go\n",
    "study = optuna.create_study(study_name='Study_ALL', storage='sqlite:///../feature_extraction/optuna_median.db',load_if_exists=True)\n",
    "params = [k for k in optuna.importance.get_param_importances(study)]\n",
    "    \n",
    "icy=['rgb(0,0,0)','rgb(50,50,140)','rgb(70,70,160)','rgb(110,110,200)','rgb(130,130,210)',\n",
    "     'rgb(150,150,230)', 'rgb(170,170,255)','rgb(190,190,255)',\n",
    "     'rgb(200,200,255)','rgb(210,210,255)','rgb(220,220,255)','rgb(240,240,255)']\n",
    "icy_r=icy.copy()\n",
    "icy_r.reverse()"
   ]
  },
  {
   "cell_type": "code",
   "execution_count": null,
   "metadata": {},
   "outputs": [],
   "source": [
    "imp.reload(cplot)\n",
    "\n",
    "\n",
    "fig=cplot.get_parallel_coordinate_plot(study,coloring=icy,logLoss=False)\n",
    "scope = PlotlyScope()\n",
    "fig= fig.update_layout(   \n",
    "    autosize=False,title_text='Loss vs Hyper-Parameter Parallel Plot',title=None, title_x=0.5, title_y=0.98, \n",
    "    template=\"ggplot2\",\n",
    "    width=1000,\n",
    "    height=400,\n",
    "    font_family=\"Times New Roman\",\n",
    "    font_size=20,\n",
    "    title_font_family=\"Times New Roman\",\n",
    "    title_font_size=30,           \n",
    "       margin=dict(l=50, t=50,r=1,  b=10),\n",
    "    )\n",
    "\n",
    "with open(\"parallel_coord.pdf\", \"wb\") as f:\n",
    "    f.write(scope.transform(fig, format=\"pdf\", width=1000,height=400,))\n",
    "fig"
   ]
  },
  {
   "cell_type": "code",
   "execution_count": null,
   "metadata": {},
   "outputs": [],
   "source": [
    "imp.reload(cplot)\n",
    "fig=cplot.get_slice_plot(study,objective_value=\"Loss\")\n",
    "fig.update_layout(\n",
    "    autosize=False,title_text='Loss vs Hyper-Parameter Slice Plot',title=None, title_x=0.5, title_y=0.98,\n",
    "    template=\"seaborn\",\n",
    "    width=1100,height=400,\n",
    "    font_family=\"Times New Roman\",\n",
    "    font_size=15,\n",
    "    title_font_family=\"Times New Roman\",\n",
    "    title_font_size=30,\n",
    "    margin=dict(l=0, t=5,r=1,  b=10),                                   \n",
    "    )\n",
    "\n",
    "fig.update_xaxes(showgrid=False,zeroline=False,tickangle=0, tickfont=dict(size=15),)\n",
    "\n",
    "fig.update_yaxes(showgrid=False,tickangle=0, tickfont=dict(size=17),)\n",
    "\n",
    "fig.update_traces(marker=dict(colorscale=icy))\n",
    "\n",
    "with open(\"slice_plot.pdf\", \"wb\") as f:\n",
    "    f.write(scope.transform(fig, format=\"pdf\", width=1100,height=420,))\n",
    "\n",
    "fig\n"
   ]
  },
  {
   "cell_type": "code",
   "execution_count": null,
   "metadata": {},
   "outputs": [],
   "source": [
    "imp.reload(cplot)\n",
    "scope = PlotlyScope()\n",
    "iceice=px.colors.sequential.deep_r.copy()\n",
    "iceice[-3]=\"#338866\"\n",
    "print(iceice)\n",
    "fig=cplot.get_intermediate_plot(study,topx=10,num_trials_threshold=50,color_scale=iceice)\n",
    "\n",
    "\n",
    "fig.update_layout(\n",
    "    autosize=False,title_text='Loss Per Training Step', title=None, title_x=0.5, title_y=0.98, yaxis_type=\"log\",\n",
    "    template=\"seaborn\",\n",
    "width=900,height=500,\n",
    "    font_family=\"Times New Roman\",\n",
    "    font_size=18,\n",
    "    title_font_family=\"Times New Roman\",\n",
    "    title_font_size=30,\n",
    "    margin=dict(l=0, t=5,r=1,  b=1),\n",
    "    legend_title_text=\"Trial #\",\n",
    "                  legend=dict(\n",
    "                      bgcolor='rgba(220,220,230,0.8)',\n",
    "                  orientation=\"v\",\n",
    "                yanchor=\"top\",\n",
    "                y=1,\n",
    "                xanchor=\"right\",x=1)\n",
    "    )\n",
    "fig.update_xaxes(showgrid=False,zeroline=False,)\n",
    "fig.update_yaxes(showgrid=False,zeroline=False,title_text=\"Loss\")\n",
    "\n",
    "with open(\"loss_per_training.pdf\", \"wb\") as f:\n",
    "    f.write(scope.transform(fig, format=\"pdf\",    width=1000,height=500,))\n",
    "fig"
   ]
  },
  {
   "cell_type": "code",
   "execution_count": 291,
   "metadata": {},
   "outputs": [
    {
     "name": "stderr",
     "output_type": "stream",
     "text": [
      "/home/asalimi/miniconda3/lib/python3.7/site-packages/optuna/_experimental.py:61: ExperimentalWarning:\n",
      "\n",
      "get_param_importances is experimental (supported from v1.3.0). The interface can change in the future.\n",
      "\n",
      "/home/asalimi/miniconda3/lib/python3.7/site-packages/optuna/_experimental.py:83: ExperimentalWarning:\n",
      "\n",
      "MeanDecreaseImpurityImportanceEvaluator is experimental (supported from v1.5.0). The interface can change in the future.\n",
      "\n"
     ]
    },
    {
     "name": "stdout",
     "output_type": "stream",
     "text": [
      "OrderedDict([('Learning Rate', 0.503373016361586), ('Time Steps', 0.22734707780596558), ('Frequency Bins', 0.19706256940810182), ('L2 Regularization', 0.04008750966936833), ('Dropout Rate', 0.016900777059367076), ('Latent Size', 0.01017878876150962), ('Hidden Layers', 0.0022602784430121817), ('Optimizer', 0.0015786765063591792), ('Model Type', 0.0012113059847300993)])\n"
     ]
    },
    {
     "data": {
      "application/vnd.plotly.v1+json": {
       "config": {
        "plotlyServerURL": "https://plot.ly"
       },
       "data": [
        {
         "cliponaxis": false,
         "hovertemplate": [
          "Model Type (CategoricalDistribution): 0.0012113059847300993<extra></extra>",
          "Optimizer (CategoricalDistribution): 0.0015786765063591792<extra></extra>",
          "Hidden Layers (IntUniformDistribution): 0.0022602784430121817<extra></extra>",
          "Latent Size (CategoricalDistribution): 0.01017878876150962<extra></extra>",
          "Dropout Rate (DiscreteUniformDistribution): 0.016900777059367076<extra></extra>",
          "L2 Regularization (LogUniformDistribution): 0.04008750966936833<extra></extra>",
          "Frequency Bins (CategoricalDistribution): 0.19706256940810182<extra></extra>",
          "Time Steps (CategoricalDistribution): 0.22734707780596558<extra></extra>",
          "Learning Rate (UniformDistribution): 0.503373016361586<extra></extra>"
         ],
         "marker": {
          "color": [
           "rgb(3, 5, 18)",
           "rgb(3, 5, 18)",
           "rgb(3, 5, 18)",
           "rgb(3, 5, 18)",
           "rgb(3, 5, 18)",
           "rgb(3, 5, 18)",
           "rgb(3, 5, 18)",
           "rgb(3, 5, 18)",
           "rgb(3, 5, 18)"
          ]
         },
         "orientation": "h",
         "text": [
          "0.0012113059847300993",
          "0.0015786765063591792",
          "0.0022602784430121817",
          "0.01017878876150962",
          "0.016900777059367076",
          "0.04008750966936833",
          "0.19706256940810182",
          "0.22734707780596558",
          "0.503373016361586"
         ],
         "textposition": "outside",
         "texttemplate": "%{text:.2f}",
         "type": "bar",
         "x": [
          0.0012113059847300993,
          0.0015786765063591792,
          0.0022602784430121817,
          0.01017878876150962,
          0.016900777059367076,
          0.04008750966936833,
          0.19706256940810182,
          0.22734707780596558,
          0.503373016361586
         ],
         "y": [
          "Model Type",
          "Optimizer",
          "Hidden Layers",
          "Latent Size",
          "Dropout Rate",
          "L2 Regularization",
          "Frequency Bins",
          "Time Steps",
          "Learning Rate"
         ]
        }
       ],
       "layout": {
        "autosize": false,
        "font": {
         "family": "Times New Roman",
         "size": 18
        },
        "height": 420,
        "margin": {
         "b": 1,
         "l": 0,
         "r": 20,
         "t": 5
        },
        "showlegend": false,
        "template": {
         "data": {
          "bar": [
           {
            "error_x": {
             "color": "rgb(36,36,36)"
            },
            "error_y": {
             "color": "rgb(36,36,36)"
            },
            "marker": {
             "line": {
              "color": "rgb(234,234,242)",
              "width": 0.5
             }
            },
            "type": "bar"
           }
          ],
          "barpolar": [
           {
            "marker": {
             "line": {
              "color": "rgb(234,234,242)",
              "width": 0.5
             }
            },
            "type": "barpolar"
           }
          ],
          "carpet": [
           {
            "aaxis": {
             "endlinecolor": "rgb(36,36,36)",
             "gridcolor": "white",
             "linecolor": "white",
             "minorgridcolor": "white",
             "startlinecolor": "rgb(36,36,36)"
            },
            "baxis": {
             "endlinecolor": "rgb(36,36,36)",
             "gridcolor": "white",
             "linecolor": "white",
             "minorgridcolor": "white",
             "startlinecolor": "rgb(36,36,36)"
            },
            "type": "carpet"
           }
          ],
          "choropleth": [
           {
            "colorbar": {
             "outlinewidth": 0,
             "tickcolor": "rgb(36,36,36)",
             "ticklen": 8,
             "ticks": "outside",
             "tickwidth": 2
            },
            "type": "choropleth"
           }
          ],
          "contour": [
           {
            "colorbar": {
             "outlinewidth": 0,
             "tickcolor": "rgb(36,36,36)",
             "ticklen": 8,
             "ticks": "outside",
             "tickwidth": 2
            },
            "colorscale": [
             [
              0,
              "rgb(2,4,25)"
             ],
             [
              0.06274509803921569,
              "rgb(24,15,41)"
             ],
             [
              0.12549019607843137,
              "rgb(47,23,57)"
             ],
             [
              0.18823529411764706,
              "rgb(71,28,72)"
             ],
             [
              0.25098039215686274,
              "rgb(97,30,82)"
             ],
             [
              0.3137254901960784,
              "rgb(123,30,89)"
             ],
             [
              0.3764705882352941,
              "rgb(150,27,91)"
             ],
             [
              0.4392156862745098,
              "rgb(177,22,88)"
             ],
             [
              0.5019607843137255,
              "rgb(203,26,79)"
             ],
             [
              0.5647058823529412,
              "rgb(223,47,67)"
             ],
             [
              0.6274509803921569,
              "rgb(236,76,61)"
             ],
             [
              0.6901960784313725,
              "rgb(242,107,73)"
             ],
             [
              0.7529411764705882,
              "rgb(244,135,95)"
             ],
             [
              0.8156862745098039,
              "rgb(245,162,122)"
             ],
             [
              0.8784313725490196,
              "rgb(246,188,153)"
             ],
             [
              0.9411764705882353,
              "rgb(247,212,187)"
             ],
             [
              1,
              "rgb(250,234,220)"
             ]
            ],
            "type": "contour"
           }
          ],
          "contourcarpet": [
           {
            "colorbar": {
             "outlinewidth": 0,
             "tickcolor": "rgb(36,36,36)",
             "ticklen": 8,
             "ticks": "outside",
             "tickwidth": 2
            },
            "type": "contourcarpet"
           }
          ],
          "heatmap": [
           {
            "colorbar": {
             "outlinewidth": 0,
             "tickcolor": "rgb(36,36,36)",
             "ticklen": 8,
             "ticks": "outside",
             "tickwidth": 2
            },
            "colorscale": [
             [
              0,
              "rgb(2,4,25)"
             ],
             [
              0.06274509803921569,
              "rgb(24,15,41)"
             ],
             [
              0.12549019607843137,
              "rgb(47,23,57)"
             ],
             [
              0.18823529411764706,
              "rgb(71,28,72)"
             ],
             [
              0.25098039215686274,
              "rgb(97,30,82)"
             ],
             [
              0.3137254901960784,
              "rgb(123,30,89)"
             ],
             [
              0.3764705882352941,
              "rgb(150,27,91)"
             ],
             [
              0.4392156862745098,
              "rgb(177,22,88)"
             ],
             [
              0.5019607843137255,
              "rgb(203,26,79)"
             ],
             [
              0.5647058823529412,
              "rgb(223,47,67)"
             ],
             [
              0.6274509803921569,
              "rgb(236,76,61)"
             ],
             [
              0.6901960784313725,
              "rgb(242,107,73)"
             ],
             [
              0.7529411764705882,
              "rgb(244,135,95)"
             ],
             [
              0.8156862745098039,
              "rgb(245,162,122)"
             ],
             [
              0.8784313725490196,
              "rgb(246,188,153)"
             ],
             [
              0.9411764705882353,
              "rgb(247,212,187)"
             ],
             [
              1,
              "rgb(250,234,220)"
             ]
            ],
            "type": "heatmap"
           }
          ],
          "heatmapgl": [
           {
            "colorbar": {
             "outlinewidth": 0,
             "tickcolor": "rgb(36,36,36)",
             "ticklen": 8,
             "ticks": "outside",
             "tickwidth": 2
            },
            "colorscale": [
             [
              0,
              "rgb(2,4,25)"
             ],
             [
              0.06274509803921569,
              "rgb(24,15,41)"
             ],
             [
              0.12549019607843137,
              "rgb(47,23,57)"
             ],
             [
              0.18823529411764706,
              "rgb(71,28,72)"
             ],
             [
              0.25098039215686274,
              "rgb(97,30,82)"
             ],
             [
              0.3137254901960784,
              "rgb(123,30,89)"
             ],
             [
              0.3764705882352941,
              "rgb(150,27,91)"
             ],
             [
              0.4392156862745098,
              "rgb(177,22,88)"
             ],
             [
              0.5019607843137255,
              "rgb(203,26,79)"
             ],
             [
              0.5647058823529412,
              "rgb(223,47,67)"
             ],
             [
              0.6274509803921569,
              "rgb(236,76,61)"
             ],
             [
              0.6901960784313725,
              "rgb(242,107,73)"
             ],
             [
              0.7529411764705882,
              "rgb(244,135,95)"
             ],
             [
              0.8156862745098039,
              "rgb(245,162,122)"
             ],
             [
              0.8784313725490196,
              "rgb(246,188,153)"
             ],
             [
              0.9411764705882353,
              "rgb(247,212,187)"
             ],
             [
              1,
              "rgb(250,234,220)"
             ]
            ],
            "type": "heatmapgl"
           }
          ],
          "histogram": [
           {
            "marker": {
             "colorbar": {
              "outlinewidth": 0,
              "tickcolor": "rgb(36,36,36)",
              "ticklen": 8,
              "ticks": "outside",
              "tickwidth": 2
             }
            },
            "type": "histogram"
           }
          ],
          "histogram2d": [
           {
            "colorbar": {
             "outlinewidth": 0,
             "tickcolor": "rgb(36,36,36)",
             "ticklen": 8,
             "ticks": "outside",
             "tickwidth": 2
            },
            "colorscale": [
             [
              0,
              "rgb(2,4,25)"
             ],
             [
              0.06274509803921569,
              "rgb(24,15,41)"
             ],
             [
              0.12549019607843137,
              "rgb(47,23,57)"
             ],
             [
              0.18823529411764706,
              "rgb(71,28,72)"
             ],
             [
              0.25098039215686274,
              "rgb(97,30,82)"
             ],
             [
              0.3137254901960784,
              "rgb(123,30,89)"
             ],
             [
              0.3764705882352941,
              "rgb(150,27,91)"
             ],
             [
              0.4392156862745098,
              "rgb(177,22,88)"
             ],
             [
              0.5019607843137255,
              "rgb(203,26,79)"
             ],
             [
              0.5647058823529412,
              "rgb(223,47,67)"
             ],
             [
              0.6274509803921569,
              "rgb(236,76,61)"
             ],
             [
              0.6901960784313725,
              "rgb(242,107,73)"
             ],
             [
              0.7529411764705882,
              "rgb(244,135,95)"
             ],
             [
              0.8156862745098039,
              "rgb(245,162,122)"
             ],
             [
              0.8784313725490196,
              "rgb(246,188,153)"
             ],
             [
              0.9411764705882353,
              "rgb(247,212,187)"
             ],
             [
              1,
              "rgb(250,234,220)"
             ]
            ],
            "type": "histogram2d"
           }
          ],
          "histogram2dcontour": [
           {
            "colorbar": {
             "outlinewidth": 0,
             "tickcolor": "rgb(36,36,36)",
             "ticklen": 8,
             "ticks": "outside",
             "tickwidth": 2
            },
            "colorscale": [
             [
              0,
              "rgb(2,4,25)"
             ],
             [
              0.06274509803921569,
              "rgb(24,15,41)"
             ],
             [
              0.12549019607843137,
              "rgb(47,23,57)"
             ],
             [
              0.18823529411764706,
              "rgb(71,28,72)"
             ],
             [
              0.25098039215686274,
              "rgb(97,30,82)"
             ],
             [
              0.3137254901960784,
              "rgb(123,30,89)"
             ],
             [
              0.3764705882352941,
              "rgb(150,27,91)"
             ],
             [
              0.4392156862745098,
              "rgb(177,22,88)"
             ],
             [
              0.5019607843137255,
              "rgb(203,26,79)"
             ],
             [
              0.5647058823529412,
              "rgb(223,47,67)"
             ],
             [
              0.6274509803921569,
              "rgb(236,76,61)"
             ],
             [
              0.6901960784313725,
              "rgb(242,107,73)"
             ],
             [
              0.7529411764705882,
              "rgb(244,135,95)"
             ],
             [
              0.8156862745098039,
              "rgb(245,162,122)"
             ],
             [
              0.8784313725490196,
              "rgb(246,188,153)"
             ],
             [
              0.9411764705882353,
              "rgb(247,212,187)"
             ],
             [
              1,
              "rgb(250,234,220)"
             ]
            ],
            "type": "histogram2dcontour"
           }
          ],
          "mesh3d": [
           {
            "colorbar": {
             "outlinewidth": 0,
             "tickcolor": "rgb(36,36,36)",
             "ticklen": 8,
             "ticks": "outside",
             "tickwidth": 2
            },
            "type": "mesh3d"
           }
          ],
          "parcoords": [
           {
            "line": {
             "colorbar": {
              "outlinewidth": 0,
              "tickcolor": "rgb(36,36,36)",
              "ticklen": 8,
              "ticks": "outside",
              "tickwidth": 2
             }
            },
            "type": "parcoords"
           }
          ],
          "pie": [
           {
            "automargin": true,
            "type": "pie"
           }
          ],
          "scatter": [
           {
            "marker": {
             "colorbar": {
              "outlinewidth": 0,
              "tickcolor": "rgb(36,36,36)",
              "ticklen": 8,
              "ticks": "outside",
              "tickwidth": 2
             }
            },
            "type": "scatter"
           }
          ],
          "scatter3d": [
           {
            "line": {
             "colorbar": {
              "outlinewidth": 0,
              "tickcolor": "rgb(36,36,36)",
              "ticklen": 8,
              "ticks": "outside",
              "tickwidth": 2
             }
            },
            "marker": {
             "colorbar": {
              "outlinewidth": 0,
              "tickcolor": "rgb(36,36,36)",
              "ticklen": 8,
              "ticks": "outside",
              "tickwidth": 2
             }
            },
            "type": "scatter3d"
           }
          ],
          "scattercarpet": [
           {
            "marker": {
             "colorbar": {
              "outlinewidth": 0,
              "tickcolor": "rgb(36,36,36)",
              "ticklen": 8,
              "ticks": "outside",
              "tickwidth": 2
             }
            },
            "type": "scattercarpet"
           }
          ],
          "scattergeo": [
           {
            "marker": {
             "colorbar": {
              "outlinewidth": 0,
              "tickcolor": "rgb(36,36,36)",
              "ticklen": 8,
              "ticks": "outside",
              "tickwidth": 2
             }
            },
            "type": "scattergeo"
           }
          ],
          "scattergl": [
           {
            "marker": {
             "colorbar": {
              "outlinewidth": 0,
              "tickcolor": "rgb(36,36,36)",
              "ticklen": 8,
              "ticks": "outside",
              "tickwidth": 2
             }
            },
            "type": "scattergl"
           }
          ],
          "scattermapbox": [
           {
            "marker": {
             "colorbar": {
              "outlinewidth": 0,
              "tickcolor": "rgb(36,36,36)",
              "ticklen": 8,
              "ticks": "outside",
              "tickwidth": 2
             }
            },
            "type": "scattermapbox"
           }
          ],
          "scatterpolar": [
           {
            "marker": {
             "colorbar": {
              "outlinewidth": 0,
              "tickcolor": "rgb(36,36,36)",
              "ticklen": 8,
              "ticks": "outside",
              "tickwidth": 2
             }
            },
            "type": "scatterpolar"
           }
          ],
          "scatterpolargl": [
           {
            "marker": {
             "colorbar": {
              "outlinewidth": 0,
              "tickcolor": "rgb(36,36,36)",
              "ticklen": 8,
              "ticks": "outside",
              "tickwidth": 2
             }
            },
            "type": "scatterpolargl"
           }
          ],
          "scatterternary": [
           {
            "marker": {
             "colorbar": {
              "outlinewidth": 0,
              "tickcolor": "rgb(36,36,36)",
              "ticklen": 8,
              "ticks": "outside",
              "tickwidth": 2
             }
            },
            "type": "scatterternary"
           }
          ],
          "surface": [
           {
            "colorbar": {
             "outlinewidth": 0,
             "tickcolor": "rgb(36,36,36)",
             "ticklen": 8,
             "ticks": "outside",
             "tickwidth": 2
            },
            "colorscale": [
             [
              0,
              "rgb(2,4,25)"
             ],
             [
              0.06274509803921569,
              "rgb(24,15,41)"
             ],
             [
              0.12549019607843137,
              "rgb(47,23,57)"
             ],
             [
              0.18823529411764706,
              "rgb(71,28,72)"
             ],
             [
              0.25098039215686274,
              "rgb(97,30,82)"
             ],
             [
              0.3137254901960784,
              "rgb(123,30,89)"
             ],
             [
              0.3764705882352941,
              "rgb(150,27,91)"
             ],
             [
              0.4392156862745098,
              "rgb(177,22,88)"
             ],
             [
              0.5019607843137255,
              "rgb(203,26,79)"
             ],
             [
              0.5647058823529412,
              "rgb(223,47,67)"
             ],
             [
              0.6274509803921569,
              "rgb(236,76,61)"
             ],
             [
              0.6901960784313725,
              "rgb(242,107,73)"
             ],
             [
              0.7529411764705882,
              "rgb(244,135,95)"
             ],
             [
              0.8156862745098039,
              "rgb(245,162,122)"
             ],
             [
              0.8784313725490196,
              "rgb(246,188,153)"
             ],
             [
              0.9411764705882353,
              "rgb(247,212,187)"
             ],
             [
              1,
              "rgb(250,234,220)"
             ]
            ],
            "type": "surface"
           }
          ],
          "table": [
           {
            "cells": {
             "fill": {
              "color": "rgb(231,231,240)"
             },
             "line": {
              "color": "white"
             }
            },
            "header": {
             "fill": {
              "color": "rgb(183,183,191)"
             },
             "line": {
              "color": "white"
             }
            },
            "type": "table"
           }
          ]
         },
         "layout": {
          "annotationdefaults": {
           "arrowcolor": "rgb(67,103,167)"
          },
          "coloraxis": {
           "colorbar": {
            "outlinewidth": 0,
            "tickcolor": "rgb(36,36,36)",
            "ticklen": 8,
            "ticks": "outside",
            "tickwidth": 2
           }
          },
          "colorscale": {
           "sequential": [
            [
             0,
             "rgb(2,4,25)"
            ],
            [
             0.06274509803921569,
             "rgb(24,15,41)"
            ],
            [
             0.12549019607843137,
             "rgb(47,23,57)"
            ],
            [
             0.18823529411764706,
             "rgb(71,28,72)"
            ],
            [
             0.25098039215686274,
             "rgb(97,30,82)"
            ],
            [
             0.3137254901960784,
             "rgb(123,30,89)"
            ],
            [
             0.3764705882352941,
             "rgb(150,27,91)"
            ],
            [
             0.4392156862745098,
             "rgb(177,22,88)"
            ],
            [
             0.5019607843137255,
             "rgb(203,26,79)"
            ],
            [
             0.5647058823529412,
             "rgb(223,47,67)"
            ],
            [
             0.6274509803921569,
             "rgb(236,76,61)"
            ],
            [
             0.6901960784313725,
             "rgb(242,107,73)"
            ],
            [
             0.7529411764705882,
             "rgb(244,135,95)"
            ],
            [
             0.8156862745098039,
             "rgb(245,162,122)"
            ],
            [
             0.8784313725490196,
             "rgb(246,188,153)"
            ],
            [
             0.9411764705882353,
             "rgb(247,212,187)"
            ],
            [
             1,
             "rgb(250,234,220)"
            ]
           ],
           "sequentialminus": [
            [
             0,
             "rgb(2,4,25)"
            ],
            [
             0.06274509803921569,
             "rgb(24,15,41)"
            ],
            [
             0.12549019607843137,
             "rgb(47,23,57)"
            ],
            [
             0.18823529411764706,
             "rgb(71,28,72)"
            ],
            [
             0.25098039215686274,
             "rgb(97,30,82)"
            ],
            [
             0.3137254901960784,
             "rgb(123,30,89)"
            ],
            [
             0.3764705882352941,
             "rgb(150,27,91)"
            ],
            [
             0.4392156862745098,
             "rgb(177,22,88)"
            ],
            [
             0.5019607843137255,
             "rgb(203,26,79)"
            ],
            [
             0.5647058823529412,
             "rgb(223,47,67)"
            ],
            [
             0.6274509803921569,
             "rgb(236,76,61)"
            ],
            [
             0.6901960784313725,
             "rgb(242,107,73)"
            ],
            [
             0.7529411764705882,
             "rgb(244,135,95)"
            ],
            [
             0.8156862745098039,
             "rgb(245,162,122)"
            ],
            [
             0.8784313725490196,
             "rgb(246,188,153)"
            ],
            [
             0.9411764705882353,
             "rgb(247,212,187)"
            ],
            [
             1,
             "rgb(250,234,220)"
            ]
           ]
          },
          "colorway": [
           "rgb(76,114,176)",
           "rgb(221,132,82)",
           "rgb(85,168,104)",
           "rgb(196,78,82)",
           "rgb(129,114,179)",
           "rgb(147,120,96)",
           "rgb(218,139,195)",
           "rgb(140,140,140)",
           "rgb(204,185,116)",
           "rgb(100,181,205)"
          ],
          "font": {
           "color": "rgb(36,36,36)"
          },
          "geo": {
           "bgcolor": "white",
           "lakecolor": "white",
           "landcolor": "rgb(234,234,242)",
           "showlakes": true,
           "showland": true,
           "subunitcolor": "white"
          },
          "hoverlabel": {
           "align": "left"
          },
          "hovermode": "closest",
          "paper_bgcolor": "white",
          "plot_bgcolor": "rgb(234,234,242)",
          "polar": {
           "angularaxis": {
            "gridcolor": "white",
            "linecolor": "white",
            "showgrid": true,
            "ticks": ""
           },
           "bgcolor": "rgb(234,234,242)",
           "radialaxis": {
            "gridcolor": "white",
            "linecolor": "white",
            "showgrid": true,
            "ticks": ""
           }
          },
          "scene": {
           "xaxis": {
            "backgroundcolor": "rgb(234,234,242)",
            "gridcolor": "white",
            "gridwidth": 2,
            "linecolor": "white",
            "showbackground": true,
            "showgrid": true,
            "ticks": "",
            "zerolinecolor": "white"
           },
           "yaxis": {
            "backgroundcolor": "rgb(234,234,242)",
            "gridcolor": "white",
            "gridwidth": 2,
            "linecolor": "white",
            "showbackground": true,
            "showgrid": true,
            "ticks": "",
            "zerolinecolor": "white"
           },
           "zaxis": {
            "backgroundcolor": "rgb(234,234,242)",
            "gridcolor": "white",
            "gridwidth": 2,
            "linecolor": "white",
            "showbackground": true,
            "showgrid": true,
            "ticks": "",
            "zerolinecolor": "white"
           }
          },
          "shapedefaults": {
           "fillcolor": "rgb(67,103,167)",
           "line": {
            "width": 0
           },
           "opacity": 0.5
          },
          "ternary": {
           "aaxis": {
            "gridcolor": "white",
            "linecolor": "white",
            "showgrid": true,
            "ticks": ""
           },
           "baxis": {
            "gridcolor": "white",
            "linecolor": "white",
            "showgrid": true,
            "ticks": ""
           },
           "bgcolor": "rgb(234,234,242)",
           "caxis": {
            "gridcolor": "white",
            "linecolor": "white",
            "showgrid": true,
            "ticks": ""
           }
          },
          "xaxis": {
           "automargin": true,
           "gridcolor": "white",
           "linecolor": "white",
           "showgrid": true,
           "ticks": "",
           "title": {
            "standoff": 15
           },
           "zerolinecolor": "white"
          },
          "yaxis": {
           "automargin": true,
           "gridcolor": "white",
           "linecolor": "white",
           "showgrid": true,
           "ticks": "",
           "title": {
            "standoff": 15
           },
           "zerolinecolor": "white"
          }
         }
        },
        "title": {
         "font": {
          "family": "Times New Roman",
          "size": 30
         },
         "x": 0.5,
         "y": 0.98
        },
        "width": 800,
        "xaxis": {
         "autorange": true,
         "range": [
          0,
          0.5298663330121959
         ],
         "showgrid": false,
         "title": {
          "text": "Importance"
         },
         "type": "linear",
         "zeroline": false
        },
        "yaxis": {
         "autorange": true,
         "range": [
          -0.5,
          8.5
         ],
         "showgrid": false,
         "title": {
          "text": "Hyperparameter"
         },
         "type": "category",
         "zeroline": false
        }
       }
      },
      "image/png": "[encoded data removed]",
      "text/html": [
       "<div>\n",
       "        \n",
       "        \n",
       "            <div id=\"62937f89-b09e-4454-9513-ed1750e69258\" class=\"plotly-graph-div\" style=\"height:420px; width:800px;\"></div>\n",
       "            <script type=\"text/javascript\">\n",
       "                require([\"plotly\"], function(Plotly) {\n",
       "                    window.PLOTLYENV=window.PLOTLYENV || {};\n",
       "                    \n",
       "                if (document.getElementById(\"62937f89-b09e-4454-9513-ed1750e69258\")) {\n",
       "                    Plotly.newPlot(\n",
       "                        '62937f89-b09e-4454-9513-ed1750e69258',\n",
       "                        [{\"cliponaxis\": false, \"hovertemplate\": [\"Model Type (CategoricalDistribution): 0.0012113059847300993<extra></extra>\", \"Optimizer (CategoricalDistribution): 0.0015786765063591792<extra></extra>\", \"Hidden Layers (IntUniformDistribution): 0.0022602784430121817<extra></extra>\", \"Latent Size (CategoricalDistribution): 0.01017878876150962<extra></extra>\", \"Dropout Rate (DiscreteUniformDistribution): 0.016900777059367076<extra></extra>\", \"L2 Regularization (LogUniformDistribution): 0.04008750966936833<extra></extra>\", \"Frequency Bins (CategoricalDistribution): 0.19706256940810182<extra></extra>\", \"Time Steps (CategoricalDistribution): 0.22734707780596558<extra></extra>\", \"Learning Rate (UniformDistribution): 0.503373016361586<extra></extra>\"], \"marker\": {\"color\": [\"rgb(3, 5, 18)\", \"rgb(3, 5, 18)\", \"rgb(3, 5, 18)\", \"rgb(3, 5, 18)\", \"rgb(3, 5, 18)\", \"rgb(3, 5, 18)\", \"rgb(3, 5, 18)\", \"rgb(3, 5, 18)\", \"rgb(3, 5, 18)\"]}, \"orientation\": \"h\", \"text\": [\"0.0012113059847300993\", \"0.0015786765063591792\", \"0.0022602784430121817\", \"0.01017878876150962\", \"0.016900777059367076\", \"0.04008750966936833\", \"0.19706256940810182\", \"0.22734707780596558\", \"0.503373016361586\"], \"textposition\": \"outside\", \"texttemplate\": \"%{text:.2f}\", \"type\": \"bar\", \"x\": [0.0012113059847300993, 0.0015786765063591792, 0.0022602784430121817, 0.01017878876150962, 0.016900777059367076, 0.04008750966936833, 0.19706256940810182, 0.22734707780596558, 0.503373016361586], \"y\": [\"Model Type\", \"Optimizer\", \"Hidden Layers\", \"Latent Size\", \"Dropout Rate\", \"L2 Regularization\", \"Frequency Bins\", \"Time Steps\", \"Learning Rate\"]}],\n",
       "                        {\"autosize\": false, \"font\": {\"family\": \"Times New Roman\", \"size\": 18}, \"height\": 420, \"margin\": {\"b\": 1, \"l\": 0, \"r\": 20, \"t\": 5}, \"showlegend\": false, \"template\": {\"data\": {\"bar\": [{\"error_x\": {\"color\": \"rgb(36,36,36)\"}, \"error_y\": {\"color\": \"rgb(36,36,36)\"}, \"marker\": {\"line\": {\"color\": \"rgb(234,234,242)\", \"width\": 0.5}}, \"type\": \"bar\"}], \"barpolar\": [{\"marker\": {\"line\": {\"color\": \"rgb(234,234,242)\", \"width\": 0.5}}, \"type\": \"barpolar\"}], \"carpet\": [{\"aaxis\": {\"endlinecolor\": \"rgb(36,36,36)\", \"gridcolor\": \"white\", \"linecolor\": \"white\", \"minorgridcolor\": \"white\", \"startlinecolor\": \"rgb(36,36,36)\"}, \"baxis\": {\"endlinecolor\": \"rgb(36,36,36)\", \"gridcolor\": \"white\", \"linecolor\": \"white\", \"minorgridcolor\": \"white\", \"startlinecolor\": \"rgb(36,36,36)\"}, \"type\": \"carpet\"}], \"choropleth\": [{\"colorbar\": {\"outlinewidth\": 0, \"tickcolor\": \"rgb(36,36,36)\", \"ticklen\": 8, \"ticks\": \"outside\", \"tickwidth\": 2}, \"type\": \"choropleth\"}], \"contour\": [{\"colorbar\": {\"outlinewidth\": 0, \"tickcolor\": \"rgb(36,36,36)\", \"ticklen\": 8, \"ticks\": \"outside\", \"tickwidth\": 2}, \"colorscale\": [[0.0, \"rgb(2,4,25)\"], [0.06274509803921569, \"rgb(24,15,41)\"], [0.12549019607843137, \"rgb(47,23,57)\"], [0.18823529411764706, \"rgb(71,28,72)\"], [0.25098039215686274, \"rgb(97,30,82)\"], [0.3137254901960784, \"rgb(123,30,89)\"], [0.3764705882352941, \"rgb(150,27,91)\"], [0.4392156862745098, \"rgb(177,22,88)\"], [0.5019607843137255, \"rgb(203,26,79)\"], [0.5647058823529412, \"rgb(223,47,67)\"], [0.6274509803921569, \"rgb(236,76,61)\"], [0.6901960784313725, \"rgb(242,107,73)\"], [0.7529411764705882, \"rgb(244,135,95)\"], [0.8156862745098039, \"rgb(245,162,122)\"], [0.8784313725490196, \"rgb(246,188,153)\"], [0.9411764705882353, \"rgb(247,212,187)\"], [1.0, \"rgb(250,234,220)\"]], \"type\": \"contour\"}], \"contourcarpet\": [{\"colorbar\": {\"outlinewidth\": 0, \"tickcolor\": \"rgb(36,36,36)\", \"ticklen\": 8, \"ticks\": \"outside\", \"tickwidth\": 2}, \"type\": \"contourcarpet\"}], \"heatmap\": [{\"colorbar\": {\"outlinewidth\": 0, \"tickcolor\": \"rgb(36,36,36)\", \"ticklen\": 8, \"ticks\": \"outside\", \"tickwidth\": 2}, \"colorscale\": [[0.0, \"rgb(2,4,25)\"], [0.06274509803921569, \"rgb(24,15,41)\"], [0.12549019607843137, \"rgb(47,23,57)\"], [0.18823529411764706, \"rgb(71,28,72)\"], [0.25098039215686274, \"rgb(97,30,82)\"], [0.3137254901960784, \"rgb(123,30,89)\"], [0.3764705882352941, \"rgb(150,27,91)\"], [0.4392156862745098, \"rgb(177,22,88)\"], [0.5019607843137255, \"rgb(203,26,79)\"], [0.5647058823529412, \"rgb(223,47,67)\"], [0.6274509803921569, \"rgb(236,76,61)\"], [0.6901960784313725, \"rgb(242,107,73)\"], [0.7529411764705882, \"rgb(244,135,95)\"], [0.8156862745098039, \"rgb(245,162,122)\"], [0.8784313725490196, \"rgb(246,188,153)\"], [0.9411764705882353, \"rgb(247,212,187)\"], [1.0, \"rgb(250,234,220)\"]], \"type\": \"heatmap\"}], \"heatmapgl\": [{\"colorbar\": {\"outlinewidth\": 0, \"tickcolor\": \"rgb(36,36,36)\", \"ticklen\": 8, \"ticks\": \"outside\", \"tickwidth\": 2}, \"colorscale\": [[0.0, \"rgb(2,4,25)\"], [0.06274509803921569, \"rgb(24,15,41)\"], [0.12549019607843137, \"rgb(47,23,57)\"], [0.18823529411764706, \"rgb(71,28,72)\"], [0.25098039215686274, \"rgb(97,30,82)\"], [0.3137254901960784, \"rgb(123,30,89)\"], [0.3764705882352941, \"rgb(150,27,91)\"], [0.4392156862745098, \"rgb(177,22,88)\"], [0.5019607843137255, \"rgb(203,26,79)\"], [0.5647058823529412, \"rgb(223,47,67)\"], [0.6274509803921569, \"rgb(236,76,61)\"], [0.6901960784313725, \"rgb(242,107,73)\"], [0.7529411764705882, \"rgb(244,135,95)\"], [0.8156862745098039, \"rgb(245,162,122)\"], [0.8784313725490196, \"rgb(246,188,153)\"], [0.9411764705882353, \"rgb(247,212,187)\"], [1.0, \"rgb(250,234,220)\"]], \"type\": \"heatmapgl\"}], \"histogram\": [{\"marker\": {\"colorbar\": {\"outlinewidth\": 0, \"tickcolor\": \"rgb(36,36,36)\", \"ticklen\": 8, \"ticks\": \"outside\", \"tickwidth\": 2}}, \"type\": \"histogram\"}], \"histogram2d\": [{\"colorbar\": {\"outlinewidth\": 0, \"tickcolor\": \"rgb(36,36,36)\", \"ticklen\": 8, \"ticks\": \"outside\", \"tickwidth\": 2}, \"colorscale\": [[0.0, \"rgb(2,4,25)\"], [0.06274509803921569, \"rgb(24,15,41)\"], [0.12549019607843137, \"rgb(47,23,57)\"], [0.18823529411764706, \"rgb(71,28,72)\"], [0.25098039215686274, \"rgb(97,30,82)\"], [0.3137254901960784, \"rgb(123,30,89)\"], [0.3764705882352941, \"rgb(150,27,91)\"], [0.4392156862745098, \"rgb(177,22,88)\"], [0.5019607843137255, \"rgb(203,26,79)\"], [0.5647058823529412, \"rgb(223,47,67)\"], [0.6274509803921569, \"rgb(236,76,61)\"], [0.6901960784313725, \"rgb(242,107,73)\"], [0.7529411764705882, \"rgb(244,135,95)\"], [0.8156862745098039, \"rgb(245,162,122)\"], [0.8784313725490196, \"rgb(246,188,153)\"], [0.9411764705882353, \"rgb(247,212,187)\"], [1.0, \"rgb(250,234,220)\"]], \"type\": \"histogram2d\"}], \"histogram2dcontour\": [{\"colorbar\": {\"outlinewidth\": 0, \"tickcolor\": \"rgb(36,36,36)\", \"ticklen\": 8, \"ticks\": \"outside\", \"tickwidth\": 2}, \"colorscale\": [[0.0, \"rgb(2,4,25)\"], [0.06274509803921569, \"rgb(24,15,41)\"], [0.12549019607843137, \"rgb(47,23,57)\"], [0.18823529411764706, \"rgb(71,28,72)\"], [0.25098039215686274, \"rgb(97,30,82)\"], [0.3137254901960784, \"rgb(123,30,89)\"], [0.3764705882352941, \"rgb(150,27,91)\"], [0.4392156862745098, \"rgb(177,22,88)\"], [0.5019607843137255, \"rgb(203,26,79)\"], [0.5647058823529412, \"rgb(223,47,67)\"], [0.6274509803921569, \"rgb(236,76,61)\"], [0.6901960784313725, \"rgb(242,107,73)\"], [0.7529411764705882, \"rgb(244,135,95)\"], [0.8156862745098039, \"rgb(245,162,122)\"], [0.8784313725490196, \"rgb(246,188,153)\"], [0.9411764705882353, \"rgb(247,212,187)\"], [1.0, \"rgb(250,234,220)\"]], \"type\": \"histogram2dcontour\"}], \"mesh3d\": [{\"colorbar\": {\"outlinewidth\": 0, \"tickcolor\": \"rgb(36,36,36)\", \"ticklen\": 8, \"ticks\": \"outside\", \"tickwidth\": 2}, \"type\": \"mesh3d\"}], \"parcoords\": [{\"line\": {\"colorbar\": {\"outlinewidth\": 0, \"tickcolor\": \"rgb(36,36,36)\", \"ticklen\": 8, \"ticks\": \"outside\", \"tickwidth\": 2}}, \"type\": \"parcoords\"}], \"pie\": [{\"automargin\": true, \"type\": \"pie\"}], \"scatter\": [{\"marker\": {\"colorbar\": {\"outlinewidth\": 0, \"tickcolor\": \"rgb(36,36,36)\", \"ticklen\": 8, \"ticks\": \"outside\", \"tickwidth\": 2}}, \"type\": \"scatter\"}], \"scatter3d\": [{\"line\": {\"colorbar\": {\"outlinewidth\": 0, \"tickcolor\": \"rgb(36,36,36)\", \"ticklen\": 8, \"ticks\": \"outside\", \"tickwidth\": 2}}, \"marker\": {\"colorbar\": {\"outlinewidth\": 0, \"tickcolor\": \"rgb(36,36,36)\", \"ticklen\": 8, \"ticks\": \"outside\", \"tickwidth\": 2}}, \"type\": \"scatter3d\"}], \"scattercarpet\": [{\"marker\": {\"colorbar\": {\"outlinewidth\": 0, \"tickcolor\": \"rgb(36,36,36)\", \"ticklen\": 8, \"ticks\": \"outside\", \"tickwidth\": 2}}, \"type\": \"scattercarpet\"}], \"scattergeo\": [{\"marker\": {\"colorbar\": {\"outlinewidth\": 0, \"tickcolor\": \"rgb(36,36,36)\", \"ticklen\": 8, \"ticks\": \"outside\", \"tickwidth\": 2}}, \"type\": \"scattergeo\"}], \"scattergl\": [{\"marker\": {\"colorbar\": {\"outlinewidth\": 0, \"tickcolor\": \"rgb(36,36,36)\", \"ticklen\": 8, \"ticks\": \"outside\", \"tickwidth\": 2}}, \"type\": \"scattergl\"}], \"scattermapbox\": [{\"marker\": {\"colorbar\": {\"outlinewidth\": 0, \"tickcolor\": \"rgb(36,36,36)\", \"ticklen\": 8, \"ticks\": \"outside\", \"tickwidth\": 2}}, \"type\": \"scattermapbox\"}], \"scatterpolar\": [{\"marker\": {\"colorbar\": {\"outlinewidth\": 0, \"tickcolor\": \"rgb(36,36,36)\", \"ticklen\": 8, \"ticks\": \"outside\", \"tickwidth\": 2}}, \"type\": \"scatterpolar\"}], \"scatterpolargl\": [{\"marker\": {\"colorbar\": {\"outlinewidth\": 0, \"tickcolor\": \"rgb(36,36,36)\", \"ticklen\": 8, \"ticks\": \"outside\", \"tickwidth\": 2}}, \"type\": \"scatterpolargl\"}], \"scatterternary\": [{\"marker\": {\"colorbar\": {\"outlinewidth\": 0, \"tickcolor\": \"rgb(36,36,36)\", \"ticklen\": 8, \"ticks\": \"outside\", \"tickwidth\": 2}}, \"type\": \"scatterternary\"}], \"surface\": [{\"colorbar\": {\"outlinewidth\": 0, \"tickcolor\": \"rgb(36,36,36)\", \"ticklen\": 8, \"ticks\": \"outside\", \"tickwidth\": 2}, \"colorscale\": [[0.0, \"rgb(2,4,25)\"], [0.06274509803921569, \"rgb(24,15,41)\"], [0.12549019607843137, \"rgb(47,23,57)\"], [0.18823529411764706, \"rgb(71,28,72)\"], [0.25098039215686274, \"rgb(97,30,82)\"], [0.3137254901960784, \"rgb(123,30,89)\"], [0.3764705882352941, \"rgb(150,27,91)\"], [0.4392156862745098, \"rgb(177,22,88)\"], [0.5019607843137255, \"rgb(203,26,79)\"], [0.5647058823529412, \"rgb(223,47,67)\"], [0.6274509803921569, \"rgb(236,76,61)\"], [0.6901960784313725, \"rgb(242,107,73)\"], [0.7529411764705882, \"rgb(244,135,95)\"], [0.8156862745098039, \"rgb(245,162,122)\"], [0.8784313725490196, \"rgb(246,188,153)\"], [0.9411764705882353, \"rgb(247,212,187)\"], [1.0, \"rgb(250,234,220)\"]], \"type\": \"surface\"}], \"table\": [{\"cells\": {\"fill\": {\"color\": \"rgb(231,231,240)\"}, \"line\": {\"color\": \"white\"}}, \"header\": {\"fill\": {\"color\": \"rgb(183,183,191)\"}, \"line\": {\"color\": \"white\"}}, \"type\": \"table\"}]}, \"layout\": {\"annotationdefaults\": {\"arrowcolor\": \"rgb(67,103,167)\"}, \"coloraxis\": {\"colorbar\": {\"outlinewidth\": 0, \"tickcolor\": \"rgb(36,36,36)\", \"ticklen\": 8, \"ticks\": \"outside\", \"tickwidth\": 2}}, \"colorscale\": {\"sequential\": [[0.0, \"rgb(2,4,25)\"], [0.06274509803921569, \"rgb(24,15,41)\"], [0.12549019607843137, \"rgb(47,23,57)\"], [0.18823529411764706, \"rgb(71,28,72)\"], [0.25098039215686274, \"rgb(97,30,82)\"], [0.3137254901960784, \"rgb(123,30,89)\"], [0.3764705882352941, \"rgb(150,27,91)\"], [0.4392156862745098, \"rgb(177,22,88)\"], [0.5019607843137255, \"rgb(203,26,79)\"], [0.5647058823529412, \"rgb(223,47,67)\"], [0.6274509803921569, \"rgb(236,76,61)\"], [0.6901960784313725, \"rgb(242,107,73)\"], [0.7529411764705882, \"rgb(244,135,95)\"], [0.8156862745098039, \"rgb(245,162,122)\"], [0.8784313725490196, \"rgb(246,188,153)\"], [0.9411764705882353, \"rgb(247,212,187)\"], [1.0, \"rgb(250,234,220)\"]], \"sequentialminus\": [[0.0, \"rgb(2,4,25)\"], [0.06274509803921569, \"rgb(24,15,41)\"], [0.12549019607843137, \"rgb(47,23,57)\"], [0.18823529411764706, \"rgb(71,28,72)\"], [0.25098039215686274, \"rgb(97,30,82)\"], [0.3137254901960784, \"rgb(123,30,89)\"], [0.3764705882352941, \"rgb(150,27,91)\"], [0.4392156862745098, \"rgb(177,22,88)\"], [0.5019607843137255, \"rgb(203,26,79)\"], [0.5647058823529412, \"rgb(223,47,67)\"], [0.6274509803921569, \"rgb(236,76,61)\"], [0.6901960784313725, \"rgb(242,107,73)\"], [0.7529411764705882, \"rgb(244,135,95)\"], [0.8156862745098039, \"rgb(245,162,122)\"], [0.8784313725490196, \"rgb(246,188,153)\"], [0.9411764705882353, \"rgb(247,212,187)\"], [1.0, \"rgb(250,234,220)\"]]}, \"colorway\": [\"rgb(76,114,176)\", \"rgb(221,132,82)\", \"rgb(85,168,104)\", \"rgb(196,78,82)\", \"rgb(129,114,179)\", \"rgb(147,120,96)\", \"rgb(218,139,195)\", \"rgb(140,140,140)\", \"rgb(204,185,116)\", \"rgb(100,181,205)\"], \"font\": {\"color\": \"rgb(36,36,36)\"}, \"geo\": {\"bgcolor\": \"white\", \"lakecolor\": \"white\", \"landcolor\": \"rgb(234,234,242)\", \"showlakes\": true, \"showland\": true, \"subunitcolor\": \"white\"}, \"hoverlabel\": {\"align\": \"left\"}, \"hovermode\": \"closest\", \"paper_bgcolor\": \"white\", \"plot_bgcolor\": \"rgb(234,234,242)\", \"polar\": {\"angularaxis\": {\"gridcolor\": \"white\", \"linecolor\": \"white\", \"showgrid\": true, \"ticks\": \"\"}, \"bgcolor\": \"rgb(234,234,242)\", \"radialaxis\": {\"gridcolor\": \"white\", \"linecolor\": \"white\", \"showgrid\": true, \"ticks\": \"\"}}, \"scene\": {\"xaxis\": {\"backgroundcolor\": \"rgb(234,234,242)\", \"gridcolor\": \"white\", \"gridwidth\": 2, \"linecolor\": \"white\", \"showbackground\": true, \"showgrid\": true, \"ticks\": \"\", \"zerolinecolor\": \"white\"}, \"yaxis\": {\"backgroundcolor\": \"rgb(234,234,242)\", \"gridcolor\": \"white\", \"gridwidth\": 2, \"linecolor\": \"white\", \"showbackground\": true, \"showgrid\": true, \"ticks\": \"\", \"zerolinecolor\": \"white\"}, \"zaxis\": {\"backgroundcolor\": \"rgb(234,234,242)\", \"gridcolor\": \"white\", \"gridwidth\": 2, \"linecolor\": \"white\", \"showbackground\": true, \"showgrid\": true, \"ticks\": \"\", \"zerolinecolor\": \"white\"}}, \"shapedefaults\": {\"fillcolor\": \"rgb(67,103,167)\", \"line\": {\"width\": 0}, \"opacity\": 0.5}, \"ternary\": {\"aaxis\": {\"gridcolor\": \"white\", \"linecolor\": \"white\", \"showgrid\": true, \"ticks\": \"\"}, \"baxis\": {\"gridcolor\": \"white\", \"linecolor\": \"white\", \"showgrid\": true, \"ticks\": \"\"}, \"bgcolor\": \"rgb(234,234,242)\", \"caxis\": {\"gridcolor\": \"white\", \"linecolor\": \"white\", \"showgrid\": true, \"ticks\": \"\"}}, \"xaxis\": {\"automargin\": true, \"gridcolor\": \"white\", \"linecolor\": \"white\", \"showgrid\": true, \"ticks\": \"\", \"title\": {\"standoff\": 15}, \"zerolinecolor\": \"white\"}, \"yaxis\": {\"automargin\": true, \"gridcolor\": \"white\", \"linecolor\": \"white\", \"showgrid\": true, \"ticks\": \"\", \"title\": {\"standoff\": 15}, \"zerolinecolor\": \"white\"}}}, \"title\": {\"font\": {\"family\": \"Times New Roman\", \"size\": 30}, \"x\": 0.5, \"y\": 0.98}, \"width\": 800, \"xaxis\": {\"showgrid\": false, \"title\": {\"text\": \"Importance\"}, \"zeroline\": false}, \"yaxis\": {\"showgrid\": false, \"title\": {\"text\": \"Hyperparameter\"}, \"zeroline\": false}},\n",
       "                        {\"responsive\": true}\n",
       "                    ).then(function(){\n",
       "                            \n",
       "var gd = document.getElementById('62937f89-b09e-4454-9513-ed1750e69258');\n",
       "var x = new MutationObserver(function (mutations, observer) {{\n",
       "        var display = window.getComputedStyle(gd).display;\n",
       "        if (!display || display === 'none') {{\n",
       "            console.log([gd, 'removed!']);\n",
       "            Plotly.purge(gd);\n",
       "            observer.disconnect();\n",
       "        }}\n",
       "}});\n",
       "\n",
       "// Listen for the removal of the full notebook cells\n",
       "var notebookContainer = gd.closest('#notebook-container');\n",
       "if (notebookContainer) {{\n",
       "    x.observe(notebookContainer, {childList: true});\n",
       "}}\n",
       "\n",
       "// Listen for the clearing of the current output cell\n",
       "var outputEl = gd.closest('.output');\n",
       "if (outputEl) {{\n",
       "    x.observe(outputEl, {childList: true});\n",
       "}}\n",
       "\n",
       "                        })\n",
       "                };\n",
       "                });\n",
       "            </script>\n",
       "        </div>"
      ]
     },
     "metadata": {},
     "output_type": "display_data"
    }
   ],
   "source": [
    "imp.reload(cplot)\n",
    "importances=optuna.importance.get_param_importances(study,params=[p for p in params if p!=\"\"])\n",
    "fig=cplot.plot_param_importances(importances,study)\n",
    "fig.update_layout(\n",
    "    autosize=False,title_text='Hyper-Parameter Importances', title=None, title_x=0.5, title_y=0.98,\n",
    "    template=\"seaborn\",\n",
    "    width=800,height=420,\n",
    "    font_family=\"Times New Roman\",\n",
    "    font_size=18,\n",
    "    title_font_family=\"Times New Roman\",\n",
    "    title_font_size=30,\n",
    "    margin=dict(l=0, t=5,r=20,  b=1),                                   \n",
    "    )\n",
    "fig.update_xaxes(showgrid=False,zeroline=False,)\n",
    "fig.update_yaxes(showgrid=False,zeroline=False,)\n",
    "with open(\"ParameterImportances.pdf\", \"wb\") as f:\n",
    "    f.write(scope.transform(fig, format=\"pdf\", width=800,height=400,))\n",
    "fig"
   ]
  },
  {
   "cell_type": "code",
   "execution_count": null,
   "metadata": {},
   "outputs": [],
   "source": [
    "imp.reload(cplot)\n",
    "fig = cplot.get_optimization_history_plot(study)\n",
    "fig.update_layout(\n",
    "    autosize=False,title_text='Optimization History', title=None, title_x=0.5, title_y=0.98, yaxis_type=\"log\",\n",
    "    template=\"seaborn\",\n",
    "    width=800,\n",
    "    height=400,\n",
    "    font_family=\"Times New Roman\",\n",
    "    font_size=18,\n",
    "    title_font_family=\"Times New Roman\",\n",
    "    title_font_size=28,\n",
    "    \n",
    "     margin=dict( r=10, l=10, b=0, t=5),\n",
    "    \n",
    "              legend=dict(\n",
    "                  bgcolor='rgba(220,220,230,0.8)',\n",
    "                  orientation=\"v\",\n",
    "                yanchor=\"top\",\n",
    "                y=1,\n",
    "                xanchor=\"right\",x=1)\n",
    "    )\n",
    "\n",
    "\n",
    "fig.update_xaxes(showgrid=False,zeroline=False,title_text=\"Trial #\")\n",
    "\n",
    "fig.update_yaxes(showgrid=False,title_text=\"Loss\",dtick=1)\n",
    "with open(\"Optimization_History.pdf\", \"wb\") as f:\n",
    "    f.write(scope.transform(fig, format=\"pdf\", width=800,height=500,  ))\n",
    "\n",
    "fig"
   ]
  },
  {
   "cell_type": "code",
   "execution_count": 292,
   "metadata": {},
   "outputs": [
    {
     "name": "stdout",
     "output_type": "stream",
     "text": [
      "Best trial until now:\n",
      " Value:  0.0007111432947567664\n",
      " Params: \n",
      "    Dropout Rate: 0.5\n",
      "    Frequency Bins: 30\n",
      "    Hidden Layers: 2\n",
      "    L2 Regularization: 3.2473701348597023e-06\n",
      "    Latent Size: 64\n",
      "    Learning Rate: 0.0011451089315356296\n",
      "    Model Type: CNN\n",
      "    Optimizer: Adam\n",
      "    Time Steps: 20\n"
     ]
    }
   ],
   "source": [
    "print('Best trial until now:')\n",
    "print(' Value: ', study.best_trial.value)\n",
    "print(' Params: ')\n",
    "for key, value in study.best_trial.params.items():\n",
    "    print(f'    {key}: {value}')\n",
    "df=study.trials_dataframe()\n",
    "df=df.sort_values(by=[\"value\"],ascending=True).reset_index()\n",
    "df[[\"value\"]+[\"params_\"+p for p in params]].to_csv(\"../csvs/bestparams.csv\")\n"
   ]
  },
  {
   "cell_type": "code",
   "execution_count": 51,
   "metadata": {},
   "outputs": [
    {
     "data": {
      "application/vnd.plotly.v1+json": {
       "config": {
        "plotlyServerURL": "https://plot.ly"
       },
       "data": [
        {
         "marker": {
          "color": "#00CC78"
         },
         "name": "Test Loss",
         "showlegend": true,
         "type": "scatter",
         "x": [
          0,
          1,
          2,
          3,
          4,
          5,
          6,
          7,
          8,
          9,
          10,
          11,
          12,
          13,
          14,
          15,
          16,
          17,
          18,
          19,
          20,
          21,
          22,
          23,
          24,
          25,
          26,
          27,
          28,
          29,
          30,
          31,
          32,
          33,
          34,
          35,
          36,
          37,
          38,
          39,
          40,
          41,
          42,
          43,
          44,
          45,
          46,
          47,
          48,
          49,
          50,
          51,
          52,
          53,
          54,
          55,
          56,
          57,
          58,
          59,
          60,
          61,
          62,
          63,
          64,
          65,
          66,
          67,
          68,
          69,
          70,
          71,
          72,
          73,
          74,
          75,
          76,
          77,
          78,
          79,
          80,
          81,
          82,
          83,
          84,
          85,
          86,
          87,
          88,
          89,
          90,
          91,
          92,
          93,
          94,
          95,
          96,
          97,
          98,
          99,
          100,
          101,
          102,
          103,
          104,
          105,
          106,
          107,
          108,
          109,
          110,
          111,
          112,
          113,
          114,
          115,
          116,
          117,
          118,
          119,
          120,
          121,
          122,
          123,
          124,
          125,
          126,
          127,
          128,
          129,
          130,
          131,
          132,
          133,
          134,
          135,
          136,
          137,
          138,
          139,
          140,
          141,
          142,
          143,
          144,
          145,
          146,
          147,
          148,
          149,
          150,
          151,
          152,
          153,
          154,
          155,
          156,
          157,
          158,
          159,
          160,
          161,
          162,
          163,
          164,
          165,
          166,
          167,
          168,
          169,
          170,
          171,
          172,
          173,
          174,
          175,
          176,
          177,
          178,
          179,
          180,
          181,
          182,
          183,
          184,
          185,
          186,
          187,
          188,
          189,
          190,
          191,
          192,
          193,
          194,
          195,
          196,
          197,
          198,
          199
         ],
         "y": [
          0.0025454231203184464,
          0.0016698690684279426,
          0.0013306080320035108,
          0.001199681554135168,
          0.0011451067204689025,
          0.0011071217948483538,
          0.0010538247093791141,
          0.001006634408258833,
          0.0010602622969599906,
          0.0009492786924965912,
          0.0009465395074130356,
          0.0009461055076826596,
          0.0009171169360342903,
          0.0008930722975492244,
          0.0008831520077364984,
          0.0008507582235324663,
          0.0008426812799370964,
          0.0008752142035518772,
          0.000835036858006788,
          0.0008186029685020912,
          0.0008133361438012798,
          0.0008318871441588271,
          0.0008231705010985023,
          0.0008061106113018468,
          0.0007992581387952669,
          0.000796923460711696,
          0.0007993075368176505,
          0.0007827159004591521,
          0.0008068309642112581,
          0.0007889400607382412,
          0.0007720304267422762,
          0.0007681290677282959,
          0.0007705476766204811,
          0.0007539694146544207,
          0.0007695439280269058,
          0.0007626806134794605,
          0.0007658776867174312,
          0.0007544995161879342,
          0.0007346623366174754,
          0.0007575440875370986,
          0.0007589929206005762,
          0.0007453089449882098,
          0.0007584827781101923,
          0.0007568721688585357,
          0.0007719116722000762,
          0.0007337810198805527,
          0.0007584186292660889,
          0.0007325939855945762,
          0.0007464811267709593,
          0.0007286399544682354,
          0.0007109864214726258,
          0.0007342909595536185,
          0.0007098111995219369,
          0.0007216712012450443,
          0.0007237264488139771,
          0.0007273862216607086,
          0.0007396425788101622,
          0.0007248994807923738,
          0.0006926480277797964,
          0.0007038512785584318,
          0.0007302842524950393,
          0.0007070145098623472,
          0.0007091040875820909,
          0.0007066941996527019,
          0.0007164569311498781,
          0.0006827883277765067,
          0.0007017486317636213,
          0.0006979508623771835,
          0.0007162900208641076,
          0.0006931670559424674,
          0.0006918504492205102,
          0.0006947848833078751,
          0.0006923454317075084,
          0.0006893498590216041,
          0.0006938264130440076,
          0.0006861779228529485,
          0.0006984540315897902,
          0.0007190449527115562,
          0.0006853629982288111,
          0.0006838505258201621,
          0.0006715918354530004,
          0.0006841917631390972,
          0.0006928312710442697,
          0.0006957227664315724,
          0.000676049642424914,
          0.0006808359747083159,
          0.0007288934706593862,
          0.0006791777292164625,
          0.0006891046974487836,
          0.0007415171960019508,
          0.0006610094285861122,
          0.0006925851021151175,
          0.0006832829909399152,
          0.0006785628615034512,
          0.0006640563861765259,
          0.0007152842676077853,
          0.0006575591949513183,
          0.0006528118758069468,
          0.0006554256153322057,
          0.0006514117944789177,
          0.0006692497288895538,
          0.0006648984741332242,
          0.0006557375760166906,
          0.0006611585886275861,
          0.0006348805713059847,
          0.0006393011606633081,
          0.0006352217560561257,
          0.0006273495735513279,
          0.0006441428593461751,
          0.0006360193889122457,
          0.0006756288439646597,
          0.0006469136716077628,
          0.0006299114415014628,
          0.0006307356228717253,
          0.0006484059171270928,
          0.0006557578885804105,
          0.00063822354113654,
          0.0006409971654647961,
          0.0006450305723774364,
          0.000635826614893631,
          0.0006680263068119531,
          0.0006379052167176268,
          0.0006352189382596408,
          0.0006312894487564335,
          0.0006495128658571047,
          0.0006355070621793858,
          0.0006403188803233206,
          0.0006181173590448452,
          0.0006306226325250464,
          0.0006261482949412311,
          0.0006282962864133879,
          0.0006190710584633053,
          0.0006126889053120978,
          0.000638122429336363,
          0.0006417618305931683,
          0.0006313682470135973,
          0.0006233553875972575,
          0.0006188884867242452,
          0.0006234613018023083,
          0.0006554046092787758,
          0.0006439968619815772,
          0.0006081201616325415,
          0.0006328319817839656,
          0.000613394543506729,
          0.0006201381025675801,
          0.0006144931672679378,
          0.00062459888504236,
          0.0006210944786289473,
          0.0006184717331052525,
          0.0006523870179080403,
          0.0006325663771349356,
          0.0006134639274023358,
          0.0006167095514683751,
          0.0006089763662203041,
          0.0006167020652810606,
          0.0006781824575227801,
          0.0005990054860376404,
          0.0006188091781950787,
          0.0006153852818897576,
          0.0006099900685512693,
          0.0006163715828733983,
          0.000603789411161415,
          0.0006211307763805963,
          0.000606035148484807,
          0.0006059380625629274,
          0.0006278630702581723,
          0.0006191850228788098,
          0.000599529680039268,
          0.0006237900154701492,
          0.0006112464190664469,
          0.000623555232596118,
          0.0006153325231935013,
          0.0006140073852293425,
          0.0006159004980872851,
          0.0006334223011435824,
          0.0006074927273402864,
          0.0006239928012291785,
          0.0006136154330306454,
          0.0006239903228106412,
          0.0006301174598775107,
          0.0006135192183137405,
          0.0006083990345359781,
          0.0006065769783162977,
          0.0005896819069675986,
          0.0006121532855104307,
          0.0006105871610998293,
          0.0005990765703245415,
          0.0006214155901034246,
          0.0006045670499588597,
          0.0006205390363902553,
          0.0006052669565178802,
          0.0006008095919241897,
          0.0005941777943917259,
          0.0006194698915351183,
          0.000614535907516256,
          0.0006173404522996863,
          0.0006242122688490782,
          0.0006253506846405799,
          0.0006201065498316892,
          0.0006157993575470755
         ]
        },
        {
         "marker": {
          "color": "#0055AA"
         },
         "mode": "lines",
         "name": "Train Loss",
         "showlegend": true,
         "type": "scatter",
         "x": [
          0,
          1,
          2,
          3,
          4,
          5,
          6,
          7,
          8,
          9,
          10,
          11,
          12,
          13,
          14,
          15,
          16,
          17,
          18,
          19,
          20,
          21,
          22,
          23,
          24,
          25,
          26,
          27,
          28,
          29,
          30,
          31,
          32,
          33,
          34,
          35,
          36,
          37,
          38,
          39,
          40,
          41,
          42,
          43,
          44,
          45,
          46,
          47,
          48,
          49,
          50,
          51,
          52,
          53,
          54,
          55,
          56,
          57,
          58,
          59,
          60,
          61,
          62,
          63,
          64,
          65,
          66,
          67,
          68,
          69,
          70,
          71,
          72,
          73,
          74,
          75,
          76,
          77,
          78,
          79,
          80,
          81,
          82,
          83,
          84,
          85,
          86,
          87,
          88,
          89,
          90,
          91,
          92,
          93,
          94,
          95,
          96,
          97,
          98,
          99,
          100,
          101,
          102,
          103,
          104,
          105,
          106,
          107,
          108,
          109,
          110,
          111,
          112,
          113,
          114,
          115,
          116,
          117,
          118,
          119,
          120,
          121,
          122,
          123,
          124,
          125,
          126,
          127,
          128,
          129,
          130,
          131,
          132,
          133,
          134,
          135,
          136,
          137,
          138,
          139,
          140,
          141,
          142,
          143,
          144,
          145,
          146,
          147,
          148,
          149,
          150,
          151,
          152,
          153,
          154,
          155,
          156,
          157,
          158,
          159,
          160,
          161,
          162,
          163,
          164,
          165,
          166,
          167,
          168,
          169,
          170,
          171,
          172,
          173,
          174,
          175,
          176,
          177,
          178,
          179,
          180,
          181,
          182,
          183,
          184,
          185,
          186,
          187,
          188,
          189,
          190,
          191,
          192,
          193,
          194,
          195,
          196,
          197,
          198,
          199
         ],
         "y": [
          0.003769345661034671,
          0.0019141419381811847,
          0.001450145661138089,
          0.0013028142197205256,
          0.0012008223544931176,
          0.0011057312111938146,
          0.0010564022043736924,
          0.000999287650679102,
          0.0009695675796204496,
          0.0009524960787086633,
          0.0009276745599558259,
          0.000914288080643817,
          0.0008764706581132486,
          0.0008547468563093147,
          0.000830142340685309,
          0.0008201411479470753,
          0.0008020043545601343,
          0.0007992877004520468,
          0.0007908714891882705,
          0.0007720552131082159,
          0.000766093867529956,
          0.0007579467314715702,
          0.0007589597055523815,
          0.0007430127880070359,
          0.000753350335488482,
          0.0007295371657918867,
          0.0007287768857190157,
          0.0007172644701956702,
          0.0007151494469215368,
          0.0007069962931138168,
          0.0007055259356559141,
          0.0006922396203707449,
          0.0006911649337469986,
          0.0006778495187130077,
          0.0006867757453242452,
          0.0006883065881727195,
          0.0006713609648769062,
          0.0006712297827329078,
          0.0006640129850427732,
          0.0006514728419261235,
          0.0006615574930925151,
          0.0006687733221929747,
          0.0006530143637508267,
          0.0006552879251724268,
          0.0006564645057263013,
          0.0006419883731457336,
          0.0006352379276039554,
          0.0006437357183242012,
          0.0006233740144724413,
          0.0006386264061935745,
          0.0006408993544826489,
          0.0006180275625566294,
          0.0006271826217615433,
          0.0006187152965406023,
          0.0006246841682984335,
          0.0006239657555053737,
          0.0006152871941505907,
          0.0006181997819888837,
          0.0006182399729590454,
          0.0005906068579018366,
          0.000603700951259958,
          0.0006037419209350467,
          0.0006179701843548839,
          0.000601842758109475,
          0.0006007671154958832,
          0.0005974511295789853,
          0.0005994787437574393,
          0.0005951322770958607,
          0.0005893210093235234,
          0.0005975847764979912,
          0.0005824344900646815,
          0.0005785478672961046,
          0.0005898162807414603,
          0.0005880938961792442,
          0.0005877884317802765,
          0.0005903725296531509,
          0.0005856890660120037,
          0.0005738300740897724,
          0.0005655957390511659,
          0.0005750204571352409,
          0.0005600420941269343,
          0.0005758108657063553,
          0.0005576359677744643,
          0.0005683396810171671,
          0.0005521525908545479,
          0.0005825309309307713,
          0.0005664621050705247,
          0.0005797596835380806,
          0.0005708361896700452,
          0.0005855810402242308,
          0.0005520208346197473,
          0.0005481071562915132,
          0.0005529813174578567,
          0.0005581871064794363,
          0.0005476737124121339,
          0.0005441535237279334,
          0.0005543817107270403,
          0.0005403559620523393,
          0.0005439304680671407,
          0.0005310198880246524,
          0.0005435449954636236,
          0.0005420335277804265,
          0.0005265602768503879,
          0.0005311498091209727,
          0.0005311246435356713,
          0.000519246731284245,
          0.0005096628981225034,
          0.0005126116918357339,
          0.0005081172421341762,
          0.0005145000897932842,
          0.0005111048564530637,
          0.0005193332780902161,
          0.0005259038876918167,
          0.0005139125068813971,
          0.0005217077369906758,
          0.0005215516210272453,
          0.0005356790201536879,
          0.0005131587391455158,
          0.0005137134175151358,
          0.0004998666595272923,
          0.0005079592924519647,
          0.0005118714378601531,
          0.0005073682632206417,
          0.0004999041441961465,
          0.0005057023186165635,
          0.0004960809436430813,
          0.0005060210740605439,
          0.0005053982208553906,
          0.0004946503565694979,
          0.0004885093576598503,
          0.0005109314648817838,
          0.0005040390164273358,
          0.0005026268597093138,
          0.0005023102714359284,
          0.00048725190111038435,
          0.0005051564629666689,
          0.0005047528993156625,
          0.0004922606973062701,
          0.0004904932804226807,
          0.0004867323404163826,
          0.0004940954467889331,
          0.0004833305551650616,
          0.0004801018140136786,
          0.0004825082161426885,
          0.0004901322397749825,
          0.0004738341428115169,
          0.0004744298621961028,
          0.0004815338718954745,
          0.00048235764428149766,
          0.00048299314877978046,
          0.0004777035128648915,
          0.0004754651193407637,
          0.0004784096853676956,
          0.00046233553084453985,
          0.0004780690607021381,
          0.00047221282236533605,
          0.0004831364216132477,
          0.000476379047585197,
          0.00046626064733306814,
          0.0004610643589375086,
          0.00046437085008464485,
          0.00047634406265143934,
          0.0004667458243358585,
          0.0004542907110767484,
          0.0004638508719991233,
          0.00045794377631575966,
          0.00047198752127303856,
          0.0004597587344838625,
          0.0004606208174486599,
          0.00046422368674340275,
          0.00045453331297655344,
          0.00044911181505928496,
          0.0004607885916257368,
          0.0004537462449572958,
          0.0004569382902601075,
          0.00046616519493243954,
          0.00045518798536405236,
          0.0004513698872093611,
          0.0004567089398312042,
          0.0004557160798690236,
          0.00045474175886938166,
          0.00043960076543110674,
          0.00044666619977783183,
          0.0004553424312290168,
          0.00044306265790066573,
          0.0004478917278281254,
          0.00046135345314169394,
          0.00044585219829303515,
          0.00045042961236748215,
          0.0004536231073604829,
          0.0004535930438134706,
          0.00044751479187497595,
          0.00044576713276555665,
          0.00046291598881929895,
          0.0004480294856631833,
          0.00044981422145544295,
          0.00044760791561424316,
          0.0004464250030251583,
          0.0004403720820669039,
          0.00044977164823028094
         ]
        }
       ],
       "layout": {
        "autosize": false,
        "font": {
         "family": "Times New Roman",
         "size": 16
        },
        "height": 400,
        "legend": {
         "bgcolor": "rgba(220,220,230,0.8)",
         "font": {
          "size": 15
         },
         "orientation": "v",
         "title": {
          "font": {
           "size": 14
          },
          "text": "Drum Types:"
         },
         "x": 1,
         "xanchor": "right",
         "y": 1,
         "yanchor": "top"
        },
        "margin": {
         "b": 0,
         "l": 10,
         "r": 5,
         "t": 5
        },
        "template": {
         "data": {
          "bar": [
           {
            "error_x": {
             "color": "rgb(36,36,36)"
            },
            "error_y": {
             "color": "rgb(36,36,36)"
            },
            "marker": {
             "line": {
              "color": "rgb(234,234,242)",
              "width": 0.5
             }
            },
            "type": "bar"
           }
          ],
          "barpolar": [
           {
            "marker": {
             "line": {
              "color": "rgb(234,234,242)",
              "width": 0.5
             }
            },
            "type": "barpolar"
           }
          ],
          "carpet": [
           {
            "aaxis": {
             "endlinecolor": "rgb(36,36,36)",
             "gridcolor": "white",
             "linecolor": "white",
             "minorgridcolor": "white",
             "startlinecolor": "rgb(36,36,36)"
            },
            "baxis": {
             "endlinecolor": "rgb(36,36,36)",
             "gridcolor": "white",
             "linecolor": "white",
             "minorgridcolor": "white",
             "startlinecolor": "rgb(36,36,36)"
            },
            "type": "carpet"
           }
          ],
          "choropleth": [
           {
            "colorbar": {
             "outlinewidth": 0,
             "tickcolor": "rgb(36,36,36)",
             "ticklen": 8,
             "ticks": "outside",
             "tickwidth": 2
            },
            "type": "choropleth"
           }
          ],
          "contour": [
           {
            "colorbar": {
             "outlinewidth": 0,
             "tickcolor": "rgb(36,36,36)",
             "ticklen": 8,
             "ticks": "outside",
             "tickwidth": 2
            },
            "colorscale": [
             [
              0,
              "rgb(2,4,25)"
             ],
             [
              0.06274509803921569,
              "rgb(24,15,41)"
             ],
             [
              0.12549019607843137,
              "rgb(47,23,57)"
             ],
             [
              0.18823529411764706,
              "rgb(71,28,72)"
             ],
             [
              0.25098039215686274,
              "rgb(97,30,82)"
             ],
             [
              0.3137254901960784,
              "rgb(123,30,89)"
             ],
             [
              0.3764705882352941,
              "rgb(150,27,91)"
             ],
             [
              0.4392156862745098,
              "rgb(177,22,88)"
             ],
             [
              0.5019607843137255,
              "rgb(203,26,79)"
             ],
             [
              0.5647058823529412,
              "rgb(223,47,67)"
             ],
             [
              0.6274509803921569,
              "rgb(236,76,61)"
             ],
             [
              0.6901960784313725,
              "rgb(242,107,73)"
             ],
             [
              0.7529411764705882,
              "rgb(244,135,95)"
             ],
             [
              0.8156862745098039,
              "rgb(245,162,122)"
             ],
             [
              0.8784313725490196,
              "rgb(246,188,153)"
             ],
             [
              0.9411764705882353,
              "rgb(247,212,187)"
             ],
             [
              1,
              "rgb(250,234,220)"
             ]
            ],
            "type": "contour"
           }
          ],
          "contourcarpet": [
           {
            "colorbar": {
             "outlinewidth": 0,
             "tickcolor": "rgb(36,36,36)",
             "ticklen": 8,
             "ticks": "outside",
             "tickwidth": 2
            },
            "type": "contourcarpet"
           }
          ],
          "heatmap": [
           {
            "colorbar": {
             "outlinewidth": 0,
             "tickcolor": "rgb(36,36,36)",
             "ticklen": 8,
             "ticks": "outside",
             "tickwidth": 2
            },
            "colorscale": [
             [
              0,
              "rgb(2,4,25)"
             ],
             [
              0.06274509803921569,
              "rgb(24,15,41)"
             ],
             [
              0.12549019607843137,
              "rgb(47,23,57)"
             ],
             [
              0.18823529411764706,
              "rgb(71,28,72)"
             ],
             [
              0.25098039215686274,
              "rgb(97,30,82)"
             ],
             [
              0.3137254901960784,
              "rgb(123,30,89)"
             ],
             [
              0.3764705882352941,
              "rgb(150,27,91)"
             ],
             [
              0.4392156862745098,
              "rgb(177,22,88)"
             ],
             [
              0.5019607843137255,
              "rgb(203,26,79)"
             ],
             [
              0.5647058823529412,
              "rgb(223,47,67)"
             ],
             [
              0.6274509803921569,
              "rgb(236,76,61)"
             ],
             [
              0.6901960784313725,
              "rgb(242,107,73)"
             ],
             [
              0.7529411764705882,
              "rgb(244,135,95)"
             ],
             [
              0.8156862745098039,
              "rgb(245,162,122)"
             ],
             [
              0.8784313725490196,
              "rgb(246,188,153)"
             ],
             [
              0.9411764705882353,
              "rgb(247,212,187)"
             ],
             [
              1,
              "rgb(250,234,220)"
             ]
            ],
            "type": "heatmap"
           }
          ],
          "heatmapgl": [
           {
            "colorbar": {
             "outlinewidth": 0,
             "tickcolor": "rgb(36,36,36)",
             "ticklen": 8,
             "ticks": "outside",
             "tickwidth": 2
            },
            "colorscale": [
             [
              0,
              "rgb(2,4,25)"
             ],
             [
              0.06274509803921569,
              "rgb(24,15,41)"
             ],
             [
              0.12549019607843137,
              "rgb(47,23,57)"
             ],
             [
              0.18823529411764706,
              "rgb(71,28,72)"
             ],
             [
              0.25098039215686274,
              "rgb(97,30,82)"
             ],
             [
              0.3137254901960784,
              "rgb(123,30,89)"
             ],
             [
              0.3764705882352941,
              "rgb(150,27,91)"
             ],
             [
              0.4392156862745098,
              "rgb(177,22,88)"
             ],
             [
              0.5019607843137255,
              "rgb(203,26,79)"
             ],
             [
              0.5647058823529412,
              "rgb(223,47,67)"
             ],
             [
              0.6274509803921569,
              "rgb(236,76,61)"
             ],
             [
              0.6901960784313725,
              "rgb(242,107,73)"
             ],
             [
              0.7529411764705882,
              "rgb(244,135,95)"
             ],
             [
              0.8156862745098039,
              "rgb(245,162,122)"
             ],
             [
              0.8784313725490196,
              "rgb(246,188,153)"
             ],
             [
              0.9411764705882353,
              "rgb(247,212,187)"
             ],
             [
              1,
              "rgb(250,234,220)"
             ]
            ],
            "type": "heatmapgl"
           }
          ],
          "histogram": [
           {
            "marker": {
             "colorbar": {
              "outlinewidth": 0,
              "tickcolor": "rgb(36,36,36)",
              "ticklen": 8,
              "ticks": "outside",
              "tickwidth": 2
             }
            },
            "type": "histogram"
           }
          ],
          "histogram2d": [
           {
            "colorbar": {
             "outlinewidth": 0,
             "tickcolor": "rgb(36,36,36)",
             "ticklen": 8,
             "ticks": "outside",
             "tickwidth": 2
            },
            "colorscale": [
             [
              0,
              "rgb(2,4,25)"
             ],
             [
              0.06274509803921569,
              "rgb(24,15,41)"
             ],
             [
              0.12549019607843137,
              "rgb(47,23,57)"
             ],
             [
              0.18823529411764706,
              "rgb(71,28,72)"
             ],
             [
              0.25098039215686274,
              "rgb(97,30,82)"
             ],
             [
              0.3137254901960784,
              "rgb(123,30,89)"
             ],
             [
              0.3764705882352941,
              "rgb(150,27,91)"
             ],
             [
              0.4392156862745098,
              "rgb(177,22,88)"
             ],
             [
              0.5019607843137255,
              "rgb(203,26,79)"
             ],
             [
              0.5647058823529412,
              "rgb(223,47,67)"
             ],
             [
              0.6274509803921569,
              "rgb(236,76,61)"
             ],
             [
              0.6901960784313725,
              "rgb(242,107,73)"
             ],
             [
              0.7529411764705882,
              "rgb(244,135,95)"
             ],
             [
              0.8156862745098039,
              "rgb(245,162,122)"
             ],
             [
              0.8784313725490196,
              "rgb(246,188,153)"
             ],
             [
              0.9411764705882353,
              "rgb(247,212,187)"
             ],
             [
              1,
              "rgb(250,234,220)"
             ]
            ],
            "type": "histogram2d"
           }
          ],
          "histogram2dcontour": [
           {
            "colorbar": {
             "outlinewidth": 0,
             "tickcolor": "rgb(36,36,36)",
             "ticklen": 8,
             "ticks": "outside",
             "tickwidth": 2
            },
            "colorscale": [
             [
              0,
              "rgb(2,4,25)"
             ],
             [
              0.06274509803921569,
              "rgb(24,15,41)"
             ],
             [
              0.12549019607843137,
              "rgb(47,23,57)"
             ],
             [
              0.18823529411764706,
              "rgb(71,28,72)"
             ],
             [
              0.25098039215686274,
              "rgb(97,30,82)"
             ],
             [
              0.3137254901960784,
              "rgb(123,30,89)"
             ],
             [
              0.3764705882352941,
              "rgb(150,27,91)"
             ],
             [
              0.4392156862745098,
              "rgb(177,22,88)"
             ],
             [
              0.5019607843137255,
              "rgb(203,26,79)"
             ],
             [
              0.5647058823529412,
              "rgb(223,47,67)"
             ],
             [
              0.6274509803921569,
              "rgb(236,76,61)"
             ],
             [
              0.6901960784313725,
              "rgb(242,107,73)"
             ],
             [
              0.7529411764705882,
              "rgb(244,135,95)"
             ],
             [
              0.8156862745098039,
              "rgb(245,162,122)"
             ],
             [
              0.8784313725490196,
              "rgb(246,188,153)"
             ],
             [
              0.9411764705882353,
              "rgb(247,212,187)"
             ],
             [
              1,
              "rgb(250,234,220)"
             ]
            ],
            "type": "histogram2dcontour"
           }
          ],
          "mesh3d": [
           {
            "colorbar": {
             "outlinewidth": 0,
             "tickcolor": "rgb(36,36,36)",
             "ticklen": 8,
             "ticks": "outside",
             "tickwidth": 2
            },
            "type": "mesh3d"
           }
          ],
          "parcoords": [
           {
            "line": {
             "colorbar": {
              "outlinewidth": 0,
              "tickcolor": "rgb(36,36,36)",
              "ticklen": 8,
              "ticks": "outside",
              "tickwidth": 2
             }
            },
            "type": "parcoords"
           }
          ],
          "pie": [
           {
            "automargin": true,
            "type": "pie"
           }
          ],
          "scatter": [
           {
            "marker": {
             "colorbar": {
              "outlinewidth": 0,
              "tickcolor": "rgb(36,36,36)",
              "ticklen": 8,
              "ticks": "outside",
              "tickwidth": 2
             }
            },
            "type": "scatter"
           }
          ],
          "scatter3d": [
           {
            "line": {
             "colorbar": {
              "outlinewidth": 0,
              "tickcolor": "rgb(36,36,36)",
              "ticklen": 8,
              "ticks": "outside",
              "tickwidth": 2
             }
            },
            "marker": {
             "colorbar": {
              "outlinewidth": 0,
              "tickcolor": "rgb(36,36,36)",
              "ticklen": 8,
              "ticks": "outside",
              "tickwidth": 2
             }
            },
            "type": "scatter3d"
           }
          ],
          "scattercarpet": [
           {
            "marker": {
             "colorbar": {
              "outlinewidth": 0,
              "tickcolor": "rgb(36,36,36)",
              "ticklen": 8,
              "ticks": "outside",
              "tickwidth": 2
             }
            },
            "type": "scattercarpet"
           }
          ],
          "scattergeo": [
           {
            "marker": {
             "colorbar": {
              "outlinewidth": 0,
              "tickcolor": "rgb(36,36,36)",
              "ticklen": 8,
              "ticks": "outside",
              "tickwidth": 2
             }
            },
            "type": "scattergeo"
           }
          ],
          "scattergl": [
           {
            "marker": {
             "colorbar": {
              "outlinewidth": 0,
              "tickcolor": "rgb(36,36,36)",
              "ticklen": 8,
              "ticks": "outside",
              "tickwidth": 2
             }
            },
            "type": "scattergl"
           }
          ],
          "scattermapbox": [
           {
            "marker": {
             "colorbar": {
              "outlinewidth": 0,
              "tickcolor": "rgb(36,36,36)",
              "ticklen": 8,
              "ticks": "outside",
              "tickwidth": 2
             }
            },
            "type": "scattermapbox"
           }
          ],
          "scatterpolar": [
           {
            "marker": {
             "colorbar": {
              "outlinewidth": 0,
              "tickcolor": "rgb(36,36,36)",
              "ticklen": 8,
              "ticks": "outside",
              "tickwidth": 2
             }
            },
            "type": "scatterpolar"
           }
          ],
          "scatterpolargl": [
           {
            "marker": {
             "colorbar": {
              "outlinewidth": 0,
              "tickcolor": "rgb(36,36,36)",
              "ticklen": 8,
              "ticks": "outside",
              "tickwidth": 2
             }
            },
            "type": "scatterpolargl"
           }
          ],
          "scatterternary": [
           {
            "marker": {
             "colorbar": {
              "outlinewidth": 0,
              "tickcolor": "rgb(36,36,36)",
              "ticklen": 8,
              "ticks": "outside",
              "tickwidth": 2
             }
            },
            "type": "scatterternary"
           }
          ],
          "surface": [
           {
            "colorbar": {
             "outlinewidth": 0,
             "tickcolor": "rgb(36,36,36)",
             "ticklen": 8,
             "ticks": "outside",
             "tickwidth": 2
            },
            "colorscale": [
             [
              0,
              "rgb(2,4,25)"
             ],
             [
              0.06274509803921569,
              "rgb(24,15,41)"
             ],
             [
              0.12549019607843137,
              "rgb(47,23,57)"
             ],
             [
              0.18823529411764706,
              "rgb(71,28,72)"
             ],
             [
              0.25098039215686274,
              "rgb(97,30,82)"
             ],
             [
              0.3137254901960784,
              "rgb(123,30,89)"
             ],
             [
              0.3764705882352941,
              "rgb(150,27,91)"
             ],
             [
              0.4392156862745098,
              "rgb(177,22,88)"
             ],
             [
              0.5019607843137255,
              "rgb(203,26,79)"
             ],
             [
              0.5647058823529412,
              "rgb(223,47,67)"
             ],
             [
              0.6274509803921569,
              "rgb(236,76,61)"
             ],
             [
              0.6901960784313725,
              "rgb(242,107,73)"
             ],
             [
              0.7529411764705882,
              "rgb(244,135,95)"
             ],
             [
              0.8156862745098039,
              "rgb(245,162,122)"
             ],
             [
              0.8784313725490196,
              "rgb(246,188,153)"
             ],
             [
              0.9411764705882353,
              "rgb(247,212,187)"
             ],
             [
              1,
              "rgb(250,234,220)"
             ]
            ],
            "type": "surface"
           }
          ],
          "table": [
           {
            "cells": {
             "fill": {
              "color": "rgb(231,231,240)"
             },
             "line": {
              "color": "white"
             }
            },
            "header": {
             "fill": {
              "color": "rgb(183,183,191)"
             },
             "line": {
              "color": "white"
             }
            },
            "type": "table"
           }
          ]
         },
         "layout": {
          "annotationdefaults": {
           "arrowcolor": "rgb(67,103,167)"
          },
          "coloraxis": {
           "colorbar": {
            "outlinewidth": 0,
            "tickcolor": "rgb(36,36,36)",
            "ticklen": 8,
            "ticks": "outside",
            "tickwidth": 2
           }
          },
          "colorscale": {
           "sequential": [
            [
             0,
             "rgb(2,4,25)"
            ],
            [
             0.06274509803921569,
             "rgb(24,15,41)"
            ],
            [
             0.12549019607843137,
             "rgb(47,23,57)"
            ],
            [
             0.18823529411764706,
             "rgb(71,28,72)"
            ],
            [
             0.25098039215686274,
             "rgb(97,30,82)"
            ],
            [
             0.3137254901960784,
             "rgb(123,30,89)"
            ],
            [
             0.3764705882352941,
             "rgb(150,27,91)"
            ],
            [
             0.4392156862745098,
             "rgb(177,22,88)"
            ],
            [
             0.5019607843137255,
             "rgb(203,26,79)"
            ],
            [
             0.5647058823529412,
             "rgb(223,47,67)"
            ],
            [
             0.6274509803921569,
             "rgb(236,76,61)"
            ],
            [
             0.6901960784313725,
             "rgb(242,107,73)"
            ],
            [
             0.7529411764705882,
             "rgb(244,135,95)"
            ],
            [
             0.8156862745098039,
             "rgb(245,162,122)"
            ],
            [
             0.8784313725490196,
             "rgb(246,188,153)"
            ],
            [
             0.9411764705882353,
             "rgb(247,212,187)"
            ],
            [
             1,
             "rgb(250,234,220)"
            ]
           ],
           "sequentialminus": [
            [
             0,
             "rgb(2,4,25)"
            ],
            [
             0.06274509803921569,
             "rgb(24,15,41)"
            ],
            [
             0.12549019607843137,
             "rgb(47,23,57)"
            ],
            [
             0.18823529411764706,
             "rgb(71,28,72)"
            ],
            [
             0.25098039215686274,
             "rgb(97,30,82)"
            ],
            [
             0.3137254901960784,
             "rgb(123,30,89)"
            ],
            [
             0.3764705882352941,
             "rgb(150,27,91)"
            ],
            [
             0.4392156862745098,
             "rgb(177,22,88)"
            ],
            [
             0.5019607843137255,
             "rgb(203,26,79)"
            ],
            [
             0.5647058823529412,
             "rgb(223,47,67)"
            ],
            [
             0.6274509803921569,
             "rgb(236,76,61)"
            ],
            [
             0.6901960784313725,
             "rgb(242,107,73)"
            ],
            [
             0.7529411764705882,
             "rgb(244,135,95)"
            ],
            [
             0.8156862745098039,
             "rgb(245,162,122)"
            ],
            [
             0.8784313725490196,
             "rgb(246,188,153)"
            ],
            [
             0.9411764705882353,
             "rgb(247,212,187)"
            ],
            [
             1,
             "rgb(250,234,220)"
            ]
           ]
          },
          "colorway": [
           "rgb(76,114,176)",
           "rgb(221,132,82)",
           "rgb(85,168,104)",
           "rgb(196,78,82)",
           "rgb(129,114,179)",
           "rgb(147,120,96)",
           "rgb(218,139,195)",
           "rgb(140,140,140)",
           "rgb(204,185,116)",
           "rgb(100,181,205)"
          ],
          "font": {
           "color": "rgb(36,36,36)"
          },
          "geo": {
           "bgcolor": "white",
           "lakecolor": "white",
           "landcolor": "rgb(234,234,242)",
           "showlakes": true,
           "showland": true,
           "subunitcolor": "white"
          },
          "hoverlabel": {
           "align": "left"
          },
          "hovermode": "closest",
          "paper_bgcolor": "white",
          "plot_bgcolor": "rgb(234,234,242)",
          "polar": {
           "angularaxis": {
            "gridcolor": "white",
            "linecolor": "white",
            "showgrid": true,
            "ticks": ""
           },
           "bgcolor": "rgb(234,234,242)",
           "radialaxis": {
            "gridcolor": "white",
            "linecolor": "white",
            "showgrid": true,
            "ticks": ""
           }
          },
          "scene": {
           "xaxis": {
            "backgroundcolor": "rgb(234,234,242)",
            "gridcolor": "white",
            "gridwidth": 2,
            "linecolor": "white",
            "showbackground": true,
            "showgrid": true,
            "ticks": "",
            "zerolinecolor": "white"
           },
           "yaxis": {
            "backgroundcolor": "rgb(234,234,242)",
            "gridcolor": "white",
            "gridwidth": 2,
            "linecolor": "white",
            "showbackground": true,
            "showgrid": true,
            "ticks": "",
            "zerolinecolor": "white"
           },
           "zaxis": {
            "backgroundcolor": "rgb(234,234,242)",
            "gridcolor": "white",
            "gridwidth": 2,
            "linecolor": "white",
            "showbackground": true,
            "showgrid": true,
            "ticks": "",
            "zerolinecolor": "white"
           }
          },
          "shapedefaults": {
           "fillcolor": "rgb(67,103,167)",
           "line": {
            "width": 0
           },
           "opacity": 0.5
          },
          "ternary": {
           "aaxis": {
            "gridcolor": "white",
            "linecolor": "white",
            "showgrid": true,
            "ticks": ""
           },
           "baxis": {
            "gridcolor": "white",
            "linecolor": "white",
            "showgrid": true,
            "ticks": ""
           },
           "bgcolor": "rgb(234,234,242)",
           "caxis": {
            "gridcolor": "white",
            "linecolor": "white",
            "showgrid": true,
            "ticks": ""
           }
          },
          "xaxis": {
           "automargin": true,
           "gridcolor": "white",
           "linecolor": "white",
           "showgrid": true,
           "ticks": "",
           "title": {
            "standoff": 15
           },
           "zerolinecolor": "white"
          },
          "yaxis": {
           "automargin": true,
           "gridcolor": "white",
           "linecolor": "white",
           "showgrid": true,
           "ticks": "",
           "title": {
            "standoff": 15
           },
           "zerolinecolor": "white"
          }
         }
        },
        "title": {
         "font": {
          "family": "Times New Roman",
          "size": 28
         },
         "text": "",
         "x": 0.5,
         "y": 0.98
        },
        "width": 800,
        "xaxis": {
         "autorange": true,
         "range": [
          0,
          199
         ],
         "showgrid": false,
         "title": {
          "text": "Epoch"
         },
         "type": "linear",
         "zeroline": false
        },
        "yaxis": {
         "autorange": true,
         "range": [
          0.00025461493789757537,
          0.0039543314885682026
         ],
         "showgrid": false,
         "title": {
          "text": "Loss"
         },
         "type": "linear",
         "zeroline": false
        }
       }
      },
      "image/png": "[encoded data removed]",
      "text/html": [
       "<div>\n",
       "        \n",
       "        \n",
       "            <div id=\"cde655d9-de8a-4c54-9041-4a641002a017\" class=\"plotly-graph-div\" style=\"height:400px; width:800px;\"></div>\n",
       "            <script type=\"text/javascript\">\n",
       "                require([\"plotly\"], function(Plotly) {\n",
       "                    window.PLOTLYENV=window.PLOTLYENV || {};\n",
       "                    \n",
       "                if (document.getElementById(\"cde655d9-de8a-4c54-9041-4a641002a017\")) {\n",
       "                    Plotly.newPlot(\n",
       "                        'cde655d9-de8a-4c54-9041-4a641002a017',\n",
       "                        [{\"marker\": {\"color\": \"#00CC78\"}, \"name\": \"Test Loss\", \"showlegend\": true, \"type\": \"scatter\", \"x\": [0, 1, 2, 3, 4, 5, 6, 7, 8, 9, 10, 11, 12, 13, 14, 15, 16, 17, 18, 19, 20, 21, 22, 23, 24, 25, 26, 27, 28, 29, 30, 31, 32, 33, 34, 35, 36, 37, 38, 39, 40, 41, 42, 43, 44, 45, 46, 47, 48, 49, 50, 51, 52, 53, 54, 55, 56, 57, 58, 59, 60, 61, 62, 63, 64, 65, 66, 67, 68, 69, 70, 71, 72, 73, 74, 75, 76, 77, 78, 79, 80, 81, 82, 83, 84, 85, 86, 87, 88, 89, 90, 91, 92, 93, 94, 95, 96, 97, 98, 99, 100, 101, 102, 103, 104, 105, 106, 107, 108, 109, 110, 111, 112, 113, 114, 115, 116, 117, 118, 119, 120, 121, 122, 123, 124, 125, 126, 127, 128, 129, 130, 131, 132, 133, 134, 135, 136, 137, 138, 139, 140, 141, 142, 143, 144, 145, 146, 147, 148, 149, 150, 151, 152, 153, 154, 155, 156, 157, 158, 159, 160, 161, 162, 163, 164, 165, 166, 167, 168, 169, 170, 171, 172, 173, 174, 175, 176, 177, 178, 179, 180, 181, 182, 183, 184, 185, 186, 187, 188, 189, 190, 191, 192, 193, 194, 195, 196, 197, 198, 199], \"y\": [0.0025454231203184464, 0.0016698690684279426, 0.0013306080320035108, 0.001199681554135168, 0.0011451067204689025, 0.0011071217948483538, 0.0010538247093791141, 0.001006634408258833, 0.0010602622969599906, 0.0009492786924965912, 0.0009465395074130356, 0.0009461055076826596, 0.0009171169360342903, 0.0008930722975492244, 0.0008831520077364984, 0.0008507582235324663, 0.0008426812799370964, 0.0008752142035518772, 0.000835036858006788, 0.0008186029685020912, 0.0008133361438012798, 0.0008318871441588271, 0.0008231705010985023, 0.0008061106113018468, 0.0007992581387952669, 0.000796923460711696, 0.0007993075368176505, 0.0007827159004591521, 0.0008068309642112581, 0.0007889400607382412, 0.0007720304267422762, 0.0007681290677282959, 0.0007705476766204811, 0.0007539694146544207, 0.0007695439280269058, 0.0007626806134794605, 0.0007658776867174312, 0.0007544995161879342, 0.0007346623366174754, 0.0007575440875370986, 0.0007589929206005762, 0.0007453089449882098, 0.0007584827781101923, 0.0007568721688585357, 0.0007719116722000762, 0.0007337810198805527, 0.0007584186292660889, 0.0007325939855945762, 0.0007464811267709593, 0.0007286399544682354, 0.0007109864214726258, 0.0007342909595536185, 0.0007098111995219369, 0.0007216712012450443, 0.0007237264488139771, 0.0007273862216607086, 0.0007396425788101622, 0.0007248994807923738, 0.0006926480277797964, 0.0007038512785584318, 0.0007302842524950393, 0.0007070145098623472, 0.0007091040875820909, 0.0007066941996527019, 0.0007164569311498781, 0.0006827883277765067, 0.0007017486317636213, 0.0006979508623771835, 0.0007162900208641076, 0.0006931670559424674, 0.0006918504492205102, 0.0006947848833078751, 0.0006923454317075084, 0.0006893498590216041, 0.0006938264130440076, 0.0006861779228529485, 0.0006984540315897902, 0.0007190449527115562, 0.0006853629982288111, 0.0006838505258201621, 0.0006715918354530004, 0.0006841917631390972, 0.0006928312710442697, 0.0006957227664315724, 0.000676049642424914, 0.0006808359747083159, 0.0007288934706593862, 0.0006791777292164625, 0.0006891046974487836, 0.0007415171960019508, 0.0006610094285861122, 0.0006925851021151175, 0.0006832829909399152, 0.0006785628615034512, 0.0006640563861765259, 0.0007152842676077853, 0.0006575591949513183, 0.0006528118758069468, 0.0006554256153322057, 0.0006514117944789177, 0.0006692497288895538, 0.0006648984741332242, 0.0006557375760166906, 0.0006611585886275861, 0.0006348805713059847, 0.0006393011606633081, 0.0006352217560561257, 0.0006273495735513279, 0.0006441428593461751, 0.0006360193889122457, 0.0006756288439646597, 0.0006469136716077628, 0.0006299114415014628, 0.0006307356228717253, 0.0006484059171270928, 0.0006557578885804105, 0.00063822354113654, 0.0006409971654647961, 0.0006450305723774364, 0.000635826614893631, 0.0006680263068119531, 0.0006379052167176268, 0.0006352189382596408, 0.0006312894487564335, 0.0006495128658571047, 0.0006355070621793858, 0.0006403188803233206, 0.0006181173590448452, 0.0006306226325250464, 0.0006261482949412311, 0.0006282962864133879, 0.0006190710584633053, 0.0006126889053120978, 0.000638122429336363, 0.0006417618305931683, 0.0006313682470135973, 0.0006233553875972575, 0.0006188884867242452, 0.0006234613018023083, 0.0006554046092787758, 0.0006439968619815772, 0.0006081201616325415, 0.0006328319817839656, 0.000613394543506729, 0.0006201381025675801, 0.0006144931672679378, 0.00062459888504236, 0.0006210944786289473, 0.0006184717331052525, 0.0006523870179080403, 0.0006325663771349356, 0.0006134639274023358, 0.0006167095514683751, 0.0006089763662203041, 0.0006167020652810606, 0.0006781824575227801, 0.0005990054860376404, 0.0006188091781950787, 0.0006153852818897576, 0.0006099900685512693, 0.0006163715828733983, 0.000603789411161415, 0.0006211307763805963, 0.000606035148484807, 0.0006059380625629274, 0.0006278630702581723, 0.0006191850228788098, 0.000599529680039268, 0.0006237900154701492, 0.0006112464190664469, 0.000623555232596118, 0.0006153325231935013, 0.0006140073852293425, 0.0006159004980872851, 0.0006334223011435824, 0.0006074927273402864, 0.0006239928012291785, 0.0006136154330306454, 0.0006239903228106412, 0.0006301174598775107, 0.0006135192183137405, 0.0006083990345359781, 0.0006065769783162977, 0.0005896819069675986, 0.0006121532855104307, 0.0006105871610998293, 0.0005990765703245415, 0.0006214155901034246, 0.0006045670499588597, 0.0006205390363902553, 0.0006052669565178802, 0.0006008095919241897, 0.0005941777943917259, 0.0006194698915351183, 0.000614535907516256, 0.0006173404522996863, 0.0006242122688490782, 0.0006253506846405799, 0.0006201065498316892, 0.0006157993575470755]}, {\"marker\": {\"color\": \"#0055AA\"}, \"mode\": \"lines\", \"name\": \"Train Loss\", \"showlegend\": true, \"type\": \"scatter\", \"x\": [0, 1, 2, 3, 4, 5, 6, 7, 8, 9, 10, 11, 12, 13, 14, 15, 16, 17, 18, 19, 20, 21, 22, 23, 24, 25, 26, 27, 28, 29, 30, 31, 32, 33, 34, 35, 36, 37, 38, 39, 40, 41, 42, 43, 44, 45, 46, 47, 48, 49, 50, 51, 52, 53, 54, 55, 56, 57, 58, 59, 60, 61, 62, 63, 64, 65, 66, 67, 68, 69, 70, 71, 72, 73, 74, 75, 76, 77, 78, 79, 80, 81, 82, 83, 84, 85, 86, 87, 88, 89, 90, 91, 92, 93, 94, 95, 96, 97, 98, 99, 100, 101, 102, 103, 104, 105, 106, 107, 108, 109, 110, 111, 112, 113, 114, 115, 116, 117, 118, 119, 120, 121, 122, 123, 124, 125, 126, 127, 128, 129, 130, 131, 132, 133, 134, 135, 136, 137, 138, 139, 140, 141, 142, 143, 144, 145, 146, 147, 148, 149, 150, 151, 152, 153, 154, 155, 156, 157, 158, 159, 160, 161, 162, 163, 164, 165, 166, 167, 168, 169, 170, 171, 172, 173, 174, 175, 176, 177, 178, 179, 180, 181, 182, 183, 184, 185, 186, 187, 188, 189, 190, 191, 192, 193, 194, 195, 196, 197, 198, 199], \"y\": [0.003769345661034671, 0.0019141419381811847, 0.001450145661138089, 0.0013028142197205256, 0.0012008223544931176, 0.0011057312111938146, 0.0010564022043736924, 0.000999287650679102, 0.0009695675796204496, 0.0009524960787086633, 0.0009276745599558259, 0.000914288080643817, 0.0008764706581132486, 0.0008547468563093147, 0.000830142340685309, 0.0008201411479470753, 0.0008020043545601343, 0.0007992877004520468, 0.0007908714891882705, 0.0007720552131082159, 0.000766093867529956, 0.0007579467314715702, 0.0007589597055523815, 0.0007430127880070359, 0.000753350335488482, 0.0007295371657918867, 0.0007287768857190157, 0.0007172644701956702, 0.0007151494469215368, 0.0007069962931138168, 0.0007055259356559141, 0.0006922396203707449, 0.0006911649337469986, 0.0006778495187130077, 0.0006867757453242452, 0.0006883065881727195, 0.0006713609648769062, 0.0006712297827329078, 0.0006640129850427732, 0.0006514728419261235, 0.0006615574930925151, 0.0006687733221929747, 0.0006530143637508267, 0.0006552879251724268, 0.0006564645057263013, 0.0006419883731457336, 0.0006352379276039554, 0.0006437357183242012, 0.0006233740144724413, 0.0006386264061935745, 0.0006408993544826489, 0.0006180275625566294, 0.0006271826217615433, 0.0006187152965406023, 0.0006246841682984335, 0.0006239657555053737, 0.0006152871941505907, 0.0006181997819888837, 0.0006182399729590454, 0.0005906068579018366, 0.000603700951259958, 0.0006037419209350467, 0.0006179701843548839, 0.000601842758109475, 0.0006007671154958832, 0.0005974511295789853, 0.0005994787437574393, 0.0005951322770958607, 0.0005893210093235234, 0.0005975847764979912, 0.0005824344900646815, 0.0005785478672961046, 0.0005898162807414603, 0.0005880938961792442, 0.0005877884317802765, 0.0005903725296531509, 0.0005856890660120037, 0.0005738300740897724, 0.0005655957390511659, 0.0005750204571352409, 0.0005600420941269343, 0.0005758108657063553, 0.0005576359677744643, 0.0005683396810171671, 0.0005521525908545479, 0.0005825309309307713, 0.0005664621050705247, 0.0005797596835380806, 0.0005708361896700452, 0.0005855810402242308, 0.0005520208346197473, 0.0005481071562915132, 0.0005529813174578567, 0.0005581871064794363, 0.0005476737124121339, 0.0005441535237279334, 0.0005543817107270403, 0.0005403559620523393, 0.0005439304680671407, 0.0005310198880246524, 0.0005435449954636236, 0.0005420335277804265, 0.0005265602768503879, 0.0005311498091209727, 0.0005311246435356713, 0.000519246731284245, 0.0005096628981225034, 0.0005126116918357339, 0.0005081172421341762, 0.0005145000897932842, 0.0005111048564530637, 0.0005193332780902161, 0.0005259038876918167, 0.0005139125068813971, 0.0005217077369906758, 0.0005215516210272453, 0.0005356790201536879, 0.0005131587391455158, 0.0005137134175151358, 0.0004998666595272923, 0.0005079592924519647, 0.0005118714378601531, 0.0005073682632206417, 0.0004999041441961465, 0.0005057023186165635, 0.0004960809436430813, 0.0005060210740605439, 0.0005053982208553906, 0.0004946503565694979, 0.0004885093576598503, 0.0005109314648817838, 0.0005040390164273358, 0.0005026268597093138, 0.0005023102714359284, 0.00048725190111038435, 0.0005051564629666689, 0.0005047528993156625, 0.0004922606973062701, 0.0004904932804226807, 0.0004867323404163826, 0.0004940954467889331, 0.0004833305551650616, 0.0004801018140136786, 0.0004825082161426885, 0.0004901322397749825, 0.0004738341428115169, 0.0004744298621961028, 0.0004815338718954745, 0.00048235764428149766, 0.00048299314877978046, 0.0004777035128648915, 0.0004754651193407637, 0.0004784096853676956, 0.00046233553084453985, 0.0004780690607021381, 0.00047221282236533605, 0.0004831364216132477, 0.000476379047585197, 0.00046626064733306814, 0.0004610643589375086, 0.00046437085008464485, 0.00047634406265143934, 0.0004667458243358585, 0.0004542907110767484, 0.0004638508719991233, 0.00045794377631575966, 0.00047198752127303856, 0.0004597587344838625, 0.0004606208174486599, 0.00046422368674340275, 0.00045453331297655344, 0.00044911181505928496, 0.0004607885916257368, 0.0004537462449572958, 0.0004569382902601075, 0.00046616519493243954, 0.00045518798536405236, 0.0004513698872093611, 0.0004567089398312042, 0.0004557160798690236, 0.00045474175886938166, 0.00043960076543110674, 0.00044666619977783183, 0.0004553424312290168, 0.00044306265790066573, 0.0004478917278281254, 0.00046135345314169394, 0.00044585219829303515, 0.00045042961236748215, 0.0004536231073604829, 0.0004535930438134706, 0.00044751479187497595, 0.00044576713276555665, 0.00046291598881929895, 0.0004480294856631833, 0.00044981422145544295, 0.00044760791561424316, 0.0004464250030251583, 0.0004403720820669039, 0.00044977164823028094]}],\n",
       "                        {\"autosize\": false, \"font\": {\"family\": \"Times New Roman\", \"size\": 16}, \"height\": 400, \"legend\": {\"bgcolor\": \"rgba(220,220,230,0.8)\", \"font\": {\"size\": 15}, \"orientation\": \"v\", \"title\": {\"font\": {\"size\": 14}, \"text\": \"Drum Types:\"}, \"x\": 1, \"xanchor\": \"right\", \"y\": 1, \"yanchor\": \"top\"}, \"margin\": {\"b\": 0, \"l\": 10, \"r\": 5, \"t\": 5}, \"template\": {\"data\": {\"bar\": [{\"error_x\": {\"color\": \"rgb(36,36,36)\"}, \"error_y\": {\"color\": \"rgb(36,36,36)\"}, \"marker\": {\"line\": {\"color\": \"rgb(234,234,242)\", \"width\": 0.5}}, \"type\": \"bar\"}], \"barpolar\": [{\"marker\": {\"line\": {\"color\": \"rgb(234,234,242)\", \"width\": 0.5}}, \"type\": \"barpolar\"}], \"carpet\": [{\"aaxis\": {\"endlinecolor\": \"rgb(36,36,36)\", \"gridcolor\": \"white\", \"linecolor\": \"white\", \"minorgridcolor\": \"white\", \"startlinecolor\": \"rgb(36,36,36)\"}, \"baxis\": {\"endlinecolor\": \"rgb(36,36,36)\", \"gridcolor\": \"white\", \"linecolor\": \"white\", \"minorgridcolor\": \"white\", \"startlinecolor\": \"rgb(36,36,36)\"}, \"type\": \"carpet\"}], \"choropleth\": [{\"colorbar\": {\"outlinewidth\": 0, \"tickcolor\": \"rgb(36,36,36)\", \"ticklen\": 8, \"ticks\": \"outside\", \"tickwidth\": 2}, \"type\": \"choropleth\"}], \"contour\": [{\"colorbar\": {\"outlinewidth\": 0, \"tickcolor\": \"rgb(36,36,36)\", \"ticklen\": 8, \"ticks\": \"outside\", \"tickwidth\": 2}, \"colorscale\": [[0.0, \"rgb(2,4,25)\"], [0.06274509803921569, \"rgb(24,15,41)\"], [0.12549019607843137, \"rgb(47,23,57)\"], [0.18823529411764706, \"rgb(71,28,72)\"], [0.25098039215686274, \"rgb(97,30,82)\"], [0.3137254901960784, \"rgb(123,30,89)\"], [0.3764705882352941, \"rgb(150,27,91)\"], [0.4392156862745098, \"rgb(177,22,88)\"], [0.5019607843137255, \"rgb(203,26,79)\"], [0.5647058823529412, \"rgb(223,47,67)\"], [0.6274509803921569, \"rgb(236,76,61)\"], [0.6901960784313725, \"rgb(242,107,73)\"], [0.7529411764705882, \"rgb(244,135,95)\"], [0.8156862745098039, \"rgb(245,162,122)\"], [0.8784313725490196, \"rgb(246,188,153)\"], [0.9411764705882353, \"rgb(247,212,187)\"], [1.0, \"rgb(250,234,220)\"]], \"type\": \"contour\"}], \"contourcarpet\": [{\"colorbar\": {\"outlinewidth\": 0, \"tickcolor\": \"rgb(36,36,36)\", \"ticklen\": 8, \"ticks\": \"outside\", \"tickwidth\": 2}, \"type\": \"contourcarpet\"}], \"heatmap\": [{\"colorbar\": {\"outlinewidth\": 0, \"tickcolor\": \"rgb(36,36,36)\", \"ticklen\": 8, \"ticks\": \"outside\", \"tickwidth\": 2}, \"colorscale\": [[0.0, \"rgb(2,4,25)\"], [0.06274509803921569, \"rgb(24,15,41)\"], [0.12549019607843137, \"rgb(47,23,57)\"], [0.18823529411764706, \"rgb(71,28,72)\"], [0.25098039215686274, \"rgb(97,30,82)\"], [0.3137254901960784, \"rgb(123,30,89)\"], [0.3764705882352941, \"rgb(150,27,91)\"], [0.4392156862745098, \"rgb(177,22,88)\"], [0.5019607843137255, \"rgb(203,26,79)\"], [0.5647058823529412, \"rgb(223,47,67)\"], [0.6274509803921569, \"rgb(236,76,61)\"], [0.6901960784313725, \"rgb(242,107,73)\"], [0.7529411764705882, \"rgb(244,135,95)\"], [0.8156862745098039, \"rgb(245,162,122)\"], [0.8784313725490196, \"rgb(246,188,153)\"], [0.9411764705882353, \"rgb(247,212,187)\"], [1.0, \"rgb(250,234,220)\"]], \"type\": \"heatmap\"}], \"heatmapgl\": [{\"colorbar\": {\"outlinewidth\": 0, \"tickcolor\": \"rgb(36,36,36)\", \"ticklen\": 8, \"ticks\": \"outside\", \"tickwidth\": 2}, \"colorscale\": [[0.0, \"rgb(2,4,25)\"], [0.06274509803921569, \"rgb(24,15,41)\"], [0.12549019607843137, \"rgb(47,23,57)\"], [0.18823529411764706, \"rgb(71,28,72)\"], [0.25098039215686274, \"rgb(97,30,82)\"], [0.3137254901960784, \"rgb(123,30,89)\"], [0.3764705882352941, \"rgb(150,27,91)\"], [0.4392156862745098, \"rgb(177,22,88)\"], [0.5019607843137255, \"rgb(203,26,79)\"], [0.5647058823529412, \"rgb(223,47,67)\"], [0.6274509803921569, \"rgb(236,76,61)\"], [0.6901960784313725, \"rgb(242,107,73)\"], [0.7529411764705882, \"rgb(244,135,95)\"], [0.8156862745098039, \"rgb(245,162,122)\"], [0.8784313725490196, \"rgb(246,188,153)\"], [0.9411764705882353, \"rgb(247,212,187)\"], [1.0, \"rgb(250,234,220)\"]], \"type\": \"heatmapgl\"}], \"histogram\": [{\"marker\": {\"colorbar\": {\"outlinewidth\": 0, \"tickcolor\": \"rgb(36,36,36)\", \"ticklen\": 8, \"ticks\": \"outside\", \"tickwidth\": 2}}, \"type\": \"histogram\"}], \"histogram2d\": [{\"colorbar\": {\"outlinewidth\": 0, \"tickcolor\": \"rgb(36,36,36)\", \"ticklen\": 8, \"ticks\": \"outside\", \"tickwidth\": 2}, \"colorscale\": [[0.0, \"rgb(2,4,25)\"], [0.06274509803921569, \"rgb(24,15,41)\"], [0.12549019607843137, \"rgb(47,23,57)\"], [0.18823529411764706, \"rgb(71,28,72)\"], [0.25098039215686274, \"rgb(97,30,82)\"], [0.3137254901960784, \"rgb(123,30,89)\"], [0.3764705882352941, \"rgb(150,27,91)\"], [0.4392156862745098, \"rgb(177,22,88)\"], [0.5019607843137255, \"rgb(203,26,79)\"], [0.5647058823529412, \"rgb(223,47,67)\"], [0.6274509803921569, \"rgb(236,76,61)\"], [0.6901960784313725, \"rgb(242,107,73)\"], [0.7529411764705882, \"rgb(244,135,95)\"], [0.8156862745098039, \"rgb(245,162,122)\"], [0.8784313725490196, \"rgb(246,188,153)\"], [0.9411764705882353, \"rgb(247,212,187)\"], [1.0, \"rgb(250,234,220)\"]], \"type\": \"histogram2d\"}], \"histogram2dcontour\": [{\"colorbar\": {\"outlinewidth\": 0, \"tickcolor\": \"rgb(36,36,36)\", \"ticklen\": 8, \"ticks\": \"outside\", \"tickwidth\": 2}, \"colorscale\": [[0.0, \"rgb(2,4,25)\"], [0.06274509803921569, \"rgb(24,15,41)\"], [0.12549019607843137, \"rgb(47,23,57)\"], [0.18823529411764706, \"rgb(71,28,72)\"], [0.25098039215686274, \"rgb(97,30,82)\"], [0.3137254901960784, \"rgb(123,30,89)\"], [0.3764705882352941, \"rgb(150,27,91)\"], [0.4392156862745098, \"rgb(177,22,88)\"], [0.5019607843137255, \"rgb(203,26,79)\"], [0.5647058823529412, \"rgb(223,47,67)\"], [0.6274509803921569, \"rgb(236,76,61)\"], [0.6901960784313725, \"rgb(242,107,73)\"], [0.7529411764705882, \"rgb(244,135,95)\"], [0.8156862745098039, \"rgb(245,162,122)\"], [0.8784313725490196, \"rgb(246,188,153)\"], [0.9411764705882353, \"rgb(247,212,187)\"], [1.0, \"rgb(250,234,220)\"]], \"type\": \"histogram2dcontour\"}], \"mesh3d\": [{\"colorbar\": {\"outlinewidth\": 0, \"tickcolor\": \"rgb(36,36,36)\", \"ticklen\": 8, \"ticks\": \"outside\", \"tickwidth\": 2}, \"type\": \"mesh3d\"}], \"parcoords\": [{\"line\": {\"colorbar\": {\"outlinewidth\": 0, \"tickcolor\": \"rgb(36,36,36)\", \"ticklen\": 8, \"ticks\": \"outside\", \"tickwidth\": 2}}, \"type\": \"parcoords\"}], \"pie\": [{\"automargin\": true, \"type\": \"pie\"}], \"scatter\": [{\"marker\": {\"colorbar\": {\"outlinewidth\": 0, \"tickcolor\": \"rgb(36,36,36)\", \"ticklen\": 8, \"ticks\": \"outside\", \"tickwidth\": 2}}, \"type\": \"scatter\"}], \"scatter3d\": [{\"line\": {\"colorbar\": {\"outlinewidth\": 0, \"tickcolor\": \"rgb(36,36,36)\", \"ticklen\": 8, \"ticks\": \"outside\", \"tickwidth\": 2}}, \"marker\": {\"colorbar\": {\"outlinewidth\": 0, \"tickcolor\": \"rgb(36,36,36)\", \"ticklen\": 8, \"ticks\": \"outside\", \"tickwidth\": 2}}, \"type\": \"scatter3d\"}], \"scattercarpet\": [{\"marker\": {\"colorbar\": {\"outlinewidth\": 0, \"tickcolor\": \"rgb(36,36,36)\", \"ticklen\": 8, \"ticks\": \"outside\", \"tickwidth\": 2}}, \"type\": \"scattercarpet\"}], \"scattergeo\": [{\"marker\": {\"colorbar\": {\"outlinewidth\": 0, \"tickcolor\": \"rgb(36,36,36)\", \"ticklen\": 8, \"ticks\": \"outside\", \"tickwidth\": 2}}, \"type\": \"scattergeo\"}], \"scattergl\": [{\"marker\": {\"colorbar\": {\"outlinewidth\": 0, \"tickcolor\": \"rgb(36,36,36)\", \"ticklen\": 8, \"ticks\": \"outside\", \"tickwidth\": 2}}, \"type\": \"scattergl\"}], \"scattermapbox\": [{\"marker\": {\"colorbar\": {\"outlinewidth\": 0, \"tickcolor\": \"rgb(36,36,36)\", \"ticklen\": 8, \"ticks\": \"outside\", \"tickwidth\": 2}}, \"type\": \"scattermapbox\"}], \"scatterpolar\": [{\"marker\": {\"colorbar\": {\"outlinewidth\": 0, \"tickcolor\": \"rgb(36,36,36)\", \"ticklen\": 8, \"ticks\": \"outside\", \"tickwidth\": 2}}, \"type\": \"scatterpolar\"}], \"scatterpolargl\": [{\"marker\": {\"colorbar\": {\"outlinewidth\": 0, \"tickcolor\": \"rgb(36,36,36)\", \"ticklen\": 8, \"ticks\": \"outside\", \"tickwidth\": 2}}, \"type\": \"scatterpolargl\"}], \"scatterternary\": [{\"marker\": {\"colorbar\": {\"outlinewidth\": 0, \"tickcolor\": \"rgb(36,36,36)\", \"ticklen\": 8, \"ticks\": \"outside\", \"tickwidth\": 2}}, \"type\": \"scatterternary\"}], \"surface\": [{\"colorbar\": {\"outlinewidth\": 0, \"tickcolor\": \"rgb(36,36,36)\", \"ticklen\": 8, \"ticks\": \"outside\", \"tickwidth\": 2}, \"colorscale\": [[0.0, \"rgb(2,4,25)\"], [0.06274509803921569, \"rgb(24,15,41)\"], [0.12549019607843137, \"rgb(47,23,57)\"], [0.18823529411764706, \"rgb(71,28,72)\"], [0.25098039215686274, \"rgb(97,30,82)\"], [0.3137254901960784, \"rgb(123,30,89)\"], [0.3764705882352941, \"rgb(150,27,91)\"], [0.4392156862745098, \"rgb(177,22,88)\"], [0.5019607843137255, \"rgb(203,26,79)\"], [0.5647058823529412, \"rgb(223,47,67)\"], [0.6274509803921569, \"rgb(236,76,61)\"], [0.6901960784313725, \"rgb(242,107,73)\"], [0.7529411764705882, \"rgb(244,135,95)\"], [0.8156862745098039, \"rgb(245,162,122)\"], [0.8784313725490196, \"rgb(246,188,153)\"], [0.9411764705882353, \"rgb(247,212,187)\"], [1.0, \"rgb(250,234,220)\"]], \"type\": \"surface\"}], \"table\": [{\"cells\": {\"fill\": {\"color\": \"rgb(231,231,240)\"}, \"line\": {\"color\": \"white\"}}, \"header\": {\"fill\": {\"color\": \"rgb(183,183,191)\"}, \"line\": {\"color\": \"white\"}}, \"type\": \"table\"}]}, \"layout\": {\"annotationdefaults\": {\"arrowcolor\": \"rgb(67,103,167)\"}, \"coloraxis\": {\"colorbar\": {\"outlinewidth\": 0, \"tickcolor\": \"rgb(36,36,36)\", \"ticklen\": 8, \"ticks\": \"outside\", \"tickwidth\": 2}}, \"colorscale\": {\"sequential\": [[0.0, \"rgb(2,4,25)\"], [0.06274509803921569, \"rgb(24,15,41)\"], [0.12549019607843137, \"rgb(47,23,57)\"], [0.18823529411764706, \"rgb(71,28,72)\"], [0.25098039215686274, \"rgb(97,30,82)\"], [0.3137254901960784, \"rgb(123,30,89)\"], [0.3764705882352941, \"rgb(150,27,91)\"], [0.4392156862745098, \"rgb(177,22,88)\"], [0.5019607843137255, \"rgb(203,26,79)\"], [0.5647058823529412, \"rgb(223,47,67)\"], [0.6274509803921569, \"rgb(236,76,61)\"], [0.6901960784313725, \"rgb(242,107,73)\"], [0.7529411764705882, \"rgb(244,135,95)\"], [0.8156862745098039, \"rgb(245,162,122)\"], [0.8784313725490196, \"rgb(246,188,153)\"], [0.9411764705882353, \"rgb(247,212,187)\"], [1.0, \"rgb(250,234,220)\"]], \"sequentialminus\": [[0.0, \"rgb(2,4,25)\"], [0.06274509803921569, \"rgb(24,15,41)\"], [0.12549019607843137, \"rgb(47,23,57)\"], [0.18823529411764706, \"rgb(71,28,72)\"], [0.25098039215686274, \"rgb(97,30,82)\"], [0.3137254901960784, \"rgb(123,30,89)\"], [0.3764705882352941, \"rgb(150,27,91)\"], [0.4392156862745098, \"rgb(177,22,88)\"], [0.5019607843137255, \"rgb(203,26,79)\"], [0.5647058823529412, \"rgb(223,47,67)\"], [0.6274509803921569, \"rgb(236,76,61)\"], [0.6901960784313725, \"rgb(242,107,73)\"], [0.7529411764705882, \"rgb(244,135,95)\"], [0.8156862745098039, \"rgb(245,162,122)\"], [0.8784313725490196, \"rgb(246,188,153)\"], [0.9411764705882353, \"rgb(247,212,187)\"], [1.0, \"rgb(250,234,220)\"]]}, \"colorway\": [\"rgb(76,114,176)\", \"rgb(221,132,82)\", \"rgb(85,168,104)\", \"rgb(196,78,82)\", \"rgb(129,114,179)\", \"rgb(147,120,96)\", \"rgb(218,139,195)\", \"rgb(140,140,140)\", \"rgb(204,185,116)\", \"rgb(100,181,205)\"], \"font\": {\"color\": \"rgb(36,36,36)\"}, \"geo\": {\"bgcolor\": \"white\", \"lakecolor\": \"white\", \"landcolor\": \"rgb(234,234,242)\", \"showlakes\": true, \"showland\": true, \"subunitcolor\": \"white\"}, \"hoverlabel\": {\"align\": \"left\"}, \"hovermode\": \"closest\", \"paper_bgcolor\": \"white\", \"plot_bgcolor\": \"rgb(234,234,242)\", \"polar\": {\"angularaxis\": {\"gridcolor\": \"white\", \"linecolor\": \"white\", \"showgrid\": true, \"ticks\": \"\"}, \"bgcolor\": \"rgb(234,234,242)\", \"radialaxis\": {\"gridcolor\": \"white\", \"linecolor\": \"white\", \"showgrid\": true, \"ticks\": \"\"}}, \"scene\": {\"xaxis\": {\"backgroundcolor\": \"rgb(234,234,242)\", \"gridcolor\": \"white\", \"gridwidth\": 2, \"linecolor\": \"white\", \"showbackground\": true, \"showgrid\": true, \"ticks\": \"\", \"zerolinecolor\": \"white\"}, \"yaxis\": {\"backgroundcolor\": \"rgb(234,234,242)\", \"gridcolor\": \"white\", \"gridwidth\": 2, \"linecolor\": \"white\", \"showbackground\": true, \"showgrid\": true, \"ticks\": \"\", \"zerolinecolor\": \"white\"}, \"zaxis\": {\"backgroundcolor\": \"rgb(234,234,242)\", \"gridcolor\": \"white\", \"gridwidth\": 2, \"linecolor\": \"white\", \"showbackground\": true, \"showgrid\": true, \"ticks\": \"\", \"zerolinecolor\": \"white\"}}, \"shapedefaults\": {\"fillcolor\": \"rgb(67,103,167)\", \"line\": {\"width\": 0}, \"opacity\": 0.5}, \"ternary\": {\"aaxis\": {\"gridcolor\": \"white\", \"linecolor\": \"white\", \"showgrid\": true, \"ticks\": \"\"}, \"baxis\": {\"gridcolor\": \"white\", \"linecolor\": \"white\", \"showgrid\": true, \"ticks\": \"\"}, \"bgcolor\": \"rgb(234,234,242)\", \"caxis\": {\"gridcolor\": \"white\", \"linecolor\": \"white\", \"showgrid\": true, \"ticks\": \"\"}}, \"xaxis\": {\"automargin\": true, \"gridcolor\": \"white\", \"linecolor\": \"white\", \"showgrid\": true, \"ticks\": \"\", \"title\": {\"standoff\": 15}, \"zerolinecolor\": \"white\"}, \"yaxis\": {\"automargin\": true, \"gridcolor\": \"white\", \"linecolor\": \"white\", \"showgrid\": true, \"ticks\": \"\", \"title\": {\"standoff\": 15}, \"zerolinecolor\": \"white\"}}}, \"title\": {\"font\": {\"family\": \"Times New Roman\", \"size\": 28}, \"text\": \"\", \"x\": 0.5, \"y\": 0.98}, \"width\": 800, \"xaxis\": {\"showgrid\": false, \"title\": {\"text\": \"Epoch\"}, \"zeroline\": false}, \"yaxis\": {\"showgrid\": false, \"title\": {\"text\": \"Loss\"}, \"zeroline\": false}},\n",
       "                        {\"responsive\": true}\n",
       "                    ).then(function(){\n",
       "                            \n",
       "var gd = document.getElementById('cde655d9-de8a-4c54-9041-4a641002a017');\n",
       "var x = new MutationObserver(function (mutations, observer) {{\n",
       "        var display = window.getComputedStyle(gd).display;\n",
       "        if (!display || display === 'none') {{\n",
       "            console.log([gd, 'removed!']);\n",
       "            Plotly.purge(gd);\n",
       "            observer.disconnect();\n",
       "        }}\n",
       "}});\n",
       "\n",
       "// Listen for the removal of the full notebook cells\n",
       "var notebookContainer = gd.closest('#notebook-container');\n",
       "if (notebookContainer) {{\n",
       "    x.observe(notebookContainer, {childList: true});\n",
       "}}\n",
       "\n",
       "// Listen for the clearing of the current output cell\n",
       "var outputEl = gd.closest('.output');\n",
       "if (outputEl) {{\n",
       "    x.observe(outputEl, {childList: true});\n",
       "}}\n",
       "\n",
       "                        })\n",
       "                };\n",
       "                });\n",
       "            </script>\n",
       "        </div>"
      ]
     },
     "metadata": {},
     "output_type": "display_data"
    }
   ],
   "source": [
    "#test/train plot\n",
    "\n",
    "import plotly.express as px \n",
    "import pandas as pd \n",
    "import numpy as np \n",
    "scope = PlotlyScope()\n",
    "# Get some data\n",
    "df = pd.read_csv('../feature_extraction/csvs/training/cnn_64_training.csv')\n",
    "\n",
    "# Plot \n",
    "fig = go.Figure()\n",
    "\n",
    "fig.add_trace(go.Scatter(\n",
    "    x=df.index,\n",
    "    y=df['test_loss'],\n",
    "    marker=dict(\n",
    "        color=\"#00CC78\"\n",
    "    ),\n",
    "    name=\"Test Loss\",\n",
    "    showlegend=True\n",
    "))\n",
    "\n",
    "fig.add_trace(go.Scatter(\n",
    "    x=df.index,\n",
    "    y=df['train_loss'],\n",
    "    mode='lines',\n",
    "    marker=dict(\n",
    "       color=\"#0055AA\"\n",
    "    ),\n",
    "    name=\"Train Loss\",\n",
    "    showlegend=True\n",
    "))\n",
    "\n",
    "fig.update_layout(\n",
    " autosize=False,title_text='',title=None,title_x=0.5, title_y=0.98,\n",
    "                    template=\"seaborn\",\n",
    "                    width=800,\n",
    "                    height=400, margin=dict( r=5, l=10, b=0, t=5),\n",
    "                    font_family=\"Times New Roman\",\n",
    "                    font_size=16,\n",
    "                    title_font_family=\"Times New Roman\",\n",
    "                    title_font_size=28,\n",
    "                    legend=dict(bgcolor='rgba(220,220,230,0.8)',orientation=\"v\",yanchor=\"top\",y=1,xanchor=\"right\",x=1,\n",
    "                        font = dict(size=15),title_font = dict(size=14)),\n",
    "                    legend_title_text=\"Drum Types:\",\n",
    "                )\n",
    "\n",
    "fig.update_xaxes(showgrid=False,zeroline=False,title_text=\"Epoch\")\n",
    "fig.update_yaxes(showgrid=False,zeroline=False,title_text=\"Loss\")\n",
    "fig.show()\n",
    "with open(\"best_training\", \"wb\") as f:\n",
    "    f.write(scope.transform(fig, format=\"pdf\", width=700,height=400,  ))"
   ]
  },
  {
   "cell_type": "code",
   "execution_count": null,
   "metadata": {},
   "outputs": [],
   "source": [
    "\n",
    "scope = PlotlyScope()\n",
    "\n",
    "df=pd.read_csv(\"../feature_extraction/csvs/df_8_2D.csv\",index_col=False)\n",
    "\n",
    "# fig = px.scatter_3d(df, x=\"D1\",y=\"D2\",z=\"D3\",color=\"label\",symbol=\"drum_type\",hover_data=[\"path\"],color_discrete_sequence=px.colors.qualitative.Dark2)\n",
    "s_map={\"tom_mid\":\"x\",\"hihat_closed\":\"circle\",\"synth_noise\":\"cross\",\"tom_low\":\"diamond\",\"tom_high\":\"diamond\"}\n",
    "fig = px.scatter(df, x=\"D1\",y=\"D2\",color=\"drum_type\",symbol=\"drum_type\",hover_data=[\"path\"],\n",
    "                    color_discrete_sequence= px.colors.sequential.RdBu_r,symbol_map=s_map)\n",
    "# title_text='2 Dimensional Projection of Latent Variables'\n",
    "fig.update_layout(\n",
    " autosize=False,title_text='',title=None,title_x=0.5, title_y=0.98,\n",
    "                    template=\"seaborn\",\n",
    "                    width=600,\n",
    "                    height=600, margin=dict( r=5, l=10, b=0, t=5),\n",
    "                    font_family=\"Times New Roman\",\n",
    "                    font_size=16,\n",
    "                    title_font_family=\"Times New Roman\",\n",
    "                    title_font_size=28,\n",
    "                    legend=dict(bgcolor='rgba(220,220,230,0.8)',orientation=\"v\",yanchor=\"top\",y=1,xanchor=\"right\",x=1,\n",
    "                        font = dict(size=15),title_font = dict(size=14)),\n",
    "                    legend_title_text=\"Drum Types:\",\n",
    "                )\n",
    "\n",
    "fig.update_traces(marker=dict(size=10,opacity=1,line=dict(width=1,color='rgba(30,40,40,0.8)')))\n",
    "fig.update_xaxes(showgrid=False,zeroline=False,)\n",
    "\n",
    "fig.update_yaxes(showgrid=False,zeroline=False,)\n",
    "\n",
    "g=fig\n",
    "fig.show()\n",
    "with open(\"t-SNE_2d.pdf\", \"wb\") as f:\n",
    "    f.write(scope.transform(fig, format=\"pdf\", width=600,height=600,  ))\n"
   ]
  },
  {
   "cell_type": "code",
   "execution_count": null,
   "metadata": {},
   "outputs": [],
   "source": [
    "\n",
    "scope = PlotlyScope()\n",
    "df=pd.read_csv(\"../feature_extraction/csvs/df_8.csv\",index_col=False)\n",
    "df[\"size\"]=24\n",
    "s_map={\"tom_mid\":\"diamond\",\"hihat_closed\":\"circle\",\"synth_noise\":\"circle-open\",\"tom_low\":\"diamond\",\"tom_high\":\"circle\",\"kick\":\"circle\"}\n",
    "def tsne3d(symboling,coloring,cam):\n",
    "    cameras= [dict(eye=dict(x=-0.3, y=1.1, z=0.1)),dict(eye=dict(x=-0.8, y=-0.8, z=0.5)),\n",
    "              dict(eye=dict(x=-0.2, y=0.6, z=-0.5)),dict(eye=dict(x=0.5, y=0.4, z=-0.9))]\n",
    "    camera_angle=cameras[cam]\n",
    "\n",
    "    fig = px.scatter_3d(df, x=\"D1\",y=\"D2\",z=\"D3\",color=coloring,symbol=symboling,hover_data=[\"path\"],\n",
    "                        color_discrete_sequence= px.colors.sequential.RdBu_r,\n",
    "                        symbol_map=s_map ,size_max=24,size=\"size\" )\n",
    "    fig.update_layout( legend=dict(bgcolor='rgba(220,220,230,0.9)',orientation=\"v\",yanchor=\"top\",y=1,xanchor=\"left\",\n",
    "                                   x=0,font = dict(size=19),title_font = dict(size=19)),\n",
    "                        legend_title_text=\"Drum Types:\",\n",
    "                        scene = dict(\n",
    "                        camera=camera_angle,aspectmode=\"auto\",\n",
    "                        xaxis = dict(\n",
    "                         backgroundcolor=\"rgb(200, 200, 230)\",\n",
    "                         gridcolor=\"white\",\n",
    "                         showbackground=True,\n",
    "                         zerolinecolor=\"white\",                            \n",
    "                        ),\n",
    "                    yaxis = dict(\n",
    "                        backgroundcolor=\"rgb(230, 200,230)\",\n",
    "                        gridcolor=\"white\",\n",
    "                        showbackground=True,\n",
    "                        zerolinecolor=\"white\"),\n",
    "                    zaxis = dict(\n",
    "                        backgroundcolor=\"rgb(230, 230,200)\",\n",
    "                        gridcolor=\"white\",\n",
    "                        showbackground=True,\n",
    "                        zerolinecolor=\"white\",),),\n",
    "                        \n",
    "                        template=\"seaborn\",\n",
    "                        width=500,height=400,  \n",
    "                        margin=dict( r=0, l=0, b=0, t=0),\n",
    "                        showlegend= cam == 0,\n",
    "                     )\n",
    "    fig.update_traces(marker=dict(opacity=1,line=dict(width=1,color='#111111')))\n",
    "    fig.update_xaxes(showgrid=False,zeroline=False,)\n",
    "    fig.update_yaxes(showgrid=False,zeroline=False,)\n",
    "    g=fig\n",
    "\n",
    "\n",
    "    name=\"3d_t-SNE_sym%s_cam%d.pdf\"%(symboling,cam)\n",
    "    if cam == 0:\n",
    "        w,h=1000,500\n",
    "    elif cam == 3:\n",
    "        w,h=1000,500\n",
    "    else:\n",
    "        w,h=500,500\n",
    "    with open(name, \"wb\") as f:\n",
    "        f.write(scope.transform(fig, format=\"pdf\", width=w,height=h,  ))\n",
    "    return fig\n",
    "\n",
    "for sym in [\"drum_type\",\"label\"]:\n",
    "    for cam in range(4):\n",
    "        tsne3d(sym,\"drum_type\",cam)\n",
    "\n",
    "# fig = tsne3d(\"drum_type\",\"drum_type\",0)\n",
    "\n"
   ]
  },
  {
   "cell_type": "code",
   "execution_count": null,
   "metadata": {},
   "outputs": [],
   "source": [
    "scope = PlotlyScope()\n",
    "df=pd.read_csv(\"../feature_extraction/csvs/df_8.csv\",index_col=False)\n",
    "df[\"size\"]=12\n",
    "s_map={\"tom_mid\":\"diamond\",\"hihat_closed\":\"circle\",\"synth_noise\":\"circle-open\",\"tom_low\":\"diamond\",\"tom_high\":\"circle\",\"kick\":\"circle\"}\n",
    "def tsne3d(symboling,coloring,cam):\n",
    "    cameras= [dict(eye=dict(x=-0.1, y=1.5, z=0.1)),dict(eye=dict(x=-1, y=-1, z=0.5)),\n",
    "              dict(eye=dict(x=-0.2, y=0.8, z=-0.6)),dict(eye=dict(x=0.5, y=0.4, z=-1.2))]\n",
    "    camera_angle=cameras[cam]\n",
    "\n",
    "    fig = px.scatter_3d(df, x=\"D1\",y=\"D2\",z=\"D3\",color=coloring,symbol=symboling,hover_data=[\"path\"],\n",
    "                        color_discrete_sequence= px.colors.sequential.RdBu_r,\n",
    "                        symbol_map=s_map ,size_max=12,size=\"size\" )\n",
    "    fig.update_layout( legend=dict(bgcolor='rgba(220,220,230,0.9)',orientation=\"v\",yanchor=\"top\",y=1,xanchor=\"right\",\n",
    "                                   x=1,font = dict(size=15),title_font = dict(size=14)),\n",
    "                        legend_title_text=\"Drum Types:\",\n",
    "                        scene = dict(\n",
    "                        camera=camera_angle,aspectmode=\"cube\",\n",
    "                        xaxis = dict(\n",
    "                         backgroundcolor=\"rgb(200, 200, 230)\",\n",
    "                         gridcolor=\"white\",\n",
    "                         showbackground=True,\n",
    "                         zerolinecolor=\"white\",                            \n",
    "                        ),\n",
    "                    yaxis = dict(\n",
    "                        backgroundcolor=\"rgb(230, 200,230)\",\n",
    "                        gridcolor=\"white\",\n",
    "                        showbackground=True,\n",
    "                        zerolinecolor=\"white\"),\n",
    "                    zaxis = dict(\n",
    "                        backgroundcolor=\"rgb(230, 230,200)\",\n",
    "                        gridcolor=\"white\",\n",
    "                        showbackground=True,\n",
    "                        zerolinecolor=\"white\",),),\n",
    "                        \n",
    "                        template=\"seaborn\",\n",
    "                        width=500,height=400,  \n",
    "                        margin=dict( r=0, l=0, b=0, t=0),\n",
    "                        showlegend= cam == 0,\n",
    "                     )\n",
    "    fig.update_traces(marker=dict(opacity=1,line=dict(width=1,color='#111111')))\n",
    "    g=fig\n",
    "\n",
    "\n",
    "    name=\"3d_t-SNE_sym%s_cam%d.pdf\"%(symboling,cam)\n",
    "    with open(name, \"wb\") as f:\n",
    "        f.write(scope.transform(fig, format=\"pdf\", width=600,height=600,  ))\n",
    "\n",
    "for sym in [\"drum_type\",\"label\"]:\n",
    "    for cam in range(4):\n",
    "        tsne3d(sym,\"drum_type\",cam)\n",
    "\n"
   ]
  }
 ],
 "metadata": {
  "kernelspec": {
   "display_name": "Python 3",
   "language": "python",
   "name": "python3"
  },
  "language_info": {
   "codemirror_mode": {
    "name": "ipython",
    "version": 3
   },
   "file_extension": ".py",
   "mimetype": "text/x-python",
   "name": "python",
   "nbconvert_exporter": "python",
   "pygments_lexer": "ipython3",
   "version": "3.7.5"
  }
 },
 "nbformat": 4,
 "nbformat_minor": 4
}
