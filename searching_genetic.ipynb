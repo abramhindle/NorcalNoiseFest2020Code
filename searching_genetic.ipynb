{
 "cells": [
  {
   "cell_type": "code",
   "execution_count": 13,
   "metadata": {
    "scrolled": true
   },
   "outputs": [
    {
     "data": {
      "text/plain": [
       "<module 'common_vars' from '/home/asalimi/Synths_Stacks_Search/common_vars.py'>"
      ]
     },
     "execution_count": 13,
     "metadata": {},
     "output_type": "execute_result"
    }
   ],
   "source": [
    "from __future__ import print_function\n",
    "import pandas as pd\n",
    "import numpy as np\n",
    "import matplotlib.pyplot  as plt\n",
    "import seaborn as sns\n",
    "import param_generation as pg\n",
    "import helpers as hp\n",
    "from ipywidgets import GridspecLayout,HBox,widgets\n",
    "from IPython.display import Audio, display\n",
    "import librosa\n",
    "import random\n",
    "import common_vars as commons\n",
    "import glob\n",
    "\n",
    "\n",
    "#let's play the sound given the parameters\n",
    "import imp\n",
    "imp.reload(pg)\n",
    "imp.reload(hp)\n",
    "imp.reload(commons)\n"
   ]
  },
  {
   "cell_type": "code",
   "execution_count": 10,
   "metadata": {},
   "outputs": [
    {
     "ename": "ImportError",
     "evalue": "cannot import name 'CNN_utils' from 'feature_extraction' (/home/asalimi/Synths_Stacks_Search/feature_extraction/__init__.py)",
     "output_type": "error",
     "traceback": [
      "\u001b[0;31m---------------------------------------------------------------------------\u001b[0m",
      "\u001b[0;31mImportError\u001b[0m                               Traceback (most recent call last)",
      "\u001b[0;32m<ipython-input-10-b52a497bf9cb>\u001b[0m in \u001b[0;36m<module>\u001b[0;34m\u001b[0m\n\u001b[1;32m      1\u001b[0m \u001b[0;31m#let's try evolution strategys with deap\u001b[0m\u001b[0;34m\u001b[0m\u001b[0;34m\u001b[0m\u001b[0;34m\u001b[0m\u001b[0m\n\u001b[0;32m----> 2\u001b[0;31m \u001b[0;32mimport\u001b[0m \u001b[0mscorer\u001b[0m\u001b[0;34m\u001b[0m\u001b[0;34m\u001b[0m\u001b[0m\n\u001b[0m\u001b[1;32m      3\u001b[0m \u001b[0;32mimport\u001b[0m \u001b[0mimp\u001b[0m\u001b[0;34m\u001b[0m\u001b[0;34m\u001b[0m\u001b[0m\n\u001b[1;32m      4\u001b[0m \u001b[0mimp\u001b[0m\u001b[0;34m.\u001b[0m\u001b[0mreload\u001b[0m\u001b[0;34m(\u001b[0m\u001b[0mscorer\u001b[0m\u001b[0;34m)\u001b[0m\u001b[0;34m\u001b[0m\u001b[0;34m\u001b[0m\u001b[0m\n\u001b[1;32m      5\u001b[0m \u001b[0mimp\u001b[0m\u001b[0;34m.\u001b[0m\u001b[0mreload\u001b[0m\u001b[0;34m(\u001b[0m\u001b[0mpg\u001b[0m\u001b[0;34m)\u001b[0m\u001b[0;34m\u001b[0m\u001b[0;34m\u001b[0m\u001b[0m\n",
      "\u001b[0;32m~/Synths_Stacks_Search/scorer.py\u001b[0m in \u001b[0;36m<module>\u001b[0;34m\u001b[0m\n\u001b[1;32m      9\u001b[0m \u001b[0;32mimport\u001b[0m \u001b[0mtorch\u001b[0m\u001b[0;34m\u001b[0m\u001b[0;34m\u001b[0m\u001b[0m\n\u001b[1;32m     10\u001b[0m \u001b[0;32mimport\u001b[0m \u001b[0mtorchvision\u001b[0m\u001b[0;34m\u001b[0m\u001b[0;34m\u001b[0m\u001b[0m\n\u001b[0;32m---> 11\u001b[0;31m \u001b[0;32mfrom\u001b[0m \u001b[0mfeature_extraction\u001b[0m \u001b[0;32mimport\u001b[0m \u001b[0mCNN_utils\u001b[0m\u001b[0;34m\u001b[0m\u001b[0;34m\u001b[0m\u001b[0m\n\u001b[0m\u001b[1;32m     12\u001b[0m \u001b[0;31m####\u001b[0m\u001b[0;34m\u001b[0m\u001b[0;34m\u001b[0m\u001b[0;34m\u001b[0m\u001b[0m\n\u001b[1;32m     13\u001b[0m \u001b[0;32mfrom\u001b[0m \u001b[0mpippi\u001b[0m \u001b[0;32mimport\u001b[0m \u001b[0mdsp\u001b[0m\u001b[0;34m,\u001b[0m \u001b[0mnoise\u001b[0m\u001b[0;34m\u001b[0m\u001b[0;34m\u001b[0m\u001b[0m\n",
      "\u001b[0;31mImportError\u001b[0m: cannot import name 'CNN_utils' from 'feature_extraction' (/home/asalimi/Synths_Stacks_Search/feature_extraction/__init__.py)"
     ]
    }
   ],
   "source": [
    "#let's try evolution strategys with deap\n",
    "import scorer\n",
    "import imp\n",
    "imp.reload(scorer)\n",
    "imp.reload(pg)\n",
    "imp.reload(hp)\n",
    "from deap import base, creator\n",
    "import random\n",
    "from deap import tools\n",
    "import scipy.spatial.distance as d\n",
    "from helpers import rToParams\n",
    "\n",
    "toolbox = base.Toolbox()\n",
    "\n",
    "creator.create(\"FitnessMin\", base.Fitness, weights=(-1,))\n",
    "creator.create(\"Individual\", list, fitness=creator.FitnessMin)\n",
    "\n",
    "def mutateArraySearch(indiv,a):\n",
    "    e=0.5\n",
    "    t=0.5\n",
    "    r=pd.DataFrame([a],columns=param_cols)\n",
    "    pset=rToParams(r.iloc[0])\n",
    "    pset.mutate(e,t)\n",
    "    a_m=list(vars(pset).values())\n",
    "    return indiv(a_m)\n",
    "\n",
    "drum=\"kick\"\n",
    "goodGenes=df[(df[g]>0.15) & (df[g+\"_rank\"]<3) & (df[\"synth_rank\"]>1)].reset_index(drop=True)\n",
    "\n",
    "def initPopulation(pcls,ng):\n",
    "    ipop=[creator.Individual(goodGenes[param_cols].iloc[random.randint(0,goodGenes.shape[0])].values)\n",
    "          for x in range(ng)]\n",
    "    return pcls(ipop)\n",
    "\n",
    "def evaluate(individual):\n",
    "#     distance=d.minkowski(individual,solution) # distance between params and the \"ideal drum\"\n",
    "    ind_df=pd.DataFrame([individual],columns=param_cols)\n",
    "    p_series=ind_df.iloc[0]\n",
    "\n",
    "    scores,valid=scorer.rank_score(p_series)\n",
    "    \n",
    "    if valid:\n",
    "        rank=scores[\"%s_rank\"%(drum,)]\n",
    "        score=scores[\"%s\"%(drum,)]\n",
    "    else:\n",
    "        rank=12\n",
    "        score=0\n",
    "    f=rank-score\n",
    "#     print (f,rank,score,\"\\r\",end=\"\")\n",
    "    return (f,)\n",
    "\n",
    "def randSelect(l,k):\n",
    "    return random.sample(l, k)\n",
    "# toolbox.register(\"individual_guess\", initIndividual, creator.Individual)\n",
    "toolbox.register(\"population_guess\", initPopulation, list,)\n",
    "\n",
    "toolbox.register(\"mate\", tools.cxTwoPoint)\n",
    "toolbox.register(\"param_mutate\",mutateArraySearch,creator.Individual)\n",
    "toolbox.register(\"select_best\", tools.selBest,fit_attr='fitness')\n",
    "toolbox.register(\"select_random\",randSelect)\n",
    "toolbox.register(\"evaluate\", evaluate)\n",
    "hof=tools.HallOfFame(POP_SIZE*2)"
   ]
  },
  {
   "cell_type": "code",
   "execution_count": 9,
   "metadata": {},
   "outputs": [
    {
     "ename": "NameError",
     "evalue": "name 'tools' is not defined",
     "output_type": "error",
     "traceback": [
      "\u001b[0;31m---------------------------------------------------------------------------\u001b[0m",
      "\u001b[0;31mNameError\u001b[0m                                 Traceback (most recent call last)",
      "\u001b[0;32m<timed exec>\u001b[0m in \u001b[0;36m<module>\u001b[0;34m\u001b[0m\n",
      "\u001b[0;31mNameError\u001b[0m: name 'tools' is not defined"
     ]
    }
   ],
   "source": [
    "%%time\n",
    "CXPB, MUTPB = 0.5, 1 #making babies,mutation prob,num generations\n",
    "MUTENV,MUTTEXT=0.3,0.2\n",
    "POP_SIZE = 20\n",
    "hof=tools.HallOfFame(POP_SIZE*2)\n",
    "\n",
    "def evolve(pop,hof):\n",
    "        newGenes=toolbox.population_guess(int(0.2*POP_SIZE))\n",
    "        offspring = pop.copy() + newGenes\n",
    "        # Clone the selected individuals        \n",
    "        for i,mutant in enumerate(offspring):\n",
    "            if random.random() < MUTPB:\n",
    "#                 print(\"before mut\",offspring[i])\n",
    "                offspring[i]=toolbox.param_mutate(mutant)\n",
    "#                 print(\"after mut \",offspring[i])\n",
    "                del offspring[i].fitness.values\n",
    "                \n",
    "        # Apply crossover and mutation on the offspring\n",
    "        for child1, child2 in list(zip(offspring[::2], offspring[1::2])):\n",
    "            if random.random() < CXPB:\n",
    "                toolbox.mate(child1, child2)\n",
    "                del child1.fitness.values\n",
    "                del child2.fitness.values\n",
    "\n",
    "        # Evaluate the individuals with an invalid fitness\n",
    "        invalid_ind = [ind for ind in offspring if not ind.fitness.valid]\n",
    "        fitnesses = map(toolbox.evaluate, invalid_ind)\n",
    "        for ind, fit in zip(invalid_ind, fitnesses):\n",
    "            ind.fitness.values = fit\n",
    "        #update hof\n",
    "\n",
    "        offspring = toolbox.select_best(offspring,POP_SIZE)\n",
    "        \n",
    "        hof.update(offspring)\n",
    "        return offspring"
   ]
  },
  {
   "cell_type": "code",
   "execution_count": 764,
   "metadata": {
    "scrolled": true
   },
   "outputs": [
    {
     "name": "stdout",
     "output_type": "stream",
     "text": [
      "29 \r"
     ]
    }
   ],
   "source": [
    "NGEN=30\n",
    "def main():\n",
    "#     pop = toolbox.population_guess(POP_SIZE)\n",
    "    pop=hof.items\n",
    "    hof.update(pop)\n",
    "    # Evaluate the entire population\n",
    "    fitnesses = map(toolbox.evaluate, pop)\n",
    "    for ind, fit in zip(pop, fitnesses):\n",
    "        ind.fitness.values = fit\n",
    "    for g in range(NGEN):\n",
    "        pop=evolve(pop,hof)\n",
    "        print (g,\"\\r\",end=\"\")\n",
    "    return pop\n",
    "pop=main()"
   ]
  },
  {
   "cell_type": "code",
   "execution_count": 2,
   "metadata": {},
   "outputs": [
    {
     "ename": "NameError",
     "evalue": "name 'hof' is not defined",
     "output_type": "error",
     "traceback": [
      "\u001b[0;31m---------------------------------------------------------------------------\u001b[0m",
      "\u001b[0;31mNameError\u001b[0m                                 Traceback (most recent call last)",
      "\u001b[0;32m<ipython-input-2-1f90f3f9507a>\u001b[0m in \u001b[0;36m<module>\u001b[0;34m\u001b[0m\n\u001b[1;32m      7\u001b[0m \u001b[0;31m# pl(pop)\u001b[0m\u001b[0;34m\u001b[0m\u001b[0;34m\u001b[0m\u001b[0;34m\u001b[0m\u001b[0m\n\u001b[1;32m      8\u001b[0m \u001b[0;31m# len(pop)\u001b[0m\u001b[0;34m\u001b[0m\u001b[0;34m\u001b[0m\u001b[0;34m\u001b[0m\u001b[0m\n\u001b[0;32m----> 9\u001b[0;31m \u001b[0mpl\u001b[0m\u001b[0;34m(\u001b[0m\u001b[0mhof\u001b[0m\u001b[0;34m)\u001b[0m\u001b[0;34m\u001b[0m\u001b[0;34m\u001b[0m\u001b[0m\n\u001b[0m",
      "\u001b[0;31mNameError\u001b[0m: name 'hof' is not defined"
     ]
    }
   ],
   "source": [
    "def pl(l):\n",
    "    for p in l:\n",
    "        print(p,p.fitness)\n",
    "# pl(pop)\n",
    "# pop=evolve(pop)\n",
    "# print(\"new\")\n",
    "# pl(pop)\n",
    "# len(pop)\n",
    "pl(hof)"
   ]
  },
  {
   "cell_type": "code",
   "execution_count": 3,
   "metadata": {},
   "outputs": [
    {
     "ename": "NameError",
     "evalue": "name 'toolbox' is not defined",
     "output_type": "error",
     "traceback": [
      "\u001b[0;31m---------------------------------------------------------------------------\u001b[0m",
      "\u001b[0;31mNameError\u001b[0m                                 Traceback (most recent call last)",
      "\u001b[0;32m<ipython-input-3-4295c5db3a2b>\u001b[0m in \u001b[0;36m<module>\u001b[0;34m\u001b[0m\n\u001b[1;32m      2\u001b[0m \u001b[0;34m\u001b[0m\u001b[0m\n\u001b[1;32m      3\u001b[0m \u001b[0;31m# toolbox.select_random(pop,POP_SIZE//2)\u001b[0m\u001b[0;34m\u001b[0m\u001b[0;34m\u001b[0m\u001b[0;34m\u001b[0m\u001b[0m\n\u001b[0;32m----> 4\u001b[0;31m \u001b[0mpop\u001b[0m\u001b[0;34m=\u001b[0m\u001b[0mtoolbox\u001b[0m\u001b[0;34m.\u001b[0m\u001b[0mpopulation_guess\u001b[0m\u001b[0;34m(\u001b[0m\u001b[0mPOP_SIZE\u001b[0m\u001b[0;34m)\u001b[0m\u001b[0;34m\u001b[0m\u001b[0;34m\u001b[0m\u001b[0m\n\u001b[0m",
      "\u001b[0;31mNameError\u001b[0m: name 'toolbox' is not defined"
     ]
    }
   ],
   "source": [
    "#how does mutation work?\n",
    "\n",
    "# toolbox.select_random(pop,POP_SIZE//2)\n",
    "pop=toolbox.population_guess(POP_SIZE)"
   ]
  },
  {
   "cell_type": "code",
   "execution_count": 4,
   "metadata": {},
   "outputs": [
    {
     "ename": "NameError",
     "evalue": "name 'pop' is not defined",
     "output_type": "error",
     "traceback": [
      "\u001b[0;31m---------------------------------------------------------------------------\u001b[0m",
      "\u001b[0;31mNameError\u001b[0m                                 Traceback (most recent call last)",
      "\u001b[0;32m<ipython-input-4-7599e22d6e94>\u001b[0m in \u001b[0;36m<module>\u001b[0;34m\u001b[0m\n\u001b[0;32m----> 1\u001b[0;31m \u001b[0mc1\u001b[0m\u001b[0;34m,\u001b[0m\u001b[0mc2\u001b[0m\u001b[0;34m=\u001b[0m\u001b[0mpop\u001b[0m\u001b[0;34m[\u001b[0m\u001b[0;36m0\u001b[0m\u001b[0;34m]\u001b[0m\u001b[0;34m,\u001b[0m\u001b[0mpop\u001b[0m\u001b[0;34m[\u001b[0m\u001b[0;36m2\u001b[0m\u001b[0;34m]\u001b[0m\u001b[0;34m\u001b[0m\u001b[0;34m\u001b[0m\u001b[0m\n\u001b[0m\u001b[1;32m      2\u001b[0m \u001b[0;31m# Select the next generation individuals\u001b[0m\u001b[0;34m\u001b[0m\u001b[0;34m\u001b[0m\u001b[0;34m\u001b[0m\u001b[0m\n\u001b[1;32m      3\u001b[0m \u001b[0mtoolbox\u001b[0m\u001b[0;34m.\u001b[0m\u001b[0mselect\u001b[0m\u001b[0;34m(\u001b[0m\u001b[0mpop\u001b[0m\u001b[0;34m,\u001b[0m \u001b[0;36m5\u001b[0m\u001b[0;34m)\u001b[0m\u001b[0;34m\u001b[0m\u001b[0;34m\u001b[0m\u001b[0m\n\u001b[1;32m      4\u001b[0m \u001b[0;31m# # Clone the selected individuals\u001b[0m\u001b[0;34m\u001b[0m\u001b[0;34m\u001b[0m\u001b[0;34m\u001b[0m\u001b[0m\n\u001b[1;32m      5\u001b[0m \u001b[0;31m# offspring = list(map(toolbox.clone, offspring))\u001b[0m\u001b[0;34m\u001b[0m\u001b[0;34m\u001b[0m\u001b[0;34m\u001b[0m\u001b[0m\n",
      "\u001b[0;31mNameError\u001b[0m: name 'pop' is not defined"
     ]
    }
   ],
   "source": [
    "c1,c2=pop[0],pop[2]\n",
    "# Select the next generation individuals\n",
    "toolbox.select(pop, 5)\n",
    "# # Clone the selected individuals\n",
    "# offspring = list(map(toolbox.clone, offspring))\n",
    "# # Apply crossover and mutation on the offspring\n",
    "# for child1, child2 in list(zip(offspring[::2], offspring[1::2])):\n",
    "#     if random.random() < CXPB:\n",
    "#         toolbox.mate(child1, child2)\n",
    "#         del child1.fitness.values\n",
    "#         del child2.fitness.values\n",
    "# print(c1,c2)\n",
    "# print(tools.cxTwoPoint(c1,c2,))"
   ]
  },
  {
   "cell_type": "code",
   "execution_count": 765,
   "metadata": {},
   "outputs": [
    {
     "data": {
      "application/vnd.jupyter.widget-view+json": {
       "model_id": "50ac9452b2da4c52ad4aadb72e6e996a",
       "version_major": 2,
       "version_minor": 0
      },
      "text/plain": [
       "GridspecLayout(children=(Output(layout=Layout(grid_area='widget001')), Output(layout=Layout(grid_area='widget0…"
      ]
     },
     "metadata": {},
     "output_type": "display_data"
    }
   ],
   "source": [
    "# What did our DAEP search return?\n",
    "\n",
    "z=hof.items.copy()\n",
    "# z=pop\n",
    "def mutateArray(a,e=0.5,t=0.5):\n",
    "    r=pd.DataFrame([a],columns=param_cols)\n",
    "    pset=rToParams(r.iloc[0])\n",
    "    pset.mutate(e,t)\n",
    "    return pset\n",
    "\n",
    "\n",
    "x,y=4,int((len(z)/4))\n",
    "grid=[]\n",
    "grid = GridspecLayout(x, y)\n",
    "for i in range(x):\n",
    "    for j in range(y):\n",
    "        o= widgets.Output()\n",
    "        sample_number=i+j+(i*(y-1))\n",
    "        pset=mutateArray(z[sample_number],e=0,t=0)\n",
    "#         print()\n",
    "        try:\n",
    "            out=pg.ensemble([pset])\n",
    "            with o:\n",
    "                display(Audio(hp.memToAud(out),rate=sr,autoplay=False,embed=True),evaluate(z[sample_number]))\n",
    "            grid[i, j] = o\n",
    "        except:\n",
    "            continue\n",
    "display(grid)"
   ]
  }
 ],
 "metadata": {
  "kernelspec": {
   "display_name": "Python 3",
   "language": "python",
   "name": "python3"
  },
  "language_info": {
   "codemirror_mode": {
    "name": "ipython",
    "version": 3
   },
   "file_extension": ".py",
   "mimetype": "text/x-python",
   "name": "python",
   "nbconvert_exporter": "python",
   "pygments_lexer": "ipython3",
   "version": "3.7.4"
  }
 },
 "nbformat": 4,
 "nbformat_minor": 4
}
