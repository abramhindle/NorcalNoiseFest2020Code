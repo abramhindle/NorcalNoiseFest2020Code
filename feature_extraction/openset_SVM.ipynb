{
 "cells": [
  {
   "cell_type": "code",
   "execution_count": 225,
   "metadata": {},
   "outputs": [
    {
     "name": "stdout",
     "output_type": "stream",
     "text": [
      "[0.98511577 0.98787211 0.98897464 0.98787211 0.99007718]\n",
      "[[818   6]\n",
      " [ 11 374]]\n",
      "              precision    recall  f1-score   support\n",
      "\n",
      "           0       0.99      0.99      0.99       824\n",
      "           1       0.98      0.97      0.98       385\n",
      "\n",
      "    accuracy                           0.99      1209\n",
      "   macro avg       0.99      0.98      0.98      1209\n",
      "weighted avg       0.99      0.99      0.99      1209\n",
      "\n"
     ]
    }
   ],
   "source": [
    "import numpy as np\n",
    "import pandas as pd\n",
    "import random\n",
    "import mir_utils as miru\n",
    "import sounddevice as sd\n",
    "import matplotlib.pyplot as plt\n",
    "\n",
    "from sklearn.neural_network import MLPClassifier\n",
    "from sklearn.neighbors import KNeighborsClassifier\n",
    "from sklearn.svm import SVC\n",
    "from sklearn import svm\n",
    "from sklearn.gaussian_process import GaussianProcessClassifier\n",
    "from sklearn.gaussian_process.kernels import RBF\n",
    "from sklearn.tree import DecisionTreeClassifier\n",
    "from sklearn.ensemble import RandomForestClassifier, AdaBoostClassifier\n",
    "from sklearn.naive_bayes import GaussianNB\n",
    "from sklearn.discriminant_analysis import QuadraticDiscriminantAnalysis\n",
    "import numpy as np\n",
    "from sklearn.pipeline import make_pipeline\n",
    "from sklearn.preprocessing import StandardScaler\n",
    "from sklearn.utils.class_weight import compute_class_weight\n",
    "\n",
    "from sklearn.model_selection import train_test_split\n",
    "from sklearn import preprocessing\n",
    "# from sklearn.metrics import classification_report, confusion_matrix\n",
    "from yellowbrick.classifier import ConfusionMatrix\n",
    "from ast import literal_eval\n",
    "from sklearn.model_selection import ShuffleSplit\n",
    "from sklearn.model_selection import cross_val_score\n",
    "\n",
    "from sklearn.metrics import f1_score\n",
    "from sklearn.pipeline import Pipeline\n",
    "from sklearn.svm import LinearSVC, NuSVC, SVC\n",
    "from sklearn.neighbors import KNeighborsClassifier, NearestCentroid\n",
    "from sklearn.preprocessing import OneHotEncoder, LabelEncoder\n",
    "from sklearn.linear_model import LogisticRegressionCV, LogisticRegression, SGDClassifier\n",
    "from sklearn.ensemble import BaggingClassifier, ExtraTreesClassifier, RandomForestClassifier\n",
    "import warnings\n",
    "warnings.filterwarnings('ignore')\n",
    "\n",
    "#free style version in openset CNN at bottom\n",
    "def fitModel(encoding_path,dvn=True):\n",
    "    \n",
    "    if dvn:\n",
    "        label_groups=\"label\" #do drum vs not drum\n",
    "    else:\n",
    "        label_groups=\"drum_type\" #do drum vs drum vs notdrum\n",
    "        \n",
    "    testFraction=0.2\n",
    "    #load same data as t-SNE but train SVM with it    \n",
    "\n",
    "    df=pd.read_csv(encoding_path)\n",
    "    df=df.loc[df[\"drum_type\"].isin([\"clap\",\"hat\",\"kick\",\"snare\",\"synth_noise\"])]  \n",
    "#     print(df.groupby([label_groups]).agg(\"count\")[\"path\"])#sample counts\n",
    "\n",
    "\n",
    "    #preperocessing\n",
    "    le = preprocessing.LabelEncoder()\n",
    "    le.fit(df[label_groups])\n",
    "    le.transform(df[label_groups])\n",
    "    df[label_groups]=le.transform(df[label_groups])\n",
    "    y_counts=df.groupby([label_groups]).agg(\"count\")[\"path\"] #for weights\n",
    "\n",
    "\n",
    "    #calculating weights\n",
    "    wdict=y_counts.to_dict()\n",
    "    total = sum(wdict.values(), 0.0)\n",
    "    class_weights = {k: (total-v) / total for k, v in wdict.items()}\n",
    "    y=df[label_groups]\n",
    "\n",
    "    df[\"feats\"]=df[\"feats\"].apply(literal_eval)\n",
    "    #df[feats] is an array of lists, needs conversion to ndArray\n",
    "    X=np.array([np.array(x) for x in df[\"feats\"].to_numpy()])\n",
    "    wdict=y_counts.to_dict()\n",
    "    total = sum(wdict.values(), 0.0)\n",
    "    class_weights = {k: (total-v) / total for k, v in wdict.items()}\n",
    "\n",
    "\n",
    "    classifier = make_pipeline(StandardScaler(), ExtraTreesClassifier(n_estimators=1100,class_weight=class_weights))\n",
    "\n",
    "    X_train, X_test, y_train, y_test = train_test_split(X, y, test_size=testFraction, random_state=42,)\n",
    "    cv = ShuffleSplit(n_splits=5, test_size=0.3, random_state=0)\n",
    "    print(cross_val_score(classifier, X, y, cv=cv))\n",
    "    classifier.fit(X_train, y_train,)\n",
    "    y_pred = classifier.predict(X_test)\n",
    "\n",
    "\n",
    "    return classifier, X_train, X_test, y_train, y_test,y_pred,le,X,y,class_weights,\n",
    "\n",
    "p1=\"csvs/radarfree_best_emb.csv\"\n",
    "p2=\"csvs/radarfree_best_embenv.csv\" #good\n",
    "\n",
    "# classifier, X1_train, X1_test, y1_train, y1_test,y1_pred,le1,X1,y1,class_weights  = fitModel(p1)\n",
    "# print(confusion_matrix(y1_test,y1_pred))\n",
    "# print(classification_report(le1.inverse_transform(y1_test),le1.inverse_transform(y1_pred)))\n",
    "\n",
    "classifier, X2_train, X2_test, y2_train, y2_test,y2_pred,le2,X2,y2,_  = fitModel(p2)\n",
    "print(confusion_matrix(y2_test,y2_pred))\n",
    "print(classification_report(le2.inverse_transform(y2_test),le2.inverse_transform(y2_pred)))\n"
   ]
  },
  {
   "cell_type": "code",
   "execution_count": null,
   "metadata": {
    "jupyter": {
     "source_hidden": true
    }
   },
   "outputs": [],
   "source": [
    "#confusion cell\n",
    "from yellowbrick.classifier import ClassificationReport,ConfusionMatrix\n",
    "\n",
    "visualizer = ClassificationReport(classifier,classes=le.classes_, support=True)\n",
    "\n",
    "visualizer.fit(X_train, y_train)  # Fit the visualizer and the model\n",
    "visualizer.score(X_test, y_test)  # Evaluate the model on the test data\n",
    "visualizer.poof()\n",
    "\n",
    "# The ConfusionMatrix visualizer taxes a model\n",
    "cm = ConfusionMatrix(classifier, classes=le.classes_)\n",
    "\n",
    "# Fit fits the passed model. This is unnecessary if you pass the visualizer a pre-fitted model\n",
    "cm.fit(X_train, y_train)\n",
    "\n",
    "# To create the ConfusionMatrix, we need some test data. Score runs predict() on the data\n",
    "# and then creates the confusion_matrix from scikit-learn.\n",
    "\n",
    "cm.score(X_test, y_test)\n",
    "\n",
    "# How did we do?\n",
    "cm.show()\n"
   ]
  },
  {
   "cell_type": "code",
   "execution_count": null,
   "metadata": {
    "scrolled": true
   },
   "outputs": [],
   "source": [
    "models = [\n",
    "    SVC(gamma=0.001,C= 100,kernel='rbf',class_weight=class_weights), LinearSVC(C=10,class_weight=class_weights), \n",
    "    KNeighborsClassifier(n_neighbors=30,),\n",
    "    RandomForestClassifier(n_estimators=300,class_weight=class_weights), ExtraTreesClassifier(n_estimators=1100,class_weight=class_weights),\n",
    "]\n",
    "# models = [\n",
    "#     SVC(gamma=0.0001,C= 1000,kernel='rbf',class_weight=class_weights), LinearSVC(C=10,class_weight=class_weights), \n",
    "#     KNeighborsClassifier(n_neighbors=5,),\n",
    "#     RandomForestClassifier(n_estimators=400,class_weight=class_weights), ExtraTreesClassifier(n_estimators=1000,class_weight=class_weights)]#dvn\n",
    "  \n"
   ]
  },
  {
   "cell_type": "markdown",
   "metadata": {},
   "source": [
    "# tuning cell"
   ]
  },
  {
   "cell_type": "code",
   "execution_count": null,
   "metadata": {
    "jupyter": {
     "source_hidden": true
    },
    "scrolled": true
   },
   "outputs": [],
   "source": [
    "\n",
    "from sklearn.model_selection import GridSearchCV\n",
    "\n",
    "from sklearn import datasets\n",
    "from sklearn.model_selection import train_test_split\n",
    "from sklearn.model_selection import GridSearchCV\n",
    "from sklearn.metrics import classification_report\n",
    "from sklearn.svm import SVC\n",
    "\n",
    "# Split the dataset in two equal parts\n",
    "X2_train, X2_test, y2_train, y2_test = train_test_split(\n",
    "    X, y, test_size=0.5, random_state=0)\n",
    "\n",
    "# Set the parameters by cross-validation\n",
    "# tuned_parameters = [{\n",
    "#                      'n_neighbors': [2,5,10,20,30]},\n",
    "#                     ]\n",
    "tuned_parameters = [{\n",
    "                     'n_estimators': [1100,1300,800,400,300]},\n",
    "                    ]\n",
    "# tuned_parameters = [{'kernel': ['rbf'], 'gamma': [1e-3, 1e-4],\n",
    "#                      'C': [1, 10, 100, 1000,1500,2000,]},\n",
    "#                     {'kernel': ['linear'], 'C': [1, 10, 100, 1000]}]\n",
    "\n",
    "\n",
    "scores = ['f1','jaccard']\n",
    "\n",
    "for score in scores:\n",
    "    print(\"# Tuning hyper-parameters for %s\" % score)\n",
    "    print()\n",
    "\n",
    "    clf = GridSearchCV(\n",
    "         RandomForestClassifier(), tuned_parameters, scoring='%s_macro' % score\n",
    "    )\n",
    "    clf.fit(X_train, y_train,)\n",
    "\n",
    "    print(\"Best parameters set found on development set:\")\n",
    "    print()\n",
    "    print(clf.best_params_)\n",
    "    print()\n",
    "    print(\"Grid scores on development set:\")\n",
    "    print()\n",
    "    means = clf.cv_results_['mean_test_score']\n",
    "    stds = clf.cv_results_['std_test_score']\n",
    "    for mean, std, params in zip(means, stds, clf.cv_results_['params']):\n",
    "        print(\"%0.3f (+/-%0.03f) for %r\"\n",
    "              % (mean, std * 2, params))\n",
    "    print()\n",
    "\n",
    "    print(\"Detailed classification report:\")\n",
    "    print()\n",
    "    print(\"The model is trained on the full development set.\")\n",
    "    print(\"The scores are computed on the full evaluation set.\")\n",
    "    print()\n",
    "    y_true, y_pred = y_test, clf.predict(X_test)\n",
    "    print(classification_report(y_true, y_pred))\n",
    "    print()\n",
    "\n"
   ]
  },
  {
   "cell_type": "code",
   "execution_count": 187,
   "metadata": {},
   "outputs": [],
   "source": [
    "import plotly.graph_objects as go\n",
    "import plotly\n",
    "import plotly.express as px\n",
    "from kaleido.scopes.plotly import PlotlyScope\n",
    "colors1=plotly.colors.sequential.Tealgrn[2:]\n",
    "colors2=plotly.colors.sequential.Tealgrn_r[2:]\n",
    "scope = PlotlyScope()\n",
    "fig = go.Figure()\n",
    "\n",
    "# df = pread_csvcsv(\"csvs/mme_comparisons.csv\")\n",
    "df=pd.DataFrame(columns=[\"model\",\"feat_type\",\"y\"])\n",
    "\n",
    "for i,model in enumerate(models):\n",
    "    cv = ShuffleSplit(n_splits=10, test_size=0.2, random_state=0) # for quick test\n",
    "    name=type(model).__name__.split(\"Class\")[0]\n",
    "    for y in cross_val_score(model, X2, y2, cv=cv):\n",
    "        df.loc[len(df)]=[name,\"Embedding+Envelope\",y]   \n",
    "    for y in cross_val_score(model, X1, y1, cv=cv):\n",
    "        df.loc[len(df)]=[name,\"Embedding Only\",y] \n",
    "\n",
    "\n",
    "df=df[::-1] #legend gets in the way"
   ]
  },
  {
   "cell_type": "code",
   "execution_count": 216,
   "metadata": {},
   "outputs": [
    {
     "data": {
      "application/vnd.plotly.v1+json": {
       "config": {
        "plotlyServerURL": "https://plot.ly"
       },
       "data": [
        {
         "alignmentgroup": "True",
         "boxmean": "sd",
         "boxpoints": "all",
         "hovertemplate": "feat_type=Embedding Only<br>model=%{x}<br>y=%{y}<extra></extra>",
         "legendgroup": "Embedding Only",
         "marker": {
          "color": "#00AA77"
         },
         "name": "Embedding Only",
         "notched": false,
         "offsetgroup": "Embedding Only",
         "orientation": "v",
         "showlegend": true,
         "type": "box",
         "x": [
          "ExtraTrees",
          "ExtraTrees",
          "ExtraTrees",
          "ExtraTrees",
          "ExtraTrees",
          "ExtraTrees",
          "ExtraTrees",
          "ExtraTrees",
          "ExtraTrees",
          "ExtraTrees",
          "RandomForest",
          "RandomForest",
          "RandomForest",
          "RandomForest",
          "RandomForest",
          "RandomForest",
          "RandomForest",
          "RandomForest",
          "RandomForest",
          "RandomForest",
          "KNeighbors",
          "KNeighbors",
          "KNeighbors",
          "KNeighbors",
          "KNeighbors",
          "KNeighbors",
          "KNeighbors",
          "KNeighbors",
          "KNeighbors",
          "KNeighbors",
          "LinearSVC",
          "LinearSVC",
          "LinearSVC",
          "LinearSVC",
          "LinearSVC",
          "LinearSVC",
          "LinearSVC",
          "LinearSVC",
          "LinearSVC",
          "LinearSVC",
          "SVC",
          "SVC",
          "SVC",
          "SVC",
          "SVC",
          "SVC",
          "SVC",
          "SVC",
          "SVC",
          "SVC"
         ],
         "x0": " ",
         "xaxis": "x",
         "y": [
          0.9710504549214226,
          0.976840363937138,
          0.9727047146401984,
          0.9727047146401984,
          0.967741935483871,
          0.98014888337469,
          0.977667493796526,
          0.9751861042183624,
          0.9727047146401984,
          0.9652605459057072,
          0.9710504549214226,
          0.9751861042183624,
          0.9693961952026467,
          0.9727047146401984,
          0.9702233250620348,
          0.9784946236559141,
          0.9743589743589745,
          0.9743589743589745,
          0.9693961952026467,
          0.9660876757650952,
          0.9660876757650952,
          0.9760132340777502,
          0.9644334160463192,
          0.9693961952026467,
          0.9602977667493796,
          0.9751861042183624,
          0.9735318444995864,
          0.9760132340777502,
          0.9702233250620348,
          0.9636062861869312,
          0.9660876757650952,
          0.9727047146401984,
          0.9644334160463192,
          0.9619520264681556,
          0.9644334160463192,
          0.9751861042183624,
          0.9702233250620348,
          0.977667493796526,
          0.9685690653432588,
          0.9636062861869312,
          0.9693961952026467,
          0.976840363937138,
          0.9702233250620348,
          0.9669148056244832,
          0.9693961952026467,
          0.9809760132340778,
          0.9727047146401984,
          0.98014888337469,
          0.9718775847808104,
          0.9693961952026467
         ],
         "y0": " ",
         "yaxis": "y"
        },
        {
         "alignmentgroup": "True",
         "boxmean": "sd",
         "boxpoints": "all",
         "hovertemplate": "feat_type=Embedding+Envelope<br>model=%{x}<br>y=%{y}<extra></extra>",
         "legendgroup": "Embedding+Envelope",
         "marker": {
          "color": "#3388BB"
         },
         "name": "Embedding+Envelope",
         "notched": false,
         "offsetgroup": "Embedding+Envelope",
         "orientation": "v",
         "showlegend": true,
         "type": "box",
         "x": [
          "ExtraTrees",
          "ExtraTrees",
          "ExtraTrees",
          "ExtraTrees",
          "ExtraTrees",
          "ExtraTrees",
          "ExtraTrees",
          "ExtraTrees",
          "ExtraTrees",
          "ExtraTrees",
          "RandomForest",
          "RandomForest",
          "RandomForest",
          "RandomForest",
          "RandomForest",
          "RandomForest",
          "RandomForest",
          "RandomForest",
          "RandomForest",
          "RandomForest",
          "KNeighbors",
          "KNeighbors",
          "KNeighbors",
          "KNeighbors",
          "KNeighbors",
          "KNeighbors",
          "KNeighbors",
          "KNeighbors",
          "KNeighbors",
          "KNeighbors",
          "LinearSVC",
          "LinearSVC",
          "LinearSVC",
          "LinearSVC",
          "LinearSVC",
          "LinearSVC",
          "LinearSVC",
          "LinearSVC",
          "LinearSVC",
          "LinearSVC",
          "SVC",
          "SVC",
          "SVC",
          "SVC",
          "SVC",
          "SVC",
          "SVC",
          "SVC",
          "SVC",
          "SVC"
         ],
         "x0": " ",
         "xaxis": "x",
         "y": [
          0.9842845326716294,
          0.9842845326716294,
          0.9859387923904052,
          0.9859387923904052,
          0.9826302729528535,
          0.9867659222497932,
          0.9867659222497932,
          0.9867659222497932,
          0.9875930521091812,
          0.98014888337469,
          0.9834574028122416,
          0.9884201819685692,
          0.9851116625310172,
          0.9867659222497932,
          0.9818031430934656,
          0.9859387923904052,
          0.9826302729528535,
          0.9859387923904052,
          0.9867659222497932,
          0.979321753515302,
          0.9710504549214226,
          0.979321753515302,
          0.9702233250620348,
          0.9710504549214226,
          0.967741935483871,
          0.977667493796526,
          0.9718775847808104,
          0.9809760132340778,
          0.9727047146401984,
          0.9627791563275434,
          0.9818031430934656,
          0.98014888337469,
          0.9826302729528535,
          0.98014888337469,
          0.976840363937138,
          0.9818031430934656,
          0.9859387923904052,
          0.98014888337469,
          0.9809760132340778,
          0.98014888337469,
          0.9842845326716294,
          0.9867659222497932,
          0.98014888337469,
          0.979321753515302,
          0.979321753515302,
          0.9809760132340778,
          0.9834574028122416,
          0.9842845326716294,
          0.9851116625310172,
          0.9826302729528535
         ],
         "y0": " ",
         "yaxis": "y"
        }
       ],
       "layout": {
        "autosize": false,
        "boxgap": 0.4,
        "boxgroupgap": 0.4,
        "boxmode": "group",
        "font": {
         "family": "Times New Roman",
         "size": 18
        },
        "height": 400,
        "legend": {
         "bgcolor": "rgba(110,150,160,0.1)",
         "orientation": "h",
         "title": {
          "text": "Feature Type:"
         },
         "tracegroupgap": 0,
         "x": 1,
         "xanchor": "right",
         "y": 1,
         "yanchor": "top"
        },
        "margin": {
         "b": 3,
         "l": 0,
         "r": 5,
         "t": 1
        },
        "template": {
         "data": {
          "bar": [
           {
            "error_x": {
             "color": "rgb(36,36,36)"
            },
            "error_y": {
             "color": "rgb(36,36,36)"
            },
            "marker": {
             "line": {
              "color": "rgb(234,234,242)",
              "width": 0.5
             }
            },
            "type": "bar"
           }
          ],
          "barpolar": [
           {
            "marker": {
             "line": {
              "color": "rgb(234,234,242)",
              "width": 0.5
             }
            },
            "type": "barpolar"
           }
          ],
          "carpet": [
           {
            "aaxis": {
             "endlinecolor": "rgb(36,36,36)",
             "gridcolor": "white",
             "linecolor": "white",
             "minorgridcolor": "white",
             "startlinecolor": "rgb(36,36,36)"
            },
            "baxis": {
             "endlinecolor": "rgb(36,36,36)",
             "gridcolor": "white",
             "linecolor": "white",
             "minorgridcolor": "white",
             "startlinecolor": "rgb(36,36,36)"
            },
            "type": "carpet"
           }
          ],
          "choropleth": [
           {
            "colorbar": {
             "outlinewidth": 0,
             "tickcolor": "rgb(36,36,36)",
             "ticklen": 8,
             "ticks": "outside",
             "tickwidth": 2
            },
            "type": "choropleth"
           }
          ],
          "contour": [
           {
            "colorbar": {
             "outlinewidth": 0,
             "tickcolor": "rgb(36,36,36)",
             "ticklen": 8,
             "ticks": "outside",
             "tickwidth": 2
            },
            "colorscale": [
             [
              0,
              "rgb(2,4,25)"
             ],
             [
              0.06274509803921569,
              "rgb(24,15,41)"
             ],
             [
              0.12549019607843137,
              "rgb(47,23,57)"
             ],
             [
              0.18823529411764706,
              "rgb(71,28,72)"
             ],
             [
              0.25098039215686274,
              "rgb(97,30,82)"
             ],
             [
              0.3137254901960784,
              "rgb(123,30,89)"
             ],
             [
              0.3764705882352941,
              "rgb(150,27,91)"
             ],
             [
              0.4392156862745098,
              "rgb(177,22,88)"
             ],
             [
              0.5019607843137255,
              "rgb(203,26,79)"
             ],
             [
              0.5647058823529412,
              "rgb(223,47,67)"
             ],
             [
              0.6274509803921569,
              "rgb(236,76,61)"
             ],
             [
              0.6901960784313725,
              "rgb(242,107,73)"
             ],
             [
              0.7529411764705882,
              "rgb(244,135,95)"
             ],
             [
              0.8156862745098039,
              "rgb(245,162,122)"
             ],
             [
              0.8784313725490196,
              "rgb(246,188,153)"
             ],
             [
              0.9411764705882353,
              "rgb(247,212,187)"
             ],
             [
              1,
              "rgb(250,234,220)"
             ]
            ],
            "type": "contour"
           }
          ],
          "contourcarpet": [
           {
            "colorbar": {
             "outlinewidth": 0,
             "tickcolor": "rgb(36,36,36)",
             "ticklen": 8,
             "ticks": "outside",
             "tickwidth": 2
            },
            "type": "contourcarpet"
           }
          ],
          "heatmap": [
           {
            "colorbar": {
             "outlinewidth": 0,
             "tickcolor": "rgb(36,36,36)",
             "ticklen": 8,
             "ticks": "outside",
             "tickwidth": 2
            },
            "colorscale": [
             [
              0,
              "rgb(2,4,25)"
             ],
             [
              0.06274509803921569,
              "rgb(24,15,41)"
             ],
             [
              0.12549019607843137,
              "rgb(47,23,57)"
             ],
             [
              0.18823529411764706,
              "rgb(71,28,72)"
             ],
             [
              0.25098039215686274,
              "rgb(97,30,82)"
             ],
             [
              0.3137254901960784,
              "rgb(123,30,89)"
             ],
             [
              0.3764705882352941,
              "rgb(150,27,91)"
             ],
             [
              0.4392156862745098,
              "rgb(177,22,88)"
             ],
             [
              0.5019607843137255,
              "rgb(203,26,79)"
             ],
             [
              0.5647058823529412,
              "rgb(223,47,67)"
             ],
             [
              0.6274509803921569,
              "rgb(236,76,61)"
             ],
             [
              0.6901960784313725,
              "rgb(242,107,73)"
             ],
             [
              0.7529411764705882,
              "rgb(244,135,95)"
             ],
             [
              0.8156862745098039,
              "rgb(245,162,122)"
             ],
             [
              0.8784313725490196,
              "rgb(246,188,153)"
             ],
             [
              0.9411764705882353,
              "rgb(247,212,187)"
             ],
             [
              1,
              "rgb(250,234,220)"
             ]
            ],
            "type": "heatmap"
           }
          ],
          "heatmapgl": [
           {
            "colorbar": {
             "outlinewidth": 0,
             "tickcolor": "rgb(36,36,36)",
             "ticklen": 8,
             "ticks": "outside",
             "tickwidth": 2
            },
            "colorscale": [
             [
              0,
              "rgb(2,4,25)"
             ],
             [
              0.06274509803921569,
              "rgb(24,15,41)"
             ],
             [
              0.12549019607843137,
              "rgb(47,23,57)"
             ],
             [
              0.18823529411764706,
              "rgb(71,28,72)"
             ],
             [
              0.25098039215686274,
              "rgb(97,30,82)"
             ],
             [
              0.3137254901960784,
              "rgb(123,30,89)"
             ],
             [
              0.3764705882352941,
              "rgb(150,27,91)"
             ],
             [
              0.4392156862745098,
              "rgb(177,22,88)"
             ],
             [
              0.5019607843137255,
              "rgb(203,26,79)"
             ],
             [
              0.5647058823529412,
              "rgb(223,47,67)"
             ],
             [
              0.6274509803921569,
              "rgb(236,76,61)"
             ],
             [
              0.6901960784313725,
              "rgb(242,107,73)"
             ],
             [
              0.7529411764705882,
              "rgb(244,135,95)"
             ],
             [
              0.8156862745098039,
              "rgb(245,162,122)"
             ],
             [
              0.8784313725490196,
              "rgb(246,188,153)"
             ],
             [
              0.9411764705882353,
              "rgb(247,212,187)"
             ],
             [
              1,
              "rgb(250,234,220)"
             ]
            ],
            "type": "heatmapgl"
           }
          ],
          "histogram": [
           {
            "marker": {
             "colorbar": {
              "outlinewidth": 0,
              "tickcolor": "rgb(36,36,36)",
              "ticklen": 8,
              "ticks": "outside",
              "tickwidth": 2
             }
            },
            "type": "histogram"
           }
          ],
          "histogram2d": [
           {
            "colorbar": {
             "outlinewidth": 0,
             "tickcolor": "rgb(36,36,36)",
             "ticklen": 8,
             "ticks": "outside",
             "tickwidth": 2
            },
            "colorscale": [
             [
              0,
              "rgb(2,4,25)"
             ],
             [
              0.06274509803921569,
              "rgb(24,15,41)"
             ],
             [
              0.12549019607843137,
              "rgb(47,23,57)"
             ],
             [
              0.18823529411764706,
              "rgb(71,28,72)"
             ],
             [
              0.25098039215686274,
              "rgb(97,30,82)"
             ],
             [
              0.3137254901960784,
              "rgb(123,30,89)"
             ],
             [
              0.3764705882352941,
              "rgb(150,27,91)"
             ],
             [
              0.4392156862745098,
              "rgb(177,22,88)"
             ],
             [
              0.5019607843137255,
              "rgb(203,26,79)"
             ],
             [
              0.5647058823529412,
              "rgb(223,47,67)"
             ],
             [
              0.6274509803921569,
              "rgb(236,76,61)"
             ],
             [
              0.6901960784313725,
              "rgb(242,107,73)"
             ],
             [
              0.7529411764705882,
              "rgb(244,135,95)"
             ],
             [
              0.8156862745098039,
              "rgb(245,162,122)"
             ],
             [
              0.8784313725490196,
              "rgb(246,188,153)"
             ],
             [
              0.9411764705882353,
              "rgb(247,212,187)"
             ],
             [
              1,
              "rgb(250,234,220)"
             ]
            ],
            "type": "histogram2d"
           }
          ],
          "histogram2dcontour": [
           {
            "colorbar": {
             "outlinewidth": 0,
             "tickcolor": "rgb(36,36,36)",
             "ticklen": 8,
             "ticks": "outside",
             "tickwidth": 2
            },
            "colorscale": [
             [
              0,
              "rgb(2,4,25)"
             ],
             [
              0.06274509803921569,
              "rgb(24,15,41)"
             ],
             [
              0.12549019607843137,
              "rgb(47,23,57)"
             ],
             [
              0.18823529411764706,
              "rgb(71,28,72)"
             ],
             [
              0.25098039215686274,
              "rgb(97,30,82)"
             ],
             [
              0.3137254901960784,
              "rgb(123,30,89)"
             ],
             [
              0.3764705882352941,
              "rgb(150,27,91)"
             ],
             [
              0.4392156862745098,
              "rgb(177,22,88)"
             ],
             [
              0.5019607843137255,
              "rgb(203,26,79)"
             ],
             [
              0.5647058823529412,
              "rgb(223,47,67)"
             ],
             [
              0.6274509803921569,
              "rgb(236,76,61)"
             ],
             [
              0.6901960784313725,
              "rgb(242,107,73)"
             ],
             [
              0.7529411764705882,
              "rgb(244,135,95)"
             ],
             [
              0.8156862745098039,
              "rgb(245,162,122)"
             ],
             [
              0.8784313725490196,
              "rgb(246,188,153)"
             ],
             [
              0.9411764705882353,
              "rgb(247,212,187)"
             ],
             [
              1,
              "rgb(250,234,220)"
             ]
            ],
            "type": "histogram2dcontour"
           }
          ],
          "mesh3d": [
           {
            "colorbar": {
             "outlinewidth": 0,
             "tickcolor": "rgb(36,36,36)",
             "ticklen": 8,
             "ticks": "outside",
             "tickwidth": 2
            },
            "type": "mesh3d"
           }
          ],
          "parcoords": [
           {
            "line": {
             "colorbar": {
              "outlinewidth": 0,
              "tickcolor": "rgb(36,36,36)",
              "ticklen": 8,
              "ticks": "outside",
              "tickwidth": 2
             }
            },
            "type": "parcoords"
           }
          ],
          "pie": [
           {
            "automargin": true,
            "type": "pie"
           }
          ],
          "scatter": [
           {
            "marker": {
             "colorbar": {
              "outlinewidth": 0,
              "tickcolor": "rgb(36,36,36)",
              "ticklen": 8,
              "ticks": "outside",
              "tickwidth": 2
             }
            },
            "type": "scatter"
           }
          ],
          "scatter3d": [
           {
            "line": {
             "colorbar": {
              "outlinewidth": 0,
              "tickcolor": "rgb(36,36,36)",
              "ticklen": 8,
              "ticks": "outside",
              "tickwidth": 2
             }
            },
            "marker": {
             "colorbar": {
              "outlinewidth": 0,
              "tickcolor": "rgb(36,36,36)",
              "ticklen": 8,
              "ticks": "outside",
              "tickwidth": 2
             }
            },
            "type": "scatter3d"
           }
          ],
          "scattercarpet": [
           {
            "marker": {
             "colorbar": {
              "outlinewidth": 0,
              "tickcolor": "rgb(36,36,36)",
              "ticklen": 8,
              "ticks": "outside",
              "tickwidth": 2
             }
            },
            "type": "scattercarpet"
           }
          ],
          "scattergeo": [
           {
            "marker": {
             "colorbar": {
              "outlinewidth": 0,
              "tickcolor": "rgb(36,36,36)",
              "ticklen": 8,
              "ticks": "outside",
              "tickwidth": 2
             }
            },
            "type": "scattergeo"
           }
          ],
          "scattergl": [
           {
            "marker": {
             "colorbar": {
              "outlinewidth": 0,
              "tickcolor": "rgb(36,36,36)",
              "ticklen": 8,
              "ticks": "outside",
              "tickwidth": 2
             }
            },
            "type": "scattergl"
           }
          ],
          "scattermapbox": [
           {
            "marker": {
             "colorbar": {
              "outlinewidth": 0,
              "tickcolor": "rgb(36,36,36)",
              "ticklen": 8,
              "ticks": "outside",
              "tickwidth": 2
             }
            },
            "type": "scattermapbox"
           }
          ],
          "scatterpolar": [
           {
            "marker": {
             "colorbar": {
              "outlinewidth": 0,
              "tickcolor": "rgb(36,36,36)",
              "ticklen": 8,
              "ticks": "outside",
              "tickwidth": 2
             }
            },
            "type": "scatterpolar"
           }
          ],
          "scatterpolargl": [
           {
            "marker": {
             "colorbar": {
              "outlinewidth": 0,
              "tickcolor": "rgb(36,36,36)",
              "ticklen": 8,
              "ticks": "outside",
              "tickwidth": 2
             }
            },
            "type": "scatterpolargl"
           }
          ],
          "scatterternary": [
           {
            "marker": {
             "colorbar": {
              "outlinewidth": 0,
              "tickcolor": "rgb(36,36,36)",
              "ticklen": 8,
              "ticks": "outside",
              "tickwidth": 2
             }
            },
            "type": "scatterternary"
           }
          ],
          "surface": [
           {
            "colorbar": {
             "outlinewidth": 0,
             "tickcolor": "rgb(36,36,36)",
             "ticklen": 8,
             "ticks": "outside",
             "tickwidth": 2
            },
            "colorscale": [
             [
              0,
              "rgb(2,4,25)"
             ],
             [
              0.06274509803921569,
              "rgb(24,15,41)"
             ],
             [
              0.12549019607843137,
              "rgb(47,23,57)"
             ],
             [
              0.18823529411764706,
              "rgb(71,28,72)"
             ],
             [
              0.25098039215686274,
              "rgb(97,30,82)"
             ],
             [
              0.3137254901960784,
              "rgb(123,30,89)"
             ],
             [
              0.3764705882352941,
              "rgb(150,27,91)"
             ],
             [
              0.4392156862745098,
              "rgb(177,22,88)"
             ],
             [
              0.5019607843137255,
              "rgb(203,26,79)"
             ],
             [
              0.5647058823529412,
              "rgb(223,47,67)"
             ],
             [
              0.6274509803921569,
              "rgb(236,76,61)"
             ],
             [
              0.6901960784313725,
              "rgb(242,107,73)"
             ],
             [
              0.7529411764705882,
              "rgb(244,135,95)"
             ],
             [
              0.8156862745098039,
              "rgb(245,162,122)"
             ],
             [
              0.8784313725490196,
              "rgb(246,188,153)"
             ],
             [
              0.9411764705882353,
              "rgb(247,212,187)"
             ],
             [
              1,
              "rgb(250,234,220)"
             ]
            ],
            "type": "surface"
           }
          ],
          "table": [
           {
            "cells": {
             "fill": {
              "color": "rgb(231,231,240)"
             },
             "line": {
              "color": "white"
             }
            },
            "header": {
             "fill": {
              "color": "rgb(183,183,191)"
             },
             "line": {
              "color": "white"
             }
            },
            "type": "table"
           }
          ]
         },
         "layout": {
          "annotationdefaults": {
           "arrowcolor": "rgb(67,103,167)"
          },
          "coloraxis": {
           "colorbar": {
            "outlinewidth": 0,
            "tickcolor": "rgb(36,36,36)",
            "ticklen": 8,
            "ticks": "outside",
            "tickwidth": 2
           }
          },
          "colorscale": {
           "sequential": [
            [
             0,
             "rgb(2,4,25)"
            ],
            [
             0.06274509803921569,
             "rgb(24,15,41)"
            ],
            [
             0.12549019607843137,
             "rgb(47,23,57)"
            ],
            [
             0.18823529411764706,
             "rgb(71,28,72)"
            ],
            [
             0.25098039215686274,
             "rgb(97,30,82)"
            ],
            [
             0.3137254901960784,
             "rgb(123,30,89)"
            ],
            [
             0.3764705882352941,
             "rgb(150,27,91)"
            ],
            [
             0.4392156862745098,
             "rgb(177,22,88)"
            ],
            [
             0.5019607843137255,
             "rgb(203,26,79)"
            ],
            [
             0.5647058823529412,
             "rgb(223,47,67)"
            ],
            [
             0.6274509803921569,
             "rgb(236,76,61)"
            ],
            [
             0.6901960784313725,
             "rgb(242,107,73)"
            ],
            [
             0.7529411764705882,
             "rgb(244,135,95)"
            ],
            [
             0.8156862745098039,
             "rgb(245,162,122)"
            ],
            [
             0.8784313725490196,
             "rgb(246,188,153)"
            ],
            [
             0.9411764705882353,
             "rgb(247,212,187)"
            ],
            [
             1,
             "rgb(250,234,220)"
            ]
           ],
           "sequentialminus": [
            [
             0,
             "rgb(2,4,25)"
            ],
            [
             0.06274509803921569,
             "rgb(24,15,41)"
            ],
            [
             0.12549019607843137,
             "rgb(47,23,57)"
            ],
            [
             0.18823529411764706,
             "rgb(71,28,72)"
            ],
            [
             0.25098039215686274,
             "rgb(97,30,82)"
            ],
            [
             0.3137254901960784,
             "rgb(123,30,89)"
            ],
            [
             0.3764705882352941,
             "rgb(150,27,91)"
            ],
            [
             0.4392156862745098,
             "rgb(177,22,88)"
            ],
            [
             0.5019607843137255,
             "rgb(203,26,79)"
            ],
            [
             0.5647058823529412,
             "rgb(223,47,67)"
            ],
            [
             0.6274509803921569,
             "rgb(236,76,61)"
            ],
            [
             0.6901960784313725,
             "rgb(242,107,73)"
            ],
            [
             0.7529411764705882,
             "rgb(244,135,95)"
            ],
            [
             0.8156862745098039,
             "rgb(245,162,122)"
            ],
            [
             0.8784313725490196,
             "rgb(246,188,153)"
            ],
            [
             0.9411764705882353,
             "rgb(247,212,187)"
            ],
            [
             1,
             "rgb(250,234,220)"
            ]
           ]
          },
          "colorway": [
           "rgb(76,114,176)",
           "rgb(221,132,82)",
           "rgb(85,168,104)",
           "rgb(196,78,82)",
           "rgb(129,114,179)",
           "rgb(147,120,96)",
           "rgb(218,139,195)",
           "rgb(140,140,140)",
           "rgb(204,185,116)",
           "rgb(100,181,205)"
          ],
          "font": {
           "color": "rgb(36,36,36)"
          },
          "geo": {
           "bgcolor": "white",
           "lakecolor": "white",
           "landcolor": "rgb(234,234,242)",
           "showlakes": true,
           "showland": true,
           "subunitcolor": "white"
          },
          "hoverlabel": {
           "align": "left"
          },
          "hovermode": "closest",
          "paper_bgcolor": "white",
          "plot_bgcolor": "rgb(234,234,242)",
          "polar": {
           "angularaxis": {
            "gridcolor": "white",
            "linecolor": "white",
            "showgrid": true,
            "ticks": ""
           },
           "bgcolor": "rgb(234,234,242)",
           "radialaxis": {
            "gridcolor": "white",
            "linecolor": "white",
            "showgrid": true,
            "ticks": ""
           }
          },
          "scene": {
           "xaxis": {
            "backgroundcolor": "rgb(234,234,242)",
            "gridcolor": "white",
            "gridwidth": 2,
            "linecolor": "white",
            "showbackground": true,
            "showgrid": true,
            "ticks": "",
            "zerolinecolor": "white"
           },
           "yaxis": {
            "backgroundcolor": "rgb(234,234,242)",
            "gridcolor": "white",
            "gridwidth": 2,
            "linecolor": "white",
            "showbackground": true,
            "showgrid": true,
            "ticks": "",
            "zerolinecolor": "white"
           },
           "zaxis": {
            "backgroundcolor": "rgb(234,234,242)",
            "gridcolor": "white",
            "gridwidth": 2,
            "linecolor": "white",
            "showbackground": true,
            "showgrid": true,
            "ticks": "",
            "zerolinecolor": "white"
           }
          },
          "shapedefaults": {
           "fillcolor": "rgb(67,103,167)",
           "line": {
            "width": 0
           },
           "opacity": 0.5
          },
          "ternary": {
           "aaxis": {
            "gridcolor": "white",
            "linecolor": "white",
            "showgrid": true,
            "ticks": ""
           },
           "baxis": {
            "gridcolor": "white",
            "linecolor": "white",
            "showgrid": true,
            "ticks": ""
           },
           "bgcolor": "rgb(234,234,242)",
           "caxis": {
            "gridcolor": "white",
            "linecolor": "white",
            "showgrid": true,
            "ticks": ""
           }
          },
          "xaxis": {
           "automargin": true,
           "gridcolor": "white",
           "linecolor": "white",
           "showgrid": true,
           "ticks": "",
           "title": {
            "standoff": 15
           },
           "zerolinecolor": "white"
          },
          "yaxis": {
           "automargin": true,
           "gridcolor": "white",
           "linecolor": "white",
           "showgrid": true,
           "ticks": "",
           "title": {
            "standoff": 15
           },
           "zerolinecolor": "white"
          }
         }
        },
        "title": {
         "font": {
          "family": "Times New Roman",
          "size": 30
         }
        },
        "width": 900,
        "xaxis": {
         "anchor": "y",
         "autorange": true,
         "domain": [
          0,
          1
         ],
         "range": [
          -0.5184049079754601,
          4.5
         ],
         "showgrid": false,
         "ticks": "",
         "title": {},
         "type": "category",
         "zeroline": false
        },
        "yaxis": {
         "anchor": "x",
         "autorange": true,
         "domain": [
          0,
          1
         ],
         "range": [
          0.9587354103483136,
          0.9899825383696352
         ],
         "showgrid": false,
         "title": {
          "text": "Validation F-Scores"
         },
         "type": "linear",
         "zeroline": false
        }
       }
      },
      "image/png": "[encoded data removed]",
      "text/html": [
       "<div>\n",
       "        \n",
       "        \n",
       "            <div id=\"7142a7e3-4a9f-47ee-8d6f-308beee79d54\" class=\"plotly-graph-div\" style=\"height:400px; width:900px;\"></div>\n",
       "            <script type=\"text/javascript\">\n",
       "                require([\"plotly\"], function(Plotly) {\n",
       "                    window.PLOTLYENV=window.PLOTLYENV || {};\n",
       "                    \n",
       "                if (document.getElementById(\"7142a7e3-4a9f-47ee-8d6f-308beee79d54\")) {\n",
       "                    Plotly.newPlot(\n",
       "                        '7142a7e3-4a9f-47ee-8d6f-308beee79d54',\n",
       "                        [{\"alignmentgroup\": \"True\", \"boxmean\": \"sd\", \"boxpoints\": \"all\", \"hovertemplate\": \"feat_type=Embedding Only<br>model=%{x}<br>y=%{y}<extra></extra>\", \"legendgroup\": \"Embedding Only\", \"marker\": {\"color\": \"#00AA77\"}, \"name\": \"Embedding Only\", \"notched\": false, \"offsetgroup\": \"Embedding Only\", \"orientation\": \"v\", \"showlegend\": true, \"type\": \"box\", \"x\": [\"ExtraTrees\", \"ExtraTrees\", \"ExtraTrees\", \"ExtraTrees\", \"ExtraTrees\", \"ExtraTrees\", \"ExtraTrees\", \"ExtraTrees\", \"ExtraTrees\", \"ExtraTrees\", \"RandomForest\", \"RandomForest\", \"RandomForest\", \"RandomForest\", \"RandomForest\", \"RandomForest\", \"RandomForest\", \"RandomForest\", \"RandomForest\", \"RandomForest\", \"KNeighbors\", \"KNeighbors\", \"KNeighbors\", \"KNeighbors\", \"KNeighbors\", \"KNeighbors\", \"KNeighbors\", \"KNeighbors\", \"KNeighbors\", \"KNeighbors\", \"LinearSVC\", \"LinearSVC\", \"LinearSVC\", \"LinearSVC\", \"LinearSVC\", \"LinearSVC\", \"LinearSVC\", \"LinearSVC\", \"LinearSVC\", \"LinearSVC\", \"SVC\", \"SVC\", \"SVC\", \"SVC\", \"SVC\", \"SVC\", \"SVC\", \"SVC\", \"SVC\", \"SVC\"], \"x0\": \" \", \"xaxis\": \"x\", \"y\": [0.9710504549214226, 0.976840363937138, 0.9727047146401984, 0.9727047146401984, 0.967741935483871, 0.98014888337469, 0.977667493796526, 0.9751861042183624, 0.9727047146401984, 0.9652605459057072, 0.9710504549214226, 0.9751861042183624, 0.9693961952026467, 0.9727047146401984, 0.9702233250620348, 0.9784946236559141, 0.9743589743589745, 0.9743589743589745, 0.9693961952026467, 0.9660876757650952, 0.9660876757650952, 0.9760132340777502, 0.9644334160463192, 0.9693961952026467, 0.9602977667493796, 0.9751861042183624, 0.9735318444995864, 0.9760132340777502, 0.9702233250620348, 0.9636062861869312, 0.9660876757650952, 0.9727047146401984, 0.9644334160463192, 0.9619520264681556, 0.9644334160463192, 0.9751861042183624, 0.9702233250620348, 0.977667493796526, 0.9685690653432588, 0.9636062861869312, 0.9693961952026467, 0.976840363937138, 0.9702233250620348, 0.9669148056244832, 0.9693961952026467, 0.9809760132340778, 0.9727047146401984, 0.98014888337469, 0.9718775847808104, 0.9693961952026467], \"y0\": \" \", \"yaxis\": \"y\"}, {\"alignmentgroup\": \"True\", \"boxmean\": \"sd\", \"boxpoints\": \"all\", \"hovertemplate\": \"feat_type=Embedding+Envelope<br>model=%{x}<br>y=%{y}<extra></extra>\", \"legendgroup\": \"Embedding+Envelope\", \"marker\": {\"color\": \"#3388BB\"}, \"name\": \"Embedding+Envelope\", \"notched\": false, \"offsetgroup\": \"Embedding+Envelope\", \"orientation\": \"v\", \"showlegend\": true, \"type\": \"box\", \"x\": [\"ExtraTrees\", \"ExtraTrees\", \"ExtraTrees\", \"ExtraTrees\", \"ExtraTrees\", \"ExtraTrees\", \"ExtraTrees\", \"ExtraTrees\", \"ExtraTrees\", \"ExtraTrees\", \"RandomForest\", \"RandomForest\", \"RandomForest\", \"RandomForest\", \"RandomForest\", \"RandomForest\", \"RandomForest\", \"RandomForest\", \"RandomForest\", \"RandomForest\", \"KNeighbors\", \"KNeighbors\", \"KNeighbors\", \"KNeighbors\", \"KNeighbors\", \"KNeighbors\", \"KNeighbors\", \"KNeighbors\", \"KNeighbors\", \"KNeighbors\", \"LinearSVC\", \"LinearSVC\", \"LinearSVC\", \"LinearSVC\", \"LinearSVC\", \"LinearSVC\", \"LinearSVC\", \"LinearSVC\", \"LinearSVC\", \"LinearSVC\", \"SVC\", \"SVC\", \"SVC\", \"SVC\", \"SVC\", \"SVC\", \"SVC\", \"SVC\", \"SVC\", \"SVC\"], \"x0\": \" \", \"xaxis\": \"x\", \"y\": [0.9842845326716294, 0.9842845326716294, 0.9859387923904052, 0.9859387923904052, 0.9826302729528535, 0.9867659222497932, 0.9867659222497932, 0.9867659222497932, 0.9875930521091812, 0.98014888337469, 0.9834574028122416, 0.9884201819685692, 0.9851116625310172, 0.9867659222497932, 0.9818031430934656, 0.9859387923904052, 0.9826302729528535, 0.9859387923904052, 0.9867659222497932, 0.979321753515302, 0.9710504549214226, 0.979321753515302, 0.9702233250620348, 0.9710504549214226, 0.967741935483871, 0.977667493796526, 0.9718775847808104, 0.9809760132340778, 0.9727047146401984, 0.9627791563275434, 0.9818031430934656, 0.98014888337469, 0.9826302729528535, 0.98014888337469, 0.976840363937138, 0.9818031430934656, 0.9859387923904052, 0.98014888337469, 0.9809760132340778, 0.98014888337469, 0.9842845326716294, 0.9867659222497932, 0.98014888337469, 0.979321753515302, 0.979321753515302, 0.9809760132340778, 0.9834574028122416, 0.9842845326716294, 0.9851116625310172, 0.9826302729528535], \"y0\": \" \", \"yaxis\": \"y\"}],\n",
       "                        {\"autosize\": false, \"boxgap\": 0.4, \"boxgroupgap\": 0.4, \"boxmode\": \"group\", \"font\": {\"family\": \"Times New Roman\", \"size\": 18}, \"height\": 400, \"legend\": {\"bgcolor\": \"rgba(110,150,160,0.1)\", \"orientation\": \"h\", \"title\": {\"text\": \"Feature Type:\"}, \"tracegroupgap\": 0, \"x\": 1, \"xanchor\": \"right\", \"y\": 1, \"yanchor\": \"top\"}, \"margin\": {\"b\": 3, \"l\": 0, \"r\": 5, \"t\": 1}, \"template\": {\"data\": {\"bar\": [{\"error_x\": {\"color\": \"rgb(36,36,36)\"}, \"error_y\": {\"color\": \"rgb(36,36,36)\"}, \"marker\": {\"line\": {\"color\": \"rgb(234,234,242)\", \"width\": 0.5}}, \"type\": \"bar\"}], \"barpolar\": [{\"marker\": {\"line\": {\"color\": \"rgb(234,234,242)\", \"width\": 0.5}}, \"type\": \"barpolar\"}], \"carpet\": [{\"aaxis\": {\"endlinecolor\": \"rgb(36,36,36)\", \"gridcolor\": \"white\", \"linecolor\": \"white\", \"minorgridcolor\": \"white\", \"startlinecolor\": \"rgb(36,36,36)\"}, \"baxis\": {\"endlinecolor\": \"rgb(36,36,36)\", \"gridcolor\": \"white\", \"linecolor\": \"white\", \"minorgridcolor\": \"white\", \"startlinecolor\": \"rgb(36,36,36)\"}, \"type\": \"carpet\"}], \"choropleth\": [{\"colorbar\": {\"outlinewidth\": 0, \"tickcolor\": \"rgb(36,36,36)\", \"ticklen\": 8, \"ticks\": \"outside\", \"tickwidth\": 2}, \"type\": \"choropleth\"}], \"contour\": [{\"colorbar\": {\"outlinewidth\": 0, \"tickcolor\": \"rgb(36,36,36)\", \"ticklen\": 8, \"ticks\": \"outside\", \"tickwidth\": 2}, \"colorscale\": [[0.0, \"rgb(2,4,25)\"], [0.06274509803921569, \"rgb(24,15,41)\"], [0.12549019607843137, \"rgb(47,23,57)\"], [0.18823529411764706, \"rgb(71,28,72)\"], [0.25098039215686274, \"rgb(97,30,82)\"], [0.3137254901960784, \"rgb(123,30,89)\"], [0.3764705882352941, \"rgb(150,27,91)\"], [0.4392156862745098, \"rgb(177,22,88)\"], [0.5019607843137255, \"rgb(203,26,79)\"], [0.5647058823529412, \"rgb(223,47,67)\"], [0.6274509803921569, \"rgb(236,76,61)\"], [0.6901960784313725, \"rgb(242,107,73)\"], [0.7529411764705882, \"rgb(244,135,95)\"], [0.8156862745098039, \"rgb(245,162,122)\"], [0.8784313725490196, \"rgb(246,188,153)\"], [0.9411764705882353, \"rgb(247,212,187)\"], [1.0, \"rgb(250,234,220)\"]], \"type\": \"contour\"}], \"contourcarpet\": [{\"colorbar\": {\"outlinewidth\": 0, \"tickcolor\": \"rgb(36,36,36)\", \"ticklen\": 8, \"ticks\": \"outside\", \"tickwidth\": 2}, \"type\": \"contourcarpet\"}], \"heatmap\": [{\"colorbar\": {\"outlinewidth\": 0, \"tickcolor\": \"rgb(36,36,36)\", \"ticklen\": 8, \"ticks\": \"outside\", \"tickwidth\": 2}, \"colorscale\": [[0.0, \"rgb(2,4,25)\"], [0.06274509803921569, \"rgb(24,15,41)\"], [0.12549019607843137, \"rgb(47,23,57)\"], [0.18823529411764706, \"rgb(71,28,72)\"], [0.25098039215686274, \"rgb(97,30,82)\"], [0.3137254901960784, \"rgb(123,30,89)\"], [0.3764705882352941, \"rgb(150,27,91)\"], [0.4392156862745098, \"rgb(177,22,88)\"], [0.5019607843137255, \"rgb(203,26,79)\"], [0.5647058823529412, \"rgb(223,47,67)\"], [0.6274509803921569, \"rgb(236,76,61)\"], [0.6901960784313725, \"rgb(242,107,73)\"], [0.7529411764705882, \"rgb(244,135,95)\"], [0.8156862745098039, \"rgb(245,162,122)\"], [0.8784313725490196, \"rgb(246,188,153)\"], [0.9411764705882353, \"rgb(247,212,187)\"], [1.0, \"rgb(250,234,220)\"]], \"type\": \"heatmap\"}], \"heatmapgl\": [{\"colorbar\": {\"outlinewidth\": 0, \"tickcolor\": \"rgb(36,36,36)\", \"ticklen\": 8, \"ticks\": \"outside\", \"tickwidth\": 2}, \"colorscale\": [[0.0, \"rgb(2,4,25)\"], [0.06274509803921569, \"rgb(24,15,41)\"], [0.12549019607843137, \"rgb(47,23,57)\"], [0.18823529411764706, \"rgb(71,28,72)\"], [0.25098039215686274, \"rgb(97,30,82)\"], [0.3137254901960784, \"rgb(123,30,89)\"], [0.3764705882352941, \"rgb(150,27,91)\"], [0.4392156862745098, \"rgb(177,22,88)\"], [0.5019607843137255, \"rgb(203,26,79)\"], [0.5647058823529412, \"rgb(223,47,67)\"], [0.6274509803921569, \"rgb(236,76,61)\"], [0.6901960784313725, \"rgb(242,107,73)\"], [0.7529411764705882, \"rgb(244,135,95)\"], [0.8156862745098039, \"rgb(245,162,122)\"], [0.8784313725490196, \"rgb(246,188,153)\"], [0.9411764705882353, \"rgb(247,212,187)\"], [1.0, \"rgb(250,234,220)\"]], \"type\": \"heatmapgl\"}], \"histogram\": [{\"marker\": {\"colorbar\": {\"outlinewidth\": 0, \"tickcolor\": \"rgb(36,36,36)\", \"ticklen\": 8, \"ticks\": \"outside\", \"tickwidth\": 2}}, \"type\": \"histogram\"}], \"histogram2d\": [{\"colorbar\": {\"outlinewidth\": 0, \"tickcolor\": \"rgb(36,36,36)\", \"ticklen\": 8, \"ticks\": \"outside\", \"tickwidth\": 2}, \"colorscale\": [[0.0, \"rgb(2,4,25)\"], [0.06274509803921569, \"rgb(24,15,41)\"], [0.12549019607843137, \"rgb(47,23,57)\"], [0.18823529411764706, \"rgb(71,28,72)\"], [0.25098039215686274, \"rgb(97,30,82)\"], [0.3137254901960784, \"rgb(123,30,89)\"], [0.3764705882352941, \"rgb(150,27,91)\"], [0.4392156862745098, \"rgb(177,22,88)\"], [0.5019607843137255, \"rgb(203,26,79)\"], [0.5647058823529412, \"rgb(223,47,67)\"], [0.6274509803921569, \"rgb(236,76,61)\"], [0.6901960784313725, \"rgb(242,107,73)\"], [0.7529411764705882, \"rgb(244,135,95)\"], [0.8156862745098039, \"rgb(245,162,122)\"], [0.8784313725490196, \"rgb(246,188,153)\"], [0.9411764705882353, \"rgb(247,212,187)\"], [1.0, \"rgb(250,234,220)\"]], \"type\": \"histogram2d\"}], \"histogram2dcontour\": [{\"colorbar\": {\"outlinewidth\": 0, \"tickcolor\": \"rgb(36,36,36)\", \"ticklen\": 8, \"ticks\": \"outside\", \"tickwidth\": 2}, \"colorscale\": [[0.0, \"rgb(2,4,25)\"], [0.06274509803921569, \"rgb(24,15,41)\"], [0.12549019607843137, \"rgb(47,23,57)\"], [0.18823529411764706, \"rgb(71,28,72)\"], [0.25098039215686274, \"rgb(97,30,82)\"], [0.3137254901960784, \"rgb(123,30,89)\"], [0.3764705882352941, \"rgb(150,27,91)\"], [0.4392156862745098, \"rgb(177,22,88)\"], [0.5019607843137255, \"rgb(203,26,79)\"], [0.5647058823529412, \"rgb(223,47,67)\"], [0.6274509803921569, \"rgb(236,76,61)\"], [0.6901960784313725, \"rgb(242,107,73)\"], [0.7529411764705882, \"rgb(244,135,95)\"], [0.8156862745098039, \"rgb(245,162,122)\"], [0.8784313725490196, \"rgb(246,188,153)\"], [0.9411764705882353, \"rgb(247,212,187)\"], [1.0, \"rgb(250,234,220)\"]], \"type\": \"histogram2dcontour\"}], \"mesh3d\": [{\"colorbar\": {\"outlinewidth\": 0, \"tickcolor\": \"rgb(36,36,36)\", \"ticklen\": 8, \"ticks\": \"outside\", \"tickwidth\": 2}, \"type\": \"mesh3d\"}], \"parcoords\": [{\"line\": {\"colorbar\": {\"outlinewidth\": 0, \"tickcolor\": \"rgb(36,36,36)\", \"ticklen\": 8, \"ticks\": \"outside\", \"tickwidth\": 2}}, \"type\": \"parcoords\"}], \"pie\": [{\"automargin\": true, \"type\": \"pie\"}], \"scatter\": [{\"marker\": {\"colorbar\": {\"outlinewidth\": 0, \"tickcolor\": \"rgb(36,36,36)\", \"ticklen\": 8, \"ticks\": \"outside\", \"tickwidth\": 2}}, \"type\": \"scatter\"}], \"scatter3d\": [{\"line\": {\"colorbar\": {\"outlinewidth\": 0, \"tickcolor\": \"rgb(36,36,36)\", \"ticklen\": 8, \"ticks\": \"outside\", \"tickwidth\": 2}}, \"marker\": {\"colorbar\": {\"outlinewidth\": 0, \"tickcolor\": \"rgb(36,36,36)\", \"ticklen\": 8, \"ticks\": \"outside\", \"tickwidth\": 2}}, \"type\": \"scatter3d\"}], \"scattercarpet\": [{\"marker\": {\"colorbar\": {\"outlinewidth\": 0, \"tickcolor\": \"rgb(36,36,36)\", \"ticklen\": 8, \"ticks\": \"outside\", \"tickwidth\": 2}}, \"type\": \"scattercarpet\"}], \"scattergeo\": [{\"marker\": {\"colorbar\": {\"outlinewidth\": 0, \"tickcolor\": \"rgb(36,36,36)\", \"ticklen\": 8, \"ticks\": \"outside\", \"tickwidth\": 2}}, \"type\": \"scattergeo\"}], \"scattergl\": [{\"marker\": {\"colorbar\": {\"outlinewidth\": 0, \"tickcolor\": \"rgb(36,36,36)\", \"ticklen\": 8, \"ticks\": \"outside\", \"tickwidth\": 2}}, \"type\": \"scattergl\"}], \"scattermapbox\": [{\"marker\": {\"colorbar\": {\"outlinewidth\": 0, \"tickcolor\": \"rgb(36,36,36)\", \"ticklen\": 8, \"ticks\": \"outside\", \"tickwidth\": 2}}, \"type\": \"scattermapbox\"}], \"scatterpolar\": [{\"marker\": {\"colorbar\": {\"outlinewidth\": 0, \"tickcolor\": \"rgb(36,36,36)\", \"ticklen\": 8, \"ticks\": \"outside\", \"tickwidth\": 2}}, \"type\": \"scatterpolar\"}], \"scatterpolargl\": [{\"marker\": {\"colorbar\": {\"outlinewidth\": 0, \"tickcolor\": \"rgb(36,36,36)\", \"ticklen\": 8, \"ticks\": \"outside\", \"tickwidth\": 2}}, \"type\": \"scatterpolargl\"}], \"scatterternary\": [{\"marker\": {\"colorbar\": {\"outlinewidth\": 0, \"tickcolor\": \"rgb(36,36,36)\", \"ticklen\": 8, \"ticks\": \"outside\", \"tickwidth\": 2}}, \"type\": \"scatterternary\"}], \"surface\": [{\"colorbar\": {\"outlinewidth\": 0, \"tickcolor\": \"rgb(36,36,36)\", \"ticklen\": 8, \"ticks\": \"outside\", \"tickwidth\": 2}, \"colorscale\": [[0.0, \"rgb(2,4,25)\"], [0.06274509803921569, \"rgb(24,15,41)\"], [0.12549019607843137, \"rgb(47,23,57)\"], [0.18823529411764706, \"rgb(71,28,72)\"], [0.25098039215686274, \"rgb(97,30,82)\"], [0.3137254901960784, \"rgb(123,30,89)\"], [0.3764705882352941, \"rgb(150,27,91)\"], [0.4392156862745098, \"rgb(177,22,88)\"], [0.5019607843137255, \"rgb(203,26,79)\"], [0.5647058823529412, \"rgb(223,47,67)\"], [0.6274509803921569, \"rgb(236,76,61)\"], [0.6901960784313725, \"rgb(242,107,73)\"], [0.7529411764705882, \"rgb(244,135,95)\"], [0.8156862745098039, \"rgb(245,162,122)\"], [0.8784313725490196, \"rgb(246,188,153)\"], [0.9411764705882353, \"rgb(247,212,187)\"], [1.0, \"rgb(250,234,220)\"]], \"type\": \"surface\"}], \"table\": [{\"cells\": {\"fill\": {\"color\": \"rgb(231,231,240)\"}, \"line\": {\"color\": \"white\"}}, \"header\": {\"fill\": {\"color\": \"rgb(183,183,191)\"}, \"line\": {\"color\": \"white\"}}, \"type\": \"table\"}]}, \"layout\": {\"annotationdefaults\": {\"arrowcolor\": \"rgb(67,103,167)\"}, \"coloraxis\": {\"colorbar\": {\"outlinewidth\": 0, \"tickcolor\": \"rgb(36,36,36)\", \"ticklen\": 8, \"ticks\": \"outside\", \"tickwidth\": 2}}, \"colorscale\": {\"sequential\": [[0.0, \"rgb(2,4,25)\"], [0.06274509803921569, \"rgb(24,15,41)\"], [0.12549019607843137, \"rgb(47,23,57)\"], [0.18823529411764706, \"rgb(71,28,72)\"], [0.25098039215686274, \"rgb(97,30,82)\"], [0.3137254901960784, \"rgb(123,30,89)\"], [0.3764705882352941, \"rgb(150,27,91)\"], [0.4392156862745098, \"rgb(177,22,88)\"], [0.5019607843137255, \"rgb(203,26,79)\"], [0.5647058823529412, \"rgb(223,47,67)\"], [0.6274509803921569, \"rgb(236,76,61)\"], [0.6901960784313725, \"rgb(242,107,73)\"], [0.7529411764705882, \"rgb(244,135,95)\"], [0.8156862745098039, \"rgb(245,162,122)\"], [0.8784313725490196, \"rgb(246,188,153)\"], [0.9411764705882353, \"rgb(247,212,187)\"], [1.0, \"rgb(250,234,220)\"]], \"sequentialminus\": [[0.0, \"rgb(2,4,25)\"], [0.06274509803921569, \"rgb(24,15,41)\"], [0.12549019607843137, \"rgb(47,23,57)\"], [0.18823529411764706, \"rgb(71,28,72)\"], [0.25098039215686274, \"rgb(97,30,82)\"], [0.3137254901960784, \"rgb(123,30,89)\"], [0.3764705882352941, \"rgb(150,27,91)\"], [0.4392156862745098, \"rgb(177,22,88)\"], [0.5019607843137255, \"rgb(203,26,79)\"], [0.5647058823529412, \"rgb(223,47,67)\"], [0.6274509803921569, \"rgb(236,76,61)\"], [0.6901960784313725, \"rgb(242,107,73)\"], [0.7529411764705882, \"rgb(244,135,95)\"], [0.8156862745098039, \"rgb(245,162,122)\"], [0.8784313725490196, \"rgb(246,188,153)\"], [0.9411764705882353, \"rgb(247,212,187)\"], [1.0, \"rgb(250,234,220)\"]]}, \"colorway\": [\"rgb(76,114,176)\", \"rgb(221,132,82)\", \"rgb(85,168,104)\", \"rgb(196,78,82)\", \"rgb(129,114,179)\", \"rgb(147,120,96)\", \"rgb(218,139,195)\", \"rgb(140,140,140)\", \"rgb(204,185,116)\", \"rgb(100,181,205)\"], \"font\": {\"color\": \"rgb(36,36,36)\"}, \"geo\": {\"bgcolor\": \"white\", \"lakecolor\": \"white\", \"landcolor\": \"rgb(234,234,242)\", \"showlakes\": true, \"showland\": true, \"subunitcolor\": \"white\"}, \"hoverlabel\": {\"align\": \"left\"}, \"hovermode\": \"closest\", \"paper_bgcolor\": \"white\", \"plot_bgcolor\": \"rgb(234,234,242)\", \"polar\": {\"angularaxis\": {\"gridcolor\": \"white\", \"linecolor\": \"white\", \"showgrid\": true, \"ticks\": \"\"}, \"bgcolor\": \"rgb(234,234,242)\", \"radialaxis\": {\"gridcolor\": \"white\", \"linecolor\": \"white\", \"showgrid\": true, \"ticks\": \"\"}}, \"scene\": {\"xaxis\": {\"backgroundcolor\": \"rgb(234,234,242)\", \"gridcolor\": \"white\", \"gridwidth\": 2, \"linecolor\": \"white\", \"showbackground\": true, \"showgrid\": true, \"ticks\": \"\", \"zerolinecolor\": \"white\"}, \"yaxis\": {\"backgroundcolor\": \"rgb(234,234,242)\", \"gridcolor\": \"white\", \"gridwidth\": 2, \"linecolor\": \"white\", \"showbackground\": true, \"showgrid\": true, \"ticks\": \"\", \"zerolinecolor\": \"white\"}, \"zaxis\": {\"backgroundcolor\": \"rgb(234,234,242)\", \"gridcolor\": \"white\", \"gridwidth\": 2, \"linecolor\": \"white\", \"showbackground\": true, \"showgrid\": true, \"ticks\": \"\", \"zerolinecolor\": \"white\"}}, \"shapedefaults\": {\"fillcolor\": \"rgb(67,103,167)\", \"line\": {\"width\": 0}, \"opacity\": 0.5}, \"ternary\": {\"aaxis\": {\"gridcolor\": \"white\", \"linecolor\": \"white\", \"showgrid\": true, \"ticks\": \"\"}, \"baxis\": {\"gridcolor\": \"white\", \"linecolor\": \"white\", \"showgrid\": true, \"ticks\": \"\"}, \"bgcolor\": \"rgb(234,234,242)\", \"caxis\": {\"gridcolor\": \"white\", \"linecolor\": \"white\", \"showgrid\": true, \"ticks\": \"\"}}, \"xaxis\": {\"automargin\": true, \"gridcolor\": \"white\", \"linecolor\": \"white\", \"showgrid\": true, \"ticks\": \"\", \"title\": {\"standoff\": 15}, \"zerolinecolor\": \"white\"}, \"yaxis\": {\"automargin\": true, \"gridcolor\": \"white\", \"linecolor\": \"white\", \"showgrid\": true, \"ticks\": \"\", \"title\": {\"standoff\": 15}, \"zerolinecolor\": \"white\"}}}, \"title\": {\"font\": {\"family\": \"Times New Roman\", \"size\": 30}}, \"width\": 900, \"xaxis\": {\"anchor\": \"y\", \"domain\": [0.0, 1.0], \"showgrid\": false, \"ticks\": \"\", \"title\": {}, \"zeroline\": false}, \"yaxis\": {\"anchor\": \"x\", \"domain\": [0.0, 1.0], \"showgrid\": false, \"title\": {\"text\": \"Validation F-Scores\"}, \"zeroline\": false}},\n",
       "                        {\"responsive\": true}\n",
       "                    ).then(function(){\n",
       "                            \n",
       "var gd = document.getElementById('7142a7e3-4a9f-47ee-8d6f-308beee79d54');\n",
       "var x = new MutationObserver(function (mutations, observer) {{\n",
       "        var display = window.getComputedStyle(gd).display;\n",
       "        if (!display || display === 'none') {{\n",
       "            console.log([gd, 'removed!']);\n",
       "            Plotly.purge(gd);\n",
       "            observer.disconnect();\n",
       "        }}\n",
       "}});\n",
       "\n",
       "// Listen for the removal of the full notebook cells\n",
       "var notebookContainer = gd.closest('#notebook-container');\n",
       "if (notebookContainer) {{\n",
       "    x.observe(notebookContainer, {childList: true});\n",
       "}}\n",
       "\n",
       "// Listen for the clearing of the current output cell\n",
       "var outputEl = gd.closest('.output');\n",
       "if (outputEl) {{\n",
       "    x.observe(outputEl, {childList: true});\n",
       "}}\n",
       "\n",
       "                        })\n",
       "                };\n",
       "                });\n",
       "            </script>\n",
       "        </div>"
      ]
     },
     "metadata": {},
     "output_type": "display_data"
    }
   ],
   "source": [
    "comparison_csv_file=\"csvs/mme_comparisons.csv\"\n",
    "df=pd.read_csv(comparison_csv_file)\n",
    "fig = px.box(df, x=\"model\", y=\"y\", color=\"feat_type\",\n",
    "             color_discrete_sequence=[\"#00AA77\",\"#3388BB\"],\n",
    "             title=\"Box plot of total bill\",\n",
    "            )\n",
    "fig.update_layout(\n",
    "#     showlegend=False,\n",
    "    \n",
    "    autosize=False,title=None, \n",
    "    template=\"seaborn\",\n",
    "    width=900,height=400,\n",
    "    font_family=\"Times New Roman\",\n",
    "    font_size=18,\n",
    "    title_font_family=\"Times New Roman\",\n",
    "    title_font_size=30,\n",
    "    boxmode='group',\n",
    "    margin=dict(l=0, t=1,r=5, b=3),       \n",
    "    boxgap=0.4,boxgroupgap=0.4,\n",
    "        legend_title_text=\"Feature Type:\",\n",
    "                  legend=dict(\n",
    "                      bgcolor='rgba(110,150,160,0.1)',\n",
    "                  orientation=\"h\",\n",
    "                yanchor=\"top\",\n",
    "                y=1,\n",
    "                xanchor=\"right\",x=1)\n",
    "    )\n",
    "fig.update_traces(\n",
    "        boxmean=\"sd\", # represent mean. (sd shows standarddev)\n",
    "        boxpoints='all', \n",
    ")\n",
    "fig.update_xaxes(showgrid=False,zeroline=False,ticks='',title=None)\n",
    "fig.update_yaxes(showgrid=False,zeroline=False,title=\"Validation F-Scores\")\n",
    "\n",
    "fig.show()\n",
    "# df.to_csv(\"comparison_csv_file\")\n",
    "with open(\"../plots/mme_comparisons_mme.pdf\", \"wb\") as f:\n",
    "    f.write(scope.transform(fig, format=\"pdf\", width=900,height=400,))"
   ]
  },
  {
   "cell_type": "code",
   "execution_count": 410,
   "metadata": {},
   "outputs": [],
   "source": [
    "#free style version in openset CNN at bottom\n",
    "\n",
    "encoding_path=\"csvs/radarfree_best_embenv.csv\" #good\n",
    "\n",
    "dvn=False\n",
    "    \n",
    "if dvn:\n",
    "    label_groups=\"label\" #do drum vs not drum\n",
    "else:\n",
    "    label_groups=\"drum_type\" #do drum vs drum vs notdrum\n",
    "\n",
    "testFraction=0.25\n",
    "#load same data as t-SNE but train SVM with it    \n",
    "\n",
    "df=pd.read_csv(encoding_path)\n",
    "df=df.loc[df[\"drum_type\"].isin([\"clap\",\"hat\",\"kick\",\"snare\",\"synth_noise\"])]  \n",
    "#     print(df.groupby([label_groups]).agg(\"count\")[\"path\"])#sample counts\n",
    "\n",
    "\n",
    "#preperocessing\n",
    "le = preprocessing.LabelEncoder()\n",
    "le.fit(df[label_groups])\n",
    "le.transform(df[label_groups])\n",
    "df[label_groups]=le.transform(df[label_groups])\n",
    "y_counts=df.groupby([label_groups]).agg(\"count\")[\"path\"] #for weights\n",
    "\n",
    "\n",
    "#calculating weights\n",
    "wdict=y_counts.to_dict()\n",
    "total = sum(wdict.values(), 0.0)\n",
    "class_weights = {k: (total-v) / total for k, v in wdict.items()}\n",
    "y=df[label_groups]\n",
    "\n",
    "df[\"feats\"]=df[\"feats\"].apply(literal_eval)\n",
    "#df[feats] is an array of lists, needs conversion to ndArray\n",
    "X=np.array([np.array(x) for x in df[\"feats\"].to_numpy()])\n",
    "wdict=y_counts.to_dict()\n",
    "total = sum(wdict.values(), 0.0)\n",
    "class_weights = {k: (total-v) / total for k, v in wdict.items()}\n",
    "\n",
    "# RandomForestClassifier(n_estimators=300,class_weight=class_weights), ExtraTreesClassifier(n_estimators=1100,class_weight=class_weights)\n",
    "# classifier = make_pipeline(StandardScaler(),ExtraTreesClassifier(n_estimators=1100,class_weight=class_weights))\n",
    "classifier = make_pipeline(StandardScaler(), SVC(gamma=0.001,C= 100,kernel='rbf',class_weight=class_weights))\n",
    "\n",
    "X_train, X_test, y_train, y_test = train_test_split(X, y, test_size=testFraction, random_state=42,)\n",
    "# cv = ShuffleSplit(n_splits=5, test_size=0.2, random_state=0)\n",
    "# print(cross_val_score(classifier, X, y, cv=cv))\n",
    "classifier.fit(X_train, y_train,)\n",
    "y_pred = classifier.predict(X_test)"
   ]
  },
  {
   "cell_type": "code",
   "execution_count": 418,
   "metadata": {},
   "outputs": [
    {
     "data": {
      "text/plain": [
       "array(['clap', 'hat', 'kick', 'snare', 'synth_noise'], dtype=object)"
      ]
     },
     "execution_count": 418,
     "metadata": {},
     "output_type": "execute_result"
    }
   ],
   "source": [
    "from joblib import dump, load\n",
    "dump(classifier, 'models/mme/mme_svm2.joblib') \n",
    "\n",
    "le.classes_"
   ]
  },
  {
   "cell_type": "code",
   "execution_count": 416,
   "metadata": {},
   "outputs": [
    {
     "data": {
      "image/png": "[encoded data removed]",
      "text/plain": [
       "<Figure size 500x500 with 2 Axes>"
      ]
     },
     "metadata": {},
     "output_type": "display_data"
    }
   ],
   "source": [
    "# le.classes_=[\"Drum\",\"Not Drum\"]\n",
    "visualizer = ClassificationReport(classifier,classes=le.classes_,cmap=\"Blues\",fontsize=30, title=\" \",size=(500,500))\n",
    "visualizer.score(X_test, y_test) \n",
    "visualizer.finalize()\n",
    "for label in visualizer.ax.texts:\n",
    "    label.set_size(25)\n",
    "# Get access to the axes object and modify labels\n",
    "plt.xticks(fontsize=18)\n",
    "plt.yticks(fontsize=18)\n",
    "\n",
    "# plt.tight_layout()\n",
    "plt.tight_layout(pad=0.05)\n",
    "plt.savefig(\"../plots/f1_mme.pdf\")"
   ]
  },
  {
   "cell_type": "code",
   "execution_count": 395,
   "metadata": {},
   "outputs": [
    {
     "data": {
      "image/png": "[encoded data removed]",
      "text/plain": [
       "<Figure size 500x500 with 1 Axes>"
      ]
     },
     "metadata": {},
     "output_type": "display_data"
    }
   ],
   "source": [
    "\n",
    "cm = ConfusionMatrix(classifier, classes=le.classes_,cmap=\"Blues\",fontsize=30,title=\" \",size=(500,500))\n",
    "\n",
    "cm.score(X_test, y_test)\n",
    "cm.finalize()\n",
    "for label in cm.ax.texts:\n",
    "    label.set_size(25)\n",
    "\n",
    "plt.xticks(fontsize=18)\n",
    "plt.yticks(fontsize=18)\n",
    "# Get access to the axes object and modify labels\n",
    "# plt.suptitle('2014 Sales Analysis', fontsize=14, fontweight='bold');\n",
    "plt.xlabel('True Class', fontsize=17)\n",
    "plt.ylabel('Predicted Class', fontsize=17)\n",
    "plt.tight_layout(pad=0.05)\n",
    "plt.savefig(\"../plots/conf_dvn.pdf\")"
   ]
  }
 ],
 "metadata": {
  "kernelspec": {
   "display_name": "Python 3",
   "language": "python",
   "name": "python3"
  },
  "language_info": {
   "codemirror_mode": {
    "name": "ipython",
    "version": 3
   },
   "file_extension": ".py",
   "mimetype": "text/x-python",
   "name": "python",
   "nbconvert_exporter": "python",
   "pygments_lexer": "ipython3",
   "version": "3.7.5"
  }
 },
 "nbformat": 4,
 "nbformat_minor": 4
}
