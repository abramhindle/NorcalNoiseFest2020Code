{
 "cells": [
  {
   "cell_type": "code",
   "execution_count": 5,
   "metadata": {},
   "outputs": [],
   "source": [
    "import numpy as np\n",
    "import pandas as pd\n",
    "import seaborn as sns\n",
    "import mir_utils as miru\n",
    "import feature_functions as ff\n",
    "import madmom as md\n",
    "import librosa\n",
    "import multiprocessing\n",
    "import sounddevice as sd\n",
    "import matplotlib.pyplot as plt\n",
    "import imageio\n",
    "import os\n",
    "sr=41000\n",
    "df=miru.audioFrames()\n",
    "save_dir=\"CNN_Data\""
   ]
  },
  {
   "cell_type": "code",
   "execution_count": 6,
   "metadata": {},
   "outputs": [
    {
     "data": {
      "text/plain": [
       "<matplotlib.image.AxesImage at 0x7fca249ac3c8>"
      ]
     },
     "execution_count": 6,
     "metadata": {},
     "output_type": "execute_result"
    },
    {
     "data": {
      "image/png": "[encoded data removed]",
      "text/plain": [
       "<Figure size 432x288 with 1 Axes>"
      ]
     },
     "metadata": {
      "needs_background": "light"
     },
     "output_type": "display_data"
    }
   ],
   "source": [
    "# this function makes 128x128 image of a melspec from any audio. \n",
    "# uncertainty: what's the best value for n_fft?\n",
    "def audToImage(x,img_dim=128):\n",
    "    xt,i=librosa.effects.trim(x, top_db=20)\n",
    "    xt=librosa.util.normalize(xt)\n",
    "    num_samples=2*img_dim**2-img_dim\n",
    "    cut=xt[0:num_samples]\n",
    "    cut=np.pad(cut,(0,num_samples-cut.shape[0]),'constant')\n",
    "    D=librosa.stft(cut,n_fft=int((img_dim*4*2)),hop_length=img_dim*2)\n",
    "    S = librosa.feature.melspectrogram(S=D, sr=sr, n_mels=img_dim)\n",
    "    S_dB = librosa.power_to_db(np.abs(S)**2)\n",
    "    return S_dB\n",
    "z=audToImage(df.iloc[1][\"audio\"])\n",
    "z=-1*librosa.util.normalize(z)\n",
    "plt.imshow(z)"
   ]
  },
  {
   "cell_type": "code",
   "execution_count": 3,
   "metadata": {},
   "outputs": [],
   "source": [
    "#make directoies\n",
    "folders=df.label.unique()\n",
    "for f in folders:\n",
    "    directory=\"./%s/%s/%s\"%(save_dir,\"train\",f)\n",
    "    if not os.path.exists(directory):\n",
    "        os.makedirs(directory)\n",
    "    directory=\"./%s/%s/%s\"%(save_dir,\"test\",f)\n",
    "    if not os.path.exists(directory):\n",
    "        os.makedirs(directory)"
   ]
  },
  {
   "cell_type": "code",
   "execution_count": null,
   "metadata": {},
   "outputs": [],
   "source": [
    "#convert all audio in dataframe to images and put them in folders depending on the labels\n",
    "for i,r in df.iterrows():\n",
    "    z=audToImage(r[\"audio\"])\n",
    "    fname=r[\"path\"].split(\"/\")[-1]\n",
    "    p=\"./%s/%s/%s/%s.png\"%(save_dir,\"train\",r[\"label\"],fname)\n",
    "    imageio.imsave(p,z)"
   ]
  }
 ],
 "metadata": {
  "kernelspec": {
   "display_name": "synthpyenv",
   "language": "python",
   "name": "synthpy"
  },
  "language_info": {
   "codemirror_mode": {
    "name": "ipython",
    "version": 3
   },
   "file_extension": ".py",
   "mimetype": "text/x-python",
   "name": "python",
   "nbconvert_exporter": "python",
   "pygments_lexer": "ipython3",
   "version": "3.6.8"
  }
 },
 "nbformat": 4,
 "nbformat_minor": 4
}
