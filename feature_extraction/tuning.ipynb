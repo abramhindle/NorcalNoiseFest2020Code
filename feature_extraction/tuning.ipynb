{
 "cells": [
  {
   "cell_type": "code",
   "execution_count": 3,
   "metadata": {},
   "outputs": [],
   "source": [
    "import numpy as np\n",
    "import matplotlib.pyplot as plt\n",
    "import time\n",
    "import torch\n",
    "import torch.utils.data as data\n",
    "import torch.optim as optim\n",
    "import torch.nn as nn\n",
    "import torch.nn.functional as F\n",
    "from torch.autograd import Variable\n",
    "import pytorch_models\n",
    "import imp\n",
    "import torchaudio as ta\n",
    "import torchaudio\n",
    "import torchvision as tv\n",
    "import matplotlib.pyplot as plt\n",
    "from IPython.display import Audio\n",
    "import os, random\n",
    "import pandas as pd\n",
    "import mir_utils as miru\n",
    "from torch.utils.data import Dataset, DataLoader\n",
    "from pytorch_models import *\n",
    "import librosa\n",
    "import librosa.display\n",
    "import pytorch_models as pm\n",
    "import optuna\n",
    "imp.reload(miru)\n",
    "imp.reload(pytorch_models)\n",
    "SR=44100\n",
    "#functions\n",
    "spec=torchaudio.functional.spectrogram\n",
    "\n",
    "audio_frames=miru.audioFrames(loadCache=True)\n",
    "\n",
    "def getMeanLength(x):\n",
    "    gl=x.apply(lambda z: len(z[\"audio\"]),axis=1)\n",
    "    print(gl.mean()/SR,gl.mean(),x[\"label\"].iloc[0])\n",
    "    \n",
    "# audio_frames.groupby(by=[\"label_num\"]).apply(lambda x:getMeanLength(x))\n",
    "# getMeanLength(audio_frames)\n",
    "\n",
    "\n",
    "def getRandAud():\n",
    "    classes=os.listdir(\"./dk_data/\")\n",
    "    rand_class=random.choice(classes)\n",
    "#     rand_class=\"synth_noise\"\n",
    "    rand_sample=random.choice(os.listdir(\"./dk_data/%s/\"%(rand_class,)))\n",
    "    return \"./dk_data/\"+rand_class+\"/\"+rand_sample\n",
    "device = torch.device(\"cuda\" if torch.cuda.is_available() else \"cpu\")\n",
    "# list(zip(uniques,range(0,len(uniques))))\n",
    "\n",
    "audio_frames=audio_frames.loc[~audio_frames[\"label\"].isin([\"shake\",\"guitar\",\"piano\"])]        \n",
    "#split the dataframe into 2 seperate ones:\n",
    "drum_frames=audio_frames.loc[~audio_frames[\"label\"].isin([\"synth_noise\",\"guitar\",\"piano\"])]\n",
    "#split the dataframe into 2 seperate ones:\n",
    "not_drum_frames=audio_frames.loc[audio_frames[\"label\"].isin([\"synth_noise\",\"guitar\",\"piano\"])]\n"
   ]
  },
  {
   "cell_type": "code",
   "execution_count": 4,
   "metadata": {},
   "outputs": [
    {
     "name": "stderr",
     "output_type": "stream",
     "text": [
      "/home/asalimi/miniconda3/lib/python3.7/site-packages/ipykernel_launcher.py:10: SettingWithCopyWarning: \n",
      "A value is trying to be set on a copy of a slice from a DataFrame.\n",
      "Try using .loc[row_indexer,col_indexer] = value instead\n",
      "\n",
      "See the caveats in the documentation: http://pandas.pydata.org/pandas-docs/stable/user_guide/indexing.html#returning-a-view-versus-a-copy\n",
      "  # Remove the CWD from sys.path while we load stuff.\n",
      "/home/asalimi/miniconda3/lib/python3.7/site-packages/ipykernel_launcher.py:11: SettingWithCopyWarning: \n",
      "A value is trying to be set on a copy of a slice from a DataFrame.\n",
      "Try using .loc[row_indexer,col_indexer] = value instead\n",
      "\n",
      "See the caveats in the documentation: http://pandas.pydata.org/pandas-docs/stable/user_guide/indexing.html#returning-a-view-versus-a-copy\n",
      "  # This is added back by InteractiveShellApp.init_path()\n"
     ]
    },
    {
     "name": "stdout",
     "output_type": "stream",
     "text": [
      "label\n",
      "clap             118\n",
      "hihat_closed     187\n",
      "hihat_open       280\n",
      "kick             648\n",
      "rim              105\n",
      "snare            731\n",
      "synth_noise     6000\n",
      "tom_high         179\n",
      "tom_low          188\n",
      "tom_mid          139\n",
      "Name: path, dtype: int64\n"
     ]
    }
   ],
   "source": [
    "#make two label series, one for drum vs not drum classification, one for drum type classification\n",
    "#add the series to the dataframe \n",
    "# print(drum_labels,not_drum_labels)\n",
    "\n",
    "#drum only classification\n",
    "# audio_frames[\"label_num\"].isin(not_drum_labels)\n",
    "dLabels, dUniques=pd.factorize(drum_frames[\"label\"].tolist())\n",
    "ndLabels, ndUniques=pd.factorize(not_drum_frames[\"label\"].tolist())\n",
    "\n",
    "drum_frames[\"label_num\"]=dLabels\n",
    "not_drum_frames[\"label_num\"]=ndLabels+len(dUniques)\n",
    "\n",
    "allU=np.concatenate([dUniques,ndUniques])\n",
    "lmap=list(zip(allU,range(len(allU))))\n",
    "\n",
    "#get weights for each group\n",
    "# x=drum_frames.groupby([\"label\"]).agg(\"count\")[\"path\"]\n",
    "y=audio_frames.groupby([\"label\"]).agg(\"count\")[\"path\"]\n",
    "print(y)\n",
    "weights=torch.tensor([1000/w for w in y.tolist()])\n"
   ]
  },
  {
   "cell_type": "code",
   "execution_count": 5,
   "metadata": {},
   "outputs": [
    {
     "data": {
      "text/plain": [
       "{'signal': tensor([-0.0003, -0.0019,  0.0305,  ...,  0.0000,  0.0000,  0.0000]),\n",
       " 'label': tensor(0),\n",
       " 'path': './dk_data/tom_high/Roland Tr-909-TR-909Tom Hi 01.wav',\n",
       " 'drum_type': 'tom_high'}"
      ]
     },
     "execution_count": 5,
     "metadata": {},
     "output_type": "execute_result"
    }
   ],
   "source": [
    "class audioDataset(torch.utils.data.Dataset):\n",
    "    def __init__(self,audio_frame,root_dir, task=\"keep_all\",transform=None):\n",
    "        self.root_dir=root_dir\n",
    "        self.task=task\n",
    "        self.audio_frame=audio_frame\n",
    "        self.transform = transform\n",
    "        self.minLength=SR\n",
    "#         self.minLength=SR//4\n",
    "        self.frame_pruning()\n",
    "    def __len__(self):\n",
    "        return len(self.audio_frame)\n",
    "    def __getitem__(self, idx):\n",
    "        if torch.is_tensor(idx):\n",
    "            idx = idx.tolist()\n",
    "        rows=self.audio_frame.iloc[idx]\n",
    "\n",
    "        signals,labels=rows[\"audio\"].tolist()[0:SR],rows[\"label_num\"].tolist()\n",
    "        signals,labels=torch.tensor(signals),torch.tensor(labels)\n",
    "        \n",
    "        nz=np.max((self.minLength-signals.shape[0],0))\n",
    "        signals=torch.cat([signals[0:self.minLength],torch.zeros(nz)],dim=0)\n",
    "\n",
    "        sound={\"signal\":signals,\"label\":labels,\"path\":rows[\"path\"],\"drum_type\":rows[\"label\"]}\n",
    "        \n",
    "        if self.transform:\n",
    "            sound = self.transform(sound)\n",
    "\n",
    "        return sound\n",
    "    \n",
    "    def frame_pruning(self):\n",
    "        #drum vs not drum classification:\n",
    "        drum_label_numbers=range(len(dUniques))\n",
    "        if self.task==\"dvn\":\n",
    "            self.audio_frame.loc[self.audio_frame[\"label_num\"].isin(drum_label_numbers),\"label_num\"]=0\n",
    "            self.audio_frame.loc[~self.audio_frame[\"label_num\"].isin(drum_label_numbers),\"label_num\"]=1\n",
    "        #drum type classification\n",
    "        if self.task==\"dvd\":\n",
    "            self.audio_frame=self.audio_frame.loc[self.audio_frame[\"label_num\"].isin(drum_label_numbers)]\n",
    "        if self.task==\"keep_all\":\n",
    "            pass\n",
    "            \n",
    "ds=audioDataset(pd.concat([drum_frames,not_drum_frames]),\"./\",task=\"dvn\",)\n",
    "idx=np.random.randint(0,len(ds),5)\n",
    "all_frames=pd.concat([drum_frames,not_drum_frames])\n",
    "train=all_frames.sample(frac=0.80,random_state=420) #random state is a seed value\n",
    "test=all_frames.drop(train.index)\n",
    "ds[0]"
   ]
  },
  {
   "cell_type": "code",
   "execution_count": 6,
   "metadata": {},
   "outputs": [
    {
     "name": "stdout",
     "output_type": "stream",
     "text": [
      "torch.Size([1, 30, 20]) tensor([3.7780e-07, 4.3663e-07, 5.1748e-07, 7.8316e-07, 1.0940e-06, 1.2390e-06,\n",
      "        1.0736e-06, 1.3535e-06, 2.2968e-06, 3.7080e-06, 6.0161e-06, 1.3278e-05,\n",
      "        4.6197e-04, 8.3736e-04, 5.2762e-06, 2.5157e-06, 3.3073e-06, 7.1799e-05,\n",
      "        2.6288e-04, 7.9382e-06, 9.9993e-06, 1.3596e-04, 1.9603e-05, 5.6001e-05,\n",
      "        4.2964e-05, 1.4321e-05, 2.6561e-06, 1.5324e-07, 1.0450e-07, 8.6483e-08])\n",
      "('tom_low', 1) tensor(1) 44100\n"
     ]
    },
    {
     "data": {
      "text/html": [
       "\n",
       "                <audio  controls=\"controls\" autoplay=\"autoplay\">\n",
       "                    <source src=\"data:audio/wav;base64,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\" type=\"audio/wav\" />\n",
       "                    Your browser does not support the audio element.\n",
       "                </audio>\n",
       "              "
      ],
      "text/plain": [
       "<IPython.lib.display.Audio object>"
      ]
     },
     "execution_count": 6,
     "metadata": {},
     "output_type": "execute_result"
    },
    {
     "data": {
      "image/png": "[encoded data removed]",
      "text/plain": [
       "<Figure size 1440x288 with 3 Axes>"
      ]
     },
     "metadata": {
      "needs_background": "light"
     },
     "output_type": "display_data"
    }
   ],
   "source": [
    "FREQ_BINS=30\n",
    "TIME_STEPS=20\n",
    "#defining transformations\n",
    "class freqTrans(object):\n",
    "    def __init__(self,num_mels=50,SR=SR):\n",
    "        self.num_mels=num_mels\n",
    "        self.ampT=torchaudio.transforms.AmplitudeToDB(stype='power', top_db=30)\n",
    "        self.melF=torchaudio.transforms.MelScale(n_mels=self.num_mels, sample_rate=SR, f_min=30.0, f_max=None, n_stft=None)\n",
    "        \n",
    "    def __call__(self, sample):\n",
    "        wf,label=sample[\"signal\"],sample[\"label\"]\n",
    "        wf=wf.reshape(-1,len(wf))\n",
    "        sample_length=SR//4\n",
    "        wf=wf[:,0:24000]\n",
    "        num_bins=wf[0].shape[0]\n",
    "        win_length=num_bins\n",
    "        hop_step=sample_length//(self.num_mels)\n",
    "        window=torch.tensor([1]*win_length)\n",
    "        s=spec(wf, 100, window, num_bins, hop_step, win_length,2,normalized=False)\n",
    "        s=self.melF(s)\n",
    "        s=self.ampT(s)\n",
    "        freq=s.sum(axis=0).sum(axis=1)\n",
    "        freq=freq-freq.min()\n",
    "        freq=freq/freq.max()\n",
    "        freq[torch.isnan(freq)]=0\n",
    "        return {\"feats\":freq.detach(),\"label\":label}\n",
    "\n",
    "class envTrans(object):\n",
    "    def __init__(self,num_mels=10,SR=SR):\n",
    "        self.env_size=9\n",
    "        self.num_mels=num_mels\n",
    "        self.amp=torchaudio.transforms.AmplitudeToDB(stype='power', top_db=60)\n",
    "        self.melEnv=torchaudio.transforms.MelScale(n_mels=self.num_mels, sample_rate=SR, f_min=30.0, f_max=None, n_stft=None)\n",
    "#         self.norm= transforms.Normalize((0.5, 0.5, 0.5), (0.5, 0.5, 0.5))\n",
    "    def __call__(self, sample):\n",
    "        wf,label=sample[\"signal\"],sample[\"label\"]\n",
    "        \n",
    "        wf=wf.reshape(-1,len(wf))\n",
    "        sample_length=SR\n",
    "        num_bins=wf[0].shape[0]\n",
    "        win_length=SR//20\n",
    "        hop_step=SR//self.env_size\n",
    "        window=torch.tensor([1]*win_length)\n",
    "        s=spec(wf, 0, window,win_length, hop_step, win_length,2,normalized=False)\n",
    "        s=self.melEnv(s)\n",
    "        s=self.amp(s)\n",
    "#         s=self.norm(s)\n",
    "        #normalizing\n",
    "        env=s.sum(axis=0).sum(axis=0)\n",
    "        env=env-env.min()\n",
    "        env=env/env.max()\n",
    "        env[torch.isnan(env)]=0\n",
    "\n",
    "        num_padding=torch.max(torch.tensor([self.env_size+1-env.shape[0],0]))\n",
    "        env_vec=torch.cat([env.detach(),torch.zeros(num_padding)],dim=0)\n",
    "        return {\"feats\":env_vec.detach(),\"label\":label}\n",
    "\n",
    "class feats_and_env(object):\n",
    "    def __init__(self,feat_mels=50,env_mels=1):\n",
    "        self.ft=freqTrans(num_mels=feat_mels)\n",
    "        self.et=envTrans(num_mels=env_mels)\n",
    "\n",
    "    def __call__(self, sample):\n",
    "            combined_feats=torch.cat((self.ft(sample)[\"feats\"],self.et(sample)[\"feats\"]))\n",
    "            return {\"feats\":combined_feats,\"label\":sample[\"label\"]}\n",
    "        \n",
    "\n",
    "class specTrans(object):\n",
    "    def __init__(self,num_mels=50,SR=SR,time_steps=20):\n",
    "        self.num_mels=num_mels\n",
    "        self.ampP=torchaudio.transforms.AmplitudeToDB(stype='power',top_db=60)\n",
    "        self.melP=torchaudio.transforms.MelScale(n_mels=self.num_mels, sample_rate=SR,n_stft=None)\n",
    "        self.norm= transforms.Normalize((0.5, 0.5, 0.5), (0.5, 0.5, 0.5))\n",
    "        self.hop_step=time_steps-1\n",
    "    def __call__(self, sample):\n",
    "        \n",
    "        wf,label,p,drum_type=sample[\"signal\"],sample[\"label\"],sample[\"path\"],sample[\"drum_type\"]\n",
    "        wf=wf.reshape(-1,len(wf))\n",
    "        sample_length=SR\n",
    "\n",
    "        num_bins=wf[0].shape[0]\n",
    "        win_length=SR//17\n",
    "        hop_step=SR//self.hop_step\n",
    "        window=torch.tensor([1]*win_length)\n",
    "        s=spec(wf, 0, window, num_bins, hop_step, win_length,2,normalized=False)\n",
    "        s=self.melP(s)\n",
    "#         s=self.ampP(s)\n",
    "        s = s - s.min()\n",
    "        s = s/s.abs().max()\n",
    "\n",
    "        freq=s\n",
    "#         freq=self.norm(s)\n",
    "        freq[torch.isnan(freq)]=0\n",
    "        return {\"feats\":freq.detach(),\"label\":label,\"path\":p,\"drum_type\":drum_type}\n",
    "\n",
    "#Apply each of the above transforms on sample.\n",
    "fig = plt.figure(figsize=(20,4))\n",
    "# while True:\n",
    "sample = ds[np.random.randint(len(ds))]\n",
    "#     print(sample[\"label\"].item())\n",
    "#     if sample[\"label\"].item()==1:\n",
    "#         break\n",
    "# freq_train = audioDataset(train,\".\",task=\"dvd\")\n",
    "# f_train_loader= DataLoader(freq_train, batch_size=16, num_workers=1)\n",
    "# sample=iter(f_train_loader).next()\n",
    "# s={\"signal\":sample[\"signal\"][0],\"label\":sample[\"label\"][0],\"path\":sample[\"path\"],\"drum_type\":sample[\"drum_type\"]}\n",
    "# sample=s\n",
    "tfList=[freqTrans(50),envTrans(num_mels=10,SR=SR),specTrans(FREQ_BINS,time_steps=TIME_STEPS)]\n",
    "\n",
    "for i, tsfrm in enumerate(tfList):\n",
    "    transformed_sample = tsfrm(sample)\n",
    "    ax = plt.subplot(1, 3, i + 1)\n",
    "    plt.tight_layout()\n",
    "    ft=transformed_sample[\"feats\"]\n",
    "    if i==0:\n",
    "        plt.title(\"Frequency Features\",fontsize=20)\n",
    "        plt.xlabel(\"Frequency Bin\",fontsize=20)\n",
    "        plt.ylabel(\"Scaled Magnitude\",fontsize=20)\n",
    "                   \n",
    "        plt.scatter(y=ft,x=range(0,len(ft)))\n",
    "    if i==1:\n",
    "        plt.title(\"Envelope Features\",fontsize=20)\n",
    "        plt.xlabel(\"Time Step\",fontsize=20)\n",
    "        plt.ylabel(\"Scaled Magnitude\",fontsize=20)            \n",
    "        plt.scatter(y=ft,x=range(0,len(ft)))\n",
    "    if i==2:\n",
    "        print(ft.shape,ft[0,:,0])\n",
    "        sf=ft.detach().numpy()[0]\n",
    "        ft=ft.detach().numpy()[0]\n",
    "        plt.title(\"Spectrum Features\",fontsize=20)\n",
    "        librosa.display.specshow(sf,cmap='gray_r',)\n",
    "        plt.xlabel(\"Time Step\",fontsize=20)\n",
    "        plt.ylabel(\"Magnitude of Bin\",fontsize=20)\n",
    "\n",
    "#         plt.savefig(\"./plots/ff3.pdf\",bbox_inches = \"tight\")\n",
    "# plt.show()\n",
    "print(lmap[transformed_sample[\"label\"].item()],transformed_sample[\"label\"],len(sample[\"signal\"]))\n",
    "\n",
    "\n",
    "Audio(sample[\"signal\"],rate=SR,autoplay=True)\n"
   ]
  },
  {
   "cell_type": "markdown",
   "metadata": {},
   "source": [
    "# SPEC ENCODER"
   ]
  },
  {
   "cell_type": "code",
   "execution_count": 38,
   "metadata": {},
   "outputs": [],
   "source": [
    "class AE_Linear_1H(nn.Module):\n",
    "    def __init__(self,compression_dim=64,dropout_rate=0.5,input_shape=[30,20]):\n",
    "        super().__init__()\n",
    "        self.dropout = nn.Dropout(dropout_rate)\n",
    "        self.encoder_hidden_layer = nn.Linear(\n",
    "            in_features=input_shape, out_features=128\n",
    "        )\n",
    "        self.encoder_output_layer = nn.Linear(\n",
    "            in_features=128, out_features=compression_dim\n",
    "        )\n",
    "        self.decoder_hidden_layer = nn.Linear(\n",
    "            in_features=compression_dim, out_features=128\n",
    "        )\n",
    "        self.decoder_output_layer = nn.Linear(\n",
    "            in_features=128, out_features=input_shape\n",
    "        )\n",
    "    def forward(self, features):\n",
    "        activation = self.encoder_hidden_layer(features)\n",
    "        activation = self.dropout(torch.relu(activation))\n",
    "        code = self.encoder_output_layer(activation)\n",
    "        code = torch.relu(code)\n",
    "        self.encoding=code\n",
    "        activation = self.decoder_hidden_layer(code)\n",
    "        activation = self.dropout(torch.relu(activation))\n",
    "        activation = self.decoder_output_layer(activation)\n",
    "        reconstructed = torch.relu(activation)\n",
    "        return reconstructed\n",
    "    \n",
    "class AE_Linear_2H(nn.Module):\n",
    "    def __init__(self,compression_dim=8,dropout_rate=0.5,input_shape=[30,20]):\n",
    "        super().__init__()\n",
    "        self.dropout = nn.Dropout(dropout_rate)\n",
    "        self.encoder_hidden_layer1 = nn.Linear(\n",
    "            in_features=input_shape, out_features=128\n",
    "        )\n",
    "        self.encoder_hidden_layer2 = nn.Linear(\n",
    "            in_features=128, out_features=32\n",
    "        )\n",
    "        self.encoder_output_layer = nn.Linear(\n",
    "            in_features=32, out_features=compression_dim\n",
    "        )\n",
    "        self.decoder_hidden_layer1 = nn.Linear(\n",
    "            in_features=compression_dim, out_features=32\n",
    "        )\n",
    "        self.decoder_hidden_layer2 = nn.Linear(\n",
    "            in_features=32, out_features=128\n",
    "        )\n",
    "        self.decoder_output_layer = nn.Linear(\n",
    "            in_features=128, out_features=input_shape\n",
    "        )\n",
    "    def forward(self, features):\n",
    "        activation = self.encoder_hidden_layer1(features)\n",
    "        activation = self.dropout(torch.relu(activation))\n",
    "        h1_out = self.encoder_hidden_layer2(activation)\n",
    "        h1_out = self.dropout(torch.relu(h1_out))\n",
    "        code = self.encoder_output_layer(h1_out)\n",
    "        code = torch.relu(code)\n",
    "        self.encoding=code\n",
    "        activation = self.decoder_hidden_layer1(code)\n",
    "        activation = self.decoder_hidden_layer2(activation)\n",
    "        activation = self.dropout(torch.relu(activation))\n",
    "        activation = self.decoder_output_layer(activation)\n",
    "        reconstructed = torch.relu(activation)\n",
    "        return reconstructed\n",
    "    \n",
    "class AE_Conv(nn.Module):\n",
    "    def __init__(self,input_shape,compression_dim,dropout_rate,num_channels=5):\n",
    "        super(AE_Conv, self).__init__()\n",
    "        self.W=input_shape[0]\n",
    "        self.H=input_shape[1]\n",
    "\n",
    "        self.dropout = nn.Dropout(dropout_rate)\n",
    "        self.Encoder_Conv= nn.Sequential(\n",
    "            nn.Conv2d(1, 8, kernel_size=num_channels, stride=1, padding=2),\n",
    "            nn.ReLU(),\n",
    "            nn.MaxPool2d(kernel_size=2, stride=2))\n",
    "        self.encoder_output_layer = nn.Linear(\n",
    "            in_features=(self.H//2 * self.W//2) * 8, out_features=compression_dim\n",
    "        )\n",
    "        self.decoder_hidden_layer = nn.Linear(\n",
    "            in_features=compression_dim, out_features=256\n",
    "        )\n",
    "        self.decoder_output_layer = nn.Linear(\n",
    "            in_features=256, out_features=self.W*self.H)\n",
    "        \n",
    "    def forward(self, features):\n",
    "        features=features.reshape([-1,1,self.W,self.H])\n",
    "        activation = self.Encoder_Conv(features)\n",
    "        activation = self.dropout(torch.relu(activation))\n",
    "        activation = activation.reshape(activation.size(0), -1)\n",
    "        code = self.encoder_output_layer(activation)\n",
    "        code = torch.relu(code)\n",
    "        self.encoding=code\n",
    "        activation = self.decoder_hidden_layer(code)\n",
    "        activation = torch.relu(activation)\n",
    "        activation = self.decoder_output_layer(activation)\n",
    "        reconstructed = torch.relu(activation)\n",
    "        return reconstructed"
   ]
  },
  {
   "cell_type": "code",
   "execution_count": 39,
   "metadata": {},
   "outputs": [],
   "source": [
    "compression_dim=8\n",
    "spec_dimension=FREQ_BINS*TIME_STEPS\n",
    "\n",
    "device = torch.device(\"cuda\" if torch.cuda.is_available() else \"cpu\")\n",
    "\n",
    "pt=tv.transforms.Compose([specTrans(FREQ_BINS,time_steps=TIME_STEPS)])\n",
    "\n",
    "train=all_frames.sample(frac=0.80,random_state=420) #random state is a seed value\n",
    "test=all_frames.drop(train.index)\n",
    "spec_data_train = audioDataset(train,\".\",\"dvn\", transform=pt)\n",
    "spec_data_test = audioDataset(test,\".\",task=\"dvn\", transform=pt)\n",
    "spec_train_loader= DataLoader(spec_data_train, batch_size=64,shuffle=True, num_workers=32)\n",
    "spec_test_loader= DataLoader(spec_data_test, batch_size=8,shuffle=True, num_workers=6)\n",
    "train_synthless=train[train[\"label_num\"]==0]\n",
    "spec_data_train_nosynth = audioDataset(train_synthless,\".\",task=\"dvn\", transform=pt)\n",
    "spec_train_nosynth_loader= DataLoader(spec_data_train_nosynth, batch_size=16,shuffle=True, num_workers=8)"
   ]
  },
  {
   "cell_type": "code",
   "execution_count": 42,
   "metadata": {
    "scrolled": true
   },
   "outputs": [
    {
     "name": "stderr",
     "output_type": "stream",
     "text": [
      "[I 2020-07-18 21:06:16,771] A new study created with name: Study_ALL\n"
     ]
    },
    {
     "name": "stdout",
     "output_type": "stream",
     "text": [
      "epoch : 0/15, loss = 0.007201\n",
      "epoch : 2/15, loss = 0.005719\n",
      "epoch : 4/15, loss = 0.005721\n",
      "epoch : 6/15, loss = 0.005727\n",
      "epoch : 8/15, loss = 0.005790\n",
      "epoch : 10/15, loss = 0.005711\n",
      "epoch : 12/15, loss = 0.005735\n",
      "epoch : 14/15, loss = 0.005760\n"
     ]
    },
    {
     "name": "stderr",
     "output_type": "stream",
     "text": [
      "[I 2020-07-18 21:07:14,185] Finished trial#0 with value: 0.005760425172092123 with parameters: {'Learning Rate': 0.029768048295101848, 'Dropout Rate': 0.5, 'Latent Size': 4, 'Optimizer': 'SGD', 'Frequency Bins': 30, 'Time Steps': 10, 'Hidden Layers': 1, 'L2 Regularization': 0.0025006613840012682, 'Model Type': 'CNN'}. Best is trial#0 with value: 0.005760425172092123.\n"
     ]
    },
    {
     "name": "stdout",
     "output_type": "stream",
     "text": [
      "epoch : 0/15, loss = 0.006535\n",
      "epoch : 2/15, loss = 0.005002\n",
      "epoch : 4/15, loss = 0.004744\n",
      "epoch : 6/15, loss = 0.004452\n",
      "epoch : 8/15, loss = 0.004541\n",
      "epoch : 10/15, loss = 0.004374\n",
      "epoch : 12/15, loss = 0.004549\n",
      "epoch : 14/15, loss = 0.004387\n"
     ]
    },
    {
     "name": "stderr",
     "output_type": "stream",
     "text": [
      "[I 2020-07-18 21:08:06,669] Finished trial#1 with value: 0.004387061270700327 with parameters: {'Learning Rate': 0.010910259294355932, 'Dropout Rate': 0.30000000000000004, 'Latent Size': 16, 'Optimizer': 'Adam', 'Frequency Bins': 10, 'Time Steps': 10, 'Hidden Layers': 2, 'L2 Regularization': 5.896132836325513e-05, 'Model Type': 'FC'}. Best is trial#1 with value: 0.004387061270700327.\n"
     ]
    },
    {
     "name": "stdout",
     "output_type": "stream",
     "text": [
      "epoch : 0/15, loss = 0.015037\n",
      "epoch : 2/15, loss = 0.009513\n",
      "epoch : 4/15, loss = 0.008136\n",
      "epoch : 6/15, loss = 0.007565\n",
      "epoch : 8/15, loss = 0.007298\n",
      "epoch : 10/15, loss = 0.007104\n",
      "epoch : 12/15, loss = 0.007048\n",
      "epoch : 14/15, loss = 0.006925\n"
     ]
    },
    {
     "name": "stderr",
     "output_type": "stream",
     "text": [
      "[I 2020-07-18 21:09:31,486] Finished trial#2 with value: 0.0069251065071359395 with parameters: {'Learning Rate': 0.006946999370170731, 'Dropout Rate': 0.5, 'Latent Size': 4, 'Optimizer': 'SGD', 'Frequency Bins': 10, 'Time Steps': 20, 'Hidden Layers': 2, 'L2 Regularization': 0.003057396370908644, 'Model Type': 'FC'}. Best is trial#1 with value: 0.004387061270700327.\n"
     ]
    },
    {
     "name": "stdout",
     "output_type": "stream",
     "text": [
      "epoch : 0/15, loss = 0.006669\n",
      "epoch : 2/15, loss = 0.006399\n",
      "epoch : 4/15, loss = 0.006419\n",
      "epoch : 6/15, loss = 0.006401\n",
      "epoch : 8/15, loss = 0.006364\n",
      "epoch : 10/15, loss = 0.006399\n",
      "epoch : 12/15, loss = 0.006412\n",
      "epoch : 14/15, loss = 0.006396\n"
     ]
    },
    {
     "name": "stderr",
     "output_type": "stream",
     "text": [
      "[I 2020-07-18 21:10:56,371] Finished trial#3 with value: 0.00639618844156445 with parameters: {'Learning Rate': 0.04594047303488708, 'Dropout Rate': 0.2, 'Latent Size': 16, 'Optimizer': 'Adam', 'Frequency Bins': 10, 'Time Steps': 20, 'Hidden Layers': 1, 'L2 Regularization': 0.00046293456935160674, 'Model Type': 'FC'}. Best is trial#1 with value: 0.004387061270700327.\n"
     ]
    },
    {
     "name": "stdout",
     "output_type": "stream",
     "text": [
      "epoch : 0/15, loss = 0.007128\n",
      "epoch : 2/15, loss = 0.005177\n",
      "epoch : 4/15, loss = 0.004747\n",
      "epoch : 6/15, loss = 0.004509\n",
      "epoch : 8/15, loss = 0.004387\n",
      "epoch : 10/15, loss = 0.004296\n",
      "epoch : 12/15, loss = 0.004245\n",
      "epoch : 14/15, loss = 0.004215\n"
     ]
    },
    {
     "name": "stderr",
     "output_type": "stream",
     "text": [
      "[I 2020-07-18 21:12:24,469] Finished trial#4 with value: 0.0042147635116121015 with parameters: {'Learning Rate': 0.02830638928286765, 'Dropout Rate': 0.5, 'Latent Size': 16, 'Optimizer': 'SGD', 'Frequency Bins': 30, 'Time Steps': 20, 'Hidden Layers': 2, 'L2 Regularization': 1.7423002992682354e-05, 'Model Type': 'FC'}. Best is trial#4 with value: 0.0042147635116121015.\n"
     ]
    },
    {
     "name": "stdout",
     "output_type": "stream",
     "text": [
      "epoch : 0/15, loss = 0.002873\n",
      "epoch : 2/15, loss = 0.002516\n",
      "epoch : 4/15, loss = 0.002542\n",
      "epoch : 6/15, loss = 0.002526\n",
      "epoch : 8/15, loss = 0.002536\n",
      "epoch : 10/15, loss = 0.002526\n",
      "epoch : 12/15, loss = 0.002564\n",
      "epoch : 14/15, loss = 0.002517\n"
     ]
    },
    {
     "name": "stderr",
     "output_type": "stream",
     "text": [
      "[I 2020-07-18 21:13:57,769] Finished trial#5 with value: 0.0025169140390895366 with parameters: {'Learning Rate': 0.06499553694787287, 'Dropout Rate': 0.2, 'Latent Size': 64, 'Optimizer': 'Adam', 'Frequency Bins': 60, 'Time Steps': 20, 'Hidden Layers': 1, 'L2 Regularization': 0.00017075914666414286, 'Model Type': 'CNN'}. Best is trial#5 with value: 0.0025169140390895366.\n"
     ]
    },
    {
     "name": "stdout",
     "output_type": "stream",
     "text": [
      "epoch : 0/15, loss = 0.007793\n",
      "epoch : 2/15, loss = 0.004443\n",
      "epoch : 4/15, loss = 0.004146\n",
      "epoch : 6/15, loss = 0.004018\n",
      "epoch : 8/15, loss = 0.003972\n",
      "epoch : 10/15, loss = 0.003969\n",
      "epoch : 12/15, loss = 0.003961\n",
      "epoch : 14/15, loss = 0.003961\n"
     ]
    },
    {
     "name": "stderr",
     "output_type": "stream",
     "text": [
      "[I 2020-07-18 21:15:08,366] Finished trial#6 with value: 0.003960726206823615 with parameters: {'Learning Rate': 0.03509102465783208, 'Dropout Rate': 0.1, 'Latent Size': 4, 'Optimizer': 'SGD', 'Frequency Bins': 60, 'Time Steps': 10, 'Hidden Layers': 1, 'L2 Regularization': 0.0018975195450550522, 'Model Type': 'FC'}. Best is trial#5 with value: 0.0025169140390895366.\n"
     ]
    },
    {
     "name": "stdout",
     "output_type": "stream",
     "text": [
      "epoch : 0/15, loss = 0.006572\n",
      "epoch : 2/15, loss = 0.006412\n"
     ]
    },
    {
     "name": "stderr",
     "output_type": "stream",
     "text": [
      "[I 2020-07-18 21:15:36,645] Setting status of trial#7 as TrialState.PRUNED. \n"
     ]
    },
    {
     "name": "stdout",
     "output_type": "stream",
     "text": [
      "epoch : 0/15, loss = 6.506114\n",
      "epoch : 2/15, loss = 0.002987\n",
      "epoch : 4/15, loss = 0.003138\n",
      "epoch : 6/15, loss = 0.019637\n",
      "epoch : 8/15, loss = 0.002978\n",
      "epoch : 10/15, loss = 0.002962\n",
      "epoch : 12/15, loss = 0.003587\n",
      "epoch : 14/15, loss = 0.005159\n"
     ]
    },
    {
     "name": "stderr",
     "output_type": "stream",
     "text": [
      "[I 2020-07-18 21:17:09,778] Finished trial#8 with value: 0.005158935630878874 with parameters: {'Learning Rate': 0.08064151814339622, 'Dropout Rate': 0.0, 'Latent Size': 64, 'Optimizer': 'Adam', 'Frequency Bins': 60, 'Time Steps': 20, 'Hidden Layers': 2, 'L2 Regularization': 1.409497773636902e-05, 'Model Type': 'FC'}. Best is trial#5 with value: 0.0025169140390895366.\n"
     ]
    },
    {
     "name": "stdout",
     "output_type": "stream",
     "text": [
      "epoch : 0/15, loss = 0.006347\n",
      "epoch : 2/15, loss = 0.004821\n"
     ]
    },
    {
     "name": "stderr",
     "output_type": "stream",
     "text": [
      "[I 2020-07-18 21:17:37,889] Setting status of trial#9 as TrialState.PRUNED. \n"
     ]
    },
    {
     "name": "stdout",
     "output_type": "stream",
     "text": [
      "epoch : 0/15, loss = 0.005727\n",
      "epoch : 2/15, loss = 0.005194\n"
     ]
    },
    {
     "name": "stderr",
     "output_type": "stream",
     "text": [
      "[I 2020-07-18 21:18:01,589] Setting status of trial#10 as TrialState.PRUNED. \n"
     ]
    },
    {
     "name": "stdout",
     "output_type": "stream",
     "text": [
      "epoch : 0/15, loss = 0.004787\n",
      "epoch : 2/15, loss = 0.004702\n",
      "epoch : 4/15, loss = 0.004674\n",
      "epoch : 6/15, loss = 0.004685\n",
      "epoch : 8/15, loss = 0.004687\n"
     ]
    },
    {
     "name": "stderr",
     "output_type": "stream",
     "text": [
      "[I 2020-07-18 21:19:05,748] Setting status of trial#11 as TrialState.PRUNED. \n"
     ]
    },
    {
     "name": "stdout",
     "output_type": "stream",
     "text": [
      "epoch : 0/15, loss = 0.006043\n",
      "epoch : 2/15, loss = 0.003883\n",
      "epoch : 4/15, loss = 0.003768\n",
      "epoch : 6/15, loss = 0.003801\n",
      "epoch : 8/15, loss = 0.003803\n"
     ]
    },
    {
     "name": "stderr",
     "output_type": "stream",
     "text": [
      "[I 2020-07-18 21:20:10,564] Setting status of trial#12 as TrialState.PRUNED. \n"
     ]
    },
    {
     "name": "stdout",
     "output_type": "stream",
     "text": [
      "epoch : 0/15, loss = 0.008010\n"
     ]
    },
    {
     "name": "stderr",
     "output_type": "stream",
     "text": [
      "[I 2020-07-18 21:20:27,867] Setting status of trial#13 as TrialState.PRUNED. \n"
     ]
    },
    {
     "name": "stdout",
     "output_type": "stream",
     "text": [
      "epoch : 0/15, loss = 0.005528\n",
      "epoch : 2/15, loss = 0.004636\n",
      "epoch : 4/15, loss = 0.004602\n",
      "epoch : 6/15, loss = 0.004560\n",
      "epoch : 8/15, loss = 0.004544\n"
     ]
    },
    {
     "name": "stderr",
     "output_type": "stream",
     "text": [
      "[I 2020-07-18 21:21:20,298] Setting status of trial#14 as TrialState.PRUNED. \n"
     ]
    },
    {
     "name": "stdout",
     "output_type": "stream",
     "text": [
      "epoch : 0/15, loss = 0.008154\n",
      "epoch : 2/15, loss = 0.008347\n"
     ]
    },
    {
     "name": "stderr",
     "output_type": "stream",
     "text": [
      "[I 2020-07-18 21:21:49,134] Setting status of trial#15 as TrialState.PRUNED. \n"
     ]
    },
    {
     "name": "stdout",
     "output_type": "stream",
     "text": [
      "epoch : 0/15, loss = 0.003971\n",
      "epoch : 2/15, loss = 0.003925\n",
      "epoch : 4/15, loss = 0.003961\n",
      "epoch : 6/15, loss = 0.003902\n",
      "epoch : 8/15, loss = 0.003947\n"
     ]
    },
    {
     "name": "stderr",
     "output_type": "stream",
     "text": [
      "[I 2020-07-18 21:22:54,293] Setting status of trial#16 as TrialState.PRUNED. \n"
     ]
    },
    {
     "name": "stdout",
     "output_type": "stream",
     "text": [
      "epoch : 0/15, loss = 0.012389\n"
     ]
    },
    {
     "name": "stderr",
     "output_type": "stream",
     "text": [
      "[I 2020-07-18 21:23:05,047] Setting status of trial#17 as TrialState.PRUNED. \n"
     ]
    },
    {
     "name": "stdout",
     "output_type": "stream",
     "text": [
      "epoch : 0/15, loss = 0.002643\n",
      "epoch : 2/15, loss = 0.002587\n",
      "epoch : 4/15, loss = 0.002596\n",
      "epoch : 6/15, loss = 0.002610\n",
      "epoch : 8/15, loss = 0.002594\n",
      "epoch : 10/15, loss = 0.002593\n",
      "epoch : 12/15, loss = 0.002600\n",
      "epoch : 14/15, loss = 0.002596\n"
     ]
    },
    {
     "name": "stderr",
     "output_type": "stream",
     "text": [
      "[I 2020-07-18 21:24:37,797] Finished trial#18 with value: 0.002595746178777163 with parameters: {'Learning Rate': 0.07631482927659435, 'Dropout Rate': 0.0, 'Latent Size': 64, 'Optimizer': 'Adam', 'Frequency Bins': 60, 'Time Steps': 20, 'Hidden Layers': 1, 'L2 Regularization': 0.0009847313238726106, 'Model Type': 'FC'}. Best is trial#5 with value: 0.0025169140390895366.\n"
     ]
    },
    {
     "name": "stdout",
     "output_type": "stream",
     "text": [
      "epoch : 0/15, loss = 0.008147\n"
     ]
    },
    {
     "name": "stderr",
     "output_type": "stream",
     "text": [
      "[I 2020-07-18 21:24:54,630] Setting status of trial#19 as TrialState.PRUNED. \n"
     ]
    },
    {
     "name": "stdout",
     "output_type": "stream",
     "text": [
      "epoch : 0/15, loss = 0.003957\n",
      "epoch : 2/15, loss = 0.003928\n",
      "epoch : 4/15, loss = 0.003928\n",
      "epoch : 6/15, loss = 0.003927\n",
      "epoch : 8/15, loss = 0.003959\n",
      "epoch : 10/15, loss = 0.003917\n",
      "epoch : 12/15, loss = 0.003917\n",
      "epoch : 14/15, loss = 0.003917\n"
     ]
    },
    {
     "name": "stderr",
     "output_type": "stream",
     "text": [
      "[I 2020-07-18 21:26:06,578] Finished trial#20 with value: 0.0039167492614902615 with parameters: {'Learning Rate': 0.046962650989548355, 'Dropout Rate': 0.5, 'Latent Size': 64, 'Optimizer': 'Adam', 'Frequency Bins': 60, 'Time Steps': 10, 'Hidden Layers': 1, 'L2 Regularization': 0.0016944508012834033, 'Model Type': 'FC'}. Best is trial#5 with value: 0.0025169140390895366.\n"
     ]
    },
    {
     "name": "stdout",
     "output_type": "stream",
     "text": [
      "epoch : 0/15, loss = 0.007897\n",
      "epoch : 2/15, loss = 0.005850\n"
     ]
    },
    {
     "name": "stderr",
     "output_type": "stream",
     "text": [
      "[I 2020-07-18 21:26:25,817] Setting status of trial#21 as TrialState.PRUNED. \n"
     ]
    },
    {
     "name": "stdout",
     "output_type": "stream",
     "text": [
      "epoch : 0/15, loss = 0.002316\n",
      "epoch : 2/15, loss = 0.001511\n",
      "epoch : 4/15, loss = 0.001332\n",
      "epoch : 6/15, loss = 0.001272\n",
      "epoch : 8/15, loss = 0.001233\n",
      "epoch : 10/15, loss = 0.001199\n",
      "epoch : 12/15, loss = 0.001136\n",
      "epoch : 14/15, loss = 0.001129\n"
     ]
    },
    {
     "name": "stderr",
     "output_type": "stream",
     "text": [
      "[I 2020-07-18 21:27:37,242] Finished trial#22 with value: 0.0011292714885531975 with parameters: {'Learning Rate': 0.00374997206650627, 'Dropout Rate': 0.30000000000000004, 'Latent Size': 64, 'Optimizer': 'Adam', 'Frequency Bins': 60, 'Time Steps': 10, 'Hidden Layers': 1, 'L2 Regularization': 1.0131020374110523e-06, 'Model Type': 'FC'}. Best is trial#22 with value: 0.0011292714885531975.\n"
     ]
    },
    {
     "name": "stdout",
     "output_type": "stream",
     "text": [
      "epoch : 0/15, loss = 0.002568\n",
      "epoch : 2/15, loss = 0.001884\n",
      "epoch : 4/15, loss = 0.001823\n",
      "epoch : 6/15, loss = 0.001825\n",
      "epoch : 8/15, loss = 0.001788\n",
      "epoch : 10/15, loss = 0.001785\n",
      "epoch : 12/15, loss = 0.001774\n",
      "epoch : 14/15, loss = 0.001752\n"
     ]
    },
    {
     "name": "stderr",
     "output_type": "stream",
     "text": [
      "[I 2020-07-18 21:28:48,183] Finished trial#23 with value: 0.0017523966798068287 with parameters: {'Learning Rate': 0.012091749164589036, 'Dropout Rate': 0.30000000000000004, 'Latent Size': 64, 'Optimizer': 'Adam', 'Frequency Bins': 60, 'Time Steps': 10, 'Hidden Layers': 1, 'L2 Regularization': 1.2761377091859854e-06, 'Model Type': 'FC'}. Best is trial#22 with value: 0.0011292714885531975.\n"
     ]
    },
    {
     "name": "stdout",
     "output_type": "stream",
     "text": [
      "epoch : 0/15, loss = 0.021748\n",
      "epoch : 2/15, loss = 0.007027\n"
     ]
    },
    {
     "name": "stderr",
     "output_type": "stream",
     "text": [
      "[I 2020-07-18 21:29:07,451] Setting status of trial#24 as TrialState.PRUNED. \n"
     ]
    },
    {
     "name": "stdout",
     "output_type": "stream",
     "text": [
      "epoch : 0/15, loss = 0.005214\n",
      "epoch : 2/15, loss = 0.004738\n",
      "epoch : 4/15, loss = 0.004475\n",
      "epoch : 6/15, loss = 0.004332\n",
      "epoch : 8/15, loss = 0.004250\n"
     ]
    },
    {
     "name": "stderr",
     "output_type": "stream",
     "text": [
      "[I 2020-07-18 21:29:59,899] Setting status of trial#25 as TrialState.PRUNED. \n"
     ]
    },
    {
     "name": "stdout",
     "output_type": "stream",
     "text": [
      "epoch : 0/15, loss = 0.003169\n",
      "epoch : 2/15, loss = 0.001587\n",
      "epoch : 4/15, loss = 0.001393\n",
      "epoch : 6/15, loss = 0.001245\n",
      "epoch : 8/15, loss = 0.001158\n",
      "epoch : 10/15, loss = 0.001106\n",
      "epoch : 12/15, loss = 0.001071\n",
      "epoch : 14/15, loss = 0.001049\n"
     ]
    },
    {
     "name": "stderr",
     "output_type": "stream",
     "text": [
      "[I 2020-07-18 21:31:10,863] Finished trial#26 with value: 0.0010487575007101365 with parameters: {'Learning Rate': 0.001059759581690608, 'Dropout Rate': 0.30000000000000004, 'Latent Size': 64, 'Optimizer': 'Adam', 'Frequency Bins': 60, 'Time Steps': 10, 'Hidden Layers': 1, 'L2 Regularization': 1.5921111100748799e-06, 'Model Type': 'FC'}. Best is trial#26 with value: 0.0010487575007101365.\n"
     ]
    },
    {
     "name": "stdout",
     "output_type": "stream",
     "text": [
      "epoch : 0/15, loss = 0.017737\n",
      "epoch : 2/15, loss = 0.009851\n",
      "epoch : 4/15, loss = 0.009202\n",
      "epoch : 6/15, loss = 0.009181\n",
      "epoch : 8/15, loss = 0.009204\n"
     ]
    },
    {
     "name": "stderr",
     "output_type": "stream",
     "text": [
      "[I 2020-07-18 21:32:12,681] Setting status of trial#27 as TrialState.PRUNED. \n"
     ]
    },
    {
     "name": "stdout",
     "output_type": "stream",
     "text": [
      "epoch : 0/15, loss = 0.002828\n",
      "epoch : 2/15, loss = 0.001493\n",
      "epoch : 4/15, loss = 0.001288\n",
      "epoch : 6/15, loss = 0.001193\n",
      "epoch : 8/15, loss = 0.001130\n",
      "epoch : 10/15, loss = 0.001091\n",
      "epoch : 12/15, loss = 0.001054\n",
      "epoch : 14/15, loss = 0.001027\n"
     ]
    },
    {
     "name": "stderr",
     "output_type": "stream",
     "text": [
      "[I 2020-07-18 21:33:23,297] Finished trial#28 with value: 0.0010268575079092144 with parameters: {'Learning Rate': 0.0012995497777308004, 'Dropout Rate': 0.30000000000000004, 'Latent Size': 64, 'Optimizer': 'Adam', 'Frequency Bins': 60, 'Time Steps': 10, 'Hidden Layers': 1, 'L2 Regularization': 1.1271634713059379e-06, 'Model Type': 'FC'}. Best is trial#28 with value: 0.0010268575079092144.\n"
     ]
    },
    {
     "name": "stdout",
     "output_type": "stream",
     "text": [
      "epoch : 0/15, loss = 0.002573\n",
      "epoch : 2/15, loss = 0.002146\n"
     ]
    },
    {
     "name": "stderr",
     "output_type": "stream",
     "text": [
      "[I 2020-07-18 21:33:46,891] Setting status of trial#29 as TrialState.PRUNED. \n"
     ]
    },
    {
     "name": "stdout",
     "output_type": "stream",
     "text": [
      "epoch : 0/15, loss = 0.005081\n",
      "epoch : 2/15, loss = 0.004415\n",
      "epoch : 4/15, loss = 0.004212\n",
      "epoch : 6/15, loss = 0.004145\n",
      "epoch : 8/15, loss = 0.004120\n"
     ]
    },
    {
     "name": "stderr",
     "output_type": "stream",
     "text": [
      "[I 2020-07-18 21:34:38,740] Setting status of trial#30 as TrialState.PRUNED. \n"
     ]
    },
    {
     "name": "stdout",
     "output_type": "stream",
     "text": [
      "epoch : 0/15, loss = 0.004992\n",
      "epoch : 2/15, loss = 0.004669\n",
      "epoch : 4/15, loss = 0.004658\n",
      "epoch : 6/15, loss = 0.004664\n",
      "epoch : 8/15, loss = 0.004664\n"
     ]
    },
    {
     "name": "stderr",
     "output_type": "stream",
     "text": [
      "[I 2020-07-18 21:35:43,090] Setting status of trial#31 as TrialState.PRUNED. \n"
     ]
    },
    {
     "name": "stdout",
     "output_type": "stream",
     "text": [
      "epoch : 0/15, loss = 0.002697\n",
      "epoch : 2/15, loss = 0.002533\n",
      "epoch : 4/15, loss = 0.002528\n",
      "epoch : 6/15, loss = 0.002521\n",
      "epoch : 8/15, loss = 0.002524\n"
     ]
    },
    {
     "name": "stderr",
     "output_type": "stream",
     "text": [
      "[I 2020-07-18 21:36:51,475] Setting status of trial#32 as TrialState.PRUNED. \n"
     ]
    },
    {
     "name": "stdout",
     "output_type": "stream",
     "text": [
      "epoch : 0/15, loss = 0.012578\n",
      "epoch : 2/15, loss = 0.010672\n",
      "epoch : 4/15, loss = 0.010611\n",
      "epoch : 6/15, loss = 0.010650\n",
      "epoch : 8/15, loss = 0.010698\n"
     ]
    },
    {
     "name": "stderr",
     "output_type": "stream",
     "text": [
      "[I 2020-07-18 21:37:29,760] Setting status of trial#33 as TrialState.PRUNED. \n"
     ]
    },
    {
     "name": "stdout",
     "output_type": "stream",
     "text": [
      "epoch : 0/15, loss = 0.005110\n",
      "epoch : 2/15, loss = 0.004239\n",
      "epoch : 4/15, loss = 0.003795\n",
      "epoch : 6/15, loss = 0.003801\n",
      "epoch : 8/15, loss = 0.003818\n"
     ]
    },
    {
     "name": "stderr",
     "output_type": "stream",
     "text": [
      "[I 2020-07-18 21:38:21,392] Setting status of trial#34 as TrialState.PRUNED. \n"
     ]
    },
    {
     "name": "stdout",
     "output_type": "stream",
     "text": [
      "epoch : 0/15, loss = 0.003153\n",
      "epoch : 2/15, loss = 0.001592\n",
      "epoch : 4/15, loss = 0.001371\n",
      "epoch : 6/15, loss = 0.001257\n",
      "epoch : 8/15, loss = 0.001177\n",
      "epoch : 10/15, loss = 0.001115\n",
      "epoch : 12/15, loss = 0.001073\n",
      "epoch : 14/15, loss = 0.001038\n"
     ]
    },
    {
     "name": "stderr",
     "output_type": "stream",
     "text": [
      "[I 2020-07-18 21:39:31,913] Finished trial#35 with value: 0.0010382825071489766 with parameters: {'Learning Rate': 0.0008508606837713346, 'Dropout Rate': 0.30000000000000004, 'Latent Size': 64, 'Optimizer': 'Adam', 'Frequency Bins': 60, 'Time Steps': 10, 'Hidden Layers': 1, 'L2 Regularization': 3.1453541914389663e-06, 'Model Type': 'FC'}. Best is trial#28 with value: 0.0010268575079092144.\n"
     ]
    },
    {
     "name": "stdout",
     "output_type": "stream",
     "text": [
      "epoch : 0/15, loss = 0.002903\n"
     ]
    },
    {
     "name": "stderr",
     "output_type": "stream",
     "text": [
      "[I 2020-07-18 21:39:46,080] Setting status of trial#36 as TrialState.PRUNED. \n"
     ]
    },
    {
     "name": "stdout",
     "output_type": "stream",
     "text": [
      "epoch : 0/15, loss = 0.005065\n"
     ]
    },
    {
     "name": "stderr",
     "output_type": "stream",
     "text": [
      "[I 2020-07-18 21:39:57,949] Setting status of trial#37 as TrialState.PRUNED. \n"
     ]
    },
    {
     "name": "stdout",
     "output_type": "stream",
     "text": [
      "epoch : 0/15, loss = 0.002830\n"
     ]
    },
    {
     "name": "stderr",
     "output_type": "stream",
     "text": [
      "[I 2020-07-18 21:40:12,092] Setting status of trial#38 as TrialState.PRUNED. \n"
     ]
    },
    {
     "name": "stdout",
     "output_type": "stream",
     "text": [
      "epoch : 0/15, loss = 0.004284\n"
     ]
    },
    {
     "name": "stderr",
     "output_type": "stream",
     "text": [
      "[I 2020-07-18 21:40:26,181] Setting status of trial#39 as TrialState.PRUNED. \n"
     ]
    },
    {
     "name": "stdout",
     "output_type": "stream",
     "text": [
      "epoch : 0/15, loss = 0.006863\n",
      "epoch : 2/15, loss = 0.005903\n"
     ]
    },
    {
     "name": "stderr",
     "output_type": "stream",
     "text": [
      "[I 2020-07-18 21:40:45,343] Setting status of trial#40 as TrialState.PRUNED. \n"
     ]
    },
    {
     "name": "stdout",
     "output_type": "stream",
     "text": [
      "epoch : 0/15, loss = 0.004603\n"
     ]
    },
    {
     "name": "stderr",
     "output_type": "stream",
     "text": [
      "[I 2020-07-18 21:40:59,562] Setting status of trial#41 as TrialState.PRUNED. \n"
     ]
    },
    {
     "name": "stdout",
     "output_type": "stream",
     "text": [
      "epoch : 0/15, loss = 0.003509\n",
      "epoch : 2/15, loss = 0.002857\n",
      "epoch : 4/15, loss = 0.002861\n",
      "epoch : 6/15, loss = 0.002858\n",
      "epoch : 8/15, loss = 0.002864\n"
     ]
    },
    {
     "name": "stderr",
     "output_type": "stream",
     "text": [
      "[I 2020-07-18 21:42:07,643] Setting status of trial#42 as TrialState.PRUNED. \n"
     ]
    },
    {
     "name": "stdout",
     "output_type": "stream",
     "text": [
      "epoch : 0/15, loss = 0.005684\n",
      "epoch : 2/15, loss = 0.005523\n"
     ]
    },
    {
     "name": "stderr",
     "output_type": "stream",
     "text": [
      "[I 2020-07-18 21:42:27,322] Setting status of trial#43 as TrialState.PRUNED. \n"
     ]
    },
    {
     "name": "stdout",
     "output_type": "stream",
     "text": [
      "epoch : 0/15, loss = 0.003332\n",
      "epoch : 2/15, loss = 0.001544\n",
      "epoch : 4/15, loss = 0.001326\n",
      "epoch : 6/15, loss = 0.001216\n",
      "epoch : 8/15, loss = 0.001125\n",
      "epoch : 10/15, loss = 0.001091\n",
      "epoch : 12/15, loss = 0.001047\n",
      "epoch : 14/15, loss = 0.001029\n"
     ]
    },
    {
     "name": "stderr",
     "output_type": "stream",
     "text": [
      "[I 2020-07-18 21:43:38,133] Finished trial#44 with value: 0.0010287659211645885 with parameters: {'Learning Rate': 0.0007947824136708289, 'Dropout Rate': 0.30000000000000004, 'Latent Size': 64, 'Optimizer': 'Adam', 'Frequency Bins': 60, 'Time Steps': 10, 'Hidden Layers': 1, 'L2 Regularization': 1.1442384472710743e-06, 'Model Type': 'FC'}. Best is trial#28 with value: 0.0010268575079092144.\n"
     ]
    },
    {
     "name": "stdout",
     "output_type": "stream",
     "text": [
      "epoch : 0/15, loss = 0.005135\n",
      "epoch : 2/15, loss = 0.004906\n",
      "epoch : 4/15, loss = 0.005009\n",
      "epoch : 6/15, loss = 0.004847\n",
      "epoch : 8/15, loss = 0.005358\n"
     ]
    },
    {
     "name": "stderr",
     "output_type": "stream",
     "text": [
      "[I 2020-07-18 21:44:20,747] Setting status of trial#45 as TrialState.PRUNED. \n"
     ]
    },
    {
     "name": "stdout",
     "output_type": "stream",
     "text": [
      "epoch : 0/15, loss = 0.003375\n",
      "epoch : 2/15, loss = 0.002855\n",
      "epoch : 4/15, loss = 0.002870\n",
      "epoch : 6/15, loss = 0.002869\n",
      "epoch : 8/15, loss = 0.002860\n"
     ]
    },
    {
     "name": "stderr",
     "output_type": "stream",
     "text": [
      "[I 2020-07-18 21:45:28,927] Setting status of trial#46 as TrialState.PRUNED. \n"
     ]
    },
    {
     "name": "stdout",
     "output_type": "stream",
     "text": [
      "epoch : 0/15, loss = 0.002707\n",
      "epoch : 2/15, loss = 0.001957\n"
     ]
    },
    {
     "name": "stderr",
     "output_type": "stream",
     "text": [
      "[I 2020-07-18 21:45:52,691] Setting status of trial#47 as TrialState.PRUNED. \n"
     ]
    },
    {
     "name": "stdout",
     "output_type": "stream",
     "text": [
      "epoch : 0/15, loss = 0.006210\n",
      "epoch : 2/15, loss = 0.004142\n"
     ]
    },
    {
     "name": "stderr",
     "output_type": "stream",
     "text": [
      "[I 2020-07-18 21:46:22,046] Setting status of trial#48 as TrialState.PRUNED. \n"
     ]
    },
    {
     "name": "stdout",
     "output_type": "stream",
     "text": [
      "epoch : 0/15, loss = 0.005884\n",
      "epoch : 2/15, loss = 0.005220\n"
     ]
    },
    {
     "name": "stderr",
     "output_type": "stream",
     "text": [
      "[I 2020-07-18 21:46:45,671] Setting status of trial#49 as TrialState.PRUNED. \n"
     ]
    },
    {
     "name": "stdout",
     "output_type": "stream",
     "text": [
      "epoch : 0/15, loss = 0.003809\n",
      "epoch : 2/15, loss = 0.001703\n"
     ]
    },
    {
     "name": "stderr",
     "output_type": "stream",
     "text": [
      "[I 2020-07-18 21:47:09,048] Setting status of trial#50 as TrialState.PRUNED. \n"
     ]
    },
    {
     "name": "stdout",
     "output_type": "stream",
     "text": [
      "epoch : 0/15, loss = 0.002700\n"
     ]
    },
    {
     "name": "stderr",
     "output_type": "stream",
     "text": [
      "[I 2020-07-18 21:47:23,365] Setting status of trial#51 as TrialState.PRUNED. \n"
     ]
    },
    {
     "name": "stdout",
     "output_type": "stream",
     "text": [
      "epoch : 0/15, loss = 0.003825\n"
     ]
    },
    {
     "name": "stderr",
     "output_type": "stream",
     "text": [
      "[I 2020-07-18 21:47:37,809] Setting status of trial#52 as TrialState.PRUNED. \n"
     ]
    },
    {
     "name": "stdout",
     "output_type": "stream",
     "text": [
      "epoch : 0/15, loss = 0.003406\n"
     ]
    },
    {
     "name": "stderr",
     "output_type": "stream",
     "text": [
      "[I 2020-07-18 21:47:49,439] Setting status of trial#53 as TrialState.PRUNED. \n"
     ]
    },
    {
     "name": "stdout",
     "output_type": "stream",
     "text": [
      "epoch : 0/15, loss = 0.006128\n",
      "epoch : 2/15, loss = 0.005937\n",
      "epoch : 4/15, loss = 0.005949\n",
      "epoch : 6/15, loss = 0.005927\n",
      "epoch : 8/15, loss = 0.005931\n"
     ]
    },
    {
     "name": "stderr",
     "output_type": "stream",
     "text": [
      "[I 2020-07-18 21:48:32,133] Setting status of trial#54 as TrialState.PRUNED. \n"
     ]
    },
    {
     "name": "stdout",
     "output_type": "stream",
     "text": [
      "epoch : 0/15, loss = 0.005374\n",
      "epoch : 2/15, loss = 0.004618\n"
     ]
    },
    {
     "name": "stderr",
     "output_type": "stream",
     "text": [
      "[I 2020-07-18 21:49:02,006] Setting status of trial#55 as TrialState.PRUNED. \n"
     ]
    },
    {
     "name": "stdout",
     "output_type": "stream",
     "text": [
      "epoch : 0/15, loss = 0.002942\n",
      "epoch : 2/15, loss = 0.002893\n",
      "epoch : 4/15, loss = 0.002882\n",
      "epoch : 6/15, loss = 0.002885\n",
      "epoch : 8/15, loss = 0.002917\n",
      "epoch : 10/15, loss = 0.002884\n",
      "epoch : 12/15, loss = 0.002884\n",
      "epoch : 14/15, loss = 0.002887\n"
     ]
    },
    {
     "name": "stderr",
     "output_type": "stream",
     "text": [
      "[I 2020-07-18 21:50:34,433] Finished trial#56 with value: 0.002887428667972163 with parameters: {'Learning Rate': 0.06281782218856267, 'Dropout Rate': 0.1, 'Latent Size': 16, 'Optimizer': 'Adam', 'Frequency Bins': 60, 'Time Steps': 20, 'Hidden Layers': 1, 'L2 Regularization': 0.019902887212752237, 'Model Type': 'FC'}. Best is trial#28 with value: 0.0010268575079092144.\n"
     ]
    },
    {
     "name": "stdout",
     "output_type": "stream",
     "text": [
      "epoch : 0/15, loss = 0.004145\n"
     ]
    },
    {
     "name": "stderr",
     "output_type": "stream",
     "text": [
      "[I 2020-07-18 21:50:48,549] Setting status of trial#57 as TrialState.PRUNED. \n"
     ]
    },
    {
     "name": "stdout",
     "output_type": "stream",
     "text": [
      "epoch : 0/15, loss = 0.002303\n",
      "epoch : 2/15, loss = 0.001589\n"
     ]
    },
    {
     "name": "stderr",
     "output_type": "stream",
     "text": [
      "[I 2020-07-18 21:51:12,193] Setting status of trial#58 as TrialState.PRUNED. \n"
     ]
    },
    {
     "name": "stdout",
     "output_type": "stream",
     "text": [
      "epoch : 0/15, loss = 0.008285\n"
     ]
    },
    {
     "name": "stderr",
     "output_type": "stream",
     "text": [
      "[I 2020-07-18 21:51:26,634] Setting status of trial#59 as TrialState.PRUNED. \n"
     ]
    },
    {
     "name": "stdout",
     "output_type": "stream",
     "text": [
      "epoch : 0/15, loss = 0.002479\n",
      "epoch : 2/15, loss = 0.001821\n"
     ]
    },
    {
     "name": "stderr",
     "output_type": "stream",
     "text": [
      "[I 2020-07-18 21:51:50,423] Setting status of trial#60 as TrialState.PRUNED. \n"
     ]
    },
    {
     "name": "stdout",
     "output_type": "stream",
     "text": [
      "epoch : 0/15, loss = 0.002852\n",
      "epoch : 2/15, loss = 0.001589\n",
      "epoch : 4/15, loss = 0.001367\n",
      "epoch : 6/15, loss = 0.001277\n",
      "epoch : 8/15, loss = 0.001174\n",
      "epoch : 10/15, loss = 0.001133\n",
      "epoch : 12/15, loss = 0.001098\n",
      "epoch : 14/15, loss = 0.001088\n"
     ]
    },
    {
     "name": "stderr",
     "output_type": "stream",
     "text": [
      "[I 2020-07-18 21:53:00,973] Finished trial#61 with value: 0.0010884667109993095 with parameters: {'Learning Rate': 0.001673372281537491, 'Dropout Rate': 0.30000000000000004, 'Latent Size': 64, 'Optimizer': 'Adam', 'Frequency Bins': 60, 'Time Steps': 10, 'Hidden Layers': 1, 'L2 Regularization': 1.9651904571475013e-06, 'Model Type': 'FC'}. Best is trial#28 with value: 0.0010268575079092144.\n"
     ]
    },
    {
     "name": "stdout",
     "output_type": "stream",
     "text": [
      "epoch : 0/15, loss = 0.006332\n",
      "epoch : 2/15, loss = 0.004065\n",
      "epoch : 4/15, loss = 0.003980\n",
      "epoch : 6/15, loss = 0.004013\n",
      "epoch : 8/15, loss = 0.003976\n"
     ]
    },
    {
     "name": "stderr",
     "output_type": "stream",
     "text": [
      "[I 2020-07-18 21:53:52,612] Setting status of trial#62 as TrialState.PRUNED. \n"
     ]
    },
    {
     "name": "stdout",
     "output_type": "stream",
     "text": [
      "epoch : 0/15, loss = 0.002637\n"
     ]
    },
    {
     "name": "stderr",
     "output_type": "stream",
     "text": [
      "[I 2020-07-18 21:54:06,754] Setting status of trial#63 as TrialState.PRUNED. \n"
     ]
    },
    {
     "name": "stdout",
     "output_type": "stream",
     "text": [
      "epoch : 0/15, loss = 0.004172\n",
      "epoch : 2/15, loss = 0.001885\n"
     ]
    },
    {
     "name": "stderr",
     "output_type": "stream",
     "text": [
      "[I 2020-07-18 21:54:30,476] Setting status of trial#64 as TrialState.PRUNED. \n"
     ]
    },
    {
     "name": "stdout",
     "output_type": "stream",
     "text": [
      "epoch : 0/15, loss = 0.002968\n",
      "epoch : 2/15, loss = 0.002893\n",
      "epoch : 4/15, loss = 0.002899\n",
      "epoch : 6/15, loss = 0.002888\n",
      "epoch : 8/15, loss = 0.002888\n",
      "epoch : 10/15, loss = 0.002895\n",
      "epoch : 12/15, loss = 0.002907\n",
      "epoch : 14/15, loss = 0.002899\n"
     ]
    },
    {
     "name": "stderr",
     "output_type": "stream",
     "text": [
      "[I 2020-07-18 21:56:04,410] Finished trial#65 with value: 0.0028989398123284104 with parameters: {'Learning Rate': 0.06222618999694436, 'Dropout Rate': 0.1, 'Latent Size': 16, 'Optimizer': 'Adam', 'Frequency Bins': 60, 'Time Steps': 20, 'Hidden Layers': 1, 'L2 Regularization': 0.023461029413462613, 'Model Type': 'FC'}. Best is trial#28 with value: 0.0010268575079092144.\n"
     ]
    },
    {
     "name": "stdout",
     "output_type": "stream",
     "text": [
      "epoch : 0/15, loss = 0.037319\n",
      "epoch : 2/15, loss = 0.003901\n",
      "epoch : 4/15, loss = 0.003889\n",
      "epoch : 6/15, loss = 0.003932\n",
      "epoch : 8/15, loss = 0.003911\n"
     ]
    },
    {
     "name": "stderr",
     "output_type": "stream",
     "text": [
      "[I 2020-07-18 21:57:09,970] Setting status of trial#66 as TrialState.PRUNED. \n"
     ]
    },
    {
     "name": "stdout",
     "output_type": "stream",
     "text": [
      "epoch : 0/15, loss = 0.001759\n",
      "epoch : 2/15, loss = 0.001212\n",
      "epoch : 4/15, loss = 0.001130\n",
      "epoch : 6/15, loss = 0.001086\n",
      "epoch : 8/15, loss = 0.001075\n",
      "epoch : 10/15, loss = 0.001064\n",
      "epoch : 12/15, loss = 0.001052\n",
      "epoch : 14/15, loss = 0.001048\n"
     ]
    },
    {
     "name": "stderr",
     "output_type": "stream",
     "text": [
      "[I 2020-07-18 21:58:42,335] Finished trial#67 with value: 0.0010484257208197626 with parameters: {'Learning Rate': 0.006040920567079177, 'Dropout Rate': 0.30000000000000004, 'Latent Size': 64, 'Optimizer': 'Adam', 'Frequency Bins': 60, 'Time Steps': 20, 'Hidden Layers': 1, 'L2 Regularization': 2.487214734542243e-06, 'Model Type': 'FC'}. Best is trial#28 with value: 0.0010268575079092144.\n"
     ]
    },
    {
     "name": "stdout",
     "output_type": "stream",
     "text": [
      "epoch : 0/15, loss = 0.006051\n"
     ]
    },
    {
     "name": "stderr",
     "output_type": "stream",
     "text": [
      "[I 2020-07-18 21:59:00,350] Setting status of trial#68 as TrialState.PRUNED. \n"
     ]
    },
    {
     "name": "stdout",
     "output_type": "stream",
     "text": [
      "epoch : 0/15, loss = 0.002829\n",
      "epoch : 2/15, loss = 0.002788\n",
      "epoch : 4/15, loss = 0.002787\n",
      "epoch : 6/15, loss = 0.002783\n",
      "epoch : 8/15, loss = 0.002779\n",
      "epoch : 10/15, loss = 0.002781\n",
      "epoch : 12/15, loss = 0.002789\n",
      "epoch : 14/15, loss = 0.002781\n"
     ]
    },
    {
     "name": "stderr",
     "output_type": "stream",
     "text": [
      "[I 2020-07-18 22:00:33,715] Finished trial#69 with value: 0.002781216944710046 with parameters: {'Learning Rate': 0.0623512794721586, 'Dropout Rate': 0.1, 'Latent Size': 16, 'Optimizer': 'Adam', 'Frequency Bins': 60, 'Time Steps': 20, 'Hidden Layers': 1, 'L2 Regularization': 0.006201948387394539, 'Model Type': 'FC'}. Best is trial#28 with value: 0.0010268575079092144.\n"
     ]
    },
    {
     "name": "stdout",
     "output_type": "stream",
     "text": [
      "epoch : 0/15, loss = 0.002773\n",
      "epoch : 2/15, loss = 0.002727\n",
      "epoch : 4/15, loss = 0.002729\n",
      "epoch : 6/15, loss = 0.002723\n",
      "epoch : 8/15, loss = 0.002731\n",
      "epoch : 10/15, loss = 0.002723\n",
      "epoch : 12/15, loss = 0.002731\n",
      "epoch : 14/15, loss = 0.002734\n"
     ]
    },
    {
     "name": "stderr",
     "output_type": "stream",
     "text": [
      "[I 2020-07-18 22:02:06,816] Finished trial#70 with value: 0.0027342316906060313 with parameters: {'Learning Rate': 0.06218278477639206, 'Dropout Rate': 0.1, 'Latent Size': 16, 'Optimizer': 'Adam', 'Frequency Bins': 60, 'Time Steps': 20, 'Hidden Layers': 1, 'L2 Regularization': 0.003923026077000056, 'Model Type': 'FC'}. Best is trial#28 with value: 0.0010268575079092144.\n"
     ]
    },
    {
     "name": "stdout",
     "output_type": "stream",
     "text": [
      "epoch : 0/15, loss = 0.006885\n",
      "epoch : 2/15, loss = 0.002570\n",
      "epoch : 4/15, loss = 0.002516\n",
      "epoch : 6/15, loss = 0.002522\n",
      "epoch : 8/15, loss = 0.002545\n",
      "epoch : 10/15, loss = 0.002547\n",
      "epoch : 12/15, loss = 0.002532\n",
      "epoch : 14/15, loss = 0.002533\n"
     ]
    },
    {
     "name": "stderr",
     "output_type": "stream",
     "text": [
      "[I 2020-07-18 22:03:40,245] Finished trial#71 with value: 0.002533189635119536 with parameters: {'Learning Rate': 0.07164184401642057, 'Dropout Rate': 0.0, 'Latent Size': 16, 'Optimizer': 'Adam', 'Frequency Bins': 60, 'Time Steps': 20, 'Hidden Layers': 1, 'L2 Regularization': 0.00020736084157013952, 'Model Type': 'CNN'}. Best is trial#28 with value: 0.0010268575079092144.\n"
     ]
    },
    {
     "name": "stdout",
     "output_type": "stream",
     "text": [
      "epoch : 0/15, loss = 0.007618\n"
     ]
    },
    {
     "name": "stderr",
     "output_type": "stream",
     "text": [
      "[I 2020-07-18 22:03:57,573] Setting status of trial#72 as TrialState.PRUNED. \n"
     ]
    },
    {
     "name": "stdout",
     "output_type": "stream",
     "text": [
      "epoch : 0/15, loss = 0.005716\n"
     ]
    },
    {
     "name": "stderr",
     "output_type": "stream",
     "text": [
      "[I 2020-07-18 22:04:16,185] Setting status of trial#73 as TrialState.PRUNED. \n"
     ]
    },
    {
     "name": "stdout",
     "output_type": "stream",
     "text": [
      "epoch : 0/15, loss = 0.002721\n"
     ]
    },
    {
     "name": "stderr",
     "output_type": "stream",
     "text": [
      "[I 2020-07-18 22:04:34,828] Setting status of trial#74 as TrialState.PRUNED. \n"
     ]
    },
    {
     "name": "stdout",
     "output_type": "stream",
     "text": [
      "epoch : 0/15, loss = 0.007004\n"
     ]
    },
    {
     "name": "stderr",
     "output_type": "stream",
     "text": [
      "[I 2020-07-18 22:04:52,213] Setting status of trial#75 as TrialState.PRUNED. \n"
     ]
    },
    {
     "name": "stdout",
     "output_type": "stream",
     "text": [
      "epoch : 0/15, loss = 0.003605\n"
     ]
    },
    {
     "name": "stderr",
     "output_type": "stream",
     "text": [
      "[I 2020-07-18 22:05:10,259] Setting status of trial#76 as TrialState.PRUNED. \n"
     ]
    },
    {
     "name": "stdout",
     "output_type": "stream",
     "text": [
      "epoch : 0/15, loss = 0.002731\n",
      "epoch : 2/15, loss = 0.002637\n",
      "epoch : 4/15, loss = 0.002659\n",
      "epoch : 6/15, loss = 0.002639\n",
      "epoch : 8/15, loss = 0.002641\n",
      "epoch : 10/15, loss = 0.002649\n",
      "epoch : 12/15, loss = 0.002644\n",
      "epoch : 14/15, loss = 0.002646\n"
     ]
    },
    {
     "name": "stderr",
     "output_type": "stream",
     "text": [
      "[I 2020-07-18 22:06:43,487] Finished trial#77 with value: 0.0026463087699695968 with parameters: {'Learning Rate': 0.07239329212466535, 'Dropout Rate': 0.0, 'Latent Size': 16, 'Optimizer': 'Adam', 'Frequency Bins': 60, 'Time Steps': 20, 'Hidden Layers': 1, 'L2 Regularization': 0.0018696363419061566, 'Model Type': 'CNN'}. Best is trial#28 with value: 0.0010268575079092144.\n"
     ]
    },
    {
     "name": "stdout",
     "output_type": "stream",
     "text": [
      "epoch : 0/15, loss = 0.003404\n"
     ]
    },
    {
     "name": "stderr",
     "output_type": "stream",
     "text": [
      "[I 2020-07-18 22:07:02,561] Setting status of trial#78 as TrialState.PRUNED. \n"
     ]
    },
    {
     "name": "stdout",
     "output_type": "stream",
     "text": [
      "epoch : 0/15, loss = 0.002566\n",
      "epoch : 2/15, loss = 0.001768\n"
     ]
    },
    {
     "name": "stderr",
     "output_type": "stream",
     "text": [
      "[I 2020-07-18 22:07:26,113] Setting status of trial#79 as TrialState.PRUNED. \n"
     ]
    },
    {
     "name": "stdout",
     "output_type": "stream",
     "text": [
      "epoch : 0/15, loss = 0.002560\n",
      "epoch : 2/15, loss = 0.001974\n"
     ]
    },
    {
     "name": "stderr",
     "output_type": "stream",
     "text": [
      "[I 2020-07-18 22:07:49,698] Setting status of trial#80 as TrialState.PRUNED. \n"
     ]
    },
    {
     "name": "stdout",
     "output_type": "stream",
     "text": [
      "epoch : 0/15, loss = 0.001777\n",
      "epoch : 2/15, loss = 0.001446\n",
      "epoch : 4/15, loss = 0.001373\n",
      "epoch : 6/15, loss = 0.001332\n",
      "epoch : 8/15, loss = 0.001330\n"
     ]
    },
    {
     "name": "stderr",
     "output_type": "stream",
     "text": [
      "[I 2020-07-18 22:08:57,880] Setting status of trial#81 as TrialState.PRUNED. \n"
     ]
    },
    {
     "name": "stdout",
     "output_type": "stream",
     "text": [
      "epoch : 0/15, loss = 0.003838\n"
     ]
    },
    {
     "name": "stderr",
     "output_type": "stream",
     "text": [
      "[I 2020-07-18 22:09:12,376] Setting status of trial#82 as TrialState.PRUNED. \n"
     ]
    },
    {
     "name": "stdout",
     "output_type": "stream",
     "text": [
      "epoch : 0/15, loss = 0.002528\n",
      "epoch : 2/15, loss = 0.001571\n"
     ]
    },
    {
     "name": "stderr",
     "output_type": "stream",
     "text": [
      "[I 2020-07-18 22:09:35,774] Setting status of trial#83 as TrialState.PRUNED. \n"
     ]
    },
    {
     "name": "stdout",
     "output_type": "stream",
     "text": [
      "epoch : 0/15, loss = 0.014168\n"
     ]
    },
    {
     "name": "stderr",
     "output_type": "stream",
     "text": [
      "[I 2020-07-18 22:09:46,467] Setting status of trial#84 as TrialState.PRUNED. \n"
     ]
    },
    {
     "name": "stdout",
     "output_type": "stream",
     "text": [
      "epoch : 0/15, loss = 0.003883\n",
      "epoch : 2/15, loss = 0.002541\n",
      "epoch : 4/15, loss = 0.002551\n",
      "epoch : 6/15, loss = 0.002557\n",
      "epoch : 8/15, loss = 0.002565\n",
      "epoch : 10/15, loss = 0.002578\n",
      "epoch : 12/15, loss = 0.002573\n",
      "epoch : 14/15, loss = 0.002696\n"
     ]
    },
    {
     "name": "stderr",
     "output_type": "stream",
     "text": [
      "[I 2020-07-18 22:11:20,171] Finished trial#85 with value: 0.00269583816896015 with parameters: {'Learning Rate': 0.09653167700776404, 'Dropout Rate': 0.0, 'Latent Size': 16, 'Optimizer': 'Adam', 'Frequency Bins': 60, 'Time Steps': 20, 'Hidden Layers': 1, 'L2 Regularization': 0.00035145793282794944, 'Model Type': 'CNN'}. Best is trial#28 with value: 0.0010268575079092144.\n"
     ]
    },
    {
     "name": "stdout",
     "output_type": "stream",
     "text": [
      "epoch : 0/15, loss = 0.002661\n",
      "epoch : 2/15, loss = 0.002605\n",
      "epoch : 4/15, loss = 0.002601\n",
      "epoch : 6/15, loss = 0.002593\n",
      "epoch : 8/15, loss = 0.002605\n",
      "epoch : 10/15, loss = 0.002594\n",
      "epoch : 12/15, loss = 0.002612\n",
      "epoch : 14/15, loss = 0.002603\n"
     ]
    },
    {
     "name": "stderr",
     "output_type": "stream",
     "text": [
      "[I 2020-07-18 22:12:52,425] Finished trial#86 with value: 0.0026030815446408083 with parameters: {'Learning Rate': 0.0734845746725513, 'Dropout Rate': 0.1, 'Latent Size': 16, 'Optimizer': 'Adam', 'Frequency Bins': 60, 'Time Steps': 20, 'Hidden Layers': 1, 'L2 Regularization': 0.001185171608960539, 'Model Type': 'CNN'}. Best is trial#28 with value: 0.0010268575079092144.\n"
     ]
    },
    {
     "name": "stdout",
     "output_type": "stream",
     "text": [
      "epoch : 0/15, loss = 0.003001\n"
     ]
    },
    {
     "name": "stderr",
     "output_type": "stream",
     "text": [
      "[I 2020-07-18 22:13:10,869] Setting status of trial#87 as TrialState.PRUNED. \n"
     ]
    },
    {
     "name": "stdout",
     "output_type": "stream",
     "text": [
      "epoch : 0/15, loss = 0.002705\n",
      "epoch : 2/15, loss = 0.002571\n",
      "epoch : 4/15, loss = 0.002570\n",
      "epoch : 6/15, loss = 0.002577\n",
      "epoch : 8/15, loss = 0.002573\n",
      "epoch : 10/15, loss = 0.002563\n",
      "epoch : 12/15, loss = 0.002571\n",
      "epoch : 14/15, loss = 0.984219\n"
     ]
    },
    {
     "name": "stderr",
     "output_type": "stream",
     "text": [
      "[I 2020-07-18 22:14:43,748] Finished trial#88 with value: 0.9842186262511172 with parameters: {'Learning Rate': 0.08904222355325632, 'Dropout Rate': 0.1, 'Latent Size': 16, 'Optimizer': 'Adam', 'Frequency Bins': 60, 'Time Steps': 20, 'Hidden Layers': 1, 'L2 Regularization': 0.0004126154136896636, 'Model Type': 'CNN'}. Best is trial#28 with value: 0.0010268575079092144.\n"
     ]
    },
    {
     "name": "stdout",
     "output_type": "stream",
     "text": [
      "epoch : 0/15, loss = 0.004252\n"
     ]
    },
    {
     "name": "stderr",
     "output_type": "stream",
     "text": [
      "[I 2020-07-18 22:14:58,071] Setting status of trial#89 as TrialState.PRUNED. \n"
     ]
    },
    {
     "name": "stdout",
     "output_type": "stream",
     "text": [
      "epoch : 0/15, loss = 0.002716\n",
      "epoch : 2/15, loss = 0.002674\n",
      "epoch : 4/15, loss = 0.002679\n",
      "epoch : 6/15, loss = 0.002665\n",
      "epoch : 8/15, loss = 0.002661\n",
      "epoch : 10/15, loss = 0.002669\n",
      "epoch : 12/15, loss = 0.002672\n",
      "epoch : 14/15, loss = 0.002662\n"
     ]
    },
    {
     "name": "stderr",
     "output_type": "stream",
     "text": [
      "[I 2020-07-18 22:16:31,660] Finished trial#90 with value: 0.0026618431176535272 with parameters: {'Learning Rate': 0.07240236327033871, 'Dropout Rate': 0.1, 'Latent Size': 16, 'Optimizer': 'Adam', 'Frequency Bins': 60, 'Time Steps': 20, 'Hidden Layers': 1, 'L2 Regularization': 0.002287643823623671, 'Model Type': 'FC'}. Best is trial#28 with value: 0.0010268575079092144.\n"
     ]
    },
    {
     "name": "stdout",
     "output_type": "stream",
     "text": [
      "epoch : 0/15, loss = 0.003794\n",
      "epoch : 2/15, loss = 0.002716\n",
      "epoch : 4/15, loss = 0.002708\n",
      "epoch : 6/15, loss = 0.002783\n",
      "epoch : 8/15, loss = 0.002701\n"
     ]
    },
    {
     "name": "stderr",
     "output_type": "stream",
     "text": [
      "[I 2020-07-18 22:17:40,055] Setting status of trial#91 as TrialState.PRUNED. \n"
     ]
    },
    {
     "name": "stdout",
     "output_type": "stream",
     "text": [
      "epoch : 0/15, loss = 0.002765\n",
      "epoch : 2/15, loss = 0.002625\n",
      "epoch : 4/15, loss = 0.002608\n",
      "epoch : 6/15, loss = 0.002612\n",
      "epoch : 8/15, loss = 0.002607\n",
      "epoch : 10/15, loss = 0.002617\n",
      "epoch : 12/15, loss = 0.002602\n",
      "epoch : 14/15, loss = 0.002612\n"
     ]
    },
    {
     "name": "stderr",
     "output_type": "stream",
     "text": [
      "[I 2020-07-18 22:19:12,374] Finished trial#92 with value: 0.0026120059760927246 with parameters: {'Learning Rate': 0.0999037191213447, 'Dropout Rate': 0.0, 'Latent Size': 4, 'Optimizer': 'Adam', 'Frequency Bins': 60, 'Time Steps': 20, 'Hidden Layers': 1, 'L2 Regularization': 0.0009806263810937896, 'Model Type': 'FC'}. Best is trial#28 with value: 0.0010268575079092144.\n"
     ]
    },
    {
     "name": "stdout",
     "output_type": "stream",
     "text": [
      "epoch : 0/15, loss = 0.002553\n",
      "epoch : 2/15, loss = 0.002521\n",
      "epoch : 4/15, loss = 0.002530\n",
      "epoch : 6/15, loss = 0.002520\n",
      "epoch : 8/15, loss = 0.002523\n",
      "epoch : 10/15, loss = 0.002519\n",
      "epoch : 12/15, loss = 0.002526\n",
      "epoch : 14/15, loss = 0.002517\n"
     ]
    },
    {
     "name": "stderr",
     "output_type": "stream",
     "text": [
      "[I 2020-07-18 22:20:45,797] Finished trial#93 with value: 0.0025174369251725216 with parameters: {'Learning Rate': 0.059533378583749, 'Dropout Rate': 0.1, 'Latent Size': 16, 'Optimizer': 'Adam', 'Frequency Bins': 60, 'Time Steps': 20, 'Hidden Layers': 1, 'L2 Regularization': 0.0002117650375962101, 'Model Type': 'FC'}. Best is trial#28 with value: 0.0010268575079092144.\n"
     ]
    },
    {
     "name": "stdout",
     "output_type": "stream",
     "text": [
      "epoch : 0/15, loss = 0.002578\n",
      "epoch : 2/15, loss = 0.002521\n",
      "epoch : 4/15, loss = 0.002520\n",
      "epoch : 6/15, loss = 0.002533\n",
      "epoch : 8/15, loss = 0.002521\n",
      "epoch : 10/15, loss = 0.002526\n",
      "epoch : 12/15, loss = 0.002526\n",
      "epoch : 14/15, loss = 0.002527\n"
     ]
    },
    {
     "name": "stderr",
     "output_type": "stream",
     "text": [
      "[I 2020-07-18 22:22:17,981] Finished trial#94 with value: 0.0025272607520748754 with parameters: {'Learning Rate': 0.060218822906093275, 'Dropout Rate': 0.0, 'Latent Size': 16, 'Optimizer': 'Adam', 'Frequency Bins': 60, 'Time Steps': 20, 'Hidden Layers': 1, 'L2 Regularization': 0.00020089858195473733, 'Model Type': 'FC'}. Best is trial#28 with value: 0.0010268575079092144.\n"
     ]
    },
    {
     "name": "stdout",
     "output_type": "stream",
     "text": [
      "epoch : 0/15, loss = 0.003057\n",
      "epoch : 2/15, loss = 0.001926\n"
     ]
    },
    {
     "name": "stderr",
     "output_type": "stream",
     "text": [
      "[I 2020-07-18 22:22:42,045] Setting status of trial#95 as TrialState.PRUNED. \n"
     ]
    },
    {
     "name": "stdout",
     "output_type": "stream",
     "text": [
      "epoch : 0/15, loss = 0.002779\n",
      "epoch : 2/15, loss = 0.001496\n",
      "epoch : 4/15, loss = 0.001304\n",
      "epoch : 6/15, loss = 0.001209\n",
      "epoch : 8/15, loss = 0.001144\n",
      "epoch : 10/15, loss = 0.001064\n",
      "epoch : 12/15, loss = 0.001027\n",
      "epoch : 14/15, loss = 0.000999\n"
     ]
    },
    {
     "name": "stderr",
     "output_type": "stream",
     "text": [
      "[I 2020-07-18 22:23:52,646] Finished trial#96 with value: 0.0009993373123992888 with parameters: {'Learning Rate': 0.0013476937625583791, 'Dropout Rate': 0.30000000000000004, 'Latent Size': 64, 'Optimizer': 'Adam', 'Frequency Bins': 60, 'Time Steps': 10, 'Hidden Layers': 1, 'L2 Regularization': 1.87978917284054e-06, 'Model Type': 'FC'}. Best is trial#96 with value: 0.0009993373123992888.\n"
     ]
    },
    {
     "name": "stdout",
     "output_type": "stream",
     "text": [
      "epoch : 0/15, loss = 0.002674\n",
      "epoch : 2/15, loss = 0.001739\n"
     ]
    },
    {
     "name": "stderr",
     "output_type": "stream",
     "text": [
      "[I 2020-07-18 22:24:16,032] Setting status of trial#97 as TrialState.PRUNED. \n"
     ]
    },
    {
     "name": "stdout",
     "output_type": "stream",
     "text": [
      "epoch : 0/15, loss = 0.002392\n",
      "epoch : 2/15, loss = 0.002251\n",
      "epoch : 4/15, loss = 0.002281\n",
      "epoch : 6/15, loss = 0.002305\n",
      "epoch : 8/15, loss = 0.002324\n",
      "epoch : 10/15, loss = 0.002262\n",
      "epoch : 12/15, loss = 0.002357\n",
      "epoch : 14/15, loss = 0.002392\n"
     ]
    },
    {
     "name": "stderr",
     "output_type": "stream",
     "text": [
      "[I 2020-07-18 22:25:48,919] Finished trial#98 with value: 0.0023924622165735895 with parameters: {'Learning Rate': 0.05935573426336291, 'Dropout Rate': 0.2, 'Latent Size': 16, 'Optimizer': 'Adam', 'Frequency Bins': 60, 'Time Steps': 20, 'Hidden Layers': 1, 'L2 Regularization': 5.1798799173751225e-05, 'Model Type': 'FC'}. Best is trial#96 with value: 0.0009993373123992888.\n"
     ]
    },
    {
     "name": "stdout",
     "output_type": "stream",
     "text": [
      "epoch : 0/15, loss = 0.004204\n"
     ]
    },
    {
     "name": "stderr",
     "output_type": "stream",
     "text": [
      "[I 2020-07-18 22:26:03,109] Setting status of trial#99 as TrialState.PRUNED. \n"
     ]
    }
   ],
   "source": [
    "def objective(trial):\n",
    "\n",
    "    #hyper params\n",
    "    learning_rate = trial.suggest_uniform('Learning Rate', 1e-4,1e-1)\n",
    "    dropout_rate = trial.suggest_discrete_uniform('Dropout Rate', 0,0.5,0.1)\n",
    "    latent_size = trial.suggest_categorical('Latent Size',[4, 16, 64])\n",
    "    optimizer_type = trial.suggest_categorical('Optimizer', ['Adam', 'SGD'])\n",
    "    FREQ_BINS = trial.suggest_categorical('Frequency Bins', [10, 30, 60])\n",
    "    TIME_STEPS = trial.suggest_categorical('Time Steps', [10, 20])\n",
    "    hidden_layers= trial.suggest_int('Hidden Layers', 1, 2)\n",
    "    l2=trial.suggest_loguniform('L2 Regularization', 1e-6,1e-1)\n",
    "    model_type=trial.suggest_categorical('Model Type', ['CNN', 'FC'])\n",
    "    num_channels=5\n",
    "\n",
    "    spec_dimension=FREQ_BINS*TIME_STEPS\n",
    "\n",
    "    criterion=nn.MSELoss()\n",
    "    \n",
    "    #make model\n",
    "    if hidden_layers==1:\n",
    "        model = AE_Linear_1H(input_shape=spec_dimension,compression_dim=latent_size,dropout_rate=dropout_rate).to(device)\n",
    "    else:\n",
    "        model = AE_Linear_2H(input_shape=spec_dimension,compression_dim=latent_size,dropout_rate=dropout_rate).to(device)\n",
    "    if model_type==\"CNN\":\n",
    "        model = AE_Conv(input_shape=[FREQ_BINS,TIME_STEPS],compression_dim=latent_size,dropout_rate=dropout_rate,num_channels=num_channels).to(device)\n",
    "        \n",
    "    if optimizer_type==\"Adam\":\n",
    "        optimizer = optim.Adam(model.parameters(), lr=learning_rate,weight_decay=l2)\n",
    "    elif optimizer_type==\"SGD\":\n",
    "        optimizer=optim.SGD(model.parameters(), lr=learning_rate, momentum=0.9,weight_decay=l2)\n",
    "    #make dataloader \n",
    "    ptTune=tv.transforms.Compose([specTrans(FREQ_BINS,time_steps=TIME_STEPS)])\n",
    "    spec_data_train_nosynth = audioDataset(train_synthless,\".\",task=\"dvn\", transform=ptTune)\n",
    "    spec_train_nosynth_loader= DataLoader(spec_data_train_nosynth, batch_size=16,shuffle=True, num_workers=8)\n",
    "    \n",
    "    #train\n",
    "    epochs=15\n",
    "    for epoch in range(epochs):\n",
    "        loss = 0\n",
    "        for batch_features in spec_train_nosynth_loader:\n",
    "            batch_features=batch_features[\"feats\"]\n",
    "            batch_features = batch_features.view(-1, spec_dimension).to(device)\n",
    "            optimizer.zero_grad()\n",
    "            outputs = model(batch_features)\n",
    "            train_loss = criterion(outputs, batch_features)\n",
    "            train_loss.backward()\n",
    "            optimizer.step()\n",
    "            loss += train_loss.item()\n",
    "\n",
    "        loss = loss / len(spec_train_nosynth_loader)\n",
    "        trial.report(loss, epoch)   \n",
    "        if epoch%2==0:\n",
    "            if trial.should_prune():\n",
    "                raise optuna.TrialPruned()\n",
    "            print(\"epoch : {}/{}, loss = {:.6f}\".format(epoch, epochs, loss))\n",
    "    return loss\n",
    "study = optuna.create_study(study_name='Study_ALL',sampler=optuna.samplers.TPESampler(), \n",
    "                            pruner=optuna.pruners.HyperbandPruner(), storage='sqlite:///optuna.db',load_if_exists=True)\n",
    "study.optimize(objective, n_trials=100)"
   ]
  },
  {
   "cell_type": "code",
   "execution_count": null,
   "metadata": {},
   "outputs": [],
   "source": [
    "optuna.visualization.plot_intermediate_values(study)"
   ]
  },
  {
   "cell_type": "code",
   "execution_count": 151,
   "metadata": {},
   "outputs": [
    {
     "name": "stdout",
     "output_type": "stream",
     "text": [
      "Best trial until now:\n",
      " Value:  0.00039813510886080674\n",
      " Params: \n",
      "    learning_rate: 0.0020574791074529975\n",
      "    dropout_rate: 0\n",
      "    latent_size: 64\n",
      "    frequency_bins: 30\n",
      "    time_steps: 20\n",
      "    hidden_layers: 1\n",
      "    l2: 1.0494963315643493e-06\n"
     ]
    }
   ],
   "source": [
    "import joblib\n",
    "joblib.dump(study, 'study2.pkl')\n",
    "study2 = joblib.load('study2.pkl')\n",
    "print('Best trial until now:')\n",
    "print(' Value: ', study2.best_trial.value)\n",
    "print(' Params: ')\n",
    "for key, value in study2.best_trial.params.items():\n",
    "    print(f'    {key}: {value}')"
   ]
  }
 ],
 "metadata": {
  "kernelspec": {
   "display_name": "Python 3",
   "language": "python",
   "name": "python3"
  },
  "language_info": {
   "codemirror_mode": {
    "name": "ipython",
    "version": 3
   },
   "file_extension": ".py",
   "mimetype": "text/x-python",
   "name": "python",
   "nbconvert_exporter": "python",
   "pygments_lexer": "ipython3",
   "version": "3.7.5"
  }
 },
 "nbformat": 4,
 "nbformat_minor": 4
}
