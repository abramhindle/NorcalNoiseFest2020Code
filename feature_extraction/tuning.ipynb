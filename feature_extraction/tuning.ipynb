{
 "cells": [
  {
   "cell_type": "code",
   "execution_count": 11,
   "metadata": {},
   "outputs": [],
   "source": [
    "import numpy as np\n",
    "import matplotlib.pyplot as plt\n",
    "import time\n",
    "import torch\n",
    "import torch.utils.data as data\n",
    "import torch.optim as optim\n",
    "import torch.nn as nn\n",
    "import torch.nn.functional as F\n",
    "from torch.autograd import Variable\n",
    "import pytorch_models\n",
    "import imp\n",
    "import torchaudio as ta\n",
    "import torchaudio\n",
    "import torchvision as tv\n",
    "import matplotlib.pyplot as plt\n",
    "from IPython.display import Audio\n",
    "import os, random\n",
    "import pandas as pd\n",
    "import mir_utils as miru\n",
    "from torch.utils.data import Dataset, DataLoader\n",
    "from pytorch_models import *\n",
    "import librosa\n",
    "import librosa.display\n",
    "import pytorch_models as pm\n",
    "import optuna\n",
    "imp.reload(miru)\n",
    "imp.reload(pytorch_models)\n",
    "SR=44100\n",
    "#functions\n",
    "spec=torchaudio.functional.spectrogram\n",
    "\n",
    "audio_frames=miru.audioFrames(loadCache=True)\n",
    "\n",
    "def getMeanLength(x):\n",
    "    gl=x.apply(lambda z: len(z[\"audio\"]),axis=1)\n",
    "    print(gl.mean()/SR,gl.mean(),x[\"label\"].iloc[0])\n",
    "    \n",
    "# audio_frames.groupby(by=[\"label_num\"]).apply(lambda x:getMeanLength(x))\n",
    "# getMeanLength(audio_frames)\n",
    "\n",
    "\n",
    "def getRandAud():\n",
    "    classes=os.listdir(\"./dk_data/\")\n",
    "    rand_class=random.choice(classes)\n",
    "#     rand_class=\"synth_noise\"\n",
    "    rand_sample=random.choice(os.listdir(\"./dk_data/%s/\"%(rand_class,)))\n",
    "    return \"./dk_data/\"+rand_class+\"/\"+rand_sample\n",
    "device = torch.device(\"cuda\" if torch.cuda.is_available() else \"cpu\")\n",
    "# list(zip(uniques,range(0,len(uniques))))\n",
    "\n",
    "audio_frames=audio_frames.loc[~audio_frames[\"label\"].isin([\"shake\",\"guitar\",\"piano\"])]        \n",
    "#split the dataframe into 2 seperate ones:\n",
    "drum_frames=audio_frames.loc[~audio_frames[\"label\"].isin([\"synth_noise\",\"guitar\",\"piano\"])]\n",
    "#split the dataframe into 2 seperate ones:\n",
    "not_drum_frames=audio_frames.loc[audio_frames[\"label\"].isin([\"synth_noise\",\"guitar\",\"piano\"])]\n"
   ]
  },
  {
   "cell_type": "code",
   "execution_count": 12,
   "metadata": {},
   "outputs": [
    {
     "name": "stderr",
     "output_type": "stream",
     "text": [
      "/home/asalimi/miniconda3/lib/python3.7/site-packages/ipykernel_launcher.py:10: SettingWithCopyWarning: \n",
      "A value is trying to be set on a copy of a slice from a DataFrame.\n",
      "Try using .loc[row_indexer,col_indexer] = value instead\n",
      "\n",
      "See the caveats in the documentation: http://pandas.pydata.org/pandas-docs/stable/user_guide/indexing.html#returning-a-view-versus-a-copy\n",
      "  # Remove the CWD from sys.path while we load stuff.\n",
      "/home/asalimi/miniconda3/lib/python3.7/site-packages/ipykernel_launcher.py:11: SettingWithCopyWarning: \n",
      "A value is trying to be set on a copy of a slice from a DataFrame.\n",
      "Try using .loc[row_indexer,col_indexer] = value instead\n",
      "\n",
      "See the caveats in the documentation: http://pandas.pydata.org/pandas-docs/stable/user_guide/indexing.html#returning-a-view-versus-a-copy\n",
      "  # This is added back by InteractiveShellApp.init_path()\n"
     ]
    },
    {
     "name": "stdout",
     "output_type": "stream",
     "text": [
      "label\n",
      "clap             118\n",
      "hihat_closed     187\n",
      "hihat_open       280\n",
      "kick             648\n",
      "rim              105\n",
      "snare            731\n",
      "synth_noise     6000\n",
      "tom_high         179\n",
      "tom_low          188\n",
      "tom_mid          139\n",
      "Name: path, dtype: int64\n"
     ]
    }
   ],
   "source": [
    "#make two label series, one for drum vs not drum classification, one for drum type classification\n",
    "#add the series to the dataframe \n",
    "# print(drum_labels,not_drum_labels)\n",
    "\n",
    "#drum only classification\n",
    "# audio_frames[\"label_num\"].isin(not_drum_labels)\n",
    "dLabels, dUniques=pd.factorize(drum_frames[\"label\"].tolist())\n",
    "ndLabels, ndUniques=pd.factorize(not_drum_frames[\"label\"].tolist())\n",
    "\n",
    "drum_frames[\"label_num\"]=dLabels\n",
    "not_drum_frames[\"label_num\"]=ndLabels+len(dUniques)\n",
    "\n",
    "allU=np.concatenate([dUniques,ndUniques])\n",
    "lmap=list(zip(allU,range(len(allU))))\n",
    "\n",
    "#get weights for each group\n",
    "# x=drum_frames.groupby([\"label\"]).agg(\"count\")[\"path\"]\n",
    "y=audio_frames.groupby([\"label\"]).agg(\"count\")[\"path\"]\n",
    "print(y)\n",
    "weights=torch.tensor([1000/w for w in y.tolist()])\n"
   ]
  },
  {
   "cell_type": "code",
   "execution_count": 13,
   "metadata": {},
   "outputs": [
    {
     "data": {
      "text/plain": [
       "{'signal': tensor([-0.0003, -0.0019,  0.0305,  ...,  0.0000,  0.0000,  0.0000]),\n",
       " 'label': tensor(0),\n",
       " 'path': './dk_data/tom_high/Roland Tr-909-TR-909Tom Hi 01.wav',\n",
       " 'drum_type': 'tom_high'}"
      ]
     },
     "execution_count": 13,
     "metadata": {},
     "output_type": "execute_result"
    }
   ],
   "source": [
    "class audioDataset(torch.utils.data.Dataset):\n",
    "    def __init__(self,audio_frame,root_dir, task=\"keep_all\",transform=None):\n",
    "        self.root_dir=root_dir\n",
    "        self.task=task\n",
    "        self.audio_frame=audio_frame\n",
    "        self.transform = transform\n",
    "        self.minLength=SR\n",
    "#         self.minLength=SR//4\n",
    "        self.frame_pruning()\n",
    "    def __len__(self):\n",
    "        return len(self.audio_frame)\n",
    "    def __getitem__(self, idx):\n",
    "        if torch.is_tensor(idx):\n",
    "            idx = idx.tolist()\n",
    "        rows=self.audio_frame.iloc[idx]\n",
    "\n",
    "        signals,labels=rows[\"audio\"].tolist()[0:SR],rows[\"label_num\"].tolist()\n",
    "        signals,labels=torch.tensor(signals),torch.tensor(labels)\n",
    "        \n",
    "        nz=np.max((self.minLength-signals.shape[0],0))\n",
    "        signals=torch.cat([signals[0:self.minLength],torch.zeros(nz)],dim=0)\n",
    "\n",
    "        sound={\"signal\":signals,\"label\":labels,\"path\":rows[\"path\"],\"drum_type\":rows[\"label\"]}\n",
    "        \n",
    "        if self.transform:\n",
    "            sound = self.transform(sound)\n",
    "\n",
    "        return sound\n",
    "    \n",
    "    def frame_pruning(self):\n",
    "        #drum vs not drum classification:\n",
    "        drum_label_numbers=range(len(dUniques))\n",
    "        if self.task==\"dvn\":\n",
    "            self.audio_frame.loc[self.audio_frame[\"label_num\"].isin(drum_label_numbers),\"label_num\"]=0\n",
    "            self.audio_frame.loc[~self.audio_frame[\"label_num\"].isin(drum_label_numbers),\"label_num\"]=1\n",
    "        #drum type classification\n",
    "        if self.task==\"dvd\":\n",
    "            self.audio_frame=self.audio_frame.loc[self.audio_frame[\"label_num\"].isin(drum_label_numbers)]\n",
    "        if self.task==\"keep_all\":\n",
    "            pass\n",
    "            \n",
    "ds=audioDataset(pd.concat([drum_frames,not_drum_frames]),\"./\",task=\"dvn\",)\n",
    "idx=np.random.randint(0,len(ds),5)\n",
    "all_frames=pd.concat([drum_frames,not_drum_frames])\n",
    "train=all_frames.sample(frac=0.80,random_state=420) #random state is a seed value\n",
    "test=all_frames.drop(train.index)\n",
    "ds[0]"
   ]
  },
  {
   "cell_type": "code",
   "execution_count": 20,
   "metadata": {},
   "outputs": [
    {
     "name": "stdout",
     "output_type": "stream",
     "text": [
      "torch.Size([1, 30, 20]) tensor([2.1059e-05, 1.9211e-04, 1.5416e-03, 1.4328e-03, 1.6815e-03, 2.3218e-03,\n",
      "        2.2623e-03, 1.2743e-03, 2.3113e-03, 2.4826e-03, 2.3174e-03, 2.1267e-03,\n",
      "        1.2683e-03, 8.2899e-04, 4.7286e-04, 5.3741e-04, 5.5563e-04, 4.8761e-04,\n",
      "        8.0832e-04, 6.7958e-04, 9.2894e-04, 9.9240e-04, 8.4051e-04, 4.7562e-04,\n",
      "        1.9162e-04, 6.1819e-05, 7.2237e-06, 1.5429e-06, 1.5496e-06, 1.6123e-06])\n",
      "('tom_low', 1) tensor(1) 44100\n"
     ]
    },
    {
     "data": {
      "text/html": [
       "\n",
       "                <audio  controls=\"controls\" autoplay=\"autoplay\">\n",
       "                    <source src=\"data:audio/wav;base64,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\" type=\"audio/wav\" />\n",
       "                    Your browser does not support the audio element.\n",
       "                </audio>\n",
       "              "
      ],
      "text/plain": [
       "<IPython.lib.display.Audio object>"
      ]
     },
     "execution_count": 20,
     "metadata": {},
     "output_type": "execute_result"
    },
    {
     "data": {
      "image/png": "[encoded data removed]",
      "text/plain": [
       "<Figure size 1440x288 with 3 Axes>"
      ]
     },
     "metadata": {
      "needs_background": "light"
     },
     "output_type": "display_data"
    }
   ],
   "source": [
    "FREQ_BINS=30\n",
    "TIME_STEPS=20\n",
    "#defining transformations\n",
    "class freqTrans(object):\n",
    "    def __init__(self,num_mels=50,SR=SR):\n",
    "        self.num_mels=num_mels\n",
    "        self.ampT=torchaudio.transforms.AmplitudeToDB(stype='power', top_db=30)\n",
    "        self.melF=torchaudio.transforms.MelScale(n_mels=self.num_mels, sample_rate=SR, f_min=30.0, f_max=None, n_stft=None)\n",
    "        \n",
    "    def __call__(self, sample):\n",
    "        wf,label=sample[\"signal\"],sample[\"label\"]\n",
    "        wf=wf.reshape(-1,len(wf))\n",
    "        sample_length=SR//4\n",
    "        wf=wf[:,0:24000]\n",
    "        num_bins=wf[0].shape[0]\n",
    "        win_length=num_bins\n",
    "        hop_step=sample_length//(self.num_mels)\n",
    "        window=torch.tensor([1]*win_length)\n",
    "        s=spec(wf, 100, window, num_bins, hop_step, win_length,2,normalized=False)\n",
    "        s=self.melF(s)\n",
    "        s=self.ampT(s)\n",
    "        freq=s.sum(axis=0).sum(axis=1)\n",
    "        freq=freq-freq.min()\n",
    "        freq=freq/freq.max()\n",
    "        freq[torch.isnan(freq)]=0\n",
    "        return {\"feats\":freq.detach(),\"label\":label}\n",
    "\n",
    "class envTrans(object):\n",
    "    def __init__(self,num_mels=10,SR=SR):\n",
    "        self.env_size=9\n",
    "        self.num_mels=num_mels\n",
    "        self.amp=torchaudio.transforms.AmplitudeToDB(stype='power', top_db=60)\n",
    "        self.melEnv=torchaudio.transforms.MelScale(n_mels=self.num_mels, sample_rate=SR, f_min=30.0, f_max=None, n_stft=None)\n",
    "#         self.norm= transforms.Normalize((0.5, 0.5, 0.5), (0.5, 0.5, 0.5))\n",
    "    def __call__(self, sample):\n",
    "        wf,label=sample[\"signal\"],sample[\"label\"]\n",
    "        \n",
    "        wf=wf.reshape(-1,len(wf))\n",
    "        sample_length=SR\n",
    "        num_bins=wf[0].shape[0]\n",
    "        win_length=SR//20\n",
    "        hop_step=SR//self.env_size\n",
    "        window=torch.tensor([1]*win_length)\n",
    "        s=spec(wf, 0, window,win_length, hop_step, win_length,2,normalized=False)\n",
    "        s=self.melEnv(s)\n",
    "        s=self.amp(s)\n",
    "#         s=self.norm(s)\n",
    "        #normalizing\n",
    "        env=s.sum(axis=0).sum(axis=0)\n",
    "        env=env-env.min()\n",
    "        env=env/env.max()\n",
    "        env[torch.isnan(env)]=0\n",
    "\n",
    "        num_padding=torch.max(torch.tensor([self.env_size+1-env.shape[0],0]))\n",
    "        env_vec=torch.cat([env.detach(),torch.zeros(num_padding)],dim=0)\n",
    "        return {\"feats\":env_vec.detach(),\"label\":label}\n",
    "\n",
    "class feats_and_env(object):\n",
    "    def __init__(self,feat_mels=50,env_mels=1):\n",
    "        self.ft=freqTrans(num_mels=feat_mels)\n",
    "        self.et=envTrans(num_mels=env_mels)\n",
    "\n",
    "    def __call__(self, sample):\n",
    "            combined_feats=torch.cat((self.ft(sample)[\"feats\"],self.et(sample)[\"feats\"]))\n",
    "            return {\"feats\":combined_feats,\"label\":sample[\"label\"]}\n",
    "        \n",
    "\n",
    "class specTrans(object):\n",
    "    def __init__(self,num_mels=50,SR=SR,time_steps=20):\n",
    "        self.num_mels=num_mels\n",
    "        self.ampP=torchaudio.transforms.AmplitudeToDB(stype='power',top_db=60)\n",
    "        self.melP=torchaudio.transforms.MelScale(n_mels=self.num_mels, sample_rate=SR,n_stft=None)\n",
    "        self.norm= transforms.Normalize((0.5, 0.5, 0.5), (0.5, 0.5, 0.5))\n",
    "        self.hop_step=time_steps-1\n",
    "    def __call__(self, sample):\n",
    "        \n",
    "        wf,label,p,drum_type=sample[\"signal\"],sample[\"label\"],sample[\"path\"],sample[\"drum_type\"]\n",
    "        wf=wf.reshape(-1,len(wf))\n",
    "        sample_length=SR\n",
    "\n",
    "        num_bins=wf[0].shape[0]\n",
    "        win_length=SR//17\n",
    "        hop_step=SR//self.hop_step\n",
    "        window=torch.tensor([1]*win_length)\n",
    "        s=spec(wf, 0, window, num_bins, hop_step, win_length,2,normalized=False)\n",
    "        s=self.melP(s)\n",
    "#         s=self.ampP(s)\n",
    "        s = s - s.min()\n",
    "        s = s/s.abs().max()\n",
    "\n",
    "        freq=s\n",
    "#         freq=self.norm(s)\n",
    "        freq[torch.isnan(freq)]=0\n",
    "        return {\"feats\":freq.detach(),\"label\":label,\"path\":p,\"drum_type\":drum_type}\n",
    "\n",
    "#Apply each of the above transforms on sample.\n",
    "fig = plt.figure(figsize=(20,4))\n",
    "# while True:\n",
    "sample = ds[np.random.randint(len(ds))]\n",
    "#     print(sample[\"label\"].item())\n",
    "#     if sample[\"label\"].item()==1:\n",
    "#         break\n",
    "# freq_train = audioDataset(train,\".\",task=\"dvd\")\n",
    "# f_train_loader= DataLoader(freq_train, batch_size=16, num_workers=1)\n",
    "# sample=iter(f_train_loader).next()\n",
    "# s={\"signal\":sample[\"signal\"][0],\"label\":sample[\"label\"][0],\"path\":sample[\"path\"],\"drum_type\":sample[\"drum_type\"]}\n",
    "# sample=s\n",
    "tfList=[freqTrans(50),envTrans(num_mels=10,SR=SR),specTrans(FREQ_BINS,time_steps=TIME_STEPS)]\n",
    "\n",
    "for i, tsfrm in enumerate(tfList):\n",
    "    transformed_sample = tsfrm(sample)\n",
    "    ax = plt.subplot(1, 3, i + 1)\n",
    "    plt.tight_layout()\n",
    "    ft=transformed_sample[\"feats\"]\n",
    "    if i==0:\n",
    "        plt.title(\"Frequency Features\",fontsize=20)\n",
    "        plt.xlabel(\"Frequency Bin\",fontsize=20)\n",
    "        plt.ylabel(\"Scaled Magnitude\",fontsize=20)\n",
    "                   \n",
    "        plt.scatter(y=ft,x=range(0,len(ft)))\n",
    "    if i==1:\n",
    "        plt.title(\"Envelope Features\",fontsize=20)\n",
    "        plt.xlabel(\"Time Step\",fontsize=20)\n",
    "        plt.ylabel(\"Scaled Magnitude\",fontsize=20)            \n",
    "        plt.scatter(y=ft,x=range(0,len(ft)))\n",
    "    if i==2:\n",
    "        print(ft.shape,ft[0,:,0])\n",
    "        sf=ft.detach().numpy()[0]\n",
    "        ft=ft.detach().numpy()[0]\n",
    "        plt.title(\"Spectrum Features\",fontsize=20)\n",
    "        librosa.display.specshow(sf,cmap='gray_r',)\n",
    "        plt.xlabel(\"Time Step\",fontsize=20)\n",
    "        plt.ylabel(\"Magnitude of Bin\",fontsize=20)\n",
    "\n",
    "#         plt.savefig(\"./plots/ff3.pdf\",bbox_inches = \"tight\")\n",
    "# plt.show()\n",
    "print(lmap[transformed_sample[\"label\"].item()],transformed_sample[\"label\"],len(sample[\"signal\"]))\n",
    "\n",
    "\n",
    "Audio(sample[\"signal\"],rate=SR,autoplay=True)\n"
   ]
  },
  {
   "cell_type": "markdown",
   "metadata": {},
   "source": [
    "# SPEC ENCODER"
   ]
  },
  {
   "cell_type": "code",
   "execution_count": 15,
   "metadata": {},
   "outputs": [],
   "source": [
    "class AE_Linear_1H(nn.Module):\n",
    "    def __init__(self,compression_dim=64,dropout_rate=0.5,input_shape=[30,20]):\n",
    "        super().__init__()\n",
    "        self.dropout = nn.Dropout(dropout_rate)\n",
    "        self.encoder_hidden_layer = nn.Linear(\n",
    "            in_features=input_shape, out_features=128\n",
    "        )\n",
    "        self.encoder_output_layer = nn.Linear(\n",
    "            in_features=128, out_features=compression_dim\n",
    "        )\n",
    "        self.decoder_hidden_layer = nn.Linear(\n",
    "            in_features=compression_dim, out_features=128\n",
    "        )\n",
    "        self.decoder_output_layer = nn.Linear(\n",
    "            in_features=128, out_features=input_shape\n",
    "        )\n",
    "    def forward(self, features):\n",
    "        activation = self.encoder_hidden_layer(features)\n",
    "        activation = self.dropout(torch.relu(activation))\n",
    "        code = self.encoder_output_layer(activation)\n",
    "        code = torch.relu(code)\n",
    "        self.encoding=code\n",
    "        activation = self.decoder_hidden_layer(code)\n",
    "        activation = self.dropout(torch.relu(activation))\n",
    "        activation = self.decoder_output_layer(activation)\n",
    "        reconstructed = torch.relu(activation)\n",
    "        return reconstructed\n",
    "    \n",
    "class AE_Linear_2H(nn.Module):\n",
    "    def __init__(self,compression_dim=8,dropout_rate=0.5,input_shape=[30,20]):\n",
    "        super().__init__()\n",
    "        self.dropout = nn.Dropout(dropout_rate)\n",
    "        self.encoder_hidden_layer1 = nn.Linear(\n",
    "            in_features=input_shape, out_features=128\n",
    "        )\n",
    "        self.encoder_hidden_layer2 = nn.Linear(\n",
    "            in_features=128, out_features=32\n",
    "        )\n",
    "        self.encoder_output_layer = nn.Linear(\n",
    "            in_features=32, out_features=compression_dim\n",
    "        )\n",
    "        self.decoder_hidden_layer1 = nn.Linear(\n",
    "            in_features=compression_dim, out_features=32\n",
    "        )\n",
    "        self.decoder_hidden_layer2 = nn.Linear(\n",
    "            in_features=32, out_features=128\n",
    "        )\n",
    "        self.decoder_output_layer = nn.Linear(\n",
    "            in_features=128, out_features=input_shape\n",
    "        )\n",
    "    def forward(self, features):\n",
    "        activation = self.encoder_hidden_layer1(features)\n",
    "        activation = self.dropout(torch.relu(activation))\n",
    "        h1_out = self.encoder_hidden_layer2(activation)\n",
    "        h1_out = self.dropout(torch.relu(h1_out))\n",
    "        code = self.encoder_output_layer(h1_out)\n",
    "        code = torch.relu(code)\n",
    "        self.encoding=code\n",
    "        activation = self.decoder_hidden_layer1(code)\n",
    "        activation = self.decoder_hidden_layer2(activation)\n",
    "        activation = self.dropout(torch.relu(activation))\n",
    "        activation = self.decoder_output_layer(activation)\n",
    "        reconstructed = torch.relu(activation)\n",
    "        return reconstructed\n",
    "    \n"
   ]
  },
  {
   "cell_type": "code",
   "execution_count": 16,
   "metadata": {},
   "outputs": [],
   "source": [
    "compression_dim=8\n",
    "spec_dimension=FREQ_BINS*TIME_STEPS\n",
    "\n",
    "device = torch.device(\"cuda\" if torch.cuda.is_available() else \"cpu\")\n",
    "\n",
    "pt=tv.transforms.Compose([specTrans(FREQ_BINS,time_steps=TIME_STEPS)])\n",
    "\n",
    "train=all_frames.sample(frac=0.80,random_state=420) #random state is a seed value\n",
    "test=all_frames.drop(train.index)\n",
    "spec_data_train = audioDataset(train,\".\",\"dvn\", transform=pt)\n",
    "spec_data_test = audioDataset(test,\".\",task=\"dvn\", transform=pt)\n",
    "spec_train_loader= DataLoader(spec_data_train, batch_size=64,shuffle=True, num_workers=32)\n",
    "spec_test_loader= DataLoader(spec_data_test, batch_size=8,shuffle=True, num_workers=6)\n",
    "train_synthless=train[train[\"label_num\"]==0]\n",
    "spec_data_train_nosynth = audioDataset(train_synthless,\".\",task=\"dvn\", transform=pt)\n",
    "spec_train_nosynth_loader= DataLoader(spec_data_train_nosynth, batch_size=16,shuffle=True, num_workers=8)"
   ]
  },
  {
   "cell_type": "code",
   "execution_count": 17,
   "metadata": {
    "scrolled": true
   },
   "outputs": [
    {
     "name": "stderr",
     "output_type": "stream",
     "text": [
      "[I 2020-07-17 02:53:54,094] A new study created with name: Study_FullyConnected\n"
     ]
    },
    {
     "name": "stdout",
     "output_type": "stream",
     "text": [
      "epoch : 0/30, loss = 0.002977\n",
      "epoch : 3/30, loss = 0.002937\n",
      "epoch : 6/30, loss = 0.002931\n",
      "epoch : 9/30, loss = 0.002926\n",
      "epoch : 12/30, loss = 0.002928\n",
      "epoch : 15/30, loss = 0.002942\n",
      "epoch : 18/30, loss = 0.002929\n",
      "epoch : 21/30, loss = 0.002933\n",
      "epoch : 24/30, loss = 0.002934\n",
      "epoch : 27/30, loss = 0.002933\n"
     ]
    },
    {
     "name": "stderr",
     "output_type": "stream",
     "text": [
      "[I 2020-07-17 02:57:06,507] Finished trial#0 with value: 0.002943692337863773 with parameters: {'Learning Rate': 0.07063737088694279, 'Dropout Rate': 0.30000000000000004, 'Latent Size': 64, 'Optimizer': 'Adam', 'Frequency Bins': 60, 'Time Steps': 20, 'Hidden Layers': 1, 'L2 Regularization': 0.06354605809544035}. Best is trial#0 with value: 0.002943692337863773.\n"
     ]
    },
    {
     "name": "stdout",
     "output_type": "stream",
     "text": [
      "epoch : 0/30, loss = 0.005826\n",
      "epoch : 3/30, loss = 0.005781\n",
      "epoch : 6/30, loss = 0.005784\n",
      "epoch : 9/30, loss = 0.005778\n",
      "epoch : 12/30, loss = 0.005805\n",
      "epoch : 15/30, loss = 0.005795\n",
      "epoch : 18/30, loss = 0.005760\n",
      "epoch : 21/30, loss = 0.005787\n",
      "epoch : 24/30, loss = 0.005796\n",
      "epoch : 27/30, loss = 0.005795\n"
     ]
    },
    {
     "name": "stderr",
     "output_type": "stream",
     "text": [
      "[I 2020-07-17 02:59:09,816] Finished trial#1 with value: 0.005788367869019622 with parameters: {'Learning Rate': 0.04178970195968527, 'Dropout Rate': 0.2, 'Latent Size': 64, 'Optimizer': 'Adam', 'Frequency Bins': 30, 'Time Steps': 10, 'Hidden Layers': 1, 'L2 Regularization': 0.003029793614930905}. Best is trial#0 with value: 0.002943692337863773.\n"
     ]
    },
    {
     "name": "stdout",
     "output_type": "stream",
     "text": [
      "epoch : 0/30, loss = 0.006946\n"
     ]
    },
    {
     "name": "stderr",
     "output_type": "stream",
     "text": [
      "[I 2020-07-17 02:59:28,838] Setting status of trial#2 as TrialState.PRUNED. \n"
     ]
    },
    {
     "name": "stdout",
     "output_type": "stream",
     "text": [
      "epoch : 0/30, loss = 0.010806\n"
     ]
    },
    {
     "name": "stderr",
     "output_type": "stream",
     "text": [
      "[I 2020-07-17 02:59:43,855] Setting status of trial#3 as TrialState.PRUNED. \n"
     ]
    },
    {
     "name": "stdout",
     "output_type": "stream",
     "text": [
      "epoch : 0/30, loss = 0.008606\n",
      "epoch : 3/30, loss = 0.008517\n",
      "epoch : 6/30, loss = 0.008551\n",
      "epoch : 9/30, loss = 0.008548\n",
      "epoch : 12/30, loss = 0.008525\n",
      "epoch : 15/30, loss = 0.008550\n",
      "epoch : 18/30, loss = 0.008507\n",
      "epoch : 21/30, loss = 0.008555\n",
      "epoch : 24/30, loss = 0.008519\n",
      "epoch : 27/30, loss = 0.008559\n"
     ]
    },
    {
     "name": "stderr",
     "output_type": "stream",
     "text": [
      "[I 2020-07-17 03:02:41,048] Finished trial#4 with value: 0.008542196938895998 with parameters: {'Learning Rate': 0.07946980616728701, 'Dropout Rate': 0.30000000000000004, 'Latent Size': 4, 'Optimizer': 'Adam', 'Frequency Bins': 10, 'Time Steps': 20, 'Hidden Layers': 2, 'L2 Regularization': 0.028329171400641402}. Best is trial#0 with value: 0.002943692337863773.\n"
     ]
    },
    {
     "name": "stdout",
     "output_type": "stream",
     "text": [
      "epoch : 0/30, loss = 0.007449\n"
     ]
    },
    {
     "name": "stderr",
     "output_type": "stream",
     "text": [
      "[I 2020-07-17 03:03:04,928] Setting status of trial#5 as TrialState.PRUNED. \n"
     ]
    },
    {
     "name": "stdout",
     "output_type": "stream",
     "text": [
      "epoch : 0/30, loss = 0.007598\n"
     ]
    },
    {
     "name": "stderr",
     "output_type": "stream",
     "text": [
      "[I 2020-07-17 03:03:21,378] Setting status of trial#6 as TrialState.PRUNED. \n"
     ]
    },
    {
     "name": "stdout",
     "output_type": "stream",
     "text": [
      "epoch : 0/30, loss = 0.036823\n"
     ]
    },
    {
     "name": "stderr",
     "output_type": "stream",
     "text": [
      "[I 2020-07-17 03:03:32,730] Setting status of trial#7 as TrialState.PRUNED. \n"
     ]
    },
    {
     "name": "stdout",
     "output_type": "stream",
     "text": [
      "epoch : 0/30, loss = 0.011676\n"
     ]
    },
    {
     "name": "stderr",
     "output_type": "stream",
     "text": [
      "[I 2020-07-17 03:03:47,978] Setting status of trial#8 as TrialState.PRUNED. \n"
     ]
    },
    {
     "name": "stdout",
     "output_type": "stream",
     "text": [
      "epoch : 0/30, loss = 0.011650\n",
      "epoch : 3/30, loss = 0.009928\n",
      "epoch : 6/30, loss = 0.009702\n",
      "epoch : 9/30, loss = 0.009314\n",
      "epoch : 12/30, loss = 0.007754\n",
      "epoch : 15/30, loss = 0.007047\n",
      "epoch : 18/30, loss = 0.006465\n",
      "epoch : 21/30, loss = 0.005886\n",
      "epoch : 24/30, loss = 0.005592\n",
      "epoch : 27/30, loss = 0.005382\n"
     ]
    },
    {
     "name": "stderr",
     "output_type": "stream",
     "text": [
      "[I 2020-07-17 03:05:22,261] Finished trial#9 with value: 0.0052536935154490795 with parameters: {'Learning Rate': 0.0847834618686501, 'Dropout Rate': 0.4, 'Latent Size': 4, 'Optimizer': 'SGD', 'Frequency Bins': 30, 'Time Steps': 5, 'Hidden Layers': 2, 'L2 Regularization': 1.5987336054715368e-06}. Best is trial#0 with value: 0.002943692337863773.\n"
     ]
    },
    {
     "name": "stdout",
     "output_type": "stream",
     "text": [
      "epoch : 0/30, loss = 0.006657\n",
      "epoch : 3/30, loss = 0.006512\n",
      "epoch : 6/30, loss = 0.006548\n",
      "epoch : 9/30, loss = 0.006547\n",
      "epoch : 12/30, loss = 0.006528\n",
      "epoch : 15/30, loss = 0.006505\n",
      "epoch : 18/30, loss = 0.006614\n",
      "epoch : 21/30, loss = 0.006550\n",
      "epoch : 24/30, loss = 0.006497\n",
      "epoch : 27/30, loss = 0.006514\n"
     ]
    },
    {
     "name": "stderr",
     "output_type": "stream",
     "text": [
      "[I 2020-07-17 03:08:19,521] Finished trial#10 with value: 0.006530626092234072 with parameters: {'Learning Rate': 0.09281562830567432, 'Dropout Rate': 0.1, 'Latent Size': 64, 'Optimizer': 'Adam', 'Frequency Bins': 10, 'Time Steps': 20, 'Hidden Layers': 1, 'L2 Regularization': 0.0011128266394451844}. Best is trial#0 with value: 0.002943692337863773.\n"
     ]
    },
    {
     "name": "stdout",
     "output_type": "stream",
     "text": [
      "epoch : 0/30, loss = 0.015050\n"
     ]
    },
    {
     "name": "stderr",
     "output_type": "stream",
     "text": [
      "[I 2020-07-17 03:08:34,430] Setting status of trial#11 as TrialState.PRUNED. \n"
     ]
    },
    {
     "name": "stdout",
     "output_type": "stream",
     "text": [
      "epoch : 0/30, loss = 0.004322\n",
      "epoch : 3/30, loss = 0.004107\n",
      "epoch : 6/30, loss = 0.004112\n",
      "epoch : 9/30, loss = 0.004119\n",
      "epoch : 12/30, loss = 0.004128\n",
      "epoch : 15/30, loss = 0.004135\n",
      "epoch : 18/30, loss = 0.004123\n",
      "epoch : 21/30, loss = 0.004131\n",
      "epoch : 24/30, loss = 0.004165\n",
      "epoch : 27/30, loss = 0.004142\n"
     ]
    },
    {
     "name": "stderr",
     "output_type": "stream",
     "text": [
      "[I 2020-07-17 03:11:03,916] Finished trial#12 with value: 0.004123075758569113 with parameters: {'Learning Rate': 0.05675759000357444, 'Dropout Rate': 0.30000000000000004, 'Latent Size': 16, 'Optimizer': 'Adam', 'Frequency Bins': 60, 'Time Steps': 10, 'Hidden Layers': 2, 'L2 Regularization': 2.1901531870086566e-06}. Best is trial#0 with value: 0.002943692337863773.\n"
     ]
    },
    {
     "name": "stdout",
     "output_type": "stream",
     "text": [
      "epoch : 0/30, loss = 0.006825\n",
      "epoch : 3/30, loss = 0.005650\n",
      "epoch : 6/30, loss = 0.005107\n",
      "epoch : 9/30, loss = 0.004810\n",
      "epoch : 12/30, loss = 0.004638\n",
      "epoch : 15/30, loss = 0.004534\n",
      "epoch : 18/30, loss = 0.004474\n",
      "epoch : 21/30, loss = 0.004413\n",
      "epoch : 24/30, loss = 0.004381\n",
      "epoch : 27/30, loss = 0.004362\n"
     ]
    },
    {
     "name": "stderr",
     "output_type": "stream",
     "text": [
      "[I 2020-07-17 03:13:32,441] Finished trial#13 with value: 0.004335522562805705 with parameters: {'Learning Rate': 0.0070343026418880775, 'Dropout Rate': 0.0, 'Latent Size': 16, 'Optimizer': 'SGD', 'Frequency Bins': 60, 'Time Steps': 10, 'Hidden Layers': 2, 'L2 Regularization': 0.0005268869001695862}. Best is trial#0 with value: 0.002943692337863773.\n"
     ]
    },
    {
     "name": "stdout",
     "output_type": "stream",
     "text": [
      "epoch : 0/30, loss = 0.018956\n",
      "epoch : 3/30, loss = 0.016138\n",
      "epoch : 6/30, loss = 0.016050\n"
     ]
    },
    {
     "name": "stderr",
     "output_type": "stream",
     "text": [
      "[I 2020-07-17 03:13:59,648] Setting status of trial#14 as TrialState.PRUNED. \n"
     ]
    },
    {
     "name": "stdout",
     "output_type": "stream",
     "text": [
      "epoch : 0/30, loss = 0.004199\n",
      "epoch : 3/30, loss = 0.002991\n",
      "epoch : 6/30, loss = 0.002792\n",
      "epoch : 9/30, loss = 0.002733\n",
      "epoch : 12/30, loss = 0.002705\n",
      "epoch : 15/30, loss = 0.002699\n",
      "epoch : 18/30, loss = 0.002697\n",
      "epoch : 21/30, loss = 0.002687\n",
      "epoch : 24/30, loss = 0.002693\n",
      "epoch : 27/30, loss = 0.002697\n"
     ]
    },
    {
     "name": "stderr",
     "output_type": "stream",
     "text": [
      "[I 2020-07-17 03:17:12,773] Finished trial#15 with value: 0.0026908456099056107 with parameters: {'Learning Rate': 0.08422173788408685, 'Dropout Rate': 0.30000000000000004, 'Latent Size': 64, 'Optimizer': 'SGD', 'Frequency Bins': 60, 'Time Steps': 20, 'Hidden Layers': 2, 'L2 Regularization': 0.00016893491033006616}. Best is trial#15 with value: 0.0026908456099056107.\n"
     ]
    },
    {
     "name": "stdout",
     "output_type": "stream",
     "text": [
      "epoch : 0/30, loss = 0.003858\n",
      "epoch : 3/30, loss = 0.003811\n",
      "epoch : 6/30, loss = 0.003794\n"
     ]
    },
    {
     "name": "stderr",
     "output_type": "stream",
     "text": [
      "[I 2020-07-17 03:18:02,611] Setting status of trial#16 as TrialState.PRUNED. \n"
     ]
    },
    {
     "name": "stdout",
     "output_type": "stream",
     "text": [
      "epoch : 0/30, loss = 0.006681\n"
     ]
    },
    {
     "name": "stderr",
     "output_type": "stream",
     "text": [
      "[I 2020-07-17 03:18:19,657] Setting status of trial#17 as TrialState.PRUNED. \n"
     ]
    },
    {
     "name": "stdout",
     "output_type": "stream",
     "text": [
      "epoch : 0/30, loss = 0.008697\n",
      "epoch : 3/30, loss = 0.003107\n",
      "epoch : 6/30, loss = 0.002773\n",
      "epoch : 9/30, loss = 0.002673\n",
      "epoch : 12/30, loss = 0.002619\n",
      "epoch : 15/30, loss = 0.002600\n",
      "epoch : 18/30, loss = 0.002571\n",
      "epoch : 21/30, loss = 0.002565\n",
      "epoch : 24/30, loss = 0.002547\n",
      "epoch : 27/30, loss = 0.002533\n"
     ]
    },
    {
     "name": "stderr",
     "output_type": "stream",
     "text": [
      "[I 2020-07-17 03:21:32,275] Finished trial#18 with value: 0.0025254601047495166 with parameters: {'Learning Rate': 0.09859220748099069, 'Dropout Rate': 0.5, 'Latent Size': 4, 'Optimizer': 'SGD', 'Frequency Bins': 60, 'Time Steps': 20, 'Hidden Layers': 1, 'L2 Regularization': 4.11377595009833e-05}. Best is trial#18 with value: 0.0025254601047495166.\n"
     ]
    },
    {
     "name": "stdout",
     "output_type": "stream",
     "text": [
      "epoch : 0/30, loss = 0.008676\n",
      "epoch : 3/30, loss = 0.003122\n",
      "epoch : 6/30, loss = 0.002817\n"
     ]
    },
    {
     "name": "stderr",
     "output_type": "stream",
     "text": [
      "[I 2020-07-17 03:22:37,054] Setting status of trial#19 as TrialState.PRUNED. \n"
     ]
    },
    {
     "name": "stdout",
     "output_type": "stream",
     "text": [
      "epoch : 0/30, loss = 0.008326\n"
     ]
    },
    {
     "name": "stderr",
     "output_type": "stream",
     "text": [
      "[I 2020-07-17 03:22:56,126] Setting status of trial#20 as TrialState.PRUNED. \n"
     ]
    },
    {
     "name": "stdout",
     "output_type": "stream",
     "text": [
      "epoch : 0/30, loss = 0.007549\n",
      "epoch : 3/30, loss = 0.003119\n",
      "epoch : 6/30, loss = 0.002818\n"
     ]
    },
    {
     "name": "stderr",
     "output_type": "stream",
     "text": [
      "[I 2020-07-17 03:24:00,609] Setting status of trial#21 as TrialState.PRUNED. \n"
     ]
    },
    {
     "name": "stdout",
     "output_type": "stream",
     "text": [
      "epoch : 0/30, loss = 0.009737\n"
     ]
    },
    {
     "name": "stderr",
     "output_type": "stream",
     "text": [
      "[I 2020-07-17 03:24:26,953] Setting status of trial#22 as TrialState.PRUNED. \n"
     ]
    },
    {
     "name": "stdout",
     "output_type": "stream",
     "text": [
      "epoch : 0/30, loss = 0.009249\n"
     ]
    },
    {
     "name": "stderr",
     "output_type": "stream",
     "text": [
      "[I 2020-07-17 03:24:52,800] Setting status of trial#23 as TrialState.PRUNED. \n"
     ]
    },
    {
     "name": "stdout",
     "output_type": "stream",
     "text": [
      "epoch : 0/30, loss = 0.003065\n",
      "epoch : 3/30, loss = 0.002933\n",
      "epoch : 6/30, loss = 0.002936\n"
     ]
    },
    {
     "name": "stderr",
     "output_type": "stream",
     "text": [
      "[I 2020-07-17 03:25:58,066] Setting status of trial#24 as TrialState.PRUNED. \n"
     ]
    },
    {
     "name": "stdout",
     "output_type": "stream",
     "text": [
      "epoch : 0/30, loss = 0.003044\n",
      "epoch : 3/30, loss = 0.002892\n",
      "epoch : 6/30, loss = 0.002910\n"
     ]
    },
    {
     "name": "stderr",
     "output_type": "stream",
     "text": [
      "[I 2020-07-17 03:27:02,260] Setting status of trial#25 as TrialState.PRUNED. \n"
     ]
    },
    {
     "name": "stdout",
     "output_type": "stream",
     "text": [
      "epoch : 0/30, loss = 0.007869\n"
     ]
    },
    {
     "name": "stderr",
     "output_type": "stream",
     "text": [
      "[I 2020-07-17 03:27:28,092] Setting status of trial#26 as TrialState.PRUNED. \n"
     ]
    },
    {
     "name": "stdout",
     "output_type": "stream",
     "text": [
      "epoch : 0/30, loss = 0.008600\n"
     ]
    },
    {
     "name": "stderr",
     "output_type": "stream",
     "text": [
      "[I 2020-07-17 03:27:47,093] Setting status of trial#27 as TrialState.PRUNED. \n"
     ]
    },
    {
     "name": "stdout",
     "output_type": "stream",
     "text": [
      "epoch : 0/30, loss = 0.006282\n",
      "epoch : 3/30, loss = 0.004785\n",
      "epoch : 6/30, loss = 0.004394\n",
      "epoch : 9/30, loss = 0.004232\n",
      "epoch : 12/30, loss = 0.004173\n",
      "epoch : 15/30, loss = 0.004102\n",
      "epoch : 18/30, loss = 0.004066\n",
      "epoch : 21/30, loss = 0.004065\n",
      "epoch : 24/30, loss = 0.004047\n",
      "epoch : 27/30, loss = 0.004050\n"
     ]
    },
    {
     "name": "stderr",
     "output_type": "stream",
     "text": [
      "[I 2020-07-17 03:30:16,069] Finished trial#28 with value: 0.0040393550880253315 with parameters: {'Learning Rate': 0.03041819765113323, 'Dropout Rate': 0.4, 'Latent Size': 64, 'Optimizer': 'SGD', 'Frequency Bins': 60, 'Time Steps': 10, 'Hidden Layers': 2, 'L2 Regularization': 1.0959627177402373e-06}. Best is trial#18 with value: 0.0025254601047495166.\n"
     ]
    },
    {
     "name": "stdout",
     "output_type": "stream",
     "text": [
      "epoch : 0/30, loss = 0.002562\n",
      "epoch : 3/30, loss = 0.002533\n",
      "epoch : 6/30, loss = 0.002533\n",
      "epoch : 9/30, loss = 0.002514\n",
      "epoch : 12/30, loss = 0.002519\n",
      "epoch : 15/30, loss = 0.002524\n",
      "epoch : 18/30, loss = 0.002526\n",
      "epoch : 21/30, loss = 0.002525\n",
      "epoch : 24/30, loss = 0.002520\n",
      "epoch : 27/30, loss = 0.002520\n"
     ]
    },
    {
     "name": "stderr",
     "output_type": "stream",
     "text": [
      "[I 2020-07-17 03:33:29,502] Finished trial#29 with value: 0.002518450484952342 with parameters: {'Learning Rate': 0.028303933897845877, 'Dropout Rate': 0.5, 'Latent Size': 64, 'Optimizer': 'Adam', 'Frequency Bins': 60, 'Time Steps': 20, 'Hidden Layers': 2, 'L2 Regularization': 0.0006568158679276786}. Best is trial#29 with value: 0.002518450484952342.\n"
     ]
    },
    {
     "name": "stdout",
     "output_type": "stream",
     "text": [
      "epoch : 0/30, loss = 0.005910\n"
     ]
    },
    {
     "name": "stderr",
     "output_type": "stream",
     "text": [
      "[I 2020-07-17 03:33:54,157] Setting status of trial#30 as TrialState.PRUNED. \n"
     ]
    },
    {
     "name": "stdout",
     "output_type": "stream",
     "text": [
      "epoch : 0/30, loss = 0.008708\n"
     ]
    },
    {
     "name": "stderr",
     "output_type": "stream",
     "text": [
      "[I 2020-07-17 03:34:18,629] Setting status of trial#31 as TrialState.PRUNED. \n"
     ]
    },
    {
     "name": "stdout",
     "output_type": "stream",
     "text": [
      "epoch : 0/30, loss = 0.002563\n",
      "epoch : 3/30, loss = 0.002489\n",
      "epoch : 6/30, loss = 0.002498\n",
      "epoch : 9/30, loss = 0.002497\n",
      "epoch : 12/30, loss = 0.002511\n",
      "epoch : 15/30, loss = 0.002512\n",
      "epoch : 18/30, loss = 0.002507\n",
      "epoch : 21/30, loss = 0.002503\n",
      "epoch : 24/30, loss = 0.002501\n",
      "epoch : 27/30, loss = 0.002503\n"
     ]
    },
    {
     "name": "stderr",
     "output_type": "stream",
     "text": [
      "[I 2020-07-17 03:37:32,143] Finished trial#32 with value: 0.0025094256537276827 with parameters: {'Learning Rate': 0.027319582095412746, 'Dropout Rate': 0.5, 'Latent Size': 64, 'Optimizer': 'Adam', 'Frequency Bins': 60, 'Time Steps': 20, 'Hidden Layers': 2, 'L2 Regularization': 4.929704493970351e-05}. Best is trial#32 with value: 0.0025094256537276827.\n"
     ]
    },
    {
     "name": "stdout",
     "output_type": "stream",
     "text": [
      "epoch : 0/30, loss = 0.002534\n",
      "epoch : 3/30, loss = 0.002490\n",
      "epoch : 6/30, loss = 0.002487\n",
      "epoch : 9/30, loss = 0.002488\n",
      "epoch : 12/30, loss = 0.002484\n",
      "epoch : 15/30, loss = 0.002484\n",
      "epoch : 18/30, loss = 0.002492\n",
      "epoch : 21/30, loss = 0.002502\n",
      "epoch : 24/30, loss = 0.002486\n",
      "epoch : 27/30, loss = 0.002494\n"
     ]
    },
    {
     "name": "stderr",
     "output_type": "stream",
     "text": [
      "[I 2020-07-17 03:40:45,892] Finished trial#33 with value: 0.0024937679662319426 with parameters: {'Learning Rate': 0.029817171530549535, 'Dropout Rate': 0.5, 'Latent Size': 64, 'Optimizer': 'Adam', 'Frequency Bins': 60, 'Time Steps': 20, 'Hidden Layers': 2, 'L2 Regularization': 8.3802264275578e-05}. Best is trial#33 with value: 0.0024937679662319426.\n"
     ]
    },
    {
     "name": "stdout",
     "output_type": "stream",
     "text": [
      "epoch : 0/30, loss = 0.002532\n",
      "epoch : 3/30, loss = 0.002485\n",
      "epoch : 6/30, loss = 0.002491\n",
      "epoch : 9/30, loss = 0.002488\n",
      "epoch : 12/30, loss = 0.002492\n",
      "epoch : 15/30, loss = 0.002500\n",
      "epoch : 18/30, loss = 0.002486\n",
      "epoch : 21/30, loss = 0.002483\n",
      "epoch : 24/30, loss = 0.002488\n",
      "epoch : 27/30, loss = 0.002484\n"
     ]
    },
    {
     "name": "stderr",
     "output_type": "stream",
     "text": [
      "[I 2020-07-17 03:43:59,106] Finished trial#34 with value: 0.0024889751047763317 with parameters: {'Learning Rate': 0.029958501195590553, 'Dropout Rate': 0.4, 'Latent Size': 64, 'Optimizer': 'Adam', 'Frequency Bins': 60, 'Time Steps': 20, 'Hidden Layers': 2, 'L2 Regularization': 0.000130433412503136}. Best is trial#34 with value: 0.0024889751047763317.\n"
     ]
    },
    {
     "name": "stdout",
     "output_type": "stream",
     "text": [
      "epoch : 0/30, loss = 0.003368\n",
      "epoch : 3/30, loss = 0.002913\n",
      "epoch : 6/30, loss = 0.002906\n",
      "epoch : 9/30, loss = 0.002904\n",
      "epoch : 12/30, loss = 0.002907\n",
      "epoch : 15/30, loss = 0.002905\n",
      "epoch : 18/30, loss = 0.002907\n",
      "epoch : 21/30, loss = 0.002905\n",
      "epoch : 24/30, loss = 0.002907\n"
     ]
    },
    {
     "name": "stderr",
     "output_type": "stream",
     "text": [
      "[I 2020-07-17 03:46:59,535] Setting status of trial#35 as TrialState.PRUNED. \n"
     ]
    },
    {
     "name": "stdout",
     "output_type": "stream",
     "text": [
      "epoch : 0/30, loss = 0.002673\n",
      "epoch : 3/30, loss = 0.002453\n",
      "epoch : 6/30, loss = 0.002450\n",
      "epoch : 9/30, loss = 0.002442\n",
      "epoch : 12/30, loss = 0.002446\n",
      "epoch : 15/30, loss = 0.002437\n",
      "epoch : 18/30, loss = 0.002435\n",
      "epoch : 21/30, loss = 0.002437\n",
      "epoch : 24/30, loss = 0.002434\n",
      "epoch : 27/30, loss = 0.002436\n"
     ]
    },
    {
     "name": "stderr",
     "output_type": "stream",
     "text": [
      "[I 2020-07-17 03:50:13,338] Finished trial#36 with value: 0.002437973895309251 with parameters: {'Learning Rate': 0.0011532844015822788, 'Dropout Rate': 0.4, 'Latent Size': 64, 'Optimizer': 'Adam', 'Frequency Bins': 60, 'Time Steps': 20, 'Hidden Layers': 2, 'L2 Regularization': 0.00011776739160567779}. Best is trial#36 with value: 0.002437973895309251.\n"
     ]
    },
    {
     "name": "stdout",
     "output_type": "stream",
     "text": [
      "epoch : 0/30, loss = 0.002530\n",
      "epoch : 3/30, loss = 0.002453\n",
      "epoch : 6/30, loss = 0.002454\n",
      "epoch : 9/30, loss = 0.002453\n",
      "epoch : 12/30, loss = 0.002453\n",
      "epoch : 15/30, loss = 0.002445\n",
      "epoch : 18/30, loss = 0.002462\n",
      "epoch : 21/30, loss = 0.002457\n",
      "epoch : 24/30, loss = 0.002448\n",
      "epoch : 27/30, loss = 0.002453\n"
     ]
    },
    {
     "name": "stderr",
     "output_type": "stream",
     "text": [
      "[I 2020-07-17 03:53:26,585] Finished trial#37 with value: 0.002452396572645725 with parameters: {'Learning Rate': 0.006991537486021557, 'Dropout Rate': 0.4, 'Latent Size': 64, 'Optimizer': 'Adam', 'Frequency Bins': 60, 'Time Steps': 20, 'Hidden Layers': 2, 'L2 Regularization': 0.00013237147400277564}. Best is trial#36 with value: 0.002437973895309251.\n"
     ]
    },
    {
     "name": "stdout",
     "output_type": "stream",
     "text": [
      "epoch : 0/30, loss = 0.002887\n",
      "epoch : 3/30, loss = 0.002472\n",
      "epoch : 6/30, loss = 0.002442\n",
      "epoch : 9/30, loss = 0.002440\n",
      "epoch : 12/30, loss = 0.002442\n",
      "epoch : 15/30, loss = 0.002442\n",
      "epoch : 18/30, loss = 0.002443\n",
      "epoch : 21/30, loss = 0.002441\n",
      "epoch : 24/30, loss = 0.002443\n",
      "epoch : 27/30, loss = 0.002440\n"
     ]
    },
    {
     "name": "stderr",
     "output_type": "stream",
     "text": [
      "[I 2020-07-17 03:56:40,989] Finished trial#38 with value: 0.00244939353011321 with parameters: {'Learning Rate': 0.0007275334468119657, 'Dropout Rate': 0.4, 'Latent Size': 64, 'Optimizer': 'Adam', 'Frequency Bins': 60, 'Time Steps': 20, 'Hidden Layers': 2, 'L2 Regularization': 0.00018482027747399637}. Best is trial#36 with value: 0.002437973895309251.\n"
     ]
    },
    {
     "name": "stdout",
     "output_type": "stream",
     "text": [
      "epoch : 0/30, loss = 0.009444\n"
     ]
    },
    {
     "name": "stderr",
     "output_type": "stream",
     "text": [
      "[I 2020-07-17 03:57:04,513] Setting status of trial#39 as TrialState.PRUNED. \n"
     ]
    },
    {
     "name": "stdout",
     "output_type": "stream",
     "text": [
      "epoch : 0/30, loss = 0.007294\n"
     ]
    },
    {
     "name": "stderr",
     "output_type": "stream",
     "text": [
      "[I 2020-07-17 03:57:21,073] Setting status of trial#40 as TrialState.PRUNED. \n"
     ]
    },
    {
     "name": "stdout",
     "output_type": "stream",
     "text": [
      "epoch : 0/30, loss = 0.007309\n"
     ]
    },
    {
     "name": "stderr",
     "output_type": "stream",
     "text": [
      "[I 2020-07-17 03:57:40,228] Setting status of trial#41 as TrialState.PRUNED. \n"
     ]
    },
    {
     "name": "stdout",
     "output_type": "stream",
     "text": [
      "epoch : 0/30, loss = 0.002702\n",
      "epoch : 3/30, loss = 0.001813\n",
      "epoch : 6/30, loss = 0.001753\n",
      "epoch : 9/30, loss = 0.001723\n",
      "epoch : 12/30, loss = 0.001567\n",
      "epoch : 15/30, loss = 0.001467\n",
      "epoch : 18/30, loss = 0.001436\n",
      "epoch : 21/30, loss = 0.001426\n",
      "epoch : 24/30, loss = 0.001415\n",
      "epoch : 27/30, loss = 0.001363\n"
     ]
    },
    {
     "name": "stderr",
     "output_type": "stream",
     "text": [
      "[I 2020-07-17 04:00:54,573] Finished trial#42 with value: 0.0013633882266981172 with parameters: {'Learning Rate': 0.0008985161472402526, 'Dropout Rate': 0.30000000000000004, 'Latent Size': 64, 'Optimizer': 'Adam', 'Frequency Bins': 60, 'Time Steps': 20, 'Hidden Layers': 2, 'L2 Regularization': 1.9155886131159903e-05}. Best is trial#42 with value: 0.0013633882266981172.\n"
     ]
    },
    {
     "name": "stdout",
     "output_type": "stream",
     "text": [
      "epoch : 0/30, loss = 0.002213\n",
      "epoch : 3/30, loss = 0.001774\n",
      "epoch : 6/30, loss = 0.001731\n",
      "epoch : 9/30, loss = 0.001747\n",
      "epoch : 12/30, loss = 0.001733\n",
      "epoch : 15/30, loss = 0.001720\n",
      "epoch : 18/30, loss = 0.001672\n",
      "epoch : 21/30, loss = 0.001770\n",
      "epoch : 24/30, loss = 0.001710\n",
      "epoch : 27/30, loss = 0.001714\n"
     ]
    },
    {
     "name": "stderr",
     "output_type": "stream",
     "text": [
      "[I 2020-07-17 04:04:08,400] Finished trial#43 with value: 0.001696633028385464 with parameters: {'Learning Rate': 0.012399125461281139, 'Dropout Rate': 0.30000000000000004, 'Latent Size': 64, 'Optimizer': 'Adam', 'Frequency Bins': 60, 'Time Steps': 20, 'Hidden Layers': 2, 'L2 Regularization': 3.6521509874671066e-06}. Best is trial#42 with value: 0.0013633882266981172.\n"
     ]
    },
    {
     "name": "stdout",
     "output_type": "stream",
     "text": [
      "epoch : 0/30, loss = 0.002146\n",
      "epoch : 3/30, loss = 0.001787\n",
      "epoch : 6/30, loss = 0.001699\n",
      "epoch : 9/30, loss = 0.001688\n",
      "epoch : 12/30, loss = 0.001607\n",
      "epoch : 15/30, loss = 0.001615\n",
      "epoch : 18/30, loss = 0.001593\n",
      "epoch : 21/30, loss = 0.001573\n",
      "epoch : 24/30, loss = 0.001597\n",
      "epoch : 27/30, loss = 0.001567\n"
     ]
    },
    {
     "name": "stderr",
     "output_type": "stream",
     "text": [
      "[I 2020-07-17 04:07:22,261] Finished trial#44 with value: 0.0015559044225809684 with parameters: {'Learning Rate': 0.00976512933142582, 'Dropout Rate': 0.30000000000000004, 'Latent Size': 64, 'Optimizer': 'Adam', 'Frequency Bins': 60, 'Time Steps': 20, 'Hidden Layers': 2, 'L2 Regularization': 3.1842503518485747e-06}. Best is trial#42 with value: 0.0013633882266981172.\n"
     ]
    },
    {
     "name": "stdout",
     "output_type": "stream",
     "text": [
      "epoch : 0/30, loss = 0.002137\n",
      "epoch : 3/30, loss = 0.001744\n",
      "epoch : 6/30, loss = 0.001733\n",
      "epoch : 9/30, loss = 0.001675\n",
      "epoch : 12/30, loss = 0.001696\n",
      "epoch : 15/30, loss = 0.001697\n",
      "epoch : 18/30, loss = 0.001688\n",
      "epoch : 21/30, loss = 0.001661\n",
      "epoch : 24/30, loss = 0.001693\n",
      "epoch : 27/30, loss = 0.001686\n"
     ]
    },
    {
     "name": "stderr",
     "output_type": "stream",
     "text": [
      "[I 2020-07-17 04:10:35,475] Finished trial#45 with value: 0.0016552184691531796 with parameters: {'Learning Rate': 0.010105847549475234, 'Dropout Rate': 0.30000000000000004, 'Latent Size': 64, 'Optimizer': 'Adam', 'Frequency Bins': 60, 'Time Steps': 20, 'Hidden Layers': 2, 'L2 Regularization': 3.4066473244011957e-06}. Best is trial#42 with value: 0.0013633882266981172.\n"
     ]
    },
    {
     "name": "stdout",
     "output_type": "stream",
     "text": [
      "epoch : 0/30, loss = 0.010317\n",
      "epoch : 3/30, loss = 0.009835\n",
      "epoch : 6/30, loss = 0.009883\n"
     ]
    },
    {
     "name": "stderr",
     "output_type": "stream",
     "text": [
      "[I 2020-07-17 04:11:13,339] Setting status of trial#46 as TrialState.PRUNED. \n"
     ]
    },
    {
     "name": "stdout",
     "output_type": "stream",
     "text": [
      "epoch : 0/30, loss = 0.002184\n",
      "epoch : 3/30, loss = 0.001877\n",
      "epoch : 6/30, loss = 0.001884\n",
      "epoch : 9/30, loss = 0.001820\n",
      "epoch : 12/30, loss = 0.001823\n",
      "epoch : 15/30, loss = 0.001807\n",
      "epoch : 18/30, loss = 0.001800\n",
      "epoch : 21/30, loss = 0.001788\n",
      "epoch : 24/30, loss = 0.001828\n",
      "epoch : 27/30, loss = 0.001806\n"
     ]
    },
    {
     "name": "stderr",
     "output_type": "stream",
     "text": [
      "[I 2020-07-17 04:14:25,996] Finished trial#47 with value: 0.001785453504488185 with parameters: {'Learning Rate': 0.013454523834623214, 'Dropout Rate': 0.30000000000000004, 'Latent Size': 64, 'Optimizer': 'Adam', 'Frequency Bins': 60, 'Time Steps': 20, 'Hidden Layers': 2, 'L2 Regularization': 2.7272297754315155e-06}. Best is trial#42 with value: 0.0013633882266981172.\n"
     ]
    },
    {
     "name": "stdout",
     "output_type": "stream",
     "text": [
      "epoch : 0/30, loss = 0.008973\n",
      "epoch : 3/30, loss = 0.008161\n",
      "epoch : 6/30, loss = 0.008141\n",
      "epoch : 9/30, loss = 0.008173\n",
      "epoch : 12/30, loss = 0.008198\n",
      "epoch : 15/30, loss = 0.007860\n",
      "epoch : 18/30, loss = 0.007863\n",
      "epoch : 21/30, loss = 0.007861\n",
      "epoch : 24/30, loss = 0.007861\n"
     ]
    },
    {
     "name": "stderr",
     "output_type": "stream",
     "text": [
      "[I 2020-07-17 04:16:38,737] Setting status of trial#48 as TrialState.PRUNED. \n"
     ]
    },
    {
     "name": "stdout",
     "output_type": "stream",
     "text": [
      "epoch : 0/30, loss = 0.010757\n"
     ]
    },
    {
     "name": "stderr",
     "output_type": "stream",
     "text": [
      "[I 2020-07-17 04:16:57,775] Setting status of trial#49 as TrialState.PRUNED. \n"
     ]
    },
    {
     "name": "stdout",
     "output_type": "stream",
     "text": [
      "epoch : 0/30, loss = 0.002088\n",
      "epoch : 3/30, loss = 0.001601\n",
      "epoch : 6/30, loss = 0.001574\n",
      "epoch : 9/30, loss = 0.001543\n",
      "epoch : 12/30, loss = 0.001538\n",
      "epoch : 15/30, loss = 0.001507\n",
      "epoch : 18/30, loss = 0.001477\n",
      "epoch : 21/30, loss = 0.001485\n",
      "epoch : 24/30, loss = 0.001475\n",
      "epoch : 27/30, loss = 0.001500\n"
     ]
    },
    {
     "name": "stderr",
     "output_type": "stream",
     "text": [
      "[I 2020-07-17 04:20:11,566] Finished trial#50 with value: 0.001520869450533464 with parameters: {'Learning Rate': 0.008736754324270258, 'Dropout Rate': 0.30000000000000004, 'Latent Size': 64, 'Optimizer': 'Adam', 'Frequency Bins': 60, 'Time Steps': 20, 'Hidden Layers': 2, 'L2 Regularization': 3.6444313730573513e-06}. Best is trial#42 with value: 0.0013633882266981172.\n"
     ]
    },
    {
     "name": "stdout",
     "output_type": "stream",
     "text": [
      "epoch : 0/30, loss = 0.003446\n"
     ]
    },
    {
     "name": "stderr",
     "output_type": "stream",
     "text": [
      "[I 2020-07-17 04:20:36,344] Setting status of trial#51 as TrialState.PRUNED. \n"
     ]
    },
    {
     "name": "stdout",
     "output_type": "stream",
     "text": [
      "epoch : 0/30, loss = 0.008104\n",
      "epoch : 3/30, loss = 0.007213\n",
      "epoch : 6/30, loss = 0.007352\n",
      "epoch : 9/30, loss = 0.007295\n",
      "epoch : 12/30, loss = 0.007305\n",
      "epoch : 15/30, loss = 0.007281\n",
      "epoch : 18/30, loss = 0.007312\n",
      "epoch : 21/30, loss = 0.007263\n",
      "epoch : 24/30, loss = 0.007295\n"
     ]
    },
    {
     "name": "stderr",
     "output_type": "stream",
     "text": [
      "[I 2020-07-17 04:23:22,268] Setting status of trial#52 as TrialState.PRUNED. \n"
     ]
    },
    {
     "name": "stdout",
     "output_type": "stream",
     "text": [
      "epoch : 0/30, loss = 0.002051\n",
      "epoch : 3/30, loss = 0.001574\n",
      "epoch : 6/30, loss = 0.001521\n",
      "epoch : 9/30, loss = 0.001477\n",
      "epoch : 12/30, loss = 0.001446\n",
      "epoch : 15/30, loss = 0.001399\n",
      "epoch : 18/30, loss = 0.001412\n",
      "epoch : 21/30, loss = 0.001398\n",
      "epoch : 24/30, loss = 0.001377\n",
      "epoch : 27/30, loss = 0.001376\n"
     ]
    },
    {
     "name": "stderr",
     "output_type": "stream",
     "text": [
      "[I 2020-07-17 04:26:36,397] Finished trial#53 with value: 0.001346197676887551 with parameters: {'Learning Rate': 0.006533987534711875, 'Dropout Rate': 0.2, 'Latent Size': 64, 'Optimizer': 'Adam', 'Frequency Bins': 60, 'Time Steps': 20, 'Hidden Layers': 2, 'L2 Regularization': 5.922247889178186e-06}. Best is trial#53 with value: 0.001346197676887551.\n"
     ]
    },
    {
     "name": "stdout",
     "output_type": "stream",
     "text": [
      "epoch : 0/30, loss = 0.003450\n",
      "epoch : 3/30, loss = 0.003730\n",
      "epoch : 6/30, loss = 0.003748\n",
      "epoch : 9/30, loss = 0.003733\n",
      "epoch : 12/30, loss = 0.003745\n",
      "epoch : 15/30, loss = 0.003759\n",
      "epoch : 18/30, loss = 0.003753\n",
      "epoch : 21/30, loss = 0.003741\n",
      "epoch : 24/30, loss = 0.003759\n",
      "epoch : 27/30, loss = 0.003763\n"
     ]
    },
    {
     "name": "stderr",
     "output_type": "stream",
     "text": [
      "[I 2020-07-17 04:29:40,737] Finished trial#54 with value: 0.0037464571508884657 with parameters: {'Learning Rate': 0.043445302810540584, 'Dropout Rate': 0.4, 'Latent Size': 16, 'Optimizer': 'Adam', 'Frequency Bins': 30, 'Time Steps': 20, 'Hidden Layers': 1, 'L2 Regularization': 0.00020088323831210237}. Best is trial#53 with value: 0.001346197676887551.\n"
     ]
    },
    {
     "name": "stdout",
     "output_type": "stream",
     "text": [
      "epoch : 0/30, loss = 0.004817\n"
     ]
    },
    {
     "name": "stderr",
     "output_type": "stream",
     "text": [
      "[I 2020-07-17 04:30:04,480] Setting status of trial#55 as TrialState.PRUNED. \n"
     ]
    },
    {
     "name": "stdout",
     "output_type": "stream",
     "text": [
      "epoch : 0/30, loss = 0.005264\n"
     ]
    },
    {
     "name": "stderr",
     "output_type": "stream",
     "text": [
      "[I 2020-07-17 04:30:23,596] Setting status of trial#56 as TrialState.PRUNED. \n"
     ]
    },
    {
     "name": "stdout",
     "output_type": "stream",
     "text": [
      "epoch : 0/30, loss = 0.006207\n"
     ]
    },
    {
     "name": "stderr",
     "output_type": "stream",
     "text": [
      "[I 2020-07-17 04:30:47,455] Setting status of trial#57 as TrialState.PRUNED. \n"
     ]
    },
    {
     "name": "stdout",
     "output_type": "stream",
     "text": [
      "epoch : 0/30, loss = 0.015915\n"
     ]
    },
    {
     "name": "stderr",
     "output_type": "stream",
     "text": [
      "[I 2020-07-17 04:31:11,156] Setting status of trial#58 as TrialState.PRUNED. \n"
     ]
    },
    {
     "name": "stdout",
     "output_type": "stream",
     "text": [
      "epoch : 0/30, loss = 0.005557\n"
     ]
    },
    {
     "name": "stderr",
     "output_type": "stream",
     "text": [
      "[I 2020-07-17 04:31:35,010] Setting status of trial#59 as TrialState.PRUNED. \n"
     ]
    },
    {
     "name": "stdout",
     "output_type": "stream",
     "text": [
      "epoch : 0/30, loss = 0.002683\n",
      "epoch : 3/30, loss = 0.002648\n",
      "epoch : 6/30, loss = 0.002646\n",
      "epoch : 9/30, loss = 0.002650\n",
      "epoch : 12/30, loss = 0.002655\n",
      "epoch : 15/30, loss = 0.002655\n",
      "epoch : 18/30, loss = 0.002647\n",
      "epoch : 21/30, loss = 0.002644\n",
      "epoch : 24/30, loss = 0.002647\n",
      "epoch : 27/30, loss = 0.002650\n"
     ]
    },
    {
     "name": "stderr",
     "output_type": "stream",
     "text": [
      "[I 2020-07-17 04:34:48,463] Finished trial#60 with value: 0.0026455515638377715 with parameters: {'Learning Rate': 0.05939694469618784, 'Dropout Rate': 0.1, 'Latent Size': 64, 'Optimizer': 'Adam', 'Frequency Bins': 60, 'Time Steps': 20, 'Hidden Layers': 1, 'L2 Regularization': 0.0020983273769140955}. Best is trial#53 with value: 0.001346197676887551.\n"
     ]
    },
    {
     "name": "stdout",
     "output_type": "stream",
     "text": [
      "epoch : 0/30, loss = 0.002157\n",
      "epoch : 3/30, loss = 0.001609\n",
      "epoch : 6/30, loss = 0.001564\n",
      "epoch : 9/30, loss = 0.001529\n",
      "epoch : 12/30, loss = 0.001505\n",
      "epoch : 15/30, loss = 0.001470\n",
      "epoch : 18/30, loss = 0.001470\n",
      "epoch : 21/30, loss = 0.001482\n",
      "epoch : 24/30, loss = 0.001451\n",
      "epoch : 27/30, loss = 0.001437\n"
     ]
    },
    {
     "name": "stderr",
     "output_type": "stream",
     "text": [
      "[I 2020-07-17 04:38:02,063] Finished trial#61 with value: 0.0014079736189326656 with parameters: {'Learning Rate': 0.005981205404064421, 'Dropout Rate': 0.30000000000000004, 'Latent Size': 64, 'Optimizer': 'Adam', 'Frequency Bins': 60, 'Time Steps': 20, 'Hidden Layers': 2, 'L2 Regularization': 5.768241714785201e-06}. Best is trial#53 with value: 0.001346197676887551.\n"
     ]
    },
    {
     "name": "stdout",
     "output_type": "stream",
     "text": [
      "epoch : 0/30, loss = 0.003862\n",
      "epoch : 3/30, loss = 0.002453\n",
      "epoch : 6/30, loss = 0.002264\n"
     ]
    },
    {
     "name": "stderr",
     "output_type": "stream",
     "text": [
      "[I 2020-07-17 04:38:43,210] Setting status of trial#62 as TrialState.PRUNED. \n"
     ]
    },
    {
     "name": "stdout",
     "output_type": "stream",
     "text": [
      "epoch : 0/30, loss = 0.002778\n",
      "epoch : 3/30, loss = 0.002729\n",
      "epoch : 6/30, loss = 0.002732\n",
      "epoch : 9/30, loss = 0.002729\n",
      "epoch : 12/30, loss = 0.002729\n",
      "epoch : 15/30, loss = 0.002728\n",
      "epoch : 18/30, loss = 0.002732\n",
      "epoch : 21/30, loss = 0.002730\n",
      "epoch : 24/30, loss = 0.002741\n"
     ]
    },
    {
     "name": "stderr",
     "output_type": "stream",
     "text": [
      "[I 2020-07-17 04:41:44,483] Setting status of trial#63 as TrialState.PRUNED. \n"
     ]
    },
    {
     "name": "stdout",
     "output_type": "stream",
     "text": [
      "epoch : 0/30, loss = 0.006638\n"
     ]
    },
    {
     "name": "stderr",
     "output_type": "stream",
     "text": [
      "[I 2020-07-17 04:42:03,448] Setting status of trial#64 as TrialState.PRUNED. \n"
     ]
    },
    {
     "name": "stdout",
     "output_type": "stream",
     "text": [
      "epoch : 0/30, loss = 0.002272\n",
      "epoch : 3/30, loss = 0.002243\n",
      "epoch : 6/30, loss = 0.002170\n",
      "epoch : 9/30, loss = 0.002266\n",
      "epoch : 12/30, loss = 0.002322\n",
      "epoch : 15/30, loss = 0.002466\n",
      "epoch : 18/30, loss = 0.002398\n",
      "epoch : 21/30, loss = 0.002434\n",
      "epoch : 24/30, loss = 0.002423\n",
      "epoch : 27/30, loss = 0.002428\n"
     ]
    },
    {
     "name": "stderr",
     "output_type": "stream",
     "text": [
      "[I 2020-07-17 04:45:17,892] Finished trial#65 with value: 0.0024223413544116924 with parameters: {'Learning Rate': 0.03947259428872211, 'Dropout Rate': 0.30000000000000004, 'Latent Size': 64, 'Optimizer': 'Adam', 'Frequency Bins': 60, 'Time Steps': 20, 'Hidden Layers': 1, 'L2 Regularization': 2.6542067018207216e-06}. Best is trial#53 with value: 0.001346197676887551.\n"
     ]
    },
    {
     "name": "stdout",
     "output_type": "stream",
     "text": [
      "epoch : 0/30, loss = 0.002248\n",
      "epoch : 3/30, loss = 0.001957\n",
      "epoch : 6/30, loss = 0.001955\n"
     ]
    },
    {
     "name": "stderr",
     "output_type": "stream",
     "text": [
      "[I 2020-07-17 04:46:22,558] Setting status of trial#66 as TrialState.PRUNED. \n"
     ]
    },
    {
     "name": "stdout",
     "output_type": "stream",
     "text": [
      "epoch : 0/30, loss = 0.002421\n",
      "epoch : 3/30, loss = 0.002243\n",
      "epoch : 6/30, loss = 0.002205\n"
     ]
    },
    {
     "name": "stderr",
     "output_type": "stream",
     "text": [
      "[I 2020-07-17 04:47:26,992] Setting status of trial#67 as TrialState.PRUNED. \n"
     ]
    },
    {
     "name": "stdout",
     "output_type": "stream",
     "text": [
      "epoch : 0/30, loss = 0.003447\n"
     ]
    },
    {
     "name": "stderr",
     "output_type": "stream",
     "text": [
      "[I 2020-07-17 04:47:53,034] Setting status of trial#68 as TrialState.PRUNED. \n"
     ]
    },
    {
     "name": "stdout",
     "output_type": "stream",
     "text": [
      "epoch : 0/30, loss = 0.002079\n",
      "epoch : 3/30, loss = 0.001717\n",
      "epoch : 6/30, loss = 0.001649\n",
      "epoch : 9/30, loss = 0.001588\n",
      "epoch : 12/30, loss = 0.001555\n",
      "epoch : 15/30, loss = 0.001556\n",
      "epoch : 18/30, loss = 0.001543\n",
      "epoch : 21/30, loss = 0.001510\n",
      "epoch : 24/30, loss = 0.001506\n",
      "epoch : 27/30, loss = 0.001546\n"
     ]
    },
    {
     "name": "stderr",
     "output_type": "stream",
     "text": [
      "[I 2020-07-17 04:51:07,756] Finished trial#69 with value: 0.0015140646159513818 with parameters: {'Learning Rate': 0.008536240215701313, 'Dropout Rate': 0.30000000000000004, 'Latent Size': 16, 'Optimizer': 'Adam', 'Frequency Bins': 60, 'Time Steps': 20, 'Hidden Layers': 2, 'L2 Regularization': 5.00562586859304e-06}. Best is trial#53 with value: 0.001346197676887551.\n"
     ]
    },
    {
     "name": "stdout",
     "output_type": "stream",
     "text": [
      "epoch : 0/30, loss = 0.010625\n",
      "epoch : 3/30, loss = 0.009540\n",
      "epoch : 6/30, loss = 0.009736\n",
      "epoch : 9/30, loss = 0.009621\n",
      "epoch : 12/30, loss = 0.009446\n",
      "epoch : 15/30, loss = 0.009520\n",
      "epoch : 18/30, loss = 0.009508\n",
      "epoch : 21/30, loss = 0.009405\n",
      "epoch : 24/30, loss = 0.009476\n"
     ]
    },
    {
     "name": "stderr",
     "output_type": "stream",
     "text": [
      "[I 2020-07-17 04:52:36,196] Setting status of trial#70 as TrialState.PRUNED. \n"
     ]
    },
    {
     "name": "stdout",
     "output_type": "stream",
     "text": [
      "epoch : 0/30, loss = 0.023478\n",
      "epoch : 3/30, loss = 0.016438\n",
      "epoch : 6/30, loss = 0.016436\n"
     ]
    },
    {
     "name": "stderr",
     "output_type": "stream",
     "text": [
      "[I 2020-07-17 04:53:03,773] Setting status of trial#71 as TrialState.PRUNED. \n"
     ]
    },
    {
     "name": "stdout",
     "output_type": "stream",
     "text": [
      "epoch : 0/30, loss = 0.002198\n",
      "epoch : 3/30, loss = 0.001927\n",
      "epoch : 6/30, loss = 0.001906\n",
      "epoch : 9/30, loss = 0.001944\n",
      "epoch : 12/30, loss = 0.002082\n",
      "epoch : 15/30, loss = 0.001982\n",
      "epoch : 18/30, loss = 0.001976\n",
      "epoch : 21/30, loss = 0.002051\n",
      "epoch : 24/30, loss = 0.001981\n",
      "epoch : 27/30, loss = 0.001951\n"
     ]
    },
    {
     "name": "stderr",
     "output_type": "stream",
     "text": [
      "[I 2020-07-17 04:56:17,859] Finished trial#72 with value: 0.0019250075876684361 with parameters: {'Learning Rate': 0.03444615758867264, 'Dropout Rate': 0.1, 'Latent Size': 64, 'Optimizer': 'Adam', 'Frequency Bins': 60, 'Time Steps': 20, 'Hidden Layers': 1, 'L2 Regularization': 1.066727893979517e-06}. Best is trial#53 with value: 0.001346197676887551.\n"
     ]
    },
    {
     "name": "stdout",
     "output_type": "stream",
     "text": [
      "epoch : 0/30, loss = 0.002043\n",
      "epoch : 3/30, loss = 0.001549\n",
      "epoch : 6/30, loss = 0.001470\n",
      "epoch : 9/30, loss = 0.001427\n",
      "epoch : 12/30, loss = 0.001382\n",
      "epoch : 15/30, loss = 0.001375\n",
      "epoch : 18/30, loss = 0.001344\n",
      "epoch : 21/30, loss = 0.001341\n",
      "epoch : 24/30, loss = 0.001319\n",
      "epoch : 27/30, loss = 0.001306\n"
     ]
    },
    {
     "name": "stderr",
     "output_type": "stream",
     "text": [
      "[I 2020-07-17 04:59:32,665] Finished trial#73 with value: 0.001305375759621357 with parameters: {'Learning Rate': 0.005977541059186515, 'Dropout Rate': 0.2, 'Latent Size': 16, 'Optimizer': 'Adam', 'Frequency Bins': 60, 'Time Steps': 20, 'Hidden Layers': 2, 'L2 Regularization': 4.755022087073326e-06}. Best is trial#73 with value: 0.001305375759621357.\n"
     ]
    },
    {
     "name": "stdout",
     "output_type": "stream",
     "text": [
      "epoch : 0/30, loss = 0.007171\n"
     ]
    },
    {
     "name": "stderr",
     "output_type": "stream",
     "text": [
      "[I 2020-07-17 04:59:47,766] Setting status of trial#74 as TrialState.PRUNED. \n"
     ]
    },
    {
     "name": "stdout",
     "output_type": "stream",
     "text": [
      "epoch : 0/30, loss = 0.002537\n"
     ]
    },
    {
     "name": "stderr",
     "output_type": "stream",
     "text": [
      "[I 2020-07-17 05:00:13,754] Setting status of trial#75 as TrialState.PRUNED. \n"
     ]
    },
    {
     "name": "stdout",
     "output_type": "stream",
     "text": [
      "epoch : 0/30, loss = 0.017315\n",
      "epoch : 3/30, loss = 0.013523\n",
      "epoch : 6/30, loss = 0.013520\n",
      "epoch : 9/30, loss = 0.013546\n",
      "epoch : 12/30, loss = 0.013556\n",
      "epoch : 15/30, loss = 0.013523\n",
      "epoch : 18/30, loss = 0.013554\n",
      "epoch : 21/30, loss = 0.012313\n",
      "epoch : 24/30, loss = 0.012273\n"
     ]
    },
    {
     "name": "stderr",
     "output_type": "stream",
     "text": [
      "[I 2020-07-17 05:01:42,920] Setting status of trial#76 as TrialState.PRUNED. \n"
     ]
    },
    {
     "name": "stdout",
     "output_type": "stream",
     "text": [
      "epoch : 0/30, loss = 0.005527\n"
     ]
    },
    {
     "name": "stderr",
     "output_type": "stream",
     "text": [
      "[I 2020-07-17 05:02:02,012] Setting status of trial#77 as TrialState.PRUNED. \n"
     ]
    },
    {
     "name": "stdout",
     "output_type": "stream",
     "text": [
      "epoch : 0/30, loss = 0.002720\n"
     ]
    },
    {
     "name": "stderr",
     "output_type": "stream",
     "text": [
      "[I 2020-07-17 05:02:27,884] Setting status of trial#78 as TrialState.PRUNED. \n"
     ]
    },
    {
     "name": "stdout",
     "output_type": "stream",
     "text": [
      "epoch : 0/30, loss = 0.004630\n",
      "epoch : 3/30, loss = 0.004580\n",
      "epoch : 6/30, loss = 0.004577\n",
      "epoch : 9/30, loss = 0.004572\n",
      "epoch : 12/30, loss = 0.004571\n",
      "epoch : 15/30, loss = 0.004586\n",
      "epoch : 18/30, loss = 0.004567\n",
      "epoch : 21/30, loss = 0.004585\n",
      "epoch : 24/30, loss = 0.004575\n",
      "epoch : 27/30, loss = 0.004580\n"
     ]
    },
    {
     "name": "stderr",
     "output_type": "stream",
     "text": [
      "[I 2020-07-17 05:04:57,826] Finished trial#79 with value: 0.004575687082029367 with parameters: {'Learning Rate': 0.03600899179044973, 'Dropout Rate': 0.30000000000000004, 'Latent Size': 16, 'Optimizer': 'Adam', 'Frequency Bins': 60, 'Time Steps': 10, 'Hidden Layers': 2, 'L2 Regularization': 0.06936876844792013}. Best is trial#73 with value: 0.001305375759621357.\n"
     ]
    },
    {
     "name": "stdout",
     "output_type": "stream",
     "text": [
      "epoch : 0/30, loss = 0.003227\n"
     ]
    },
    {
     "name": "stderr",
     "output_type": "stream",
     "text": [
      "[I 2020-07-17 05:05:23,709] Setting status of trial#80 as TrialState.PRUNED. \n"
     ]
    },
    {
     "name": "stdout",
     "output_type": "stream",
     "text": [
      "epoch : 0/30, loss = 0.002161\n",
      "epoch : 3/30, loss = 0.001696\n",
      "epoch : 6/30, loss = 0.001631\n",
      "epoch : 9/30, loss = 0.001607\n",
      "epoch : 12/30, loss = 0.001588\n",
      "epoch : 15/30, loss = 0.001546\n",
      "epoch : 18/30, loss = 0.001540\n",
      "epoch : 21/30, loss = 0.001563\n",
      "epoch : 24/30, loss = 0.001545\n",
      "epoch : 27/30, loss = 0.001506\n"
     ]
    },
    {
     "name": "stderr",
     "output_type": "stream",
     "text": [
      "[I 2020-07-17 05:08:37,278] Finished trial#81 with value: 0.0015433052490742606 with parameters: {'Learning Rate': 0.008610196504012044, 'Dropout Rate': 0.30000000000000004, 'Latent Size': 16, 'Optimizer': 'Adam', 'Frequency Bins': 60, 'Time Steps': 20, 'Hidden Layers': 2, 'L2 Regularization': 4.9769638290428556e-06}. Best is trial#73 with value: 0.001305375759621357.\n"
     ]
    },
    {
     "name": "stdout",
     "output_type": "stream",
     "text": [
      "epoch : 0/30, loss = 0.003460\n"
     ]
    },
    {
     "name": "stderr",
     "output_type": "stream",
     "text": [
      "[I 2020-07-17 05:09:01,703] Setting status of trial#82 as TrialState.PRUNED. \n"
     ]
    },
    {
     "name": "stdout",
     "output_type": "stream",
     "text": [
      "epoch : 0/30, loss = 0.002085\n",
      "epoch : 3/30, loss = 0.001416\n",
      "epoch : 6/30, loss = 0.001320\n",
      "epoch : 9/30, loss = 0.001282\n",
      "epoch : 12/30, loss = 0.001266\n",
      "epoch : 15/30, loss = 0.001238\n",
      "epoch : 18/30, loss = 0.001212\n",
      "epoch : 21/30, loss = 0.001217\n",
      "epoch : 24/30, loss = 0.001193\n",
      "epoch : 27/30, loss = 0.001215\n"
     ]
    },
    {
     "name": "stderr",
     "output_type": "stream",
     "text": [
      "[I 2020-07-17 05:12:16,554] Finished trial#83 with value: 0.0011816339612625653 with parameters: {'Learning Rate': 0.004076391110037874, 'Dropout Rate': 0.30000000000000004, 'Latent Size': 16, 'Optimizer': 'Adam', 'Frequency Bins': 60, 'Time Steps': 20, 'Hidden Layers': 2, 'L2 Regularization': 1.581062180083535e-06}. Best is trial#83 with value: 0.0011816339612625653.\n"
     ]
    },
    {
     "name": "stdout",
     "output_type": "stream",
     "text": [
      "epoch : 0/30, loss = 0.016140\n",
      "epoch : 3/30, loss = 0.015782\n",
      "epoch : 6/30, loss = 0.015834\n",
      "epoch : 9/30, loss = 0.015847\n",
      "epoch : 12/30, loss = 0.015841\n",
      "epoch : 15/30, loss = 0.015811\n",
      "epoch : 18/30, loss = 0.015844\n",
      "epoch : 21/30, loss = 0.015796\n",
      "epoch : 24/30, loss = 0.015786\n"
     ]
    },
    {
     "name": "stderr",
     "output_type": "stream",
     "text": [
      "[I 2020-07-17 05:13:34,771] Setting status of trial#84 as TrialState.PRUNED. \n"
     ]
    },
    {
     "name": "stdout",
     "output_type": "stream",
     "text": [
      "epoch : 0/30, loss = 0.002116\n",
      "epoch : 3/30, loss = 0.001438\n",
      "epoch : 6/30, loss = 0.001272\n",
      "epoch : 9/30, loss = 0.001248\n",
      "epoch : 12/30, loss = 0.001220\n",
      "epoch : 15/30, loss = 0.001186\n",
      "epoch : 18/30, loss = 0.001159\n",
      "epoch : 21/30, loss = 0.001138\n",
      "epoch : 24/30, loss = 0.001096\n",
      "epoch : 27/30, loss = 0.001087\n"
     ]
    },
    {
     "name": "stderr",
     "output_type": "stream",
     "text": [
      "[I 2020-07-17 05:16:48,715] Finished trial#85 with value: 0.001082820803609513 with parameters: {'Learning Rate': 0.0036196335166678462, 'Dropout Rate': 0.2, 'Latent Size': 16, 'Optimizer': 'Adam', 'Frequency Bins': 60, 'Time Steps': 20, 'Hidden Layers': 2, 'L2 Regularization': 1.6963065506932033e-06}. Best is trial#85 with value: 0.001082820803609513.\n"
     ]
    },
    {
     "name": "stdout",
     "output_type": "stream",
     "text": [
      "epoch : 0/30, loss = 0.020413\n",
      "epoch : 3/30, loss = 0.018060\n",
      "epoch : 6/30, loss = 0.018016\n"
     ]
    },
    {
     "name": "stderr",
     "output_type": "stream",
     "text": [
      "[I 2020-07-17 05:17:16,296] Setting status of trial#86 as TrialState.PRUNED. \n"
     ]
    },
    {
     "name": "stdout",
     "output_type": "stream",
     "text": [
      "epoch : 0/30, loss = 0.002068\n",
      "epoch : 3/30, loss = 0.001391\n",
      "epoch : 6/30, loss = 0.001269\n",
      "epoch : 9/30, loss = 0.001238\n",
      "epoch : 12/30, loss = 0.001219\n",
      "epoch : 15/30, loss = 0.001174\n",
      "epoch : 18/30, loss = 0.001138\n",
      "epoch : 21/30, loss = 0.001145\n",
      "epoch : 24/30, loss = 0.001133\n",
      "epoch : 27/30, loss = 0.001077\n"
     ]
    },
    {
     "name": "stderr",
     "output_type": "stream",
     "text": [
      "[I 2020-07-17 05:20:31,334] Finished trial#87 with value: 0.0011055110760463246 with parameters: {'Learning Rate': 0.003955317288391851, 'Dropout Rate': 0.2, 'Latent Size': 16, 'Optimizer': 'Adam', 'Frequency Bins': 60, 'Time Steps': 20, 'Hidden Layers': 2, 'L2 Regularization': 1.7085609160725146e-06}. Best is trial#85 with value: 0.001082820803609513.\n"
     ]
    },
    {
     "name": "stdout",
     "output_type": "stream",
     "text": [
      "epoch : 0/30, loss = 0.008583\n",
      "epoch : 3/30, loss = 0.007269\n",
      "epoch : 6/30, loss = 0.007127\n",
      "epoch : 9/30, loss = 0.007081\n",
      "epoch : 12/30, loss = 0.007068\n",
      "epoch : 15/30, loss = 0.007050\n",
      "epoch : 18/30, loss = 0.007052\n",
      "epoch : 21/30, loss = 0.007053\n",
      "epoch : 24/30, loss = 0.007054\n"
     ]
    },
    {
     "name": "stderr",
     "output_type": "stream",
     "text": [
      "[I 2020-07-17 05:22:26,975] Setting status of trial#88 as TrialState.PRUNED. \n"
     ]
    },
    {
     "name": "stdout",
     "output_type": "stream",
     "text": [
      "epoch : 0/30, loss = 0.001707\n",
      "epoch : 3/30, loss = 0.001159\n",
      "epoch : 6/30, loss = 0.001070\n",
      "epoch : 9/30, loss = 0.000988\n",
      "epoch : 12/30, loss = 0.000921\n",
      "epoch : 15/30, loss = 0.000920\n",
      "epoch : 18/30, loss = 0.000858\n",
      "epoch : 21/30, loss = 0.000857\n",
      "epoch : 24/30, loss = 0.000841\n",
      "epoch : 27/30, loss = 0.000826\n"
     ]
    },
    {
     "name": "stderr",
     "output_type": "stream",
     "text": [
      "[I 2020-07-17 05:25:40,958] Finished trial#89 with value: 0.0007944742929926214 with parameters: {'Learning Rate': 0.011200540402627565, 'Dropout Rate': 0.0, 'Latent Size': 64, 'Optimizer': 'Adam', 'Frequency Bins': 60, 'Time Steps': 20, 'Hidden Layers': 1, 'L2 Regularization': 7.715794021407518e-06}. Best is trial#89 with value: 0.0007944742929926214.\n"
     ]
    },
    {
     "name": "stdout",
     "output_type": "stream",
     "text": [
      "epoch : 0/30, loss = 0.003827\n",
      "epoch : 3/30, loss = 0.002136\n",
      "epoch : 6/30, loss = 0.001833\n",
      "epoch : 9/30, loss = 0.001783\n",
      "epoch : 12/30, loss = 0.001335\n",
      "epoch : 15/30, loss = 0.001267\n",
      "epoch : 18/30, loss = 0.001200\n",
      "epoch : 21/30, loss = 0.001171\n",
      "epoch : 24/30, loss = 0.001121\n",
      "epoch : 27/30, loss = 0.001128\n"
     ]
    },
    {
     "name": "stderr",
     "output_type": "stream",
     "text": [
      "[I 2020-07-17 05:28:03,117] Finished trial#90 with value: 0.0011483276156683715 with parameters: {'Learning Rate': 0.009487138788131866, 'Dropout Rate': 0.0, 'Latent Size': 64, 'Optimizer': 'Adam', 'Frequency Bins': 60, 'Time Steps': 5, 'Hidden Layers': 1, 'L2 Regularization': 9.49255167126368e-06}. Best is trial#89 with value: 0.0007944742929926214.\n"
     ]
    },
    {
     "name": "stdout",
     "output_type": "stream",
     "text": [
      "epoch : 0/30, loss = 0.002161\n",
      "epoch : 3/30, loss = 0.001385\n",
      "epoch : 6/30, loss = 0.001215\n",
      "epoch : 9/30, loss = 0.001138\n",
      "epoch : 12/30, loss = 0.001077\n",
      "epoch : 15/30, loss = 0.001044\n",
      "epoch : 18/30, loss = 0.001042\n",
      "epoch : 21/30, loss = 0.001017\n",
      "epoch : 24/30, loss = 0.000986\n",
      "epoch : 27/30, loss = 0.000986\n"
     ]
    },
    {
     "name": "stderr",
     "output_type": "stream",
     "text": [
      "[I 2020-07-17 05:31:16,709] Finished trial#91 with value: 0.0009883766392252999 with parameters: {'Learning Rate': 0.0021678561452827786, 'Dropout Rate': 0.2, 'Latent Size': 16, 'Optimizer': 'Adam', 'Frequency Bins': 60, 'Time Steps': 20, 'Hidden Layers': 2, 'L2 Regularization': 1.8507516040407403e-06}. Best is trial#89 with value: 0.0007944742929926214.\n"
     ]
    },
    {
     "name": "stdout",
     "output_type": "stream",
     "text": [
      "epoch : 0/30, loss = 0.002060\n",
      "epoch : 3/30, loss = 0.001323\n",
      "epoch : 6/30, loss = 0.001247\n",
      "epoch : 9/30, loss = 0.001227\n",
      "epoch : 12/30, loss = 0.001191\n",
      "epoch : 15/30, loss = 0.001189\n",
      "epoch : 18/30, loss = 0.001167\n",
      "epoch : 21/30, loss = 0.001125\n",
      "epoch : 24/30, loss = 0.001120\n",
      "epoch : 27/30, loss = 0.001108\n"
     ]
    },
    {
     "name": "stderr",
     "output_type": "stream",
     "text": [
      "[I 2020-07-17 05:34:30,651] Finished trial#92 with value: 0.0010909498240425472 with parameters: {'Learning Rate': 0.0038951003354546687, 'Dropout Rate': 0.2, 'Latent Size': 16, 'Optimizer': 'Adam', 'Frequency Bins': 60, 'Time Steps': 20, 'Hidden Layers': 2, 'L2 Regularization': 1.5127668808141832e-06}. Best is trial#89 with value: 0.0007944742929926214.\n"
     ]
    },
    {
     "name": "stdout",
     "output_type": "stream",
     "text": [
      "epoch : 0/30, loss = 0.004020\n"
     ]
    },
    {
     "name": "stderr",
     "output_type": "stream",
     "text": [
      "[I 2020-07-17 05:34:47,098] Setting status of trial#93 as TrialState.PRUNED. \n"
     ]
    },
    {
     "name": "stdout",
     "output_type": "stream",
     "text": [
      "epoch : 0/30, loss = 0.003607\n",
      "epoch : 3/30, loss = 0.001775\n",
      "epoch : 6/30, loss = 0.001512\n",
      "epoch : 9/30, loss = 0.001391\n",
      "epoch : 12/30, loss = 0.001306\n",
      "epoch : 15/30, loss = 0.001263\n",
      "epoch : 18/30, loss = 0.001198\n",
      "epoch : 21/30, loss = 0.001141\n",
      "epoch : 24/30, loss = 0.001152\n",
      "epoch : 27/30, loss = 0.001149\n"
     ]
    },
    {
     "name": "stderr",
     "output_type": "stream",
     "text": [
      "[I 2020-07-17 05:37:09,245] Finished trial#94 with value: 0.0011236838398115596 with parameters: {'Learning Rate': 0.007345110333855964, 'Dropout Rate': 0.0, 'Latent Size': 64, 'Optimizer': 'Adam', 'Frequency Bins': 60, 'Time Steps': 5, 'Hidden Layers': 1, 'L2 Regularization': 1.2003621688089089e-05}. Best is trial#89 with value: 0.0007944742929926214.\n"
     ]
    },
    {
     "name": "stdout",
     "output_type": "stream",
     "text": [
      "epoch : 0/30, loss = 0.002169\n"
     ]
    },
    {
     "name": "stderr",
     "output_type": "stream",
     "text": [
      "[I 2020-07-17 05:37:35,031] Setting status of trial#95 as TrialState.PRUNED. \n"
     ]
    },
    {
     "name": "stdout",
     "output_type": "stream",
     "text": [
      "epoch : 0/30, loss = 0.002110\n"
     ]
    },
    {
     "name": "stderr",
     "output_type": "stream",
     "text": [
      "[I 2020-07-17 05:38:00,843] Setting status of trial#96 as TrialState.PRUNED. \n"
     ]
    },
    {
     "name": "stdout",
     "output_type": "stream",
     "text": [
      "epoch : 0/30, loss = 0.002232\n"
     ]
    },
    {
     "name": "stderr",
     "output_type": "stream",
     "text": [
      "[I 2020-07-17 05:38:26,786] Setting status of trial#97 as TrialState.PRUNED. \n"
     ]
    },
    {
     "name": "stdout",
     "output_type": "stream",
     "text": [
      "epoch : 0/30, loss = 0.007000\n",
      "epoch : 3/30, loss = 0.006940\n",
      "epoch : 6/30, loss = 0.164735\n",
      "epoch : 9/30, loss = 0.008415\n",
      "epoch : 12/30, loss = 0.006301\n",
      "epoch : 15/30, loss = 0.005801\n",
      "epoch : 18/30, loss = 0.005089\n",
      "epoch : 21/30, loss = 0.004841\n",
      "epoch : 24/30, loss = 0.004828\n"
     ]
    },
    {
     "name": "stderr",
     "output_type": "stream",
     "text": [
      "[I 2020-07-17 05:40:38,657] Setting status of trial#98 as TrialState.PRUNED. \n"
     ]
    },
    {
     "name": "stdout",
     "output_type": "stream",
     "text": [
      "epoch : 0/30, loss = 0.002023\n",
      "epoch : 3/30, loss = 0.001382\n",
      "epoch : 6/30, loss = 0.001283\n",
      "epoch : 9/30, loss = 0.001238\n",
      "epoch : 12/30, loss = 0.001203\n",
      "epoch : 15/30, loss = 0.001177\n",
      "epoch : 18/30, loss = 0.001172\n",
      "epoch : 21/30, loss = 0.001157\n",
      "epoch : 24/30, loss = 0.001119\n",
      "epoch : 27/30, loss = 0.001098\n"
     ]
    },
    {
     "name": "stderr",
     "output_type": "stream",
     "text": [
      "[I 2020-07-17 05:43:53,920] Finished trial#99 with value: 0.0010821605030134434 with parameters: {'Learning Rate': 0.0038827391251269766, 'Dropout Rate': 0.2, 'Latent Size': 16, 'Optimizer': 'Adam', 'Frequency Bins': 60, 'Time Steps': 20, 'Hidden Layers': 2, 'L2 Regularization': 2.367152994866318e-06}. Best is trial#89 with value: 0.0007944742929926214.\n"
     ]
    },
    {
     "name": "stdout",
     "output_type": "stream",
     "text": [
      "epoch : 0/30, loss = 0.007008\n",
      "epoch : 3/30, loss = 0.006954\n",
      "epoch : 6/30, loss = 0.006972\n",
      "epoch : 9/30, loss = 0.006954\n",
      "epoch : 12/30, loss = 0.006944\n",
      "epoch : 15/30, loss = 0.006957\n",
      "epoch : 18/30, loss = 0.006966\n",
      "epoch : 21/30, loss = 0.006975\n",
      "epoch : 24/30, loss = 0.006964\n"
     ]
    },
    {
     "name": "stderr",
     "output_type": "stream",
     "text": [
      "[I 2020-07-17 05:45:52,334] Setting status of trial#100 as TrialState.PRUNED. \n"
     ]
    },
    {
     "name": "stdout",
     "output_type": "stream",
     "text": [
      "epoch : 0/30, loss = 0.002092\n",
      "epoch : 3/30, loss = 0.001361\n",
      "epoch : 6/30, loss = 0.001204\n",
      "epoch : 9/30, loss = 0.001160\n",
      "epoch : 12/30, loss = 0.001106\n",
      "epoch : 15/30, loss = 0.001074\n",
      "epoch : 18/30, loss = 0.001078\n",
      "epoch : 21/30, loss = 0.001061\n",
      "epoch : 24/30, loss = 0.001079\n",
      "epoch : 27/30, loss = 0.001046\n"
     ]
    },
    {
     "name": "stderr",
     "output_type": "stream",
     "text": [
      "[I 2020-07-17 05:49:06,700] Finished trial#101 with value: 0.001022597321976538 with parameters: {'Learning Rate': 0.003245273252393102, 'Dropout Rate': 0.2, 'Latent Size': 16, 'Optimizer': 'Adam', 'Frequency Bins': 60, 'Time Steps': 20, 'Hidden Layers': 2, 'L2 Regularization': 1.3821777940836462e-06}. Best is trial#89 with value: 0.0007944742929926214.\n"
     ]
    },
    {
     "name": "stdout",
     "output_type": "stream",
     "text": [
      "epoch : 0/30, loss = 0.003360\n",
      "epoch : 3/30, loss = 0.001508\n",
      "epoch : 6/30, loss = 0.001312\n",
      "epoch : 9/30, loss = 0.001130\n",
      "epoch : 12/30, loss = 0.001057\n",
      "epoch : 15/30, loss = 0.001023\n",
      "epoch : 18/30, loss = 0.000983\n",
      "epoch : 21/30, loss = 0.000971\n",
      "epoch : 24/30, loss = 0.000961\n",
      "epoch : 27/30, loss = 0.000937\n"
     ]
    },
    {
     "name": "stderr",
     "output_type": "stream",
     "text": [
      "[I 2020-07-17 05:51:29,006] Finished trial#102 with value: 0.0009568315738046058 with parameters: {'Learning Rate': 0.003597124150272213, 'Dropout Rate': 0.0, 'Latent Size': 64, 'Optimizer': 'Adam', 'Frequency Bins': 60, 'Time Steps': 5, 'Hidden Layers': 1, 'L2 Regularization': 1.039204750192866e-05}. Best is trial#89 with value: 0.0007944742929926214.\n"
     ]
    },
    {
     "name": "stdout",
     "output_type": "stream",
     "text": [
      "epoch : 0/30, loss = 0.002083\n",
      "epoch : 3/30, loss = 0.001333\n",
      "epoch : 6/30, loss = 0.001229\n",
      "epoch : 9/30, loss = 0.001140\n",
      "epoch : 12/30, loss = 0.001073\n",
      "epoch : 15/30, loss = 0.001062\n",
      "epoch : 18/30, loss = 0.001101\n",
      "epoch : 21/30, loss = 0.001042\n",
      "epoch : 24/30, loss = 0.001028\n",
      "epoch : 27/30, loss = 0.000999\n"
     ]
    },
    {
     "name": "stderr",
     "output_type": "stream",
     "text": [
      "[I 2020-07-17 05:54:44,303] Finished trial#103 with value: 0.0010150056454541433 with parameters: {'Learning Rate': 0.0026410970382696576, 'Dropout Rate': 0.2, 'Latent Size': 16, 'Optimizer': 'Adam', 'Frequency Bins': 60, 'Time Steps': 20, 'Hidden Layers': 2, 'L2 Regularization': 2.1185735149982057e-06}. Best is trial#89 with value: 0.0007944742929926214.\n"
     ]
    },
    {
     "name": "stdout",
     "output_type": "stream",
     "text": [
      "epoch : 0/30, loss = 0.002670\n"
     ]
    },
    {
     "name": "stderr",
     "output_type": "stream",
     "text": [
      "[I 2020-07-17 05:55:10,535] Setting status of trial#104 as TrialState.PRUNED. \n"
     ]
    },
    {
     "name": "stdout",
     "output_type": "stream",
     "text": [
      "epoch : 0/30, loss = 0.003584\n"
     ]
    },
    {
     "name": "stderr",
     "output_type": "stream",
     "text": [
      "[I 2020-07-17 05:55:36,618] Setting status of trial#105 as TrialState.PRUNED. \n"
     ]
    },
    {
     "name": "stdout",
     "output_type": "stream",
     "text": [
      "epoch : 0/30, loss = 0.002095\n",
      "epoch : 3/30, loss = 0.001590\n",
      "epoch : 6/30, loss = 0.001578\n",
      "epoch : 9/30, loss = 0.001516\n",
      "epoch : 12/30, loss = 0.001484\n",
      "epoch : 15/30, loss = 0.001491\n",
      "epoch : 18/30, loss = 0.001441\n",
      "epoch : 21/30, loss = 0.001448\n",
      "epoch : 24/30, loss = 0.001502\n"
     ]
    },
    {
     "name": "stderr",
     "output_type": "stream",
     "text": [
      "[I 2020-07-17 05:58:38,191] Setting status of trial#106 as TrialState.PRUNED. \n"
     ]
    },
    {
     "name": "stdout",
     "output_type": "stream",
     "text": [
      "epoch : 0/30, loss = 0.004117\n",
      "epoch : 3/30, loss = 0.002084\n",
      "epoch : 6/30, loss = 0.001719\n",
      "epoch : 9/30, loss = 0.001689\n",
      "epoch : 12/30, loss = 0.001523\n",
      "epoch : 15/30, loss = 0.001446\n",
      "epoch : 18/30, loss = 0.001394\n",
      "epoch : 21/30, loss = 0.001364\n",
      "epoch : 24/30, loss = 0.001353\n"
     ]
    },
    {
     "name": "stderr",
     "output_type": "stream",
     "text": [
      "[I 2020-07-17 06:00:50,522] Setting status of trial#107 as TrialState.PRUNED. \n"
     ]
    },
    {
     "name": "stdout",
     "output_type": "stream",
     "text": [
      "epoch : 0/30, loss = 0.002152\n",
      "epoch : 3/30, loss = 0.001119\n",
      "epoch : 6/30, loss = 0.001079\n",
      "epoch : 9/30, loss = 0.000989\n",
      "epoch : 12/30, loss = 0.000952\n",
      "epoch : 15/30, loss = 0.000915\n",
      "epoch : 18/30, loss = 0.000911\n",
      "epoch : 21/30, loss = 0.000910\n",
      "epoch : 24/30, loss = 0.000894\n",
      "epoch : 27/30, loss = 0.000863\n"
     ]
    },
    {
     "name": "stderr",
     "output_type": "stream",
     "text": [
      "[I 2020-07-17 06:04:04,804] Finished trial#108 with value: 0.0008771659810591901 with parameters: {'Learning Rate': 0.0021317417176085346, 'Dropout Rate': 0.1, 'Latent Size': 16, 'Optimizer': 'Adam', 'Frequency Bins': 60, 'Time Steps': 20, 'Hidden Layers': 2, 'L2 Regularization': 2.1011260779779204e-06}. Best is trial#89 with value: 0.0007944742929926214.\n"
     ]
    },
    {
     "name": "stdout",
     "output_type": "stream",
     "text": [
      "epoch : 0/30, loss = 0.004662\n"
     ]
    },
    {
     "name": "stderr",
     "output_type": "stream",
     "text": [
      "[I 2020-07-17 06:04:23,968] Setting status of trial#109 as TrialState.PRUNED. \n"
     ]
    },
    {
     "name": "stdout",
     "output_type": "stream",
     "text": [
      "epoch : 0/30, loss = 0.011095\n"
     ]
    },
    {
     "name": "stderr",
     "output_type": "stream",
     "text": [
      "[I 2020-07-17 06:04:47,951] Setting status of trial#110 as TrialState.PRUNED. \n"
     ]
    },
    {
     "name": "stdout",
     "output_type": "stream",
     "text": [
      "epoch : 0/30, loss = 0.014318\n",
      "epoch : 3/30, loss = 0.010224\n",
      "epoch : 6/30, loss = 0.009820\n",
      "epoch : 9/30, loss = 0.009675\n",
      "epoch : 12/30, loss = 0.009607\n",
      "epoch : 15/30, loss = 0.009535\n",
      "epoch : 18/30, loss = 0.009424\n",
      "epoch : 21/30, loss = 0.009366\n",
      "epoch : 24/30, loss = 0.009201\n"
     ]
    },
    {
     "name": "stderr",
     "output_type": "stream",
     "text": [
      "[I 2020-07-17 06:06:34,103] Setting status of trial#111 as TrialState.PRUNED. \n"
     ]
    },
    {
     "name": "stdout",
     "output_type": "stream",
     "text": [
      "epoch : 0/30, loss = 0.002569\n"
     ]
    },
    {
     "name": "stderr",
     "output_type": "stream",
     "text": [
      "[I 2020-07-17 06:06:59,970] Setting status of trial#112 as TrialState.PRUNED. \n"
     ]
    },
    {
     "name": "stdout",
     "output_type": "stream",
     "text": [
      "epoch : 0/30, loss = 0.004537\n",
      "epoch : 3/30, loss = 0.003854\n",
      "epoch : 6/30, loss = 0.003504\n",
      "epoch : 9/30, loss = 0.003285\n",
      "epoch : 12/30, loss = 0.003132\n",
      "epoch : 15/30, loss = 0.003019\n",
      "epoch : 18/30, loss = 0.002932\n",
      "epoch : 21/30, loss = 0.002883\n",
      "epoch : 24/30, loss = 0.002833\n",
      "epoch : 27/30, loss = 0.002809\n"
     ]
    },
    {
     "name": "stderr",
     "output_type": "stream",
     "text": [
      "[I 2020-07-17 06:10:13,575] Finished trial#113 with value: 0.0027745502311309787 with parameters: {'Learning Rate': 0.019737631160198832, 'Dropout Rate': 0.30000000000000004, 'Latent Size': 64, 'Optimizer': 'SGD', 'Frequency Bins': 60, 'Time Steps': 20, 'Hidden Layers': 1, 'L2 Regularization': 1.4004788144511276e-06}. Best is trial#89 with value: 0.0007944742929926214.\n"
     ]
    },
    {
     "name": "stdout",
     "output_type": "stream",
     "text": [
      "epoch : 0/30, loss = 0.002072\n",
      "epoch : 3/30, loss = 0.001428\n",
      "epoch : 6/30, loss = 0.001250\n",
      "epoch : 9/30, loss = 0.001173\n",
      "epoch : 12/30, loss = 0.001137\n",
      "epoch : 15/30, loss = 0.001120\n",
      "epoch : 18/30, loss = 0.001073\n",
      "epoch : 21/30, loss = 0.001067\n",
      "epoch : 24/30, loss = 0.001063\n",
      "epoch : 27/30, loss = 0.001031\n"
     ]
    },
    {
     "name": "stderr",
     "output_type": "stream",
     "text": [
      "[I 2020-07-17 06:13:28,086] Finished trial#114 with value: 0.0010105921535393692 with parameters: {'Learning Rate': 0.002641853931356127, 'Dropout Rate': 0.2, 'Latent Size': 16, 'Optimizer': 'Adam', 'Frequency Bins': 60, 'Time Steps': 20, 'Hidden Layers': 2, 'L2 Regularization': 1.4005049937828018e-06}. Best is trial#89 with value: 0.0007944742929926214.\n"
     ]
    },
    {
     "name": "stdout",
     "output_type": "stream",
     "text": [
      "epoch : 0/30, loss = 0.002027\n",
      "epoch : 3/30, loss = 0.001601\n",
      "epoch : 6/30, loss = 0.001536\n"
     ]
    },
    {
     "name": "stderr",
     "output_type": "stream",
     "text": [
      "[I 2020-07-17 06:14:32,750] Setting status of trial#115 as TrialState.PRUNED. \n"
     ]
    },
    {
     "name": "stdout",
     "output_type": "stream",
     "text": [
      "epoch : 0/30, loss = 0.002356\n",
      "epoch : 3/30, loss = 0.001126\n",
      "epoch : 6/30, loss = 0.000969\n",
      "epoch : 9/30, loss = 0.000938\n",
      "epoch : 12/30, loss = 0.000914\n",
      "epoch : 15/30, loss = 0.000895\n",
      "epoch : 18/30, loss = 0.000847\n",
      "epoch : 21/30, loss = 0.000793\n",
      "epoch : 24/30, loss = 0.000750\n",
      "epoch : 27/30, loss = 0.000719\n"
     ]
    },
    {
     "name": "stderr",
     "output_type": "stream",
     "text": [
      "[I 2020-07-17 06:17:48,537] Finished trial#116 with value: 0.000720129996397753 with parameters: {'Learning Rate': 0.0015389555175117256, 'Dropout Rate': 0.0, 'Latent Size': 16, 'Optimizer': 'Adam', 'Frequency Bins': 60, 'Time Steps': 20, 'Hidden Layers': 2, 'L2 Regularization': 2.381767338626125e-06}. Best is trial#116 with value: 0.000720129996397753.\n"
     ]
    },
    {
     "name": "stdout",
     "output_type": "stream",
     "text": [
      "epoch : 0/30, loss = 0.003703\n",
      "epoch : 3/30, loss = 0.001637\n",
      "epoch : 6/30, loss = 0.001471\n",
      "epoch : 9/30, loss = 0.001279\n",
      "epoch : 12/30, loss = 0.001233\n",
      "epoch : 15/30, loss = 0.001178\n",
      "epoch : 18/30, loss = 0.001164\n",
      "epoch : 21/30, loss = 0.001160\n",
      "epoch : 24/30, loss = 0.001120\n",
      "epoch : 27/30, loss = 0.001104\n"
     ]
    },
    {
     "name": "stderr",
     "output_type": "stream",
     "text": [
      "[I 2020-07-17 06:20:10,910] Finished trial#117 with value: 0.0011040631220462726 with parameters: {'Learning Rate': 0.0038197296788318943, 'Dropout Rate': 0.0, 'Latent Size': 64, 'Optimizer': 'Adam', 'Frequency Bins': 60, 'Time Steps': 5, 'Hidden Layers': 1, 'L2 Regularization': 1.1048415055986384e-05}. Best is trial#116 with value: 0.000720129996397753.\n"
     ]
    },
    {
     "name": "stdout",
     "output_type": "stream",
     "text": [
      "epoch : 0/30, loss = 0.004182\n",
      "epoch : 3/30, loss = 0.004035\n",
      "epoch : 6/30, loss = 0.003914\n",
      "epoch : 9/30, loss = 0.003812\n",
      "epoch : 12/30, loss = 0.003712\n",
      "epoch : 15/30, loss = 0.003632\n",
      "epoch : 18/30, loss = 0.003554\n",
      "epoch : 21/30, loss = 0.003493\n",
      "epoch : 24/30, loss = 0.003432\n",
      "epoch : 27/30, loss = 0.003376\n"
     ]
    },
    {
     "name": "stderr",
     "output_type": "stream",
     "text": [
      "[I 2020-07-17 06:23:24,450] Finished trial#118 with value: 0.0033449631465158162 with parameters: {'Learning Rate': 0.004162083393282305, 'Dropout Rate': 0.1, 'Latent Size': 64, 'Optimizer': 'SGD', 'Frequency Bins': 60, 'Time Steps': 20, 'Hidden Layers': 1, 'L2 Regularization': 3.338845180806639e-05}. Best is trial#116 with value: 0.000720129996397753.\n"
     ]
    },
    {
     "name": "stdout",
     "output_type": "stream",
     "text": [
      "epoch : 0/30, loss = 0.003957\n"
     ]
    },
    {
     "name": "stderr",
     "output_type": "stream",
     "text": [
      "[I 2020-07-17 06:23:43,435] Setting status of trial#119 as TrialState.PRUNED. \n"
     ]
    },
    {
     "name": "stdout",
     "output_type": "stream",
     "text": [
      "epoch : 0/30, loss = 0.002130\n",
      "epoch : 3/30, loss = 0.000918\n",
      "epoch : 6/30, loss = 0.000827\n",
      "epoch : 9/30, loss = 0.000745\n",
      "epoch : 12/30, loss = 0.000713\n",
      "epoch : 15/30, loss = 0.000693\n",
      "epoch : 18/30, loss = 0.000669\n",
      "epoch : 21/30, loss = 0.000656\n",
      "epoch : 24/30, loss = 0.000652\n",
      "epoch : 27/30, loss = 0.000624\n"
     ]
    },
    {
     "name": "stderr",
     "output_type": "stream",
     "text": [
      "[I 2020-07-17 06:26:57,633] Finished trial#120 with value: 0.0006348464943696069 with parameters: {'Learning Rate': 0.0016781847433338204, 'Dropout Rate': 0.0, 'Latent Size': 16, 'Optimizer': 'Adam', 'Frequency Bins': 60, 'Time Steps': 20, 'Hidden Layers': 2, 'L2 Regularization': 2.465997295185542e-06}. Best is trial#120 with value: 0.0006348464943696069.\n"
     ]
    },
    {
     "name": "stdout",
     "output_type": "stream",
     "text": [
      "epoch : 0/30, loss = 0.002503\n",
      "epoch : 3/30, loss = 0.001072\n",
      "epoch : 6/30, loss = 0.000861\n",
      "epoch : 9/30, loss = 0.000777\n",
      "epoch : 12/30, loss = 0.000730\n",
      "epoch : 15/30, loss = 0.000707\n",
      "epoch : 18/30, loss = 0.000691\n",
      "epoch : 21/30, loss = 0.000673\n",
      "epoch : 24/30, loss = 0.000659\n",
      "epoch : 27/30, loss = 0.000649\n"
     ]
    },
    {
     "name": "stderr",
     "output_type": "stream",
     "text": [
      "[I 2020-07-17 06:30:12,752] Finished trial#121 with value: 0.0006476117962063113 with parameters: {'Learning Rate': 0.000963720225764215, 'Dropout Rate': 0.0, 'Latent Size': 16, 'Optimizer': 'Adam', 'Frequency Bins': 60, 'Time Steps': 20, 'Hidden Layers': 2, 'L2 Regularization': 2.5262267298399347e-06}. Best is trial#120 with value: 0.0006348464943696069.\n"
     ]
    },
    {
     "name": "stdout",
     "output_type": "stream",
     "text": [
      "epoch : 0/30, loss = 0.002701\n",
      "epoch : 3/30, loss = 0.001335\n",
      "epoch : 6/30, loss = 0.001101\n",
      "epoch : 9/30, loss = 0.001001\n",
      "epoch : 12/30, loss = 0.000970\n",
      "epoch : 15/30, loss = 0.000943\n",
      "epoch : 18/30, loss = 0.000902\n",
      "epoch : 21/30, loss = 0.000878\n",
      "epoch : 24/30, loss = 0.000851\n",
      "epoch : 27/30, loss = 0.000779\n"
     ]
    },
    {
     "name": "stderr",
     "output_type": "stream",
     "text": [
      "[I 2020-07-17 06:33:28,271] Finished trial#122 with value: 0.0007546521591747763 with parameters: {'Learning Rate': 0.0004829522604617197, 'Dropout Rate': 0.0, 'Latent Size': 16, 'Optimizer': 'Adam', 'Frequency Bins': 60, 'Time Steps': 20, 'Hidden Layers': 2, 'L2 Regularization': 3.731034438160674e-06}. Best is trial#120 with value: 0.0006348464943696069.\n"
     ]
    },
    {
     "name": "stdout",
     "output_type": "stream",
     "text": [
      "epoch : 0/30, loss = 0.002710\n",
      "epoch : 3/30, loss = 0.001140\n",
      "epoch : 6/30, loss = 0.000974\n",
      "epoch : 9/30, loss = 0.000939\n",
      "epoch : 12/30, loss = 0.000873\n",
      "epoch : 15/30, loss = 0.000831\n",
      "epoch : 18/30, loss = 0.000797\n",
      "epoch : 21/30, loss = 0.000766\n",
      "epoch : 24/30, loss = 0.000748\n",
      "epoch : 27/30, loss = 0.000731\n"
     ]
    },
    {
     "name": "stderr",
     "output_type": "stream",
     "text": [
      "[I 2020-07-17 06:36:42,511] Finished trial#123 with value: 0.0007149956143773979 with parameters: {'Learning Rate': 0.00044524559226521456, 'Dropout Rate': 0.0, 'Latent Size': 16, 'Optimizer': 'Adam', 'Frequency Bins': 60, 'Time Steps': 20, 'Hidden Layers': 2, 'L2 Regularization': 3.4242172705329653e-06}. Best is trial#120 with value: 0.0006348464943696069.\n"
     ]
    },
    {
     "name": "stdout",
     "output_type": "stream",
     "text": [
      "epoch : 0/30, loss = 0.004925\n",
      "epoch : 3/30, loss = 0.002536\n",
      "epoch : 6/30, loss = 0.002426\n"
     ]
    },
    {
     "name": "stderr",
     "output_type": "stream",
     "text": [
      "[I 2020-07-17 06:37:29,953] Setting status of trial#124 as TrialState.PRUNED. \n"
     ]
    },
    {
     "name": "stdout",
     "output_type": "stream",
     "text": [
      "epoch : 0/30, loss = 0.004344\n"
     ]
    },
    {
     "name": "stderr",
     "output_type": "stream",
     "text": [
      "[I 2020-07-17 06:37:54,646] Setting status of trial#125 as TrialState.PRUNED. \n"
     ]
    },
    {
     "name": "stdout",
     "output_type": "stream",
     "text": [
      "epoch : 0/30, loss = 0.002015\n",
      "epoch : 3/30, loss = 0.001364\n",
      "epoch : 6/30, loss = 0.001244\n",
      "epoch : 9/30, loss = 0.001184\n",
      "epoch : 12/30, loss = 0.001156\n",
      "epoch : 15/30, loss = 0.001162\n",
      "epoch : 18/30, loss = 0.001131\n",
      "epoch : 21/30, loss = 0.001116\n",
      "epoch : 24/30, loss = 0.001108\n",
      "epoch : 27/30, loss = 0.001071\n"
     ]
    },
    {
     "name": "stderr",
     "output_type": "stream",
     "text": [
      "[I 2020-07-17 06:41:09,124] Finished trial#126 with value: 0.001046921772827245 with parameters: {'Learning Rate': 0.007577573112566819, 'Dropout Rate': 0.0, 'Latent Size': 16, 'Optimizer': 'Adam', 'Frequency Bins': 60, 'Time Steps': 20, 'Hidden Layers': 2, 'L2 Regularization': 3.7286709537194736e-06}. Best is trial#120 with value: 0.0006348464943696069.\n"
     ]
    },
    {
     "name": "stdout",
     "output_type": "stream",
     "text": [
      "epoch : 0/30, loss = 0.004556\n",
      "epoch : 3/30, loss = 0.002508\n",
      "epoch : 6/30, loss = 0.002368\n"
     ]
    },
    {
     "name": "stderr",
     "output_type": "stream",
     "text": [
      "[I 2020-07-17 06:41:40,751] Setting status of trial#127 as TrialState.PRUNED. \n"
     ]
    },
    {
     "name": "stdout",
     "output_type": "stream",
     "text": [
      "epoch : 0/30, loss = 0.004814\n"
     ]
    },
    {
     "name": "stderr",
     "output_type": "stream",
     "text": [
      "[I 2020-07-17 06:41:59,712] Setting status of trial#128 as TrialState.PRUNED. \n"
     ]
    },
    {
     "name": "stdout",
     "output_type": "stream",
     "text": [
      "epoch : 0/30, loss = 0.004344\n"
     ]
    },
    {
     "name": "stderr",
     "output_type": "stream",
     "text": [
      "[I 2020-07-17 06:42:19,725] Setting status of trial#129 as TrialState.PRUNED. \n"
     ]
    },
    {
     "name": "stdout",
     "output_type": "stream",
     "text": [
      "epoch : 0/30, loss = 0.005430\n"
     ]
    },
    {
     "name": "stderr",
     "output_type": "stream",
     "text": [
      "[I 2020-07-17 06:42:38,991] Setting status of trial#130 as TrialState.PRUNED. \n"
     ]
    },
    {
     "name": "stdout",
     "output_type": "stream",
     "text": [
      "epoch : 0/30, loss = 0.004380\n"
     ]
    },
    {
     "name": "stderr",
     "output_type": "stream",
     "text": [
      "[I 2020-07-17 06:43:05,349] Setting status of trial#131 as TrialState.PRUNED. \n"
     ]
    },
    {
     "name": "stdout",
     "output_type": "stream",
     "text": [
      "epoch : 0/30, loss = 0.001926\n",
      "epoch : 3/30, loss = 0.001351\n",
      "epoch : 6/30, loss = 0.001295\n",
      "epoch : 9/30, loss = 0.001254\n",
      "epoch : 12/30, loss = 0.001255\n",
      "epoch : 15/30, loss = 0.001263\n",
      "epoch : 18/30, loss = 0.001243\n",
      "epoch : 21/30, loss = 0.001240\n",
      "epoch : 24/30, loss = 0.001218\n"
     ]
    },
    {
     "name": "stderr",
     "output_type": "stream",
     "text": [
      "[I 2020-07-17 06:46:08,195] Setting status of trial#132 as TrialState.PRUNED. \n"
     ]
    },
    {
     "name": "stdout",
     "output_type": "stream",
     "text": [
      "epoch : 0/30, loss = 0.003190\n",
      "epoch : 3/30, loss = 0.001348\n",
      "epoch : 6/30, loss = 0.001156\n",
      "epoch : 9/30, loss = 0.001065\n",
      "epoch : 12/30, loss = 0.001008\n",
      "epoch : 15/30, loss = 0.000977\n",
      "epoch : 18/30, loss = 0.000951\n",
      "epoch : 21/30, loss = 0.000930\n",
      "epoch : 24/30, loss = 0.000924\n",
      "epoch : 27/30, loss = 0.000874\n"
     ]
    },
    {
     "name": "stderr",
     "output_type": "stream",
     "text": [
      "[I 2020-07-17 06:48:37,583] Finished trial#133 with value: 0.0008536842522808557 with parameters: {'Learning Rate': 0.0008493985749618632, 'Dropout Rate': 0.2, 'Latent Size': 64, 'Optimizer': 'Adam', 'Frequency Bins': 60, 'Time Steps': 10, 'Hidden Layers': 1, 'L2 Regularization': 4.4956258494297945e-06}. Best is trial#120 with value: 0.0006348464943696069.\n"
     ]
    },
    {
     "name": "stdout",
     "output_type": "stream",
     "text": [
      "epoch : 0/30, loss = 0.004812\n",
      "epoch : 3/30, loss = 0.002293\n",
      "epoch : 6/30, loss = 0.001712\n",
      "epoch : 9/30, loss = 0.001462\n",
      "epoch : 12/30, loss = 0.001388\n",
      "epoch : 15/30, loss = 0.001310\n",
      "epoch : 18/30, loss = 0.001250\n",
      "epoch : 21/30, loss = 0.001198\n",
      "epoch : 24/30, loss = 0.001145\n",
      "epoch : 27/30, loss = 0.001096\n"
     ]
    },
    {
     "name": "stderr",
     "output_type": "stream",
     "text": [
      "[I 2020-07-17 06:51:07,118] Finished trial#134 with value: 0.0010778095336801564 with parameters: {'Learning Rate': 0.00012033666101910444, 'Dropout Rate': 0.2, 'Latent Size': 64, 'Optimizer': 'Adam', 'Frequency Bins': 60, 'Time Steps': 10, 'Hidden Layers': 1, 'L2 Regularization': 5.818153923855803e-06}. Best is trial#120 with value: 0.0006348464943696069.\n"
     ]
    },
    {
     "name": "stdout",
     "output_type": "stream",
     "text": [
      "epoch : 0/30, loss = 0.004128\n",
      "epoch : 3/30, loss = 0.001628\n",
      "epoch : 6/30, loss = 0.001315\n",
      "epoch : 9/30, loss = 0.001179\n",
      "epoch : 12/30, loss = 0.001086\n",
      "epoch : 15/30, loss = 0.001029\n",
      "epoch : 18/30, loss = 0.000976\n",
      "epoch : 21/30, loss = 0.000941\n",
      "epoch : 24/30, loss = 0.000916\n",
      "epoch : 27/30, loss = 0.000897\n"
     ]
    },
    {
     "name": "stderr",
     "output_type": "stream",
     "text": [
      "[I 2020-07-17 06:53:36,705] Finished trial#135 with value: 0.0008887102454634142 with parameters: {'Learning Rate': 0.0002657991510806089, 'Dropout Rate': 0.2, 'Latent Size': 64, 'Optimizer': 'Adam', 'Frequency Bins': 60, 'Time Steps': 10, 'Hidden Layers': 1, 'L2 Regularization': 5.078819162770152e-06}. Best is trial#120 with value: 0.0006348464943696069.\n"
     ]
    },
    {
     "name": "stdout",
     "output_type": "stream",
     "text": [
      "epoch : 0/30, loss = 0.003097\n",
      "epoch : 3/30, loss = 0.001456\n",
      "epoch : 6/30, loss = 0.001101\n",
      "epoch : 9/30, loss = 0.000998\n",
      "epoch : 12/30, loss = 0.000947\n",
      "epoch : 15/30, loss = 0.000914\n",
      "epoch : 18/30, loss = 0.000884\n",
      "epoch : 21/30, loss = 0.000839\n",
      "epoch : 24/30, loss = 0.000790\n",
      "epoch : 27/30, loss = 0.000764\n"
     ]
    },
    {
     "name": "stderr",
     "output_type": "stream",
     "text": [
      "[I 2020-07-17 06:56:50,777] Finished trial#136 with value: 0.0007522457180622937 with parameters: {'Learning Rate': 0.00027623218262343575, 'Dropout Rate': 0.0, 'Latent Size': 16, 'Optimizer': 'Adam', 'Frequency Bins': 60, 'Time Steps': 20, 'Hidden Layers': 2, 'L2 Regularization': 3.931092319746286e-06}. Best is trial#120 with value: 0.0006348464943696069.\n"
     ]
    },
    {
     "name": "stdout",
     "output_type": "stream",
     "text": [
      "epoch : 0/30, loss = 0.002601\n",
      "epoch : 3/30, loss = 0.001898\n",
      "epoch : 6/30, loss = 0.001870\n"
     ]
    },
    {
     "name": "stderr",
     "output_type": "stream",
     "text": [
      "[I 2020-07-17 06:57:40,758] Setting status of trial#137 as TrialState.PRUNED. \n"
     ]
    },
    {
     "name": "stdout",
     "output_type": "stream",
     "text": [
      "epoch : 0/30, loss = 0.002863\n",
      "epoch : 3/30, loss = 0.001388\n",
      "epoch : 6/30, loss = 0.001126\n",
      "epoch : 9/30, loss = 0.001050\n",
      "epoch : 12/30, loss = 0.000985\n",
      "epoch : 15/30, loss = 0.000962\n",
      "epoch : 18/30, loss = 0.000860\n",
      "epoch : 21/30, loss = 0.000838\n",
      "epoch : 24/30, loss = 0.000807\n",
      "epoch : 27/30, loss = 0.000765\n"
     ]
    },
    {
     "name": "stderr",
     "output_type": "stream",
     "text": [
      "[I 2020-07-17 07:00:54,561] Finished trial#138 with value: 0.0007478635076554279 with parameters: {'Learning Rate': 0.0003696492731094608, 'Dropout Rate': 0.0, 'Latent Size': 16, 'Optimizer': 'Adam', 'Frequency Bins': 60, 'Time Steps': 20, 'Hidden Layers': 2, 'L2 Regularization': 4.3905514795586985e-06}. Best is trial#120 with value: 0.0006348464943696069.\n"
     ]
    },
    {
     "name": "stdout",
     "output_type": "stream",
     "text": [
      "epoch : 0/30, loss = 0.002119\n"
     ]
    },
    {
     "name": "stderr",
     "output_type": "stream",
     "text": [
      "[I 2020-07-17 07:01:20,510] Setting status of trial#139 as TrialState.PRUNED. \n"
     ]
    },
    {
     "name": "stdout",
     "output_type": "stream",
     "text": [
      "epoch : 0/30, loss = 0.002927\n"
     ]
    },
    {
     "name": "stderr",
     "output_type": "stream",
     "text": [
      "[I 2020-07-17 07:01:40,392] Setting status of trial#140 as TrialState.PRUNED. \n"
     ]
    },
    {
     "name": "stdout",
     "output_type": "stream",
     "text": [
      "epoch : 0/30, loss = 0.017172\n",
      "epoch : 3/30, loss = 0.016134\n",
      "epoch : 6/30, loss = 0.016090\n",
      "epoch : 9/30, loss = 0.016144\n",
      "epoch : 12/30, loss = 0.016058\n",
      "epoch : 15/30, loss = 0.016109\n",
      "epoch : 18/30, loss = 0.016176\n",
      "epoch : 21/30, loss = 0.016124\n",
      "epoch : 24/30, loss = 0.016132\n"
     ]
    },
    {
     "name": "stderr",
     "output_type": "stream",
     "text": [
      "[I 2020-07-17 07:02:57,602] Setting status of trial#141 as TrialState.PRUNED. \n"
     ]
    },
    {
     "name": "stdout",
     "output_type": "stream",
     "text": [
      "epoch : 0/30, loss = 0.002582\n",
      "epoch : 3/30, loss = 0.001425\n",
      "epoch : 6/30, loss = 0.001265\n",
      "epoch : 9/30, loss = 0.001201\n",
      "epoch : 12/30, loss = 0.001125\n",
      "epoch : 15/30, loss = 0.001084\n",
      "epoch : 18/30, loss = 0.001047\n",
      "epoch : 21/30, loss = 0.000953\n",
      "epoch : 24/30, loss = 0.000920\n",
      "epoch : 27/30, loss = 0.000905\n"
     ]
    },
    {
     "name": "stderr",
     "output_type": "stream",
     "text": [
      "[I 2020-07-17 07:06:12,090] Finished trial#142 with value: 0.0008903912729352627 with parameters: {'Learning Rate': 0.0006274300962708463, 'Dropout Rate': 0.0, 'Latent Size': 4, 'Optimizer': 'Adam', 'Frequency Bins': 60, 'Time Steps': 20, 'Hidden Layers': 2, 'L2 Regularization': 4.000830918638438e-06}. Best is trial#120 with value: 0.0006348464943696069.\n"
     ]
    },
    {
     "name": "stdout",
     "output_type": "stream",
     "text": [
      "epoch : 0/30, loss = 0.002503\n",
      "epoch : 3/30, loss = 0.001866\n",
      "epoch : 6/30, loss = 0.001814\n"
     ]
    },
    {
     "name": "stderr",
     "output_type": "stream",
     "text": [
      "[I 2020-07-17 07:07:01,826] Setting status of trial#143 as TrialState.PRUNED. \n"
     ]
    },
    {
     "name": "stdout",
     "output_type": "stream",
     "text": [
      "epoch : 0/30, loss = 0.003740\n",
      "epoch : 3/30, loss = 0.003773\n",
      "epoch : 6/30, loss = 0.003947\n",
      "epoch : 9/30, loss = 0.003957\n",
      "epoch : 12/30, loss = 0.003947\n",
      "epoch : 15/30, loss = 0.003920\n",
      "epoch : 18/30, loss = 0.003916\n",
      "epoch : 21/30, loss = 0.003910\n",
      "epoch : 24/30, loss = 0.003894\n",
      "epoch : 27/30, loss = 0.003893\n"
     ]
    },
    {
     "name": "stderr",
     "output_type": "stream",
     "text": [
      "[I 2020-07-17 07:10:06,517] Finished trial#144 with value: 0.003928257040466175 with parameters: {'Learning Rate': 0.052462800371926945, 'Dropout Rate': 0.5, 'Latent Size': 16, 'Optimizer': 'Adam', 'Frequency Bins': 30, 'Time Steps': 20, 'Hidden Layers': 1, 'L2 Regularization': 4.140582083689224e-05}. Best is trial#120 with value: 0.0006348464943696069.\n"
     ]
    },
    {
     "name": "stdout",
     "output_type": "stream",
     "text": [
      "epoch : 0/30, loss = 0.003009\n"
     ]
    },
    {
     "name": "stderr",
     "output_type": "stream",
     "text": [
      "[I 2020-07-17 07:10:26,763] Setting status of trial#145 as TrialState.PRUNED. \n"
     ]
    },
    {
     "name": "stdout",
     "output_type": "stream",
     "text": [
      "epoch : 0/30, loss = 0.008222\n"
     ]
    },
    {
     "name": "stderr",
     "output_type": "stream",
     "text": [
      "[I 2020-07-17 07:10:41,783] Setting status of trial#146 as TrialState.PRUNED. \n"
     ]
    },
    {
     "name": "stdout",
     "output_type": "stream",
     "text": [
      "epoch : 0/30, loss = 0.003637\n",
      "epoch : 3/30, loss = 0.003656\n",
      "epoch : 6/30, loss = 0.003768\n",
      "epoch : 9/30, loss = 0.003771\n",
      "epoch : 12/30, loss = 0.003950\n",
      "epoch : 15/30, loss = 0.003964\n",
      "epoch : 18/30, loss = 0.003928\n",
      "epoch : 21/30, loss = 0.003914\n",
      "epoch : 24/30, loss = 0.003940\n",
      "epoch : 27/30, loss = 0.003972\n"
     ]
    },
    {
     "name": "stderr",
     "output_type": "stream",
     "text": [
      "[I 2020-07-17 07:13:46,017] Finished trial#147 with value: 0.0039495745112138395 with parameters: {'Learning Rate': 0.05212168862793369, 'Dropout Rate': 0.5, 'Latent Size': 16, 'Optimizer': 'Adam', 'Frequency Bins': 30, 'Time Steps': 20, 'Hidden Layers': 1, 'L2 Regularization': 2.989158456617159e-05}. Best is trial#120 with value: 0.0006348464943696069.\n"
     ]
    },
    {
     "name": "stdout",
     "output_type": "stream",
     "text": [
      "epoch : 0/30, loss = 0.004292\n",
      "epoch : 3/30, loss = 0.004086\n",
      "epoch : 6/30, loss = 0.003915\n",
      "epoch : 9/30, loss = 0.003758\n",
      "epoch : 12/30, loss = 0.003640\n",
      "epoch : 15/30, loss = 0.003533\n",
      "epoch : 18/30, loss = 0.003442\n",
      "epoch : 21/30, loss = 0.003374\n",
      "epoch : 24/30, loss = 0.003302\n",
      "epoch : 27/30, loss = 0.003232\n"
     ]
    },
    {
     "name": "stderr",
     "output_type": "stream",
     "text": [
      "[I 2020-07-17 07:17:00,092] Finished trial#148 with value: 0.003189406477675581 with parameters: {'Learning Rate': 0.005425861645496678, 'Dropout Rate': 0.1, 'Latent Size': 64, 'Optimizer': 'SGD', 'Frequency Bins': 60, 'Time Steps': 20, 'Hidden Layers': 1, 'L2 Regularization': 3.922858236831028e-05}. Best is trial#120 with value: 0.0006348464943696069.\n"
     ]
    },
    {
     "name": "stdout",
     "output_type": "stream",
     "text": [
      "epoch : 0/30, loss = 0.002972\n",
      "epoch : 3/30, loss = 0.001382\n",
      "epoch : 6/30, loss = 0.001113\n",
      "epoch : 9/30, loss = 0.001049\n",
      "epoch : 12/30, loss = 0.001002\n",
      "epoch : 15/30, loss = 0.000938\n",
      "epoch : 18/30, loss = 0.000921\n",
      "epoch : 21/30, loss = 0.000916\n",
      "epoch : 24/30, loss = 0.000900\n",
      "epoch : 27/30, loss = 0.000888\n"
     ]
    },
    {
     "name": "stderr",
     "output_type": "stream",
     "text": [
      "[I 2020-07-17 07:20:13,509] Finished trial#149 with value: 0.0008876923947570177 with parameters: {'Learning Rate': 0.00038028549385876504, 'Dropout Rate': 0.0, 'Latent Size': 4, 'Optimizer': 'Adam', 'Frequency Bins': 60, 'Time Steps': 20, 'Hidden Layers': 2, 'L2 Regularization': 7.664389695248533e-06}. Best is trial#120 with value: 0.0006348464943696069.\n"
     ]
    },
    {
     "name": "stdout",
     "output_type": "stream",
     "text": [
      "epoch : 0/30, loss = 0.007093\n"
     ]
    },
    {
     "name": "stderr",
     "output_type": "stream",
     "text": [
      "[I 2020-07-17 07:20:39,184] Setting status of trial#150 as TrialState.PRUNED. \n"
     ]
    },
    {
     "name": "stdout",
     "output_type": "stream",
     "text": [
      "epoch : 0/30, loss = 0.004293\n",
      "epoch : 3/30, loss = 0.004268\n",
      "epoch : 6/30, loss = 0.004246\n",
      "epoch : 9/30, loss = 0.004240\n",
      "epoch : 12/30, loss = 0.004216\n",
      "epoch : 15/30, loss = 0.004192\n",
      "epoch : 18/30, loss = 0.004177\n",
      "epoch : 21/30, loss = 0.004157\n",
      "epoch : 24/30, loss = 0.004147\n"
     ]
    },
    {
     "name": "stderr",
     "output_type": "stream",
     "text": [
      "[I 2020-07-17 07:23:40,112] Setting status of trial#151 as TrialState.PRUNED. \n"
     ]
    },
    {
     "name": "stdout",
     "output_type": "stream",
     "text": [
      "epoch : 0/30, loss = 0.003427\n",
      "epoch : 3/30, loss = 0.002082\n",
      "epoch : 6/30, loss = 0.002014\n"
     ]
    },
    {
     "name": "stderr",
     "output_type": "stream",
     "text": [
      "[I 2020-07-17 07:24:30,121] Setting status of trial#152 as TrialState.PRUNED. \n"
     ]
    },
    {
     "name": "stdout",
     "output_type": "stream",
     "text": [
      "epoch : 0/30, loss = 0.003577\n",
      "epoch : 3/30, loss = 0.003718\n",
      "epoch : 6/30, loss = 0.003723\n",
      "epoch : 9/30, loss = 0.003810\n",
      "epoch : 12/30, loss = 0.003911\n",
      "epoch : 15/30, loss = 0.003994\n",
      "epoch : 18/30, loss = 0.003995\n",
      "epoch : 21/30, loss = 0.003984\n",
      "epoch : 24/30, loss = 0.003970\n",
      "epoch : 27/30, loss = 0.003945\n"
     ]
    },
    {
     "name": "stderr",
     "output_type": "stream",
     "text": [
      "[I 2020-07-17 07:27:33,820] Finished trial#153 with value: 0.00393718866745138 with parameters: {'Learning Rate': 0.05352052546781375, 'Dropout Rate': 0.5, 'Latent Size': 16, 'Optimizer': 'Adam', 'Frequency Bins': 30, 'Time Steps': 20, 'Hidden Layers': 1, 'L2 Regularization': 4.1498380419639e-05}. Best is trial#120 with value: 0.0006348464943696069.\n"
     ]
    },
    {
     "name": "stdout",
     "output_type": "stream",
     "text": [
      "epoch : 0/30, loss = 0.003195\n",
      "epoch : 3/30, loss = 0.003169\n",
      "epoch : 6/30, loss = 0.003137\n",
      "epoch : 9/30, loss = 0.003139\n",
      "epoch : 12/30, loss = 0.003151\n",
      "epoch : 15/30, loss = 0.003108\n",
      "epoch : 18/30, loss = 0.003154\n",
      "epoch : 21/30, loss = 0.003119\n",
      "epoch : 24/30, loss = 0.003123\n",
      "epoch : 27/30, loss = 0.003166\n"
     ]
    },
    {
     "name": "stderr",
     "output_type": "stream",
     "text": [
      "[I 2020-07-17 07:30:39,404] Finished trial#154 with value: 0.003193045616192558 with parameters: {'Learning Rate': 0.031054674821975763, 'Dropout Rate': 0.4, 'Latent Size': 16, 'Optimizer': 'Adam', 'Frequency Bins': 30, 'Time Steps': 20, 'Hidden Layers': 1, 'L2 Regularization': 6.920152266601845e-05}. Best is trial#120 with value: 0.0006348464943696069.\n"
     ]
    },
    {
     "name": "stdout",
     "output_type": "stream",
     "text": [
      "epoch : 0/30, loss = 0.002009\n",
      "epoch : 3/30, loss = 0.001398\n",
      "epoch : 6/30, loss = 0.001379\n"
     ]
    },
    {
     "name": "stderr",
     "output_type": "stream",
     "text": [
      "[I 2020-07-17 07:31:44,803] Setting status of trial#155 as TrialState.PRUNED. \n"
     ]
    },
    {
     "name": "stdout",
     "output_type": "stream",
     "text": [
      "epoch : 0/30, loss = 0.004238\n",
      "epoch : 3/30, loss = 0.003762\n",
      "epoch : 6/30, loss = 0.003483\n",
      "epoch : 9/30, loss = 0.003301\n",
      "epoch : 12/30, loss = 0.003174\n",
      "epoch : 15/30, loss = 0.003071\n",
      "epoch : 18/30, loss = 0.003001\n",
      "epoch : 21/30, loss = 0.002953\n",
      "epoch : 24/30, loss = 0.002929\n",
      "epoch : 27/30, loss = 0.002880\n"
     ]
    },
    {
     "name": "stderr",
     "output_type": "stream",
     "text": [
      "[I 2020-07-17 07:34:59,055] Finished trial#156 with value: 0.0028615751319728392 with parameters: {'Learning Rate': 0.016903119237231798, 'Dropout Rate': 0.0, 'Latent Size': 64, 'Optimizer': 'SGD', 'Frequency Bins': 60, 'Time Steps': 20, 'Hidden Layers': 1, 'L2 Regularization': 0.00012550129865272183}. Best is trial#120 with value: 0.0006348464943696069.\n"
     ]
    },
    {
     "name": "stdout",
     "output_type": "stream",
     "text": [
      "epoch : 0/30, loss = 0.002492\n",
      "epoch : 3/30, loss = 0.001734\n",
      "epoch : 6/30, loss = 0.001646\n",
      "epoch : 9/30, loss = 0.001667\n",
      "epoch : 12/30, loss = 0.001730\n",
      "epoch : 15/30, loss = 0.001692\n",
      "epoch : 18/30, loss = 0.001749\n",
      "epoch : 21/30, loss = 0.001724\n",
      "epoch : 24/30, loss = 0.001661\n"
     ]
    },
    {
     "name": "stderr",
     "output_type": "stream",
     "text": [
      "[I 2020-07-17 07:37:18,490] Setting status of trial#157 as TrialState.PRUNED. \n"
     ]
    },
    {
     "name": "stdout",
     "output_type": "stream",
     "text": [
      "epoch : 0/30, loss = 0.003997\n"
     ]
    },
    {
     "name": "stderr",
     "output_type": "stream",
     "text": [
      "[I 2020-07-17 07:37:35,300] Setting status of trial#158 as TrialState.PRUNED. \n"
     ]
    },
    {
     "name": "stdout",
     "output_type": "stream",
     "text": [
      "epoch : 0/30, loss = 0.007789\n"
     ]
    },
    {
     "name": "stderr",
     "output_type": "stream",
     "text": [
      "[I 2020-07-17 07:37:46,682] Setting status of trial#159 as TrialState.PRUNED. \n"
     ]
    },
    {
     "name": "stdout",
     "output_type": "stream",
     "text": [
      "epoch : 0/30, loss = 0.004363\n",
      "epoch : 3/30, loss = 0.003318\n",
      "epoch : 6/30, loss = 0.002972\n",
      "epoch : 9/30, loss = 0.002813\n",
      "epoch : 12/30, loss = 0.002722\n",
      "epoch : 15/30, loss = 0.002680\n",
      "epoch : 18/30, loss = 0.002650\n",
      "epoch : 21/30, loss = 0.002634\n",
      "epoch : 24/30, loss = 0.002626\n",
      "epoch : 27/30, loss = 0.002622\n"
     ]
    },
    {
     "name": "stderr",
     "output_type": "stream",
     "text": [
      "[I 2020-07-17 07:41:00,318] Finished trial#160 with value: 0.0026189663335467682 with parameters: {'Learning Rate': 0.03727728450713596, 'Dropout Rate': 0.2, 'Latent Size': 64, 'Optimizer': 'SGD', 'Frequency Bins': 60, 'Time Steps': 20, 'Hidden Layers': 1, 'L2 Regularization': 0.00028629878659817244}. Best is trial#120 with value: 0.0006348464943696069.\n"
     ]
    },
    {
     "name": "stdout",
     "output_type": "stream",
     "text": [
      "epoch : 0/30, loss = 0.002966\n"
     ]
    },
    {
     "name": "stderr",
     "output_type": "stream",
     "text": [
      "[I 2020-07-17 07:41:26,571] Setting status of trial#161 as TrialState.PRUNED. \n"
     ]
    },
    {
     "name": "stdout",
     "output_type": "stream",
     "text": [
      "epoch : 0/30, loss = 0.003324\n",
      "epoch : 3/30, loss = 0.001419\n",
      "epoch : 6/30, loss = 0.001215\n",
      "epoch : 9/30, loss = 0.001115\n",
      "epoch : 12/30, loss = 0.001014\n",
      "epoch : 15/30, loss = 0.000972\n",
      "epoch : 18/30, loss = 0.000941\n",
      "epoch : 21/30, loss = 0.000896\n",
      "epoch : 24/30, loss = 0.000881\n",
      "epoch : 27/30, loss = 0.000882\n"
     ]
    },
    {
     "name": "stderr",
     "output_type": "stream",
     "text": [
      "[I 2020-07-17 07:43:56,432] Finished trial#162 with value: 0.0008790079086133855 with parameters: {'Learning Rate': 0.0007997425950769434, 'Dropout Rate': 0.2, 'Latent Size': 64, 'Optimizer': 'Adam', 'Frequency Bins': 60, 'Time Steps': 10, 'Hidden Layers': 1, 'L2 Regularization': 5.598250200276056e-06}. Best is trial#120 with value: 0.0006348464943696069.\n"
     ]
    },
    {
     "name": "stdout",
     "output_type": "stream",
     "text": [
      "epoch : 0/30, loss = 0.002042\n"
     ]
    },
    {
     "name": "stderr",
     "output_type": "stream",
     "text": [
      "[I 2020-07-17 07:44:22,580] Setting status of trial#163 as TrialState.PRUNED. \n"
     ]
    },
    {
     "name": "stdout",
     "output_type": "stream",
     "text": [
      "epoch : 0/30, loss = 0.003538\n"
     ]
    },
    {
     "name": "stderr",
     "output_type": "stream",
     "text": [
      "[I 2020-07-17 07:44:48,581] Setting status of trial#164 as TrialState.PRUNED. \n"
     ]
    },
    {
     "name": "stdout",
     "output_type": "stream",
     "text": [
      "epoch : 0/30, loss = 0.002282\n",
      "epoch : 3/30, loss = 0.001383\n",
      "epoch : 6/30, loss = 0.001253\n",
      "epoch : 9/30, loss = 0.001173\n",
      "epoch : 12/30, loss = 0.001025\n",
      "epoch : 15/30, loss = 0.000998\n",
      "epoch : 18/30, loss = 0.000971\n",
      "epoch : 21/30, loss = 0.000932\n",
      "epoch : 24/30, loss = 0.000927\n",
      "epoch : 27/30, loss = 0.000905\n"
     ]
    },
    {
     "name": "stderr",
     "output_type": "stream",
     "text": [
      "[I 2020-07-17 07:48:02,198] Finished trial#165 with value: 0.0008905184373458606 with parameters: {'Learning Rate': 0.0014831755384422684, 'Dropout Rate': 0.0, 'Latent Size': 4, 'Optimizer': 'Adam', 'Frequency Bins': 60, 'Time Steps': 20, 'Hidden Layers': 2, 'L2 Regularization': 2.8082734756155955e-06}. Best is trial#120 with value: 0.0006348464943696069.\n"
     ]
    },
    {
     "name": "stdout",
     "output_type": "stream",
     "text": [
      "epoch : 0/30, loss = 0.001996\n",
      "epoch : 3/30, loss = 0.001418\n",
      "epoch : 6/30, loss = 0.001295\n"
     ]
    },
    {
     "name": "stderr",
     "output_type": "stream",
     "text": [
      "[I 2020-07-17 07:49:06,381] Setting status of trial#166 as TrialState.PRUNED. \n"
     ]
    },
    {
     "name": "stdout",
     "output_type": "stream",
     "text": [
      "epoch : 0/30, loss = 0.002194\n"
     ]
    },
    {
     "name": "stderr",
     "output_type": "stream",
     "text": [
      "[I 2020-07-17 07:49:32,333] Setting status of trial#167 as TrialState.PRUNED. \n"
     ]
    },
    {
     "name": "stdout",
     "output_type": "stream",
     "text": [
      "epoch : 0/30, loss = 0.004058\n",
      "epoch : 3/30, loss = 0.002940\n",
      "epoch : 6/30, loss = 0.002802\n",
      "epoch : 9/30, loss = 0.002779\n",
      "epoch : 12/30, loss = 0.002778\n",
      "epoch : 15/30, loss = 0.002778\n",
      "epoch : 18/30, loss = 0.002774\n",
      "epoch : 21/30, loss = 0.002777\n",
      "epoch : 24/30, loss = 0.002777\n",
      "epoch : 27/30, loss = 0.002775\n"
     ]
    },
    {
     "name": "stderr",
     "output_type": "stream",
     "text": [
      "[I 2020-07-17 07:52:45,833] Finished trial#168 with value: 0.0027789374838320126 with parameters: {'Learning Rate': 0.04146513794578763, 'Dropout Rate': 0.2, 'Latent Size': 64, 'Optimizer': 'SGD', 'Frequency Bins': 60, 'Time Steps': 20, 'Hidden Layers': 1, 'L2 Regularization': 0.0034187391553297582}. Best is trial#120 with value: 0.0006348464943696069.\n"
     ]
    },
    {
     "name": "stdout",
     "output_type": "stream",
     "text": [
      "epoch : 0/30, loss = 0.002833\n",
      "epoch : 3/30, loss = 0.001376\n",
      "epoch : 6/30, loss = 0.001077\n",
      "epoch : 9/30, loss = 0.001011\n",
      "epoch : 12/30, loss = 0.000917\n",
      "epoch : 15/30, loss = 0.000841\n",
      "epoch : 18/30, loss = 0.000816\n",
      "epoch : 21/30, loss = 0.000795\n",
      "epoch : 24/30, loss = 0.000781\n",
      "epoch : 27/30, loss = 0.000772\n"
     ]
    },
    {
     "name": "stderr",
     "output_type": "stream",
     "text": [
      "[I 2020-07-17 07:56:00,181] Finished trial#169 with value: 0.0007508072601311364 with parameters: {'Learning Rate': 0.0004091548431935043, 'Dropout Rate': 0.0, 'Latent Size': 16, 'Optimizer': 'Adam', 'Frequency Bins': 60, 'Time Steps': 20, 'Hidden Layers': 2, 'L2 Regularization': 3.071090132337272e-06}. Best is trial#120 with value: 0.0006348464943696069.\n"
     ]
    },
    {
     "name": "stdout",
     "output_type": "stream",
     "text": [
      "epoch : 0/30, loss = 0.003790\n",
      "epoch : 3/30, loss = 0.001766\n",
      "epoch : 6/30, loss = 0.001463\n",
      "epoch : 9/30, loss = 0.001382\n",
      "epoch : 12/30, loss = 0.001335\n",
      "epoch : 15/30, loss = 0.001310\n",
      "epoch : 18/30, loss = 0.001275\n",
      "epoch : 21/30, loss = 0.001243\n",
      "epoch : 24/30, loss = 0.001232\n"
     ]
    },
    {
     "name": "stderr",
     "output_type": "stream",
     "text": [
      "[I 2020-07-17 07:58:19,739] Setting status of trial#170 as TrialState.PRUNED. \n"
     ]
    },
    {
     "name": "stdout",
     "output_type": "stream",
     "text": [
      "epoch : 0/30, loss = 0.002881\n",
      "epoch : 3/30, loss = 0.002501\n",
      "epoch : 6/30, loss = 0.002489\n",
      "epoch : 9/30, loss = 0.002445\n",
      "epoch : 12/30, loss = 0.002514\n",
      "epoch : 15/30, loss = 0.002537\n",
      "epoch : 18/30, loss = 0.002526\n",
      "epoch : 21/30, loss = 0.002449\n",
      "epoch : 24/30, loss = 0.002411\n",
      "epoch : 27/30, loss = 0.002476\n"
     ]
    },
    {
     "name": "stderr",
     "output_type": "stream",
     "text": [
      "[I 2020-07-17 08:01:23,510] Finished trial#171 with value: 0.0025680977460139126 with parameters: {'Learning Rate': 0.025610922843328807, 'Dropout Rate': 0.30000000000000004, 'Latent Size': 16, 'Optimizer': 'Adam', 'Frequency Bins': 30, 'Time Steps': 20, 'Hidden Layers': 1, 'L2 Regularization': 6.314697102214523e-06}. Best is trial#120 with value: 0.0006348464943696069.\n"
     ]
    },
    {
     "name": "stdout",
     "output_type": "stream",
     "text": [
      "epoch : 0/30, loss = 0.002861\n",
      "epoch : 3/30, loss = 0.002493\n",
      "epoch : 6/30, loss = 0.002424\n",
      "epoch : 9/30, loss = 0.002360\n",
      "epoch : 12/30, loss = 0.002480\n",
      "epoch : 15/30, loss = 0.002378\n",
      "epoch : 18/30, loss = 0.002375\n",
      "epoch : 21/30, loss = 0.002379\n",
      "epoch : 24/30, loss = 0.002380\n",
      "epoch : 27/30, loss = 0.002320\n"
     ]
    },
    {
     "name": "stderr",
     "output_type": "stream",
     "text": [
      "[I 2020-07-17 08:04:26,841] Finished trial#172 with value: 0.002396887366460878 with parameters: {'Learning Rate': 0.022179109025681445, 'Dropout Rate': 0.2, 'Latent Size': 16, 'Optimizer': 'Adam', 'Frequency Bins': 30, 'Time Steps': 20, 'Hidden Layers': 1, 'L2 Regularization': 3.836019027895046e-06}. Best is trial#120 with value: 0.0006348464943696069.\n"
     ]
    },
    {
     "name": "stdout",
     "output_type": "stream",
     "text": [
      "epoch : 0/30, loss = 0.001862\n",
      "epoch : 3/30, loss = 0.001275\n",
      "epoch : 6/30, loss = 0.001184\n",
      "epoch : 9/30, loss = 0.001113\n",
      "epoch : 12/30, loss = 0.001068\n",
      "epoch : 15/30, loss = 0.001065\n",
      "epoch : 18/30, loss = 0.001028\n",
      "epoch : 21/30, loss = 0.000969\n",
      "epoch : 24/30, loss = 0.000946\n",
      "epoch : 27/30, loss = 0.000920\n"
     ]
    },
    {
     "name": "stderr",
     "output_type": "stream",
     "text": [
      "[I 2020-07-17 08:07:41,801] Finished trial#173 with value: 0.0009448894998058677 with parameters: {'Learning Rate': 0.008920307461194857, 'Dropout Rate': 0.0, 'Latent Size': 16, 'Optimizer': 'Adam', 'Frequency Bins': 60, 'Time Steps': 20, 'Hidden Layers': 2, 'L2 Regularization': 2.360475476872866e-06}. Best is trial#120 with value: 0.0006348464943696069.\n"
     ]
    },
    {
     "name": "stdout",
     "output_type": "stream",
     "text": [
      "epoch : 0/30, loss = 0.002528\n"
     ]
    },
    {
     "name": "stderr",
     "output_type": "stream",
     "text": [
      "[I 2020-07-17 08:08:07,574] Setting status of trial#174 as TrialState.PRUNED. \n"
     ]
    },
    {
     "name": "stdout",
     "output_type": "stream",
     "text": [
      "epoch : 0/30, loss = 0.001944\n",
      "epoch : 3/30, loss = 0.001211\n",
      "epoch : 6/30, loss = 0.001092\n",
      "epoch : 9/30, loss = 0.001068\n",
      "epoch : 12/30, loss = 0.001042\n",
      "epoch : 15/30, loss = 0.000982\n",
      "epoch : 18/30, loss = 0.000987\n",
      "epoch : 21/30, loss = 0.000968\n",
      "epoch : 24/30, loss = 0.000955\n",
      "epoch : 27/30, loss = 0.000976\n"
     ]
    },
    {
     "name": "stderr",
     "output_type": "stream",
     "text": [
      "[I 2020-07-17 08:11:21,662] Finished trial#175 with value: 0.0009330296775642498 with parameters: {'Learning Rate': 0.0023338628957699616, 'Dropout Rate': 0.0, 'Latent Size': 16, 'Optimizer': 'Adam', 'Frequency Bins': 60, 'Time Steps': 20, 'Hidden Layers': 2, 'L2 Regularization': 1.2480883807232415e-05}. Best is trial#120 with value: 0.0006348464943696069.\n"
     ]
    },
    {
     "name": "stdout",
     "output_type": "stream",
     "text": [
      "epoch : 0/30, loss = 0.003348\n",
      "epoch : 3/30, loss = 0.002945\n",
      "epoch : 6/30, loss = 0.002946\n",
      "epoch : 9/30, loss = 0.002948\n",
      "epoch : 12/30, loss = 0.002939\n",
      "epoch : 15/30, loss = 0.002946\n",
      "epoch : 18/30, loss = 0.002947\n",
      "epoch : 21/30, loss = 0.002939\n",
      "epoch : 24/30, loss = 0.002941\n"
     ]
    },
    {
     "name": "stderr",
     "output_type": "stream",
     "text": [
      "[I 2020-07-17 08:14:21,295] Setting status of trial#176 as TrialState.PRUNED. \n"
     ]
    },
    {
     "name": "stdout",
     "output_type": "stream",
     "text": [
      "epoch : 0/30, loss = 0.002529\n",
      "epoch : 3/30, loss = 0.001782\n",
      "epoch : 6/30, loss = 0.001678\n"
     ]
    },
    {
     "name": "stderr",
     "output_type": "stream",
     "text": [
      "[I 2020-07-17 08:15:11,315] Setting status of trial#177 as TrialState.PRUNED. \n"
     ]
    },
    {
     "name": "stdout",
     "output_type": "stream",
     "text": [
      "epoch : 0/30, loss = 0.005998\n"
     ]
    },
    {
     "name": "stderr",
     "output_type": "stream",
     "text": [
      "[I 2020-07-17 08:15:31,682] Setting status of trial#178 as TrialState.PRUNED. \n"
     ]
    },
    {
     "name": "stdout",
     "output_type": "stream",
     "text": [
      "epoch : 0/30, loss = 0.003511\n",
      "epoch : 3/30, loss = 0.001362\n",
      "epoch : 6/30, loss = 0.001117\n",
      "epoch : 9/30, loss = 0.001002\n",
      "epoch : 12/30, loss = 0.000944\n",
      "epoch : 15/30, loss = 0.000902\n",
      "epoch : 18/30, loss = 0.000879\n",
      "epoch : 21/30, loss = 0.000847\n",
      "epoch : 24/30, loss = 0.000818\n",
      "epoch : 27/30, loss = 0.000801\n"
     ]
    },
    {
     "name": "stderr",
     "output_type": "stream",
     "text": [
      "[I 2020-07-17 08:18:00,831] Finished trial#179 with value: 0.0007948293286208632 with parameters: {'Learning Rate': 0.0005412959450308572, 'Dropout Rate': 0.2, 'Latent Size': 64, 'Optimizer': 'Adam', 'Frequency Bins': 60, 'Time Steps': 10, 'Hidden Layers': 1, 'L2 Regularization': 3.290682454336403e-06}. Best is trial#120 with value: 0.0006348464943696069.\n"
     ]
    },
    {
     "name": "stdout",
     "output_type": "stream",
     "text": [
      "epoch : 0/30, loss = 0.011792\n"
     ]
    },
    {
     "name": "stderr",
     "output_type": "stream",
     "text": [
      "[I 2020-07-17 08:18:15,722] Setting status of trial#180 as TrialState.PRUNED. \n"
     ]
    },
    {
     "name": "stdout",
     "output_type": "stream",
     "text": [
      "epoch : 0/30, loss = 0.006523\n"
     ]
    },
    {
     "name": "stderr",
     "output_type": "stream",
     "text": [
      "[I 2020-07-17 08:18:35,712] Setting status of trial#181 as TrialState.PRUNED. \n"
     ]
    },
    {
     "name": "stdout",
     "output_type": "stream",
     "text": [
      "epoch : 0/30, loss = 0.002887\n"
     ]
    },
    {
     "name": "stderr",
     "output_type": "stream",
     "text": [
      "[I 2020-07-17 08:19:01,876] Setting status of trial#182 as TrialState.PRUNED. \n"
     ]
    },
    {
     "name": "stdout",
     "output_type": "stream",
     "text": [
      "epoch : 0/30, loss = 0.002227\n",
      "epoch : 3/30, loss = 0.001191\n",
      "epoch : 6/30, loss = 0.001014\n",
      "epoch : 9/30, loss = 0.000944\n",
      "epoch : 12/30, loss = 0.000903\n",
      "epoch : 15/30, loss = 0.000907\n",
      "epoch : 18/30, loss = 0.000876\n",
      "epoch : 21/30, loss = 0.000878\n",
      "epoch : 24/30, loss = 0.000870\n",
      "epoch : 27/30, loss = 0.000859\n"
     ]
    },
    {
     "name": "stderr",
     "output_type": "stream",
     "text": [
      "[I 2020-07-17 08:22:15,310] Finished trial#183 with value: 0.000844882600114304 with parameters: {'Learning Rate': 0.0018310452890236903, 'Dropout Rate': 0.0, 'Latent Size': 16, 'Optimizer': 'Adam', 'Frequency Bins': 60, 'Time Steps': 20, 'Hidden Layers': 2, 'L2 Regularization': 3.3122465873185694e-06}. Best is trial#120 with value: 0.0006348464943696069.\n"
     ]
    },
    {
     "name": "stdout",
     "output_type": "stream",
     "text": [
      "epoch : 0/30, loss = 0.001759\n",
      "epoch : 3/30, loss = 0.001121\n",
      "epoch : 6/30, loss = 0.001042\n",
      "epoch : 9/30, loss = 0.001020\n",
      "epoch : 12/30, loss = 0.000992\n",
      "epoch : 15/30, loss = 0.000952\n",
      "epoch : 18/30, loss = 0.000930\n",
      "epoch : 21/30, loss = 0.000930\n",
      "epoch : 24/30, loss = 0.000888\n",
      "epoch : 27/30, loss = 0.000869\n"
     ]
    },
    {
     "name": "stderr",
     "output_type": "stream",
     "text": [
      "[I 2020-07-17 08:25:29,365] Finished trial#184 with value: 0.0008527098258225005 with parameters: {'Learning Rate': 0.005287223124941204, 'Dropout Rate': 0.0, 'Latent Size': 16, 'Optimizer': 'Adam', 'Frequency Bins': 60, 'Time Steps': 20, 'Hidden Layers': 2, 'L2 Regularization': 3.028698546313449e-06}. Best is trial#120 with value: 0.0006348464943696069.\n"
     ]
    },
    {
     "name": "stdout",
     "output_type": "stream",
     "text": [
      "epoch : 0/30, loss = 0.001978\n",
      "epoch : 3/30, loss = 0.001255\n",
      "epoch : 6/30, loss = 0.001142\n",
      "epoch : 9/30, loss = 0.001077\n",
      "epoch : 12/30, loss = 0.001024\n",
      "epoch : 15/30, loss = 0.001020\n",
      "epoch : 18/30, loss = 0.000979\n",
      "epoch : 21/30, loss = 0.000984\n",
      "epoch : 24/30, loss = 0.000952\n",
      "epoch : 27/30, loss = 0.000944\n"
     ]
    },
    {
     "name": "stderr",
     "output_type": "stream",
     "text": [
      "[I 2020-07-17 08:28:42,312] Finished trial#185 with value: 0.0009416425625086257 with parameters: {'Learning Rate': 0.007419332107567369, 'Dropout Rate': 0.0, 'Latent Size': 16, 'Optimizer': 'Adam', 'Frequency Bins': 60, 'Time Steps': 20, 'Hidden Layers': 2, 'L2 Regularization': 1.1997916302541858e-06}. Best is trial#120 with value: 0.0006348464943696069.\n"
     ]
    },
    {
     "name": "stdout",
     "output_type": "stream",
     "text": [
      "epoch : 0/30, loss = 0.001831\n",
      "epoch : 3/30, loss = 0.001124\n",
      "epoch : 6/30, loss = 0.001072\n",
      "epoch : 9/30, loss = 0.001034\n",
      "epoch : 12/30, loss = 0.001019\n",
      "epoch : 15/30, loss = 0.000948\n",
      "epoch : 18/30, loss = 0.000878\n",
      "epoch : 21/30, loss = 0.000833\n",
      "epoch : 24/30, loss = 0.000827\n",
      "epoch : 27/30, loss = 0.000810\n"
     ]
    },
    {
     "name": "stderr",
     "output_type": "stream",
     "text": [
      "[I 2020-07-17 08:31:55,741] Finished trial#186 with value: 0.0007706045993792163 with parameters: {'Learning Rate': 0.005078137126082044, 'Dropout Rate': 0.0, 'Latent Size': 16, 'Optimizer': 'Adam', 'Frequency Bins': 60, 'Time Steps': 20, 'Hidden Layers': 2, 'L2 Regularization': 3.2505462799543227e-06}. Best is trial#120 with value: 0.0006348464943696069.\n"
     ]
    },
    {
     "name": "stdout",
     "output_type": "stream",
     "text": [
      "epoch : 0/30, loss = 0.005916\n"
     ]
    },
    {
     "name": "stderr",
     "output_type": "stream",
     "text": [
      "[I 2020-07-17 08:32:16,193] Setting status of trial#187 as TrialState.PRUNED. \n"
     ]
    },
    {
     "name": "stdout",
     "output_type": "stream",
     "text": [
      "epoch : 0/30, loss = 0.002856\n"
     ]
    },
    {
     "name": "stderr",
     "output_type": "stream",
     "text": [
      "[I 2020-07-17 08:32:40,844] Setting status of trial#188 as TrialState.PRUNED. \n"
     ]
    },
    {
     "name": "stdout",
     "output_type": "stream",
     "text": [
      "epoch : 0/30, loss = 0.002040\n"
     ]
    },
    {
     "name": "stderr",
     "output_type": "stream",
     "text": [
      "[I 2020-07-17 08:33:07,113] Setting status of trial#189 as TrialState.PRUNED. \n"
     ]
    },
    {
     "name": "stdout",
     "output_type": "stream",
     "text": [
      "epoch : 0/30, loss = 0.002918\n"
     ]
    },
    {
     "name": "stderr",
     "output_type": "stream",
     "text": [
      "[I 2020-07-17 08:33:27,070] Setting status of trial#190 as TrialState.PRUNED. \n"
     ]
    },
    {
     "name": "stdout",
     "output_type": "stream",
     "text": [
      "epoch : 0/30, loss = 0.002832\n"
     ]
    },
    {
     "name": "stderr",
     "output_type": "stream",
     "text": [
      "[I 2020-07-17 08:33:46,986] Setting status of trial#191 as TrialState.PRUNED. \n"
     ]
    },
    {
     "name": "stdout",
     "output_type": "stream",
     "text": [
      "epoch : 0/30, loss = 0.001935\n",
      "epoch : 3/30, loss = 0.001172\n",
      "epoch : 6/30, loss = 0.001090\n",
      "epoch : 9/30, loss = 0.001010\n",
      "epoch : 12/30, loss = 0.000992\n",
      "epoch : 15/30, loss = 0.000949\n",
      "epoch : 18/30, loss = 0.000915\n",
      "epoch : 21/30, loss = 0.000871\n",
      "epoch : 24/30, loss = 0.000846\n",
      "epoch : 27/30, loss = 0.000819\n"
     ]
    },
    {
     "name": "stderr",
     "output_type": "stream",
     "text": [
      "[I 2020-07-17 08:37:01,385] Finished trial#192 with value: 0.0008025770093392552 with parameters: {'Learning Rate': 0.005353539103154354, 'Dropout Rate': 0.0, 'Latent Size': 16, 'Optimizer': 'Adam', 'Frequency Bins': 60, 'Time Steps': 20, 'Hidden Layers': 2, 'L2 Regularization': 1.8800540577514469e-06}. Best is trial#120 with value: 0.0006348464943696069.\n"
     ]
    },
    {
     "name": "stdout",
     "output_type": "stream",
     "text": [
      "epoch : 0/30, loss = 0.004684\n"
     ]
    },
    {
     "name": "stderr",
     "output_type": "stream",
     "text": [
      "[I 2020-07-17 08:37:27,211] Setting status of trial#193 as TrialState.PRUNED. \n"
     ]
    },
    {
     "name": "stdout",
     "output_type": "stream",
     "text": [
      "epoch : 0/30, loss = 0.002656\n",
      "epoch : 3/30, loss = 0.002222\n",
      "epoch : 6/30, loss = 0.002223\n",
      "epoch : 9/30, loss = 0.002200\n",
      "epoch : 12/30, loss = 0.002181\n",
      "epoch : 15/30, loss = 0.002154\n",
      "epoch : 18/30, loss = 0.002224\n",
      "epoch : 21/30, loss = 0.002083\n",
      "epoch : 24/30, loss = 0.002067\n",
      "epoch : 27/30, loss = 0.002074\n"
     ]
    },
    {
     "name": "stderr",
     "output_type": "stream",
     "text": [
      "[I 2020-07-17 08:40:31,471] Finished trial#194 with value: 0.002069346207275788 with parameters: {'Learning Rate': 0.01765812878042653, 'Dropout Rate': 0.2, 'Latent Size': 16, 'Optimizer': 'Adam', 'Frequency Bins': 30, 'Time Steps': 20, 'Hidden Layers': 1, 'L2 Regularization': 2.6400969885407336e-06}. Best is trial#120 with value: 0.0006348464943696069.\n"
     ]
    },
    {
     "name": "stdout",
     "output_type": "stream",
     "text": [
      "epoch : 0/30, loss = 0.003068\n"
     ]
    },
    {
     "name": "stderr",
     "output_type": "stream",
     "text": [
      "[I 2020-07-17 08:40:51,224] Setting status of trial#195 as TrialState.PRUNED. \n"
     ]
    },
    {
     "name": "stdout",
     "output_type": "stream",
     "text": [
      "epoch : 0/30, loss = 0.003700\n",
      "epoch : 3/30, loss = 0.001779\n",
      "epoch : 6/30, loss = 0.001542\n",
      "epoch : 9/30, loss = 0.001443\n",
      "epoch : 12/30, loss = 0.001390\n",
      "epoch : 15/30, loss = 0.001359\n",
      "epoch : 18/30, loss = 0.001332\n",
      "epoch : 21/30, loss = 0.001274\n",
      "epoch : 24/30, loss = 0.000963\n",
      "epoch : 27/30, loss = 0.000937\n"
     ]
    },
    {
     "name": "stderr",
     "output_type": "stream",
     "text": [
      "[I 2020-07-17 08:43:21,310] Finished trial#196 with value: 0.0009126665489659254 with parameters: {'Learning Rate': 0.0004995745830738592, 'Dropout Rate': 0.2, 'Latent Size': 64, 'Optimizer': 'Adam', 'Frequency Bins': 60, 'Time Steps': 10, 'Hidden Layers': 1, 'L2 Regularization': 6.780783672207651e-06}. Best is trial#120 with value: 0.0006348464943696069.\n"
     ]
    },
    {
     "name": "stdout",
     "output_type": "stream",
     "text": [
      "epoch : 0/30, loss = 0.005502\n",
      "epoch : 3/30, loss = 0.004496\n",
      "epoch : 6/30, loss = 0.004270\n"
     ]
    },
    {
     "name": "stderr",
     "output_type": "stream",
     "text": [
      "[I 2020-07-17 08:44:22,503] Setting status of trial#197 as TrialState.PRUNED. \n"
     ]
    },
    {
     "name": "stdout",
     "output_type": "stream",
     "text": [
      "epoch : 0/30, loss = 0.001917\n",
      "epoch : 3/30, loss = 0.001197\n",
      "epoch : 6/30, loss = 0.001019\n",
      "epoch : 9/30, loss = 0.000965\n",
      "epoch : 12/30, loss = 0.000959\n",
      "epoch : 15/30, loss = 0.000930\n",
      "epoch : 18/30, loss = 0.000933\n",
      "epoch : 21/30, loss = 0.000927\n",
      "epoch : 24/30, loss = 0.000907\n",
      "epoch : 27/30, loss = 0.000887\n"
     ]
    },
    {
     "name": "stderr",
     "output_type": "stream",
     "text": [
      "[I 2020-07-17 08:47:36,789] Finished trial#198 with value: 0.0008733564515008043 with parameters: {'Learning Rate': 0.005125979719781767, 'Dropout Rate': 0.0, 'Latent Size': 16, 'Optimizer': 'Adam', 'Frequency Bins': 60, 'Time Steps': 20, 'Hidden Layers': 2, 'L2 Regularization': 2.446651985168221e-06}. Best is trial#120 with value: 0.0006348464943696069.\n"
     ]
    },
    {
     "name": "stdout",
     "output_type": "stream",
     "text": [
      "epoch : 0/30, loss = 0.008788\n"
     ]
    },
    {
     "name": "stderr",
     "output_type": "stream",
     "text": [
      "[I 2020-07-17 08:48:02,829] Setting status of trial#199 as TrialState.PRUNED. \n"
     ]
    }
   ],
   "source": [
    "def objective(trial):\n",
    "\n",
    "    #hyper params\n",
    "    learning_rate = trial.suggest_uniform('Learning Rate', 1e-4,1e-1)\n",
    "    dropout_rate = trial.suggest_discrete_uniform('Dropout Rate', 0,0.5,0.1)\n",
    "    latent_size = trial.suggest_categorical('Latent Size',[4, 16, 64])\n",
    "    optimizer_type = trial.suggest_categorical('Optimizer', ['Adam', 'SGD'])\n",
    "    FREQ_BINS = trial.suggest_categorical('Frequency Bins', [10, 30, 60])\n",
    "    TIME_STEPS = trial.suggest_categorical('Time Steps', [5, 10, 20])\n",
    "    hidden_layers= trial.suggest_int('Hidden Layers', 1, 2)\n",
    "    l2=trial.suggest_loguniform('L2 Regularization', 1e-6,1e-1)\n",
    "\n",
    "    spec_dimension=FREQ_BINS*TIME_STEPS\n",
    "\n",
    "    criterion=nn.MSELoss()\n",
    "    \n",
    "    #make model\n",
    "    if hidden_layers==1:\n",
    "        model = AE_Linear_1H(input_shape=spec_dimension,compression_dim=latent_size,dropout_rate=dropout_rate).to(device)\n",
    "    else:\n",
    "        model = AE_Linear_2H(input_shape=spec_dimension,compression_dim=latent_size,dropout_rate=dropout_rate).to(device)\n",
    "    \n",
    "    if optimizer_type==\"Adam\":\n",
    "        optimizer = optim.Adam(model.parameters(), lr=learning_rate,weight_decay=l2)\n",
    "    elif optimizer_type==\"SGD\":\n",
    "        optimizer=optim.SGD(model.parameters(), lr=learning_rate, momentum=0.9,weight_decay=l2)\n",
    "    #make dataloader \n",
    "    ptTune=tv.transforms.Compose([specTrans(FREQ_BINS,time_steps=TIME_STEPS)])\n",
    "    spec_data_train_nosynth = audioDataset(train_synthless,\".\",task=\"dvn\", transform=ptTune)\n",
    "    spec_train_nosynth_loader= DataLoader(spec_data_train_nosynth, batch_size=16,shuffle=True, num_workers=8)\n",
    "    \n",
    "    #train\n",
    "    epochs=30\n",
    "    for epoch in range(epochs):\n",
    "        loss = 0\n",
    "        for batch_features in spec_train_nosynth_loader:\n",
    "            batch_features=batch_features[\"feats\"]\n",
    "            batch_features = batch_features.view(-1, spec_dimension).to(device)\n",
    "            optimizer.zero_grad()\n",
    "            outputs = model(batch_features)\n",
    "            train_loss = criterion(outputs, batch_features)\n",
    "            train_loss.backward()\n",
    "            optimizer.step()\n",
    "            loss += train_loss.item()\n",
    "\n",
    "        loss = loss / len(spec_train_nosynth_loader)\n",
    "        trial.report(loss, epoch)   \n",
    "        if epoch%3==0:\n",
    "            if trial.should_prune():\n",
    "                raise optuna.TrialPruned()\n",
    "            print(\"epoch : {}/{}, loss = {:.6f}\".format(epoch, epochs, loss))\n",
    "    return loss\n",
    "study = optuna.create_study(study_name='Study_FullyConnected',sampler=optuna.samplers.TPESampler(), \n",
    "                            pruner=optuna.pruners.HyperbandPruner(), storage='sqlite:///optuna_studies.db',load_if_exists=True)\n",
    "study.optimize(objective, n_trials=200)"
   ]
  },
  {
   "cell_type": "code",
   "execution_count": 8,
   "metadata": {},
   "outputs": [
    {
     "ename": "NameError",
     "evalue": "name 'study2' is not defined",
     "output_type": "error",
     "traceback": [
      "\u001b[0;31m---------------------------------------------------------------------------\u001b[0m",
      "\u001b[0;31mNameError\u001b[0m                                 Traceback (most recent call last)",
      "\u001b[0;32m<ipython-input-8-d5493770bd0d>\u001b[0m in \u001b[0;36m<module>\u001b[0;34m\u001b[0m\n\u001b[0;32m----> 1\u001b[0;31m \u001b[0moptuna\u001b[0m\u001b[0;34m.\u001b[0m\u001b[0mvisualization\u001b[0m\u001b[0;34m.\u001b[0m\u001b[0mplot_intermediate_values\u001b[0m\u001b[0;34m(\u001b[0m\u001b[0mstudy2\u001b[0m\u001b[0;34m)\u001b[0m\u001b[0;34m\u001b[0m\u001b[0;34m\u001b[0m\u001b[0m\n\u001b[0m",
      "\u001b[0;31mNameError\u001b[0m: name 'study2' is not defined"
     ]
    }
   ],
   "source": [
    "optuna.visualization.plot_intermediate_values(study2)"
   ]
  },
  {
   "cell_type": "code",
   "execution_count": 34,
   "metadata": {},
   "outputs": [
    {
     "data": {
      "application/vnd.plotly.v1+json": {
       "config": {
        "plotlyServerURL": "https://plot.ly"
       },
       "data": [
        {
         "marker": {
          "maxdisplayed": 10
         },
         "mode": "lines+markers",
         "name": "Trial4",
         "type": "scatter",
         "x": [
          0,
          3
         ],
         "y": [
          0.009968400232579189,
          0.009257681966396689
         ]
        },
        {
         "marker": {
          "maxdisplayed": 10
         },
         "mode": "lines+markers",
         "name": "Trial5",
         "type": "scatter",
         "x": [
          0,
          3
         ],
         "y": [
          0.005655973900877337,
          0.004243562673396282
         ]
        },
        {
         "marker": {
          "maxdisplayed": 10
         },
         "mode": "lines+markers",
         "name": "Trial6",
         "type": "scatter",
         "x": [
          0,
          3
         ],
         "y": [
          0.007379257653391998,
          0.007158041494464829
         ]
        },
        {
         "marker": {
          "maxdisplayed": 10
         },
         "mode": "lines+markers",
         "name": "Trial7",
         "type": "scatter",
         "x": [
          0,
          3
         ],
         "y": [
          0.003354874530181516,
          0.0027378283588585395
         ]
        },
        {
         "marker": {
          "maxdisplayed": 10
         },
         "mode": "lines+markers",
         "name": "Trial8",
         "type": "scatter",
         "x": [
          0,
          3
         ],
         "y": [
          0.027781167330632683,
          0.016951500658543055
         ]
        },
        {
         "marker": {
          "maxdisplayed": 10
         },
         "mode": "lines+markers",
         "name": "Trial9",
         "type": "scatter",
         "x": [
          0,
          3
         ],
         "y": [
          0.01170181982816403,
          0.011211501711709353
         ]
        },
        {
         "marker": {
          "maxdisplayed": 10
         },
         "mode": "lines+markers",
         "name": "Trial10",
         "type": "scatter",
         "x": [
          0,
          3
         ],
         "y": [
          0.005469458651345024,
          0.003870062207899106
         ]
        },
        {
         "marker": {
          "maxdisplayed": 10
         },
         "mode": "lines+markers",
         "name": "Trial11",
         "type": "scatter",
         "x": [
          0,
          3
         ],
         "y": [
          0.010214815605858355,
          0.005118728661554233
         ]
        },
        {
         "marker": {
          "maxdisplayed": 10
         },
         "mode": "lines+markers",
         "name": "Trial12",
         "type": "scatter",
         "x": [
          0,
          3
         ],
         "y": [
          0.007411992820761814,
          0.0073382382508623235
         ]
        },
        {
         "marker": {
          "maxdisplayed": 10
         },
         "mode": "lines+markers",
         "name": "Trial13",
         "type": "scatter",
         "x": [
          0,
          3
         ],
         "y": [
          0.013014909534053948,
          0.010643758498245979
         ]
        }
       ],
       "layout": {
        "autosize": true,
        "showlegend": false,
        "template": {
         "data": {
          "bar": [
           {
            "error_x": {
             "color": "#2a3f5f"
            },
            "error_y": {
             "color": "#2a3f5f"
            },
            "marker": {
             "line": {
              "color": "#E5ECF6",
              "width": 0.5
             }
            },
            "type": "bar"
           }
          ],
          "barpolar": [
           {
            "marker": {
             "line": {
              "color": "#E5ECF6",
              "width": 0.5
             }
            },
            "type": "barpolar"
           }
          ],
          "carpet": [
           {
            "aaxis": {
             "endlinecolor": "#2a3f5f",
             "gridcolor": "white",
             "linecolor": "white",
             "minorgridcolor": "white",
             "startlinecolor": "#2a3f5f"
            },
            "baxis": {
             "endlinecolor": "#2a3f5f",
             "gridcolor": "white",
             "linecolor": "white",
             "minorgridcolor": "white",
             "startlinecolor": "#2a3f5f"
            },
            "type": "carpet"
           }
          ],
          "choropleth": [
           {
            "colorbar": {
             "outlinewidth": 0,
             "ticks": ""
            },
            "type": "choropleth"
           }
          ],
          "contour": [
           {
            "colorbar": {
             "outlinewidth": 0,
             "ticks": ""
            },
            "colorscale": [
             [
              0,
              "#0d0887"
             ],
             [
              0.1111111111111111,
              "#46039f"
             ],
             [
              0.2222222222222222,
              "#7201a8"
             ],
             [
              0.3333333333333333,
              "#9c179e"
             ],
             [
              0.4444444444444444,
              "#bd3786"
             ],
             [
              0.5555555555555556,
              "#d8576b"
             ],
             [
              0.6666666666666666,
              "#ed7953"
             ],
             [
              0.7777777777777778,
              "#fb9f3a"
             ],
             [
              0.8888888888888888,
              "#fdca26"
             ],
             [
              1,
              "#f0f921"
             ]
            ],
            "type": "contour"
           }
          ],
          "contourcarpet": [
           {
            "colorbar": {
             "outlinewidth": 0,
             "ticks": ""
            },
            "type": "contourcarpet"
           }
          ],
          "heatmap": [
           {
            "colorbar": {
             "outlinewidth": 0,
             "ticks": ""
            },
            "colorscale": [
             [
              0,
              "#0d0887"
             ],
             [
              0.1111111111111111,
              "#46039f"
             ],
             [
              0.2222222222222222,
              "#7201a8"
             ],
             [
              0.3333333333333333,
              "#9c179e"
             ],
             [
              0.4444444444444444,
              "#bd3786"
             ],
             [
              0.5555555555555556,
              "#d8576b"
             ],
             [
              0.6666666666666666,
              "#ed7953"
             ],
             [
              0.7777777777777778,
              "#fb9f3a"
             ],
             [
              0.8888888888888888,
              "#fdca26"
             ],
             [
              1,
              "#f0f921"
             ]
            ],
            "type": "heatmap"
           }
          ],
          "heatmapgl": [
           {
            "colorbar": {
             "outlinewidth": 0,
             "ticks": ""
            },
            "colorscale": [
             [
              0,
              "#0d0887"
             ],
             [
              0.1111111111111111,
              "#46039f"
             ],
             [
              0.2222222222222222,
              "#7201a8"
             ],
             [
              0.3333333333333333,
              "#9c179e"
             ],
             [
              0.4444444444444444,
              "#bd3786"
             ],
             [
              0.5555555555555556,
              "#d8576b"
             ],
             [
              0.6666666666666666,
              "#ed7953"
             ],
             [
              0.7777777777777778,
              "#fb9f3a"
             ],
             [
              0.8888888888888888,
              "#fdca26"
             ],
             [
              1,
              "#f0f921"
             ]
            ],
            "type": "heatmapgl"
           }
          ],
          "histogram": [
           {
            "marker": {
             "colorbar": {
              "outlinewidth": 0,
              "ticks": ""
             }
            },
            "type": "histogram"
           }
          ],
          "histogram2d": [
           {
            "colorbar": {
             "outlinewidth": 0,
             "ticks": ""
            },
            "colorscale": [
             [
              0,
              "#0d0887"
             ],
             [
              0.1111111111111111,
              "#46039f"
             ],
             [
              0.2222222222222222,
              "#7201a8"
             ],
             [
              0.3333333333333333,
              "#9c179e"
             ],
             [
              0.4444444444444444,
              "#bd3786"
             ],
             [
              0.5555555555555556,
              "#d8576b"
             ],
             [
              0.6666666666666666,
              "#ed7953"
             ],
             [
              0.7777777777777778,
              "#fb9f3a"
             ],
             [
              0.8888888888888888,
              "#fdca26"
             ],
             [
              1,
              "#f0f921"
             ]
            ],
            "type": "histogram2d"
           }
          ],
          "histogram2dcontour": [
           {
            "colorbar": {
             "outlinewidth": 0,
             "ticks": ""
            },
            "colorscale": [
             [
              0,
              "#0d0887"
             ],
             [
              0.1111111111111111,
              "#46039f"
             ],
             [
              0.2222222222222222,
              "#7201a8"
             ],
             [
              0.3333333333333333,
              "#9c179e"
             ],
             [
              0.4444444444444444,
              "#bd3786"
             ],
             [
              0.5555555555555556,
              "#d8576b"
             ],
             [
              0.6666666666666666,
              "#ed7953"
             ],
             [
              0.7777777777777778,
              "#fb9f3a"
             ],
             [
              0.8888888888888888,
              "#fdca26"
             ],
             [
              1,
              "#f0f921"
             ]
            ],
            "type": "histogram2dcontour"
           }
          ],
          "mesh3d": [
           {
            "colorbar": {
             "outlinewidth": 0,
             "ticks": ""
            },
            "type": "mesh3d"
           }
          ],
          "parcoords": [
           {
            "line": {
             "colorbar": {
              "outlinewidth": 0,
              "ticks": ""
             }
            },
            "type": "parcoords"
           }
          ],
          "pie": [
           {
            "automargin": true,
            "type": "pie"
           }
          ],
          "scatter": [
           {
            "marker": {
             "colorbar": {
              "outlinewidth": 0,
              "ticks": ""
             }
            },
            "type": "scatter"
           }
          ],
          "scatter3d": [
           {
            "line": {
             "colorbar": {
              "outlinewidth": 0,
              "ticks": ""
             }
            },
            "marker": {
             "colorbar": {
              "outlinewidth": 0,
              "ticks": ""
             }
            },
            "type": "scatter3d"
           }
          ],
          "scattercarpet": [
           {
            "marker": {
             "colorbar": {
              "outlinewidth": 0,
              "ticks": ""
             }
            },
            "type": "scattercarpet"
           }
          ],
          "scattergeo": [
           {
            "marker": {
             "colorbar": {
              "outlinewidth": 0,
              "ticks": ""
             }
            },
            "type": "scattergeo"
           }
          ],
          "scattergl": [
           {
            "marker": {
             "colorbar": {
              "outlinewidth": 0,
              "ticks": ""
             }
            },
            "type": "scattergl"
           }
          ],
          "scattermapbox": [
           {
            "marker": {
             "colorbar": {
              "outlinewidth": 0,
              "ticks": ""
             }
            },
            "type": "scattermapbox"
           }
          ],
          "scatterpolar": [
           {
            "marker": {
             "colorbar": {
              "outlinewidth": 0,
              "ticks": ""
             }
            },
            "type": "scatterpolar"
           }
          ],
          "scatterpolargl": [
           {
            "marker": {
             "colorbar": {
              "outlinewidth": 0,
              "ticks": ""
             }
            },
            "type": "scatterpolargl"
           }
          ],
          "scatterternary": [
           {
            "marker": {
             "colorbar": {
              "outlinewidth": 0,
              "ticks": ""
             }
            },
            "type": "scatterternary"
           }
          ],
          "surface": [
           {
            "colorbar": {
             "outlinewidth": 0,
             "ticks": ""
            },
            "colorscale": [
             [
              0,
              "#0d0887"
             ],
             [
              0.1111111111111111,
              "#46039f"
             ],
             [
              0.2222222222222222,
              "#7201a8"
             ],
             [
              0.3333333333333333,
              "#9c179e"
             ],
             [
              0.4444444444444444,
              "#bd3786"
             ],
             [
              0.5555555555555556,
              "#d8576b"
             ],
             [
              0.6666666666666666,
              "#ed7953"
             ],
             [
              0.7777777777777778,
              "#fb9f3a"
             ],
             [
              0.8888888888888888,
              "#fdca26"
             ],
             [
              1,
              "#f0f921"
             ]
            ],
            "type": "surface"
           }
          ],
          "table": [
           {
            "cells": {
             "fill": {
              "color": "#EBF0F8"
             },
             "line": {
              "color": "white"
             }
            },
            "header": {
             "fill": {
              "color": "#C8D4E3"
             },
             "line": {
              "color": "white"
             }
            },
            "type": "table"
           }
          ]
         },
         "layout": {
          "annotationdefaults": {
           "arrowcolor": "#2a3f5f",
           "arrowhead": 0,
           "arrowwidth": 1
          },
          "coloraxis": {
           "colorbar": {
            "outlinewidth": 0,
            "ticks": ""
           }
          },
          "colorscale": {
           "diverging": [
            [
             0,
             "#8e0152"
            ],
            [
             0.1,
             "#c51b7d"
            ],
            [
             0.2,
             "#de77ae"
            ],
            [
             0.3,
             "#f1b6da"
            ],
            [
             0.4,
             "#fde0ef"
            ],
            [
             0.5,
             "#f7f7f7"
            ],
            [
             0.6,
             "#e6f5d0"
            ],
            [
             0.7,
             "#b8e186"
            ],
            [
             0.8,
             "#7fbc41"
            ],
            [
             0.9,
             "#4d9221"
            ],
            [
             1,
             "#276419"
            ]
           ],
           "sequential": [
            [
             0,
             "#0d0887"
            ],
            [
             0.1111111111111111,
             "#46039f"
            ],
            [
             0.2222222222222222,
             "#7201a8"
            ],
            [
             0.3333333333333333,
             "#9c179e"
            ],
            [
             0.4444444444444444,
             "#bd3786"
            ],
            [
             0.5555555555555556,
             "#d8576b"
            ],
            [
             0.6666666666666666,
             "#ed7953"
            ],
            [
             0.7777777777777778,
             "#fb9f3a"
            ],
            [
             0.8888888888888888,
             "#fdca26"
            ],
            [
             1,
             "#f0f921"
            ]
           ],
           "sequentialminus": [
            [
             0,
             "#0d0887"
            ],
            [
             0.1111111111111111,
             "#46039f"
            ],
            [
             0.2222222222222222,
             "#7201a8"
            ],
            [
             0.3333333333333333,
             "#9c179e"
            ],
            [
             0.4444444444444444,
             "#bd3786"
            ],
            [
             0.5555555555555556,
             "#d8576b"
            ],
            [
             0.6666666666666666,
             "#ed7953"
            ],
            [
             0.7777777777777778,
             "#fb9f3a"
            ],
            [
             0.8888888888888888,
             "#fdca26"
            ],
            [
             1,
             "#f0f921"
            ]
           ]
          },
          "colorway": [
           "#636efa",
           "#EF553B",
           "#00cc96",
           "#ab63fa",
           "#FFA15A",
           "#19d3f3",
           "#FF6692",
           "#B6E880",
           "#FF97FF",
           "#FECB52"
          ],
          "font": {
           "color": "#2a3f5f"
          },
          "geo": {
           "bgcolor": "white",
           "lakecolor": "white",
           "landcolor": "#E5ECF6",
           "showlakes": true,
           "showland": true,
           "subunitcolor": "white"
          },
          "hoverlabel": {
           "align": "left"
          },
          "hovermode": "closest",
          "mapbox": {
           "style": "light"
          },
          "paper_bgcolor": "white",
          "plot_bgcolor": "#E5ECF6",
          "polar": {
           "angularaxis": {
            "gridcolor": "white",
            "linecolor": "white",
            "ticks": ""
           },
           "bgcolor": "#E5ECF6",
           "radialaxis": {
            "gridcolor": "white",
            "linecolor": "white",
            "ticks": ""
           }
          },
          "scene": {
           "xaxis": {
            "backgroundcolor": "#E5ECF6",
            "gridcolor": "white",
            "gridwidth": 2,
            "linecolor": "white",
            "showbackground": true,
            "ticks": "",
            "zerolinecolor": "white"
           },
           "yaxis": {
            "backgroundcolor": "#E5ECF6",
            "gridcolor": "white",
            "gridwidth": 2,
            "linecolor": "white",
            "showbackground": true,
            "ticks": "",
            "zerolinecolor": "white"
           },
           "zaxis": {
            "backgroundcolor": "#E5ECF6",
            "gridcolor": "white",
            "gridwidth": 2,
            "linecolor": "white",
            "showbackground": true,
            "ticks": "",
            "zerolinecolor": "white"
           }
          },
          "shapedefaults": {
           "line": {
            "color": "#2a3f5f"
           }
          },
          "ternary": {
           "aaxis": {
            "gridcolor": "white",
            "linecolor": "white",
            "ticks": ""
           },
           "baxis": {
            "gridcolor": "white",
            "linecolor": "white",
            "ticks": ""
           },
           "bgcolor": "#E5ECF6",
           "caxis": {
            "gridcolor": "white",
            "linecolor": "white",
            "ticks": ""
           }
          },
          "title": {
           "x": 0.05
          },
          "xaxis": {
           "automargin": true,
           "gridcolor": "white",
           "linecolor": "white",
           "ticks": "",
           "title": {
            "standoff": 15
           },
           "zerolinecolor": "white",
           "zerolinewidth": 2
          },
          "yaxis": {
           "automargin": true,
           "gridcolor": "white",
           "linecolor": "white",
           "ticks": "",
           "title": {
            "standoff": 15
           },
           "zerolinecolor": "white",
           "zerolinewidth": 2
          }
         }
        },
        "title": {
         "text": "Intermediate Values Plot"
        },
        "xaxis": {
         "autorange": true,
         "range": [
          -0.17902699495698607,
          3.179026994956986
         ],
         "title": {
          "text": "Step"
         },
         "type": "linear"
        },
        "yaxis": {
         "autorange": true,
         "range": [
          0.0009034436571043825,
          0.02961555203238684
         ],
         "title": {
          "text": "Intermediate Value"
         },
         "type": "linear"
        }
       }
      },
      "image/png": "[encoded data removed]",
      "text/html": [
       "<div>\n",
       "        \n",
       "        \n",
       "            <div id=\"1ae5edd2-cedb-4985-9690-37f1e1ab65e5\" class=\"plotly-graph-div\" style=\"height:525px; width:100%;\"></div>\n",
       "            <script type=\"text/javascript\">\n",
       "                require([\"plotly\"], function(Plotly) {\n",
       "                    window.PLOTLYENV=window.PLOTLYENV || {};\n",
       "                    \n",
       "                if (document.getElementById(\"1ae5edd2-cedb-4985-9690-37f1e1ab65e5\")) {\n",
       "                    Plotly.newPlot(\n",
       "                        '1ae5edd2-cedb-4985-9690-37f1e1ab65e5',\n",
       "                        [{\"marker\": {\"maxdisplayed\": 10}, \"mode\": \"lines+markers\", \"name\": \"Trial4\", \"type\": \"scatter\", \"x\": [0, 3], \"y\": [0.009968400232579189, 0.009257681966396689]}, {\"marker\": {\"maxdisplayed\": 10}, \"mode\": \"lines+markers\", \"name\": \"Trial5\", \"type\": \"scatter\", \"x\": [0, 3], \"y\": [0.005655973900877337, 0.004243562673396282]}, {\"marker\": {\"maxdisplayed\": 10}, \"mode\": \"lines+markers\", \"name\": \"Trial6\", \"type\": \"scatter\", \"x\": [0, 3], \"y\": [0.007379257653391998, 0.007158041494464829]}, {\"marker\": {\"maxdisplayed\": 10}, \"mode\": \"lines+markers\", \"name\": \"Trial7\", \"type\": \"scatter\", \"x\": [0, 3], \"y\": [0.003354874530181516, 0.0027378283588585395]}, {\"marker\": {\"maxdisplayed\": 10}, \"mode\": \"lines+markers\", \"name\": \"Trial8\", \"type\": \"scatter\", \"x\": [0, 3], \"y\": [0.027781167330632683, 0.016951500658543055]}, {\"marker\": {\"maxdisplayed\": 10}, \"mode\": \"lines+markers\", \"name\": \"Trial9\", \"type\": \"scatter\", \"x\": [0, 3], \"y\": [0.01170181982816403, 0.011211501711709353]}, {\"marker\": {\"maxdisplayed\": 10}, \"mode\": \"lines+markers\", \"name\": \"Trial10\", \"type\": \"scatter\", \"x\": [0, 3], \"y\": [0.005469458651345024, 0.003870062207899106]}, {\"marker\": {\"maxdisplayed\": 10}, \"mode\": \"lines+markers\", \"name\": \"Trial11\", \"type\": \"scatter\", \"x\": [0, 3], \"y\": [0.010214815605858355, 0.005118728661554233]}, {\"marker\": {\"maxdisplayed\": 10}, \"mode\": \"lines+markers\", \"name\": \"Trial12\", \"type\": \"scatter\", \"x\": [0, 3], \"y\": [0.007411992820761814, 0.0073382382508623235]}, {\"marker\": {\"maxdisplayed\": 10}, \"mode\": \"lines+markers\", \"name\": \"Trial13\", \"type\": \"scatter\", \"x\": [0, 3], \"y\": [0.013014909534053948, 0.010643758498245979]}],\n",
       "                        {\"showlegend\": false, \"template\": {\"data\": {\"bar\": [{\"error_x\": {\"color\": \"#2a3f5f\"}, \"error_y\": {\"color\": \"#2a3f5f\"}, \"marker\": {\"line\": {\"color\": \"#E5ECF6\", \"width\": 0.5}}, \"type\": \"bar\"}], \"barpolar\": [{\"marker\": {\"line\": {\"color\": \"#E5ECF6\", \"width\": 0.5}}, \"type\": \"barpolar\"}], \"carpet\": [{\"aaxis\": {\"endlinecolor\": \"#2a3f5f\", \"gridcolor\": \"white\", \"linecolor\": \"white\", \"minorgridcolor\": \"white\", \"startlinecolor\": \"#2a3f5f\"}, \"baxis\": {\"endlinecolor\": \"#2a3f5f\", \"gridcolor\": \"white\", \"linecolor\": \"white\", \"minorgridcolor\": \"white\", \"startlinecolor\": \"#2a3f5f\"}, \"type\": \"carpet\"}], \"choropleth\": [{\"colorbar\": {\"outlinewidth\": 0, \"ticks\": \"\"}, \"type\": \"choropleth\"}], \"contour\": [{\"colorbar\": {\"outlinewidth\": 0, \"ticks\": \"\"}, \"colorscale\": [[0.0, \"#0d0887\"], [0.1111111111111111, \"#46039f\"], [0.2222222222222222, \"#7201a8\"], [0.3333333333333333, \"#9c179e\"], [0.4444444444444444, \"#bd3786\"], [0.5555555555555556, \"#d8576b\"], [0.6666666666666666, \"#ed7953\"], [0.7777777777777778, \"#fb9f3a\"], [0.8888888888888888, \"#fdca26\"], [1.0, \"#f0f921\"]], \"type\": \"contour\"}], \"contourcarpet\": [{\"colorbar\": {\"outlinewidth\": 0, \"ticks\": \"\"}, \"type\": \"contourcarpet\"}], \"heatmap\": [{\"colorbar\": {\"outlinewidth\": 0, \"ticks\": \"\"}, \"colorscale\": [[0.0, \"#0d0887\"], [0.1111111111111111, \"#46039f\"], [0.2222222222222222, \"#7201a8\"], [0.3333333333333333, \"#9c179e\"], [0.4444444444444444, \"#bd3786\"], [0.5555555555555556, \"#d8576b\"], [0.6666666666666666, \"#ed7953\"], [0.7777777777777778, \"#fb9f3a\"], [0.8888888888888888, \"#fdca26\"], [1.0, \"#f0f921\"]], \"type\": \"heatmap\"}], \"heatmapgl\": [{\"colorbar\": {\"outlinewidth\": 0, \"ticks\": \"\"}, \"colorscale\": [[0.0, \"#0d0887\"], [0.1111111111111111, \"#46039f\"], [0.2222222222222222, \"#7201a8\"], [0.3333333333333333, \"#9c179e\"], [0.4444444444444444, \"#bd3786\"], [0.5555555555555556, \"#d8576b\"], [0.6666666666666666, \"#ed7953\"], [0.7777777777777778, \"#fb9f3a\"], [0.8888888888888888, \"#fdca26\"], [1.0, \"#f0f921\"]], \"type\": \"heatmapgl\"}], \"histogram\": [{\"marker\": {\"colorbar\": {\"outlinewidth\": 0, \"ticks\": \"\"}}, \"type\": \"histogram\"}], \"histogram2d\": [{\"colorbar\": {\"outlinewidth\": 0, \"ticks\": \"\"}, \"colorscale\": [[0.0, \"#0d0887\"], [0.1111111111111111, \"#46039f\"], [0.2222222222222222, \"#7201a8\"], [0.3333333333333333, \"#9c179e\"], [0.4444444444444444, \"#bd3786\"], [0.5555555555555556, \"#d8576b\"], [0.6666666666666666, \"#ed7953\"], [0.7777777777777778, \"#fb9f3a\"], [0.8888888888888888, \"#fdca26\"], [1.0, \"#f0f921\"]], \"type\": \"histogram2d\"}], \"histogram2dcontour\": [{\"colorbar\": {\"outlinewidth\": 0, \"ticks\": \"\"}, \"colorscale\": [[0.0, \"#0d0887\"], [0.1111111111111111, \"#46039f\"], [0.2222222222222222, \"#7201a8\"], [0.3333333333333333, \"#9c179e\"], [0.4444444444444444, \"#bd3786\"], [0.5555555555555556, \"#d8576b\"], [0.6666666666666666, \"#ed7953\"], [0.7777777777777778, \"#fb9f3a\"], [0.8888888888888888, \"#fdca26\"], [1.0, \"#f0f921\"]], \"type\": \"histogram2dcontour\"}], \"mesh3d\": [{\"colorbar\": {\"outlinewidth\": 0, \"ticks\": \"\"}, \"type\": \"mesh3d\"}], \"parcoords\": [{\"line\": {\"colorbar\": {\"outlinewidth\": 0, \"ticks\": \"\"}}, \"type\": \"parcoords\"}], \"pie\": [{\"automargin\": true, \"type\": \"pie\"}], \"scatter\": [{\"marker\": {\"colorbar\": {\"outlinewidth\": 0, \"ticks\": \"\"}}, \"type\": \"scatter\"}], \"scatter3d\": [{\"line\": {\"colorbar\": {\"outlinewidth\": 0, \"ticks\": \"\"}}, \"marker\": {\"colorbar\": {\"outlinewidth\": 0, \"ticks\": \"\"}}, \"type\": \"scatter3d\"}], \"scattercarpet\": [{\"marker\": {\"colorbar\": {\"outlinewidth\": 0, \"ticks\": \"\"}}, \"type\": \"scattercarpet\"}], \"scattergeo\": [{\"marker\": {\"colorbar\": {\"outlinewidth\": 0, \"ticks\": \"\"}}, \"type\": \"scattergeo\"}], \"scattergl\": [{\"marker\": {\"colorbar\": {\"outlinewidth\": 0, \"ticks\": \"\"}}, \"type\": \"scattergl\"}], \"scattermapbox\": [{\"marker\": {\"colorbar\": {\"outlinewidth\": 0, \"ticks\": \"\"}}, \"type\": \"scattermapbox\"}], \"scatterpolar\": [{\"marker\": {\"colorbar\": {\"outlinewidth\": 0, \"ticks\": \"\"}}, \"type\": \"scatterpolar\"}], \"scatterpolargl\": [{\"marker\": {\"colorbar\": {\"outlinewidth\": 0, \"ticks\": \"\"}}, \"type\": \"scatterpolargl\"}], \"scatterternary\": [{\"marker\": {\"colorbar\": {\"outlinewidth\": 0, \"ticks\": \"\"}}, \"type\": \"scatterternary\"}], \"surface\": [{\"colorbar\": {\"outlinewidth\": 0, \"ticks\": \"\"}, \"colorscale\": [[0.0, \"#0d0887\"], [0.1111111111111111, \"#46039f\"], [0.2222222222222222, \"#7201a8\"], [0.3333333333333333, \"#9c179e\"], [0.4444444444444444, \"#bd3786\"], [0.5555555555555556, \"#d8576b\"], [0.6666666666666666, \"#ed7953\"], [0.7777777777777778, \"#fb9f3a\"], [0.8888888888888888, \"#fdca26\"], [1.0, \"#f0f921\"]], \"type\": \"surface\"}], \"table\": [{\"cells\": {\"fill\": {\"color\": \"#EBF0F8\"}, \"line\": {\"color\": \"white\"}}, \"header\": {\"fill\": {\"color\": \"#C8D4E3\"}, \"line\": {\"color\": \"white\"}}, \"type\": \"table\"}]}, \"layout\": {\"annotationdefaults\": {\"arrowcolor\": \"#2a3f5f\", \"arrowhead\": 0, \"arrowwidth\": 1}, \"coloraxis\": {\"colorbar\": {\"outlinewidth\": 0, \"ticks\": \"\"}}, \"colorscale\": {\"diverging\": [[0, \"#8e0152\"], [0.1, \"#c51b7d\"], [0.2, \"#de77ae\"], [0.3, \"#f1b6da\"], [0.4, \"#fde0ef\"], [0.5, \"#f7f7f7\"], [0.6, \"#e6f5d0\"], [0.7, \"#b8e186\"], [0.8, \"#7fbc41\"], [0.9, \"#4d9221\"], [1, \"#276419\"]], \"sequential\": [[0.0, \"#0d0887\"], [0.1111111111111111, \"#46039f\"], [0.2222222222222222, \"#7201a8\"], [0.3333333333333333, \"#9c179e\"], [0.4444444444444444, \"#bd3786\"], [0.5555555555555556, \"#d8576b\"], [0.6666666666666666, \"#ed7953\"], [0.7777777777777778, \"#fb9f3a\"], [0.8888888888888888, \"#fdca26\"], [1.0, \"#f0f921\"]], \"sequentialminus\": [[0.0, \"#0d0887\"], [0.1111111111111111, \"#46039f\"], [0.2222222222222222, \"#7201a8\"], [0.3333333333333333, \"#9c179e\"], [0.4444444444444444, \"#bd3786\"], [0.5555555555555556, \"#d8576b\"], [0.6666666666666666, \"#ed7953\"], [0.7777777777777778, \"#fb9f3a\"], [0.8888888888888888, \"#fdca26\"], [1.0, \"#f0f921\"]]}, \"colorway\": [\"#636efa\", \"#EF553B\", \"#00cc96\", \"#ab63fa\", \"#FFA15A\", \"#19d3f3\", \"#FF6692\", \"#B6E880\", \"#FF97FF\", \"#FECB52\"], \"font\": {\"color\": \"#2a3f5f\"}, \"geo\": {\"bgcolor\": \"white\", \"lakecolor\": \"white\", \"landcolor\": \"#E5ECF6\", \"showlakes\": true, \"showland\": true, \"subunitcolor\": \"white\"}, \"hoverlabel\": {\"align\": \"left\"}, \"hovermode\": \"closest\", \"mapbox\": {\"style\": \"light\"}, \"paper_bgcolor\": \"white\", \"plot_bgcolor\": \"#E5ECF6\", \"polar\": {\"angularaxis\": {\"gridcolor\": \"white\", \"linecolor\": \"white\", \"ticks\": \"\"}, \"bgcolor\": \"#E5ECF6\", \"radialaxis\": {\"gridcolor\": \"white\", \"linecolor\": \"white\", \"ticks\": \"\"}}, \"scene\": {\"xaxis\": {\"backgroundcolor\": \"#E5ECF6\", \"gridcolor\": \"white\", \"gridwidth\": 2, \"linecolor\": \"white\", \"showbackground\": true, \"ticks\": \"\", \"zerolinecolor\": \"white\"}, \"yaxis\": {\"backgroundcolor\": \"#E5ECF6\", \"gridcolor\": \"white\", \"gridwidth\": 2, \"linecolor\": \"white\", \"showbackground\": true, \"ticks\": \"\", \"zerolinecolor\": \"white\"}, \"zaxis\": {\"backgroundcolor\": \"#E5ECF6\", \"gridcolor\": \"white\", \"gridwidth\": 2, \"linecolor\": \"white\", \"showbackground\": true, \"ticks\": \"\", \"zerolinecolor\": \"white\"}}, \"shapedefaults\": {\"line\": {\"color\": \"#2a3f5f\"}}, \"ternary\": {\"aaxis\": {\"gridcolor\": \"white\", \"linecolor\": \"white\", \"ticks\": \"\"}, \"baxis\": {\"gridcolor\": \"white\", \"linecolor\": \"white\", \"ticks\": \"\"}, \"bgcolor\": \"#E5ECF6\", \"caxis\": {\"gridcolor\": \"white\", \"linecolor\": \"white\", \"ticks\": \"\"}}, \"title\": {\"x\": 0.05}, \"xaxis\": {\"automargin\": true, \"gridcolor\": \"white\", \"linecolor\": \"white\", \"ticks\": \"\", \"title\": {\"standoff\": 15}, \"zerolinecolor\": \"white\", \"zerolinewidth\": 2}, \"yaxis\": {\"automargin\": true, \"gridcolor\": \"white\", \"linecolor\": \"white\", \"ticks\": \"\", \"title\": {\"standoff\": 15}, \"zerolinecolor\": \"white\", \"zerolinewidth\": 2}}}, \"title\": {\"text\": \"Intermediate Values Plot\"}, \"xaxis\": {\"title\": {\"text\": \"Step\"}}, \"yaxis\": {\"title\": {\"text\": \"Intermediate Value\"}}},\n",
       "                        {\"responsive\": true}\n",
       "                    ).then(function(){\n",
       "                            \n",
       "var gd = document.getElementById('1ae5edd2-cedb-4985-9690-37f1e1ab65e5');\n",
       "var x = new MutationObserver(function (mutations, observer) {{\n",
       "        var display = window.getComputedStyle(gd).display;\n",
       "        if (!display || display === 'none') {{\n",
       "            console.log([gd, 'removed!']);\n",
       "            Plotly.purge(gd);\n",
       "            observer.disconnect();\n",
       "        }}\n",
       "}});\n",
       "\n",
       "// Listen for the removal of the full notebook cells\n",
       "var notebookContainer = gd.closest('#notebook-container');\n",
       "if (notebookContainer) {{\n",
       "    x.observe(notebookContainer, {childList: true});\n",
       "}}\n",
       "\n",
       "// Listen for the clearing of the current output cell\n",
       "var outputEl = gd.closest('.output');\n",
       "if (outputEl) {{\n",
       "    x.observe(outputEl, {childList: true});\n",
       "}}\n",
       "\n",
       "                        })\n",
       "                };\n",
       "                });\n",
       "            </script>\n",
       "        </div>"
      ]
     },
     "metadata": {},
     "output_type": "display_data"
    }
   ],
   "source": []
  },
  {
   "cell_type": "code",
   "execution_count": 151,
   "metadata": {},
   "outputs": [
    {
     "name": "stdout",
     "output_type": "stream",
     "text": [
      "Best trial until now:\n",
      " Value:  0.00039813510886080674\n",
      " Params: \n",
      "    learning_rate: 0.0020574791074529975\n",
      "    dropout_rate: 0\n",
      "    latent_size: 64\n",
      "    frequency_bins: 30\n",
      "    time_steps: 20\n",
      "    hidden_layers: 1\n",
      "    l2: 1.0494963315643493e-06\n"
     ]
    }
   ],
   "source": [
    "import joblib\n",
    "joblib.dump(study, 'study2.pkl')\n",
    "study2 = joblib.load('study2.pkl')\n",
    "print('Best trial until now:')\n",
    "print(' Value: ', study2.best_trial.value)\n",
    "print(' Params: ')\n",
    "for key, value in study2.best_trial.params.items():\n",
    "    print(f'    {key}: {value}')"
   ]
  }
 ],
 "metadata": {
  "kernelspec": {
   "display_name": "Python 3",
   "language": "python",
   "name": "python3"
  },
  "language_info": {
   "codemirror_mode": {
    "name": "ipython",
    "version": 3
   },
   "file_extension": ".py",
   "mimetype": "text/x-python",
   "name": "python",
   "nbconvert_exporter": "python",
   "pygments_lexer": "ipython3",
   "version": "3.7.5"
  }
 },
 "nbformat": 4,
 "nbformat_minor": 4
}
