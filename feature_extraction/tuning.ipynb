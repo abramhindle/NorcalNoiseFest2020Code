{
 "cells": [
  {
   "cell_type": "code",
   "execution_count": 10,
   "metadata": {},
   "outputs": [],
   "source": [
    "import numpy as np\n",
    "import matplotlib.pyplot as plt\n",
    "import time\n",
    "import torch\n",
    "import torch.utils.data as data\n",
    "import torch.optim as optim\n",
    "import torch.nn as nn\n",
    "import torch.nn.functional as F\n",
    "from torch.autograd import Variable\n",
    "import pytorch_models\n",
    "import imp\n",
    "import torchaudio as ta\n",
    "import torchaudio\n",
    "import torchvision as tv\n",
    "import matplotlib.pyplot as plt\n",
    "from IPython.display import Audio\n",
    "import os, random\n",
    "import pandas as pd\n",
    "import mir_utils as miru\n",
    "from torch.utils.data import Dataset, DataLoader\n",
    "from pytorch_models import *\n",
    "import librosa\n",
    "import librosa.display\n",
    "import pytorch_models as pm\n",
    "import optuna\n",
    "imp.reload(miru)\n",
    "imp.reload(pytorch_models)\n",
    "SR=44100\n",
    "#functions\n",
    "spec=torchaudio.functional.spectrogram\n",
    "\n",
    "audio_frames=miru.audioFrames(loadCache=True)\n",
    "\n",
    "def getMeanLength(x):\n",
    "    gl=x.apply(lambda z: len(z[\"audio\"]),axis=1)\n",
    "    print(gl.mean()/SR,gl.mean(),x[\"label\"].iloc[0])\n",
    "    \n",
    "# audio_frames.groupby(by=[\"label_num\"]).apply(lambda x:getMeanLength(x))\n",
    "# getMeanLength(audio_frames)\n",
    "\n",
    "\n",
    "def getRandAud():\n",
    "    classes=os.listdir(\"./dk_data/\")\n",
    "    rand_class=random.choice(classes)\n",
    "#     rand_class=\"synth_noise\"\n",
    "    rand_sample=random.choice(os.listdir(\"./dk_data/%s/\"%(rand_class,)))\n",
    "    return \"./dk_data/\"+rand_class+\"/\"+rand_sample\n",
    "device = torch.device(\"cuda\" if torch.cuda.is_available() else \"cpu\")\n",
    "# list(zip(uniques,range(0,len(uniques))))\n",
    "\n",
    "audio_frames=audio_frames.loc[~audio_frames[\"label\"].isin([\"shake\",\"guitar\",\"piano\"])]        \n",
    "#split the dataframe into 2 seperate ones:\n",
    "drum_frames=audio_frames.loc[~audio_frames[\"label\"].isin([\"synth_noise\",\"guitar\",\"piano\"])]\n",
    "#split the dataframe into 2 seperate ones:\n",
    "not_drum_frames=audio_frames.loc[audio_frames[\"label\"].isin([\"synth_noise\",\"guitar\",\"piano\"])]\n"
   ]
  },
  {
   "cell_type": "code",
   "execution_count": 2,
   "metadata": {},
   "outputs": [
    {
     "name": "stderr",
     "output_type": "stream",
     "text": [
      "/home/asalimi/miniconda3/lib/python3.7/site-packages/ipykernel_launcher.py:10: SettingWithCopyWarning: \n",
      "A value is trying to be set on a copy of a slice from a DataFrame.\n",
      "Try using .loc[row_indexer,col_indexer] = value instead\n",
      "\n",
      "See the caveats in the documentation: http://pandas.pydata.org/pandas-docs/stable/user_guide/indexing.html#returning-a-view-versus-a-copy\n",
      "  # Remove the CWD from sys.path while we load stuff.\n",
      "/home/asalimi/miniconda3/lib/python3.7/site-packages/ipykernel_launcher.py:11: SettingWithCopyWarning: \n",
      "A value is trying to be set on a copy of a slice from a DataFrame.\n",
      "Try using .loc[row_indexer,col_indexer] = value instead\n",
      "\n",
      "See the caveats in the documentation: http://pandas.pydata.org/pandas-docs/stable/user_guide/indexing.html#returning-a-view-versus-a-copy\n",
      "  # This is added back by InteractiveShellApp.init_path()\n"
     ]
    },
    {
     "name": "stdout",
     "output_type": "stream",
     "text": [
      "label\n",
      "clap             118\n",
      "hihat_closed     187\n",
      "hihat_open       280\n",
      "kick             648\n",
      "rim              105\n",
      "snare            731\n",
      "synth_noise     6000\n",
      "tom_high         179\n",
      "tom_low          188\n",
      "tom_mid          139\n",
      "Name: path, dtype: int64\n"
     ]
    }
   ],
   "source": [
    "#make two label series, one for drum vs not drum classification, one for drum type classification\n",
    "#add the series to the dataframe \n",
    "# print(drum_labels,not_drum_labels)\n",
    "\n",
    "#drum only classification\n",
    "# audio_frames[\"label_num\"].isin(not_drum_labels)\n",
    "dLabels, dUniques=pd.factorize(drum_frames[\"label\"].tolist())\n",
    "ndLabels, ndUniques=pd.factorize(not_drum_frames[\"label\"].tolist())\n",
    "\n",
    "drum_frames[\"label_num\"]=dLabels\n",
    "not_drum_frames[\"label_num\"]=ndLabels+len(dUniques)\n",
    "\n",
    "allU=np.concatenate([dUniques,ndUniques])\n",
    "lmap=list(zip(allU,range(len(allU))))\n",
    "\n",
    "#get weights for each group\n",
    "# x=drum_frames.groupby([\"label\"]).agg(\"count\")[\"path\"]\n",
    "y=audio_frames.groupby([\"label\"]).agg(\"count\")[\"path\"]\n",
    "print(y)\n",
    "weights=torch.tensor([1000/w for w in y.tolist()])\n"
   ]
  },
  {
   "cell_type": "code",
   "execution_count": 3,
   "metadata": {},
   "outputs": [
    {
     "data": {
      "text/plain": [
       "{'signal': tensor([-0.0003, -0.0019,  0.0305,  ...,  0.0000,  0.0000,  0.0000]),\n",
       " 'label': tensor(0),\n",
       " 'path': './dk_data/tom_high/Roland Tr-909-TR-909Tom Hi 01.wav',\n",
       " 'drum_type': 'tom_high'}"
      ]
     },
     "execution_count": 3,
     "metadata": {},
     "output_type": "execute_result"
    }
   ],
   "source": [
    "class audioDataset(torch.utils.data.Dataset):\n",
    "    def __init__(self,audio_frame,root_dir, task=\"keep_all\",transform=None):\n",
    "        self.root_dir=root_dir\n",
    "        self.task=task\n",
    "        self.audio_frame=audio_frame\n",
    "        self.transform = transform\n",
    "        self.minLength=SR\n",
    "#         self.minLength=SR//4\n",
    "        self.frame_pruning()\n",
    "    def __len__(self):\n",
    "        return len(self.audio_frame)\n",
    "    def __getitem__(self, idx):\n",
    "        if torch.is_tensor(idx):\n",
    "            idx = idx.tolist()\n",
    "        rows=self.audio_frame.iloc[idx]\n",
    "\n",
    "        signals,labels=rows[\"audio\"].tolist()[0:SR],rows[\"label_num\"].tolist()\n",
    "        signals,labels=torch.tensor(signals),torch.tensor(labels)\n",
    "        \n",
    "        nz=np.max((self.minLength-signals.shape[0],0))\n",
    "        signals=torch.cat([signals[0:self.minLength],torch.zeros(nz)],dim=0)\n",
    "\n",
    "        sound={\"signal\":signals,\"label\":labels,\"path\":rows[\"path\"],\"drum_type\":rows[\"label\"]}\n",
    "        \n",
    "        if self.transform:\n",
    "            sound = self.transform(sound)\n",
    "\n",
    "        return sound\n",
    "    \n",
    "    def frame_pruning(self):\n",
    "        #drum vs not drum classification:\n",
    "        drum_label_numbers=range(len(dUniques))\n",
    "        if self.task==\"dvn\":\n",
    "            self.audio_frame.loc[self.audio_frame[\"label_num\"].isin(drum_label_numbers),\"label_num\"]=0\n",
    "            self.audio_frame.loc[~self.audio_frame[\"label_num\"].isin(drum_label_numbers),\"label_num\"]=1\n",
    "        #drum type classification\n",
    "        if self.task==\"dvd\":\n",
    "            self.audio_frame=self.audio_frame.loc[self.audio_frame[\"label_num\"].isin(drum_label_numbers)]\n",
    "        if self.task==\"keep_all\":\n",
    "            pass\n",
    "            \n",
    "ds=audioDataset(pd.concat([drum_frames,not_drum_frames]),\"./\",task=\"dvn\",)\n",
    "idx=np.random.randint(0,len(ds),5)\n",
    "all_frames=pd.concat([drum_frames,not_drum_frames])\n",
    "train=all_frames.sample(frac=0.80,random_state=420) #random state is a seed value\n",
    "test=all_frames.drop(train.index)\n",
    "ds[0]"
   ]
  },
  {
   "cell_type": "code",
   "execution_count": 4,
   "metadata": {},
   "outputs": [
    {
     "name": "stdout",
     "output_type": "stream",
     "text": [
      "torch.Size([1, 30, 20]) tensor([3.0007e-05, 7.0104e-05, 1.9192e-04, 2.3872e-04, 1.0367e-02, 1.1453e-01,\n",
      "        1.6383e-01, 9.4818e-02, 1.0616e-01, 1.6707e-01, 1.1579e-01, 2.7039e-01,\n",
      "        7.5509e-02, 1.6264e-03, 8.6484e-04, 1.0730e-03, 6.7253e-04, 6.2248e-04,\n",
      "        5.5935e-04, 3.1049e-04, 3.3124e-04, 4.0191e-04, 2.8192e-04, 1.0601e-04,\n",
      "        9.1863e-05, 8.4515e-05, 7.9630e-05, 7.6826e-05, 7.6472e-05, 7.9315e-05])\n",
      "('tom_low', 1) tensor(1) 44100\n"
     ]
    },
    {
     "data": {
      "text/html": [
       "\n",
       "                <audio  controls=\"controls\" autoplay=\"autoplay\">\n",
       "                    <source src=\"data:audio/wav;base64,UklGRqxYAQBXQVZFZm10IBAAAAABAAEARKwAAIhYAQACABAAZGF0YYhYAQAAAAAAAAD//wAAAAD//wAAAAAAAAAAAAAAAP////8AAAAAAAAAAP//AAAAAAAAAAAAAP///f/9/wAAAwADAAEA/v/7//z///8BAAAA///+/wEABwALAA4ADwAQABMAEwAPAAYA/v/2/+z/3P/I/7T/of+R/4b/hP+R/6v/0f///zUAegDKAB8BagGjAcgB1QHFAYsBHAF6ALb/3/4A/iH9Vfy1+1n7TPuP+yj8H/1u/gAAtAFsAxUFkgbAB3gIoAgvCCUHiAVnA+IAJP5g+874pvYN9Rz04fNt9ND1A/jX+hD+cQHJBOMHhgp7DJsN0g0fDZULXAmeBoQDNQDv/Pv5mPfh9dL0afSv9Kf1K/f7+N36uvyP/j8AmgF0AtgCAQMbAywDIQMKAyEDlgNoBGoFcwZ7B4IIZgnoCdQJIgniBxkGwwPtAMz9o/qj9+L0bfJq8BHvlO767ifw/fFh9Dr3UPpc/SQAmAK9BI4G8QfNCCkJLAkHCdoIswicCJsIsAjbCCMJkwkSCmAKOAqLCYMIRQfCBcsDVgGV/sT7Bvla9s3zkfHe78juMu767SXu0O4F8KTxcPNC9Rf39PjT+qH8W/4KALwBcgMrBfIG0wjOCtcM4Q7dELESPxRzFUoWuRaOFpEVshMaEf8NdgqABjQCzv2O+ZL13PF67qXrm+l66DXorejP6Zfr8e2o8HbzIPaV+Nv69fzO/lEAewFXAvgCXgOFA3gDWgNTA3cDvgMbBJYESQU9Bk4HRQgHCawJWQoCC24LcAsVC40K8Ak5CWwIpwf+BlUGdQVOBA4D6wHsAOT/pP4x/bf7Z/pY+X74vPfz9hb2O/WD9AT0vvOd85rzvvMK9GX0vfQX9ZP1T/ZG91j4b/mY+v/7x/3t/0gCoATUBucI5grIDGMOhg8lEGsQfhBQEKAPTA58DH0KdAhIBusDiwGE/wb+8Pz5+wf7WvpK+uP60ful/DL9mf0Q/pb+9f78/qj+E/5A/Rn8nPr3+HD3NvZW9cz0l/Sq9PX0fPVt9vf3EPpm/J/+jAA3AroDIQVrBoAHNwhvCB4IZQd6BpEFxAQGBDgDVwKYAS8BFgESAQUBFwGBATcC6wJaA5gD/APOBPsFHgfJB+kH0wfkBxAI5QcIB5UF5gMcAvL/Lv0O+hn3l/Rd8i/wQu4l7TntXO418Kfy3/X2+aH+RgNeB7oKaw1xD40QdhAkD9EMvAkUBhwCPv7a+hH4zvUH9Onyw/K685/1E/jL+pz9XADAAnoEfAXdBa0F6gS0A20CfgH6AKkAZgBzADUByALXBPUG+AjiCogMhQ2HDZ8MIgtYCUcHwQSiAQn+Z/pS9xX1lfOU8hryZfKE8yj19/bf+P36O/1B/8gA2wGWAtYCSgLhAP/+Pf34+x/7e/oC+t75Qvov+3f86f1//1cBhAPgBR0IAwqBC5AMIg0rDbgMzwtcCkYIowW/Aun/T/0H+yn5xPfD9vf1V/UZ9XT1YPai9yj5HfuE/er/tQHDAoYDcQR5BUoGzQY2B54HyQeEBwUHpQZhBsgFmgQnA+YBywBK/wz9cvo6+Ln2sPXM9An0n/Ov8zb0NPWr9on4oPrM/Br/jgHwA90FIwfwB5EIFQk9Cc8IzQdxBu4EWgPIAWoAhv83/1T/if+V/3j/bv+q/xQAUwAPAC//1/1F/LD6Vfl0+D34qfiE+bP6ZfzN/qsBTwRBBsoHpAkADA0OsA6dDZ0LsQkMCA4GMwPR/7r8ZvqP+L/2+/TE84jzN/RV9WP2Jfec98/3q/ca90T2mPWG9RD21fad99H4IPuq/rYCdQbTCWYNdxFrFTMYSBnyGLoXuBWOEggOmAgrA4n+1vqy99L0ePJO8c7x5vMk9xL7U/9vA8YG3Qi7CdIJewmNCIoGOAPy/lP6wfVq8ZTt0uqk6QXqd+uN7TzwvPP793n8ogA6BEYHqQkACxELIQrWCKsHlgZZBfIDrQLeAZ0B4AGhAuIDiQVcBxAJWwr+CucKRQp0CZ0IcQdvBYcCa/8D/Zb7h/of+X73lPYZ96X4/vlW+gH68vmP+lD7dvv4+nn6b/qV+k76fvm6+K34bvmI+qD7wfwn/tv/swGHAzoFnAZyB7MHnweOB6AHsAefB3sHZwdjB0cH7QZYBqgF7gQnBFMDgwLIASEBeQC6/+D+/f0f/VT8rfs9+xT7MfuL+w/8svxp/Sf+3P55//D/NgBCAAwAlv/k/gT+BP3x+9b6v/m3+Mz3CPd59i32MvaV9lj3fPgD+u/7RP7wAMgDlwZHCeELYw6hEGQSjRMEFIkT7RFpD44MxAnoBp0D9f98/Mb58ffC9ij2cfbp92z6ZP07AMACAwXxBi8IWAhLByYFEwIx/p/5rvTW74vrIujZ5evkheWy51HrHPC89dL79QGtB4sMNhBzEiITQRLnD1EM2gfzAhT+uPlY9lT08PNC9TT4hfzWAa8Hig3jEkcXWRrZG6ob0hl2FtsRXQxhBlUAp/q49d/xWu9Q7sTumPCM80L3RPsX/0MCagRMBdMEDwMzAIb8Vfj688nvFuw46YLnOOeE6Gjrtu8O9fL61wBBBs0KQg6IEJsRhxFZECcOFwtpB3cDtP+L/Fv6WPmF+b76xPxT/ywCIwUPCMQKEA25DooPXQ8vDiEMcQlyBnIDrABE/kT8q/p3+bH4avi2+KT5O/t2/SYAzwLBBIYFVQX2BAUFRQXTBBsDbACt/X77rvmV99n08PHI7xDvzO938X/zhvVm9y/5Hvt1/TYAFAOgBY4H0ghgCfoIZgfjBFoCyQBuAJoAgwArAEwAigHYA8QGDgqkDSkR2BMTFfIU/xNrEsIPlws8BqEAgfvg9nbyTe7f6rjoA+iR6BLqTuwp75Dydfaw+sz+IgJBBEAFlAWYBVIFsATUAxMDqQKKAo4CsgIfA+IDvwRfBasF3wUoBjoGfwW7A2kBR/+Z/f37B/rN9+X1AfWS9aH3wfo8/ncBOwSRBnIIwgl8CrEKOgqqCN8FXALm/sX7sfh19WvyJvDs7sLu4O+M8nj2ovo1/mwBGAVDCcwMjA63DrYOkA+wEIQQQw7KCqwHmQXtA8oBT/9s/bL8lfwV/PL67vnu+ff6LvzQ/Or8Jf3z/SL/IwC1AP0AMAE8Ad0A9v+z/mf9Ufxv+336NPmX9/v1pPRm8+7xYPBl74nvnvAN8pvzk/U2+Gv7//7vAkEHvgs0EM4Uxxm0HnYiGSSpI+shch8xHNgXRRJyC20Do/oN8sHqQ+V84U/f79564Jjjs+eX7Ifyqvl7AeoIBA9YE9wVfhYAFT4RlAv/BKn+Qfm49I/wk+w+6YDn/+d+6gLukfHz9Lb4cv31AjMI+QvJDfAN/wxRCzAJFAdxBUkEMgPxAe0A2gAVAmQEHweOCTQL/QsVDH8LAQqNB5kErgGr/u/6ZfYH8g7vse0h7cLsCu0H7xbzbvjw/RMD4gdKDNwPOBJjE5oT5xILEdINcwmhBCQATfzm+Lf1B/N88XvxxfLO9Dj3+/kc/W4AtQO3Bi4JpAqpCkgJIQf1BAED5QBB/i/7Ovi/9bvzN/KS8TryE/R89vP4fftb/ogBnwQYB8cI9wkpC4oMpA29DZkM2wqHCesIUQjMBlMEtAGI/5X9YPsD+Rn3/fV29TX1XfVA9q/39/iq+Tb6bfuF/eP/7gHNA/IFDQgGCT0IfQYpBZkEuQNuAQb+8foz+Xz4+feo93H41fry/UQAUwEZAr8DUQbkCKMKYAtDC2UKyAh7BsEDGQEM/8D9zvyt+2L6iPmN+Qz6Q/ou+sr6//xGANgCLwNxASj/zv2w/QD+pf0B/Gr5Avfi9R/20PZO9yj4Zvr+/acBVARiBvcIbgzYDxoSKRMNFJ8VaBftFxkWVxIrDtMKdwiMBpYEXAKQ/9X7PfeF8qLuBOxu6ljpSujq5gHlveLB4LXfv9954JrhcOOq5p7r4fGT+Pz+6QSaCk0Q5xUYG70f/CPqJzkrSi2SLccr7SdnIgUcuhUeEAsL2gUGAK35ivOP7lHrvOky6Snpoen26kbtM/At87f1Z/ft93v3/PaF9275+vvm/Vj+c/1S/ET81P1QAGcCSwNMA0MDewOQA0MDHQPHA/UEegWYBO4CugFmATkBkwAHAMoAHQO0BdsGIQatBPoDbAQjBQQF2wNsApkBhwGwAZ8BWgH1ABgAUf4N/Lj6Z/t9/Rv/Q//2/tT/8AG5A/4DVgMIA1kDmgNuAyIDwQKVATD/Y/yX+jT6OPp++fz3avYW9ZnzxfFT8DPwYvHg8ujz0PR89jP5XPxR/yECKQVICL0K/QtjDNMM1Q0gDwoQGhA+D6MNoAuwCSUI3gZnBXIDNAE7/9X9vvx++zL6pPlb+rf7cfwv/Bv8fv38/9QB+QFAAREBbQEFASn/2vxz+8b6Wflz9kHzgPGK8VfyKvNu9MP27fkl/S0AZAPLBo4JxgqICsgJRQn3CHQIeQfSBREDHf/2+k74+vca+Uf6SPsE/dP/lAIEBGcEZQUaCLwLkA7QD0oQ9RB/EboQSw43C5UIUQbAA+wAjP6l/CP6Qfbb8bTuf+0o7TfsmeqS6SHqxOsJ7T/tOe1H7r7w4fMw9yT7OgC2BQ0KnAxbDo8QJhPpFBUVPhRiE5MSABEkDqgKzAcQBq0EhQJ2/478/voC+/j7Mv10/sX/DQH6ATYCzwFmAc4BKQOUBPoELQT4AgQCGgG4/xD+Af0E/Z/9Ff5k/hX/IQCgAND/I/7L/Fr8KPw++3f5gPcM9iz1a/RG85LxlO/p7THtt+1c78Lxm/S59+n64v1cAE4C+AOyBawHtAllC40MbA1uDocP+w8PDxUNdAtZC1YMlwy+Cm4HxQQgBKEEJQTIASD/kv58AIkCDwL+/t375Pqd+8P7JPrO91L2p/V29DjyJfC379TwMfI789L0xfdL+7j9lP4w/94AOQOfBC8EtwKmAXMBTgE5ACX+3vsr+jf5Afnp+VD8vv//Am8Fvgf2Cs4OvRHuEl0TXhRxFY4UvRCHC1IHvARiAgD/JPt1+L73T/g1+ZX6UP1wAYwFHQg8CVUKIgx3DZcMYAlqBe8BVv5B+ZPyo+uY5XjgG9xV2TbZfNuw3hzi3eY67mD3vP/JBbEKeRAnF4wcth7QHWUbgxgWFakQOQthBf3/qvuK+HD2afXn9Tf42fuz//kCuAVYCNoKywzkDWUOrg6lDosNlAqyBe//7vrY96f2Tfa/9c/0DvQC9LX0GPZY+Gz7dP4ZAPz/UP/G/7ABrQM0BCsDtgGfAGn/D/1v+br1mPPo80D2U/nf+3P9iv7h/5cBCwOrA8cDQwSSBS0HIAjdB4UGsQQWAyMCwAGTAYgBAgJOA/4ENwajBucG5we4CYgLeQxfDJsLawqzCGMGywNqAXr/zP0c/GD6wfhc9x728vTv80/zMPNZ80TzrfIi8s3yS/Wz+Ez7jPwD/q0BXQdDDJwNjQvjCAsIugi5CJoGJgMLAMf9W/sc+EL1AfX59xb8bv5H/sb9n/9RBNgJ1A2WDxMQXBBiECsP9ws0B2QC3P51/Mn5APYe8t7vk+/V74zvg+9g8WH15PlE/Z//RAKSBQsI/wfCBZkDPgMnBJ8E9gPmAhcCPAEHADj/xP9rAfQCzgOnBOUFfgYxBYACfQBuAEkB9wCl/nT7KPmX+FD5M/o0+iv5PPjp+Gb7EP4W/3r+3v1h/nL/5/+m/4T/yv+Y///9lvuD+qX8igF7Bs0IbgjrB5gJ3QzCDjINTwk1BrYFwwb0BgYFmQH6/d76V/g99nj0I/O28q7zz/UL+IH5a/qf+0L9cf5e/nb9Ev0d/jgAJgLWAhgCowCQ/7L/IgFTA2EFYQalBTsDWwDt/gcA7AKOBUkG3QQhAjf/Lf26/Kf9mP4B/rj7YPnh+Gv6avyb/Yb+WwDDAt0DtQLiAM0AsgJPBNQDIAJ2AX4CtwO7AwED0gJnA+sD+ANKBK4FqgeYCC4H6wOyAPz+g/4M/iv9vPyN/Q3/tv+N/gn8kPlJ+Hb4j/nd+t77Zvx8/C/8j/u++gf64vmr+jH8of0g/sL9k/1h/pn/1P+U/hP9FP0Y//kBOgRFBV0FvgR4AyAC4wFdA6QFMAe3B2EI7QkxCyYKWAbHAS7/tf9WAggFDwazBH4BHv52/DX9Ov+gAGMA6f5E/UX8TPx4/Wr/CwEXAV7/Mv0u/I38Kv0q/ef8Jf3k/ZH+/f5y//z/LgDq/+r/FAErA4kEkwN2AEX9GPwt/f3+9f+///n+Pv7N/cb9MP7F/hT/CP/8/ib/Vf+E/20A4gJRBr8ItggiB5AGZwhQC7gMjAvuCI8G/ASUA44BnP4N+8n31PV99c31SPWH8/3x7PJS9/39mQSJCakMkA6uDzsQihCbEIkPGAxNBhgAqfsP+TD2Y/Gc63LnL+a65nnnS+gC6nnsf+7a7z7yPvfH/bICCQQCA2sCnwOTBZoGZwYdBvIGKQkZDKYOvQ/2DhsNsguKC/ILuwvTCiIKywlWCIAEdv8j/Mr7Dfxo+ZbzZu607SXxqvQR9SnzH/KU8yX2k/dg9872/va59wT4Zfd89pP2ePiS+yn+Af/H/lL/WAFkA58DegKNAnUFhgl1CykK1AfqBg8HHgahA80BjgLFBKUFSASgAqICrgPNA88CwALmBG8HRgfGA4z/c/2i/Sz+0f0t/U/9Lf4F/5X/QQAPAVgBvQDk/9v/4QA7AioDlQOxA3cD4AJAAucBlwHjADMApQCbAt8EvwXIBP4CkQHtAAgB4wFIA2YEYAQ0A7EBfQCV/+r+3/7C/wQBXgH+/4/98Puv/JX/vgJABK8DJALiAFQALgANAKv/3f4J/lv+1ACrBE4H1QYNBJIBAAG2AUwCQwLTARsBPQDx/+IAawLFAgwBqf4X/kMAdAMFBQkE8AHGAD8BkgK9A1MEUQT0A9UDdQREBcYEbQL7//b/kgIWBdgEOQLj/4z/gwBEAUcB3AADAGT+Kvwp+hf5GfkA+l/7O/yE+2j51Pe7+OP7EP97AJIA6QAHAsQC2QGa/+P9TP52AEcC/QEWAMf+ev8oAZUB6v9//RD86fsl/Ar8q/uI+xn8eP0Q/67/nf7M/Gz8z/7EAnUFQwWDAw8DIQUCCNcIVQZkAcX72fZs857xm/Ak7+7sI+sD62fsJe6u76vxAPXO+YD/fgWfC+QR0hcNHOAcuRkLFDkOXwmsBDz/3Pkj9gP0j/GJ7TXpCecH6B3rx+6E8pH27vox/yYDCQfSCrcNzg5ADjwNdwxYCz4JCwdlBi4H9wblA4X/Xv20/twAdgBf/Wn6r/le+iP6wPfm80PwU+6i7nDwE/JL8pbxEvKl9QD8lwLvBtwIXQoJDfsPmhB2DSIIFwSoA/gF1AfBBlMDcAAiAHUB2wGCAHj/JQFDBfAIsAmkB7YELQLD/+T88Pmg98b1hPPM8OruN++g8Qj1svi0/BEB+QRQB+EHqgcACF8JHgshDMkLRQoWCHkFaAIu/9L8mfzb/oIC7AVNCBUK7wuwDYQO5A0ODI8JrwZ/AxoApfwi+a310fIy8dDw5PDS8Anxi/KZ9T75O/wG/rv+lP7n/Xz9Mv74/3MBPQFi/2v94Pwe/qIA0AMDB1MJNgpcChYLkQwvDYwLpggJB5UHCwikBbYAqPwn/Eb+x//M/on8ifv7/M3/AgKYAjgCWwLZAyIGtgdAB5EE5ABJ/jr+TQBMAiQC/P/p/aP9x/6o/3P/2/7D/vT+jv52/a38BP3v/fD9VvxG+qf55fou/Hj7Ffmn91n5sP17AjwG7AiuCt8KQAlRB1cHvQk9DG0MgArFCIMIXgggBm8BS/wI+Vj4Jvnz+Qz6tPl1+X35mvmg+cf5ePrI+039h/5w/2oAlgFrAj0CMwFgANAAaQL8A2YEnAOlAqMCAgRCBkEIxAhOB8gECAMmA0cEewTxAsIAV/+e/pb9J/x0+wP8V/yb+nH39PUv+F381f5V/hb9Rf0G/hv9k/oa+Vf6jPzR/NL6TPmu+lT+dAEmAs0A9P6o/Ub99f2W/1ABAgKAAQ8BFgJcBPoFZAUXA/cAIADk/yL/EP4G/qn/6AEAAyQC5P9c/Vf7EPqQ+fP5Nfux/Br9m/sT+bf3z/gF+4r7K/no9SX1W/i7/cQBGgJK/0L86fu0/mICQwSpA/YBvgCDADYBzwLRBOsFMAWLAyoDCwWQB/wHgQVjAtgBvwSyCGoKvQgPBWYB1f6p/R7+BQAtAgwDVAJtAe4BnwNiBIcCF/8m/Wn+/gB6AQr/XPwk/O/9UP9J/wH/bv/X/03/Wv5K/kb/BwB//x7+Wv0U/qb/iQD7/8f+cf59/8MAxwCI/7T+5f/AAkAFwQWPBCoDdAIqAvkBQgJFAy8E9QP4AscCzAM6BD0Cyf4E/Zv+rQEiA0oCLQFlAesBwQD0/cL76/uQ/Xj+rf1G/Lr7NPze/ED9tf2M/kb/CP+a/bX7PvqO+Xz53vm6+vr7M/3c/bX96/zY++L6gPoX+4f8+P1+/i3+L/6G/64BBwO3AukBngIkBTUHNgZBAlv+ZP1G/3kBBwJjAT0BIgLmAjoCUAB//o/9If3E/Az9zP5nAcECTgHt/TD72/pt/B3+/v6+/2sBzgM1BfQDHwDP+4r5Y/pe/YgATQLXAfX+W/ob9sD0HvcK+/n8aftO+PT2u/hC/If/+AE3BHEG4AfjB9IGbAXoAwoC7/87/of92P2h/jb/U/9q/0AATgJ5BU8JIg3RDxoQuQ0wCtkHwgeeCPYHWASI/uX41PUw9pr4d/ol+pP4g/jU+2gBBgaHB0QHtwhZDToSfxKuDK8Ex//s/j/+Tvqp9Ozx7/OM98v4x/cB+E77W/8VARMBwwJAB+sKhAm/A+X+lP56AIf/Vvrk9Lfz+fYV+yT9aP3E/UP/owFjBBcHEgmzCSQJWggjCJ4IfgkvCpMJbQbuAHr73Phk+YT6xvmQ92P2rPdY+rr81/4AAmcGHwoXC2IJBQegBeQEcwOhAO38KfnY9VTzAPLR8dnx6vDO7q7sCuyI7dHwJvXV+Wf+1wJ9BwEMmA5IDYQIwANKArwDnASfAjH/Hf2g/Fj7Ffgp9d/1QvrY/rkAxwAoAk0GeAsLDzIQ0g+HDskLQwc5Auv+W/5h/xMAxP8+/2D/+f9PAD0AbAB6AUgDOgXUBs4HyQdqBuwDLgHL/j78h/in8yvv3Owd7d7u+PA68wn2W/mF/PP+vwByAnkE6gaiCQwMHg08DGAKmQm7CvwL5wqUBwQFvwXNCOIKLAoqCGUHHQgyCE8GBATaA6oFOQYCA5z9TPpN+zv+yf6g++333ff3+2wAEAGU/Zn5pviJ+in8rPvH+j/8x//eAUMATf2K/U4C3AdUCdkFPAHi/5sCegYsCDEHtgW7Be8GZwfHBWgCvP5N/A384P2MAKcClwOGA4ICWwCx/Wj8Mf6SArUGnge1BDIALv39/DH+Vf6Y/Ib69PmE+hD6YPfN88rxTPIZ9Gb1mvVa9Zn1APfU+Zb9owARAcn+dvxM/YgBrwXMBTUB3Po19nf0nfQ/9aL1YPX384fxsO+28B71e/qe/R3+3f6PAikIrQtJCvgEMv+O+xv6Pfmh91X1aPOl8sLyz/J18qvy2PQt+S/+NAIkBVIIlAwfEXcU+RXsFXsUdxEDDbsHCQIj/PD2CvT289f07/OD8JbsfuqA6kLrE+y77SPx7fXn+ln/ZgNRB9sKiw09D0oQUBECE8UVJxnFG0QclRoBGOAVWxSsElgQxQ2mCxwKtAghB6gFvARwBGwEWAQgBNEDawP6ApwCBwI6AFX8KPdG86byQPTd9KzyUO/n7Zrv2fLM9ZD4vPwcA3QKcxC0E6YU3RSpFS0XXRjOFw4VeRExD64Oyw1XCjsFtQERAbMAyv3h+Xb5wv0VAhMBcPsp9/f3zvpQ+gf2lPIA87D0qvPy8LrxUPiFAKMEWgSEBEMI1wxhDWoJgQVZBTIHRQbCALb5/PQC8z/xuO0D6UvleeQk50Dsn/Fy9cD3BfpJ/fEAnAOrBJYEOgQ5BLEE+wTeA+EAWf15+xz8Af6h//4AEQMLBh0JqguqDekOvA4DDcYKPwloCAsHHgTO/y77VPfO9Irz0vK58e7vNO7F7SDvmfEd9DT2FPjk+VT79fvT+3b7Xvui+x/81/z7/aH/lwGPA1cF7QZUCG4JFwpJChwKqAngCK0HDgZIBNcCAAJqATMAz/3M+or4HPiV+Ub8Pf9jAaQBt//D/Lj6r/og/ND9Gf/+/1QAnP/0/YP8ifwD/q7/XAAsADAANwEMA8IEXQVZBB0C8f/A/tj9nfvy9yv1pvXe+OX7sPwX/Fj8bv5FATIDlgNcAyMEmAaPCfcKEgpeCLgHCwijB7QFjgPoArUDVAS4A5YCNwLJAk8DBAM5Aq8BfgENAfz/o/6S/a78T/tB+X33Zfcw+VH73vuE+sz4Zfh++fT64Ptw/ED9T/76/tT+L/6p/Xn9Xv02/WX9Wf7P/84AqADz/xkA0AEEBM4EfANkAYAAYQG1AvICGAJ6AeUBfALFAYn/MP1w/Mj9RQBMArUCjwEZAJj/GgBrAFL/Bf1a+0/82f86AzUDeP9n+8L6k/1QABkAsv3c++X7D/20/lEB+gQUCMQIGgfuBK8DGwONApgCRgT7BmsIQwfwBPoDDgWLBscG5AVEBYoFnwXWAyMAD/22/VwCSQfiB1ADqv0J/In/aQQmBuIDfwAF/7H/qgCvAGoAPAFHAx4FZQWQBKEE4wYLCiILdAhTA67+O/ye+wv8wv1nAT8GuAlnCaoF8wHNARoF4wdtBksBvPzp+7r9sv4a/Wb6qPjr96D2IvS68Snx2PLo9aP5LP6uA24JAw54ENYQug+ZDa0KWQcxBJgBYP/7/Bb65Pby88zx1vBL8S7zCPbU+In6/vpH+9H81//wAnMEJwRXAyQDUQPSAk4Bnf/B/tr+PP9y/73/nQAsAgsE3QWAB9oIkglFCfIHGAZaBA8DGQIYAbD/of3p+uP3SvUI9Mn0mvfj+5sAswRSBxQIEQfKBO4BEf9//ED6QPhx9uX0yvNT86LzqvQg9p735PgU+oL7CP3N/Qf9L/sc+ob7gf9cBMgHTQhwBpAE8AQmBzAIJAY+A6sD8Ac+C74I3AFJ/VT/qAQEBmQA/PcD813zKPYg+KD4qvjU+PH40Ph/+Bj41Pc9+NX5fPwo/34A8P8t/nX8Xvub+u355Pks+2X9Iv89//D9f/wF/Lz8Jf6v/0gBhwMhB/kLphAPE9oRdg0MCDEEFgNgAxECgf2t99X0+vYf+xX8H/gg82zy9/Z6/Jb+sv3n/ZUBdga4CMoHjAYQB/oHAAeRBCkDbgPkAjL/fvlz9Tj1dfce+XX4//VY89bxIvKA9Nn4dv4BBB4IDgqzCVwH4wMCAeYAgQT/CUwNHAsiBCz9Kvum/jsDKwRMARv/sQFGCM8N2A1LCMcAJvvv+HH5Kvvo/CD+q/6C/qb9TPz5+lT61/qe/Gv/jQK9BKAEPgKq/2n/xAFGBF8E+QHz/oT8FPoD94L0l/Q090n5t/cW86/vLfG59gD8BP7a/V3+YgBEArECjAKgA0QG4QjYCWYJcQlfC3MOshA/ET8RSBI1FBwVVRNSDzwL2wgCCPoGOATo/9P7wfm5+SH6qfnP+PD45/l8+fD1uPCa7ZbuhPHL8gHyUfLi9Yb6Xfz0+r/5YPs//vj+F/28+5P9qQEwBYkH7QrDEKcWZxgYFbUQ0w8eEngS9QzNA2T9g/13ARQDCf/Y9+zycvMa+Cz9AQCLAFcAzgBSAo8EEgd4CVMLFAxUCx8J8QVuAh3/S/wl+r74Dfjl9/P33Pd49/72//bc9yv53flq+eT4a/od/6gFLAuBDaMMLwomCEgIewvNEC8VlRUhEmwOqA3pDoIOBwsqB90FHAY5BOv+K/mI9uz2QveT9RzzE/KZ8uHy/fGN8QD0cvn3/isBUP+K+3P41/bh9df07/OS83LzAvOn8sjzNPfO+3T/kQE8BPIJOBItGR8bTxiWFGQTkhRnFQYUGhFqDscMfQtUCboFIwGs/CT5evZU9CbzHPSH96/72P2T/Nn4tPQ+8Unu0evx6ursTPGr9bD3W/fC9pb3YPlv+h/6gPn5+eP7lv5wAToEtAZRCJQIoQcqBsYEhQMtArgAeP/S/v/+EwAZAu4EHAjXClEMGwxNCl8H8AOXAMz9vvtO+iP54Pdf9rv0OvMn8rDx4vGe8qzzzPTW9cf2tPe9+PH5Rvue/Nj91P6A/9z/9v/f/6r/af80/yz/c/8aABYBOAI5A8sDuAP1Aq0BJwCz/ov9wfxL/Bn8Lvys/Nj9/P87A30HWAwyEWIVWxjYGdYZhhgsFgUTOg/gChoGGgEn/I73jvNP8NrtNex268zreu248I71uvupApoJvw92FFwXWBiKFy4VhxHbDG8HngHV+5D2TvJx7y/uh+5N8Dfz8PYv+7X/RASnCJwM4w8/EokTuxPyEmMRWg8cDeUK3AgXB54FcwSSA/ACdAL5AUkBJQBd/tf7p/gU9YfxeO5M7DnrO+sQ7F3ty+4u8JnxV/PR9VP54v0cA0UIbwy+DqYOFAxsB2YB0fpi9JDumuma5aPi0OBF4BvhSuOq5uzqtu+39LD5cf7HAnMGLgm1CvIKDQp3CNQGwwWwBaMGQQjnCfMKBgsnCswInAcqB6cHxQjSCQIK0QhDBvAC0P/Y/Zf9+P5RAasDJAVLBT0EfQLGANv/WQBQArUEggX3AlP9S/di9BX2Mfou/Oj4s/Gc6wbrz+/p9Wf5tPlS+Un71ABnCKAO4hDED6EOMxC4E+cViBS6EJENzgxKDW4M7wj2A7n/YP1r/Nn7ZvuE+2P8gP0k/hz+xf15/TT9y/xP/AD89vv5+9D7wvtn/Nb9B/+S/nP8uPrt+3MAtwVUCD0HsQTCAwcFEwaGBCEBAP/R/7sBogHi/rr7MPrZ+Uz5rviR+YP8IgDgAqoEFAZzBkwEHACU/VMARAd5DOMK3wMf/r7+LgRQCCQHrgImAA4CvgXHBvcDRQD0/tn/+P8Y/fz3WvNq8U/yJ/Rs9CTyNu8P70/z3vkh/90BDQSiB5QLUA2UDFIM9Q6xEgMT7g25BtkCYAT4B0oIMAPI+1b37/dN+pH54PQ68FjvIvGj8abvDe5L77vxKvKt8M/w6/Qu+9v/aAGEAdMCqgaWDPESrhdeGS4YtBVqE0AREw54CZgE/AAA/+T9OP1g/YD+l/8z//z8Sfoy+fr6B/8/A+AFGQeDCIcKvAr3BWr83PLw7uvxg/cA+mf3qvIz8KnxDvVj96v3Z/eD+FL7qf6IAeoD6wXnBl4GjwXbBukK6Q4FD8UK5wVoBGwGGgmxCtgLuQw7C+MFav/w/BgAiQRCBND9UfX778rvKfMg9w35gPcY85Duxez27Zjva+897u3un/Lo9kb4Cfbx8vnxdfOv9Yj3gPk+/BD/gwAfAB//Zv/sAfwFsgk7C+cJpAavA0YD+QUJCtIMFw3CC4EKCgrSCR4J2Ad4BnsF/QTYBA4F9QWnBz8JGAlQBvEBN/6p/Cr9sv5TAGUBUgE1AFn/PACuAmwENgNL/437E/ta/r0C0gTCA1AC0wMTCBQLowk4BUwCQQNdBtAICAo0C5cM6wxEC0wIXgVEA1YCEQOwBT8J1gsKDCUK6Ac0B7gIcwt3DW4NwgtJCpUKTQwmDdsKpQWdAP/+mACYAWT+sPc28hPyf/Z4+vr5Tvad9BL4T/4lAj0BNP5I/cz/HgOuA74ATv0z/QcBFwUABZ8Apfyh/coCfgZvBKz+dfst/nsDawWdAqr//QD/BB0GKQJZ/f/8wwAWAzYA9vpI+RL9LQLHAwYCywDmAd0CFAEG/nH9MADuAmMCTf/5/Pf8zv3N/U79hP1H/nn+7f1v/ej8/vp+9w710PZU/B0BwgAd+0H0vPDx8av1i/jP+Af3yfRY80nzifQ/9kD3Lfeu9i329vSK8oTwvfG39tH7e/xA+JbzAfMv9t34OvgP9hD2JPmI/GX9/Puz+uD6jftV+2X6E/oG+3D8O/1P/WP92/1P/jb+qv1B/Uv9jf2w/bP92v0+/qT+yv6w/of+bf5P/hP+yv2p/d79Yf7V/q7+uP2l/Nj8//7mATcDuAGt/o/8mPzn/fz+ef8UAD0BXQKcAvMBIAHCAMEAugClANgAgwFgAggDVQN0A4kDgwNDA9YCdAJGAkUCUwJoApACyQL+Ag4D9QK/AnkCJgLFAV4BAgG+AIwAZABAACEAAgDd/6r/av8h/9n+kv5Q/hb+6f3K/bf9rv2n/ZP9Yv0s/UX97f2z/oH+1fwX+6z77P69AbYAnfxA+vP8aAJGBTAD2f45/Iz8i/4YARMEvAYZB/MDCv8e/IH96gEPBucHxQe3BgoF/ALzAVMDBwbKBgMEegCRAMsEvQgXCKEDMAAsATsFbAilCDQHRAbEBXID/f2u91v1+fkFAyMK4Aq2BuICtwLiBAcGwwRXAlcA8P5+/ff7HPuR+zr9Hv/Q/2P+gftG+TT5VvpG+qL4qvgJ/u0HohDqEjUPZwoRCGcHFwZgBLkEDAjACxAMxQdDAVX8B/tV/Ij9zPyg+u/4FfkF+wH+VQEvBH8F8gS7A4MDiQSKBdgFjgbHCAULzgmeA3n7V/Yt9mb4c/mQ+Dr3TPYY9QDzhvCq7i/uyu8F9Gn6awGCB/gLkw4uDzMO2wwnDK8LGgrWBrgC5v5y+233d/Ie7lXtqvHh+Cv+hf5v+7/4W/gk+cv5yvrI/I/+ZP73/Az9i/+GAaL/0PpG+Ez82wW7D34VAxdFF4gYMBo1GgwYbxVfFNoUzRQvEsMMxgV1/pX3iPK18en24QDqCtUPBw7BCPgEqAR0BRcEjwBC/g4AJAW/CZQKPAfCAab8e/nv+CL7Rv8ZA9wD0ACv/Gj75P2+AOH/A/vV9fDzq/Xm+LX7cv0W/hP+B/8fA38KyxHCFLcSZg/fDqkRdxVZGLUZxBhIFJwM6QT8AG8BhAKB/4b36O5Q65numfWs+6L+c/8kAJoBRANHBLEEZwUcB5sJ8Av8DAwMwAl7CMwKMRAAFEgRrQgbARMBgQeuDMwKKQTk/1UBbgTaAlP7pfId7pvufPG29Cj4Jfss+8j2GPEq8Kb2KABFBREDlP21+vn7+v0y/RH62fcv+Bj58fdZ9YL0kPaX+Gj3FvSl8on0bfaT9DrwuO4K86f5G/x5+NPzp/Sl+yEDpQXpAzADZgaQCroK+QUNAKz81/tA+7r5Hvgm99j13PL/7iXtcu8D9Rn70f+sAvcCd//X+EjzsfNZ+pgBBAPU/Ur37PQq9yD6fvqa+PH29fYQ+D35g/qC/Bv/JwGrAb8AS/8C/vL82vt/+r74hvYe9B7ypfDP7sbr5+jh6TLxN/wWBNwDMf0i9qLyuPEF8dDw8fK49lH49vR47lrp6+eK6Mbo0+i16rPuXfKh89HzXfbT/PME3Qp5DM8Kugh+CDoKRAz+DCYMQQpKB7wC/PwB+Ob12/b/+In6zvtl/ooCVQY1CDUJlAs1D/oQZg4oCfMFsAeDDOsPPQ+PC7EHQQURBGcD8QKrAoYChALZAqADRgScA/4ApP09/E/+3QF7Aq79Kvbv8Xn0NvtwAJUBWwFsAzsHugjBBdgA+P3M/b79HPxV+mX6j/tm+935TvpS/4cGYwp0CHUE3wOCBy8LsAsfC9QNQxTJGZwZixNxC4kFJQR9B3gNiBErD2gGRf3K+uP/OgbtBoEBX/tQ+S77tP2K/q39V/wk/Kn+7QMGCZMJBAQ8/Kr4Bvx/AtEFxQO+/yz+9P+tAgIElwNOAv8ANgBzAOEBAwT4BW0HywgjCk4K+QfdAywB7wLeCDYPKhKMEY0Q2BFZFHEULBDFCcAFmgZTCkMMjgnQAxL/Zf07/R/86/la+An4iPfR9Xf07PX4+U39MP2o+jn59frZ/roCeQWRBuUEx/81+aP1K/hE//QFNAiZBSoA6Pk99NLwK/Ew9cD6df9/Ao4EFgZxBucEQwLXAIQC5waHCwsORA76DcoOfRDbEZsStROrFSwX8hUHERYKbgRzApsDCQV8BJAClQFQAtcC5gCc/CD4EvX18kHwiuwl6b3neeja6Tvq9ehc5pvj3+Je5sztnfWG+o/94wIXDIQVjxoIG2QaRxo0GIwRCQiRAMv9hP0R/P/43fbC9k32Y/ND8FbxJfcW/Tv/Wf81ArAI7A3gDFIGNgB4/0gDfwbzBFP/D/oI+YH88QHsBocKlgyxDHAK8wXm/535U/Xx9H33Ufj08n7o6t+S357mWe798TjzM/Ys+3H+HP4H/eb+PgP9BWwE2f8/+xn4JPYa9f308fRd8+Xvn+yb7F7x0PkrA6kKEg+eEewU7Rm9HbwbsBIKB/D+Tvwp/F/7PPpa+hD7X/re+OL53P66BG8HrQZkBWgF6AUWBigHPwo9DXsLeQJe9drqOeef6GvpKOaw4KTdUd+V48vm8ucp6YPs1/Ej+FP/HQcTDUkOawtbCXMMkhPeGKUXIREwC14KeQ1pDxwNdQgTBcYDzQKiAQwCEAXzCIcLzAyHDYUMtQdSAL77ZP5EBhgMUQpoAuH6yvjy+5gAXgMLA+X/6/oh9nD00vfw/u4E5AR//uP24fMb9rT4N/fb8unwK/Rz+XL7ZvmP+DH+EQlQEtwUfxK/ECESKxRtEzwPHQnKAhr+MP1eAAIEFAMB/V337veZ/aUBZAA9/hUCNQxRFdYWzhGKDDoLZAyuC4EGzf3K9PHuNe6k8XT1xPWb8pbwDvSG+54AYP8w+//6MAFACT8NmgvBBhABKvuD9Urx+e5Z7f3qMei95rnnQeqR7CjuivCf9Y79iAbGDusV1xsBH5IdahiaE2cSlhMgE5AP2QsEC9sL2QqLB1gFYgboB4EFj/6C9kjwnut25+vkFeaS6hvv8/Cm8MDwgvLv9Oj2D/ng/HAC0wcvC/UMcA/jE4EYzBkgFnUPawn9BYwEvwOBA6QEIAd9CT8KcAkxCMMGxgMX/h/3D/J58Lzwp/Cg8JnyM/bx90X1U/Ax7nfxj/eQ+/r6Q/dV87rwU+/q7gTwC/NN91D7CP6R/+MAGAO1BigLyA76D84OOg0fDTMOaw5mDN4IYwVyAqL/NP1K/PT8GP16+rb1K/KS8kD2HPrO+1n79/lq+Lr2/PSo82Lz2/Sa+Cr+gQMdBmMFiAONAz4GtgnKC00MmAxwDR8OmQ3jC98JBgj4BUUDOQBv/QH7yfh996f4zvzeAYYEYwN8AAj/GgAmAk8DhwP4AxIF7QWTBTAEtQKVAVsAfP4x/Ev6X/ln+Sz6sfsQ/ggBCgTYBgkKTw7/EtsVVhUtE0MTsRYVGe4UggpYAK77Xvo29int1uO53wfhzON85SDnRuoZ7tvwC/NL9xj/jQjVD0YSBxA6CzkGrwKcAUkDigaMCK4GtwFq/kEB/wjLDloNOAceBB8IaA+AE7YSiBASEK8QLhADDjALaAifBcACuf8+/K74x/Yj+Lv7Xv5n/rv96P4LAa0A6/zZ+S38QwOCCd8KMwkCCTcLVAz0CcsGaQf9C5YPBg76CL4F1AZfCfcIWASQ/Uv3efN+83H33/wuADsAwP/3ASUGigehAvL5kPRQ98//0gZPB0oCZPwb+dv4GPr++r/6ffpz/LYAVwOn/y32uu0i7V303fwXAMn8ZvZs8YvwtvNG+H/6ffg/9EjyffVc/F8CAQRgAYn9b/s3+wX6LvVL7kjrfvDa+rsBz//K+BL1jPhm/4sDIAPpANj/8f+W/3r+V/6eAAsESQUvAgP8FfaU8j7xl/Bg7wbtFuqK6DHqCu6k8D/wjO+Z8qX5mACJA6oCnAGmA7AIWw08DnILrwgNCVILdgvBBwUDIAFpAqsDWQKX/6v+CgGrBGsGyAVRBSMH3AkQCpEGHAIyANwAuABy/Tf5hfiY/IQBywLwAJAA8QOAB1IGCwH+/egBVApBEIcPVwr1BXwF/QddChYK3gbfAnIBTQQ4CWULVQgnA2ABFgQSBi0CSPqU9f/3if0q/5P6Z/Mh7j7sZe1y8Ub3W/t6+kn2hPQu+F79Bv7X+Z72e/iq/PT9HfwA/FgAWQUSBeX+pvgv+Db9VAIxA4UAhf5zAN8FNgvLDPkJ3AV5BL8Gggm6CNIDiv5i/ecA2gSxBPIAzv6EAXgFIwQa/XH4FP60C+EV0hODCBb/Kv8jBoALAQrNA8n+mv5DAhIGqAa/Aq775PTU8QrzfvWt9S3zHvCH7Vrq2+ap5szscPaq/GP8Ovr8/HsFCA5sEVUQXw9yEW4VlRiDGVsYVxWuEPcLJwoGDbkSrhZRFeAOtAZcAHb9ov2Z/9kByAImAQ/9avh09YL0hvN58AjsMukY6oHtMPCi8MjwXfPy90b72/t6/FMAiwVXBg8AS/er84f4mAKoCyEPCgwUBZf/TgAFB9QNlA6eCZgF1AciDpwRxA7hCBwFgQRuBH8DbgO8BeQImQo5C8sMAA/eDiALvQYpBYIFvwOl/kT6OvtzAL8DBQF6+5j5afx0/Qr32Oz66BLwLvut/2v7DfZr9jr6Sfrq9JvwwfN+/LsCUgHG+uv0D/IF8OPspOoh7SH1dP4rA+0APPun+DT90wZAD6MRUg4sCeEE3ACw+0b2XfPF86j0tPKy7j3tH/Ev9335YPaV8orz5vhX/XX92PtW/dsCHAnADcYRqhULFnsP9gTZ/ucBhQn1DGAJRAQhBA4JcA1vDIUGgwAI/08CnQV6A7/71PR59Vf9ZQXmB+YFsAMZAmz+o/gx9k78ywgoE/oUrw9aCZAFEwPz/2L9R/4IA24I0QpnCecF5wGT/dH4mPRa8nfy2PMs9SL2Ofe7+E76e/tD/P/8zf1r/qP+p/7j/pj/pwDTAfkC/QOVBEIEkgJe/936l/VN8OzrW+kp6UHr4u7i8h/22/fx99j2dPW99F71b/d++sf9jgBvAmYDwwP5A1sE+ASSBc0FXAU4BKQCGQEQANb/ZABoAVkCsAIUAn0AN/7G+735ifhQ+OP40fmO+qz6EPr6+Pj3tPeu+AT7Z/43AsIFjAh9CuILOQ3rDgsRQRPoFEsV+hP6EMgMNwgqBFcBIQCMAFkCGQVQCIILPw4wEC0RRhHLEDUQ9w9SEC8RGxJwEpYROw92C70GuwEf/WT50fZx9TD14/VS9zj5PvsM/VP+6P7O/jX+av3D/IT82fzH/Tb/9gDEAlUEZQW9BU4FKQSCAp0AuP4A/Yn7WPps+dD4n/j6+Pj5k/uk/eT/9gGKA2wEkgQgBGADqgJPAocCXQO0BFIG8wdeCXAKGwtZCycLiQqOCWQIVge8BtMGkgeYCEYJ7ggpBwYEGgBP/H75JPgc+Ln4CPlF+DP2Q/Nv8MfuCe9C8cH0Xvji+o37Vfrl91P1rPOK8+j0Lfd8+RP7lfsg+y36UPny+Cb5rfkg+in6rPna+Bf40fdV+Lb5zPtR/vsAogM9Bt4ImAtpDjERsBOiFdEWJReqFoMV2hPVEYoP/ww2CjYHFATxAPb9Qvvp+OP2DPUt8wPxWu4i64Xn8eMC4V7feN9k4brkr+hY7PzuXfDT8C3xX/Ib9Yz5Qf9YBd4KIQ/yEZgTnhR+FV0W/BbaFn0VtxLADjMKxQUGAjf/NP2p+z/6z/hx93H2JfbF9lj4rfpw/T0AugKeBLUF7QVXBTAE2AK5ASwBTgHyAasC8wJoAvcA7P7h/IH7Tvt3/Mz+2QEXBQ8IeQpADG8NGg5LDvwNGg2QC1gJjgZyA2YA1P0T/EX7Rvuy+wP8xvvF+iH5SPfF9Qz1RvU99nr3a/ij+P73qvYS9ajzwfJ28qPyB/Nb83vzb/Nj85vzVvTA9eb3uvod/ukB+QUmCkUOHRJrFesXaBnUGU4ZHRiYFgQVbxOlEUYP7AtqB+4BEvy49sby4PAr8Ufzd/bn+ff8Zf9GAdoCRwR1BQ0GowX4AyABiv3L+WD2evPx8G/uuOvU6C/mYeTt4wDlTOcu6u/sDe9r8FDxLPJd8/b0vfZJ+Ej5rfnG+Sf6avv1/dMBsAb7CxkRmhVEGRMcGx5gH8gfHh8uHeAZUxXhDwsKXgRU/zr7NfhH9mL1dfVw9kX40frd/RsBMQTGBpMIdwlwCZ4IMAdfBWADYgGY/yr+Qv0C/X/9vP6gAAQDrAVQCLIKmgziDXMORg5gDdYLxwldB84EVgIxAJf+sf2X/VD+zv/yAZIEfQd7ClINzg+/Ef0ScRMTE+oRERCuDfUKGghWBd4C3AB2/77+vv5v/7sAhQKfBNcG9gjLCicM6AzyDDoMwgqWCNEFlAIL/2H7xfdj9GLx3+727Kvr6Op96l3q7Orf7FLw+POt9Yn0UfJH8h/2dPxRAuUFKgeVBlQEZAEQANwBLgV1BigEcgAK/or8W/n885TvO++z8ZPyt+/B67LqdO0B8rH2r/uMAfYHyA14EbQRtg7OCmsIYwd0BdIBZ/5x/Hn5XvI76RDleema8GDwJOaj2hHZQeMZ8DL1y/D26SHoF+w68aPzSvPY8VLwzO/h8Sn2mfh39ffuL+zp8KP45Ptn+f32BflU/Br71/VI8yT32fwG/lb7+fpb/xYEZgVFBlcLHBKREpUKBgOpBTIQFRb8D2cF6QOVDsgZVRiPCtz9q/1MBy0O0gqlAggAVQXkCqoJOAS3Ao4HjQvOBkv7w/Oj91kCzAhTBjgBXwGnBQIGOv93+OL69QWLD3gPOwjLAhsEeQkfDrQQDRKpEY0OugpsCpsOgxKjEAcJowAh+8j3u/SS8g7z6vXc+AP60PgE9QrvtOl56R/w/fkOAbECYAEwAdcDxAepCegGGwDC+fr4Y/4aBdMHGAZGA3wBKwDk/zgEGw+1G1shnxxcE6AOzxGvGJkcDxpZEhAK/gWJB1sLdgw3Ca0E/QJZBa0JXA1HD30P4g0TCtsEzgAnAMkBkwGa/JP0TO7m7Fvvk/L69Gv3DvtN/3EC/wPEBTAKlBEFGUwckxl1E9cOLA4YD4cN0widBBoEvwXpBKP/SfkI95D6AAEtBhUInAdPB2MJlw1yEMsNXgVk/BL5PPyjAD8B4P4//lgB5ATCBP8AE/1T+zb7ZPtc+7b6uPjL9eDzwfPq8jHutObr4W/jP+hy6g7pROkN70X3svt++zH8jAG6BzQIzwJl/k4AXQafCssKkQmnCUcKLwlsBrME5AVsCA0JEAd1BSEHqwpeC2YGyv3P9XTwfOxp6A3lkOSc513sMfDC8Ubxje/k7abuVvTO/q0JSA/bDSsJRwZHBmYGrARyApcB/gD//ar4lvTd9Mr4N/0dAMcBOwO5BNMFBgYVBVQDhwHa/xf94vfe8JHqsuaN5M3iGeKr5DHrLvMJ+YP70/yOAHsIChOGHN0hdyLeHzUcGhnXFncTjAvz/TvvXOcU6gjyTPVH7xflot+b4qHq2/La+V4ArwVwB9UEVABZ/cf8WfyG+c302vHL81z5a/35+3j2L/J88uf1hPnF/eoFlxK0Hh0jJh3VEBMFeP5y/bv/NgIaAgj++/a+78DqXehy50DnK+i76nDuA/Kx9MT24/gY+9b82P3h/k0BhQWzCZ4KBQdJAnsCOQqaFKQY7hGTBan9ff/YBhwLVgg3ApX+0P62/6b+z/wP/QQAiAOPBWcGxwduCmANIw80DxwObgwICp4G/QLwAA4BFQHq/br37fJ+88b3jfkO9eLtzOvq8tH/+wr/DpQLVQTT/RL7XPy6/88CfAT0BPEELAUyBt8H4AiVByEETQE5AqQGUAo8CWUEAQE2AnYE3QCv9cbpA+bA67fzofao9ObyzvNM9UH25flJA3cPMxd3FiwQKQp0BzUHXwd1Bl0Dpf2C9iLwMesY5tzf+tq+2y/jl+wt8YPuHekP6ObtjPZ2/M/+JAGoBTAKsQvUCvkKUQ0sD8UNJwrwB+4IhAthDSwOug7SDkAN5wl9BtUEOAWaBooHhwZ9AgL82PVV87r1Pvt/ANYCdgE//Tv4EPWq9WL5A/0b/mP+NgJhCtAQ8Q0WAoX3DPmcBt8UyRiTEiUMyw18FjAf9SL9Iboe+BrAF5UVyhMpEQ8OqQztDRQP2Au5Awr8avvvAnoMwxACD5sNvBL4HFEkpiLuGbQRVg9gEfoRzQx0Akn3fe8v7E7r9uln5y7m4+na8pT8+QH9AjYERAgMDGgLAgj1B0ANyxFQDuADZ/sZ+yP/Af/U+DT0+/izBUoROhXlE5AUdRrqIEMgJhayCOMAwQGQBS0EqPvQ8Xft+O6n8Knukewi8b/8vgYZBpD7IvFs7/P0g/gb86jmOdvV1svYiNxC323h0+PU5Ufn3Om+7gz01/Z396z5l/9KBvsIxgYsA4QAnfzr9JzsBusN88b+rAXXBbgEUwdlDFgPuA46DZMMTAqFA1L6pPQ39ZL3r/QS6+Pg0N1w4wzsjvA574nsG+4t9Qb+5gM/BWQExwR6BzkKmgnWA975wO7B5rflKey/9RL8J/x9+IX1M/W99ln5MP1sAQMDEP+89t7vePCs+IcBHgPI/Gz28PfX/+8ESALJ/q0F+he8KPkp7RsGDUEKZBGFFLUKi/pA8p72O/1I+Z7rS+L250z3gAEV/7T2ofMG+YAABQNQAJL9b/6ZAJD+sPaj7iXuEvZ6/mz/mfpj+aEALAnCB6X7jvHz9WAGpRNeEn8GQf0Z/nEEHAfJAgj8wvjC+bn6w/cN8pHuV/AR9Ub4/fgc+uP83P3W+Rj0yfOZ+pQBhQEZ/Lf5R/8SCeMPbBCYDBII6wUkCFoOvRToFv0U5BMAF0cbpxqWEysLjAfRCZUNjg1CCCIBX/0d/18D8gSuAWf8jPmf+tj9wQE+BxsPABfVGlUZwRVIFLQVixfeF5MXoBgFG5ocqRv9GOoWkBZdFokTQA2VBt8EJguSFskfJCHSG0YWYhUEGKMZOxg3FoMWKRgjF6wRmAvNCvYPWRSmEIoFVfvB+GH8dwDUAqwF4wmBDAML9QYiA2v/Qfr69EHz4fXw+JH4vfWk9G33Rfz7/9gASP+q/aD/+AZIEGYUfw/1BRsAGQELBBEDTP9m/1wGJQ6KDbwCD/ZX8aD16/r1+Wf0t/Ew9e75pPm09LzwrfD58Rby6PIX9/L7w/rz8JPkEt8g5Ofupfdj+hT4JPMO7R7ndOOk4/7maOvu71b1t/toAOT/DvrS8wzzdPiJ/mL/Lvv+9876QwF4A2j8HvAp6KrppvDs9Zn3Z/mY/fwALP+v+BjzVfMM+WL/bgEK/i/4BfQV8wLzMPAH6jrkL+Pi5kPqhOjY4mjfveHT5bDkg93J1znbVOd29AT8M/2t+sb2VfOO8h31TPiK+Ez2Z/Y//H4ESwdAALzzQetj7LLzA/lX+Fb1Evag+xgBegFb/Un6AP2iBMILDQ7cDFkN7BGoFp4VXw5HB2gGXArsC1oGGPzi8iztkemd56zpwfDQ+OT7wfhz9Lr0LvpbANgCQQGl/uX9Mf/BAEkBFgHmAEsAHf6p+pv4kvrN/ygEKQSnANj99P5uAyYIbgr/Cc8IfQkPDbYRIxSiEuwOcwwTDZYPWRHpENsOnQwkC5wKeAo8Ce4EzPzO8vvqyeil7HTzp/jb+WT5ZPzKBGMN1Q0eBMH48/aDAIkLKw0YBY784vrA/XT96vY372jt0vKJ+k7/gADzAE4C/gK/AAv8JPgl+KP8zwPrClwPTQ88CpABo/iQ89300/skBTwNqBFoEZYN7wl6CtQOIREqDKcCS/7lBQ0V3R7LGcAIHvjt8Zz1Rvt2/db9oQA4BgsLuAwBDVoP7RRMGzceShqQD6wCrfpT+4oA+wBM99Do9eD65M3t8O+Y6L7gH+Nq8csDshBCE4kM+wEd+039Xwf6ERwWaRMSD0INgg2+DToOlBAwFBMWWRQyECoMggmHBwoFOgIdAdQDBAqgEMQUKhZIFqYVQROiDsMJUgibDLkUGRsDGzgVQw9oDQQOXgyDBysE0gZ9DXsRDg+CCfgGqwm8DlwSNRPCEbMOTAtACtcNnBQoGcgWUQ6WBeABowOJB34KnwvJCiUHGgDD9l7t1+XR4TfjeurV85T4BPWO7H7m++b866nwCPIk8GbsZ+gO5kvn2Oxq9Y/+WAb4CzwPOhDED1cPqA9aD0EMdAZGAQgAOwI2BKwDNAJeAocDQgL//MD2BvSu9Qj4Hvcp8z3w1/H19qr6uPj68SXsjOwR88b6Tf9bAPv/V//i/icApgR2Cn0MqQcf/375IvoY/v7/6v3n+iX7Pv8yA/EBZvp18TLu8fKd+h/+Ovwh+uz7Cf8y/jX5z/WI+ED/7wNIA/P+VfoU9wv1/fMy9BL2+fnf/zwG+Ak+CY8G/QbkC2YPzAnh+iLs3Oet7m/3kfnt9U/0UfmyAJcC7/yq9avzkPd1/EP+UP1H/Dj81/sd+jX4rfc591jzUuse5Ejkt+z59n778Pi19Ir0DfkB/zIE8wg3DQYPFw33COkE2wC9+3b38/i5AncQdRnwF+oNGAN4/jYBqwb5CFkGRwJJAakDIgUOAr37l/aW9F7zYvBO7VTu+vOU+PH1GO3s5SHmyOo27cnsBPAQ+5sISQ/+DEwJ5QuJE6AYGhfcEhkSzRUiGSAXiQ+wBrgBEgMWCdcO+Q7CB339aPeu+B39of4h/R/+aARkC3gM8Qb7/xb8lftr/cYBqwdTCjUFMfsR9kb8lghXD4YLlgOIAGEDzwUPA8r8l/f79S34D/7PBiMPQxLkDcsEFf2H+xYAegaJCk8MKg85FOIWOhFQBIz5a/n5AUwJOAl+BRUFvQiqC9wL/AxXER4UsA51AhX5l/l/AD8FNwWIBSgKUA9DDhsGMfx69Lztw+be4/XqefoVCGwKcAJc+WP2sfgt+437CPwe/7QD/AWJA2b9Hfb27k/oz+P+4zHpbvBN9jX6+P0MA8oI1AzMDFkIIQIq/nn+NgFkAjb/4ffq7mrn4eO45XPsw/Sj+U/4KfMe7/ntWO3x6//sn/Nt/Lz/rPrd8mXvNvDp7j7ndNwL1tPYheNV8Ib4E/jS8Krqau7d/dIQyht6GjcTgw80Eg0WQRUvENQLPAtnDK0LSAh+BD8COAFqAFIAfwI/B5cM6A8JELYNRgqpBo8DzgEAAr0DigXTBfwDlgC4/FX5Efc89rT2w/df+MX3A/b089fyxfNc95D9jAXWDaUUhBjZGBYWgRHJDHoJhwj+CQoNRBBLEkkSPxDxDJAJOgeVBoQHOgmSCo8K0AiuBRgCHf9l/e38/PyF/K76VPct84bvt+167pDxyvWA+T77Yfpe94jzh/Ce7ynxiPRn+Fv7c/yM+0L5mfaA9HbzdvMo9Db1h/ZI+Lz67P13AZgEbAZaBmEEKAG5/Qz7rvmD+fD5MPrE+a34cffM9lL3IvnI+2z+IgBMANn+R/yD+ZT3TvcS+b78twEaB/YLhw9fEXQRDxCzDeoKJgi0BcADYQKuAb0BjgL4A5QFzQYOBwIGzwMoAR//xv69AOEEOApAD3sS/xLREOIMsAidBW4EBgWLBt8HKgg6B4sF8wMzA48DqwTHBRoGQAVpA0ABnP8W/9H/awE8A6QETwVOBfgEpgSCBG4EFgQmA3UBJ/+U/DX6bfh492D3Evhq+Tr7Sf1G/8oAcgH6AG3/J/3W+j759vgx+qv8wv+6AgwFmQa6BxAJMwteDkISEBa9GGcZsxfuE/8OEQoqBtoDEwNNA8QD2ANEAysC9AASAML/8v9JAFsA0v+a/u38N/vw+XL53fkb++v8Bf8rATgDIgX4BtYI3woqDbcPYhLcFLYWeBfBFmgUlBDCC64GNwI0/z/+nP8ZAxkIrQ3DEm8WHxjAF7oVxhKqD/MMzwoBCQcHWwSsAA/89/YZ8jPuy+sR69jrse0W8I7ywPR49pv3IvgU+I33t/bH9ez0PvSy8y3zovIz8jjyMPOD9Uj5GP4UAx4HNwnaCDYGIALQ/XD6vvjT+B/6tPue/ET8mPoV+IP1ofPZ8hjz2PNj9Cn0A/NV8ePvhe+/8Hnz7Pbk+Sz7C/qa9r3x3uxd6RfoD+l66xzuxe/G7zPuw+uA6UvoiugJ6irsNu6978HwrPEJ8zX1IPg++8f9//6C/nT8Zfkg9lTzY/FN8Mzvie9T7zvviO+V8I7yUPVi+A37p/zG/HX7L/m29sz09vNI9HD11vbh9zL40fc990H3iPjw+lT9ff6i/pP/iALCBWAFaf+E9t/vRO7+73/xLPEF8EHvm+487XDrqerE6wPu/u898Y3y8vSr+EH9FAKXBvIJEAtICQMFsv8B+yH4iPcS+Sv87v9cA8wFMwcLCPAIQQoEDP4Nzw8VEX4R8BCQD6UNcgsSCYAGsQOsAJj9sPpG+K32JfbA9mj45/r9/XIBGQXMCGcMwg+xEgQVjxY1F/AW1BULFMQRMw+HDOoJggdwBdgD1wKGAvECEwTYBSAIwwqaDX4QVxMMFowYzRrCHGcetx+zIGMhziH9IfchviFUIbkg7x/3HtQdjxw1G9EZbRgPF7UVXhQIE7gRhBCTDxsPUw9UEAUSCRTGFYgWthUHE6MOJAlqA1j+k/pb+Ij3r/dc+En5dvog/Jb+CwJ0BnwLnxBTFS8ZBBzcHeYeUB89H64elx3yG8wZVBfVFJ0S6RDaD2oPdg/PD0YQuRAOETMRERGMEIQP3A2GC4wIEgVOAYf9Avr99qn0LfOk8h/zpPQs9576zv58A1oIFA1UEc8UTBegGLQYhRcgFaMRQQ03CNUCbf1R+NLzL/CY7Sfs4uu67JDuNPFp9O33dfu4/nIBbAN8BIgEiwOPAbH+FPvs9m/y2O1h6UPlsOHK3p/cJds02prZHtmo2EfYOtjY2HDaGd2b4Gzk3udb6qzrG+xl7HntGfB/9C/6GgD2BLQH7QcEBvsCBgAP/lX9bP1z/Yn8Nvqj9pLyDu8K7Q3tFe+p8hL3ovvc/34DZwZ2CHEJCgn8BjkDCf4N+CbyO+0G6uro5+ms7LXwZvUh+k/+cgEvA2ADJQLg/yD9efpa+PH2KvbG9X31JvW69E709vO183XzG/Og8izyG/Lj8uz0W/jz/BkC+QbBCuUMRg07DG4KoAhnBwwHdwdSCCMJcAncCC0HXgSsAJj84vhh9sL1Pvdm+ij+EAG/AWj/Hfrd8kXrEOWR4VzhK+QR6cnuDPTf9635XflH9x701PBj7o7trO6D8Uf12fgW+z77N/mo9c/xIu/b7ofxyvZy/c8DPgi0CSEIdwRRAGH9w/yZ/vMBLwWXBg8FjAAf+pPz1u5H7UPvF/RK+i4AfASwBikH4Ab1BiQIcQomDRwPQQ8ZDfwIBASg/wj9yPyV/nIBHgSMBWwFaASQAxsD6AHg/v/6/vgp+nX89vy7+2P7t/yo/In4RfP883z+PQ7yGaAb4hQcDKAGCwX+AzMAcPro9hr4Vfv3+3j5BfjV+hIAbwM5A3UBvwB8ATkC8gHAASEEOgrZEdcWzhbhEssN1Ah9A6z9EvmM94f4YPnQ+Nj4HPywAR4FLAP1/R77zv36Ao4EJwDc+cr3Qfs6//f9svfh8qv1bv/VCBsKjwHo9Grs8Ov073bx2uzi5C7fet7W4ArjzeRy6GvuwvIn8U3ruOiy7un5QwI3BK8DbQWlCGMJRQd1BsAJzQ6qERUSkxIDE2UP1wW7+5b5oAEjDTYUYRXNE9UQtQuzBpwHRRCdGUIathEbCX0HEgnABSz+NvzfBDYPqA4zBMf+ygiEGgIjABzYDw8M/BK6HD8iHCN6ISgd5xQ9Cj8B+PzE/c4C1QoUE/UXmhg+GNoZMRsUFxANGwSOA+UKehIOFKMQvQ11Dk8Q0w5eCZ4E2gVjDdQWiB7iJHUr7DAbMlsuhihfIzgfqxtsGcwYrBcxE5ALrQQ0AscDqgXMBFYBJf34+FL0zO+i7cDuzvBh8WbyJfjdAXgHvQGl8wvo0+Un6brpLOV04DTgVONw5lTp5O0z84f10fPW8SPzZfb896j31fie/TMExQnmDZMRaRTOFHESvA6OCmcF8v+j/WcBtgg7DB8H3/wo9lD3Zft0+g70l/CV9iMBogS8/E3yPfGF+ngDpwIz+n3zDvN79IHyNO/r8LD4oP8U/+z4fPXQ+fMBigXfAJH4f/QV+JX/VATAAkH8gvQj7jHqbukq7K7wYPPq8cfthur16WPrPe4D88z4avxS/Ab8wABaCq8Rfw9rBIj5hPiwAnYPhBQ4ENMKMgyuEQgRsAXt90L0Pf3sCIsM8Qe6A8IFOgo9CaYBeftR/nQHXgw8B8b9Cfpi/i4DBQDt9MXp3+WJ6YXvFPNy82vyzvG78oj1Dvlo+4785P5jA1QGnwLl+OPwBvI++8wDEwRa/LXyG+zj6GbnxufV6wn0Cf6WBgIMVA4GDpMLMgjLBaEFRgdHCacKbwvmC8cLjQpCCKIFZgPuAc8B+wNQCBEMqAtXB7EEjgiwD+kQWwh1/Sv6Ef7b/hj25ele5TzrfPOe9f/x4O/+81P7Uf/d/VX72vxRAj8HdAg+B78GsgcJCAsGggJu/4H9z/uT+RP3nfSn8Qzuvet77TXztfhr+W71hPEH8rr2JPwPAGQDvwelDPYPiRBPD84NZAyxCuoIeQdaBWcAnfjr8YjwIPMc84LsqeMo4Kbij+Ox3dPWt9ld6BL4ePwz9ProFuXb6jf1bv2T//f7mPaH9An41/7cBBwI2ggRBxsCRft+9hj34fxoBVwOBBVaFWMN1QHY+9H/MwjiC/wIZgYvCmwR7BNxDjwGIALAAmoDCQG1/Qv9Qv9YAVMBfAAyAb8DYAbdB+cIxgpsDY0PQhDsD1gPmg4aDZcKnAf6BAADfwFpABoA9AD5AsYFAwmXDG0QPhSWFx0ashtOHN8bTRqbF/8Twg8nC2QGugF2/d75IfdT9XT0gPRg9ef21fjm+t38hf6v/zEA/v8X/5X9mvtS+fL2svTJ8mXxovCQ8DXxgvJa9Jb2Bfl2+7f9mv/8AMMB5QFjAU4Av/7a/Mj6tfjL9jD1/vNL8x3zcvM89GX10fZg+PT5b/u7/MX9hv7+/jT/NP8R/97+rf6N/or+qf7p/kP/q/8QAGMAkwCTAFwA7P9H/3v+mv29/P37d/tA+2z7BfwP/YH+SQBQAncEnAaNCPgJgwo5CgEKIwt4DRkOOQnm/mj1ivRk/Q4ICwt1BNz6v/US9/v7rwGsB80NPRKJEmsOighvBBkERQflC4IOqAv5Ah754PQF+ZUBxQcbCHwETQG6AQQGyQuQD0sPcgwjCygOvBP9FuAUOA9iCqIIjAjGBwoG4gQXBYAFfQToAff+k/x9+hX4ePV184zycPKO8sjyd/PT9KD2hvh8+sH8dv9oAk4FBQiRCuMMxw4DEIgQcBDXD8kOVA2fC+EJRAjZBqYFsQQBBJYDXgM8AwADZAJSAVoApgDbAnwFEwVC/zb2Y/BF87X9+QdOCpgDhfm08qbx8/Rb+uj/RgPOAvv/rP5IACABJP1w9jb0AvqgAtQFqgFw++z3DvbO8pbvuvF8+7wHgA2dB4z5Ne1F6xL0XP95A239g/Ld6uTqTvHG+S4A5wGo/Tj0t+md5C3pq/RX/gD/CfgP8i/0NP07BSAFSvyp8BPqZexm9DX6ePj98SHvOfSJ+1/7TvL86VDrt/Kp9Ejt+OXk6ILzjfqd+bX4YADnDIURSgcP9SzoC+j58az+uAgFDoAOnAv3B1AFwgK+/s76XvtUAnsLZRBpD6oMCAwkDNUILgEr+YH1ifex/RoGVA95F8IcPR9mID4gQRzTEjcHSQBoAoMLlRU3HAQfUB9jHdMYkBIeDZEKIAvTDZkR8BSUFUoSWA2XC68PxxYGG04ZoxMBDhsK8QawA2YBgQGHA08FPAWnA+MBhAAe/1T9nfu0+rf6Hft3++n7v/zt/RH/sP8t/6f83veK8vrvEfJ49h34P/Rl7a/ogujd6rXsq+2r78Xzh/i1+6v8W/yH+735afYr8pfu0eyn7DDtx+1L7qbuiO7U7fLsoOx77e3vGPRU+bf9+P7b/Fz6QvsZAFkFPwfABYoDCgIsAAH9pPkI+EH5cv28AyUJPAkWArz3zvGk9DL9WQTiBVUDawCV/uD89Pos+l772vy8+2P3//IK87v4KQCmA0wBHP0B/acCfgkHC24F5P1I/KsDbg50EosK1Pux8E/uzPBM8nDz8/mkBy4Wkx1cHbIcGSFIJwInJB2bDy0HQQfyDCUUlBoiHtobTxNzCfgErAeLDYESXRYTGhUcRRo4FhMUJhWZFk0W9RUnF8sWJxBaBA378fn7/fn/rP52AAYKwxaAHQ4bzxT1ENAPoQ4wDjoS9BljHaEVOgZY+h34PfoS+FzxTu5C9Ov9VwE1/Mb2h/mCApMHUALx9v7upu809tb78vp68qnmf95B3qTjnuj86W3pDekH6Bbl+OG64fXkEeod8IL2ZPr6907wTOvb8Kr//gyLDrYD/vS8647ruvFi+Gv6hvYD8DzsfO6f9fv8hv+z+1T1tvKa9oX9AwLMAi0DJAbuCnwOeg68CoAF0QKdBawLBQ7sBzz9TPev+jwC+gUSBdsFIQwQE14TfQ3TCQ4OhhX7Fq4QCwvvDeMVchclDbL+F/hk+77+rfgY6wPggd2W4EDkhumd9EcDPQscBXH20Oz77kr2OPhs8w/wXfSy/FEA5/vg9IzyVfUP9jXuOOCD1oHZ7ObN80v39PIA8Hb06fsy/JvxlORS4QbqAvT283HrS+c78Gr/FwVR+mLpNeOH7an9hQSC/b/wBOk86q7xD/whCOwTqRpIGOUOiAYvBjYNNhTfE3oK//us7mvnPefV6untse/E8nr3G/nt84bsTuyZ9eH/vgIJAfQDrAwzEdIJxvzq94MA/Q0rFVcUkxE9EDcNWwYHAdMEiBDMGOkTdgQH9sXwUvMN+F38kAAZAxkAOPdw78zxWP9bDvQTIxDSDYUVGCLXJZkaLAlP/3kBwQkhEjwaJSI7JTgfkxRkEN0X7CIcJBYXCwXa+rz8SQToCEwIagaABogGsQJ0+7T1/PQE+Lf7Hf84ArcCQf0l80HsLvBp/W4J3wqjAhD6D/mh/0MIBw4zDwgMuAX6/rz7ff7HBfIMlg9dDFMFlP4s/B3/xgMgBbECtAFgBmMN3w7HB1v9Mfa98knvkeso7GrzYPyC/y372vRP8vHzJfbL9S/yrOzY6Nnr3vcpBywOzQWe8/nl0ubc8nP+NgJNAW8DDAuAEywY4hlSG8Aa2hNaCCcCbghHFKYV/QV58kbv2ADcFR8a5QxDAGcCxgwNDtABEvfW/E8OjRiqERwDgvuF/Pr7EfTd65XtK/hm/8b6zvAr8CD+IA/FEngFgvPV6gjtNfEz8Xfw/vQ8/agAfPn26r3dN9gs27TjU+7R+MECawx4FBwXRxFEBf/6mfllAIQHnAgkBhQIPBFsGvgZrQ4TATT6nfvcAP4FKQpQDaAO/w0ADbcMgQvTBhX/UfiD9t/5Rf+9A3YGsgcNB88DlP6r+WP3Rvgb+1P+CQHMAhQDjAGz/tb7Nfoe+uH6evs4++n5yPeL9Ur0E/VH+DX9WQIQBkcH4AWxAjT/F/2Y/fYARgbAC2sPzw90DAYGKv7+9n7y6vFd9dH7cQMpCioOZg7OCkwEfvw39Qzw5e3Q7h7ypPYf+5f+kwAhAZ4Af/8Y/pj8Ffuz+a74TPi++PL5ivv6/Lv9hP1s/N/6cvmo+Lz4l/nk+jX8Lf2i/aL9af1F/Xb9Gf4h/14AmAGfAmED7QNjBOMEbwXtBTEGDAZtBWwESQNTAsoBxwE1AtoCcQPLA90DwwOyA9kDVgQeBQgG2gZcB28HFQd2BtYFfwWkBUIGHQfCB7UHpwanBEACVADZ/2sB+ASgCekNQBCeD/8LjQY+AR3+bf4VApYHkAzCDgINyQcLAW37Hfnh+sL/dgVqCd4JrQZRATH8hflm+kz+YQNWB1oI5gXZABn7xfZm9Xf3RvxGAqcH2goFCzIIQAOh/fH4ivYh94b6u/88BXwJYwumCtYHHwTZABP/NP/yAGsDeQUMBn4ExAB2+6r1tvDW7c/tr/C99av79ABZBEsFHwTuASsAFwA/AjkGzwppDrgPKw4pCuIEy/8K/Av6Yvka+TD4Efbk8oLvLu3/7BjvJfIF9NjzbvPg9d378QGoA4IAtvya/BIAVgOiA/UBDQHqATkDoANzA8oDqgTlBLgD0AGGAHAAGAHfAbsC8QNlBY0GAwfdBmMGlwVABFwCcgBa/8D/6QGkBVcKBQ9rEoIT8hFdDh8KuQY7Be4FNAi9CvsLvgquBmgAOPmG8l7tKuq96JPoMelj6lDsR+9q8274jf3EATkEgwTZAu7/nfyV+Rv3BvX18pjw7e1E6xnp1+ef50LoWel96nfrW+xv7fruEfF988H1Tfew98323PRa8tHvqO0E7Mfquemt6LDnF+dl5yDpluyw8en3av5IBMoIlgvNDO0MogyGDPAM2g3iDnAP8A4JDdIJ4QUrArb/Nv+/AKcDsQaICEQI0wUJAk/+AfzT+3n9yf9CAdUAb/4U+3P4Gvis+oP/6gTaCOYJ5AcBBEAAlf4MAGwEVwr5D8QTDBUjFA8S+w+zDmUOqw7bDm8OQA2SC+0J1AiKCPkIxgl/CtMKtQpXCgAK5An/CQcKlglZCEIGowMfAXn/SP/FALIDZAcFC9kNeA/eD1sPYA45DfcLagpJCG0F9QFX/jz7RPnJ+Lr5ovvc/cv/FwHNAT8C3ALzA4cFTwfPCIkJMQnCB4cFBgPXAHz/N//8/2kB4gK1A0UDRwHZ/X/5B/VC8cfuyO0I7vzuA/Cq8NLwq/Cf8BfxUvJK9MD2W/nP+//9/P/4ASwEqgZjCSAMng6jEBYSABOEE8YT3xPTE5ETBBMfEuQQaw/VDT4MtwpACcwHTga7BAcDCQGY/gP8ffpJ+5z9Yf0T9qHom91w3vzqoPdF+MvsnuAn3gXlGO1u8A7w+e8Y8SHwXOrA4hzhSupR+YcCFv/78zTsEu138uP1L/Yn90f7ZQAlA+sDHAYPCnAKFQLb8zDq0O14/dAOqBa0EF8By/Ex6ivuiPsXC+8TSxHCBoz9OfxlAfAGOQmlCYYK7Ar6B0QB1vm39B/yHvGr8pj4UAEiB6EFBP9j+mL89AKoCK8KhgpxClkKvQhoBdABFv/y/PD6U/nQ9670Te+G67DvQ/2wDCoTJQ2uAaD6yfo3/VP9P/1qAjoN2hZtGJIS3guMCNIFKv7i8CLkpd9c5t70TwT4DRAOZQa+/nX/8wjSEW8QbQa4/+EEnhBkFVcNtgFgAAULbRQIEFgBFfjO/akLyRNOEYwLgQqtDIwKtQGC+Pr1YPlN/Jb7ovpo/d0BtAHM+cHtteMc3gPbv9jy2Krd9uTw6fXq2OzO9XoF0hN/GKASxwgQAhAAqP/e/igAggYrD0oSZwsZ/3n1efC069nlFuXl7sf+NwrpDDQMjQ1aDtoIXP6e9y76SwFlBHICuAKkCSARWw8sA+b1zPD/83f4HPh78vbr1epQ898Cew8aD0QCdvUj9b0AJgwODqQJMAgNDIUOdQpJBHoEZwwwFMwTwgsMBIgDSAmwDbMJs/3w8envbPpqC20Z8h4IHd4XFRLxC/EFBgLtAO//zPu59bnyEfX2+LX5WfiA+k4DKRB/HCYm0yw4LwwrLiCCEqUHjQKrAagBdAGKAkwF8gYyBBP9svT77TvqU+rv7qH2l/0wATsDjgcXDiQRGgul/fnxCPHb+m0F7QSv9pDkodxk5H30rgCnArv8//Qd8Yz1egP8FJEeTBl6C3cDzgcdD+4K6/k362DtpvyjBsb/t/A563307f/P/8f15+6O8pv6+vzk96TxX+9f8AryMfRh96/5W/gy9K7xB/SZ+VH+mQB5AhgGugrtDcQOow4dDwcQLhBFD1wOcQ47D6wPOg87DgsNVwt6CGAEyv/K+zL5e/jo+Vb91AGpBQMH7gTg/3/5AvRq8cbyt/dh/hUEdAaOBGH/b/mx9WT2GfxmBWkPyRYFGWAVBQ1zAnj4LvF17ebsTe5T8BDyPPMQ9N/0wPVz9ob20fXu9BP1Fvdl+j39G/7v/Af7Rvo0/LAAHQX8BQgDKQFRBrASWh+2JEQhVBm8Ec0MTQspDfIPOg8+CaUCggKDCaYPKQ1CBI/+JwENB9AIiwZmBh4KWgpI/3vsOuDR5GD0Zf6h+WLtkOdl7GXzRPOK7N3m7uZU6qHsOO2a7s7x3/QB9mf21/gp/koEmghWClwKagljB1EEWQFAAMQBVwTGBBcBYfue+Cz7E/8y/sH4vvaZ/hEM6RMZEcgKuAoxEKAQFgYB+Xz34AOhELgP6wLY+BL7/ANtB3IB/vjz9dz4Rf0HASwGSw4CF0sc+RxXG6QZfBcoE28MGwUD/3j6+var9Fn0L/YF+S/72vtM+yX6rfj/9oH1zPQj9TP2ZPdY+P74VPk6+aP42fdu9+X3Z/m1+0v+fACVARYB/v7d+7T4evbB9Xz2EfiP+f75vPi+9aPxge2G6pDp7+pV7vjy1fcG/P/+sQBsAbIBAwLEAkAEpwYTCngOgBN1GEsc0h0aHOMW3w6iBTf9aPcY9dr1F/ih+Zn4NfQV7QzlX97l2mPbat+45ensFvQX+04CHgpUEusZOR+KIN0ccBTPCG38zvG56qfntece6f7pFulJ5o/iit/T3lLh5uZw7j/2rfywACsC5AEuAVsBRAP4BrgLTxB/E4MUYRP0EJ0O1g2fDx0Ufxo1IW4mqCgtJ0kiKht5E84MLgjOBR0FFgWyBEwDywCM/Sb6JPfc9Gzz4/Jk8y71efg6/fECpAgaDUQPrg6zC3AHXAPDAEcAuAEzBJQG9AcDCBMH3wUcBRcFhQWgBZAE3AHE/UH5v/WV9IP2ZPsxAmMJdQ9nE/sUphQ/E4sR7A9SDmcM2wm6BoAD8gDL/1IANQKRBE4GkwYkBXsCk/93/db8rf1Q/7QA3AA3/8v7JPcQ8kntTOlK5k/kZ+PE47TlhulS79L2VP/RByQPThS4FmoWERTbECEO/QzlDXcQjhObFTUVmRHpCigC3/ii8Kvql+dq57DppO1R8qf2j/ki+u/3P/Mp7WLnteNo47Lmkuwh8z34XPoR+Sr1T/A87BDq5ung6rDrROtQ6XXm+uMv49Dkm+hq7avxDPQf9JPy7/D28N7zt/lRAaAIig2+DkIMiQfaAnAAkwEFBhwMaBG2E/YRvwwQBokAYP5uAN8FfAyVERQTSRAtCuwC/Pwj+tr6M/5dAoMFgQZTBfYC2QA1AIEBUASWByYKOAu3CjAJjAeXBrMGuwcmCVkK7ArcCn0KSQqkCqMLEA18DnYPuw9MD2kObQ2kDDMMEQwVDBMM+QvQC78L6QtgDBANxQ05DisOcw0BDN8JKgf7A2oAiPxl+Bj0uO9W6yXnvePz4RXiOePf47LjHuS25jbrze9V8572b/ugAh4LFxIHFNsOpQRD/Ef9/ghEFzAcxBImAgX3SfcY/b3+6PnN9Nb07Pfu+N73l/mi/3IE8QGm+Uvz0fOe+G78//13/5wA5/2n9hvxffRB/4EGYwGu8yPrwPGjA/USUBX2DE0FIwfdED4ZcxhYDnAB5fjv9vP3wfb98ULtNO0W8wb8JwMOBEn9MvN479r5uA44H6Me5g94AgUBcAYLBq77/e+G7Sz1Kf4CAHD7MvnB/9cK/Q8uDBYJ9BCIH/Mk/BiIBvj/CwqKFlcU/gGt7rHpoPKf+vz0COX82cndqeo682DyjO+T84X9NQXhBfUB/fzn9v3v1e3h9nsIOhXLEFD9vurG5/Xz2wEEBrEBef4jAtUJZBA4FQEaMxxMFjEJk/8OA5kPKReuEiMK0AgsDs8PpgjV///+ngZdDy4UgBarGJQYYxIHB2X9nPyvBXYSEhotF80Lyv/I+sf+cAe2DYwMnwTY/A/99QUtD6wPTAfM/Wr5vflj+5n8VPxO+Mrv2Ofe6LX1iwZID60LWQOfAEMF0AogDeEPMBdhHp0bGA2i/UH5VQBJCYoMwQoCCP0FdQSqAzIDWAAp+f3w4+4A9kUBgwjOCCAGCQURBWsClvtW80DtEepL6FDnXuhK7IvxQ/Xx9Yn0F/P/8rr0dfjB/ZkCCQT7AFn80vrp/RUC+wLlAJEAYQUtDdYSBRQVE3wTtRVZF2EW+hJNDsMIOwKd+w/3O/am+Cz8IP+YAUYEOQb+BAMAGvtW+7IA8ASRAkH7JfUb85zyFvG778/w5vP69rL5wvym/kD8B/b68Zz12P62BSwF4P9X+wf5dvbi8nzxrvTg+Jj22Oqs3HnYW+S++L0FdwHi8aLniO0J/dcEGvxP7TLrHfutDeAOOvtK4lrVudcM4V3q+POP/wEKgw2LB/n6OO7y6LPwrgPmFn0dChSCAwD41fVm+F35tPaf8mfwcPJG+acCzgmYCtQFkwGUA+cKWBCPDgYJvQgqEacarhqwEPcGtwU0CQMIugBG/LUB9gvdDjkF2vY48NH1cgARBW//mfWV8WH36wBfBP7+0PjP+1wHJQ/WCIT5XPHC+MAFUgiU/ib2svio/vH67e7y6YT0KwRwCEv/kfYR+gQGLw3UCFr/JfyPAwYPPxM1Cvb4U+zs7ar65wTCAVT0repi79T+DAvkCf7+YPd3+94Gyw5aDmsJlQQe/+b2n+4X7Bjxdvha+tXyZ+Vk2/bcvegv87zxbudZ4wzwPwbbEp8KHfbz6OrtHf1GBq0CQvrV97r8VAIjBGwD9AFn/mr47PQz+mkH/BIzE9oHgPrT9WP9JAyCGC0aiw/r/8P25/kbBBALiApxB+MHnwuADk8P3w9dD8AJp/7x9B30b/u6Ap0DIf8F+qr2tfR/9Dv3nPt4/Yf6B/ac9fL6HwKIBssH9AjMC00OMg2/ByoA/fjH83TyfvduAi0NuA8HCAD9N/hg/YYIzxOaHEwinCLZGvsNQwZ/DM8cZyfAH0cK/vch9Hb5r/u795b1fvrs/4f8evLK7rn5JQy/FtERQwTg+/z/WgszEk4O0gSc/7IB5wRHA9T/KQKvChEQ2ApDABX93QW2EMwQiQWd+nX5iP7s/hb2oOp95WnnC+lY5H7b5dW41+jdTOKF4v7hO+Vb7EHzefZx9rL1mfXz9Xr2OPfh9xP4qPjb+ywDpAyHEh0POQJR8xDtXPUlCGcZUB0vETn+tfJA9q0DNA9LEgYQuw0OC/ME1/5yAkAT/yVnKm8dcg0tCuYTQh2yGxMS9gpBDJIS0BZeFcMPrgnJBc8EFgZ/CHkLqw/5FdgcPB+NGFcLdQLCB1EYcCRtHkYJnPY39ZsCdw5xC6/7DO1O6lvx0fdj96fzOPS0+8cFzQxODw4QNxJzFlEbjx9GI88mPimgKKsjmhrrDpADQv0PACgKtRGUC/L2QOFG25jodfvTAuX78vPz+B8K4RhAGC8KNP1f/YAIixESD7gEZ/2Z/Wb+MfeY6UPgK+Ju6lXuY+l04cPfsecK9LL7IvkI743mE+gw9EMDOgzrC5kGGQP4BL4K0hA2FRwYrhkYGV0WeBPNERoPdAdc+/Dxq/J5/I4E/f/e7hPd9taP3f/mROpg6K3oN+4d9OP0gPKD9Mf+EAydEkANbP958X7qK+3t9wIG+RCME/gMngFc9/7wu+0W7T7xiPupBxUOIAxDB0EGHgkiCqAFR/4F+lj8PQOiCH8HOAFE/X8BFQvzENENxgXhANwBRgSOA6IBvgT+DvgZNRyzEp8DgvdA8cDt6umv5qrmzOkm7dDuK/AQ8+D11/Qm8KTuVvcICFMVOBYtDpoIAwvgD08Q0Q1tDUYMGQEU60fY7NbN4oPoldzAyRfE0NAa4J7fNs9mwMLC+tP94wrnUuEq4HXpd/Q/9HLnJNvM3ebwowdlEnYLpvrh7XDtCvZB/k4B5QJiCD4RTBhFGuAXtBJJDNcIUg7+HPgqISyEHxoRLww/D30QdQvfBDwB7v0h9yrwY/Bn+JL/Uv5491T0oPnpAyQOWhcxIFcm9yVGH6gXkRRsFmUZ9hk6F2URQQjA/LjybO6H72Lw/Ovf45HeTODZ5v3sc/AT8832c/pd+zj57fZg9/X5Hvt3+NPzhvGc85D3Ufn990z2C/ag9NLtbOJ/2ufeke8sAW8Gjfzx7bznyuxV9C71RvBE7rfz2PqX+vHxjOkB6gnzj/3bBFULxRWTI1ktGyyiIY0YmxrEJq8xdjB/IiwR5gaTBoUKmwqHA+P4wvDH7dvtJu4Y73LzKvu6AA3+4vQU8Br5YQwmGyYalwwo/zz66Psa/o7+KP+OARcF0QeqB9EDJv+O/10H5g/qDhEDm/fB+AcGtBJ6E4IJAgDjAE4MMBlfHM0Q+fsI65Tos/Jz/OP7wPVL914EtxCMDhwACfVV9w4BgQZVBTwFGQwoFgQbyBcREjQR4hXCGesWMw5kBXYATP4L/Nr5mfr5/nkC+P6R8xDnl+Kb6ar25f9W/x34oPNg+NcCEQhlABLwfuRJ6Gv5FguFEb4LFwKA/Mz7Gfxp+9D7vP8gBoALyA3sDb0NaA3DC3oI7wTNAnQCFgMQBIoFuAcWCqYL3AsFC7sJRwiYBrcE5wJoATMAGv8D/hb92/yD/k0DjgoQEHEOWgW4/I7+DgzvGpofYBhHDAIBuPas7VLqnO8G+Bn6rfTv8Yn6eAhADN7/oO+v7IT5QAiPC2MEW/2e/Mb+qv54/VkAGgiGDtEMOANH+dT2/Py3BdwJVwe5AZX9Nvww/Mf8Z/9qBWoNtRNdFXQSUQ1eCOoEeAMnBEoGDQg1B68Cb/vM8y/uB+ys7YDyJfnC/6oEIgeVBx0HuQbMBiEHLgdbBkgEAwEZ/Wn5xfaU9cH17/a4+N76Pv26/xcC6QORBHEDOQA4+3P1b/Cg7cTtavAG9Nj2OvjF+OX4lvfE82Xvpe8I+MEF4BGWGDscvx9LIB4Ycwj7/JMBYxQpJeMkMxUABugDuQvBEKYM8ASRAfAC8gNSAmcAm//J/bH52/bq+aQBeAYzAg/3bu3h6gHtvO296qrmNORI4wfkhelt9lQHQBMJE6kHnfgi7djn0OfP63Dzjf2vBs4JkAMH9gbpxuQ16vzwhO/M5aLenuTF9noJJRJKEJQL2gpoDkISVxQUF24dVSXhJzkggxF+BAX/HP/g/uz7Z/k4++4AVwYgCIIGXQNw/zb7hPna/bIGNQwVCNb9o/c1+uz+KPxs8cPna+aU6g/s3Of14hnjBug/7ZfwZfRX+y0E7Qo0DQ8MqQmqBpwCC/77+gv7xv00Ac8DbAV8BhsHIgfYBgEHFAi4CRkLuQvPC9kLKgzXDPENjQ+TEaATRBVOFuAWNxdkF0oXvBaMFZITqxDSDDgIOQM6/ob5TvW48enu/ewI7AXs0+wq7pjvmPC48M7vG+5F7C7rtOtc7hTzE/kI/4MDdQWYBJIBv/2k+l75Lvpn/Lz+4f8n/9j8F/pX+LP4WPtt/2MDpgVLBXsCcP7o+oD5Bfss/8MEPwpVDiIQzg64CcMBrPqa+ZoAXQsBEiAQqQgMAm7/wv4K/Y364/nj+zj+IP6Y+xb5uvim+vn9VQK9B1INGRFfERgOyAgyA2j+2vrB+Ab4+Pd698T1CfNR8MDuAO8O8VP0xvcT+gz6Nvcf8i/sG+dR5Jvk++eq7Un0NvoH/t7+oPzw9wrylexC6VPpKe0H9EH8sAN/CL8JzAc3BB8BWwCyAoEH+gzZEFARwQ33Bt7+ufdS80ry+/Pc9jj59/ka+bz3mfc++lcAQQklE6AbnCAKIUYd1xbKD+cJBwbuA5YC0QDp/Qf6Kvax86/zVfYF+x4BoAgoEdAXcxecDdD/OPkXADsOoRZiE74L3gpKEjoYgRP8Bi3/5QTfEzIfdR51FbIO9w4jEMIJnP3q9+IA4xDMF/cP1gRKBF0NIhIKCfH2I+ev3qvb7d176Zf9/A3jC3T3kuNn47j0UQET+CzhENWE4C33IQShAv3/7gZwEcESUwn4/yP/nQMTBegAW/uu+BD59fr7/c0BCgS0AeH6gfMn8FHyY/d3+ij4oPIv8e34+gSdCZIBkvWg8jL6IAFM/5z6bf5uCykWpRUnDpAKbA7tEvIQtQnmA0MD/QX+COYKZwpqBX383PTO81H4fvw2/TD9FP/j/9j6sPHs7D/yQ/3lA8gAQfcV7lLpm+kn7tn0yPmF+ZD06+6T67jpXudi5W3mrell6W7hidbN0xPfK/Gw++z2OOmA4NHkcPHP+mH6zPMu7zbw+PPz9Vb1VPVi+QkB1AZVBCf5/u0H7vH65gi1CaX8WvAW8w8DBhEYEXEFCfjL7azjZNeezhjSYOL69Ln+af8kABIGHQtCB2n+Tf4/DLkamRdXA+Ty5/doDLYaWhZkB7L9YP88BvQJkwiHBmAJGRLyGh4cnhQlDVYPXBpbI8UheBiQEZsTyRyrJv4rcytkJ08jKCATG48RKweLBIwO1R+lLTQypy+QKYAgXRbCEtQcrDCWP5c93CwMGi0PYAxoDK8M3w4IFOQYzBd8DWz7Oee+2LDWwuEo8jr82vmn73TorusJ+PwFtA0wC9n/gfJi7Fryof9ZCdUJbwdyDaod3SuaKWQVOvxN7d3tw/fnAPQD7QPdBx4SrRyXH+QZeRHICowEu/wu9l72UP4gCPALvQYo/WD4fv9XEeEj+Sp2ImwS+wc2CDMLWQbW+pr10/44DTIPTQDV7wPv5vxYCQ8KRwVDBSIIjgM29oPsrvBw/NwAifl28K7uYPDT7PbktOLo6tn2jP23/d76oPVo7Xbnx+ve+LcBfv1t9If1LQE+B2X9NO9z8MsCIxK7DN/3zOei51zw2vaI+j0BmwlMCjcAQ/ZF+XEHVRLwEOYIjwPIABb7xfS090kGExTVEowDyvQq8f30TvYK8qLtVe5L8xD4S/m+9WbtE+Io2GHUBdj/3xnode5s8wv3Dvie9WPx0+737yLzf/SH8mnw4fJ8+uIBgQJ5+jvuJuUK5Brpp+xB6Cbfm90T7NQClQ6FBKbv9+WE8CECqgdv/YPw7Oxt8LvwMOqL4/bj9+lu7t/toesu7H3vTPJJ85P0Kvi5/Ar/zv3P+qD4Ifi1+Pb5Nfw//4cBLAG2/aL4U/Sy8rb0hvpZAyENyBR6FxAUpwsMAYr3xvHr8Fj0M/reAMIHCA6xEB8MrgG++gsChBedLI8wKCFlDU4GxQ6IG/Eglx16F58StA0vBzQCeQOHCYULuwJ29G7uh/cOB9EOZgxACycU2x9+H1oQ9ABZAM8M9ha0E7UG7fuu+2IG6BbPJFInbxxhDWAGTwetAcTqrszxvUjHLtmW3wzaZ9j+4e3qIua42ULY/efz+br8l/FX6SXvZv2GCGIOdhWKH40kfx1kD9EFSQRTA4r9ZfmOALQPDxYkCDnvWeE+6hEAihAUFbYVMxptH4wewRl+G+soHzpgQl09fzHBJhYfZxhREowOgwwFCBP+VvGd50jjQ+FI3nvcyeF28F0C2QymCeD7ZewU4t7dc92b3+7kJu2R9d768vtD+tD3afUQ8z/xCPHi8vL1s/gz+of6SPrw+eD5k/p6/Hn/xAJYBYkGYwa4BfQFGAgFC1ELmQaS/8D8IQEnB0YGHf4R+SABBROlH2cbYQry+1X7KgYrEZYTUQ02BNL9svsr/Bj9kv1Q/Ub7O/ZJ72/q8upD7zbyxPAp7X/rm+zo7fztKe/m8835KvvK9o/z6fh4BDwLZgZq/M760QfvG4AppikZImEfLCmsOtlFSz9CKAQNnvlA8VHwivNb+XX9Yfg8523Srsil0TTmGPcF+4X1i/DR8Uj4vgEVDq8bOyVYJy8mYCh8LBQpzxlpCIYDLQ3qFr0ReP/I8CTyXf5GBnYCJ/mm86DzcPV1+Gb/sQg8DIcE9fct9Br/OQ9LFUgMQv2180XxS++u6pLp7fJwA4kP4xCXDSEPThXqFjAPgwXqBMUOkBngGxIVMgsRBBQCmATYB3IFH/kM53LbieCN9CkL8BjyG8oY+hGQBa7zTuTs4nTzFg1RIW8nKCFJFtkNOQo0CeUGfQHT+lX29PVR+eP+rwRhCAkI2gMI/0z+sgSnEIAbDB22Ec7+6O+07Q72K/71/Vf4k/bK/F0GZQ0uEWwTMhPCDmQICgUjBhEIngemBvQJShNnHu4j4R/4FcsOgA/fFJAXeBRTD4AN1Q8+EqAQPQuvBb4Byvzx853pDeTJ5bzps+jI4TTbydr+35nm/uxr9Jf7qf0g+Qj1GvsyDEIdKCEgFcQCVvb+86f2svfX9UX0C/V59u31f/O98Wbyp/Sf9tT3ZPks/Jf/SwJ7AxMD6gB4/KH1ke2F5rribuNe6JXv8fUi+QD6DvxUAewGNwdKAPb2I/LI87f3GPmP90z2Uvdf+UL6zPmN+UX66PpN+vn4n/gu+uX8V//WAJoB6wG8ASQB1AC2ARkEbQfJCo8NkA+zENAQ0A/UDQ0LXQdmAk78gvb48sDxru9n6azgk9ze4d/ri/CX7F/oIe7h/FAILwZa+Tfuku0w9Qf9nAAaAY0ARv/n/dv9Hv4p+9P0I/Eq9Vv81Ptq7wngoNpS4iLuVfM17xrmity11OXQztPb3Ern4+6u8/j25PbK8NXn3OTv7Ev6ZAI2AgwBEAZtDqoQpwhe/cf5CAEIC2kNZwe9AmIHlRCzETQG7/ix+F4HoxcbG8EPGv+z8/PxfvikAsIJQgi9/ij17PMF+wcCEQL3/dT9FAPZBD773Ovf5VrwlQCABRr7pe5F77j9mQ2EFKgTgxEzD2cJ2gFwAOcHAQ+tCr/8fPI99Df8PADC/8wC/QwEGF8cGBpcFW0OoQKC9LTsCfA6+MX6CPY38wX64AXOCrgDBfgx8h70U/fg9lL18Pfw/twE7QSz/xH5l/NL70vskOxa8qH9WQutFgEbFxeND2YMDRHQFroSowLv8VXuA/kIBsgKHQmFCVINQwzTAPXxJOyh8nr8/wBbAkAIQxP1GuoYcBCOCCwCTflP79/t4fvaET8e6xb0A2n3u/vMC6Ealx/bGq0RpwnwBkcLmhTbHTcjTSXsJvEnACQbF1UDr/GN7Bn3sAjjEjQPNgZmBdMNwRFhBorzQ+y0+J0MLxWUDKz95/Z+/PUGkAx/CjsFjAEO/6X6vPTd8fXz7PV28enoEOd18toCjwe6+STmiuGr8oAKJBTOCuT8kfn9/7gDWf6R9lv16/m1/IX7LPw9AqYH7wNz+IHvMe+78m3zsvKx9W36/Pg48Lbp6uyN87fxuOfa43LvYADKA1L14uSj42LwVPuf+ub0//Vy/mcDnf0G867vZ/iYB0MVCR7DIQcfIRRyBG35TvuuCAAXDxyeFtgNyAn1DLgTzxf2FFcMbQSlA2IJOQ10B3z6hPHh9HQBFw2qESMRfw/7DGwIWgRtBXULuA9LDEQDOfw6+w/9pPza+f/4oPwUAq0EzwLQ/pT7j/k193bzze446kPmBeQl5u7u3vyzCqgTcBbfE2ANpQYyBugPtx4yJ6YiTxbbDTEP8RThFBQKaPgO6FHfVd915ITpMewd7vTw2fLb8DPspOkN6+TsMexc7CXzq/+bCUEKTAMw+9T1d/Mo9Jb45P/CB/cOThUjGWYYBBVMFAgXgRX5CAL4lfLX/hUP7RD2A9n50/4pCqwLTgP4AWsSzynnM5YpcxUvBQD+s/+fCjMciyn/JYYRyvsL9en9QgmXDAwKsAlRDfwO5AlnAEX4RvQp9E34VQHVCzMQnQne+wfwq+sW7QzwtPMY+iMDzwoYDVUK5wUpAaT5Qu1/357Yo9657rv9gQBR9RzmuuAI6+P9WwxcEAwP2g+qEbwMWP+V8/r0YgLUDmkQMQpcBVcEewG3+UTz2fbLBG4USR3zHb8ZdhOWDEYHTwUcBZECQPzs9Vj0hffW+sT6pPg0+MT6K/4jAA8B5QJOBvkJfwzqDdkOuw7RC1gFVv2E97n1nPUk8/7tcuv28Nf8fQZtB4YC+/++AlEF/AHh+lv2UfWb8nTtFO/+/98YHCVVGPr9/e2w8u/++f8g9E3rx/JmBYARQwyu/DDz6PdkAzMJYAbiAcAAOwCq/YD9cATrDFELg/147wLtevNF9ijvMOV347Ds+Pj3/R74BO2F5WDlouhW6ZPmbeTh5SHpqeqy6Rrot+cb6p7x2f5LDPwPygRL8djijuET67D4ZwbEEQoW/g9UBcYBKwmVELAKu/md71v6zhOPJyQn+xU1A2j7iABsC+0RkQ1uAJL0yPP+/S8JugwoC0QNvRPAEiUAI+T81bzk3AX0HmQgxxLwCBEJzgik/knwleu29OgB4wgDCtEK4gpeBSv8p/nuAwwTyhirECcEPf/5A5cKyguOCIEHEwy3ETUQsAQI9l3vEvWW/x4DKf3P92/98QpKEv0Kc/x19aX7yAbJC3wIFgNJAdACdQPO/2j4MfLg8sT6/QJzBDEAif1O/37+tfKK3qXPE9FY3yHsJe1j5bnfauKI6YHsb+eQ3pjZuNzq5d3vYfZj+I/3VfdJ+/kDwwwjD1UKIwZFC+cYUiSnI/cW9gVR98Ps4ua/6Nj09wZZFGsUvQij+r/xCe9r8Br1SvxzArMDyQDs/pYBAwbLBWH9ke++40Ph9+pr/AgLmQwaADTwLuoD8RL7B/6J+iD5dv3JAer/2fkq9pb2r/ZQ8+Hu2ey67F3s9Oyf8WL5b/7w/Mn3sfQK9g/7lgOPD38bVSKlIwYkbSU+I60ZFQ6oCl4RVRdCEGz9dO6K8f4DBBXCF3cP/QdnBgQG/AIiAYMF0w35EqMSpRHVE3IVKhDiBFP8GP3/A9kHAQPE9/zs9eee6FvqTOmr53fsBPueDEIVqg9HA5j8ZAA8CCYLdAfqAvwCCAe7CawGYf669crx4PNp+RX/LgMmBWIEJwG1/qwCxg8dIAAnCRwZBd7yZfHY/MgGmgVo/N7zU+937NjrmPNHBlEa7R9VEeD69fCA/QgXxCm1KVUcSxCFDHcKGwJo93T2wwKFEIkRoAXk+fT4eQAZB4cIDQgiCY4KFQpPCYkLIxBpEqUP3QphCMMGaf8T8J7hCOF78CICBgV+9trkgeAx7IT8LgW/BIYD7whiE2MaWxcnCyz8g/Gg8Nj71w6DHfQb2gps+Rj3TQNnDjQLh/yj75/sXPBC9ET2vfet+BT4iPec+t8BXwi3B2n+ZfHq55fm7+12+90K+xZfGxkW0Qjr+P/tC+4S+W0IIhOUEysKRfwd8Xft/u9i8h/wRex87lD5fgUCCVcCL/oK+TH9R/1x9FPpYuc58jcBEQiVApv3EPGC8s33tfuA/eL+ef4X+G3rg9+r3KzjVu3t8sz0xPft/U0EUQdHBz8HxAhgClcKVgmWCfcLAQ/CEMQQ2w+SDpgMsgmZBokEFgTNBPYFWwcrCWELkA1DD2MQFBFQEd4Qmw+5DaQLrgnpB1gGLwXTBFwF5gWiBK8AOvzu+3ECMQxkEX0NAgTf/E/8tv8tAmECsgLPBCIHFAePBBkC2AGYAwEGuAiVDAQS+hfiHA0g2iGwIlAiTiDXHLUYlhSXEJMMogghBU4CDgAq/qH8r/uF+x78Xf04/7QBvgQVCGELXw7jEMUS1xP5EyYTeBERDwsMhQijBIwAX/wu+AX08u8K7GPoDOUd4q7f2N2w3EHcidx/3Q7fGOF04/HlXuiL6k3sfu0E7s3t2ewz6+/oLeYW493fs9zO2WDXmNWZ1H/UWNUj19DZQ91Y4dvlmOpa7+3zJPjd+//+fQFcA6cEcwXdBQMGBQb+BQUGKQZxBt0GZQf7B4wIBwlYCW4JQAnHCAQI/gbDBWYE+gKaAV4AXP+g/jb+Jv5w/g//9v8RAVECoQPvBCoGRQc6CAcJqwkuCpYK8ApIC6cLFwycDDoN7g21Do0PchBkEWASWBMxFLkUrRTME+sRFA+QC9gHegTuAYUAXQB2AbkD/gbvCvUOMRKhE3wSlA6XCAQCufxM+mr7fv/aBFkJKwuLCf4EE/+u+U32f/XN9g/5AfvQ+1X7APp9+FT3rvZk9jn2I/Zv9p73Dvqe/YYBeQQeBZ0CGf3H9ZjunulX6DPrePGU+aQBDQjaC+IMmAu2CNcEWADd+xD5D/q4/rYCtQCg+X320/5jDcITiQs1/+f8twM9BaD5reo256Dw9/rI/Hr4s/Vx90n7bP7z/yAASgCXAokH1wu9CiYDofk89Ej0jfTj7m/kVd/Z6WgCGhoBITMUNf/t8Czwy/grAfgCHgGSBIEQZhomE3f6heRL5iv9ZBD3DND6c/EH+5wJhArZ/UD1Pv3oDbkUGwrS+B7wt/J79pnzle8B9mcHgBQGDpr3A+YK6Zb69gYABIj70P1GDWkbbxmPCN/34fP4+jcCtAJ+/0n/UAM4Bs4CMvo08yL0tPyFBUgGj/1h8oTtxPFF+/EERQzJD/cMwALU9QbvofJy+sj7X/Sv7gj3Eg1iIuMnshsICb77uPUy8cfrRewl+7AVIyzOLx0iChKgCmUIJgKa95jxIPVS/Gv+Vvre9ZX1hvnW/98FRwfxAB/2nu6G7gPzmfjp/8IIaAxeA5LxA+dd78YCZgwQAkvxBPCsAcAR3gub9Ankoej09kv6x+9x6GLwJf00+xHo69WG1PHeZOVR4/LigOyv+88IwBOzHuUjMRu+CcIBmgx2G84WBPy44hnhAfKT/br39uyF7+z/bg59EA0NcxELHyYpkiRZFIUFfAG6Bt8M8Qz5Bdr7+PKC7afsVvL+/m4NvxTvEA0IxAM9BgYJmwfNBikOOxxdJq0kJhodD0sH+wAu/Mv8ywOuCoEK7gV8BssOOxXqD0ACLfl/+4gD9gg7C3sOSxHIC8v6c+i15O7z1QdLDSIBGPRv+OsN/iJFKMceIRJ8CdACWPsN95z8lQsFGsgc8xBH/IXmiNXJztjW2er8/Bn+pO3s3MHeU/ToDJIXfhEtA5v1Y+7X8XwAixHKFsoKefh18On31QQuCgIExfe67EfmHOR65XLrP/etBU0N6gQp7jDYIdT/5A38LAf1Aq38nAF3D5wYCBanD0ERDhyGJ2wtPy+ZL+MrXSDBD3QCtf16/kX+9PqX97P2hvYq9H3wg+/Z8vP2g/df9b/1zfswBWwNWRJEFN0TFRLLEKYRhxQNGAgbcRznGrgVYQ7nB4UEYwQvBjsIcgkrCg4MARAdFLYUAxD1B+j/Gflu8lvrx+VV5Ern4evI7h7vD++C8Yj2w/nq9dDrD+Xi65j+Nw63DUIBl/lx/6oIywXO9iDspfKfBCoSSxR8Ef8PhAur/Z/sg+j2974NURcfEvQLWw/fFhQWxAm7+kzzL/ZJ/m4DtP889Czqeet9+LwGzwsSByb+KvOJ5IDWZdUM6KwCMg+SBXT2O/gEDP4bkhUW/0XvDvMYArwMSg5wDXEPABJvEWEOrQrtBBr7te+l6Ojouu0b8kvzmPEB71fu3vFS+OX7p/Yp6XbbXdYi3MnnZPJp+Bf74/00AvUEgAGG+HDyHffZAvAHRv4o7hjnqu1a+Hn+BAMVDO4U7hAn/TnoO+Sl814IFRSmFAAQXglE/6/ykurl7Ff2hfy7+I7uxufS6wv76Q7cHOEb/wsK+Xvyif3/DxsbnBpVFkcVFxQSDJYAwf7fDGgehB5fB8LqKuBl7Cv++wGH9YPmDOIl6Ifua+xJ4onXvdK91F7aI+Fd6f7zX/9IB6gIZAT8/Zf4kfb4+UsCYgptDEYJQwiFDRETEw9cAAfxjevw7wD2afhT+ZX7N/wX91XwFvPBA9UWNhsxDtb/s/9FCYIKGv2G8Dn2Ugq6GCYXTRBgEtwaTxvQDvUBRgNpEXMdxRySE7MMpAumCs0EePw79gzyH+5L7hH6pRDFIyYk2hJbAbz+KAiVDpgI7PrE8FnwLfd0/ZD7DPCN4u3dauRH7MXrjuYk6sb8pBR4IjAhsReBDR0ESPwx+w8Euw4mDHr3Od+62ILqywVOFvgV4w44DDQOfg5vC70JEgxbDqYLmwUwA4gI/xFMF5cSEwXO9fDruOkh7aP0yAC3D8UZdBYEBhH0bu76+KMKJhYdFXkLfgI6AaoHsg6cDZ8CxfaQ9nAEkxQvGWMRjgeBASD5O+g71lXSceDC8hr6Kfhf+z4JvBMQCS7rUdGs0Czn7f/pCQoGMP/u+RvxjeG60xbVUejw//sK+wXj/CL8uAJTBcT9sfM79JICiRP5GNkP0AEf+jL7Yf+SAcQCwwY4DYAQgAwbBb8CmgdpCzcFIvgd8rT8PxLBJJMsOixmJ7Mcigu0+0b4CgLnCxQJz/zE9lz/2gz7D/UH/wMZEEYlNjCaJS4MwvPv5sLmIO9y+pQCtwNPAM//YgdzFOAe9x+tFmgGFfQZ5cLebOO273/8xQSYCP8J/QjfA176I++E5kPkd+ma83T+BgjrEWIdhCZ2JfwVgf2j6F3i2OxKAdEU5h1KGBMHqPOX6K7q8PWeAcAHmwhtB1sFLAGN+xX5Bv5ZCGEQkxA6C10GYAN//l33o/W5AFgU0iFlHpoNIfyl8gXwBu/w7ePunvIg9sz2E/d1/BEIPBNWFcQMfAAB+TD53v1LAuIDAQPHAbcBrgGE/mP2TOvb4frdoODH5xzwu/e9/7MJaBPWFywWrhQnGFsajg9/95XiVOAS7Lny4uvn5B3u7gITDWD/Juap2Qbkw/jUBG8CW/t3+hv/MABg+arxlfOLACoOHRBgA/Lvf+H83lbnn/NL/Ar+G/sD+On2U/Zy9Jvyz/PW91T6+/ii+MX/8QqfC8L3StleyP/SfO3S/vD6Lu0/6V32hAqzFdMOC/m34fPYYeZ6AbkWNhiaCvL/uQQ0E1AahQ8n+KPizNmo3gDrbPcpAG0GSg1SFK0VvAuS+XLrIOwc+soJ/BGhEwQVtRggG/sWKQrw91zo+OMu7eX92gzIFLgV/RHkDL0KKQ6eFDIYlhV1DrUFG/xo8p/srO8m+5QH+wyLCkUGDQUDBf4AS/gF8V/ypP0ZDb4YvBtqFuwMRgSz/4D/ygFdBBgGFgf9B3IJ7QuYDykUyRgaHDYcPxfhDMz/avUS8//5IAUWDHIKOwR1AYAEUQcHBAH+uv6hCZYWqRpRFG0MDAzWE3YdyyISIgIdvRYsEyUWcSC0LKIxZCqvHCMTjBCUDGMAVfM09YgLgylzPHU8Zi6oGRcC+OuM38zjr/VNCEcQrg4cDhMUORj1DZL16N412Rnk/PIF/Mr/SgObBnED+PR84FDUl9q/7D34ovKV5Yfi5ey+9rTzX+iI4hLml+jq4InVpdZY6qcCiQmZ9uvXKMWGyWfaGORX3+XXtNxj7Gj11enwz069QsLJ2v3yefm17YzdI9aD2J3c7tw/3BDgTOj07lPvSeu26DnrpvHL+KT+SQJOAhP9KfNn6LrhvOFa52Pvy/bH+8/9k/0O/dT+dgQjDd8VJxvTGugUVwscAUb57/Vn9wT85gBTA9UBwfza9Tjv9+nl5Tnjr+R17iwBPRZAI7MioBjTDUgHnAMjAP/9qADGCEoSKRjWGGsWdhPfELwOzQ3xDn4REBOIEf8MoAfPA7ECFAQcB5AK8AzlDBkKlAUeARf+0Py8/BX9O/3M/Kf7+fk5+PX2ivYV95v4G/tu/hsCUgUzBzQHbwWoAhwAFf9sACwEaQmQDvcRiRIxEOILSgc/BAwE6AbdC2QRbxalGlIduBzHF80QuQyGDosUVRsEIc0j2x9hE14EHv0HAX8I0AopCcELKxVkHdQbMhNWD+4WtSJfJdkakQyABskK4RGdFMsS2g9mDLUFtfrt7tjnjehm8Mb7sATSBA376e/J8BkDDh0hLiAvvCfDI+4lfCflIuYa+RXTFQcWThJrC/AEKAAc+zv0HO3O6G/oZuq67PHuWvGo8yz1M/aZ98z4/veX9cf1GvwTBk4NiQ+ZEbkYJCPJKW4oqyGxGqMVgBGMDewJ9QXNAToCpw2mIcwuvyV+CavvROv7+VIKQRHWEuwUVRI+A5TuteeU9u4JxAmS9PzgtOCH6gzoUNQ4w4PIXt9C8Yfx9+m46kX1SP0A+zv1XvfLAm4OaxJhD+MJvAMH/fX4P/wNBokOMw+2CsMJyxB/G+ciISUxJaUkWCCZFMQCCvGr5OfdSNqT2R7epOdn8EfyiO6Z7Zz1tAKSCggH6/ta8231VQKvEZYX8w1A+y7urO/R+Sb/T/oU8yPz6fmz/n78CPem87vxqe3P6GnpbPGf+Rr5AfBb50jmq+rc7QruB/A8+KkELQ/2E/gTnxFwDfUGpf8C+3z7/v8NBeEHwAfzBIr/+fep8Gzt6e809H3yieYU1t3NodWe5jbwXujU1prNcdUx5P7ou+BT2iTlef71E0MX9Ap/+4nw4Oi04Q7coNpw3vLmCfLQ+gz8vfaC8735YAYBD7UN2QYGA7UGdBCpG7Ei5CBGFp0IWf6Z+Mr0jfOP+S0HEBM1EvoEiPfD83P2bvU+7prpCu+x+SP+RfnG8s3v/upX3wfVktnJ68r5hfeI7231YQu/HtUfdhS9DSoR9xM7DK/+TPf1+A37LfcC8z/4uwVsDl0Ij/jy7M/s0PIX9lH1qfa3/lMKzhFaEdkNpRA3Hc8q6SpGGFf+te5T7zn2Afhx9tn79wigDnT+A99ByFfKWN2u7ST02vpxCvoZLxgCA5DuKvDzBVIZ9hiyCYT7ZPUK86LyA/rWCkMZvhYxBaX3vfslB2ACcebuyNLFbOCnAKIO0QmsAT7+tfig6r7bRds57nIJIh3yIrQf/hnoEjwJjABdABoL1BkqJFApXSz0KcMZZP3S5rjoIQGLGbscwQjP63rVKs7r1rTpMPqY/Xv1xO7b8cD2s+5x2QjKQ9Lq7GwCBAPh9t/xT/sSB3EGQfre8GL0gP8DBVz/x/bz+EwLZCRCMl8pjw8Q+CvzvACWEmcbbRp7GK0bbyDRHlsUFwdKAHEFPxSjIkok0hQE/nHwNvP2/Mr/ZvrG+AwDlxCgENr+n+oF57H1TQW7BTb60/Nw+50GYgV59yfuufdXDY8Z3hCo/w78OwuMGpYWCwQf+n8E+xMIEon9Euzc710EkxZXGrESsgiWAEn5vPIZ8bf4UQeqEhkREgV1/QkGbBiOISUY9wiuB0EW4iKOHxoUdBJnHYwkwBphCLkAkggRDwkCq+RbzY/NPOAG8ir3E/Vk9yYBYwu4DvcJBABh8x7mP9wh2xfl7vWRBJMJ9wSg/Vb65Pu4/g0B1QQ5C2cRohRBGOsjbDl4TV1O+jSzDlTzOu9/+XEBwwIXB9kUKiQFKQ4jXRxPGiIXFA3jAUMBXw35GRAZJgo3+qv05fbH9GvodNqR2W3rKQfQHZsmciO0G74UlA/UC5QKcA3SE2Yaph2KHLAYYxT2EMMO2Q0RDqMOVA6mDNsKKQsdDvUQkw/fCKkA+fvF+538a/uo+Ej1lu7x4CPPucKnwffF78R8vq6/RdKK7U79FfgC6hrog/vpGqM1I0J/QoA+ejt4OWE20DHBLLUmcx2CEGkDHftP+f368/s++4X7w/7vAlUEbgJvAC8BmgQ7CZINGg/KCvoAePcK9Yj6AwIgBQUD/v+tAB8GDg1IEOUMIgXp/ij/SgYOEOMVxBIPB7b5kvSF/csQfyF0IlAS3v4T+VsEthM6GP8PbQXLAiYJnhFTFAwOiQGI9CLrFOYP5aHoJ/BC93z4OPMQ7ebrx+8V9LP1T/Vh82PtBOLK1mLVeOHt8g/8Hvb4597gY+tXA9IYMB/fGMoRMw8yCkb8tOtc5RbsffQ88jblftdV0bjRn9HmzEvIBM4U4vr59gPY+VvqKetvAAgWLRR5+YXcftMY3mHq8Ovp5/Lonu0p6pLaWsq8xdjJX8tRyWjO6N5378DzlO6M60btS+uf4LnTy80K0e3ak+nC+K39+e7B0q29876/z/Xar9QKxhTBs8zW3q3oe+Xv3EfZiN1x5cjsCPQP/XkFYgfKAFT45vfGAQINrw4TBhL9IPwXAQsEhwI3AsIIXhRBHT8c7Q8a/oTxyfLX/zAL4Ae498Hq7+0j/OsDEvxy7m/rD/Un/Fv0HOZs5gr9tRi1INsOYfQ95hjpXfHi8rHseOZx5uTr9PFs9ar3b/zXBNEMFw9NDOgLyRPUH28kNBowBk723vWsBBYXdB42FMX/Y/G39HUGfhc7G+MSjwmSBa8AvvEw3AfQ6dcq7Lz82wSvDV0dNyu0KQoYUwSr/FcCYAyXE6gZriQaNVZBOT0kJ24MBf5NAKEIygt/C4wRJh9EJ/ocVgRa8OzvsP9oD6kSgArgAA3+MwNgDK0UpBh1FwoUCRT1GmAlByt4J1AfsxozGwcaQBGWBFv+oQP2DawSuQ44CKgERAIm/hL9hwfWG8sqACiiGkwWpSE7K6cdhvvd32vh2vrKEs8XHQ+ECGEK5A1wDAQKTQ9GHL4l9yFBFccOBxhhKTcxTyZMEf4CKQPsCjQPEg0nCkQLMA4XDdkFvfyG+HH8KAX0CugHI/398XXtQ/BN9V33uvWd8xv0r/ae92T0BfDZ8TH+WBBlHcMd5xOwCbsG7AiKB1f/h/kJAoEWqyThHVUJqv01CFke+yjfHIEFR/j5/vcPCxohFRAHP/sy+ccClRZyL39CIEOSLdgNEvnA/NASKSZDJakS3gKWB6McLyzXJk8UIQmmDuEZIhrSCyz6I/L39/kHHxsJKCwlXxF3+nz0YwXQGy8f+glQ8Dbqy/kSC4AMBAKM/OwCIgrFBPvzA+UK4XbkguZ45YXoQvYIC2QZAhUx/1vozeHV6+r0p+5P4c3jbf5xHEohHwmh7P3jue1/9n3zN+zc6nbsFufJ26fZ9ut6Cu4gkSSsHN0ULg1Z/Wblg9OP1YjoVftXAf381PaD8BXmw9hY0OPQeNU82NPaPuLu7Hzyou4Y6YXurgCdENwMaPYU4+Hmw/yWC7oC0uv03BDfIOmB8Wb5YgM7B2n5rN0MyXTMseFK8zL1nO8w8I32JPVm5GbPiMkL2fnv9ftg+tD4rgEKDYgJkvOU3bPcevCfBEAL2wxiGOcp+ixqGXkCDAEOFAQhzhTz+vvudPsqDxUTvQPk8LLoWOqM7CTq+uQK4eLhh+t3AEEcljJVN6coaxBr+xrwfe3m79nzzfVf8+Ht9ugF5kTkIOaD8VsGUBjsGEwJ2fsLAFsPFBSGA1vrGOHy6Aj0xfbg99cD2hfBIhYb0AqxAAX9O/WV57XgX+qo/IUHRAeGBr0LPw5BBKb1UPZTDBAkIyS9CnPxgPIrDbAmfCWdCZvqCeCu7TAEQhGiDWr+Y+3S4jrkCPO7COEX4xZAClb/B/zu+JPuCeN+43vxvP5t/5L6agD3ETocuxDt+jnzxf8RDr8NsgVjBioQChS1C5kD7wiKF+0g3h9PHP8cmB1XFmAI8PzV+YX7ivve+F33Tfl1/En90Pr997v6DgijHR0v9C0QF3n3s+Ep397rwvzPBggDXvK730/ZFeM+8d7zt+h93oLkI/kYC4MLCvwA6/DkiuuO9+X/5f/O+i765QQHFYgZmAaV5OjKR8pr3fnvt/IE6HbeKuFu7SH3UPYR7wnr8+zu7Z3nCt7i26DkDe5E62XdR9Ty26bt/PjQ+Qf9eQzvHIMYqvpU2mDT+uiOA3gLFwCr8mvvw/G47v3kXN7V4u7ucPgT+n/3i/ax92H2H+/S46DaStmx4Inr5fG773boZeNv5O3o1usJ7E7t0PKb+Q769e/C4MLX+trz5HXrwOsV7eX1iQG0BIH7q+7I6BXqOesG6hXt6/jvBiAMYgad/dn3MvJ26D/fiOCy7qr/ywYFAZH1Tu0S7Lrw7Pfh/RYAW/9V/7MC7weoCkYIewJI/TT7ffsP+0L3xvAY7Iftp/Oy9xz2dfUBANcU4yPFHZQGvvPJ9QsI0BgkHrMdKCGlKDksyieQICYewSGNJrMomShyJ14kWB+YHAch4ipKMWotaiLqGUoZFx04H/QeviBUJ6EvIzS5MgsutSk9JhIhsxi2EOYP8xfTH0obeApj/S0CBhLgF00MKwLyD1cwJUQLNrQU4QI+EQIv2j+FOQ4oeRqZE+AODA1zFLQk9zCZLFccHhS+IF84DUbCQfc1MS7vKEEfwBLGC+YM3RDUFCkcBCcTLRcoVR9YINwsVzfbM3AmWRwuG+gccBt7GV8dPCdxMFkzRi+XJM0Rc/g74srauuI67djtzOUX4Brj9+rb8T/4lAEADLoQiw3sCUIP4BzzJroiTRKOAv/9CAMYB0cBuPEd4f3ayOVS/MUORw7u+srkk9xh5PvxO/7SC7gcjSfUH44ICffW/aoXSiwbKlMWwQLs+Ej0Ye426YTqcfHw9mH4uvxjCw4gSyxjJqkTGgLb+RX48/Z19vT6MgV7DzgTbw95CKcCB/8Z/Wz9WwEUCc8SHRvsHGQTeP/J63TmD/NVBHwHAPfG4NzYEuaU+4YFu/x27VjpHvP4+4j2nOef3j7gLeFe2CnORtJ65if7bQE3+pbwtepS5qfiHOYf9VMHlA0XBKz47PoaCocXrBhDESgLDQqOCgsKQQrgDGAPtQ3QBwMC+/8PARgCbwHa/wr+B/un9eHunek46Mbqve+j9ZH7jABDA90C8v8//Fz5z/cq97z2AfaS9DTyJe9B7JbqquoS7KvtPe4F7frp4+U04p/gauLa5xHwO/mNAH4Ccvy+7+vis93o4QDpeOqr5OHdeNzE3wniAeBA3P7alNyW3XLbOdea04LR4c8dzn7Nps9o1LvZeN2q3ifdwdiQ0fXItsGvvivBU8jo0ULbFuL45PHjpOCi3QTdOd/R4mTl4OSQ4IXZT9IHzgbPq9Xz3zLq7vDN8vLwFe2N56/gI9wQ4Mvtq/yFAMT29ukX5nXrPPCQ7RLnk+Th5+zr1uwu7fXxhvu7BIIIVQbXAPH56PHQ6c/k9+U67Tj37P8iBZYGywS1ACj8rfk1+9AA3QgJEdoW6Rd3E88MwArpEdsetidpJbgayBBbDT4OUQ6GDEcM8g96FSAZ9xlJGvgb+x3eHb8a+BUlEaEMJggnBLcBLwFyAeMA2f7z+0v5ofdJ94v4gvu//z0E/weqCp4MgA7FEI4TqxaMGXkbhRxOHtkicinlLAknDhi9CYII0hZIKEkssB7VC4YCigQyCAgHuATwBQIHCgJr+3z/1xC+Hy8a3wIh8WP3FQ4KHKYSb/3F8+X9SgwgC2v6BO5w9aIIlhBtAdrnKNsM5DX0+/f97fPocfg3FDckPhwUCX3/hwQ7DcgRyBYHITAp6iNSE/MHWA7ZIIkuyyzXHsUOlwQTBFEN0RrRIe0aAgwGBVAP7iEBKosenQnI/ZYE3hd+KSMveiesF5YG9vmB9ef5HgOZCDYCP/DP3u7d1vLnEO0jziLMFiQPpQ+nDuUDRfXK8fsA7RmXK+MseyMpG2wYoxWpDBz/jvKn5z/akMqzwT3J7t6q8+P40O6C40Dj+Oui8mXz9vaRBc0YviDAF/EKdAqwFFQYvgvk+nz4zQVSERwNIv/w94b+tAryENENTwXs+wD0wO+18dj5AgTVChEMkgmSBo8EaALq/bD2x++n7a3xPPgf/Hj7yfiX96P4RfkL9pnupuer6N71PgtBHtwlyyGkGTYVaRZQGTMYGRA5BBb9uQDNCgoQDgwwCM8PWB/dJP8T6PXi4XDmzPtmDWUPVwlzC9Ea3yozK00ZLwIJ9AXyVvYD/EID5AwrFakVWQxo/1X4svo+AEr/3/Sv57/gjOJp6E/t/PBD9k/+NAcXDugQtw6bCOwC7QLeCHUNiwgV+9PvGfCs+cEC+gZ4CzAU8BmaETf96O7e9fIL4BzZHtgbJx/KIdMSf/F/1LrRc+SM803wE+Z753Tz4PY16E/XfttU9o4PzA7w9FHatdZb7bkO+SgANGEwPyFeC3j3de+z9lsGqhKIE/8IzvmK7nDsyvLZ/HwG7w4pF1QevSClGoIMufxA9Mz3MwOHDAQN8wYgAhgDUwenCXwIYAYNBgIIhQsbD98OlgVt88bif+Ff8qgHwA/OBiT5IvRO+AT8wPik8ffsQ+u456zfkNbI0dfSLtec3Lbjhe1R+DgAugKxAOv8nvm99/f3Kft5AXwJBhHXFmMb5R/6JCUqRS4zMPYu7ilCIUEWHAvxAe/7D/l6+Av5qfl0+fn3SvXh8U/uAOs36CvmI+Vf5fbmuekn7X3w3/KN8zfyOO+O65Hoiec36Yzto/P9+er+EQHh/7D7o/U/7+/pmeZl5eHlU+cp6UXr/O3E8bv2SPwZAZEDdwKl/Vr28u4J6njpdu1v9Jf7DQAXAOH7bvXF757tNPC69q/+7wT9BvwD+/xu9DHtaunJ6W3tU/Iw9k73JfWO8G3rB+gr6H7sJfT5/DAEageZBYD/i/f78Knu5vHf+dcDKwysD+UMsAT0+Yrw2uuT7Sf1EQDZClwS2xRwEswMZQaEAX3/cACNA5kHiQvUDmwRexMMFdcVVRUJE9kOPAknA7394fns9433+fdR+Oz3mfaV9FzycfAs77XuCu8V8LHxnPN99e72sPfX9+T3nfie+u/9xQGrBCAFXQLu/K32HfJa8Rv1OvwlBOMJWAssCPABaftq97L3SvydAz4L2xAZE+YROw5+CdUEvwAG/Rz5m/Su7y3rY+iR6F3sefOV/MAFDA0uEfIRQxDEDSEMVAw/DrYQBhKwEBsM2wSL/Dj1tPD078nyBvj0/eQCvQU5BusE6AJRAc0ALwGeAXYBLAGwAS4CTv8n98XubvBoAPoTVBhqBUXo+9c34C/3wgdABLPwAt7021Dt6gYOGvcgIyGLIQIh+BgYCRL8/P3/DhwiAyobJQcbaBBrAnfwxOQe7KUEMRvLHe4NnfyR9hn5v/pT+fb6XwNQDXwQFwupApf8wvgs9H/uwupK6/fuOfN/9239AQa5D8sXihzqHTkcShdVDwwGMP7h+X758PvC/78DAwcGCQYKGguGDbERqxamGvAbuRlJFMsM3gQE/v74g/WV8kfvhetF6AjnFOm+7iP3cACMCOUNBhCfD/8NSgzfCkcJnAY0Air8kfUo8Kft/+7g87/6YgG+BbUGiAS4AHT9xPzG/zcGig5jFlwb1BtdF80O3wOa+LHuJ+c94qff4N533ybhzeNH5zDrx+5H8ebyb/Xt+nsCAAcXA4j3cezk6YHvKvVx9JrvLO6p84H7ov7y+9z54P5KCbkPxQp1/cby9PJG/KYGyQxqEOUV1xxoHi0URwFV83H3GA1dJU8wjCpLHYETcREbFWkaWR1CGxIV6w/mEE0XOhzfGBsNhf9R9+T2CvyZA8MKaw3cBgr3kOZZ4vTw3gv/I0otqyaFGIAN6Av5EeAW2hJLCYcH6RQ+JsMntxSk/gL5ZALnCKYDlf4pCCcasB68DHf2GPW3Cqsf9h3VCLf1s/KN+l8BvAWUDxkgrSklHSD+k+R75QH7BgkN/ObfeNKc4Cv3XvtJ7RrpqgNsLZNAECvrAnXtofcWDUkUtgp0ARoEwgvyCu/++PBR6jTsZfJ2+CH7bvgo8ibvkPYPCA0a2SHIHSgWFhQJGfof7iTLKMItdzKZMrorACC/E4kJWQHH+o32jfU+9/f5sfzX/xME1Qg5DGcMtAimAVz4Te5X5VvfXd3t3nviUOZU6TDrAOwD7JbrDOuN6gjqW+mV6AHo8+eJ6KvpHeuJ7JHtXO5g8PT1rf/LCQIOAgrCA4oEtQ69GrQgpCJgKdk24j8YN5kcAABO8k73/QSPD98TIhbIGC4YghBlBfX/vgNQCJ0Buu+D4i/p2/7ODIMDAO4p5pj1/Ah3B+DxMeJ364MC9ws0/SDozOXg+l8U1RwVENz6OOxo6nnyLf1/AzQCe/uO9APxq/CD8QnydPFG76Hrbeek44XgRd3318jOEsOAuuC5BL6Fva60hKzPsAvASssfyKS9Wrv1xdLST9Zc0dTNGdEY11vaZ9w8437wYP67BdAE8P5H90bu1OPs2WHTsdBez9rMTMkrx7XIa86a12/j4/Ak/ugIxQ8mE74UKxYjGJsaOB1pH1EgAx8eGz4VzA5nCWwGuAZ4CuwQUhhQHrMgQR4oF/gMNgK3+b71OfdO/ZgF/wzNEKQP9gnXATj6zvUX9s/6KQKyCV4PbhKzEx4VxxjZH+Yp4TTdPSpCakAeOXouhSP8GlkWahWjFvMXwxevFaoSjxA8EawVdx3HJvIuUjMbMu0q6B5ZEA0Cm/bG7x3u/PDO9pH9ZgMPByoINgdQBdMD/QOfBvELjhOJHI8lEy2MMa8xuSyjIkkUWQMW8uLivNfI0QjRctRJ2qTg/+WS6V7r9usR7CXsKuye68fpD+Zp4H7ZotKMzdPLcc5X1U3fLep58yL5QvqA9+vyRe//7j/zV/vzBPAMiBBmDisHPP3U8+HtAO0F8Tj4FgBJBmoJSwnOBlADEgDM/Y78/fuY+wH7GPri+HD3x/Xw8xjysPBZ8LHx+PTd+W7/WARdB8EHrQUzAoz+1vqN9WbtduSM4BXmFPId+yv6z/H46v3quO7s703tg+sN72f3xgDWCBUQBhf8G6kc+BhiE2wOnQohB7MDMAFmAAMBBgLQAngDKwSoBJ0ERAROBD4F+QYMCTcLiw0IED4SZxPBEuAP1wpOBIf9J/il9Yv2JvrG/oYCJQSHA80B4gCsAhcIdhCHGTog3yFHHWATCgc3/Iv2CPg5AEYM9RcnH2AfohhPDTQB/PfO86L0hfi0/PP+nP7R/Nb77v0yBP4NHBmvIkwo5igXJbseJBgrE6EQMxDSEFMR9RCcD64NpQutCXUHWQTG/635yfKE7I7oQ+gm7J7zHf2hBl0OTBN3FdcV2RXEFiMZhRydH7sgcx5AGNAO9wMp+q/z4PGi9Gz63wCzBZ0H2QYFBVsEngYrDKQTZxqfHY4bZhRPCpYAWfo4+cj82gKbCOkLSQwSC6YKMA12E0kc6CQcKpIp6CLqF/ELpAKh/pQAIgd7D4oWDRpTGUQVzA/xCv0HEgdWB40H3wZWBe4DFwT5BscMfhQqHJ4hRCO9IAEb+xPKDf8JEwlRCjgMHg3gC1kIZgOK/jn7Qvpe+0H9Gf5U/Er3nO8b5yfg3NxO3hHkVex29M/5ovqq9ivvgOZL35bbNtyl4FXnSu7M8+j2lveX9gn1CvRp9IX2R/ow/3EECwn0C1UMwgldBOD8a/Q07C7lq98v273W/NFzzvLOEtTx2N/VQ8lrvW/BVtkN938G5gDC8cXoRepq7zbyNfQp+fP/1gORAhn+OPli9ebzrPYx/n8HAw0NCv/+f/L07Ljwsvcc+9D8rwQhE/Qaww6m82Tff+AG7e/vXuW44OfykhGxIJcT0/vi8kn7MwA+84DhReSRAKweoSTxEsoAZP4WAzX8NehE21fnVgV6G8cY+QQ49F7wQ/Ob9Ar27P1wCmIQagiV+d/yBPvZCdwRYQ0XAUj1TPA79SIC3g7+Eo8PtQ5qFUAZeAvY7kjbHOYKCT4m1CWWC+vujeID6AL31ggNGS0gjBVB+SLZw8dZzTziq/fVA0MFf/5t8wnr1O0Y/bIMhguk9TrbrNGM3nj0qgPvCPUK4A1rDo8Ibf6v9t71b/oS/lP6yu6t5Inodfs3DIcGAuyJ1xrhPABHEu8ADN0YzaTiVQdpFuEE6+vM65oIdicoLsof0BSnGRsgdBbfAmH7hQUiDV8AFOmd3/jq3fr2ALIC0AuhGHUZoAoE/jUGzB3BLGUmLBgTFXMaCBUKAIPxNP//Hvkufh1H/pbxbf6BDgUMcvie5LjcHuKq8eYFHRQVETb+2O2z88cPwiwlNYknnBM6BgH+WfOt5WLc9dx75ODrS/CI9TQAEw4XFYgLzvIp2izUbuZTA5oVWxNZBVb88QBEDkAZ0RooFDgMwgnjDZQTkhUIFTwYTCF/KHIjZxEJ/frwnO4G8jr6bwdyE9YT9AY/+bP4AAUnEEAOagH79ZD1tf5/B0cHu/4A99D4pgTJEwkfDyKFGf0Dfei22N/kNAmZK6cxBRoX/EXuRfGe9jD15PBW8RT57gYrGP0kYCDAA5rbasLtydTp5gcpEb4IJ/78+UL42vIe65DnHewQ9z4DVwsbDUwLPwrgCMUA//AO5X3pyPkvArj3p+eh52X5mgc+Aa/wBPCQCCUmGi6PHdsJGwRbBIn2ktj4wsrOkfbbF9kV4faF3Cng1/oJELwMB/n666bxSwA4Bw8EKgQ+EAUdEBfd/LzkKeTg9gUGZQWg/9wCSwvrCXn8C/O1+rwKLQ5G/Q/nFOFk8SAKVhjvFJcH2/uE9sH1iPdf+w3/GP81/LT7Rv9fANH47O3o7D77HxCbH/MmWCmBJVkXlwMm+AT8DQUXBbD9xP2hChwUDQZJ4jbCj7330zDxIAMpB04Env/S+T70CfIj9Aj4IvxVAlMLvxHmDhUFGQBcB2USNhH4ADbyUfZpCjEaHxc5B5j7B/0JBuoMWA0zB6f6keuL5VzzDA9TIRQYofsz56zrEf/TCgIF4fYf7n/uefLB88Tvy+em4TrmWvlsEdobxQ5u9u/siAF2KDFF/URILjEX/w+BF40g7h78D0H7Iu267vX+OhKvGnoTpAQE++D7RwGfAlH/dv8wCpMczypTKuwaVwaS94nya/O09BT1O/cr/DX/FPoN7pHmze4+A8MQOAb5583OtdA467EGiA5/A+/1w/E79DT09+5u6annduis6RDse/CQ9FH23/iuAIILMBGNDccEUfzd9B7v1fAN/igPKBULCjH47e4O84T9xQVVCHUEZfq07iHq8PBm/HABYv0T+MX43Pzk/Mv4RPlRApUJnQHA7nTn8fk5F9EhTBDr9zHyoAC1EMMUWQ8bCU0GyAfzDHoQWQp8+2XyUPwAE6AgLxfV/gvr5eYP70D6FgGO/zr2k+yq7CP44gMrAy32n+lD6Pfwt/u3AyoJ3Qv5CNf+qPA45WviFumi8635p/c28xn1cP3MAej5mOur5Vrv+ACrDZ8QjQ6zDF8KmwTQ/fj9/AikFkUYAgko9unyoALKEm8OvPYO5C/tUA8EMNs1dR4U/tDrqe4d/DoGgAgqB2cFQQCc9I7nWeSk7zj/KAM7+ATtlvGbBPoU0RUGDEcGlgucFUwahBb1DpgKYA0qFSAaExWiBzb8mPvXA00LyAtpCIsI4g4MF78aVBe6DhgGnwSeD6IjwDPgNFgq+yL+J3cyeTT2KVgcExYaF6oXdRP0DQYM/AwqDJkHYwI/ANsA2ABF/pD6FfhI9wn3/vZP+Pv7OgEgBnsJmwtNDbQObw+bDyIQnRHWEvgQfAp1Apv/3AWiEHYVJw5s/wP04fHE9TX5VPon/LMAgQWtBq4Dn/9H/X38m/th+jf6/vuo/mUAjgDh/xP/7/3f+wb5QfY/9Ory0PHT8DTwEvAf8OXvSu+Q7v3tp+2T7evt+O7m8KHz8Pau+s3+NgO1B9YLDg9eER8UaBk3ITgn/yVKHpwY3xvDI8clUyDdHSsl1Sw7JgQSpQCS/XACIwOv/xECiQwHE4wKlPlv8db3K/93+VjsI+n+8wb+m/sE9mn9ZA7jERr60tb3xRPTeOxJ+OPudt5W2HrfGOkF6lLgPtLFyGXLbNuv78v4y+/K33LbqOdr9Z7zdePt1tjbWOxc9rzwGuWw4jbqxuwY4BjOW8oU2sTt4/S98crz2ADsC8IF5/Bz32De9egF8lv0oPUe+3IBUQFD+TLv/eij5sXki+Kw4kXngO6p9Pn3UfnK+UD5qPcL9sX0APIn7KvlfOP75vbrQu7w7pXxBvbR967zaOsQ5I/hEuQV6Z7uqfRk+pv7gfSa6IbhQ+SI6lLqTuLt2rzbc+OS65Xw5PMd98D4lvZ78fjsY+vZ60HsG+xy7KHta+6N7Y/rFepP6f7mWuEw23bbfOZ69xkDHwKu+HvxkPKG+Kr8HP1H/cH/jAIDAsf9DPmm9kb2BvZ19e/1XPi5+zL+H/87/0v/Ev/0/Q/8RvpO+Q35C/kj+Zv5nfrj+wP95f3I/uT/LQF/AtYDVgUIB8QIUAqKC3oMGw0wDXIMFQstCvQKVA2ID/gP9g6CDS4LrQetBlMO3x5NLrYwRyVgF9oRTxSIFrQTRA8mEKoZECiOMSAs1BbG/gf3DAebIJwqNRnn+r3re/oqG/ozRzVpJDoScwqlC4kMOQgoBa8NTSADLE0ikgqI+6X/5gj/Bc/8hASNJSRKNlWVQoUo0BtRG5UZpRJfEEYbni6SPQE/MjGWF3j7Kezq9MkOiyLjHsYKzvwHAvMSxSDKJRUlzSDLGNYQhw9AFOYUiguYAs8KzSMINw4xVBtcEw0ncUKRRn0t+w+iB3YSMxiQCCXvuudDAAQouz3ML1gOv/vGCSUn3DELHKT7MPMFDX8xukGpNjEi/hUOEbcHDfcD6oXskf7hFGIivh9FDiX4Buyx8uYGyhmPIG4ccRVPEZ0QxRA0DdoBs/Fi6Yb01Q38HioW3Pqk54HtpwGNC+0BF/SN9vcLsSOpK2AgYg16AdwBZwagAmz0VuiX6/D6SwXIAJ72rvXQ/tEFKwT/AZAJ3Bd4HxYZmwt0Ai4Abv7y+Yb5ywW/G30rlCZXDh3ySeBH2+zcxeDh55DzawDDCMEKCgokC8cOYRL0E+4TeBNfEqEP2AvaCfkLixBCEnoNqwT//c787f8IBhcPWhdbFtcIOvlw9swAjgY9+GPdoM542fvu8vOc4VfPQ9c89iMPbQ1G+3Xx3fj5AzADD/Zd5xngbuLu6wH3UPzG91bsSuB11sHN6Mbxxr/Rw+ON8835u/YX8K7r+es97xXw7ugs2qLMFstc2P7sKf46BasBD/iz8ODy4/y0Aov5VuVv1uvX6uN/7MDshOvR7cLtneNx1NvPDN2W7970xuqi4rPrhv8/CAj54dvCxs/GUtg676YBjwmkAkrtstPtxRXMON0250zgLM/CwdW+9cJXya/SBOH878r2yvKJ7D7vVPzACQ4MAgBS64LXMM1n0Bvd5Odg5qzYJclswivHE9Nw4DzrWvHP8tLx+/C+8H/vEO2C7YX10QG9BMfxE877sQq1ytZK/aIMa/+K523Z7tkA4EHi8N792MbSo80jzFTRx9zb6MPvtPJ3+SsI2xbYFt8BA+L5ya3GRdd47zYApwFZ+HzwHPIi+mH/Hf0f98v0f/oMB7cUexsmFVIC5evK3R3e/+cx77TqbN4I2hjrcQ2fKmYswhHu8Hnjm/BDCpccKR63E4kJAQvrG1o0h0PePDAmpRWuGwkv/jT/H9f/7u0G78fxROme3G/Y3tsx3sPgi+4WCRkhWCfEHUcR+Qe2/qP29Pl1DgMqHjvZOlwxxCmRJgQkoSIoKgE/5FbmXXpK7SnEFOIWWCa4MZQyIC7GJ9gblQoNAUEN9CiRORcscg2n/swPJS7ZOlEt1Bd+DcINzAzbB0sIHxNOHfYV5voA343Z5O4LCygVRAiX9jz0ygISFf0hpCtPNF42Qi0/IV0hrTBLP2066yGpCakEeREMHgUdeRLNCg0KRAntAt/7Bf1GB+kR7xSJEU0O4AxYB6L5n+op54DyAADpAG73p/YoDcMyEE9sUVk/MyuQIG0cJBb2CjP/YfeL9Az3mwAyEPEdgCBaGAwS0hh3J+QqrxZE9VPfGOL18UD6RPdu+aYNcSlVNLUiFAKV6u7nAvKi+VD56PfJ+5X/L/iD5WjXX92n8zAF2wA96qbVz9X07GQM8SCzIZwUAgWs9ufkOs9BwpLNw+89EkwerhS2CuAOhBatDDTwMNpz4kADwR5nHhMHne6d5J3obPFH9w73p/H16/LsVPdsBMEIaQBi9fL1+wPNEG8MAfjM5fDmHftIEmkb/xB5+63qkurz+acL8hJwDogFNf0v9KzqLOhg9KULbx+0I3sZ5QqC/4z3afFV7xL1hQGpDY8SQA8VCF0Bu/uj9bbvrO6y980JbBvMIJUWcQUe+lX6EgKPCmIRExgFH24jwSImHkMZFBYtExMOQQbG/fv3Efj0/jkILwoh/V7lv9NZ1zHtMwFSAtz0C+7h/CAaADFkNR8u+imIL6c5nD9OO0gplQrL6RzYtt3R7XrxGOHJzg3TkvCCDwYWwAIl7a7sCgKKGOIbawtL+Xf4lQsNJHMw8ioEGgAGYvJP4ljeTu7zC+MhFR5xBWzw/PGoBDMTVBGfBs4AzgHtAHP6V/Vv9lD16Oax0dPMXuVwCg4dhRJx/rP4YQINC5IKggoKFdoj5SaUGGAEpvg391T3W/Ne71zyWv2SCmYSzA/LAm7xceUd5sny/AJ2DHsKzAB19wXzIvHp7IHl1d5A3ALdrt+85v/0zQSWCOH52uSa3arpO/uXBKMIDRLBHxkkxxcFBWz7z/0uAh4BE/6y/iEA//ok8Brqz+7U9ZfzeeuT7c//TBHwCyjwz9cf24H2/Q7SD3v/KvV//B0K7A3HCKoHxQzXCdf1Pt5Y2IjlKfJr8Zrul/qDD1ITzvcuznq0LLW4wfXKv9My5nv+AwvRAYntmOHy5UryS/p9+a7zme567fPvPvKP70Lnxd8y4QLrSvET6KzSdcSczufsngdeCo734+L52TLXgM7kwZrAKdGC5fTrTub55UbxsPcR6ETM1cJo2un70wGi497BMsO36YUQ+BNf95ze9OMs+7UDzfJW4K3mLgCMD+0Ft/Og8JL92QXJ+V3ggM6s0WPk7fRd9o/sWuib9iUSeicbJ9ETpf519cT2DPc18HHo7Ogx8vr9FAkdFCkaRw/u7qTIIrcVyPLuBhHiHOMUtAUE+CjugevM9Z4LaB8oI4AYkw6jDnoRHAyVAV0AKg7iHWgeHBBjBfsMHyHXLyEwQyiXIP4Yrg9yCrwPVRlUGRYPrQwrHxs4rjrGH9QBHP+wFvUqkyQ9C7P52f7HD0kXnw7DA4IHiBi/I6YaAAZx/eULgiGYJaETmf+q/KoGvQkK/HXobt/D4+LqduyS67XvnvmCArIExwG7APAHyRgvLmY+1ECDNA8h6w/XBHD97vZK8vPxMPWe9171gO7t5f7dRtdF0tjQI9VV3xvtPPs8B4cPxhL+D5QH2fsz8JrnkeMp5GXog+5v9Ir4hPqX+7j9WgKQCfkRXBl/Hf8c6RfTD0MHlQDx/OD7t/t++uz2CPE56rzkueJF5dXrYPQj/KkAsACH/NT16O7i6fTnGulH7PHvoPJn8xDyGe+I66vo0+f+6YrvCPgoAg0MuBOuF2IXRBN9DK4E/v2o+mj71f2F/Xr4O/LA8Pn1Xf6KBnMP3RkwIJQaXQqF+7H2ZfZl8L3mE+Yz8hL+zvxX83bxsv1hEB0gVymZKRgeAQwiAj8K2xv3JFwf2xbYGCQjlSdGHu0OqwaoCOoMEg3ADH4S3RtfHocVxQvDEPcmkj69RMo1ER7WCq/+b/Ul74HyLQR8Ho0zOzgbLa4clRC2CSkEQwBKAvcILQtOBPn9SwXoFgceaAy27k/i/vUlGW4tRCd4GDsZryr3NT4osQnP9PP52w9hH98ayQk2/1IFsBFJENr74+YB50r6HwozCUIEBg4HIionPBCt8BXqWwd9L4M+NilNBif2IQROHw4tUyDiASjnbuF38QQIehOeDjACb/kf+In74v+aAW/9afQ27vbxxvw5BE0DUgAoBHkPlhvEIkoj+huzCy/3reu59dgSLC/SNf4kIQ++Bi8MlRJkE40VnR8CKqEmgBQ3BBMFXBJpGR8RVATSASwIkgnLAlkEYR3cQW1Q6TXWBAbjeOJE82T7UPQX7ar0UggiFzgTFf/P637qDv7tGaMtJTFwJ8wYDw12CVYPaxo2Iq0fCxIl/kfqzdvX1snc3emE9rb9CQGDA08BWPJy2NfFyM1Y7roPfBwTFmIO/BCoGNQZyhA6A534MvXz+TgEVA0SD/EKKAoIEwgflB7aCDznxs8X06TuMA+bH2EWbPl62YnJs9Mq8FAINQm99SbjweGi7YL5FAJ9DckZXBgBAdjhBtOI3O3vR/zO/24BPQAJ9M3eB9Mo4HD8bQua/BHd/ca6xFzLEc8Y0r/aNOPw3pLP28ha2X31vwJl9h/hGNok5SPzyvcQ99H7rwfVEX8T/g+sDgsRmRKzEAgOLg3IC2EGt/7a+df4Bvhj9uP38fyR/EnuAtlj0Cffm/h1BaX9me8W7fT2PgAOAUr+n/3X+e/qE9cp0Ynhdvfb+pDpuNh/2Gjh1eJ/2s/T/9RM2ITYmdrC5V73SQROBYr+8fk1/Pj/B/wT7i/ewNYQ2hHiWuk68CL3f/iX7Y/Zecroy9nZbORZ4Y3Xw9df6kEGtRkFGy4P9QCz9L7nS9r+07TbMu4OAWQNBBTbFwMY+xCQAmPzZO0V9VsEpxC0FkoctCMoIoEKeOL7xGzI+uR++5r2td+T0UHb1vOBBl8Fq/JH3pvaN+3hBjMP0fxF4GrTmt+k974IjwtSBB/5du2S5djnOffTDFAaGRWL/3DmltWpz8DQFdZM4OLtGven8wfly9ft187kI/M9+i/8df/FA8gB4fWB5qjcO9mF1i/T+dU55LD4wQcJCxgFBPs57xrkc98i5zL6yg7vF7UORPij46ffH/BWC7AhsyipIaAYnRuxLZlAqj/UJaMG8/t3Cqccexn2/IjZWMWdyHfbsPDQAKgLyRGoEGwHlvyV+U8ArAkjEKUWWyARJqMc5AaF+BQBXBidJtgeMApI+Y7yL/Mk+gYJ+RouJHIfVxeDG+AtbEDnRidEEEEaPK0rExEt/iIBDxCgEZn5gtYjwgLJnuI+/TENshFLDw4Jf/9686TnZ9/u3c/k8/Be+Yb1f+cK3Uvi7fOWAhMFiQK4BxsWWCPoJwkn9CXhIYkVIwZrAv4QGCXWK6YjgR5KKUw4KjWtHTgJgAshG5QeEQ4T/UQAlRNfIMoXCQDk6aPgP+V48rwAzQijCEEHXA+hIrk0mjfcK2Af0RodF0oK5Pkf+H0N7itTPBo14R43BorwDOCY2ujlzf4gGbcpFy8dMI4ycjPMKsAY1wsoEzgpkDRGJJkH9P6kEywo6hiT6HPBdcfE8BUT7RKW+yXpQOeD7MntJ+oF5s7l4e/bCQEtWENIOoQZ7QCpCvovek5qSUglzQH9+EwGzg/zBCHvaeO06Zf2/vp19OTsw+0A9xcCqQr5EI4VnBYcE20NIgmMCIkNjBinI9Qi0g+u9ILjYeIe5hvkmuL17+kLLyIiH9UFEu1w517ydf3q/gr9QwQKF4cpySwVHQAFXfMl7//0Ev7JBsgO7xQlFnwQFAbI+1T1c/NO9Y/6RwNdDgwZUCCkIkMgOBrBEXoIcwCE+0H6xvt6/hoBHwN/BGIFAAaDBr4G+gU6A9r9FfYd7bHkld4x3FHe9+RP79r7vggYFD0cACD2HrEZwxFtCfgCFQBXARIGhgxfEmkVMxR6DjoFW/oc8GnoOOQ14+bjQOSM4jTeK9iz0n/QiNMN3Ijov/bjBEcRBRnCGHcQxQVBANgCJgrWEIsT4RAECb7+Dfcn9nr9rQucG1wjghme/7/l2d5U72gIRhaoEhMJKgnbFVcirB9DDeP68vhWB2oWnxjuDlMCDfci7CbkAuXI7PLuW+Ql2jnmngnbJjUf5Pco2Cfe7fxmDUL9mOFa2dvorPulA5wIEheuKVssIxQA7t/T9dTq6WL+NwOj97/kaNQwzJ3MztHu1SzWE9bH3DPuXQZoGnEeig5z9fLnNPNpDSkcbA5j77bbbeOc+RAEoPhi5hTi2+47/hwDEP6n9srvK+dK3ZbYk9+q8VAGGxMpFG8Pgw3zDXsGqvGF25PYvO7hDHUdIx0LGcoYyRPHANvojeEk9A8S6yTmJEgbpxJjC2EAVvHC41Lb5NWp0HvOydUy6I7+pw4UFGYSMg9TC8YCnPMb5C/fN+i69Kn2hOwx4hThOuWM5WfhD+Cq5HrpDum953nvWwL8FPwYvwwC/rj7DQfqExcXEBFHCn8HVwRR+VLladAqxRnHSc/00vzNnMZixkDQjN4E6sbw3PW6+3MBXQVrCGoNRRVcHdgh6CBiGwsTRQl+/9f3XfRC9Sr4ovnL9x/0BvJQ8mDwM+cQ2y/aae1cCfAWgw2m/AP2jvVa63PZ4dcp9KkYdyFLB8Lpp+ucDWcy80F8Pa4xyCGbCtLzNO8xApUaNiIdGHcMXQcvACzwhuFs4zP1pwYcCykEJfoj82v0qAOnHXQvOiTd/e3YD9Fn41Xzdu2o3n/iZv88Hmwnyh7CGmElhjG+L/0irxmBGKcVDQnY+G3xlfUp/Kf81/j79xj80v8E/ur3xvK58Vzzx/Ow72/niuFr6IwAHR+iLnMipgW48Rn06QAaBOn7VPpRC0ciyieIFYL8me+i733wRewy6s7yMwTMFRsjmiwPL1ciJwZN68/mS/n1CcIAUOPt0HPgIQcwJL4hFQd57Rjot/YtCpYRRgUY67fTz9AN56cGjhX6BvbpI9xi68wHQxdSE5sMIRFvGPsP8/ZG5HPtAAyoIjAdEQWX8o7v5fFT8S71EQYyG2UhvxLI/R30N/m7BGkPvhc1HOIX5QjP9xHzVQAqFfMhiSLAH0ghKiTpIdYbwhkEH9Ul1iZJIqsffSSwLO4tqCMkFrgRiRf0G7QVDwnJ/9P6MvMr6MLk//JbDfMgtR2/Ai7dAb/3tf/E7+G9+lcArO8C0+a767gPzBHpyP9pCvUPChcLGpMOK/jj6jb1UAwSF+YLAPs0+NsCIAozBAX4PvAn7hzu6vH9/WgOChijFroSQxXCGvsY2A6PBwwMHBYbFkcEQeoy21Tjmv1PF10e4A9F+6/03wD3DgIKC/Hf2TjaK/GWCbQQlwcK/3QEkRPTGs8Nr/KA3MvY7eNO79fwvupc5ZDkF+UA44nfcd/05GbtdvRE+Bj6nfwHAv4J1Q9hDXwDFP5KCbkgPDCqKtwanRYQIwovZir1GlEUmx6ALOsrzhv+DAkPeiDkMXI0pyTMC3755fejAoULngqWBogJZRHyEYgFzPRc643qMeyB7t31iAI0C+cFAfT+4SfcQeWI9swE/wWY97zj9NzZ7a4LWR4NGY0Hqf4OA94G3v/P9gj7pwzeG04cFRGWBP778PZ39QX4Ovz4/uMAmgQyCQkLggrCDSgZnicVLYAizQ+bB98UGSxDNHgiewjKALUNkxWFA0/kCtmv7tYMkBEy+KPcBNq17jcEKgtbB7ICCv4P9JPmh+GC7pEHihlGFXj+rOct31Diw+XH5rrteP5MDeAKl/kU7nT2tAc3C0X7Wulj6MD48gvfFAsQFgHD7pngU9uA3abh3uQJ6jv1BgUnEtQVBw9oAePwAODN0fDKG8+d3UXx7wPNES0ZYxj4DVT8PexP6FHzxAPBCw4GGPp08pnxnfFe7ZrmSOJ14UPggNvb1M7QtNFR1qTcWeTL7bj3S/+SAl0COQEiAXMCkwTeBpQIfwh7BYv/SfgP8n3ux+0H7+TwEfKU8SHvYuu/56XlweW+56nqd+1t703wVvAm8HXwsPHF8zT2Zfj0+df6T/u6+2v8h/3u/k8AUAG7AZ4BPwH2AAoBlwGMArMDzQStBUkGtQYZB5IHKgjVCHgJ/wlhCqoK9gpiCwEM1wzRDdcO0g+0EIARQxIIE9sTvBSgFXkWOxfiF3AY7xhpGeYZZhrnGmMb1xtBHKUcCR1wHdsdQx6iHvEeKB9IH1IfSx85HyEfBR/lHsAemB5uHkAeEx7oHbwdjB1WHSEd8xy+HC0crxpRGN8WTRn/Hy8lMiD7DygBpgNWFwUolCJkDKf+KwlkIK8rDyA5B/jwg+aW65wAuBxhLFUhGwUs8yX7Zg3VC3ftvstHyYDtEhzNLxoc6fQ92f7XfOdZ883wd+aD4orqsfXe9tHrT+AL4c7sPvWP7jbccs0Nz8/gdvZIAVL6hub70orMS9c+6lH0mOv22QDWOep6BRUKMu4GyUy8XNJD9vcLFAoF+jPnS9d20NfaEfVdDW4PCPqU4RrbdOdn9R72jez854DxqQEXCf0A6/CL5cHkBut68bz0sva/+qT/Cv6c8Kje3tnV62QHFxMPBLHpxtvj4XLwe/kb+QbzPuwB6q7wQf4jCEgD7e+3277WfOXB/H8LUAn8+8/v/+v57qbzW/f5+aX6bPeq8dLwD/yKDj0W2gV76IPbDO/MEBgeBgqA6kzes+23CMocOSPKHK0KxfFV33DhCfh8EUQaYxB/BOAG6BU+IZobAwbe68/Z9NgG7AwLPCQVKJEXMgNl+Vf4yvT77GTuhAU6K/BGYES6JX4AHuoi6G3xwvv6BN4OLRaUE48Gw/oE/RcLERPzBifvuOPs8BoHmAth+A7kG+fl/eEL4/xn3Y7Njd7KAqQgyy3jMV8ydSdwChjoV9pu7f0QzifaI64Oxvi76BTekNzS6UIADQ8+DVgGcgssGq0cPAb55yrgVPZBEbQUTAIn9ZP+8Q+lDALuSs6MzUDvHhf3Jv0aHwek/dL+FwHIAYwHARaEJdgpyx31BSfrZtbW0JrgywDsHtgmBxVT+3HwCvpLCKUH2/Wn5DPoqANVJgs6YDScHJADbfW78Wvwfe7d89AJqyvuRMlCaScGCfz8jQVfFFob9RfSD20H0/7K9fHvwvIS/1wNABNHDf0FnwlqGMYkPyKVEvQABPR06orkg+m2/gocwy6SKZoQ7/SR5RLlJuw59EX+ew4BImEsKyO2C0r55PrrC6sYSxGj9xLcfc8V2DnwoAyfI+kwFDVxMgEqMhv9BkvzYOlL7pT8xAcfCLcBbv7OARMFTv+U7zbeMdUv2KnifOwo8fbz4PzqD7Em/zLcKRoPHvYW81IHQB2iHMUDdull5NbzcwNJA5H26+rN543rkfSuBAkZ1SVEITMRRAd7DUMbrSATGRkOsQmNCpMI5wA7+af3Rfuk/kX/vf/DAsoG2welBPv/f/1G/h8B/gS1CYcOOBGPD5AJzQFp+xH4p/ct+YX7hv0n/iX9efvO+j/8d//5AiMFAwWfAtr+K/s/+U36d/6fBNgKLw9nEEsOwAmIBLEA0f9GAv8GzQtNDu0MlwfT/zD4QvN58nr1QfoG/oj+EPu39NLt0ugf53roKevv7DvsBenr5Hni+uNa6qH0OgDwCScPzQ6xCQUCePom9fPycPNO9Q/3sffu9in1BfMC8Unvue0r7LTquenT6bHr+O/h9lj/UwZzCMwF7gOTCX0WIyE+HwURwgFx/HQBpwiIC6cKZgmYB8YB2fbu6tPj2uMH6VbwLPhW/0oD8QBV9//oedrBzzHL5s0K2CDolfqxCpcUtxbwEdQI5P7K9032Efv9A/8M1xHvD2cHFPuE72Ppnuv79QEFTBPIG9AbGRRECEX9UvdM+BL/NAiLDwgS2w6DB+7+Ivgr9Yr2XPsFAugI6g6JE5kW+xdxF8EU9A+OCZwCd/xT+N329ve/+vj9dwCKARYBhP9//bj7rvqK+iD7/PuK/D78zPpa+If1RfOM8vLzafcu/AABhgS1BSMEJQC2+if1zfCg7vTuWPG39K73DflZ+BH2kfOP8mL0ZfmyAGYINw6AEE4PrAxFC+ALTAwvCUYBWfc/8Un0nQAaECobvR6XGxcRC/456CjdhOV6+QgHaARz+PzvuO4Z7QfjMdIqxufK6eCK+R8CbvZj5uDlu/e7DDwW8RMPDuQIiQN//kz8X/xv+4X5+PmB++j1feSx0NTMSeFKAMUPPwJ05cfUitxQ7vXz5ukX4XPoG/u0B8cEDfnF8D/wefOJ94/+DAlvEOMNvAWBBQETIyL7IaASGwY2CQYTGxKRBW//2wzrI/0tciBRBkvzyvEG/eYHtQjhADP62Pqh/bn5ovD+7SP3PwEJ/m7vKueB8LcAwQM/9s3qJPJ5BNsKav3m7uP1thBPJ3Ym8RFg+xPvcu5s93UIZBy9KSUrJyXGHhIX/wjF+Bj0gQAlEQcWwxAHENQXLxpPDOX4U/Ob/YIGAAIW+G32R/zC/ST3x/Ld+R8GugcA+CLieNjS4pz4eQruDm0GVvc26UXiK+Xg7sH3P/kn9PPw7/e6B8gUtxRHCuUCBwfVD/MONv8t6/Djq/LTEPIrazPEJpkVXA49DzANwgfgC7cebi/VKHkOuPvwAVgRuQwg8B7Ytd83ADUbnR9EGokfHS7yMPMbYP3C7eHz8f9wAfv4TPEY7+HvH/Tv/z0QMRj1DiP8wfAC9X4BzwoMD8MUmh/aKvYv7y5oLYkuai58JhIVkP9O7hXoTvByBVkfsTHYM8gmGxNzAhP7fP7eCD4SLxP1Ccj6nevv4FvdseCT5afj3tgR0KnY2PMZDYgL6+yyy4nF3txw+EwBy/pz+DQCQAwdCoT/YPiO9tjwxePz2kPkA/0cEpEUsQlfAzsKYRRkExsH1P2PAuEP+xbGEIkDsviq8njv0PBD+/AMGhrXFt4DWO/x59jve/33BywP0hX8FzIOMfru6YHqmPtaEockKi0MK4Ug3RMCC3UGYAP+AQ0G2A9WGE8XiwyiAGr8RgEyCu0RExYaFaIMEvwd6G7ZPtYy3YHnWvDU+DMDhQuUCJn2C99x0nDZd+18APMJCAuJCIwEDv/t+QL5pP38AxQGMgGi983tsOYE46vi9+Xz7Wz7dwxHGgIc0Q9iAY4CVRmtNiRDrjQTFZ305dzl0evWcumJ+in5FOcw28PnsALYD+wBrOj23ErmRvgdBEkFF/+r9ZrsC+iP6r3xiPft99P0YPQP+wkGvQswBc/3sPHg+G8Ck/9M8dLnee1K+eL6ye444aLepOeh9H//kgZLCckGTwBM+jX50P09BR8MfxACESQMigHj81bobeNm5krv2/oiBs4OMhPXEv0OCQoSBt8DDgMGA34DagSWBZ4GDwd3BmQElgBu+yX2cfKl8f3ze/hm/ScB7wILA6kCKwNFBWYIvwoyCuAFdf/A+jT7BQG0CGINIgyRBhYDaAhkFf0dRxVE/abpk+5ADKwtjTtuL60VSQDy+B39iwTZCqoSvR7NKPIjhAsT7X7dtuLm7HHpb9n3z6zazPHHARoAtPLK5V7gL+Nw7f39uhAPHhAf9xLNAOLyLO9x88b4uvmz9AjrZOGz3y/rY/5KC4cJSACc/asE5gkvAjPxGOXz5l3zywDRCMcKAAkHBZD9CPBM3sHSNtou9dEQEhV6/bvgv9pj73MGWAV76u7O8c5o8JQdOjioM70cRQgh/fbzsegX4nzlYOwV7s7tHPVgAnMH8vyW7uztI/1ADdEPfAQ69bXr9e0HABIgJT9tRkssbgP67B74LxQXJrolYR+tHNEYFg9FCbwTFCdHKwAW/Ptw+mISNyXeGJL3ZuT/8m8S+iGlFEH7/O1q883/FQdsCCcIWwXn+mHp8NqH27zuqAzvJUYrzRbL8tnVIdPj6lEKlBuiFjEEcvME70f5sgzMHO4btAf778Lqnv3CFo4fNhNlAMj3fv3ZCcQSExMuDCgDfvyK+gT/UQp7FiYWXv8d2vi/yMdm77Qa0CpAGIL3fOSw6fL6zgUkBJD+0v8wCAENAAQf737cYtlf5aHzbPgn88nqGuPR2ATJ0rkpuNDKsOid/iEAyPFS4qPbS9x/3kXhbeh29dsDTg2sD+4NgQwIDuoRZRPwCkr1pttp0e7jhAo9KXwnTQbS4AvVvekhCnMbgRUrBRH6w/dU+az8swQ/EuUfBifuJ8YqijbxRuhNikGdJzgRvQswF/kotDSyMx4pWCDcIq8sMS7UHYYFDfm9/2oNlxLWDYIJIgyTEJ0NVAFD83jse+4l8rfvT+gW5pDxLwcVGVYbbA1f+Gvmqt2b32bpOvQd+VH3t/Vn+6IGiQxcAwHu3dzs4HD7gxqqJ3kbWwNt9PL4sgmSF8oZ+xKrCrUEy/+a+jj4r/2RCkoVihFI/NfgqNDX1NjmBfed+2b6CQIbGK0vFTVmIqEElOww35PXMNTe2q7t8wE8CmAIlAyfHeYoPxQD4Cavm6f8y7P4UQii+FHo2u/CAjn/Jdu2toO5MOK+BPn749OjuzPRGgPKJhMmWREiB5wQihtlFdcD8PsoBcMP5Qpi+4r0KP4rCxQMzgKQ/nsHNxV7GmIUngqoAyX+mfZS7w/vTvihBBsKEQUJ/EP5FAAKCaAJ0f+X9GjyqPrIBZsMAA8UESgU2RSqD2AF/vm98IHqwucb6rjys//oC+ER3w7sAz31Zeg04bneFd2y3L7l5P4uHwowgCT7C/YEKhodNOIzQhiT/+gDrx0JL4Qmnw0a9jLkttIOxnLO4PJRIcM7TzQHGFP/7fi/A6QVgiOXJzImqSqbOWFGTD1PG/L0JuC63Ibbddlk5a8F0SM+IEP5ctFcymjhAvky/rv5cPxwBhgJefzw6m7mKPbLEK8mUi6IJi0RlvL31tnPNeMR/2cIIPqZ7Lz2zg2AEL7ypNH80kn3SRgtFjb77+o29UsGVASV8O7iXuoe/ScJGws1DooZpSWMJoMafAo8/gr1xurw34HZ2Nkv3QTeEtuQ13XWhtcO2c/a8d2U4tbmx+if6HHo+ulK7W7xxvUr+j7+LAFoAmICTgI4A3oF5wgfDYcRBRUxFhcU6A4cCOEBUf69/ioDIArsEJsUPBPMDFcDFfoO9OTyIPZs+6f/XgAW/Zv3RPNQ80n5JwSVEEga2x1SGpgRuwcrAdIA2QauEDYaph8cH1AZGBEHCtMGSggzDRwTkBcqGfsXThXoEkQSFhQ3GOAdBSSfKcEtqC/FLt0qOSSzG6ASfgqKBHUBSgGUA6YHxAwoEtsWlhnpGLoT8An3/LbvzeVE4jTmE/AV/JsFJQnTBdX9W/Wk8OzxUPg0AAYFfANG+1jvqeTn30bjZ+3T+dwCGAQ0/ILt6tzbzxnKd8zW1GLfYOin7Tbvsu417iHvhfFT9Dz2mPbo9af1iveM/FEELg3PFDEZehlDFjkRXQwcCcsHogdGB4QF8wEn/XL4W/Xy9G33GPyiAZsG3QnSCnkJOQa7Acj8L/i69BLziPPm9WX50Pzq/tv+jPy6+LT04/E98e7yS/YR+vL8EP5Z/YX7tPna+D75Pfqa+h/5Y/U88JfrvOk97BbzdPxEBWwKEApkBJz7APOO7bPsue8V9Hb2HPTt6+Dep8/MwZi4MrYgu1PGlNUj5mP1YgEwCeEMWg3yC/YJVAhqBwwHugbfBQME5AB//AD3yPBy6s7kz+BV3+jgheWP7Pv0oP2HBRgMCxE3FHAVghRuEaYMKAdSAnH/OP90ASEF3AiFC8YMNA3yDSYQZBRyGmYh6yeILDouYi07LAItWC4aKmoaTQEF6jbhgOuYA7Mf7jbSQg4/5ioqDLDvweOf7h8JvCMdMloyXipQIGAWVAwtA/7+TgV5GPEyGUjqTEhByC8rIwMdQxdeDYQBY/lS+FX9FARDBgT/wvAw5ozoavR4/CX5gvFN8ej45vu475XYf8aTxuXXau2z+UH5+/LZ787yaviZ/PH+WAEwBIYFCgRiAdAAugMhCIIKCglQBdoCEwOqAub8IvPX7lf4cQtHGVYXpQo+As8HDxcZI74iWhg5D4URbR9qLwM3QTPnKOEdThS4C6wECAHlAcoHhBREKb1AGk6ARmUs6Q5c/Lf2CvaE80nvEuw76cfj/tv01mnZz+Lm7kf7LgiYEsIQXvrA1qC+hciK8P8WBBzo/bva+NKt6pQH1Awj+Abjpubg/7oSdgqH8bDk3PAlBTAJCPsv8Ev6VxHRHLwPSPbs5Ujk0+ML2ofREN44AKce8iDGCgn03umA47DXsc/T2dDvkvmB6/PVec+R2GffbNso2AziQPPk+634/fatAN4LGgZl7aTWl9g89MAU8yPnGykHUvRR6sTli9+41onUL+TQA9kfyyKvC0XwcOXA6XDs6uXK3/zi9+dh4dLRgMuj17bnGOeS1mjMI9jJ7p74Lu6X4FLkI/leC+wKC/z07+nwv/n1/8MAkgFOBr4LNAzcBhcAuvtW+bL27vOU8xj3rfzqAK0BOf+a+1r53PjF9XrpJ9QhwnDC69XG7Bf4+PhW+R37WPcZ7YrndfArAsIM8wcJ+1vyuvCa7pbmRN4p38foVe946vjg0uA47dH54fjY6jXeAuI8+YcY/C06LcAXZPsH6NnlQPT1DoEvXEkaTGQyiw4k/oIKRhuFEQvv49dZ6KkRtSl5Gon3MeMM6RL65wVBDBEVEyEzJ0AergaY7MDg5OuoBSQZnRWr/IPgJ9Xa4q0DaCl6RMxJGjj5GVMAkPfF/zsO/xbIFkgUXBagGUMTiP8u6VLePODt40Dj/OZc+gQX4iXfF8D4J+Pg46zvqfX786D1owAwDswU3RS/FuEdayKfGhUJG/2pAvkUNCS5JjYglhgpEksMWQtMFjYqgzZ/LYgYiBNyLqJXQ2xoXo9Dyjk4RClJjjJpCabtNvXsFXYvYSrqDYr36vx+F+UunzTDMBQzoj12QyM7xyzNKOQxtjZhJ7MNogXFGUkwfSXh9ubIH79N14nx+vWX6Fva+dKdzrrKf8wi2lHyPQxHHgkjsxl+BcTut+E25xz9NBfwKKwtXSh3HvYUzA8QEBYSQhBsCc0CRgJdCPoQrhdoGVQUbAn0/fj4S/6RC2wZ0B/IG18ShAxnDoETPBTaDg0JCgnUDj4VRRifGEMZ8xooGygXERDXC+0QAh80LCosDBysBjD70v+kDvwdRin0MLY0VzHeJKQSgAE19sXw7+6d7yvzMPmC/6YDlQTyAqoAtQAtBWwL2wtlAp733PpZDqse8RbX+xrojus0+Lr3SesV6D71Uv1w687MF8VB4dIEGwxh99nnkPQyD78YpQhf9cn2vAhxEdUCx+0579cMGixCMG0bXwlpCoUOOPyb1SC7jsdJ8TwVOxzWDeX98PA73Eu+gapXtDjV5vCv8/jkgdoh4BbvZ/g485Pj3te13sT5+Bd4IOEIOeK8zCDbXgC1GokSa/Ah1dvaSP2lH6YoGxZ494HcU81pzDHWPt641hLBw7KKwQHqww6yEzL4idXMxczN7tzl39LTbsfwyEfVwN2s3PPbE+Tw7FboJNhGz+LZceyx8Tnmwt2W6rwF4hVDDH/0BOYj6+P6QAh+ELQYkyJ5KJUjuhKc++LnleAa6X79CBdVMV5HiU2uN6EKYOGJ1jroCvrD9PDcYsfXvybCwcZyy87POtL/1LPgXfqcFxAjmBGF8ozlLvxqJdI7FyoFAAfhDeCC8I/5ivGG4m7Yz9J/yn+/I7vAxLrYu+y1+cT+GPyr8ITfS9PA1rbok/tAA0cBPQAMBQgJXwPA9LrmA+Gb4qPl2eYL54Tmy+KJ2ibScNEg22fo8O/L8aH4HwvEHagZmfXMxaCsybmY2yrzDPXP8S7+SRgDKhMkVQ/m/1/9QP8E/vj9vwVoEQEWHRAxCKMGjgd//nzmF8yKxG3YUPdOBLryQdRFxnbSOOjn9EH5wQGCETEe+h7/FlgPKgxWC3ILug/XGoMnDittIQ0TFQqkBNz42OY03uPriwfGGpIaVBKQEkIavRey/87dt8qr0sbpzPra/XT8GAEmCkAPaw39B2MAxfNH4kfUrdRG5pMAghflJB8qsCr1J6Ei0x1cHrkm2TQSRBZQdFUiUc5CgTDLJGAltytDKoAa6wN48wvu4u017I7pEusL8l35g/uA+J30v/L08Wfwxe6k72L06fuKBO0NXhjZIrYqkS03K5clLB+0GQgWQBSEEwMSzg1EBrH8a/Nv7CfpNeuJ8xD/jAUjAKjzA/FdBaQoIEFIPc0n2BtNJNctRx80+3LfkeKd++sQbRZgFBYVRhh1GtAeYinIMhUrqw197gPs3w/iP9pTAj2/FZ4G+BtTOp8+ziXnDf8PBiIkJtwTAwX5E8819kLKJqr7x+7xC7cwpjaPHx4NGBKjHGEUEgA5/nYbgz9gSaU0rxlgDm0SwxrII/YvsTqfOAsoxhi1G8YrTy+TFK7oQswx0i3vbwreFuwWSw98AS/z5u6J9sn8XfRu4ovZAeM29fwBGgeeC4YRahEJBQ3xUuHr3QHmvvJQ+//3Geg318jWdessAgYAb+Gkw6HGsOeNBHEGe/3CBuofgyY+Bk/XLcP2077tOfYl8gX09fqN89PYf8S01NoGiDYCQjQpeAY38MXoBOiN6Rbtqu8/7BHjRtup2nfe3t+O3pThg+wi+X3/8f+kABQFzw1pHN4ukThyKxAMmPKa78n2qe/A1x7HrNCo6Wv3YO4C3D7W4uf3CnEuYED2OWwmcRpEH8QnHyAkCPP1+/kuCKMH+fab8xwViEnzYohJJxYW9iT7wQ/JFrALCQAEAh4OiRdIFroK3Phw5eTWZ9S84Hb1VAWTBoz8OfUu+iEFrAfQ/qL4kwGHEF0PRfkC5wv0JBuROIoxehD38wnqXuhW5uDtpAhBJ6EsaBN9+TD9txcgJ7YabAZkBLkQ8hGBAHfzXv/OFvwaowY/9vH/JhLHCHDeKrhbu3zjzwqlFnUOzgbGAqj0StjXv7TAhtmr8iL4DO0646/kKeud7GXp++rU98kLFhu0GqAIB/BD47br4f7xCGIDZPv1/t8JbAxEAqv51v/KCw4GyeeVyhLQ6fkvI+MmoAfZ6Qjp8PuWBQ/58OM32Zjcs+XW7uT31v00+uPuHepD9r0Inwr381rWUMhYzafYbOHY6SrzpvYX8D/onuw8/gEPmxEcCDQAoQIsCmMMDQi3BS8JXwhX98rcj9L06toWjS21E6PZta7is8rbTPqe83jY/tD27iAbuzA1JNgIxPUq8FXxAPY1/nsD2fuU6X3f5e0LDd4gxBTL8RnXf9yn/OoafR2LA6Xkp9rZ6Uf+rgLB+En1yAJBEAEG4ecJ1gnnRAuoH7sWkwKV91L08+xV4ubgm+xB+pX+3fte/EkDJgeY+6Lg0sf+xg7iqwNPEfgGNPmC+TMAE/lZ4XTN4s6G3n7o/eaD5vXvdvne8iDbFcJ4t1W+UNDx5cL4dwLY/4P0k+iJ4UffJ+C45L3sAPNv8cbqPOvS+m4QQxhVCfbwbeT66Bbw0exS5WfoLPbZ/Rz1/+dp6Tb43P618AHeNeGJ+/QPAAYB6ZHbpu4RDxEewRNUAoz70Pxf+I7r2uOZ7DX+xQZMAtkA7g56H6QZW/zL5ib1lBzGNawqBQ+ABrwZxS4cLJcYIBBZHSor6yC1A6Lxgv4lH7Y54UEqPow2OilYFAYDuQZCIj1CQE8+Rb40Mi59MXkzoS7hKJopZS+MMh0vxijNJGsj6SCIG9kVFhMTE90ScxDgDDIL+A2iFDIaGBhLDRkCRwFtDO8Zxh88HYIYjBZcGPcczCCZHKcL7/UY75IEXyvTRBo7bRie/PL5qQLu/oXvku76Cn4u/zJ3Dvvedslm1TDusP+2BicHk/6a6VLSy82M5EsCCAea64zNyc5T7bIFZ/4N5c3YReFi6ZPh+daI30v44QWq97Deddnl7ewBePsE35HI+MvR5AADGRsVJsccngDD5ZjlRwErG1EW0/fN39XjvvpXDlEVwxRqEVkLwAWFBtoKgQaQ9XbnT+32/6IEjO6J0HPFLc8x2c7YRtzi80EWkifwGucB6fZy/0sKbgdR+Zbtx+uo8DL34P4ICDEQJhaEHVEoVS8zKJ4U8wT/BrQVdx/LG+IU2RgNJqwsmiORFAIPPxS8GEAXChgsIHYjAhNA983sBgGwHEkeuQRb8Fn3eAiuBFHsceFo+40mUDruKFoMjQIgCVQGgPCh3anm7AVLHZYaaQpFBDoN+hXNEbsFsP6u/xQAfPmz8P7uW/ZHALYGTArPDmIU/hbdEwYNrAaOAkT/V/te96X0BvM88UDvQe/n86z9JwpyFdsbzRpNEcEAW+3u3HbUCNaX4JbwRwDZCAAG1/nE64biquBW50/4whADJe8oFh7xEncQrw50AVHsV+HZ60gC9Q6cA1vkBsRutq/AIdRu3J7VOdAY3Bf05QUnCx4QHx68Ke0gVQfp9/YFyCT1NXcsNRiEDWELgQLi8Pvo5/ixE4cdcgyw8w7syfjCCbMSaxUOFX0LXfQ/3FTY0eylBMcI//oK8uH73guGC3b4V+k78w0QDyWBIIoK+Ped8iz0JPXY+FgHux/LNYc9pjXPJYMVxgdr/jX9FAcUGaoqVzRtNS4ydixlIMsKTfIE5nTv5AbYGS8eTxvAHU4lDCXoFPf8y+vs5dPkV+Wm74kLPC8bQQIvKANS3hTbEvZyEloWbQO78gL4fgv7EwUGv/Km8/cLkSXtK5oizxy/IwwsCiW0DfT2kPEa/Z8KzQ2yBnH6D+ka0V27LbpX1p3+2BH5/i7Zmca62Pj5lQYm9Svf5OCc+I0MpAzPA3UF5BLsG40W4gvACuoU+x6eHhET5QE58ePkBt1012nVZd258doGaAtD/NbpkuQr6eLmWNfVxwnIp9Vv39ba888jznzZsOa4533au8upyxTehPUDAAL5jeyg6FfugvNf8O3nzeJk5Qrt7fSd+rf9gv2l+IDvI+Z348Tsmf/BD7gOzPkU4cDb2fF2ElUiCRVP+PLn2PWBGmc7eEI9MR0cyRLnEEwIWPaw6MXrKvobAuf5jekP31je6+Cr4cTh3eFe3vjWytSW4ZT5Ag1UEhwRJRXFGt0RhPYP3ZrckvHk/xb029mOzPLWG+rO8n7voO289jMGYxC1DrsDY/dj8eX0j/7ZBhsIBQO2/Lv4CfbN8cbryOZ75e3nOuwN8CDxXe5a6ljrPvX9AhsJewFL86Lsh/Q/BWQUZB19IpolJCTwGtkLEv1I85Dure3d8Wr8gQhtCwH/TOu34cbr4wAOENkR7gyRCboGkf618SDpHu1v/asS4iRzLxYwRSUTEIr3h+dV6KL1HwD2+y/ujOh69VoKVBG2AG3lHNXn2JLoQvgqBo4YeTDnQeg7exrA77rWG9mS5OXfqsltut7FJOK/9GryvOho6Zv1NQAo/V3ru9VDzqThEAj8JbokwwoP9Dbxu/aZ8STkHuRl/d4f6S5IH38CovVdBsgnLkAvQuY30zOlOGI2PCKoCVAEghUBJ68lqxnxGX0tNkLwQQEpDQdQ8PDwQgiHKVxC3EVsNCkZTAEM9iv6RggFFLUSCwaz+1P+yQdLB2n3AemG8SgPeSYcICQEhfGf+40WRyeNIQ0QdQF+9ifnVNMPxWLCNMVkxXLFf85b4fzyHfqA+iz9DQGs++PqbN6T6J4Gcx9RHYEFffG88ZP9VgJ5/Lb6VQkUIQ4uNyUSEOACrAdiE7MRY/2s6YfuUgzrKVwxTyetH5QgAxz/Bw7yHPF3B3sddR1IDREF3Q/MHkIdnwrW+Qf6XQb8DpwMGAYsBGsGUQfBBjkKExJxFJ0H4e9j3vngpvUmDz0inCvaK28jMhQnAxL2C/Dz8CP2nPrS+IzuTN4szE27sK+xr3S/Dtp38kj+af8RAasK6BdMH+UdLhlmFmoUBw/LBL73M+vp47TnyfeJCqsPXP+75EzV6dti7tT6dv2iA+YWSCsIK5YTTP2m/40TNBuICBrymPn4IINDkz6YGpoBOw0TKbktZBEw8dHq1votCG8HnQSsCqgP9gL16FnbTevbDLsmWy8dMKQvmSdhFOEBo/3/AtAB+/bR8eD9+BDkFfYEAe1h5MbyEAnHD8D/FOuD6S/8gwr9/WTc48Ejwy3avvAX+LjzAvDR84L8LgQWCJoJxwt3EBoWnhd6ENsCcfmP/wkU7CTTHaL+EeGi4XwBCiPDJjAJIuMc0L3YdvOjEV8n+St0HGsA++Yu2jXXmdYN2gfsuQ98NQFEQi7z/0XVksZV2M75KxIwE4QD9/Zp+oUHEA6vBzf9fvd48p3mmdvi5YUMBjmRShk4mhcuA1b//P8B/5IDixNJJnQrRRxhAqjujusv9+MGgw+dDEkCdPhN9Cn2RPzuBE0N5RBvDtkMixbZKzU92jkBJd4U6xbbGzYKluPcyRTY7P6eE04Aw9p9yO/UauoZ8NrlpN/G6kz95wA37BbP/MMm1JXsVfIH4b7PZ9WU7vsEGQ17EkQk7z0FS8Q/HCeEFjkYWCRwLNso9xrKByD0uOMJ2B3P7cWevLS2RbYPuf68Xsb92xv6Jg75BqnpgM9FzLTbxOwh+f0Hixq5IZ0PVO0s1STWAuWW7a3sQvGNBV8fXysfIwoSkgWm/nH1z+fs3sTkd/aOBEoCfvJr4lDZVtLeyMjE1tIb8RoLVw54/lDvbu1981H3oPkCAycVOCZMLJ4oUCSJJN0lMyNHHRwZ6RiXGV4XqxIiDwYP0xDkEHUM6wPg+037fgWYFHAcpxV1BXT41fW3+Qz8PPoS+J/4lfmZ9ifvOueR4i/h8+AY4cbic+Yr6gjr2+fM4cvaG9R6zgHLlcvM0ujipvqyEQsbVRBM/Fj0ZQKmF2scCg24/tsD+xNEGJ8L3gAHBh8OjQLd5IPR1d4HAxsghyJWDmb0POTn5eb2bgkoDmkE5/ydBkkbwCU4HMIMzQqJFU4ZiAoS9ufw+fx7B7ACWvg1/NIQZCKOHaAETer523HXINUr1RHeLPEnBiITNxagFOoREwvu+/DnCtuG3+7yFAeZD6ANtwzwFHQiOStCKu8igxrXEcMGo/m87u/puOpu7V3vUPCm8ArwNO/w8FT2Bvra8wLle93h7YIRJC1QKksR4/9oBcAQ7Ahv8WjqLQr/P6pjgV22OAwSRP2k+9IDoQzQEZYS1g2SAbXv+OG85NP67hd3Kl0rySGaF+QOqQXy/xwH9Bw9M1s1lRzF+Cfh6dxs30bdnt3H7okM9BzaC8fj/sRPxQbeOPjsAwYBSPhi8rTzL/pH/pD6JfTI96sLwiWcMoQmqAhW7qHpdflACpgJlPkP7WfvhPVR7TzZxNK47NIY1DK1JV//x92Qz5vNnM/K2yr8jynjSv5MizZ4HqQQJQTM73Hf4OgIDGcrCizmFJgDOgbCDJ0B5OVVz1XQmOfJBB0YNh0jGvcV6REtDOsG0QeNDysWZhTKDhASpSIuNA42EiciGPkZXCv+O3g+UDPTIpkRX/847hjkG+Nn5ffkYeRL6iH1N/q388Hp5udy7DDqQtwn0HDVTego9hb3R/epAQYMBAV38W3rZP/oFxIY6AM+/lIaxjxUOHQGhdR50Wb4Bxq5F+oDsQEpFJkfshQbBEkAGP8463bLNsIH4CQHzwrc5QvDa8uF94UbLBwuCt0FaBNNF0v8C9HhuQjKkfE1ELMTIgLA7HXeHNbuzC7BWLxSzV73eia6OxkqEQRw6Pnkx/BT/4AOLR9SKaEhVQrS9u/5iBJhLCw0EimPGgoX/R22IvQaywl6/Fj92wkRFUwUBgqtA8ALOh5lK+Ylxg759Rvv+ABOHGcmqBLn8HHd/eK28YT0LOgT2b/P58c2u/WtQqxgvAfXaO1q9crwSeof7Jf3zgSICkIGuPyX80rsJOXZ3f3YBdk93Zvi0OaV6QPrz+kO5IzZ0szTwc67XbyYwyfQBd/n68/yA/Ln6jHhUtkE12Xcbem7+xoP6R6sJykojSHMFp4LVwPh/x8BJQUuCeYKZglmBbgAXf2R/FH+VgG5A9YDGQFB/A/3kfNQ88f2Ov39BBQM7hAkE74TeRQKFucWFBUcEigUKiALMkw9ajgnJxAXhRFbE9oSiAunAWn7IPpt+67+aQYUFIYkBjI0Oeg6rjnWNm4yJS24KFAmLyV/Iy4gpRvTFikSrQ25CRQHMQalBngH9AcUCEIIEQk6C60PSRc9IpwvfD2QScNRtVQXUtRK7kDbNpou/ChzJWci+B3RFtIMUAG59qDvoe2P8Gb2Dvx//gT8RfXO7c7qYu8E+UkBMAU2CYoSdxwvGowGiu6S5lH1FQ2/GpQXJgtgAOz8WgC0BVYFN/vy7Ujr6PifCo4MmfeZ2ObCSL/oyBXWv9974ijeLdf61CnbQOTC5kvgAtg31CHSxsyNyAbQyuN29LfyLeMJ3GDsPwn3F/wKffAJ4vHocPdo/MX3OvejAiUS7Rc2Dm/6wOdS4ZzsnAOIFsUYgw0WBDMGxAxNCdn4/ehS6Bn1Pv86+xTvFuoA8aL25upp0Ea/d85x+UEffSCM/8vf+eAC/YUPVgBr4IvW4vH5FxojiQxK8rL0uxQ9Njc/tTASIW8h3iwiMnQpNRvNEbcLp//v6qfW685R2J3tSwSwErkUWQ0fA2v6/fJZ60/lv+WH75T/dg7VFZcUxQ6jCQkHCwRW/YP1QvWVAjQYSij8KNEc5A17AoH4b+uj20LOgMc+x0HLedJi3Cnmb+oT5frW3sXUuAy1CL3o0LftNgwtIgooOR8KEpMKtggFA9Xyqt110C7S0t3R6WLydfoeBMwLGAxlBKz5NfFN7HzpC+jV6PbrXO+E8A3v7ewX7H3smOy667frf+/X9qP7PfYl56baYd7r8UAFXAnr/+H2pPWV9MXqNd+x42b8JxWVF6cI/gQQHAk41zPeBgDSEb+K2S0KsjLTRSNHSD78MJok/RwMGBYPLv+f7R/i9N5r4YPn9/Be+5YBdgCq+QfxnunE5sXs4vyUEZkiSC3FNUE+0T/cL/ANVOoA3F3tnhHoLTov+BkbBWIF+xryMQY1mCGsCSgBJglIEEgIePYs6onn2OWF4x/vohKSPOJLzDTIDuH31fK76/PYZskHz/fmmv8xD0UZwR+UG5IJmfby9LIF5xOLCt3sw9Qa2H7ywguqEkINbw0hGZciIBlh/hfnEeaJ+LsJbQlE/KL0Sf14DiEZUxnTGKYfICi2JlkajQ4ODUITghh1GccXvRFcAhbsddwt3xLwzf+5BdAHOhDrHxEuujEuKVoZSQnY/o/9HAbuFfUnqTYBPkU8/jHOIQAQOAGe+KX2Vvmm/d8AeAFo/yH8Jfrh+1YCWAzkFmUeHCAiG74Q8gN1+Enxmu9q8iv3B/sc/Cn6b/b98pvx6fID9vP4tflY96Dy5u0q7MHvL/mfBkQUih2oHhMWKQX27wbcw87Gy7zTMeRl+OMKThfAGzwZ/BL+DFYKBQzOEAUW8BgTGMATuQ0SCP0DCgFY/ZD2VetK3F7M/r+Mu7/BetKu6kAFpRyELN0yTDB0J+Ib5xDJCHMEpANZBT4IAQuVDFsMUAokBx4ExQJKBPsI6A8HF9EbKRwtF5gNjAHa9ffsN+hw5znpmOvV7B3svenr5jbl0OXs6KTtrfJe97P77v6X/hn4Muye4Jvdjegy/wAX5iL+HLkMZwJUCfAbtyY7Gsz71eH03UHs9fnb+cnuBOQ14U3nuvNXAS4I+gE+8SrhMdxA4ybvNvmYAGkHjwzACUH42dg3uCOqbbz86r8fZEDNP+4lGwg7+Of4yf9TARr5QelP16LL1M5p4V/3mwI5A7gGHhMiGn4KKuth2WjnDgYQF1gQHAMwAYAG2gKN8w7qxPcxGFAzWjXPIQINqQRHAwT8E+685rPwNwZZFtsVQwip+PTst+I016nOmtEm5CYBpxy5KbEfuf7p0uWxiK/SzlD87hoKG8gGMPdq/OkPJRy0ECrxtdPxz7DpygqkFm0Hj/S396UOPx4AE832neOk5nv2lAIMBXYECQq0GFoqsDICJxgHvd8ExAjCuNkB+58PTQ27/5/7/wUnDrAEvvK08FAGpR5BIVoP0P6X/BQAYv3G+HwAdxhlNKBE4EJhMggaPAET7hXiH9pv1JTV1ePy/AkTORbvAubmy9Xb1jjfPuGd3n3kGfbQBFwDrPlD+0cLKxXXBUvl28882DL2GxJEG9UR4AHJ+bUB/hVBKsQ1wTvPQxRMqUnmN9EgFhJ/DeoJ5QGK+tT5bvvt85zdnL6cozaY/6LpwW3mG/qa7z3SRsCTz872cxWiFccDaf/aE5In9Bl17rHOb9xTCR4myBcs8wThyO9rCSwS/AUi9Y/tLPDV+JEGGRiuJl4roCjOKJIwkDZsLfQVqAKfBcMbry2PJ/MOR/0/A9sVZxwUD5b/LQE3EOoYvBGMBLj88Pb46fLYidK33cTvWflL+Ib2XvlJ+ZntGtxe1ublkP+RDjYKkPzS80DyqO+c55/g3uOL8dEAZgp2D2oUWReiELX+6+xm6TX1XwQgDq4VXB+8JK0cEAyWAxYKOhLhDPH/EgAIE8MikRV/7nDMVMgB3Fjup/H47dLvlfZr+ODxueqx6+X0NAClCdcRQRk6HWkc2xtpIg8tRi1fGU381OyV8xkCIwgqCnYZYzi8UdZQejtTK18usjYRLnkTDv3f/HELVhJ+CP77jfw2A275WtmhvGLCdOozFLgiXRnrD9sRKRMMBe3rsdp03Czq+vZhAD8NgR5eJ8sZ8fm7387gUvp5FHIboRCSA6X/JANaBK/7v+oR3Gzal+Zv9nD+4vo/8CHmMuNj6oL4TwXtCWkGxv/t+Rf28PXa+50GmBAzFsgalSL6KJsi/wva8f3llu2k/gkOxBqWKdk5AUJaNnwT9+SIwZy7oNGq78gCiAiNCW0JgwKc8VPfdtlz5Gf22wA7/r70ZuzD4w3Sn7YRo+KuA91vEfUnEhdA+ArsEPp0D7IXOBA5BTkDnQ6gI4Q450DFNDcY2fsa8twAGxy1Lx8wkyLxFdgUMh4BKC0n0RZ3/Ebm++Ei8mMLYx1JH6IUGAdD/OjxkeOq0irItc1z5E8CshiwHg4V3QHN63jb19v48I0NmxrYD0H/xf9gDt0PtvWb1hfWz/aVE9sLKuz43lT5xiOmOGsuGhzmGN8gTBw4/lrXIMgu304HfRmxAmvXJMD/0Mf1DAje97zZkMuT0wHh+uY86Vbtse0E5VvdjOUr+QUB2fGr4K7sHhbKNogqlfkU0XDRr+2pALz5e+mQ5bftPvIj7AXkQeIC4gbaks3Ly7Tbqu8M847htMowv3LCX9Cx6P0L8S/9QIc1Fxt1CY4JdA/YDU8H7wbpDcoR4wuzAe/6MfbW7UTkbOPF7g/81P7y9x/0OPuxBkkLrQd+BNoHsg4jEy0UwBTHF9ogFjS1TVJbQkjUFqnmMdg06/wBwwUf/Sj6Uf72/O70q/aUCzwkcyqDHvAUixggHb4UlwVkAOEItRS0Hhct4UBYSxE+WSACClgItBDQEakLYA5vIjo6eEDaMZshlyIdMUg5ozFsJwksQDyjQrQy3RhMCqAKrAnY+SPgmsu6xKbKZ9p/72n/Zv+d8qzq9fJj/yn4gNeRtBWsn8H83a3qu+ev4/Ll5emd62Xt6O025JrOsb4fyq7uyg/ZFD4D+fOM9LH7zPt29dbxn/ID8pzwg/fZBlALf/EixM+qHsGL86UPLfrkzQC/MeMJHEE4+SPx9VrT183K283piO6H7772IAUlEBsNEP6O8UT12AmxIyI2PT1LPe85LjBIG5v+YOYg3EHdd+B/4pznPO+K7GzSs6Y1gwGAdp6fywXzIApuDXn9D+Sv1CXdYPXXBvkG4gL+CsEZ/BmEBWHxHPVXDcwfYBpJBtH6TgPvFtkmri2+L2Ex5DF1LjsmZRuKEssQKxiHJJIsKSdPEiD3beVi51f3ugM3AJjz0PEEBUUdQBzT9A29q5wnqe3UwwAyGeggDSPGItYaIQra+ij6Ogk7GZIYmAQm7Vrl6/BfAREG//yB8RHsHul64hfdLOZMATgeCSUJDWbmt80V1t37zifEPpQ0aRXS+0H55gaeD5UI3fyr/3kWOjPpQf44DR7P/jzoYuL27o0GLRjJE2n7AOZC6WUAVBDYBtLuROGD6If5XAYuDY0SdRUMEVYHhgGXA90Fcv9x8xvuIvUaAJACIfpA78/pD+mx51jk1eIR5kXssPLW+r8IBRzCLbg3UztYPjdCOkP+P3k7EjUzJTUIzemo3dzqjQPFE+4UIg8yCt8Dj/bt5N/ZP90c7B39+AlwEs0XGBknFWAO+QkYC+cPxBOpE9IPCwrdA9H+SP2UATgLbBUZGu0XLRUqGlMnRjKILycfdw2mBmULCBN9Fi0WhBVYFHIPgQa5/l3+7QaAFBEi7CwZNFk2PTIdKMYang1jAur4mfB36aXjm9572V7U7tC40c7YyeaM+jYRZSYXNWg5VjJUIlYODvyR8DbvefcbA5wIOwPW+Cv06/f++rf0C+mw4+Do6fBP8yLwdOsS5eHaPdFT0dLceemc7jTzQAXVIYIvXhkO7FXNMNTw8P4BMfpO6s3n9vSzBMYMrQ3yDTcUkCIdMdwvLhZc8dbbH+I29Un8ue9d3V7VKdrN4vXlAuDS05PJ48kE1lflHe1l6vbiAd4Z37bnVPh1DNsYjxMr/9bqH+WS8DMGjh9dOSNNs09ZPCkfWgxJCtMJP/qu4QDZWO20DakdORa3CtgMFRaaE6YC7PUc/RgQCxljDsf6mezM5gLl/+ZD8Hj+mwcLBIL2t+eK3bfaW+TA/kwh5TUSLmwWego+EwActg488+HmN/d3EQ0bRREoCC4OrhvlIG8c8xtMJygyKSjnBoDmDeP6/dEa8xxGBJzoBd163yXkRedm7mr97hFEJx83VzaFGwfw7tLL3XUE+RqVA2zROLQ6w+blePOv4CLH7MMJ2ETrmuid06XDKs0q730TqSD5DlXv9dtY347qnOfc1AfIANPI60b3J+lTz229Hbgvun7D5daR7VH5pfUP7UjqeOwa73D13QRvFywecBKj/ensm+OG3tje7OjJ+OsAnvlF7LHoEfFJ+Hv1ffGd+hQPThwGFWEBrvTi9q/9Gft77inlYuu4/V4K0QIf7bTguu2sB+8NW+6IvSKnwMOnAB8ydDo9HnP4duFn4OrsJvr3ADcCZwHN/zb+HgCQB1AO7wlR+sfuQPZUDOUc5xpKDYQDHAS1CzwYwyvsQqlPPEQwI34AkPAB99QGxBFtFP4TrxROFjAYvBqeG7kVHAlU/+MAkQcaA3fuP9nP1a3iyu0G7evpzfBN/MH7wOxc4kjsyP6H/4npidfc444GRh5nGL8Ee/1HBf8HDvqe6iDwkAloHYYXoAC38+D/PBniJ0ci+RVYFckfUCJzEkABOgmyKYNAazCiBo7uaQDjJiE6KyzkEecELwlxE9sd/CrPN+U35ySjCnT8SAFsD7QZvxoHFOEISf3C9er0svn/ADIIGw3SDFMFGPpT9f7/DBYPJmchZQw7+oT4yAIjC5kKhgWdApsCTQLUAf8FeRAmGQwV2gUk/L0DXxLlE/0GvACoDQ0b/QwW5+7Ozd+3B24cZw6O+Iv6lRDIGwIMyfLq6Qv07P8jBKIJzxc3IhMVUvEg0aDMleDY9UT9wPst++v5XPA94VHaSeMJ82H6B/bM8Iv0xP03AV/7xPWD/IMRZivXPRFABC4ZCU/bWLfprgbDGN5c5DTQHLwjyZr4PSVhKUgJLe4K9SUMWQoi4063qbCZ130R+T4IUllMxzapHhkSDRbEIBYiXRIv+R/nculFAJAcdCgnF3zxA9KbzyvooAGDA4PwOeSf9Zsdej2VPW0i1AM99Cv0sfqZA5QRjSTzMk8wjxqe/hLui/Ct/ycQxBv0IakicR06Fa8PBA5oCXb7eeoo6NH+LSDYLWkYf/Pp4oHymwh7BgDw1OcwA34sojrYIPv8GvRnCV0fdR2RCkb/gwZjFLoZ7Ba6Fk4cqR4dFh4I5AG0CY4YryEoHl0RCgT++yH4Z/OT6o7fe9jH2/vqY/+DDLUI9fU94tvcBOnv+rcDTf8Z9S/t+um87MD4EgysGN0NVuzvyynHceCd//oKj//O7iDoeOng5ZnXD8lIyzjjYQFbDmABZula3gnqnwBYDv4J4vow8AT0kgQQF40gOB2/EHIB7vOx6q/nK+yb9tMBmgevBIf6ku1O4sDbbNv14Pvoru0o67fk7uNu7x8CQA7sCkv9jfIp8oT4kP7zAlIJeBLhGCUWBAqa+n3uZug86AruJPrCClobPCehLOksUCofJuwglRsqF+QT1hDFDDEHwABw+3b6TwDsClESQg5h/xPxY+8J+5MJmxEtFIUYaCDqI/wZFARb79nol/CZ+Ub3u+m626HVftXR1MPSq9Th3LPlRuh65bnjceXZ5lrlHeS85krrEO1b62zqNu4R9o39NQAw/ff4DPsBB2wWGxxXEM75L+i65aPvy/zjCPMVdSNAKOUZovoK3OTP+NYa4i3kkd8/4B3sdvxjBT0ADO+52UTKask22tH1RA2CE3YIFvmU8hD2Gfo99+PvRevG6wztzOpL5tvjveS/5cPj0t/u3QDhC+nR9HwDyhNqIqgqSinlHooPpQD99h31/fk9Ac0GVwtrEz4gXSoyJ/YUoP7D8afxWvaJ90n1UPVg+j8BsAV/B0gJzgvKDG0KjAZABQoJIhEuG2Ylii60NGs1Uy9II84TEgTu943zWPjgAB8CxfQ53zfUEeOKBqckViOEANnVLcPz01T4pxYGIlIg7x27ILgnRjE+O7I+iDNfGwgEKPs4AkMS6idORJRhhG9iY11H7DB9J6Yecg3OAEEL+CZ9NrondgubAGkN7hh2DCPx6OSr9u8VhSZeHboG3fRO7ovsluf232jdrOQU8MXzeunG1tTHlMXb0NbjE/ZKAWoF3wcVDbISIhLiCG/82fS99Aj41vl7+VP5UvrD+iT5o/bb9dX3Q/t4/hkBbAOgBJoCufto8ADjatYizfrI6cp30pTdVOnA8v723vNd6iLhuuHK7+ACMgy1BEP0X+kc6wP1f/95CAsSVxuHHq8WsQXZ8mDkwdub1xHX/tnx3tniY+Me4Y/ecN053Tvcftlk1RbRCM4OzhvTHt7S7db+Lw0pFioZexdzE58P9A0XDzASgxWCF5kXQhZqFLYSMhFgD5QMcAg+Aw7+V/pS+Wb78f9wBdoJagsRCpQIvAoREMIQ5gM57Pvb7eX4B3oohiyjEITqxdRT29j3PRmHLB8m6Aqn7lTibOPB4qrcsOFBAHMqlDxVIuvwctVe540PhiD2BsjdPNBm7CAYCTBxKbAUqgbCBmcPZhgBHkIgVB6pFf4H/v9qCa8hMDTGK1EJgOYN4Av8riRiPM03HiU7GtAcYR1NCkfmpsnoy5/rOA6FGfoMxv/IBQgaziaAICYSuAy3D48K7PVY4z3s3RLkOt5C3SLq8erQxdAd6DT+JAHv827nOufF8OD7gQSnCPsC9u/41yzN6tqY+GgQ8hOTCGr/BASWFBAnSTFXLociZxqtH94sxTB2IW0IVfj6+PQAFALI+Iru9u60+94KRBFyDX4HdAYwCTkLqQwvEEcTEhAdCS0M3CGJPABAJx9X7wXYQOyDFhEuhB+q/MPk/OP77sz4wQFlDSYTfATP4qvFl8Qc3tH6QAfHAyf71fI26qji9t7/22/Si8JTuEq/79TF64r66wN5DrAZ4R72GqMSzQvRBssB7P+cB2cXXiHuFu34RNjhxcDE0szA11fm6vlADXcX7RScCnEAHvpv9gL0c/Rb+uYEXA7mDxQIBf5w/LAHARl2JR4pZSjFJqYh7hdSEVIWqSGTIkoSHwF5BV8e9i8XI4QDOPW3CUwoxyjrA+Le9OA7BEobDQdP3AXLieU3DE0TNfNizLDAA9IE6K/uDejL4SLigOSh5OLkjOjT7XfwYO8i7RLtyPHR/AENZxzSISkXxv/6563ccOKn878FKxChEFsKkAAz8kHeAc1Iz4DtjhckLa0c7PgL6UT/NiP0K+8O/uxc7EwMpiflIV8GnfQw9hH2yeP40J3dYAp2L/YpQgh6+nwXtD9YQi4Xw+ae2kzy0A0jGFcZwh86Jv8aNPoN1uTCIMONywPWZ+epAjUdTCavGCsB/PIA9x0FqQu0/gPkhtC81eruJQPY/drkJtMA3Vf8EBkoIC8Q+PRn3grZHObb95v82fHU59btlP9HDBwNWwsqD0cSTwvm/y4AcA8aHEYVoQB38cXthOh92G/IdMiU15jm1OxA7sftLuc63JPcCPQnFDIdIgNG4ZfeogAvJZsrkxmWDWgVyiD7HAUODAWsB/AMcA83FgQowj1tSLFBgzFdJKgflB7PFj8CYegL3OfoAgIsCvryes8VwdfRIulW6szY09Ia6IUBE/1f25TB0co05qzuQtxNzaXdmAMaHjAcIgo++wr0VO7v6Pbqv/nmEIQkRim0HC4JNADTCsIdoCHdCiznC9BK0gLnWwHGGTgpKiSBBtPigdiL8rYW2x/5B67uuvLIDTke9BAq9yTvW//lEKUMAPWn3+rcqet0AVgV7CCAHpwN3fht8WcAzBxMMuoy7CDhB+jvEdyN0gDd9vpvGaghJxJFArMI/SICO3pASDUYIvgJLu/K3DbgHfgQEakXVwvG+z31+/PD62TYwsPfvD7L6ulaCyohayPnFKUBtfZr+JwAnwcqDlsbFDCIPzw5fxyv/ur4bA5nKdkz2y62KyUxWTELHuX+S+sw71b++QWxBCkJTxqUKVYiNAOI4aHTWNwG7Yn2SfWv8FPzVQELEnMViAVB8C/oK+tO4zHHhK7PuPPipwWyA6TszuXy9/cE5PK30U7J7efUEZEj4xYf/8Dsz+F83ZXjh/O/AbwCvPnR9Pz55f6296XpC+cw+OMODBYHCp/7d/t+CEUVGBrIHM0mjDeeQoI7SSNGCtABbwqjErMKVPdI6/nux/Uk74/cq88t1NDieOzc7A7tcvUbA/MMVQ+eDmwPmRBwDlgJWAY5CUAQdRbLGLsXuxT7D08JNwKJ/fD8dP+fAtMEAwapBtgGbgbBBYcF/wWUBoAGowWiBEME2QROBmYI3gpJDRYP4Q+9Dx0PdQ73DY4NDw1PDCcLfAlRB9cEWAIPABL+V/zg+rb58Pii+Nj4lfnF+jj8qf3Q/n7/of9F/4X+jP2C/I37zfpb+kr6sPqc+xb9Ev9zAQ8EsAYgCS0LrAyCDaAN/wylC6MJFAckBAgBAv5S+zn56/eL9yn4vfks/Ez/4QKvBnMK9A0DEXYTKRXmFVUVAhOADqwH+f6U9UntCegv5+DqxvFr+Sn/UgEQAHH9kfwvADwJFRbpIh4rOStpIgQTqgF38/PrxOuV8E326vhH9u3useVK3m/bft2k4sTobu8a9+79xf469hrpIuPw7NwDNxy1KaMl6xFX+hbvP/Y6AvD9V+Z00ozbg/82Ifkm/xJc+8XvIe6K7hjxW/r4BsoKKv456NnZud84+UsZqi4DL3gffRGKEicdex1ECMHrjeSU/qgj7i7IE3ftIOOl/fce9yOhCJPmidU81lPbftyX2uLX/dX92Z/oi/u6As/22eRF4MrqZPL36PPWKNGT3zn1kQGyAjQBOwDs+wv3P/1sEKIdoxEj9i7s5wMVJKckf/541SnQqu4nEEYb9RXBFKEd6SPwHKcOlAaICGUM/gqaBsgE9gSLAsD+rwGYDlgbXRnXBlXymOsK9IEAtQd9Ct4NtBGtEDIIovyc9DjykfLp8vjzqfds/S4CnwMpAm7/xPso9p7u/edB5hnqae5b7JzjL93k4pzzxQLPBDn6zOws5HPgx99q5Prw1f/GA2D1jt4J1ejlEQY4GfcL2+gC0YfcQAJlIeYi5A0X+jfzsfDE6Hvi7uzkB9Ee0B7yC0n7//rDBu0SuBqzH+shZyBfH7slQTI4OfEwgB24C+wBW/oc7i7if+Sq+b0QSRDP8uvQKcis2UbqnuR10SvIOM/F16fXq9sQ+K8qpFVtW5M8uBTU/GH3l/kz/ZwBBwPs/BP1D/lvC1oamhAe737P6sqb4d/9Bg1eEL0Uyh5IJWMelQ22AOf/yQPY/kzw8+je9xsUySHUEBDwDduY2cTae9DxxVXTG/7BLCU92yQy+fTYZtLX32X3ahVRNTZIIT1vFffq39pV6qAEZBR1GEgcqCKmIVUTuAAO91X4SP2jAm8LuxVNFrYFMO4B5fnzGw2FGB4Ojv2f+sIFFQ59CZEBZgNYCtIF1fIi5CfsPAYrHWgkbCIJImMifxsLDlIGMw4zIfUwfDLZJBEOF/bO5JLgXOpo+ocD5f2B7wrn3es29ob6vPgR+T/7C/SW4GXSEN0N+/8QYA7n/4v6g/3M9sLjStyW890XCyJaBmTmpukzDVkosB8BBeb8ng7hHDkPb/SD8OkN7C4YMokajQkuFOwqRy/WGDH9RfWmAuURgRIJB8L9t/72BMYHtAV7BGoIVg8iFLsU6xKZEHQN0Ag2BJ0CMAW+CZwMkwvGBn3/A/e67lzoTuV35RvnJOiR58Xl1OOy4vDivuTT51TrGu5q72fv7e7+7jLwlPLH9Sz5GfwS/gH/Q/9r/+z/4QAZAj4DCwRfBEkE/gPJA90DPAS3BAkF/gSNBNED/gJKAtsBtwHEAdkB0QGbAUQB6QCuAKMAnwA9AEX/Yf4h/28CpAbqB5QDaPtI9Q/3XwGqDYkSOQw5AXb8wAFlCaQITv5Y9fD5YQyKH4IknBfVAuj01/URAvQOvhPTDrUDj/ab6ybpzPR3CwIfoCHyFA0JeglKD/8LGgD//Y4SXDF5P/0vxg7M71Lc4tO11hLlW/aS+0PwsuO86WgC5xaUEgj7Jumy69b4U/8T/dH7/PwD9xrpseNX8lEFAAHi4/3NcNpB/FQO7QHa7tjySQ0GJBYlEhixDiYOZgzq/lvnBtN+z/HdL/Cy9NDnp9fQ1AvgBuo65rrbGt+f+SIaCiXgE7H90PoNB/sJsfqt7d/4MxRZIrAVwv9D+Az/SQCZ8onllO2PCNkeTx/AEWAJeQtgDCwEVPz0AgoWmiN+HoAMDv2y9gjzYOsf433iVep98g/1J/ceArcU4B+aFUv59d061NncKe3E/AgLvhh9IbceJhBY/lPzWvEs8vrvT+2n8TH+5QksC5UCZ/gE8lDvV/Gk+40LyxTKDTv9T/Sj+qoFVQZY+mTsz+fE8RYL/S55TflQQzOdCrD4uQiQI2AoyQ145z/PmM9H4wgAmhorJUgVgfBQzkbGZNr09cMDVAMqBdMTDyYiKs4acgSD9rT0rPeW+Bb4bfowACsFSgVZALL4GPBZ50XgKN5b46/uvPurBbcJhgdoAOH2bu6U6iHt/PTE/q0GOgrYCJgDr/z79hP1o/cB/EH9tvhM8qLyLP50DvsWExIhBz0CJgezDoUQKAxWB7oFcgWHA/sAiAFgBjQMqw6cDBUIVAPv/tv64Pfv9nT3OPdh9GHvzuqO6UbtEPbAAvgQYR2lJPckCB+JFcELNwQZAEH/dgDkAckBOP9v+qf0be8c7JnrMe6R88z6mgK/CWQPOxNMFZgVIxTFEe4QRxQUG0AfXhlYCFb07ei57ML9FxOnINod/gx1+qrw6e5x8Nz49Q8lMAtDOzc6Fef3rPBV+HL7ePDx3tPTX9Nh14TYYtZv1jTd9ekD+MgCCQgYB8b/M/QS62fsePm2CVUSQBAFCXoDQgLOBNEJKQ/YEcQQSQ6pDOEJvQLB+mb8Ng36IqwpKReE99TiFeai91sDLQBZ9zr3NAFpBk73qdaNume3SMtG4gjunfGK9PXzs+hJ1pjJf8l70W3c8evUAPQSIhfqClb2ieRb3qHnJvr8BL/60uOb2qXung9RHD0GoOBvy9XUrPHODW0cDhptCLnuwNnS0+LaAOTf6qH4+xXxOUJO50avLx0fvh9sKm0zFzZIM6wrTCBjFXEPoQ1cCisBr/G93dTI8bprvwvbiAJiH34i6xH6Ac0AbgoDERIOyAiiCi0Rpw9c/0HppNv72QTcytri16rXNNtI4o3td/ocAg4C/QLcDkwg0yNfDs3uguJ09g4XlSOzETH5zvjTEroqUCYsC4n2Gvv7Dc8X+hK3EKge/i+YKlQKluyB8fwWDjuSQWMupRg3DogL9AmnCtwQdRmcHrQgWyVMLRYwhiQjDC31M/DrAG8Xhht1A6/fQMwB1rfw/AbIDqIMKQhvAxr9s/Y69kUAsw9XFaoFNOnH2cjoXgnDGhYKFOYYz/zWE/OvCkQPAQdaA5UOMCHnKNoaxf5A6Lbl9/WWC1IXtRAo+vnfVtFo1m3rzgQiF2MchhUKCjsECgnxEU4SvQXB9mPz8fykB8oJswU1BAYLLBrKLG047zCrFFP0n+df9nYPjhq2EWEFTgZhEFoQav3o5q3k2fvVF6YfKA/6+Knx7/yEDvUXRRIF/pHh1slsx0HipgyPJ84bRPIaz77QwfOQGLAiAxD49LbolfXYFGgyrzfpHNz08+Eu9y0iujkIJnX4odhr3FT2agl1B574K+uj48bdsdYV0bzQ0tVf3TPk4+cy5kreDdSI0ErbavEjBZkJjP/J9Ez2lwNPEIMRWwhO/0T9rv219yrsLucG8R4CHAxhDD4NuhNMFSQGW+yW3BDkE/zLEzUgOx9MEUL4FN3QztLVI+qJ+/ECVAchEMIXtBAl997Ya8n6zwbjcvSS/ooEagk4CxwHOP+6+bb6pQA7Bx0MzA/7EsAUzhN6EHIMuQi6BKL/GfpK9j/2lfqEApcM5hYaH+AiEyF8GnwRvggZAiv+ivwu/ND7cfrn9/P00/J58jP01/f5/GICXQXkAnD7g/WS+ccI5xiCHGEQ3P7b9GH1jvn3+qD6Cv2GAkwGjQT7/kT6s/jQ+Lr4+vg++3P/SwOdBDQDFACm+231c+1K5VjfU92f39TlMe9u+mQFkQ02ESMQgQsNBXr+M/k+9v/1Gfiu+8//xQP8BtMIqAggBmwBV/sR9ezvBe3w7G/vePOG9zX6y/qA+V/30fXy9Tr4w/yuA50MgBXyGuMaPRb8DiEGLP7I/QEKuBsQIS4QP/bE68D3KAbMAZzyevZKGV0/uUHfG8bxleaM91gG6QCJ85zzeQO4EkIVkBCKEMcWdhq2FUkMEATL/K3z1+ti7ND0Nvmt7oLZWsrPzJTc0uyN9mv8QALhBWoCBvgA7SzneObv5mDmLuYr6J/rZO7U71XxFfRH9zP5Vfm7+F34Pfjd+K/89QUeEiMZxxS3CE8AlgIuCxsSmRc5ItswyzUPJq4Ktvr+Ac4TIxsdFFUOfBZ2JaoqliK1GmUdGCJQGWMF1vzCD0oxdkIdMjENuO/S6V30vfwZ+bfwc/Gc/gINvxAwCzsHYwntCf0A7vKu6mHqrelb5RboOPsuEvkQpOx3viGuzMjn860JM/4c5kfdput3ARYJP/pE3yXModAs7bUQtSPAGyUGYvvyBWsYCR4tER39Bu3c4STaRdpS5bPyT/WQ7XjrPvqlD0EWpwY98BfoT/TPCqQeOygXJM0SIPwN6/3ict231QHSc9t675v/IAFc+ATxr+4T6+nj2+Ij8VEHZBIUCnP6ivOa9WP0FuvP5P3uKwkhJus4zDv6LUUTqfe66qXwjPvW+0r2yQCoJHFLqlI+Mo0HTvdsCQ8mYzH4I2EJH/B74FfeE+px/PUHFgWh+zj6xAMQCzcEfvUH8BL54gK8/470GfHk+QAEawZQBXAI2w6cEvESRROfEsILv/6H9L/11wB+DEsSsBNhFLgTWw6zBIn8Q/tMAFcGFQlVCBIGZAODAKT+EQDNBbENrRO9FJUQ3wiw/932LvD47D/tZe8d8frwG++w7Abr/Oru7KnwV/W7+cb8M/6c/gH/MACAAs4FsAmWDQARshPTFcgX7RlYHM8e6yBIIowidSHbHrkaMRWVDnIHjQDM+vX2ZvXp9b333flj++n7qPtg+/L74/35ACUEygVUBOf+yfWG6ojfatci1GnWlt3/54nzwP2EA7QB1ffC6uXiGOXN7Fnvv+ZZ2H7PCdLg20rlQusp8Aj2BPsq/Nb5mfcf+Kr6/PyY/isBJgbcDEUTxRevGYAYpBOBC3YCNPzL+yACzw0DHFkpfTL4NCUwlCVzGCgMGwM3/gD9Af5O/zf/+PwM+eX0LfIA8oj0AfkQ/k0C0wSWBWMFVwVABi8IeQosDJYMqgsHCpkIFwiGCCsJ5Ai+BoYC9/xh9xjz1/Bw8APxhPFh8drw6PCe8n328vtnAeIE5AQrAfL6hfRk8EbwefTQ+zMEfQs3EPYRQRETD1wMqgknB9MEvgIaAR8Ax/+0/0b/8P2R+6/4U/aj9Vn3YvvNACcGCwqwCzALZgmEB44GAQfBCF0LZA6kESkV+hjJHMgfyiCrHtoYsw+HBD35pu/s6DPluuNI48HimuHu307eVN1R3TLer9+d4STkwef57PLzL/ySBMMLvBBCEwAUNhQSFQkXhhklG2waoxZxENUJegWiBRMLqRSbH38ojiyiKpEjshnbD0AIsQN1AdX/8fyn9xPwiuch4O/bRNw44Y7pC/Mt++j/VAD//Lz3G/OJ8Yv0NPwoBwYTLh2FIwQl3iE4G6MSjAngABP5UPLl7G/pyeio6xjyIfu4BEQMcw8tDTIGCf0v9djxlfSf/AEHvA9XE1MQ1Act/Xr08fCA82r6BAJFBnMEQ/z473Djltr41+7bwOSH71j5OgCHA6oDigEA/pn5r/S573/r/OgB6bXrWvBm9R35SvrX+OP1TPPT8kD16vns/uEB/QDO+4bziOp44zbgMuFe5cfqce8q8ufyk/Js8k/zPvVu98T4hfjm9hf11/Sd99b9gAZ1DzkWCRmeF2ATyg5iDJMNExIJGOQciB45HN4WehAwC0MImAfvB7YH9gX0AhoAP/+tAWYH9Q7/FTYaThp7FkQQxwnFBPYB2QAgAHv+Tvsq95fzdfIf9an7qASPDYMTdRTmDygH6Pwl9BPvUu7F8Cz0KPZB9YDxWuwF6Ijm6+jh7vn2Sf8nBrgKDQ3sDUYOvw5hD6EPsw7pCxIHkgBM+Uzyfexl6BTmOuVX5d/lU+ZM5oHl3OOW4U/fAd7P3p/irulc8zv+dAhpEDkVAhe5FqoV4xTMFBwVNBWWFEQTuhGnEG8Q1xAPEQsQGA1MCJYCa/0a+jL5Kfpi+5/6M/bs7troQ+iq61jqw91EzrbQtO9mGHQn0A4r6dbftf7kKJ85SylED30FbRBkIDwknBn9DRIR3iSnOn1AczEjGN4Dgv40CsEhizjAP28xshWQ+vroU+RO8K0O8TSGSzRA4hqg+jb5JxJPKHsjWgbk6Obg1u8YA4AEau7H0mzM9+U4D7gsTDB4IKAKo/S03pTOVdHd7S0X/zEwLd0TjwHOApoH5vma3CPLUtmU+1MUKxRUBU74/e514CbLp7l7tXW9eMxh4gT/rBeOGvT/ANWos2uwtMxh9d0OKAqO8uviO+lD+PP5yuu14JHnpPlNBvsHuQX5BNkDyQAw/q77qfSU6sPouPXvBbUHa/oz78fwgPUr8G3mO+sNBNwd1CCbCcTqAdnC2irppPqBCdQSQxNUCEr13eMF3SPhxemq8vv8XwjEDSMGZvWy6VLuvQENGdspFC/KJ3cWvAFO8kzt+vDc91v+bwR2CnoO2w22CGoCl/5h/t4AJwUMC/QRDhhfG2EbKxnxFTASvw7rDXoRlxa+FfkJn/if7gv0TwQRFUkiey9GPYhCZTN2DwnoANYi5UgHvh97H7YT2RPsI0Qw/ib8DT/7SfxDC8caUyVrLaIymi6iH4cQUQ4HFyUalw3P/G38UxDFJJQkQxFL/0z8iwH8ArwCRQuTGWobIAmx9cT4pg2sFsgD0+jm5Jn7YRKvEtoC0fjE/H0Cev3I8crs8fKb+8X9Nfpr9pHydeqq377bdORw8WjzyuW31GTPBNgw5N/qSO0w8cz29Pdo8GXj6NeR0S3PDs840jHaVuUF73PzbfI/7vzop+Ne3wXeEOHw50fwsfcX/XIAuQF3AK/8LfiC9hb6//++/1LyvNvjy3vS3e85Eqcj0xwMC9kC8QqvFQISQgH59XX7jgbcBfP7x/17FKMr9CbXBXXmLeNr9gMHeglkCZESTx49HxYXphMiF5ARIPn53oLetfmME7MSiP/S9kAEURV/Eqj8euue8WcI4RhhFUIFPPfD7k7lmtp92QHp//89Dg4PqQw2EfEZiBvtD2T8weqr4IXeTOOk7dH5IALIAh78tfCt4yvan9uv6zADIRP/ERIF//kY+EL7MP0B/24FWg32Cqf4CuN335n0wxDQGlwLBPOz6B/0Igl6FcsRkgb2AcoIWRHlDQ39Mu6u8icKgCCyITQO/Ph/8pf5kAGPAkwAhgJtCwkXMCEWKSAvyjGLLjQl7RiaDfMEXv7b+J309fID9c/5fP3f+7D1dPLg+cMJDxXrEJkCsfsCBlYXPR5VGH0TShgQHTkUAADn7gjpRetY8zAE8hkFJBcVE/am4L/lTP4bFpMgeh9jGdwPeAD26zPaC9eh6ekKOSX9I5cIzutr5Jbu4fP16l7k9fHuCgAVdQeT9w38Fw6aEjEAHu86/J0iQD3DMJYLrPV3Ag0bqBlH9j/Q7cp76EYN/CG6JokkdBoBBH7rhOZq/NkZpSQoF3wBVfPI7SDsIPHdApMbKChLG1L+Bem86L70Z/xl+w37qgI4DbYQ7ApBAsP7JPaD8O/wGv4oE+0f1hjZAxXy6u0P8/r3Y/pV/0sJ8RLvFDcOWQTS/Gz4WfVQ8wr02vhdAboLEBQOFMMGq+953OfbdvAcDfgfSB9KDHvuXdEgxAPRdu8DBT395ODEzjPbgPtoFAQYCQ/nBrMA5vZA7czw9AaAIy4zSS2nGLoCefSJ7Yznjt/z3CzrWwn9I/4kkgoK6traiOHi72j2T/IR7P3safjbC7Yg4ywAJ+EOtPFx4dzlAvebB60S4BvOI28iDBJ1/AP10AIUF0keFBYaC4wECPzg6yXc8NmM5fvw4fDu6LXkUOgg7ZjsMuk56t7xAPs4AMgBVAPnBa4GVAN5/d34Rvdr95L30fcu+Xb79vxL/MP5o/ab83TwG+1u6rLpieuR7+30uvrz/0IDYwPj/5P5H/I96yrmr+M+5Gfn0uqS6oXkX9zG2kflh/YtAcH8kO7u42bk6OtZ8pT1vfmUAeAJUg3fCjsG6QLFAO79f/rd+LT66P7oAjsFBAagBbgDIwAX/Lj5c/rp/YsC6wZfCroM8A0jDrsNDg3SCyYJQgRE/V31V+7f6QrpDewW8mv52/+OA6YDRQBe+qnz2u7Z7lX0y/uY/8L9ffs0AeQRdSZVMkguJSAPF7oc3Cm5LCcdfQaH+jr+GwieDvoQbRE4Dt8FtP7YAvUSRiLfJMkewB0ZJPkiJw9H9W7vhwZJJkEz7CcDF20TXRvbHJAMjfWC70wDCRyFGtH5Jtnt2bj3KQw0/O7XzMY/2gz9lQ6bBSr0OO+/+DwBKvrq5O/QvcxI2Y7rAPlIAGQFCAgcAjHxbt5a2HXjIPSj+sLzVOrt6Djua/H+7tHso/Ef/H0EPQWv/zj4X/Ef7Mnqku/K9y/85vhr8+f0YP6vBVQA1PBz5+bybQ7xIVQZdfwL6qb2ZxUxJ+kdMQnD//0ENQsHC2INjhpTJwMe2/tz3FnfmwMBJkUnIw5V/LkE2hayF9QFDPp+BRgbWCFeE5oEigNbBSX4bOL34BsB1SldNs0hwAk1BSoJoP/t7NfrzgWwIfQiWw4KAkgNvR76HbUKhPlK+DECVQ64HAUt7TFUHDT0Kdog57AOHyuGJw4VPxERHzslOhI89cHrZf4MGvgoeicAHj8RGAFM8yn0xQceIKgpkiEVGNkZZx4jFU8A6fdtDO8t4Tk0IoL+5PDl/gQOAQfl8rft8QDDFo4WnASm+jwEjBASDFH8OfZS/7sGfP4s73brWvcSBckH6gAt+vD4APst/Nz6SvdB8QXpkOIj5Rz0EgjVEg0NOv6N85zvuufp05G9wrhQzqPwFAhdCKz4hOll5Z7pG+t74uzUW89/1qPef9nRy8DM+ek1EaIeeQPz16DBesuK3hLilNmk3Gz2mxY4IyUTbvXi4Wvj1e7s7o7c/8m00Tf44SLbLzcWjuyw0UPSueR++VsJTRTGGPwS7wQo+Zb4VP9bAGj1SOcB5BfvBv8+CYQMIQ5VEIcPoQjW/gD5kfoCAeMHWg37EakVoRbGE4AOegnjBbECgf6B+Uv1SvPi8+X2AfxKAq8H7AkCCSwIlApiDkINiQSH+1P9Fws6GFsXNQnW+5T7rwY+DzkIJvID3bjb1PEBDqcaGhSKCWEHvAhrA876pfuOBuMKovy1513k/PltFfwe6xMYBfj/yQCw/I3xZ+YX4XHjP/BqCCkgmSG7BKHgydcu8HkJTANf5jHb9ff5I440yx4LAX/7LAu8Ey4HevcL/tYavDTjN2UppRndDLj7dOdw3x3tawNsC6T+1uxK5wTtH+9o5YXZG9wi8RAKpxT/DXkEfgZlEmoa9xb0D9ERbB1OJ+Al5hvtE+IUih3iKLMyOjciMgQiOg3G/zkBvAxLFWkTMg2sDjsadyPAG+MCluhQ3VvjNe9c9AzwJemw6LHy9QKPDogKm/VB3AjQEdjJ6nL4tPqQ9zH2X/UO8LXoPeqp+uwPuheLC274wu/58zb6aP2nB7AjEEnRXaNOiCN7+vLs7fr6D+EaqRxQH0kj4x20Cuv2cPR3A/APTgic8lvlmOxQ/KEA4fZc8Bz8YRP0H/ITCvgC4ibf4ejY7nDryOp5+ZsPORaNBAXvkfAbCTEc4BEQ8dnVlNNg5Vj4Nf4F9ubot+Gc5Szxtfvk/eX2qe047fP78hJOIOsW8fxF5+jkxvDY+Q73Ne/j7KrvMu7J5eHhLPDrDiQrUzKuJGITIg3+D70PhQXR9CTlN97G568Cwx/rJ7sVWwAPAqYVhhmZ+WbM0by22psLfirzK6Ydtgy9+qfqQeha+XIPMBRZAznvzOlM8Xb3yPX88hv2x/u2+770Wu7Y7lH04Pjx+nT+hQbiEJIYTxu4GvsYMhYZEdYIsP3J8S/qquxQ+aQG6wdt+dbkqNdT1qDad93+3vfj0+1X+Mz+BwEEAgMDGwKV/f329fGt8GvyPPX696n6Fv6dA48LPBJQEOIBE+5F5GPuDQZFGWoa1Qtw/Aj5HQAKBCL6Suen28rhbfSxBMQHUP4u8urtW/Oq+ev3uPFB8zX+SQJD8ZXW587K5H0AKgQX8jXpXvpJD2AHfOZN1rjzBCdoPKQh+vvd+VwaDTFJH2n4pOWm8i8FiAP28c/k3ePR5/XrrPJy+HHxxdsoy+rWTP3zIZoruBxmChoBxPt/9DLy5P2MEOwWyQnY+Qb8pQ1pFVgCMOJh0tbek/d+BlMGUACh+8n3AfVN+K8D1Q+vEosKcP409GvroOM94lfs+fs2AuP2seIy1njYL+I66YbsH/Kn/BYHlwtnCxIN6BINFvsND/0Q8p752w6LHpcaTAjj+QX8PQueGc8bUxCf/TvtaOhK89gGABNUDWr91PTE+az/cfgV6Fzhbe8NCHAWpRH+BBQCVQ2zGsIblA0s+djq1+p3+rcTZyu3NpkxTyHYEM4IgghYB8n+U/Mp8dv+BhW7JLgkERdTBL30Lu3c7drxffMm9On8xhINK7kxlR5iAKju7/Fk/hQFpQQcBp8NfRS+ErsJCwLoADIDCQMw/xD7VPlE+UH5NvmF+cb5+/pWAcEP2yA/KE0ehwlC+eL2if5rBhcKTAytD7QRRA7sBS7+t/s+/nYCmAaRC2IS+Bk+IF0k7iYsKOUmwSEmGW4PSwc9AoEAzgGWBakKHw9EEU0RTxIfGA0itifDHp8Hm/IC8mYE+BG8BSToNNnM7NMRDyNiD9bqwtaO4Fz8yBhzLDIxgiCv/qPis+SVAvodSR3PB1H5if0EBBn7/eoL63wAjxVEFUAFWfuE/4gE5v6e9j/6AQcGCnn6ougL7IMGeCAeIvoKee8Q5BftDv8IC10M9AsyFAMhwiAICf/m9NTQ3yX7sg8EEboDavSt7ZX0mQbpF90Z+Alw+L74YQu/HB0bAwhu8pfmfueq8vMCKhDlEQsGM/TZ6IrrHPjkAdz/e/Yt82b74AKj+DHf39BK5DUO+icbGD7uTNC+0Dfhj+w08A71p/qW9+nskOur/wQdOil7GZr/0/VoAc0ObwrZ9+fsSPhiEGYcAQ2k69nR6dGw54L/WAqzCXII2AvjDjALHQLS+ib5KvoL+lv68/6SBVQFivn/6Rrj2ObO6zfsgO5c+d0E+gBA637VedKJ4eXz8gHMEIggESHBBAbb38nC5PgR8CQbElX84ghZME1HrzLeBfHoAuxb/ND/tfDC3gXcKuzzAu8PBQza/O/rCN1xz27GgcrZ35P+6xeUIjQg7BfwDroHPQUbCq4TFBr/GHcW7xsgKaAzDjWvM9Y3gjwqMv8Sxe8947/3RRsdL1MjzwKq5uDfV+xF/R4F+ABV+PH0Z/hX+XruF97p3M72hRpXJpgNJuvG5V0DBiHYG775XuBW5nn6/f7Z8Trs9PxUE94VpwMw9Dj5PAtAFv0R5wai/jP4ke6H5ATj9esd9SDzSuar2LzR1dCU05bbQ+p1+nkDhgKh/f/7zv0i/cP1hOo64+blk/BR+V72nujH3EjfLO9N/0cELv7z8wDqcOEL3vLllPiXCscPZgjwACMEOxDxGqgd5BoDGIgU0wpg+qTts/BVAQMNiQLF5ErJZ8RF19/wz/7T/P70tvL+9qf5z/Mi5/XbMNs/6ccBbha6F8wEZ+9R6lr1ywAQA70CmwnEFdccdRlVEEYJlwbPA5T82/Q/990GXRUsD/Xz4trN2O7np/Hx7bPtSgEIHWUinQVx4FbX/e5TBlH+IeBP0sjoVgoIDgTugtDq2asAjhr2EYv+egN2IaM3Ey8aF3UQmiT0O6M76iN2DGIHPQ/QEXEGffUp7Eru5PUX/TwD+wdEB2T/OPhb/AYJdQzG+6rm8+myClEoUh7j8dzRe+MUFpQzZByS6ebOIeIRCSsdBxRH/+HvAegQ5xfzhwyIITQb4/gL1YPKrdn5693th+BO1HXXrOoqAtAP3g22AbT0UOuf5FvhV+eJ+sYT6iL9HA8Ht/DG5PHh2+E44w3qsPd0BqsOFw7OCKYD0v87/Pv4wfcl+TP7bvuc+cz36vfh+Sr8c/0+/U37VPeJ8Ufr6uYm573tDPlWAkYB1vT15yzoN/VA/g30Y9x8zrjbjP50ID4u5CaXGcYVWRt0GycL+PPV7GwBMiQZO/43GCNAEJ8MchXjHWwdPBmiHuQywEm4Tzo/NiiiHp0j8SX7GR4K7gk5HAMtdycvDbnzZe18+ZMK2xVrGFQS+AOF8V7k8eQD8/sFMBWBHvIjOyVHIGYYDRdhIPMqZiozIe0epCmVMSEk9gfV+2gUa0BGVv4+Dw8a8R/6JxdcJbkW0/wt81sDHR7VLFInvRePC5EF2QA8/Lv7yv87Aw0F0Ax5HlUu7irlE9b9c/r/AmwChPK05SvwWA3jIn4cIwDO5pHkiveYCqMIavBE1ofQh+Iv/YERJBw9HhcUcPse4DjYAu6/ERwnvh/OBCro+NMJy6LQmeUc/okEJe7uysu5b8qE7hoKcw5DAejvz+TI50j8WBgpJfoTA/KH3kjqfgb/FpgPzfr76ILhyeOy7L70Ku+P1de1o6sDxVfwhQt5BS3swtnf2bzk/O2y8P/uH+7T82cAFgkBALLmItLB1AXoGfQt7ajgyOIT9nYKxBAECDf4Sejn3c7gHvQlDIkUNQY28ZvqKfVeA4UMchRuHZwefBBr/Nf0Pv78CNgFUfp4+eAKkyA4KLgf6BLLCKn8g+tZ3w3ltfkMChgH+vYp7RbzHf1O+Znmk9cB3IrsnfMX6lTievD1DBgZKQO43Z/Mk94eAHQTsw2I+oDqcOUK61L3XAOwB+AC4vvm+pQBJgwIF8YfKiL5GVYJJPoE9m39VAhyDwcTMRi4IOImMSLYENL7y+9B8Vj5pv+NBHYOkB3vJrweNgZD7VLl2fLLCtIcNh8sE5YBH/Wn9GX/UA2FFIQPnv916xrc3Njh4UjuoPJp61Hg29v04Cvq/fHb+C4Cug1/FjkY1RO8DfAINQWMAaj+FP7Q/+QBfwJ7AbP/x/3Y/IT/UQfUD/wPJQWU+7MEhiGePH4/ySqKEzAL1RB1GGwYZQ6L/pHyAfWBB9gdlSbrGikFb/ZI9jH9R/5n9Njlg90E4R/rwu+P6M7d3t787+8DAQseBAb6svIg6mrf4d799fsd4jq4Nc8VDvsd/qEYvy3VJ3UM0vQi9UgL7CKjKF8Z4wBD7Pjght9n54/zRfiS7VXcg9gm6tYBCAooAPr0mPW8/YUDqwalC9wOiwkqAuYJ/COFOms2ax0hDOcRBh5AF1b+OO4I+vMU5CF2Fej/ZPaR+5YCSAIL/fr3H/Np7Tjqre0b9r79sgFRA2IDhQD2+mn1bvBL6WTh+eL79sMUtSN/FIb2Let1ALgehyLoBUbn8eUmALsaUCQtJTgrfjJaK5cSXvdn54jfn9ZB0cveWAG4ImkpQBXK/pL5e/4Y+Fbgz8qtz8fv8RFeHAYNifb+6NDkNuQE6FHznP5z+nzjv82e06X3LxyJHmP70dR00AXwhQ9bDJjqGs8b1oz13AqCAdjmH9ml5zQFXxfvEIX9vfOf/GELGQ+iCFMI+xWZI7sdCgXU72PxAAVvFIoQgf/a8n3zL/vx/ycA0gDIA1sFsAObA/IKAxdaG4AMre3j0ojRvuteDFgaERBX/h75uAOnD7wMSfrF6efu/wm6I8cj8wsn9nn1NwF8BET70vRU++cFoge1Aq8DKg4uGCQZrhSwEiYTfhCcCoQHOggeBOPzj9210CzXZOzBAjgOqgpN/Srya/QHBKgSjg7+83LUysmn3pgCnxiSE+sBrvrwAbcG4vsz62npPftQDrUOT/1I7KXo2+0P8D/srum/7Un0jfVZ8E7rCO2C9WT/uwXYBo8C0fi57KnnR/PKC5gbWA1H5lDIdNHn+OYUSgia5AXW5e7eEq4blwd59f/2X/oH6nfSBNV4+IgbDR5UCGv7DgO2CYT7fuRc4cn5FhZmG5cJs/cr9rH8J/n96iHmEvjQEdIV2fuv3iLgNAKKI70j4AS15E7aG+PQ7xT4ffvi9yjrpN7M5PECMiJiIpf/WtzJ3fwAmh6RGUX/6vIYAncZMCEIGOgOHxIUHZshqxd2BlX+vgeMGe8j0CN3JBMsPi84IJ0GivznDyIuiTYdHzP/4PPSAIoRJxTsCpMDtQVeDgsYyh8hIgMZXAJF6HXdeOzmCXAbhBDM8xDh1egfAPgNsQa19rvy9wAmFGkbGBT7CosN2husKeQrWCL2E3MFbviY8bX3tgjjFW0S/QPA/PsDoAy8B6b5FfUhBJce1jZbR7ZPkUt/NXUSLPTl6+H6thAQGRQM5POZ47jm8fXp/DfvLdil0Mni+/yRBeP3TOdM5iXycvpM99rw3PF0+RL+4foV9dTzNffR+fj42/eJ+mEALwV7BsQFhAXIBb8EsgEN/lv7SvlO9szx6uxF6W/nAOeR5yXphevR7QvvHu8R70XwiPPT+H7/eQZXDIYP7g6TCqQD+PtT9fDwTe8r8KPygvXG9xH5tPlc+qL7sv03AH4CsAMzA+4AXP1j+fr1zvMb87PzFfWs9ub3WPjK9zX2yfPj8A3u6esR6+/rlO6s8or3SvwLACsCcgI1AUH/ov1L/b/+wQFcBRwIjgjXBQ8AW/iP8Jrq0Od16LPr9e+M81/1T/U39H7zbPSZ95T8DAJhBk0IgAfLBNgBcwDKAecFpQssEboUXxVUE9kPkgzICtcKEwwpDcoMUQoPBjEBPv11+138lP8NBIgIAwwLDr0Olw4mDsMNgA04DbsM+QsVC1kKGQqHCoMLlQxQDRsOQxCGFDgZuxrHFhgPEQjWBKwFEwqcEiYe2yUnINELPfbF8P397g0ZEGIFHvz8/TYIIRQVH/gmrCXrFmUBIPRx+JAIGxb3GG8V2hPnFQIXoxT6EJQNzQg7AyID6Aw+GeQYbAVh67nfUusQA0EUERaWDc4D8PuN9BLuIusF6yTpBeX75vz3bhUsMOs3mCaBA7nfiM2L1ODqU/0jAeD7Pvge93DwmOFi1bPagvRJFHMkvBkM/V/kNOCe7mkAnQnVCkULbQ3bDLwF8/r68pXwzfDe7/jtQ+4m8sD2M/ei8WXqwelX9MEEdA4zCZf5iux46pTwtvY/+RL7QP/jA6AEUwBV+kT2cfQP87fxQ/JF9sv8NgOhB84JAAr3B3oDhv05+Hb1sPUe+Kz7hf/kAv0EWgVPBNgC1AFzATgBaABy/gn7SfbU8LvrAegy5o/mmOmm74j34f3h/vb4Re6v5A7ksPB+BKEQrQuy/cz3Yf6MAm/2quIZ3wv2bhZEJiwd3gbu78DaockMyWbkIRH/Lpokrvrc1fTSrOtFAZj/nO/35g/tDfd3+gT6Xv1tA5YD6/pH8vT0mgN0EggUZAWA8e3p6vnYG7k5ETzuHRT0Zt316NEJHCTBJagS5/u370PyJf+VC+cKWvpj6dXsTQQNFCcD5t15zuzt0yM6Pgco4v1q6jL3rwk8Cfb6cfQK/Z4GuQLs9BPsKO909zP88vzF/bb+2Pxe+qX+Vgs/FiMTsgIH82rwRPkIA8AHrgo6EOkV7xToCgP9X/Kk7Sftd+9B9Y/+CAjODGsLMQhtCecP1hMvDOb6Be++9a0JjBb/D9n/vfgt/joBffWT4QzWO9nw4y7wOgBOEugWCgA32ZHDRtO392cOAAoK/cn9HgqvDVT+8+mb5yH/tyCxMvYnBwtP8+/usffC/TH6E/TU9GL75Pxd8Yrd3M4rzgrYtOJX6WLvr/n4BmYQ5xBhC24J/xLxJSw23zedKowZURDJEBwUGxRGEcMPfhDFDqwElPFD3EPOqsxo1cTi4O/j+WX/uwCP/5782PdP9Kn4YwZEEqoN5fr98OUCbSWIN88mVAQF8Wr7jBb8LBkzyic2Dw70feeP9FER1iNjG0QC+vHy9gcF1whT///2KPu/BPQEJ/sz98sCxRBZDJX2KelU91cUAiIEFeb/WvjH/JT88PNs8uYDIR1GJ8oa1gaQ/VYAjwPeAH3+XgQ6EDQY7RaYEAAMRwqlBzUC2/wb+3v8gP1D/Ef6xfmk+vD6pPnD9732oPZv9tD1kvWU9qH4vPpE/G/9qP7i/70AJgF/ASoCIAMSBNYEkgV2BnQHWAgDCYQJ6wkxCjkKBgq+CYMJYAlECSEJ9QjACHUIBwh4B9sGPwaoBQwFXgSYA5YC7QAL/kH6+PeP+sIBZwbM/4vvCOWc7uIGSRfOEDf9CPK+9cD5z+9B3q7ZMe3BDS8lUybeFckC7/iO+Rz9Q/sT85PsIfEXAfoRJhiXEQQGdP0H+XP1xPEp8Vn2ff/zBwkNlg88EbkRng/sCsQFdAKKAS4CyAOEBmkKfQ5TETUSgRH3D/MNiAv6CNkGhAXSBEYEkgO+AvsBVwHOAHAATgBOAAsABf/9/Ej67PdF99r4DPvB+hL3bfTE+SoIdBZyGMELL/vm86D4MAFbBecElgQ8Br8GUQPC/Tj6CPqA+rf46fSG8Qrw4O8k8D3xGPRd+EX8Rv58/j7+wf5zAHQD+Qf4DZMUQBq4HaEecx3jGnkXlhOED0sLoQYnAeb6hfQa753rhuqt62vuy/Hc9AH3Nfj2+OD5DvvO+zn74flq+rb+PQO5/8DwbuBQ3wnxlAQYBm72Beo574f8Gf1r69nYVNmX7GQAtgdICcgTeSfsMYMhFvoA1FHH9deI9BUH+gd/ASEBaQZiA6TvLNdq0L7iOPz/BAj6+u439XsGVwya+rXdMM4z2Uf3YRbxJ24lyA6669zNd8kf5W0QBy+vL5gYsf1E7ebnCumk8YcFQh+5LC8elPmn2jHbXvoHHtcsbCSOFEIJngCj9mPy5P1XEvoXdQG64cPb5PrbIm8sgg425sDXxOutC5obHhREBHb+rwX0DEgHNPZo5+XldvCQ/r4JNw8lDMj//fFH8Pf+5REBGp8WaBHrC6P9heet3MHrXwYADsf66+cR8XgMPBVI+r/Vzs7062kNshMtApv2TwMYGi4flwvv9C/yrQDUCmgFsvsc/EwCDv7o7KPgn+bS8aLpis09vFrPyfjKEL0ECOsR5Afz7v/P+hLvTPE9BH4XnByrFaYOWw64EZ8T2xODE8QNePs54QbUYuaID8gtaigQCzT34ftABk3+2eiE4XP1MRFSGT8MSAEoCAoVIRIW/rnu2fQjBr4Ji/dd4gzgie2P8m7h9Mvz0Yb7niqmNm4VReUyzv3cB/4oF2YfgR4jHoAgQiHnGoYNJAMHCZwe+i1wH/r36dtQ6soXMTf4KbIAIeaJ79UKbBqSFnoMWAVz/IXueuUA7Dz8cQVnAUL6jvly+2X4f/P39OL5bfVl5Yrb9ekTCoAgIxuSBJX1uPi6Aj8FsAD8/98HDRHNEvgNRgp8C3gNOQt/BtUFlQs+EZINkP8j8qzy+wECEF0KTvHH2h3c0PG+ApL8JOgn3lbqb/7GApjxXd+U5bIEJx+UF5PzKtkp5S4JUxvyBlPkv9qA8pMOdxJMAt33BwDkDZAPOgW0/XcBWAlZChwEWP8gAQkFQwRO/jv4/PXT9/X87gNUB8//vu475Hjy9BcRO99A0ic+CIf6FgFYDXsU+heyGh4XNAfN8QPnS+yz8kvoM9ItzDLo4xNbKLYVI/bn7zEKjyfVKXsTrgHZCZQi+y6vHYr6R+Lb5f36KwkEBLD1kO/u9U7++v2L9DLp2OMo6nX9MxcCKuMqahofBD31X/Nc+S38Svb07yT4VhH7KM4oeBAm9y7xtPrcAZ4AigKNEAEhSiJoEK74I+rD6Xb1fwhBGKoVI/2V4ozhpv0aG+Uc5gTI7nvuD/3SB7cIawiGDJINJQIc7ungUeUA9+kIiRKnFFMTeQ/3B/T+y/owAAYMmBQQEjcGk/u2+2YFzAzLBp70K+Ol3pHnMfRK+9j70Pod/Ob/2gRhCWQKWwUf/vH+KA2dHoMgSwxk8r7rwABVIZc1GTPPIM4KA/gF6/blq+hP7i3yRvYDAHMNmRNkC4j8Y/VJ+Xf9Wflo8374qAk9GbMaFhAFBeX/q/ya9Tfs6+ZA6AnsS+0p7F/siO8d8zX0dfMX9Hb3tPqq+bL0wfK++x4PWCE9Jc4YLQcz/Y/9XQFcAmYBpwJrBlUICwVB/jn46fTr8sXwaO/S8C31ZPpi/tgAkwLFA7wDDwJ//039DPxx+yT7UvtY/A/+t/+HACcAlP6w+xn3rfDD6d3lfugU8PXzMuw33q/cEfMwElobbgQl6a7t0RErLSsdwe5m0a3i5g5RKLkXJfHZ2fjfXvBt8lTmA+IM86MM4BdiEAUJUBNtKAUwrR3yAdn4RwhvF9oMkO9L4HDx3Q8lGTMC0d9YzPbOKd4R8OL/swhgBjn9qvju/WkFZQYrBXQNiB7AJWQUaPeC7ioHdygsLWoPTvBC8dcNzCJXF0b3ZOKV6N/8vwkaCQ0DRvwW8SrjeuAM8xQOwRbhAj/ni+Gr93QTRB3lEjAClfVT7tftlPi9CrUSRgFK30DKqNXm83QE4PjQ5ETmFgO9I1YtSBoV+nPhg94k9FUWkiwuIy8Bzubt7TYNtCFjFUD1P9/U4fHy4gH8CGsMGw4ECVf5jOW72q/epuml8er4xQnpIsAvuRw+8mfTxNxdBv4qDC1QEVj1kO9v/K8J4w32DmoSFRC4/FXfedFO5HEK0iM3H/wJM/2eAaMLlg79ChAI/AbDAkr5l+5Q6ATrOvqrE/YoPyaWBjjfSM9g4jIGHx4ZHgAR+Qd4CAkMeg3KD3sWuRziGWgMoPo86v/d9Ntt7EQMHSbdI3AIFvDk8bwFiQ82Apju9uzh/ywUPxmOD2X/lezV2XzQ9dnq8W8HGw4+CFT+MfOI5rre5eamADsdoCllII4MQPz89Jj1vP1+DdAe9CWUHN0JtPtu+Ef6WvnN9pb6VgZ1DlUFUe6m3/3qygUYEuIBB+lB5J/0pABN+V/vBfskFz4jJQsZ4gjPCuIdBT4XUA+J/xb7IAFIA9n5EOze5gnwKwIEEgEX6xD4Br0BCgWkDTUT/w1V/prvXvB/A/UZRR/3Da71deuy9SUJzBZeGG4QiwSR+tD3t/0pBzIMawlwAoz8tfgU9Gvtteft5p/r3fLc+SgAOQYtCyUNjgstCJMFBwVnBmoJzA2rERoRmQnS/o75+v4MCcIKrP146TTcKdyw40nqVu4d9Kf9/gb+ClsJOAbTBKUE3gPlAgUEQwjUDQUSyBO6Ez4SvQ5YCXMECwPJBPsEaP899jrxmvUhAPYIMwwkDEILegf9/Q7y2+wT9dEGVhSsEDL8fObx4Dju5QDiCmAKpgUF/8bzsebf43D08RCfJTYlcRQVAq33BPWv9+oAphFsI6EpPhxhAX3qD+ZJ82UElAwICiUDtf0q+xr7dP2WAdEEGAO1+nfwa+7Q+VsJcgsO+63qIvJSEN8m1hlZ8DDPA9PY9AwV9Rs1DEr50vKr+fED3wc1A5T6cPPS79Hv/vQ/ATMRIBoIEiT8Muol7EH+2Qy1C3sDXAPfCzIRaQ8TEMwYAR89FYL+aOuK5nTs1fUr//cDU/1F7STkDO/4AsIEbulfxry75NK09w8QwhNrDSEKRQx9DNcDJvRU6PvswgUeJz47hTFODS/mydZz54wHtxwkGlcJCvz794P0yuvG5033hRcWMM0qBQxv7vXmwvGE/FD+Xv92CfYWDBeXAifo5N7X7d8DhgrY/ebtgOpE8xX9HwErARIAL/0g+VP5/ACuCFIEKPTr6Bfw8v8nApHz5Ox9AhgkGiw1D1ztVOuABnobXROd+wrv9PO1+VfyyuSe4y726Q5sGEkKDvAO3bvb1Oh5++kNGR0eIxAYffzs4PjbBPQ5FTMjYRXi/Wzzg/nqAToBg/vd/BULkiBNMfgxNh64/eviBd5J7Un9xfwU7z/nPfHAA58JQfcx1qW9tb9s2mf4/wHS8c7Z+tLb5gEIhh/VIFMRg/9p9XLzk/XJ+fAA5wvRGb0noi+wKc4TWfnl7er6HBSvIkQcBAss/4j9r/6x+1z2kfSh98D7zf5HAxIKDAyi//jmKNTZ2DnxzQX7BSH7/fmdBGQG5PGF2EfZmvmhGisbZv7P573w3Ap0E3P/sum18WgUdS/EKU8O5fqU/BUGnQZv/zj+bghnFMgWOhBPClcKRgxfCmEFrQKSBIwHWQccBCkBGQAR/9f71fYT8k/u8uoU6RzsfPTs+hb2SeiG4h7yYgzgFmoIiPg3A9UhcC4UEhfkZtEx6tUSoiW/GMH/dPFM9FkAGgt2DocJVwA1+9UBVBMVJMcnfB6mFD0UaBgYE9n+NehB49r2MBNPH6MRuPlo73f5PggECuz/uvoXBdoWxB9bGpwPvQmTCCAFufxk9MTxVfQ/90H3XfRd74jpIOey7cP8SwryCnT+ufBn7Y/0TP1sAQsD1gZVDGoOLgqLAob8zvlS+CD2A/St9E36GgRjDF4Ky/pP6CjlAPcSDSQSmgYn/1IIqRaMGdET6xStHTYcWQgv9h3+SRiOIfQIrOgM5ff7JQc48PHQGtNH+U4ZABBL63DWPuVLAWwK+vv/6+ztmf4oC38FbfHU4GDj5/fIDbIVRA+OBGX8nvdX+QsHEBzlJdkWZ/q07U4AHiEIL6AbkvmC55Xvr/+nARL2YvLQBV8lVjUiJRUAB+M84p74kg7uD6L8HudY48b0iQp5Dlb6ft7S0rbgcvskDNQEI+s71N7U1e9pEaofThMz/wv7rwcPD3QC/fCf9QcRfSNwFFb15e3UB4Ef1RDg5lPPuuFPA+AJlu+I1/LgcAJfGHEQtvuw9OT+AQn7COsHHA8DFoIOgP0S+RELziAjIRgN9/6qB4QXuxHd8gDZ5OFrByol/h+AAQXqlOwE/ikG7vut7YDviwM2Fc0N5O661J3Z9/cMD2AHfuz03bPqWQJDC1kAbvP/80P7qfbd40vZZ+zEE8EsxyEOA+LyK/63EdQVaAoFAnkHzRH1EmUK2QMtB2wPMRKIC6cA6/lA/FMGFBHOExoLtPzn8ijz9vkbAHoCUwMNBUoGDQQ3/iL4/fTO9IT10PXz9Zr2n/i0/WQGvA3mCa/2DuA93Dn1JBk4JyAQq+el0m/iBQUPGlAUlgLk+eT9NgLd/QT29/QO/AwDaAOE/7j9nf8cAfj+D/tf+bv6XfwL/MD61fq+/Mf+kP+N/7b/0f8w/8v+qQDxA2cDevvI8avx+f2HCvIJuf9+/KoGmg+nBrbxrOiZ9xEObRIQAQ3wC/O4A7sLTQHA8VLvbPtyBmMCn/JG6bf0Xg6uHQAQT+6514LjvQjaJUAh3gEI5kPjEfPKAFAENwcKEUIZfhPlA5L8MwWpDoIGjfKL7ekELSPaJvgLL/KV9XcMfxamB631I/moDoQfmh8cFoIL3/0n7AbiNu3LCawikycDHDoN8/9m8GXibuWiAJ4glyVRB1jj2t8AAoUnfyvhDBHsweTt8T/7efeQ9nUH1B7yIpsN5vRr7kb1nPYu8EHzAQhjHCQZNwED8Ar3MAflA4TpbdZM6IIVJzORJPL8Bem2+isWrBUH9v3WgtXR79wNqRviF1YOEQkCBs/68uRG1ATepQEsIS4dZ/gQ2AHdrgBmHTkXUfdE3g3hZ/dmCYoIoPo78Nrz0AE7DvgQIwt3Aln6SPNR7/nywv8tD8QVFAwn9SPdWtEL17bnPfct/+cCuQegCzcI4v3+9cL26fm59U3tJ/DoBpUlNDXdKdMMLPJ752ns2fd0ANwBmv4n/pEEogoABGbxr+bK9dMUkSO3D1fs+9y77NQDDwe99+jtWvjuC08TFQjP9/jyVvvDA+X/NPNn7yMBxR3PKPcQ8Oaj0BTiGweZGXQLMvNs7YH6dALN9jDlk+Tp9+sLyg9GB4IBbgTxB80DPPvg9yf9FAX6CB4JGwpnDYgPYg2xCBoGsAeRCp0JeQKq+OTzZvlyBZoMAwao9Mvk2d9i5H3qwu2g8Kj2rP4hBOQEYgMIA0AE/AQ9BH4DmgRcB+wJ7Qp1CgoJ+QYGBUwEIQR0Afr6g/XV97cAxQVdAHb4FPwIDAAYIREo/ATsX+zq9or+hv+/AJMHtQ/4D0IE2PF85N3np/5rG2MmHxNU8ovl5vpjGrQfXAQy5uXiP/g/DjgWNxQ0DzEH1f17/CYJbxrEHhgQzvtr9b4C5hXNGsIKRvMl6cD0KAvCGZwWEAV27u/ajdCO03bj9vhQCTINsQXS+1z5Fv+RAvf4RuWL2d3mCQscL3U60CidDD/76fn1/wwH4BCEHGYfjRDm9/LprPGrA10LYAKh9VTz8vnO/JH1Xeoi44vgKOHx6Gf7xQ8bFA0BxubJ3yL1JBOLHQYOtfol/Z0WFzA8MyYf4gR29FXxiPdHBcEZ7CvYKm8OEedJ1JPl2AYqEwD9Lt492wT6PRvbHaQC5OcF5ZbyC/lL8J/nme6W/ygIfQKN/J0DeRCmDyf7NuR24KrxoQRUB638mvibCYQnJTl4K0ME69571i/wIxhXMVArow3m8WXvzAaPIH8j4A59+hD7pgvEFkgRIQQy/G/66Pgt+Gj+fwrhEMkI0/el60bqZO327KbpGeql8OX39fny9wD40vzrAY0BivxY+e/69/tz9rTu3fHhBhIj5zAJI6UA+99e1eXk7wBoFvccmhtUHL4dxBW9AuHyZfWwBjoRhgQQ6QbapunhDHElgiAZCLTzvuzm6UvkQuXD9tMNtxJbAHfvrfnGFywn3REX6cbStN+f+poCvfBu3W3hKvn5Ci8FUO++3RbbN+Jo65L3Wgo0HTwgngti7JrauOHk9ZICNwFH/oEImB52LgUmeAUQ443acvNBFrUg8Qi/6c3mFAbjKXsx3Rmv+/XthPHQ+L/8EQPjEN4dFRuiBTHtWuWR8tIGdg/QBGDuSNsX1yTia/Ed96Tv+OZw7RsF8BwXISsObvJq34fe6++vC4giliWcFDkBhv0ZCL4OLwV68zTrIfOyAVoJewVo/Pr4ygHtEfIZNA679jjr1/lBFcMhtxOf+3/ySf7JDVYPOAZ6BM8QCxs4ENT0TuGO5O7zPP18/+cGShT8FocENetp4o/tDfrW+dX0tvpdC44WFBECAkD4i/jd+t72UO335Crjdelw9vIEkQykBwL64O567hn3NQGJCNcO0xaCH4clhybAIcsXPwzXBNUCUP8L9Jjnoujq+fEJigUe7yXcD9xv6IbwT+/w8JECkSB0N3g22x88Bh77sABZC+AO/wkhBuoLPxjXHZkSPfpy4ibW7tZL4ZXx6gGuCO8Aa/SK9G4ERxBAA8/jYM+X1zvugfoe+Qj7bwhQFC8R4QWtAy8O/BenFsEQLRRuI40xZDBXICUQvwx+EqoQ8vzs4W/WMuTy+bn8UeeU0WbUkOz2AGAB2PRR6v7m6Oj38HwAkhD9FZgO2QNd/lj99P0XBIgT5iIkILMGmOr55f78mxnCI8QYVwkVBQYMaxJQDg4AC/Cw5oHmIuzG8sf4RQCtCvUS5g5m+orhItmG6OD+CgUu+DfrIO5p/FMHXQnEB40FZ/869ejuzPI//VcGWgtDDSYLQQUIAtkGBg1ICA76QfSlAooYAh7nDNH3wvKu/AoFpgIZ/Wb/kggDDvMJzgHQ/dT+Qv+p+8H2KfVx+ET/NAffC1cHpPjP6czpSfzkEXgVTAKA6uHkKfWwCCALtvsv7Ozsff2lD3MVXgs1+IjmY95h47v1HxFwKcwtPha+783UFNaQ7AcFchRMG6QZrQtl9Wfnl+5zAtIM6wO59V/24AeXF+ESivvZ5kzoN/1OD0ENFv7/9jv/9QbU/ivwefK8CSEcqRDT8Lzfau8RCiwNs/QZ4N7rChD/KmYnjQ5i9unnOt6n2Grhcv0SHaInaBcwAfX6wQG4AY30b+to9uQL7BKcAl3t1OoX/qkVix98F+sEY/Id6I/pXfR7ArgOXBakFhIMrffi46HfUfG/DnUjnyATCU/vVOaS8UADmAtoCCQDtwGf/xv4VvHd9h8JMBhNE9v8RuoL7fz+gQoxBdP6svuVB28QeQ17Awj7UPY980ryCPc7A+YSXRwFFoMAEuvE52L49wo5DXcAAfZv+UIEWQjoAdX6o/38CHkRoQ28/oXuIuZi6IvzMwU1GVsmuCGcCRLsvd1C50T8KgcT/6XxSPULEOgs0S2PC0Phy9Ji530Dbwq2/on5HQegFx0WlgMi86nw9/X8+Oz6DQNrD1cT5gb18tfpffSrCHwSqwfk8dbliu99B9IayBxmD/n8Je2E4ivgXOvtA5kdmybBFxv8Juc75Jbvbv35BTAKnw0CDjEFP/ST5+zqZPuWCg8PZQwdClYI+AHC9mHte+tx8CX5TARCEAAYvRaaDSgCkPej7Czi09867voKSyU3KqQVO/e55ebrrf/eC4IEgfI46nT2pw2iG/gUMQG18nL0s/8pBcT+/PTd8k36EQZbEd0X7hJT//bmrN1c7s0Mth5AFWn8B+9B+rUOnRHU/EHoWO1pBugTTAW88F73DxhZKysUxeWkz6nlDAwhHd0RHQEV+638AP0B/rQGzxKLF8EK2/Lb3Yrbu/COD5Ym4CTZFBEBjvTX6yPhHPS/AyL+xQDB/8D/cQB2/4cAj/9QANf/BQAYANX/NADN/yoA5P8NAAEA9P8UAOr/FADw/woA/f///wYA+P8IAPn/BQD9/wAAAQD+/wIA/v8CAP//AAAAAAAAAAAAAAAAAAAAAAAAAAAAAAAAAAAAAAAAAAAAAAAAAAAAAAAAAAAAAAAAAAAAAAAAAAAAAAAAAAAAAAAAAAAAAAAAAAAAAAAAAAAAAAAAAAAAAAAAAAAAAAAAAAAAAAAAAAAAAAAAAAAAAAAAAAAAAAAAAAAAAAAAAAAAAAAAAAAAAAAAAAAAAAAAAAAAAAAAAAAAAAAAAAAAAAAAAAAAAAAAAAAAAAAAAAAAAAAAAAAAAAAAAAAAAAAAAAAAAAAAAAAAAAAAAAAAAAAAAAAAAAAAAAAAAAAAAAAAAAAAAAAAAAAAAAAAAAAAAAAAAAAAAAAAAAAAAAAAAAAAAAAAAAAAAAAAAAAAAAAAAAAAAAAAAAAAAAAAAAAAAAAAAAAAAAAAAAAAAAAAAAAAAAAAAAAAAAAAAAAAAAAAAAAAAAAAAAAAAAAAAAAAAAAAAAAAAAAAAAAAAAAAAAAAAAAAAAAAAAAAAAAAAAAAAAAAAAAAAAAAAAAAAAAAAAAAAAAAAAAAAAAAAAAAAAAAAAAAAAAAAAAAAAAAAAAAAAAAAAAAAAAAAAAAAAAAAAAAAAAAAAAAAAAAAAAAAAAAAAAAAAAAAAAAAAAAAAAAAAAAAAAAAAAAAAAAAAAAAAAAAAAAAAAAAAAAAAAAAAAAAAAAAAAAAAAAAAAAAAAAAAAAAAAAAAAAAAA=\" type=\"audio/wav\" />\n",
       "                    Your browser does not support the audio element.\n",
       "                </audio>\n",
       "              "
      ],
      "text/plain": [
       "<IPython.lib.display.Audio object>"
      ]
     },
     "execution_count": 4,
     "metadata": {},
     "output_type": "execute_result"
    },
    {
     "data": {
      "image/png": "[encoded data removed]",
      "text/plain": [
       "<Figure size 1440x288 with 3 Axes>"
      ]
     },
     "metadata": {
      "needs_background": "light"
     },
     "output_type": "display_data"
    }
   ],
   "source": [
    "FREQ_BINS=30\n",
    "TIME_STEPS=20\n",
    "#defining transformations\n",
    "class freqTrans(object):\n",
    "    def __init__(self,num_mels=50,SR=SR):\n",
    "        self.num_mels=num_mels\n",
    "        self.ampT=torchaudio.transforms.AmplitudeToDB(stype='power', top_db=30)\n",
    "        self.melF=torchaudio.transforms.MelScale(n_mels=self.num_mels, sample_rate=SR, f_min=30.0, f_max=None, n_stft=None)\n",
    "        \n",
    "    def __call__(self, sample):\n",
    "        wf,label=sample[\"signal\"],sample[\"label\"]\n",
    "        wf=wf.reshape(-1,len(wf))\n",
    "        sample_length=SR//4\n",
    "        wf=wf[:,0:24000]\n",
    "        num_bins=wf[0].shape[0]\n",
    "        win_length=num_bins\n",
    "        hop_step=sample_length//(self.num_mels)\n",
    "        window=torch.tensor([1]*win_length)\n",
    "        s=spec(wf, 100, window, num_bins, hop_step, win_length,2,normalized=False)\n",
    "        s=self.melF(s)\n",
    "        s=self.ampT(s)\n",
    "        freq=s.sum(axis=0).sum(axis=1)\n",
    "        freq=freq-freq.min()\n",
    "        freq=freq/freq.max()\n",
    "        freq[torch.isnan(freq)]=0\n",
    "        return {\"feats\":freq.detach(),\"label\":label}\n",
    "\n",
    "class envTrans(object):\n",
    "    def __init__(self,num_mels=10,SR=SR):\n",
    "        self.env_size=9\n",
    "        self.num_mels=num_mels\n",
    "        self.amp=torchaudio.transforms.AmplitudeToDB(stype='power', top_db=60)\n",
    "        self.melEnv=torchaudio.transforms.MelScale(n_mels=self.num_mels, sample_rate=SR, f_min=30.0, f_max=None, n_stft=None)\n",
    "#         self.norm= transforms.Normalize((0.5, 0.5, 0.5), (0.5, 0.5, 0.5))\n",
    "    def __call__(self, sample):\n",
    "        wf,label=sample[\"signal\"],sample[\"label\"]\n",
    "        \n",
    "        wf=wf.reshape(-1,len(wf))\n",
    "        sample_length=SR\n",
    "        num_bins=wf[0].shape[0]\n",
    "        win_length=SR//20\n",
    "        hop_step=SR//self.env_size\n",
    "        window=torch.tensor([1]*win_length)\n",
    "        s=spec(wf, 0, window,win_length, hop_step, win_length,2,normalized=False)\n",
    "        s=self.melEnv(s)\n",
    "        s=self.amp(s)\n",
    "#         s=self.norm(s)\n",
    "        #normalizing\n",
    "        env=s.sum(axis=0).sum(axis=0)\n",
    "        env=env-env.min()\n",
    "        env=env/env.max()\n",
    "        env[torch.isnan(env)]=0\n",
    "\n",
    "        num_padding=torch.max(torch.tensor([self.env_size+1-env.shape[0],0]))\n",
    "        env_vec=torch.cat([env.detach(),torch.zeros(num_padding)],dim=0)\n",
    "        return {\"feats\":env_vec.detach(),\"label\":label}\n",
    "\n",
    "class feats_and_env(object):\n",
    "    def __init__(self,feat_mels=50,env_mels=1):\n",
    "        self.ft=freqTrans(num_mels=feat_mels)\n",
    "        self.et=envTrans(num_mels=env_mels)\n",
    "\n",
    "    def __call__(self, sample):\n",
    "            combined_feats=torch.cat((self.ft(sample)[\"feats\"],self.et(sample)[\"feats\"]))\n",
    "            return {\"feats\":combined_feats,\"label\":sample[\"label\"]}\n",
    "        \n",
    "\n",
    "class specTrans(object):\n",
    "    def __init__(self,num_mels=50,SR=SR,time_steps=20):\n",
    "        self.num_mels=num_mels\n",
    "        self.ampP=torchaudio.transforms.AmplitudeToDB(stype='power',top_db=60)\n",
    "        self.melP=torchaudio.transforms.MelScale(n_mels=self.num_mels, sample_rate=SR,n_stft=None)\n",
    "        self.norm= transforms.Normalize((0.5, 0.5, 0.5), (0.5, 0.5, 0.5))\n",
    "        self.hop_step=time_steps-1\n",
    "    def __call__(self, sample):\n",
    "        \n",
    "        wf,label,p,drum_type=sample[\"signal\"],sample[\"label\"],sample[\"path\"],sample[\"drum_type\"]\n",
    "        wf=wf.reshape(-1,len(wf))\n",
    "        sample_length=SR\n",
    "\n",
    "        num_bins=wf[0].shape[0]\n",
    "        win_length=SR//17\n",
    "        hop_step=SR//self.hop_step\n",
    "        window=torch.tensor([1]*win_length)\n",
    "        s=spec(wf, 0, window, num_bins, hop_step, win_length,2,normalized=False)\n",
    "        s=self.melP(s)\n",
    "#         s=self.ampP(s)\n",
    "        s = s - s.min()\n",
    "        s = s/s.abs().max()\n",
    "\n",
    "        freq=s\n",
    "#         freq=self.norm(s)\n",
    "        freq[torch.isnan(freq)]=0\n",
    "        return {\"feats\":freq.detach(),\"label\":label,\"path\":p,\"drum_type\":drum_type}\n",
    "\n",
    "#Apply each of the above transforms on sample.\n",
    "fig = plt.figure(figsize=(20,4))\n",
    "# while True:\n",
    "sample = ds[np.random.randint(len(ds))]\n",
    "#     print(sample[\"label\"].item())\n",
    "#     if sample[\"label\"].item()==1:\n",
    "#         break\n",
    "# freq_train = audioDataset(train,\".\",task=\"dvd\")\n",
    "# f_train_loader= DataLoader(freq_train, batch_size=16, num_workers=1)\n",
    "# sample=iter(f_train_loader).next()\n",
    "# s={\"signal\":sample[\"signal\"][0],\"label\":sample[\"label\"][0],\"path\":sample[\"path\"],\"drum_type\":sample[\"drum_type\"]}\n",
    "# sample=s\n",
    "tfList=[freqTrans(50),envTrans(num_mels=10,SR=SR),specTrans(FREQ_BINS,time_steps=TIME_STEPS)]\n",
    "\n",
    "for i, tsfrm in enumerate(tfList):\n",
    "    transformed_sample = tsfrm(sample)\n",
    "    ax = plt.subplot(1, 3, i + 1)\n",
    "    plt.tight_layout()\n",
    "    ft=transformed_sample[\"feats\"]\n",
    "    if i==0:\n",
    "        plt.title(\"Frequency Features\",fontsize=20)\n",
    "        plt.xlabel(\"Frequency Bin\",fontsize=20)\n",
    "        plt.ylabel(\"Scaled Magnitude\",fontsize=20)\n",
    "                   \n",
    "        plt.scatter(y=ft,x=range(0,len(ft)))\n",
    "    if i==1:\n",
    "        plt.title(\"Envelope Features\",fontsize=20)\n",
    "        plt.xlabel(\"Time Step\",fontsize=20)\n",
    "        plt.ylabel(\"Scaled Magnitude\",fontsize=20)            \n",
    "        plt.scatter(y=ft,x=range(0,len(ft)))\n",
    "    if i==2:\n",
    "        print(ft.shape,ft[0,:,0])\n",
    "        sf=ft.detach().numpy()[0]\n",
    "        ft=ft.detach().numpy()[0]\n",
    "        plt.title(\"Spectrum Features\",fontsize=20)\n",
    "        librosa.display.specshow(sf,cmap='gray_r',)\n",
    "        plt.xlabel(\"Time Step\",fontsize=20)\n",
    "        plt.ylabel(\"Magnitude of Bin\",fontsize=20)\n",
    "\n",
    "#         plt.savefig(\"./plots/ff3.pdf\",bbox_inches = \"tight\")\n",
    "# plt.show()\n",
    "print(lmap[transformed_sample[\"label\"].item()],transformed_sample[\"label\"],len(sample[\"signal\"]))\n",
    "\n",
    "\n",
    "Audio(sample[\"signal\"],rate=SR,autoplay=True)\n"
   ]
  },
  {
   "cell_type": "markdown",
   "metadata": {},
   "source": [
    "# SPEC ENCODER"
   ]
  },
  {
   "cell_type": "code",
   "execution_count": 5,
   "metadata": {},
   "outputs": [],
   "source": [
    "class AE_Linear_1H(nn.Module):\n",
    "    def __init__(self,compression_dim=64,dropout_rate=0.5,input_shape=[30,20]):\n",
    "        super().__init__()\n",
    "        self.dropout = nn.Dropout(dropout_rate)\n",
    "        self.encoder_hidden_layer = nn.Linear(\n",
    "            in_features=input_shape, out_features=128\n",
    "        )\n",
    "        self.encoder_output_layer = nn.Linear(\n",
    "            in_features=128, out_features=compression_dim\n",
    "        )\n",
    "        self.decoder_hidden_layer = nn.Linear(\n",
    "            in_features=compression_dim, out_features=128\n",
    "        )\n",
    "        self.decoder_output_layer = nn.Linear(\n",
    "            in_features=128, out_features=input_shape\n",
    "        )\n",
    "    def forward(self, features):\n",
    "        activation = self.encoder_hidden_layer(features)\n",
    "        activation = self.dropout(torch.relu(activation))\n",
    "        code = self.encoder_output_layer(activation)\n",
    "        code = torch.relu(code)\n",
    "        self.encoding=code\n",
    "        activation = self.decoder_hidden_layer(code)\n",
    "        activation = self.dropout(torch.relu(activation))\n",
    "        activation = self.decoder_output_layer(activation)\n",
    "        reconstructed = torch.relu(activation)\n",
    "        return reconstructed\n",
    "    \n",
    "class AE_Linear_2H(nn.Module):\n",
    "    def __init__(self,compression_dim=8,dropout_rate=0.5,input_shape=[30,20]):\n",
    "        super().__init__()\n",
    "        self.dropout = nn.Dropout(dropout_rate)\n",
    "        self.encoder_hidden_layer1 = nn.Linear(\n",
    "            in_features=input_shape, out_features=128\n",
    "        )\n",
    "        self.encoder_hidden_layer2 = nn.Linear(\n",
    "            in_features=128, out_features=32\n",
    "        )\n",
    "        self.encoder_output_layer = nn.Linear(\n",
    "            in_features=32, out_features=compression_dim\n",
    "        )\n",
    "        self.decoder_hidden_layer1 = nn.Linear(\n",
    "            in_features=compression_dim, out_features=32\n",
    "        )\n",
    "        self.decoder_hidden_layer2 = nn.Linear(\n",
    "            in_features=32, out_features=128\n",
    "        )\n",
    "        self.decoder_output_layer = nn.Linear(\n",
    "            in_features=128, out_features=input_shape\n",
    "        )\n",
    "    def forward(self, features):\n",
    "        activation = self.encoder_hidden_layer1(features)\n",
    "        activation = self.dropout(torch.relu(activation))\n",
    "        h1_out = self.encoder_hidden_layer2(activation)\n",
    "        h1_out = self.dropout(torch.relu(h1_out))\n",
    "        code = self.encoder_output_layer(h1_out)\n",
    "        code = torch.relu(code)\n",
    "        self.encoding=code\n",
    "        activation = self.decoder_hidden_layer1(code)\n",
    "        activation = self.decoder_hidden_layer2(activation)\n",
    "        activation = self.dropout(torch.relu(activation))\n",
    "        activation = self.decoder_output_layer(activation)\n",
    "        reconstructed = torch.relu(activation)\n",
    "        return reconstructed\n",
    "    \n"
   ]
  },
  {
   "cell_type": "code",
   "execution_count": 6,
   "metadata": {},
   "outputs": [
    {
     "name": "stderr",
     "output_type": "stream",
     "text": [
      "/home/asalimi/miniconda3/lib/python3.7/site-packages/pandas/core/indexing.py:494: SettingWithCopyWarning: \n",
      "A value is trying to be set on a copy of a slice from a DataFrame.\n",
      "Try using .loc[row_indexer,col_indexer] = value instead\n",
      "\n",
      "See the caveats in the documentation: http://pandas.pydata.org/pandas-docs/stable/user_guide/indexing.html#returning-a-view-versus-a-copy\n",
      "  self.obj[item] = s\n"
     ]
    }
   ],
   "source": [
    "compression_dim=8\n",
    "spec_dimension=FREQ_BINS*TIME_STEPS\n",
    "\n",
    "device = torch.device(\"cuda\" if torch.cuda.is_available() else \"cpu\")\n",
    "\n",
    "pt=tv.transforms.Compose([specTrans(FREQ_BINS,time_steps=TIME_STEPS)])\n",
    "\n",
    "train=all_frames.sample(frac=0.80,random_state=420) #random state is a seed value\n",
    "test=all_frames.drop(train.index)\n",
    "spec_data_train = audioDataset(train,\".\",\"dvn\", transform=pt)\n",
    "spec_data_test = audioDataset(test,\".\",task=\"dvn\", transform=pt)\n",
    "spec_train_loader= DataLoader(spec_data_train, batch_size=64,shuffle=True, num_workers=32)\n",
    "spec_test_loader= DataLoader(spec_data_test, batch_size=8,shuffle=True, num_workers=6)\n",
    "train_synthless=train[train[\"label_num\"]==0]\n",
    "spec_data_train_nosynth = audioDataset(train_synthless,\".\",task=\"dvn\", transform=pt)\n",
    "spec_train_nosynth_loader= DataLoader(spec_data_train_nosynth, batch_size=16,shuffle=True, num_workers=8)"
   ]
  },
  {
   "cell_type": "code",
   "execution_count": 9,
   "metadata": {
    "scrolled": true
   },
   "outputs": [
    {
     "name": "stderr",
     "output_type": "stream",
     "text": [
      "[I 2020-07-17 00:12:35,649] Using an existing study with name 'Study_FullyConnected' instead of creating a new one.\n"
     ]
    },
    {
     "name": "stdout",
     "output_type": "stream",
     "text": [
      "epoch : 0/20, loss = 0.007343\n"
     ]
    },
    {
     "name": "stderr",
     "output_type": "stream",
     "text": [
      "[I 2020-07-17 00:12:52,171] Setting status of trial#10 as TrialState.PRUNED. \n"
     ]
    },
    {
     "name": "stdout",
     "output_type": "stream",
     "text": [
      "epoch : 0/20, loss = 0.004599\n",
      "epoch : 3/20, loss = 0.004508\n",
      "epoch : 6/20, loss = 0.004524\n"
     ]
    },
    {
     "name": "stderr",
     "output_type": "stream",
     "text": [
      "[I 2020-07-17 00:13:39,981] Setting status of trial#11 as TrialState.PRUNED. \n"
     ]
    },
    {
     "name": "stdout",
     "output_type": "stream",
     "text": [
      "epoch : 0/20, loss = 0.006635\n",
      "epoch : 3/20, loss = 0.006596\n",
      "epoch : 6/20, loss = 0.006616\n"
     ]
    },
    {
     "name": "stderr",
     "output_type": "stream",
     "text": [
      "[I 2020-07-17 00:14:38,955] Setting status of trial#12 as TrialState.PRUNED. \n"
     ]
    },
    {
     "name": "stdout",
     "output_type": "stream",
     "text": [
      "epoch : 0/20, loss = 0.013689\n"
     ]
    },
    {
     "name": "stderr",
     "output_type": "stream",
     "text": [
      "[I 2020-07-17 00:14:51,722] Setting status of trial#13 as TrialState.PRUNED. \n"
     ]
    },
    {
     "name": "stdout",
     "output_type": "stream",
     "text": [
      "epoch : 0/20, loss = 0.009683\n"
     ]
    },
    {
     "name": "stderr",
     "output_type": "stream",
     "text": [
      "[I 2020-07-17 00:15:05,942] Setting status of trial#14 as TrialState.PRUNED. \n"
     ]
    },
    {
     "name": "stdout",
     "output_type": "stream",
     "text": [
      "epoch : 0/20, loss = 0.010081\n",
      "epoch : 3/20, loss = 0.007004\n",
      "epoch : 6/20, loss = 0.006961\n"
     ]
    },
    {
     "name": "stderr",
     "output_type": "stream",
     "text": [
      "[I 2020-07-17 00:16:03,597] Setting status of trial#15 as TrialState.PRUNED. \n"
     ]
    },
    {
     "name": "stdout",
     "output_type": "stream",
     "text": [
      "epoch : 0/20, loss = 0.007527\n"
     ]
    },
    {
     "name": "stderr",
     "output_type": "stream",
     "text": [
      "[I 2020-07-17 00:16:19,428] Setting status of trial#16 as TrialState.PRUNED. \n"
     ]
    },
    {
     "name": "stdout",
     "output_type": "stream",
     "text": [
      "epoch : 0/20, loss = 0.009623\n"
     ]
    },
    {
     "name": "stderr",
     "output_type": "stream",
     "text": [
      "[I 2020-07-17 00:16:42,128] Setting status of trial#17 as TrialState.PRUNED. \n"
     ]
    },
    {
     "name": "stdout",
     "output_type": "stream",
     "text": [
      "epoch : 0/20, loss = 0.009910\n",
      "epoch : 3/20, loss = 0.009272\n",
      "epoch : 6/20, loss = 0.009250\n"
     ]
    },
    {
     "name": "stderr",
     "output_type": "stream",
     "text": [
      "[I 2020-07-17 00:17:40,128] Setting status of trial#18 as TrialState.PRUNED. \n"
     ]
    },
    {
     "name": "stdout",
     "output_type": "stream",
     "text": [
      "epoch : 0/20, loss = 0.002388\n"
     ]
    },
    {
     "name": "stderr",
     "output_type": "stream",
     "text": [
      "[I 2020-07-17 00:18:05,394] Setting status of trial#19 as TrialState.PRUNED. \n"
     ]
    }
   ],
   "source": [
    "def objective(trial):\n",
    "\n",
    "    #hyper params\n",
    "    learning_rate = trial.suggest_uniform('Learning Rate', 1e-4,1e-1)\n",
    "    dropout_rate = trial.suggest_discrete_uniform('Dropout Rate', 0,0.5,0.1)\n",
    "    latent_size = trial.suggest_categorical('Latent Size',[4, 16, 64])\n",
    "    optimizer_type = trial.suggest_categorical('Optimizer', ['Adam', 'SGD'])\n",
    "    FREQ_BINS = trial.suggest_categorical('Frequency Bins', [10, 30, 60])\n",
    "    TIME_STEPS = trial.suggest_categorical('Time Steps', [5, 10, 20])\n",
    "    hidden_layers= trial.suggest_int('Hidden Layers', 1, 2)\n",
    "    l2=trial.suggest_loguniform('L2 Regularization', 1e-6,1e-1)\n",
    "\n",
    "    spec_dimension=FREQ_BINS*TIME_STEPS\n",
    "\n",
    "    criterion=nn.MSELoss()\n",
    "    \n",
    "    #make model\n",
    "    if hidden_layers==1:\n",
    "        model = AE_Linear_1H(input_shape=spec_dimension,compression_dim=latent_size,dropout_rate=dropout_rate).to(device)\n",
    "    else:\n",
    "        model = AE_Linear_2H(input_shape=spec_dimension,compression_dim=latent_size,dropout_rate=dropout_rate).to(device)\n",
    "    \n",
    "    if optimizer_type==\"Adam\":\n",
    "        optimizer = optim.Adam(model.parameters(), lr=learning_rate,weight_decay=l2)\n",
    "    elif optimizer_type==\"SGD\":\n",
    "        optimizer=optim.SGD(model.parameters(), lr=learning_rate, momentum=0.9,weight_decay=l2)\n",
    "    #make dataloader \n",
    "    ptTune=tv.transforms.Compose([specTrans(FREQ_BINS,time_steps=TIME_STEPS)])\n",
    "    spec_data_train_nosynth = audioDataset(train_synthless,\".\",task=\"dvn\", transform=ptTune)\n",
    "    spec_train_nosynth_loader= DataLoader(spec_data_train_nosynth, batch_size=16,shuffle=True, num_workers=8)\n",
    "    \n",
    "    #train\n",
    "    epochs=20\n",
    "    for epoch in range(epochs):\n",
    "        loss = 0\n",
    "        for batch_features in spec_train_nosynth_loader:\n",
    "            batch_features=batch_features[\"feats\"]\n",
    "            batch_features = batch_features.view(-1, spec_dimension).to(device)\n",
    "            optimizer.zero_grad()\n",
    "            outputs = model(batch_features)\n",
    "            train_loss = criterion(outputs, batch_features)\n",
    "            train_loss.backward()\n",
    "            optimizer.step()\n",
    "            loss += train_loss.item()\n",
    "\n",
    "        loss = loss / len(spec_train_nosynth_loader)\n",
    "        trial.report(loss, epoch)   \n",
    "        if epoch%3==0:\n",
    "            if trial.should_prune():\n",
    "                raise optuna.TrialPruned()\n",
    "            print(\"epoch : {}/{}, loss = {:.6f}\".format(epoch, epochs, loss))\n",
    "    return loss\n",
    "study = optuna.create_study(study_name='Study_FullyConnected',sampler=optuna.samplers.TPESampler(), \n",
    "                            pruner=optuna.pruners.HyperbandPruner(), storage='sqlite:///optuna_studies.db',load_if_exists=True)\n",
    "study.optimize(objective, n_trials=10)"
   ]
  },
  {
   "cell_type": "code",
   "execution_count": 8,
   "metadata": {},
   "outputs": [
    {
     "ename": "NameError",
     "evalue": "name 'study2' is not defined",
     "output_type": "error",
     "traceback": [
      "\u001b[0;31m---------------------------------------------------------------------------\u001b[0m",
      "\u001b[0;31mNameError\u001b[0m                                 Traceback (most recent call last)",
      "\u001b[0;32m<ipython-input-8-d5493770bd0d>\u001b[0m in \u001b[0;36m<module>\u001b[0;34m\u001b[0m\n\u001b[0;32m----> 1\u001b[0;31m \u001b[0moptuna\u001b[0m\u001b[0;34m.\u001b[0m\u001b[0mvisualization\u001b[0m\u001b[0;34m.\u001b[0m\u001b[0mplot_intermediate_values\u001b[0m\u001b[0;34m(\u001b[0m\u001b[0mstudy2\u001b[0m\u001b[0;34m)\u001b[0m\u001b[0;34m\u001b[0m\u001b[0;34m\u001b[0m\u001b[0m\n\u001b[0m",
      "\u001b[0;31mNameError\u001b[0m: name 'study2' is not defined"
     ]
    }
   ],
   "source": [
    "optuna.visualization.plot_intermediate_values(study2)"
   ]
  },
  {
   "cell_type": "code",
   "execution_count": 34,
   "metadata": {},
   "outputs": [
    {
     "data": {
      "application/vnd.plotly.v1+json": {
       "config": {
        "plotlyServerURL": "https://plot.ly"
       },
       "data": [
        {
         "marker": {
          "maxdisplayed": 10
         },
         "mode": "lines+markers",
         "name": "Trial4",
         "type": "scatter",
         "x": [
          0,
          3
         ],
         "y": [
          0.009968400232579189,
          0.009257681966396689
         ]
        },
        {
         "marker": {
          "maxdisplayed": 10
         },
         "mode": "lines+markers",
         "name": "Trial5",
         "type": "scatter",
         "x": [
          0,
          3
         ],
         "y": [
          0.005655973900877337,
          0.004243562673396282
         ]
        },
        {
         "marker": {
          "maxdisplayed": 10
         },
         "mode": "lines+markers",
         "name": "Trial6",
         "type": "scatter",
         "x": [
          0,
          3
         ],
         "y": [
          0.007379257653391998,
          0.007158041494464829
         ]
        },
        {
         "marker": {
          "maxdisplayed": 10
         },
         "mode": "lines+markers",
         "name": "Trial7",
         "type": "scatter",
         "x": [
          0,
          3
         ],
         "y": [
          0.003354874530181516,
          0.0027378283588585395
         ]
        },
        {
         "marker": {
          "maxdisplayed": 10
         },
         "mode": "lines+markers",
         "name": "Trial8",
         "type": "scatter",
         "x": [
          0,
          3
         ],
         "y": [
          0.027781167330632683,
          0.016951500658543055
         ]
        },
        {
         "marker": {
          "maxdisplayed": 10
         },
         "mode": "lines+markers",
         "name": "Trial9",
         "type": "scatter",
         "x": [
          0,
          3
         ],
         "y": [
          0.01170181982816403,
          0.011211501711709353
         ]
        },
        {
         "marker": {
          "maxdisplayed": 10
         },
         "mode": "lines+markers",
         "name": "Trial10",
         "type": "scatter",
         "x": [
          0,
          3
         ],
         "y": [
          0.005469458651345024,
          0.003870062207899106
         ]
        },
        {
         "marker": {
          "maxdisplayed": 10
         },
         "mode": "lines+markers",
         "name": "Trial11",
         "type": "scatter",
         "x": [
          0,
          3
         ],
         "y": [
          0.010214815605858355,
          0.005118728661554233
         ]
        },
        {
         "marker": {
          "maxdisplayed": 10
         },
         "mode": "lines+markers",
         "name": "Trial12",
         "type": "scatter",
         "x": [
          0,
          3
         ],
         "y": [
          0.007411992820761814,
          0.0073382382508623235
         ]
        },
        {
         "marker": {
          "maxdisplayed": 10
         },
         "mode": "lines+markers",
         "name": "Trial13",
         "type": "scatter",
         "x": [
          0,
          3
         ],
         "y": [
          0.013014909534053948,
          0.010643758498245979
         ]
        }
       ],
       "layout": {
        "autosize": true,
        "showlegend": false,
        "template": {
         "data": {
          "bar": [
           {
            "error_x": {
             "color": "#2a3f5f"
            },
            "error_y": {
             "color": "#2a3f5f"
            },
            "marker": {
             "line": {
              "color": "#E5ECF6",
              "width": 0.5
             }
            },
            "type": "bar"
           }
          ],
          "barpolar": [
           {
            "marker": {
             "line": {
              "color": "#E5ECF6",
              "width": 0.5
             }
            },
            "type": "barpolar"
           }
          ],
          "carpet": [
           {
            "aaxis": {
             "endlinecolor": "#2a3f5f",
             "gridcolor": "white",
             "linecolor": "white",
             "minorgridcolor": "white",
             "startlinecolor": "#2a3f5f"
            },
            "baxis": {
             "endlinecolor": "#2a3f5f",
             "gridcolor": "white",
             "linecolor": "white",
             "minorgridcolor": "white",
             "startlinecolor": "#2a3f5f"
            },
            "type": "carpet"
           }
          ],
          "choropleth": [
           {
            "colorbar": {
             "outlinewidth": 0,
             "ticks": ""
            },
            "type": "choropleth"
           }
          ],
          "contour": [
           {
            "colorbar": {
             "outlinewidth": 0,
             "ticks": ""
            },
            "colorscale": [
             [
              0,
              "#0d0887"
             ],
             [
              0.1111111111111111,
              "#46039f"
             ],
             [
              0.2222222222222222,
              "#7201a8"
             ],
             [
              0.3333333333333333,
              "#9c179e"
             ],
             [
              0.4444444444444444,
              "#bd3786"
             ],
             [
              0.5555555555555556,
              "#d8576b"
             ],
             [
              0.6666666666666666,
              "#ed7953"
             ],
             [
              0.7777777777777778,
              "#fb9f3a"
             ],
             [
              0.8888888888888888,
              "#fdca26"
             ],
             [
              1,
              "#f0f921"
             ]
            ],
            "type": "contour"
           }
          ],
          "contourcarpet": [
           {
            "colorbar": {
             "outlinewidth": 0,
             "ticks": ""
            },
            "type": "contourcarpet"
           }
          ],
          "heatmap": [
           {
            "colorbar": {
             "outlinewidth": 0,
             "ticks": ""
            },
            "colorscale": [
             [
              0,
              "#0d0887"
             ],
             [
              0.1111111111111111,
              "#46039f"
             ],
             [
              0.2222222222222222,
              "#7201a8"
             ],
             [
              0.3333333333333333,
              "#9c179e"
             ],
             [
              0.4444444444444444,
              "#bd3786"
             ],
             [
              0.5555555555555556,
              "#d8576b"
             ],
             [
              0.6666666666666666,
              "#ed7953"
             ],
             [
              0.7777777777777778,
              "#fb9f3a"
             ],
             [
              0.8888888888888888,
              "#fdca26"
             ],
             [
              1,
              "#f0f921"
             ]
            ],
            "type": "heatmap"
           }
          ],
          "heatmapgl": [
           {
            "colorbar": {
             "outlinewidth": 0,
             "ticks": ""
            },
            "colorscale": [
             [
              0,
              "#0d0887"
             ],
             [
              0.1111111111111111,
              "#46039f"
             ],
             [
              0.2222222222222222,
              "#7201a8"
             ],
             [
              0.3333333333333333,
              "#9c179e"
             ],
             [
              0.4444444444444444,
              "#bd3786"
             ],
             [
              0.5555555555555556,
              "#d8576b"
             ],
             [
              0.6666666666666666,
              "#ed7953"
             ],
             [
              0.7777777777777778,
              "#fb9f3a"
             ],
             [
              0.8888888888888888,
              "#fdca26"
             ],
             [
              1,
              "#f0f921"
             ]
            ],
            "type": "heatmapgl"
           }
          ],
          "histogram": [
           {
            "marker": {
             "colorbar": {
              "outlinewidth": 0,
              "ticks": ""
             }
            },
            "type": "histogram"
           }
          ],
          "histogram2d": [
           {
            "colorbar": {
             "outlinewidth": 0,
             "ticks": ""
            },
            "colorscale": [
             [
              0,
              "#0d0887"
             ],
             [
              0.1111111111111111,
              "#46039f"
             ],
             [
              0.2222222222222222,
              "#7201a8"
             ],
             [
              0.3333333333333333,
              "#9c179e"
             ],
             [
              0.4444444444444444,
              "#bd3786"
             ],
             [
              0.5555555555555556,
              "#d8576b"
             ],
             [
              0.6666666666666666,
              "#ed7953"
             ],
             [
              0.7777777777777778,
              "#fb9f3a"
             ],
             [
              0.8888888888888888,
              "#fdca26"
             ],
             [
              1,
              "#f0f921"
             ]
            ],
            "type": "histogram2d"
           }
          ],
          "histogram2dcontour": [
           {
            "colorbar": {
             "outlinewidth": 0,
             "ticks": ""
            },
            "colorscale": [
             [
              0,
              "#0d0887"
             ],
             [
              0.1111111111111111,
              "#46039f"
             ],
             [
              0.2222222222222222,
              "#7201a8"
             ],
             [
              0.3333333333333333,
              "#9c179e"
             ],
             [
              0.4444444444444444,
              "#bd3786"
             ],
             [
              0.5555555555555556,
              "#d8576b"
             ],
             [
              0.6666666666666666,
              "#ed7953"
             ],
             [
              0.7777777777777778,
              "#fb9f3a"
             ],
             [
              0.8888888888888888,
              "#fdca26"
             ],
             [
              1,
              "#f0f921"
             ]
            ],
            "type": "histogram2dcontour"
           }
          ],
          "mesh3d": [
           {
            "colorbar": {
             "outlinewidth": 0,
             "ticks": ""
            },
            "type": "mesh3d"
           }
          ],
          "parcoords": [
           {
            "line": {
             "colorbar": {
              "outlinewidth": 0,
              "ticks": ""
             }
            },
            "type": "parcoords"
           }
          ],
          "pie": [
           {
            "automargin": true,
            "type": "pie"
           }
          ],
          "scatter": [
           {
            "marker": {
             "colorbar": {
              "outlinewidth": 0,
              "ticks": ""
             }
            },
            "type": "scatter"
           }
          ],
          "scatter3d": [
           {
            "line": {
             "colorbar": {
              "outlinewidth": 0,
              "ticks": ""
             }
            },
            "marker": {
             "colorbar": {
              "outlinewidth": 0,
              "ticks": ""
             }
            },
            "type": "scatter3d"
           }
          ],
          "scattercarpet": [
           {
            "marker": {
             "colorbar": {
              "outlinewidth": 0,
              "ticks": ""
             }
            },
            "type": "scattercarpet"
           }
          ],
          "scattergeo": [
           {
            "marker": {
             "colorbar": {
              "outlinewidth": 0,
              "ticks": ""
             }
            },
            "type": "scattergeo"
           }
          ],
          "scattergl": [
           {
            "marker": {
             "colorbar": {
              "outlinewidth": 0,
              "ticks": ""
             }
            },
            "type": "scattergl"
           }
          ],
          "scattermapbox": [
           {
            "marker": {
             "colorbar": {
              "outlinewidth": 0,
              "ticks": ""
             }
            },
            "type": "scattermapbox"
           }
          ],
          "scatterpolar": [
           {
            "marker": {
             "colorbar": {
              "outlinewidth": 0,
              "ticks": ""
             }
            },
            "type": "scatterpolar"
           }
          ],
          "scatterpolargl": [
           {
            "marker": {
             "colorbar": {
              "outlinewidth": 0,
              "ticks": ""
             }
            },
            "type": "scatterpolargl"
           }
          ],
          "scatterternary": [
           {
            "marker": {
             "colorbar": {
              "outlinewidth": 0,
              "ticks": ""
             }
            },
            "type": "scatterternary"
           }
          ],
          "surface": [
           {
            "colorbar": {
             "outlinewidth": 0,
             "ticks": ""
            },
            "colorscale": [
             [
              0,
              "#0d0887"
             ],
             [
              0.1111111111111111,
              "#46039f"
             ],
             [
              0.2222222222222222,
              "#7201a8"
             ],
             [
              0.3333333333333333,
              "#9c179e"
             ],
             [
              0.4444444444444444,
              "#bd3786"
             ],
             [
              0.5555555555555556,
              "#d8576b"
             ],
             [
              0.6666666666666666,
              "#ed7953"
             ],
             [
              0.7777777777777778,
              "#fb9f3a"
             ],
             [
              0.8888888888888888,
              "#fdca26"
             ],
             [
              1,
              "#f0f921"
             ]
            ],
            "type": "surface"
           }
          ],
          "table": [
           {
            "cells": {
             "fill": {
              "color": "#EBF0F8"
             },
             "line": {
              "color": "white"
             }
            },
            "header": {
             "fill": {
              "color": "#C8D4E3"
             },
             "line": {
              "color": "white"
             }
            },
            "type": "table"
           }
          ]
         },
         "layout": {
          "annotationdefaults": {
           "arrowcolor": "#2a3f5f",
           "arrowhead": 0,
           "arrowwidth": 1
          },
          "coloraxis": {
           "colorbar": {
            "outlinewidth": 0,
            "ticks": ""
           }
          },
          "colorscale": {
           "diverging": [
            [
             0,
             "#8e0152"
            ],
            [
             0.1,
             "#c51b7d"
            ],
            [
             0.2,
             "#de77ae"
            ],
            [
             0.3,
             "#f1b6da"
            ],
            [
             0.4,
             "#fde0ef"
            ],
            [
             0.5,
             "#f7f7f7"
            ],
            [
             0.6,
             "#e6f5d0"
            ],
            [
             0.7,
             "#b8e186"
            ],
            [
             0.8,
             "#7fbc41"
            ],
            [
             0.9,
             "#4d9221"
            ],
            [
             1,
             "#276419"
            ]
           ],
           "sequential": [
            [
             0,
             "#0d0887"
            ],
            [
             0.1111111111111111,
             "#46039f"
            ],
            [
             0.2222222222222222,
             "#7201a8"
            ],
            [
             0.3333333333333333,
             "#9c179e"
            ],
            [
             0.4444444444444444,
             "#bd3786"
            ],
            [
             0.5555555555555556,
             "#d8576b"
            ],
            [
             0.6666666666666666,
             "#ed7953"
            ],
            [
             0.7777777777777778,
             "#fb9f3a"
            ],
            [
             0.8888888888888888,
             "#fdca26"
            ],
            [
             1,
             "#f0f921"
            ]
           ],
           "sequentialminus": [
            [
             0,
             "#0d0887"
            ],
            [
             0.1111111111111111,
             "#46039f"
            ],
            [
             0.2222222222222222,
             "#7201a8"
            ],
            [
             0.3333333333333333,
             "#9c179e"
            ],
            [
             0.4444444444444444,
             "#bd3786"
            ],
            [
             0.5555555555555556,
             "#d8576b"
            ],
            [
             0.6666666666666666,
             "#ed7953"
            ],
            [
             0.7777777777777778,
             "#fb9f3a"
            ],
            [
             0.8888888888888888,
             "#fdca26"
            ],
            [
             1,
             "#f0f921"
            ]
           ]
          },
          "colorway": [
           "#636efa",
           "#EF553B",
           "#00cc96",
           "#ab63fa",
           "#FFA15A",
           "#19d3f3",
           "#FF6692",
           "#B6E880",
           "#FF97FF",
           "#FECB52"
          ],
          "font": {
           "color": "#2a3f5f"
          },
          "geo": {
           "bgcolor": "white",
           "lakecolor": "white",
           "landcolor": "#E5ECF6",
           "showlakes": true,
           "showland": true,
           "subunitcolor": "white"
          },
          "hoverlabel": {
           "align": "left"
          },
          "hovermode": "closest",
          "mapbox": {
           "style": "light"
          },
          "paper_bgcolor": "white",
          "plot_bgcolor": "#E5ECF6",
          "polar": {
           "angularaxis": {
            "gridcolor": "white",
            "linecolor": "white",
            "ticks": ""
           },
           "bgcolor": "#E5ECF6",
           "radialaxis": {
            "gridcolor": "white",
            "linecolor": "white",
            "ticks": ""
           }
          },
          "scene": {
           "xaxis": {
            "backgroundcolor": "#E5ECF6",
            "gridcolor": "white",
            "gridwidth": 2,
            "linecolor": "white",
            "showbackground": true,
            "ticks": "",
            "zerolinecolor": "white"
           },
           "yaxis": {
            "backgroundcolor": "#E5ECF6",
            "gridcolor": "white",
            "gridwidth": 2,
            "linecolor": "white",
            "showbackground": true,
            "ticks": "",
            "zerolinecolor": "white"
           },
           "zaxis": {
            "backgroundcolor": "#E5ECF6",
            "gridcolor": "white",
            "gridwidth": 2,
            "linecolor": "white",
            "showbackground": true,
            "ticks": "",
            "zerolinecolor": "white"
           }
          },
          "shapedefaults": {
           "line": {
            "color": "#2a3f5f"
           }
          },
          "ternary": {
           "aaxis": {
            "gridcolor": "white",
            "linecolor": "white",
            "ticks": ""
           },
           "baxis": {
            "gridcolor": "white",
            "linecolor": "white",
            "ticks": ""
           },
           "bgcolor": "#E5ECF6",
           "caxis": {
            "gridcolor": "white",
            "linecolor": "white",
            "ticks": ""
           }
          },
          "title": {
           "x": 0.05
          },
          "xaxis": {
           "automargin": true,
           "gridcolor": "white",
           "linecolor": "white",
           "ticks": "",
           "title": {
            "standoff": 15
           },
           "zerolinecolor": "white",
           "zerolinewidth": 2
          },
          "yaxis": {
           "automargin": true,
           "gridcolor": "white",
           "linecolor": "white",
           "ticks": "",
           "title": {
            "standoff": 15
           },
           "zerolinecolor": "white",
           "zerolinewidth": 2
          }
         }
        },
        "title": {
         "text": "Intermediate Values Plot"
        },
        "xaxis": {
         "autorange": true,
         "range": [
          -0.17902699495698607,
          3.179026994956986
         ],
         "title": {
          "text": "Step"
         },
         "type": "linear"
        },
        "yaxis": {
         "autorange": true,
         "range": [
          0.0009034436571043825,
          0.02961555203238684
         ],
         "title": {
          "text": "Intermediate Value"
         },
         "type": "linear"
        }
       }
      },
      "image/png": "[encoded data removed]",
      "text/html": [
       "<div>\n",
       "        \n",
       "        \n",
       "            <div id=\"1ae5edd2-cedb-4985-9690-37f1e1ab65e5\" class=\"plotly-graph-div\" style=\"height:525px; width:100%;\"></div>\n",
       "            <script type=\"text/javascript\">\n",
       "                require([\"plotly\"], function(Plotly) {\n",
       "                    window.PLOTLYENV=window.PLOTLYENV || {};\n",
       "                    \n",
       "                if (document.getElementById(\"1ae5edd2-cedb-4985-9690-37f1e1ab65e5\")) {\n",
       "                    Plotly.newPlot(\n",
       "                        '1ae5edd2-cedb-4985-9690-37f1e1ab65e5',\n",
       "                        [{\"marker\": {\"maxdisplayed\": 10}, \"mode\": \"lines+markers\", \"name\": \"Trial4\", \"type\": \"scatter\", \"x\": [0, 3], \"y\": [0.009968400232579189, 0.009257681966396689]}, {\"marker\": {\"maxdisplayed\": 10}, \"mode\": \"lines+markers\", \"name\": \"Trial5\", \"type\": \"scatter\", \"x\": [0, 3], \"y\": [0.005655973900877337, 0.004243562673396282]}, {\"marker\": {\"maxdisplayed\": 10}, \"mode\": \"lines+markers\", \"name\": \"Trial6\", \"type\": \"scatter\", \"x\": [0, 3], \"y\": [0.007379257653391998, 0.007158041494464829]}, {\"marker\": {\"maxdisplayed\": 10}, \"mode\": \"lines+markers\", \"name\": \"Trial7\", \"type\": \"scatter\", \"x\": [0, 3], \"y\": [0.003354874530181516, 0.0027378283588585395]}, {\"marker\": {\"maxdisplayed\": 10}, \"mode\": \"lines+markers\", \"name\": \"Trial8\", \"type\": \"scatter\", \"x\": [0, 3], \"y\": [0.027781167330632683, 0.016951500658543055]}, {\"marker\": {\"maxdisplayed\": 10}, \"mode\": \"lines+markers\", \"name\": \"Trial9\", \"type\": \"scatter\", \"x\": [0, 3], \"y\": [0.01170181982816403, 0.011211501711709353]}, {\"marker\": {\"maxdisplayed\": 10}, \"mode\": \"lines+markers\", \"name\": \"Trial10\", \"type\": \"scatter\", \"x\": [0, 3], \"y\": [0.005469458651345024, 0.003870062207899106]}, {\"marker\": {\"maxdisplayed\": 10}, \"mode\": \"lines+markers\", \"name\": \"Trial11\", \"type\": \"scatter\", \"x\": [0, 3], \"y\": [0.010214815605858355, 0.005118728661554233]}, {\"marker\": {\"maxdisplayed\": 10}, \"mode\": \"lines+markers\", \"name\": \"Trial12\", \"type\": \"scatter\", \"x\": [0, 3], \"y\": [0.007411992820761814, 0.0073382382508623235]}, {\"marker\": {\"maxdisplayed\": 10}, \"mode\": \"lines+markers\", \"name\": \"Trial13\", \"type\": \"scatter\", \"x\": [0, 3], \"y\": [0.013014909534053948, 0.010643758498245979]}],\n",
       "                        {\"showlegend\": false, \"template\": {\"data\": {\"bar\": [{\"error_x\": {\"color\": \"#2a3f5f\"}, \"error_y\": {\"color\": \"#2a3f5f\"}, \"marker\": {\"line\": {\"color\": \"#E5ECF6\", \"width\": 0.5}}, \"type\": \"bar\"}], \"barpolar\": [{\"marker\": {\"line\": {\"color\": \"#E5ECF6\", \"width\": 0.5}}, \"type\": \"barpolar\"}], \"carpet\": [{\"aaxis\": {\"endlinecolor\": \"#2a3f5f\", \"gridcolor\": \"white\", \"linecolor\": \"white\", \"minorgridcolor\": \"white\", \"startlinecolor\": \"#2a3f5f\"}, \"baxis\": {\"endlinecolor\": \"#2a3f5f\", \"gridcolor\": \"white\", \"linecolor\": \"white\", \"minorgridcolor\": \"white\", \"startlinecolor\": \"#2a3f5f\"}, \"type\": \"carpet\"}], \"choropleth\": [{\"colorbar\": {\"outlinewidth\": 0, \"ticks\": \"\"}, \"type\": \"choropleth\"}], \"contour\": [{\"colorbar\": {\"outlinewidth\": 0, \"ticks\": \"\"}, \"colorscale\": [[0.0, \"#0d0887\"], [0.1111111111111111, \"#46039f\"], [0.2222222222222222, \"#7201a8\"], [0.3333333333333333, \"#9c179e\"], [0.4444444444444444, \"#bd3786\"], [0.5555555555555556, \"#d8576b\"], [0.6666666666666666, \"#ed7953\"], [0.7777777777777778, \"#fb9f3a\"], [0.8888888888888888, \"#fdca26\"], [1.0, \"#f0f921\"]], \"type\": \"contour\"}], \"contourcarpet\": [{\"colorbar\": {\"outlinewidth\": 0, \"ticks\": \"\"}, \"type\": \"contourcarpet\"}], \"heatmap\": [{\"colorbar\": {\"outlinewidth\": 0, \"ticks\": \"\"}, \"colorscale\": [[0.0, \"#0d0887\"], [0.1111111111111111, \"#46039f\"], [0.2222222222222222, \"#7201a8\"], [0.3333333333333333, \"#9c179e\"], [0.4444444444444444, \"#bd3786\"], [0.5555555555555556, \"#d8576b\"], [0.6666666666666666, \"#ed7953\"], [0.7777777777777778, \"#fb9f3a\"], [0.8888888888888888, \"#fdca26\"], [1.0, \"#f0f921\"]], \"type\": \"heatmap\"}], \"heatmapgl\": [{\"colorbar\": {\"outlinewidth\": 0, \"ticks\": \"\"}, \"colorscale\": [[0.0, \"#0d0887\"], [0.1111111111111111, \"#46039f\"], [0.2222222222222222, \"#7201a8\"], [0.3333333333333333, \"#9c179e\"], [0.4444444444444444, \"#bd3786\"], [0.5555555555555556, \"#d8576b\"], [0.6666666666666666, \"#ed7953\"], [0.7777777777777778, \"#fb9f3a\"], [0.8888888888888888, \"#fdca26\"], [1.0, \"#f0f921\"]], \"type\": \"heatmapgl\"}], \"histogram\": [{\"marker\": {\"colorbar\": {\"outlinewidth\": 0, \"ticks\": \"\"}}, \"type\": \"histogram\"}], \"histogram2d\": [{\"colorbar\": {\"outlinewidth\": 0, \"ticks\": \"\"}, \"colorscale\": [[0.0, \"#0d0887\"], [0.1111111111111111, \"#46039f\"], [0.2222222222222222, \"#7201a8\"], [0.3333333333333333, \"#9c179e\"], [0.4444444444444444, \"#bd3786\"], [0.5555555555555556, \"#d8576b\"], [0.6666666666666666, \"#ed7953\"], [0.7777777777777778, \"#fb9f3a\"], [0.8888888888888888, \"#fdca26\"], [1.0, \"#f0f921\"]], \"type\": \"histogram2d\"}], \"histogram2dcontour\": [{\"colorbar\": {\"outlinewidth\": 0, \"ticks\": \"\"}, \"colorscale\": [[0.0, \"#0d0887\"], [0.1111111111111111, \"#46039f\"], [0.2222222222222222, \"#7201a8\"], [0.3333333333333333, \"#9c179e\"], [0.4444444444444444, \"#bd3786\"], [0.5555555555555556, \"#d8576b\"], [0.6666666666666666, \"#ed7953\"], [0.7777777777777778, \"#fb9f3a\"], [0.8888888888888888, \"#fdca26\"], [1.0, \"#f0f921\"]], \"type\": \"histogram2dcontour\"}], \"mesh3d\": [{\"colorbar\": {\"outlinewidth\": 0, \"ticks\": \"\"}, \"type\": \"mesh3d\"}], \"parcoords\": [{\"line\": {\"colorbar\": {\"outlinewidth\": 0, \"ticks\": \"\"}}, \"type\": \"parcoords\"}], \"pie\": [{\"automargin\": true, \"type\": \"pie\"}], \"scatter\": [{\"marker\": {\"colorbar\": {\"outlinewidth\": 0, \"ticks\": \"\"}}, \"type\": \"scatter\"}], \"scatter3d\": [{\"line\": {\"colorbar\": {\"outlinewidth\": 0, \"ticks\": \"\"}}, \"marker\": {\"colorbar\": {\"outlinewidth\": 0, \"ticks\": \"\"}}, \"type\": \"scatter3d\"}], \"scattercarpet\": [{\"marker\": {\"colorbar\": {\"outlinewidth\": 0, \"ticks\": \"\"}}, \"type\": \"scattercarpet\"}], \"scattergeo\": [{\"marker\": {\"colorbar\": {\"outlinewidth\": 0, \"ticks\": \"\"}}, \"type\": \"scattergeo\"}], \"scattergl\": [{\"marker\": {\"colorbar\": {\"outlinewidth\": 0, \"ticks\": \"\"}}, \"type\": \"scattergl\"}], \"scattermapbox\": [{\"marker\": {\"colorbar\": {\"outlinewidth\": 0, \"ticks\": \"\"}}, \"type\": \"scattermapbox\"}], \"scatterpolar\": [{\"marker\": {\"colorbar\": {\"outlinewidth\": 0, \"ticks\": \"\"}}, \"type\": \"scatterpolar\"}], \"scatterpolargl\": [{\"marker\": {\"colorbar\": {\"outlinewidth\": 0, \"ticks\": \"\"}}, \"type\": \"scatterpolargl\"}], \"scatterternary\": [{\"marker\": {\"colorbar\": {\"outlinewidth\": 0, \"ticks\": \"\"}}, \"type\": \"scatterternary\"}], \"surface\": [{\"colorbar\": {\"outlinewidth\": 0, \"ticks\": \"\"}, \"colorscale\": [[0.0, \"#0d0887\"], [0.1111111111111111, \"#46039f\"], [0.2222222222222222, \"#7201a8\"], [0.3333333333333333, \"#9c179e\"], [0.4444444444444444, \"#bd3786\"], [0.5555555555555556, \"#d8576b\"], [0.6666666666666666, \"#ed7953\"], [0.7777777777777778, \"#fb9f3a\"], [0.8888888888888888, \"#fdca26\"], [1.0, \"#f0f921\"]], \"type\": \"surface\"}], \"table\": [{\"cells\": {\"fill\": {\"color\": \"#EBF0F8\"}, \"line\": {\"color\": \"white\"}}, \"header\": {\"fill\": {\"color\": \"#C8D4E3\"}, \"line\": {\"color\": \"white\"}}, \"type\": \"table\"}]}, \"layout\": {\"annotationdefaults\": {\"arrowcolor\": \"#2a3f5f\", \"arrowhead\": 0, \"arrowwidth\": 1}, \"coloraxis\": {\"colorbar\": {\"outlinewidth\": 0, \"ticks\": \"\"}}, \"colorscale\": {\"diverging\": [[0, \"#8e0152\"], [0.1, \"#c51b7d\"], [0.2, \"#de77ae\"], [0.3, \"#f1b6da\"], [0.4, \"#fde0ef\"], [0.5, \"#f7f7f7\"], [0.6, \"#e6f5d0\"], [0.7, \"#b8e186\"], [0.8, \"#7fbc41\"], [0.9, \"#4d9221\"], [1, \"#276419\"]], \"sequential\": [[0.0, \"#0d0887\"], [0.1111111111111111, \"#46039f\"], [0.2222222222222222, \"#7201a8\"], [0.3333333333333333, \"#9c179e\"], [0.4444444444444444, \"#bd3786\"], [0.5555555555555556, \"#d8576b\"], [0.6666666666666666, \"#ed7953\"], [0.7777777777777778, \"#fb9f3a\"], [0.8888888888888888, \"#fdca26\"], [1.0, \"#f0f921\"]], \"sequentialminus\": [[0.0, \"#0d0887\"], [0.1111111111111111, \"#46039f\"], [0.2222222222222222, \"#7201a8\"], [0.3333333333333333, \"#9c179e\"], [0.4444444444444444, \"#bd3786\"], [0.5555555555555556, \"#d8576b\"], [0.6666666666666666, \"#ed7953\"], [0.7777777777777778, \"#fb9f3a\"], [0.8888888888888888, \"#fdca26\"], [1.0, \"#f0f921\"]]}, \"colorway\": [\"#636efa\", \"#EF553B\", \"#00cc96\", \"#ab63fa\", \"#FFA15A\", \"#19d3f3\", \"#FF6692\", \"#B6E880\", \"#FF97FF\", \"#FECB52\"], \"font\": {\"color\": \"#2a3f5f\"}, \"geo\": {\"bgcolor\": \"white\", \"lakecolor\": \"white\", \"landcolor\": \"#E5ECF6\", \"showlakes\": true, \"showland\": true, \"subunitcolor\": \"white\"}, \"hoverlabel\": {\"align\": \"left\"}, \"hovermode\": \"closest\", \"mapbox\": {\"style\": \"light\"}, \"paper_bgcolor\": \"white\", \"plot_bgcolor\": \"#E5ECF6\", \"polar\": {\"angularaxis\": {\"gridcolor\": \"white\", \"linecolor\": \"white\", \"ticks\": \"\"}, \"bgcolor\": \"#E5ECF6\", \"radialaxis\": {\"gridcolor\": \"white\", \"linecolor\": \"white\", \"ticks\": \"\"}}, \"scene\": {\"xaxis\": {\"backgroundcolor\": \"#E5ECF6\", \"gridcolor\": \"white\", \"gridwidth\": 2, \"linecolor\": \"white\", \"showbackground\": true, \"ticks\": \"\", \"zerolinecolor\": \"white\"}, \"yaxis\": {\"backgroundcolor\": \"#E5ECF6\", \"gridcolor\": \"white\", \"gridwidth\": 2, \"linecolor\": \"white\", \"showbackground\": true, \"ticks\": \"\", \"zerolinecolor\": \"white\"}, \"zaxis\": {\"backgroundcolor\": \"#E5ECF6\", \"gridcolor\": \"white\", \"gridwidth\": 2, \"linecolor\": \"white\", \"showbackground\": true, \"ticks\": \"\", \"zerolinecolor\": \"white\"}}, \"shapedefaults\": {\"line\": {\"color\": \"#2a3f5f\"}}, \"ternary\": {\"aaxis\": {\"gridcolor\": \"white\", \"linecolor\": \"white\", \"ticks\": \"\"}, \"baxis\": {\"gridcolor\": \"white\", \"linecolor\": \"white\", \"ticks\": \"\"}, \"bgcolor\": \"#E5ECF6\", \"caxis\": {\"gridcolor\": \"white\", \"linecolor\": \"white\", \"ticks\": \"\"}}, \"title\": {\"x\": 0.05}, \"xaxis\": {\"automargin\": true, \"gridcolor\": \"white\", \"linecolor\": \"white\", \"ticks\": \"\", \"title\": {\"standoff\": 15}, \"zerolinecolor\": \"white\", \"zerolinewidth\": 2}, \"yaxis\": {\"automargin\": true, \"gridcolor\": \"white\", \"linecolor\": \"white\", \"ticks\": \"\", \"title\": {\"standoff\": 15}, \"zerolinecolor\": \"white\", \"zerolinewidth\": 2}}}, \"title\": {\"text\": \"Intermediate Values Plot\"}, \"xaxis\": {\"title\": {\"text\": \"Step\"}}, \"yaxis\": {\"title\": {\"text\": \"Intermediate Value\"}}},\n",
       "                        {\"responsive\": true}\n",
       "                    ).then(function(){\n",
       "                            \n",
       "var gd = document.getElementById('1ae5edd2-cedb-4985-9690-37f1e1ab65e5');\n",
       "var x = new MutationObserver(function (mutations, observer) {{\n",
       "        var display = window.getComputedStyle(gd).display;\n",
       "        if (!display || display === 'none') {{\n",
       "            console.log([gd, 'removed!']);\n",
       "            Plotly.purge(gd);\n",
       "            observer.disconnect();\n",
       "        }}\n",
       "}});\n",
       "\n",
       "// Listen for the removal of the full notebook cells\n",
       "var notebookContainer = gd.closest('#notebook-container');\n",
       "if (notebookContainer) {{\n",
       "    x.observe(notebookContainer, {childList: true});\n",
       "}}\n",
       "\n",
       "// Listen for the clearing of the current output cell\n",
       "var outputEl = gd.closest('.output');\n",
       "if (outputEl) {{\n",
       "    x.observe(outputEl, {childList: true});\n",
       "}}\n",
       "\n",
       "                        })\n",
       "                };\n",
       "                });\n",
       "            </script>\n",
       "        </div>"
      ]
     },
     "metadata": {},
     "output_type": "display_data"
    }
   ],
   "source": []
  },
  {
   "cell_type": "code",
   "execution_count": 151,
   "metadata": {},
   "outputs": [
    {
     "name": "stdout",
     "output_type": "stream",
     "text": [
      "Best trial until now:\n",
      " Value:  0.00039813510886080674\n",
      " Params: \n",
      "    learning_rate: 0.0020574791074529975\n",
      "    dropout_rate: 0\n",
      "    latent_size: 64\n",
      "    frequency_bins: 30\n",
      "    time_steps: 20\n",
      "    hidden_layers: 1\n",
      "    l2: 1.0494963315643493e-06\n"
     ]
    }
   ],
   "source": [
    "import joblib\n",
    "joblib.dump(study, 'study2.pkl')\n",
    "study2 = joblib.load('study2.pkl')\n",
    "print('Best trial until now:')\n",
    "print(' Value: ', study2.best_trial.value)\n",
    "print(' Params: ')\n",
    "for key, value in study2.best_trial.params.items():\n",
    "    print(f'    {key}: {value}')"
   ]
  }
 ],
 "metadata": {
  "kernelspec": {
   "display_name": "Python 3",
   "language": "python",
   "name": "python3"
  },
  "language_info": {
   "codemirror_mode": {
    "name": "ipython",
    "version": 3
   },
   "file_extension": ".py",
   "mimetype": "text/x-python",
   "name": "python",
   "nbconvert_exporter": "python",
   "pygments_lexer": "ipython3",
   "version": "3.7.5"
  }
 },
 "nbformat": 4,
 "nbformat_minor": 4
}
