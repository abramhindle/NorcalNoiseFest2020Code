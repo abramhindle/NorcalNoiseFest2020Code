{
 "cells": [
  {
   "cell_type": "code",
   "execution_count": 14,
   "metadata": {},
   "outputs": [],
   "source": [
    "# %reload_ext autoreload\n",
    "# %autoreload 1   \n",
    "import numpy as np\n",
    "import torch\n",
    "import torchvision\n",
    "import torchvision.transforms as transforms\n",
    "import torch.utils.data as data\n",
    "import torchvision\n",
    "import torch.optim as optim\n",
    "import torch.nn as nn\n",
    "import torch.nn.functional as F\n",
    "from torch.autograd import Variable\n",
    "from CNN_utils import CNN_net\n",
    "\n",
    "import matplotlib.pyplot as plt\n",
    "import time\n",
    "\n",
    "device = torch.device(\"cuda\" if torch.cuda.is_available() else \"cpu\")\n",
    "\n",
    "seed = 42\n",
    "np.random.seed(seed)\n",
    "torch.manual_seed(seed)\n",
    "\n",
    "EPOCHS = 100\n",
    "BATCH_SIZE = 4\n",
    "LEARNING_RATE = 0.01\n"
   ]
  },
  {
   "cell_type": "code",
   "execution_count": 6,
   "metadata": {},
   "outputs": [],
   "source": [
    "TRAIN_DATA_PATH = \"./cnn_data/train\"\n",
    "TEST_DATA_PATH = \"./cnn_data/test\"\n",
    "TRANSFORM_IMG = transforms.Compose(\n",
    "    [transforms.Grayscale(num_output_channels=1),\n",
    "    transforms.ToTensor(), \n",
    "    transforms.Normalize((0.5, 0.5, 0.5), (0.5, 0.5, 0.5))])\n",
    "\n",
    "train_data = torchvision.datasets.ImageFolder(root=TRAIN_DATA_PATH, transform=TRANSFORM_IMG)\n",
    "train_loader = data.DataLoader(train_data, batch_size=BATCH_SIZE,shuffle=True, num_workers=4)\n",
    "test_data = torchvision.datasets.ImageFolder(root=TEST_DATA_PATH, transform=TRANSFORM_IMG)\n",
    "test_loader  = data.DataLoader(test_data, batch_size=BATCH_SIZE, shuffle=True, num_workers=4)\n",
    "val_loader=test_loader\n",
    "\n",
    "classes=list(train_data.class_to_idx.keys()) #get list of classes"
   ]
  },
  {
   "cell_type": "code",
   "execution_count": 7,
   "metadata": {},
   "outputs": [],
   "source": [
    "#io calculator\n",
    "def outputSize(in_size, kernel_size, stride, padding):\n",
    "    output = int((in_size - kernel_size + 2*(padding)) / stride) + 1\n",
    "    print(output)\n",
    "    return(output)\n",
    "#get all targets\n"
   ]
  },
  {
   "cell_type": "code",
   "execution_count": 8,
   "metadata": {},
   "outputs": [
    {
     "name": "stdout",
     "output_type": "stream",
     "text": [
      "{'1_stack': 1.0101011, '3_stack': 0.99900097, '5_stack': 1.004016, 'clap': 1.8796993, 'guitar': 2.2727273, 'hat': 0.7374631, 'hihat_closed': 2.9498525, 'hihat_open': 3.9525692, 'kick': 0.66093856, 'noise': 1.3986014, 'piano': 2.5641026, 'rim': 3.2051282, 'shake': 9.009009, 'snare': 0.48379293, 'tom': 3.236246, 'tom_high': 3.1152647, 'tom_low': 3.0674846, 'tom_mid': 4.0983605, 'voc': 2.8818443}\n"
     ]
    }
   ],
   "source": [
    "# let's get the weight of the samples incase we want to make a weighted\n",
    "# sampler to deal with data imbalance\n",
    "# # expensive to compute so commented\n",
    "targets=[]\n",
    "for batch_idx, (d, l) in enumerate(train_loader):\n",
    "    targets.extend(list(l.numpy()))\n",
    "# Compute samples weight (each sample should get its own weight)\n",
    "target=torch.tensor(targets)\n",
    "class_sample_count = torch.tensor(\n",
    "    [(target == t).sum() for t in torch.unique(target, sorted=True)])\n",
    "weight = 1. / class_sample_count.float()\n",
    "samples_weight = torch.tensor([weight[t] for t in target])\n",
    "print(dict(zip(classes,list(weight.numpy()*1000))))\n"
   ]
  },
  {
   "cell_type": "code",
   "execution_count": 9,
   "metadata": {},
   "outputs": [],
   "source": [
    "def trainCNN(net, batch_size, n_epochs, learning_rate):\n",
    "    \n",
    "    #Print all of the hyperparameters of the training iteration:\n",
    "    print(\"===== HYPERPARAMETERS =====\")\n",
    "    print(\"batch_size=\", batch_size)\n",
    "    print(\"epochs=\", n_epochs)\n",
    "    print(\"learning_rate=\", learning_rate)\n",
    "    print(\"=\" * 30)\n",
    "    \n",
    "    n_batches = len(train_loader)\n",
    "# weight=samples_weight.to(device)\n",
    "    loss = torch.nn.CrossEntropyLoss(weight=weight.to(device))    \n",
    "    optimizer = optim.Adam(net.parameters(),learning_rate)\n",
    "    \n",
    "    #get time\n",
    "    training_start_time = time.time()    \n",
    "    #Loop for n_epochs\n",
    "    for epoch in range(n_epochs):\n",
    "        \n",
    "        running_loss = 0.0\n",
    "        print_every = n_batches // 10\n",
    "        start_time = time.time()\n",
    "        total_train_loss = 0\n",
    "        \n",
    "        for i, data in enumerate(train_loader, 0):\n",
    "            \n",
    "            #Get inputs\n",
    "            #inputs, labels = data\n",
    "            inputs, labels =  data[0].to(device), data[1].to(device)\n",
    "            #Wrap them in a Variable object\n",
    "            inputs, labels = Variable(inputs), Variable(labels)\n",
    "            \n",
    "            #Set the parameter gradients to zero\n",
    "            optimizer.zero_grad()\n",
    "            \n",
    "            #Forward pass, backward pass, optimize\n",
    "            outputs = net(inputs)\n",
    "            loss_size = loss(outputs, labels)\n",
    "            loss_size.backward()\n",
    "            optimizer.step()\n",
    "            \n",
    "            #Print statistics\n",
    "            running_loss += loss_size.data\n",
    "            total_train_loss += loss_size.data\n",
    "            \n",
    "            #Print every 20th batch of an epoch\n",
    "            if (i + 1) % (print_every + 1) == 0:\n",
    "                print(\"Epoch {}, {:d}% \\t train_loss: {:.2f} took: {:.2f}s\".format(\n",
    "                        epoch+1, int(100 * (i+1) / n_batches), running_loss / print_every, time.time() - start_time))\n",
    "                #Reset running loss and time\n",
    "                running_loss = 0.0\n",
    "                start_time = time.time()\n",
    "            \n",
    "        #At the end of the epoch, do a pass on the validation set\n",
    "        total_val_loss = 0\n",
    "        for inputs, labels in val_loader:\n",
    "            inputs, labels = Variable(inputs), Variable(labels)\n",
    "            inputs, labels =  inputs.to(device), labels.to(device)\n",
    "            #Forward pass\n",
    "            val_outputs = net(inputs)\n",
    "            val_loss_size = loss(val_outputs, labels)\n",
    "            total_val_loss += val_loss_size.data\n",
    "            \n",
    "        print(\"Validation loss = {:.2f}\".format(total_val_loss / len(val_loader)))\n",
    "        torch.save({\n",
    "            'epoch': epoch,\n",
    "            'model_state_dict': net.state_dict(),\n",
    "            'optimizer_state_dict': optimizer.state_dict(),\n",
    "            'loss': loss,\n",
    "            }, \"./models/model-%s-%s.mod\"%(BATCH_SIZE,epoch))\n",
    "        \n",
    "    print(\"Training finished, took {:.2f}s\".format(time.time() - training_start_time))"
   ]
  },
  {
   "cell_type": "code",
   "execution_count": 10,
   "metadata": {
    "jupyter": {
     "source_hidden": true
    }
   },
   "outputs": [],
   "source": [
    "import time\n",
    "\n",
    "def trainNet(net, batch_size, n_epochs, learning_rate):\n",
    "    \n",
    "    #Print all of the hyperparameters of the training iteration:\n",
    "    print(\"===== HYPERPARAMETERS =====\")\n",
    "    print(\"batch_size=\", batch_size)\n",
    "    print(\"epochs=\", n_epochs)\n",
    "    print(\"learning_rate=\", learning_rate)\n",
    "    print(\"=\" * 30)\n",
    "    \n",
    "    #Get training data\n",
    "#     train_loader = get_train_loader(batch_size)\n",
    "    n_batches = len(train_loader)\n",
    "    \n",
    "    #Create our loss and optimizer functions\n",
    "    loss, optimizer = createLossAndOptimizer(net, learning_rate)\n",
    "    \n",
    "    #Time for printing\n",
    "    training_start_time = time.time()\n",
    "    \n",
    "    #Loop for n_epochs\n",
    "    for epoch in range(n_epochs):\n",
    "        \n",
    "        running_loss = 0.0\n",
    "        print_every = n_batches // 10\n",
    "        start_time = time.time()\n",
    "        total_train_loss = 0\n",
    "        \n",
    "        for i, data in enumerate(train_loader, 0):\n",
    "            \n",
    "            #Get inputs\n",
    "#             inputs, labels = data[0], data[1]\n",
    "            inputs, labels = data[0].to(device), data[1].to(device)\n",
    "            #Wrap them in a Variable object\n",
    "            inputs, labels = Variable(inputs), Variable(labels)\n",
    "            \n",
    "            #Set the parameter gradients to zero\n",
    "            optimizer.zero_grad()\n",
    "            \n",
    "            #Forward pass, backward pass, optimize\n",
    "            outputs = net(inputs)\n",
    "            loss_size = loss(outputs, labels)\n",
    "            loss_size.backward()\n",
    "            optimizer.step()\n",
    "            \n",
    "            #Print statistics\n",
    "            running_loss += loss_size.data\n",
    "            total_train_loss += loss_size.data\n",
    "            \n",
    "            #Print every 10th batch of an epoch\n",
    "            if (i + 1) % (print_every + 1) == 0:\n",
    "                print(\"Epoch {}, {:d}% \\t train_loss: {:.2f} took: {:.2f}s\".format(\n",
    "                        epoch+1, int(100 * (i+1) / n_batches), running_loss / print_every, time.time() - start_time))\n",
    "                #Reset running loss and time\n",
    "                running_loss = 0.0\n",
    "                start_time = time.time()\n",
    "            \n",
    "        #At the end of the epoch, do a pass on the validation set\n",
    "        total_val_loss = 0\n",
    "        for inputs, labels in val_loader:\n",
    "            \n",
    "            #Wrap tensors in Variables\n",
    "            inputs, labels = Variable(inputs), Variable(labels)\n",
    "            inputs, labels = inputs.to(device), labels.to(device)\n",
    "            #Forward pass\n",
    "            val_outputs = net(inputs)\n",
    "            val_loss_size = loss(val_outputs, labels)\n",
    "            total_val_loss += val_loss_size.data\n",
    "            \n",
    "        print(\"Validation loss = {:.2f}\".format(total_val_loss / len(val_loader)))\n",
    "        \n",
    "    print(\"Training finished, took {:.2f}s\".format(time.time() - training_start_time))"
   ]
  },
  {
   "cell_type": "code",
   "execution_count": 15,
   "metadata": {
    "scrolled": true
   },
   "outputs": [
    {
     "name": "stdout",
     "output_type": "stream",
     "text": [
      "===== HYPERPARAMETERS =====\n",
      "batch_size= 32\n",
      "epochs= 4\n",
      "learning_rate= 0.001\n",
      "==============================\n",
      "Epoch 1, 10% \t train_loss: 2.51 took: 1.29s\n",
      "Epoch 1, 20% \t train_loss: 1.75 took: 1.17s\n",
      "Epoch 1, 30% \t train_loss: 1.59 took: 1.18s\n",
      "Epoch 1, 40% \t train_loss: 1.45 took: 1.23s\n",
      "Epoch 1, 50% \t train_loss: 1.37 took: 1.21s\n",
      "Epoch 1, 60% \t train_loss: 1.35 took: 1.14s\n",
      "Epoch 1, 70% \t train_loss: 1.30 took: 1.08s\n",
      "Epoch 1, 80% \t train_loss: 1.28 took: 1.16s\n",
      "Epoch 1, 90% \t train_loss: 1.27 took: 1.18s\n",
      "Validation loss = 1.16\n",
      "Epoch 2, 10% \t train_loss: 1.01 took: 1.28s\n",
      "Epoch 2, 20% \t train_loss: 0.96 took: 1.21s\n",
      "Epoch 2, 30% \t train_loss: 1.08 took: 1.22s\n",
      "Epoch 2, 40% \t train_loss: 1.00 took: 1.22s\n",
      "Epoch 2, 50% \t train_loss: 1.04 took: 1.22s\n",
      "Epoch 2, 60% \t train_loss: 1.00 took: 1.18s\n",
      "Epoch 2, 70% \t train_loss: 1.05 took: 1.19s\n",
      "Epoch 2, 80% \t train_loss: 0.96 took: 1.21s\n",
      "Epoch 2, 90% \t train_loss: 0.97 took: 1.20s\n",
      "Validation loss = 1.09\n",
      "Epoch 3, 10% \t train_loss: 0.74 took: 1.28s\n",
      "Epoch 3, 20% \t train_loss: 0.78 took: 1.17s\n",
      "Epoch 3, 30% \t train_loss: 0.78 took: 1.17s\n",
      "Epoch 3, 40% \t train_loss: 0.76 took: 1.15s\n",
      "Epoch 3, 50% \t train_loss: 0.75 took: 1.15s\n",
      "Epoch 3, 60% \t train_loss: 0.79 took: 1.16s\n",
      "Epoch 3, 70% \t train_loss: 0.76 took: 1.18s\n",
      "Epoch 3, 80% \t train_loss: 0.75 took: 1.17s\n",
      "Epoch 3, 90% \t train_loss: 0.75 took: 1.19s\n",
      "Validation loss = 0.94\n",
      "Epoch 4, 10% \t train_loss: 0.55 took: 1.19s\n",
      "Epoch 4, 20% \t train_loss: 0.55 took: 1.19s\n",
      "Epoch 4, 30% \t train_loss: 0.58 took: 1.09s\n",
      "Epoch 4, 40% \t train_loss: 0.60 took: 1.11s\n",
      "Epoch 4, 50% \t train_loss: 0.50 took: 1.20s\n",
      "Epoch 4, 60% \t train_loss: 0.59 took: 1.19s\n",
      "Epoch 4, 70% \t train_loss: 0.60 took: 1.20s\n",
      "Epoch 4, 80% \t train_loss: 0.60 took: 1.19s\n",
      "Epoch 4, 90% \t train_loss: 0.59 took: 1.20s\n",
      "Validation loss = 0.96\n",
      "Training finished, took 50.68s\n"
     ]
    }
   ],
   "source": [
    "CNN = CNN_net()\n",
    "CNN.to(device)\n",
    "trainCNN(CNN, batch_size=32, n_epochs=4, learning_rate=0.001)"
   ]
  },
  {
   "cell_type": "code",
   "execution_count": 21,
   "metadata": {},
   "outputs": [
    {
     "name": "stderr",
     "output_type": "stream",
     "text": [
      "Clipping input data to the valid range for imshow with RGB data ([0..1] for floats or [0..255] for integers).\n"
     ]
    },
    {
     "data": {
      "image/png": "[encoded data removed]",
      "text/plain": [
       "<Figure size 432x288 with 1 Axes>"
      ]
     },
     "metadata": {
      "needs_background": "light"
     },
     "output_type": "display_data"
    },
    {
     "name": "stdout",
     "output_type": "stream",
     "text": [
      "GroundTruth:    rim         clap        tom_low          hat\n",
      "Predicted:      rim         clap        tom_mid        snare\n"
     ]
    }
   ],
   "source": [
    "dataiter = iter(test_loader)\n",
    "# functions to show an image\n",
    "def imshow(img):\n",
    "    img = img      # unnormalize\n",
    "    npimg = img.numpy()\n",
    "    plt.imshow(np.transpose(npimg, (1, 2, 0)))\n",
    "    plt.show()\n",
    "    \n",
    "images, labels = dataiter.next()\n",
    "imshow(torchvision.utils.make_grid(images))\n",
    "print('GroundTruth: ', '        '.join('%5s' % classes[labels[j]] for j in range(BATCH_SIZE)))\n",
    "dimg=images.to(device)\n",
    "outputs=CNN(dimg)\n",
    "_, predicted = torch.max(outputs, 1)\n",
    "\n",
    "print('Predicted:   ', '        '.join('%5s' % classes[predicted[j]]\n",
    "                              for j in range(BATCH_SIZE)))"
   ]
  },
  {
   "cell_type": "code",
   "execution_count": 22,
   "metadata": {},
   "outputs": [
    {
     "name": "stdout",
     "output_type": "stream",
     "text": [
      "Accuracy of the network on the test images: 67 %\n"
     ]
    }
   ],
   "source": [
    "correct = 0\n",
    "total = 0\n",
    "with torch.no_grad():\n",
    "    for data in test_loader:\n",
    "        images, labels =  data[0].to(device), data[1].to(device)\n",
    "        outputs = CNN(images)\n",
    "        _, predicted = torch.max(outputs.data, 1)\n",
    "        total += labels.size(0)\n",
    "        correct += (predicted == labels).sum().item()\n",
    "\n",
    "print('Accuracy of the network on the test images: %d %%' % (\n",
    "    100 * correct / total))"
   ]
  },
  {
   "cell_type": "code",
   "execution_count": 31,
   "metadata": {},
   "outputs": [
    {
     "name": "stdout",
     "output_type": "stream",
     "text": [
      "Accuracy of 1_stack : 20 %\n",
      "Accuracy of 3_stack : 29 %\n",
      "Accuracy of 5_stack : 57 %\n",
      "Accuracy of  clap : 87 %\n",
      "Accuracy of guitar : 71 %\n",
      "Accuracy of   hat : 75 %\n",
      "Accuracy of hihat_closed : 74 %\n",
      "Accuracy of hihat_open : 48 %\n",
      "Accuracy of  kick : 91 %\n",
      "Accuracy of noise : 75 %\n",
      "Accuracy of piano : 90 %\n",
      "Accuracy of   rim : 96 %\n",
      "Accuracy of shake : 70 %\n",
      "Accuracy of snare : 89 %\n",
      "Accuracy of   tom : 25 %\n",
      "Accuracy of tom_high : 66 %\n",
      "Accuracy of tom_low : 56 %\n",
      "Accuracy of tom_mid : 75 %\n",
      "Accuracy of   voc : 73 %\n"
     ]
    }
   ],
   "source": [
    "class_correct = list(0. for i in range(19))\n",
    "class_total = list(0. for i in range(19))\n",
    "\n",
    "with torch.no_grad():\n",
    "    for data in test_loader:\n",
    "        images, labels =  data[0].to(device), data[1].to(device)\n",
    "        outputs = CNN(images)\n",
    "        _, predicted = torch.max(outputs, 1)\n",
    "        c = (predicted == labels).squeeze()\n",
    "        for i in range(BATCH_SIZE):\n",
    "            try:\n",
    "                label = labels[i]\n",
    "                class_correct[label] += c[i].item()\n",
    "                class_total[label] += 1\n",
    "            except:\n",
    "                continue\n",
    "\n",
    "for i in range(len(classes)):\n",
    "    print('Accuracy of %5s : %2d %%' % (\n",
    "        classes[i], 100 * class_correct[i] / class_total[i]))"
   ]
  },
  {
   "cell_type": "code",
   "execution_count": 90,
   "metadata": {},
   "outputs": [
    {
     "data": {
      "text/plain": [
       "<matplotlib.axes._subplots.AxesSubplot at 0x7f3778d278d0>"
      ]
     },
     "execution_count": 90,
     "metadata": {},
     "output_type": "execute_result"
    },
    {
     "data": {
      "image/png": "[encoded data removed]",
      "text/plain": [
       "<Figure size 576x576 with 2 Axes>"
      ]
     },
     "metadata": {
      "needs_background": "light"
     },
     "output_type": "display_data"
    }
   ],
   "source": [
    "##this an next block are for making a confusion matrix\n",
    "from sklearn.metrics import confusion_matrix\n",
    "import seaborn as sn\n",
    "import pandas as pd\n",
    "import matplotlib.pyplot as plt\n",
    "\n",
    "predictions=[]\n",
    "l=[]\n",
    "with torch.no_grad():\n",
    "    for data in test_loader:\n",
    "        images, labels =  data[0].to(device), data[1].to(device)\n",
    "        outputs = CNN(images)\n",
    "        _, predicted = torch.max(outputs, 1)\n",
    "        predictions.extend(predicted.cpu().numpy())\n",
    "        l.extend(labels.cpu().numpy())\n",
    "cm=confusion_matrix(l,predictions)\n",
    "\n",
    "df_cm = pd.DataFrame(cm*0.1, index = [i for i in classes],\n",
    "                  columns = [i for i in classes])\n",
    "plt.figure(figsize = (8,8))\n",
    "sn.heatmap(df_cm, annot=False)"
   ]
  }
 ],
 "metadata": {
  "kernelspec": {
   "display_name": "Python 3",
   "language": "python",
   "name": "python3"
  },
  "language_info": {
   "codemirror_mode": {
    "name": "ipython",
    "version": 3
   },
   "file_extension": ".py",
   "mimetype": "text/x-python",
   "name": "python",
   "nbconvert_exporter": "python",
   "pygments_lexer": "ipython3",
   "version": "3.6.3"
  }
 },
 "nbformat": 4,
 "nbformat_minor": 4
}
