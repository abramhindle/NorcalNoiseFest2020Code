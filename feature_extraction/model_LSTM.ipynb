{
 "cells": [
  {
   "cell_type": "code",
   "execution_count": 1,
   "metadata": {},
   "outputs": [],
   "source": [
    "# %reload_ext autoreload\n",
    "# %autoreload 1   \n",
    "import numpy as np\n",
    "import torch\n",
    "import torchvision\n",
    "import torchvision.transforms as transforms\n",
    "import torch.utils.data as data\n",
    "import torch.optim as optim\n",
    "import torch.nn as nn\n",
    "import torch.nn.functional as F\n",
    "from torch.autograd import Variable\n",
    "# import pytorch_models\n",
    "import imp\n",
    "# imp.reload(pytorch_models)\n",
    "# from pytorch_models import CNN_net\n",
    "\n",
    "import matplotlib.pyplot as plt\n",
    "import time\n",
    "\n",
    "device = torch.device(\"cuda\" if torch.cuda.is_available() else \"cpu\")\n",
    "\n",
    "seed = 42\n",
    "np.random.seed(seed)\n",
    "torch.manual_seed(seed)\n",
    "\n",
    "EPOCHS = 100\n",
    "BATCH_SIZE = 32\n",
    "LEARNING_RATE = 0.01"
   ]
  },
  {
   "cell_type": "code",
   "execution_count": 46,
   "metadata": {},
   "outputs": [
    {
     "name": "stdout",
     "output_type": "stream",
     "text": [
      "['clap', 'hat', 'kick', 'snare', 'stacks'] 5\n"
     ]
    }
   ],
   "source": [
    "TRAIN_DATA_PATH = \"./lstm_data/simple/train\"\n",
    "TEST_DATA_PATH = \"./lstm_data/simple/test\"\n",
    "\n",
    "TRANSFORM_IMG = transforms.Compose(\n",
    "    [transforms.Grayscale(num_output_channels=1),\n",
    "    transforms.ToTensor(), \n",
    "    transforms.Normalize((0.5, 0.5, 0.5), (0.5, 0.5, 0.5))])\n",
    "\n",
    "def get_loaders(bs=BATCH_SIZE):\n",
    "    train_data = torchvision.datasets.ImageFolder(root=TRAIN_DATA_PATH, transform=TRANSFORM_IMG)\n",
    "    train_loader = data.DataLoader(train_data, batch_size=bs,shuffle=True, num_workers=4)\n",
    "    test_data = torchvision.datasets.ImageFolder(root=TEST_DATA_PATH, transform=TRANSFORM_IMG)\n",
    "    test_loader  = data.DataLoader(test_data, batch_size=bs, shuffle=True, num_workers=4)\n",
    "    val_loader=test_loader\n",
    "    return train_loader,test_loader,train_data,test_data,val_loader\n",
    "\n",
    "train_loader,test_loader,train_data,test_data,val_loader = get_loaders()\n",
    "\n",
    "classes=list(train_data.class_to_idx.keys()) #get list of classes\n",
    "print(classes,len(classes))"
   ]
  },
  {
   "cell_type": "code",
   "execution_count": 119,
   "metadata": {},
   "outputs": [
    {
     "name": "stderr",
     "output_type": "stream",
     "text": [
      "Clipping input data to the valid range for imshow with RGB data ([0..1] for floats or [0..255] for integers).\n"
     ]
    },
    {
     "data": {
      "image/png": "[encoded data removed]",
      "text/plain": [
       "<Figure size 432x288 with 1 Axes>"
      ]
     },
     "metadata": {
      "needs_background": "light"
     },
     "output_type": "display_data"
    },
    {
     "name": "stdout",
     "output_type": "stream",
     "text": [
      "GroundTruth:  clap    clap    clap    clap\n"
     ]
    }
   ],
   "source": [
    "show_size=4\n",
    "DUMMY_DATA_PATH = \"./lstm_data/fake/test/clap/\"\n",
    "dum_t = transforms.Compose(\n",
    "    [transforms.Grayscale(num_output_channels=1),\n",
    "    transforms.ToTensor(), \n",
    "    transforms.Normalize((0.5, 0.5, 0.5), (0.5, 0.5, 0.5))\n",
    "    ])\n",
    "\n",
    "dummy_data = torchvision.datasets.ImageFolder(root=DUMMY_DATA_PATH, transform=dum_t)\n",
    "dummy_loader  = data.DataLoader(dummy_data, batch_size=4, num_workers=4)\n",
    "\n",
    "dataiter = iter(dummy_loader)\n",
    "# functions to show an image\n",
    "def imshow(img):\n",
    "    img = img      # unnormalize\n",
    "    npimg = img.numpy()\n",
    "    plt.imshow(np.transpose(npimg, (1, 2, 0)))\n",
    "    plt.show()\n",
    "    \n",
    "images, labels = dataiter.next()\n",
    "images, labels =images[0:show_size], labels[0:show_size] \n",
    "imshow(torchvision.utils.make_grid(images))\n",
    "print('GroundTruth: ', '    '.join('%2s' % classes[labels[j]] for j in range(show_size)))"
   ]
  },
  {
   "cell_type": "code",
   "execution_count": 121,
   "metadata": {},
   "outputs": [
    {
     "name": "stderr",
     "output_type": "stream",
     "text": [
      "Clipping input data to the valid range for imshow with RGB data ([0..1] for floats or [0..255] for integers).\n"
     ]
    },
    {
     "name": "stdout",
     "output_type": "stream",
     "text": [
      "tensor([[[ 0.7804,  0.7569,  0.7412,  ..., -1.0000, -1.0000, -1.0000],\n",
      "         [ 0.6941,  0.7098,  0.6941,  ..., -1.0000, -1.0000, -1.0000],\n",
      "         [ 0.7412,  0.7882,  0.7804,  ..., -1.0000, -1.0000, -1.0000],\n",
      "         ...,\n",
      "         [-0.0510, -0.0745, -0.1451,  ..., -1.0000, -1.0000, -1.0000],\n",
      "         [-0.2314, -0.2549, -0.1529,  ..., -1.0000, -1.0000, -1.0000],\n",
      "         [-0.3490, -0.3255, -0.2157,  ..., -1.0000, -1.0000, -1.0000]]])\n"
     ]
    },
    {
     "data": {
      "image/png": "[encoded data removed]",
      "text/plain": [
       "<Figure size 432x288 with 1 Axes>"
      ]
     },
     "metadata": {
      "needs_background": "light"
     },
     "output_type": "display_data"
    }
   ],
   "source": [
    "print(images[1])\n",
    "imshow(torchvision.utils.make_grid(images[1]))"
   ]
  },
  {
   "cell_type": "code",
   "execution_count": 4,
   "metadata": {},
   "outputs": [],
   "source": [
    "#io calculator\n",
    "def outputSize(in_size, kernel_size, stride, padding):\n",
    "    output = int((in_size - kernel_size + 2*(padding)) / stride) + 1\n",
    "    print(output)\n",
    "    return(output)\n",
    "#get all targets\n"
   ]
  },
  {
   "cell_type": "code",
   "execution_count": 5,
   "metadata": {},
   "outputs": [
    {
     "name": "stdout",
     "output_type": "stream",
     "text": [
      "here are the weights to account for class sizes\n",
      "{'clap': 2.7027028, 'hat': 0.58377117, 'kick': 0.9910803, 'snare': 0.80775446, 'stacks': 0.2247191}\n",
      "tensor([0.0027, 0.0006, 0.0010, 0.0008, 0.0002])\n"
     ]
    }
   ],
   "source": [
    "# let's get the weight of the samples incase we want to make a weighted\n",
    "# sampler to deal with data imbalance\n",
    "# # expensive to compute so commented\n",
    "targets=[]\n",
    "for batch_idx, (d, l) in enumerate(train_loader):\n",
    "    targets.extend(list(l.numpy()))\n",
    "# Compute samples weight (each sample should get its own weight)\n",
    "target=torch.tensor(targets)\n",
    "class_sample_count = torch.tensor(\n",
    "    [(target == t).sum() for t in torch.unique(target, sorted=True)])\n",
    "weight = 1. / class_sample_count.float()\n",
    "samples_weight = torch.tensor([weight[t] for t in target])\n",
    "print(\"here are the weights to account for class sizes\")\n",
    "print(dict(zip(classes,list(weight.numpy()*1000))))\n",
    "print(weight)"
   ]
  },
  {
   "cell_type": "code",
   "execution_count": 6,
   "metadata": {},
   "outputs": [],
   "source": [
    "class LSTM1(nn.Module):\n",
    "    def __init__(self, input_dim,hidden_dim, n_layers,output_size, drop_prob=0.1):\n",
    "        super(LSTM1, self).__init__()\n",
    "        self.output_size = output_size\n",
    "        self.n_layers = n_layers\n",
    "        self.hidden_dim = hidden_dim\n",
    "        self.lstm = nn.LSTM(input_dim, hidden_dim, n_layers, dropout=drop_prob, batch_first=True)\n",
    "#         self.dropout = nn.Dropout(drop_prob)\n",
    "        self.fc = nn.Linear(hidden_dim, output_size)\n",
    "#         self.sigmoid = nn.Sigmoid()\n",
    "        \n",
    "    def forward(self, x, hidden,grad=True):\n",
    "        if grad:\n",
    "            x=x.view(-1, seq_dim, input_dim).requires_grad_()\n",
    "        else:\n",
    "            x=x.view(-1, seq_dim, input_dim)\n",
    "        out, hidden = self.lstm(x, hidden)\n",
    "#         lstm_out = lstm_out.contiguous().view(-1, self.hidden_dim)\n",
    "#         out = self.dropout(lstm_out)\n",
    "        out = self.fc(out[:, -1, :])\n",
    "        return out, hidden\n",
    "    \n",
    "    def init_hidden(self, batch_size):\n",
    "        weight = next(self.parameters()).data\n",
    "        hidden = (weight.new(self.n_layers, batch_size, self.hidden_dim).zero_().to(device),\n",
    "                      weight.new(self.n_layers, batch_size, self.hidden_dim).zero_().to(device))\n",
    "        return hidden"
   ]
  },
  {
   "cell_type": "code",
   "execution_count": 9,
   "metadata": {
    "scrolled": true
   },
   "outputs": [
    {
     "name": "stdout",
     "output_type": "stream",
     "text": [
      "Epoch: 2/20... Step: 200... Loss: 0.762102... Val Loss: 0.348022\n",
      "Validation loss decreased (0.350000 --> 0.348022).  Saving model ...\n",
      "Epoch: 3/20... Step: 400... Loss: 0.283778... Val Loss: 0.351449\n",
      "Epoch: 5/20... Step: 600... Loss: 0.432449... Val Loss: 0.346954\n",
      "Validation loss decreased (0.348022 --> 0.346954).  Saving model ...\n",
      "Epoch: 6/20... Step: 800... Loss: 0.547686... Val Loss: 0.357651\n",
      "Epoch: 8/20... Step: 1000... Loss: 0.294571... Val Loss: 0.360442\n",
      "Epoch: 9/20... Step: 1200... Loss: 0.422055... Val Loss: 0.353146\n",
      "Epoch: 11/20... Step: 1400... Loss: 0.344435... Val Loss: 0.352186\n",
      "Epoch: 12/20... Step: 1600... Loss: 0.483725... Val Loss: 0.347867\n",
      "Epoch: 14/20... Step: 1800... Loss: 0.341642... Val Loss: 0.347194\n",
      "Epoch: 15/20... Step: 2000... Loss: 0.207514... Val Loss: 0.352450\n",
      "Epoch: 16/20... Step: 2200... Loss: 0.711882... Val Loss: 0.351567\n",
      "Epoch: 18/20... Step: 2400... Loss: 0.282546... Val Loss: 0.354808\n",
      "Epoch: 19/20... Step: 2600... Loss: 0.326300... Val Loss: 0.345556\n",
      "Validation loss decreased (0.346954 --> 0.345556).  Saving model ...\n"
     ]
    }
   ],
   "source": [
    "##LSTM1####\n",
    "import torch.utils.data as data\n",
    "batch_size=64\n",
    "train_loader,test_loader,train_data,test_data,val_loader=get_loaders(bs=batch_size)\n",
    "input_dim = 120\n",
    "seq_dim=100\n",
    "output_size = weight.size()[0]\n",
    "hidden_dim = 1000\n",
    "n_layers = 1\n",
    "\n",
    "\n",
    "# model = LSTM1(input_dim, hidden_dim, n_layers,output_size,)\n",
    "\n",
    "model.to(device)\n",
    "\n",
    "criterion = nn.CrossEntropyLoss(weight=weight.to(device))\n",
    "# criterion = nn.CrossEntropyLoss()\n",
    "\n",
    "learning_rate = 0.001\n",
    "\n",
    "optimizer = torch.optim.Adadelta(model.parameters(), lr=learning_rate)  \n",
    "\n",
    "epochs = 40\n",
    "counter = 0\n",
    "print_every = 200\n",
    "clip = 5\n",
    "valid_loss_min = 0.35\n",
    "# model.train()\n",
    "# try:\n",
    "#     state='./models/lstm/state_dict%d-%d-%d.pt'%(n_layers,hidden_dim,243)\n",
    "#     model.load_state_dict(torch.load(state))\n",
    "# except:\n",
    "#     print(state,\"state cannot be loaded\")\n",
    "for i in range(epochs):\n",
    "    for inputs, labels in train_loader:\n",
    "        counter += 1\n",
    "        h = model.init_hidden(inputs.size()[0])\n",
    "        h = tuple([e.data for e in h])\n",
    "        inputs, labels = inputs.to(device), labels.to(device)\n",
    "        model.zero_grad()\n",
    "        output, h = model(inputs, h)\n",
    "        # Get predictions from the maximum value\n",
    "        _, predicted = torch.max(output.data, 1)\n",
    "\n",
    "        loss = criterion(output, labels)\n",
    "        loss.backward()\n",
    "        nn.utils.clip_grad_norm_(model.parameters(), clip)\n",
    "        optimizer.step()\n",
    "        \n",
    "        if counter%print_every == 0:\n",
    "#             print(predicted,labels)\n",
    "            val_losses = []\n",
    "            model.eval()\n",
    "            for inp, lab in val_loader:\n",
    "                val_h = model.init_hidden(inp.size()[0])\n",
    "                val_h = tuple([each.data for each in val_h])\n",
    "                inp, lab = inp.to(device), lab.to(device)\n",
    "                out, val_h = model(inp, val_h)\n",
    "                val_loss = criterion(out.squeeze(), lab)\n",
    "                val_losses.append(val_loss.item())\n",
    "                \n",
    "            model.train()\n",
    "            print(\"Epoch: {}/{}...\".format(i+1, epochs),\n",
    "                  \"Step: {}...\".format(counter),\n",
    "                  \"Loss: {:.6f}...\".format(loss.item()),\n",
    "                  \"Val Loss: {:.6f}\".format(np.mean(val_losses)))\n",
    "            if np.mean(val_losses) <= valid_loss_min:\n",
    "                torch.save(model.state_dict(),'./models/lstm/state_dict%d-%d-%d.pt'%(n_layers,hidden_dim,1000*np.mean(val_losses)))\n",
    "                print('Validation loss decreased ({:.6f} --> {:.6f}).  Saving model ...'.format(valid_loss_min,np.mean(val_losses)))\n",
    "                valid_loss_min = np.mean(val_losses)\n"
   ]
  },
  {
   "cell_type": "code",
   "execution_count": 13,
   "metadata": {},
   "outputs": [
    {
     "name": "stderr",
     "output_type": "stream",
     "text": [
      "Clipping input data to the valid range for imshow with RGB data ([0..1] for floats or [0..255] for integers).\n"
     ]
    },
    {
     "data": {
      "image/png": "[encoded data removed]",
      "text/plain": [
       "<Figure size 432x288 with 1 Axes>"
      ]
     },
     "metadata": {
      "needs_background": "light"
     },
     "output_type": "display_data"
    },
    {
     "name": "stdout",
     "output_type": "stream",
     "text": [
      "GroundTruth:  stacks         kick        stacks        stacks\n",
      "Predicted:    stacks         kick        stacks        stacks\n"
     ]
    }
   ],
   "source": [
    "import torch.utils.data as data\n",
    "test_size=4\n",
    "testing_data = torchvision.datasets.ImageFolder(root=TEST_DATA_PATH, transform=TRANSFORM_IMG)\n",
    "testing_loader  = data.DataLoader(testing_data, batch_size=test_size, shuffle=True, num_workers=4)\n",
    "mod= LSTM1(input_dim, hidden_dim, n_layers,output_size)\n",
    "state_path='./models/lstm/state_dict%d-%d-%d.pt'%(n_layers,hidden_dim,345)\n",
    "mod.load_state_dict(torch.load(state_path))\n",
    "h = mod.init_hidden(test_size)\n",
    "mod.to(device)\n",
    "\n",
    "dataiter = iter(testing_loader)\n",
    "# functions to show an image\n",
    "def imshow(img):\n",
    "    img = img      # unnormalize\n",
    "    npimg = img.numpy()\n",
    "    plt.imshow(np.transpose(npimg, (1, 2, 0)))\n",
    "    plt.show()\n",
    "\n",
    "images, labels = dataiter.next()\n",
    "\n",
    "imshow(torchvision.utils.make_grid(images))\n",
    "print('GroundTruth: ', '        '.join('%5s' % classes[labels[j]] for j in range(test_size)))\n",
    "\n",
    "inputs, labels = images.to(device), labels.to(device)\n",
    "output, h = mod(inputs, h)\n",
    "_, predicted = torch.max(output.data, 1)\n",
    "print('Predicted:   ', '        '.join('%5s' % classes[predicted[j]]\n",
    "                              for j in range(test_size)))"
   ]
  },
  {
   "cell_type": "code",
   "execution_count": 14,
   "metadata": {},
   "outputs": [
    {
     "name": "stdout",
     "output_type": "stream",
     "text": [
      "Accuracy of the network on the test images: 90 %\n",
      "Accuracy of  clap : 80 %\n",
      "Accuracy of   hat : 79 %\n",
      "Accuracy of  kick : 86 %\n",
      "Accuracy of snare : 82 %\n",
      "Accuracy of stacks : 98 %\n"
     ]
    }
   ],
   "source": [
    "correct = 0\n",
    "total = 0\n",
    "with torch.no_grad():\n",
    "    for d in test_loader:\n",
    "        images, labels =  d[0].to(device), d[1].to(device)\n",
    "        h = model.init_hidden(images.size()[0])\n",
    "        outputs,h = mod(images,h)\n",
    "        _, predicted = torch.max(outputs.data, 1)\n",
    "        total += labels.size(0)\n",
    "        correct += (predicted == labels).sum().item()\n",
    "\n",
    "print('Accuracy of the network on the test images: %d %%' % (\n",
    "    100 * correct / total))\n",
    "class_correct = list(0. for i in range(19))\n",
    "class_total = list(0. for i in range(19))\n",
    "\n",
    "with torch.no_grad():\n",
    "    for data in test_loader:\n",
    "        images, labels =  data[0].to(device), data[1].to(device)\n",
    "        h = model.init_hidden(images.size()[0])\n",
    "        outputs,h = mod(images,h)\n",
    "        _, predicted = torch.max(outputs, 1)\n",
    "        c = (predicted == labels).squeeze()\n",
    "        for i in range(BATCH_SIZE):\n",
    "            try:\n",
    "                label = labels[i]\n",
    "                class_correct[label] += c[i].item()\n",
    "                class_total[label] += 1\n",
    "            except:\n",
    "                continue\n",
    "\n",
    "for i in range(len(classes)):\n",
    "    print('Accuracy of %5s : %2d %%' % (\n",
    "        classes[i], 100 * class_correct[i] / class_total[i]))"
   ]
  },
  {
   "cell_type": "code",
   "execution_count": 15,
   "metadata": {},
   "outputs": [
    {
     "data": {
      "text/plain": [
       "(5.0, 0.0)"
      ]
     },
     "execution_count": 15,
     "metadata": {},
     "output_type": "execute_result"
    },
    {
     "data": {
      "image/png": "[encoded data removed]",
      "text/plain": [
       "<Figure size 864x864 with 2 Axes>"
      ]
     },
     "metadata": {
      "needs_background": "light"
     },
     "output_type": "display_data"
    }
   ],
   "source": [
    "## making a confusion matrix\n",
    "from sklearn.metrics import confusion_matrix\n",
    "import seaborn as sn\n",
    "import pandas as pd\n",
    "import matplotlib.pyplot as plt\n",
    "\n",
    "predictions=[]\n",
    "l=[]\n",
    "with torch.no_grad():\n",
    "    for data in test_loader:\n",
    "        images, labels =  data[0].to(device), data[1].to(device)\n",
    "        h = mod.init_hidden(images.size()[0])\n",
    "        outputs,h = mod(images,h)\n",
    "        _, predicted = torch.max(outputs, 1)\n",
    "        predictions.extend(predicted.cpu().numpy())\n",
    "        l.extend(labels.cpu().numpy())\n",
    "cm=confusion_matrix(l,predictions)\n",
    "\n",
    "# normalize confusion matrix per class\n",
    "for i,c in enumerate(cm):\n",
    "    cm[i]=c/sum(c)*100\n",
    "\n",
    "\n",
    "df_cm = pd.DataFrame(cm, index = [i for i in classes],\n",
    "                  columns = [i for i in classes])\n",
    "plt.figure(figsize = (12,12))\n",
    "sn.heatmap(df_cm, annot=True)\n",
    "# fix for mpl bug that cuts off top/bottom of seaborn viz\n",
    "b, t = plt.ylim() # discover the values for bottom and top\n",
    "b += 0.5 # Add 0.5 to the bottom\n",
    "t -= 0.5 # Subtract 0.5 from the top\n",
    "plt.ylim(b, t) # update the ylim(bottom, top) values"
   ]
  }
 ],
 "metadata": {
  "kernelspec": {
   "display_name": "Python 3",
   "language": "python",
   "name": "python3"
  },
  "language_info": {
   "codemirror_mode": {
    "name": "ipython",
    "version": 3
   },
   "file_extension": ".py",
   "mimetype": "text/x-python",
   "name": "python",
   "nbconvert_exporter": "python",
   "pygments_lexer": "ipython3",
   "version": "3.7.5"
  }
 },
 "nbformat": 4,
 "nbformat_minor": 4
}
