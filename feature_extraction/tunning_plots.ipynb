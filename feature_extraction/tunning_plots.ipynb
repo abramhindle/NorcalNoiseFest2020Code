{
 "cells": [
  {
   "cell_type": "code",
   "execution_count": 61,
   "metadata": {},
   "outputs": [
    {
     "name": "stderr",
     "output_type": "stream",
     "text": [
      "[I 2020-07-17 00:53:49,528] Using an existing study with name 'Study_FullyConnected' instead of creating a new one.\n"
     ]
    }
   ],
   "source": [
    "from kaleido.scopes.plotly import PlotlyScope\n",
    "import optuna\n",
    "import plotly\n",
    "import plotly.express as px\n",
    "import pandas as pd\n",
    "study = optuna.create_study(study_name='Study_FullyConnected', storage='sqlite:///optuna_studies.db', load_if_exists=True)"
   ]
  },
  {
   "cell_type": "code",
   "execution_count": 64,
   "metadata": {},
   "outputs": [
    {
     "data": {
      "application/vnd.plotly.v1+json": {
       "config": {
        "plotlyServerURL": "https://plot.ly"
       },
       "data": [
        {
         "dimensions": [
          {
           "label": "Objective Value",
           "range": [
            0.0021009164136294133,
            0.01620466657736488
           ],
           "values": [
            0.01620466657736488,
            0.0036662183613125378,
            0.002763257633880463,
            0.0028107172759775896,
            0.0021009164136294133
           ]
          },
          {
           "label": "Dropout Rate",
           "range": [
            0,
            0.4
           ],
           "values": [
            0,
            0,
            0.2,
            0.4,
            0.2
           ]
          },
          {
           "label": "Frequency Bins",
           "range": [
            10,
            60
           ],
           "values": [
            10,
            30,
            60,
            60,
            30
           ]
          },
          {
           "label": "Hidden Layers",
           "range": [
            1,
            2
           ],
           "values": [
            2,
            1,
            2,
            1,
            2
           ]
          },
          {
           "label": "L2 Regularization",
           "range": [
            3.4900375675332518e-06,
            0.005806310047937658
           ],
           "values": [
            0.005433180295187214,
            0.000520822154431747,
            0.005806310047937658,
            9.841104278154575e-06,
            3.4900375675332518e-06
           ]
          },
          {
           "label": "Latent Size",
           "range": [
            4,
            64
           ],
           "values": [
            64,
            4,
            16,
            16,
            64
           ]
          },
          {
           "label": "Learning Rate",
           "range": [
            0.0026340707805810894,
            0.07871170588400389
           ],
           "values": [
            0.07871170588400389,
            0.0026340707805810894,
            0.05006742038651823,
            0.023478118951493755,
            0.013662033408600179
           ]
          },
          {
           "label": "Optimizer",
           "range": [
            0,
            1
           ],
           "ticktext": [
            [
             "Adam",
             0
            ],
            [
             "SGD",
             1
            ]
           ],
           "tickvals": [
            0,
            1
           ],
           "values": [
            0,
            0,
            0,
            1,
            0
           ]
          },
          {
           "label": "Time Steps",
           "range": [
            5,
            20
           ],
           "values": [
            5,
            20,
            20,
            20,
            20
           ]
          }
         ],
         "labelangle": 30,
         "labelside": "bottom",
         "line": {
          "color": [
           0.01620466657736488,
           0.0036662183613125378,
           0.002763257633880463,
           0.0028107172759775896,
           0.0021009164136294133
          ],
          "colorbar": {
           "title": {
            "text": "Objective Value"
           }
          },
          "colorscale": [
           [
            0,
            "rgb(247,251,255)"
           ],
           [
            0.125,
            "rgb(222,235,247)"
           ],
           [
            0.25,
            "rgb(198,219,239)"
           ],
           [
            0.375,
            "rgb(158,202,225)"
           ],
           [
            0.5,
            "rgb(107,174,214)"
           ],
           [
            0.625,
            "rgb(66,146,198)"
           ],
           [
            0.75,
            "rgb(33,113,181)"
           ],
           [
            0.875,
            "rgb(8,81,156)"
           ],
           [
            1,
            "rgb(8,48,107)"
           ]
          ],
          "reversescale": true,
          "showscale": true
         },
         "type": "parcoords"
        }
       ],
       "layout": {
        "autosize": true,
        "template": {
         "data": {
          "bar": [
           {
            "error_x": {
             "color": "#2a3f5f"
            },
            "error_y": {
             "color": "#2a3f5f"
            },
            "marker": {
             "line": {
              "color": "#E5ECF6",
              "width": 0.5
             }
            },
            "type": "bar"
           }
          ],
          "barpolar": [
           {
            "marker": {
             "line": {
              "color": "#E5ECF6",
              "width": 0.5
             }
            },
            "type": "barpolar"
           }
          ],
          "carpet": [
           {
            "aaxis": {
             "endlinecolor": "#2a3f5f",
             "gridcolor": "white",
             "linecolor": "white",
             "minorgridcolor": "white",
             "startlinecolor": "#2a3f5f"
            },
            "baxis": {
             "endlinecolor": "#2a3f5f",
             "gridcolor": "white",
             "linecolor": "white",
             "minorgridcolor": "white",
             "startlinecolor": "#2a3f5f"
            },
            "type": "carpet"
           }
          ],
          "choropleth": [
           {
            "colorbar": {
             "outlinewidth": 0,
             "ticks": ""
            },
            "type": "choropleth"
           }
          ],
          "contour": [
           {
            "colorbar": {
             "outlinewidth": 0,
             "ticks": ""
            },
            "colorscale": [
             [
              0,
              "#0d0887"
             ],
             [
              0.1111111111111111,
              "#46039f"
             ],
             [
              0.2222222222222222,
              "#7201a8"
             ],
             [
              0.3333333333333333,
              "#9c179e"
             ],
             [
              0.4444444444444444,
              "#bd3786"
             ],
             [
              0.5555555555555556,
              "#d8576b"
             ],
             [
              0.6666666666666666,
              "#ed7953"
             ],
             [
              0.7777777777777778,
              "#fb9f3a"
             ],
             [
              0.8888888888888888,
              "#fdca26"
             ],
             [
              1,
              "#f0f921"
             ]
            ],
            "type": "contour"
           }
          ],
          "contourcarpet": [
           {
            "colorbar": {
             "outlinewidth": 0,
             "ticks": ""
            },
            "type": "contourcarpet"
           }
          ],
          "heatmap": [
           {
            "colorbar": {
             "outlinewidth": 0,
             "ticks": ""
            },
            "colorscale": [
             [
              0,
              "#0d0887"
             ],
             [
              0.1111111111111111,
              "#46039f"
             ],
             [
              0.2222222222222222,
              "#7201a8"
             ],
             [
              0.3333333333333333,
              "#9c179e"
             ],
             [
              0.4444444444444444,
              "#bd3786"
             ],
             [
              0.5555555555555556,
              "#d8576b"
             ],
             [
              0.6666666666666666,
              "#ed7953"
             ],
             [
              0.7777777777777778,
              "#fb9f3a"
             ],
             [
              0.8888888888888888,
              "#fdca26"
             ],
             [
              1,
              "#f0f921"
             ]
            ],
            "type": "heatmap"
           }
          ],
          "heatmapgl": [
           {
            "colorbar": {
             "outlinewidth": 0,
             "ticks": ""
            },
            "colorscale": [
             [
              0,
              "#0d0887"
             ],
             [
              0.1111111111111111,
              "#46039f"
             ],
             [
              0.2222222222222222,
              "#7201a8"
             ],
             [
              0.3333333333333333,
              "#9c179e"
             ],
             [
              0.4444444444444444,
              "#bd3786"
             ],
             [
              0.5555555555555556,
              "#d8576b"
             ],
             [
              0.6666666666666666,
              "#ed7953"
             ],
             [
              0.7777777777777778,
              "#fb9f3a"
             ],
             [
              0.8888888888888888,
              "#fdca26"
             ],
             [
              1,
              "#f0f921"
             ]
            ],
            "type": "heatmapgl"
           }
          ],
          "histogram": [
           {
            "marker": {
             "colorbar": {
              "outlinewidth": 0,
              "ticks": ""
             }
            },
            "type": "histogram"
           }
          ],
          "histogram2d": [
           {
            "colorbar": {
             "outlinewidth": 0,
             "ticks": ""
            },
            "colorscale": [
             [
              0,
              "#0d0887"
             ],
             [
              0.1111111111111111,
              "#46039f"
             ],
             [
              0.2222222222222222,
              "#7201a8"
             ],
             [
              0.3333333333333333,
              "#9c179e"
             ],
             [
              0.4444444444444444,
              "#bd3786"
             ],
             [
              0.5555555555555556,
              "#d8576b"
             ],
             [
              0.6666666666666666,
              "#ed7953"
             ],
             [
              0.7777777777777778,
              "#fb9f3a"
             ],
             [
              0.8888888888888888,
              "#fdca26"
             ],
             [
              1,
              "#f0f921"
             ]
            ],
            "type": "histogram2d"
           }
          ],
          "histogram2dcontour": [
           {
            "colorbar": {
             "outlinewidth": 0,
             "ticks": ""
            },
            "colorscale": [
             [
              0,
              "#0d0887"
             ],
             [
              0.1111111111111111,
              "#46039f"
             ],
             [
              0.2222222222222222,
              "#7201a8"
             ],
             [
              0.3333333333333333,
              "#9c179e"
             ],
             [
              0.4444444444444444,
              "#bd3786"
             ],
             [
              0.5555555555555556,
              "#d8576b"
             ],
             [
              0.6666666666666666,
              "#ed7953"
             ],
             [
              0.7777777777777778,
              "#fb9f3a"
             ],
             [
              0.8888888888888888,
              "#fdca26"
             ],
             [
              1,
              "#f0f921"
             ]
            ],
            "type": "histogram2dcontour"
           }
          ],
          "mesh3d": [
           {
            "colorbar": {
             "outlinewidth": 0,
             "ticks": ""
            },
            "type": "mesh3d"
           }
          ],
          "parcoords": [
           {
            "line": {
             "colorbar": {
              "outlinewidth": 0,
              "ticks": ""
             }
            },
            "type": "parcoords"
           }
          ],
          "pie": [
           {
            "automargin": true,
            "type": "pie"
           }
          ],
          "scatter": [
           {
            "marker": {
             "colorbar": {
              "outlinewidth": 0,
              "ticks": ""
             }
            },
            "type": "scatter"
           }
          ],
          "scatter3d": [
           {
            "line": {
             "colorbar": {
              "outlinewidth": 0,
              "ticks": ""
             }
            },
            "marker": {
             "colorbar": {
              "outlinewidth": 0,
              "ticks": ""
             }
            },
            "type": "scatter3d"
           }
          ],
          "scattercarpet": [
           {
            "marker": {
             "colorbar": {
              "outlinewidth": 0,
              "ticks": ""
             }
            },
            "type": "scattercarpet"
           }
          ],
          "scattergeo": [
           {
            "marker": {
             "colorbar": {
              "outlinewidth": 0,
              "ticks": ""
             }
            },
            "type": "scattergeo"
           }
          ],
          "scattergl": [
           {
            "marker": {
             "colorbar": {
              "outlinewidth": 0,
              "ticks": ""
             }
            },
            "type": "scattergl"
           }
          ],
          "scattermapbox": [
           {
            "marker": {
             "colorbar": {
              "outlinewidth": 0,
              "ticks": ""
             }
            },
            "type": "scattermapbox"
           }
          ],
          "scatterpolar": [
           {
            "marker": {
             "colorbar": {
              "outlinewidth": 0,
              "ticks": ""
             }
            },
            "type": "scatterpolar"
           }
          ],
          "scatterpolargl": [
           {
            "marker": {
             "colorbar": {
              "outlinewidth": 0,
              "ticks": ""
             }
            },
            "type": "scatterpolargl"
           }
          ],
          "scatterternary": [
           {
            "marker": {
             "colorbar": {
              "outlinewidth": 0,
              "ticks": ""
             }
            },
            "type": "scatterternary"
           }
          ],
          "surface": [
           {
            "colorbar": {
             "outlinewidth": 0,
             "ticks": ""
            },
            "colorscale": [
             [
              0,
              "#0d0887"
             ],
             [
              0.1111111111111111,
              "#46039f"
             ],
             [
              0.2222222222222222,
              "#7201a8"
             ],
             [
              0.3333333333333333,
              "#9c179e"
             ],
             [
              0.4444444444444444,
              "#bd3786"
             ],
             [
              0.5555555555555556,
              "#d8576b"
             ],
             [
              0.6666666666666666,
              "#ed7953"
             ],
             [
              0.7777777777777778,
              "#fb9f3a"
             ],
             [
              0.8888888888888888,
              "#fdca26"
             ],
             [
              1,
              "#f0f921"
             ]
            ],
            "type": "surface"
           }
          ],
          "table": [
           {
            "cells": {
             "fill": {
              "color": "#EBF0F8"
             },
             "line": {
              "color": "white"
             }
            },
            "header": {
             "fill": {
              "color": "#C8D4E3"
             },
             "line": {
              "color": "white"
             }
            },
            "type": "table"
           }
          ]
         },
         "layout": {
          "annotationdefaults": {
           "arrowcolor": "#2a3f5f",
           "arrowhead": 0,
           "arrowwidth": 1
          },
          "coloraxis": {
           "colorbar": {
            "outlinewidth": 0,
            "ticks": ""
           }
          },
          "colorscale": {
           "diverging": [
            [
             0,
             "#8e0152"
            ],
            [
             0.1,
             "#c51b7d"
            ],
            [
             0.2,
             "#de77ae"
            ],
            [
             0.3,
             "#f1b6da"
            ],
            [
             0.4,
             "#fde0ef"
            ],
            [
             0.5,
             "#f7f7f7"
            ],
            [
             0.6,
             "#e6f5d0"
            ],
            [
             0.7,
             "#b8e186"
            ],
            [
             0.8,
             "#7fbc41"
            ],
            [
             0.9,
             "#4d9221"
            ],
            [
             1,
             "#276419"
            ]
           ],
           "sequential": [
            [
             0,
             "#0d0887"
            ],
            [
             0.1111111111111111,
             "#46039f"
            ],
            [
             0.2222222222222222,
             "#7201a8"
            ],
            [
             0.3333333333333333,
             "#9c179e"
            ],
            [
             0.4444444444444444,
             "#bd3786"
            ],
            [
             0.5555555555555556,
             "#d8576b"
            ],
            [
             0.6666666666666666,
             "#ed7953"
            ],
            [
             0.7777777777777778,
             "#fb9f3a"
            ],
            [
             0.8888888888888888,
             "#fdca26"
            ],
            [
             1,
             "#f0f921"
            ]
           ],
           "sequentialminus": [
            [
             0,
             "#0d0887"
            ],
            [
             0.1111111111111111,
             "#46039f"
            ],
            [
             0.2222222222222222,
             "#7201a8"
            ],
            [
             0.3333333333333333,
             "#9c179e"
            ],
            [
             0.4444444444444444,
             "#bd3786"
            ],
            [
             0.5555555555555556,
             "#d8576b"
            ],
            [
             0.6666666666666666,
             "#ed7953"
            ],
            [
             0.7777777777777778,
             "#fb9f3a"
            ],
            [
             0.8888888888888888,
             "#fdca26"
            ],
            [
             1,
             "#f0f921"
            ]
           ]
          },
          "colorway": [
           "#636efa",
           "#EF553B",
           "#00cc96",
           "#ab63fa",
           "#FFA15A",
           "#19d3f3",
           "#FF6692",
           "#B6E880",
           "#FF97FF",
           "#FECB52"
          ],
          "font": {
           "color": "#2a3f5f"
          },
          "geo": {
           "bgcolor": "white",
           "lakecolor": "white",
           "landcolor": "#E5ECF6",
           "showlakes": true,
           "showland": true,
           "subunitcolor": "white"
          },
          "hoverlabel": {
           "align": "left"
          },
          "hovermode": "closest",
          "mapbox": {
           "style": "light"
          },
          "paper_bgcolor": "white",
          "plot_bgcolor": "#E5ECF6",
          "polar": {
           "angularaxis": {
            "gridcolor": "white",
            "linecolor": "white",
            "ticks": ""
           },
           "bgcolor": "#E5ECF6",
           "radialaxis": {
            "gridcolor": "white",
            "linecolor": "white",
            "ticks": ""
           }
          },
          "scene": {
           "xaxis": {
            "backgroundcolor": "#E5ECF6",
            "gridcolor": "white",
            "gridwidth": 2,
            "linecolor": "white",
            "showbackground": true,
            "ticks": "",
            "zerolinecolor": "white"
           },
           "yaxis": {
            "backgroundcolor": "#E5ECF6",
            "gridcolor": "white",
            "gridwidth": 2,
            "linecolor": "white",
            "showbackground": true,
            "ticks": "",
            "zerolinecolor": "white"
           },
           "zaxis": {
            "backgroundcolor": "#E5ECF6",
            "gridcolor": "white",
            "gridwidth": 2,
            "linecolor": "white",
            "showbackground": true,
            "ticks": "",
            "zerolinecolor": "white"
           }
          },
          "shapedefaults": {
           "line": {
            "color": "#2a3f5f"
           }
          },
          "ternary": {
           "aaxis": {
            "gridcolor": "white",
            "linecolor": "white",
            "ticks": ""
           },
           "baxis": {
            "gridcolor": "white",
            "linecolor": "white",
            "ticks": ""
           },
           "bgcolor": "#E5ECF6",
           "caxis": {
            "gridcolor": "white",
            "linecolor": "white",
            "ticks": ""
           }
          },
          "title": {
           "x": 0.05
          },
          "xaxis": {
           "automargin": true,
           "gridcolor": "white",
           "linecolor": "white",
           "ticks": "",
           "title": {
            "standoff": 15
           },
           "zerolinecolor": "white",
           "zerolinewidth": 2
          },
          "yaxis": {
           "automargin": true,
           "gridcolor": "white",
           "linecolor": "white",
           "ticks": "",
           "title": {
            "standoff": 15
           },
           "zerolinecolor": "white",
           "zerolinewidth": 2
          }
         }
        },
        "title": {
         "text": "Parallel Coordinate Plot"
        }
       }
      },
      "image/png": "[encoded data removed]",
      "text/html": [
       "<div>\n",
       "        \n",
       "        \n",
       "            <div id=\"8deffcb2-56cc-47cf-84e2-9a52a5fe2751\" class=\"plotly-graph-div\" style=\"height:525px; width:100%;\"></div>\n",
       "            <script type=\"text/javascript\">\n",
       "                require([\"plotly\"], function(Plotly) {\n",
       "                    window.PLOTLYENV=window.PLOTLYENV || {};\n",
       "                    \n",
       "                if (document.getElementById(\"8deffcb2-56cc-47cf-84e2-9a52a5fe2751\")) {\n",
       "                    Plotly.newPlot(\n",
       "                        '8deffcb2-56cc-47cf-84e2-9a52a5fe2751',\n",
       "                        [{\"dimensions\": [{\"label\": \"Objective Value\", \"range\": [0.0021009164136294133, 0.01620466657736488], \"values\": [0.01620466657736488, 0.0036662183613125378, 0.002763257633880463, 0.0028107172759775896, 0.0021009164136294133]}, {\"label\": \"Dropout Rate\", \"range\": [0.0, 0.4], \"values\": [0.0, 0.0, 0.2, 0.4, 0.2]}, {\"label\": \"Frequency Bins\", \"range\": [10, 60], \"values\": [10, 30, 60, 60, 30]}, {\"label\": \"Hidden Layers\", \"range\": [1, 2], \"values\": [2, 1, 2, 1, 2]}, {\"label\": \"L2 Regularization\", \"range\": [3.4900375675332518e-06, 0.005806310047937658], \"values\": [0.005433180295187214, 0.000520822154431747, 0.005806310047937658, 9.841104278154575e-06, 3.4900375675332518e-06]}, {\"label\": \"Latent Size\", \"range\": [4, 64], \"values\": [64, 4, 16, 16, 64]}, {\"label\": \"Learning Rate\", \"range\": [0.0026340707805810894, 0.07871170588400389], \"values\": [0.07871170588400389, 0.0026340707805810894, 0.05006742038651823, 0.023478118951493755, 0.013662033408600179]}, {\"label\": \"Optimizer\", \"range\": [0, 1], \"ticktext\": [[\"Adam\", 0], [\"SGD\", 1]], \"tickvals\": [0, 1], \"values\": [0, 0, 0, 1, 0]}, {\"label\": \"Time Steps\", \"range\": [5, 20], \"values\": [5, 20, 20, 20, 20]}], \"labelangle\": 30, \"labelside\": \"bottom\", \"line\": {\"color\": [0.01620466657736488, 0.0036662183613125378, 0.002763257633880463, 0.0028107172759775896, 0.0021009164136294133], \"colorbar\": {\"title\": {\"text\": \"Objective Value\"}}, \"colorscale\": [[0.0, \"rgb(247,251,255)\"], [0.125, \"rgb(222,235,247)\"], [0.25, \"rgb(198,219,239)\"], [0.375, \"rgb(158,202,225)\"], [0.5, \"rgb(107,174,214)\"], [0.625, \"rgb(66,146,198)\"], [0.75, \"rgb(33,113,181)\"], [0.875, \"rgb(8,81,156)\"], [1.0, \"rgb(8,48,107)\"]], \"reversescale\": true, \"showscale\": true}, \"type\": \"parcoords\"}],\n",
       "                        {\"template\": {\"data\": {\"bar\": [{\"error_x\": {\"color\": \"#2a3f5f\"}, \"error_y\": {\"color\": \"#2a3f5f\"}, \"marker\": {\"line\": {\"color\": \"#E5ECF6\", \"width\": 0.5}}, \"type\": \"bar\"}], \"barpolar\": [{\"marker\": {\"line\": {\"color\": \"#E5ECF6\", \"width\": 0.5}}, \"type\": \"barpolar\"}], \"carpet\": [{\"aaxis\": {\"endlinecolor\": \"#2a3f5f\", \"gridcolor\": \"white\", \"linecolor\": \"white\", \"minorgridcolor\": \"white\", \"startlinecolor\": \"#2a3f5f\"}, \"baxis\": {\"endlinecolor\": \"#2a3f5f\", \"gridcolor\": \"white\", \"linecolor\": \"white\", \"minorgridcolor\": \"white\", \"startlinecolor\": \"#2a3f5f\"}, \"type\": \"carpet\"}], \"choropleth\": [{\"colorbar\": {\"outlinewidth\": 0, \"ticks\": \"\"}, \"type\": \"choropleth\"}], \"contour\": [{\"colorbar\": {\"outlinewidth\": 0, \"ticks\": \"\"}, \"colorscale\": [[0.0, \"#0d0887\"], [0.1111111111111111, \"#46039f\"], [0.2222222222222222, \"#7201a8\"], [0.3333333333333333, \"#9c179e\"], [0.4444444444444444, \"#bd3786\"], [0.5555555555555556, \"#d8576b\"], [0.6666666666666666, \"#ed7953\"], [0.7777777777777778, \"#fb9f3a\"], [0.8888888888888888, \"#fdca26\"], [1.0, \"#f0f921\"]], \"type\": \"contour\"}], \"contourcarpet\": [{\"colorbar\": {\"outlinewidth\": 0, \"ticks\": \"\"}, \"type\": \"contourcarpet\"}], \"heatmap\": [{\"colorbar\": {\"outlinewidth\": 0, \"ticks\": \"\"}, \"colorscale\": [[0.0, \"#0d0887\"], [0.1111111111111111, \"#46039f\"], [0.2222222222222222, \"#7201a8\"], [0.3333333333333333, \"#9c179e\"], [0.4444444444444444, \"#bd3786\"], [0.5555555555555556, \"#d8576b\"], [0.6666666666666666, \"#ed7953\"], [0.7777777777777778, \"#fb9f3a\"], [0.8888888888888888, \"#fdca26\"], [1.0, \"#f0f921\"]], \"type\": \"heatmap\"}], \"heatmapgl\": [{\"colorbar\": {\"outlinewidth\": 0, \"ticks\": \"\"}, \"colorscale\": [[0.0, \"#0d0887\"], [0.1111111111111111, \"#46039f\"], [0.2222222222222222, \"#7201a8\"], [0.3333333333333333, \"#9c179e\"], [0.4444444444444444, \"#bd3786\"], [0.5555555555555556, \"#d8576b\"], [0.6666666666666666, \"#ed7953\"], [0.7777777777777778, \"#fb9f3a\"], [0.8888888888888888, \"#fdca26\"], [1.0, \"#f0f921\"]], \"type\": \"heatmapgl\"}], \"histogram\": [{\"marker\": {\"colorbar\": {\"outlinewidth\": 0, \"ticks\": \"\"}}, \"type\": \"histogram\"}], \"histogram2d\": [{\"colorbar\": {\"outlinewidth\": 0, \"ticks\": \"\"}, \"colorscale\": [[0.0, \"#0d0887\"], [0.1111111111111111, \"#46039f\"], [0.2222222222222222, \"#7201a8\"], [0.3333333333333333, \"#9c179e\"], [0.4444444444444444, \"#bd3786\"], [0.5555555555555556, \"#d8576b\"], [0.6666666666666666, \"#ed7953\"], [0.7777777777777778, \"#fb9f3a\"], [0.8888888888888888, \"#fdca26\"], [1.0, \"#f0f921\"]], \"type\": \"histogram2d\"}], \"histogram2dcontour\": [{\"colorbar\": {\"outlinewidth\": 0, \"ticks\": \"\"}, \"colorscale\": [[0.0, \"#0d0887\"], [0.1111111111111111, \"#46039f\"], [0.2222222222222222, \"#7201a8\"], [0.3333333333333333, \"#9c179e\"], [0.4444444444444444, \"#bd3786\"], [0.5555555555555556, \"#d8576b\"], [0.6666666666666666, \"#ed7953\"], [0.7777777777777778, \"#fb9f3a\"], [0.8888888888888888, \"#fdca26\"], [1.0, \"#f0f921\"]], \"type\": \"histogram2dcontour\"}], \"mesh3d\": [{\"colorbar\": {\"outlinewidth\": 0, \"ticks\": \"\"}, \"type\": \"mesh3d\"}], \"parcoords\": [{\"line\": {\"colorbar\": {\"outlinewidth\": 0, \"ticks\": \"\"}}, \"type\": \"parcoords\"}], \"pie\": [{\"automargin\": true, \"type\": \"pie\"}], \"scatter\": [{\"marker\": {\"colorbar\": {\"outlinewidth\": 0, \"ticks\": \"\"}}, \"type\": \"scatter\"}], \"scatter3d\": [{\"line\": {\"colorbar\": {\"outlinewidth\": 0, \"ticks\": \"\"}}, \"marker\": {\"colorbar\": {\"outlinewidth\": 0, \"ticks\": \"\"}}, \"type\": \"scatter3d\"}], \"scattercarpet\": [{\"marker\": {\"colorbar\": {\"outlinewidth\": 0, \"ticks\": \"\"}}, \"type\": \"scattercarpet\"}], \"scattergeo\": [{\"marker\": {\"colorbar\": {\"outlinewidth\": 0, \"ticks\": \"\"}}, \"type\": \"scattergeo\"}], \"scattergl\": [{\"marker\": {\"colorbar\": {\"outlinewidth\": 0, \"ticks\": \"\"}}, \"type\": \"scattergl\"}], \"scattermapbox\": [{\"marker\": {\"colorbar\": {\"outlinewidth\": 0, \"ticks\": \"\"}}, \"type\": \"scattermapbox\"}], \"scatterpolar\": [{\"marker\": {\"colorbar\": {\"outlinewidth\": 0, \"ticks\": \"\"}}, \"type\": \"scatterpolar\"}], \"scatterpolargl\": [{\"marker\": {\"colorbar\": {\"outlinewidth\": 0, \"ticks\": \"\"}}, \"type\": \"scatterpolargl\"}], \"scatterternary\": [{\"marker\": {\"colorbar\": {\"outlinewidth\": 0, \"ticks\": \"\"}}, \"type\": \"scatterternary\"}], \"surface\": [{\"colorbar\": {\"outlinewidth\": 0, \"ticks\": \"\"}, \"colorscale\": [[0.0, \"#0d0887\"], [0.1111111111111111, \"#46039f\"], [0.2222222222222222, \"#7201a8\"], [0.3333333333333333, \"#9c179e\"], [0.4444444444444444, \"#bd3786\"], [0.5555555555555556, \"#d8576b\"], [0.6666666666666666, \"#ed7953\"], [0.7777777777777778, \"#fb9f3a\"], [0.8888888888888888, \"#fdca26\"], [1.0, \"#f0f921\"]], \"type\": \"surface\"}], \"table\": [{\"cells\": {\"fill\": {\"color\": \"#EBF0F8\"}, \"line\": {\"color\": \"white\"}}, \"header\": {\"fill\": {\"color\": \"#C8D4E3\"}, \"line\": {\"color\": \"white\"}}, \"type\": \"table\"}]}, \"layout\": {\"annotationdefaults\": {\"arrowcolor\": \"#2a3f5f\", \"arrowhead\": 0, \"arrowwidth\": 1}, \"coloraxis\": {\"colorbar\": {\"outlinewidth\": 0, \"ticks\": \"\"}}, \"colorscale\": {\"diverging\": [[0, \"#8e0152\"], [0.1, \"#c51b7d\"], [0.2, \"#de77ae\"], [0.3, \"#f1b6da\"], [0.4, \"#fde0ef\"], [0.5, \"#f7f7f7\"], [0.6, \"#e6f5d0\"], [0.7, \"#b8e186\"], [0.8, \"#7fbc41\"], [0.9, \"#4d9221\"], [1, \"#276419\"]], \"sequential\": [[0.0, \"#0d0887\"], [0.1111111111111111, \"#46039f\"], [0.2222222222222222, \"#7201a8\"], [0.3333333333333333, \"#9c179e\"], [0.4444444444444444, \"#bd3786\"], [0.5555555555555556, \"#d8576b\"], [0.6666666666666666, \"#ed7953\"], [0.7777777777777778, \"#fb9f3a\"], [0.8888888888888888, \"#fdca26\"], [1.0, \"#f0f921\"]], \"sequentialminus\": [[0.0, \"#0d0887\"], [0.1111111111111111, \"#46039f\"], [0.2222222222222222, \"#7201a8\"], [0.3333333333333333, \"#9c179e\"], [0.4444444444444444, \"#bd3786\"], [0.5555555555555556, \"#d8576b\"], [0.6666666666666666, \"#ed7953\"], [0.7777777777777778, \"#fb9f3a\"], [0.8888888888888888, \"#fdca26\"], [1.0, \"#f0f921\"]]}, \"colorway\": [\"#636efa\", \"#EF553B\", \"#00cc96\", \"#ab63fa\", \"#FFA15A\", \"#19d3f3\", \"#FF6692\", \"#B6E880\", \"#FF97FF\", \"#FECB52\"], \"font\": {\"color\": \"#2a3f5f\"}, \"geo\": {\"bgcolor\": \"white\", \"lakecolor\": \"white\", \"landcolor\": \"#E5ECF6\", \"showlakes\": true, \"showland\": true, \"subunitcolor\": \"white\"}, \"hoverlabel\": {\"align\": \"left\"}, \"hovermode\": \"closest\", \"mapbox\": {\"style\": \"light\"}, \"paper_bgcolor\": \"white\", \"plot_bgcolor\": \"#E5ECF6\", \"polar\": {\"angularaxis\": {\"gridcolor\": \"white\", \"linecolor\": \"white\", \"ticks\": \"\"}, \"bgcolor\": \"#E5ECF6\", \"radialaxis\": {\"gridcolor\": \"white\", \"linecolor\": \"white\", \"ticks\": \"\"}}, \"scene\": {\"xaxis\": {\"backgroundcolor\": \"#E5ECF6\", \"gridcolor\": \"white\", \"gridwidth\": 2, \"linecolor\": \"white\", \"showbackground\": true, \"ticks\": \"\", \"zerolinecolor\": \"white\"}, \"yaxis\": {\"backgroundcolor\": \"#E5ECF6\", \"gridcolor\": \"white\", \"gridwidth\": 2, \"linecolor\": \"white\", \"showbackground\": true, \"ticks\": \"\", \"zerolinecolor\": \"white\"}, \"zaxis\": {\"backgroundcolor\": \"#E5ECF6\", \"gridcolor\": \"white\", \"gridwidth\": 2, \"linecolor\": \"white\", \"showbackground\": true, \"ticks\": \"\", \"zerolinecolor\": \"white\"}}, \"shapedefaults\": {\"line\": {\"color\": \"#2a3f5f\"}}, \"ternary\": {\"aaxis\": {\"gridcolor\": \"white\", \"linecolor\": \"white\", \"ticks\": \"\"}, \"baxis\": {\"gridcolor\": \"white\", \"linecolor\": \"white\", \"ticks\": \"\"}, \"bgcolor\": \"#E5ECF6\", \"caxis\": {\"gridcolor\": \"white\", \"linecolor\": \"white\", \"ticks\": \"\"}}, \"title\": {\"x\": 0.05}, \"xaxis\": {\"automargin\": true, \"gridcolor\": \"white\", \"linecolor\": \"white\", \"ticks\": \"\", \"title\": {\"standoff\": 15}, \"zerolinecolor\": \"white\", \"zerolinewidth\": 2}, \"yaxis\": {\"automargin\": true, \"gridcolor\": \"white\", \"linecolor\": \"white\", \"ticks\": \"\", \"title\": {\"standoff\": 15}, \"zerolinecolor\": \"white\", \"zerolinewidth\": 2}}}, \"title\": {\"text\": \"Parallel Coordinate Plot\"}},\n",
       "                        {\"responsive\": true}\n",
       "                    ).then(function(){\n",
       "                            \n",
       "var gd = document.getElementById('8deffcb2-56cc-47cf-84e2-9a52a5fe2751');\n",
       "var x = new MutationObserver(function (mutations, observer) {{\n",
       "        var display = window.getComputedStyle(gd).display;\n",
       "        if (!display || display === 'none') {{\n",
       "            console.log([gd, 'removed!']);\n",
       "            Plotly.purge(gd);\n",
       "            observer.disconnect();\n",
       "        }}\n",
       "}});\n",
       "\n",
       "// Listen for the removal of the full notebook cells\n",
       "var notebookContainer = gd.closest('#notebook-container');\n",
       "if (notebookContainer) {{\n",
       "    x.observe(notebookContainer, {childList: true});\n",
       "}}\n",
       "\n",
       "// Listen for the clearing of the current output cell\n",
       "var outputEl = gd.closest('.output');\n",
       "if (outputEl) {{\n",
       "    x.observe(outputEl, {childList: true});\n",
       "}}\n",
       "\n",
       "                        })\n",
       "                };\n",
       "                });\n",
       "            </script>\n",
       "        </div>"
      ]
     },
     "metadata": {},
     "output_type": "display_data"
    }
   ],
   "source": [
    "\n",
    "scope = PlotlyScope()\n",
    "fig=optuna.visualization.plot_parallel_coordinate(study)\n",
    "with open(\"figure2.svg\", \"wb\") as f:\n",
    "    f.write(scope.transform(fig, format=\"svg\"))\n",
    "fig"
   ]
  },
  {
   "cell_type": "code",
   "execution_count": 65,
   "metadata": {},
   "outputs": [
    {
     "data": {
      "application/vnd.plotly.v1+json": {
       "config": {
        "plotlyServerURL": "https://plot.ly"
       },
       "data": [
        {
         "marker": {
          "maxdisplayed": 10
         },
         "mode": "lines+markers",
         "name": "Trial0",
         "type": "scatter",
         "x": [
          0,
          1,
          2,
          3,
          4,
          5,
          6,
          7,
          8,
          9,
          10,
          11,
          12,
          13,
          14,
          15,
          16,
          17,
          18,
          19
         ],
         "y": [
          0.016746401104308268,
          0.016322283714099696,
          0.016117611317006685,
          0.016156112174467958,
          0.01610282809964118,
          0.016198902717926573,
          0.016097730740137,
          0.0161902520499896,
          0.01616521787523996,
          0.01619970481771663,
          0.016150357827316712,
          0.016227275289538254,
          0.016167745751307437,
          0.016152886481856116,
          0.016100363745460755,
          0.016266225076472487,
          0.016117934962265365,
          0.016136112210575405,
          0.0161805770694072,
          0.01620466657736488
         ]
        },
        {
         "marker": {
          "maxdisplayed": 10
         },
         "mode": "lines+markers",
         "name": "Trial1",
         "type": "scatter",
         "x": [
          0,
          1,
          2,
          3,
          4,
          5,
          6,
          7,
          8,
          9,
          10,
          11,
          12,
          13,
          14,
          15,
          16,
          17,
          18,
          19
         ],
         "y": [
          0.004114357140519521,
          0.003721033733067963,
          0.0037147611262319425,
          0.0037012018284667994,
          0.003680198025918132,
          0.003670134818899438,
          0.0036762497176323797,
          0.003683799617383487,
          0.003679492804115169,
          0.0036749268556724637,
          0.0036907215817753255,
          0.003682708638748652,
          0.0036769454129296176,
          0.00367071118938047,
          0.003668700534146535,
          0.0036672496384379406,
          0.003676102864591561,
          0.0036724695655026736,
          0.003677462158326543,
          0.0036662183613125378
         ]
        },
        {
         "marker": {
          "maxdisplayed": 10
         },
         "mode": "lines+markers",
         "name": "Trial2",
         "type": "scatter",
         "x": [
          0,
          1,
          2,
          3,
          4,
          5,
          6,
          7,
          8,
          9,
          10,
          11,
          12,
          13,
          14,
          15,
          16,
          17,
          18,
          19
         ],
         "y": [
          0.002809367217265695,
          0.002773476491739106,
          0.002774966069326544,
          0.0027668185839571685,
          0.00277549137613729,
          0.0027726576601347056,
          0.002773750003761406,
          0.0027916590720486207,
          0.002773956283713684,
          0.002773571323127066,
          0.0027769101643223913,
          0.0027938517812952286,
          0.0027713864616950162,
          0.002768604234145343,
          0.0027825280842691206,
          0.0027698665103725803,
          0.0027878268600533937,
          0.0027743332285277604,
          0.0027738794149432815,
          0.002763257633880463
         ]
        },
        {
         "marker": {
          "maxdisplayed": 10
         },
         "mode": "lines+markers",
         "name": "Trial3",
         "type": "scatter",
         "x": [
          0,
          1,
          2,
          3
         ],
         "y": [
          0.00833561385178384,
          0.00727959995634342,
          0.007090185605387651,
          0.006992902375672383
         ]
        },
        {
         "marker": {
          "maxdisplayed": 10
         },
         "mode": "lines+markers",
         "name": "Trial4",
         "type": "scatter",
         "x": [
          0,
          1,
          2,
          3
         ],
         "y": [
          0.007770768455620713,
          0.006626101642605344,
          0.006644536378501936,
          0.006601828262423172
         ]
        },
        {
         "marker": {
          "maxdisplayed": 10
         },
         "mode": "lines+markers",
         "name": "Trial5",
         "type": "scatter",
         "x": [
          0,
          1,
          2,
          3
         ],
         "y": [
          0.0418147481195913,
          0.029400033677238546,
          0.02939984300493739,
          0.05650548277181069
         ]
        },
        {
         "marker": {
          "maxdisplayed": 10
         },
         "mode": "lines+markers",
         "name": "Trial6",
         "type": "scatter",
         "x": [
          0,
          1,
          2,
          3
         ],
         "y": [
          0.011749817406801323,
          0.01006898095916587,
          0.00993334585160927,
          0.009897690518752082
         ]
        },
        {
         "marker": {
          "maxdisplayed": 10
         },
         "mode": "lines+markers",
         "name": "Trial7",
         "type": "scatter",
         "x": [
          0,
          1,
          2,
          3,
          4,
          5,
          6,
          7,
          8,
          9,
          10,
          11,
          12,
          13,
          14,
          15,
          16,
          17,
          18,
          19
         ],
         "y": [
          0.006482251727854022,
          0.005325695332708477,
          0.00462307965112779,
          0.00418888624643779,
          0.0038848773039564604,
          0.003657661655647609,
          0.0035017979693890526,
          0.0033679590347215874,
          0.003267295217809786,
          0.0031969201615976014,
          0.0031222996225523697,
          0.003055653653910938,
          0.003000658674641932,
          0.0029688663851782566,
          0.0029236530833557702,
          0.002890291756182511,
          0.0028639791145892318,
          0.002837912426578976,
          0.0028182761023844813,
          0.0028107172759775896
         ]
        },
        {
         "marker": {
          "maxdisplayed": 10
         },
         "mode": "lines+markers",
         "name": "Trial8",
         "type": "scatter",
         "x": [
          0,
          1,
          2,
          3,
          4,
          5,
          6,
          7,
          8,
          9,
          10,
          11,
          12,
          13,
          14,
          15,
          16,
          17,
          18,
          19
         ],
         "y": [
          0.00297080155085232,
          0.0025136424970585596,
          0.0024386188668511694,
          0.002409366640628436,
          0.002392286395668301,
          0.0023248908745359545,
          0.0023446138894882137,
          0.002281898079450662,
          0.0021595736922881076,
          0.002184825134019275,
          0.00220697725552511,
          0.0022029917578760337,
          0.0021283204417554876,
          0.0021946103896817747,
          0.0021584361564112075,
          0.0021455085903889577,
          0.002220571914666425,
          0.0021500479437069585,
          0.0021053339263161232,
          0.0021009164136294133
         ]
        },
        {
         "marker": {
          "maxdisplayed": 10
         },
         "mode": "lines+markers",
         "name": "Trial9",
         "type": "scatter",
         "x": [
          0,
          1,
          2,
          3
         ],
         "y": [
          0.008640898946132368,
          0.004971725523173241,
          0.003840346955729805,
          0.003350467525977101
         ]
        },
        {
         "marker": {
          "maxdisplayed": 10
         },
         "mode": "lines+markers",
         "name": "Trial10",
         "type": "scatter",
         "x": [
          0,
          1,
          2,
          3
         ],
         "y": [
          0.007342767475158659,
          0.007278170784978011,
          0.007256017222943651,
          0.007248149552019953
         ]
        },
        {
         "marker": {
          "maxdisplayed": 10
         },
         "mode": "lines+markers",
         "name": "Trial11",
         "type": "scatter",
         "x": [
          0,
          1,
          2,
          3,
          4,
          5,
          6,
          7,
          8,
          9
         ],
         "y": [
          0.004599152083103439,
          0.004502870005605216,
          0.004515495943971945,
          0.004508306723770522,
          0.00450456868999332,
          0.004504296718918868,
          0.0045237927111078996,
          0.004525044339332189,
          0.004523748583480261,
          0.0045119382792955815
         ]
        },
        {
         "marker": {
          "maxdisplayed": 10
         },
         "mode": "lines+markers",
         "name": "Trial12",
         "type": "scatter",
         "x": [
          0,
          1,
          2,
          3,
          4,
          5,
          6,
          7,
          8,
          9
         ],
         "y": [
          0.006634978442417301,
          0.006582763501023518,
          0.006612523672178046,
          0.0065957464860709565,
          0.0065927711859317,
          0.006623023749464227,
          0.0066161026790709666,
          0.006583689033046706,
          0.006597104100226105,
          0.006580388681778244
         ]
        },
        {
         "marker": {
          "maxdisplayed": 10
         },
         "mode": "lines+markers",
         "name": "Trial13",
         "type": "scatter",
         "x": [
          0,
          1,
          2,
          3
         ],
         "y": [
          0.013689325503891205,
          0.01147808562537641,
          0.010707645840544736,
          0.01039838571570643
         ]
        },
        {
         "marker": {
          "maxdisplayed": 10
         },
         "mode": "lines+markers",
         "name": "Trial14",
         "type": "scatter",
         "x": [
          0,
          1,
          2,
          3
         ],
         "y": [
          0.009683093596392005,
          0.009490358044272501,
          0.009583211219549635,
          0.00951585526229771
         ]
        },
        {
         "marker": {
          "maxdisplayed": 10
         },
         "mode": "lines+markers",
         "name": "Trial15",
         "type": "scatter",
         "x": [
          0,
          1,
          2,
          3,
          4,
          5,
          6,
          7,
          8,
          9
         ],
         "y": [
          0.010081137214140355,
          0.007344725483118464,
          0.0070785862599847885,
          0.007004072125432373,
          0.006927034325314729,
          0.006931923939455443,
          0.006960734093156537,
          0.00691777785692563,
          0.006914258186300179,
          0.006937894195261347
         ]
        },
        {
         "marker": {
          "maxdisplayed": 10
         },
         "mode": "lines+markers",
         "name": "Trial16",
         "type": "scatter",
         "x": [
          0,
          1,
          2,
          3
         ],
         "y": [
          0.00752747300230251,
          0.007236597611647071,
          0.0072329338384038615,
          0.007213322136494267
         ]
        },
        {
         "marker": {
          "maxdisplayed": 10
         },
         "mode": "lines+markers",
         "name": "Trial17",
         "type": "scatter",
         "x": [
          0,
          1,
          2,
          3
         ],
         "y": [
          0.009622657675125445,
          0.007202082377581196,
          0.006992290247914218,
          0.006828684160727581
         ]
        },
        {
         "marker": {
          "maxdisplayed": 10
         },
         "mode": "lines+markers",
         "name": "Trial18",
         "type": "scatter",
         "x": [
          0,
          1,
          2,
          3,
          4,
          5,
          6,
          7,
          8,
          9
         ],
         "y": [
          0.009910279174001162,
          0.00924455625083269,
          0.00924713600014571,
          0.009271505541161044,
          0.009250037503634928,
          0.009240338863193533,
          0.009249775624258145,
          0.009250375385332198,
          0.009246147955760701,
          0.009242994696584367
         ]
        },
        {
         "marker": {
          "maxdisplayed": 10
         },
         "mode": "lines+markers",
         "name": "Trial19",
         "type": "scatter",
         "x": [
          0,
          1,
          2,
          3
         ],
         "y": [
          0.00238837203177986,
          0.002251945884333113,
          0.0022387274253032816,
          0.0024523280120191684
         ]
        }
       ],
       "layout": {
        "autosize": true,
        "showlegend": false,
        "template": {
         "data": {
          "bar": [
           {
            "error_x": {
             "color": "#2a3f5f"
            },
            "error_y": {
             "color": "#2a3f5f"
            },
            "marker": {
             "line": {
              "color": "#E5ECF6",
              "width": 0.5
             }
            },
            "type": "bar"
           }
          ],
          "barpolar": [
           {
            "marker": {
             "line": {
              "color": "#E5ECF6",
              "width": 0.5
             }
            },
            "type": "barpolar"
           }
          ],
          "carpet": [
           {
            "aaxis": {
             "endlinecolor": "#2a3f5f",
             "gridcolor": "white",
             "linecolor": "white",
             "minorgridcolor": "white",
             "startlinecolor": "#2a3f5f"
            },
            "baxis": {
             "endlinecolor": "#2a3f5f",
             "gridcolor": "white",
             "linecolor": "white",
             "minorgridcolor": "white",
             "startlinecolor": "#2a3f5f"
            },
            "type": "carpet"
           }
          ],
          "choropleth": [
           {
            "colorbar": {
             "outlinewidth": 0,
             "ticks": ""
            },
            "type": "choropleth"
           }
          ],
          "contour": [
           {
            "colorbar": {
             "outlinewidth": 0,
             "ticks": ""
            },
            "colorscale": [
             [
              0,
              "#0d0887"
             ],
             [
              0.1111111111111111,
              "#46039f"
             ],
             [
              0.2222222222222222,
              "#7201a8"
             ],
             [
              0.3333333333333333,
              "#9c179e"
             ],
             [
              0.4444444444444444,
              "#bd3786"
             ],
             [
              0.5555555555555556,
              "#d8576b"
             ],
             [
              0.6666666666666666,
              "#ed7953"
             ],
             [
              0.7777777777777778,
              "#fb9f3a"
             ],
             [
              0.8888888888888888,
              "#fdca26"
             ],
             [
              1,
              "#f0f921"
             ]
            ],
            "type": "contour"
           }
          ],
          "contourcarpet": [
           {
            "colorbar": {
             "outlinewidth": 0,
             "ticks": ""
            },
            "type": "contourcarpet"
           }
          ],
          "heatmap": [
           {
            "colorbar": {
             "outlinewidth": 0,
             "ticks": ""
            },
            "colorscale": [
             [
              0,
              "#0d0887"
             ],
             [
              0.1111111111111111,
              "#46039f"
             ],
             [
              0.2222222222222222,
              "#7201a8"
             ],
             [
              0.3333333333333333,
              "#9c179e"
             ],
             [
              0.4444444444444444,
              "#bd3786"
             ],
             [
              0.5555555555555556,
              "#d8576b"
             ],
             [
              0.6666666666666666,
              "#ed7953"
             ],
             [
              0.7777777777777778,
              "#fb9f3a"
             ],
             [
              0.8888888888888888,
              "#fdca26"
             ],
             [
              1,
              "#f0f921"
             ]
            ],
            "type": "heatmap"
           }
          ],
          "heatmapgl": [
           {
            "colorbar": {
             "outlinewidth": 0,
             "ticks": ""
            },
            "colorscale": [
             [
              0,
              "#0d0887"
             ],
             [
              0.1111111111111111,
              "#46039f"
             ],
             [
              0.2222222222222222,
              "#7201a8"
             ],
             [
              0.3333333333333333,
              "#9c179e"
             ],
             [
              0.4444444444444444,
              "#bd3786"
             ],
             [
              0.5555555555555556,
              "#d8576b"
             ],
             [
              0.6666666666666666,
              "#ed7953"
             ],
             [
              0.7777777777777778,
              "#fb9f3a"
             ],
             [
              0.8888888888888888,
              "#fdca26"
             ],
             [
              1,
              "#f0f921"
             ]
            ],
            "type": "heatmapgl"
           }
          ],
          "histogram": [
           {
            "marker": {
             "colorbar": {
              "outlinewidth": 0,
              "ticks": ""
             }
            },
            "type": "histogram"
           }
          ],
          "histogram2d": [
           {
            "colorbar": {
             "outlinewidth": 0,
             "ticks": ""
            },
            "colorscale": [
             [
              0,
              "#0d0887"
             ],
             [
              0.1111111111111111,
              "#46039f"
             ],
             [
              0.2222222222222222,
              "#7201a8"
             ],
             [
              0.3333333333333333,
              "#9c179e"
             ],
             [
              0.4444444444444444,
              "#bd3786"
             ],
             [
              0.5555555555555556,
              "#d8576b"
             ],
             [
              0.6666666666666666,
              "#ed7953"
             ],
             [
              0.7777777777777778,
              "#fb9f3a"
             ],
             [
              0.8888888888888888,
              "#fdca26"
             ],
             [
              1,
              "#f0f921"
             ]
            ],
            "type": "histogram2d"
           }
          ],
          "histogram2dcontour": [
           {
            "colorbar": {
             "outlinewidth": 0,
             "ticks": ""
            },
            "colorscale": [
             [
              0,
              "#0d0887"
             ],
             [
              0.1111111111111111,
              "#46039f"
             ],
             [
              0.2222222222222222,
              "#7201a8"
             ],
             [
              0.3333333333333333,
              "#9c179e"
             ],
             [
              0.4444444444444444,
              "#bd3786"
             ],
             [
              0.5555555555555556,
              "#d8576b"
             ],
             [
              0.6666666666666666,
              "#ed7953"
             ],
             [
              0.7777777777777778,
              "#fb9f3a"
             ],
             [
              0.8888888888888888,
              "#fdca26"
             ],
             [
              1,
              "#f0f921"
             ]
            ],
            "type": "histogram2dcontour"
           }
          ],
          "mesh3d": [
           {
            "colorbar": {
             "outlinewidth": 0,
             "ticks": ""
            },
            "type": "mesh3d"
           }
          ],
          "parcoords": [
           {
            "line": {
             "colorbar": {
              "outlinewidth": 0,
              "ticks": ""
             }
            },
            "type": "parcoords"
           }
          ],
          "pie": [
           {
            "automargin": true,
            "type": "pie"
           }
          ],
          "scatter": [
           {
            "marker": {
             "colorbar": {
              "outlinewidth": 0,
              "ticks": ""
             }
            },
            "type": "scatter"
           }
          ],
          "scatter3d": [
           {
            "line": {
             "colorbar": {
              "outlinewidth": 0,
              "ticks": ""
             }
            },
            "marker": {
             "colorbar": {
              "outlinewidth": 0,
              "ticks": ""
             }
            },
            "type": "scatter3d"
           }
          ],
          "scattercarpet": [
           {
            "marker": {
             "colorbar": {
              "outlinewidth": 0,
              "ticks": ""
             }
            },
            "type": "scattercarpet"
           }
          ],
          "scattergeo": [
           {
            "marker": {
             "colorbar": {
              "outlinewidth": 0,
              "ticks": ""
             }
            },
            "type": "scattergeo"
           }
          ],
          "scattergl": [
           {
            "marker": {
             "colorbar": {
              "outlinewidth": 0,
              "ticks": ""
             }
            },
            "type": "scattergl"
           }
          ],
          "scattermapbox": [
           {
            "marker": {
             "colorbar": {
              "outlinewidth": 0,
              "ticks": ""
             }
            },
            "type": "scattermapbox"
           }
          ],
          "scatterpolar": [
           {
            "marker": {
             "colorbar": {
              "outlinewidth": 0,
              "ticks": ""
             }
            },
            "type": "scatterpolar"
           }
          ],
          "scatterpolargl": [
           {
            "marker": {
             "colorbar": {
              "outlinewidth": 0,
              "ticks": ""
             }
            },
            "type": "scatterpolargl"
           }
          ],
          "scatterternary": [
           {
            "marker": {
             "colorbar": {
              "outlinewidth": 0,
              "ticks": ""
             }
            },
            "type": "scatterternary"
           }
          ],
          "surface": [
           {
            "colorbar": {
             "outlinewidth": 0,
             "ticks": ""
            },
            "colorscale": [
             [
              0,
              "#0d0887"
             ],
             [
              0.1111111111111111,
              "#46039f"
             ],
             [
              0.2222222222222222,
              "#7201a8"
             ],
             [
              0.3333333333333333,
              "#9c179e"
             ],
             [
              0.4444444444444444,
              "#bd3786"
             ],
             [
              0.5555555555555556,
              "#d8576b"
             ],
             [
              0.6666666666666666,
              "#ed7953"
             ],
             [
              0.7777777777777778,
              "#fb9f3a"
             ],
             [
              0.8888888888888888,
              "#fdca26"
             ],
             [
              1,
              "#f0f921"
             ]
            ],
            "type": "surface"
           }
          ],
          "table": [
           {
            "cells": {
             "fill": {
              "color": "#EBF0F8"
             },
             "line": {
              "color": "white"
             }
            },
            "header": {
             "fill": {
              "color": "#C8D4E3"
             },
             "line": {
              "color": "white"
             }
            },
            "type": "table"
           }
          ]
         },
         "layout": {
          "annotationdefaults": {
           "arrowcolor": "#2a3f5f",
           "arrowhead": 0,
           "arrowwidth": 1
          },
          "coloraxis": {
           "colorbar": {
            "outlinewidth": 0,
            "ticks": ""
           }
          },
          "colorscale": {
           "diverging": [
            [
             0,
             "#8e0152"
            ],
            [
             0.1,
             "#c51b7d"
            ],
            [
             0.2,
             "#de77ae"
            ],
            [
             0.3,
             "#f1b6da"
            ],
            [
             0.4,
             "#fde0ef"
            ],
            [
             0.5,
             "#f7f7f7"
            ],
            [
             0.6,
             "#e6f5d0"
            ],
            [
             0.7,
             "#b8e186"
            ],
            [
             0.8,
             "#7fbc41"
            ],
            [
             0.9,
             "#4d9221"
            ],
            [
             1,
             "#276419"
            ]
           ],
           "sequential": [
            [
             0,
             "#0d0887"
            ],
            [
             0.1111111111111111,
             "#46039f"
            ],
            [
             0.2222222222222222,
             "#7201a8"
            ],
            [
             0.3333333333333333,
             "#9c179e"
            ],
            [
             0.4444444444444444,
             "#bd3786"
            ],
            [
             0.5555555555555556,
             "#d8576b"
            ],
            [
             0.6666666666666666,
             "#ed7953"
            ],
            [
             0.7777777777777778,
             "#fb9f3a"
            ],
            [
             0.8888888888888888,
             "#fdca26"
            ],
            [
             1,
             "#f0f921"
            ]
           ],
           "sequentialminus": [
            [
             0,
             "#0d0887"
            ],
            [
             0.1111111111111111,
             "#46039f"
            ],
            [
             0.2222222222222222,
             "#7201a8"
            ],
            [
             0.3333333333333333,
             "#9c179e"
            ],
            [
             0.4444444444444444,
             "#bd3786"
            ],
            [
             0.5555555555555556,
             "#d8576b"
            ],
            [
             0.6666666666666666,
             "#ed7953"
            ],
            [
             0.7777777777777778,
             "#fb9f3a"
            ],
            [
             0.8888888888888888,
             "#fdca26"
            ],
            [
             1,
             "#f0f921"
            ]
           ]
          },
          "colorway": [
           "#636efa",
           "#EF553B",
           "#00cc96",
           "#ab63fa",
           "#FFA15A",
           "#19d3f3",
           "#FF6692",
           "#B6E880",
           "#FF97FF",
           "#FECB52"
          ],
          "font": {
           "color": "#2a3f5f"
          },
          "geo": {
           "bgcolor": "white",
           "lakecolor": "white",
           "landcolor": "#E5ECF6",
           "showlakes": true,
           "showland": true,
           "subunitcolor": "white"
          },
          "hoverlabel": {
           "align": "left"
          },
          "hovermode": "closest",
          "mapbox": {
           "style": "light"
          },
          "paper_bgcolor": "white",
          "plot_bgcolor": "#E5ECF6",
          "polar": {
           "angularaxis": {
            "gridcolor": "white",
            "linecolor": "white",
            "ticks": ""
           },
           "bgcolor": "#E5ECF6",
           "radialaxis": {
            "gridcolor": "white",
            "linecolor": "white",
            "ticks": ""
           }
          },
          "scene": {
           "xaxis": {
            "backgroundcolor": "#E5ECF6",
            "gridcolor": "white",
            "gridwidth": 2,
            "linecolor": "white",
            "showbackground": true,
            "ticks": "",
            "zerolinecolor": "white"
           },
           "yaxis": {
            "backgroundcolor": "#E5ECF6",
            "gridcolor": "white",
            "gridwidth": 2,
            "linecolor": "white",
            "showbackground": true,
            "ticks": "",
            "zerolinecolor": "white"
           },
           "zaxis": {
            "backgroundcolor": "#E5ECF6",
            "gridcolor": "white",
            "gridwidth": 2,
            "linecolor": "white",
            "showbackground": true,
            "ticks": "",
            "zerolinecolor": "white"
           }
          },
          "shapedefaults": {
           "line": {
            "color": "#2a3f5f"
           }
          },
          "ternary": {
           "aaxis": {
            "gridcolor": "white",
            "linecolor": "white",
            "ticks": ""
           },
           "baxis": {
            "gridcolor": "white",
            "linecolor": "white",
            "ticks": ""
           },
           "bgcolor": "#E5ECF6",
           "caxis": {
            "gridcolor": "white",
            "linecolor": "white",
            "ticks": ""
           }
          },
          "title": {
           "x": 0.05
          },
          "xaxis": {
           "automargin": true,
           "gridcolor": "white",
           "linecolor": "white",
           "ticks": "",
           "title": {
            "standoff": 15
           },
           "zerolinecolor": "white",
           "zerolinewidth": 2
          },
          "yaxis": {
           "automargin": true,
           "gridcolor": "white",
           "linecolor": "white",
           "ticks": "",
           "title": {
            "standoff": 15
           },
           "zerolinecolor": "white",
           "zerolinewidth": 2
          }
         }
        },
        "title": {
         "text": "Intermediate Values Plot"
        },
        "xaxis": {
         "autorange": true,
         "range": [
          -1.1338376347275783,
          20.133837634727577
         ],
         "title": {
          "text": "Step"
         },
         "type": "linear"
        },
        "yaxis": {
         "autorange": true,
         "range": [
          -0.0018841314406322727,
          0.060490530626072375
         ],
         "title": {
          "text": "Intermediate Value"
         },
         "type": "linear"
        }
       }
      },
      "image/png": "[encoded data removed]",
      "text/html": [
       "<div>\n",
       "        \n",
       "        \n",
       "            <div id=\"0626005d-c64f-4c7f-ae28-34ffd7e759f8\" class=\"plotly-graph-div\" style=\"height:525px; width:100%;\"></div>\n",
       "            <script type=\"text/javascript\">\n",
       "                require([\"plotly\"], function(Plotly) {\n",
       "                    window.PLOTLYENV=window.PLOTLYENV || {};\n",
       "                    \n",
       "                if (document.getElementById(\"0626005d-c64f-4c7f-ae28-34ffd7e759f8\")) {\n",
       "                    Plotly.newPlot(\n",
       "                        '0626005d-c64f-4c7f-ae28-34ffd7e759f8',\n",
       "                        [{\"marker\": {\"maxdisplayed\": 10}, \"mode\": \"lines+markers\", \"name\": \"Trial0\", \"type\": \"scatter\", \"x\": [0, 1, 2, 3, 4, 5, 6, 7, 8, 9, 10, 11, 12, 13, 14, 15, 16, 17, 18, 19], \"y\": [0.016746401104308268, 0.016322283714099696, 0.016117611317006685, 0.016156112174467958, 0.01610282809964118, 0.016198902717926573, 0.016097730740137, 0.0161902520499896, 0.01616521787523996, 0.01619970481771663, 0.016150357827316712, 0.016227275289538254, 0.016167745751307437, 0.016152886481856116, 0.016100363745460755, 0.016266225076472487, 0.016117934962265365, 0.016136112210575405, 0.0161805770694072, 0.01620466657736488]}, {\"marker\": {\"maxdisplayed\": 10}, \"mode\": \"lines+markers\", \"name\": \"Trial1\", \"type\": \"scatter\", \"x\": [0, 1, 2, 3, 4, 5, 6, 7, 8, 9, 10, 11, 12, 13, 14, 15, 16, 17, 18, 19], \"y\": [0.004114357140519521, 0.003721033733067963, 0.0037147611262319425, 0.0037012018284667994, 0.003680198025918132, 0.003670134818899438, 0.0036762497176323797, 0.003683799617383487, 0.003679492804115169, 0.0036749268556724637, 0.0036907215817753255, 0.003682708638748652, 0.0036769454129296176, 0.00367071118938047, 0.003668700534146535, 0.0036672496384379406, 0.003676102864591561, 0.0036724695655026736, 0.003677462158326543, 0.0036662183613125378]}, {\"marker\": {\"maxdisplayed\": 10}, \"mode\": \"lines+markers\", \"name\": \"Trial2\", \"type\": \"scatter\", \"x\": [0, 1, 2, 3, 4, 5, 6, 7, 8, 9, 10, 11, 12, 13, 14, 15, 16, 17, 18, 19], \"y\": [0.002809367217265695, 0.002773476491739106, 0.002774966069326544, 0.0027668185839571685, 0.00277549137613729, 0.0027726576601347056, 0.002773750003761406, 0.0027916590720486207, 0.002773956283713684, 0.002773571323127066, 0.0027769101643223913, 0.0027938517812952286, 0.0027713864616950162, 0.002768604234145343, 0.0027825280842691206, 0.0027698665103725803, 0.0027878268600533937, 0.0027743332285277604, 0.0027738794149432815, 0.002763257633880463]}, {\"marker\": {\"maxdisplayed\": 10}, \"mode\": \"lines+markers\", \"name\": \"Trial3\", \"type\": \"scatter\", \"x\": [0, 1, 2, 3], \"y\": [0.00833561385178384, 0.00727959995634342, 0.007090185605387651, 0.006992902375672383]}, {\"marker\": {\"maxdisplayed\": 10}, \"mode\": \"lines+markers\", \"name\": \"Trial4\", \"type\": \"scatter\", \"x\": [0, 1, 2, 3], \"y\": [0.007770768455620713, 0.006626101642605344, 0.006644536378501936, 0.006601828262423172]}, {\"marker\": {\"maxdisplayed\": 10}, \"mode\": \"lines+markers\", \"name\": \"Trial5\", \"type\": \"scatter\", \"x\": [0, 1, 2, 3], \"y\": [0.0418147481195913, 0.029400033677238546, 0.02939984300493739, 0.05650548277181069]}, {\"marker\": {\"maxdisplayed\": 10}, \"mode\": \"lines+markers\", \"name\": \"Trial6\", \"type\": \"scatter\", \"x\": [0, 1, 2, 3], \"y\": [0.011749817406801323, 0.01006898095916587, 0.00993334585160927, 0.009897690518752082]}, {\"marker\": {\"maxdisplayed\": 10}, \"mode\": \"lines+markers\", \"name\": \"Trial7\", \"type\": \"scatter\", \"x\": [0, 1, 2, 3, 4, 5, 6, 7, 8, 9, 10, 11, 12, 13, 14, 15, 16, 17, 18, 19], \"y\": [0.006482251727854022, 0.005325695332708477, 0.00462307965112779, 0.00418888624643779, 0.0038848773039564604, 0.003657661655647609, 0.0035017979693890526, 0.0033679590347215874, 0.003267295217809786, 0.0031969201615976014, 0.0031222996225523697, 0.003055653653910938, 0.003000658674641932, 0.0029688663851782566, 0.0029236530833557702, 0.002890291756182511, 0.0028639791145892318, 0.002837912426578976, 0.0028182761023844813, 0.0028107172759775896]}, {\"marker\": {\"maxdisplayed\": 10}, \"mode\": \"lines+markers\", \"name\": \"Trial8\", \"type\": \"scatter\", \"x\": [0, 1, 2, 3, 4, 5, 6, 7, 8, 9, 10, 11, 12, 13, 14, 15, 16, 17, 18, 19], \"y\": [0.00297080155085232, 0.0025136424970585596, 0.0024386188668511694, 0.002409366640628436, 0.002392286395668301, 0.0023248908745359545, 0.0023446138894882137, 0.002281898079450662, 0.0021595736922881076, 0.002184825134019275, 0.00220697725552511, 0.0022029917578760337, 0.0021283204417554876, 0.0021946103896817747, 0.0021584361564112075, 0.0021455085903889577, 0.002220571914666425, 0.0021500479437069585, 0.0021053339263161232, 0.0021009164136294133]}, {\"marker\": {\"maxdisplayed\": 10}, \"mode\": \"lines+markers\", \"name\": \"Trial9\", \"type\": \"scatter\", \"x\": [0, 1, 2, 3], \"y\": [0.008640898946132368, 0.004971725523173241, 0.003840346955729805, 0.003350467525977101]}, {\"marker\": {\"maxdisplayed\": 10}, \"mode\": \"lines+markers\", \"name\": \"Trial10\", \"type\": \"scatter\", \"x\": [0, 1, 2, 3], \"y\": [0.007342767475158659, 0.007278170784978011, 0.007256017222943651, 0.007248149552019953]}, {\"marker\": {\"maxdisplayed\": 10}, \"mode\": \"lines+markers\", \"name\": \"Trial11\", \"type\": \"scatter\", \"x\": [0, 1, 2, 3, 4, 5, 6, 7, 8, 9], \"y\": [0.004599152083103439, 0.004502870005605216, 0.004515495943971945, 0.004508306723770522, 0.00450456868999332, 0.004504296718918868, 0.0045237927111078996, 0.004525044339332189, 0.004523748583480261, 0.0045119382792955815]}, {\"marker\": {\"maxdisplayed\": 10}, \"mode\": \"lines+markers\", \"name\": \"Trial12\", \"type\": \"scatter\", \"x\": [0, 1, 2, 3, 4, 5, 6, 7, 8, 9], \"y\": [0.006634978442417301, 0.006582763501023518, 0.006612523672178046, 0.0065957464860709565, 0.0065927711859317, 0.006623023749464227, 0.0066161026790709666, 0.006583689033046706, 0.006597104100226105, 0.006580388681778244]}, {\"marker\": {\"maxdisplayed\": 10}, \"mode\": \"lines+markers\", \"name\": \"Trial13\", \"type\": \"scatter\", \"x\": [0, 1, 2, 3], \"y\": [0.013689325503891205, 0.01147808562537641, 0.010707645840544736, 0.01039838571570643]}, {\"marker\": {\"maxdisplayed\": 10}, \"mode\": \"lines+markers\", \"name\": \"Trial14\", \"type\": \"scatter\", \"x\": [0, 1, 2, 3], \"y\": [0.009683093596392005, 0.009490358044272501, 0.009583211219549635, 0.00951585526229771]}, {\"marker\": {\"maxdisplayed\": 10}, \"mode\": \"lines+markers\", \"name\": \"Trial15\", \"type\": \"scatter\", \"x\": [0, 1, 2, 3, 4, 5, 6, 7, 8, 9], \"y\": [0.010081137214140355, 0.007344725483118464, 0.0070785862599847885, 0.007004072125432373, 0.006927034325314729, 0.006931923939455443, 0.006960734093156537, 0.00691777785692563, 0.006914258186300179, 0.006937894195261347]}, {\"marker\": {\"maxdisplayed\": 10}, \"mode\": \"lines+markers\", \"name\": \"Trial16\", \"type\": \"scatter\", \"x\": [0, 1, 2, 3], \"y\": [0.00752747300230251, 0.007236597611647071, 0.0072329338384038615, 0.007213322136494267]}, {\"marker\": {\"maxdisplayed\": 10}, \"mode\": \"lines+markers\", \"name\": \"Trial17\", \"type\": \"scatter\", \"x\": [0, 1, 2, 3], \"y\": [0.009622657675125445, 0.007202082377581196, 0.006992290247914218, 0.006828684160727581]}, {\"marker\": {\"maxdisplayed\": 10}, \"mode\": \"lines+markers\", \"name\": \"Trial18\", \"type\": \"scatter\", \"x\": [0, 1, 2, 3, 4, 5, 6, 7, 8, 9], \"y\": [0.009910279174001162, 0.00924455625083269, 0.00924713600014571, 0.009271505541161044, 0.009250037503634928, 0.009240338863193533, 0.009249775624258145, 0.009250375385332198, 0.009246147955760701, 0.009242994696584367]}, {\"marker\": {\"maxdisplayed\": 10}, \"mode\": \"lines+markers\", \"name\": \"Trial19\", \"type\": \"scatter\", \"x\": [0, 1, 2, 3], \"y\": [0.00238837203177986, 0.002251945884333113, 0.0022387274253032816, 0.0024523280120191684]}],\n",
       "                        {\"showlegend\": false, \"template\": {\"data\": {\"bar\": [{\"error_x\": {\"color\": \"#2a3f5f\"}, \"error_y\": {\"color\": \"#2a3f5f\"}, \"marker\": {\"line\": {\"color\": \"#E5ECF6\", \"width\": 0.5}}, \"type\": \"bar\"}], \"barpolar\": [{\"marker\": {\"line\": {\"color\": \"#E5ECF6\", \"width\": 0.5}}, \"type\": \"barpolar\"}], \"carpet\": [{\"aaxis\": {\"endlinecolor\": \"#2a3f5f\", \"gridcolor\": \"white\", \"linecolor\": \"white\", \"minorgridcolor\": \"white\", \"startlinecolor\": \"#2a3f5f\"}, \"baxis\": {\"endlinecolor\": \"#2a3f5f\", \"gridcolor\": \"white\", \"linecolor\": \"white\", \"minorgridcolor\": \"white\", \"startlinecolor\": \"#2a3f5f\"}, \"type\": \"carpet\"}], \"choropleth\": [{\"colorbar\": {\"outlinewidth\": 0, \"ticks\": \"\"}, \"type\": \"choropleth\"}], \"contour\": [{\"colorbar\": {\"outlinewidth\": 0, \"ticks\": \"\"}, \"colorscale\": [[0.0, \"#0d0887\"], [0.1111111111111111, \"#46039f\"], [0.2222222222222222, \"#7201a8\"], [0.3333333333333333, \"#9c179e\"], [0.4444444444444444, \"#bd3786\"], [0.5555555555555556, \"#d8576b\"], [0.6666666666666666, \"#ed7953\"], [0.7777777777777778, \"#fb9f3a\"], [0.8888888888888888, \"#fdca26\"], [1.0, \"#f0f921\"]], \"type\": \"contour\"}], \"contourcarpet\": [{\"colorbar\": {\"outlinewidth\": 0, \"ticks\": \"\"}, \"type\": \"contourcarpet\"}], \"heatmap\": [{\"colorbar\": {\"outlinewidth\": 0, \"ticks\": \"\"}, \"colorscale\": [[0.0, \"#0d0887\"], [0.1111111111111111, \"#46039f\"], [0.2222222222222222, \"#7201a8\"], [0.3333333333333333, \"#9c179e\"], [0.4444444444444444, \"#bd3786\"], [0.5555555555555556, \"#d8576b\"], [0.6666666666666666, \"#ed7953\"], [0.7777777777777778, \"#fb9f3a\"], [0.8888888888888888, \"#fdca26\"], [1.0, \"#f0f921\"]], \"type\": \"heatmap\"}], \"heatmapgl\": [{\"colorbar\": {\"outlinewidth\": 0, \"ticks\": \"\"}, \"colorscale\": [[0.0, \"#0d0887\"], [0.1111111111111111, \"#46039f\"], [0.2222222222222222, \"#7201a8\"], [0.3333333333333333, \"#9c179e\"], [0.4444444444444444, \"#bd3786\"], [0.5555555555555556, \"#d8576b\"], [0.6666666666666666, \"#ed7953\"], [0.7777777777777778, \"#fb9f3a\"], [0.8888888888888888, \"#fdca26\"], [1.0, \"#f0f921\"]], \"type\": \"heatmapgl\"}], \"histogram\": [{\"marker\": {\"colorbar\": {\"outlinewidth\": 0, \"ticks\": \"\"}}, \"type\": \"histogram\"}], \"histogram2d\": [{\"colorbar\": {\"outlinewidth\": 0, \"ticks\": \"\"}, \"colorscale\": [[0.0, \"#0d0887\"], [0.1111111111111111, \"#46039f\"], [0.2222222222222222, \"#7201a8\"], [0.3333333333333333, \"#9c179e\"], [0.4444444444444444, \"#bd3786\"], [0.5555555555555556, \"#d8576b\"], [0.6666666666666666, \"#ed7953\"], [0.7777777777777778, \"#fb9f3a\"], [0.8888888888888888, \"#fdca26\"], [1.0, \"#f0f921\"]], \"type\": \"histogram2d\"}], \"histogram2dcontour\": [{\"colorbar\": {\"outlinewidth\": 0, \"ticks\": \"\"}, \"colorscale\": [[0.0, \"#0d0887\"], [0.1111111111111111, \"#46039f\"], [0.2222222222222222, \"#7201a8\"], [0.3333333333333333, \"#9c179e\"], [0.4444444444444444, \"#bd3786\"], [0.5555555555555556, \"#d8576b\"], [0.6666666666666666, \"#ed7953\"], [0.7777777777777778, \"#fb9f3a\"], [0.8888888888888888, \"#fdca26\"], [1.0, \"#f0f921\"]], \"type\": \"histogram2dcontour\"}], \"mesh3d\": [{\"colorbar\": {\"outlinewidth\": 0, \"ticks\": \"\"}, \"type\": \"mesh3d\"}], \"parcoords\": [{\"line\": {\"colorbar\": {\"outlinewidth\": 0, \"ticks\": \"\"}}, \"type\": \"parcoords\"}], \"pie\": [{\"automargin\": true, \"type\": \"pie\"}], \"scatter\": [{\"marker\": {\"colorbar\": {\"outlinewidth\": 0, \"ticks\": \"\"}}, \"type\": \"scatter\"}], \"scatter3d\": [{\"line\": {\"colorbar\": {\"outlinewidth\": 0, \"ticks\": \"\"}}, \"marker\": {\"colorbar\": {\"outlinewidth\": 0, \"ticks\": \"\"}}, \"type\": \"scatter3d\"}], \"scattercarpet\": [{\"marker\": {\"colorbar\": {\"outlinewidth\": 0, \"ticks\": \"\"}}, \"type\": \"scattercarpet\"}], \"scattergeo\": [{\"marker\": {\"colorbar\": {\"outlinewidth\": 0, \"ticks\": \"\"}}, \"type\": \"scattergeo\"}], \"scattergl\": [{\"marker\": {\"colorbar\": {\"outlinewidth\": 0, \"ticks\": \"\"}}, \"type\": \"scattergl\"}], \"scattermapbox\": [{\"marker\": {\"colorbar\": {\"outlinewidth\": 0, \"ticks\": \"\"}}, \"type\": \"scattermapbox\"}], \"scatterpolar\": [{\"marker\": {\"colorbar\": {\"outlinewidth\": 0, \"ticks\": \"\"}}, \"type\": \"scatterpolar\"}], \"scatterpolargl\": [{\"marker\": {\"colorbar\": {\"outlinewidth\": 0, \"ticks\": \"\"}}, \"type\": \"scatterpolargl\"}], \"scatterternary\": [{\"marker\": {\"colorbar\": {\"outlinewidth\": 0, \"ticks\": \"\"}}, \"type\": \"scatterternary\"}], \"surface\": [{\"colorbar\": {\"outlinewidth\": 0, \"ticks\": \"\"}, \"colorscale\": [[0.0, \"#0d0887\"], [0.1111111111111111, \"#46039f\"], [0.2222222222222222, \"#7201a8\"], [0.3333333333333333, \"#9c179e\"], [0.4444444444444444, \"#bd3786\"], [0.5555555555555556, \"#d8576b\"], [0.6666666666666666, \"#ed7953\"], [0.7777777777777778, \"#fb9f3a\"], [0.8888888888888888, \"#fdca26\"], [1.0, \"#f0f921\"]], \"type\": \"surface\"}], \"table\": [{\"cells\": {\"fill\": {\"color\": \"#EBF0F8\"}, \"line\": {\"color\": \"white\"}}, \"header\": {\"fill\": {\"color\": \"#C8D4E3\"}, \"line\": {\"color\": \"white\"}}, \"type\": \"table\"}]}, \"layout\": {\"annotationdefaults\": {\"arrowcolor\": \"#2a3f5f\", \"arrowhead\": 0, \"arrowwidth\": 1}, \"coloraxis\": {\"colorbar\": {\"outlinewidth\": 0, \"ticks\": \"\"}}, \"colorscale\": {\"diverging\": [[0, \"#8e0152\"], [0.1, \"#c51b7d\"], [0.2, \"#de77ae\"], [0.3, \"#f1b6da\"], [0.4, \"#fde0ef\"], [0.5, \"#f7f7f7\"], [0.6, \"#e6f5d0\"], [0.7, \"#b8e186\"], [0.8, \"#7fbc41\"], [0.9, \"#4d9221\"], [1, \"#276419\"]], \"sequential\": [[0.0, \"#0d0887\"], [0.1111111111111111, \"#46039f\"], [0.2222222222222222, \"#7201a8\"], [0.3333333333333333, \"#9c179e\"], [0.4444444444444444, \"#bd3786\"], [0.5555555555555556, \"#d8576b\"], [0.6666666666666666, \"#ed7953\"], [0.7777777777777778, \"#fb9f3a\"], [0.8888888888888888, \"#fdca26\"], [1.0, \"#f0f921\"]], \"sequentialminus\": [[0.0, \"#0d0887\"], [0.1111111111111111, \"#46039f\"], [0.2222222222222222, \"#7201a8\"], [0.3333333333333333, \"#9c179e\"], [0.4444444444444444, \"#bd3786\"], [0.5555555555555556, \"#d8576b\"], [0.6666666666666666, \"#ed7953\"], [0.7777777777777778, \"#fb9f3a\"], [0.8888888888888888, \"#fdca26\"], [1.0, \"#f0f921\"]]}, \"colorway\": [\"#636efa\", \"#EF553B\", \"#00cc96\", \"#ab63fa\", \"#FFA15A\", \"#19d3f3\", \"#FF6692\", \"#B6E880\", \"#FF97FF\", \"#FECB52\"], \"font\": {\"color\": \"#2a3f5f\"}, \"geo\": {\"bgcolor\": \"white\", \"lakecolor\": \"white\", \"landcolor\": \"#E5ECF6\", \"showlakes\": true, \"showland\": true, \"subunitcolor\": \"white\"}, \"hoverlabel\": {\"align\": \"left\"}, \"hovermode\": \"closest\", \"mapbox\": {\"style\": \"light\"}, \"paper_bgcolor\": \"white\", \"plot_bgcolor\": \"#E5ECF6\", \"polar\": {\"angularaxis\": {\"gridcolor\": \"white\", \"linecolor\": \"white\", \"ticks\": \"\"}, \"bgcolor\": \"#E5ECF6\", \"radialaxis\": {\"gridcolor\": \"white\", \"linecolor\": \"white\", \"ticks\": \"\"}}, \"scene\": {\"xaxis\": {\"backgroundcolor\": \"#E5ECF6\", \"gridcolor\": \"white\", \"gridwidth\": 2, \"linecolor\": \"white\", \"showbackground\": true, \"ticks\": \"\", \"zerolinecolor\": \"white\"}, \"yaxis\": {\"backgroundcolor\": \"#E5ECF6\", \"gridcolor\": \"white\", \"gridwidth\": 2, \"linecolor\": \"white\", \"showbackground\": true, \"ticks\": \"\", \"zerolinecolor\": \"white\"}, \"zaxis\": {\"backgroundcolor\": \"#E5ECF6\", \"gridcolor\": \"white\", \"gridwidth\": 2, \"linecolor\": \"white\", \"showbackground\": true, \"ticks\": \"\", \"zerolinecolor\": \"white\"}}, \"shapedefaults\": {\"line\": {\"color\": \"#2a3f5f\"}}, \"ternary\": {\"aaxis\": {\"gridcolor\": \"white\", \"linecolor\": \"white\", \"ticks\": \"\"}, \"baxis\": {\"gridcolor\": \"white\", \"linecolor\": \"white\", \"ticks\": \"\"}, \"bgcolor\": \"#E5ECF6\", \"caxis\": {\"gridcolor\": \"white\", \"linecolor\": \"white\", \"ticks\": \"\"}}, \"title\": {\"x\": 0.05}, \"xaxis\": {\"automargin\": true, \"gridcolor\": \"white\", \"linecolor\": \"white\", \"ticks\": \"\", \"title\": {\"standoff\": 15}, \"zerolinecolor\": \"white\", \"zerolinewidth\": 2}, \"yaxis\": {\"automargin\": true, \"gridcolor\": \"white\", \"linecolor\": \"white\", \"ticks\": \"\", \"title\": {\"standoff\": 15}, \"zerolinecolor\": \"white\", \"zerolinewidth\": 2}}}, \"title\": {\"text\": \"Intermediate Values Plot\"}, \"xaxis\": {\"title\": {\"text\": \"Step\"}}, \"yaxis\": {\"title\": {\"text\": \"Intermediate Value\"}}},\n",
       "                        {\"responsive\": true}\n",
       "                    ).then(function(){\n",
       "                            \n",
       "var gd = document.getElementById('0626005d-c64f-4c7f-ae28-34ffd7e759f8');\n",
       "var x = new MutationObserver(function (mutations, observer) {{\n",
       "        var display = window.getComputedStyle(gd).display;\n",
       "        if (!display || display === 'none') {{\n",
       "            console.log([gd, 'removed!']);\n",
       "            Plotly.purge(gd);\n",
       "            observer.disconnect();\n",
       "        }}\n",
       "}});\n",
       "\n",
       "// Listen for the removal of the full notebook cells\n",
       "var notebookContainer = gd.closest('#notebook-container');\n",
       "if (notebookContainer) {{\n",
       "    x.observe(notebookContainer, {childList: true});\n",
       "}}\n",
       "\n",
       "// Listen for the clearing of the current output cell\n",
       "var outputEl = gd.closest('.output');\n",
       "if (outputEl) {{\n",
       "    x.observe(outputEl, {childList: true});\n",
       "}}\n",
       "\n",
       "                        })\n",
       "                };\n",
       "                });\n",
       "            </script>\n",
       "        </div>"
      ]
     },
     "metadata": {},
     "output_type": "display_data"
    }
   ],
   "source": [
    "scope = PlotlyScope()\n",
    "\n",
    "fig=optuna.visualization.plot_intermediate_values(study)\n",
    "with open(\"figure2.svg\", \"wb\") as f:\n",
    "    f.write(scope.transform(fig, format=\"svg\"))\n",
    "fig"
   ]
  },
  {
   "cell_type": "code",
   "execution_count": 67,
   "metadata": {},
   "outputs": [
    {
     "data": {
      "application/vnd.plotly.v1+json": {
       "config": {
        "plotlyServerURL": "https://plot.ly"
       },
       "data": [
        {
         "color": "rgba(244,22,100,0.6)",
         "opacity": 0.5,
         "type": "mesh3d",
         "x": [
          113.70417545642692,
          -42.822948955505275,
          -36.9720226584419,
          -75.10780355093193,
          60.5785340527275,
          -161.10770878161978,
          122.13682349515359,
          -53.284483062657195,
          22.3327367239969,
          -17.455926283418705,
          102.34755559314819,
          -144.2098496648358,
          -22.569204280945524,
          -26.883804826789095,
          79.36386096348062,
          -76.99238871198216,
          -12.069974528530503,
          -61.45008925449602,
          2.954962270091498,
          40.797064960107555
         ],
         "y": [
          -60.534054746710666,
          62.95980404117878,
          49.587489632603756,
          27.63718863960275,
          49.54707720954265,
          -37.60503225458832,
          -6.75896240352565,
          -51.46731888424878,
          -14.733844379430876,
          29.16955067060023,
          -38.041341344892,
          -21.821443977078754,
          -37.794498506577966,
          -46.48631028242958,
          -36.91853719602505,
          -0.6965529405395748,
          -61.45206917494028,
          12.892863379940069,
          91.28911974104288,
          40.81242883175346
         ],
         "z": [
          -7.6734220944645966,
          -35.50515856339345,
          -29.886331750033506,
          67.69818404110987,
          2.0323101910411587,
          -25.479825862774135,
          7.636619386698641,
          84.0102054591537,
          4.806358099265166,
          24.688124388296767,
          12.0068127982331,
          -14.089993859740746,
          -45.700727920885605,
          -13.9737088965151,
          -8.355769334991125,
          23.464927647287904,
          33.5593365549802,
          37.24408325214229,
          11.42349301017035,
          35.40564657082912
         ]
        }
       ],
       "layout": {
        "autosize": true,
        "margin": {
         "b": 0,
         "l": 0,
         "r": 0,
         "t": 0
        },
        "scene": {
         "aspectmode": "cube",
         "aspectratio": {
          "x": 1,
          "y": 1,
          "z": 1
         },
         "camera": {
          "center": {
           "x": 0,
           "y": 0,
           "z": 0
          },
          "eye": {
           "x": -1.4421203133219958,
           "y": -1.4421203133219955,
           "z": -7.924917799615416e-16
          },
          "projection": {
           "type": "perspective"
          },
          "up": {
           "x": 0,
           "y": 0,
           "z": 1
          }
         }
        },
        "template": {
         "data": {
          "bar": [
           {
            "error_x": {
             "color": "#2a3f5f"
            },
            "error_y": {
             "color": "#2a3f5f"
            },
            "marker": {
             "line": {
              "color": "#E5ECF6",
              "width": 0.5
             }
            },
            "type": "bar"
           }
          ],
          "barpolar": [
           {
            "marker": {
             "line": {
              "color": "#E5ECF6",
              "width": 0.5
             }
            },
            "type": "barpolar"
           }
          ],
          "carpet": [
           {
            "aaxis": {
             "endlinecolor": "#2a3f5f",
             "gridcolor": "white",
             "linecolor": "white",
             "minorgridcolor": "white",
             "startlinecolor": "#2a3f5f"
            },
            "baxis": {
             "endlinecolor": "#2a3f5f",
             "gridcolor": "white",
             "linecolor": "white",
             "minorgridcolor": "white",
             "startlinecolor": "#2a3f5f"
            },
            "type": "carpet"
           }
          ],
          "choropleth": [
           {
            "colorbar": {
             "outlinewidth": 0,
             "ticks": ""
            },
            "type": "choropleth"
           }
          ],
          "contour": [
           {
            "colorbar": {
             "outlinewidth": 0,
             "ticks": ""
            },
            "colorscale": [
             [
              0,
              "#0d0887"
             ],
             [
              0.1111111111111111,
              "#46039f"
             ],
             [
              0.2222222222222222,
              "#7201a8"
             ],
             [
              0.3333333333333333,
              "#9c179e"
             ],
             [
              0.4444444444444444,
              "#bd3786"
             ],
             [
              0.5555555555555556,
              "#d8576b"
             ],
             [
              0.6666666666666666,
              "#ed7953"
             ],
             [
              0.7777777777777778,
              "#fb9f3a"
             ],
             [
              0.8888888888888888,
              "#fdca26"
             ],
             [
              1,
              "#f0f921"
             ]
            ],
            "type": "contour"
           }
          ],
          "contourcarpet": [
           {
            "colorbar": {
             "outlinewidth": 0,
             "ticks": ""
            },
            "type": "contourcarpet"
           }
          ],
          "heatmap": [
           {
            "colorbar": {
             "outlinewidth": 0,
             "ticks": ""
            },
            "colorscale": [
             [
              0,
              "#0d0887"
             ],
             [
              0.1111111111111111,
              "#46039f"
             ],
             [
              0.2222222222222222,
              "#7201a8"
             ],
             [
              0.3333333333333333,
              "#9c179e"
             ],
             [
              0.4444444444444444,
              "#bd3786"
             ],
             [
              0.5555555555555556,
              "#d8576b"
             ],
             [
              0.6666666666666666,
              "#ed7953"
             ],
             [
              0.7777777777777778,
              "#fb9f3a"
             ],
             [
              0.8888888888888888,
              "#fdca26"
             ],
             [
              1,
              "#f0f921"
             ]
            ],
            "type": "heatmap"
           }
          ],
          "heatmapgl": [
           {
            "colorbar": {
             "outlinewidth": 0,
             "ticks": ""
            },
            "colorscale": [
             [
              0,
              "#0d0887"
             ],
             [
              0.1111111111111111,
              "#46039f"
             ],
             [
              0.2222222222222222,
              "#7201a8"
             ],
             [
              0.3333333333333333,
              "#9c179e"
             ],
             [
              0.4444444444444444,
              "#bd3786"
             ],
             [
              0.5555555555555556,
              "#d8576b"
             ],
             [
              0.6666666666666666,
              "#ed7953"
             ],
             [
              0.7777777777777778,
              "#fb9f3a"
             ],
             [
              0.8888888888888888,
              "#fdca26"
             ],
             [
              1,
              "#f0f921"
             ]
            ],
            "type": "heatmapgl"
           }
          ],
          "histogram": [
           {
            "marker": {
             "colorbar": {
              "outlinewidth": 0,
              "ticks": ""
             }
            },
            "type": "histogram"
           }
          ],
          "histogram2d": [
           {
            "colorbar": {
             "outlinewidth": 0,
             "ticks": ""
            },
            "colorscale": [
             [
              0,
              "#0d0887"
             ],
             [
              0.1111111111111111,
              "#46039f"
             ],
             [
              0.2222222222222222,
              "#7201a8"
             ],
             [
              0.3333333333333333,
              "#9c179e"
             ],
             [
              0.4444444444444444,
              "#bd3786"
             ],
             [
              0.5555555555555556,
              "#d8576b"
             ],
             [
              0.6666666666666666,
              "#ed7953"
             ],
             [
              0.7777777777777778,
              "#fb9f3a"
             ],
             [
              0.8888888888888888,
              "#fdca26"
             ],
             [
              1,
              "#f0f921"
             ]
            ],
            "type": "histogram2d"
           }
          ],
          "histogram2dcontour": [
           {
            "colorbar": {
             "outlinewidth": 0,
             "ticks": ""
            },
            "colorscale": [
             [
              0,
              "#0d0887"
             ],
             [
              0.1111111111111111,
              "#46039f"
             ],
             [
              0.2222222222222222,
              "#7201a8"
             ],
             [
              0.3333333333333333,
              "#9c179e"
             ],
             [
              0.4444444444444444,
              "#bd3786"
             ],
             [
              0.5555555555555556,
              "#d8576b"
             ],
             [
              0.6666666666666666,
              "#ed7953"
             ],
             [
              0.7777777777777778,
              "#fb9f3a"
             ],
             [
              0.8888888888888888,
              "#fdca26"
             ],
             [
              1,
              "#f0f921"
             ]
            ],
            "type": "histogram2dcontour"
           }
          ],
          "mesh3d": [
           {
            "colorbar": {
             "outlinewidth": 0,
             "ticks": ""
            },
            "type": "mesh3d"
           }
          ],
          "parcoords": [
           {
            "line": {
             "colorbar": {
              "outlinewidth": 0,
              "ticks": ""
             }
            },
            "type": "parcoords"
           }
          ],
          "pie": [
           {
            "automargin": true,
            "type": "pie"
           }
          ],
          "scatter": [
           {
            "marker": {
             "colorbar": {
              "outlinewidth": 0,
              "ticks": ""
             }
            },
            "type": "scatter"
           }
          ],
          "scatter3d": [
           {
            "line": {
             "colorbar": {
              "outlinewidth": 0,
              "ticks": ""
             }
            },
            "marker": {
             "colorbar": {
              "outlinewidth": 0,
              "ticks": ""
             }
            },
            "type": "scatter3d"
           }
          ],
          "scattercarpet": [
           {
            "marker": {
             "colorbar": {
              "outlinewidth": 0,
              "ticks": ""
             }
            },
            "type": "scattercarpet"
           }
          ],
          "scattergeo": [
           {
            "marker": {
             "colorbar": {
              "outlinewidth": 0,
              "ticks": ""
             }
            },
            "type": "scattergeo"
           }
          ],
          "scattergl": [
           {
            "marker": {
             "colorbar": {
              "outlinewidth": 0,
              "ticks": ""
             }
            },
            "type": "scattergl"
           }
          ],
          "scattermapbox": [
           {
            "marker": {
             "colorbar": {
              "outlinewidth": 0,
              "ticks": ""
             }
            },
            "type": "scattermapbox"
           }
          ],
          "scatterpolar": [
           {
            "marker": {
             "colorbar": {
              "outlinewidth": 0,
              "ticks": ""
             }
            },
            "type": "scatterpolar"
           }
          ],
          "scatterpolargl": [
           {
            "marker": {
             "colorbar": {
              "outlinewidth": 0,
              "ticks": ""
             }
            },
            "type": "scatterpolargl"
           }
          ],
          "scatterternary": [
           {
            "marker": {
             "colorbar": {
              "outlinewidth": 0,
              "ticks": ""
             }
            },
            "type": "scatterternary"
           }
          ],
          "surface": [
           {
            "colorbar": {
             "outlinewidth": 0,
             "ticks": ""
            },
            "colorscale": [
             [
              0,
              "#0d0887"
             ],
             [
              0.1111111111111111,
              "#46039f"
             ],
             [
              0.2222222222222222,
              "#7201a8"
             ],
             [
              0.3333333333333333,
              "#9c179e"
             ],
             [
              0.4444444444444444,
              "#bd3786"
             ],
             [
              0.5555555555555556,
              "#d8576b"
             ],
             [
              0.6666666666666666,
              "#ed7953"
             ],
             [
              0.7777777777777778,
              "#fb9f3a"
             ],
             [
              0.8888888888888888,
              "#fdca26"
             ],
             [
              1,
              "#f0f921"
             ]
            ],
            "type": "surface"
           }
          ],
          "table": [
           {
            "cells": {
             "fill": {
              "color": "#EBF0F8"
             },
             "line": {
              "color": "white"
             }
            },
            "header": {
             "fill": {
              "color": "#C8D4E3"
             },
             "line": {
              "color": "white"
             }
            },
            "type": "table"
           }
          ]
         },
         "layout": {
          "annotationdefaults": {
           "arrowcolor": "#2a3f5f",
           "arrowhead": 0,
           "arrowwidth": 1
          },
          "coloraxis": {
           "colorbar": {
            "outlinewidth": 0,
            "ticks": ""
           }
          },
          "colorscale": {
           "diverging": [
            [
             0,
             "#8e0152"
            ],
            [
             0.1,
             "#c51b7d"
            ],
            [
             0.2,
             "#de77ae"
            ],
            [
             0.3,
             "#f1b6da"
            ],
            [
             0.4,
             "#fde0ef"
            ],
            [
             0.5,
             "#f7f7f7"
            ],
            [
             0.6,
             "#e6f5d0"
            ],
            [
             0.7,
             "#b8e186"
            ],
            [
             0.8,
             "#7fbc41"
            ],
            [
             0.9,
             "#4d9221"
            ],
            [
             1,
             "#276419"
            ]
           ],
           "sequential": [
            [
             0,
             "#0d0887"
            ],
            [
             0.1111111111111111,
             "#46039f"
            ],
            [
             0.2222222222222222,
             "#7201a8"
            ],
            [
             0.3333333333333333,
             "#9c179e"
            ],
            [
             0.4444444444444444,
             "#bd3786"
            ],
            [
             0.5555555555555556,
             "#d8576b"
            ],
            [
             0.6666666666666666,
             "#ed7953"
            ],
            [
             0.7777777777777778,
             "#fb9f3a"
            ],
            [
             0.8888888888888888,
             "#fdca26"
            ],
            [
             1,
             "#f0f921"
            ]
           ],
           "sequentialminus": [
            [
             0,
             "#0d0887"
            ],
            [
             0.1111111111111111,
             "#46039f"
            ],
            [
             0.2222222222222222,
             "#7201a8"
            ],
            [
             0.3333333333333333,
             "#9c179e"
            ],
            [
             0.4444444444444444,
             "#bd3786"
            ],
            [
             0.5555555555555556,
             "#d8576b"
            ],
            [
             0.6666666666666666,
             "#ed7953"
            ],
            [
             0.7777777777777778,
             "#fb9f3a"
            ],
            [
             0.8888888888888888,
             "#fdca26"
            ],
            [
             1,
             "#f0f921"
            ]
           ]
          },
          "colorway": [
           "#636efa",
           "#EF553B",
           "#00cc96",
           "#ab63fa",
           "#FFA15A",
           "#19d3f3",
           "#FF6692",
           "#B6E880",
           "#FF97FF",
           "#FECB52"
          ],
          "font": {
           "color": "#2a3f5f"
          },
          "geo": {
           "bgcolor": "white",
           "lakecolor": "white",
           "landcolor": "#E5ECF6",
           "showlakes": true,
           "showland": true,
           "subunitcolor": "white"
          },
          "hoverlabel": {
           "align": "left"
          },
          "hovermode": "closest",
          "mapbox": {
           "style": "light"
          },
          "paper_bgcolor": "white",
          "plot_bgcolor": "#E5ECF6",
          "polar": {
           "angularaxis": {
            "gridcolor": "white",
            "linecolor": "white",
            "ticks": ""
           },
           "bgcolor": "#E5ECF6",
           "radialaxis": {
            "gridcolor": "white",
            "linecolor": "white",
            "ticks": ""
           }
          },
          "scene": {
           "xaxis": {
            "backgroundcolor": "#E5ECF6",
            "gridcolor": "white",
            "gridwidth": 2,
            "linecolor": "white",
            "showbackground": true,
            "ticks": "",
            "zerolinecolor": "white"
           },
           "yaxis": {
            "backgroundcolor": "#E5ECF6",
            "gridcolor": "white",
            "gridwidth": 2,
            "linecolor": "white",
            "showbackground": true,
            "ticks": "",
            "zerolinecolor": "white"
           },
           "zaxis": {
            "backgroundcolor": "#E5ECF6",
            "gridcolor": "white",
            "gridwidth": 2,
            "linecolor": "white",
            "showbackground": true,
            "ticks": "",
            "zerolinecolor": "white"
           }
          },
          "shapedefaults": {
           "line": {
            "color": "#2a3f5f"
           }
          },
          "ternary": {
           "aaxis": {
            "gridcolor": "white",
            "linecolor": "white",
            "ticks": ""
           },
           "baxis": {
            "gridcolor": "white",
            "linecolor": "white",
            "ticks": ""
           },
           "bgcolor": "#E5ECF6",
           "caxis": {
            "gridcolor": "white",
            "linecolor": "white",
            "ticks": ""
           }
          },
          "title": {
           "x": 0.05
          },
          "xaxis": {
           "automargin": true,
           "gridcolor": "white",
           "linecolor": "white",
           "ticks": "",
           "title": {
            "standoff": 15
           },
           "zerolinecolor": "white",
           "zerolinewidth": 2
          },
          "yaxis": {
           "automargin": true,
           "gridcolor": "white",
           "linecolor": "white",
           "ticks": "",
           "title": {
            "standoff": 15
           },
           "zerolinecolor": "white",
           "zerolinewidth": 2
          }
         }
        }
       }
      },
      "image/png": "[encoded data removed]",
      "text/html": [
       "<div>\n",
       "        \n",
       "        \n",
       "            <div id=\"9248eaf8-650c-40a8-a0af-ac62f89608b2\" class=\"plotly-graph-div\" style=\"height:525px; width:100%;\"></div>\n",
       "            <script type=\"text/javascript\">\n",
       "                require([\"plotly\"], function(Plotly) {\n",
       "                    window.PLOTLYENV=window.PLOTLYENV || {};\n",
       "                    \n",
       "                if (document.getElementById(\"9248eaf8-650c-40a8-a0af-ac62f89608b2\")) {\n",
       "                    Plotly.newPlot(\n",
       "                        '9248eaf8-650c-40a8-a0af-ac62f89608b2',\n",
       "                        [{\"color\": \"rgba(244,22,100,0.6)\", \"opacity\": 0.5, \"type\": \"mesh3d\", \"x\": [113.70417545642692, -42.822948955505275, -36.9720226584419, -75.10780355093193, 60.5785340527275, -161.10770878161978, 122.13682349515359, -53.284483062657195, 22.3327367239969, -17.455926283418705, 102.34755559314819, -144.2098496648358, -22.569204280945524, -26.883804826789095, 79.36386096348062, -76.99238871198216, -12.069974528530503, -61.45008925449602, 2.954962270091498, 40.797064960107555], \"y\": [-60.534054746710666, 62.95980404117878, 49.587489632603756, 27.63718863960275, 49.54707720954265, -37.60503225458832, -6.75896240352565, -51.46731888424878, -14.733844379430876, 29.16955067060023, -38.041341344892, -21.821443977078754, -37.794498506577966, -46.48631028242958, -36.91853719602505, -0.6965529405395748, -61.45206917494028, 12.892863379940069, 91.28911974104288, 40.81242883175346], \"z\": [-7.6734220944645966, -35.50515856339345, -29.886331750033506, 67.69818404110987, 2.0323101910411587, -25.479825862774135, 7.636619386698641, 84.0102054591537, 4.806358099265166, 24.688124388296767, 12.0068127982331, -14.089993859740746, -45.700727920885605, -13.9737088965151, -8.355769334991125, 23.464927647287904, 33.5593365549802, 37.24408325214229, 11.42349301017035, 35.40564657082912]}],\n",
       "                        {\"margin\": {\"b\": 0, \"l\": 0, \"r\": 0, \"t\": 0}, \"scene\": {\"aspectmode\": \"cube\", \"camera\": {\"eye\": {\"x\": -1, \"y\": -1, \"z\": 0}}}, \"template\": {\"data\": {\"bar\": [{\"error_x\": {\"color\": \"#2a3f5f\"}, \"error_y\": {\"color\": \"#2a3f5f\"}, \"marker\": {\"line\": {\"color\": \"#E5ECF6\", \"width\": 0.5}}, \"type\": \"bar\"}], \"barpolar\": [{\"marker\": {\"line\": {\"color\": \"#E5ECF6\", \"width\": 0.5}}, \"type\": \"barpolar\"}], \"carpet\": [{\"aaxis\": {\"endlinecolor\": \"#2a3f5f\", \"gridcolor\": \"white\", \"linecolor\": \"white\", \"minorgridcolor\": \"white\", \"startlinecolor\": \"#2a3f5f\"}, \"baxis\": {\"endlinecolor\": \"#2a3f5f\", \"gridcolor\": \"white\", \"linecolor\": \"white\", \"minorgridcolor\": \"white\", \"startlinecolor\": \"#2a3f5f\"}, \"type\": \"carpet\"}], \"choropleth\": [{\"colorbar\": {\"outlinewidth\": 0, \"ticks\": \"\"}, \"type\": \"choropleth\"}], \"contour\": [{\"colorbar\": {\"outlinewidth\": 0, \"ticks\": \"\"}, \"colorscale\": [[0.0, \"#0d0887\"], [0.1111111111111111, \"#46039f\"], [0.2222222222222222, \"#7201a8\"], [0.3333333333333333, \"#9c179e\"], [0.4444444444444444, \"#bd3786\"], [0.5555555555555556, \"#d8576b\"], [0.6666666666666666, \"#ed7953\"], [0.7777777777777778, \"#fb9f3a\"], [0.8888888888888888, \"#fdca26\"], [1.0, \"#f0f921\"]], \"type\": \"contour\"}], \"contourcarpet\": [{\"colorbar\": {\"outlinewidth\": 0, \"ticks\": \"\"}, \"type\": \"contourcarpet\"}], \"heatmap\": [{\"colorbar\": {\"outlinewidth\": 0, \"ticks\": \"\"}, \"colorscale\": [[0.0, \"#0d0887\"], [0.1111111111111111, \"#46039f\"], [0.2222222222222222, \"#7201a8\"], [0.3333333333333333, \"#9c179e\"], [0.4444444444444444, \"#bd3786\"], [0.5555555555555556, \"#d8576b\"], [0.6666666666666666, \"#ed7953\"], [0.7777777777777778, \"#fb9f3a\"], [0.8888888888888888, \"#fdca26\"], [1.0, \"#f0f921\"]], \"type\": \"heatmap\"}], \"heatmapgl\": [{\"colorbar\": {\"outlinewidth\": 0, \"ticks\": \"\"}, \"colorscale\": [[0.0, \"#0d0887\"], [0.1111111111111111, \"#46039f\"], [0.2222222222222222, \"#7201a8\"], [0.3333333333333333, \"#9c179e\"], [0.4444444444444444, \"#bd3786\"], [0.5555555555555556, \"#d8576b\"], [0.6666666666666666, \"#ed7953\"], [0.7777777777777778, \"#fb9f3a\"], [0.8888888888888888, \"#fdca26\"], [1.0, \"#f0f921\"]], \"type\": \"heatmapgl\"}], \"histogram\": [{\"marker\": {\"colorbar\": {\"outlinewidth\": 0, \"ticks\": \"\"}}, \"type\": \"histogram\"}], \"histogram2d\": [{\"colorbar\": {\"outlinewidth\": 0, \"ticks\": \"\"}, \"colorscale\": [[0.0, \"#0d0887\"], [0.1111111111111111, \"#46039f\"], [0.2222222222222222, \"#7201a8\"], [0.3333333333333333, \"#9c179e\"], [0.4444444444444444, \"#bd3786\"], [0.5555555555555556, \"#d8576b\"], [0.6666666666666666, \"#ed7953\"], [0.7777777777777778, \"#fb9f3a\"], [0.8888888888888888, \"#fdca26\"], [1.0, \"#f0f921\"]], \"type\": \"histogram2d\"}], \"histogram2dcontour\": [{\"colorbar\": {\"outlinewidth\": 0, \"ticks\": \"\"}, \"colorscale\": [[0.0, \"#0d0887\"], [0.1111111111111111, \"#46039f\"], [0.2222222222222222, \"#7201a8\"], [0.3333333333333333, \"#9c179e\"], [0.4444444444444444, \"#bd3786\"], [0.5555555555555556, \"#d8576b\"], [0.6666666666666666, \"#ed7953\"], [0.7777777777777778, \"#fb9f3a\"], [0.8888888888888888, \"#fdca26\"], [1.0, \"#f0f921\"]], \"type\": \"histogram2dcontour\"}], \"mesh3d\": [{\"colorbar\": {\"outlinewidth\": 0, \"ticks\": \"\"}, \"type\": \"mesh3d\"}], \"parcoords\": [{\"line\": {\"colorbar\": {\"outlinewidth\": 0, \"ticks\": \"\"}}, \"type\": \"parcoords\"}], \"pie\": [{\"automargin\": true, \"type\": \"pie\"}], \"scatter\": [{\"marker\": {\"colorbar\": {\"outlinewidth\": 0, \"ticks\": \"\"}}, \"type\": \"scatter\"}], \"scatter3d\": [{\"line\": {\"colorbar\": {\"outlinewidth\": 0, \"ticks\": \"\"}}, \"marker\": {\"colorbar\": {\"outlinewidth\": 0, \"ticks\": \"\"}}, \"type\": \"scatter3d\"}], \"scattercarpet\": [{\"marker\": {\"colorbar\": {\"outlinewidth\": 0, \"ticks\": \"\"}}, \"type\": \"scattercarpet\"}], \"scattergeo\": [{\"marker\": {\"colorbar\": {\"outlinewidth\": 0, \"ticks\": \"\"}}, \"type\": \"scattergeo\"}], \"scattergl\": [{\"marker\": {\"colorbar\": {\"outlinewidth\": 0, \"ticks\": \"\"}}, \"type\": \"scattergl\"}], \"scattermapbox\": [{\"marker\": {\"colorbar\": {\"outlinewidth\": 0, \"ticks\": \"\"}}, \"type\": \"scattermapbox\"}], \"scatterpolar\": [{\"marker\": {\"colorbar\": {\"outlinewidth\": 0, \"ticks\": \"\"}}, \"type\": \"scatterpolar\"}], \"scatterpolargl\": [{\"marker\": {\"colorbar\": {\"outlinewidth\": 0, \"ticks\": \"\"}}, \"type\": \"scatterpolargl\"}], \"scatterternary\": [{\"marker\": {\"colorbar\": {\"outlinewidth\": 0, \"ticks\": \"\"}}, \"type\": \"scatterternary\"}], \"surface\": [{\"colorbar\": {\"outlinewidth\": 0, \"ticks\": \"\"}, \"colorscale\": [[0.0, \"#0d0887\"], [0.1111111111111111, \"#46039f\"], [0.2222222222222222, \"#7201a8\"], [0.3333333333333333, \"#9c179e\"], [0.4444444444444444, \"#bd3786\"], [0.5555555555555556, \"#d8576b\"], [0.6666666666666666, \"#ed7953\"], [0.7777777777777778, \"#fb9f3a\"], [0.8888888888888888, \"#fdca26\"], [1.0, \"#f0f921\"]], \"type\": \"surface\"}], \"table\": [{\"cells\": {\"fill\": {\"color\": \"#EBF0F8\"}, \"line\": {\"color\": \"white\"}}, \"header\": {\"fill\": {\"color\": \"#C8D4E3\"}, \"line\": {\"color\": \"white\"}}, \"type\": \"table\"}]}, \"layout\": {\"annotationdefaults\": {\"arrowcolor\": \"#2a3f5f\", \"arrowhead\": 0, \"arrowwidth\": 1}, \"coloraxis\": {\"colorbar\": {\"outlinewidth\": 0, \"ticks\": \"\"}}, \"colorscale\": {\"diverging\": [[0, \"#8e0152\"], [0.1, \"#c51b7d\"], [0.2, \"#de77ae\"], [0.3, \"#f1b6da\"], [0.4, \"#fde0ef\"], [0.5, \"#f7f7f7\"], [0.6, \"#e6f5d0\"], [0.7, \"#b8e186\"], [0.8, \"#7fbc41\"], [0.9, \"#4d9221\"], [1, \"#276419\"]], \"sequential\": [[0.0, \"#0d0887\"], [0.1111111111111111, \"#46039f\"], [0.2222222222222222, \"#7201a8\"], [0.3333333333333333, \"#9c179e\"], [0.4444444444444444, \"#bd3786\"], [0.5555555555555556, \"#d8576b\"], [0.6666666666666666, \"#ed7953\"], [0.7777777777777778, \"#fb9f3a\"], [0.8888888888888888, \"#fdca26\"], [1.0, \"#f0f921\"]], \"sequentialminus\": [[0.0, \"#0d0887\"], [0.1111111111111111, \"#46039f\"], [0.2222222222222222, \"#7201a8\"], [0.3333333333333333, \"#9c179e\"], [0.4444444444444444, \"#bd3786\"], [0.5555555555555556, \"#d8576b\"], [0.6666666666666666, \"#ed7953\"], [0.7777777777777778, \"#fb9f3a\"], [0.8888888888888888, \"#fdca26\"], [1.0, \"#f0f921\"]]}, \"colorway\": [\"#636efa\", \"#EF553B\", \"#00cc96\", \"#ab63fa\", \"#FFA15A\", \"#19d3f3\", \"#FF6692\", \"#B6E880\", \"#FF97FF\", \"#FECB52\"], \"font\": {\"color\": \"#2a3f5f\"}, \"geo\": {\"bgcolor\": \"white\", \"lakecolor\": \"white\", \"landcolor\": \"#E5ECF6\", \"showlakes\": true, \"showland\": true, \"subunitcolor\": \"white\"}, \"hoverlabel\": {\"align\": \"left\"}, \"hovermode\": \"closest\", \"mapbox\": {\"style\": \"light\"}, \"paper_bgcolor\": \"white\", \"plot_bgcolor\": \"#E5ECF6\", \"polar\": {\"angularaxis\": {\"gridcolor\": \"white\", \"linecolor\": \"white\", \"ticks\": \"\"}, \"bgcolor\": \"#E5ECF6\", \"radialaxis\": {\"gridcolor\": \"white\", \"linecolor\": \"white\", \"ticks\": \"\"}}, \"scene\": {\"xaxis\": {\"backgroundcolor\": \"#E5ECF6\", \"gridcolor\": \"white\", \"gridwidth\": 2, \"linecolor\": \"white\", \"showbackground\": true, \"ticks\": \"\", \"zerolinecolor\": \"white\"}, \"yaxis\": {\"backgroundcolor\": \"#E5ECF6\", \"gridcolor\": \"white\", \"gridwidth\": 2, \"linecolor\": \"white\", \"showbackground\": true, \"ticks\": \"\", \"zerolinecolor\": \"white\"}, \"zaxis\": {\"backgroundcolor\": \"#E5ECF6\", \"gridcolor\": \"white\", \"gridwidth\": 2, \"linecolor\": \"white\", \"showbackground\": true, \"ticks\": \"\", \"zerolinecolor\": \"white\"}}, \"shapedefaults\": {\"line\": {\"color\": \"#2a3f5f\"}}, \"ternary\": {\"aaxis\": {\"gridcolor\": \"white\", \"linecolor\": \"white\", \"ticks\": \"\"}, \"baxis\": {\"gridcolor\": \"white\", \"linecolor\": \"white\", \"ticks\": \"\"}, \"bgcolor\": \"#E5ECF6\", \"caxis\": {\"gridcolor\": \"white\", \"linecolor\": \"white\", \"ticks\": \"\"}}, \"title\": {\"x\": 0.05}, \"xaxis\": {\"automargin\": true, \"gridcolor\": \"white\", \"linecolor\": \"white\", \"ticks\": \"\", \"title\": {\"standoff\": 15}, \"zerolinecolor\": \"white\", \"zerolinewidth\": 2}, \"yaxis\": {\"automargin\": true, \"gridcolor\": \"white\", \"linecolor\": \"white\", \"ticks\": \"\", \"title\": {\"standoff\": 15}, \"zerolinecolor\": \"white\", \"zerolinewidth\": 2}}}},\n",
       "                        {\"responsive\": true}\n",
       "                    ).then(function(){\n",
       "                            \n",
       "var gd = document.getElementById('9248eaf8-650c-40a8-a0af-ac62f89608b2');\n",
       "var x = new MutationObserver(function (mutations, observer) {{\n",
       "        var display = window.getComputedStyle(gd).display;\n",
       "        if (!display || display === 'none') {{\n",
       "            console.log([gd, 'removed!']);\n",
       "            Plotly.purge(gd);\n",
       "            observer.disconnect();\n",
       "        }}\n",
       "}});\n",
       "\n",
       "// Listen for the removal of the full notebook cells\n",
       "var notebookContainer = gd.closest('#notebook-container');\n",
       "if (notebookContainer) {{\n",
       "    x.observe(notebookContainer, {childList: true});\n",
       "}}\n",
       "\n",
       "// Listen for the clearing of the current output cell\n",
       "var outputEl = gd.closest('.output');\n",
       "if (outputEl) {{\n",
       "    x.observe(outputEl, {childList: true});\n",
       "}}\n",
       "\n",
       "                        })\n",
       "                };\n",
       "                });\n",
       "            </script>\n",
       "        </div>"
      ]
     },
     "metadata": {},
     "output_type": "display_data"
    }
   ],
   "source": [
    "import plotly.graph_objects as go\n",
    "import numpy as np\n",
    "np.random.seed(1)\n",
    "scope = PlotlyScope()\n",
    "N = 20\n",
    "fig = go.Figure(data=[go.Mesh3d(x=(70*np.random.randn(N)),\n",
    "                   y=(55*np.random.randn(N)),\n",
    "                   z=(40*np.random.randn(N)),\n",
    "                   opacity=0.5,\n",
    "                   color='rgba(244,22,100,0.6)'\n",
    "                  )])\n",
    "\n",
    "fig.update_layout(scene = dict(\n",
    "                    camera=dict(eye=dict(x=-1, y=-1, z=0)),\n",
    "                    aspectmode=\"cube\",),\n",
    "                    margin=dict( r=0, l=0, b=0, t=0),\n",
    "                    \n",
    "                  )\n",
    "\n",
    "fig.show()\n",
    "with open(\"figure3.svg\", \"wb\") as f:\n",
    "    f.write(scope.transform(fig, format=\"svg\"))"
   ]
  },
  {
   "cell_type": "code",
   "execution_count": 126,
   "metadata": {},
   "outputs": [
    {
     "data": {
      "application/vnd.plotly.v1+json": {
       "config": {
        "plotlyServerURL": "https://plot.ly"
       },
       "data": [
        {
         "customdata": [
          [
           "./dk_data/tom_high/Roland Tr-909-TR-909Tom Hi 01.wav"
          ],
          [
           "./dk_data/tom_high/Kawai R50e-R50eTomA_Hi.wav"
          ],
          [
           "./dk_data/tom_high/Vermona Drum-MaxV - Tom Hi.wav"
          ],
          [
           "./dk_data/tom_high/Kawai R50-R50 TomH.wav"
          ],
          [
           "./dk_data/tom_high/Alesis Hr16-MaxV - HR16 10-DBL TOM.wav"
          ],
          [
           "./dk_data/tom_high/Yamaha RX21-RX21Tom_Hi.wav"
          ],
          [
           "./dk_data/tom_high/Alesis DM5-DM5Tom03_Hi.wav"
          ],
          [
           "./dk_data/tom_high/Yamaha SY22-Tom2elsy45.wav"
          ],
          [
           "./dk_data/tom_high/mercure_drums-gd-tom1.wav"
          ],
          [
           "./dk_data/tom_high/Emu Drumulator-DrumulatorTom03.wav"
          ],
          [
           "./dk_data/tom_high/Kawai r-50-MaxV - RTOMHREV.wav"
          ],
          [
           "./dk_data/tom_high/Alesis DM5-DM5Tom04_Hi.wav"
          ],
          [
           "./dk_data/tom_high/Sequential Tom-TOMTom_Hi.wav"
          ],
          [
           "./dk_data/tom_high/Emu Drumulator-DrumulatorTom02.wav"
          ],
          [
           "./dk_data/tom_high/Roland Tr-606-TR606TomHi05.wav"
          ],
          [
           "./dk_data/tom_high/Akai Mpc60-MaxV - Tom High.wav"
          ],
          [
           "./dk_data/tom_high/Coron Drum Synce DS-7-coron-ds7-tom7.wav"
          ],
          [
           "./dk_data/tom_high/Roland Tr-909-TR-909Tom Hi 02.wav"
          ],
          [
           "./dk_data/tom_high/Sequential DrumTraks Tom-MaxV - Tom Hi.wav"
          ],
          [
           "./dk_data/tom_high/Boss DR-202-202tom01.wav"
          ],
          [
           "./dk_data/tom_high/Coron Drum Synce DS-7-coron-ds7-tom5.wav"
          ],
          [
           "./dk_data/tom_high/Roland Tr-606-TR606TomHi_OD.wav"
          ],
          [
           "./dk_data/tom_high/Roland MC303-MaxV - Achitom2.wav"
          ],
          [
           "./dk_data/tom_high/Alesis Hr16-HR16Tom02.wav"
          ],
          [
           "./dk_data/tom_high/Roland Tr-606-MaxV - Roland Tr-606 - Tom-Hi.wav"
          ],
          [
           "./dk_data/tom_high/Alesis DM5-DM5Tom02_Hi.wav"
          ],
          [
           "./dk_data/tom_high/Akai XR10-XR10HiTom03.wav"
          ],
          [
           "./dk_data/tom_high/Alesis DM5-DM5Tom01_Hi.wav"
          ],
          [
           "./dk_data/tom_high/AKAI XE-8-MaxV - XE8 Tom High int_12.wav"
          ],
          [
           "./dk_data/tom_high/Fricke MFB 512-MaxV - Tom High.wav"
          ],
          [
           "./dk_data/tom_high/Kawai r-50-MaxV - ATOMSDGA.wav"
          ]
         ],
         "hovertemplate": "drum_type=tom_high<br>D1=%{x}<br>D2=%{y}<br>D3=%{z}<br>path=%{customdata[0]}<extra></extra>",
         "legendgroup": "tom_high",
         "marker": {
          "color": "#2E91E5",
          "line": {
           "color": "DarkSlateGrey",
           "width": 0
          },
          "size": 8,
          "symbol": "circle"
         },
         "mode": "markers",
         "name": "tom_high",
         "scene": "scene",
         "showlegend": true,
         "type": "scatter3d",
         "x": [
          19.722033,
          18.804049,
          6.3223133,
          15.8800125,
          16.978023999999998,
          18.582457,
          14.781610500000001,
          17.12831,
          20.28966,
          -7.7262383,
          18.847153,
          15.197134,
          15.786109,
          14.853873000000002,
          17.681147,
          17.254414,
          -14.869064000000002,
          10.361419999999999,
          15.533519,
          8.646336,
          -13.763152,
          19.408707,
          19.110216,
          18.041045999999998,
          17.815834,
          17.077254999999997,
          16.94205,
          16.149714000000003,
          15.838669,
          17.324438,
          16.71549
         ],
         "y": [
          -1.9588776999999997,
          -3.264532,
          -10.138191,
          7.086740499999999,
          -3.7842872000000005,
          -3.3941522000000006,
          -1.216827,
          5.645736,
          -2.598214,
          1.5844989999999999,
          -1.7524950000000001,
          0.44690737,
          -5.021056,
          -1.0360129999999999,
          -8.544791,
          3.4135947,
          8.226868,
          -3.588247,
          -3.1121863999999997,
          -7.2795863,
          -1.3651937,
          0.8140098000000001,
          2.5435543,
          1.7458907,
          -8.540393,
          -1.8465245,
          2.9402142,
          -8.740514,
          -1.5645425,
          -4.800423,
          2.9438264
         ],
         "z": [
          1.8199376,
          -0.7455913000000001,
          2.249767,
          -6.3474236,
          2.3625287999999998,
          3.6557157,
          8.514452,
          6.452076,
          4.1850796,
          -10.727784,
          -0.31160134,
          6.551057,
          7.680136999999999,
          6.9022464999999995,
          -0.30451235,
          4.186451,
          5.506343,
          9.841268,
          7.3091173,
          2.7822697,
          -8.626458,
          2.7998466,
          2.2522237,
          5.514638400000001,
          1.4555001,
          3.8619642,
          2.5281103,
          1.7877693,
          6.056585,
          4.3716803,
          -1.2035314
         ]
        },
        {
         "customdata": [
          [
           "./dk_data/tom_low/Visco Space drums-MaxV - Tom Lo.wav"
          ],
          [
           "./dk_data/tom_low/Yamaha RX-11-MaxV - RX11 TOM3.wav"
          ],
          [
           "./dk_data/tom_low/Korg DDM110-Ddm110Tom_Lo.wav"
          ],
          [
           "./dk_data/tom_low/Linn Drum LM1-tom6.wav"
          ],
          [
           "./dk_data/tom_low/Alesis DM5-DM5Tom10_Lo.wav"
          ],
          [
           "./dk_data/tom_low/Akai Mpc60-MaxV - Tom Low 2.wav"
          ],
          [
           "./dk_data/tom_low/Linn Drum LM1-tom1.wav"
          ],
          [
           "./dk_data/tom_low/Roland R-8-R8Tom35.wav"
          ],
          [
           "./dk_data/tom_low/Alesis DM5-DM5Tom12_Lo.wav"
          ],
          [
           "./dk_data/tom_low/Roland SH-09-MaxV - stompbass4.wav"
          ],
          [
           "./dk_data/tom_low/Roland R-8-R8Tom27.wav"
          ],
          [
           "./dk_data/tom_low/Fairlight IIx-MaxV - DeepTom.wav"
          ],
          [
           "./dk_data/tom_low/Roland Tr-606-TR606TomLo02.wav"
          ],
          [
           "./dk_data/tom_low/Akai XR10-XR10LoTom03.wav"
          ],
          [
           "./dk_data/tom_low/Roland JD-990-MaxV - RIM-TOM4.wav"
          ],
          [
           "./dk_data/tom_low/Suzuki RPM-40-MaxV - Tom.wav"
          ],
          [
           "./dk_data/tom_low/Linn Drum LM2-Linn lo tom.wav"
          ],
          [
           "./dk_data/tom_low/Korg MS-20-MaxV - TomLo.wav"
          ],
          [
           "./dk_data/tom_low/Alesis DM5-DM5Tom01_Lo.wav"
          ],
          [
           "./dk_data/tom_low/Kurzweil K2000 ROM-MaxV - lotom.wav"
          ],
          [
           "./dk_data/tom_low/Alesis DM5-DM5Tom20_Lo.wav"
          ],
          [
           "./dk_data/tom_low/Virtual MPC Electronics-MaxV - Tom.wav"
          ],
          [
           "./dk_data/tom_low/Alesis DM5-DM5Tom18_Lo.wav"
          ],
          [
           "./dk_data/tom_low/Alesis DM5-DM5Tom05_Lo.wav"
          ],
          [
           "./dk_data/tom_low/Roland R-5-R-5 Room Ambient Tom 1.wav"
          ],
          [
           "./dk_data/tom_low/DPM-48-TOM3.wav"
          ],
          [
           "./dk_data/tom_low/Kawai r-50-MaxV - ETOMLR50.wav"
          ],
          [
           "./dk_data/tom_low/Akai XR10-XR10LoTom04.wav"
          ],
          [
           "./dk_data/tom_low/Roland Tr-606-TR606TomLo_OD.wav"
          ],
          [
           "./dk_data/tom_low/Yamaha MR10-MR10Tom_Lo.wav"
          ],
          [
           "./dk_data/tom_low/Roland R-8-R8Tom16.wav"
          ],
          [
           "./dk_data/tom_low/Kawai XD5-XD5TomLo.wav"
          ],
          [
           "./dk_data/tom_low/Simmons SDS5-SDSTomE2.wav"
          ],
          [
           "./dk_data/tom_low/Boss DR-202-202tom06.wav"
          ],
          [
           "./dk_data/tom_low/Yamaha RX21-RX21Tom_Lo.wav"
          ],
          [
           "./dk_data/tom_low/Roland R-8-R8Tom19.wav"
          ],
          [
           "./dk_data/tom_low/Emu Drumulator-DrumulatorETomLo.wav"
          ]
         ],
         "hovertemplate": "drum_type=tom_low<br>D1=%{x}<br>D2=%{y}<br>D3=%{z}<br>path=%{customdata[0]}<extra></extra>",
         "legendgroup": "tom_low",
         "marker": {
          "color": "#E15F99",
          "line": {
           "color": "DarkSlateGrey",
           "width": 0
          },
          "size": 8,
          "symbol": "circle"
         },
         "mode": "markers",
         "name": "tom_low",
         "scene": "scene",
         "showlegend": true,
         "type": "scatter3d",
         "x": [
          11.415589,
          11.441424000000001,
          12.845717,
          19.110115,
          13.965582000000001,
          15.243335,
          18.256204999999998,
          14.859928,
          15.431134,
          10.367918,
          11.787411,
          7.7803054000000005,
          16.663342,
          14.86095,
          16.1988,
          19.775515,
          20.28337,
          14.906673999999999,
          7.576457,
          17.1714,
          18.034407,
          15.098304,
          15.387407000000001,
          11.868349,
          13.409075,
          10.752017,
          14.57719,
          16.137878,
          17.169538,
          9.097327,
          16.659585999999997,
          13.353056,
          15.581078,
          12.971248,
          12.622771,
          11.993007,
          18.600657
         ],
         "y": [
          -4.992024400000001,
          -5.037765,
          -4.1101410000000005,
          1.4056075000000001,
          0.06281113,
          -2.3223531000000004,
          0.84890205,
          -0.8508447,
          4.568474299999999,
          -10.856512,
          -5.549247,
          -3.565357,
          -7.497064599999999,
          4.9622636,
          4.6230720000000005,
          -3.54524,
          -3.8843956,
          5.703409,
          -7.397668400000001,
          -0.4925483,
          3.6185777000000003,
          -5.2243505,
          2.8977692000000004,
          -5.190138,
          -8.599584,
          4.228182299999999,
          -1.6307931999999998,
          -3.4677910000000005,
          1.5357728000000002,
          -7.557537599999999,
          3.9006479,
          -1.6699994999999999,
          2.6500466,
          -0.5683534,
          -5.1257806,
          -8.148893,
          2.6531591
         ],
         "z": [
          13.728229,
          8.946797,
          7.634646400000001,
          4.017836,
          8.892485,
          4.4771985999999995,
          1.8751804,
          3.9992163,
          6.557483,
          -1.8014863,
          5.6678667,
          11.412436999999999,
          2.5709252,
          4.8344707,
          4.8446794,
          0.7987905,
          2.4590454,
          6.088093,
          10.182217,
          2.9938667000000003,
          5.7847733,
          4.9196860000000004,
          6.639683,
          12.027182,
          11.6892,
          8.979271,
          5.5513096,
          4.4517937000000005,
          4.372882,
          7.8542,
          7.860925999999999,
          5.3401055,
          4.64441,
          9.411705,
          9.908535,
          12.830561,
          4.3105345
         ]
        },
        {
         "customdata": [
          [
           "./dk_data/snare/Emu Sp12-big esnare.wav"
          ],
          [
           "./dk_data/snare/Roland Tr-909-TR-909Snare 17.wav"
          ],
          [
           "./dk_data/snare/Alesis DM5-DM5Snare095.wav"
          ],
          [
           "./dk_data/snare/KORG DDD-1-MaxV - DDD1 snare2.wav"
          ],
          [
           "./dk_data/snare/Roland Tr-808-TR-808Snare11.wav"
          ],
          [
           "./dk_data/snare/Roland Tr-909-TR-909Snare 26.wav"
          ],
          [
           "./dk_data/snare/Alesis Hr16-HR16Snare01.wav"
          ],
          [
           "./dk_data/snare/Alesis DM5-DM5Snare066.wav"
          ],
          [
           "./dk_data/snare/Roland TR-55-MaxV - Snare.wav"
          ],
          [
           "./dk_data/snare/Roland JV 1080-MaxV - Snare1.wav"
          ],
          [
           "./dk_data/snare/Alesis Hr16-HR16Snare06.wav"
          ],
          [
           "./dk_data/snare/Alesis DM5-DM5Snare016.wav"
          ],
          [
           "./dk_data/snare/Akai XR10-XR10Snare01.wav"
          ],
          [
           "./dk_data/snare/MultiMoog-MaxV - Tiny Punch Snare.AIFF"
          ],
          [
           "./dk_data/snare/mercure_drums-gd-snr3.wav"
          ],
          [
           "./dk_data/snare/Alesis DM5-DM5Snare082.wav"
          ],
          [
           "./dk_data/snare/mercure_drums-p-snr1.wav"
          ],
          [
           "./dk_data/snare/Alesis DM5-DM5Snare055.wav"
          ],
          [
           "./dk_data/snare/Alesis DM5-DM5Snare084.wav"
          ],
          [
           "./dk_data/snare/Boss DR-202-202snr27.wav"
          ],
          [
           "./dk_data/snare/Roland MC09-MC09 Snare10.wav"
          ],
          [
           "./dk_data/snare/Boss DR-660-DR-660Snare52.wav"
          ],
          [
           "./dk_data/snare/Roland R-8-R8Snare06.wav"
          ],
          [
           "./dk_data/snare/Alesis DM5-DM5Snare049.wav"
          ],
          [
           "./dk_data/snare/MultiMoog-MaxV - FilterSnare.wav"
          ],
          [
           "./dk_data/snare/Alesis DM5-DM5Snare101.wav"
          ],
          [
           "./dk_data/snare/Roland Tr-808-TR-808Snare04.wav"
          ],
          [
           "./dk_data/snare/Lel UDS-MaxV - Snare 1.wav"
          ],
          [
           "./dk_data/snare/Alesis DM5-DM5Snare069.wav"
          ],
          [
           "./dk_data/snare/Alesis DM5-DM5Snare109.wav"
          ],
          [
           "./dk_data/snare/Roland R-8-R8Snare45.wav"
          ],
          [
           "./dk_data/snare/AKAI XE-8-MaxV - XE8 Snare 3 int_10.wav"
          ],
          [
           "./dk_data/snare/Boss DR-660-DR-660Snare47.wav"
          ],
          [
           "./dk_data/snare/Roland R-8-R8Snare36.wav"
          ],
          [
           "./dk_data/snare/Roland R-8-R8Snare17.wav"
          ],
          [
           "./dk_data/snare/MultiMoog-MaxV - Vilonter Snare.AIFF"
          ],
          [
           "./dk_data/snare/Kawai R50e-R50eSnare02.wav"
          ],
          [
           "./dk_data/snare/Yamaha RY30-RY30Snare02.wav"
          ],
          [
           "./dk_data/snare/Boss DR-202-202snr48.wav"
          ],
          [
           "./dk_data/snare/Luxor Passet-MaxV - Snare 2.wav"
          ],
          [
           "./dk_data/snare/Yamaha RX-5-MaxV - RX5FMSNR.wav"
          ],
          [
           "./dk_data/snare/KorgMP7-Snare2.wav"
          ],
          [
           "./dk_data/snare/Roland R-8-R8Snare14.wav"
          ],
          [
           "./dk_data/snare/mercure_drums-gd-snr6.wav"
          ],
          [
           "./dk_data/snare/Roland SC-88-MaxV - D2 Standard1 Snare1.wav"
          ],
          [
           "./dk_data/snare/Boss DR-660-DR-660Snare06.wav"
          ],
          [
           "./dk_data/snare/Boss DR-660-DR-660Snare07.wav"
          ],
          [
           "./dk_data/snare/Yamaha RY30-RY30Snare08.wav"
          ],
          [
           "./dk_data/snare/Boss DR-660-DR-660Snare60.wav"
          ],
          [
           "./dk_data/snare/Boss DR-660-DR-660Snare28.wav"
          ],
          [
           "./dk_data/snare/Alesis DM5-DM5Snare087.wav"
          ],
          [
           "./dk_data/snare/Boss DR-202-202snr46.wav"
          ],
          [
           "./dk_data/snare/Alesis D4fx-MaxV - Snare 8.wav"
          ],
          [
           "./dk_data/snare/Roland Tr-909-TR-909Snare 05.wav"
          ],
          [
           "./dk_data/snare/Alesis Hr16-HR16Snare04.wav"
          ],
          [
           "./dk_data/snare/Yamaha RY30-RY30Snare11.wav"
          ],
          [
           "./dk_data/snare/Roland MC09-MC09 Snare02.wav"
          ],
          [
           "./dk_data/snare/Boss DR-660-DR-660Snare77.wav"
          ],
          [
           "./dk_data/snare/Boss DR-660-DR-660Snare66.wav"
          ],
          [
           "./dk_data/snare/Alesis Hr16b-MaxV - Snare 3.wav"
          ],
          [
           "./dk_data/snare/Boss DR-660-DR-660Snare21.wav"
          ],
          [
           "./dk_data/snare/Roland Tr-909-TR-909Snare 07.wav"
          ],
          [
           "./dk_data/snare/Kawai R50e-R50eSnare04.wav"
          ],
          [
           "./dk_data/snare/Roland Tr-909-TR-909Snare 16.wav"
          ],
          [
           "./dk_data/snare/Wurlitzer Swinging Rhythm-MaxV - Snare2.wav"
          ],
          [
           "./dk_data/snare/Alesis DM5-DM5Snare050.wav"
          ],
          [
           "./dk_data/snare/Boss DR-660-DR-660Snare58.wav"
          ],
          [
           "./dk_data/snare/Alesis Sr16-SR16Snare09.wav"
          ],
          [
           "./dk_data/snare/Hammond Rhythm-MaxV - Snare2.wav"
          ],
          [
           "./dk_data/snare/Alesis DM5-DM5Snare073.wav"
          ],
          [
           "./dk_data/snare/Boss DR-660-DR-660Snare32.wav"
          ],
          [
           "./dk_data/snare/Roland R-8-R8Snare08.wav"
          ],
          [
           "./dk_data/snare/mercure_drums-tt-snr1.wav"
          ],
          [
           "./dk_data/snare/Alesis DM5-DM5Snare059.wav"
          ],
          [
           "./dk_data/snare/Oberheim Dmx-DMXSnare02.wav"
          ],
          [
           "./dk_data/snare/Simmons SDS5-SDSnare06.wav"
          ],
          [
           "./dk_data/snare/Yamaha PS-55-Acoustic Snare.wav"
          ],
          [
           "./dk_data/snare/Vermona Drum-MaxV - Snare.wav"
          ],
          [
           "./dk_data/snare/Boss DR-660-DR-660Snare48.wav"
          ],
          [
           "./dk_data/snare/Alesis DM5-DM5Snare036.wav"
          ],
          [
           "./dk_data/snare/Alesis D4fx-MaxV - Snare 10.wav"
          ],
          [
           "./dk_data/snare/Alesis DM5-DM5Snare103.wav"
          ],
          [
           "./dk_data/snare/Boss DR-660-DR-660Snare45.wav"
          ],
          [
           "./dk_data/snare/Acetone Rhythm King-MaxV - Snare.wav"
          ],
          [
           "./dk_data/snare/Boss DR-202-202snr41.wav"
          ],
          [
           "./dk_data/snare/Yamaha RY30-RY30Snare14.wav"
          ],
          [
           "./dk_data/snare/Alesis DM5-DM5Snare102.wav"
          ],
          [
           "./dk_data/snare/Simmons SDS5-SDSnare02.wav"
          ],
          [
           "./dk_data/snare/Alesis Sr16-SR16Snare04.wav"
          ],
          [
           "./dk_data/snare/Korg SR-120-MaxV - Snare.wav"
          ],
          [
           "./dk_data/snare/Alesis DM5-DM5Snare071.wav"
          ],
          [
           "./dk_data/snare/Alesis DM5-DM5Snare039.wav"
          ],
          [
           "./dk_data/snare/Fairlight IIx-MaxV - SNREL.wav"
          ],
          [
           "./dk_data/snare/Alesis DM5-DM5Snare091.wav"
          ],
          [
           "./dk_data/snare/Roland Tr-626-TR-626Snare03.wav"
          ],
          [
           "./dk_data/snare/Boss DR-202-202snr14.wav"
          ],
          [
           "./dk_data/snare/Alesis DM5-DM5Snare085.wav"
          ],
          [
           "./dk_data/snare/Boss DR-202-202snr06.wav"
          ],
          [
           "./dk_data/snare/Hammond Autovari 64-MaxV - Snare2.wav"
          ],
          [
           "./dk_data/snare/Ruby Orla-MaxV - Snare.wav"
          ],
          [
           "./dk_data/snare/Boss DR-660-DR-660Snare35.wav"
          ],
          [
           "./dk_data/snare/Emu Sp12-snare3.wav"
          ],
          [
           "./dk_data/snare/mercure_drums-gd-snr2.wav"
          ],
          [
           "./dk_data/snare/Roland R-8-R8Snare25.wav"
          ],
          [
           "./dk_data/snare/Fairlight IIx-MaxV - SymSnre2.wav"
          ],
          [
           "./dk_data/snare/Roland Tr-909-TR-909Snare 11.wav"
          ],
          [
           "./dk_data/snare/Roland Tr-909-TR-909Snare 20.wav"
          ],
          [
           "./dk_data/snare/Alesis D4fx-MaxV - Snare 5.wav"
          ],
          [
           "./dk_data/snare/Moog mg-1-MaxV - Snare-c1.wav"
          ],
          [
           "./dk_data/snare/Casio PT-30-MaxV - Snare.wav"
          ],
          [
           "./dk_data/snare/XE8-XE8 Snare 3 int_10.wav"
          ],
          [
           "./dk_data/snare/Boss DR-202-202snr45.wav"
          ],
          [
           "./dk_data/snare/Alesis D4fx-MaxV - Snare 13.wav"
          ],
          [
           "./dk_data/snare/Boss DR-660-DR-660Snare54.wav"
          ],
          [
           "./dk_data/snare/Acetone Rhythm King-MaxV - Snare2.wav"
          ],
          [
           "./dk_data/snare/Boss DR-202-202snr23.wav"
          ],
          [
           "./dk_data/snare/Roland Tr-808-TR-808Snare07.wav"
          ],
          [
           "./dk_data/snare/Boss DR-550-DR550Snare04.wav"
          ],
          [
           "./dk_data/snare/Farfisa-MaxV - Snare2.wav"
          ],
          [
           "./dk_data/snare/Kawai XD5-XD5Snare02.wav"
          ],
          [
           "./dk_data/snare/MultiMoog-MaxV - Generic MoogSnare.wav"
          ],
          [
           "./dk_data/snare/Yamaha SY22-Snr4sy42.wav"
          ],
          [
           "./dk_data/snare/Roland Tr-808-TR-808Snare05.wav"
          ],
          [
           "./dk_data/snare/Jomox Xbase-09-Snare06.wav"
          ],
          [
           "./dk_data/snare/Roland Tr-909-TR-909Snare 23.wav"
          ],
          [
           "./dk_data/snare/Alesis DM5-DM5Snare054.wav"
          ],
          [
           "./dk_data/snare/Alesis D4fx-MaxV - Snare 4.wav"
          ],
          [
           "./dk_data/snare/Roland Tr-808-TR-808Snare10.wav"
          ],
          [
           "./dk_data/snare/Roland Tr-909-TR-909Snare 02.wav"
          ],
          [
           "./dk_data/snare/Roland TR-33-MaxV - Snare.wav"
          ],
          [
           "./dk_data/snare/Linn Drum LM2-Linn Snare mid.wav"
          ],
          [
           "./dk_data/snare/Alesis DM5-DM5Snare078.wav"
          ],
          [
           "./dk_data/snare/Boss DR-660-DR-660Snare46.wav"
          ],
          [
           "./dk_data/snare/Linn Linndrum-LinnSnare05.wav"
          ],
          [
           "./dk_data/snare/Roland R-8-R8Snare43.wav"
          ],
          [
           "./dk_data/snare/Roland R-8-R8Snare38.wav"
          ],
          [
           "./dk_data/snare/Boss DR-660-DR-660Snare02.wav"
          ],
          [
           "./dk_data/snare/Roland PB-300 Rhythm Plus-MaxV - Snare.wav"
          ],
          [
           "./dk_data/snare/Roland MC09-MC09 Snare04.wav"
          ],
          [
           "./dk_data/snare/MultiMoog-MaxV - Generic MoogSnare2.AIFF"
          ],
          [
           "./dk_data/snare/Fricke MFB 502-MaxV - Snare 5.wav"
          ],
          [
           "./dk_data/snare/Fairlight IIx-MaxV - Ssnre.wav"
          ],
          [
           "./dk_data/snare/Alesis DM5-DM5Snare100.wav"
          ]
         ],
         "hovertemplate": "drum_type=snare<br>D1=%{x}<br>D2=%{y}<br>D3=%{z}<br>path=%{customdata[0]}<extra></extra>",
         "legendgroup": "snare",
         "marker": {
          "color": "#1CA71C",
          "line": {
           "color": "DarkSlateGrey",
           "width": 0
          },
          "size": 8,
          "symbol": "circle"
         },
         "mode": "markers",
         "name": "snare",
         "scene": "scene",
         "showlegend": true,
         "type": "scatter3d",
         "x": [
          10.957701,
          12.727765,
          17.43433,
          16.053413,
          6.3572135,
          7.725621,
          15.951704000000001,
          17.135359,
          13.014147,
          14.896997,
          15.285131,
          15.837357999999998,
          14.090053,
          12.286546000000001,
          13.920004999999998,
          15.16951,
          19.914444,
          17.439220000000002,
          18.23424,
          16.306095000000003,
          18.468267,
          14.422463,
          16.014654,
          14.714054999999998,
          10.971003,
          15.0198765,
          12.815767,
          15.587234,
          11.634835,
          18.752619,
          13.43779,
          18.133905,
          12.307735000000001,
          16.125778,
          12.9654455,
          -14.606976000000001,
          18.415032999999998,
          12.305788,
          8.829784,
          12.7961645,
          13.491921,
          10.983956,
          15.759247,
          -4.183521,
          13.515992,
          18.069515,
          18.20701,
          16.47499,
          16.625989999999998,
          14.651585,
          16.437302,
          11.640232000000001,
          16.340870000000002,
          18.111788,
          16.821766,
          17.895613,
          13.685398000000001,
          11.566766000000001,
          8.981875,
          14.800545000000001,
          7.2178674,
          13.092868,
          16.75708,
          16.05098,
          4.728452,
          17.512926,
          7.7455419999999995,
          14.00971,
          13.010234,
          10.733166,
          14.545709,
          17.664,
          18.377176000000002,
          15.362919,
          15.069061999999999,
          15.355816,
          15.502403,
          16.579876000000002,
          12.48737,
          15.466129,
          15.993422500000001,
          16.700860000000002,
          14.843762,
          8.435499,
          16.278242000000002,
          15.344312,
          10.384596,
          15.655475,
          17.408726,
          13.15593,
          13.473579999999998,
          15.377064,
          9.387858,
          14.454514000000001,
          16.76485,
          17.67924,
          18.222227,
          16.313826000000002,
          12.193013,
          12.383949000000001,
          9.5191,
          16.139318,
          17.07609,
          10.181837,
          14.733348999999999,
          12.938105,
          14.045998,
          12.243182000000001,
          15.420147,
          9.254712,
          17.45189,
          6.67536,
          13.818345,
          15.782212,
          6.053817,
          14.329785000000001,
          6.9357443,
          14.952173000000002,
          14.717773000000001,
          13.911067999999998,
          13.632014999999999,
          18.66757,
          12.320977000000001,
          9.438479,
          15.670926000000001,
          12.73603,
          12.270151,
          14.659721,
          16.784536,
          11.904549000000001,
          18.078691,
          13.182188,
          7.7425804000000005,
          16.742712,
          12.916848,
          17.825256,
          13.357295,
          13.719825,
          18.487295,
          19.247286,
          12.232578,
          14.0861,
          13.45855
         ],
         "y": [
          0.20256813,
          -7.224692999999999,
          -2.4796562,
          -2.7872592999999997,
          -9.088894999999999,
          -9.181332000000001,
          -4.8992014,
          -3.1416578,
          0.18300547,
          -6.8794518,
          -3.4192940000000003,
          -3.3098454,
          -0.50480026,
          5.167667400000001,
          -4.375621,
          -9.933889,
          -4.872269599999999,
          -5.4352818,
          -0.80688405,
          -2.462536,
          -5.0163445,
          -1.9107047,
          -3.1351671000000003,
          -7.678634,
          -3.7785342000000006,
          -6.9183216,
          -3.0072355,
          0.16971001,
          -8.560114,
          -6.162074,
          -5.8510847,
          -2.4235706,
          7.621515,
          -5.552362400000001,
          -5.206214,
          6.6600323,
          -0.50713754,
          0.5272024000000001,
          -9.529501,
          -9.614117,
          -1.5641558999999998,
          1.5735375,
          -1.3097172,
          -12.230300999999999,
          -4.798408,
          0.50454354,
          1.662105,
          -1.2422415,
          2.0086975,
          -5.0168550000000005,
          -7.474721000000001,
          3.2169187000000004,
          -0.011355136000000002,
          -6.5068555,
          2.1570992,
          -0.0027489327,
          5.3484397,
          0.36210617,
          -7.887334299999999,
          -3.6267736000000004,
          -9.6414385,
          -5.1311846,
          0.87760496,
          -8.053533999999999,
          1.0379444,
          -1.8446206000000003,
          -8.44642,
          -3.0617034,
          -1.4783282,
          -5.717894,
          -5.3236017,
          -5.0070724,
          -2.6043513,
          -8.175646,
          -7.784584,
          1.0191033999999999,
          -6.4326143,
          -9.163067,
          4.443653,
          -2.4235572999999997,
          -6.2085414000000005,
          -6.190378,
          -4.970592,
          1.0611761999999998,
          -3.8566019999999996,
          -5.0248800000000005,
          -9.2347145,
          1.3286538,
          -3.2868457,
          -4.506241,
          -9.411565,
          -6.580286999999999,
          -5.8295426,
          -9.296198,
          -7.162118400000001,
          -1.4105348999999998,
          -6.959289,
          -6.3827395,
          -2.9982264,
          -5.488519999999999,
          -2.1123752999999996,
          -2.3149867000000004,
          -5.4267187,
          -8.079763999999999,
          0.3666074,
          -6.643103,
          -7.236453,
          4.2244934999999995,
          5.3407707,
          -8.496569000000001,
          -1.565343,
          -9.538691499999999,
          0.12898397,
          4.4816847,
          -8.750338000000001,
          -6.2272324999999995,
          -8.339201,
          -1.5709186000000002,
          -9.78317,
          -6.363111,
          10.293753,
          -3.8355370000000004,
          -6.1466084,
          -10.444024,
          -5.5383663,
          -7.206045,
          4.3196917,
          -8.506861,
          -7.319495,
          -3.8001226999999997,
          -7.0118446,
          2.062598,
          -10.294762,
          -5.372600599999999,
          -7.516362700000001,
          -3.8179677000000005,
          4.152919,
          -8.042107000000001,
          -5.3495919999999995,
          -1.4136989,
          -3.903496,
          -6.189101,
          -8.613672
         ],
         "z": [
          1.3462987,
          1.6346934,
          -0.7242516,
          1.2588406,
          1.6139487,
          3.2060587000000003,
          3.5329611000000005,
          -5.616984400000001,
          -0.608209,
          3.0466328,
          -2.2014525000000003,
          -3.6896709999999997,
          -4.248556,
          -4.9982047,
          1.4653688999999999,
          -0.25365052,
          -1.3453583,
          2.6039042,
          1.5208563999999998,
          -4.69801,
          -2.0272532,
          -3.2630727000000004,
          5.7189174000000005,
          -2.6393020000000003,
          6.7407335999999995,
          -0.27221036,
          -3.1050987,
          7.890016,
          0.5563444000000001,
          3.2124770000000002,
          0.6944675,
          -4.694058999999999,
          -5.976907700000001,
          -3.2635963,
          -1.9584781999999998,
          -4.9997697,
          4.0017934,
          -3.2779903,
          2.050557,
          7.761475999999999,
          7.3845496,
          -3.9065406000000005,
          -0.41606859999999996,
          5.5598345,
          5.1885223,
          -5.019869,
          -3.040023,
          -3.3516247000000003,
          -2.0350566000000003,
          2.8529742000000002,
          -2.6715853,
          -4.2511597000000005,
          0.31069708,
          -1.9646932000000001,
          6.90373,
          -0.8036573,
          -4.315919999999999,
          -0.96262467,
          -1.0807486000000002,
          0.014199426999999999,
          0.9714586,
          3.3398714,
          -1.5343491000000002,
          0.23372114,
          -7.7517104,
          -7.314121000000001,
          2.2658622000000004,
          -1.9748805,
          -0.8632904,
          7.270445,
          -0.045559544,
          -0.282352,
          0.7789744000000001,
          -1.0149273,
          1.631351,
          3.2778788,
          0.9139544,
          -1.5847944,
          -3.622229,
          -6.115349,
          2.1970336,
          -0.23576945,
          -1.9552767,
          -3.04213,
          -0.670135,
          1.3320013000000002,
          -2.0516272,
          1.7613453000000001,
          -2.5396945,
          -0.55309415,
          -0.007965251999999999,
          -1.6897418000000002,
          8.923435000000001,
          -1.7535453999999997,
          0.87893736,
          -6.214453,
          -0.13381135,
          3.98286,
          -1.1314129,
          1.6512612000000002,
          -4.1391973,
          -2.2253382,
          1.1490402,
          1.5212708000000001,
          0.8778153000000001,
          3.346022,
          0.7672906999999999,
          7.597672,
          2.5661032,
          3.1225994,
          -4.777152,
          3.5981722,
          2.6661825,
          -4.0558543,
          2.6574981,
          1.8331051,
          0.7948349,
          -2.0142343,
          1.6204442,
          -1.1827226999999998,
          -6.219656,
          2.148063,
          -0.41518664,
          -0.5745266,
          -0.66182804,
          -2.4961064,
          8.894598,
          0.37104052,
          -1.064965,
          0.82383525,
          1.5501561000000001,
          5.9823437,
          2.143242,
          -1.8732598999999999,
          -0.10896402599999999,
          -4.667973,
          -4.0267434,
          -1.0678276000000002,
          1.1052005,
          -4.8493595,
          4.489005000000001,
          4.431846,
          1.5910499
         ]
        },
        {
         "customdata": [
          [
           "./dk_data/hihat_closed/Roland Tr-606-TR606Hat_C_OD.wav"
          ],
          [
           "./dk_data/hihat_closed/Roland Tr-606-TR606Hat_C05.wav"
          ],
          [
           "./dk_data/hihat_closed/Casio PT-68-MaxV - HH Cl.wav"
          ],
          [
           "./dk_data/hihat_closed/Boss DR-550-MaxV - CHH1.wav"
          ],
          [
           "./dk_data/hihat_closed/Akai Mpc60-MaxV - HiHat Closed.wav"
          ],
          [
           "./dk_data/hihat_closed/Acetone Rhythm King-MaxV - HH Cl.wav"
          ],
          [
           "./dk_data/hihat_closed/Roland MC09-MC09 HatC_03.wav"
          ],
          [
           "./dk_data/hihat_closed/Boss DR-550-DR550Hat03_C.wav"
          ],
          [
           "./dk_data/hihat_closed/Roland MC09-MC09 HatC_01.wav"
          ],
          [
           "./dk_data/hihat_closed/Sequential Tom-TOMHat_C.wav"
          ],
          [
           "./dk_data/hihat_closed/Roland Tr-626-MaxV - Roland - 626_chh 03.wav"
          ],
          [
           "./dk_data/hihat_closed/MXR Computer Rhythm 185-MaxV - MXR Hat_closed.wav"
          ],
          [
           "./dk_data/hihat_closed/Yamaha RY-10-MaxV - HHC6VRB.wav"
          ],
          [
           "./dk_data/hihat_closed/Alesis Hr16b-MaxV - HHC 1.wav"
          ],
          [
           "./dk_data/hihat_closed/Kawai r-50-MaxV - HHCL_R50.wav"
          ],
          [
           "./dk_data/hihat_closed/Electro Harmonix Drm32-MaxV - HH Cl.wav"
          ],
          [
           "./dk_data/hihat_closed/Roland D-70-MaxV - CL-HIHAT.wav"
          ],
          [
           "./dk_data/hihat_closed/Roland D-10 L.A-la-clhh.wav"
          ],
          [
           "./dk_data/hihat_closed/mercure_drums-p-hhc2.wav"
          ],
          [
           "./dk_data/hihat_closed/Boss DR-202-202hat07.wav"
          ],
          [
           "./dk_data/hihat_closed/Roland MC09-MC09 HatC_07.wav"
          ],
          [
           "./dk_data/hihat_closed/Alesis D4fx-MaxV - HiHat Closed 2.wav"
          ],
          [
           "./dk_data/hihat_closed/Kawai r-50-MaxV - HHCLENHA.wav"
          ],
          [
           "./dk_data/hihat_closed/Emu Drumulator-DrumulatorHat_C.wav"
          ],
          [
           "./dk_data/hihat_closed/KORG DDD-1-MaxV - DDD1 clhh1.wav"
          ],
          [
           "./dk_data/hihat_closed/Boss DR-202-202hat05.wav"
          ],
          [
           "./dk_data/hihat_closed/Roland CR-8000-CR8000Hat_C.wav"
          ],
          [
           "./dk_data/hihat_closed/Casio PT-30-MaxV - HH Cl.wav"
          ],
          [
           "./dk_data/hihat_closed/Boss DR-202-202hat09.wav"
          ],
          [
           "./dk_data/hihat_closed/Fairlight IIx-MaxV - HHPedal.wav"
          ],
          [
           "./dk_data/hihat_closed/Yamaha PSR-MaxV - psr-hatcl.wav"
          ],
          [
           "./dk_data/hihat_closed/Roland Tr-909-MaxV - Roland909 - 909HHB 05.wav"
          ],
          [
           "./dk_data/hihat_closed/Sequential DrumTraks Tom-MaxV - HiHat Closed.wav"
          ],
          [
           "./dk_data/hihat_closed/Roland MC09-MC09 HatC_08.wav"
          ],
          [
           "./dk_data/hihat_closed/Yamaha RY-10-MaxV - HHC9VRB.wav"
          ]
         ],
         "hovertemplate": "drum_type=hihat_closed<br>D1=%{x}<br>D2=%{y}<br>D3=%{z}<br>path=%{customdata[0]}<extra></extra>",
         "legendgroup": "hihat_closed",
         "marker": {
          "color": "#FB0D0D",
          "line": {
           "color": "DarkSlateGrey",
           "width": 0
          },
          "size": 8,
          "symbol": "circle"
         },
         "mode": "markers",
         "name": "hihat_closed",
         "scene": "scene",
         "showlegend": true,
         "type": "scatter3d",
         "x": [
          4.8330226,
          4.6893473,
          6.9205837,
          7.148657000000001,
          8.483983,
          7.748259,
          8.789477999999999,
          6.7642465,
          9.051354,
          8.3926325,
          9.351925999999999,
          10.550721000000001,
          6.5549893,
          9.294502,
          10.086816,
          7.419556599999999,
          6.885192999999999,
          10.879369,
          12.875843,
          7.467323299999999,
          9.388358,
          12.504021,
          6.717189299999999,
          8.58502,
          6.6796675,
          7.585249,
          7.974984599999999,
          11.463915,
          15.783883,
          9.513995,
          9.445212,
          8.63847,
          7.582911999999999,
          9.338938,
          8.061283
         ],
         "y": [
          0.88033444,
          1.0280231,
          1.2985096,
          -1.9166679,
          -0.23430884,
          2.1729333,
          0.057993755,
          -2.8224099,
          -1.4319725,
          3.426507,
          1.0147891,
          2.136339,
          -0.20752026,
          -2.1739892999999997,
          2.2824782999999997,
          -4.6133690000000005,
          -2.308286,
          0.6647074000000001,
          0.5335584,
          3.0681572,
          -0.70819014,
          2.7955232000000003,
          4.4566545,
          3.2419066,
          3.053138,
          -0.8261205,
          -2.19369,
          5.74753,
          0.38237387,
          -9.256515,
          2.6779265,
          4.9151115,
          3.366023,
          -0.9949222,
          -2.6792166
         ],
         "z": [
          -5.065625,
          -5.916207,
          -8.072649,
          -1.4890875,
          -8.9688635,
          -0.4231613,
          -5.7313480000000006,
          -5.021380000000001,
          -5.514488,
          -4.0269346,
          -7.799073,
          -5.8888483,
          -6.922508199999999,
          -2.7945278,
          -4.679968,
          -1.0097284,
          -6.0023737,
          -1.2607201000000001,
          -2.1388116000000004,
          -7.998614999999999,
          -4.717916000000001,
          -3.0051873,
          -7.9123415999999995,
          -6.723942,
          -9.1340065,
          -8.968717999999999,
          -4.473813,
          -6.9450307,
          -3.0483968,
          -0.73404986,
          -8.55685,
          -6.900175,
          -4.3650139999999995,
          -3.5085661,
          -5.534711
         ]
        },
        {
         "customdata": [
          [
           "./dk_data/rim/Akai Mpc60-MaxV - Rimshot 3.wav"
          ],
          [
           "./dk_data/rim/Kawai R50e-R50eRimshot.wav"
          ],
          [
           "./dk_data/rim/Oberheim Dmx-DMXRim.wav"
          ],
          [
           "./dk_data/rim/Linn Linn-9000-MaxV - Rimshot.wav"
          ],
          [
           "./dk_data/rim/Gulbransen-MaxV - Rim.wav"
          ],
          [
           "./dk_data/rim/Jomox Xbase-09-Rim01.wav"
          ],
          [
           "./dk_data/rim/Akai Mpc60-MaxV - Rimshot 1.wav"
          ],
          [
           "./dk_data/rim/Korg DDM110-MaxV - 110_rim.wav"
          ],
          [
           "./dk_data/rim/Roland JD-990-MaxV - MARIMWAV.wav"
          ],
          [
           "./dk_data/rim/KORG DDD-1-MaxV - DDD1 rimshot.wav"
          ],
          [
           "./dk_data/rim/Roland R-5-R-5 Rimshot Snare 1.wav"
          ],
          [
           "./dk_data/rim/Yamaha RX11-RX11Rimshot.wav"
          ],
          [
           "./dk_data/rim/Akai XR10-XR10Rimshot02.wav"
          ],
          [
           "./dk_data/rim/Alesis DM5-DM5Rim05.wav"
          ],
          [
           "./dk_data/rim/Roland Tr-808-TR-808Rim01.wav"
          ],
          [
           "./dk_data/rim/Roland TR-505-TR-505Rim.wav"
          ],
          [
           "./dk_data/rim/Roland D-10 L.A-la-rim.wav"
          ],
          [
           "./dk_data/rim/Emu Drumulator-MaxV - EMU_RIM.wav"
          ],
          [
           "./dk_data/rim/Jomox Xbase-09-Rim02.wav"
          ]
         ],
         "hovertemplate": "drum_type=rim<br>D1=%{x}<br>D2=%{y}<br>D3=%{z}<br>path=%{customdata[0]}<extra></extra>",
         "legendgroup": "rim",
         "marker": {
          "color": "#DA16FF",
          "line": {
           "color": "DarkSlateGrey",
           "width": 0
          },
          "size": 8,
          "symbol": "circle"
         },
         "mode": "markers",
         "name": "rim",
         "scene": "scene",
         "showlegend": true,
         "type": "scatter3d",
         "x": [
          15.130954000000001,
          17.945574,
          17.526854,
          15.508397,
          13.193465,
          8.659432,
          14.362026,
          8.682091999999999,
          17.556210999999998,
          14.036674,
          14.371671,
          17.303686,
          13.597635999999998,
          14.093613000000001,
          14.200465,
          16.36746,
          14.286976000000001,
          15.31015,
          11.577144
         ],
         "y": [
          7.411122,
          0.9072003000000001,
          5.587547,
          5.4541945,
          4.3703637,
          -10.235647,
          6.732616,
          -9.800724,
          5.587251,
          7.420619,
          -5.9693879999999995,
          5.614475700000001,
          -3.6713602999999995,
          6.110032,
          2.0765029999999998,
          3.9223282,
          5.424035,
          -0.7240886999999999,
          -9.092195
         ],
         "z": [
          -2.4602353999999997,
          -6.066294,
          -4.0880184,
          -5.268167,
          -0.6845569,
          3.6749375,
          -5.5489984,
          -1.3395774,
          1.6137915,
          -1.4061344999999998,
          -3.2082505,
          -5.0136757,
          -3.8962230000000004,
          -0.17342020000000002,
          -5.7712525999999995,
          -4.0945983,
          -1.8481464,
          -6.0581309999999995,
          -2.9080067
         ]
        },
        {
         "customdata": [
          [
           "./dk_data/clap/Linn Linn-9000-MaxV - Clap 1.wav"
          ],
          [
           "./dk_data/clap/Linn Linn-9000-MaxV - Clap 2.wav"
          ],
          [
           "./dk_data/clap/Kawai r-50-MaxV - CLAP2R50.wav"
          ],
          [
           "./dk_data/clap/Roland Tr-626-MaxV - Roland - 626_clap 04.wav"
          ],
          [
           "./dk_data/clap/Kawai R-50e-MaxV - R50e Clap.wav"
          ],
          [
           "./dk_data/clap/Alesis Hr16b-HR16B 036 Gated Claps.wav"
          ],
          [
           "./dk_data/clap/Alesis D4fx-MaxV - Clap.wav"
          ],
          [
           "./dk_data/clap/Simmons Clap-MaxV - SM Clap14.wav"
          ],
          [
           "./dk_data/clap/Simmons Clap-MaxV - SM Clap12.wav"
          ],
          [
           "./dk_data/clap/Simmons Clap-MaxV - SM Clap7.wav"
          ],
          [
           "./dk_data/clap/EMU E-drum-MaxV - Clap.wav"
          ],
          [
           "./dk_data/clap/AKAI XE-8-MaxV - XE8 Clap int_15.wav"
          ],
          [
           "./dk_data/clap/Roland Tr-808-TR-808Clap01.wav"
          ],
          [
           "./dk_data/clap/Korg DDM110-MaxV - 110_clap.wav"
          ],
          [
           "./dk_data/clap/Simmons Clap-MaxV - SM Clap20.wav"
          ],
          [
           "./dk_data/clap/MultiMoog-MaxV - JeeesuosClaps.wav"
          ],
          [
           "./dk_data/clap/Simmons Clap-MaxV - SM Clap19.wav"
          ],
          [
           "./dk_data/clap/Boss DR-110-DR-110Clap.wav"
          ],
          [
           "./dk_data/clap/Yamaha RY30-RY30Clap.wav"
          ],
          [
           "./dk_data/clap/Simmons Clap-MaxV - SM Clap23.wav"
          ],
          [
           "./dk_data/clap/Roland Tr-808-TR-808Clap02.wav"
          ],
          [
           "./dk_data/clap/Simmons Clap-MaxV - SM Clap2.wav"
          ],
          [
           "./dk_data/clap/Roland D-70-MaxV - CLAP.wav"
          ],
          [
           "./dk_data/clap/Simmons Clap-MaxV - SM Clap11.wav"
          ],
          [
           "./dk_data/clap/Linn Linndrum-LinnClap.wav"
          ],
          [
           "./dk_data/clap/Roland MC303-MaxV - Rapclap1.wav"
          ],
          [
           "./dk_data/clap/Alesis Sr16-SR16Clap.wav"
          ],
          [
           "./dk_data/clap/Jomox Xbase-09-LFOClap.wav"
          ]
         ],
         "hovertemplate": "drum_type=clap<br>D1=%{x}<br>D2=%{y}<br>D3=%{z}<br>path=%{customdata[0]}<extra></extra>",
         "legendgroup": "clap",
         "marker": {
          "color": "#222A2A",
          "line": {
           "color": "DarkSlateGrey",
           "width": 0
          },
          "size": 8,
          "symbol": "circle"
         },
         "mode": "markers",
         "name": "clap",
         "scene": "scene",
         "showlegend": true,
         "type": "scatter3d",
         "x": [
          14.731241,
          12.136146,
          14.394673000000001,
          13.301003,
          13.37839,
          13.21308,
          13.065871000000001,
          14.029529,
          9.821415,
          18.683761999999998,
          10.233092999999998,
          11.749441000000001,
          11.617813,
          15.859232,
          10.189081,
          18.330662,
          8.950463000000001,
          12.952873,
          10.24756,
          13.337769,
          10.875525,
          11.684225999999999,
          12.383968,
          11.249944000000001,
          15.635564000000002,
          12.00955,
          14.395798000000001,
          13.419209
         ],
         "y": [
          8.584433,
          6.05122,
          6.1298832999999995,
          8.687144,
          7.245976400000001,
          5.368523000000001,
          6.4492083,
          7.912706,
          8.274845,
          1.8932585,
          7.7590794999999995,
          9.835954,
          7.806350699999999,
          6.3261294,
          7.0751095,
          -1.2689598999999998,
          8.473682,
          8.520163,
          9.829758,
          9.607330000000001,
          6.36828,
          9.91155,
          7.824350999999999,
          8.626168,
          7.582097,
          5.8775783,
          7.404337,
          2.6443223999999996
         ],
         "z": [
          -4.92825,
          -4.20057,
          -3.7437074,
          -2.76363,
          -4.402691,
          -2.6430907,
          -2.9457006000000003,
          -6.3828062999999995,
          -6.026833,
          -4.1623893,
          -3.3277992999999997,
          -5.403126,
          -4.630481,
          -4.0940714,
          -5.4802566,
          -3.4794476000000003,
          -6.192608,
          -4.051689,
          -5.003471,
          -5.049738400000001,
          -3.3573635000000004,
          -7.023658800000001,
          -2.5810735,
          -3.8024178,
          -4.7488165,
          -2.4494402,
          -3.6538730000000004,
          -4.4667645
         ]
        },
        {
         "customdata": [
          [
           "./dk_data/kick/Kawai r-50-MaxV - BD2__R50.wav"
          ],
          [
           "./dk_data/kick/Jomox Xbase-09-BassDr06.wav"
          ],
          [
           "./dk_data/kick/Roland Tr-808-TR-808Kick07.wav"
          ],
          [
           "./dk_data/kick/Yamaha RY30-RY30Kick05.wav"
          ],
          [
           "./dk_data/kick/mercure_drums-gd-kick1.wav"
          ],
          [
           "./dk_data/kick/Alesis DM5-DM5Kick21.wav"
          ],
          [
           "./dk_data/kick/Roland Tr-909-TR-909Kick 07.wav"
          ],
          [
           "./dk_data/kick/Roland D-10 L.A-la-bd1.wav"
          ],
          [
           "./dk_data/kick/Alesis Hr16b-HR16B 006 Deep Wood Kick.wav"
          ],
          [
           "./dk_data/kick/Roland R-8-R8Kick05.wav"
          ],
          [
           "./dk_data/kick/Boss DR-660-DR-660Kick21.wav"
          ],
          [
           "./dk_data/kick/Boss DR-660-DR-660Kick05.wav"
          ],
          [
           "./dk_data/kick/Roland Tr-909-MaxV - Roland909 - 909BDA 01.wav"
          ],
          [
           "./dk_data/kick/Roland R-8-R8Kick27.wav"
          ],
          [
           "./dk_data/kick/Alesis DM5-DM5Kick48.wav"
          ],
          [
           "./dk_data/kick/Alesis DM5-DM5Kick78.wav"
          ],
          [
           "./dk_data/kick/Akai XR10-XR10Kick04.wav"
          ],
          [
           "./dk_data/kick/Fricke MFB 512-MaxV - Kick.wav"
          ],
          [
           "./dk_data/kick/Roland Tr-707-TR-707Kick01.wav"
          ],
          [
           "./dk_data/kick/Roland TR-909 BD Selection-KK-Di909BD 26.wav"
          ],
          [
           "./dk_data/kick/Electro Harmonix Drm15-MaxV - Kick.wav"
          ],
          [
           "./dk_data/kick/Roland Tr-808-MaxV - Roland808 - BD0050 16.wav"
          ],
          [
           "./dk_data/kick/Boss DR-660-DR-660Kick41.wav"
          ],
          [
           "./dk_data/kick/Yamaha RX-11-MaxV - RX11 BD1.wav"
          ],
          [
           "./dk_data/kick/Alesis Hr16-HR16Kick02.wav"
          ],
          [
           "./dk_data/kick/AKAI XE-8-MaxV - XE8 Kick 2 int_2.wav"
          ],
          [
           "./dk_data/kick/Linn Linndrum-LinnKick02.wav"
          ],
          [
           "./dk_data/kick/Acetone Rhythm Ace-MaxV - KICK2.wav"
          ],
          [
           "./dk_data/kick/Roland R-8-R8Kick03.wav"
          ],
          [
           "./dk_data/kick/Roland MC303-MaxV - Drybd1.wav"
          ],
          [
           "./dk_data/kick/Roland TR-909 BD Selection-KK-Di909BD 49.wav"
          ],
          [
           "./dk_data/kick/Roland Tr-909-TR-909Kick 10.wav"
          ],
          [
           "./dk_data/kick/Kawai r-50-MaxV - ATMBDR50.wav"
          ],
          [
           "./dk_data/kick/Boss DR-660-DR-660Kick39.wav"
          ],
          [
           "./dk_data/kick/Yamaha RX11-RX11Kick.wav"
          ],
          [
           "./dk_data/kick/Boss DR-660-DR-660Kick07.wav"
          ],
          [
           "./dk_data/kick/Roland Tr-808-MaxV - Roland808 - BD7525 35.wav"
          ],
          [
           "./dk_data/kick/Fairlight IIx-MaxV - Bdrum.wav"
          ],
          [
           "./dk_data/kick/Roland TR-909 BD Selection-KK-Di909BD 40.wav"
          ],
          [
           "./dk_data/kick/Boss DR-660-DR-660Kick20.wav"
          ],
          [
           "./dk_data/kick/Alesis DM5-DM5Kick09.wav"
          ],
          [
           "./dk_data/kick/Alesis DM5-DM5Kick69.wav"
          ],
          [
           "./dk_data/kick/Roland TR-909 BD Selection-KK-Di909BD 08.wav"
          ],
          [
           "./dk_data/kick/Roland Tr-808-TR-808Kick03.wav"
          ],
          [
           "./dk_data/kick/Yamaha RX-5-MaxV - RX5PBD3.wav"
          ],
          [
           "./dk_data/kick/Roland TR-909 BD Selection-KK-Di909BD 62.wav"
          ],
          [
           "./dk_data/kick/Roland TR-909 BD Selection-KK-Di909BD 53.wav"
          ],
          [
           "./dk_data/kick/Oberheim Dmx-DMXKick02.wav"
          ],
          [
           "./dk_data/kick/Roland TR-909 BD Selection-KK-Di909BD 04.wav"
          ],
          [
           "./dk_data/kick/Roland Tr-606-TR606Kick01.wav"
          ],
          [
           "./dk_data/kick/Boss DR-660-DR-660Kick15.wav"
          ],
          [
           "./dk_data/kick/Univox Micro-Rhythmer 12-MaxV - UNIVOXBD.wav"
          ],
          [
           "./dk_data/kick/Roland S-50-MaxV - ebd.wav"
          ],
          [
           "./dk_data/kick/Akai XR10-XR10Kick02.wav"
          ],
          [
           "./dk_data/kick/Boss DR-660-DR-660Kick26.wav"
          ],
          [
           "./dk_data/kick/Yamaha RX-5-MaxV - RX5IBD1.wav"
          ],
          [
           "./dk_data/kick/Yamaha RX-5-MaxV - RX5PBD2.wav"
          ],
          [
           "./dk_data/kick/Alesis Hr16-HR16Kick06.wav"
          ],
          [
           "./dk_data/kick/Roland TR-909 BD Selection-KK-Di909BD 51.wav"
          ],
          [
           "./dk_data/kick/Roland TR-909 BD Selection-KK-Di909BD 25.wav"
          ],
          [
           "./dk_data/kick/Alesis DM5-DM5Kick16.wav"
          ],
          [
           "./dk_data/kick/Alesis DM5-DM5Kick62.wav"
          ],
          [
           "./dk_data/kick/Roland R-5-R-5 Electronic Kick.wav"
          ],
          [
           "./dk_data/kick/Alesis DM5-DM5Kick38.wav"
          ],
          [
           "./dk_data/kick/Alesis DM5-DM5Kick30.wav"
          ],
          [
           "./dk_data/kick/Linn Linndrum-LinnKick01.wav"
          ],
          [
           "./dk_data/kick/Roland D-10 L.A-la-wetbd.wav"
          ],
          [
           "./dk_data/kick/Korg DDM110-Ddm110Kick.wav"
          ],
          [
           "./dk_data/kick/Linn Linn-9000-MaxV - Kick 1.wav"
          ],
          [
           "./dk_data/kick/Roland R-8-R8Kick22.wav"
          ],
          [
           "./dk_data/kick/Kawai R50e-R50eKick03.wav"
          ],
          [
           "./dk_data/kick/Alesis DM5-DM5Kick77.wav"
          ],
          [
           "./dk_data/kick/Roland JV 1080-MaxV - BD2.wav"
          ],
          [
           "./dk_data/kick/Kawai XD5-XD5Kick04.wav"
          ],
          [
           "./dk_data/kick/Roland TR-909 BD Selection-KK-Di909BD 35.wav"
          ],
          [
           "./dk_data/kick/Kawai XD5-XD5Kick01.wav"
          ],
          [
           "./dk_data/kick/Akai XR-1-MaxV - Kick 09.wav"
          ],
          [
           "./dk_data/kick/Yamaha RX-5-MaxV - RX5PBD1.wav"
          ],
          [
           "./dk_data/kick/Boss DR-660-DR-660Kick49.wav"
          ],
          [
           "./dk_data/kick/Fairlight IIx-MaxV - Bbdrum1.wav"
          ],
          [
           "./dk_data/kick/MXR Computer Rhythm 185-MaxV - MXR Kick.wav"
          ],
          [
           "./dk_data/kick/Kawai r-50-MaxV - ACCBDENH.wav"
          ],
          [
           "./dk_data/kick/KorgMP7-Kickdrum.wav"
          ],
          [
           "./dk_data/kick/Alesis DM5-DM5Kick84.wav"
          ],
          [
           "./dk_data/kick/Alesis DM5-DM5Kick82.wav"
          ],
          [
           "./dk_data/kick/Linn Drum LM2-Linn kick hard.wav"
          ],
          [
           "./dk_data/kick/XE8-XE8 Kick 2 int_2.wav"
          ],
          [
           "./dk_data/kick/Acetone Rhythm Ace-MaxV - KICK4.wav"
          ],
          [
           "./dk_data/kick/Alesis Sr16-SR16Kick01.wav"
          ],
          [
           "./dk_data/kick/Fricke MFB 502-MaxV - Kick.wav"
          ],
          [
           "./dk_data/kick/Roland Tr-808-MaxV - Roland808 - BD7500 33.wav"
          ],
          [
           "./dk_data/kick/Roland Tr-606-TR606Kick_OD.wav"
          ],
          [
           "./dk_data/kick/Roland TR-55-MaxV - Kick.wav"
          ],
          [
           "./dk_data/kick/Roland MC09-MC09 Kick04.wav"
          ],
          [
           "./dk_data/kick/mercure_drums-tt-kick1.wav"
          ],
          [
           "./dk_data/kick/Roland JV 1080-MaxV - BD1.wav"
          ],
          [
           "./dk_data/kick/Alesis DM5-DM5Kick42.wav"
          ],
          [
           "./dk_data/kick/Roland TR-909 BD Selection-KK-Di909BD 59.wav"
          ],
          [
           "./dk_data/kick/Roland R-8-R8Kick26.wav"
          ],
          [
           "./dk_data/kick/Roland Tr-808-TR-808Kick15.wav"
          ],
          [
           "./dk_data/kick/Alesis DM5-DM5Kick32.wav"
          ],
          [
           "./dk_data/kick/Roland Tr-808-TR-808Kick02.wav"
          ],
          [
           "./dk_data/kick/Roland Tr-808-MaxV - Roland808 - BD2575 27.wav"
          ],
          [
           "./dk_data/kick/Alesis DM5-DM5Kick31.wav"
          ],
          [
           "./dk_data/kick/AKAI XE-8-MaxV - XE8 Kick 1 int_1.wav"
          ],
          [
           "./dk_data/kick/Roland TR-909 BD Selection-KK-Di909BD 11.wav"
          ],
          [
           "./dk_data/kick/EMU E-drum-MaxV - Kick4.wav"
          ],
          [
           "./dk_data/kick/Boss DR-660-DR-660Kick14.wav"
          ],
          [
           "./dk_data/kick/Yamaha RX21-RX21Kick.wav"
          ],
          [
           "./dk_data/kick/Deepsky-909kick.wav"
          ],
          [
           "./dk_data/kick/Fairlight IIx-MaxV - Symkick.wav"
          ],
          [
           "./dk_data/kick/Roland Tr-808-MaxV - Roland808 - BD2500 23.wav"
          ],
          [
           "./dk_data/kick/Linn Linn-9000-MaxV - Kick 2.wav"
          ],
          [
           "./dk_data/kick/Boss DR-55-DR-55Kick.wav"
          ],
          [
           "./dk_data/kick/Alesis Hr16b-HR16B 005 Techno Kick.wav"
          ],
          [
           "./dk_data/kick/Roland PB-300 Rhythm Plus-MaxV - Kick.wav"
          ]
         ],
         "hovertemplate": "drum_type=kick<br>D1=%{x}<br>D2=%{y}<br>D3=%{z}<br>path=%{customdata[0]}<extra></extra>",
         "legendgroup": "kick",
         "marker": {
          "color": "#B68100",
          "line": {
           "color": "DarkSlateGrey",
           "width": 0
          },
          "size": 8,
          "symbol": "circle"
         },
         "mode": "markers",
         "name": "kick",
         "scene": "scene",
         "showlegend": true,
         "type": "scatter3d",
         "x": [
          12.106888,
          11.8967705,
          14.077173000000002,
          10.342562,
          11.071247999999999,
          9.369712,
          12.084481,
          7.6072993,
          12.826772,
          12.772668,
          10.678185000000001,
          7.855328999999999,
          15.73966,
          10.661619,
          9.490621,
          8.720892999999998,
          11.875099,
          6.583522299999999,
          12.023561500000001,
          13.613719,
          6.7150803,
          10.861267999999999,
          11.123123,
          7.659103999999999,
          14.067283999999999,
          7.831249000000001,
          12.161021,
          8.774266,
          13.34915,
          8.138517,
          14.752528,
          12.297932000000001,
          10.936378999999999,
          10.573413,
          9.240002,
          13.410615,
          9.690796,
          10.259445,
          13.609389000000002,
          12.917071,
          8.917871,
          8.525674,
          12.926009,
          9.942451,
          13.498697,
          14.2711525,
          13.440923999999999,
          11.567724,
          12.482385,
          7.956832400000001,
          8.488726,
          14.813665,
          8.909597999999999,
          12.038293,
          14.104773999999999,
          10.568361,
          9.507636,
          9.901216499999999,
          14.53514,
          14.115109,
          6.858385,
          18.118462,
          10.714582,
          10.222584,
          10.963925999999999,
          7.394402,
          10.047142,
          11.385759,
          6.2631016,
          13.437695499999998,
          9.098019,
          7.772725,
          7.9957259999999994,
          13.873766,
          12.987076,
          7.515994,
          13.147670999999999,
          8.2488165,
          11.386446000000001,
          11.657737,
          8.67866,
          9.007935,
          7.1615925,
          9.338459,
          12.870131,
          6.172644999999999,
          9.030989,
          12.600543,
          11.05057,
          9.115112,
          9.64714,
          10.094704,
          6.672612700000001,
          7.900951400000001,
          13.374726999999998,
          8.78553,
          9.315068,
          14.08945,
          12.042403,
          14.379069,
          9.7716255,
          10.678938,
          13.436069,
          11.487289,
          10.160428,
          12.788986999999999,
          11.850708000000001,
          8.581264,
          8.618053,
          8.563073,
          12.281272,
          7.814699000000001,
          6.771428599999999,
          10.338301,
          12.4507475,
          9.194346000000001
         ],
         "y": [
          -8.426604,
          -3.1009597999999996,
          2.192129,
          -7.515517999999999,
          -11.135627000000001,
          -9.109322,
          -8.67747,
          -7.2238493,
          -6.9279814,
          -11.279611000000001,
          -9.40147,
          -3.723493,
          -8.653901,
          -7.567123,
          -2.780624,
          -10.268918,
          -7.4460006,
          -10.660385,
          -11.604096,
          9.642624,
          -7.885515700000001,
          -7.188936999999999,
          -6.6406484,
          -12.217553,
          -5.6481485000000005,
          -9.891921,
          -12.3641205,
          -8.053617,
          -3.2807882000000004,
          -2.2735084999999997,
          8.585394,
          -8.7244835,
          -5.1651917,
          -9.982521,
          -12.34023,
          -9.143239999999999,
          -10.408610000000001,
          -10.702764,
          8.400602000000001,
          -6.4814940000000005,
          -9.272974000000001,
          -11.428888,
          5.9390316,
          -7.067659,
          4.5974855,
          7.160448,
          7.591164599999999,
          -9.953377,
          8.735248,
          -10.669521000000001,
          -5.8097477,
          -5.327843,
          -4.1365886,
          -6.507823,
          0.96749914,
          -12.914415,
          -6.5463886,
          -8.494605,
          6.483813,
          9.020833999999999,
          -11.964015,
          5.342413400000001,
          -6.42296,
          -9.188865,
          -11.385469,
          -9.191991999999999,
          -8.051075,
          -10.8150425,
          -8.748667,
          -7.180382000000001,
          -6.4921169999999995,
          -9.114335,
          -8.71567,
          -3.9941459999999998,
          6.1579638,
          -6.643028999999999,
          -10.459837,
          -8.37352,
          -9.270027,
          -8.628736,
          -12.723728999999999,
          -2.8211234,
          -11.240056,
          -5.7376328,
          3.1822042,
          -10.045036,
          -10.185576,
          -10.111048,
          -12.269689,
          -11.496872999999999,
          -10.859031,
          -5.055974,
          -9.05037,
          -9.883255,
          -7.684982000000001,
          -8.344911999999999,
          -11.575507,
          5.0899553,
          -8.118591,
          3.4864302000000005,
          -9.741405499999999,
          -9.429689999999999,
          -1.3216666000000001,
          -6.993534599999999,
          -11.418833,
          8.924050999999999,
          -9.942934,
          -7.827250500000001,
          -13.097082,
          -2.1574376,
          -3.6211355000000003,
          -11.036682,
          -5.532168,
          -12.873497,
          -5.6757855,
          -9.474256
         ],
         "z": [
          10.780593,
          9.398625,
          9.040678999999999,
          8.892196,
          10.649132,
          11.666962,
          3.5955446,
          8.459503,
          6.7970185,
          9.318005,
          10.457272,
          9.750709,
          3.3742208,
          7.258967,
          11.2976265,
          9.1399555,
          9.644809,
          9.624724,
          12.221591,
          7.228289,
          11.61201,
          14.460359,
          12.929206,
          9.628864,
          7.130008999999999,
          11.908319,
          10.660761,
          14.287045499999998,
          5.6499963,
          10.498327,
          7.3029037,
          4.637492,
          10.485911999999999,
          12.678639,
          8.790113999999999,
          9.693686,
          11.176289,
          9.419483,
          6.431723000000001,
          11.275884,
          7.615325500000001,
          11.752175,
          8.484582000000001,
          11.621972999999999,
          7.1533875,
          7.0749397,
          7.9662679999999995,
          11.561034,
          7.0586967000000005,
          10.496739,
          12.042012,
          11.062329,
          10.586466,
          8.4969225,
          6.910854,
          12.244000999999999,
          13.006803999999999,
          13.058603,
          8.273677000000001,
          8.444355999999999,
          11.345039,
          -2.646318,
          9.805933999999999,
          8.8438,
          13.760389000000002,
          8.62539,
          10.375862,
          8.129621,
          9.901149,
          9.981554,
          10.373838000000001,
          10.587711,
          4.895206,
          9.460059,
          7.3292684999999995,
          13.225123000000002,
          11.007061,
          12.677374,
          14.012722,
          8.781792999999999,
          12.699602,
          12.670534,
          13.016385000000001,
          14.362028,
          8.371271,
          11.398918,
          12.823819,
          12.946912,
          8.982577000000001,
          13.902111999999999,
          7.803869000000001,
          12.134197,
          12.9526005,
          14.072109,
          8.442089999999999,
          9.3609705,
          10.269931,
          8.404369,
          7.3262167,
          8.954741,
          14.528988,
          7.2317029999999995,
          10.692077000000001,
          11.128575,
          12.090852,
          8.334961999999999,
          9.678294000000001,
          11.315847999999999,
          10.88438,
          9.571809,
          10.705528,
          8.127966,
          10.572636,
          10.483966,
          7.3828382,
          10.190041
         ]
        },
        {
         "customdata": [
          [
           "./dk_data/hihat_open/Yamaha RX5-RX5Hat_O.wav"
          ],
          [
           "./dk_data/hihat_open/Sequential Tom-TOMHat_O.wav"
          ],
          [
           "./dk_data/hihat_open/Roland MC09-MC09 HatO_04.wav"
          ],
          [
           "./dk_data/hihat_open/Visco Space drums-MaxV - HH Op.wav"
          ],
          [
           "./dk_data/hihat_open/Korg SR-120-MaxV - HH Op.wav"
          ],
          [
           "./dk_data/hihat_open/Casio PT-68-MaxV - HH Op.wav"
          ],
          [
           "./dk_data/hihat_open/Roland MC09-MC09 HatO_02.wav"
          ],
          [
           "./dk_data/hihat_open/Roland SC-88-MaxV - D#4 Open High Conga.wav"
          ],
          [
           "./dk_data/hihat_open/MATTEL SYNSONIC-MaxV - Mattel Hi-Hat.wav"
          ],
          [
           "./dk_data/hihat_open/Roland MC09-MC09 HatO_03.wav"
          ],
          [
           "./dk_data/hihat_open/Roland Tr-808-TR-808Hat_O01.wav"
          ],
          [
           "./dk_data/hihat_open/Roland MC303-MaxV - Openpand.wav"
          ],
          [
           "./dk_data/hihat_open/Oberheim DX-MaxV - DMX__OHH.wav"
          ],
          [
           "./dk_data/hihat_open/Boss DR-110-DR-110Hat_O.wav"
          ],
          [
           "./dk_data/hihat_open/KORG DDD-1-MaxV - DDD1 ophh1.wav"
          ],
          [
           "./dk_data/hihat_open/Roland System-100-MaxV - Roland -open2 18.wav"
          ],
          [
           "./dk_data/hihat_open/Acetone Rhythm King-MaxV - HH Op.wav"
          ],
          [
           "./dk_data/hihat_open/Boss DR-55-DR-55Hat.wav"
          ],
          [
           "./dk_data/hihat_open/Roland Tr-606-TR606Hat_O01.wav"
          ],
          [
           "./dk_data/hihat_open/Alesis Sr16-SR16Hat_O4.wav"
          ],
          [
           "./dk_data/hihat_open/XE8-XE8 Hat Open ext_5.wav"
          ],
          [
           "./dk_data/hihat_open/Yamaha SY22-Hhopsy53.wav"
          ],
          [
           "./dk_data/hihat_open/Korg Pro-Wave-MaxV - PDLHIHAT.wav"
          ],
          [
           "./dk_data/hihat_open/Fricke MFB 502-MaxV - HiHat Open.wav"
          ],
          [
           "./dk_data/hihat_open/XE8-XE8 Hat Open int_7.wav"
          ],
          [
           "./dk_data/hihat_open/Korg KPR77-KPRHat_O.wav"
          ],
          [
           "./dk_data/hihat_open/Boss DR-202-202hat22.wav"
          ],
          [
           "./dk_data/hihat_open/Farfisa-MaxV - HH Op.wav"
          ],
          [
           "./dk_data/hihat_open/Kurzweil K2000 ROM-MaxV - hihat2.wav"
          ],
          [
           "./dk_data/hihat_open/Visco Space drums-MaxV - HH Cl.wav"
          ],
          [
           "./dk_data/hihat_open/Roland R-8-R8Hat_O03.wav"
          ],
          [
           "./dk_data/hihat_open/Korg MS-20-MaxV - HH Op.wav"
          ],
          [
           "./dk_data/hihat_open/Boss Dr Rhythm110-MaxV - HiHat Open.wav"
          ],
          [
           "./dk_data/hihat_open/Roland R-8-R8Hat_O06.wav"
          ],
          [
           "./dk_data/hihat_open/Roland Tr-606-TR606Hat_O_OD.wav"
          ],
          [
           "./dk_data/hihat_open/Luxor Passet-MaxV - HH Cl.wav"
          ],
          [
           "./dk_data/hihat_open/Roland System-100-MaxV - Roland -open2 30.wav"
          ],
          [
           "./dk_data/hihat_open/Roland Tr-808-MaxV - Roland808 - 808HH 06.wav"
          ],
          [
           "./dk_data/hihat_open/Yamaha RX5-RX5Hat_C.wav"
          ],
          [
           "./dk_data/hihat_open/Sequential Drumtrax-DrumtraxOpenhat.wav"
          ],
          [
           "./dk_data/hihat_open/Alesis Sr16-SR16Hat_O2.wav"
          ],
          [
           "./dk_data/hihat_open/Lel UDS-MaxV - HiHat Open 2.wav"
          ],
          [
           "./dk_data/hihat_open/Wurlitzer Swinging Rhythm-MaxV - HH Op.wav"
          ],
          [
           "./dk_data/hihat_open/Yamaha EM-90-MaxV - HH Op.wav"
          ],
          [
           "./dk_data/hihat_open/Roland Tr-626-TR-626Hat_O.wav"
          ],
          [
           "./dk_data/hihat_open/Roland MC09-MC09 HatO_05.wav"
          ],
          [
           "./dk_data/hihat_open/Roland MT32-MaxV - MTAgogoHigh.wav"
          ],
          [
           "./dk_data/hihat_open/Roland SC-88-MaxV - D#6 Open Surdo.wav"
          ],
          [
           "./dk_data/hihat_open/Korg KPR77-MaxV - KR77 -Hat-Op 05.wav"
          ],
          [
           "./dk_data/hihat_open/Alesis DM5-DM5Hat_O03.wav"
          ]
         ],
         "hovertemplate": "drum_type=hihat_open<br>D1=%{x}<br>D2=%{y}<br>D3=%{z}<br>path=%{customdata[0]}<extra></extra>",
         "legendgroup": "hihat_open",
         "marker": {
          "color": "#750D86",
          "line": {
           "color": "DarkSlateGrey",
           "width": 0
          },
          "size": 8,
          "symbol": "circle"
         },
         "mode": "markers",
         "name": "hihat_open",
         "scene": "scene",
         "showlegend": true,
         "type": "scatter3d",
         "x": [
          5.103068,
          4.964027,
          7.915229300000001,
          7.807744500000001,
          5.250717,
          6.106604,
          7.050502000000001,
          20.565973,
          8.047687,
          7.1773929999999995,
          5.3471269999999995,
          20.269508,
          5.818878,
          4.546593700000001,
          4.6319985,
          9.254516,
          6.993228,
          5.5647864,
          4.6669893,
          7.448926400000001,
          6.0148945,
          7.0195612999999994,
          7.375221300000001,
          8.637839,
          6.0284867,
          7.966392999999999,
          14.716413500000002,
          5.66889,
          7.0406995,
          6.2895255,
          7.6567774,
          11.665724,
          4.525707700000001,
          5.8722324,
          -1.2082034,
          8.813410000000001,
          6.103219,
          7.764889200000001,
          8.595751,
          4.5529637,
          7.746838,
          7.549187,
          5.4983325,
          7.949373700000001,
          8.195984,
          8.140001,
          12.185459,
          14.103951,
          5.828477400000001,
          7.9639277
         ],
         "y": [
          8.582006,
          5.439339,
          1.9026005000000001,
          -3.9671769999999995,
          2.7774782000000005,
          6.105286,
          3.0130932,
          -3.2965696,
          1.4484632,
          1.1382362,
          2.0761359,
          -5.8392534000000005,
          7.0113389999999995,
          4.967532599999999,
          6.8980155,
          -5.4638753,
          3.1161773,
          1.420225,
          2.2975347000000004,
          -0.7426486,
          5.671602200000001,
          4.1383753,
          -3.3175523,
          4.6185412,
          6.001258,
          -1.2042061000000002,
          1.1398983,
          2.1220474,
          0.14309935,
          -4.290883,
          0.18530293,
          0.5132943,
          4.126628,
          4.713975,
          7.6092978,
          -3.8816762000000002,
          1.7142386000000003,
          -1.5311953,
          4.1955175,
          7.511033500000001,
          -1.0845841999999999,
          1.1940136000000001,
          2.7300053,
          1.9175537,
          6.052303299999999,
          -0.18478614,
          7.204772500000001,
          3.3181741000000002,
          3.7706687000000003,
          -0.45707276
         ],
         "z": [
          -4.458802700000001,
          -3.162435,
          -5.3906236,
          -4.963097599999999,
          -6.336930000000001,
          -7.313287299999999,
          -6.194476,
          -3.7762464999999996,
          -7.0374255,
          -5.8951993,
          -5.15686,
          1.4488878,
          -4.635747,
          -6.522558999999999,
          -5.8375797,
          2.1825209,
          -1.2589546,
          -7.8230770000000005,
          -4.3340697,
          -4.7582507000000005,
          -1.6372076999999998,
          -3.3783616999999997,
          -3.5002537000000005,
          -5.399838,
          -2.3591502,
          -2.7407155,
          -2.5241057999999996,
          -9.673656,
          -2.8450382000000003,
          -2.7302923,
          -7.339947,
          -5.537216,
          -6.0485635,
          -5.969593,
          -6.161568,
          -2.8158226,
          -0.6752094,
          -7.193377000000001,
          -8.315685,
          -4.0225919999999995,
          -1.1065695,
          -4.3836656,
          -8.381283999999999,
          -8.675219,
          -3.916119,
          -3.9671352,
          0.29786092,
          7.7253375,
          -2.6915492999999997,
          -0.57533455
         ]
        },
        {
         "customdata": [
          [
           "./dk_data/tom_mid/MFB-512-512mdtom.wav"
          ],
          [
           "./dk_data/tom_mid/Fricke MFB 502-MaxV - Tom 2.wav"
          ],
          [
           "./dk_data/tom_mid/Roland SH-09-MaxV - stompbass2.wav"
          ],
          [
           "./dk_data/tom_mid/Alesis DM5-DM5Tom01_M.wav"
          ],
          [
           "./dk_data/tom_mid/Emu Sp12-tom.wav"
          ],
          [
           "./dk_data/tom_mid/Kawai R50-R50 TomM.wav"
          ],
          [
           "./dk_data/tom_mid/Akai XR10-XR10MidTom03.wav"
          ],
          [
           "./dk_data/tom_mid/Roland R-8-R8Tom33.wav"
          ],
          [
           "./dk_data/tom_mid/Kawai R-50e-MaxV - R50e Tom 2.wav"
          ],
          [
           "./dk_data/tom_mid/Simmons SD-8-MaxV - TOM_05.wav"
          ],
          [
           "./dk_data/tom_mid/Alesis DM5-DM5Tom15_M.wav"
          ],
          [
           "./dk_data/tom_mid/Roland R-8-R8Tom14.wav"
          ],
          [
           "./dk_data/tom_mid/Roland Tr-808-TR-808Tom06.wav"
          ],
          [
           "./dk_data/tom_mid/Roland R-5-R-5 FX Tom.wav"
          ],
          [
           "./dk_data/tom_mid/Roland Tr-626-TR-626Tom_M02.wav"
          ],
          [
           "./dk_data/tom_mid/Roland MC303-MaxV - Acmidtom.wav"
          ],
          [
           "./dk_data/tom_mid/Roland TR-33-MaxV - Tom Mi.wav"
          ],
          [
           "./dk_data/tom_mid/Visco Space drums-MaxV - Tom Mi.wav"
          ],
          [
           "./dk_data/tom_mid/Roland R-5-R-5 Dry Tom 2.wav"
          ],
          [
           "./dk_data/tom_mid/Roland JV 1080-MaxV - TomMid2.wav"
          ],
          [
           "./dk_data/tom_mid/Roland R-8-R8Tom02.wav"
          ],
          [
           "./dk_data/tom_mid/Emu Drumulator-DrumulatorETomMid.wav"
          ],
          [
           "./dk_data/tom_mid/Kawai r-50-MaxV - TOMM_R50.wav"
          ],
          [
           "./dk_data/tom_mid/Kawai R50e-R50eTomE_Mid.wav"
          ],
          [
           "./dk_data/tom_mid/Hohner Automatic-MaxV - Tom Mi.wav"
          ],
          [
           "./dk_data/tom_mid/Yamaha PSR-MaxV - psr-tom1.wav"
          ],
          [
           "./dk_data/tom_mid/Korg ddd5-MaxV - MIDTOM.wav"
          ],
          [
           "./dk_data/tom_mid/Alesis DM5-DM5Tom08_M.wav"
          ],
          [
           "./dk_data/tom_mid/Simmons SD-8-MaxV - TOM_02.wav"
          ],
          [
           "./dk_data/tom_mid/Simmons SD-8-MaxV - TOM_15.wav"
          ]
         ],
         "hovertemplate": "drum_type=tom_mid<br>D1=%{x}<br>D2=%{y}<br>D3=%{z}<br>path=%{customdata[0]}<extra></extra>",
         "legendgroup": "tom_mid",
         "marker": {
          "color": "#EB663B",
          "line": {
           "color": "DarkSlateGrey",
           "width": 0
          },
          "size": 8,
          "symbol": "circle"
         },
         "mode": "markers",
         "name": "tom_mid",
         "scene": "scene",
         "showlegend": true,
         "type": "scatter3d",
         "x": [
          14.598545999999999,
          6.3654839999999995,
          9.658874,
          14.45465,
          13.581398000000002,
          13.590345000000001,
          17.758337,
          16.406387,
          18.700403,
          12.207605000000001,
          16.953870000000002,
          10.851773,
          7.5698422999999995,
          13.021868,
          16.499767000000002,
          13.916504999999999,
          14.045048000000001,
          16.796457,
          13.610828,
          16.767754,
          17.525906,
          10.677756,
          14.145879999999998,
          17.696512,
          13.310735000000001,
          16.529557999999998,
          16.169420000000002,
          15.059737,
          15.316189999999999,
          6.693082
         ],
         "y": [
          -3.9209769,
          -7.927792,
          -11.022411,
          -3.9887,
          -0.13727032,
          -0.2560046,
          1.7418636000000003,
          -4.3447733,
          -2.1064863,
          1.8587192,
          -0.7705279,
          -8.371136,
          -7.736819000000001,
          -6.711349,
          -0.66956335,
          3.5765002,
          -8.09036,
          -0.0131614655,
          -5.4873137000000005,
          3.372837,
          -1.1925026,
          -1.2611024,
          1.6346225,
          -2.3517827999999996,
          -3.0196970000000003,
          -9.626057000000001,
          1.3649695,
          0.14970666,
          -3.4794858,
          -7.221825599999999
         ],
         "z": [
          6.1129,
          3.3792690999999997,
          -2.058076,
          4.3664556,
          4.52451,
          6.027579,
          3.2020168,
          0.71995425,
          3.120189,
          -1.1980765,
          6.617528,
          11.816685000000001,
          3.5327249,
          13.175220000000001,
          2.026964,
          5.6224155,
          2.885782,
          4.538261400000001,
          8.652830999999999,
          5.8925824,
          5.1071824999999995,
          2.1654709999999997,
          4.818279,
          2.424239,
          3.9408445,
          0.5674553000000001,
          5.54499,
          5.3324194,
          2.5506813999999998,
          2.0240686
         ]
        },
        {
         "customdata": [
          [
           "./dk_data/synth_noise/XU1F-1618-4.wav"
          ],
          [
           "./dk_data/synth_noise/HIY1-1113-4.wav"
          ],
          [
           "./dk_data/synth_noise/1LJG-1744-8.wav"
          ],
          [
           "./dk_data/synth_noise/OV8W-3588-8.wav"
          ],
          [
           "./dk_data/synth_noise/288-4-IRN1.wav"
          ],
          [
           "./dk_data/synth_noise/1792-4-AF53.wav"
          ],
          [
           "./dk_data/synth_noise/LXQS-1209-8.wav"
          ],
          [
           "./dk_data/synth_noise/OTQT-2594-8.wav"
          ],
          [
           "./dk_data/synth_noise/2LK2-299-1.wav"
          ],
          [
           "./dk_data/synth_noise/X67U-3784-8.wav"
          ],
          [
           "./dk_data/synth_noise/984-1-XY3F.wav"
          ],
          [
           "./dk_data/synth_noise/OKOO-787-1.wav"
          ],
          [
           "./dk_data/synth_noise/5HK4-1229-4.wav"
          ],
          [
           "./dk_data/synth_noise/NB5T-1116-1.wav"
          ],
          [
           "./dk_data/synth_noise/YO4A-270-8.wav"
          ],
          [
           "./dk_data/synth_noise/TEMB-2863-1.wav"
          ],
          [
           "./dk_data/synth_noise/SN6P-2551-1.wav"
          ],
          [
           "./dk_data/synth_noise/IAU1-22-4.wav"
          ],
          [
           "./dk_data/synth_noise/CD0V-1753-4.wav"
          ],
          [
           "./dk_data/synth_noise/5PGR-1256-1.wav"
          ],
          [
           "./dk_data/synth_noise/436-8-0S2D.wav"
          ],
          [
           "./dk_data/synth_noise/566-4-ID14.wav"
          ],
          [
           "./dk_data/synth_noise/2NQC-2561-4.wav"
          ],
          [
           "./dk_data/synth_noise/5JF0-1232-1.wav"
          ],
          [
           "./dk_data/synth_noise/9FO6-3528-4.wav"
          ],
          [
           "./dk_data/synth_noise/OCMM-2593-8.wav"
          ],
          [
           "./dk_data/synth_noise/FHS5-60-1.wav"
          ],
          [
           "./dk_data/synth_noise/73-4-3C95.wav"
          ],
          [
           "./dk_data/synth_noise/136-8-SV84.wav"
          ],
          [
           "./dk_data/synth_noise/GXUQ-3519-1.wav"
          ],
          [
           "./dk_data/synth_noise/MQ5M-3037-4.wav"
          ],
          [
           "./dk_data/synth_noise/NK3P-2949-8.wav"
          ],
          [
           "./dk_data/synth_noise/1559-8-XBU0.wav"
          ],
          [
           "./dk_data/synth_noise/2SPB-3024-4.wav"
          ],
          [
           "./dk_data/synth_noise/VEOF-2557-4.wav"
          ],
          [
           "./dk_data/synth_noise/B7R5-3818-8.wav"
          ],
          [
           "./dk_data/synth_noise/SVY0-2621-1.wav"
          ],
          [
           "./dk_data/synth_noise/7YOI-1717-4.wav"
          ],
          [
           "./dk_data/synth_noise/B1Q5-584-4.wav"
          ],
          [
           "./dk_data/synth_noise/JEO4-3987-8.wav"
          ],
          [
           "./dk_data/synth_noise/1241-4-6NVF.wav"
          ],
          [
           "./dk_data/synth_noise/8R6Y-3607-8.wav"
          ],
          [
           "./dk_data/synth_noise/HVJD-1787-4.wav"
          ],
          [
           "./dk_data/synth_noise/GLOL-3556-4.wav"
          ],
          [
           "./dk_data/synth_noise/3BPP-237-1.wav"
          ],
          [
           "./dk_data/synth_noise/F1TP-3163-8.wav"
          ],
          [
           "./dk_data/synth_noise/3RWM-2576-1.wav"
          ],
          [
           "./dk_data/synth_noise/XF8E-3008-1.wav"
          ],
          [
           "./dk_data/synth_noise/TWH9-3171-8.wav"
          ],
          [
           "./dk_data/synth_noise/490-8-L3AV.wav"
          ],
          [
           "./dk_data/synth_noise/S4VR-416-8.wav"
          ],
          [
           "./dk_data/synth_noise/CW3A-3902-4.wav"
          ],
          [
           "./dk_data/synth_noise/OR7P-2511-1.wav"
          ],
          [
           "./dk_data/synth_noise/353-4-3QDL.wav"
          ],
          [
           "./dk_data/synth_noise/497-4-JYDU.wav"
          ],
          [
           "./dk_data/synth_noise/0DJX-3608-4.wav"
          ],
          [
           "./dk_data/synth_noise/1085-1-JJM7.wav"
          ],
          [
           "./dk_data/synth_noise/KAZI-2033-4.wav"
          ],
          [
           "./dk_data/synth_noise/OQ4R-948-1.wav"
          ],
          [
           "./dk_data/synth_noise/14TR-1626-8.wav"
          ],
          [
           "./dk_data/synth_noise/1371-8-LQHT.wav"
          ],
          [
           "./dk_data/synth_noise/JJYR-3526-8.wav"
          ],
          [
           "./dk_data/synth_noise/FQ9E-930-4.wav"
          ],
          [
           "./dk_data/synth_noise/1942-8-ZZWC.wav"
          ],
          [
           "./dk_data/synth_noise/I0NR-3615-4.wav"
          ],
          [
           "./dk_data/synth_noise/DIG6-551-1.wav"
          ],
          [
           "./dk_data/synth_noise/107-4-42WV.wav"
          ],
          [
           "./dk_data/synth_noise/KEU1-3208-4.wav"
          ],
          [
           "./dk_data/synth_noise/2O2C-2180-1.wav"
          ],
          [
           "./dk_data/synth_noise/L7ZW-1805-4.wav"
          ],
          [
           "./dk_data/synth_noise/M48D-768-8.wav"
          ],
          [
           "./dk_data/synth_noise/483-4-KVIP.wav"
          ],
          [
           "./dk_data/synth_noise/1219-1-AUZ5.wav"
          ],
          [
           "./dk_data/synth_noise/969-4-GO07.wav"
          ],
          [
           "./dk_data/synth_noise/830-4-TC35.wav"
          ],
          [
           "./dk_data/synth_noise/510-1-9JL9.wav"
          ],
          [
           "./dk_data/synth_noise/BFXW-700-8.wav"
          ],
          [
           "./dk_data/synth_noise/FIDJ-2104-8.wav"
          ],
          [
           "./dk_data/synth_noise/6SM6-126-1.wav"
          ],
          [
           "./dk_data/synth_noise/FZEI-1966-4.wav"
          ],
          [
           "./dk_data/synth_noise/VR5G-638-4.wav"
          ],
          [
           "./dk_data/synth_noise/891-8-96OS.wav"
          ],
          [
           "./dk_data/synth_noise/0BTN-892-8.wav"
          ],
          [
           "./dk_data/synth_noise/VVOO-1696-8.wav"
          ],
          [
           "./dk_data/synth_noise/MW09-3205-8.wav"
          ],
          [
           "./dk_data/synth_noise/500-8-5H9W.wav"
          ],
          [
           "./dk_data/synth_noise/9ONZ-2957-8.wav"
          ],
          [
           "./dk_data/synth_noise/LQKL-2085-8.wav"
          ],
          [
           "./dk_data/synth_noise/F7ZI-3219-1.wav"
          ],
          [
           "./dk_data/synth_noise/3UYK-2746-8.wav"
          ],
          [
           "./dk_data/synth_noise/529-8-5L7V.wav"
          ],
          [
           "./dk_data/synth_noise/MMG6-213-8.wav"
          ],
          [
           "./dk_data/synth_noise/JL6I-378-1.wav"
          ],
          [
           "./dk_data/synth_noise/YIBV-3915-8.wav"
          ],
          [
           "./dk_data/synth_noise/876-1-8N94.wav"
          ],
          [
           "./dk_data/synth_noise/750-8-1Z62.wav"
          ],
          [
           "./dk_data/synth_noise/1467-4-T0WT.wav"
          ],
          [
           "./dk_data/synth_noise/OF1Y-1925-1.wav"
          ],
          [
           "./dk_data/synth_noise/FWW3-1999-8.wav"
          ],
          [
           "./dk_data/synth_noise/92-1-USF3.wav"
          ],
          [
           "./dk_data/synth_noise/9CE6-2173-1.wav"
          ],
          [
           "./dk_data/synth_noise/LBRX-3074-4.wav"
          ],
          [
           "./dk_data/synth_noise/ERG1-1286-4.wav"
          ],
          [
           "./dk_data/synth_noise/MPNC-1171-4.wav"
          ],
          [
           "./dk_data/synth_noise/883K-548-8.wav"
          ],
          [
           "./dk_data/synth_noise/1047-1-97KQ.wav"
          ],
          [
           "./dk_data/synth_noise/1394-8-DSTV.wav"
          ],
          [
           "./dk_data/synth_noise/161-4-MAO4.wav"
          ],
          [
           "./dk_data/synth_noise/3CZ5-1538-8.wav"
          ],
          [
           "./dk_data/synth_noise/3KZK-1239-1.wav"
          ],
          [
           "./dk_data/synth_noise/498-1-Z8R6.wav"
          ],
          [
           "./dk_data/synth_noise/XTJQ-2895-4.wav"
          ],
          [
           "./dk_data/synth_noise/4TXM-369-1.wav"
          ],
          [
           "./dk_data/synth_noise/Q91I-993-1.wav"
          ],
          [
           "./dk_data/synth_noise/DK92-441-8.wav"
          ],
          [
           "./dk_data/synth_noise/272-8-EZ6G.wav"
          ],
          [
           "./dk_data/synth_noise/GIJ9-3323-4.wav"
          ],
          [
           "./dk_data/synth_noise/M4B6-894-1.wav"
          ],
          [
           "./dk_data/synth_noise/LCXV-3333-1.wav"
          ],
          [
           "./dk_data/synth_noise/FUKM-2884-8.wav"
          ],
          [
           "./dk_data/synth_noise/1917-1-EC52.wav"
          ],
          [
           "./dk_data/synth_noise/NGK0-2729-1.wav"
          ],
          [
           "./dk_data/synth_noise/5ZPU-1861-8.wav"
          ],
          [
           "./dk_data/synth_noise/0G24-3699-1.wav"
          ],
          [
           "./dk_data/synth_noise/HU4P-1201-4.wav"
          ],
          [
           "./dk_data/synth_noise/DI9N-3890-4.wav"
          ],
          [
           "./dk_data/synth_noise/777-1-28ZI.wav"
          ],
          [
           "./dk_data/synth_noise/IHA1-3614-1.wav"
          ],
          [
           "./dk_data/synth_noise/51-1-M9JQ.wav"
          ],
          [
           "./dk_data/synth_noise/QTHT-2660-1.wav"
          ],
          [
           "./dk_data/synth_noise/E66K-2510-1.wav"
          ],
          [
           "./dk_data/synth_noise/D3PX-115-1.wav"
          ],
          [
           "./dk_data/synth_noise/9SBF-3393-1.wav"
          ],
          [
           "./dk_data/synth_noise/FSVW-3712-4.wav"
          ],
          [
           "./dk_data/synth_noise/1010-1-AWYM.wav"
          ],
          [
           "./dk_data/synth_noise/4GDT-1997-1.wav"
          ],
          [
           "./dk_data/synth_noise/P3T0-379-1.wav"
          ],
          [
           "./dk_data/synth_noise/1941-4-S02B.wav"
          ],
          [
           "./dk_data/synth_noise/DV2O-376-4.wav"
          ],
          [
           "./dk_data/synth_noise/J7HA-1003-8.wav"
          ],
          [
           "./dk_data/synth_noise/N4J7-3217-8.wav"
          ],
          [
           "./dk_data/synth_noise/LUT8-3644-8.wav"
          ],
          [
           "./dk_data/synth_noise/OF1C-2759-4.wav"
          ],
          [
           "./dk_data/synth_noise/764-1-35ZC.wav"
          ],
          [
           "./dk_data/synth_noise/E0Q7-2724-4.wav"
          ],
          [
           "./dk_data/synth_noise/0OG2-2903-4.wav"
          ],
          [
           "./dk_data/synth_noise/D95M-1125-1.wav"
          ],
          [
           "./dk_data/synth_noise/TA5G-3438-8.wav"
          ],
          [
           "./dk_data/synth_noise/1ZN0-3108-4.wav"
          ],
          [
           "./dk_data/synth_noise/3EEB-2303-8.wav"
          ],
          [
           "./dk_data/synth_noise/1712-4-N8VF.wav"
          ],
          [
           "./dk_data/synth_noise/2BK5-1235-1.wav"
          ],
          [
           "./dk_data/synth_noise/6YHA-361-1.wav"
          ],
          [
           "./dk_data/synth_noise/9P5V-3314-4.wav"
          ],
          [
           "./dk_data/synth_noise/SBAK-1129-8.wav"
          ],
          [
           "./dk_data/synth_noise/IPL2-2727-8.wav"
          ],
          [
           "./dk_data/synth_noise/HR69-1012-8.wav"
          ],
          [
           "./dk_data/synth_noise/OPEM-1145-8.wav"
          ],
          [
           "./dk_data/synth_noise/1874-4-P0LP.wav"
          ],
          [
           "./dk_data/synth_noise/DZU4-919-1.wav"
          ],
          [
           "./dk_data/synth_noise/1797-4-ZIDY.wav"
          ],
          [
           "./dk_data/synth_noise/OZI9-3098-8.wav"
          ],
          [
           "./dk_data/synth_noise/OWHC-1198-1.wav"
          ],
          [
           "./dk_data/synth_noise/30-1-23EQ.wav"
          ],
          [
           "./dk_data/synth_noise/ITQK-3523-8.wav"
          ],
          [
           "./dk_data/synth_noise/76DD-3448-4.wav"
          ],
          [
           "./dk_data/synth_noise/1263-4-D7S9.wav"
          ],
          [
           "./dk_data/synth_noise/3BBR-2697-4.wav"
          ],
          [
           "./dk_data/synth_noise/HZ6R-3147-4.wav"
          ],
          [
           "./dk_data/synth_noise/IQG2-3894-8.wav"
          ],
          [
           "./dk_data/synth_noise/74R6-1334-4.wav"
          ],
          [
           "./dk_data/synth_noise/747-8-DH8Q.wav"
          ],
          [
           "./dk_data/synth_noise/719C-1872-1.wav"
          ],
          [
           "./dk_data/synth_noise/7XBH-2585-8.wav"
          ],
          [
           "./dk_data/synth_noise/535-8-UAJO.wav"
          ],
          [
           "./dk_data/synth_noise/TBHC-612-4.wav"
          ],
          [
           "./dk_data/synth_noise/JEQJ-2046-1.wav"
          ],
          [
           "./dk_data/synth_noise/L47E-2491-8.wav"
          ],
          [
           "./dk_data/synth_noise/DMHX-1749-1.wav"
          ],
          [
           "./dk_data/synth_noise/MWS3-1672-8.wav"
          ],
          [
           "./dk_data/synth_noise/4APZ-3908-8.wav"
          ],
          [
           "./dk_data/synth_noise/740-8-R3SZ.wav"
          ],
          [
           "./dk_data/synth_noise/1839-4-2D7J.wav"
          ],
          [
           "./dk_data/synth_noise/UASQ-307-8.wav"
          ],
          [
           "./dk_data/synth_noise/QL59-1157-4.wav"
          ],
          [
           "./dk_data/synth_noise/751-1-SEAV.wav"
          ],
          [
           "./dk_data/synth_noise/3ZAW-2195-8.wav"
          ],
          [
           "./dk_data/synth_noise/DKX0-3539-8.wav"
          ],
          [
           "./dk_data/synth_noise/3DZ8-75-1.wav"
          ],
          [
           "./dk_data/synth_noise/IO9Z-327-1.wav"
          ],
          [
           "./dk_data/synth_noise/9YQA-1662-1.wav"
          ],
          [
           "./dk_data/synth_noise/5NU0-3325-1.wav"
          ],
          [
           "./dk_data/synth_noise/Y59J-1961-1.wav"
          ],
          [
           "./dk_data/synth_noise/WJJV-2335-8.wav"
          ],
          [
           "./dk_data/synth_noise/SETH-2620-8.wav"
          ],
          [
           "./dk_data/synth_noise/7RUO-1283-8.wav"
          ],
          [
           "./dk_data/synth_noise/3T34-3230-4.wav"
          ],
          [
           "./dk_data/synth_noise/1363-1-HHU1.wav"
          ],
          [
           "./dk_data/synth_noise/569-4-AKXB.wav"
          ],
          [
           "./dk_data/synth_noise/OE64-3765-8.wav"
          ],
          [
           "./dk_data/synth_noise/340-4-FHSE.wav"
          ],
          [
           "./dk_data/synth_noise/1226-8-7ME5.wav"
          ],
          [
           "./dk_data/synth_noise/GL02-1054-1.wav"
          ],
          [
           "./dk_data/synth_noise/695-1-I5V8.wav"
          ],
          [
           "./dk_data/synth_noise/8ICB-87-4.wav"
          ],
          [
           "./dk_data/synth_noise/949-8-0Q0S.wav"
          ],
          [
           "./dk_data/synth_noise/SKH7-2398-8.wav"
          ],
          [
           "./dk_data/synth_noise/104-4-JF0H.wav"
          ],
          [
           "./dk_data/synth_noise/ZIWE-1927-8.wav"
          ],
          [
           "./dk_data/synth_noise/QY2H-3754-8.wav"
          ],
          [
           "./dk_data/synth_noise/8AS7-1027-4.wav"
          ],
          [
           "./dk_data/synth_noise/OMEJ-2626-8.wav"
          ],
          [
           "./dk_data/synth_noise/DBG4-18-8.wav"
          ],
          [
           "./dk_data/synth_noise/F31Z-792-8.wav"
          ],
          [
           "./dk_data/synth_noise/1866-8-70ZX.wav"
          ],
          [
           "./dk_data/synth_noise/51XU-1019-8.wav"
          ],
          [
           "./dk_data/synth_noise/1670-8-6OBN.wav"
          ],
          [
           "./dk_data/synth_noise/330-4-D1R9.wav"
          ],
          [
           "./dk_data/synth_noise/1779-8-ED5A.wav"
          ],
          [
           "./dk_data/synth_noise/NMB1-918-8.wav"
          ],
          [
           "./dk_data/synth_noise/34XL-750-8.wav"
          ],
          [
           "./dk_data/synth_noise/1427-4-T2K8.wav"
          ],
          [
           "./dk_data/synth_noise/261-1-4ZF3.wav"
          ],
          [
           "./dk_data/synth_noise/55S7-2215-4.wav"
          ],
          [
           "./dk_data/synth_noise/QXA0-52-1.wav"
          ],
          [
           "./dk_data/synth_noise/903-1-VCZX.wav"
          ],
          [
           "./dk_data/synth_noise/AUVQ-2695-4.wav"
          ],
          [
           "./dk_data/synth_noise/T8VF-1304-1.wav"
          ],
          [
           "./dk_data/synth_noise/PZRI-1965-4.wav"
          ],
          [
           "./dk_data/synth_noise/9Z0I-2343-8.wav"
          ],
          [
           "./dk_data/synth_noise/2M48-2574-8.wav"
          ],
          [
           "./dk_data/synth_noise/DCSF-1344-8.wav"
          ],
          [
           "./dk_data/synth_noise/Q44F-3791-4.wav"
          ],
          [
           "./dk_data/synth_noise/1963-1-JQR4.wav"
          ],
          [
           "./dk_data/synth_noise/G4UY-2525-1.wav"
          ],
          [
           "./dk_data/synth_noise/WLK9-1341-8.wav"
          ],
          [
           "./dk_data/synth_noise/HXSG-699-4.wav"
          ],
          [
           "./dk_data/synth_noise/775-4-6Z3U.wav"
          ],
          [
           "./dk_data/synth_noise/OW28-3446-8.wav"
          ],
          [
           "./dk_data/synth_noise/1121-4-YLB8.wav"
          ],
          [
           "./dk_data/synth_noise/806-4-TZAG.wav"
          ],
          [
           "./dk_data/synth_noise/NCOM-2001-4.wav"
          ],
          [
           "./dk_data/synth_noise/I638-385-4.wav"
          ],
          [
           "./dk_data/synth_noise/TL1K-1093-4.wav"
          ],
          [
           "./dk_data/synth_noise/RC8U-3454-4.wav"
          ],
          [
           "./dk_data/synth_noise/NQ13-2556-8.wav"
          ],
          [
           "./dk_data/synth_noise/I3FA-1829-8.wav"
          ],
          [
           "./dk_data/synth_noise/1083-4-V93J.wav"
          ],
          [
           "./dk_data/synth_noise/APYR-2662-1.wav"
          ],
          [
           "./dk_data/synth_noise/280-1-CG3B.wav"
          ],
          [
           "./dk_data/synth_noise/W2ZC-279-8.wav"
          ],
          [
           "./dk_data/synth_noise/Q00T-313-1.wav"
          ],
          [
           "./dk_data/synth_noise/EMW0-477-1.wav"
          ],
          [
           "./dk_data/synth_noise/79HU-3536-1.wav"
          ],
          [
           "./dk_data/synth_noise/222-4-2Y4X.wav"
          ],
          [
           "./dk_data/synth_noise/TOVH-2987-1.wav"
          ],
          [
           "./dk_data/synth_noise/BVJ1-3294-4.wav"
          ],
          [
           "./dk_data/synth_noise/1109-8-JVLO.wav"
          ],
          [
           "./dk_data/synth_noise/76-8-SPY5.wav"
          ],
          [
           "./dk_data/synth_noise/F5ET-3031-4.wav"
          ],
          [
           "./dk_data/synth_noise/160-1-AKMB.wav"
          ],
          [
           "./dk_data/synth_noise/LON3-1532-4.wav"
          ],
          [
           "./dk_data/synth_noise/125-4-FFQX.wav"
          ],
          [
           "./dk_data/synth_noise/DFD4-3874-8.wav"
          ],
          [
           "./dk_data/synth_noise/GGG8-254-4.wav"
          ],
          [
           "./dk_data/synth_noise/GOWD-3977-1.wav"
          ],
          [
           "./dk_data/synth_noise/DSDA-642-8.wav"
          ],
          [
           "./dk_data/synth_noise/Y9VD-1591-8.wav"
          ],
          [
           "./dk_data/synth_noise/1830-2072-4.wav"
          ],
          [
           "./dk_data/synth_noise/V76F-791-4.wav"
          ],
          [
           "./dk_data/synth_noise/OQKJ-843-8.wav"
          ],
          [
           "./dk_data/synth_noise/VJO9-2769-1.wav"
          ],
          [
           "./dk_data/synth_noise/TJOS-1678-1.wav"
          ],
          [
           "./dk_data/synth_noise/6VYS-3690-4.wav"
          ],
          [
           "./dk_data/synth_noise/JHTX-3344-1.wav"
          ],
          [
           "./dk_data/synth_noise/946-1-MNA7.wav"
          ],
          [
           "./dk_data/synth_noise/1124-1-JZ50.wav"
          ],
          [
           "./dk_data/synth_noise/C3C7-2007-8.wav"
          ],
          [
           "./dk_data/synth_noise/U4ZI-1904-8.wav"
          ],
          [
           "./dk_data/synth_noise/545-1-7CA0.wav"
          ],
          [
           "./dk_data/synth_noise/EUX2-2885-4.wav"
          ],
          [
           "./dk_data/synth_noise/1569-8-4SHJ.wav"
          ],
          [
           "./dk_data/synth_noise/LS92-2642-1.wav"
          ],
          [
           "./dk_data/synth_noise/117-1-EVPT.wav"
          ],
          [
           "./dk_data/synth_noise/WD9O-3971-8.wav"
          ],
          [
           "./dk_data/synth_noise/RDY0-1478-1.wav"
          ],
          [
           "./dk_data/synth_noise/G4VP-3332-1.wav"
          ],
          [
           "./dk_data/synth_noise/9OQ6-3184-8.wav"
          ],
          [
           "./dk_data/synth_noise/1900-1-NOJ8.wav"
          ],
          [
           "./dk_data/synth_noise/1555-1-3EDK.wav"
          ],
          [
           "./dk_data/synth_noise/NYA0-1953-8.wav"
          ],
          [
           "./dk_data/synth_noise/HB0D-3264-1.wav"
          ],
          [
           "./dk_data/synth_noise/YCMC-3733-8.wav"
          ],
          [
           "./dk_data/synth_noise/1685-4-KKGM.wav"
          ],
          [
           "./dk_data/synth_noise/516-4-UH2M.wav"
          ],
          [
           "./dk_data/synth_noise/1980-8-0TZE.wav"
          ],
          [
           "./dk_data/synth_noise/VXU2-675-8.wav"
          ],
          [
           "./dk_data/synth_noise/G8GD-3003-8.wav"
          ],
          [
           "./dk_data/synth_noise/1453-8-5HBR.wav"
          ],
          [
           "./dk_data/synth_noise/MSEG-3914-1.wav"
          ],
          [
           "./dk_data/synth_noise/3XF6-1449-1.wav"
          ],
          [
           "./dk_data/synth_noise/3FHC-177-1.wav"
          ],
          [
           "./dk_data/synth_noise/VMIG-1796-4.wav"
          ],
          [
           "./dk_data/synth_noise/8OCS-1202-8.wav"
          ],
          [
           "./dk_data/synth_noise/1590-1-DXFO.wav"
          ],
          [
           "./dk_data/synth_noise/65CU-2929-8.wav"
          ],
          [
           "./dk_data/synth_noise/259-1-HTH3.wav"
          ],
          [
           "./dk_data/synth_noise/P4DB-2218-1.wav"
          ],
          [
           "./dk_data/synth_noise/O3AM-2026-1.wav"
          ],
          [
           "./dk_data/synth_noise/684-4-6VKU.wav"
          ],
          [
           "./dk_data/synth_noise/RMQI-3769-4.wav"
          ],
          [
           "./dk_data/synth_noise/C8WI-1549-8.wav"
          ],
          [
           "./dk_data/synth_noise/1379-4-32YD.wav"
          ],
          [
           "./dk_data/synth_noise/AEHL-1790-4.wav"
          ],
          [
           "./dk_data/synth_noise/1249-1-DWQJ.wav"
          ],
          [
           "./dk_data/synth_noise/807-1-WIKJ.wav"
          ],
          [
           "./dk_data/synth_noise/8TG6-3138-4.wav"
          ],
          [
           "./dk_data/synth_noise/WAVV-2545-8.wav"
          ],
          [
           "./dk_data/synth_noise/NXF4-1809-4.wav"
          ],
          [
           "./dk_data/synth_noise/XOLQ-1272-8.wav"
          ],
          [
           "./dk_data/synth_noise/CI7J-1947-4.wav"
          ],
          [
           "./dk_data/synth_noise/1OQ1-1791-1.wav"
          ],
          [
           "./dk_data/synth_noise/OLUS-1499-1.wav"
          ],
          [
           "./dk_data/synth_noise/X10F-2891-1.wav"
          ],
          [
           "./dk_data/synth_noise/KQ1H-355-4.wav"
          ],
          [
           "./dk_data/synth_noise/WPPT-402-8.wav"
          ],
          [
           "./dk_data/synth_noise/672-1-WJ9S.wav"
          ],
          [
           "./dk_data/synth_noise/111-1-YN4L.wav"
          ],
          [
           "./dk_data/synth_noise/KEJ1-3381-8.wav"
          ],
          [
           "./dk_data/synth_noise/7A8F-1074-4.wav"
          ],
          [
           "./dk_data/synth_noise/ULKW-2644-4.wav"
          ],
          [
           "./dk_data/synth_noise/GS5I-1648-4.wav"
          ],
          [
           "./dk_data/synth_noise/1342-4-YN25.wav"
          ],
          [
           "./dk_data/synth_noise/BCBJ-106-4.wav"
          ],
          [
           "./dk_data/synth_noise/5MU3-127-8.wav"
          ],
          [
           "./dk_data/synth_noise/995-4-NABS.wav"
          ],
          [
           "./dk_data/synth_noise/359-4-ZA4L.wav"
          ],
          [
           "./dk_data/synth_noise/7NTX-2443-1.wav"
          ],
          [
           "./dk_data/synth_noise/1537-1-7F05.wav"
          ],
          [
           "./dk_data/synth_noise/S701-3123-1.wav"
          ],
          [
           "./dk_data/synth_noise/725-1-G09I.wav"
          ],
          [
           "./dk_data/synth_noise/416-4-AJFJ.wav"
          ],
          [
           "./dk_data/synth_noise/2DQD-637-1.wav"
          ],
          [
           "./dk_data/synth_noise/7CMI-1416-8.wav"
          ],
          [
           "./dk_data/synth_noise/YDT5-2450-4.wav"
          ],
          [
           "./dk_data/synth_noise/K8YS-3166-8.wav"
          ],
          [
           "./dk_data/synth_noise/1354-8-83LE.wav"
          ],
          [
           "./dk_data/synth_noise/HHC8-1368-1.wav"
          ],
          [
           "./dk_data/synth_noise/RXL4-866-1.wav"
          ],
          [
           "./dk_data/synth_noise/1382-4-2HE6.wav"
          ],
          [
           "./dk_data/synth_noise/IM4C-867-4.wav"
          ],
          [
           "./dk_data/synth_noise/1J66-3212-8.wav"
          ],
          [
           "./dk_data/synth_noise/RD7C-1000-1.wav"
          ],
          [
           "./dk_data/synth_noise/8R1A-3491-8.wav"
          ],
          [
           "./dk_data/synth_noise/1015-4-ECK4.wav"
          ],
          [
           "./dk_data/synth_noise/1005-4-CC9W.wav"
          ],
          [
           "./dk_data/synth_noise/1628-4-AOGX.wav"
          ],
          [
           "./dk_data/synth_noise/PAVK-1011-4.wav"
          ],
          [
           "./dk_data/synth_noise/MZCY-3487-1.wav"
          ],
          [
           "./dk_data/synth_noise/142-8-J52M.wav"
          ],
          [
           "./dk_data/synth_noise/56A5-26-4.wav"
          ],
          [
           "./dk_data/synth_noise/HGL9-3807-8.wav"
          ],
          [
           "./dk_data/synth_noise/TP0H-2128-4.wav"
          ],
          [
           "./dk_data/synth_noise/GFQE-1187-4.wav"
          ],
          [
           "./dk_data/synth_noise/A5TQ-3350-8.wav"
          ],
          [
           "./dk_data/synth_noise/1824-4-1Z09.wav"
          ],
          [
           "./dk_data/synth_noise/1424-4-ZD5I.wav"
          ],
          [
           "./dk_data/synth_noise/93B3-3475-1.wav"
          ],
          [
           "./dk_data/synth_noise/ZQDN-2419-4.wav"
          ],
          [
           "./dk_data/synth_noise/1979-4-J42B.wav"
          ],
          [
           "./dk_data/synth_noise/3PU7-2439-4.wav"
          ],
          [
           "./dk_data/synth_noise/118-8-EHBH.wav"
          ],
          [
           "./dk_data/synth_noise/J090-617-8.wav"
          ],
          [
           "./dk_data/synth_noise/M71R-454-8.wav"
          ],
          [
           "./dk_data/synth_noise/662-4-VKEY.wav"
          ],
          [
           "./dk_data/synth_noise/2DOA-2473-8.wav"
          ],
          [
           "./dk_data/synth_noise/782-8-SNLH.wav"
          ],
          [
           "./dk_data/synth_noise/KRBF-2636-4.wav"
          ],
          [
           "./dk_data/synth_noise/ADEU-2806-1.wav"
          ],
          [
           "./dk_data/synth_noise/1200-4-CVRC.wav"
          ],
          [
           "./dk_data/synth_noise/156Q-3272-1.wav"
          ],
          [
           "./dk_data/synth_noise/CZJZ-242-1.wav"
          ],
          [
           "./dk_data/synth_noise/J2IP-3054-8.wav"
          ],
          [
           "./dk_data/synth_noise/872-4-935Q.wav"
          ],
          [
           "./dk_data/synth_noise/61-4-SP5E.wav"
          ],
          [
           "./dk_data/synth_noise/DF5U-2117-4.wav"
          ],
          [
           "./dk_data/synth_noise/RB75-2528-4.wav"
          ],
          [
           "./dk_data/synth_noise/4-8-SJON.wav"
          ],
          [
           "./dk_data/synth_noise/8O9Z-2494-1.wav"
          ],
          [
           "./dk_data/synth_noise/8Q3W-736-4.wav"
          ],
          [
           "./dk_data/synth_noise/863-4-PAZF.wav"
          ],
          [
           "./dk_data/synth_noise/QUFT-785-4.wav"
          ],
          [
           "./dk_data/synth_noise/YSTS-474-4.wav"
          ],
          [
           "./dk_data/synth_noise/632-1-SLV1.wav"
          ],
          [
           "./dk_data/synth_noise/O52A-2097-1.wav"
          ],
          [
           "./dk_data/synth_noise/150-8-D4DZ.wav"
          ],
          [
           "./dk_data/synth_noise/X1VQ-2055-1.wav"
          ],
          [
           "./dk_data/synth_noise/AH1J-672-4.wav"
          ],
          [
           "./dk_data/synth_noise/GO62-1414-4.wav"
          ],
          [
           "./dk_data/synth_noise/V01N-2813-8.wav"
          ],
          [
           "./dk_data/synth_noise/1777-8-D3BT.wav"
          ],
          [
           "./dk_data/synth_noise/DVNE-3495-8.wav"
          ],
          [
           "./dk_data/synth_noise/IW79-1722-8.wav"
          ],
          [
           "./dk_data/synth_noise/EWJN-3146-1.wav"
          ],
          [
           "./dk_data/synth_noise/9P32-222-1.wav"
          ],
          [
           "./dk_data/synth_noise/Y9SW-2107-8.wav"
          ],
          [
           "./dk_data/synth_noise/1718-8-76QD.wav"
          ],
          [
           "./dk_data/synth_noise/6CMS-2098-8.wav"
          ],
          [
           "./dk_data/synth_noise/1067-8-34S1.wav"
          ],
          [
           "./dk_data/synth_noise/209-8-8IW2.wav"
          ],
          [
           "./dk_data/synth_noise/1318-4-PHO4.wav"
          ],
          [
           "./dk_data/synth_noise/182-1-OL38.wav"
          ],
          [
           "./dk_data/synth_noise/212-8-O5O1.wav"
          ],
          [
           "./dk_data/synth_noise/7ZAY-1619-1.wav"
          ],
          [
           "./dk_data/synth_noise/387-1-TLTA.wav"
          ],
          [
           "./dk_data/synth_noise/1623-8-YJCL.wav"
          ],
          [
           "./dk_data/synth_noise/RQIC-2786-4.wav"
          ],
          [
           "./dk_data/synth_noise/B9DV-3560-4.wav"
          ],
          [
           "./dk_data/synth_noise/1734-4-KJ96.wav"
          ],
          [
           "./dk_data/synth_noise/1916-1-P6SA.wav"
          ],
          [
           "./dk_data/synth_noise/40-8-3YI0.wav"
          ],
          [
           "./dk_data/synth_noise/SB7W-3472-1.wav"
          ],
          [
           "./dk_data/synth_noise/I1XT-263-4.wav"
          ],
          [
           "./dk_data/synth_noise/5IP1-2115-4.wav"
          ],
          [
           "./dk_data/synth_noise/88-4-DE20.wav"
          ],
          [
           "./dk_data/synth_noise/ZTIN-1180-4.wav"
          ],
          [
           "./dk_data/synth_noise/71-8-86MQ.wav"
          ],
          [
           "./dk_data/synth_noise/4WOC-3781-1.wav"
          ],
          [
           "./dk_data/synth_noise/4SOZ-2758-1.wav"
          ],
          [
           "./dk_data/synth_noise/1990-1-5G8I.wav"
          ],
          [
           "./dk_data/synth_noise/991-4-A6VG.wav"
          ],
          [
           "./dk_data/synth_noise/6KTA-253-8.wav"
          ],
          [
           "./dk_data/synth_noise/ESC3-2268-1.wav"
          ],
          [
           "./dk_data/synth_noise/IU9P-3106-4.wav"
          ],
          [
           "./dk_data/synth_noise/SZAQ-2586-8.wav"
          ],
          [
           "./dk_data/synth_noise/TTK2-3419-8.wav"
          ],
          [
           "./dk_data/synth_noise/251-8-QN7T.wav"
          ],
          [
           "./dk_data/synth_noise/OH3A-2417-8.wav"
          ],
          [
           "./dk_data/synth_noise/346-1-4920.wav"
          ],
          [
           "./dk_data/synth_noise/2H4S-1169-1.wav"
          ],
          [
           "./dk_data/synth_noise/TPHG-1090-1.wav"
          ],
          [
           "./dk_data/synth_noise/ODZC-3062-1.wav"
          ],
          [
           "./dk_data/synth_noise/1IIE-2386-8.wav"
          ],
          [
           "./dk_data/synth_noise/1619-3639-4.wav"
          ],
          [
           "./dk_data/synth_noise/S4GY-560-4.wav"
          ],
          [
           "./dk_data/synth_noise/C7QN-1747-8.wav"
          ],
          [
           "./dk_data/synth_noise/U1HC-3850-4.wav"
          ],
          [
           "./dk_data/synth_noise/S5LW-2961-8.wav"
          ],
          [
           "./dk_data/synth_noise/665-8-ONSH.wav"
          ],
          [
           "./dk_data/synth_noise/ZM40-2726-8.wav"
          ],
          [
           "./dk_data/synth_noise/GEA6-1338-4.wav"
          ],
          [
           "./dk_data/synth_noise/B0RB-1985-1.wav"
          ],
          [
           "./dk_data/synth_noise/AO2N-878-1.wav"
          ],
          [
           "./dk_data/synth_noise/7JGW-3813-4.wav"
          ],
          [
           "./dk_data/synth_noise/WUTY-3377-4.wav"
          ],
          [
           "./dk_data/synth_noise/M2LB-1799-8.wav"
          ],
          [
           "./dk_data/synth_noise/1019-1-681U.wav"
          ],
          [
           "./dk_data/synth_noise/MJGW-365-1.wav"
          ],
          [
           "./dk_data/synth_noise/1151-4-8VWA.wav"
          ],
          [
           "./dk_data/synth_noise/5CC5-410-1.wav"
          ],
          [
           "./dk_data/synth_noise/358-1-V9N3.wav"
          ],
          [
           "./dk_data/synth_noise/XK0Y-174-1.wav"
          ],
          [
           "./dk_data/synth_noise/WQLC-601-1.wav"
          ],
          [
           "./dk_data/synth_noise/K8B1-34-8.wav"
          ],
          [
           "./dk_data/synth_noise/GFWN-2269-4.wav"
          ],
          [
           "./dk_data/synth_noise/1359-1-WD77.wav"
          ],
          [
           "./dk_data/synth_noise/X91F-205-4.wav"
          ],
          [
           "./dk_data/synth_noise/1801-8-XCX7.wav"
          ],
          [
           "./dk_data/synth_noise/GY35-3741-4.wav"
          ],
          [
           "./dk_data/synth_noise/X5L0-3020-8.wav"
          ],
          [
           "./dk_data/synth_noise/SLW9-1635-8.wav"
          ],
          [
           "./dk_data/synth_noise/339-8-5NCG.wav"
          ],
          [
           "./dk_data/synth_noise/CZDR-1454-4.wav"
          ],
          [
           "./dk_data/synth_noise/1K7B-105-4.wav"
          ],
          [
           "./dk_data/synth_noise/83Y3-1143-1.wav"
          ],
          [
           "./dk_data/synth_noise/Q7UD-2049-4.wav"
          ],
          [
           "./dk_data/synth_noise/94-4-AQ0U.wav"
          ],
          [
           "./dk_data/synth_noise/PSJP-3131-1.wav"
          ],
          [
           "./dk_data/synth_noise/WZPM-2659-8.wav"
          ],
          [
           "./dk_data/synth_noise/8QUF-493-8.wav"
          ],
          [
           "./dk_data/synth_noise/980-8-3Z13.wav"
          ],
          [
           "./dk_data/synth_noise/440-4-CFL2.wav"
          ],
          [
           "./dk_data/synth_noise/NPEA-2459-4.wav"
          ],
          [
           "./dk_data/synth_noise/WGHV-3707-8.wav"
          ],
          [
           "./dk_data/synth_noise/26-1-GO52.wav"
          ],
          [
           "./dk_data/synth_noise/1441-8-PARG.wav"
          ],
          [
           "./dk_data/synth_noise/ZM8J-2349-1.wav"
          ],
          [
           "./dk_data/synth_noise/QQ08-3214-8.wav"
          ],
          [
           "./dk_data/synth_noise/1415-4-C3CA.wav"
          ],
          [
           "./dk_data/synth_noise/131-1-F5TZ.wav"
          ],
          [
           "./dk_data/synth_noise/38-8-M45O.wav"
          ],
          [
           "./dk_data/synth_noise/DRF9-130-8.wav"
          ],
          [
           "./dk_data/synth_noise/GDDG-1377-1.wav"
          ],
          [
           "./dk_data/synth_noise/X8N8-2017-4.wav"
          ],
          [
           "./dk_data/synth_noise/67-8-KYK1.wav"
          ],
          [
           "./dk_data/synth_noise/704-4-083D.wav"
          ],
          [
           "./dk_data/synth_noise/A23M-906-1.wav"
          ],
          [
           "./dk_data/synth_noise/BG0D-1850-8.wav"
          ],
          [
           "./dk_data/synth_noise/27H4-1941-1.wav"
          ],
          [
           "./dk_data/synth_noise/LL9B-1035-4.wav"
          ],
          [
           "./dk_data/synth_noise/NA9L-349-1.wav"
          ],
          [
           "./dk_data/synth_noise/XPVA-2960-1.wav"
          ],
          [
           "./dk_data/synth_noise/5RZW-3296-4.wav"
          ],
          [
           "./dk_data/synth_noise/646-8-9K74.wav"
          ],
          [
           "./dk_data/synth_noise/T2R9-1914-1.wav"
          ],
          [
           "./dk_data/synth_noise/ATAJ-2938-8.wav"
          ],
          [
           "./dk_data/synth_noise/1080-1-DSGH.wav"
          ],
          [
           "./dk_data/synth_noise/8GIX-3865-8.wav"
          ],
          [
           "./dk_data/synth_noise/0289-2653-8.wav"
          ],
          [
           "./dk_data/synth_noise/ZAIO-1819-1.wav"
          ],
          [
           "./dk_data/synth_noise/87RX-2776-4.wav"
          ],
          [
           "./dk_data/synth_noise/O13P-1110-1.wav"
          ],
          [
           "./dk_data/synth_noise/597-1-RMGI.wav"
          ],
          [
           "./dk_data/synth_noise/95H4-985-1.wav"
          ],
          [
           "./dk_data/synth_noise/1755-8-DYO1.wav"
          ],
          [
           "./dk_data/synth_noise/Q8IU-492-8.wav"
          ],
          [
           "./dk_data/synth_noise/1600-4-MVL5.wav"
          ],
          [
           "./dk_data/synth_noise/AA6A-3468-1.wav"
          ],
          [
           "./dk_data/synth_noise/580-1-5LFE.wav"
          ],
          [
           "./dk_data/synth_noise/1986-8-39IF.wav"
          ],
          [
           "./dk_data/synth_noise/309-8-05J0.wav"
          ],
          [
           "./dk_data/synth_noise/3CXW-2225-8.wav"
          ],
          [
           "./dk_data/synth_noise/I002-1992-1.wav"
          ],
          [
           "./dk_data/synth_noise/60E5-1360-1.wav"
          ],
          [
           "./dk_data/synth_noise/AY08-607-1.wav"
          ],
          [
           "./dk_data/synth_noise/S9NF-2360-8.wav"
          ],
          [
           "./dk_data/synth_noise/1832-8-20QB.wav"
          ],
          [
           "./dk_data/synth_noise/AYHM-2058-8.wav"
          ],
          [
           "./dk_data/synth_noise/J6DU-1039-4.wav"
          ],
          [
           "./dk_data/synth_noise/0T8K-1783-8.wav"
          ],
          [
           "./dk_data/synth_noise/426-1-J7PE.wav"
          ],
          [
           "./dk_data/synth_noise/X1Z1-294-8.wav"
          ],
          [
           "./dk_data/synth_noise/5WZI-3329-8.wav"
          ],
          [
           "./dk_data/synth_noise/1906-1-R9V5.wav"
          ],
          [
           "./dk_data/synth_noise/645-8-QO5H.wav"
          ],
          [
           "./dk_data/synth_noise/1576-4-H9N4.wav"
          ],
          [
           "./dk_data/synth_noise/1325-8-RXP3.wav"
          ],
          [
           "./dk_data/synth_noise/FM31-2851-8.wav"
          ],
          [
           "./dk_data/synth_noise/1622-1-DV40.wav"
          ],
          [
           "./dk_data/synth_noise/N4U8-1160-1.wav"
          ],
          [
           "./dk_data/synth_noise/KI6I-553-4.wav"
          ],
          [
           "./dk_data/synth_noise/H35P-2169-8.wav"
          ],
          [
           "./dk_data/synth_noise/UE1X-1355-4.wav"
          ],
          [
           "./dk_data/synth_noise/1177-4-JHIK.wav"
          ],
          [
           "./dk_data/synth_noise/LL4V-2191-1.wav"
          ],
          [
           "./dk_data/synth_noise/919-4-WCA6.wav"
          ],
          [
           "./dk_data/synth_noise/07D7-109-4.wav"
          ],
          [
           "./dk_data/synth_noise/1914-4-76H6.wav"
          ],
          [
           "./dk_data/synth_noise/R58P-2953-4.wav"
          ],
          [
           "./dk_data/synth_noise/1W59-1102-8.wav"
          ],
          [
           "./dk_data/synth_noise/0B2V-1950-1.wav"
          ],
          [
           "./dk_data/synth_noise/1716-1-AYT1.wav"
          ],
          [
           "./dk_data/synth_noise/IKK5-2456-4.wav"
          ],
          [
           "./dk_data/synth_noise/M3J2-2887-4.wav"
          ],
          [
           "./dk_data/synth_noise/2S8C-1073-8.wav"
          ],
          [
           "./dk_data/synth_noise/ORET-1265-1.wav"
          ],
          [
           "./dk_data/synth_noise/DX33-1986-8.wav"
          ],
          [
           "./dk_data/synth_noise/VCVU-3499-4.wav"
          ],
          [
           "./dk_data/synth_noise/Q5XZ-3042-8.wav"
          ],
          [
           "./dk_data/synth_noise/1GJU-3315-1.wav"
          ],
          [
           "./dk_data/synth_noise/1915-1-00L4.wav"
          ],
          [
           "./dk_data/synth_noise/W3PL-3313-1.wav"
          ],
          [
           "./dk_data/synth_noise/VQ6V-1944-8.wav"
          ],
          [
           "./dk_data/synth_noise/SJKE-933-8.wav"
          ],
          [
           "./dk_data/synth_noise/1608-8-TLFU.wav"
          ],
          [
           "./dk_data/synth_noise/U2TF-3742-4.wav"
          ],
          [
           "./dk_data/synth_noise/ZI0M-2465-8.wav"
          ],
          [
           "./dk_data/synth_noise/O947-804-1.wav"
          ],
          [
           "./dk_data/synth_noise/875-8-BUGG.wav"
          ],
          [
           "./dk_data/synth_noise/1449-4-YDNS.wav"
          ],
          [
           "./dk_data/synth_noise/19-1-E31E.wav"
          ],
          [
           "./dk_data/synth_noise/FQQK-3631-4.wav"
          ],
          [
           "./dk_data/synth_noise/B234-119-4.wav"
          ],
          [
           "./dk_data/synth_noise/594-8-607J.wav"
          ],
          [
           "./dk_data/synth_noise/WUOK-2770-1.wav"
          ],
          [
           "./dk_data/synth_noise/90PT-755-8.wav"
          ],
          [
           "./dk_data/synth_noise/X6NM-1762-1.wav"
          ],
          [
           "./dk_data/synth_noise/S4EL-882-8.wav"
          ],
          [
           "./dk_data/synth_noise/PE8S-2519-4.wav"
          ],
          [
           "./dk_data/synth_noise/Y9B0-3918-1.wav"
          ],
          [
           "./dk_data/synth_noise/Z876-1833-8.wav"
          ],
          [
           "./dk_data/synth_noise/NS1W-3587-1.wav"
          ],
          [
           "./dk_data/synth_noise/W8RD-598-8.wav"
          ],
          [
           "./dk_data/synth_noise/1624-8-U3S1.wav"
          ],
          [
           "./dk_data/synth_noise/M3I3-1996-4.wav"
          ],
          [
           "./dk_data/synth_noise/1198-1-WRPR.wav"
          ],
          [
           "./dk_data/synth_noise/H3PR-3394-1.wav"
          ],
          [
           "./dk_data/synth_noise/GHWG-1335-4.wav"
          ],
          [
           "./dk_data/synth_noise/1343-8-LG3X.wav"
          ],
          [
           "./dk_data/synth_noise/2XEN-2996-8.wav"
          ],
          [
           "./dk_data/synth_noise/1515-4-MFK6.wav"
          ],
          [
           "./dk_data/synth_noise/A2FU-1802-1.wav"
          ],
          [
           "./dk_data/synth_noise/0SRJ-1928-8.wav"
          ],
          [
           "./dk_data/synth_noise/QIYL-1844-4.wav"
          ],
          [
           "./dk_data/synth_noise/1189-4-MAP0.wav"
          ],
          [
           "./dk_data/synth_noise/ATGO-316-1.wav"
          ],
          [
           "./dk_data/synth_noise/797-4-NCOL.wav"
          ],
          [
           "./dk_data/synth_noise/181-8-KXBF.wav"
          ],
          [
           "./dk_data/synth_noise/586K-2254-8.wav"
          ],
          [
           "./dk_data/synth_noise/VHLO-1671-1.wav"
          ],
          [
           "./dk_data/synth_noise/GFET-2066-4.wav"
          ],
          [
           "./dk_data/synth_noise/9CH3-2766-8.wav"
          ],
          [
           "./dk_data/synth_noise/1717-1-JOSH.wav"
          ],
          [
           "./dk_data/synth_noise/241-1-G254.wav"
          ],
          [
           "./dk_data/synth_noise/SQV8-828-4.wav"
          ],
          [
           "./dk_data/synth_noise/KI3Z-1699-8.wav"
          ],
          [
           "./dk_data/synth_noise/1093-4-DGD5.wav"
          ],
          [
           "./dk_data/synth_noise/CLT4-2670-4.wav"
          ],
          [
           "./dk_data/synth_noise/LMIV-2462-1.wav"
          ],
          [
           "./dk_data/synth_noise/295-8-2IPC.wav"
          ],
          [
           "./dk_data/synth_noise/JAY6-77-4.wav"
          ],
          [
           "./dk_data/synth_noise/R0CT-2700-4.wav"
          ],
          [
           "./dk_data/synth_noise/P9IN-3280-4.wav"
          ],
          [
           "./dk_data/synth_noise/4BP0-3553-1.wav"
          ],
          [
           "./dk_data/synth_noise/UV3G-2707-8.wav"
          ],
          [
           "./dk_data/synth_noise/TWTF-3359-4.wav"
          ],
          [
           "./dk_data/synth_noise/482-1-XDGB.wav"
          ],
          [
           "./dk_data/synth_noise/Z72F-735-8.wav"
          ],
          [
           "./dk_data/synth_noise/93ND-1915-4.wav"
          ],
          [
           "./dk_data/synth_noise/9NHO-1193-8.wav"
          ],
          [
           "./dk_data/synth_noise/H24N-2307-8.wav"
          ],
          [
           "./dk_data/synth_noise/61Q3-513-8.wav"
          ],
          [
           "./dk_data/synth_noise/FZWN-856-8.wav"
          ],
          [
           "./dk_data/synth_noise/1806-8-FPEP.wav"
          ],
          [
           "./dk_data/synth_noise/1044-1-A7NS.wav"
          ],
          [
           "./dk_data/synth_noise/W8HE-3647-1.wav"
          ],
          [
           "./dk_data/synth_noise/1440-8-9BMK.wav"
          ],
          [
           "./dk_data/synth_noise/688-8-AI5R.wav"
          ],
          [
           "./dk_data/synth_noise/KYYN-1739-8.wav"
          ],
          [
           "./dk_data/synth_noise/445-4-GVSW.wav"
          ],
          [
           "./dk_data/synth_noise/XIF1-3749-8.wav"
          ],
          [
           "./dk_data/synth_noise/Y429-3960-4.wav"
          ],
          [
           "./dk_data/synth_noise/1769-1-PWPT.wav"
          ],
          [
           "./dk_data/synth_noise/LAEX-2841-4.wav"
          ],
          [
           "./dk_data/synth_noise/822C-1474-4.wav"
          ],
          [
           "./dk_data/synth_noise/SUTF-3916-4.wav"
          ],
          [
           "./dk_data/synth_noise/1279-8-BZDJ.wav"
          ],
          [
           "./dk_data/synth_noise/BYTG-1757-8.wav"
          ],
          [
           "./dk_data/synth_noise/22XE-2139-4.wav"
          ],
          [
           "./dk_data/synth_noise/DW9W-2415-4.wav"
          ],
          [
           "./dk_data/synth_noise/KTMP-2140-4.wav"
          ],
          [
           "./dk_data/synth_noise/992-1-A7VN.wav"
          ],
          [
           "./dk_data/synth_noise/1898-1-U846.wav"
          ],
          [
           "./dk_data/synth_noise/093W-1843-4.wav"
          ],
          [
           "./dk_data/synth_noise/1TK1-3580-4.wav"
          ],
          [
           "./dk_data/synth_noise/AFIQ-3017-4.wav"
          ],
          [
           "./dk_data/synth_noise/1JT4-824-4.wav"
          ],
          [
           "./dk_data/synth_noise/BPIB-1738-8.wav"
          ],
          [
           "./dk_data/synth_noise/IZXM-3133-4.wav"
          ],
          [
           "./dk_data/synth_noise/P0UE-2418-4.wav"
          ],
          [
           "./dk_data/synth_noise/1731-4-ANDS.wav"
          ],
          [
           "./dk_data/synth_noise/5U31-27-8.wav"
          ],
          [
           "./dk_data/synth_noise/629-8-E98O.wav"
          ],
          [
           "./dk_data/synth_noise/1383-4-0IX4.wav"
          ],
          [
           "./dk_data/synth_noise/SC4P-333-8.wav"
          ],
          [
           "./dk_data/synth_noise/OVY1-1983-4.wav"
          ],
          [
           "./dk_data/synth_noise/BNGY-400-8.wav"
          ],
          [
           "./dk_data/synth_noise/JK32-3748-8.wav"
          ],
          [
           "./dk_data/synth_noise/3H53-1378-8.wav"
          ],
          [
           "./dk_data/synth_noise/1016-4-JEB7.wav"
          ],
          [
           "./dk_data/synth_noise/SKDQ-1561-1.wav"
          ],
          [
           "./dk_data/synth_noise/203-1-CM58.wav"
          ],
          [
           "./dk_data/synth_noise/874-4-QOCO.wav"
          ],
          [
           "./dk_data/synth_noise/M1UL-1769-1.wav"
          ],
          [
           "./dk_data/synth_noise/D2H2-2224-1.wav"
          ],
          [
           "./dk_data/synth_noise/0F9C-2798-8.wav"
          ],
          [
           "./dk_data/synth_noise/112-4-QS9X.wav"
          ],
          [
           "./dk_data/synth_noise/Z15H-1924-8.wav"
          ],
          [
           "./dk_data/synth_noise/4UHU-178-1.wav"
          ],
          [
           "./dk_data/synth_noise/262-1-3DCK.wav"
          ],
          [
           "./dk_data/synth_noise/1089-8-LNSY.wav"
          ],
          [
           "./dk_data/synth_noise/SDZJ-1433-4.wav"
          ],
          [
           "./dk_data/synth_noise/1273-1-WVG4.wav"
          ],
          [
           "./dk_data/synth_noise/602-8-07DL.wav"
          ],
          [
           "./dk_data/synth_noise/ZDL8-404-1.wav"
          ],
          [
           "./dk_data/synth_noise/IQFQ-3459-4.wav"
          ],
          [
           "./dk_data/synth_noise/609-4-VXFB.wav"
          ],
          [
           "./dk_data/synth_noise/1497-1-FTEW.wav"
          ],
          [
           "./dk_data/synth_noise/X5UA-754-8.wav"
          ],
          [
           "./dk_data/synth_noise/8N9A-195-1.wav"
          ],
          [
           "./dk_data/synth_noise/3YPE-3529-1.wav"
          ],
          [
           "./dk_data/synth_noise/1847-1-ZVDM.wav"
          ],
          [
           "./dk_data/synth_noise/9GGK-644-1.wav"
          ],
          [
           "./dk_data/synth_noise/714-4-35YS.wav"
          ],
          [
           "./dk_data/synth_noise/8QSU-188-8.wav"
          ],
          [
           "./dk_data/synth_noise/FGD9-1405-4.wav"
          ],
          [
           "./dk_data/synth_noise/1814-8-O5OO.wav"
          ],
          [
           "./dk_data/synth_noise/1326-4-YUKC.wav"
          ],
          [
           "./dk_data/synth_noise/D5YS-721-8.wav"
          ],
          [
           "./dk_data/synth_noise/98B2-139-8.wav"
          ],
          [
           "./dk_data/synth_noise/NGSZ-424-1.wav"
          ],
          [
           "./dk_data/synth_noise/147-8-3NX6.wav"
          ],
          [
           "./dk_data/synth_noise/F583-1723-4.wav"
          ],
          [
           "./dk_data/synth_noise/1736-8-EI1K.wav"
          ],
          [
           "./dk_data/synth_noise/E13F-136-8.wav"
          ],
          [
           "./dk_data/synth_noise/793-1-NI7S.wav"
          ],
          [
           "./dk_data/synth_noise/J18L-635-8.wav"
          ],
          [
           "./dk_data/synth_noise/AGSP-3789-1.wav"
          ],
          [
           "./dk_data/synth_noise/X1HD-1536-1.wav"
          ],
          [
           "./dk_data/synth_noise/1240-8-WFQR.wav"
          ],
          [
           "./dk_data/synth_noise/ZLAN-3191-8.wav"
          ],
          [
           "./dk_data/synth_noise/0O2Q-729-4.wav"
          ],
          [
           "./dk_data/synth_noise/T5GI-3677-4.wav"
          ],
          [
           "./dk_data/synth_noise/9FQD-3151-1.wav"
          ],
          [
           "./dk_data/synth_noise/M29I-1956-8.wav"
          ],
          [
           "./dk_data/synth_noise/AL88-3750-4.wav"
          ],
          [
           "./dk_data/synth_noise/1883-4-STGX.wav"
          ],
          [
           "./dk_data/synth_noise/220-8-4PGS.wav"
          ],
          [
           "./dk_data/synth_noise/NRQ7-2404-4.wav"
          ],
          [
           "./dk_data/synth_noise/RVC7-2657-8.wav"
          ],
          [
           "./dk_data/synth_noise/293A-3342-8.wav"
          ],
          [
           "./dk_data/synth_noise/677-4-T3NZ.wav"
          ],
          [
           "./dk_data/synth_noise/W64G-1107-8.wav"
          ],
          [
           "./dk_data/synth_noise/JE7W-3857-1.wav"
          ],
          [
           "./dk_data/synth_noise/WF4V-125-4.wav"
          ],
          [
           "./dk_data/synth_noise/U87S-861-1.wav"
          ],
          [
           "./dk_data/synth_noise/AO3W-1121-1.wav"
          ],
          [
           "./dk_data/synth_noise/F4UP-2794-8.wav"
          ],
          [
           "./dk_data/synth_noise/LJG6-2669-4.wav"
          ],
          [
           "./dk_data/synth_noise/55PH-2054-1.wav"
          ],
          [
           "./dk_data/synth_noise/OGFQ-2575-4.wav"
          ],
          [
           "./dk_data/synth_noise/13-4-VGZL.wav"
          ],
          [
           "./dk_data/synth_noise/GKHD-2186-8.wav"
          ],
          [
           "./dk_data/synth_noise/HOCF-3369-4.wav"
          ],
          [
           "./dk_data/synth_noise/T85N-2165-8.wav"
          ],
          [
           "./dk_data/synth_noise/360-1-4AG3.wav"
          ],
          [
           "./dk_data/synth_noise/5V9E-73-4.wav"
          ],
          [
           "./dk_data/synth_noise/9MJT-2696-1.wav"
          ],
          [
           "./dk_data/synth_noise/CFMS-3335-4.wav"
          ],
          [
           "./dk_data/synth_noise/UFSP-850-1.wav"
          ],
          [
           "./dk_data/synth_noise/JA5O-2673-1.wav"
          ],
          [
           "./dk_data/synth_noise/41-1-7R5M.wav"
          ],
          [
           "./dk_data/synth_noise/1351-1-WNWJ.wav"
          ],
          [
           "./dk_data/synth_noise/945-1-KWCU.wav"
          ],
          [
           "./dk_data/synth_noise/0IOJ-3099-4.wav"
          ],
          [
           "./dk_data/synth_noise/HAPS-1721-1.wav"
          ],
          [
           "./dk_data/synth_noise/818-4-UJ90.wav"
          ],
          [
           "./dk_data/synth_noise/52MQ-2804-1.wav"
          ],
          [
           "./dk_data/synth_noise/R6HB-2735-4.wav"
          ],
          [
           "./dk_data/synth_noise/R1VQ-1750-4.wav"
          ],
          [
           "./dk_data/synth_noise/2JVC-89-1.wav"
          ],
          [
           "./dk_data/synth_noise/L8NE-593-1.wav"
          ],
          [
           "./dk_data/synth_noise/1DEN-2318-1.wav"
          ],
          [
           "./dk_data/synth_noise/TM5V-682-4.wav"
          ],
          [
           "./dk_data/synth_noise/YIZR-1127-4.wav"
          ],
          [
           "./dk_data/synth_noise/Q1LX-929-8.wav"
          ],
          [
           "./dk_data/synth_noise/T7AN-1252-1.wav"
          ],
          [
           "./dk_data/synth_noise/ZK6L-2337-8.wav"
          ],
          [
           "./dk_data/synth_noise/4VRG-434-8.wav"
          ],
          [
           "./dk_data/synth_noise/GI2Q-1524-8.wav"
          ],
          [
           "./dk_data/synth_noise/DCY5-847-1.wav"
          ],
          [
           "./dk_data/synth_noise/4LPZ-2481-4.wav"
          ],
          [
           "./dk_data/synth_noise/A34U-3015-4.wav"
          ],
          [
           "./dk_data/synth_noise/7OUR-2249-4.wav"
          ],
          [
           "./dk_data/synth_noise/276-4-ZMT1.wav"
          ],
          [
           "./dk_data/synth_noise/285-8-WGGO.wav"
          ],
          [
           "./dk_data/synth_noise/KM9Y-3625-8.wav"
          ],
          [
           "./dk_data/synth_noise/DH0P-2081-4.wav"
          ],
          [
           "./dk_data/synth_noise/X7DC-2865-4.wav"
          ],
          [
           "./dk_data/synth_noise/275Z-3819-8.wav"
          ],
          [
           "./dk_data/synth_noise/UWOL-2982-4.wav"
          ],
          [
           "./dk_data/synth_noise/921-4-CRJ6.wav"
          ],
          [
           "./dk_data/synth_noise/CFWD-2688-8.wav"
          ],
          [
           "./dk_data/synth_noise/0VRZ-1374-1.wav"
          ],
          [
           "./dk_data/synth_noise/5J7D-3000-4.wav"
          ],
          [
           "./dk_data/synth_noise/1498-1-K84D.wav"
          ],
          [
           "./dk_data/synth_noise/Y799-1320-8.wav"
          ],
          [
           "./dk_data/synth_noise/249-1-9G9E.wav"
          ],
          [
           "./dk_data/synth_noise/1838-8-UI5K.wav"
          ],
          [
           "./dk_data/synth_noise/1156-8-E89V.wav"
          ],
          [
           "./dk_data/synth_noise/XY9K-1504-8.wav"
          ],
          [
           "./dk_data/synth_noise/T4UP-1370-1.wav"
          ],
          [
           "./dk_data/synth_noise/374H-2993-1.wav"
          ],
          [
           "./dk_data/synth_noise/GVR7-49-4.wav"
          ],
          [
           "./dk_data/synth_noise/PUEJ-81-1.wav"
          ],
          [
           "./dk_data/synth_noise/7P05-2892-4.wav"
          ],
          [
           "./dk_data/synth_noise/44R5-1768-4.wav"
          ],
          [
           "./dk_data/synth_noise/1227-1-PFN6.wav"
          ],
          [
           "./dk_data/synth_noise/IX1F-1910-1.wav"
          ],
          [
           "./dk_data/synth_noise/2V5I-3288-8.wav"
          ],
          [
           "./dk_data/synth_noise/5WT4-1590-8.wav"
          ],
          [
           "./dk_data/synth_noise/766-8-00UL.wav"
          ],
          [
           "./dk_data/synth_noise/WTWW-2946-1.wav"
          ],
          [
           "./dk_data/synth_noise/1JRU-2426-8.wav"
          ],
          [
           "./dk_data/synth_noise/CPM8-808-4.wav"
          ],
          [
           "./dk_data/synth_noise/1369-1-HVKI.wav"
          ],
          [
           "./dk_data/synth_noise/NRP6-1977-4.wav"
          ],
          [
           "./dk_data/synth_noise/1060-8-AFZW.wav"
          ],
          [
           "./dk_data/synth_noise/NQW9-3310-4.wav"
          ],
          [
           "./dk_data/synth_noise/341-4-MXQW.wav"
          ],
          [
           "./dk_data/synth_noise/RO0G-2134-4.wav"
          ],
          [
           "./dk_data/synth_noise/739-8-V6HE.wav"
          ],
          [
           "./dk_data/synth_noise/PNGZ-473-1.wav"
          ],
          [
           "./dk_data/synth_noise/1284-8-2C0H.wav"
          ],
          [
           "./dk_data/synth_noise/0NXW-440-1.wav"
          ],
          [
           "./dk_data/synth_noise/1858-8-8XD6.wav"
          ],
          [
           "./dk_data/synth_noise/MK54-2250-1.wav"
          ],
          [
           "./dk_data/synth_noise/KFW3-3898-8.wav"
          ],
          [
           "./dk_data/synth_noise/LR6C-3666-4.wav"
          ],
          [
           "./dk_data/synth_noise/IUAR-627-1.wav"
          ],
          [
           "./dk_data/synth_noise/43TO-1435-4.wav"
          ],
          [
           "./dk_data/synth_noise/5W60-1793-1.wav"
          ],
          [
           "./dk_data/synth_noise/5-1-U9WL.wav"
          ],
          [
           "./dk_data/synth_noise/1192-8-JN8R.wav"
          ],
          [
           "./dk_data/synth_noise/KLE6-1530-8.wav"
          ],
          [
           "./dk_data/synth_noise/1660-8-EO81.wav"
          ],
          [
           "./dk_data/synth_noise/YC64-3649-1.wav"
          ],
          [
           "./dk_data/synth_noise/TSN1-2536-4.wav"
          ],
          [
           "./dk_data/synth_noise/LC5N-352-4.wav"
          ],
          [
           "./dk_data/synth_noise/F34E-3427-1.wav"
          ],
          [
           "./dk_data/synth_noise/EA1D-1050-1.wav"
          ],
          [
           "./dk_data/synth_noise/44CP-1148-4.wav"
          ],
          [
           "./dk_data/synth_noise/1705-8-I1TD.wav"
          ],
          [
           "./dk_data/synth_noise/FXRA-1646-8.wav"
          ],
          [
           "./dk_data/synth_noise/8ZLM-2261-1.wav"
          ],
          [
           "./dk_data/synth_noise/Y9BI-433-4.wav"
          ],
          [
           "./dk_data/synth_noise/BQVG-3652-4.wav"
          ],
          [
           "./dk_data/synth_noise/RW6I-2009-8.wav"
          ],
          [
           "./dk_data/synth_noise/1291-8-FV3X.wav"
          ],
          [
           "./dk_data/synth_noise/996F-2681-8.wav"
          ],
          [
           "./dk_data/synth_noise/R1L9-1984-4.wav"
          ],
          [
           "./dk_data/synth_noise/QTBH-1923-1.wav"
          ],
          [
           "./dk_data/synth_noise/YYO3-953-1.wav"
          ],
          [
           "./dk_data/synth_noise/4DG0-3414-4.wav"
          ],
          [
           "./dk_data/synth_noise/GS3N-3077-1.wav"
          ],
          [
           "./dk_data/synth_noise/O560-1547-4.wav"
          ],
          [
           "./dk_data/synth_noise/518-8-VYRV.wav"
          ],
          [
           "./dk_data/synth_noise/GYSU-3846-1.wav"
          ],
          [
           "./dk_data/synth_noise/M8DY-2810-4.wav"
          ],
          [
           "./dk_data/synth_noise/OF0C-3506-1.wav"
          ],
          [
           "./dk_data/synth_noise/1788-8-PCZC.wav"
          ],
          [
           "./dk_data/synth_noise/60EN-3732-1.wav"
          ],
          [
           "./dk_data/synth_noise/LG6R-1629-8.wav"
          ],
          [
           "./dk_data/synth_noise/EZAL-994-8.wav"
          ],
          [
           "./dk_data/synth_noise/DGB8-421-4.wav"
          ],
          [
           "./dk_data/synth_noise/YA75-1060-8.wav"
          ],
          [
           "./dk_data/synth_noise/1546-4-OEC3.wav"
          ],
          [
           "./dk_data/synth_noise/1387-4-RCQP.wav"
          ],
          [
           "./dk_data/synth_noise/R3SG-152-4.wav"
          ],
          [
           "./dk_data/synth_noise/QVDD-1055-4.wav"
          ],
          [
           "./dk_data/synth_noise/UOLK-1392-8.wav"
          ],
          [
           "./dk_data/synth_noise/C3QD-1092-1.wav"
          ],
          [
           "./dk_data/synth_noise/TXG1-0-1.wav"
          ],
          [
           "./dk_data/synth_noise/0I2S-3337-4.wav"
          ],
          [
           "./dk_data/synth_noise/PX0D-1880-4.wav"
          ],
          [
           "./dk_data/synth_noise/121-1-VLGR.wav"
          ],
          [
           "./dk_data/synth_noise/J2E3-199-8.wav"
          ],
          [
           "./dk_data/synth_noise/450-8-TMNG.wav"
          ],
          [
           "./dk_data/synth_noise/1964-4-8J2G.wav"
          ],
          [
           "./dk_data/synth_noise/C33J-3966-1.wav"
          ],
          [
           "./dk_data/synth_noise/334-8-2FPS.wav"
          ],
          [
           "./dk_data/synth_noise/CCM6-640-4.wav"
          ],
          [
           "./dk_data/synth_noise/QKA9-3101-8.wav"
          ],
          [
           "./dk_data/synth_noise/473-8-CA68.wav"
          ],
          [
           "./dk_data/synth_noise/JVEQ-3771-8.wav"
          ],
          [
           "./dk_data/synth_noise/I2JT-1163-1.wav"
          ],
          [
           "./dk_data/synth_noise/J213-2524-1.wav"
          ],
          [
           "./dk_data/synth_noise/M0LW-488-1.wav"
          ],
          [
           "./dk_data/synth_noise/1238-4-E3PR.wav"
          ],
          [
           "./dk_data/synth_noise/RYW5-1818-4.wav"
          ],
          [
           "./dk_data/synth_noise/PQYA-964-8.wav"
          ],
          [
           "./dk_data/synth_noise/1929-4-FUQP.wav"
          ],
          [
           "./dk_data/synth_noise/266-4-FYLR.wav"
          ],
          [
           "./dk_data/synth_noise/MPLX-3952-4.wav"
          ],
          [
           "./dk_data/synth_noise/BJ4R-1071-4.wav"
          ],
          [
           "./dk_data/synth_noise/884-1-BHWR.wav"
          ],
          [
           "./dk_data/synth_noise/XM3N-2542-4.wav"
          ],
          [
           "./dk_data/synth_noise/9H0P-2333-8.wav"
          ],
          [
           "./dk_data/synth_noise/143-8-67WA.wav"
          ],
          [
           "./dk_data/synth_noise/759-8-LX2B.wav"
          ],
          [
           "./dk_data/synth_noise/9NVN-330-1.wav"
          ],
          [
           "./dk_data/synth_noise/R7F5-583-8.wav"
          ],
          [
           "./dk_data/synth_noise/FK9G-3319-8.wav"
          ],
          [
           "./dk_data/synth_noise/1617-8-JZKB.wav"
          ],
          [
           "./dk_data/synth_noise/VJ9U-417-8.wav"
          ],
          [
           "./dk_data/synth_noise/682-1-4CGC.wav"
          ],
          [
           "./dk_data/synth_noise/1501-1-TNTK.wav"
          ],
          [
           "./dk_data/synth_noise/1004-8-QU7G.wav"
          ],
          [
           "./dk_data/synth_noise/1504-1-47N4.wav"
          ],
          [
           "./dk_data/synth_noise/1547-8-ZS1U.wav"
          ],
          [
           "./dk_data/synth_noise/L3ZB-857-8.wav"
          ],
          [
           "./dk_data/synth_noise/DD80-3604-1.wav"
          ],
          [
           "./dk_data/synth_noise/QEZT-717-8.wav"
          ],
          [
           "./dk_data/synth_noise/317-8-DC1O.wav"
          ],
          [
           "./dk_data/synth_noise/4LGE-1290-4.wav"
          ],
          [
           "./dk_data/synth_noise/H9BX-907-1.wav"
          ],
          [
           "./dk_data/synth_noise/ZU6W-1664-4.wav"
          ],
          [
           "./dk_data/synth_noise/MJ0B-1592-4.wav"
          ],
          [
           "./dk_data/synth_noise/1616-1-3FEI.wav"
          ],
          [
           "./dk_data/synth_noise/YFCE-858-1.wav"
          ],
          [
           "./dk_data/synth_noise/56DC-1150-4.wav"
          ],
          [
           "./dk_data/synth_noise/7ZMX-3922-1.wav"
          ],
          [
           "./dk_data/synth_noise/465-4-NIKL.wav"
          ],
          [
           "./dk_data/synth_noise/281-4-M3K8.wav"
          ],
          [
           "./dk_data/synth_noise/Y3US-110-4.wav"
          ],
          [
           "./dk_data/synth_noise/635-8-OXB1.wav"
          ],
          [
           "./dk_data/synth_noise/Q39U-3338-4.wav"
          ],
          [
           "./dk_data/synth_noise/318-4-BQQ3.wav"
          ],
          [
           "./dk_data/synth_noise/0RG9-2380-4.wav"
          ],
          [
           "./dk_data/synth_noise/736-1-Z30W.wav"
          ],
          [
           "./dk_data/synth_noise/1511-1312-1.wav"
          ],
          [
           "./dk_data/synth_noise/Q6NR-3795-4.wav"
          ],
          [
           "./dk_data/synth_noise/Z1BI-2074-4.wav"
          ],
          [
           "./dk_data/synth_noise/4SRU-2111-4.wav"
          ],
          [
           "./dk_data/synth_noise/WF9Z-98-4.wav"
          ],
          [
           "./dk_data/synth_noise/CWP8-2119-1.wav"
          ],
          [
           "./dk_data/synth_noise/8K1A-2956-8.wav"
          ],
          [
           "./dk_data/synth_noise/405-8-U7BB.wav"
          ],
          [
           "./dk_data/synth_noise/1NLN-3227-1.wav"
          ],
          [
           "./dk_data/synth_noise/1438-4-2VBO.wav"
          ],
          [
           "./dk_data/synth_noise/RDLO-972-8.wav"
          ],
          [
           "./dk_data/synth_noise/328-1-ZZXC.wav"
          ],
          [
           "./dk_data/synth_noise/E2K6-1511-1.wav"
          ],
          [
           "./dk_data/synth_noise/373-8-N2HD.wav"
          ],
          [
           "./dk_data/synth_noise/I36P-505-8.wav"
          ],
          [
           "./dk_data/synth_noise/K49M-1051-8.wav"
          ],
          [
           "./dk_data/synth_noise/1222-4-2189.wav"
          ],
          [
           "./dk_data/synth_noise/738-4-Y0U2.wav"
          ],
          [
           "./dk_data/synth_noise/D8GT-774-4.wav"
          ],
          [
           "./dk_data/synth_noise/626-1-XRWQ.wav"
          ],
          [
           "./dk_data/synth_noise/10-8-WHOC.wav"
          ],
          [
           "./dk_data/synth_noise/CUWD-1091-8.wav"
          ],
          [
           "./dk_data/synth_noise/3T0S-758-1.wav"
          ],
          [
           "./dk_data/synth_noise/DAHH-2612-1.wav"
          ],
          [
           "./dk_data/synth_noise/DJLR-2296-8.wav"
          ],
          [
           "./dk_data/synth_noise/229-8-ZV0O.wav"
          ],
          [
           "./dk_data/synth_noise/VLWR-3355-1.wav"
          ],
          [
           "./dk_data/synth_noise/BDS0-2416-4.wav"
          ],
          [
           "./dk_data/synth_noise/NMB0-1258-4.wav"
          ],
          [
           "./dk_data/synth_noise/H2QR-3847-8.wav"
          ],
          [
           "./dk_data/synth_noise/6N63-28-4.wav"
          ],
          [
           "./dk_data/synth_noise/XILK-1497-4.wav"
          ],
          [
           "./dk_data/synth_noise/NQFA-3849-4.wav"
          ],
          [
           "./dk_data/synth_noise/1088-4-HFF1.wav"
          ],
          [
           "./dk_data/synth_noise/PZY6-567-4.wav"
          ],
          [
           "./dk_data/synth_noise/442-1-MOFA.wav"
          ],
          [
           "./dk_data/synth_noise/17-8-G4N8.wav"
          ],
          [
           "./dk_data/synth_noise/723-4-5XAT.wav"
          ],
          [
           "./dk_data/synth_noise/UYA5-1697-4.wav"
          ],
          [
           "./dk_data/synth_noise/Z39P-1813-1.wav"
          ],
          [
           "./dk_data/synth_noise/953-4-DSHQ.wav"
          ],
          [
           "./dk_data/synth_noise/1701-1-V87B.wav"
          ],
          [
           "./dk_data/synth_noise/0-1-YUFU.wav"
          ],
          [
           "./dk_data/synth_noise/DUER-3423-4.wav"
          ],
          [
           "./dk_data/synth_noise/1217-1-TEEV.wav"
          ],
          [
           "./dk_data/synth_noise/ZW9U-2522-4.wav"
          ],
          [
           "./dk_data/synth_noise/RYU6-2719-8.wav"
          ],
          [
           "./dk_data/synth_noise/GTI6-1228-4.wav"
          ],
          [
           "./dk_data/synth_noise/571-1-NO45.wav"
          ],
          [
           "./dk_data/synth_noise/LQSL-1307-8.wav"
          ],
          [
           "./dk_data/synth_noise/HXFR-3304-4.wav"
          ],
          [
           "./dk_data/synth_noise/IYI6-2835-1.wav"
          ],
          [
           "./dk_data/synth_noise/407-4-AZN2.wav"
          ],
          [
           "./dk_data/synth_noise/1NK2-3568-1.wav"
          ],
          [
           "./dk_data/synth_noise/J6YM-1776-8.wav"
          ],
          [
           "./dk_data/synth_noise/US71-336-8.wav"
          ],
          [
           "./dk_data/synth_noise/6DJL-2050-4.wav"
          ],
          [
           "./dk_data/synth_noise/I7BJ-969-8.wav"
          ],
          [
           "./dk_data/synth_noise/BGG5-3598-8.wav"
          ],
          [
           "./dk_data/synth_noise/I1E4-133-4.wav"
          ],
          [
           "./dk_data/synth_noise/1104-8-DFRZ.wav"
          ],
          [
           "./dk_data/synth_noise/ZICQ-1389-8.wav"
          ],
          [
           "./dk_data/synth_noise/KRLC-2040-1.wav"
          ],
          [
           "./dk_data/synth_noise/TNUN-1741-8.wav"
          ],
          [
           "./dk_data/synth_noise/3NN0-1815-8.wav"
          ],
          [
           "./dk_data/synth_noise/LUDO-1007-8.wav"
          ],
          [
           "./dk_data/synth_noise/PW43-3080-4.wav"
          ],
          [
           "./dk_data/synth_noise/TFD0-790-1.wav"
          ],
          [
           "./dk_data/synth_noise/291-1-YBDA.wav"
          ],
          [
           "./dk_data/synth_noise/TFOJ-3177-4.wav"
          ],
          [
           "./dk_data/synth_noise/604-4-55DN.wav"
          ],
          [
           "./dk_data/synth_noise/9QIL-998-4.wav"
          ],
          [
           "./dk_data/synth_noise/1565-4-FHFP.wav"
          ],
          [
           "./dk_data/synth_noise/1204-4-GZA0.wav"
          ],
          [
           "./dk_data/synth_noise/SBN6-2299-8.wav"
          ],
          [
           "./dk_data/synth_noise/I5IN-351-8.wav"
          ],
          [
           "./dk_data/synth_noise/CCW3-2359-8.wav"
          ],
          [
           "./dk_data/synth_noise/204-1-FEYZ.wav"
          ],
          [
           "./dk_data/synth_noise/X9TF-777-8.wav"
          ],
          [
           "./dk_data/synth_noise/ALSN-2855-4.wav"
          ],
          [
           "./dk_data/synth_noise/EMSD-633-1.wav"
          ],
          [
           "./dk_data/synth_noise/W5D0-37-8.wav"
          ],
          [
           "./dk_data/synth_noise/1100-8-7IJI.wav"
          ],
          [
           "./dk_data/synth_noise/PZEP-273-1.wav"
          ],
          [
           "./dk_data/synth_noise/YM7R-626-1.wav"
          ],
          [
           "./dk_data/synth_noise/58-1-314D.wav"
          ],
          [
           "./dk_data/synth_noise/1147-4-WSM2.wav"
          ],
          [
           "./dk_data/synth_noise/W3CY-1144-8.wav"
          ],
          [
           "./dk_data/synth_noise/639-4-SD5X.wav"
          ],
          [
           "./dk_data/synth_noise/1502-4-3PDJ.wav"
          ],
          [
           "./dk_data/synth_noise/1N9B-2470-4.wav"
          ],
          [
           "./dk_data/synth_noise/TJ8J-1321-8.wav"
          ],
          [
           "./dk_data/synth_noise/YPV4-2788-1.wav"
          ],
          [
           "./dk_data/synth_noise/2AR1-992-1.wav"
          ],
          [
           "./dk_data/synth_noise/3POE-521-4.wav"
          ],
          [
           "./dk_data/synth_noise/1256-1-G6M1.wav"
          ],
          [
           "./dk_data/synth_noise/G3F2-1801-8.wav"
          ],
          [
           "./dk_data/synth_noise/524-4-AIAA.wav"
          ],
          [
           "./dk_data/synth_noise/FASX-1237-1.wav"
          ],
          [
           "./dk_data/synth_noise/YIJS-3379-8.wav"
          ],
          [
           "./dk_data/synth_noise/K2KN-2181-8.wav"
          ],
          [
           "./dk_data/synth_noise/OBYZ-1690-8.wav"
          ],
          [
           "./dk_data/synth_noise/UAL1-903-4.wav"
          ],
          [
           "./dk_data/synth_noise/VEQP-1130-8.wav"
          ],
          [
           "./dk_data/synth_noise/1J5F-446-1.wav"
          ],
          [
           "./dk_data/synth_noise/386-1-2T2R.wav"
          ],
          [
           "./dk_data/synth_noise/MVJ1-2210-8.wav"
          ],
          [
           "./dk_data/synth_noise/200-8-WUHV.wav"
          ],
          [
           "./dk_data/synth_noise/RT6Y-321-1.wav"
          ],
          [
           "./dk_data/synth_noise/6HKA-2584-1.wav"
          ],
          [
           "./dk_data/synth_noise/1152-1-60OV.wav"
          ],
          [
           "./dk_data/synth_noise/V5KT-722-1.wav"
          ],
          [
           "./dk_data/synth_noise/BDAK-2815-8.wav"
          ],
          [
           "./dk_data/synth_noise/3A99-2858-8.wav"
          ],
          [
           "./dk_data/synth_noise/1178-4-19VH.wav"
          ],
          [
           "./dk_data/synth_noise/619-8-R6NY.wav"
          ],
          [
           "./dk_data/synth_noise/XQQC-2409-1.wav"
          ],
          [
           "./dk_data/synth_noise/242-4-GLZF.wav"
          ],
          [
           "./dk_data/synth_noise/5MKR-674-4.wav"
          ],
          [
           "./dk_data/synth_noise/184-1-8Z0I.wav"
          ],
          [
           "./dk_data/synth_noise/1503-8-Y5RK.wav"
          ],
          [
           "./dk_data/synth_noise/1078-8-TNH5.wav"
          ],
          [
           "./dk_data/synth_noise/561-4-WPE7.wav"
          ],
          [
           "./dk_data/synth_noise/1294-1-AWVB.wav"
          ],
          [
           "./dk_data/synth_noise/K87A-383-1.wav"
          ],
          [
           "./dk_data/synth_noise/FQ1P-431-1.wav"
          ],
          [
           "./dk_data/synth_noise/O9SZ-2265-8.wav"
          ],
          [
           "./dk_data/synth_noise/NYUZ-3202-4.wav"
          ],
          [
           "./dk_data/synth_noise/12MQ-1326-1.wav"
          ],
          [
           "./dk_data/synth_noise/188-8-QP4O.wav"
          ],
          [
           "./dk_data/synth_noise/3XZ9-1847-4.wav"
          ],
          [
           "./dk_data/synth_noise/N5KP-309-8.wav"
          ],
          [
           "./dk_data/synth_noise/HIG8-443-4.wav"
          ],
          [
           "./dk_data/synth_noise/1468-8-NU0C.wav"
          ],
          [
           "./dk_data/synth_noise/TFU0-1413-8.wav"
          ],
          [
           "./dk_data/synth_noise/VOE9-3722-4.wav"
          ],
          [
           "./dk_data/synth_noise/33X2-2295-8.wav"
          ],
          [
           "./dk_data/synth_noise/1954-1-UZAT.wav"
          ],
          [
           "./dk_data/synth_noise/DQ0W-2750-1.wav"
          ],
          [
           "./dk_data/synth_noise/MDH6-3747-8.wav"
          ],
          [
           "./dk_data/synth_noise/474-1-SE9K.wav"
          ],
          [
           "./dk_data/synth_noise/349-4-BLZR.wav"
          ],
          [
           "./dk_data/synth_noise/MJPS-1759-8.wav"
          ],
          [
           "./dk_data/synth_noise/MDRY-150-8.wav"
          ],
          [
           "./dk_data/synth_noise/4Y3I-2483-8.wav"
          ],
          [
           "./dk_data/synth_noise/1820-4-D4V9.wav"
          ],
          [
           "./dk_data/synth_noise/SVN8-1851-1.wav"
          ],
          [
           "./dk_data/synth_noise/BW1K-2718-4.wav"
          ],
          [
           "./dk_data/synth_noise/ERS5-3425-1.wav"
          ],
          [
           "./dk_data/synth_noise/QIRQ-2567-4.wav"
          ],
          [
           "./dk_data/synth_noise/78FY-3034-8.wav"
          ],
          [
           "./dk_data/synth_noise/505X-731-8.wav"
          ],
          [
           "./dk_data/synth_noise/3AMB-219-4.wav"
          ],
          [
           "./dk_data/synth_noise/113-8-541Q.wav"
          ],
          [
           "./dk_data/synth_noise/7KER-29-8.wav"
          ],
          [
           "./dk_data/synth_noise/1577-8-Y2VS.wav"
          ],
          [
           "./dk_data/synth_noise/1653-1-2LUB.wav"
          ],
          [
           "./dk_data/synth_noise/715-4-QI4C.wav"
          ],
          [
           "./dk_data/synth_noise/337-4-5VGV.wav"
          ],
          [
           "./dk_data/synth_noise/5QEK-1423-4.wav"
          ],
          [
           "./dk_data/synth_noise/DMX2-639-8.wav"
          ],
          [
           "./dk_data/synth_noise/1246-8-LXP8.wav"
          ],
          [
           "./dk_data/synth_noise/NK9A-3503-8.wav"
          ],
          [
           "./dk_data/synth_noise/858-1-XUBN.wav"
          ],
          [
           "./dk_data/synth_noise/ZUQX-63-4.wav"
          ],
          [
           "./dk_data/synth_noise/1276-8-YKM2.wav"
          ],
          [
           "./dk_data/synth_noise/9736-155-4.wav"
          ],
          [
           "./dk_data/synth_noise/ADWX-3883-1.wav"
          ],
          [
           "./dk_data/synth_noise/96LY-278-8.wav"
          ],
          [
           "./dk_data/synth_noise/29MN-2649-1.wav"
          ],
          [
           "./dk_data/synth_noise/NP75-3659-1.wav"
          ],
          [
           "./dk_data/synth_noise/1MBP-2301-4.wav"
          ],
          [
           "./dk_data/synth_noise/CHRL-3407-8.wav"
          ],
          [
           "./dk_data/synth_noise/IING-1663-8.wav"
          ],
          [
           "./dk_data/synth_noise/ZUX8-874-8.wav"
          ],
          [
           "./dk_data/synth_noise/S7DE-1611-8.wav"
          ],
          [
           "./dk_data/synth_noise/9Y0Q-2130-8.wav"
          ],
          [
           "./dk_data/synth_noise/WIJU-3095-4.wav"
          ],
          [
           "./dk_data/synth_noise/XY9D-249-4.wav"
          ],
          [
           "./dk_data/synth_noise/LT7V-1990-8.wav"
          ],
          [
           "./dk_data/synth_noise/CJ9B-3209-8.wav"
          ],
          [
           "./dk_data/synth_noise/CM5K-2506-8.wav"
          ],
          [
           "./dk_data/synth_noise/2CSB-797-8.wav"
          ],
          [
           "./dk_data/synth_noise/678-8-9CMO.wav"
          ],
          [
           "./dk_data/synth_noise/T7Q3-3318-1.wav"
          ],
          [
           "./dk_data/synth_noise/12M8-3931-1.wav"
          ],
          [
           "./dk_data/synth_noise/126-1-1RXP.wav"
          ],
          [
           "./dk_data/synth_noise/1012-4-UT5Q.wav"
          ],
          [
           "./dk_data/synth_noise/4TPM-3076-4.wav"
          ],
          [
           "./dk_data/synth_noise/3BM7-519-4.wav"
          ],
          [
           "./dk_data/synth_noise/UCE0-3224-1.wav"
          ],
          [
           "./dk_data/synth_noise/SYT5-1383-4.wav"
          ],
          [
           "./dk_data/synth_noise/925-4-4BPE.wav"
          ],
          [
           "./dk_data/synth_noise/166-4-18XH.wav"
          ],
          [
           "./dk_data/synth_noise/Y0YC-869-8.wav"
          ],
          [
           "./dk_data/synth_noise/F03J-3505-1.wav"
          ],
          [
           "./dk_data/synth_noise/1131-4-3ONU.wav"
          ],
          [
           "./dk_data/synth_noise/8KQJ-509-1.wav"
          ],
          [
           "./dk_data/synth_noise/THBI-3624-1.wav"
          ],
          [
           "./dk_data/synth_noise/OC1V-212-1.wav"
          ],
          [
           "./dk_data/synth_noise/733-8-WDDM.wav"
          ],
          [
           "./dk_data/synth_noise/1896-8-EYP3.wav"
          ],
          [
           "./dk_data/synth_noise/774-8-Q0OW.wav"
          ],
          [
           "./dk_data/synth_noise/1618-8-Y637.wav"
          ],
          [
           "./dk_data/synth_noise/CVQT-2029-4.wav"
          ],
          [
           "./dk_data/synth_noise/3ZWA-586-8.wav"
          ],
          [
           "./dk_data/synth_noise/1261-8-U2I5.wav"
          ],
          [
           "./dk_data/synth_noise/910-1-QI07.wav"
          ],
          [
           "./dk_data/synth_noise/OEK8-1837-4.wav"
          ],
          [
           "./dk_data/synth_noise/1752-8-GETD.wav"
          ],
          [
           "./dk_data/synth_noise/28LI-472-1.wav"
          ],
          [
           "./dk_data/synth_noise/AQBK-1814-4.wav"
          ],
          [
           "./dk_data/synth_noise/633-8-NPG3.wav"
          ],
          [
           "./dk_data/synth_noise/845-4-97HS.wav"
          ],
          [
           "./dk_data/synth_noise/K342-3436-4.wav"
          ],
          [
           "./dk_data/synth_noise/429-4-X3I8.wav"
          ],
          [
           "./dk_data/synth_noise/1322-8-5UKE.wav"
          ],
          [
           "./dk_data/synth_noise/54TZ-2876-1.wav"
          ],
          [
           "./dk_data/synth_noise/3QNP-2553-8.wav"
          ],
          [
           "./dk_data/synth_noise/ACIP-3430-1.wav"
          ],
          [
           "./dk_data/synth_noise/4QDU-1943-4.wav"
          ],
          [
           "./dk_data/synth_noise/E870-3058-1.wav"
          ],
          [
           "./dk_data/synth_noise/X72K-2294-8.wav"
          ],
          [
           "./dk_data/synth_noise/2EAJ-3159-1.wav"
          ],
          [
           "./dk_data/synth_noise/Y8VP-3992-1.wav"
          ],
          [
           "./dk_data/synth_noise/1865-1-ZI6T.wav"
          ],
          [
           "./dk_data/synth_noise/7-1-0M8M.wav"
          ],
          [
           "./dk_data/synth_noise/BZ0F-1315-1.wav"
          ],
          [
           "./dk_data/synth_noise/AFFB-430-1.wav"
          ],
          [
           "./dk_data/synth_noise/27-8-GRMB.wav"
          ],
          [
           "./dk_data/synth_noise/JPRD-2164-8.wav"
          ],
          [
           "./dk_data/synth_noise/610-8-IJA8.wav"
          ],
          [
           "./dk_data/synth_noise/3K1D-3485-1.wav"
          ],
          [
           "./dk_data/synth_noise/AKQ3-2541-4.wav"
          ],
          [
           "./dk_data/synth_noise/MMDG-3169-1.wav"
          ],
          [
           "./dk_data/synth_noise/AFVW-978-8.wav"
          ],
          [
           "./dk_data/synth_noise/K8TJ-1226-1.wav"
          ],
          [
           "./dk_data/synth_noise/370-8-4H0J.wav"
          ],
          [
           "./dk_data/synth_noise/05TY-1751-8.wav"
          ],
          [
           "./dk_data/synth_noise/YNE0-862-8.wav"
          ],
          [
           "./dk_data/synth_noise/WQ7D-966-4.wav"
          ],
          [
           "./dk_data/synth_noise/WAZ4-3569-8.wav"
          ],
          [
           "./dk_data/synth_noise/7I1U-1495-8.wav"
          ],
          [
           "./dk_data/synth_noise/OK4V-1862-1.wav"
          ],
          [
           "./dk_data/synth_noise/DC0N-2123-4.wav"
          ],
          [
           "./dk_data/synth_noise/0785-200-1.wav"
          ],
          [
           "./dk_data/synth_noise/627-4-N9NX.wav"
          ],
          [
           "./dk_data/synth_noise/555-1-NGHK.wav"
          ],
          [
           "./dk_data/synth_noise/1949-4-IXDA.wav"
          ],
          [
           "./dk_data/synth_noise/853-1-BCGD.wav"
          ],
          [
           "./dk_data/synth_noise/425-4-3B00.wav"
          ],
          [
           "./dk_data/synth_noise/1CKX-3051-1.wav"
          ],
          [
           "./dk_data/synth_noise/KIR0-3926-8.wav"
          ],
          [
           "./dk_data/synth_noise/1920-4-6I7H.wav"
          ],
          [
           "./dk_data/synth_noise/FRK1-2693-4.wav"
          ],
          [
           "./dk_data/synth_noise/661-4-K440.wav"
          ],
          [
           "./dk_data/synth_noise/E2VS-3073-4.wav"
          ],
          [
           "./dk_data/synth_noise/RCGB-3997-4.wav"
          ],
          [
           "./dk_data/synth_noise/R8TE-3948-1.wav"
          ],
          [
           "./dk_data/synth_noise/826-4-JU90.wav"
          ],
          [
           "./dk_data/synth_noise/CYPG-989-1.wav"
          ],
          [
           "./dk_data/synth_noise/WPJ7-1911-8.wav"
          ],
          [
           "./dk_data/synth_noise/1677-4-4E58.wav"
          ],
          [
           "./dk_data/synth_noise/WKWJ-1988-1.wav"
          ],
          [
           "./dk_data/synth_noise/176-4-CSH8.wav"
          ],
          [
           "./dk_data/synth_noise/80-1-EGK8.wav"
          ],
          [
           "./dk_data/synth_noise/WI6H-3009-1.wav"
          ],
          [
           "./dk_data/synth_noise/CRVL-407-8.wav"
          ],
          [
           "./dk_data/synth_noise/SH7G-33-4.wav"
          ],
          [
           "./dk_data/synth_noise/1857-1-PO5X.wav"
          ],
          [
           "./dk_data/synth_noise/TS52-2150-1.wav"
          ],
          [
           "./dk_data/synth_noise/4H3E-310-1.wav"
          ],
          [
           "./dk_data/synth_noise/MP9B-3032-4.wav"
          ],
          [
           "./dk_data/synth_noise/JF4Y-302-8.wav"
          ],
          [
           "./dk_data/synth_noise/U59L-653-1.wav"
          ],
          [
           "./dk_data/synth_noise/1879-8-96QN.wav"
          ],
          [
           "./dk_data/synth_noise/03P7-643-1.wav"
          ],
          [
           "./dk_data/synth_noise/4X9C-168-1.wav"
          ],
          [
           "./dk_data/synth_noise/JRES-2981-1.wav"
          ],
          [
           "./dk_data/synth_noise/1139-4-K47S.wav"
          ],
          [
           "./dk_data/synth_noise/DHWE-3825-8.wav"
          ],
          [
           "./dk_data/synth_noise/1811-8-NRF1.wav"
          ],
          [
           "./dk_data/synth_noise/YPEK-1217-8.wav"
          ],
          [
           "./dk_data/synth_noise/1002-8-T5K4.wav"
          ],
          [
           "./dk_data/synth_noise/638-4-7BII.wav"
          ],
          [
           "./dk_data/synth_noise/GS9B-585-4.wav"
          ],
          [
           "./dk_data/synth_noise/QTG4-1184-1.wav"
          ],
          [
           "./dk_data/synth_noise/FTEV-1661-4.wav"
          ],
          [
           "./dk_data/synth_noise/ZTLD-1578-1.wav"
          ],
          [
           "./dk_data/synth_noise/HU07-405-1.wav"
          ],
          [
           "./dk_data/synth_noise/A4J0-569-1.wav"
          ],
          [
           "./dk_data/synth_noise/KG25-3322-4.wav"
          ],
          [
           "./dk_data/synth_noise/575-8-QZ4H.wav"
          ],
          [
           "./dk_data/synth_noise/UIKF-128-8.wav"
          ],
          [
           "./dk_data/synth_noise/1910-4-0OSD.wav"
          ],
          [
           "./dk_data/synth_noise/MDNF-3125-8.wav"
          ],
          [
           "./dk_data/synth_noise/F567-1097-4.wav"
          ],
          [
           "./dk_data/synth_noise/BLE0-547-1.wav"
          ],
          [
           "./dk_data/synth_noise/OFDW-1348-4.wav"
          ],
          [
           "./dk_data/synth_noise/232-8-H8DC.wav"
          ],
          [
           "./dk_data/synth_noise/1228-8-9AUS.wav"
          ],
          [
           "./dk_data/synth_noise/849-4-4ZV9.wav"
          ],
          [
           "./dk_data/synth_noise/1996-8-QOY8.wav"
          ],
          [
           "./dk_data/synth_noise/3TEK-3713-1.wav"
          ],
          [
           "./dk_data/synth_noise/JG5E-1581-8.wav"
          ],
          [
           "./dk_data/synth_noise/9IPQ-1140-1.wav"
          ],
          [
           "./dk_data/synth_noise/C7R1-67-1.wav"
          ],
          [
           "./dk_data/synth_noise/X3IM-1875-1.wav"
          ],
          [
           "./dk_data/synth_noise/P0SC-3148-4.wav"
          ],
          [
           "./dk_data/synth_noise/1855-4-AQ8H.wav"
          ],
          [
           "./dk_data/synth_noise/VJP2-448-1.wav"
          ],
          [
           "./dk_data/synth_noise/210-1-UEPQ.wav"
          ],
          [
           "./dk_data/synth_noise/1NN4-2329-8.wav"
          ],
          [
           "./dk_data/synth_noise/BT1W-2796-8.wav"
          ],
          [
           "./dk_data/synth_noise/S0SD-3861-1.wav"
          ],
          [
           "./dk_data/synth_noise/1165-8-R4SN.wav"
          ],
          [
           "./dk_data/synth_noise/ABRJ-1255-1.wav"
          ],
          [
           "./dk_data/synth_noise/QQ66-50-4.wav"
          ],
          [
           "./dk_data/synth_noise/S3RT-879-8.wav"
          ],
          [
           "./dk_data/synth_noise/00V8-1296-4.wav"
          ],
          [
           "./dk_data/synth_noise/1339-1-H39R.wav"
          ],
          [
           "./dk_data/synth_noise/UUB9-1770-1.wav"
          ],
          [
           "./dk_data/synth_noise/ZJXB-238-1.wav"
          ],
          [
           "./dk_data/synth_noise/838-8-XBHZ.wav"
          ],
          [
           "./dk_data/synth_noise/NH29-1189-4.wav"
          ],
          [
           "./dk_data/synth_noise/D3X4-1644-4.wav"
          ]
         ],
         "hovertemplate": "drum_type=synth_noise<br>D1=%{x}<br>D2=%{y}<br>D3=%{z}<br>path=%{customdata[0]}<extra></extra>",
         "legendgroup": "synth_noise",
         "marker": {
          "color": "#511CFB",
          "line": {
           "color": "DarkSlateGrey",
           "width": 0
          },
          "size": 8,
          "symbol": "circle"
         },
         "mode": "markers",
         "name": "synth_noise",
         "scene": "scene",
         "showlegend": true,
         "type": "scatter3d",
         "x": [
          -9.937355,
          -3.0884845000000003,
          -12.142387,
          -0.10972317,
          -6.000975599999999,
          -7.3843417,
          -8.518313000000001,
          -2.0169713,
          -19.224037,
          1.583102,
          -4.9040235999999995,
          3.2773087,
          -15.249897,
          -9.442960000000001,
          -11.456909,
          1.3722798,
          -6.238039499999999,
          -7.8546309999999995,
          -3.4552730000000005,
          6.5122957,
          -8.10582,
          2.7249105,
          -2.4799322999999998,
          15.98696,
          -14.731357999999998,
          -14.892007000000001,
          4.493459,
          -11.156174,
          -0.14445831,
          -5.5052905,
          -0.56586903,
          -4.7369127,
          -1.1631436000000002,
          -10.487686,
          4.983012,
          -5.778798999999999,
          2.6739802000000004,
          -13.7223625,
          3.1208234,
          -16.97991,
          -10.779575999999999,
          -3.8194008000000004,
          -5.9002040000000004,
          -4.9846449999999995,
          -0.8049339,
          -11.175605000000001,
          -3.8552034,
          3.3213072,
          -11.989828,
          -7.110469999999999,
          2.8314157000000004,
          -4.7898817000000005,
          -5.448485400000001,
          -12.650103,
          -3.4752512,
          -17.140978,
          -3.4078767,
          10.319683,
          -8.342856,
          -6.6044855,
          -3.7379569999999998,
          -4.873943,
          -0.020797256,
          -0.61775714,
          2.9680192,
          1.2433491,
          -11.795628,
          -5.5042214000000005,
          -11.2076235,
          1.3873411,
          -12.330461999999999,
          2.4544040000000003,
          -1.1286521999999999,
          21.56767,
          -6.909935000000001,
          -5.7394,
          -11.392249000000001,
          -9.121319999999999,
          5.9135637,
          -9.79562,
          -0.26995996,
          -5.8436513,
          -5.726155,
          -5.957104,
          -7.247835,
          -5.9713154,
          0.45391503,
          -3.6141317,
          -4.5202003,
          -10.362558,
          -10.494242,
          -4.982304599999999,
          2.8754158,
          -5.5919045999999994,
          21.398504,
          -16.6943,
          -2.4570048,
          -10.277597,
          -7.856421000000001,
          -3.6339309999999996,
          -5.899993,
          2.1001236,
          -11.641619,
          -12.583712,
          -13.899682,
          1.9323226000000002,
          -2.7417636,
          -12.323568,
          -10.384536,
          -7.6634808,
          -14.468298999999998,
          -1.0100311,
          0.9893662,
          -1.8162444,
          -1.539479,
          -11.741298,
          1.9939618000000001,
          -8.200621,
          1.0537538999999998,
          2.4143237999999996,
          -7.548452,
          8.087914999999999,
          -1.5351596,
          -9.591169,
          2.6895509,
          -5.464313,
          -1.6852236,
          7.782173599999999,
          0.4092175,
          -6.5849804999999995,
          7.742783,
          -3.2094347,
          -0.22825886,
          3.6653678,
          10.886061999999999,
          -0.02166359,
          3.4741752,
          -7.8796916,
          -0.03542479,
          -7.788636,
          -4.193809,
          -13.274576999999999,
          -11.203153,
          1.7264348000000003,
          2.313138,
          2.5949292,
          -10.409417,
          -6.615195,
          -6.9376755,
          -7.0151377,
          -6.9791327,
          -2.0592942,
          3.539104,
          -10.910097,
          0.7922138000000001,
          -0.24306759,
          -12.19202,
          -6.4399347,
          4.784665599999999,
          -15.593938,
          -7.1095624000000015,
          -1.0675253999999998,
          2.9357398,
          -2.2547622000000005,
          -11.676679,
          -0.28038582,
          -9.875894,
          -14.226254999999998,
          0.094770804,
          7.248009,
          -10.082464,
          -11.8535185,
          -2.4144557,
          -0.44269896,
          0.33882070000000003,
          -11.156261,
          -17.724329,
          -12.225814,
          -1.6479483,
          -5.292138,
          -8.96267,
          11.481897,
          -6.910095699999999,
          -3.8156773999999998,
          1.0359969,
          -2.405226,
          -4.917559,
          -0.5093118,
          6.702608000000001,
          1.0633347,
          -2.9271464,
          1.4829255,
          11.843268,
          -5.697908,
          -4.413975,
          -14.986307,
          -11.3870535,
          -5.924110400000001,
          -4.604734,
          -17.171896,
          -8.75417,
          -4.7163057,
          3.650985,
          -2.7210104,
          -8.670252,
          -7.313286,
          -9.146056,
          2.8173453999999998,
          -6.1475945,
          -4.889181,
          -2.2650754,
          -13.424329,
          -7.106639,
          1.4550667,
          -5.6779117999999995,
          -6.665118,
          -8.462831,
          9.005792,
          -7.1874504,
          -5.5069222,
          2.3996453,
          10.750007,
          1.5483321,
          -3.1351461,
          17.745594,
          6.598905,
          -0.17191982,
          6.649189999999999,
          -11.230238,
          -8.221238,
          -16.708462,
          -4.758138,
          -1.316974,
          18.80729,
          3.7026595999999996,
          -12.360505,
          -10.051938,
          1.0081433000000002,
          -5.982429499999999,
          1.3293184,
          -5.4499197,
          9.805989,
          5.54935,
          -1.5365806999999998,
          -9.176686,
          2.914702,
          -9.741485,
          -2.9333272,
          -13.534818,
          -11.006077000000001,
          -6.2589684000000005,
          -1.3089516,
          4.033906,
          -4.3697352,
          -5.694383,
          -6.507811,
          -12.557017,
          1.0688488,
          -11.268763,
          2.1528714,
          -14.149564000000002,
          -1.7890598999999998,
          -8.859465,
          -7.6972985000000005,
          0.52234393,
          -11.933769,
          -7.533367999999999,
          0.8059076000000001,
          -6.630166,
          -2.1657882,
          -6.343905400000001,
          -2.7324514,
          -9.3742,
          -17.748327,
          3.2719758,
          5.441922,
          -5.0647345,
          -1.3566953000000002,
          -13.03546,
          -8.333188999999999,
          -8.241811,
          -2.6517868,
          5.073236,
          5.322463,
          -0.06152946,
          -12.033237,
          3.4853811,
          -6.0511436,
          4.2524953000000005,
          7.179587400000001,
          -1.6820113999999997,
          0.92936295,
          -1.0557268999999998,
          -11.998261999999999,
          4.573543,
          -8.138478,
          -1.7361678,
          -9.985750999999999,
          -2.7368717,
          8.035282,
          7.826545200000001,
          -9.995039,
          -12.976181,
          -4.085771,
          2.8955932,
          -17.025019,
          -11.753399,
          -12.210345,
          1.3618057,
          -0.38877034,
          -10.799108,
          0.54551846,
          -8.237766,
          -12.623883,
          -8.842731,
          -3.6067336,
          -0.76641685,
          -0.09964059,
          0.10524034,
          1.4297323,
          0.9643703000000001,
          -3.7257656999999997,
          -15.494593,
          -2.3817427,
          0.08469733,
          -14.184961999999999,
          -9.565754,
          3.0755854,
          -10.246769,
          -8.640951,
          -6.7312193,
          0.39501476,
          3.0532935,
          -12.62957,
          0.2819177,
          -0.48215517,
          -9.667399000000001,
          -0.87653005,
          11.396662,
          5.898480999999999,
          -0.114254035,
          -5.842005,
          11.0958185,
          0.41849622,
          -15.792729000000001,
          6.7498684,
          -2.7342467,
          3.6487796,
          -2.1277351,
          3.229446,
          3.0549020000000002,
          -5.935065,
          2.7238226,
          -3.6598287000000003,
          -5.0576153,
          3.044665,
          -5.380293,
          -13.929068,
          3.2487614,
          -2.1204731,
          -16.840448000000002,
          -8.671736,
          0.16549525,
          -12.265442,
          -1.218171,
          -13.151021,
          -10.545014,
          13.230572,
          -3.6212115,
          -11.981617,
          -14.225041000000001,
          5.021797,
          -8.894819,
          -13.462251,
          -9.35101,
          -5.528423,
          -6.306479,
          2.9637463,
          -12.31195,
          -3.8422475,
          -13.545339000000002,
          -11.647884,
          11.265630999999999,
          -12.984943,
          -11.992744,
          -6.258396599999999,
          -9.850192999999999,
          -2.1173290000000002,
          -10.616505,
          2.405793,
          4.8737010000000005,
          -15.44011,
          0.4062257,
          -13.877564000000001,
          4.2833934000000005,
          -6.4960437,
          -11.299445,
          -1.8098283,
          -9.93637,
          -4.9454103,
          -10.08212,
          -0.68757874,
          0.7772725,
          6.886947,
          -9.787796,
          -2.1802384999999997,
          -3.286149,
          -6.4431389999999995,
          -0.60950255,
          -3.3322053,
          -9.485208,
          -4.1680565000000005,
          -6.798909700000001,
          1.5722408,
          3.7939754,
          -6.3233904999999995,
          -8.694586,
          4.1552114,
          2.494257,
          -4.2276110000000005,
          -7.982767,
          -8.364312,
          -1.3971858,
          -9.008496000000001,
          -1.0925399,
          -13.907519,
          -10.306438,
          8.730898,
          -17.628918,
          -9.274382000000001,
          -3.9702995000000003,
          -6.087027,
          0.41237056,
          -12.0695915,
          -10.429219999999999,
          -7.023554300000001,
          4.661196,
          -10.418349000000001,
          -12.422079,
          1.6301525,
          -3.5466409,
          2.7391756000000003,
          2.5859146,
          0.8682726999999999,
          -10.781892,
          -14.079654999999999,
          -10.678206,
          -7.5053144,
          10.827633,
          1.9020164000000002,
          3.3840525,
          11.242517999999999,
          9.816614,
          -2.1175572999999996,
          -12.63064,
          -12.682159,
          -8.65277,
          -2.9525657,
          -13.248548499999998,
          -4.602145,
          5.8862996,
          -1.6145724,
          11.762483,
          0.96162695,
          -10.389699,
          8.916653,
          -6.9729529999999995,
          -8.113422,
          -6.410324,
          -7.0892797000000005,
          -3.2771726,
          -9.843442,
          9.874300999999999,
          -10.313656,
          -17.29498,
          -7.4318814,
          -7.875331399999999,
          -9.512171,
          -3.0219254,
          -10.668317,
          -8.799142999999999,
          -11.093774,
          0.73742837,
          -1.4706606000000002,
          10.211101,
          -9.9396925,
          5.4708514,
          -9.292688,
          -6.3270593,
          -4.113389499999999,
          -0.2980812,
          -3.4830389999999998,
          6.210436,
          -7.0968175,
          -5.7792473,
          -10.680758,
          -4.8796763,
          -3.6195784,
          -9.897488000000001,
          -9.518955,
          4.7659745000000004,
          -7.5147333,
          -0.86996824,
          -2.3414638,
          2.7779047,
          -12.301269,
          -0.06944576,
          -1.1212393,
          0.8457884,
          -15.082384,
          -6.262335,
          -6.1528816,
          -12.845761999999999,
          -6.895397,
          1.0224226,
          -0.60948837,
          -12.721349,
          -11.047369,
          -13.469789000000002,
          -12.598794999999999,
          -6.141174299999999,
          -4.6657977,
          -7.49763,
          -3.5055707000000003,
          4.351866,
          2.024874,
          -14.496514000000001,
          -7.656401600000001,
          -4.6892104,
          -9.123130999999999,
          -10.306397,
          -1.3569708999999999,
          -6.736560300000001,
          -2.9572065,
          -7.981185000000001,
          -2.7920557999999995,
          -11.18408,
          -8.035136,
          4.05565,
          -9.014294999999999,
          -7.3520474,
          -15.388765,
          0.25887704,
          -7.8622,
          -0.22200479999999997,
          -9.007254,
          5.199696,
          -11.783551,
          -2.9388375,
          4.4204464,
          -10.95888,
          -11.012462,
          4.5521593000000005,
          -8.722175,
          -2.4481509,
          -14.494667000000002,
          -9.996253,
          -5.298877200000001,
          10.414178999999999,
          -13.603098999999998,
          -6.4286575,
          3.8159870000000002,
          -12.967578,
          -4.339075599999999,
          -4.0674067,
          -8.759236999999999,
          -9.124945,
          -12.435016000000001,
          -16.61365,
          -12.642289,
          -9.602714,
          1.1343322,
          -19.041746,
          -10.427896,
          1.0842121,
          -7.553783999999999,
          12.319153,
          -11.787319,
          1.5555617,
          -5.564659,
          -6.937804700000001,
          2.927455,
          -6.5501002999999995,
          -3.6334312000000004,
          -2.311141,
          4.8575206,
          -8.966894,
          3.4187492999999995,
          -11.297831,
          -1.7655699,
          -6.2183824,
          4.196111,
          -5.3887506,
          -10.977881,
          -10.218554,
          0.6642035,
          -1.3329716999999999,
          -9.726264,
          9.806675,
          -7.3475470000000005,
          -8.857623,
          -0.07583475,
          2.999693,
          2.065977,
          -12.007091,
          -5.149322,
          3.1712182,
          -12.475961999999999,
          -14.462503,
          -16.9756,
          -3.9218156000000004,
          -0.21355705,
          1.0930028,
          -5.445541400000001,
          -13.607514000000002,
          3.4779525000000002,
          4.353994999999999,
          -4.315061599999999,
          -6.6707149999999995,
          0.67663366,
          2.6799366,
          -0.8324381,
          -1.684616,
          -14.209809,
          -16.148848,
          -13.738318,
          -15.459085,
          -6.9565225,
          -7.306467,
          -7.024547999999999,
          -15.226007000000001,
          -8.164398,
          -5.1234903,
          9.517971000000001,
          -7.8049539999999995,
          -13.710745000000001,
          -18.201096,
          -12.526467,
          4.172676999999999,
          -0.5221298,
          -4.9663167,
          -9.681649,
          7.650631,
          2.4857092,
          -11.838346000000001,
          -18.350346,
          -5.0217843,
          -2.0601974,
          -15.816707999999998,
          -2.9140224,
          -7.961927,
          -6.5591807,
          -14.291726999999998,
          -1.9797324,
          -7.777077,
          -2.7589377999999996,
          -14.980375,
          -4.650821,
          -9.511493,
          -1.0280472,
          -13.350047,
          10.538747,
          -9.517559,
          -2.2599244,
          1.7108818,
          -9.796547,
          -7.6111580000000005,
          -3.809932,
          -13.245729999999998,
          -12.216851,
          -0.5034741,
          -10.4047,
          4.654631,
          -14.747304999999999,
          -3.7324722,
          20.476494,
          -6.51713,
          -3.7999199999999997,
          -6.985932000000001,
          -9.818997999999999,
          -1.5790727,
          2.6282262999999997,
          -0.14312693,
          -7.4972587,
          -18.434093,
          -1.2139552,
          2.4116470000000003,
          -9.058666,
          -6.380968599999999,
          -1.6839248,
          -1.1211286,
          -3.7018065000000004,
          -3.139464,
          -12.137096000000001,
          4.593780000000001,
          4.3965760000000005,
          -13.038053,
          -15.70345,
          -7.6387339999999995,
          -1.7011195,
          -4.860028,
          0.19533809,
          -8.940750999999999,
          -4.790837000000001,
          -6.895185499999999,
          8.021236,
          -4.5462112,
          15.257164999999999,
          -5.3848343000000005,
          -11.204716000000001,
          3.4928825,
          7.3308672999999995,
          -0.3058639,
          -8.281594,
          2.2060735,
          4.418121299999999,
          -3.1071827,
          -13.581219,
          -10.230919,
          -3.5871138999999994,
          -15.216505999999999,
          10.837211,
          -15.787714999999999,
          0.8634234000000001,
          -4.743716200000001,
          5.795452,
          -14.683069,
          5.555618,
          -0.1971866,
          -12.567014,
          -15.494845999999999,
          -11.9094515,
          -9.495778999999999,
          5.2328567999999995,
          -9.076181,
          -6.774367,
          -5.690551,
          1.4124308,
          6.695029700000001,
          -15.888167000000001,
          9.290037,
          -11.14977,
          -9.692654,
          -14.058225,
          -11.511991499999999,
          -6.440767299999999,
          -5.556218,
          10.178087,
          19.91581,
          -7.556816599999999,
          -5.1804194,
          3.3389351,
          -0.07824071,
          4.5196586,
          -2.1990507000000004,
          -8.637182000000001,
          -6.8152757,
          -8.562055,
          -5.731684,
          -5.4544263,
          -14.660185999999998,
          1.4416627,
          -8.214849000000001,
          -7.9922047,
          -5.143419000000001,
          1.3368161,
          -1.6418626,
          14.018047,
          -1.4929243,
          -11.073109,
          -0.33738816,
          -13.3178,
          -17.506424,
          -11.475764999999999,
          2.808936,
          -10.552899,
          -2.5621095,
          1.0315853000000001,
          -6.6037803,
          2.0099337,
          -6.7075830000000005,
          -17.173565,
          -2.9784783999999997,
          -1.2796842,
          -2.272347,
          3.9947166,
          4.395075299999999,
          -2.0457125,
          2.9651299,
          -1.3468274,
          11.352093,
          -3.2232933,
          -4.559014299999999,
          0.06836969,
          3.5385437000000004,
          -14.110415,
          16.80834,
          -11.249235,
          -4.3103074999999995,
          -7.604808,
          0.44604309999999997,
          -10.533133,
          -0.5820805,
          0.29692653,
          -11.852947,
          -11.479124,
          1.4414524,
          13.508767,
          -8.172197,
          -4.382055,
          -11.33879,
          -8.067372,
          -6.129254,
          -1.6447102999999998,
          -0.9954991,
          -11.454248,
          -5.105744400000001,
          -3.5538983,
          -1.6685845000000001,
          -9.484113,
          -2.9533699,
          4.3800163,
          1.0886341,
          -1.2981538000000001,
          -10.11599,
          -5.433595700000001,
          -0.20528509,
          3.6426220000000002,
          -16.767706,
          -1.219784,
          -7.872903,
          -5.3631096,
          -7.659101,
          5.873680599999999,
          -2.3746386000000004,
          -1.2462732,
          -13.014805,
          -7.758645,
          -14.249548,
          1.2405322,
          -5.172104,
          -8.6612215,
          -5.4919332999999995,
          -14.991003,
          -7.275836,
          -13.573532,
          -3.6939987999999997,
          -2.9833155,
          -15.077620499999998,
          -9.689559,
          -5.120824,
          -0.98988694,
          1.2038440000000001,
          -3.8410964,
          -11.189255000000001,
          -5.090219,
          -8.077658999999999,
          -2.0950968,
          1.7079064,
          -14.57112,
          -5.666872,
          -7.394971400000001,
          -18.377321,
          -9.901874000000001,
          -15.775898000000002,
          -7.555657400000001,
          -0.3242176,
          -10.328068,
          -4.25645,
          -0.48437327,
          12.868771,
          -11.895650999999999,
          -15.605626999999998,
          -4.4522333,
          -8.256435,
          -8.444022,
          5.958493,
          -13.056319,
          -2.8976613999999996,
          -14.445976000000002,
          -10.283372,
          2.443505,
          13.171217,
          -6.7608857,
          -4.425401,
          9.413103999999999,
          -5.259369400000001,
          7.7622304,
          2.4884355,
          -7.8111243,
          3.8171458,
          -3.1739252000000002,
          -2.2233667,
          -1.9797578999999998,
          8.444677,
          -8.896363000000001,
          0.34111613,
          -9.21402,
          -8.320348,
          -1.6892874,
          -7.880683400000001,
          -2.2153542,
          3.631498,
          -1.6437723999999998,
          -4.795936,
          2.0885425,
          -15.0400095,
          0.8634630999999999,
          4.9367285,
          -6.2838917,
          -8.780371,
          -3.3411665,
          -5.391051,
          -9.084354,
          -8.914835,
          19.090984,
          -15.447277,
          1.2002732,
          -9.252228,
          0.1724289,
          -15.365167000000001,
          -13.318237,
          -13.498098,
          2.2248287,
          -7.6194679999999995,
          -13.028825,
          3.7811809000000003,
          -1.9662771,
          -5.9481955,
          -7.1891245999999995,
          -6.7772875,
          1.3677651000000002,
          -4.209929,
          1.4734246000000002,
          -9.8098545,
          17.784796,
          -10.152917,
          -13.795103,
          -4.592436,
          -8.498191,
          -3.5536294,
          -6.1618853,
          -4.0177510000000005,
          0.41512150000000003,
          -12.800222,
          -15.632938000000001,
          1.3365707,
          -1.8849736000000001,
          -13.185709,
          -0.14422612,
          -17.030172,
          4.542982599999999,
          -6.426766000000001,
          -1.2370403,
          0.6680404999999999,
          -4.1555976999999995,
          -15.677109,
          -9.329444,
          -6.834005,
          -17.466188,
          -3.6146498,
          -4.2928014,
          -12.773792,
          -10.773711,
          -1.586864,
          -10.317252,
          -9.263268,
          1.3898609,
          -4.8707139999999995,
          -9.7152405,
          -7.4000287,
          -1.2561351,
          -5.820241,
          -7.0062823000000005,
          -2.7434309,
          1.0053089,
          -1.6581124,
          2.5645995,
          0.47008905,
          -11.893281,
          3.922389,
          -1.2330652,
          -8.094560000000001,
          -4.3797803,
          -8.229781,
          -2.7404572999999997,
          0.34363535,
          0.54007864,
          -1.2116733999999998,
          -5.621034,
          -6.136228599999999,
          -14.170285999999999,
          -7.5138717,
          -0.9585016,
          -9.374971,
          17.946365,
          0.96801656,
          2.7094297000000003,
          -12.82296,
          -4.408614,
          -6.5271473,
          -13.069457,
          -1.0354259,
          -10.602261,
          -4.2916822,
          -3.6558857000000002,
          2.642712,
          -6.3700547,
          -6.635983500000001,
          -12.627257,
          -17.212985999999997,
          8.278653,
          -9.811372,
          -10.035052,
          10.240444,
          -11.338653,
          -10.296996,
          -5.1092863,
          -8.9288025,
          -1.9906439999999999,
          -14.094585999999998,
          -1.7198683999999997,
          -11.857345,
          -1.3450991,
          -5.000705,
          -13.931939000000002,
          -5.3703937999999996,
          -12.210152,
          -15.899815,
          -6.7745,
          -11.484481,
          -6.160197,
          2.3249902999999996,
          -1.7098919,
          3.9831429,
          -4.310486,
          -8.517325999999999,
          -11.063255999999999,
          6.086896,
          -2.263389,
          -15.486212,
          3.5004957,
          -12.809592,
          -4.5276785,
          0.13963039,
          12.218879,
          -9.859706,
          2.5405412,
          -5.513102,
          -7.550101799999999,
          -4.490187000000001,
          0.8278215,
          -12.2181635,
          -7.2212834,
          -5.102170500000001,
          -9.945692,
          -4.514118700000001,
          -9.465557,
          -7.803861,
          -12.26313,
          -5.816161,
          -8.800778999999999,
          -8.811415,
          -12.587576,
          -3.6579940000000004,
          -4.704276,
          2.6621330000000003,
          0.36995363,
          -5.436738500000001,
          3.2928212,
          -5.370636,
          -11.278278,
          -7.439978,
          -4.3272314000000005,
          -4.284865,
          -0.9460597,
          -10.38072,
          -4.351615,
          -8.033392,
          -6.229507,
          -4.5372486,
          -7.714856,
          11.964532,
          -11.41763,
          -5.5898642999999995,
          -4.967813,
          -0.88690495,
          -7.362052,
          -9.160252,
          -6.1370416,
          4.979334400000001,
          -8.899529,
          8.77041,
          -6.9526916,
          -14.908992000000001,
          -5.102798,
          -2.903241,
          1.4390318000000002,
          -16.561522,
          -8.942699000000001,
          -5.045676,
          -6.887577499999999,
          -6.952306,
          -4.171713,
          -8.425409,
          -0.07984447,
          -5.0272464999999995,
          -2.3298414000000003,
          -6.2315574,
          -8.106841000000001,
          12.038236,
          0.029616179,
          -11.214580999999999,
          1.8454618000000003,
          -2.9332437999999996,
          -1.5436745,
          -0.68360037,
          -2.9984963,
          -12.489130000000001,
          -3.1890054,
          -15.336276000000002,
          -17.37603,
          0.39820679999999997,
          4.887574,
          -12.252588000000001,
          -11.251269,
          4.5148363,
          1.4648176000000002,
          6.112869,
          -12.784086,
          -11.556527,
          -7.3775473,
          -8.460723,
          -5.0902805,
          -10.0776205,
          9.373128999999999,
          2.3841807999999998,
          -3.3077145,
          -7.7578363,
          -2.7684975,
          -8.60093,
          -17.75553,
          -16.12223,
          -6.358661,
          -11.285282,
          -8.677567999999999,
          2.56893,
          -8.518975,
          -8.66624,
          -11.700723,
          -3.675294,
          -2.4432402,
          -6.976382000000001,
          -10.540989999999999,
          -13.207317999999999,
          -9.369797,
          1.1414078,
          -2.441631,
          -13.448992,
          -7.9755754,
          -12.206802,
          -10.879089,
          -3.1831665,
          5.2392554,
          -15.355194000000001,
          5.1084830000000006,
          -7.08201,
          -11.905647,
          -9.901816,
          5.061445,
          2.1640558,
          -14.815207000000001,
          -11.380478,
          -4.35306,
          15.014575,
          -15.167548000000002,
          -10.210538,
          2.809014,
          -1.2194468,
          -12.769465,
          -4.0569477,
          -10.57715,
          5.5190663,
          -12.7603,
          -8.217691,
          1.6404595000000002,
          -14.006279999999999,
          -1.9853095,
          -2.9315724,
          -5.510757,
          11.797263000000001,
          -7.0471262999999995,
          -6.964866000000001,
          -4.962114,
          -8.164159,
          -12.073359,
          -4.574699400000001,
          -6.096349,
          2.6349127,
          -2.3603318,
          -8.4484,
          -5.100396,
          1.3268261000000001,
          -0.12212462,
          -1.0643796,
          3.127486,
          7.7202845,
          4.9889083,
          -0.19067466,
          9.234252,
          1.087365,
          -16.875446,
          -16.907692,
          -6.938803699999999,
          2.4445832000000003,
          -7.977035000000001,
          2.0314765,
          -13.677478,
          -1.1020259,
          -8.724527,
          8.694689,
          -12.150914,
          -11.900713,
          -7.0939994,
          -4.1145663,
          -2.4717029999999998
         ],
         "y": [
          -4.6484294,
          -6.8823223,
          3.6524127,
          2.4240772999999995,
          -7.6474266,
          -4.066535,
          5.6772290000000005,
          -6.3968105,
          5.4948879999999996,
          -7.895214599999999,
          12.076845,
          10.232937,
          6.383947,
          7.605832,
          -3.6406352999999996,
          3.7154396,
          2.1494543999999998,
          -8.65042,
          4.6463737,
          -4.770800599999999,
          2.8193755,
          -0.35358190000000006,
          -4.271091,
          8.594403999999999,
          2.0687006,
          1.3949011999999998,
          4.9307656,
          -5.4161205,
          -3.0501025,
          10.4340315,
          -2.2763977000000004,
          0.7184202,
          -11.482709,
          12.257522,
          -5.897081,
          -7.017777000000001,
          -15.041222,
          7.490725,
          -0.998785,
          6.3643804,
          -2.036318,
          1.6299673000000001,
          11.6372795,
          7.278536,
          -12.7307,
          8.295072,
          8.108846,
          -12.536088000000001,
          -2.3799335999999998,
          5.151112,
          10.493903,
          -1.752632,
          -1.3728102,
          7.871367,
          -6.2332654000000005,
          0.48845324,
          -1.5259191,
          -14.921854000000002,
          9.454096,
          -4.76405,
          4.2490716,
          -8.654257000000001,
          -7.143497999999999,
          -6.1953917,
          -12.367491000000001,
          -1.089858,
          9.21941,
          6.519692,
          -6.2014879999999994,
          -7.531763000000001,
          0.7951269,
          5.595508000000001,
          6.58985,
          0.24888514,
          5.9257154000000005,
          -12.677437,
          10.083586,
          -9.439791,
          -12.942962,
          -2.9262571,
          -0.58017427,
          1.5454454,
          -2.5072240000000003,
          -2.5200150000000003,
          -0.54978585,
          6.0547867,
          -10.311763000000001,
          2.4668803,
          10.101241,
          10.6553,
          8.857434,
          -5.9215965,
          9.777682,
          -3.547786,
          -1.7557273000000002,
          1.1811083999999998,
          -3.8786523,
          14.268445999999999,
          -4.5380816,
          -14.716404,
          -3.9207730000000005,
          11.536111,
          1.1286138000000001,
          8.1658125,
          -3.8181046999999997,
          11.584164999999999,
          -8.397673,
          11.33248,
          9.079113000000001,
          9.098203,
          -0.24774815,
          -0.8978004,
          -10.391624,
          9.022208000000001,
          8.168178,
          1.2780695,
          1.7242877,
          4.051694,
          -8.04758,
          5.114014599999999,
          14.114085000000001,
          3.4374301,
          1.4181774,
          1.1268684,
          -1.5095774,
          -2.3137248,
          8.089190499999999,
          6.103068,
          9.899946,
          14.419505,
          3.395868,
          11.12415,
          8.442860000000001,
          -5.8628902,
          4.268269,
          4.023472,
          2.0280812,
          3.2034279999999997,
          5.467661,
          -5.1889567,
          -0.7080346,
          -0.8201323,
          14.999669,
          -8.395381,
          -9.304857,
          1.296186,
          2.3265045,
          -1.7401322,
          7.601449499999999,
          -8.724484,
          11.259326,
          9.717606,
          -6.6146693,
          5.0109687,
          -7.666973,
          -12.988211,
          -2.9603426,
          3.3285627,
          1.9986436,
          4.379114599999999,
          -8.357874,
          -0.86062145,
          -13.315783999999999,
          8.185316,
          4.6670012000000005,
          2.299872,
          4.322648,
          11.7315235,
          -10.764543,
          1.5023185,
          -0.29606164,
          -2.41085,
          10.977698,
          -4.264863500000001,
          -1.7622136000000002,
          10.0196905,
          -0.32259682,
          1.0921624,
          11.996196000000001,
          3.8495660000000003,
          -10.569379,
          -15.275145000000002,
          8.997655,
          -0.40158406,
          -12.51485,
          12.84568,
          -4.3166757,
          0.9266631,
          4.385280000000001,
          -1.5395776,
          -6.23895,
          4.4996386,
          8.721727,
          -6.714446499999999,
          -4.7417492999999995,
          -0.039843656,
          6.853636,
          0.34901750000000004,
          -5.354192299999999,
          5.6179523,
          0.8626043,
          2.7256072000000002,
          -14.04606,
          10.96345,
          11.080022,
          7.6791344,
          -0.95950556,
          4.489371,
          0.6209079000000001,
          -7.3415375,
          -4.459178,
          -5.642089,
          -1.6296787,
          -1.644175,
          -5.7737355,
          -2.835681,
          -6.849573599999999,
          0.16407838,
          4.140923,
          0.32721859999999997,
          9.6098175,
          2.1320994,
          -16.821224,
          -5.4087825,
          2.9059627,
          -3.728883,
          -13.722079,
          -2.9135682999999997,
          5.2055254,
          -1.9371089,
          3.3570192000000003,
          -10.626102000000001,
          -2.4219912999999997,
          6.1562147000000005,
          -13.447419,
          -2.347922,
          -3.8288425999999998,
          -7.0390167,
          -4.121916000000001,
          -0.016682893,
          13.455077,
          -6.4441495,
          -5.3514919999999995,
          6.985949499999999,
          7.667125,
          0.66534597,
          -4.143513700000001,
          1.291452,
          9.111325,
          8.358557000000001,
          5.231631,
          -11.609531,
          0.30470064,
          6.672397599999999,
          5.1736894,
          0.84581643,
          5.2830353,
          3.7910828999999997,
          9.224155,
          0.20749573,
          6.3469714999999995,
          2.088984,
          11.385693,
          4.482456,
          9.322165,
          11.60029,
          3.1252491,
          -10.988178999999999,
          6.772904,
          -13.310960000000001,
          6.6578307,
          -11.219472,
          5.051024,
          5.1053705,
          -16.176289,
          4.29117,
          8.770754,
          -4.132324700000001,
          12.583687,
          14.682575,
          4.3412194,
          1.1616532,
          -3.0605388,
          -4.057558,
          10.768074,
          -0.9214469000000001,
          -10.98733,
          -9.68379,
          -14.22763,
          3.8211714999999997,
          -2.9201365000000004,
          -14.705302,
          -3.9687037000000003,
          7.311286999999999,
          4.995480000000001,
          6.206994,
          3.001468,
          0.3801059,
          -6.337036,
          11.985707000000001,
          3.161315,
          2.5245202,
          4.5379205,
          -5.7138944,
          2.1814227,
          0.025926912000000003,
          5.535448000000001,
          14.911591,
          8.340811,
          1.9506171,
          7.339645,
          10.4497175,
          -8.212725,
          -1.4610451,
          -4.85542,
          9.589002,
          1.2246593000000001,
          3.3589926,
          1.5491493,
          -0.6998255999999999,
          -16.845755,
          5.25191,
          6.211002,
          -12.814724,
          -8.885076,
          1.4721587,
          -4.014257,
          9.418511,
          10.922039,
          3.1280053,
          11.20112,
          -15.303486,
          2.7972302000000004,
          3.9704203999999996,
          4.057667299999999,
          10.418301,
          4.475898,
          9.83723,
          -16.016668,
          -12.135378999999999,
          -15.664874,
          8.923015,
          -10.808551,
          -4.2345559999999995,
          10.113782,
          -5.220385,
          -8.117442,
          5.0894413,
          -1.7295745999999999,
          -10.261371,
          -2.4857614,
          -9.524123,
          -15.220946,
          3.6669983999999998,
          -6.4951982,
          -11.957993,
          7.389874000000001,
          7.260287,
          -3.0382863999999996,
          -4.4939585,
          1.6690968000000002,
          2.0760214,
          2.0255153000000004,
          1.2447838,
          -3.1778162,
          -0.5038773,
          0.16702211,
          6.662844000000001,
          -7.254591499999999,
          2.5840616,
          -2.517731,
          4.3552904,
          3.4381542,
          0.5155095000000001,
          -3.2282808,
          -3.9828424,
          -5.695452700000001,
          -2.5691874,
          11.959516,
          1.3237538,
          5.923925,
          9.789474499999999,
          8.986734,
          4.8218974999999995,
          -2.9047801,
          9.398431,
          -0.83577967,
          5.9210677,
          14.399673000000002,
          -6.800617999999999,
          -9.2833395,
          1.3131719,
          -12.3821335,
          9.675158,
          -12.383999000000001,
          14.580306,
          13.769803,
          -4.5220566,
          3.6435356,
          -7.282932300000001,
          4.615476999999999,
          -8.187092999999999,
          0.20441133,
          4.5424986,
          10.425218,
          -4.929422,
          -0.30241653,
          -4.131178,
          -4.5836267,
          5.9511285,
          -0.50126666,
          2.7381532,
          -0.50657636,
          4.0598493,
          -8.835898,
          11.052706,
          -1.1313905,
          5.4996643,
          8.5226,
          -14.81909,
          -0.6760303000000001,
          9.202455,
          3.210269,
          3.9856877,
          1.3131182,
          -4.470488,
          -5.5830107,
          -3.7192008000000003,
          8.8136,
          -6.684067,
          -3.4608324,
          -9.757026,
          0.93440545,
          2.9911504,
          2.583541,
          -1.9589918999999998,
          7.832336,
          3.1097240000000004,
          13.192557,
          10.32837,
          -8.088566,
          -9.15355,
          0.200943,
          8.8002,
          -8.462717,
          7.8380336999999995,
          4.2125224999999995,
          -2.3597624,
          -14.819396,
          -3.4351809999999996,
          -0.60351056,
          3.782777,
          2.660036,
          5.746822,
          4.5319448,
          -0.88644135,
          -0.13283303,
          -12.114352,
          1.0632551000000001,
          11.147497999999999,
          -13.432685000000001,
          -8.625627,
          6.7147436,
          -5.7681484,
          13.334685,
          6.7687097000000005,
          7.5397005,
          0.9717290999999999,
          11.517315,
          8.316736,
          4.494097,
          -1.2518486999999998,
          5.9932766,
          -9.091989,
          0.22277583,
          12.581425999999999,
          -7.5002084,
          -9.816450999999999,
          -0.39039442,
          1.3260806,
          7.676307,
          -1.7002621999999998,
          9.316226,
          -6.365585,
          -12.379681,
          1.0498061,
          2.1874387000000004,
          -4.672854,
          8.561803999999999,
          -0.16392185,
          4.5670147000000005,
          -5.8175817,
          2.0034182,
          -5.011814599999999,
          6.978631,
          8.965961,
          8.405364,
          -3.000289,
          3.3143010000000004,
          -6.735137,
          -11.225408999999999,
          6.5967216,
          3.5601773000000003,
          -1.3137028,
          3.9381177000000003,
          -5.4151864000000005,
          -12.310514,
          1.0214334999999999,
          5.733297,
          10.003455,
          -7.736961999999999,
          9.581173,
          9.975113,
          9.525314999999999,
          -6.955437,
          -5.789781,
          9.498996,
          3.119896,
          0.80559474,
          7.318314599999999,
          -6.2352333,
          -5.503839,
          10.930214,
          -9.812598,
          -9.875099,
          -5.4767647,
          2.9339502,
          0.73303473,
          4.048301,
          12.025246000000001,
          12.032625,
          5.390178,
          -0.76299274,
          11.505701,
          7.532592299999999,
          -11.629822,
          3.9757342,
          -10.328522,
          2.5122285,
          4.5342684,
          -1.1990758,
          0.6639775,
          4.859088400000001,
          5.505599500000001,
          -14.550297,
          4.8657637000000005,
          4.601851,
          3.8738053,
          11.402034,
          -1.8762351000000002,
          6.227873000000001,
          -6.723837400000001,
          10.360521,
          6.4541187,
          -7.762719000000001,
          9.081589,
          6.193139599999999,
          3.7194474000000004,
          -15.58496,
          1.2185546,
          13.177707999999999,
          -7.337208,
          2.7360785,
          -9.392621,
          -5.0877989999999995,
          10.047488000000001,
          0.96595764,
          10.1849,
          5.0230093,
          0.48416528,
          0.98226094,
          2.4965124,
          4.4716005,
          12.222852,
          -9.343207000000001,
          -2.5735576,
          5.191978,
          7.4685454,
          -7.71057,
          9.877312,
          -4.940175,
          -12.219306,
          1.9015248,
          0.83567655,
          -0.72357684,
          1.8894068,
          15.212373000000001,
          -7.887951400000001,
          -0.62680477,
          -4.3197513,
          11.335256,
          -0.25662205,
          -3.5139253,
          0.32827502,
          1.7617957999999998,
          6.977378,
          -3.7348800000000004,
          -11.592058999999999,
          5.6314435,
          -3.3570073,
          11.005784,
          8.310111000000001,
          -13.190479999999999,
          -3.9342217000000006,
          2.8289464,
          0.42229098,
          -9.351925999999999,
          -6.714028,
          5.237124,
          5.4773135,
          12.244867,
          -2.9010502999999996,
          8.565698,
          10.045905,
          -2.5984895,
          -3.9153812000000006,
          -0.39933693,
          -6.142488,
          10.65627,
          -8.886215,
          5.988804,
          7.807981,
          -1.3212062,
          -5.956310299999999,
          9.579977,
          4.3244514,
          6.434948400000001,
          1.1612301999999999,
          14.007696,
          5.3505163,
          0.29440266,
          2.1209189999999998,
          -8.527178999999999,
          -16.5635,
          6.3827105,
          6.5815325,
          4.549172,
          -3.1288126,
          -14.079101000000001,
          0.46369913,
          11.8045845,
          9.178798,
          5.1669383,
          -8.637152,
          12.8810215,
          3.1256192000000005,
          -6.271711,
          -5.7588425,
          1.214979,
          9.750509,
          -9.4702835,
          -0.25909817,
          0.16542801,
          -1.9200939,
          7.6862955,
          5.626782,
          0.5502393,
          -3.8837870000000003,
          6.5066137,
          -8.698225,
          6.5321774,
          2.8435947999999995,
          -6.770999000000001,
          -11.719747,
          -17.152428,
          8.613113,
          -5.40111,
          -1.3902328000000002,
          13.118363,
          -6.565438,
          0.65109,
          10.036754,
          6.270878,
          -0.121699266,
          -15.095285,
          -2.643139,
          11.261448,
          8.615424,
          -1.3494722,
          12.698807,
          3.133296,
          4.0721726,
          3.6422760000000003,
          3.4389653,
          5.398122,
          11.933112,
          -6.4434605000000005,
          -5.917836,
          -7.8470993,
          -2.0897179,
          12.965893,
          0.7322786,
          2.4636327999999996,
          2.132088,
          7.7653666,
          2.7967176,
          -0.37476522,
          5.9590816,
          -3.3808932,
          5.289814,
          -10.18096,
          -6.900616599999999,
          7.2376204,
          9.636517999999999,
          -7.361285700000001,
          -0.9071521,
          4.434869,
          6.8175364,
          -5.7106977,
          -3.7161303,
          -4.1192336,
          3.3846318999999996,
          -5.8965629999999996,
          -8.040569,
          -0.47192454,
          -14.099675,
          -11.446794,
          2.7145580000000002,
          10.169294,
          12.509814,
          6.496878,
          7.2831282999999996,
          1.3103143999999998,
          -1.8441877,
          -8.634917,
          -12.190959,
          -0.07508014,
          0.6192045,
          -5.2451982,
          7.228298700000001,
          2.5349617,
          14.527934,
          8.352508,
          -14.259929000000001,
          10.953536,
          -3.2654509999999997,
          -4.775656,
          -8.816322999999999,
          2.9908726000000003,
          -1.8692473000000003,
          -16.186420000000002,
          14.438838,
          13.484036999999999,
          4.2652335,
          9.608782000000001,
          14.005181,
          7.195282000000001,
          2.3783104,
          -0.33989632,
          6.480027,
          6.0116653,
          -7.012685,
          2.2156117,
          3.114999,
          -0.7167184,
          -6.844232000000001,
          6.462899,
          -3.2302132,
          0.12781264,
          5.7438636,
          2.2565147999999997,
          3.5558262000000003,
          1.6421912,
          9.3356695,
          -1.510896,
          -14.392831,
          -7.0465603,
          2.6078348,
          2.6469688,
          -4.4709554,
          -4.550335400000001,
          10.654123,
          -0.20707996,
          10.968344,
          0.5525564000000001,
          3.4163476999999998,
          3.9558644,
          -14.983951999999999,
          6.77323,
          -6.152744,
          5.042885299999999,
          1.6620461,
          13.813556,
          -5.680927,
          -9.059055,
          -12.255092,
          -6.852258999999999,
          -2.945973,
          -9.010373,
          10.131783,
          2.671241,
          -6.1350737,
          8.43304,
          5.884863,
          -10.95205,
          -0.30056357,
          6.0664034000000004,
          4.43349,
          -10.841751,
          -7.091009,
          -0.39874914,
          15.602398999999998,
          -8.478646000000001,
          0.061088475999999996,
          -3.6221018,
          8.588744,
          -15.355441,
          3.4713637999999998,
          1.0189177,
          -2.0474276999999996,
          10.204303999999999,
          -11.325206,
          -0.7469847,
          1.0393823,
          10.581045,
          1.9864432,
          -2.3723210999999997,
          -4.3761106,
          5.146658400000001,
          -1.5316938,
          -4.4490932999999995,
          7.710750599999999,
          -9.162927999999999,
          -11.923497,
          3.259173,
          10.229128,
          -2.6973007,
          4.377505,
          4.3802066,
          2.531909,
          -9.230891,
          -7.7902203,
          2.7707238,
          1.6892343999999997,
          -13.033775,
          2.2924337,
          1.1109294,
          -7.635458,
          8.722342,
          2.7787237,
          -10.894437,
          7.6788419999999995,
          -2.9260566000000003,
          -3.8201987999999996,
          12.90771,
          4.007601,
          -0.27665162,
          2.8510584999999997,
          -3.3559604,
          2.5755775,
          6.301171,
          -2.3366540000000002,
          -4.9250073,
          0.665169,
          0.67001975,
          0.40985474,
          9.512659,
          7.8188963000000005,
          1.7604917000000002,
          3.5757275,
          -2.336681,
          -8.667117999999999,
          0.500204,
          1.7041258999999997,
          6.2600964999999995,
          11.49292,
          5.263626,
          2.180253,
          1.528707,
          5.6711407,
          1.5058886999999999,
          4.5437555,
          4.7328410000000005,
          3.6688097,
          4.9399233,
          1.3888378000000001,
          -12.151334,
          2.7511952,
          10.687525,
          -4.2184534000000005,
          -2.577889,
          -3.7106252,
          9.770766,
          -7.457103699999999,
          -12.192221,
          -15.293759,
          10.692865,
          3.6794624,
          -15.9150715,
          13.474426000000001,
          9.049519,
          -13.746726,
          -8.951806,
          -0.31380457,
          5.5383260000000005,
          -3.2287282999999998,
          10.944212,
          3.9752007000000007,
          11.757469,
          7.202172999999999,
          -0.46356654,
          5.581021,
          -6.768462700000001,
          4.4488335,
          -3.9065943,
          5.482272,
          5.115804,
          -6.1598559999999996,
          1.7596406000000002,
          -5.417121400000001,
          3.9551997,
          3.5263252,
          -8.337411999999999,
          7.806058999999999,
          -3.8717315,
          4.1908174,
          6.0923204,
          11.238157000000001,
          0.24219966,
          -14.826057,
          -3.2301517000000004,
          9.402737,
          3.2986983999999997,
          11.026304,
          -3.2957456,
          -4.600811,
          8.133633,
          4.5847796999999995,
          -0.5771602,
          -2.4525845,
          6.6554402999999995,
          -2.9741316,
          3.2111204,
          -8.786572,
          6.2456307,
          4.36926,
          2.7421290000000003,
          8.644416,
          -10.806078999999999,
          -9.178412,
          -8.035124,
          6.3882174,
          9.966175999999999,
          -1.470138,
          5.846801999999999,
          -3.3939209999999997,
          0.48868996,
          0.77072227,
          10.274245,
          3.4901211,
          6.3374147,
          -13.1434555,
          8.154453,
          -14.893514000000001,
          8.865309,
          -2.8264202999999997,
          2.256869,
          -4.520231,
          7.84655,
          4.6320953000000005,
          -1.9225109,
          1.591011,
          1.3527294,
          -7.616214,
          -0.15957037,
          6.555034599999999,
          3.0518825,
          7.9465947,
          2.0864046000000003,
          -0.85396326,
          -6.750248399999999,
          -3.6300237,
          1.8891220000000002,
          -6.4158230000000005,
          2.7814767000000002,
          -7.190489299999999,
          11.830371000000001,
          -2.7962017000000006,
          -13.854589,
          7.666900999999999,
          -11.234803999999999,
          6.767258999999999,
          9.179226,
          7.7946587,
          -5.431311,
          9.630021000000001,
          2.1699482999999997,
          3.6064942,
          6.6559824999999995,
          -3.033303,
          0.5457116,
          8.874439,
          0.6421725,
          8.089876,
          9.1837,
          2.1592245,
          -3.935457,
          -8.011813,
          -1.1419093999999999,
          3.3816001000000004,
          7.6109686000000005,
          -3.2180908,
          -2.6972914,
          -5.421571299999999,
          10.675001,
          11.22741,
          -9.628644,
          0.14247768,
          -1.2084553999999998,
          6.9296966,
          0.6760833,
          5.700491,
          -2.5680726000000003,
          -1.6953630000000002,
          1.0919663999999998,
          -0.88626313,
          9.138586,
          0.5275305,
          -4.546805,
          8.004315,
          1.5753452,
          4.6554694,
          7.2920136,
          9.460003,
          11.593652,
          10.100918,
          0.8235353999999999,
          7.067719,
          7.6260642999999995,
          3.0867397999999997,
          -2.1903042999999998,
          -1.8729494,
          3.201237,
          -4.5438905,
          -7.702254300000001,
          -14.027123000000001,
          10.641389,
          -5.1229544,
          2.9402966,
          0.22955097,
          4.2141665999999995,
          -6.758338,
          -0.92806256,
          6.698155,
          -0.47582477,
          11.677882,
          5.228381,
          3.3585144999999996,
          -0.28026015,
          0.47045547,
          5.518945700000001,
          7.7900977,
          2.9206990000000004,
          12.604908,
          -1.7065636000000002,
          -7.5956345,
          5.9573584,
          -2.1389894,
          2.4374025,
          -4.317425,
          -6.424499,
          -5.4938993,
          7.7616434000000005,
          4.857633,
          -7.218125,
          -0.41946006,
          -6.5777845,
          -0.04623121,
          -0.05485865,
          0.90246665,
          0.6032656,
          8.843521,
          -3.656532,
          5.119903,
          -6.6571913,
          -1.4657466000000001,
          4.5136023000000005,
          -8.9005785,
          -1.7459054,
          8.256366,
          -6.987000500000001,
          -3.6849818,
          7.0499682,
          7.632861999999999,
          13.082647999999999,
          -7.5565679999999995,
          9.836903999999999,
          -3.5398762,
          3.7929003,
          9.171341,
          -11.340227,
          0.7272071,
          -7.3998065,
          -5.737561,
          -0.506577,
          12.780071000000001,
          3.5984719,
          -10.569111999999999,
          0.014143517,
          3.2678632999999997,
          -7.1395993,
          1.6728528999999999,
          1.8460394,
          -2.1417477000000003,
          13.311176999999999,
          -3.6188486000000006,
          -2.3959231,
          -14.503504000000001,
          -6.404114,
          -4.3276753,
          9.985182,
          -12.425343,
          7.7073350000000005,
          9.914699,
          8.977977000000001,
          2.759368,
          -7.3969784,
          9.424188000000001,
          -3.3696222000000002,
          8.798644,
          -0.46664807,
          1.7240237,
          6.7720504,
          -11.79545,
          10.736369999999999,
          0.07793115,
          -12.846208,
          -16.3213,
          -2.13666,
          7.340457000000001,
          2.6850584,
          4.491094,
          -8.4967985,
          -5.792479,
          15.152000000000001,
          -14.598888,
          -4.2231955999999995,
          6.5287724,
          9.126619999999999,
          -2.0936694,
          2.0379772000000003,
          2.0513011999999997,
          -2.8156447,
          9.399696,
          5.224203,
          11.15138,
          -4.841793,
          -8.67995,
          1.850552,
          6.2983074,
          -2.1978621,
          9.124616,
          -6.1672263,
          13.725178,
          1.7631234,
          0.7157232,
          -1.4995995,
          -0.08172727,
          11.112805,
          -1.4111493,
          8.221717,
          4.92656,
          -3.3571022000000004,
          -8.664717,
          3.6982021,
          -1.0375934000000002,
          -9.460587,
          -2.812395,
          4.1389766,
          -13.161495,
          -16.513853,
          10.707018,
          10.154496,
          -5.213381299999999,
          5.7560444,
          -3.8891814,
          5.9446745000000005,
          -11.80212,
          9.608894,
          9.710258999999999,
          -3.5504515,
          -6.688333500000001,
          -14.846754999999998,
          0.15042903,
          -0.6481001000000001,
          -0.62303483,
          11.800983,
          10.598772,
          -15.267858499999999,
          -14.08315,
          8.420585,
          0.016887143,
          2.338452,
          6.2662992,
          8.958960000000001,
          6.1039257000000005,
          4.2502629999999995,
          12.723559,
          -7.6227026,
          -3.3460236000000005,
          -2.1632085,
          -8.80344,
          -7.0182853000000005,
          -7.888539999999999,
          -8.016648,
          9.421077,
          7.233871499999999,
          2.7109463,
          9.162555000000001,
          3.1172695,
          5.198809,
          0.034879927000000005,
          3.8782184,
          8.3298855,
          4.9104133,
          2.457509,
          6.269604,
          -1.3530474,
          4.361028,
          -4.6878557,
          11.637395,
          7.2824535,
          -5.9070434999999994,
          3.6640153,
          -4.3681209999999995,
          -10.012732000000002
         ],
         "z": [
          0.2689458,
          3.5934660000000003,
          -8.296335000000001,
          3.341908,
          -8.91312,
          5.2602515,
          -6.151547,
          4.895208,
          3.9830687000000005,
          -6.751777000000001,
          -1.5294266,
          -7.1512556,
          -6.541481,
          -0.038172625,
          -3.5661395,
          -6.883089999999999,
          8.450289999999999,
          5.233112,
          -12.106160000000001,
          5.5819087,
          2.1212522999999996,
          8.095858,
          10.177537,
          -3.4641876000000003,
          -12.264732,
          3.172862,
          -4.654599,
          -5.8598504,
          1.5254642,
          10.088838,
          10.680136,
          8.949436,
          3.391547,
          -3.3675191,
          -9.875328999999999,
          0.3136792,
          4.623823000000001,
          -2.4826558,
          4.880040599999999,
          4.2089099999999995,
          -5.085837000000001,
          14.795485000000001,
          -7.075996000000001,
          9.529312,
          4.123998,
          6.863131,
          -7.145357000000001,
          2.0994704,
          7.095159,
          7.2024345,
          7.525852,
          -14.23049,
          -8.405991,
          -7.0223527,
          0.107833266,
          -2.671494,
          -15.164056,
          3.3648087999999996,
          9.486350999999999,
          -6.2872605,
          4.2850556,
          -1.793296,
          1.9787803,
          2.3671954,
          -1.7256898999999997,
          -9.07911,
          0.6556561,
          -13.266404000000001,
          -5.9693775,
          3.9279501000000003,
          -13.03026,
          -14.682853,
          -7.6987114000000005,
          1.0736536,
          1.0108889,
          -0.035676785,
          -1.7353052,
          2.7856116,
          2.2625997000000004,
          5.0100055,
          1.7885138999999999,
          -15.354000000000001,
          -3.944862,
          7.8546395,
          -2.1735889999999998,
          4.7465487,
          6.322449,
          3.8660016,
          -9.298967,
          -1.1989903,
          -4.5520096,
          7.2526193,
          -1.89295,
          1.5249093,
          3.8002398,
          -6.702274000000001,
          1.7931409,
          -10.458416999999999,
          -8.461828,
          1.7075789000000001,
          5.124529,
          5.091876,
          -0.8073991999999999,
          -3.4243827000000007,
          -5.657177,
          -2.9544346000000004,
          1.3146126,
          -5.13579,
          5.0711026,
          -10.742256,
          -7.579293700000001,
          -2.9696507000000003,
          9.241938000000001,
          -6.0420739999999995,
          6.1921363,
          -2.7763882,
          6.6716375,
          11.332359,
          11.600693,
          -0.79272264,
          -1.6813143,
          3.7740233,
          5.578001,
          -6.02451,
          1.2389268999999998,
          4.3686357000000005,
          3.9929282999999995,
          -10.709545,
          -10.250117,
          -4.289647,
          8.483231,
          -6.0034575,
          -8.6666565,
          -0.10659210000000001,
          -1.4331446,
          -11.603776,
          -5.2242737,
          0.88357884,
          -3.2848306000000003,
          10.313183,
          -1.5775498,
          -1.1238848999999997,
          -3.2503881000000003,
          8.432209,
          2.8152068,
          1.8094754000000002,
          -16.332639999999998,
          -0.32793979999999995,
          -11.323801,
          9.949481,
          -4.2518764000000004,
          -5.4023786,
          4.497878,
          0.47025153,
          5.567277,
          6.1611237999999995,
          -9.834914,
          -1.9925215,
          9.374417,
          8.224148,
          -3.8021578999999996,
          3.5389369,
          -0.48734272,
          -12.698545,
          1.8460811000000001,
          6.566662299999999,
          -0.9481255999999999,
          -5.744408999999999,
          7.342167,
          -10.214986999999999,
          -2.1064993999999997,
          7.2193130000000005,
          -10.5013075,
          5.666658,
          -0.16025649,
          -10.081607,
          -2.3241775000000002,
          -9.767919000000001,
          -3.6647575,
          5.543754,
          -1.9141854999999999,
          3.7449117,
          -6.2898393,
          1.1236612,
          6.0580387,
          -5.794007,
          4.098358999999999,
          10.896702000000001,
          0.6631090000000001,
          -7.876253599999999,
          9.3894415,
          -6.6347466,
          0.78382057,
          -8.462398,
          -13.142135999999999,
          -7.1455884,
          9.434679,
          -10.895096,
          -6.931501400000001,
          2.3727975,
          -4.8896937000000005,
          -1.5848811999999999,
          2.4954972,
          -4.3622822999999995,
          -3.1868105,
          9.410313,
          -10.778725999999999,
          10.458188999999999,
          -6.6529983999999995,
          8.026771,
          6.372764599999999,
          1.4374665,
          -13.026197,
          -2.6858244,
          9.367685,
          -15.149904000000001,
          4.136554,
          6.0017123,
          -3.3298513999999995,
          -3.3757787000000006,
          -7.597803999999999,
          6.5496,
          0.11537932,
          10.9236355,
          -6.219069,
          4.563164700000001,
          1.0314176,
          4.111951,
          -7.8934940000000005,
          6.3107815,
          2.5324162999999995,
          0.51817536,
          6.680927799999999,
          -4.666842,
          4.711346,
          -7.335098299999999,
          -5.4987383,
          -6.4443316,
          -4.5791087,
          7.6231375,
          -8.082566,
          -3.1270652,
          2.5673707,
          8.152825,
          -1.7486978,
          -2.5586374,
          -2.4155965,
          14.371847,
          -12.882819999999999,
          -1.1182940000000001,
          2.9209976,
          7.441453,
          -10.26952,
          -4.8246720000000005,
          -2.0468726000000004,
          2.740078,
          -4.855024299999999,
          7.443078999999999,
          -3.0932431,
          5.5355834999999995,
          -13.703294,
          -0.62849855,
          -9.045471000000001,
          1.4401389,
          6.775314999999999,
          -8.899621,
          4.219829,
          4.050171,
          1.6895785,
          5.759398,
          -9.183586,
          8.066469,
          1.0980014,
          2.9423583,
          -0.9323119000000001,
          9.629771,
          2.382038,
          2.5961938,
          -5.425172,
          -1.7292632,
          -1.4694105,
          -2.0295123999999998,
          1.0818305000000001,
          6.5063443,
          6.420503599999999,
          -13.488394,
          1.1231452,
          1.563755,
          8.109077000000001,
          3.8469925000000003,
          -0.084237,
          4.7102265,
          -3.6015542000000003,
          -4.6659904,
          10.334344,
          -1.6520032,
          -8.219284,
          3.2100399,
          7.2589570000000005,
          -2.5519773999999997,
          6.43161,
          -14.793522,
          -12.8585,
          1.6490906000000003,
          -0.5417068,
          -9.728622,
          -15.545173000000002,
          -7.331423299999999,
          -8.885761,
          -4.902678,
          -5.4501777,
          7.343861,
          -1.2699018,
          -10.848151,
          11.540999000000001,
          5.763782,
          12.549444,
          11.502688000000001,
          11.587122,
          5.7776747,
          2.3444946,
          -5.544021,
          -3.2274787,
          2.9321806,
          3.636281,
          7.656409299999999,
          9.218903,
          -6.5364666,
          -4.684266,
          9.264383,
          2.980124,
          6.3990599999999995,
          3.5166576000000003,
          8.631162,
          -1.7605031999999998,
          2.4301133,
          -5.296958,
          -9.510923,
          3.6295693,
          4.8293233,
          5.230835400000001,
          -8.22079,
          4.8671050000000005,
          -6.2197265999999996,
          5.508684,
          5.31801,
          -0.6851369,
          -2.2239902000000003,
          -5.5712943,
          -4.6220837,
          -6.2671660000000005,
          0.30673608,
          6.6692995999999996,
          -14.376584,
          -12.398055000000001,
          -2.7377222000000003,
          0.06699902,
          6.357381,
          -0.9704881,
          -0.4070091,
          -2.412787,
          -3.8846772000000005,
          -9.274378,
          -11.285786,
          -6.2156377,
          0.28430232,
          4.757935,
          9.731309,
          -11.237403,
          -14.016979999999998,
          -5.715187,
          10.840043,
          -14.836269,
          -12.589364999999999,
          11.396955,
          -0.14782864,
          1.6912022,
          -6.255460299999999,
          -1.776547,
          -0.5520999,
          -0.31636375,
          -12.23396,
          -0.45187435,
          0.32276645,
          4.347721599999999,
          -3.6362522000000004,
          1.6135081,
          3.7932165,
          -6.205411,
          -6.2585354,
          3.4521656000000003,
          -8.845607000000001,
          8.112377,
          7.715375,
          4.017203299999999,
          -9.235998,
          -7.712774799999999,
          11.316899000000001,
          -2.9419217,
          1.6270790000000002,
          -7.1696729999999995,
          1.7985326000000001,
          6.7984160000000005,
          4.632917,
          -3.1447694,
          4.6687236,
          3.4863584000000003,
          2.3536105,
          0.21235147,
          -10.625368,
          10.003616000000001,
          1.8472688000000002,
          -1.0680951,
          9.334925,
          -0.4476017,
          7.526350999999999,
          2.9033667999999997,
          1.8393445,
          -3.041147,
          3.7041311,
          -3.8967547,
          -15.374958,
          11.4973,
          4.609389,
          -4.3495913,
          -3.4899730000000004,
          9.472724000000001,
          1.4360708,
          -9.956283,
          8.287243,
          -0.6244033,
          8.925261,
          -3.0097509999999996,
          0.8804584999999999,
          -12.56862,
          -2.5947099,
          4.7451735,
          -9.17648,
          -7.694167599999999,
          4.7443194,
          5.807733,
          -7.8676095,
          2.4323107999999998,
          0.9989173000000001,
          -2.1510724999999997,
          -0.6427438,
          -13.839091,
          -8.555724,
          2.2954261000000002,
          8.403571000000001,
          5.1707635000000005,
          10.221102,
          -2.539666,
          -10.989889,
          -11.118542,
          -2.2204943,
          -13.545535000000001,
          -0.039304666,
          -14.371756,
          -3.1059456,
          3.8178675,
          7.485755999999999,
          5.071918,
          3.7840133000000002,
          -7.572177000000001,
          -0.99309677,
          -16.362303,
          11.470152,
          -0.70581645,
          0.600213,
          -0.09634849,
          -2.986152,
          -1.6934626,
          5.3104190000000004,
          -5.581738,
          -5.454441,
          9.209552,
          -2.8332696,
          -2.7029347,
          -9.904909,
          6.15632,
          1.1557858,
          5.235635299999999,
          3.4996016000000005,
          6.3485427,
          -16.622223,
          4.323289,
          3.2579502999999996,
          -1.119896,
          -11.197058,
          -3.6990485,
          2.9040152999999997,
          6.9856869999999995,
          -2.0684907,
          -2.7306361,
          -7.694423700000001,
          -16.310867000000002,
          -2.2511419999999998,
          3.4779400000000003,
          2.4202387,
          5.1042337,
          -3.5903654,
          -12.452058000000001,
          -8.166416,
          -0.5340364000000001,
          -3.1926474999999996,
          2.466999,
          -1.410185,
          2.8314185000000003,
          -5.871439499999999,
          -10.926156,
          10.808204,
          -9.391013000000001,
          11.298993,
          -4.071594999999999,
          4.1755686,
          -1.7376788,
          -0.13887988,
          -3.3466122000000005,
          7.153403,
          -9.889837,
          -0.65385056,
          -8.778001,
          3.4101586000000004,
          -5.502487,
          -4.0510926,
          -14.384541,
          -1.0764935,
          -3.5502262000000004,
          -4.0759053,
          1.0295941,
          0.73658264,
          0.9748428,
          -3.1607807,
          8.866767999999999,
          1.1411308,
          6.885832000000001,
          -0.22660705,
          11.639101,
          -0.07040956599999999,
          -10.289632000000001,
          -12.674177,
          -2.1880813,
          8.476809,
          5.059527,
          -2.0861783,
          -10.273652,
          -2.5010063999999996,
          3.4643165999999996,
          1.11772,
          -2.8388994,
          8.2442,
          4.218387,
          1.2547262,
          2.808433,
          6.821223700000001,
          -1.4889492,
          0.53983593,
          3.0270572000000002,
          0.80571425,
          -3.6739922,
          2.090607,
          -3.5589367999999997,
          0.9727110000000001,
          5.2954154,
          -7.7019687,
          -1.0217824,
          -11.395961999999999,
          -5.8755517,
          -5.1048417,
          -2.9821641,
          10.671268,
          4.8007846,
          -10.325144,
          -0.7768776999999999,
          1.3097163,
          -0.9696585999999999,
          0.31107529999999994,
          -9.059882,
          2.1780314,
          3.8068855000000004,
          4.543564,
          -3.1770810000000003,
          -2.2804747000000005,
          -6.1345730000000005,
          -2.2176049,
          -4.7543163,
          5.578037999999999,
          -3.889445,
          8.581083,
          -3.2168908,
          -9.627373,
          -2.25996,
          -7.627896000000001,
          0.95866287,
          7.026131599999999,
          -7.796669500000001,
          -0.39939317,
          8.060165,
          -8.115811,
          7.119463400000001,
          -4.6307917000000005,
          3.4042594,
          8.926591,
          7.7753916,
          6.810971,
          -5.3805504,
          2.249487,
          -11.242397,
          8.169547,
          -10.551200999999999,
          -2.6023257,
          6.2324853,
          9.928087,
          -1.7910738000000002,
          2.0307183,
          -0.7018181,
          -4.403893,
          -9.985914999999999,
          -6.8008633000000005,
          -15.250589000000002,
          8.412026,
          0.26499593,
          2.127368,
          -4.554386599999999,
          -3.2999983,
          -0.6489375,
          6.6662507,
          -8.7276,
          -1.1155962,
          8.623908,
          -1.8356245,
          4.916375,
          6.472703,
          -5.2228346,
          0.58475465,
          2.0616202,
          -8.676393,
          8.009035,
          0.7123865,
          -8.637408,
          -1.4229261,
          -9.825924,
          -6.2708273000000005,
          -4.655162000000001,
          3.7864785000000003,
          -11.379009,
          2.3013687000000003,
          -4.1507309999999995,
          -3.251382,
          1.6638868999999998,
          4.4052773,
          0.018653195,
          4.4455314,
          -3.7318263,
          -9.585058,
          -14.276634,
          6.211698,
          -3.2030833,
          6.3633776,
          -5.512885,
          -6.7386007,
          -2.6967263,
          6.5460362000000005,
          5.4099197,
          -3.3767285000000005,
          8.582821000000001,
          6.288347,
          -3.181911,
          7.655033599999999,
          7.323695699999999,
          1.933774,
          -7.395642,
          9.077917999999999,
          0.6722715,
          -2.7821612,
          -8.1472435,
          -8.1956625,
          3.9040391000000003,
          -2.2150626,
          -10.97259,
          11.463764,
          -2.7342985,
          -7.057809,
          5.3590765,
          2.934701,
          1.5219260000000001,
          -2.1448503,
          2.6078349999999997,
          -2.6058008999999998,
          -4.787086,
          -4.9882197,
          2.776789,
          3.9356837,
          3.9947502999999998,
          -9.370275,
          -4.154021,
          3.3314576000000002,
          -8.958969999999999,
          6.931664,
          -1.1080066000000002,
          4.2824683,
          -4.584645,
          0.47868463,
          -3.0877282999999998,
          6.3427370000000005,
          8.456142,
          10.559821000000001,
          4.7004004,
          0.13804498,
          2.622424,
          0.53458935,
          7.6112589999999996,
          6.789595599999999,
          7.116101700000001,
          3.764528,
          4.468241,
          7.252275999999999,
          -7.1313667,
          -3.7355110000000002,
          4.368488,
          7.507092999999999,
          -5.4687395,
          2.5368892999999995,
          -0.3933034,
          -0.49161196,
          2.7244732000000003,
          -9.178351,
          -1.5009354,
          -13.866875,
          -2.2511945,
          -5.7170362,
          -8.725032,
          2.6303794,
          7.7733803,
          11.073763,
          -6.308143599999999,
          9.382543,
          6.120178,
          -5.849627,
          7.0201035,
          -9.918643,
          -9.2159195,
          8.458487,
          -4.5072529999999995,
          -10.663989,
          -15.898153,
          5.12781,
          6.5885110000000005,
          -11.332073,
          7.688157,
          3.7330885,
          -11.471673,
          10.36162,
          -1.0503811,
          0.56109333,
          -2.2503667000000003,
          -8.237278,
          0.34180304,
          6.5340953,
          7.9210496,
          -10.825075,
          -8.154425,
          8.338593,
          2.1941580000000003,
          7.2163105,
          -0.058911745,
          -5.7927856,
          -9.235577000000001,
          -11.548548,
          3.2450447000000002,
          0.42580673,
          -0.5176433,
          -3.5979059999999996,
          7.1397047,
          -15.639695000000001,
          -13.431892999999999,
          1.9463139999999999,
          -6.7283610000000005,
          6.5023,
          -2.9825785,
          6.734303,
          -5.1398077,
          0.8637658000000001,
          -0.23885132,
          5.604868,
          -9.375266,
          3.2538555000000002,
          1.7276131000000001,
          6.222671,
          6.996485000000001,
          -11.9937315,
          -5.284421400000001,
          5.964624,
          4.369142500000001,
          -13.475069,
          3.1631417,
          8.332314,
          5.004586,
          3.3316480000000004,
          -6.957071000000001,
          -7.037124,
          -5.9206199999999995,
          3.4857383,
          -12.49581,
          3.2713134,
          7.5424213,
          10.197414,
          -6.863263000000001,
          3.6683415999999998,
          1.5781586,
          2.3759851000000003,
          -15.771789000000002,
          13.223248499999999,
          -10.30875,
          1.8680352999999998,
          -13.332056,
          3.6575067000000003,
          4.387618499999999,
          -11.523264,
          -3.965529,
          3.028824,
          0.456517,
          6.07749,
          0.7038310999999999,
          0.40513209,
          3.6801336000000004,
          11.811574,
          0.5869281999999999,
          12.391333,
          7.8217106,
          -10.980179,
          -8.104476,
          -3.754997,
          7.8041205,
          6.385568,
          -8.126013,
          -5.676811,
          -4.638962,
          -0.60136014,
          3.3903182000000003,
          -15.442592000000001,
          2.8956619999999997,
          1.1360161,
          -9.712069,
          -11.102879,
          -0.05729830599999999,
          -1.6252245,
          -4.462148,
          2.1380196,
          0.65694064,
          1.9949414,
          0.32076848,
          2.7908020000000002,
          1.7714777,
          10.589108,
          -9.822435,
          -1.5226886999999998,
          -9.218860000000001,
          -8.810284,
          -0.50984824,
          -5.8151526,
          -1.7731241000000002,
          -0.8971169,
          7.5946183000000005,
          5.905572,
          -9.598882000000001,
          6.882277,
          -3.9357605,
          2.7703187000000002,
          2.888447,
          -5.830563,
          3.4062445,
          9.189627,
          2.6762786,
          2.6811526000000003,
          3.399721,
          -15.174351000000001,
          -11.631458,
          2.5455565,
          8.640041,
          -2.9569520000000002,
          -1.3365498,
          7.2798004,
          2.5422525,
          8.778991,
          -6.1472974,
          -2.0425367,
          4.911529,
          -3.5016835,
          5.8962345,
          3.2721014,
          4.272266,
          -7.661914299999999,
          3.8828142,
          -5.121607,
          4.5285215,
          11.060097,
          -10.030438,
          -8.527254,
          -8.156346000000001,
          -14.223476000000002,
          -2.0069823,
          -14.171135999999999,
          -10.872560499999999,
          -14.994176999999999,
          8.246849000000001,
          5.6587315,
          3.8540379999999996,
          7.3145614000000005,
          7.911792,
          10.336179,
          7.2941365000000005,
          -7.0558467,
          2.04298,
          3.9716160000000005,
          5.699656,
          6.4372735,
          0.010878261,
          1.3801450000000002,
          1.331325,
          -3.9366477,
          -1.444483,
          -2.7978706,
          3.8268687999999993,
          0.52723515,
          -1.8247181000000001,
          -12.428303999999999,
          -8.810345,
          -14.305678,
          -17.336409,
          1.4602030000000001,
          -10.037117,
          -8.180895,
          0.37656435,
          -5.465508,
          -3.8463347000000003,
          7.032814,
          6.9040103,
          -3.3313107000000004,
          7.571729700000001,
          -14.41981,
          -4.175621,
          -3.1011794,
          -10.775786,
          -7.02469,
          -5.293932,
          3.3721106,
          -2.935109,
          1.7041331999999998,
          7.857244000000001,
          1.5766721000000001,
          -16.418165,
          1.8846171999999999,
          3.0605206000000003,
          -4.3065124,
          7.442224,
          -5.524154,
          -2.2380624,
          5.4844594,
          -0.7960225000000001,
          -11.778431,
          3.8169467000000004,
          6.3436193,
          7.987639,
          3.252753,
          -2.2823236000000002,
          4.126183,
          14.221232,
          -7.962743799999999,
          -10.27544,
          4.430255000000001,
          0.5194456000000001,
          2.6482441000000003,
          -9.4575,
          -5.117708,
          2.962483,
          -1.3864657,
          2.4205825,
          -1.6378453000000002,
          2.926703,
          0.23391938,
          -3.2047205,
          -9.470538000000001,
          2.1923234000000003,
          0.9022648000000001,
          10.738137,
          6.2208815,
          4.8464746,
          -11.683262,
          9.239694,
          -1.9676652,
          0.88385653,
          -9.119703,
          -4.545529,
          -7.0353330000000005,
          4.608196700000001,
          1.7280901999999998,
          -6.511865,
          5.0125947,
          4.77189,
          -3.7907631,
          12.762286,
          10.963595,
          -7.9446754,
          -0.96329343,
          -5.052209400000001,
          -13.862339000000002,
          2.2850912,
          -12.023296,
          -9.081566,
          6.845045,
          2.9743378,
          -0.7506838,
          5.553535,
          -1.1689597,
          0.19168992,
          10.082825999999999,
          9.944827,
          -8.118088,
          -7.635638,
          5.7796283,
          9.594648,
          -0.98745906,
          -4.322718599999999,
          -13.061739,
          -1.5805078000000001,
          6.157701,
          5.0364804,
          2.116391,
          -10.937403,
          -5.069416,
          1.2625613000000002,
          -1.7128141,
          -8.170701,
          0.005573703,
          -2.001691,
          7.846814599999999,
          4.9632515999999995,
          5.716977,
          6.734417999999999,
          0.15480363,
          2.7236748,
          4.834938,
          -4.659733,
          -4.2681546,
          -14.188115,
          -3.2840958,
          3.4636492999999997,
          3.1062012,
          2.4168448,
          1.8829334,
          8.403354,
          -7.310658,
          0.81535023,
          -0.65375197,
          -11.413506,
          -8.155104,
          12.316195,
          -6.9820213,
          5.9830955999999995,
          4.973965,
          4.591035400000001,
          -1.5649283999999999,
          -3.8847682,
          5.400665,
          -1.1364391999999999,
          13.846309,
          1.9812806,
          -0.32149044,
          -9.664436,
          -6.285638,
          8.962216999999999,
          -4.65125,
          5.1876707,
          12.418465,
          6.536316,
          3.1133897,
          -14.034619000000001,
          4.118211,
          -6.4656234,
          -13.999689000000002,
          9.150298,
          7.453334,
          -5.05548,
          4.0922813,
          -11.542964999999999,
          -0.9455368000000001,
          -16.360632,
          -5.0405293,
          3.6987257000000007,
          -10.140927,
          0.674586,
          -11.181986,
          -14.192307999999999,
          0.86778367,
          -12.313575,
          8.779012,
          8.62227,
          -0.30418137,
          -9.707369,
          -9.723367999999999,
          6.483721,
          8.094658,
          -5.3659105,
          -2.466883,
          -2.065929,
          4.295828299999999,
          -12.396499,
          6.856965,
          -3.2210952999999996,
          1.577605,
          -3.242788,
          6.5012794000000005,
          -3.9289032999999995,
          -13.059857000000001,
          5.938599,
          -11.29628,
          -6.1222825,
          -0.5821851,
          9.497271000000001,
          -7.092392,
          2.0090983000000002,
          2.1482942000000005,
          -9.7548685,
          -16.162172,
          3.0423486,
          5.6560516,
          -9.86765,
          1.9156689999999998,
          -1.8366745999999998,
          10.239083,
          -4.727089,
          3.4068153,
          -9.24306,
          3.8956807,
          2.88762,
          -1.0271837,
          -1.0849718000000002,
          2.645556,
          10.470763,
          2.5362468,
          -3.6181035,
          -10.039952,
          -0.9769405999999999,
          -5.2893989999999995,
          5.141038,
          -1.6271465,
          0.7566489000000001,
          0.12413473,
          1.0157799,
          -10.038755,
          5.47891,
          -4.872586,
          -13.248987,
          1.6934238999999998,
          7.002432300000001,
          1.8239118000000003,
          -10.368528,
          1.3194786,
          -12.018171,
          -9.618538000000001,
          5.066884,
          5.234844,
          3.3290787,
          1.4019438999999998,
          4.6283135,
          -5.3870378,
          1.906859,
          5.0423017,
          0.34678018,
          -2.2858918,
          -7.788597,
          -8.866795,
          9.613485,
          -7.529433,
          -3.8459003,
          3.173364,
          4.745957,
          -5.741907599999999,
          7.4789023,
          -2.3434122000000004,
          4.849533999999999,
          -11.039480000000001,
          -0.20790094,
          0.37925446,
          -4.271767,
          -3.8448284,
          1.5746556999999999,
          1.9315732,
          -1.2342703000000002,
          -13.414204999999999,
          -0.5399514,
          -10.136969,
          -6.994353299999999,
          -13.025624,
          -14.448872,
          -0.53559977,
          -8.722583,
          9.385553,
          -3.3812613,
          -8.434602,
          -7.779886,
          -0.44039524,
          3.9766805,
          6.4523296,
          -0.33808827,
          8.620229,
          5.028534400000001,
          4.023328,
          7.9744363,
          -7.741202400000001,
          1.0245035,
          -8.963694,
          -5.115931,
          -4.479366000000001,
          -5.00384,
          -12.184194999999999,
          -11.459174,
          -2.4452388,
          -2.5665932000000002,
          -14.945185,
          5.2111645,
          0.10258125,
          1.3953745000000002,
          1.8699093999999998
         ]
        }
       ],
       "layout": {
        "autosize": true,
        "legend": {
         "title": {
          "text": "drum_type"
         },
         "tracegroupgap": 0,
         "x": 0.01,
         "xanchor": "right",
         "y": 0.99,
         "yanchor": "top"
        },
        "margin": {
         "b": 0,
         "l": 0,
         "r": 0,
         "t": 0
        },
        "scene": {
         "aspectmode": "cube",
         "aspectratio": {
          "x": 1,
          "y": 1,
          "z": 1
         },
         "camera": {
          "eye": {
           "x": 1,
           "y": -1,
           "z": -1
          }
         },
         "domain": {
          "x": [
           0,
           1
          ],
          "y": [
           0,
           1
          ]
         },
         "xaxis": {
          "title": {
           "text": "D1"
          },
          "type": "linear"
         },
         "yaxis": {
          "title": {
           "text": "D2"
          },
          "type": "linear"
         },
         "zaxis": {
          "title": {
           "text": "D3"
          },
          "type": "linear"
         }
        },
        "showlegend": false,
        "template": {
         "data": {
          "bar": [
           {
            "error_x": {
             "color": "#2a3f5f"
            },
            "error_y": {
             "color": "#2a3f5f"
            },
            "marker": {
             "line": {
              "color": "#E5ECF6",
              "width": 0.5
             }
            },
            "type": "bar"
           }
          ],
          "barpolar": [
           {
            "marker": {
             "line": {
              "color": "#E5ECF6",
              "width": 0.5
             }
            },
            "type": "barpolar"
           }
          ],
          "carpet": [
           {
            "aaxis": {
             "endlinecolor": "#2a3f5f",
             "gridcolor": "white",
             "linecolor": "white",
             "minorgridcolor": "white",
             "startlinecolor": "#2a3f5f"
            },
            "baxis": {
             "endlinecolor": "#2a3f5f",
             "gridcolor": "white",
             "linecolor": "white",
             "minorgridcolor": "white",
             "startlinecolor": "#2a3f5f"
            },
            "type": "carpet"
           }
          ],
          "choropleth": [
           {
            "colorbar": {
             "outlinewidth": 0,
             "ticks": ""
            },
            "type": "choropleth"
           }
          ],
          "contour": [
           {
            "colorbar": {
             "outlinewidth": 0,
             "ticks": ""
            },
            "colorscale": [
             [
              0,
              "#0d0887"
             ],
             [
              0.1111111111111111,
              "#46039f"
             ],
             [
              0.2222222222222222,
              "#7201a8"
             ],
             [
              0.3333333333333333,
              "#9c179e"
             ],
             [
              0.4444444444444444,
              "#bd3786"
             ],
             [
              0.5555555555555556,
              "#d8576b"
             ],
             [
              0.6666666666666666,
              "#ed7953"
             ],
             [
              0.7777777777777778,
              "#fb9f3a"
             ],
             [
              0.8888888888888888,
              "#fdca26"
             ],
             [
              1,
              "#f0f921"
             ]
            ],
            "type": "contour"
           }
          ],
          "contourcarpet": [
           {
            "colorbar": {
             "outlinewidth": 0,
             "ticks": ""
            },
            "type": "contourcarpet"
           }
          ],
          "heatmap": [
           {
            "colorbar": {
             "outlinewidth": 0,
             "ticks": ""
            },
            "colorscale": [
             [
              0,
              "#0d0887"
             ],
             [
              0.1111111111111111,
              "#46039f"
             ],
             [
              0.2222222222222222,
              "#7201a8"
             ],
             [
              0.3333333333333333,
              "#9c179e"
             ],
             [
              0.4444444444444444,
              "#bd3786"
             ],
             [
              0.5555555555555556,
              "#d8576b"
             ],
             [
              0.6666666666666666,
              "#ed7953"
             ],
             [
              0.7777777777777778,
              "#fb9f3a"
             ],
             [
              0.8888888888888888,
              "#fdca26"
             ],
             [
              1,
              "#f0f921"
             ]
            ],
            "type": "heatmap"
           }
          ],
          "heatmapgl": [
           {
            "colorbar": {
             "outlinewidth": 0,
             "ticks": ""
            },
            "colorscale": [
             [
              0,
              "#0d0887"
             ],
             [
              0.1111111111111111,
              "#46039f"
             ],
             [
              0.2222222222222222,
              "#7201a8"
             ],
             [
              0.3333333333333333,
              "#9c179e"
             ],
             [
              0.4444444444444444,
              "#bd3786"
             ],
             [
              0.5555555555555556,
              "#d8576b"
             ],
             [
              0.6666666666666666,
              "#ed7953"
             ],
             [
              0.7777777777777778,
              "#fb9f3a"
             ],
             [
              0.8888888888888888,
              "#fdca26"
             ],
             [
              1,
              "#f0f921"
             ]
            ],
            "type": "heatmapgl"
           }
          ],
          "histogram": [
           {
            "marker": {
             "colorbar": {
              "outlinewidth": 0,
              "ticks": ""
             }
            },
            "type": "histogram"
           }
          ],
          "histogram2d": [
           {
            "colorbar": {
             "outlinewidth": 0,
             "ticks": ""
            },
            "colorscale": [
             [
              0,
              "#0d0887"
             ],
             [
              0.1111111111111111,
              "#46039f"
             ],
             [
              0.2222222222222222,
              "#7201a8"
             ],
             [
              0.3333333333333333,
              "#9c179e"
             ],
             [
              0.4444444444444444,
              "#bd3786"
             ],
             [
              0.5555555555555556,
              "#d8576b"
             ],
             [
              0.6666666666666666,
              "#ed7953"
             ],
             [
              0.7777777777777778,
              "#fb9f3a"
             ],
             [
              0.8888888888888888,
              "#fdca26"
             ],
             [
              1,
              "#f0f921"
             ]
            ],
            "type": "histogram2d"
           }
          ],
          "histogram2dcontour": [
           {
            "colorbar": {
             "outlinewidth": 0,
             "ticks": ""
            },
            "colorscale": [
             [
              0,
              "#0d0887"
             ],
             [
              0.1111111111111111,
              "#46039f"
             ],
             [
              0.2222222222222222,
              "#7201a8"
             ],
             [
              0.3333333333333333,
              "#9c179e"
             ],
             [
              0.4444444444444444,
              "#bd3786"
             ],
             [
              0.5555555555555556,
              "#d8576b"
             ],
             [
              0.6666666666666666,
              "#ed7953"
             ],
             [
              0.7777777777777778,
              "#fb9f3a"
             ],
             [
              0.8888888888888888,
              "#fdca26"
             ],
             [
              1,
              "#f0f921"
             ]
            ],
            "type": "histogram2dcontour"
           }
          ],
          "mesh3d": [
           {
            "colorbar": {
             "outlinewidth": 0,
             "ticks": ""
            },
            "type": "mesh3d"
           }
          ],
          "parcoords": [
           {
            "line": {
             "colorbar": {
              "outlinewidth": 0,
              "ticks": ""
             }
            },
            "type": "parcoords"
           }
          ],
          "pie": [
           {
            "automargin": true,
            "type": "pie"
           }
          ],
          "scatter": [
           {
            "marker": {
             "colorbar": {
              "outlinewidth": 0,
              "ticks": ""
             }
            },
            "type": "scatter"
           }
          ],
          "scatter3d": [
           {
            "line": {
             "colorbar": {
              "outlinewidth": 0,
              "ticks": ""
             }
            },
            "marker": {
             "colorbar": {
              "outlinewidth": 0,
              "ticks": ""
             }
            },
            "type": "scatter3d"
           }
          ],
          "scattercarpet": [
           {
            "marker": {
             "colorbar": {
              "outlinewidth": 0,
              "ticks": ""
             }
            },
            "type": "scattercarpet"
           }
          ],
          "scattergeo": [
           {
            "marker": {
             "colorbar": {
              "outlinewidth": 0,
              "ticks": ""
             }
            },
            "type": "scattergeo"
           }
          ],
          "scattergl": [
           {
            "marker": {
             "colorbar": {
              "outlinewidth": 0,
              "ticks": ""
             }
            },
            "type": "scattergl"
           }
          ],
          "scattermapbox": [
           {
            "marker": {
             "colorbar": {
              "outlinewidth": 0,
              "ticks": ""
             }
            },
            "type": "scattermapbox"
           }
          ],
          "scatterpolar": [
           {
            "marker": {
             "colorbar": {
              "outlinewidth": 0,
              "ticks": ""
             }
            },
            "type": "scatterpolar"
           }
          ],
          "scatterpolargl": [
           {
            "marker": {
             "colorbar": {
              "outlinewidth": 0,
              "ticks": ""
             }
            },
            "type": "scatterpolargl"
           }
          ],
          "scatterternary": [
           {
            "marker": {
             "colorbar": {
              "outlinewidth": 0,
              "ticks": ""
             }
            },
            "type": "scatterternary"
           }
          ],
          "surface": [
           {
            "colorbar": {
             "outlinewidth": 0,
             "ticks": ""
            },
            "colorscale": [
             [
              0,
              "#0d0887"
             ],
             [
              0.1111111111111111,
              "#46039f"
             ],
             [
              0.2222222222222222,
              "#7201a8"
             ],
             [
              0.3333333333333333,
              "#9c179e"
             ],
             [
              0.4444444444444444,
              "#bd3786"
             ],
             [
              0.5555555555555556,
              "#d8576b"
             ],
             [
              0.6666666666666666,
              "#ed7953"
             ],
             [
              0.7777777777777778,
              "#fb9f3a"
             ],
             [
              0.8888888888888888,
              "#fdca26"
             ],
             [
              1,
              "#f0f921"
             ]
            ],
            "type": "surface"
           }
          ],
          "table": [
           {
            "cells": {
             "fill": {
              "color": "#EBF0F8"
             },
             "line": {
              "color": "white"
             }
            },
            "header": {
             "fill": {
              "color": "#C8D4E3"
             },
             "line": {
              "color": "white"
             }
            },
            "type": "table"
           }
          ]
         },
         "layout": {
          "annotationdefaults": {
           "arrowcolor": "#2a3f5f",
           "arrowhead": 0,
           "arrowwidth": 1
          },
          "coloraxis": {
           "colorbar": {
            "outlinewidth": 0,
            "ticks": ""
           }
          },
          "colorscale": {
           "diverging": [
            [
             0,
             "#8e0152"
            ],
            [
             0.1,
             "#c51b7d"
            ],
            [
             0.2,
             "#de77ae"
            ],
            [
             0.3,
             "#f1b6da"
            ],
            [
             0.4,
             "#fde0ef"
            ],
            [
             0.5,
             "#f7f7f7"
            ],
            [
             0.6,
             "#e6f5d0"
            ],
            [
             0.7,
             "#b8e186"
            ],
            [
             0.8,
             "#7fbc41"
            ],
            [
             0.9,
             "#4d9221"
            ],
            [
             1,
             "#276419"
            ]
           ],
           "sequential": [
            [
             0,
             "#0d0887"
            ],
            [
             0.1111111111111111,
             "#46039f"
            ],
            [
             0.2222222222222222,
             "#7201a8"
            ],
            [
             0.3333333333333333,
             "#9c179e"
            ],
            [
             0.4444444444444444,
             "#bd3786"
            ],
            [
             0.5555555555555556,
             "#d8576b"
            ],
            [
             0.6666666666666666,
             "#ed7953"
            ],
            [
             0.7777777777777778,
             "#fb9f3a"
            ],
            [
             0.8888888888888888,
             "#fdca26"
            ],
            [
             1,
             "#f0f921"
            ]
           ],
           "sequentialminus": [
            [
             0,
             "#0d0887"
            ],
            [
             0.1111111111111111,
             "#46039f"
            ],
            [
             0.2222222222222222,
             "#7201a8"
            ],
            [
             0.3333333333333333,
             "#9c179e"
            ],
            [
             0.4444444444444444,
             "#bd3786"
            ],
            [
             0.5555555555555556,
             "#d8576b"
            ],
            [
             0.6666666666666666,
             "#ed7953"
            ],
            [
             0.7777777777777778,
             "#fb9f3a"
            ],
            [
             0.8888888888888888,
             "#fdca26"
            ],
            [
             1,
             "#f0f921"
            ]
           ]
          },
          "colorway": [
           "#636efa",
           "#EF553B",
           "#00cc96",
           "#ab63fa",
           "#FFA15A",
           "#19d3f3",
           "#FF6692",
           "#B6E880",
           "#FF97FF",
           "#FECB52"
          ],
          "font": {
           "color": "#2a3f5f"
          },
          "geo": {
           "bgcolor": "white",
           "lakecolor": "white",
           "landcolor": "#E5ECF6",
           "showlakes": true,
           "showland": true,
           "subunitcolor": "white"
          },
          "hoverlabel": {
           "align": "left"
          },
          "hovermode": "closest",
          "mapbox": {
           "style": "light"
          },
          "paper_bgcolor": "white",
          "plot_bgcolor": "#E5ECF6",
          "polar": {
           "angularaxis": {
            "gridcolor": "white",
            "linecolor": "white",
            "ticks": ""
           },
           "bgcolor": "#E5ECF6",
           "radialaxis": {
            "gridcolor": "white",
            "linecolor": "white",
            "ticks": ""
           }
          },
          "scene": {
           "xaxis": {
            "backgroundcolor": "#E5ECF6",
            "gridcolor": "white",
            "gridwidth": 2,
            "linecolor": "white",
            "showbackground": true,
            "ticks": "",
            "zerolinecolor": "white"
           },
           "yaxis": {
            "backgroundcolor": "#E5ECF6",
            "gridcolor": "white",
            "gridwidth": 2,
            "linecolor": "white",
            "showbackground": true,
            "ticks": "",
            "zerolinecolor": "white"
           },
           "zaxis": {
            "backgroundcolor": "#E5ECF6",
            "gridcolor": "white",
            "gridwidth": 2,
            "linecolor": "white",
            "showbackground": true,
            "ticks": "",
            "zerolinecolor": "white"
           }
          },
          "shapedefaults": {
           "line": {
            "color": "#2a3f5f"
           }
          },
          "ternary": {
           "aaxis": {
            "gridcolor": "white",
            "linecolor": "white",
            "ticks": ""
           },
           "baxis": {
            "gridcolor": "white",
            "linecolor": "white",
            "ticks": ""
           },
           "bgcolor": "#E5ECF6",
           "caxis": {
            "gridcolor": "white",
            "linecolor": "white",
            "ticks": ""
           }
          },
          "title": {
           "x": 0.05
          },
          "xaxis": {
           "automargin": true,
           "gridcolor": "white",
           "linecolor": "white",
           "ticks": "",
           "title": {
            "standoff": 15
           },
           "zerolinecolor": "white",
           "zerolinewidth": 2
          },
          "yaxis": {
           "automargin": true,
           "gridcolor": "white",
           "linecolor": "white",
           "ticks": "",
           "title": {
            "standoff": 15
           },
           "zerolinecolor": "white",
           "zerolinewidth": 2
          }
         }
        }
       }
      },
      "image/png": "[encoded data removed]",
      "text/html": [
       "<div>\n",
       "        \n",
       "        \n",
       "            <div id=\"cd43ecdc-f41c-430e-8970-14d13fbce358\" class=\"plotly-graph-div\" style=\"height:525px; width:100%;\"></div>\n",
       "            <script type=\"text/javascript\">\n",
       "                require([\"plotly\"], function(Plotly) {\n",
       "                    window.PLOTLYENV=window.PLOTLYENV || {};\n",
       "                    \n",
       "                if (document.getElementById(\"cd43ecdc-f41c-430e-8970-14d13fbce358\")) {\n",
       "                    Plotly.newPlot(\n",
       "                        'cd43ecdc-f41c-430e-8970-14d13fbce358',\n",
       "                        [{\"customdata\": [[\"./dk_data/tom_high/Roland Tr-909-TR-909Tom Hi 01.wav\"], [\"./dk_data/tom_high/Kawai R50e-R50eTomA_Hi.wav\"], [\"./dk_data/tom_high/Vermona Drum-MaxV - Tom Hi.wav\"], [\"./dk_data/tom_high/Kawai R50-R50 TomH.wav\"], [\"./dk_data/tom_high/Alesis Hr16-MaxV - HR16 10-DBL TOM.wav\"], [\"./dk_data/tom_high/Yamaha RX21-RX21Tom_Hi.wav\"], [\"./dk_data/tom_high/Alesis DM5-DM5Tom03_Hi.wav\"], [\"./dk_data/tom_high/Yamaha SY22-Tom2elsy45.wav\"], [\"./dk_data/tom_high/mercure_drums-gd-tom1.wav\"], [\"./dk_data/tom_high/Emu Drumulator-DrumulatorTom03.wav\"], [\"./dk_data/tom_high/Kawai r-50-MaxV - RTOMHREV.wav\"], [\"./dk_data/tom_high/Alesis DM5-DM5Tom04_Hi.wav\"], [\"./dk_data/tom_high/Sequential Tom-TOMTom_Hi.wav\"], [\"./dk_data/tom_high/Emu Drumulator-DrumulatorTom02.wav\"], [\"./dk_data/tom_high/Roland Tr-606-TR606TomHi05.wav\"], [\"./dk_data/tom_high/Akai Mpc60-MaxV - Tom High.wav\"], [\"./dk_data/tom_high/Coron Drum Synce DS-7-coron-ds7-tom7.wav\"], [\"./dk_data/tom_high/Roland Tr-909-TR-909Tom Hi 02.wav\"], [\"./dk_data/tom_high/Sequential DrumTraks Tom-MaxV - Tom Hi.wav\"], [\"./dk_data/tom_high/Boss DR-202-202tom01.wav\"], [\"./dk_data/tom_high/Coron Drum Synce DS-7-coron-ds7-tom5.wav\"], [\"./dk_data/tom_high/Roland Tr-606-TR606TomHi_OD.wav\"], [\"./dk_data/tom_high/Roland MC303-MaxV - Achitom2.wav\"], [\"./dk_data/tom_high/Alesis Hr16-HR16Tom02.wav\"], [\"./dk_data/tom_high/Roland Tr-606-MaxV - Roland Tr-606 - Tom-Hi.wav\"], [\"./dk_data/tom_high/Alesis DM5-DM5Tom02_Hi.wav\"], [\"./dk_data/tom_high/Akai XR10-XR10HiTom03.wav\"], [\"./dk_data/tom_high/Alesis DM5-DM5Tom01_Hi.wav\"], [\"./dk_data/tom_high/AKAI XE-8-MaxV - XE8 Tom High int_12.wav\"], [\"./dk_data/tom_high/Fricke MFB 512-MaxV - Tom High.wav\"], [\"./dk_data/tom_high/Kawai r-50-MaxV - ATOMSDGA.wav\"]], \"hovertemplate\": \"drum_type=tom_high<br>D1=%{x}<br>D2=%{y}<br>D3=%{z}<br>path=%{customdata[0]}<extra></extra>\", \"legendgroup\": \"tom_high\", \"marker\": {\"color\": \"#2E91E5\", \"line\": {\"color\": \"DarkSlateGrey\", \"width\": 0}, \"size\": 8, \"symbol\": \"circle\"}, \"mode\": \"markers\", \"name\": \"tom_high\", \"scene\": \"scene\", \"showlegend\": true, \"type\": \"scatter3d\", \"x\": [19.722033, 18.804049, 6.3223133, 15.8800125, 16.978023999999998, 18.582457, 14.781610500000001, 17.12831, 20.28966, -7.7262383, 18.847153, 15.197134, 15.786109, 14.853873000000002, 17.681147, 17.254414, -14.869064000000002, 10.361419999999999, 15.533519, 8.646336, -13.763152, 19.408707, 19.110216, 18.041045999999998, 17.815834, 17.077254999999997, 16.94205, 16.149714000000003, 15.838669, 17.324438, 16.71549], \"y\": [-1.9588776999999997, -3.264532, -10.138191, 7.086740499999999, -3.7842872000000005, -3.3941522000000006, -1.216827, 5.645736, -2.598214, 1.5844989999999999, -1.7524950000000001, 0.44690737, -5.021056, -1.0360129999999999, -8.544791, 3.4135947, 8.226868, -3.588247, -3.1121863999999997, -7.2795863, -1.3651937, 0.8140098000000001, 2.5435543, 1.7458907, -8.540393, -1.8465245, 2.9402142, -8.740514, -1.5645425, -4.800423, 2.9438264], \"z\": [1.8199376, -0.7455913000000001, 2.249767, -6.3474236, 2.3625287999999998, 3.6557157, 8.514452, 6.452076, 4.1850796, -10.727784, -0.31160134, 6.551057, 7.680136999999999, 6.9022464999999995, -0.30451235, 4.186451, 5.506343, 9.841268, 7.3091173, 2.7822697, -8.626458, 2.7998466, 2.2522237, 5.514638400000001, 1.4555001, 3.8619642, 2.5281103, 1.7877693, 6.056585, 4.3716803, -1.2035314]}, {\"customdata\": [[\"./dk_data/tom_low/Visco Space drums-MaxV - Tom Lo.wav\"], [\"./dk_data/tom_low/Yamaha RX-11-MaxV - RX11 TOM3.wav\"], [\"./dk_data/tom_low/Korg DDM110-Ddm110Tom_Lo.wav\"], [\"./dk_data/tom_low/Linn Drum LM1-tom6.wav\"], [\"./dk_data/tom_low/Alesis DM5-DM5Tom10_Lo.wav\"], [\"./dk_data/tom_low/Akai Mpc60-MaxV - Tom Low 2.wav\"], [\"./dk_data/tom_low/Linn Drum LM1-tom1.wav\"], [\"./dk_data/tom_low/Roland R-8-R8Tom35.wav\"], [\"./dk_data/tom_low/Alesis DM5-DM5Tom12_Lo.wav\"], [\"./dk_data/tom_low/Roland SH-09-MaxV - stompbass4.wav\"], [\"./dk_data/tom_low/Roland R-8-R8Tom27.wav\"], [\"./dk_data/tom_low/Fairlight IIx-MaxV - DeepTom.wav\"], [\"./dk_data/tom_low/Roland Tr-606-TR606TomLo02.wav\"], [\"./dk_data/tom_low/Akai XR10-XR10LoTom03.wav\"], [\"./dk_data/tom_low/Roland JD-990-MaxV - RIM-TOM4.wav\"], [\"./dk_data/tom_low/Suzuki RPM-40-MaxV - Tom.wav\"], [\"./dk_data/tom_low/Linn Drum LM2-Linn lo tom.wav\"], [\"./dk_data/tom_low/Korg MS-20-MaxV - TomLo.wav\"], [\"./dk_data/tom_low/Alesis DM5-DM5Tom01_Lo.wav\"], [\"./dk_data/tom_low/Kurzweil K2000 ROM-MaxV - lotom.wav\"], [\"./dk_data/tom_low/Alesis DM5-DM5Tom20_Lo.wav\"], [\"./dk_data/tom_low/Virtual MPC Electronics-MaxV - Tom.wav\"], [\"./dk_data/tom_low/Alesis DM5-DM5Tom18_Lo.wav\"], [\"./dk_data/tom_low/Alesis DM5-DM5Tom05_Lo.wav\"], [\"./dk_data/tom_low/Roland R-5-R-5 Room Ambient Tom 1.wav\"], [\"./dk_data/tom_low/DPM-48-TOM3.wav\"], [\"./dk_data/tom_low/Kawai r-50-MaxV - ETOMLR50.wav\"], [\"./dk_data/tom_low/Akai XR10-XR10LoTom04.wav\"], [\"./dk_data/tom_low/Roland Tr-606-TR606TomLo_OD.wav\"], [\"./dk_data/tom_low/Yamaha MR10-MR10Tom_Lo.wav\"], [\"./dk_data/tom_low/Roland R-8-R8Tom16.wav\"], [\"./dk_data/tom_low/Kawai XD5-XD5TomLo.wav\"], [\"./dk_data/tom_low/Simmons SDS5-SDSTomE2.wav\"], [\"./dk_data/tom_low/Boss DR-202-202tom06.wav\"], [\"./dk_data/tom_low/Yamaha RX21-RX21Tom_Lo.wav\"], [\"./dk_data/tom_low/Roland R-8-R8Tom19.wav\"], [\"./dk_data/tom_low/Emu Drumulator-DrumulatorETomLo.wav\"]], \"hovertemplate\": \"drum_type=tom_low<br>D1=%{x}<br>D2=%{y}<br>D3=%{z}<br>path=%{customdata[0]}<extra></extra>\", \"legendgroup\": \"tom_low\", \"marker\": {\"color\": \"#E15F99\", \"line\": {\"color\": \"DarkSlateGrey\", \"width\": 0}, \"size\": 8, \"symbol\": \"circle\"}, \"mode\": \"markers\", \"name\": \"tom_low\", \"scene\": \"scene\", \"showlegend\": true, \"type\": \"scatter3d\", \"x\": [11.415589, 11.441424000000001, 12.845717, 19.110115, 13.965582000000001, 15.243335, 18.256204999999998, 14.859928, 15.431134, 10.367918, 11.787411, 7.7803054000000005, 16.663342, 14.86095, 16.1988, 19.775515, 20.28337, 14.906673999999999, 7.576457, 17.1714, 18.034407, 15.098304, 15.387407000000001, 11.868349, 13.409075, 10.752017, 14.57719, 16.137878, 17.169538, 9.097327, 16.659585999999997, 13.353056, 15.581078, 12.971248, 12.622771, 11.993007, 18.600657], \"y\": [-4.992024400000001, -5.037765, -4.1101410000000005, 1.4056075000000001, 0.06281113, -2.3223531000000004, 0.84890205, -0.8508447, 4.568474299999999, -10.856512, -5.549247, -3.565357, -7.497064599999999, 4.9622636, 4.6230720000000005, -3.54524, -3.8843956, 5.703409, -7.397668400000001, -0.4925483, 3.6185777000000003, -5.2243505, 2.8977692000000004, -5.190138, -8.599584, 4.228182299999999, -1.6307931999999998, -3.4677910000000005, 1.5357728000000002, -7.557537599999999, 3.9006479, -1.6699994999999999, 2.6500466, -0.5683534, -5.1257806, -8.148893, 2.6531591], \"z\": [13.728229, 8.946797, 7.634646400000001, 4.017836, 8.892485, 4.4771985999999995, 1.8751804, 3.9992163, 6.557483, -1.8014863, 5.6678667, 11.412436999999999, 2.5709252, 4.8344707, 4.8446794, 0.7987905, 2.4590454, 6.088093, 10.182217, 2.9938667000000003, 5.7847733, 4.9196860000000004, 6.639683, 12.027182, 11.6892, 8.979271, 5.5513096, 4.4517937000000005, 4.372882, 7.8542, 7.860925999999999, 5.3401055, 4.64441, 9.411705, 9.908535, 12.830561, 4.3105345]}, {\"customdata\": [[\"./dk_data/snare/Emu Sp12-big esnare.wav\"], [\"./dk_data/snare/Roland Tr-909-TR-909Snare 17.wav\"], [\"./dk_data/snare/Alesis DM5-DM5Snare095.wav\"], [\"./dk_data/snare/KORG DDD-1-MaxV - DDD1 snare2.wav\"], [\"./dk_data/snare/Roland Tr-808-TR-808Snare11.wav\"], [\"./dk_data/snare/Roland Tr-909-TR-909Snare 26.wav\"], [\"./dk_data/snare/Alesis Hr16-HR16Snare01.wav\"], [\"./dk_data/snare/Alesis DM5-DM5Snare066.wav\"], [\"./dk_data/snare/Roland TR-55-MaxV - Snare.wav\"], [\"./dk_data/snare/Roland JV 1080-MaxV - Snare1.wav\"], [\"./dk_data/snare/Alesis Hr16-HR16Snare06.wav\"], [\"./dk_data/snare/Alesis DM5-DM5Snare016.wav\"], [\"./dk_data/snare/Akai XR10-XR10Snare01.wav\"], [\"./dk_data/snare/MultiMoog-MaxV - Tiny Punch Snare.AIFF\"], [\"./dk_data/snare/mercure_drums-gd-snr3.wav\"], [\"./dk_data/snare/Alesis DM5-DM5Snare082.wav\"], [\"./dk_data/snare/mercure_drums-p-snr1.wav\"], [\"./dk_data/snare/Alesis DM5-DM5Snare055.wav\"], [\"./dk_data/snare/Alesis DM5-DM5Snare084.wav\"], [\"./dk_data/snare/Boss DR-202-202snr27.wav\"], [\"./dk_data/snare/Roland MC09-MC09 Snare10.wav\"], [\"./dk_data/snare/Boss DR-660-DR-660Snare52.wav\"], [\"./dk_data/snare/Roland R-8-R8Snare06.wav\"], [\"./dk_data/snare/Alesis DM5-DM5Snare049.wav\"], [\"./dk_data/snare/MultiMoog-MaxV - FilterSnare.wav\"], [\"./dk_data/snare/Alesis DM5-DM5Snare101.wav\"], [\"./dk_data/snare/Roland Tr-808-TR-808Snare04.wav\"], [\"./dk_data/snare/Lel UDS-MaxV - Snare 1.wav\"], [\"./dk_data/snare/Alesis DM5-DM5Snare069.wav\"], [\"./dk_data/snare/Alesis DM5-DM5Snare109.wav\"], [\"./dk_data/snare/Roland R-8-R8Snare45.wav\"], [\"./dk_data/snare/AKAI XE-8-MaxV - XE8 Snare 3 int_10.wav\"], [\"./dk_data/snare/Boss DR-660-DR-660Snare47.wav\"], [\"./dk_data/snare/Roland R-8-R8Snare36.wav\"], [\"./dk_data/snare/Roland R-8-R8Snare17.wav\"], [\"./dk_data/snare/MultiMoog-MaxV - Vilonter Snare.AIFF\"], [\"./dk_data/snare/Kawai R50e-R50eSnare02.wav\"], [\"./dk_data/snare/Yamaha RY30-RY30Snare02.wav\"], [\"./dk_data/snare/Boss DR-202-202snr48.wav\"], [\"./dk_data/snare/Luxor Passet-MaxV - Snare 2.wav\"], [\"./dk_data/snare/Yamaha RX-5-MaxV - RX5FMSNR.wav\"], [\"./dk_data/snare/KorgMP7-Snare2.wav\"], [\"./dk_data/snare/Roland R-8-R8Snare14.wav\"], [\"./dk_data/snare/mercure_drums-gd-snr6.wav\"], [\"./dk_data/snare/Roland SC-88-MaxV - D2 Standard1 Snare1.wav\"], [\"./dk_data/snare/Boss DR-660-DR-660Snare06.wav\"], [\"./dk_data/snare/Boss DR-660-DR-660Snare07.wav\"], [\"./dk_data/snare/Yamaha RY30-RY30Snare08.wav\"], [\"./dk_data/snare/Boss DR-660-DR-660Snare60.wav\"], [\"./dk_data/snare/Boss DR-660-DR-660Snare28.wav\"], [\"./dk_data/snare/Alesis DM5-DM5Snare087.wav\"], [\"./dk_data/snare/Boss DR-202-202snr46.wav\"], [\"./dk_data/snare/Alesis D4fx-MaxV - Snare 8.wav\"], [\"./dk_data/snare/Roland Tr-909-TR-909Snare 05.wav\"], [\"./dk_data/snare/Alesis Hr16-HR16Snare04.wav\"], [\"./dk_data/snare/Yamaha RY30-RY30Snare11.wav\"], [\"./dk_data/snare/Roland MC09-MC09 Snare02.wav\"], [\"./dk_data/snare/Boss DR-660-DR-660Snare77.wav\"], [\"./dk_data/snare/Boss DR-660-DR-660Snare66.wav\"], [\"./dk_data/snare/Alesis Hr16b-MaxV - Snare 3.wav\"], [\"./dk_data/snare/Boss DR-660-DR-660Snare21.wav\"], [\"./dk_data/snare/Roland Tr-909-TR-909Snare 07.wav\"], [\"./dk_data/snare/Kawai R50e-R50eSnare04.wav\"], [\"./dk_data/snare/Roland Tr-909-TR-909Snare 16.wav\"], [\"./dk_data/snare/Wurlitzer Swinging Rhythm-MaxV - Snare2.wav\"], [\"./dk_data/snare/Alesis DM5-DM5Snare050.wav\"], [\"./dk_data/snare/Boss DR-660-DR-660Snare58.wav\"], [\"./dk_data/snare/Alesis Sr16-SR16Snare09.wav\"], [\"./dk_data/snare/Hammond Rhythm-MaxV - Snare2.wav\"], [\"./dk_data/snare/Alesis DM5-DM5Snare073.wav\"], [\"./dk_data/snare/Boss DR-660-DR-660Snare32.wav\"], [\"./dk_data/snare/Roland R-8-R8Snare08.wav\"], [\"./dk_data/snare/mercure_drums-tt-snr1.wav\"], [\"./dk_data/snare/Alesis DM5-DM5Snare059.wav\"], [\"./dk_data/snare/Oberheim Dmx-DMXSnare02.wav\"], [\"./dk_data/snare/Simmons SDS5-SDSnare06.wav\"], [\"./dk_data/snare/Yamaha PS-55-Acoustic Snare.wav\"], [\"./dk_data/snare/Vermona Drum-MaxV - Snare.wav\"], [\"./dk_data/snare/Boss DR-660-DR-660Snare48.wav\"], [\"./dk_data/snare/Alesis DM5-DM5Snare036.wav\"], [\"./dk_data/snare/Alesis D4fx-MaxV - Snare 10.wav\"], [\"./dk_data/snare/Alesis DM5-DM5Snare103.wav\"], [\"./dk_data/snare/Boss DR-660-DR-660Snare45.wav\"], [\"./dk_data/snare/Acetone Rhythm King-MaxV - Snare.wav\"], [\"./dk_data/snare/Boss DR-202-202snr41.wav\"], [\"./dk_data/snare/Yamaha RY30-RY30Snare14.wav\"], [\"./dk_data/snare/Alesis DM5-DM5Snare102.wav\"], [\"./dk_data/snare/Simmons SDS5-SDSnare02.wav\"], [\"./dk_data/snare/Alesis Sr16-SR16Snare04.wav\"], [\"./dk_data/snare/Korg SR-120-MaxV - Snare.wav\"], [\"./dk_data/snare/Alesis DM5-DM5Snare071.wav\"], [\"./dk_data/snare/Alesis DM5-DM5Snare039.wav\"], [\"./dk_data/snare/Fairlight IIx-MaxV - SNREL.wav\"], [\"./dk_data/snare/Alesis DM5-DM5Snare091.wav\"], [\"./dk_data/snare/Roland Tr-626-TR-626Snare03.wav\"], [\"./dk_data/snare/Boss DR-202-202snr14.wav\"], [\"./dk_data/snare/Alesis DM5-DM5Snare085.wav\"], [\"./dk_data/snare/Boss DR-202-202snr06.wav\"], [\"./dk_data/snare/Hammond Autovari 64-MaxV - Snare2.wav\"], [\"./dk_data/snare/Ruby Orla-MaxV - Snare.wav\"], [\"./dk_data/snare/Boss DR-660-DR-660Snare35.wav\"], [\"./dk_data/snare/Emu Sp12-snare3.wav\"], [\"./dk_data/snare/mercure_drums-gd-snr2.wav\"], [\"./dk_data/snare/Roland R-8-R8Snare25.wav\"], [\"./dk_data/snare/Fairlight IIx-MaxV - SymSnre2.wav\"], [\"./dk_data/snare/Roland Tr-909-TR-909Snare 11.wav\"], [\"./dk_data/snare/Roland Tr-909-TR-909Snare 20.wav\"], [\"./dk_data/snare/Alesis D4fx-MaxV - Snare 5.wav\"], [\"./dk_data/snare/Moog mg-1-MaxV - Snare-c1.wav\"], [\"./dk_data/snare/Casio PT-30-MaxV - Snare.wav\"], [\"./dk_data/snare/XE8-XE8 Snare 3 int_10.wav\"], [\"./dk_data/snare/Boss DR-202-202snr45.wav\"], [\"./dk_data/snare/Alesis D4fx-MaxV - Snare 13.wav\"], [\"./dk_data/snare/Boss DR-660-DR-660Snare54.wav\"], [\"./dk_data/snare/Acetone Rhythm King-MaxV - Snare2.wav\"], [\"./dk_data/snare/Boss DR-202-202snr23.wav\"], [\"./dk_data/snare/Roland Tr-808-TR-808Snare07.wav\"], [\"./dk_data/snare/Boss DR-550-DR550Snare04.wav\"], [\"./dk_data/snare/Farfisa-MaxV - Snare2.wav\"], [\"./dk_data/snare/Kawai XD5-XD5Snare02.wav\"], [\"./dk_data/snare/MultiMoog-MaxV - Generic MoogSnare.wav\"], [\"./dk_data/snare/Yamaha SY22-Snr4sy42.wav\"], [\"./dk_data/snare/Roland Tr-808-TR-808Snare05.wav\"], [\"./dk_data/snare/Jomox Xbase-09-Snare06.wav\"], [\"./dk_data/snare/Roland Tr-909-TR-909Snare 23.wav\"], [\"./dk_data/snare/Alesis DM5-DM5Snare054.wav\"], [\"./dk_data/snare/Alesis D4fx-MaxV - Snare 4.wav\"], [\"./dk_data/snare/Roland Tr-808-TR-808Snare10.wav\"], [\"./dk_data/snare/Roland Tr-909-TR-909Snare 02.wav\"], [\"./dk_data/snare/Roland TR-33-MaxV - Snare.wav\"], [\"./dk_data/snare/Linn Drum LM2-Linn Snare mid.wav\"], [\"./dk_data/snare/Alesis DM5-DM5Snare078.wav\"], [\"./dk_data/snare/Boss DR-660-DR-660Snare46.wav\"], [\"./dk_data/snare/Linn Linndrum-LinnSnare05.wav\"], [\"./dk_data/snare/Roland R-8-R8Snare43.wav\"], [\"./dk_data/snare/Roland R-8-R8Snare38.wav\"], [\"./dk_data/snare/Boss DR-660-DR-660Snare02.wav\"], [\"./dk_data/snare/Roland PB-300 Rhythm Plus-MaxV - Snare.wav\"], [\"./dk_data/snare/Roland MC09-MC09 Snare04.wav\"], [\"./dk_data/snare/MultiMoog-MaxV - Generic MoogSnare2.AIFF\"], [\"./dk_data/snare/Fricke MFB 502-MaxV - Snare 5.wav\"], [\"./dk_data/snare/Fairlight IIx-MaxV - Ssnre.wav\"], [\"./dk_data/snare/Alesis DM5-DM5Snare100.wav\"]], \"hovertemplate\": \"drum_type=snare<br>D1=%{x}<br>D2=%{y}<br>D3=%{z}<br>path=%{customdata[0]}<extra></extra>\", \"legendgroup\": \"snare\", \"marker\": {\"color\": \"#1CA71C\", \"line\": {\"color\": \"DarkSlateGrey\", \"width\": 0}, \"size\": 8, \"symbol\": \"circle\"}, \"mode\": \"markers\", \"name\": \"snare\", \"scene\": \"scene\", \"showlegend\": true, \"type\": \"scatter3d\", \"x\": [10.957701, 12.727765, 17.43433, 16.053413, 6.3572135, 7.725621, 15.951704000000001, 17.135359, 13.014147, 14.896997, 15.285131, 15.837357999999998, 14.090053, 12.286546000000001, 13.920004999999998, 15.16951, 19.914444, 17.439220000000002, 18.23424, 16.306095000000003, 18.468267, 14.422463, 16.014654, 14.714054999999998, 10.971003, 15.0198765, 12.815767, 15.587234, 11.634835, 18.752619, 13.43779, 18.133905, 12.307735000000001, 16.125778, 12.9654455, -14.606976000000001, 18.415032999999998, 12.305788, 8.829784, 12.7961645, 13.491921, 10.983956, 15.759247, -4.183521, 13.515992, 18.069515, 18.20701, 16.47499, 16.625989999999998, 14.651585, 16.437302, 11.640232000000001, 16.340870000000002, 18.111788, 16.821766, 17.895613, 13.685398000000001, 11.566766000000001, 8.981875, 14.800545000000001, 7.2178674, 13.092868, 16.75708, 16.05098, 4.728452, 17.512926, 7.7455419999999995, 14.00971, 13.010234, 10.733166, 14.545709, 17.664, 18.377176000000002, 15.362919, 15.069061999999999, 15.355816, 15.502403, 16.579876000000002, 12.48737, 15.466129, 15.993422500000001, 16.700860000000002, 14.843762, 8.435499, 16.278242000000002, 15.344312, 10.384596, 15.655475, 17.408726, 13.15593, 13.473579999999998, 15.377064, 9.387858, 14.454514000000001, 16.76485, 17.67924, 18.222227, 16.313826000000002, 12.193013, 12.383949000000001, 9.5191, 16.139318, 17.07609, 10.181837, 14.733348999999999, 12.938105, 14.045998, 12.243182000000001, 15.420147, 9.254712, 17.45189, 6.67536, 13.818345, 15.782212, 6.053817, 14.329785000000001, 6.9357443, 14.952173000000002, 14.717773000000001, 13.911067999999998, 13.632014999999999, 18.66757, 12.320977000000001, 9.438479, 15.670926000000001, 12.73603, 12.270151, 14.659721, 16.784536, 11.904549000000001, 18.078691, 13.182188, 7.7425804000000005, 16.742712, 12.916848, 17.825256, 13.357295, 13.719825, 18.487295, 19.247286, 12.232578, 14.0861, 13.45855], \"y\": [0.20256813, -7.224692999999999, -2.4796562, -2.7872592999999997, -9.088894999999999, -9.181332000000001, -4.8992014, -3.1416578, 0.18300547, -6.8794518, -3.4192940000000003, -3.3098454, -0.50480026, 5.167667400000001, -4.375621, -9.933889, -4.872269599999999, -5.4352818, -0.80688405, -2.462536, -5.0163445, -1.9107047, -3.1351671000000003, -7.678634, -3.7785342000000006, -6.9183216, -3.0072355, 0.16971001, -8.560114, -6.162074, -5.8510847, -2.4235706, 7.621515, -5.552362400000001, -5.206214, 6.6600323, -0.50713754, 0.5272024000000001, -9.529501, -9.614117, -1.5641558999999998, 1.5735375, -1.3097172, -12.230300999999999, -4.798408, 0.50454354, 1.662105, -1.2422415, 2.0086975, -5.0168550000000005, -7.474721000000001, 3.2169187000000004, -0.011355136000000002, -6.5068555, 2.1570992, -0.0027489327, 5.3484397, 0.36210617, -7.887334299999999, -3.6267736000000004, -9.6414385, -5.1311846, 0.87760496, -8.053533999999999, 1.0379444, -1.8446206000000003, -8.44642, -3.0617034, -1.4783282, -5.717894, -5.3236017, -5.0070724, -2.6043513, -8.175646, -7.784584, 1.0191033999999999, -6.4326143, -9.163067, 4.443653, -2.4235572999999997, -6.2085414000000005, -6.190378, -4.970592, 1.0611761999999998, -3.8566019999999996, -5.0248800000000005, -9.2347145, 1.3286538, -3.2868457, -4.506241, -9.411565, -6.580286999999999, -5.8295426, -9.296198, -7.162118400000001, -1.4105348999999998, -6.959289, -6.3827395, -2.9982264, -5.488519999999999, -2.1123752999999996, -2.3149867000000004, -5.4267187, -8.079763999999999, 0.3666074, -6.643103, -7.236453, 4.2244934999999995, 5.3407707, -8.496569000000001, -1.565343, -9.538691499999999, 0.12898397, 4.4816847, -8.750338000000001, -6.2272324999999995, -8.339201, -1.5709186000000002, -9.78317, -6.363111, 10.293753, -3.8355370000000004, -6.1466084, -10.444024, -5.5383663, -7.206045, 4.3196917, -8.506861, -7.319495, -3.8001226999999997, -7.0118446, 2.062598, -10.294762, -5.372600599999999, -7.516362700000001, -3.8179677000000005, 4.152919, -8.042107000000001, -5.3495919999999995, -1.4136989, -3.903496, -6.189101, -8.613672], \"z\": [1.3462987, 1.6346934, -0.7242516, 1.2588406, 1.6139487, 3.2060587000000003, 3.5329611000000005, -5.616984400000001, -0.608209, 3.0466328, -2.2014525000000003, -3.6896709999999997, -4.248556, -4.9982047, 1.4653688999999999, -0.25365052, -1.3453583, 2.6039042, 1.5208563999999998, -4.69801, -2.0272532, -3.2630727000000004, 5.7189174000000005, -2.6393020000000003, 6.7407335999999995, -0.27221036, -3.1050987, 7.890016, 0.5563444000000001, 3.2124770000000002, 0.6944675, -4.694058999999999, -5.976907700000001, -3.2635963, -1.9584781999999998, -4.9997697, 4.0017934, -3.2779903, 2.050557, 7.761475999999999, 7.3845496, -3.9065406000000005, -0.41606859999999996, 5.5598345, 5.1885223, -5.019869, -3.040023, -3.3516247000000003, -2.0350566000000003, 2.8529742000000002, -2.6715853, -4.2511597000000005, 0.31069708, -1.9646932000000001, 6.90373, -0.8036573, -4.315919999999999, -0.96262467, -1.0807486000000002, 0.014199426999999999, 0.9714586, 3.3398714, -1.5343491000000002, 0.23372114, -7.7517104, -7.314121000000001, 2.2658622000000004, -1.9748805, -0.8632904, 7.270445, -0.045559544, -0.282352, 0.7789744000000001, -1.0149273, 1.631351, 3.2778788, 0.9139544, -1.5847944, -3.622229, -6.115349, 2.1970336, -0.23576945, -1.9552767, -3.04213, -0.670135, 1.3320013000000002, -2.0516272, 1.7613453000000001, -2.5396945, -0.55309415, -0.007965251999999999, -1.6897418000000002, 8.923435000000001, -1.7535453999999997, 0.87893736, -6.214453, -0.13381135, 3.98286, -1.1314129, 1.6512612000000002, -4.1391973, -2.2253382, 1.1490402, 1.5212708000000001, 0.8778153000000001, 3.346022, 0.7672906999999999, 7.597672, 2.5661032, 3.1225994, -4.777152, 3.5981722, 2.6661825, -4.0558543, 2.6574981, 1.8331051, 0.7948349, -2.0142343, 1.6204442, -1.1827226999999998, -6.219656, 2.148063, -0.41518664, -0.5745266, -0.66182804, -2.4961064, 8.894598, 0.37104052, -1.064965, 0.82383525, 1.5501561000000001, 5.9823437, 2.143242, -1.8732598999999999, -0.10896402599999999, -4.667973, -4.0267434, -1.0678276000000002, 1.1052005, -4.8493595, 4.489005000000001, 4.431846, 1.5910499]}, {\"customdata\": [[\"./dk_data/hihat_closed/Roland Tr-606-TR606Hat_C_OD.wav\"], [\"./dk_data/hihat_closed/Roland Tr-606-TR606Hat_C05.wav\"], [\"./dk_data/hihat_closed/Casio PT-68-MaxV - HH Cl.wav\"], [\"./dk_data/hihat_closed/Boss DR-550-MaxV - CHH1.wav\"], [\"./dk_data/hihat_closed/Akai Mpc60-MaxV - HiHat Closed.wav\"], [\"./dk_data/hihat_closed/Acetone Rhythm King-MaxV - HH Cl.wav\"], [\"./dk_data/hihat_closed/Roland MC09-MC09 HatC_03.wav\"], [\"./dk_data/hihat_closed/Boss DR-550-DR550Hat03_C.wav\"], [\"./dk_data/hihat_closed/Roland MC09-MC09 HatC_01.wav\"], [\"./dk_data/hihat_closed/Sequential Tom-TOMHat_C.wav\"], [\"./dk_data/hihat_closed/Roland Tr-626-MaxV - Roland - 626_chh 03.wav\"], [\"./dk_data/hihat_closed/MXR Computer Rhythm 185-MaxV - MXR Hat_closed.wav\"], [\"./dk_data/hihat_closed/Yamaha RY-10-MaxV - HHC6VRB.wav\"], [\"./dk_data/hihat_closed/Alesis Hr16b-MaxV - HHC 1.wav\"], [\"./dk_data/hihat_closed/Kawai r-50-MaxV - HHCL_R50.wav\"], [\"./dk_data/hihat_closed/Electro Harmonix Drm32-MaxV - HH Cl.wav\"], [\"./dk_data/hihat_closed/Roland D-70-MaxV - CL-HIHAT.wav\"], [\"./dk_data/hihat_closed/Roland D-10 L.A-la-clhh.wav\"], [\"./dk_data/hihat_closed/mercure_drums-p-hhc2.wav\"], [\"./dk_data/hihat_closed/Boss DR-202-202hat07.wav\"], [\"./dk_data/hihat_closed/Roland MC09-MC09 HatC_07.wav\"], [\"./dk_data/hihat_closed/Alesis D4fx-MaxV - HiHat Closed 2.wav\"], [\"./dk_data/hihat_closed/Kawai r-50-MaxV - HHCLENHA.wav\"], [\"./dk_data/hihat_closed/Emu Drumulator-DrumulatorHat_C.wav\"], [\"./dk_data/hihat_closed/KORG DDD-1-MaxV - DDD1 clhh1.wav\"], [\"./dk_data/hihat_closed/Boss DR-202-202hat05.wav\"], [\"./dk_data/hihat_closed/Roland CR-8000-CR8000Hat_C.wav\"], [\"./dk_data/hihat_closed/Casio PT-30-MaxV - HH Cl.wav\"], [\"./dk_data/hihat_closed/Boss DR-202-202hat09.wav\"], [\"./dk_data/hihat_closed/Fairlight IIx-MaxV - HHPedal.wav\"], [\"./dk_data/hihat_closed/Yamaha PSR-MaxV - psr-hatcl.wav\"], [\"./dk_data/hihat_closed/Roland Tr-909-MaxV - Roland909 - 909HHB 05.wav\"], [\"./dk_data/hihat_closed/Sequential DrumTraks Tom-MaxV - HiHat Closed.wav\"], [\"./dk_data/hihat_closed/Roland MC09-MC09 HatC_08.wav\"], [\"./dk_data/hihat_closed/Yamaha RY-10-MaxV - HHC9VRB.wav\"]], \"hovertemplate\": \"drum_type=hihat_closed<br>D1=%{x}<br>D2=%{y}<br>D3=%{z}<br>path=%{customdata[0]}<extra></extra>\", \"legendgroup\": \"hihat_closed\", \"marker\": {\"color\": \"#FB0D0D\", \"line\": {\"color\": \"DarkSlateGrey\", \"width\": 0}, \"size\": 8, \"symbol\": \"circle\"}, \"mode\": \"markers\", \"name\": \"hihat_closed\", \"scene\": \"scene\", \"showlegend\": true, \"type\": \"scatter3d\", \"x\": [4.8330226, 4.6893473, 6.9205837, 7.148657000000001, 8.483983, 7.748259, 8.789477999999999, 6.7642465, 9.051354, 8.3926325, 9.351925999999999, 10.550721000000001, 6.5549893, 9.294502, 10.086816, 7.419556599999999, 6.885192999999999, 10.879369, 12.875843, 7.467323299999999, 9.388358, 12.504021, 6.717189299999999, 8.58502, 6.6796675, 7.585249, 7.974984599999999, 11.463915, 15.783883, 9.513995, 9.445212, 8.63847, 7.582911999999999, 9.338938, 8.061283], \"y\": [0.88033444, 1.0280231, 1.2985096, -1.9166679, -0.23430884, 2.1729333, 0.057993755, -2.8224099, -1.4319725, 3.426507, 1.0147891, 2.136339, -0.20752026, -2.1739892999999997, 2.2824782999999997, -4.6133690000000005, -2.308286, 0.6647074000000001, 0.5335584, 3.0681572, -0.70819014, 2.7955232000000003, 4.4566545, 3.2419066, 3.053138, -0.8261205, -2.19369, 5.74753, 0.38237387, -9.256515, 2.6779265, 4.9151115, 3.366023, -0.9949222, -2.6792166], \"z\": [-5.065625, -5.916207, -8.072649, -1.4890875, -8.9688635, -0.4231613, -5.7313480000000006, -5.021380000000001, -5.514488, -4.0269346, -7.799073, -5.8888483, -6.922508199999999, -2.7945278, -4.679968, -1.0097284, -6.0023737, -1.2607201000000001, -2.1388116000000004, -7.998614999999999, -4.717916000000001, -3.0051873, -7.9123415999999995, -6.723942, -9.1340065, -8.968717999999999, -4.473813, -6.9450307, -3.0483968, -0.73404986, -8.55685, -6.900175, -4.3650139999999995, -3.5085661, -5.534711]}, {\"customdata\": [[\"./dk_data/rim/Akai Mpc60-MaxV - Rimshot 3.wav\"], [\"./dk_data/rim/Kawai R50e-R50eRimshot.wav\"], [\"./dk_data/rim/Oberheim Dmx-DMXRim.wav\"], [\"./dk_data/rim/Linn Linn-9000-MaxV - Rimshot.wav\"], [\"./dk_data/rim/Gulbransen-MaxV - Rim.wav\"], [\"./dk_data/rim/Jomox Xbase-09-Rim01.wav\"], [\"./dk_data/rim/Akai Mpc60-MaxV - Rimshot 1.wav\"], [\"./dk_data/rim/Korg DDM110-MaxV - 110_rim.wav\"], [\"./dk_data/rim/Roland JD-990-MaxV - MARIMWAV.wav\"], [\"./dk_data/rim/KORG DDD-1-MaxV - DDD1 rimshot.wav\"], [\"./dk_data/rim/Roland R-5-R-5 Rimshot Snare 1.wav\"], [\"./dk_data/rim/Yamaha RX11-RX11Rimshot.wav\"], [\"./dk_data/rim/Akai XR10-XR10Rimshot02.wav\"], [\"./dk_data/rim/Alesis DM5-DM5Rim05.wav\"], [\"./dk_data/rim/Roland Tr-808-TR-808Rim01.wav\"], [\"./dk_data/rim/Roland TR-505-TR-505Rim.wav\"], [\"./dk_data/rim/Roland D-10 L.A-la-rim.wav\"], [\"./dk_data/rim/Emu Drumulator-MaxV - EMU_RIM.wav\"], [\"./dk_data/rim/Jomox Xbase-09-Rim02.wav\"]], \"hovertemplate\": \"drum_type=rim<br>D1=%{x}<br>D2=%{y}<br>D3=%{z}<br>path=%{customdata[0]}<extra></extra>\", \"legendgroup\": \"rim\", \"marker\": {\"color\": \"#DA16FF\", \"line\": {\"color\": \"DarkSlateGrey\", \"width\": 0}, \"size\": 8, \"symbol\": \"circle\"}, \"mode\": \"markers\", \"name\": \"rim\", \"scene\": \"scene\", \"showlegend\": true, \"type\": \"scatter3d\", \"x\": [15.130954000000001, 17.945574, 17.526854, 15.508397, 13.193465, 8.659432, 14.362026, 8.682091999999999, 17.556210999999998, 14.036674, 14.371671, 17.303686, 13.597635999999998, 14.093613000000001, 14.200465, 16.36746, 14.286976000000001, 15.31015, 11.577144], \"y\": [7.411122, 0.9072003000000001, 5.587547, 5.4541945, 4.3703637, -10.235647, 6.732616, -9.800724, 5.587251, 7.420619, -5.9693879999999995, 5.614475700000001, -3.6713602999999995, 6.110032, 2.0765029999999998, 3.9223282, 5.424035, -0.7240886999999999, -9.092195], \"z\": [-2.4602353999999997, -6.066294, -4.0880184, -5.268167, -0.6845569, 3.6749375, -5.5489984, -1.3395774, 1.6137915, -1.4061344999999998, -3.2082505, -5.0136757, -3.8962230000000004, -0.17342020000000002, -5.7712525999999995, -4.0945983, -1.8481464, -6.0581309999999995, -2.9080067]}, {\"customdata\": [[\"./dk_data/clap/Linn Linn-9000-MaxV - Clap 1.wav\"], [\"./dk_data/clap/Linn Linn-9000-MaxV - Clap 2.wav\"], [\"./dk_data/clap/Kawai r-50-MaxV - CLAP2R50.wav\"], [\"./dk_data/clap/Roland Tr-626-MaxV - Roland - 626_clap 04.wav\"], [\"./dk_data/clap/Kawai R-50e-MaxV - R50e Clap.wav\"], [\"./dk_data/clap/Alesis Hr16b-HR16B 036 Gated Claps.wav\"], [\"./dk_data/clap/Alesis D4fx-MaxV - Clap.wav\"], [\"./dk_data/clap/Simmons Clap-MaxV - SM Clap14.wav\"], [\"./dk_data/clap/Simmons Clap-MaxV - SM Clap12.wav\"], [\"./dk_data/clap/Simmons Clap-MaxV - SM Clap7.wav\"], [\"./dk_data/clap/EMU E-drum-MaxV - Clap.wav\"], [\"./dk_data/clap/AKAI XE-8-MaxV - XE8 Clap int_15.wav\"], [\"./dk_data/clap/Roland Tr-808-TR-808Clap01.wav\"], [\"./dk_data/clap/Korg DDM110-MaxV - 110_clap.wav\"], [\"./dk_data/clap/Simmons Clap-MaxV - SM Clap20.wav\"], [\"./dk_data/clap/MultiMoog-MaxV - JeeesuosClaps.wav\"], [\"./dk_data/clap/Simmons Clap-MaxV - SM Clap19.wav\"], [\"./dk_data/clap/Boss DR-110-DR-110Clap.wav\"], [\"./dk_data/clap/Yamaha RY30-RY30Clap.wav\"], [\"./dk_data/clap/Simmons Clap-MaxV - SM Clap23.wav\"], [\"./dk_data/clap/Roland Tr-808-TR-808Clap02.wav\"], [\"./dk_data/clap/Simmons Clap-MaxV - SM Clap2.wav\"], [\"./dk_data/clap/Roland D-70-MaxV - CLAP.wav\"], [\"./dk_data/clap/Simmons Clap-MaxV - SM Clap11.wav\"], [\"./dk_data/clap/Linn Linndrum-LinnClap.wav\"], [\"./dk_data/clap/Roland MC303-MaxV - Rapclap1.wav\"], [\"./dk_data/clap/Alesis Sr16-SR16Clap.wav\"], [\"./dk_data/clap/Jomox Xbase-09-LFOClap.wav\"]], \"hovertemplate\": \"drum_type=clap<br>D1=%{x}<br>D2=%{y}<br>D3=%{z}<br>path=%{customdata[0]}<extra></extra>\", \"legendgroup\": \"clap\", \"marker\": {\"color\": \"#222A2A\", \"line\": {\"color\": \"DarkSlateGrey\", \"width\": 0}, \"size\": 8, \"symbol\": \"circle\"}, \"mode\": \"markers\", \"name\": \"clap\", \"scene\": \"scene\", \"showlegend\": true, \"type\": \"scatter3d\", \"x\": [14.731241, 12.136146, 14.394673000000001, 13.301003, 13.37839, 13.21308, 13.065871000000001, 14.029529, 9.821415, 18.683761999999998, 10.233092999999998, 11.749441000000001, 11.617813, 15.859232, 10.189081, 18.330662, 8.950463000000001, 12.952873, 10.24756, 13.337769, 10.875525, 11.684225999999999, 12.383968, 11.249944000000001, 15.635564000000002, 12.00955, 14.395798000000001, 13.419209], \"y\": [8.584433, 6.05122, 6.1298832999999995, 8.687144, 7.245976400000001, 5.368523000000001, 6.4492083, 7.912706, 8.274845, 1.8932585, 7.7590794999999995, 9.835954, 7.806350699999999, 6.3261294, 7.0751095, -1.2689598999999998, 8.473682, 8.520163, 9.829758, 9.607330000000001, 6.36828, 9.91155, 7.824350999999999, 8.626168, 7.582097, 5.8775783, 7.404337, 2.6443223999999996], \"z\": [-4.92825, -4.20057, -3.7437074, -2.76363, -4.402691, -2.6430907, -2.9457006000000003, -6.3828062999999995, -6.026833, -4.1623893, -3.3277992999999997, -5.403126, -4.630481, -4.0940714, -5.4802566, -3.4794476000000003, -6.192608, -4.051689, -5.003471, -5.049738400000001, -3.3573635000000004, -7.023658800000001, -2.5810735, -3.8024178, -4.7488165, -2.4494402, -3.6538730000000004, -4.4667645]}, {\"customdata\": [[\"./dk_data/kick/Kawai r-50-MaxV - BD2__R50.wav\"], [\"./dk_data/kick/Jomox Xbase-09-BassDr06.wav\"], [\"./dk_data/kick/Roland Tr-808-TR-808Kick07.wav\"], [\"./dk_data/kick/Yamaha RY30-RY30Kick05.wav\"], [\"./dk_data/kick/mercure_drums-gd-kick1.wav\"], [\"./dk_data/kick/Alesis DM5-DM5Kick21.wav\"], [\"./dk_data/kick/Roland Tr-909-TR-909Kick 07.wav\"], [\"./dk_data/kick/Roland D-10 L.A-la-bd1.wav\"], [\"./dk_data/kick/Alesis Hr16b-HR16B 006 Deep Wood Kick.wav\"], [\"./dk_data/kick/Roland R-8-R8Kick05.wav\"], [\"./dk_data/kick/Boss DR-660-DR-660Kick21.wav\"], [\"./dk_data/kick/Boss DR-660-DR-660Kick05.wav\"], [\"./dk_data/kick/Roland Tr-909-MaxV - Roland909 - 909BDA 01.wav\"], [\"./dk_data/kick/Roland R-8-R8Kick27.wav\"], [\"./dk_data/kick/Alesis DM5-DM5Kick48.wav\"], [\"./dk_data/kick/Alesis DM5-DM5Kick78.wav\"], [\"./dk_data/kick/Akai XR10-XR10Kick04.wav\"], [\"./dk_data/kick/Fricke MFB 512-MaxV - Kick.wav\"], [\"./dk_data/kick/Roland Tr-707-TR-707Kick01.wav\"], [\"./dk_data/kick/Roland TR-909 BD Selection-KK-Di909BD 26.wav\"], [\"./dk_data/kick/Electro Harmonix Drm15-MaxV - Kick.wav\"], [\"./dk_data/kick/Roland Tr-808-MaxV - Roland808 - BD0050 16.wav\"], [\"./dk_data/kick/Boss DR-660-DR-660Kick41.wav\"], [\"./dk_data/kick/Yamaha RX-11-MaxV - RX11 BD1.wav\"], [\"./dk_data/kick/Alesis Hr16-HR16Kick02.wav\"], [\"./dk_data/kick/AKAI XE-8-MaxV - XE8 Kick 2 int_2.wav\"], [\"./dk_data/kick/Linn Linndrum-LinnKick02.wav\"], [\"./dk_data/kick/Acetone Rhythm Ace-MaxV - KICK2.wav\"], [\"./dk_data/kick/Roland R-8-R8Kick03.wav\"], [\"./dk_data/kick/Roland MC303-MaxV - Drybd1.wav\"], [\"./dk_data/kick/Roland TR-909 BD Selection-KK-Di909BD 49.wav\"], [\"./dk_data/kick/Roland Tr-909-TR-909Kick 10.wav\"], [\"./dk_data/kick/Kawai r-50-MaxV - ATMBDR50.wav\"], [\"./dk_data/kick/Boss DR-660-DR-660Kick39.wav\"], [\"./dk_data/kick/Yamaha RX11-RX11Kick.wav\"], [\"./dk_data/kick/Boss DR-660-DR-660Kick07.wav\"], [\"./dk_data/kick/Roland Tr-808-MaxV - Roland808 - BD7525 35.wav\"], [\"./dk_data/kick/Fairlight IIx-MaxV - Bdrum.wav\"], [\"./dk_data/kick/Roland TR-909 BD Selection-KK-Di909BD 40.wav\"], [\"./dk_data/kick/Boss DR-660-DR-660Kick20.wav\"], [\"./dk_data/kick/Alesis DM5-DM5Kick09.wav\"], [\"./dk_data/kick/Alesis DM5-DM5Kick69.wav\"], [\"./dk_data/kick/Roland TR-909 BD Selection-KK-Di909BD 08.wav\"], [\"./dk_data/kick/Roland Tr-808-TR-808Kick03.wav\"], [\"./dk_data/kick/Yamaha RX-5-MaxV - RX5PBD3.wav\"], [\"./dk_data/kick/Roland TR-909 BD Selection-KK-Di909BD 62.wav\"], [\"./dk_data/kick/Roland TR-909 BD Selection-KK-Di909BD 53.wav\"], [\"./dk_data/kick/Oberheim Dmx-DMXKick02.wav\"], [\"./dk_data/kick/Roland TR-909 BD Selection-KK-Di909BD 04.wav\"], [\"./dk_data/kick/Roland Tr-606-TR606Kick01.wav\"], [\"./dk_data/kick/Boss DR-660-DR-660Kick15.wav\"], [\"./dk_data/kick/Univox Micro-Rhythmer 12-MaxV - UNIVOXBD.wav\"], [\"./dk_data/kick/Roland S-50-MaxV - ebd.wav\"], [\"./dk_data/kick/Akai XR10-XR10Kick02.wav\"], [\"./dk_data/kick/Boss DR-660-DR-660Kick26.wav\"], [\"./dk_data/kick/Yamaha RX-5-MaxV - RX5IBD1.wav\"], [\"./dk_data/kick/Yamaha RX-5-MaxV - RX5PBD2.wav\"], [\"./dk_data/kick/Alesis Hr16-HR16Kick06.wav\"], [\"./dk_data/kick/Roland TR-909 BD Selection-KK-Di909BD 51.wav\"], [\"./dk_data/kick/Roland TR-909 BD Selection-KK-Di909BD 25.wav\"], [\"./dk_data/kick/Alesis DM5-DM5Kick16.wav\"], [\"./dk_data/kick/Alesis DM5-DM5Kick62.wav\"], [\"./dk_data/kick/Roland R-5-R-5 Electronic Kick.wav\"], [\"./dk_data/kick/Alesis DM5-DM5Kick38.wav\"], [\"./dk_data/kick/Alesis DM5-DM5Kick30.wav\"], [\"./dk_data/kick/Linn Linndrum-LinnKick01.wav\"], [\"./dk_data/kick/Roland D-10 L.A-la-wetbd.wav\"], [\"./dk_data/kick/Korg DDM110-Ddm110Kick.wav\"], [\"./dk_data/kick/Linn Linn-9000-MaxV - Kick 1.wav\"], [\"./dk_data/kick/Roland R-8-R8Kick22.wav\"], [\"./dk_data/kick/Kawai R50e-R50eKick03.wav\"], [\"./dk_data/kick/Alesis DM5-DM5Kick77.wav\"], [\"./dk_data/kick/Roland JV 1080-MaxV - BD2.wav\"], [\"./dk_data/kick/Kawai XD5-XD5Kick04.wav\"], [\"./dk_data/kick/Roland TR-909 BD Selection-KK-Di909BD 35.wav\"], [\"./dk_data/kick/Kawai XD5-XD5Kick01.wav\"], [\"./dk_data/kick/Akai XR-1-MaxV - Kick 09.wav\"], [\"./dk_data/kick/Yamaha RX-5-MaxV - RX5PBD1.wav\"], [\"./dk_data/kick/Boss DR-660-DR-660Kick49.wav\"], [\"./dk_data/kick/Fairlight IIx-MaxV - Bbdrum1.wav\"], [\"./dk_data/kick/MXR Computer Rhythm 185-MaxV - MXR Kick.wav\"], [\"./dk_data/kick/Kawai r-50-MaxV - ACCBDENH.wav\"], [\"./dk_data/kick/KorgMP7-Kickdrum.wav\"], [\"./dk_data/kick/Alesis DM5-DM5Kick84.wav\"], [\"./dk_data/kick/Alesis DM5-DM5Kick82.wav\"], [\"./dk_data/kick/Linn Drum LM2-Linn kick hard.wav\"], [\"./dk_data/kick/XE8-XE8 Kick 2 int_2.wav\"], [\"./dk_data/kick/Acetone Rhythm Ace-MaxV - KICK4.wav\"], [\"./dk_data/kick/Alesis Sr16-SR16Kick01.wav\"], [\"./dk_data/kick/Fricke MFB 502-MaxV - Kick.wav\"], [\"./dk_data/kick/Roland Tr-808-MaxV - Roland808 - BD7500 33.wav\"], [\"./dk_data/kick/Roland Tr-606-TR606Kick_OD.wav\"], [\"./dk_data/kick/Roland TR-55-MaxV - Kick.wav\"], [\"./dk_data/kick/Roland MC09-MC09 Kick04.wav\"], [\"./dk_data/kick/mercure_drums-tt-kick1.wav\"], [\"./dk_data/kick/Roland JV 1080-MaxV - BD1.wav\"], [\"./dk_data/kick/Alesis DM5-DM5Kick42.wav\"], [\"./dk_data/kick/Roland TR-909 BD Selection-KK-Di909BD 59.wav\"], [\"./dk_data/kick/Roland R-8-R8Kick26.wav\"], [\"./dk_data/kick/Roland Tr-808-TR-808Kick15.wav\"], [\"./dk_data/kick/Alesis DM5-DM5Kick32.wav\"], [\"./dk_data/kick/Roland Tr-808-TR-808Kick02.wav\"], [\"./dk_data/kick/Roland Tr-808-MaxV - Roland808 - BD2575 27.wav\"], [\"./dk_data/kick/Alesis DM5-DM5Kick31.wav\"], [\"./dk_data/kick/AKAI XE-8-MaxV - XE8 Kick 1 int_1.wav\"], [\"./dk_data/kick/Roland TR-909 BD Selection-KK-Di909BD 11.wav\"], [\"./dk_data/kick/EMU E-drum-MaxV - Kick4.wav\"], [\"./dk_data/kick/Boss DR-660-DR-660Kick14.wav\"], [\"./dk_data/kick/Yamaha RX21-RX21Kick.wav\"], [\"./dk_data/kick/Deepsky-909kick.wav\"], [\"./dk_data/kick/Fairlight IIx-MaxV - Symkick.wav\"], [\"./dk_data/kick/Roland Tr-808-MaxV - Roland808 - BD2500 23.wav\"], [\"./dk_data/kick/Linn Linn-9000-MaxV - Kick 2.wav\"], [\"./dk_data/kick/Boss DR-55-DR-55Kick.wav\"], [\"./dk_data/kick/Alesis Hr16b-HR16B 005 Techno Kick.wav\"], [\"./dk_data/kick/Roland PB-300 Rhythm Plus-MaxV - Kick.wav\"]], \"hovertemplate\": \"drum_type=kick<br>D1=%{x}<br>D2=%{y}<br>D3=%{z}<br>path=%{customdata[0]}<extra></extra>\", \"legendgroup\": \"kick\", \"marker\": {\"color\": \"#B68100\", \"line\": {\"color\": \"DarkSlateGrey\", \"width\": 0}, \"size\": 8, \"symbol\": \"circle\"}, \"mode\": \"markers\", \"name\": \"kick\", \"scene\": \"scene\", \"showlegend\": true, \"type\": \"scatter3d\", \"x\": [12.106888, 11.8967705, 14.077173000000002, 10.342562, 11.071247999999999, 9.369712, 12.084481, 7.6072993, 12.826772, 12.772668, 10.678185000000001, 7.855328999999999, 15.73966, 10.661619, 9.490621, 8.720892999999998, 11.875099, 6.583522299999999, 12.023561500000001, 13.613719, 6.7150803, 10.861267999999999, 11.123123, 7.659103999999999, 14.067283999999999, 7.831249000000001, 12.161021, 8.774266, 13.34915, 8.138517, 14.752528, 12.297932000000001, 10.936378999999999, 10.573413, 9.240002, 13.410615, 9.690796, 10.259445, 13.609389000000002, 12.917071, 8.917871, 8.525674, 12.926009, 9.942451, 13.498697, 14.2711525, 13.440923999999999, 11.567724, 12.482385, 7.956832400000001, 8.488726, 14.813665, 8.909597999999999, 12.038293, 14.104773999999999, 10.568361, 9.507636, 9.901216499999999, 14.53514, 14.115109, 6.858385, 18.118462, 10.714582, 10.222584, 10.963925999999999, 7.394402, 10.047142, 11.385759, 6.2631016, 13.437695499999998, 9.098019, 7.772725, 7.9957259999999994, 13.873766, 12.987076, 7.515994, 13.147670999999999, 8.2488165, 11.386446000000001, 11.657737, 8.67866, 9.007935, 7.1615925, 9.338459, 12.870131, 6.172644999999999, 9.030989, 12.600543, 11.05057, 9.115112, 9.64714, 10.094704, 6.672612700000001, 7.900951400000001, 13.374726999999998, 8.78553, 9.315068, 14.08945, 12.042403, 14.379069, 9.7716255, 10.678938, 13.436069, 11.487289, 10.160428, 12.788986999999999, 11.850708000000001, 8.581264, 8.618053, 8.563073, 12.281272, 7.814699000000001, 6.771428599999999, 10.338301, 12.4507475, 9.194346000000001], \"y\": [-8.426604, -3.1009597999999996, 2.192129, -7.515517999999999, -11.135627000000001, -9.109322, -8.67747, -7.2238493, -6.9279814, -11.279611000000001, -9.40147, -3.723493, -8.653901, -7.567123, -2.780624, -10.268918, -7.4460006, -10.660385, -11.604096, 9.642624, -7.885515700000001, -7.188936999999999, -6.6406484, -12.217553, -5.6481485000000005, -9.891921, -12.3641205, -8.053617, -3.2807882000000004, -2.2735084999999997, 8.585394, -8.7244835, -5.1651917, -9.982521, -12.34023, -9.143239999999999, -10.408610000000001, -10.702764, 8.400602000000001, -6.4814940000000005, -9.272974000000001, -11.428888, 5.9390316, -7.067659, 4.5974855, 7.160448, 7.591164599999999, -9.953377, 8.735248, -10.669521000000001, -5.8097477, -5.327843, -4.1365886, -6.507823, 0.96749914, -12.914415, -6.5463886, -8.494605, 6.483813, 9.020833999999999, -11.964015, 5.342413400000001, -6.42296, -9.188865, -11.385469, -9.191991999999999, -8.051075, -10.8150425, -8.748667, -7.180382000000001, -6.4921169999999995, -9.114335, -8.71567, -3.9941459999999998, 6.1579638, -6.643028999999999, -10.459837, -8.37352, -9.270027, -8.628736, -12.723728999999999, -2.8211234, -11.240056, -5.7376328, 3.1822042, -10.045036, -10.185576, -10.111048, -12.269689, -11.496872999999999, -10.859031, -5.055974, -9.05037, -9.883255, -7.684982000000001, -8.344911999999999, -11.575507, 5.0899553, -8.118591, 3.4864302000000005, -9.741405499999999, -9.429689999999999, -1.3216666000000001, -6.993534599999999, -11.418833, 8.924050999999999, -9.942934, -7.827250500000001, -13.097082, -2.1574376, -3.6211355000000003, -11.036682, -5.532168, -12.873497, -5.6757855, -9.474256], \"z\": [10.780593, 9.398625, 9.040678999999999, 8.892196, 10.649132, 11.666962, 3.5955446, 8.459503, 6.7970185, 9.318005, 10.457272, 9.750709, 3.3742208, 7.258967, 11.2976265, 9.1399555, 9.644809, 9.624724, 12.221591, 7.228289, 11.61201, 14.460359, 12.929206, 9.628864, 7.130008999999999, 11.908319, 10.660761, 14.287045499999998, 5.6499963, 10.498327, 7.3029037, 4.637492, 10.485911999999999, 12.678639, 8.790113999999999, 9.693686, 11.176289, 9.419483, 6.431723000000001, 11.275884, 7.615325500000001, 11.752175, 8.484582000000001, 11.621972999999999, 7.1533875, 7.0749397, 7.9662679999999995, 11.561034, 7.0586967000000005, 10.496739, 12.042012, 11.062329, 10.586466, 8.4969225, 6.910854, 12.244000999999999, 13.006803999999999, 13.058603, 8.273677000000001, 8.444355999999999, 11.345039, -2.646318, 9.805933999999999, 8.8438, 13.760389000000002, 8.62539, 10.375862, 8.129621, 9.901149, 9.981554, 10.373838000000001, 10.587711, 4.895206, 9.460059, 7.3292684999999995, 13.225123000000002, 11.007061, 12.677374, 14.012722, 8.781792999999999, 12.699602, 12.670534, 13.016385000000001, 14.362028, 8.371271, 11.398918, 12.823819, 12.946912, 8.982577000000001, 13.902111999999999, 7.803869000000001, 12.134197, 12.9526005, 14.072109, 8.442089999999999, 9.3609705, 10.269931, 8.404369, 7.3262167, 8.954741, 14.528988, 7.2317029999999995, 10.692077000000001, 11.128575, 12.090852, 8.334961999999999, 9.678294000000001, 11.315847999999999, 10.88438, 9.571809, 10.705528, 8.127966, 10.572636, 10.483966, 7.3828382, 10.190041]}, {\"customdata\": [[\"./dk_data/hihat_open/Yamaha RX5-RX5Hat_O.wav\"], [\"./dk_data/hihat_open/Sequential Tom-TOMHat_O.wav\"], [\"./dk_data/hihat_open/Roland MC09-MC09 HatO_04.wav\"], [\"./dk_data/hihat_open/Visco Space drums-MaxV - HH Op.wav\"], [\"./dk_data/hihat_open/Korg SR-120-MaxV - HH Op.wav\"], [\"./dk_data/hihat_open/Casio PT-68-MaxV - HH Op.wav\"], [\"./dk_data/hihat_open/Roland MC09-MC09 HatO_02.wav\"], [\"./dk_data/hihat_open/Roland SC-88-MaxV - D#4 Open High Conga.wav\"], [\"./dk_data/hihat_open/MATTEL SYNSONIC-MaxV - Mattel Hi-Hat.wav\"], [\"./dk_data/hihat_open/Roland MC09-MC09 HatO_03.wav\"], [\"./dk_data/hihat_open/Roland Tr-808-TR-808Hat_O01.wav\"], [\"./dk_data/hihat_open/Roland MC303-MaxV - Openpand.wav\"], [\"./dk_data/hihat_open/Oberheim DX-MaxV - DMX__OHH.wav\"], [\"./dk_data/hihat_open/Boss DR-110-DR-110Hat_O.wav\"], [\"./dk_data/hihat_open/KORG DDD-1-MaxV - DDD1 ophh1.wav\"], [\"./dk_data/hihat_open/Roland System-100-MaxV - Roland -open2 18.wav\"], [\"./dk_data/hihat_open/Acetone Rhythm King-MaxV - HH Op.wav\"], [\"./dk_data/hihat_open/Boss DR-55-DR-55Hat.wav\"], [\"./dk_data/hihat_open/Roland Tr-606-TR606Hat_O01.wav\"], [\"./dk_data/hihat_open/Alesis Sr16-SR16Hat_O4.wav\"], [\"./dk_data/hihat_open/XE8-XE8 Hat Open ext_5.wav\"], [\"./dk_data/hihat_open/Yamaha SY22-Hhopsy53.wav\"], [\"./dk_data/hihat_open/Korg Pro-Wave-MaxV - PDLHIHAT.wav\"], [\"./dk_data/hihat_open/Fricke MFB 502-MaxV - HiHat Open.wav\"], [\"./dk_data/hihat_open/XE8-XE8 Hat Open int_7.wav\"], [\"./dk_data/hihat_open/Korg KPR77-KPRHat_O.wav\"], [\"./dk_data/hihat_open/Boss DR-202-202hat22.wav\"], [\"./dk_data/hihat_open/Farfisa-MaxV - HH Op.wav\"], [\"./dk_data/hihat_open/Kurzweil K2000 ROM-MaxV - hihat2.wav\"], [\"./dk_data/hihat_open/Visco Space drums-MaxV - HH Cl.wav\"], [\"./dk_data/hihat_open/Roland R-8-R8Hat_O03.wav\"], [\"./dk_data/hihat_open/Korg MS-20-MaxV - HH Op.wav\"], [\"./dk_data/hihat_open/Boss Dr Rhythm110-MaxV - HiHat Open.wav\"], [\"./dk_data/hihat_open/Roland R-8-R8Hat_O06.wav\"], [\"./dk_data/hihat_open/Roland Tr-606-TR606Hat_O_OD.wav\"], [\"./dk_data/hihat_open/Luxor Passet-MaxV - HH Cl.wav\"], [\"./dk_data/hihat_open/Roland System-100-MaxV - Roland -open2 30.wav\"], [\"./dk_data/hihat_open/Roland Tr-808-MaxV - Roland808 - 808HH 06.wav\"], [\"./dk_data/hihat_open/Yamaha RX5-RX5Hat_C.wav\"], [\"./dk_data/hihat_open/Sequential Drumtrax-DrumtraxOpenhat.wav\"], [\"./dk_data/hihat_open/Alesis Sr16-SR16Hat_O2.wav\"], [\"./dk_data/hihat_open/Lel UDS-MaxV - HiHat Open 2.wav\"], [\"./dk_data/hihat_open/Wurlitzer Swinging Rhythm-MaxV - HH Op.wav\"], [\"./dk_data/hihat_open/Yamaha EM-90-MaxV - HH Op.wav\"], [\"./dk_data/hihat_open/Roland Tr-626-TR-626Hat_O.wav\"], [\"./dk_data/hihat_open/Roland MC09-MC09 HatO_05.wav\"], [\"./dk_data/hihat_open/Roland MT32-MaxV - MTAgogoHigh.wav\"], [\"./dk_data/hihat_open/Roland SC-88-MaxV - D#6 Open Surdo.wav\"], [\"./dk_data/hihat_open/Korg KPR77-MaxV - KR77 -Hat-Op 05.wav\"], [\"./dk_data/hihat_open/Alesis DM5-DM5Hat_O03.wav\"]], \"hovertemplate\": \"drum_type=hihat_open<br>D1=%{x}<br>D2=%{y}<br>D3=%{z}<br>path=%{customdata[0]}<extra></extra>\", \"legendgroup\": \"hihat_open\", \"marker\": {\"color\": \"#750D86\", \"line\": {\"color\": \"DarkSlateGrey\", \"width\": 0}, \"size\": 8, \"symbol\": \"circle\"}, \"mode\": \"markers\", \"name\": \"hihat_open\", \"scene\": \"scene\", \"showlegend\": true, \"type\": \"scatter3d\", \"x\": [5.103068, 4.964027, 7.915229300000001, 7.807744500000001, 5.250717, 6.106604, 7.050502000000001, 20.565973, 8.047687, 7.1773929999999995, 5.3471269999999995, 20.269508, 5.818878, 4.546593700000001, 4.6319985, 9.254516, 6.993228, 5.5647864, 4.6669893, 7.448926400000001, 6.0148945, 7.0195612999999994, 7.375221300000001, 8.637839, 6.0284867, 7.966392999999999, 14.716413500000002, 5.66889, 7.0406995, 6.2895255, 7.6567774, 11.665724, 4.525707700000001, 5.8722324, -1.2082034, 8.813410000000001, 6.103219, 7.764889200000001, 8.595751, 4.5529637, 7.746838, 7.549187, 5.4983325, 7.949373700000001, 8.195984, 8.140001, 12.185459, 14.103951, 5.828477400000001, 7.9639277], \"y\": [8.582006, 5.439339, 1.9026005000000001, -3.9671769999999995, 2.7774782000000005, 6.105286, 3.0130932, -3.2965696, 1.4484632, 1.1382362, 2.0761359, -5.8392534000000005, 7.0113389999999995, 4.967532599999999, 6.8980155, -5.4638753, 3.1161773, 1.420225, 2.2975347000000004, -0.7426486, 5.671602200000001, 4.1383753, -3.3175523, 4.6185412, 6.001258, -1.2042061000000002, 1.1398983, 2.1220474, 0.14309935, -4.290883, 0.18530293, 0.5132943, 4.126628, 4.713975, 7.6092978, -3.8816762000000002, 1.7142386000000003, -1.5311953, 4.1955175, 7.511033500000001, -1.0845841999999999, 1.1940136000000001, 2.7300053, 1.9175537, 6.052303299999999, -0.18478614, 7.204772500000001, 3.3181741000000002, 3.7706687000000003, -0.45707276], \"z\": [-4.458802700000001, -3.162435, -5.3906236, -4.963097599999999, -6.336930000000001, -7.313287299999999, -6.194476, -3.7762464999999996, -7.0374255, -5.8951993, -5.15686, 1.4488878, -4.635747, -6.522558999999999, -5.8375797, 2.1825209, -1.2589546, -7.8230770000000005, -4.3340697, -4.7582507000000005, -1.6372076999999998, -3.3783616999999997, -3.5002537000000005, -5.399838, -2.3591502, -2.7407155, -2.5241057999999996, -9.673656, -2.8450382000000003, -2.7302923, -7.339947, -5.537216, -6.0485635, -5.969593, -6.161568, -2.8158226, -0.6752094, -7.193377000000001, -8.315685, -4.0225919999999995, -1.1065695, -4.3836656, -8.381283999999999, -8.675219, -3.916119, -3.9671352, 0.29786092, 7.7253375, -2.6915492999999997, -0.57533455]}, {\"customdata\": [[\"./dk_data/tom_mid/MFB-512-512mdtom.wav\"], [\"./dk_data/tom_mid/Fricke MFB 502-MaxV - Tom 2.wav\"], [\"./dk_data/tom_mid/Roland SH-09-MaxV - stompbass2.wav\"], [\"./dk_data/tom_mid/Alesis DM5-DM5Tom01_M.wav\"], [\"./dk_data/tom_mid/Emu Sp12-tom.wav\"], [\"./dk_data/tom_mid/Kawai R50-R50 TomM.wav\"], [\"./dk_data/tom_mid/Akai XR10-XR10MidTom03.wav\"], [\"./dk_data/tom_mid/Roland R-8-R8Tom33.wav\"], [\"./dk_data/tom_mid/Kawai R-50e-MaxV - R50e Tom 2.wav\"], [\"./dk_data/tom_mid/Simmons SD-8-MaxV - TOM_05.wav\"], [\"./dk_data/tom_mid/Alesis DM5-DM5Tom15_M.wav\"], [\"./dk_data/tom_mid/Roland R-8-R8Tom14.wav\"], [\"./dk_data/tom_mid/Roland Tr-808-TR-808Tom06.wav\"], [\"./dk_data/tom_mid/Roland R-5-R-5 FX Tom.wav\"], [\"./dk_data/tom_mid/Roland Tr-626-TR-626Tom_M02.wav\"], [\"./dk_data/tom_mid/Roland MC303-MaxV - Acmidtom.wav\"], [\"./dk_data/tom_mid/Roland TR-33-MaxV - Tom Mi.wav\"], [\"./dk_data/tom_mid/Visco Space drums-MaxV - Tom Mi.wav\"], [\"./dk_data/tom_mid/Roland R-5-R-5 Dry Tom 2.wav\"], [\"./dk_data/tom_mid/Roland JV 1080-MaxV - TomMid2.wav\"], [\"./dk_data/tom_mid/Roland R-8-R8Tom02.wav\"], [\"./dk_data/tom_mid/Emu Drumulator-DrumulatorETomMid.wav\"], [\"./dk_data/tom_mid/Kawai r-50-MaxV - TOMM_R50.wav\"], [\"./dk_data/tom_mid/Kawai R50e-R50eTomE_Mid.wav\"], [\"./dk_data/tom_mid/Hohner Automatic-MaxV - Tom Mi.wav\"], [\"./dk_data/tom_mid/Yamaha PSR-MaxV - psr-tom1.wav\"], [\"./dk_data/tom_mid/Korg ddd5-MaxV - MIDTOM.wav\"], [\"./dk_data/tom_mid/Alesis DM5-DM5Tom08_M.wav\"], [\"./dk_data/tom_mid/Simmons SD-8-MaxV - TOM_02.wav\"], [\"./dk_data/tom_mid/Simmons SD-8-MaxV - TOM_15.wav\"]], \"hovertemplate\": \"drum_type=tom_mid<br>D1=%{x}<br>D2=%{y}<br>D3=%{z}<br>path=%{customdata[0]}<extra></extra>\", \"legendgroup\": \"tom_mid\", \"marker\": {\"color\": \"#EB663B\", \"line\": {\"color\": \"DarkSlateGrey\", \"width\": 0}, \"size\": 8, \"symbol\": \"circle\"}, \"mode\": \"markers\", \"name\": \"tom_mid\", \"scene\": \"scene\", \"showlegend\": true, \"type\": \"scatter3d\", \"x\": [14.598545999999999, 6.3654839999999995, 9.658874, 14.45465, 13.581398000000002, 13.590345000000001, 17.758337, 16.406387, 18.700403, 12.207605000000001, 16.953870000000002, 10.851773, 7.5698422999999995, 13.021868, 16.499767000000002, 13.916504999999999, 14.045048000000001, 16.796457, 13.610828, 16.767754, 17.525906, 10.677756, 14.145879999999998, 17.696512, 13.310735000000001, 16.529557999999998, 16.169420000000002, 15.059737, 15.316189999999999, 6.693082], \"y\": [-3.9209769, -7.927792, -11.022411, -3.9887, -0.13727032, -0.2560046, 1.7418636000000003, -4.3447733, -2.1064863, 1.8587192, -0.7705279, -8.371136, -7.736819000000001, -6.711349, -0.66956335, 3.5765002, -8.09036, -0.0131614655, -5.4873137000000005, 3.372837, -1.1925026, -1.2611024, 1.6346225, -2.3517827999999996, -3.0196970000000003, -9.626057000000001, 1.3649695, 0.14970666, -3.4794858, -7.221825599999999], \"z\": [6.1129, 3.3792690999999997, -2.058076, 4.3664556, 4.52451, 6.027579, 3.2020168, 0.71995425, 3.120189, -1.1980765, 6.617528, 11.816685000000001, 3.5327249, 13.175220000000001, 2.026964, 5.6224155, 2.885782, 4.538261400000001, 8.652830999999999, 5.8925824, 5.1071824999999995, 2.1654709999999997, 4.818279, 2.424239, 3.9408445, 0.5674553000000001, 5.54499, 5.3324194, 2.5506813999999998, 2.0240686]}, {\"customdata\": [[\"./dk_data/synth_noise/XU1F-1618-4.wav\"], [\"./dk_data/synth_noise/HIY1-1113-4.wav\"], [\"./dk_data/synth_noise/1LJG-1744-8.wav\"], [\"./dk_data/synth_noise/OV8W-3588-8.wav\"], [\"./dk_data/synth_noise/288-4-IRN1.wav\"], [\"./dk_data/synth_noise/1792-4-AF53.wav\"], [\"./dk_data/synth_noise/LXQS-1209-8.wav\"], [\"./dk_data/synth_noise/OTQT-2594-8.wav\"], [\"./dk_data/synth_noise/2LK2-299-1.wav\"], [\"./dk_data/synth_noise/X67U-3784-8.wav\"], [\"./dk_data/synth_noise/984-1-XY3F.wav\"], [\"./dk_data/synth_noise/OKOO-787-1.wav\"], [\"./dk_data/synth_noise/5HK4-1229-4.wav\"], [\"./dk_data/synth_noise/NB5T-1116-1.wav\"], [\"./dk_data/synth_noise/YO4A-270-8.wav\"], [\"./dk_data/synth_noise/TEMB-2863-1.wav\"], [\"./dk_data/synth_noise/SN6P-2551-1.wav\"], [\"./dk_data/synth_noise/IAU1-22-4.wav\"], [\"./dk_data/synth_noise/CD0V-1753-4.wav\"], [\"./dk_data/synth_noise/5PGR-1256-1.wav\"], [\"./dk_data/synth_noise/436-8-0S2D.wav\"], [\"./dk_data/synth_noise/566-4-ID14.wav\"], [\"./dk_data/synth_noise/2NQC-2561-4.wav\"], [\"./dk_data/synth_noise/5JF0-1232-1.wav\"], [\"./dk_data/synth_noise/9FO6-3528-4.wav\"], [\"./dk_data/synth_noise/OCMM-2593-8.wav\"], [\"./dk_data/synth_noise/FHS5-60-1.wav\"], [\"./dk_data/synth_noise/73-4-3C95.wav\"], [\"./dk_data/synth_noise/136-8-SV84.wav\"], [\"./dk_data/synth_noise/GXUQ-3519-1.wav\"], [\"./dk_data/synth_noise/MQ5M-3037-4.wav\"], [\"./dk_data/synth_noise/NK3P-2949-8.wav\"], [\"./dk_data/synth_noise/1559-8-XBU0.wav\"], [\"./dk_data/synth_noise/2SPB-3024-4.wav\"], [\"./dk_data/synth_noise/VEOF-2557-4.wav\"], [\"./dk_data/synth_noise/B7R5-3818-8.wav\"], [\"./dk_data/synth_noise/SVY0-2621-1.wav\"], [\"./dk_data/synth_noise/7YOI-1717-4.wav\"], [\"./dk_data/synth_noise/B1Q5-584-4.wav\"], [\"./dk_data/synth_noise/JEO4-3987-8.wav\"], [\"./dk_data/synth_noise/1241-4-6NVF.wav\"], [\"./dk_data/synth_noise/8R6Y-3607-8.wav\"], [\"./dk_data/synth_noise/HVJD-1787-4.wav\"], [\"./dk_data/synth_noise/GLOL-3556-4.wav\"], [\"./dk_data/synth_noise/3BPP-237-1.wav\"], [\"./dk_data/synth_noise/F1TP-3163-8.wav\"], [\"./dk_data/synth_noise/3RWM-2576-1.wav\"], [\"./dk_data/synth_noise/XF8E-3008-1.wav\"], [\"./dk_data/synth_noise/TWH9-3171-8.wav\"], [\"./dk_data/synth_noise/490-8-L3AV.wav\"], [\"./dk_data/synth_noise/S4VR-416-8.wav\"], [\"./dk_data/synth_noise/CW3A-3902-4.wav\"], [\"./dk_data/synth_noise/OR7P-2511-1.wav\"], [\"./dk_data/synth_noise/353-4-3QDL.wav\"], [\"./dk_data/synth_noise/497-4-JYDU.wav\"], [\"./dk_data/synth_noise/0DJX-3608-4.wav\"], [\"./dk_data/synth_noise/1085-1-JJM7.wav\"], [\"./dk_data/synth_noise/KAZI-2033-4.wav\"], [\"./dk_data/synth_noise/OQ4R-948-1.wav\"], [\"./dk_data/synth_noise/14TR-1626-8.wav\"], [\"./dk_data/synth_noise/1371-8-LQHT.wav\"], [\"./dk_data/synth_noise/JJYR-3526-8.wav\"], [\"./dk_data/synth_noise/FQ9E-930-4.wav\"], [\"./dk_data/synth_noise/1942-8-ZZWC.wav\"], [\"./dk_data/synth_noise/I0NR-3615-4.wav\"], [\"./dk_data/synth_noise/DIG6-551-1.wav\"], [\"./dk_data/synth_noise/107-4-42WV.wav\"], [\"./dk_data/synth_noise/KEU1-3208-4.wav\"], [\"./dk_data/synth_noise/2O2C-2180-1.wav\"], [\"./dk_data/synth_noise/L7ZW-1805-4.wav\"], [\"./dk_data/synth_noise/M48D-768-8.wav\"], [\"./dk_data/synth_noise/483-4-KVIP.wav\"], [\"./dk_data/synth_noise/1219-1-AUZ5.wav\"], [\"./dk_data/synth_noise/969-4-GO07.wav\"], [\"./dk_data/synth_noise/830-4-TC35.wav\"], [\"./dk_data/synth_noise/510-1-9JL9.wav\"], [\"./dk_data/synth_noise/BFXW-700-8.wav\"], [\"./dk_data/synth_noise/FIDJ-2104-8.wav\"], [\"./dk_data/synth_noise/6SM6-126-1.wav\"], [\"./dk_data/synth_noise/FZEI-1966-4.wav\"], [\"./dk_data/synth_noise/VR5G-638-4.wav\"], [\"./dk_data/synth_noise/891-8-96OS.wav\"], [\"./dk_data/synth_noise/0BTN-892-8.wav\"], [\"./dk_data/synth_noise/VVOO-1696-8.wav\"], [\"./dk_data/synth_noise/MW09-3205-8.wav\"], [\"./dk_data/synth_noise/500-8-5H9W.wav\"], [\"./dk_data/synth_noise/9ONZ-2957-8.wav\"], [\"./dk_data/synth_noise/LQKL-2085-8.wav\"], [\"./dk_data/synth_noise/F7ZI-3219-1.wav\"], [\"./dk_data/synth_noise/3UYK-2746-8.wav\"], [\"./dk_data/synth_noise/529-8-5L7V.wav\"], [\"./dk_data/synth_noise/MMG6-213-8.wav\"], [\"./dk_data/synth_noise/JL6I-378-1.wav\"], [\"./dk_data/synth_noise/YIBV-3915-8.wav\"], [\"./dk_data/synth_noise/876-1-8N94.wav\"], [\"./dk_data/synth_noise/750-8-1Z62.wav\"], [\"./dk_data/synth_noise/1467-4-T0WT.wav\"], [\"./dk_data/synth_noise/OF1Y-1925-1.wav\"], [\"./dk_data/synth_noise/FWW3-1999-8.wav\"], [\"./dk_data/synth_noise/92-1-USF3.wav\"], [\"./dk_data/synth_noise/9CE6-2173-1.wav\"], [\"./dk_data/synth_noise/LBRX-3074-4.wav\"], [\"./dk_data/synth_noise/ERG1-1286-4.wav\"], [\"./dk_data/synth_noise/MPNC-1171-4.wav\"], [\"./dk_data/synth_noise/883K-548-8.wav\"], [\"./dk_data/synth_noise/1047-1-97KQ.wav\"], [\"./dk_data/synth_noise/1394-8-DSTV.wav\"], [\"./dk_data/synth_noise/161-4-MAO4.wav\"], [\"./dk_data/synth_noise/3CZ5-1538-8.wav\"], [\"./dk_data/synth_noise/3KZK-1239-1.wav\"], [\"./dk_data/synth_noise/498-1-Z8R6.wav\"], [\"./dk_data/synth_noise/XTJQ-2895-4.wav\"], [\"./dk_data/synth_noise/4TXM-369-1.wav\"], [\"./dk_data/synth_noise/Q91I-993-1.wav\"], [\"./dk_data/synth_noise/DK92-441-8.wav\"], [\"./dk_data/synth_noise/272-8-EZ6G.wav\"], [\"./dk_data/synth_noise/GIJ9-3323-4.wav\"], [\"./dk_data/synth_noise/M4B6-894-1.wav\"], [\"./dk_data/synth_noise/LCXV-3333-1.wav\"], [\"./dk_data/synth_noise/FUKM-2884-8.wav\"], [\"./dk_data/synth_noise/1917-1-EC52.wav\"], [\"./dk_data/synth_noise/NGK0-2729-1.wav\"], [\"./dk_data/synth_noise/5ZPU-1861-8.wav\"], [\"./dk_data/synth_noise/0G24-3699-1.wav\"], [\"./dk_data/synth_noise/HU4P-1201-4.wav\"], [\"./dk_data/synth_noise/DI9N-3890-4.wav\"], [\"./dk_data/synth_noise/777-1-28ZI.wav\"], [\"./dk_data/synth_noise/IHA1-3614-1.wav\"], [\"./dk_data/synth_noise/51-1-M9JQ.wav\"], [\"./dk_data/synth_noise/QTHT-2660-1.wav\"], [\"./dk_data/synth_noise/E66K-2510-1.wav\"], [\"./dk_data/synth_noise/D3PX-115-1.wav\"], [\"./dk_data/synth_noise/9SBF-3393-1.wav\"], [\"./dk_data/synth_noise/FSVW-3712-4.wav\"], [\"./dk_data/synth_noise/1010-1-AWYM.wav\"], [\"./dk_data/synth_noise/4GDT-1997-1.wav\"], [\"./dk_data/synth_noise/P3T0-379-1.wav\"], [\"./dk_data/synth_noise/1941-4-S02B.wav\"], [\"./dk_data/synth_noise/DV2O-376-4.wav\"], [\"./dk_data/synth_noise/J7HA-1003-8.wav\"], [\"./dk_data/synth_noise/N4J7-3217-8.wav\"], [\"./dk_data/synth_noise/LUT8-3644-8.wav\"], [\"./dk_data/synth_noise/OF1C-2759-4.wav\"], [\"./dk_data/synth_noise/764-1-35ZC.wav\"], [\"./dk_data/synth_noise/E0Q7-2724-4.wav\"], [\"./dk_data/synth_noise/0OG2-2903-4.wav\"], [\"./dk_data/synth_noise/D95M-1125-1.wav\"], [\"./dk_data/synth_noise/TA5G-3438-8.wav\"], [\"./dk_data/synth_noise/1ZN0-3108-4.wav\"], [\"./dk_data/synth_noise/3EEB-2303-8.wav\"], [\"./dk_data/synth_noise/1712-4-N8VF.wav\"], [\"./dk_data/synth_noise/2BK5-1235-1.wav\"], [\"./dk_data/synth_noise/6YHA-361-1.wav\"], [\"./dk_data/synth_noise/9P5V-3314-4.wav\"], [\"./dk_data/synth_noise/SBAK-1129-8.wav\"], [\"./dk_data/synth_noise/IPL2-2727-8.wav\"], [\"./dk_data/synth_noise/HR69-1012-8.wav\"], [\"./dk_data/synth_noise/OPEM-1145-8.wav\"], [\"./dk_data/synth_noise/1874-4-P0LP.wav\"], [\"./dk_data/synth_noise/DZU4-919-1.wav\"], [\"./dk_data/synth_noise/1797-4-ZIDY.wav\"], [\"./dk_data/synth_noise/OZI9-3098-8.wav\"], [\"./dk_data/synth_noise/OWHC-1198-1.wav\"], [\"./dk_data/synth_noise/30-1-23EQ.wav\"], [\"./dk_data/synth_noise/ITQK-3523-8.wav\"], [\"./dk_data/synth_noise/76DD-3448-4.wav\"], [\"./dk_data/synth_noise/1263-4-D7S9.wav\"], [\"./dk_data/synth_noise/3BBR-2697-4.wav\"], [\"./dk_data/synth_noise/HZ6R-3147-4.wav\"], [\"./dk_data/synth_noise/IQG2-3894-8.wav\"], [\"./dk_data/synth_noise/74R6-1334-4.wav\"], [\"./dk_data/synth_noise/747-8-DH8Q.wav\"], [\"./dk_data/synth_noise/719C-1872-1.wav\"], [\"./dk_data/synth_noise/7XBH-2585-8.wav\"], [\"./dk_data/synth_noise/535-8-UAJO.wav\"], [\"./dk_data/synth_noise/TBHC-612-4.wav\"], [\"./dk_data/synth_noise/JEQJ-2046-1.wav\"], [\"./dk_data/synth_noise/L47E-2491-8.wav\"], [\"./dk_data/synth_noise/DMHX-1749-1.wav\"], [\"./dk_data/synth_noise/MWS3-1672-8.wav\"], [\"./dk_data/synth_noise/4APZ-3908-8.wav\"], [\"./dk_data/synth_noise/740-8-R3SZ.wav\"], [\"./dk_data/synth_noise/1839-4-2D7J.wav\"], [\"./dk_data/synth_noise/UASQ-307-8.wav\"], [\"./dk_data/synth_noise/QL59-1157-4.wav\"], [\"./dk_data/synth_noise/751-1-SEAV.wav\"], [\"./dk_data/synth_noise/3ZAW-2195-8.wav\"], [\"./dk_data/synth_noise/DKX0-3539-8.wav\"], [\"./dk_data/synth_noise/3DZ8-75-1.wav\"], [\"./dk_data/synth_noise/IO9Z-327-1.wav\"], [\"./dk_data/synth_noise/9YQA-1662-1.wav\"], [\"./dk_data/synth_noise/5NU0-3325-1.wav\"], [\"./dk_data/synth_noise/Y59J-1961-1.wav\"], [\"./dk_data/synth_noise/WJJV-2335-8.wav\"], [\"./dk_data/synth_noise/SETH-2620-8.wav\"], [\"./dk_data/synth_noise/7RUO-1283-8.wav\"], [\"./dk_data/synth_noise/3T34-3230-4.wav\"], [\"./dk_data/synth_noise/1363-1-HHU1.wav\"], [\"./dk_data/synth_noise/569-4-AKXB.wav\"], [\"./dk_data/synth_noise/OE64-3765-8.wav\"], [\"./dk_data/synth_noise/340-4-FHSE.wav\"], [\"./dk_data/synth_noise/1226-8-7ME5.wav\"], [\"./dk_data/synth_noise/GL02-1054-1.wav\"], [\"./dk_data/synth_noise/695-1-I5V8.wav\"], [\"./dk_data/synth_noise/8ICB-87-4.wav\"], [\"./dk_data/synth_noise/949-8-0Q0S.wav\"], [\"./dk_data/synth_noise/SKH7-2398-8.wav\"], [\"./dk_data/synth_noise/104-4-JF0H.wav\"], [\"./dk_data/synth_noise/ZIWE-1927-8.wav\"], [\"./dk_data/synth_noise/QY2H-3754-8.wav\"], [\"./dk_data/synth_noise/8AS7-1027-4.wav\"], [\"./dk_data/synth_noise/OMEJ-2626-8.wav\"], [\"./dk_data/synth_noise/DBG4-18-8.wav\"], [\"./dk_data/synth_noise/F31Z-792-8.wav\"], [\"./dk_data/synth_noise/1866-8-70ZX.wav\"], [\"./dk_data/synth_noise/51XU-1019-8.wav\"], [\"./dk_data/synth_noise/1670-8-6OBN.wav\"], [\"./dk_data/synth_noise/330-4-D1R9.wav\"], [\"./dk_data/synth_noise/1779-8-ED5A.wav\"], [\"./dk_data/synth_noise/NMB1-918-8.wav\"], [\"./dk_data/synth_noise/34XL-750-8.wav\"], [\"./dk_data/synth_noise/1427-4-T2K8.wav\"], [\"./dk_data/synth_noise/261-1-4ZF3.wav\"], [\"./dk_data/synth_noise/55S7-2215-4.wav\"], [\"./dk_data/synth_noise/QXA0-52-1.wav\"], [\"./dk_data/synth_noise/903-1-VCZX.wav\"], [\"./dk_data/synth_noise/AUVQ-2695-4.wav\"], [\"./dk_data/synth_noise/T8VF-1304-1.wav\"], [\"./dk_data/synth_noise/PZRI-1965-4.wav\"], [\"./dk_data/synth_noise/9Z0I-2343-8.wav\"], [\"./dk_data/synth_noise/2M48-2574-8.wav\"], [\"./dk_data/synth_noise/DCSF-1344-8.wav\"], [\"./dk_data/synth_noise/Q44F-3791-4.wav\"], [\"./dk_data/synth_noise/1963-1-JQR4.wav\"], [\"./dk_data/synth_noise/G4UY-2525-1.wav\"], [\"./dk_data/synth_noise/WLK9-1341-8.wav\"], [\"./dk_data/synth_noise/HXSG-699-4.wav\"], [\"./dk_data/synth_noise/775-4-6Z3U.wav\"], [\"./dk_data/synth_noise/OW28-3446-8.wav\"], [\"./dk_data/synth_noise/1121-4-YLB8.wav\"], [\"./dk_data/synth_noise/806-4-TZAG.wav\"], [\"./dk_data/synth_noise/NCOM-2001-4.wav\"], [\"./dk_data/synth_noise/I638-385-4.wav\"], [\"./dk_data/synth_noise/TL1K-1093-4.wav\"], [\"./dk_data/synth_noise/RC8U-3454-4.wav\"], [\"./dk_data/synth_noise/NQ13-2556-8.wav\"], [\"./dk_data/synth_noise/I3FA-1829-8.wav\"], [\"./dk_data/synth_noise/1083-4-V93J.wav\"], [\"./dk_data/synth_noise/APYR-2662-1.wav\"], [\"./dk_data/synth_noise/280-1-CG3B.wav\"], [\"./dk_data/synth_noise/W2ZC-279-8.wav\"], [\"./dk_data/synth_noise/Q00T-313-1.wav\"], [\"./dk_data/synth_noise/EMW0-477-1.wav\"], [\"./dk_data/synth_noise/79HU-3536-1.wav\"], [\"./dk_data/synth_noise/222-4-2Y4X.wav\"], [\"./dk_data/synth_noise/TOVH-2987-1.wav\"], [\"./dk_data/synth_noise/BVJ1-3294-4.wav\"], [\"./dk_data/synth_noise/1109-8-JVLO.wav\"], [\"./dk_data/synth_noise/76-8-SPY5.wav\"], [\"./dk_data/synth_noise/F5ET-3031-4.wav\"], [\"./dk_data/synth_noise/160-1-AKMB.wav\"], [\"./dk_data/synth_noise/LON3-1532-4.wav\"], [\"./dk_data/synth_noise/125-4-FFQX.wav\"], [\"./dk_data/synth_noise/DFD4-3874-8.wav\"], [\"./dk_data/synth_noise/GGG8-254-4.wav\"], [\"./dk_data/synth_noise/GOWD-3977-1.wav\"], [\"./dk_data/synth_noise/DSDA-642-8.wav\"], [\"./dk_data/synth_noise/Y9VD-1591-8.wav\"], [\"./dk_data/synth_noise/1830-2072-4.wav\"], [\"./dk_data/synth_noise/V76F-791-4.wav\"], [\"./dk_data/synth_noise/OQKJ-843-8.wav\"], [\"./dk_data/synth_noise/VJO9-2769-1.wav\"], [\"./dk_data/synth_noise/TJOS-1678-1.wav\"], [\"./dk_data/synth_noise/6VYS-3690-4.wav\"], [\"./dk_data/synth_noise/JHTX-3344-1.wav\"], [\"./dk_data/synth_noise/946-1-MNA7.wav\"], [\"./dk_data/synth_noise/1124-1-JZ50.wav\"], [\"./dk_data/synth_noise/C3C7-2007-8.wav\"], [\"./dk_data/synth_noise/U4ZI-1904-8.wav\"], [\"./dk_data/synth_noise/545-1-7CA0.wav\"], [\"./dk_data/synth_noise/EUX2-2885-4.wav\"], [\"./dk_data/synth_noise/1569-8-4SHJ.wav\"], [\"./dk_data/synth_noise/LS92-2642-1.wav\"], [\"./dk_data/synth_noise/117-1-EVPT.wav\"], [\"./dk_data/synth_noise/WD9O-3971-8.wav\"], [\"./dk_data/synth_noise/RDY0-1478-1.wav\"], [\"./dk_data/synth_noise/G4VP-3332-1.wav\"], [\"./dk_data/synth_noise/9OQ6-3184-8.wav\"], [\"./dk_data/synth_noise/1900-1-NOJ8.wav\"], [\"./dk_data/synth_noise/1555-1-3EDK.wav\"], [\"./dk_data/synth_noise/NYA0-1953-8.wav\"], [\"./dk_data/synth_noise/HB0D-3264-1.wav\"], [\"./dk_data/synth_noise/YCMC-3733-8.wav\"], [\"./dk_data/synth_noise/1685-4-KKGM.wav\"], [\"./dk_data/synth_noise/516-4-UH2M.wav\"], [\"./dk_data/synth_noise/1980-8-0TZE.wav\"], [\"./dk_data/synth_noise/VXU2-675-8.wav\"], [\"./dk_data/synth_noise/G8GD-3003-8.wav\"], [\"./dk_data/synth_noise/1453-8-5HBR.wav\"], [\"./dk_data/synth_noise/MSEG-3914-1.wav\"], [\"./dk_data/synth_noise/3XF6-1449-1.wav\"], [\"./dk_data/synth_noise/3FHC-177-1.wav\"], [\"./dk_data/synth_noise/VMIG-1796-4.wav\"], [\"./dk_data/synth_noise/8OCS-1202-8.wav\"], [\"./dk_data/synth_noise/1590-1-DXFO.wav\"], [\"./dk_data/synth_noise/65CU-2929-8.wav\"], [\"./dk_data/synth_noise/259-1-HTH3.wav\"], [\"./dk_data/synth_noise/P4DB-2218-1.wav\"], [\"./dk_data/synth_noise/O3AM-2026-1.wav\"], [\"./dk_data/synth_noise/684-4-6VKU.wav\"], [\"./dk_data/synth_noise/RMQI-3769-4.wav\"], [\"./dk_data/synth_noise/C8WI-1549-8.wav\"], [\"./dk_data/synth_noise/1379-4-32YD.wav\"], [\"./dk_data/synth_noise/AEHL-1790-4.wav\"], [\"./dk_data/synth_noise/1249-1-DWQJ.wav\"], [\"./dk_data/synth_noise/807-1-WIKJ.wav\"], [\"./dk_data/synth_noise/8TG6-3138-4.wav\"], [\"./dk_data/synth_noise/WAVV-2545-8.wav\"], [\"./dk_data/synth_noise/NXF4-1809-4.wav\"], [\"./dk_data/synth_noise/XOLQ-1272-8.wav\"], [\"./dk_data/synth_noise/CI7J-1947-4.wav\"], [\"./dk_data/synth_noise/1OQ1-1791-1.wav\"], [\"./dk_data/synth_noise/OLUS-1499-1.wav\"], [\"./dk_data/synth_noise/X10F-2891-1.wav\"], [\"./dk_data/synth_noise/KQ1H-355-4.wav\"], [\"./dk_data/synth_noise/WPPT-402-8.wav\"], [\"./dk_data/synth_noise/672-1-WJ9S.wav\"], [\"./dk_data/synth_noise/111-1-YN4L.wav\"], [\"./dk_data/synth_noise/KEJ1-3381-8.wav\"], [\"./dk_data/synth_noise/7A8F-1074-4.wav\"], [\"./dk_data/synth_noise/ULKW-2644-4.wav\"], [\"./dk_data/synth_noise/GS5I-1648-4.wav\"], [\"./dk_data/synth_noise/1342-4-YN25.wav\"], [\"./dk_data/synth_noise/BCBJ-106-4.wav\"], [\"./dk_data/synth_noise/5MU3-127-8.wav\"], [\"./dk_data/synth_noise/995-4-NABS.wav\"], [\"./dk_data/synth_noise/359-4-ZA4L.wav\"], [\"./dk_data/synth_noise/7NTX-2443-1.wav\"], [\"./dk_data/synth_noise/1537-1-7F05.wav\"], [\"./dk_data/synth_noise/S701-3123-1.wav\"], [\"./dk_data/synth_noise/725-1-G09I.wav\"], [\"./dk_data/synth_noise/416-4-AJFJ.wav\"], [\"./dk_data/synth_noise/2DQD-637-1.wav\"], [\"./dk_data/synth_noise/7CMI-1416-8.wav\"], [\"./dk_data/synth_noise/YDT5-2450-4.wav\"], [\"./dk_data/synth_noise/K8YS-3166-8.wav\"], [\"./dk_data/synth_noise/1354-8-83LE.wav\"], [\"./dk_data/synth_noise/HHC8-1368-1.wav\"], [\"./dk_data/synth_noise/RXL4-866-1.wav\"], [\"./dk_data/synth_noise/1382-4-2HE6.wav\"], [\"./dk_data/synth_noise/IM4C-867-4.wav\"], [\"./dk_data/synth_noise/1J66-3212-8.wav\"], [\"./dk_data/synth_noise/RD7C-1000-1.wav\"], [\"./dk_data/synth_noise/8R1A-3491-8.wav\"], [\"./dk_data/synth_noise/1015-4-ECK4.wav\"], [\"./dk_data/synth_noise/1005-4-CC9W.wav\"], [\"./dk_data/synth_noise/1628-4-AOGX.wav\"], [\"./dk_data/synth_noise/PAVK-1011-4.wav\"], [\"./dk_data/synth_noise/MZCY-3487-1.wav\"], [\"./dk_data/synth_noise/142-8-J52M.wav\"], [\"./dk_data/synth_noise/56A5-26-4.wav\"], [\"./dk_data/synth_noise/HGL9-3807-8.wav\"], [\"./dk_data/synth_noise/TP0H-2128-4.wav\"], [\"./dk_data/synth_noise/GFQE-1187-4.wav\"], [\"./dk_data/synth_noise/A5TQ-3350-8.wav\"], [\"./dk_data/synth_noise/1824-4-1Z09.wav\"], [\"./dk_data/synth_noise/1424-4-ZD5I.wav\"], [\"./dk_data/synth_noise/93B3-3475-1.wav\"], [\"./dk_data/synth_noise/ZQDN-2419-4.wav\"], [\"./dk_data/synth_noise/1979-4-J42B.wav\"], [\"./dk_data/synth_noise/3PU7-2439-4.wav\"], [\"./dk_data/synth_noise/118-8-EHBH.wav\"], [\"./dk_data/synth_noise/J090-617-8.wav\"], [\"./dk_data/synth_noise/M71R-454-8.wav\"], [\"./dk_data/synth_noise/662-4-VKEY.wav\"], [\"./dk_data/synth_noise/2DOA-2473-8.wav\"], [\"./dk_data/synth_noise/782-8-SNLH.wav\"], [\"./dk_data/synth_noise/KRBF-2636-4.wav\"], [\"./dk_data/synth_noise/ADEU-2806-1.wav\"], [\"./dk_data/synth_noise/1200-4-CVRC.wav\"], [\"./dk_data/synth_noise/156Q-3272-1.wav\"], [\"./dk_data/synth_noise/CZJZ-242-1.wav\"], [\"./dk_data/synth_noise/J2IP-3054-8.wav\"], [\"./dk_data/synth_noise/872-4-935Q.wav\"], [\"./dk_data/synth_noise/61-4-SP5E.wav\"], [\"./dk_data/synth_noise/DF5U-2117-4.wav\"], [\"./dk_data/synth_noise/RB75-2528-4.wav\"], [\"./dk_data/synth_noise/4-8-SJON.wav\"], [\"./dk_data/synth_noise/8O9Z-2494-1.wav\"], [\"./dk_data/synth_noise/8Q3W-736-4.wav\"], [\"./dk_data/synth_noise/863-4-PAZF.wav\"], [\"./dk_data/synth_noise/QUFT-785-4.wav\"], [\"./dk_data/synth_noise/YSTS-474-4.wav\"], [\"./dk_data/synth_noise/632-1-SLV1.wav\"], [\"./dk_data/synth_noise/O52A-2097-1.wav\"], [\"./dk_data/synth_noise/150-8-D4DZ.wav\"], [\"./dk_data/synth_noise/X1VQ-2055-1.wav\"], [\"./dk_data/synth_noise/AH1J-672-4.wav\"], [\"./dk_data/synth_noise/GO62-1414-4.wav\"], [\"./dk_data/synth_noise/V01N-2813-8.wav\"], [\"./dk_data/synth_noise/1777-8-D3BT.wav\"], [\"./dk_data/synth_noise/DVNE-3495-8.wav\"], [\"./dk_data/synth_noise/IW79-1722-8.wav\"], [\"./dk_data/synth_noise/EWJN-3146-1.wav\"], [\"./dk_data/synth_noise/9P32-222-1.wav\"], [\"./dk_data/synth_noise/Y9SW-2107-8.wav\"], [\"./dk_data/synth_noise/1718-8-76QD.wav\"], [\"./dk_data/synth_noise/6CMS-2098-8.wav\"], [\"./dk_data/synth_noise/1067-8-34S1.wav\"], [\"./dk_data/synth_noise/209-8-8IW2.wav\"], [\"./dk_data/synth_noise/1318-4-PHO4.wav\"], [\"./dk_data/synth_noise/182-1-OL38.wav\"], [\"./dk_data/synth_noise/212-8-O5O1.wav\"], [\"./dk_data/synth_noise/7ZAY-1619-1.wav\"], [\"./dk_data/synth_noise/387-1-TLTA.wav\"], [\"./dk_data/synth_noise/1623-8-YJCL.wav\"], [\"./dk_data/synth_noise/RQIC-2786-4.wav\"], [\"./dk_data/synth_noise/B9DV-3560-4.wav\"], [\"./dk_data/synth_noise/1734-4-KJ96.wav\"], [\"./dk_data/synth_noise/1916-1-P6SA.wav\"], [\"./dk_data/synth_noise/40-8-3YI0.wav\"], [\"./dk_data/synth_noise/SB7W-3472-1.wav\"], [\"./dk_data/synth_noise/I1XT-263-4.wav\"], [\"./dk_data/synth_noise/5IP1-2115-4.wav\"], [\"./dk_data/synth_noise/88-4-DE20.wav\"], [\"./dk_data/synth_noise/ZTIN-1180-4.wav\"], [\"./dk_data/synth_noise/71-8-86MQ.wav\"], [\"./dk_data/synth_noise/4WOC-3781-1.wav\"], [\"./dk_data/synth_noise/4SOZ-2758-1.wav\"], [\"./dk_data/synth_noise/1990-1-5G8I.wav\"], [\"./dk_data/synth_noise/991-4-A6VG.wav\"], [\"./dk_data/synth_noise/6KTA-253-8.wav\"], [\"./dk_data/synth_noise/ESC3-2268-1.wav\"], [\"./dk_data/synth_noise/IU9P-3106-4.wav\"], [\"./dk_data/synth_noise/SZAQ-2586-8.wav\"], [\"./dk_data/synth_noise/TTK2-3419-8.wav\"], [\"./dk_data/synth_noise/251-8-QN7T.wav\"], [\"./dk_data/synth_noise/OH3A-2417-8.wav\"], [\"./dk_data/synth_noise/346-1-4920.wav\"], [\"./dk_data/synth_noise/2H4S-1169-1.wav\"], [\"./dk_data/synth_noise/TPHG-1090-1.wav\"], [\"./dk_data/synth_noise/ODZC-3062-1.wav\"], [\"./dk_data/synth_noise/1IIE-2386-8.wav\"], [\"./dk_data/synth_noise/1619-3639-4.wav\"], [\"./dk_data/synth_noise/S4GY-560-4.wav\"], [\"./dk_data/synth_noise/C7QN-1747-8.wav\"], [\"./dk_data/synth_noise/U1HC-3850-4.wav\"], [\"./dk_data/synth_noise/S5LW-2961-8.wav\"], [\"./dk_data/synth_noise/665-8-ONSH.wav\"], [\"./dk_data/synth_noise/ZM40-2726-8.wav\"], [\"./dk_data/synth_noise/GEA6-1338-4.wav\"], [\"./dk_data/synth_noise/B0RB-1985-1.wav\"], [\"./dk_data/synth_noise/AO2N-878-1.wav\"], [\"./dk_data/synth_noise/7JGW-3813-4.wav\"], [\"./dk_data/synth_noise/WUTY-3377-4.wav\"], [\"./dk_data/synth_noise/M2LB-1799-8.wav\"], [\"./dk_data/synth_noise/1019-1-681U.wav\"], [\"./dk_data/synth_noise/MJGW-365-1.wav\"], [\"./dk_data/synth_noise/1151-4-8VWA.wav\"], [\"./dk_data/synth_noise/5CC5-410-1.wav\"], [\"./dk_data/synth_noise/358-1-V9N3.wav\"], [\"./dk_data/synth_noise/XK0Y-174-1.wav\"], [\"./dk_data/synth_noise/WQLC-601-1.wav\"], [\"./dk_data/synth_noise/K8B1-34-8.wav\"], [\"./dk_data/synth_noise/GFWN-2269-4.wav\"], [\"./dk_data/synth_noise/1359-1-WD77.wav\"], [\"./dk_data/synth_noise/X91F-205-4.wav\"], [\"./dk_data/synth_noise/1801-8-XCX7.wav\"], [\"./dk_data/synth_noise/GY35-3741-4.wav\"], [\"./dk_data/synth_noise/X5L0-3020-8.wav\"], [\"./dk_data/synth_noise/SLW9-1635-8.wav\"], [\"./dk_data/synth_noise/339-8-5NCG.wav\"], [\"./dk_data/synth_noise/CZDR-1454-4.wav\"], [\"./dk_data/synth_noise/1K7B-105-4.wav\"], [\"./dk_data/synth_noise/83Y3-1143-1.wav\"], [\"./dk_data/synth_noise/Q7UD-2049-4.wav\"], [\"./dk_data/synth_noise/94-4-AQ0U.wav\"], [\"./dk_data/synth_noise/PSJP-3131-1.wav\"], [\"./dk_data/synth_noise/WZPM-2659-8.wav\"], [\"./dk_data/synth_noise/8QUF-493-8.wav\"], [\"./dk_data/synth_noise/980-8-3Z13.wav\"], [\"./dk_data/synth_noise/440-4-CFL2.wav\"], [\"./dk_data/synth_noise/NPEA-2459-4.wav\"], [\"./dk_data/synth_noise/WGHV-3707-8.wav\"], [\"./dk_data/synth_noise/26-1-GO52.wav\"], [\"./dk_data/synth_noise/1441-8-PARG.wav\"], [\"./dk_data/synth_noise/ZM8J-2349-1.wav\"], [\"./dk_data/synth_noise/QQ08-3214-8.wav\"], [\"./dk_data/synth_noise/1415-4-C3CA.wav\"], [\"./dk_data/synth_noise/131-1-F5TZ.wav\"], [\"./dk_data/synth_noise/38-8-M45O.wav\"], [\"./dk_data/synth_noise/DRF9-130-8.wav\"], [\"./dk_data/synth_noise/GDDG-1377-1.wav\"], [\"./dk_data/synth_noise/X8N8-2017-4.wav\"], [\"./dk_data/synth_noise/67-8-KYK1.wav\"], [\"./dk_data/synth_noise/704-4-083D.wav\"], [\"./dk_data/synth_noise/A23M-906-1.wav\"], [\"./dk_data/synth_noise/BG0D-1850-8.wav\"], [\"./dk_data/synth_noise/27H4-1941-1.wav\"], [\"./dk_data/synth_noise/LL9B-1035-4.wav\"], [\"./dk_data/synth_noise/NA9L-349-1.wav\"], [\"./dk_data/synth_noise/XPVA-2960-1.wav\"], [\"./dk_data/synth_noise/5RZW-3296-4.wav\"], [\"./dk_data/synth_noise/646-8-9K74.wav\"], [\"./dk_data/synth_noise/T2R9-1914-1.wav\"], [\"./dk_data/synth_noise/ATAJ-2938-8.wav\"], [\"./dk_data/synth_noise/1080-1-DSGH.wav\"], [\"./dk_data/synth_noise/8GIX-3865-8.wav\"], [\"./dk_data/synth_noise/0289-2653-8.wav\"], [\"./dk_data/synth_noise/ZAIO-1819-1.wav\"], [\"./dk_data/synth_noise/87RX-2776-4.wav\"], [\"./dk_data/synth_noise/O13P-1110-1.wav\"], [\"./dk_data/synth_noise/597-1-RMGI.wav\"], [\"./dk_data/synth_noise/95H4-985-1.wav\"], [\"./dk_data/synth_noise/1755-8-DYO1.wav\"], [\"./dk_data/synth_noise/Q8IU-492-8.wav\"], [\"./dk_data/synth_noise/1600-4-MVL5.wav\"], [\"./dk_data/synth_noise/AA6A-3468-1.wav\"], [\"./dk_data/synth_noise/580-1-5LFE.wav\"], [\"./dk_data/synth_noise/1986-8-39IF.wav\"], [\"./dk_data/synth_noise/309-8-05J0.wav\"], [\"./dk_data/synth_noise/3CXW-2225-8.wav\"], [\"./dk_data/synth_noise/I002-1992-1.wav\"], [\"./dk_data/synth_noise/60E5-1360-1.wav\"], [\"./dk_data/synth_noise/AY08-607-1.wav\"], [\"./dk_data/synth_noise/S9NF-2360-8.wav\"], [\"./dk_data/synth_noise/1832-8-20QB.wav\"], [\"./dk_data/synth_noise/AYHM-2058-8.wav\"], [\"./dk_data/synth_noise/J6DU-1039-4.wav\"], [\"./dk_data/synth_noise/0T8K-1783-8.wav\"], [\"./dk_data/synth_noise/426-1-J7PE.wav\"], [\"./dk_data/synth_noise/X1Z1-294-8.wav\"], [\"./dk_data/synth_noise/5WZI-3329-8.wav\"], [\"./dk_data/synth_noise/1906-1-R9V5.wav\"], [\"./dk_data/synth_noise/645-8-QO5H.wav\"], [\"./dk_data/synth_noise/1576-4-H9N4.wav\"], [\"./dk_data/synth_noise/1325-8-RXP3.wav\"], [\"./dk_data/synth_noise/FM31-2851-8.wav\"], [\"./dk_data/synth_noise/1622-1-DV40.wav\"], [\"./dk_data/synth_noise/N4U8-1160-1.wav\"], [\"./dk_data/synth_noise/KI6I-553-4.wav\"], [\"./dk_data/synth_noise/H35P-2169-8.wav\"], [\"./dk_data/synth_noise/UE1X-1355-4.wav\"], [\"./dk_data/synth_noise/1177-4-JHIK.wav\"], [\"./dk_data/synth_noise/LL4V-2191-1.wav\"], [\"./dk_data/synth_noise/919-4-WCA6.wav\"], [\"./dk_data/synth_noise/07D7-109-4.wav\"], [\"./dk_data/synth_noise/1914-4-76H6.wav\"], [\"./dk_data/synth_noise/R58P-2953-4.wav\"], [\"./dk_data/synth_noise/1W59-1102-8.wav\"], [\"./dk_data/synth_noise/0B2V-1950-1.wav\"], [\"./dk_data/synth_noise/1716-1-AYT1.wav\"], [\"./dk_data/synth_noise/IKK5-2456-4.wav\"], [\"./dk_data/synth_noise/M3J2-2887-4.wav\"], [\"./dk_data/synth_noise/2S8C-1073-8.wav\"], [\"./dk_data/synth_noise/ORET-1265-1.wav\"], [\"./dk_data/synth_noise/DX33-1986-8.wav\"], [\"./dk_data/synth_noise/VCVU-3499-4.wav\"], [\"./dk_data/synth_noise/Q5XZ-3042-8.wav\"], [\"./dk_data/synth_noise/1GJU-3315-1.wav\"], [\"./dk_data/synth_noise/1915-1-00L4.wav\"], [\"./dk_data/synth_noise/W3PL-3313-1.wav\"], [\"./dk_data/synth_noise/VQ6V-1944-8.wav\"], [\"./dk_data/synth_noise/SJKE-933-8.wav\"], [\"./dk_data/synth_noise/1608-8-TLFU.wav\"], [\"./dk_data/synth_noise/U2TF-3742-4.wav\"], [\"./dk_data/synth_noise/ZI0M-2465-8.wav\"], [\"./dk_data/synth_noise/O947-804-1.wav\"], [\"./dk_data/synth_noise/875-8-BUGG.wav\"], [\"./dk_data/synth_noise/1449-4-YDNS.wav\"], [\"./dk_data/synth_noise/19-1-E31E.wav\"], [\"./dk_data/synth_noise/FQQK-3631-4.wav\"], [\"./dk_data/synth_noise/B234-119-4.wav\"], [\"./dk_data/synth_noise/594-8-607J.wav\"], [\"./dk_data/synth_noise/WUOK-2770-1.wav\"], [\"./dk_data/synth_noise/90PT-755-8.wav\"], [\"./dk_data/synth_noise/X6NM-1762-1.wav\"], [\"./dk_data/synth_noise/S4EL-882-8.wav\"], [\"./dk_data/synth_noise/PE8S-2519-4.wav\"], [\"./dk_data/synth_noise/Y9B0-3918-1.wav\"], [\"./dk_data/synth_noise/Z876-1833-8.wav\"], [\"./dk_data/synth_noise/NS1W-3587-1.wav\"], [\"./dk_data/synth_noise/W8RD-598-8.wav\"], [\"./dk_data/synth_noise/1624-8-U3S1.wav\"], [\"./dk_data/synth_noise/M3I3-1996-4.wav\"], [\"./dk_data/synth_noise/1198-1-WRPR.wav\"], [\"./dk_data/synth_noise/H3PR-3394-1.wav\"], [\"./dk_data/synth_noise/GHWG-1335-4.wav\"], [\"./dk_data/synth_noise/1343-8-LG3X.wav\"], [\"./dk_data/synth_noise/2XEN-2996-8.wav\"], [\"./dk_data/synth_noise/1515-4-MFK6.wav\"], [\"./dk_data/synth_noise/A2FU-1802-1.wav\"], [\"./dk_data/synth_noise/0SRJ-1928-8.wav\"], [\"./dk_data/synth_noise/QIYL-1844-4.wav\"], [\"./dk_data/synth_noise/1189-4-MAP0.wav\"], [\"./dk_data/synth_noise/ATGO-316-1.wav\"], [\"./dk_data/synth_noise/797-4-NCOL.wav\"], [\"./dk_data/synth_noise/181-8-KXBF.wav\"], [\"./dk_data/synth_noise/586K-2254-8.wav\"], [\"./dk_data/synth_noise/VHLO-1671-1.wav\"], [\"./dk_data/synth_noise/GFET-2066-4.wav\"], [\"./dk_data/synth_noise/9CH3-2766-8.wav\"], [\"./dk_data/synth_noise/1717-1-JOSH.wav\"], [\"./dk_data/synth_noise/241-1-G254.wav\"], [\"./dk_data/synth_noise/SQV8-828-4.wav\"], [\"./dk_data/synth_noise/KI3Z-1699-8.wav\"], [\"./dk_data/synth_noise/1093-4-DGD5.wav\"], [\"./dk_data/synth_noise/CLT4-2670-4.wav\"], [\"./dk_data/synth_noise/LMIV-2462-1.wav\"], [\"./dk_data/synth_noise/295-8-2IPC.wav\"], [\"./dk_data/synth_noise/JAY6-77-4.wav\"], [\"./dk_data/synth_noise/R0CT-2700-4.wav\"], [\"./dk_data/synth_noise/P9IN-3280-4.wav\"], [\"./dk_data/synth_noise/4BP0-3553-1.wav\"], [\"./dk_data/synth_noise/UV3G-2707-8.wav\"], [\"./dk_data/synth_noise/TWTF-3359-4.wav\"], [\"./dk_data/synth_noise/482-1-XDGB.wav\"], [\"./dk_data/synth_noise/Z72F-735-8.wav\"], [\"./dk_data/synth_noise/93ND-1915-4.wav\"], [\"./dk_data/synth_noise/9NHO-1193-8.wav\"], [\"./dk_data/synth_noise/H24N-2307-8.wav\"], [\"./dk_data/synth_noise/61Q3-513-8.wav\"], [\"./dk_data/synth_noise/FZWN-856-8.wav\"], [\"./dk_data/synth_noise/1806-8-FPEP.wav\"], [\"./dk_data/synth_noise/1044-1-A7NS.wav\"], [\"./dk_data/synth_noise/W8HE-3647-1.wav\"], [\"./dk_data/synth_noise/1440-8-9BMK.wav\"], [\"./dk_data/synth_noise/688-8-AI5R.wav\"], [\"./dk_data/synth_noise/KYYN-1739-8.wav\"], [\"./dk_data/synth_noise/445-4-GVSW.wav\"], [\"./dk_data/synth_noise/XIF1-3749-8.wav\"], [\"./dk_data/synth_noise/Y429-3960-4.wav\"], [\"./dk_data/synth_noise/1769-1-PWPT.wav\"], [\"./dk_data/synth_noise/LAEX-2841-4.wav\"], [\"./dk_data/synth_noise/822C-1474-4.wav\"], [\"./dk_data/synth_noise/SUTF-3916-4.wav\"], [\"./dk_data/synth_noise/1279-8-BZDJ.wav\"], [\"./dk_data/synth_noise/BYTG-1757-8.wav\"], [\"./dk_data/synth_noise/22XE-2139-4.wav\"], [\"./dk_data/synth_noise/DW9W-2415-4.wav\"], [\"./dk_data/synth_noise/KTMP-2140-4.wav\"], [\"./dk_data/synth_noise/992-1-A7VN.wav\"], [\"./dk_data/synth_noise/1898-1-U846.wav\"], [\"./dk_data/synth_noise/093W-1843-4.wav\"], [\"./dk_data/synth_noise/1TK1-3580-4.wav\"], [\"./dk_data/synth_noise/AFIQ-3017-4.wav\"], [\"./dk_data/synth_noise/1JT4-824-4.wav\"], [\"./dk_data/synth_noise/BPIB-1738-8.wav\"], [\"./dk_data/synth_noise/IZXM-3133-4.wav\"], [\"./dk_data/synth_noise/P0UE-2418-4.wav\"], [\"./dk_data/synth_noise/1731-4-ANDS.wav\"], [\"./dk_data/synth_noise/5U31-27-8.wav\"], [\"./dk_data/synth_noise/629-8-E98O.wav\"], [\"./dk_data/synth_noise/1383-4-0IX4.wav\"], [\"./dk_data/synth_noise/SC4P-333-8.wav\"], [\"./dk_data/synth_noise/OVY1-1983-4.wav\"], [\"./dk_data/synth_noise/BNGY-400-8.wav\"], [\"./dk_data/synth_noise/JK32-3748-8.wav\"], [\"./dk_data/synth_noise/3H53-1378-8.wav\"], [\"./dk_data/synth_noise/1016-4-JEB7.wav\"], [\"./dk_data/synth_noise/SKDQ-1561-1.wav\"], [\"./dk_data/synth_noise/203-1-CM58.wav\"], [\"./dk_data/synth_noise/874-4-QOCO.wav\"], [\"./dk_data/synth_noise/M1UL-1769-1.wav\"], [\"./dk_data/synth_noise/D2H2-2224-1.wav\"], [\"./dk_data/synth_noise/0F9C-2798-8.wav\"], [\"./dk_data/synth_noise/112-4-QS9X.wav\"], [\"./dk_data/synth_noise/Z15H-1924-8.wav\"], [\"./dk_data/synth_noise/4UHU-178-1.wav\"], [\"./dk_data/synth_noise/262-1-3DCK.wav\"], [\"./dk_data/synth_noise/1089-8-LNSY.wav\"], [\"./dk_data/synth_noise/SDZJ-1433-4.wav\"], [\"./dk_data/synth_noise/1273-1-WVG4.wav\"], [\"./dk_data/synth_noise/602-8-07DL.wav\"], [\"./dk_data/synth_noise/ZDL8-404-1.wav\"], [\"./dk_data/synth_noise/IQFQ-3459-4.wav\"], [\"./dk_data/synth_noise/609-4-VXFB.wav\"], [\"./dk_data/synth_noise/1497-1-FTEW.wav\"], [\"./dk_data/synth_noise/X5UA-754-8.wav\"], [\"./dk_data/synth_noise/8N9A-195-1.wav\"], [\"./dk_data/synth_noise/3YPE-3529-1.wav\"], [\"./dk_data/synth_noise/1847-1-ZVDM.wav\"], [\"./dk_data/synth_noise/9GGK-644-1.wav\"], [\"./dk_data/synth_noise/714-4-35YS.wav\"], [\"./dk_data/synth_noise/8QSU-188-8.wav\"], [\"./dk_data/synth_noise/FGD9-1405-4.wav\"], [\"./dk_data/synth_noise/1814-8-O5OO.wav\"], [\"./dk_data/synth_noise/1326-4-YUKC.wav\"], [\"./dk_data/synth_noise/D5YS-721-8.wav\"], [\"./dk_data/synth_noise/98B2-139-8.wav\"], [\"./dk_data/synth_noise/NGSZ-424-1.wav\"], [\"./dk_data/synth_noise/147-8-3NX6.wav\"], [\"./dk_data/synth_noise/F583-1723-4.wav\"], [\"./dk_data/synth_noise/1736-8-EI1K.wav\"], [\"./dk_data/synth_noise/E13F-136-8.wav\"], [\"./dk_data/synth_noise/793-1-NI7S.wav\"], [\"./dk_data/synth_noise/J18L-635-8.wav\"], [\"./dk_data/synth_noise/AGSP-3789-1.wav\"], [\"./dk_data/synth_noise/X1HD-1536-1.wav\"], [\"./dk_data/synth_noise/1240-8-WFQR.wav\"], [\"./dk_data/synth_noise/ZLAN-3191-8.wav\"], [\"./dk_data/synth_noise/0O2Q-729-4.wav\"], [\"./dk_data/synth_noise/T5GI-3677-4.wav\"], [\"./dk_data/synth_noise/9FQD-3151-1.wav\"], [\"./dk_data/synth_noise/M29I-1956-8.wav\"], [\"./dk_data/synth_noise/AL88-3750-4.wav\"], [\"./dk_data/synth_noise/1883-4-STGX.wav\"], [\"./dk_data/synth_noise/220-8-4PGS.wav\"], [\"./dk_data/synth_noise/NRQ7-2404-4.wav\"], [\"./dk_data/synth_noise/RVC7-2657-8.wav\"], [\"./dk_data/synth_noise/293A-3342-8.wav\"], [\"./dk_data/synth_noise/677-4-T3NZ.wav\"], [\"./dk_data/synth_noise/W64G-1107-8.wav\"], [\"./dk_data/synth_noise/JE7W-3857-1.wav\"], [\"./dk_data/synth_noise/WF4V-125-4.wav\"], [\"./dk_data/synth_noise/U87S-861-1.wav\"], [\"./dk_data/synth_noise/AO3W-1121-1.wav\"], [\"./dk_data/synth_noise/F4UP-2794-8.wav\"], [\"./dk_data/synth_noise/LJG6-2669-4.wav\"], [\"./dk_data/synth_noise/55PH-2054-1.wav\"], [\"./dk_data/synth_noise/OGFQ-2575-4.wav\"], [\"./dk_data/synth_noise/13-4-VGZL.wav\"], [\"./dk_data/synth_noise/GKHD-2186-8.wav\"], [\"./dk_data/synth_noise/HOCF-3369-4.wav\"], [\"./dk_data/synth_noise/T85N-2165-8.wav\"], [\"./dk_data/synth_noise/360-1-4AG3.wav\"], [\"./dk_data/synth_noise/5V9E-73-4.wav\"], [\"./dk_data/synth_noise/9MJT-2696-1.wav\"], [\"./dk_data/synth_noise/CFMS-3335-4.wav\"], [\"./dk_data/synth_noise/UFSP-850-1.wav\"], [\"./dk_data/synth_noise/JA5O-2673-1.wav\"], [\"./dk_data/synth_noise/41-1-7R5M.wav\"], [\"./dk_data/synth_noise/1351-1-WNWJ.wav\"], [\"./dk_data/synth_noise/945-1-KWCU.wav\"], [\"./dk_data/synth_noise/0IOJ-3099-4.wav\"], [\"./dk_data/synth_noise/HAPS-1721-1.wav\"], [\"./dk_data/synth_noise/818-4-UJ90.wav\"], [\"./dk_data/synth_noise/52MQ-2804-1.wav\"], [\"./dk_data/synth_noise/R6HB-2735-4.wav\"], [\"./dk_data/synth_noise/R1VQ-1750-4.wav\"], [\"./dk_data/synth_noise/2JVC-89-1.wav\"], [\"./dk_data/synth_noise/L8NE-593-1.wav\"], [\"./dk_data/synth_noise/1DEN-2318-1.wav\"], [\"./dk_data/synth_noise/TM5V-682-4.wav\"], [\"./dk_data/synth_noise/YIZR-1127-4.wav\"], [\"./dk_data/synth_noise/Q1LX-929-8.wav\"], [\"./dk_data/synth_noise/T7AN-1252-1.wav\"], [\"./dk_data/synth_noise/ZK6L-2337-8.wav\"], [\"./dk_data/synth_noise/4VRG-434-8.wav\"], [\"./dk_data/synth_noise/GI2Q-1524-8.wav\"], [\"./dk_data/synth_noise/DCY5-847-1.wav\"], [\"./dk_data/synth_noise/4LPZ-2481-4.wav\"], [\"./dk_data/synth_noise/A34U-3015-4.wav\"], [\"./dk_data/synth_noise/7OUR-2249-4.wav\"], [\"./dk_data/synth_noise/276-4-ZMT1.wav\"], [\"./dk_data/synth_noise/285-8-WGGO.wav\"], [\"./dk_data/synth_noise/KM9Y-3625-8.wav\"], [\"./dk_data/synth_noise/DH0P-2081-4.wav\"], [\"./dk_data/synth_noise/X7DC-2865-4.wav\"], [\"./dk_data/synth_noise/275Z-3819-8.wav\"], [\"./dk_data/synth_noise/UWOL-2982-4.wav\"], [\"./dk_data/synth_noise/921-4-CRJ6.wav\"], [\"./dk_data/synth_noise/CFWD-2688-8.wav\"], [\"./dk_data/synth_noise/0VRZ-1374-1.wav\"], [\"./dk_data/synth_noise/5J7D-3000-4.wav\"], [\"./dk_data/synth_noise/1498-1-K84D.wav\"], [\"./dk_data/synth_noise/Y799-1320-8.wav\"], [\"./dk_data/synth_noise/249-1-9G9E.wav\"], [\"./dk_data/synth_noise/1838-8-UI5K.wav\"], [\"./dk_data/synth_noise/1156-8-E89V.wav\"], [\"./dk_data/synth_noise/XY9K-1504-8.wav\"], [\"./dk_data/synth_noise/T4UP-1370-1.wav\"], [\"./dk_data/synth_noise/374H-2993-1.wav\"], [\"./dk_data/synth_noise/GVR7-49-4.wav\"], [\"./dk_data/synth_noise/PUEJ-81-1.wav\"], [\"./dk_data/synth_noise/7P05-2892-4.wav\"], [\"./dk_data/synth_noise/44R5-1768-4.wav\"], [\"./dk_data/synth_noise/1227-1-PFN6.wav\"], [\"./dk_data/synth_noise/IX1F-1910-1.wav\"], [\"./dk_data/synth_noise/2V5I-3288-8.wav\"], [\"./dk_data/synth_noise/5WT4-1590-8.wav\"], [\"./dk_data/synth_noise/766-8-00UL.wav\"], [\"./dk_data/synth_noise/WTWW-2946-1.wav\"], [\"./dk_data/synth_noise/1JRU-2426-8.wav\"], [\"./dk_data/synth_noise/CPM8-808-4.wav\"], [\"./dk_data/synth_noise/1369-1-HVKI.wav\"], [\"./dk_data/synth_noise/NRP6-1977-4.wav\"], [\"./dk_data/synth_noise/1060-8-AFZW.wav\"], [\"./dk_data/synth_noise/NQW9-3310-4.wav\"], [\"./dk_data/synth_noise/341-4-MXQW.wav\"], [\"./dk_data/synth_noise/RO0G-2134-4.wav\"], [\"./dk_data/synth_noise/739-8-V6HE.wav\"], [\"./dk_data/synth_noise/PNGZ-473-1.wav\"], [\"./dk_data/synth_noise/1284-8-2C0H.wav\"], [\"./dk_data/synth_noise/0NXW-440-1.wav\"], [\"./dk_data/synth_noise/1858-8-8XD6.wav\"], [\"./dk_data/synth_noise/MK54-2250-1.wav\"], [\"./dk_data/synth_noise/KFW3-3898-8.wav\"], [\"./dk_data/synth_noise/LR6C-3666-4.wav\"], [\"./dk_data/synth_noise/IUAR-627-1.wav\"], [\"./dk_data/synth_noise/43TO-1435-4.wav\"], [\"./dk_data/synth_noise/5W60-1793-1.wav\"], [\"./dk_data/synth_noise/5-1-U9WL.wav\"], [\"./dk_data/synth_noise/1192-8-JN8R.wav\"], [\"./dk_data/synth_noise/KLE6-1530-8.wav\"], [\"./dk_data/synth_noise/1660-8-EO81.wav\"], [\"./dk_data/synth_noise/YC64-3649-1.wav\"], [\"./dk_data/synth_noise/TSN1-2536-4.wav\"], [\"./dk_data/synth_noise/LC5N-352-4.wav\"], [\"./dk_data/synth_noise/F34E-3427-1.wav\"], [\"./dk_data/synth_noise/EA1D-1050-1.wav\"], [\"./dk_data/synth_noise/44CP-1148-4.wav\"], [\"./dk_data/synth_noise/1705-8-I1TD.wav\"], [\"./dk_data/synth_noise/FXRA-1646-8.wav\"], [\"./dk_data/synth_noise/8ZLM-2261-1.wav\"], [\"./dk_data/synth_noise/Y9BI-433-4.wav\"], [\"./dk_data/synth_noise/BQVG-3652-4.wav\"], [\"./dk_data/synth_noise/RW6I-2009-8.wav\"], [\"./dk_data/synth_noise/1291-8-FV3X.wav\"], [\"./dk_data/synth_noise/996F-2681-8.wav\"], [\"./dk_data/synth_noise/R1L9-1984-4.wav\"], [\"./dk_data/synth_noise/QTBH-1923-1.wav\"], [\"./dk_data/synth_noise/YYO3-953-1.wav\"], [\"./dk_data/synth_noise/4DG0-3414-4.wav\"], [\"./dk_data/synth_noise/GS3N-3077-1.wav\"], [\"./dk_data/synth_noise/O560-1547-4.wav\"], [\"./dk_data/synth_noise/518-8-VYRV.wav\"], [\"./dk_data/synth_noise/GYSU-3846-1.wav\"], [\"./dk_data/synth_noise/M8DY-2810-4.wav\"], [\"./dk_data/synth_noise/OF0C-3506-1.wav\"], [\"./dk_data/synth_noise/1788-8-PCZC.wav\"], [\"./dk_data/synth_noise/60EN-3732-1.wav\"], [\"./dk_data/synth_noise/LG6R-1629-8.wav\"], [\"./dk_data/synth_noise/EZAL-994-8.wav\"], [\"./dk_data/synth_noise/DGB8-421-4.wav\"], [\"./dk_data/synth_noise/YA75-1060-8.wav\"], [\"./dk_data/synth_noise/1546-4-OEC3.wav\"], [\"./dk_data/synth_noise/1387-4-RCQP.wav\"], [\"./dk_data/synth_noise/R3SG-152-4.wav\"], [\"./dk_data/synth_noise/QVDD-1055-4.wav\"], [\"./dk_data/synth_noise/UOLK-1392-8.wav\"], [\"./dk_data/synth_noise/C3QD-1092-1.wav\"], [\"./dk_data/synth_noise/TXG1-0-1.wav\"], [\"./dk_data/synth_noise/0I2S-3337-4.wav\"], [\"./dk_data/synth_noise/PX0D-1880-4.wav\"], [\"./dk_data/synth_noise/121-1-VLGR.wav\"], [\"./dk_data/synth_noise/J2E3-199-8.wav\"], [\"./dk_data/synth_noise/450-8-TMNG.wav\"], [\"./dk_data/synth_noise/1964-4-8J2G.wav\"], [\"./dk_data/synth_noise/C33J-3966-1.wav\"], [\"./dk_data/synth_noise/334-8-2FPS.wav\"], [\"./dk_data/synth_noise/CCM6-640-4.wav\"], [\"./dk_data/synth_noise/QKA9-3101-8.wav\"], [\"./dk_data/synth_noise/473-8-CA68.wav\"], [\"./dk_data/synth_noise/JVEQ-3771-8.wav\"], [\"./dk_data/synth_noise/I2JT-1163-1.wav\"], [\"./dk_data/synth_noise/J213-2524-1.wav\"], [\"./dk_data/synth_noise/M0LW-488-1.wav\"], [\"./dk_data/synth_noise/1238-4-E3PR.wav\"], [\"./dk_data/synth_noise/RYW5-1818-4.wav\"], [\"./dk_data/synth_noise/PQYA-964-8.wav\"], [\"./dk_data/synth_noise/1929-4-FUQP.wav\"], [\"./dk_data/synth_noise/266-4-FYLR.wav\"], [\"./dk_data/synth_noise/MPLX-3952-4.wav\"], [\"./dk_data/synth_noise/BJ4R-1071-4.wav\"], [\"./dk_data/synth_noise/884-1-BHWR.wav\"], [\"./dk_data/synth_noise/XM3N-2542-4.wav\"], [\"./dk_data/synth_noise/9H0P-2333-8.wav\"], [\"./dk_data/synth_noise/143-8-67WA.wav\"], [\"./dk_data/synth_noise/759-8-LX2B.wav\"], [\"./dk_data/synth_noise/9NVN-330-1.wav\"], [\"./dk_data/synth_noise/R7F5-583-8.wav\"], [\"./dk_data/synth_noise/FK9G-3319-8.wav\"], [\"./dk_data/synth_noise/1617-8-JZKB.wav\"], [\"./dk_data/synth_noise/VJ9U-417-8.wav\"], [\"./dk_data/synth_noise/682-1-4CGC.wav\"], [\"./dk_data/synth_noise/1501-1-TNTK.wav\"], [\"./dk_data/synth_noise/1004-8-QU7G.wav\"], [\"./dk_data/synth_noise/1504-1-47N4.wav\"], [\"./dk_data/synth_noise/1547-8-ZS1U.wav\"], [\"./dk_data/synth_noise/L3ZB-857-8.wav\"], [\"./dk_data/synth_noise/DD80-3604-1.wav\"], [\"./dk_data/synth_noise/QEZT-717-8.wav\"], [\"./dk_data/synth_noise/317-8-DC1O.wav\"], [\"./dk_data/synth_noise/4LGE-1290-4.wav\"], [\"./dk_data/synth_noise/H9BX-907-1.wav\"], [\"./dk_data/synth_noise/ZU6W-1664-4.wav\"], [\"./dk_data/synth_noise/MJ0B-1592-4.wav\"], [\"./dk_data/synth_noise/1616-1-3FEI.wav\"], [\"./dk_data/synth_noise/YFCE-858-1.wav\"], [\"./dk_data/synth_noise/56DC-1150-4.wav\"], [\"./dk_data/synth_noise/7ZMX-3922-1.wav\"], [\"./dk_data/synth_noise/465-4-NIKL.wav\"], [\"./dk_data/synth_noise/281-4-M3K8.wav\"], [\"./dk_data/synth_noise/Y3US-110-4.wav\"], [\"./dk_data/synth_noise/635-8-OXB1.wav\"], [\"./dk_data/synth_noise/Q39U-3338-4.wav\"], [\"./dk_data/synth_noise/318-4-BQQ3.wav\"], [\"./dk_data/synth_noise/0RG9-2380-4.wav\"], [\"./dk_data/synth_noise/736-1-Z30W.wav\"], [\"./dk_data/synth_noise/1511-1312-1.wav\"], [\"./dk_data/synth_noise/Q6NR-3795-4.wav\"], [\"./dk_data/synth_noise/Z1BI-2074-4.wav\"], [\"./dk_data/synth_noise/4SRU-2111-4.wav\"], [\"./dk_data/synth_noise/WF9Z-98-4.wav\"], [\"./dk_data/synth_noise/CWP8-2119-1.wav\"], [\"./dk_data/synth_noise/8K1A-2956-8.wav\"], [\"./dk_data/synth_noise/405-8-U7BB.wav\"], [\"./dk_data/synth_noise/1NLN-3227-1.wav\"], [\"./dk_data/synth_noise/1438-4-2VBO.wav\"], [\"./dk_data/synth_noise/RDLO-972-8.wav\"], [\"./dk_data/synth_noise/328-1-ZZXC.wav\"], [\"./dk_data/synth_noise/E2K6-1511-1.wav\"], [\"./dk_data/synth_noise/373-8-N2HD.wav\"], [\"./dk_data/synth_noise/I36P-505-8.wav\"], [\"./dk_data/synth_noise/K49M-1051-8.wav\"], [\"./dk_data/synth_noise/1222-4-2189.wav\"], [\"./dk_data/synth_noise/738-4-Y0U2.wav\"], [\"./dk_data/synth_noise/D8GT-774-4.wav\"], [\"./dk_data/synth_noise/626-1-XRWQ.wav\"], [\"./dk_data/synth_noise/10-8-WHOC.wav\"], [\"./dk_data/synth_noise/CUWD-1091-8.wav\"], [\"./dk_data/synth_noise/3T0S-758-1.wav\"], [\"./dk_data/synth_noise/DAHH-2612-1.wav\"], [\"./dk_data/synth_noise/DJLR-2296-8.wav\"], [\"./dk_data/synth_noise/229-8-ZV0O.wav\"], [\"./dk_data/synth_noise/VLWR-3355-1.wav\"], [\"./dk_data/synth_noise/BDS0-2416-4.wav\"], [\"./dk_data/synth_noise/NMB0-1258-4.wav\"], [\"./dk_data/synth_noise/H2QR-3847-8.wav\"], [\"./dk_data/synth_noise/6N63-28-4.wav\"], [\"./dk_data/synth_noise/XILK-1497-4.wav\"], [\"./dk_data/synth_noise/NQFA-3849-4.wav\"], [\"./dk_data/synth_noise/1088-4-HFF1.wav\"], [\"./dk_data/synth_noise/PZY6-567-4.wav\"], [\"./dk_data/synth_noise/442-1-MOFA.wav\"], [\"./dk_data/synth_noise/17-8-G4N8.wav\"], [\"./dk_data/synth_noise/723-4-5XAT.wav\"], [\"./dk_data/synth_noise/UYA5-1697-4.wav\"], [\"./dk_data/synth_noise/Z39P-1813-1.wav\"], [\"./dk_data/synth_noise/953-4-DSHQ.wav\"], [\"./dk_data/synth_noise/1701-1-V87B.wav\"], [\"./dk_data/synth_noise/0-1-YUFU.wav\"], [\"./dk_data/synth_noise/DUER-3423-4.wav\"], [\"./dk_data/synth_noise/1217-1-TEEV.wav\"], [\"./dk_data/synth_noise/ZW9U-2522-4.wav\"], [\"./dk_data/synth_noise/RYU6-2719-8.wav\"], [\"./dk_data/synth_noise/GTI6-1228-4.wav\"], [\"./dk_data/synth_noise/571-1-NO45.wav\"], [\"./dk_data/synth_noise/LQSL-1307-8.wav\"], [\"./dk_data/synth_noise/HXFR-3304-4.wav\"], [\"./dk_data/synth_noise/IYI6-2835-1.wav\"], [\"./dk_data/synth_noise/407-4-AZN2.wav\"], [\"./dk_data/synth_noise/1NK2-3568-1.wav\"], [\"./dk_data/synth_noise/J6YM-1776-8.wav\"], [\"./dk_data/synth_noise/US71-336-8.wav\"], [\"./dk_data/synth_noise/6DJL-2050-4.wav\"], [\"./dk_data/synth_noise/I7BJ-969-8.wav\"], [\"./dk_data/synth_noise/BGG5-3598-8.wav\"], [\"./dk_data/synth_noise/I1E4-133-4.wav\"], [\"./dk_data/synth_noise/1104-8-DFRZ.wav\"], [\"./dk_data/synth_noise/ZICQ-1389-8.wav\"], [\"./dk_data/synth_noise/KRLC-2040-1.wav\"], [\"./dk_data/synth_noise/TNUN-1741-8.wav\"], [\"./dk_data/synth_noise/3NN0-1815-8.wav\"], [\"./dk_data/synth_noise/LUDO-1007-8.wav\"], [\"./dk_data/synth_noise/PW43-3080-4.wav\"], [\"./dk_data/synth_noise/TFD0-790-1.wav\"], [\"./dk_data/synth_noise/291-1-YBDA.wav\"], [\"./dk_data/synth_noise/TFOJ-3177-4.wav\"], [\"./dk_data/synth_noise/604-4-55DN.wav\"], [\"./dk_data/synth_noise/9QIL-998-4.wav\"], [\"./dk_data/synth_noise/1565-4-FHFP.wav\"], [\"./dk_data/synth_noise/1204-4-GZA0.wav\"], [\"./dk_data/synth_noise/SBN6-2299-8.wav\"], [\"./dk_data/synth_noise/I5IN-351-8.wav\"], [\"./dk_data/synth_noise/CCW3-2359-8.wav\"], [\"./dk_data/synth_noise/204-1-FEYZ.wav\"], [\"./dk_data/synth_noise/X9TF-777-8.wav\"], [\"./dk_data/synth_noise/ALSN-2855-4.wav\"], [\"./dk_data/synth_noise/EMSD-633-1.wav\"], [\"./dk_data/synth_noise/W5D0-37-8.wav\"], [\"./dk_data/synth_noise/1100-8-7IJI.wav\"], [\"./dk_data/synth_noise/PZEP-273-1.wav\"], [\"./dk_data/synth_noise/YM7R-626-1.wav\"], [\"./dk_data/synth_noise/58-1-314D.wav\"], [\"./dk_data/synth_noise/1147-4-WSM2.wav\"], [\"./dk_data/synth_noise/W3CY-1144-8.wav\"], [\"./dk_data/synth_noise/639-4-SD5X.wav\"], [\"./dk_data/synth_noise/1502-4-3PDJ.wav\"], [\"./dk_data/synth_noise/1N9B-2470-4.wav\"], [\"./dk_data/synth_noise/TJ8J-1321-8.wav\"], [\"./dk_data/synth_noise/YPV4-2788-1.wav\"], [\"./dk_data/synth_noise/2AR1-992-1.wav\"], [\"./dk_data/synth_noise/3POE-521-4.wav\"], [\"./dk_data/synth_noise/1256-1-G6M1.wav\"], [\"./dk_data/synth_noise/G3F2-1801-8.wav\"], [\"./dk_data/synth_noise/524-4-AIAA.wav\"], [\"./dk_data/synth_noise/FASX-1237-1.wav\"], [\"./dk_data/synth_noise/YIJS-3379-8.wav\"], [\"./dk_data/synth_noise/K2KN-2181-8.wav\"], [\"./dk_data/synth_noise/OBYZ-1690-8.wav\"], [\"./dk_data/synth_noise/UAL1-903-4.wav\"], [\"./dk_data/synth_noise/VEQP-1130-8.wav\"], [\"./dk_data/synth_noise/1J5F-446-1.wav\"], [\"./dk_data/synth_noise/386-1-2T2R.wav\"], [\"./dk_data/synth_noise/MVJ1-2210-8.wav\"], [\"./dk_data/synth_noise/200-8-WUHV.wav\"], [\"./dk_data/synth_noise/RT6Y-321-1.wav\"], [\"./dk_data/synth_noise/6HKA-2584-1.wav\"], [\"./dk_data/synth_noise/1152-1-60OV.wav\"], [\"./dk_data/synth_noise/V5KT-722-1.wav\"], [\"./dk_data/synth_noise/BDAK-2815-8.wav\"], [\"./dk_data/synth_noise/3A99-2858-8.wav\"], [\"./dk_data/synth_noise/1178-4-19VH.wav\"], [\"./dk_data/synth_noise/619-8-R6NY.wav\"], [\"./dk_data/synth_noise/XQQC-2409-1.wav\"], [\"./dk_data/synth_noise/242-4-GLZF.wav\"], [\"./dk_data/synth_noise/5MKR-674-4.wav\"], [\"./dk_data/synth_noise/184-1-8Z0I.wav\"], [\"./dk_data/synth_noise/1503-8-Y5RK.wav\"], [\"./dk_data/synth_noise/1078-8-TNH5.wav\"], [\"./dk_data/synth_noise/561-4-WPE7.wav\"], [\"./dk_data/synth_noise/1294-1-AWVB.wav\"], [\"./dk_data/synth_noise/K87A-383-1.wav\"], [\"./dk_data/synth_noise/FQ1P-431-1.wav\"], [\"./dk_data/synth_noise/O9SZ-2265-8.wav\"], [\"./dk_data/synth_noise/NYUZ-3202-4.wav\"], [\"./dk_data/synth_noise/12MQ-1326-1.wav\"], [\"./dk_data/synth_noise/188-8-QP4O.wav\"], [\"./dk_data/synth_noise/3XZ9-1847-4.wav\"], [\"./dk_data/synth_noise/N5KP-309-8.wav\"], [\"./dk_data/synth_noise/HIG8-443-4.wav\"], [\"./dk_data/synth_noise/1468-8-NU0C.wav\"], [\"./dk_data/synth_noise/TFU0-1413-8.wav\"], [\"./dk_data/synth_noise/VOE9-3722-4.wav\"], [\"./dk_data/synth_noise/33X2-2295-8.wav\"], [\"./dk_data/synth_noise/1954-1-UZAT.wav\"], [\"./dk_data/synth_noise/DQ0W-2750-1.wav\"], [\"./dk_data/synth_noise/MDH6-3747-8.wav\"], [\"./dk_data/synth_noise/474-1-SE9K.wav\"], [\"./dk_data/synth_noise/349-4-BLZR.wav\"], [\"./dk_data/synth_noise/MJPS-1759-8.wav\"], [\"./dk_data/synth_noise/MDRY-150-8.wav\"], [\"./dk_data/synth_noise/4Y3I-2483-8.wav\"], [\"./dk_data/synth_noise/1820-4-D4V9.wav\"], [\"./dk_data/synth_noise/SVN8-1851-1.wav\"], [\"./dk_data/synth_noise/BW1K-2718-4.wav\"], [\"./dk_data/synth_noise/ERS5-3425-1.wav\"], [\"./dk_data/synth_noise/QIRQ-2567-4.wav\"], [\"./dk_data/synth_noise/78FY-3034-8.wav\"], [\"./dk_data/synth_noise/505X-731-8.wav\"], [\"./dk_data/synth_noise/3AMB-219-4.wav\"], [\"./dk_data/synth_noise/113-8-541Q.wav\"], [\"./dk_data/synth_noise/7KER-29-8.wav\"], [\"./dk_data/synth_noise/1577-8-Y2VS.wav\"], [\"./dk_data/synth_noise/1653-1-2LUB.wav\"], [\"./dk_data/synth_noise/715-4-QI4C.wav\"], [\"./dk_data/synth_noise/337-4-5VGV.wav\"], [\"./dk_data/synth_noise/5QEK-1423-4.wav\"], [\"./dk_data/synth_noise/DMX2-639-8.wav\"], [\"./dk_data/synth_noise/1246-8-LXP8.wav\"], [\"./dk_data/synth_noise/NK9A-3503-8.wav\"], [\"./dk_data/synth_noise/858-1-XUBN.wav\"], [\"./dk_data/synth_noise/ZUQX-63-4.wav\"], [\"./dk_data/synth_noise/1276-8-YKM2.wav\"], [\"./dk_data/synth_noise/9736-155-4.wav\"], [\"./dk_data/synth_noise/ADWX-3883-1.wav\"], [\"./dk_data/synth_noise/96LY-278-8.wav\"], [\"./dk_data/synth_noise/29MN-2649-1.wav\"], [\"./dk_data/synth_noise/NP75-3659-1.wav\"], [\"./dk_data/synth_noise/1MBP-2301-4.wav\"], [\"./dk_data/synth_noise/CHRL-3407-8.wav\"], [\"./dk_data/synth_noise/IING-1663-8.wav\"], [\"./dk_data/synth_noise/ZUX8-874-8.wav\"], [\"./dk_data/synth_noise/S7DE-1611-8.wav\"], [\"./dk_data/synth_noise/9Y0Q-2130-8.wav\"], [\"./dk_data/synth_noise/WIJU-3095-4.wav\"], [\"./dk_data/synth_noise/XY9D-249-4.wav\"], [\"./dk_data/synth_noise/LT7V-1990-8.wav\"], [\"./dk_data/synth_noise/CJ9B-3209-8.wav\"], [\"./dk_data/synth_noise/CM5K-2506-8.wav\"], [\"./dk_data/synth_noise/2CSB-797-8.wav\"], [\"./dk_data/synth_noise/678-8-9CMO.wav\"], [\"./dk_data/synth_noise/T7Q3-3318-1.wav\"], [\"./dk_data/synth_noise/12M8-3931-1.wav\"], [\"./dk_data/synth_noise/126-1-1RXP.wav\"], [\"./dk_data/synth_noise/1012-4-UT5Q.wav\"], [\"./dk_data/synth_noise/4TPM-3076-4.wav\"], [\"./dk_data/synth_noise/3BM7-519-4.wav\"], [\"./dk_data/synth_noise/UCE0-3224-1.wav\"], [\"./dk_data/synth_noise/SYT5-1383-4.wav\"], [\"./dk_data/synth_noise/925-4-4BPE.wav\"], [\"./dk_data/synth_noise/166-4-18XH.wav\"], [\"./dk_data/synth_noise/Y0YC-869-8.wav\"], [\"./dk_data/synth_noise/F03J-3505-1.wav\"], [\"./dk_data/synth_noise/1131-4-3ONU.wav\"], [\"./dk_data/synth_noise/8KQJ-509-1.wav\"], [\"./dk_data/synth_noise/THBI-3624-1.wav\"], [\"./dk_data/synth_noise/OC1V-212-1.wav\"], [\"./dk_data/synth_noise/733-8-WDDM.wav\"], [\"./dk_data/synth_noise/1896-8-EYP3.wav\"], [\"./dk_data/synth_noise/774-8-Q0OW.wav\"], [\"./dk_data/synth_noise/1618-8-Y637.wav\"], [\"./dk_data/synth_noise/CVQT-2029-4.wav\"], [\"./dk_data/synth_noise/3ZWA-586-8.wav\"], [\"./dk_data/synth_noise/1261-8-U2I5.wav\"], [\"./dk_data/synth_noise/910-1-QI07.wav\"], [\"./dk_data/synth_noise/OEK8-1837-4.wav\"], [\"./dk_data/synth_noise/1752-8-GETD.wav\"], [\"./dk_data/synth_noise/28LI-472-1.wav\"], [\"./dk_data/synth_noise/AQBK-1814-4.wav\"], [\"./dk_data/synth_noise/633-8-NPG3.wav\"], [\"./dk_data/synth_noise/845-4-97HS.wav\"], [\"./dk_data/synth_noise/K342-3436-4.wav\"], [\"./dk_data/synth_noise/429-4-X3I8.wav\"], [\"./dk_data/synth_noise/1322-8-5UKE.wav\"], [\"./dk_data/synth_noise/54TZ-2876-1.wav\"], [\"./dk_data/synth_noise/3QNP-2553-8.wav\"], [\"./dk_data/synth_noise/ACIP-3430-1.wav\"], [\"./dk_data/synth_noise/4QDU-1943-4.wav\"], [\"./dk_data/synth_noise/E870-3058-1.wav\"], [\"./dk_data/synth_noise/X72K-2294-8.wav\"], [\"./dk_data/synth_noise/2EAJ-3159-1.wav\"], [\"./dk_data/synth_noise/Y8VP-3992-1.wav\"], [\"./dk_data/synth_noise/1865-1-ZI6T.wav\"], [\"./dk_data/synth_noise/7-1-0M8M.wav\"], [\"./dk_data/synth_noise/BZ0F-1315-1.wav\"], [\"./dk_data/synth_noise/AFFB-430-1.wav\"], [\"./dk_data/synth_noise/27-8-GRMB.wav\"], [\"./dk_data/synth_noise/JPRD-2164-8.wav\"], [\"./dk_data/synth_noise/610-8-IJA8.wav\"], [\"./dk_data/synth_noise/3K1D-3485-1.wav\"], [\"./dk_data/synth_noise/AKQ3-2541-4.wav\"], [\"./dk_data/synth_noise/MMDG-3169-1.wav\"], [\"./dk_data/synth_noise/AFVW-978-8.wav\"], [\"./dk_data/synth_noise/K8TJ-1226-1.wav\"], [\"./dk_data/synth_noise/370-8-4H0J.wav\"], [\"./dk_data/synth_noise/05TY-1751-8.wav\"], [\"./dk_data/synth_noise/YNE0-862-8.wav\"], [\"./dk_data/synth_noise/WQ7D-966-4.wav\"], [\"./dk_data/synth_noise/WAZ4-3569-8.wav\"], [\"./dk_data/synth_noise/7I1U-1495-8.wav\"], [\"./dk_data/synth_noise/OK4V-1862-1.wav\"], [\"./dk_data/synth_noise/DC0N-2123-4.wav\"], [\"./dk_data/synth_noise/0785-200-1.wav\"], [\"./dk_data/synth_noise/627-4-N9NX.wav\"], [\"./dk_data/synth_noise/555-1-NGHK.wav\"], [\"./dk_data/synth_noise/1949-4-IXDA.wav\"], [\"./dk_data/synth_noise/853-1-BCGD.wav\"], [\"./dk_data/synth_noise/425-4-3B00.wav\"], [\"./dk_data/synth_noise/1CKX-3051-1.wav\"], [\"./dk_data/synth_noise/KIR0-3926-8.wav\"], [\"./dk_data/synth_noise/1920-4-6I7H.wav\"], [\"./dk_data/synth_noise/FRK1-2693-4.wav\"], [\"./dk_data/synth_noise/661-4-K440.wav\"], [\"./dk_data/synth_noise/E2VS-3073-4.wav\"], [\"./dk_data/synth_noise/RCGB-3997-4.wav\"], [\"./dk_data/synth_noise/R8TE-3948-1.wav\"], [\"./dk_data/synth_noise/826-4-JU90.wav\"], [\"./dk_data/synth_noise/CYPG-989-1.wav\"], [\"./dk_data/synth_noise/WPJ7-1911-8.wav\"], [\"./dk_data/synth_noise/1677-4-4E58.wav\"], [\"./dk_data/synth_noise/WKWJ-1988-1.wav\"], [\"./dk_data/synth_noise/176-4-CSH8.wav\"], [\"./dk_data/synth_noise/80-1-EGK8.wav\"], [\"./dk_data/synth_noise/WI6H-3009-1.wav\"], [\"./dk_data/synth_noise/CRVL-407-8.wav\"], [\"./dk_data/synth_noise/SH7G-33-4.wav\"], [\"./dk_data/synth_noise/1857-1-PO5X.wav\"], [\"./dk_data/synth_noise/TS52-2150-1.wav\"], [\"./dk_data/synth_noise/4H3E-310-1.wav\"], [\"./dk_data/synth_noise/MP9B-3032-4.wav\"], [\"./dk_data/synth_noise/JF4Y-302-8.wav\"], [\"./dk_data/synth_noise/U59L-653-1.wav\"], [\"./dk_data/synth_noise/1879-8-96QN.wav\"], [\"./dk_data/synth_noise/03P7-643-1.wav\"], [\"./dk_data/synth_noise/4X9C-168-1.wav\"], [\"./dk_data/synth_noise/JRES-2981-1.wav\"], [\"./dk_data/synth_noise/1139-4-K47S.wav\"], [\"./dk_data/synth_noise/DHWE-3825-8.wav\"], [\"./dk_data/synth_noise/1811-8-NRF1.wav\"], [\"./dk_data/synth_noise/YPEK-1217-8.wav\"], [\"./dk_data/synth_noise/1002-8-T5K4.wav\"], [\"./dk_data/synth_noise/638-4-7BII.wav\"], [\"./dk_data/synth_noise/GS9B-585-4.wav\"], [\"./dk_data/synth_noise/QTG4-1184-1.wav\"], [\"./dk_data/synth_noise/FTEV-1661-4.wav\"], [\"./dk_data/synth_noise/ZTLD-1578-1.wav\"], [\"./dk_data/synth_noise/HU07-405-1.wav\"], [\"./dk_data/synth_noise/A4J0-569-1.wav\"], [\"./dk_data/synth_noise/KG25-3322-4.wav\"], [\"./dk_data/synth_noise/575-8-QZ4H.wav\"], [\"./dk_data/synth_noise/UIKF-128-8.wav\"], [\"./dk_data/synth_noise/1910-4-0OSD.wav\"], [\"./dk_data/synth_noise/MDNF-3125-8.wav\"], [\"./dk_data/synth_noise/F567-1097-4.wav\"], [\"./dk_data/synth_noise/BLE0-547-1.wav\"], [\"./dk_data/synth_noise/OFDW-1348-4.wav\"], [\"./dk_data/synth_noise/232-8-H8DC.wav\"], [\"./dk_data/synth_noise/1228-8-9AUS.wav\"], [\"./dk_data/synth_noise/849-4-4ZV9.wav\"], [\"./dk_data/synth_noise/1996-8-QOY8.wav\"], [\"./dk_data/synth_noise/3TEK-3713-1.wav\"], [\"./dk_data/synth_noise/JG5E-1581-8.wav\"], [\"./dk_data/synth_noise/9IPQ-1140-1.wav\"], [\"./dk_data/synth_noise/C7R1-67-1.wav\"], [\"./dk_data/synth_noise/X3IM-1875-1.wav\"], [\"./dk_data/synth_noise/P0SC-3148-4.wav\"], [\"./dk_data/synth_noise/1855-4-AQ8H.wav\"], [\"./dk_data/synth_noise/VJP2-448-1.wav\"], [\"./dk_data/synth_noise/210-1-UEPQ.wav\"], [\"./dk_data/synth_noise/1NN4-2329-8.wav\"], [\"./dk_data/synth_noise/BT1W-2796-8.wav\"], [\"./dk_data/synth_noise/S0SD-3861-1.wav\"], [\"./dk_data/synth_noise/1165-8-R4SN.wav\"], [\"./dk_data/synth_noise/ABRJ-1255-1.wav\"], [\"./dk_data/synth_noise/QQ66-50-4.wav\"], [\"./dk_data/synth_noise/S3RT-879-8.wav\"], [\"./dk_data/synth_noise/00V8-1296-4.wav\"], [\"./dk_data/synth_noise/1339-1-H39R.wav\"], [\"./dk_data/synth_noise/UUB9-1770-1.wav\"], [\"./dk_data/synth_noise/ZJXB-238-1.wav\"], [\"./dk_data/synth_noise/838-8-XBHZ.wav\"], [\"./dk_data/synth_noise/NH29-1189-4.wav\"], [\"./dk_data/synth_noise/D3X4-1644-4.wav\"]], \"hovertemplate\": \"drum_type=synth_noise<br>D1=%{x}<br>D2=%{y}<br>D3=%{z}<br>path=%{customdata[0]}<extra></extra>\", \"legendgroup\": \"synth_noise\", \"marker\": {\"color\": \"#511CFB\", \"line\": {\"color\": \"DarkSlateGrey\", \"width\": 0}, \"size\": 8, \"symbol\": \"circle\"}, \"mode\": \"markers\", \"name\": \"synth_noise\", \"scene\": \"scene\", \"showlegend\": true, \"type\": \"scatter3d\", \"x\": [-9.937355, -3.0884845000000003, -12.142387, -0.10972317, -6.000975599999999, -7.3843417, -8.518313000000001, -2.0169713, -19.224037, 1.583102, -4.9040235999999995, 3.2773087, -15.249897, -9.442960000000001, -11.456909, 1.3722798, -6.238039499999999, -7.8546309999999995, -3.4552730000000005, 6.5122957, -8.10582, 2.7249105, -2.4799322999999998, 15.98696, -14.731357999999998, -14.892007000000001, 4.493459, -11.156174, -0.14445831, -5.5052905, -0.56586903, -4.7369127, -1.1631436000000002, -10.487686, 4.983012, -5.778798999999999, 2.6739802000000004, -13.7223625, 3.1208234, -16.97991, -10.779575999999999, -3.8194008000000004, -5.9002040000000004, -4.9846449999999995, -0.8049339, -11.175605000000001, -3.8552034, 3.3213072, -11.989828, -7.110469999999999, 2.8314157000000004, -4.7898817000000005, -5.448485400000001, -12.650103, -3.4752512, -17.140978, -3.4078767, 10.319683, -8.342856, -6.6044855, -3.7379569999999998, -4.873943, -0.020797256, -0.61775714, 2.9680192, 1.2433491, -11.795628, -5.5042214000000005, -11.2076235, 1.3873411, -12.330461999999999, 2.4544040000000003, -1.1286521999999999, 21.56767, -6.909935000000001, -5.7394, -11.392249000000001, -9.121319999999999, 5.9135637, -9.79562, -0.26995996, -5.8436513, -5.726155, -5.957104, -7.247835, -5.9713154, 0.45391503, -3.6141317, -4.5202003, -10.362558, -10.494242, -4.982304599999999, 2.8754158, -5.5919045999999994, 21.398504, -16.6943, -2.4570048, -10.277597, -7.856421000000001, -3.6339309999999996, -5.899993, 2.1001236, -11.641619, -12.583712, -13.899682, 1.9323226000000002, -2.7417636, -12.323568, -10.384536, -7.6634808, -14.468298999999998, -1.0100311, 0.9893662, -1.8162444, -1.539479, -11.741298, 1.9939618000000001, -8.200621, 1.0537538999999998, 2.4143237999999996, -7.548452, 8.087914999999999, -1.5351596, -9.591169, 2.6895509, -5.464313, -1.6852236, 7.782173599999999, 0.4092175, -6.5849804999999995, 7.742783, -3.2094347, -0.22825886, 3.6653678, 10.886061999999999, -0.02166359, 3.4741752, -7.8796916, -0.03542479, -7.788636, -4.193809, -13.274576999999999, -11.203153, 1.7264348000000003, 2.313138, 2.5949292, -10.409417, -6.615195, -6.9376755, -7.0151377, -6.9791327, -2.0592942, 3.539104, -10.910097, 0.7922138000000001, -0.24306759, -12.19202, -6.4399347, 4.784665599999999, -15.593938, -7.1095624000000015, -1.0675253999999998, 2.9357398, -2.2547622000000005, -11.676679, -0.28038582, -9.875894, -14.226254999999998, 0.094770804, 7.248009, -10.082464, -11.8535185, -2.4144557, -0.44269896, 0.33882070000000003, -11.156261, -17.724329, -12.225814, -1.6479483, -5.292138, -8.96267, 11.481897, -6.910095699999999, -3.8156773999999998, 1.0359969, -2.405226, -4.917559, -0.5093118, 6.702608000000001, 1.0633347, -2.9271464, 1.4829255, 11.843268, -5.697908, -4.413975, -14.986307, -11.3870535, -5.924110400000001, -4.604734, -17.171896, -8.75417, -4.7163057, 3.650985, -2.7210104, -8.670252, -7.313286, -9.146056, 2.8173453999999998, -6.1475945, -4.889181, -2.2650754, -13.424329, -7.106639, 1.4550667, -5.6779117999999995, -6.665118, -8.462831, 9.005792, -7.1874504, -5.5069222, 2.3996453, 10.750007, 1.5483321, -3.1351461, 17.745594, 6.598905, -0.17191982, 6.649189999999999, -11.230238, -8.221238, -16.708462, -4.758138, -1.316974, 18.80729, 3.7026595999999996, -12.360505, -10.051938, 1.0081433000000002, -5.982429499999999, 1.3293184, -5.4499197, 9.805989, 5.54935, -1.5365806999999998, -9.176686, 2.914702, -9.741485, -2.9333272, -13.534818, -11.006077000000001, -6.2589684000000005, -1.3089516, 4.033906, -4.3697352, -5.694383, -6.507811, -12.557017, 1.0688488, -11.268763, 2.1528714, -14.149564000000002, -1.7890598999999998, -8.859465, -7.6972985000000005, 0.52234393, -11.933769, -7.533367999999999, 0.8059076000000001, -6.630166, -2.1657882, -6.343905400000001, -2.7324514, -9.3742, -17.748327, 3.2719758, 5.441922, -5.0647345, -1.3566953000000002, -13.03546, -8.333188999999999, -8.241811, -2.6517868, 5.073236, 5.322463, -0.06152946, -12.033237, 3.4853811, -6.0511436, 4.2524953000000005, 7.179587400000001, -1.6820113999999997, 0.92936295, -1.0557268999999998, -11.998261999999999, 4.573543, -8.138478, -1.7361678, -9.985750999999999, -2.7368717, 8.035282, 7.826545200000001, -9.995039, -12.976181, -4.085771, 2.8955932, -17.025019, -11.753399, -12.210345, 1.3618057, -0.38877034, -10.799108, 0.54551846, -8.237766, -12.623883, -8.842731, -3.6067336, -0.76641685, -0.09964059, 0.10524034, 1.4297323, 0.9643703000000001, -3.7257656999999997, -15.494593, -2.3817427, 0.08469733, -14.184961999999999, -9.565754, 3.0755854, -10.246769, -8.640951, -6.7312193, 0.39501476, 3.0532935, -12.62957, 0.2819177, -0.48215517, -9.667399000000001, -0.87653005, 11.396662, 5.898480999999999, -0.114254035, -5.842005, 11.0958185, 0.41849622, -15.792729000000001, 6.7498684, -2.7342467, 3.6487796, -2.1277351, 3.229446, 3.0549020000000002, -5.935065, 2.7238226, -3.6598287000000003, -5.0576153, 3.044665, -5.380293, -13.929068, 3.2487614, -2.1204731, -16.840448000000002, -8.671736, 0.16549525, -12.265442, -1.218171, -13.151021, -10.545014, 13.230572, -3.6212115, -11.981617, -14.225041000000001, 5.021797, -8.894819, -13.462251, -9.35101, -5.528423, -6.306479, 2.9637463, -12.31195, -3.8422475, -13.545339000000002, -11.647884, 11.265630999999999, -12.984943, -11.992744, -6.258396599999999, -9.850192999999999, -2.1173290000000002, -10.616505, 2.405793, 4.8737010000000005, -15.44011, 0.4062257, -13.877564000000001, 4.2833934000000005, -6.4960437, -11.299445, -1.8098283, -9.93637, -4.9454103, -10.08212, -0.68757874, 0.7772725, 6.886947, -9.787796, -2.1802384999999997, -3.286149, -6.4431389999999995, -0.60950255, -3.3322053, -9.485208, -4.1680565000000005, -6.798909700000001, 1.5722408, 3.7939754, -6.3233904999999995, -8.694586, 4.1552114, 2.494257, -4.2276110000000005, -7.982767, -8.364312, -1.3971858, -9.008496000000001, -1.0925399, -13.907519, -10.306438, 8.730898, -17.628918, -9.274382000000001, -3.9702995000000003, -6.087027, 0.41237056, -12.0695915, -10.429219999999999, -7.023554300000001, 4.661196, -10.418349000000001, -12.422079, 1.6301525, -3.5466409, 2.7391756000000003, 2.5859146, 0.8682726999999999, -10.781892, -14.079654999999999, -10.678206, -7.5053144, 10.827633, 1.9020164000000002, 3.3840525, 11.242517999999999, 9.816614, -2.1175572999999996, -12.63064, -12.682159, -8.65277, -2.9525657, -13.248548499999998, -4.602145, 5.8862996, -1.6145724, 11.762483, 0.96162695, -10.389699, 8.916653, -6.9729529999999995, -8.113422, -6.410324, -7.0892797000000005, -3.2771726, -9.843442, 9.874300999999999, -10.313656, -17.29498, -7.4318814, -7.875331399999999, -9.512171, -3.0219254, -10.668317, -8.799142999999999, -11.093774, 0.73742837, -1.4706606000000002, 10.211101, -9.9396925, 5.4708514, -9.292688, -6.3270593, -4.113389499999999, -0.2980812, -3.4830389999999998, 6.210436, -7.0968175, -5.7792473, -10.680758, -4.8796763, -3.6195784, -9.897488000000001, -9.518955, 4.7659745000000004, -7.5147333, -0.86996824, -2.3414638, 2.7779047, -12.301269, -0.06944576, -1.1212393, 0.8457884, -15.082384, -6.262335, -6.1528816, -12.845761999999999, -6.895397, 1.0224226, -0.60948837, -12.721349, -11.047369, -13.469789000000002, -12.598794999999999, -6.141174299999999, -4.6657977, -7.49763, -3.5055707000000003, 4.351866, 2.024874, -14.496514000000001, -7.656401600000001, -4.6892104, -9.123130999999999, -10.306397, -1.3569708999999999, -6.736560300000001, -2.9572065, -7.981185000000001, -2.7920557999999995, -11.18408, -8.035136, 4.05565, -9.014294999999999, -7.3520474, -15.388765, 0.25887704, -7.8622, -0.22200479999999997, -9.007254, 5.199696, -11.783551, -2.9388375, 4.4204464, -10.95888, -11.012462, 4.5521593000000005, -8.722175, -2.4481509, -14.494667000000002, -9.996253, -5.298877200000001, 10.414178999999999, -13.603098999999998, -6.4286575, 3.8159870000000002, -12.967578, -4.339075599999999, -4.0674067, -8.759236999999999, -9.124945, -12.435016000000001, -16.61365, -12.642289, -9.602714, 1.1343322, -19.041746, -10.427896, 1.0842121, -7.553783999999999, 12.319153, -11.787319, 1.5555617, -5.564659, -6.937804700000001, 2.927455, -6.5501002999999995, -3.6334312000000004, -2.311141, 4.8575206, -8.966894, 3.4187492999999995, -11.297831, -1.7655699, -6.2183824, 4.196111, -5.3887506, -10.977881, -10.218554, 0.6642035, -1.3329716999999999, -9.726264, 9.806675, -7.3475470000000005, -8.857623, -0.07583475, 2.999693, 2.065977, -12.007091, -5.149322, 3.1712182, -12.475961999999999, -14.462503, -16.9756, -3.9218156000000004, -0.21355705, 1.0930028, -5.445541400000001, -13.607514000000002, 3.4779525000000002, 4.353994999999999, -4.315061599999999, -6.6707149999999995, 0.67663366, 2.6799366, -0.8324381, -1.684616, -14.209809, -16.148848, -13.738318, -15.459085, -6.9565225, -7.306467, -7.024547999999999, -15.226007000000001, -8.164398, -5.1234903, 9.517971000000001, -7.8049539999999995, -13.710745000000001, -18.201096, -12.526467, 4.172676999999999, -0.5221298, -4.9663167, -9.681649, 7.650631, 2.4857092, -11.838346000000001, -18.350346, -5.0217843, -2.0601974, -15.816707999999998, -2.9140224, -7.961927, -6.5591807, -14.291726999999998, -1.9797324, -7.777077, -2.7589377999999996, -14.980375, -4.650821, -9.511493, -1.0280472, -13.350047, 10.538747, -9.517559, -2.2599244, 1.7108818, -9.796547, -7.6111580000000005, -3.809932, -13.245729999999998, -12.216851, -0.5034741, -10.4047, 4.654631, -14.747304999999999, -3.7324722, 20.476494, -6.51713, -3.7999199999999997, -6.985932000000001, -9.818997999999999, -1.5790727, 2.6282262999999997, -0.14312693, -7.4972587, -18.434093, -1.2139552, 2.4116470000000003, -9.058666, -6.380968599999999, -1.6839248, -1.1211286, -3.7018065000000004, -3.139464, -12.137096000000001, 4.593780000000001, 4.3965760000000005, -13.038053, -15.70345, -7.6387339999999995, -1.7011195, -4.860028, 0.19533809, -8.940750999999999, -4.790837000000001, -6.895185499999999, 8.021236, -4.5462112, 15.257164999999999, -5.3848343000000005, -11.204716000000001, 3.4928825, 7.3308672999999995, -0.3058639, -8.281594, 2.2060735, 4.418121299999999, -3.1071827, -13.581219, -10.230919, -3.5871138999999994, -15.216505999999999, 10.837211, -15.787714999999999, 0.8634234000000001, -4.743716200000001, 5.795452, -14.683069, 5.555618, -0.1971866, -12.567014, -15.494845999999999, -11.9094515, -9.495778999999999, 5.2328567999999995, -9.076181, -6.774367, -5.690551, 1.4124308, 6.695029700000001, -15.888167000000001, 9.290037, -11.14977, -9.692654, -14.058225, -11.511991499999999, -6.440767299999999, -5.556218, 10.178087, 19.91581, -7.556816599999999, -5.1804194, 3.3389351, -0.07824071, 4.5196586, -2.1990507000000004, -8.637182000000001, -6.8152757, -8.562055, -5.731684, -5.4544263, -14.660185999999998, 1.4416627, -8.214849000000001, -7.9922047, -5.143419000000001, 1.3368161, -1.6418626, 14.018047, -1.4929243, -11.073109, -0.33738816, -13.3178, -17.506424, -11.475764999999999, 2.808936, -10.552899, -2.5621095, 1.0315853000000001, -6.6037803, 2.0099337, -6.7075830000000005, -17.173565, -2.9784783999999997, -1.2796842, -2.272347, 3.9947166, 4.395075299999999, -2.0457125, 2.9651299, -1.3468274, 11.352093, -3.2232933, -4.559014299999999, 0.06836969, 3.5385437000000004, -14.110415, 16.80834, -11.249235, -4.3103074999999995, -7.604808, 0.44604309999999997, -10.533133, -0.5820805, 0.29692653, -11.852947, -11.479124, 1.4414524, 13.508767, -8.172197, -4.382055, -11.33879, -8.067372, -6.129254, -1.6447102999999998, -0.9954991, -11.454248, -5.105744400000001, -3.5538983, -1.6685845000000001, -9.484113, -2.9533699, 4.3800163, 1.0886341, -1.2981538000000001, -10.11599, -5.433595700000001, -0.20528509, 3.6426220000000002, -16.767706, -1.219784, -7.872903, -5.3631096, -7.659101, 5.873680599999999, -2.3746386000000004, -1.2462732, -13.014805, -7.758645, -14.249548, 1.2405322, -5.172104, -8.6612215, -5.4919332999999995, -14.991003, -7.275836, -13.573532, -3.6939987999999997, -2.9833155, -15.077620499999998, -9.689559, -5.120824, -0.98988694, 1.2038440000000001, -3.8410964, -11.189255000000001, -5.090219, -8.077658999999999, -2.0950968, 1.7079064, -14.57112, -5.666872, -7.394971400000001, -18.377321, -9.901874000000001, -15.775898000000002, -7.555657400000001, -0.3242176, -10.328068, -4.25645, -0.48437327, 12.868771, -11.895650999999999, -15.605626999999998, -4.4522333, -8.256435, -8.444022, 5.958493, -13.056319, -2.8976613999999996, -14.445976000000002, -10.283372, 2.443505, 13.171217, -6.7608857, -4.425401, 9.413103999999999, -5.259369400000001, 7.7622304, 2.4884355, -7.8111243, 3.8171458, -3.1739252000000002, -2.2233667, -1.9797578999999998, 8.444677, -8.896363000000001, 0.34111613, -9.21402, -8.320348, -1.6892874, -7.880683400000001, -2.2153542, 3.631498, -1.6437723999999998, -4.795936, 2.0885425, -15.0400095, 0.8634630999999999, 4.9367285, -6.2838917, -8.780371, -3.3411665, -5.391051, -9.084354, -8.914835, 19.090984, -15.447277, 1.2002732, -9.252228, 0.1724289, -15.365167000000001, -13.318237, -13.498098, 2.2248287, -7.6194679999999995, -13.028825, 3.7811809000000003, -1.9662771, -5.9481955, -7.1891245999999995, -6.7772875, 1.3677651000000002, -4.209929, 1.4734246000000002, -9.8098545, 17.784796, -10.152917, -13.795103, -4.592436, -8.498191, -3.5536294, -6.1618853, -4.0177510000000005, 0.41512150000000003, -12.800222, -15.632938000000001, 1.3365707, -1.8849736000000001, -13.185709, -0.14422612, -17.030172, 4.542982599999999, -6.426766000000001, -1.2370403, 0.6680404999999999, -4.1555976999999995, -15.677109, -9.329444, -6.834005, -17.466188, -3.6146498, -4.2928014, -12.773792, -10.773711, -1.586864, -10.317252, -9.263268, 1.3898609, -4.8707139999999995, -9.7152405, -7.4000287, -1.2561351, -5.820241, -7.0062823000000005, -2.7434309, 1.0053089, -1.6581124, 2.5645995, 0.47008905, -11.893281, 3.922389, -1.2330652, -8.094560000000001, -4.3797803, -8.229781, -2.7404572999999997, 0.34363535, 0.54007864, -1.2116733999999998, -5.621034, -6.136228599999999, -14.170285999999999, -7.5138717, -0.9585016, -9.374971, 17.946365, 0.96801656, 2.7094297000000003, -12.82296, -4.408614, -6.5271473, -13.069457, -1.0354259, -10.602261, -4.2916822, -3.6558857000000002, 2.642712, -6.3700547, -6.635983500000001, -12.627257, -17.212985999999997, 8.278653, -9.811372, -10.035052, 10.240444, -11.338653, -10.296996, -5.1092863, -8.9288025, -1.9906439999999999, -14.094585999999998, -1.7198683999999997, -11.857345, -1.3450991, -5.000705, -13.931939000000002, -5.3703937999999996, -12.210152, -15.899815, -6.7745, -11.484481, -6.160197, 2.3249902999999996, -1.7098919, 3.9831429, -4.310486, -8.517325999999999, -11.063255999999999, 6.086896, -2.263389, -15.486212, 3.5004957, -12.809592, -4.5276785, 0.13963039, 12.218879, -9.859706, 2.5405412, -5.513102, -7.550101799999999, -4.490187000000001, 0.8278215, -12.2181635, -7.2212834, -5.102170500000001, -9.945692, -4.514118700000001, -9.465557, -7.803861, -12.26313, -5.816161, -8.800778999999999, -8.811415, -12.587576, -3.6579940000000004, -4.704276, 2.6621330000000003, 0.36995363, -5.436738500000001, 3.2928212, -5.370636, -11.278278, -7.439978, -4.3272314000000005, -4.284865, -0.9460597, -10.38072, -4.351615, -8.033392, -6.229507, -4.5372486, -7.714856, 11.964532, -11.41763, -5.5898642999999995, -4.967813, -0.88690495, -7.362052, -9.160252, -6.1370416, 4.979334400000001, -8.899529, 8.77041, -6.9526916, -14.908992000000001, -5.102798, -2.903241, 1.4390318000000002, -16.561522, -8.942699000000001, -5.045676, -6.887577499999999, -6.952306, -4.171713, -8.425409, -0.07984447, -5.0272464999999995, -2.3298414000000003, -6.2315574, -8.106841000000001, 12.038236, 0.029616179, -11.214580999999999, 1.8454618000000003, -2.9332437999999996, -1.5436745, -0.68360037, -2.9984963, -12.489130000000001, -3.1890054, -15.336276000000002, -17.37603, 0.39820679999999997, 4.887574, -12.252588000000001, -11.251269, 4.5148363, 1.4648176000000002, 6.112869, -12.784086, -11.556527, -7.3775473, -8.460723, -5.0902805, -10.0776205, 9.373128999999999, 2.3841807999999998, -3.3077145, -7.7578363, -2.7684975, -8.60093, -17.75553, -16.12223, -6.358661, -11.285282, -8.677567999999999, 2.56893, -8.518975, -8.66624, -11.700723, -3.675294, -2.4432402, -6.976382000000001, -10.540989999999999, -13.207317999999999, -9.369797, 1.1414078, -2.441631, -13.448992, -7.9755754, -12.206802, -10.879089, -3.1831665, 5.2392554, -15.355194000000001, 5.1084830000000006, -7.08201, -11.905647, -9.901816, 5.061445, 2.1640558, -14.815207000000001, -11.380478, -4.35306, 15.014575, -15.167548000000002, -10.210538, 2.809014, -1.2194468, -12.769465, -4.0569477, -10.57715, 5.5190663, -12.7603, -8.217691, 1.6404595000000002, -14.006279999999999, -1.9853095, -2.9315724, -5.510757, 11.797263000000001, -7.0471262999999995, -6.964866000000001, -4.962114, -8.164159, -12.073359, -4.574699400000001, -6.096349, 2.6349127, -2.3603318, -8.4484, -5.100396, 1.3268261000000001, -0.12212462, -1.0643796, 3.127486, 7.7202845, 4.9889083, -0.19067466, 9.234252, 1.087365, -16.875446, -16.907692, -6.938803699999999, 2.4445832000000003, -7.977035000000001, 2.0314765, -13.677478, -1.1020259, -8.724527, 8.694689, -12.150914, -11.900713, -7.0939994, -4.1145663, -2.4717029999999998], \"y\": [-4.6484294, -6.8823223, 3.6524127, 2.4240772999999995, -7.6474266, -4.066535, 5.6772290000000005, -6.3968105, 5.4948879999999996, -7.895214599999999, 12.076845, 10.232937, 6.383947, 7.605832, -3.6406352999999996, 3.7154396, 2.1494543999999998, -8.65042, 4.6463737, -4.770800599999999, 2.8193755, -0.35358190000000006, -4.271091, 8.594403999999999, 2.0687006, 1.3949011999999998, 4.9307656, -5.4161205, -3.0501025, 10.4340315, -2.2763977000000004, 0.7184202, -11.482709, 12.257522, -5.897081, -7.017777000000001, -15.041222, 7.490725, -0.998785, 6.3643804, -2.036318, 1.6299673000000001, 11.6372795, 7.278536, -12.7307, 8.295072, 8.108846, -12.536088000000001, -2.3799335999999998, 5.151112, 10.493903, -1.752632, -1.3728102, 7.871367, -6.2332654000000005, 0.48845324, -1.5259191, -14.921854000000002, 9.454096, -4.76405, 4.2490716, -8.654257000000001, -7.143497999999999, -6.1953917, -12.367491000000001, -1.089858, 9.21941, 6.519692, -6.2014879999999994, -7.531763000000001, 0.7951269, 5.595508000000001, 6.58985, 0.24888514, 5.9257154000000005, -12.677437, 10.083586, -9.439791, -12.942962, -2.9262571, -0.58017427, 1.5454454, -2.5072240000000003, -2.5200150000000003, -0.54978585, 6.0547867, -10.311763000000001, 2.4668803, 10.101241, 10.6553, 8.857434, -5.9215965, 9.777682, -3.547786, -1.7557273000000002, 1.1811083999999998, -3.8786523, 14.268445999999999, -4.5380816, -14.716404, -3.9207730000000005, 11.536111, 1.1286138000000001, 8.1658125, -3.8181046999999997, 11.584164999999999, -8.397673, 11.33248, 9.079113000000001, 9.098203, -0.24774815, -0.8978004, -10.391624, 9.022208000000001, 8.168178, 1.2780695, 1.7242877, 4.051694, -8.04758, 5.114014599999999, 14.114085000000001, 3.4374301, 1.4181774, 1.1268684, -1.5095774, -2.3137248, 8.089190499999999, 6.103068, 9.899946, 14.419505, 3.395868, 11.12415, 8.442860000000001, -5.8628902, 4.268269, 4.023472, 2.0280812, 3.2034279999999997, 5.467661, -5.1889567, -0.7080346, -0.8201323, 14.999669, -8.395381, -9.304857, 1.296186, 2.3265045, -1.7401322, 7.601449499999999, -8.724484, 11.259326, 9.717606, -6.6146693, 5.0109687, -7.666973, -12.988211, -2.9603426, 3.3285627, 1.9986436, 4.379114599999999, -8.357874, -0.86062145, -13.315783999999999, 8.185316, 4.6670012000000005, 2.299872, 4.322648, 11.7315235, -10.764543, 1.5023185, -0.29606164, -2.41085, 10.977698, -4.264863500000001, -1.7622136000000002, 10.0196905, -0.32259682, 1.0921624, 11.996196000000001, 3.8495660000000003, -10.569379, -15.275145000000002, 8.997655, -0.40158406, -12.51485, 12.84568, -4.3166757, 0.9266631, 4.385280000000001, -1.5395776, -6.23895, 4.4996386, 8.721727, -6.714446499999999, -4.7417492999999995, -0.039843656, 6.853636, 0.34901750000000004, -5.354192299999999, 5.6179523, 0.8626043, 2.7256072000000002, -14.04606, 10.96345, 11.080022, 7.6791344, -0.95950556, 4.489371, 0.6209079000000001, -7.3415375, -4.459178, -5.642089, -1.6296787, -1.644175, -5.7737355, -2.835681, -6.849573599999999, 0.16407838, 4.140923, 0.32721859999999997, 9.6098175, 2.1320994, -16.821224, -5.4087825, 2.9059627, -3.728883, -13.722079, -2.9135682999999997, 5.2055254, -1.9371089, 3.3570192000000003, -10.626102000000001, -2.4219912999999997, 6.1562147000000005, -13.447419, -2.347922, -3.8288425999999998, -7.0390167, -4.121916000000001, -0.016682893, 13.455077, -6.4441495, -5.3514919999999995, 6.985949499999999, 7.667125, 0.66534597, -4.143513700000001, 1.291452, 9.111325, 8.358557000000001, 5.231631, -11.609531, 0.30470064, 6.672397599999999, 5.1736894, 0.84581643, 5.2830353, 3.7910828999999997, 9.224155, 0.20749573, 6.3469714999999995, 2.088984, 11.385693, 4.482456, 9.322165, 11.60029, 3.1252491, -10.988178999999999, 6.772904, -13.310960000000001, 6.6578307, -11.219472, 5.051024, 5.1053705, -16.176289, 4.29117, 8.770754, -4.132324700000001, 12.583687, 14.682575, 4.3412194, 1.1616532, -3.0605388, -4.057558, 10.768074, -0.9214469000000001, -10.98733, -9.68379, -14.22763, 3.8211714999999997, -2.9201365000000004, -14.705302, -3.9687037000000003, 7.311286999999999, 4.995480000000001, 6.206994, 3.001468, 0.3801059, -6.337036, 11.985707000000001, 3.161315, 2.5245202, 4.5379205, -5.7138944, 2.1814227, 0.025926912000000003, 5.535448000000001, 14.911591, 8.340811, 1.9506171, 7.339645, 10.4497175, -8.212725, -1.4610451, -4.85542, 9.589002, 1.2246593000000001, 3.3589926, 1.5491493, -0.6998255999999999, -16.845755, 5.25191, 6.211002, -12.814724, -8.885076, 1.4721587, -4.014257, 9.418511, 10.922039, 3.1280053, 11.20112, -15.303486, 2.7972302000000004, 3.9704203999999996, 4.057667299999999, 10.418301, 4.475898, 9.83723, -16.016668, -12.135378999999999, -15.664874, 8.923015, -10.808551, -4.2345559999999995, 10.113782, -5.220385, -8.117442, 5.0894413, -1.7295745999999999, -10.261371, -2.4857614, -9.524123, -15.220946, 3.6669983999999998, -6.4951982, -11.957993, 7.389874000000001, 7.260287, -3.0382863999999996, -4.4939585, 1.6690968000000002, 2.0760214, 2.0255153000000004, 1.2447838, -3.1778162, -0.5038773, 0.16702211, 6.662844000000001, -7.254591499999999, 2.5840616, -2.517731, 4.3552904, 3.4381542, 0.5155095000000001, -3.2282808, -3.9828424, -5.695452700000001, -2.5691874, 11.959516, 1.3237538, 5.923925, 9.789474499999999, 8.986734, 4.8218974999999995, -2.9047801, 9.398431, -0.83577967, 5.9210677, 14.399673000000002, -6.800617999999999, -9.2833395, 1.3131719, -12.3821335, 9.675158, -12.383999000000001, 14.580306, 13.769803, -4.5220566, 3.6435356, -7.282932300000001, 4.615476999999999, -8.187092999999999, 0.20441133, 4.5424986, 10.425218, -4.929422, -0.30241653, -4.131178, -4.5836267, 5.9511285, -0.50126666, 2.7381532, -0.50657636, 4.0598493, -8.835898, 11.052706, -1.1313905, 5.4996643, 8.5226, -14.81909, -0.6760303000000001, 9.202455, 3.210269, 3.9856877, 1.3131182, -4.470488, -5.5830107, -3.7192008000000003, 8.8136, -6.684067, -3.4608324, -9.757026, 0.93440545, 2.9911504, 2.583541, -1.9589918999999998, 7.832336, 3.1097240000000004, 13.192557, 10.32837, -8.088566, -9.15355, 0.200943, 8.8002, -8.462717, 7.8380336999999995, 4.2125224999999995, -2.3597624, -14.819396, -3.4351809999999996, -0.60351056, 3.782777, 2.660036, 5.746822, 4.5319448, -0.88644135, -0.13283303, -12.114352, 1.0632551000000001, 11.147497999999999, -13.432685000000001, -8.625627, 6.7147436, -5.7681484, 13.334685, 6.7687097000000005, 7.5397005, 0.9717290999999999, 11.517315, 8.316736, 4.494097, -1.2518486999999998, 5.9932766, -9.091989, 0.22277583, 12.581425999999999, -7.5002084, -9.816450999999999, -0.39039442, 1.3260806, 7.676307, -1.7002621999999998, 9.316226, -6.365585, -12.379681, 1.0498061, 2.1874387000000004, -4.672854, 8.561803999999999, -0.16392185, 4.5670147000000005, -5.8175817, 2.0034182, -5.011814599999999, 6.978631, 8.965961, 8.405364, -3.000289, 3.3143010000000004, -6.735137, -11.225408999999999, 6.5967216, 3.5601773000000003, -1.3137028, 3.9381177000000003, -5.4151864000000005, -12.310514, 1.0214334999999999, 5.733297, 10.003455, -7.736961999999999, 9.581173, 9.975113, 9.525314999999999, -6.955437, -5.789781, 9.498996, 3.119896, 0.80559474, 7.318314599999999, -6.2352333, -5.503839, 10.930214, -9.812598, -9.875099, -5.4767647, 2.9339502, 0.73303473, 4.048301, 12.025246000000001, 12.032625, 5.390178, -0.76299274, 11.505701, 7.532592299999999, -11.629822, 3.9757342, -10.328522, 2.5122285, 4.5342684, -1.1990758, 0.6639775, 4.859088400000001, 5.505599500000001, -14.550297, 4.8657637000000005, 4.601851, 3.8738053, 11.402034, -1.8762351000000002, 6.227873000000001, -6.723837400000001, 10.360521, 6.4541187, -7.762719000000001, 9.081589, 6.193139599999999, 3.7194474000000004, -15.58496, 1.2185546, 13.177707999999999, -7.337208, 2.7360785, -9.392621, -5.0877989999999995, 10.047488000000001, 0.96595764, 10.1849, 5.0230093, 0.48416528, 0.98226094, 2.4965124, 4.4716005, 12.222852, -9.343207000000001, -2.5735576, 5.191978, 7.4685454, -7.71057, 9.877312, -4.940175, -12.219306, 1.9015248, 0.83567655, -0.72357684, 1.8894068, 15.212373000000001, -7.887951400000001, -0.62680477, -4.3197513, 11.335256, -0.25662205, -3.5139253, 0.32827502, 1.7617957999999998, 6.977378, -3.7348800000000004, -11.592058999999999, 5.6314435, -3.3570073, 11.005784, 8.310111000000001, -13.190479999999999, -3.9342217000000006, 2.8289464, 0.42229098, -9.351925999999999, -6.714028, 5.237124, 5.4773135, 12.244867, -2.9010502999999996, 8.565698, 10.045905, -2.5984895, -3.9153812000000006, -0.39933693, -6.142488, 10.65627, -8.886215, 5.988804, 7.807981, -1.3212062, -5.956310299999999, 9.579977, 4.3244514, 6.434948400000001, 1.1612301999999999, 14.007696, 5.3505163, 0.29440266, 2.1209189999999998, -8.527178999999999, -16.5635, 6.3827105, 6.5815325, 4.549172, -3.1288126, -14.079101000000001, 0.46369913, 11.8045845, 9.178798, 5.1669383, -8.637152, 12.8810215, 3.1256192000000005, -6.271711, -5.7588425, 1.214979, 9.750509, -9.4702835, -0.25909817, 0.16542801, -1.9200939, 7.6862955, 5.626782, 0.5502393, -3.8837870000000003, 6.5066137, -8.698225, 6.5321774, 2.8435947999999995, -6.770999000000001, -11.719747, -17.152428, 8.613113, -5.40111, -1.3902328000000002, 13.118363, -6.565438, 0.65109, 10.036754, 6.270878, -0.121699266, -15.095285, -2.643139, 11.261448, 8.615424, -1.3494722, 12.698807, 3.133296, 4.0721726, 3.6422760000000003, 3.4389653, 5.398122, 11.933112, -6.4434605000000005, -5.917836, -7.8470993, -2.0897179, 12.965893, 0.7322786, 2.4636327999999996, 2.132088, 7.7653666, 2.7967176, -0.37476522, 5.9590816, -3.3808932, 5.289814, -10.18096, -6.900616599999999, 7.2376204, 9.636517999999999, -7.361285700000001, -0.9071521, 4.434869, 6.8175364, -5.7106977, -3.7161303, -4.1192336, 3.3846318999999996, -5.8965629999999996, -8.040569, -0.47192454, -14.099675, -11.446794, 2.7145580000000002, 10.169294, 12.509814, 6.496878, 7.2831282999999996, 1.3103143999999998, -1.8441877, -8.634917, -12.190959, -0.07508014, 0.6192045, -5.2451982, 7.228298700000001, 2.5349617, 14.527934, 8.352508, -14.259929000000001, 10.953536, -3.2654509999999997, -4.775656, -8.816322999999999, 2.9908726000000003, -1.8692473000000003, -16.186420000000002, 14.438838, 13.484036999999999, 4.2652335, 9.608782000000001, 14.005181, 7.195282000000001, 2.3783104, -0.33989632, 6.480027, 6.0116653, -7.012685, 2.2156117, 3.114999, -0.7167184, -6.844232000000001, 6.462899, -3.2302132, 0.12781264, 5.7438636, 2.2565147999999997, 3.5558262000000003, 1.6421912, 9.3356695, -1.510896, -14.392831, -7.0465603, 2.6078348, 2.6469688, -4.4709554, -4.550335400000001, 10.654123, -0.20707996, 10.968344, 0.5525564000000001, 3.4163476999999998, 3.9558644, -14.983951999999999, 6.77323, -6.152744, 5.042885299999999, 1.6620461, 13.813556, -5.680927, -9.059055, -12.255092, -6.852258999999999, -2.945973, -9.010373, 10.131783, 2.671241, -6.1350737, 8.43304, 5.884863, -10.95205, -0.30056357, 6.0664034000000004, 4.43349, -10.841751, -7.091009, -0.39874914, 15.602398999999998, -8.478646000000001, 0.061088475999999996, -3.6221018, 8.588744, -15.355441, 3.4713637999999998, 1.0189177, -2.0474276999999996, 10.204303999999999, -11.325206, -0.7469847, 1.0393823, 10.581045, 1.9864432, -2.3723210999999997, -4.3761106, 5.146658400000001, -1.5316938, -4.4490932999999995, 7.710750599999999, -9.162927999999999, -11.923497, 3.259173, 10.229128, -2.6973007, 4.377505, 4.3802066, 2.531909, -9.230891, -7.7902203, 2.7707238, 1.6892343999999997, -13.033775, 2.2924337, 1.1109294, -7.635458, 8.722342, 2.7787237, -10.894437, 7.6788419999999995, -2.9260566000000003, -3.8201987999999996, 12.90771, 4.007601, -0.27665162, 2.8510584999999997, -3.3559604, 2.5755775, 6.301171, -2.3366540000000002, -4.9250073, 0.665169, 0.67001975, 0.40985474, 9.512659, 7.8188963000000005, 1.7604917000000002, 3.5757275, -2.336681, -8.667117999999999, 0.500204, 1.7041258999999997, 6.2600964999999995, 11.49292, 5.263626, 2.180253, 1.528707, 5.6711407, 1.5058886999999999, 4.5437555, 4.7328410000000005, 3.6688097, 4.9399233, 1.3888378000000001, -12.151334, 2.7511952, 10.687525, -4.2184534000000005, -2.577889, -3.7106252, 9.770766, -7.457103699999999, -12.192221, -15.293759, 10.692865, 3.6794624, -15.9150715, 13.474426000000001, 9.049519, -13.746726, -8.951806, -0.31380457, 5.5383260000000005, -3.2287282999999998, 10.944212, 3.9752007000000007, 11.757469, 7.202172999999999, -0.46356654, 5.581021, -6.768462700000001, 4.4488335, -3.9065943, 5.482272, 5.115804, -6.1598559999999996, 1.7596406000000002, -5.417121400000001, 3.9551997, 3.5263252, -8.337411999999999, 7.806058999999999, -3.8717315, 4.1908174, 6.0923204, 11.238157000000001, 0.24219966, -14.826057, -3.2301517000000004, 9.402737, 3.2986983999999997, 11.026304, -3.2957456, -4.600811, 8.133633, 4.5847796999999995, -0.5771602, -2.4525845, 6.6554402999999995, -2.9741316, 3.2111204, -8.786572, 6.2456307, 4.36926, 2.7421290000000003, 8.644416, -10.806078999999999, -9.178412, -8.035124, 6.3882174, 9.966175999999999, -1.470138, 5.846801999999999, -3.3939209999999997, 0.48868996, 0.77072227, 10.274245, 3.4901211, 6.3374147, -13.1434555, 8.154453, -14.893514000000001, 8.865309, -2.8264202999999997, 2.256869, -4.520231, 7.84655, 4.6320953000000005, -1.9225109, 1.591011, 1.3527294, -7.616214, -0.15957037, 6.555034599999999, 3.0518825, 7.9465947, 2.0864046000000003, -0.85396326, -6.750248399999999, -3.6300237, 1.8891220000000002, -6.4158230000000005, 2.7814767000000002, -7.190489299999999, 11.830371000000001, -2.7962017000000006, -13.854589, 7.666900999999999, -11.234803999999999, 6.767258999999999, 9.179226, 7.7946587, -5.431311, 9.630021000000001, 2.1699482999999997, 3.6064942, 6.6559824999999995, -3.033303, 0.5457116, 8.874439, 0.6421725, 8.089876, 9.1837, 2.1592245, -3.935457, -8.011813, -1.1419093999999999, 3.3816001000000004, 7.6109686000000005, -3.2180908, -2.6972914, -5.421571299999999, 10.675001, 11.22741, -9.628644, 0.14247768, -1.2084553999999998, 6.9296966, 0.6760833, 5.700491, -2.5680726000000003, -1.6953630000000002, 1.0919663999999998, -0.88626313, 9.138586, 0.5275305, -4.546805, 8.004315, 1.5753452, 4.6554694, 7.2920136, 9.460003, 11.593652, 10.100918, 0.8235353999999999, 7.067719, 7.6260642999999995, 3.0867397999999997, -2.1903042999999998, -1.8729494, 3.201237, -4.5438905, -7.702254300000001, -14.027123000000001, 10.641389, -5.1229544, 2.9402966, 0.22955097, 4.2141665999999995, -6.758338, -0.92806256, 6.698155, -0.47582477, 11.677882, 5.228381, 3.3585144999999996, -0.28026015, 0.47045547, 5.518945700000001, 7.7900977, 2.9206990000000004, 12.604908, -1.7065636000000002, -7.5956345, 5.9573584, -2.1389894, 2.4374025, -4.317425, -6.424499, -5.4938993, 7.7616434000000005, 4.857633, -7.218125, -0.41946006, -6.5777845, -0.04623121, -0.05485865, 0.90246665, 0.6032656, 8.843521, -3.656532, 5.119903, -6.6571913, -1.4657466000000001, 4.5136023000000005, -8.9005785, -1.7459054, 8.256366, -6.987000500000001, -3.6849818, 7.0499682, 7.632861999999999, 13.082647999999999, -7.5565679999999995, 9.836903999999999, -3.5398762, 3.7929003, 9.171341, -11.340227, 0.7272071, -7.3998065, -5.737561, -0.506577, 12.780071000000001, 3.5984719, -10.569111999999999, 0.014143517, 3.2678632999999997, -7.1395993, 1.6728528999999999, 1.8460394, -2.1417477000000003, 13.311176999999999, -3.6188486000000006, -2.3959231, -14.503504000000001, -6.404114, -4.3276753, 9.985182, -12.425343, 7.7073350000000005, 9.914699, 8.977977000000001, 2.759368, -7.3969784, 9.424188000000001, -3.3696222000000002, 8.798644, -0.46664807, 1.7240237, 6.7720504, -11.79545, 10.736369999999999, 0.07793115, -12.846208, -16.3213, -2.13666, 7.340457000000001, 2.6850584, 4.491094, -8.4967985, -5.792479, 15.152000000000001, -14.598888, -4.2231955999999995, 6.5287724, 9.126619999999999, -2.0936694, 2.0379772000000003, 2.0513011999999997, -2.8156447, 9.399696, 5.224203, 11.15138, -4.841793, -8.67995, 1.850552, 6.2983074, -2.1978621, 9.124616, -6.1672263, 13.725178, 1.7631234, 0.7157232, -1.4995995, -0.08172727, 11.112805, -1.4111493, 8.221717, 4.92656, -3.3571022000000004, -8.664717, 3.6982021, -1.0375934000000002, -9.460587, -2.812395, 4.1389766, -13.161495, -16.513853, 10.707018, 10.154496, -5.213381299999999, 5.7560444, -3.8891814, 5.9446745000000005, -11.80212, 9.608894, 9.710258999999999, -3.5504515, -6.688333500000001, -14.846754999999998, 0.15042903, -0.6481001000000001, -0.62303483, 11.800983, 10.598772, -15.267858499999999, -14.08315, 8.420585, 0.016887143, 2.338452, 6.2662992, 8.958960000000001, 6.1039257000000005, 4.2502629999999995, 12.723559, -7.6227026, -3.3460236000000005, -2.1632085, -8.80344, -7.0182853000000005, -7.888539999999999, -8.016648, 9.421077, 7.233871499999999, 2.7109463, 9.162555000000001, 3.1172695, 5.198809, 0.034879927000000005, 3.8782184, 8.3298855, 4.9104133, 2.457509, 6.269604, -1.3530474, 4.361028, -4.6878557, 11.637395, 7.2824535, -5.9070434999999994, 3.6640153, -4.3681209999999995, -10.012732000000002], \"z\": [0.2689458, 3.5934660000000003, -8.296335000000001, 3.341908, -8.91312, 5.2602515, -6.151547, 4.895208, 3.9830687000000005, -6.751777000000001, -1.5294266, -7.1512556, -6.541481, -0.038172625, -3.5661395, -6.883089999999999, 8.450289999999999, 5.233112, -12.106160000000001, 5.5819087, 2.1212522999999996, 8.095858, 10.177537, -3.4641876000000003, -12.264732, 3.172862, -4.654599, -5.8598504, 1.5254642, 10.088838, 10.680136, 8.949436, 3.391547, -3.3675191, -9.875328999999999, 0.3136792, 4.623823000000001, -2.4826558, 4.880040599999999, 4.2089099999999995, -5.085837000000001, 14.795485000000001, -7.075996000000001, 9.529312, 4.123998, 6.863131, -7.145357000000001, 2.0994704, 7.095159, 7.2024345, 7.525852, -14.23049, -8.405991, -7.0223527, 0.107833266, -2.671494, -15.164056, 3.3648087999999996, 9.486350999999999, -6.2872605, 4.2850556, -1.793296, 1.9787803, 2.3671954, -1.7256898999999997, -9.07911, 0.6556561, -13.266404000000001, -5.9693775, 3.9279501000000003, -13.03026, -14.682853, -7.6987114000000005, 1.0736536, 1.0108889, -0.035676785, -1.7353052, 2.7856116, 2.2625997000000004, 5.0100055, 1.7885138999999999, -15.354000000000001, -3.944862, 7.8546395, -2.1735889999999998, 4.7465487, 6.322449, 3.8660016, -9.298967, -1.1989903, -4.5520096, 7.2526193, -1.89295, 1.5249093, 3.8002398, -6.702274000000001, 1.7931409, -10.458416999999999, -8.461828, 1.7075789000000001, 5.124529, 5.091876, -0.8073991999999999, -3.4243827000000007, -5.657177, -2.9544346000000004, 1.3146126, -5.13579, 5.0711026, -10.742256, -7.579293700000001, -2.9696507000000003, 9.241938000000001, -6.0420739999999995, 6.1921363, -2.7763882, 6.6716375, 11.332359, 11.600693, -0.79272264, -1.6813143, 3.7740233, 5.578001, -6.02451, 1.2389268999999998, 4.3686357000000005, 3.9929282999999995, -10.709545, -10.250117, -4.289647, 8.483231, -6.0034575, -8.6666565, -0.10659210000000001, -1.4331446, -11.603776, -5.2242737, 0.88357884, -3.2848306000000003, 10.313183, -1.5775498, -1.1238848999999997, -3.2503881000000003, 8.432209, 2.8152068, 1.8094754000000002, -16.332639999999998, -0.32793979999999995, -11.323801, 9.949481, -4.2518764000000004, -5.4023786, 4.497878, 0.47025153, 5.567277, 6.1611237999999995, -9.834914, -1.9925215, 9.374417, 8.224148, -3.8021578999999996, 3.5389369, -0.48734272, -12.698545, 1.8460811000000001, 6.566662299999999, -0.9481255999999999, -5.744408999999999, 7.342167, -10.214986999999999, -2.1064993999999997, 7.2193130000000005, -10.5013075, 5.666658, -0.16025649, -10.081607, -2.3241775000000002, -9.767919000000001, -3.6647575, 5.543754, -1.9141854999999999, 3.7449117, -6.2898393, 1.1236612, 6.0580387, -5.794007, 4.098358999999999, 10.896702000000001, 0.6631090000000001, -7.876253599999999, 9.3894415, -6.6347466, 0.78382057, -8.462398, -13.142135999999999, -7.1455884, 9.434679, -10.895096, -6.931501400000001, 2.3727975, -4.8896937000000005, -1.5848811999999999, 2.4954972, -4.3622822999999995, -3.1868105, 9.410313, -10.778725999999999, 10.458188999999999, -6.6529983999999995, 8.026771, 6.372764599999999, 1.4374665, -13.026197, -2.6858244, 9.367685, -15.149904000000001, 4.136554, 6.0017123, -3.3298513999999995, -3.3757787000000006, -7.597803999999999, 6.5496, 0.11537932, 10.9236355, -6.219069, 4.563164700000001, 1.0314176, 4.111951, -7.8934940000000005, 6.3107815, 2.5324162999999995, 0.51817536, 6.680927799999999, -4.666842, 4.711346, -7.335098299999999, -5.4987383, -6.4443316, -4.5791087, 7.6231375, -8.082566, -3.1270652, 2.5673707, 8.152825, -1.7486978, -2.5586374, -2.4155965, 14.371847, -12.882819999999999, -1.1182940000000001, 2.9209976, 7.441453, -10.26952, -4.8246720000000005, -2.0468726000000004, 2.740078, -4.855024299999999, 7.443078999999999, -3.0932431, 5.5355834999999995, -13.703294, -0.62849855, -9.045471000000001, 1.4401389, 6.775314999999999, -8.899621, 4.219829, 4.050171, 1.6895785, 5.759398, -9.183586, 8.066469, 1.0980014, 2.9423583, -0.9323119000000001, 9.629771, 2.382038, 2.5961938, -5.425172, -1.7292632, -1.4694105, -2.0295123999999998, 1.0818305000000001, 6.5063443, 6.420503599999999, -13.488394, 1.1231452, 1.563755, 8.109077000000001, 3.8469925000000003, -0.084237, 4.7102265, -3.6015542000000003, -4.6659904, 10.334344, -1.6520032, -8.219284, 3.2100399, 7.2589570000000005, -2.5519773999999997, 6.43161, -14.793522, -12.8585, 1.6490906000000003, -0.5417068, -9.728622, -15.545173000000002, -7.331423299999999, -8.885761, -4.902678, -5.4501777, 7.343861, -1.2699018, -10.848151, 11.540999000000001, 5.763782, 12.549444, 11.502688000000001, 11.587122, 5.7776747, 2.3444946, -5.544021, -3.2274787, 2.9321806, 3.636281, 7.656409299999999, 9.218903, -6.5364666, -4.684266, 9.264383, 2.980124, 6.3990599999999995, 3.5166576000000003, 8.631162, -1.7605031999999998, 2.4301133, -5.296958, -9.510923, 3.6295693, 4.8293233, 5.230835400000001, -8.22079, 4.8671050000000005, -6.2197265999999996, 5.508684, 5.31801, -0.6851369, -2.2239902000000003, -5.5712943, -4.6220837, -6.2671660000000005, 0.30673608, 6.6692995999999996, -14.376584, -12.398055000000001, -2.7377222000000003, 0.06699902, 6.357381, -0.9704881, -0.4070091, -2.412787, -3.8846772000000005, -9.274378, -11.285786, -6.2156377, 0.28430232, 4.757935, 9.731309, -11.237403, -14.016979999999998, -5.715187, 10.840043, -14.836269, -12.589364999999999, 11.396955, -0.14782864, 1.6912022, -6.255460299999999, -1.776547, -0.5520999, -0.31636375, -12.23396, -0.45187435, 0.32276645, 4.347721599999999, -3.6362522000000004, 1.6135081, 3.7932165, -6.205411, -6.2585354, 3.4521656000000003, -8.845607000000001, 8.112377, 7.715375, 4.017203299999999, -9.235998, -7.712774799999999, 11.316899000000001, -2.9419217, 1.6270790000000002, -7.1696729999999995, 1.7985326000000001, 6.7984160000000005, 4.632917, -3.1447694, 4.6687236, 3.4863584000000003, 2.3536105, 0.21235147, -10.625368, 10.003616000000001, 1.8472688000000002, -1.0680951, 9.334925, -0.4476017, 7.526350999999999, 2.9033667999999997, 1.8393445, -3.041147, 3.7041311, -3.8967547, -15.374958, 11.4973, 4.609389, -4.3495913, -3.4899730000000004, 9.472724000000001, 1.4360708, -9.956283, 8.287243, -0.6244033, 8.925261, -3.0097509999999996, 0.8804584999999999, -12.56862, -2.5947099, 4.7451735, -9.17648, -7.694167599999999, 4.7443194, 5.807733, -7.8676095, 2.4323107999999998, 0.9989173000000001, -2.1510724999999997, -0.6427438, -13.839091, -8.555724, 2.2954261000000002, 8.403571000000001, 5.1707635000000005, 10.221102, -2.539666, -10.989889, -11.118542, -2.2204943, -13.545535000000001, -0.039304666, -14.371756, -3.1059456, 3.8178675, 7.485755999999999, 5.071918, 3.7840133000000002, -7.572177000000001, -0.99309677, -16.362303, 11.470152, -0.70581645, 0.600213, -0.09634849, -2.986152, -1.6934626, 5.3104190000000004, -5.581738, -5.454441, 9.209552, -2.8332696, -2.7029347, -9.904909, 6.15632, 1.1557858, 5.235635299999999, 3.4996016000000005, 6.3485427, -16.622223, 4.323289, 3.2579502999999996, -1.119896, -11.197058, -3.6990485, 2.9040152999999997, 6.9856869999999995, -2.0684907, -2.7306361, -7.694423700000001, -16.310867000000002, -2.2511419999999998, 3.4779400000000003, 2.4202387, 5.1042337, -3.5903654, -12.452058000000001, -8.166416, -0.5340364000000001, -3.1926474999999996, 2.466999, -1.410185, 2.8314185000000003, -5.871439499999999, -10.926156, 10.808204, -9.391013000000001, 11.298993, -4.071594999999999, 4.1755686, -1.7376788, -0.13887988, -3.3466122000000005, 7.153403, -9.889837, -0.65385056, -8.778001, 3.4101586000000004, -5.502487, -4.0510926, -14.384541, -1.0764935, -3.5502262000000004, -4.0759053, 1.0295941, 0.73658264, 0.9748428, -3.1607807, 8.866767999999999, 1.1411308, 6.885832000000001, -0.22660705, 11.639101, -0.07040956599999999, -10.289632000000001, -12.674177, -2.1880813, 8.476809, 5.059527, -2.0861783, -10.273652, -2.5010063999999996, 3.4643165999999996, 1.11772, -2.8388994, 8.2442, 4.218387, 1.2547262, 2.808433, 6.821223700000001, -1.4889492, 0.53983593, 3.0270572000000002, 0.80571425, -3.6739922, 2.090607, -3.5589367999999997, 0.9727110000000001, 5.2954154, -7.7019687, -1.0217824, -11.395961999999999, -5.8755517, -5.1048417, -2.9821641, 10.671268, 4.8007846, -10.325144, -0.7768776999999999, 1.3097163, -0.9696585999999999, 0.31107529999999994, -9.059882, 2.1780314, 3.8068855000000004, 4.543564, -3.1770810000000003, -2.2804747000000005, -6.1345730000000005, -2.2176049, -4.7543163, 5.578037999999999, -3.889445, 8.581083, -3.2168908, -9.627373, -2.25996, -7.627896000000001, 0.95866287, 7.026131599999999, -7.796669500000001, -0.39939317, 8.060165, -8.115811, 7.119463400000001, -4.6307917000000005, 3.4042594, 8.926591, 7.7753916, 6.810971, -5.3805504, 2.249487, -11.242397, 8.169547, -10.551200999999999, -2.6023257, 6.2324853, 9.928087, -1.7910738000000002, 2.0307183, -0.7018181, -4.403893, -9.985914999999999, -6.8008633000000005, -15.250589000000002, 8.412026, 0.26499593, 2.127368, -4.554386599999999, -3.2999983, -0.6489375, 6.6662507, -8.7276, -1.1155962, 8.623908, -1.8356245, 4.916375, 6.472703, -5.2228346, 0.58475465, 2.0616202, -8.676393, 8.009035, 0.7123865, -8.637408, -1.4229261, -9.825924, -6.2708273000000005, -4.655162000000001, 3.7864785000000003, -11.379009, 2.3013687000000003, -4.1507309999999995, -3.251382, 1.6638868999999998, 4.4052773, 0.018653195, 4.4455314, -3.7318263, -9.585058, -14.276634, 6.211698, -3.2030833, 6.3633776, -5.512885, -6.7386007, -2.6967263, 6.5460362000000005, 5.4099197, -3.3767285000000005, 8.582821000000001, 6.288347, -3.181911, 7.655033599999999, 7.323695699999999, 1.933774, -7.395642, 9.077917999999999, 0.6722715, -2.7821612, -8.1472435, -8.1956625, 3.9040391000000003, -2.2150626, -10.97259, 11.463764, -2.7342985, -7.057809, 5.3590765, 2.934701, 1.5219260000000001, -2.1448503, 2.6078349999999997, -2.6058008999999998, -4.787086, -4.9882197, 2.776789, 3.9356837, 3.9947502999999998, -9.370275, -4.154021, 3.3314576000000002, -8.958969999999999, 6.931664, -1.1080066000000002, 4.2824683, -4.584645, 0.47868463, -3.0877282999999998, 6.3427370000000005, 8.456142, 10.559821000000001, 4.7004004, 0.13804498, 2.622424, 0.53458935, 7.6112589999999996, 6.789595599999999, 7.116101700000001, 3.764528, 4.468241, 7.252275999999999, -7.1313667, -3.7355110000000002, 4.368488, 7.507092999999999, -5.4687395, 2.5368892999999995, -0.3933034, -0.49161196, 2.7244732000000003, -9.178351, -1.5009354, -13.866875, -2.2511945, -5.7170362, -8.725032, 2.6303794, 7.7733803, 11.073763, -6.308143599999999, 9.382543, 6.120178, -5.849627, 7.0201035, -9.918643, -9.2159195, 8.458487, -4.5072529999999995, -10.663989, -15.898153, 5.12781, 6.5885110000000005, -11.332073, 7.688157, 3.7330885, -11.471673, 10.36162, -1.0503811, 0.56109333, -2.2503667000000003, -8.237278, 0.34180304, 6.5340953, 7.9210496, -10.825075, -8.154425, 8.338593, 2.1941580000000003, 7.2163105, -0.058911745, -5.7927856, -9.235577000000001, -11.548548, 3.2450447000000002, 0.42580673, -0.5176433, -3.5979059999999996, 7.1397047, -15.639695000000001, -13.431892999999999, 1.9463139999999999, -6.7283610000000005, 6.5023, -2.9825785, 6.734303, -5.1398077, 0.8637658000000001, -0.23885132, 5.604868, -9.375266, 3.2538555000000002, 1.7276131000000001, 6.222671, 6.996485000000001, -11.9937315, -5.284421400000001, 5.964624, 4.369142500000001, -13.475069, 3.1631417, 8.332314, 5.004586, 3.3316480000000004, -6.957071000000001, -7.037124, -5.9206199999999995, 3.4857383, -12.49581, 3.2713134, 7.5424213, 10.197414, -6.863263000000001, 3.6683415999999998, 1.5781586, 2.3759851000000003, -15.771789000000002, 13.223248499999999, -10.30875, 1.8680352999999998, -13.332056, 3.6575067000000003, 4.387618499999999, -11.523264, -3.965529, 3.028824, 0.456517, 6.07749, 0.7038310999999999, 0.40513209, 3.6801336000000004, 11.811574, 0.5869281999999999, 12.391333, 7.8217106, -10.980179, -8.104476, -3.754997, 7.8041205, 6.385568, -8.126013, -5.676811, -4.638962, -0.60136014, 3.3903182000000003, -15.442592000000001, 2.8956619999999997, 1.1360161, -9.712069, -11.102879, -0.05729830599999999, -1.6252245, -4.462148, 2.1380196, 0.65694064, 1.9949414, 0.32076848, 2.7908020000000002, 1.7714777, 10.589108, -9.822435, -1.5226886999999998, -9.218860000000001, -8.810284, -0.50984824, -5.8151526, -1.7731241000000002, -0.8971169, 7.5946183000000005, 5.905572, -9.598882000000001, 6.882277, -3.9357605, 2.7703187000000002, 2.888447, -5.830563, 3.4062445, 9.189627, 2.6762786, 2.6811526000000003, 3.399721, -15.174351000000001, -11.631458, 2.5455565, 8.640041, -2.9569520000000002, -1.3365498, 7.2798004, 2.5422525, 8.778991, -6.1472974, -2.0425367, 4.911529, -3.5016835, 5.8962345, 3.2721014, 4.272266, -7.661914299999999, 3.8828142, -5.121607, 4.5285215, 11.060097, -10.030438, -8.527254, -8.156346000000001, -14.223476000000002, -2.0069823, -14.171135999999999, -10.872560499999999, -14.994176999999999, 8.246849000000001, 5.6587315, 3.8540379999999996, 7.3145614000000005, 7.911792, 10.336179, 7.2941365000000005, -7.0558467, 2.04298, 3.9716160000000005, 5.699656, 6.4372735, 0.010878261, 1.3801450000000002, 1.331325, -3.9366477, -1.444483, -2.7978706, 3.8268687999999993, 0.52723515, -1.8247181000000001, -12.428303999999999, -8.810345, -14.305678, -17.336409, 1.4602030000000001, -10.037117, -8.180895, 0.37656435, -5.465508, -3.8463347000000003, 7.032814, 6.9040103, -3.3313107000000004, 7.571729700000001, -14.41981, -4.175621, -3.1011794, -10.775786, -7.02469, -5.293932, 3.3721106, -2.935109, 1.7041331999999998, 7.857244000000001, 1.5766721000000001, -16.418165, 1.8846171999999999, 3.0605206000000003, -4.3065124, 7.442224, -5.524154, -2.2380624, 5.4844594, -0.7960225000000001, -11.778431, 3.8169467000000004, 6.3436193, 7.987639, 3.252753, -2.2823236000000002, 4.126183, 14.221232, -7.962743799999999, -10.27544, 4.430255000000001, 0.5194456000000001, 2.6482441000000003, -9.4575, -5.117708, 2.962483, -1.3864657, 2.4205825, -1.6378453000000002, 2.926703, 0.23391938, -3.2047205, -9.470538000000001, 2.1923234000000003, 0.9022648000000001, 10.738137, 6.2208815, 4.8464746, -11.683262, 9.239694, -1.9676652, 0.88385653, -9.119703, -4.545529, -7.0353330000000005, 4.608196700000001, 1.7280901999999998, -6.511865, 5.0125947, 4.77189, -3.7907631, 12.762286, 10.963595, -7.9446754, -0.96329343, -5.052209400000001, -13.862339000000002, 2.2850912, -12.023296, -9.081566, 6.845045, 2.9743378, -0.7506838, 5.553535, -1.1689597, 0.19168992, 10.082825999999999, 9.944827, -8.118088, -7.635638, 5.7796283, 9.594648, -0.98745906, -4.322718599999999, -13.061739, -1.5805078000000001, 6.157701, 5.0364804, 2.116391, -10.937403, -5.069416, 1.2625613000000002, -1.7128141, -8.170701, 0.005573703, -2.001691, 7.846814599999999, 4.9632515999999995, 5.716977, 6.734417999999999, 0.15480363, 2.7236748, 4.834938, -4.659733, -4.2681546, -14.188115, -3.2840958, 3.4636492999999997, 3.1062012, 2.4168448, 1.8829334, 8.403354, -7.310658, 0.81535023, -0.65375197, -11.413506, -8.155104, 12.316195, -6.9820213, 5.9830955999999995, 4.973965, 4.591035400000001, -1.5649283999999999, -3.8847682, 5.400665, -1.1364391999999999, 13.846309, 1.9812806, -0.32149044, -9.664436, -6.285638, 8.962216999999999, -4.65125, 5.1876707, 12.418465, 6.536316, 3.1133897, -14.034619000000001, 4.118211, -6.4656234, -13.999689000000002, 9.150298, 7.453334, -5.05548, 4.0922813, -11.542964999999999, -0.9455368000000001, -16.360632, -5.0405293, 3.6987257000000007, -10.140927, 0.674586, -11.181986, -14.192307999999999, 0.86778367, -12.313575, 8.779012, 8.62227, -0.30418137, -9.707369, -9.723367999999999, 6.483721, 8.094658, -5.3659105, -2.466883, -2.065929, 4.295828299999999, -12.396499, 6.856965, -3.2210952999999996, 1.577605, -3.242788, 6.5012794000000005, -3.9289032999999995, -13.059857000000001, 5.938599, -11.29628, -6.1222825, -0.5821851, 9.497271000000001, -7.092392, 2.0090983000000002, 2.1482942000000005, -9.7548685, -16.162172, 3.0423486, 5.6560516, -9.86765, 1.9156689999999998, -1.8366745999999998, 10.239083, -4.727089, 3.4068153, -9.24306, 3.8956807, 2.88762, -1.0271837, -1.0849718000000002, 2.645556, 10.470763, 2.5362468, -3.6181035, -10.039952, -0.9769405999999999, -5.2893989999999995, 5.141038, -1.6271465, 0.7566489000000001, 0.12413473, 1.0157799, -10.038755, 5.47891, -4.872586, -13.248987, 1.6934238999999998, 7.002432300000001, 1.8239118000000003, -10.368528, 1.3194786, -12.018171, -9.618538000000001, 5.066884, 5.234844, 3.3290787, 1.4019438999999998, 4.6283135, -5.3870378, 1.906859, 5.0423017, 0.34678018, -2.2858918, -7.788597, -8.866795, 9.613485, -7.529433, -3.8459003, 3.173364, 4.745957, -5.741907599999999, 7.4789023, -2.3434122000000004, 4.849533999999999, -11.039480000000001, -0.20790094, 0.37925446, -4.271767, -3.8448284, 1.5746556999999999, 1.9315732, -1.2342703000000002, -13.414204999999999, -0.5399514, -10.136969, -6.994353299999999, -13.025624, -14.448872, -0.53559977, -8.722583, 9.385553, -3.3812613, -8.434602, -7.779886, -0.44039524, 3.9766805, 6.4523296, -0.33808827, 8.620229, 5.028534400000001, 4.023328, 7.9744363, -7.741202400000001, 1.0245035, -8.963694, -5.115931, -4.479366000000001, -5.00384, -12.184194999999999, -11.459174, -2.4452388, -2.5665932000000002, -14.945185, 5.2111645, 0.10258125, 1.3953745000000002, 1.8699093999999998]}],\n",
       "                        {\"legend\": {\"title\": {\"text\": \"drum_type\"}, \"tracegroupgap\": 0, \"x\": 0.01, \"xanchor\": \"right\", \"y\": 0.99, \"yanchor\": \"top\"}, \"margin\": {\"b\": 0, \"l\": 0, \"r\": 0, \"t\": 0}, \"scene\": {\"aspectmode\": \"cube\", \"camera\": {\"eye\": {\"x\": 1, \"y\": -1, \"z\": -1}}, \"domain\": {\"x\": [0.0, 1.0], \"y\": [0.0, 1.0]}, \"xaxis\": {\"title\": {\"text\": \"D1\"}}, \"yaxis\": {\"title\": {\"text\": \"D2\"}}, \"zaxis\": {\"title\": {\"text\": \"D3\"}}}, \"showlegend\": false, \"template\": {\"data\": {\"bar\": [{\"error_x\": {\"color\": \"#2a3f5f\"}, \"error_y\": {\"color\": \"#2a3f5f\"}, \"marker\": {\"line\": {\"color\": \"#E5ECF6\", \"width\": 0.5}}, \"type\": \"bar\"}], \"barpolar\": [{\"marker\": {\"line\": {\"color\": \"#E5ECF6\", \"width\": 0.5}}, \"type\": \"barpolar\"}], \"carpet\": [{\"aaxis\": {\"endlinecolor\": \"#2a3f5f\", \"gridcolor\": \"white\", \"linecolor\": \"white\", \"minorgridcolor\": \"white\", \"startlinecolor\": \"#2a3f5f\"}, \"baxis\": {\"endlinecolor\": \"#2a3f5f\", \"gridcolor\": \"white\", \"linecolor\": \"white\", \"minorgridcolor\": \"white\", \"startlinecolor\": \"#2a3f5f\"}, \"type\": \"carpet\"}], \"choropleth\": [{\"colorbar\": {\"outlinewidth\": 0, \"ticks\": \"\"}, \"type\": \"choropleth\"}], \"contour\": [{\"colorbar\": {\"outlinewidth\": 0, \"ticks\": \"\"}, \"colorscale\": [[0.0, \"#0d0887\"], [0.1111111111111111, \"#46039f\"], [0.2222222222222222, \"#7201a8\"], [0.3333333333333333, \"#9c179e\"], [0.4444444444444444, \"#bd3786\"], [0.5555555555555556, \"#d8576b\"], [0.6666666666666666, \"#ed7953\"], [0.7777777777777778, \"#fb9f3a\"], [0.8888888888888888, \"#fdca26\"], [1.0, \"#f0f921\"]], \"type\": \"contour\"}], \"contourcarpet\": [{\"colorbar\": {\"outlinewidth\": 0, \"ticks\": \"\"}, \"type\": \"contourcarpet\"}], \"heatmap\": [{\"colorbar\": {\"outlinewidth\": 0, \"ticks\": \"\"}, \"colorscale\": [[0.0, \"#0d0887\"], [0.1111111111111111, \"#46039f\"], [0.2222222222222222, \"#7201a8\"], [0.3333333333333333, \"#9c179e\"], [0.4444444444444444, \"#bd3786\"], [0.5555555555555556, \"#d8576b\"], [0.6666666666666666, \"#ed7953\"], [0.7777777777777778, \"#fb9f3a\"], [0.8888888888888888, \"#fdca26\"], [1.0, \"#f0f921\"]], \"type\": \"heatmap\"}], \"heatmapgl\": [{\"colorbar\": {\"outlinewidth\": 0, \"ticks\": \"\"}, \"colorscale\": [[0.0, \"#0d0887\"], [0.1111111111111111, \"#46039f\"], [0.2222222222222222, \"#7201a8\"], [0.3333333333333333, \"#9c179e\"], [0.4444444444444444, \"#bd3786\"], [0.5555555555555556, \"#d8576b\"], [0.6666666666666666, \"#ed7953\"], [0.7777777777777778, \"#fb9f3a\"], [0.8888888888888888, \"#fdca26\"], [1.0, \"#f0f921\"]], \"type\": \"heatmapgl\"}], \"histogram\": [{\"marker\": {\"colorbar\": {\"outlinewidth\": 0, \"ticks\": \"\"}}, \"type\": \"histogram\"}], \"histogram2d\": [{\"colorbar\": {\"outlinewidth\": 0, \"ticks\": \"\"}, \"colorscale\": [[0.0, \"#0d0887\"], [0.1111111111111111, \"#46039f\"], [0.2222222222222222, \"#7201a8\"], [0.3333333333333333, \"#9c179e\"], [0.4444444444444444, \"#bd3786\"], [0.5555555555555556, \"#d8576b\"], [0.6666666666666666, \"#ed7953\"], [0.7777777777777778, \"#fb9f3a\"], [0.8888888888888888, \"#fdca26\"], [1.0, \"#f0f921\"]], \"type\": \"histogram2d\"}], \"histogram2dcontour\": [{\"colorbar\": {\"outlinewidth\": 0, \"ticks\": \"\"}, \"colorscale\": [[0.0, \"#0d0887\"], [0.1111111111111111, \"#46039f\"], [0.2222222222222222, \"#7201a8\"], [0.3333333333333333, \"#9c179e\"], [0.4444444444444444, \"#bd3786\"], [0.5555555555555556, \"#d8576b\"], [0.6666666666666666, \"#ed7953\"], [0.7777777777777778, \"#fb9f3a\"], [0.8888888888888888, \"#fdca26\"], [1.0, \"#f0f921\"]], \"type\": \"histogram2dcontour\"}], \"mesh3d\": [{\"colorbar\": {\"outlinewidth\": 0, \"ticks\": \"\"}, \"type\": \"mesh3d\"}], \"parcoords\": [{\"line\": {\"colorbar\": {\"outlinewidth\": 0, \"ticks\": \"\"}}, \"type\": \"parcoords\"}], \"pie\": [{\"automargin\": true, \"type\": \"pie\"}], \"scatter\": [{\"marker\": {\"colorbar\": {\"outlinewidth\": 0, \"ticks\": \"\"}}, \"type\": \"scatter\"}], \"scatter3d\": [{\"line\": {\"colorbar\": {\"outlinewidth\": 0, \"ticks\": \"\"}}, \"marker\": {\"colorbar\": {\"outlinewidth\": 0, \"ticks\": \"\"}}, \"type\": \"scatter3d\"}], \"scattercarpet\": [{\"marker\": {\"colorbar\": {\"outlinewidth\": 0, \"ticks\": \"\"}}, \"type\": \"scattercarpet\"}], \"scattergeo\": [{\"marker\": {\"colorbar\": {\"outlinewidth\": 0, \"ticks\": \"\"}}, \"type\": \"scattergeo\"}], \"scattergl\": [{\"marker\": {\"colorbar\": {\"outlinewidth\": 0, \"ticks\": \"\"}}, \"type\": \"scattergl\"}], \"scattermapbox\": [{\"marker\": {\"colorbar\": {\"outlinewidth\": 0, \"ticks\": \"\"}}, \"type\": \"scattermapbox\"}], \"scatterpolar\": [{\"marker\": {\"colorbar\": {\"outlinewidth\": 0, \"ticks\": \"\"}}, \"type\": \"scatterpolar\"}], \"scatterpolargl\": [{\"marker\": {\"colorbar\": {\"outlinewidth\": 0, \"ticks\": \"\"}}, \"type\": \"scatterpolargl\"}], \"scatterternary\": [{\"marker\": {\"colorbar\": {\"outlinewidth\": 0, \"ticks\": \"\"}}, \"type\": \"scatterternary\"}], \"surface\": [{\"colorbar\": {\"outlinewidth\": 0, \"ticks\": \"\"}, \"colorscale\": [[0.0, \"#0d0887\"], [0.1111111111111111, \"#46039f\"], [0.2222222222222222, \"#7201a8\"], [0.3333333333333333, \"#9c179e\"], [0.4444444444444444, \"#bd3786\"], [0.5555555555555556, \"#d8576b\"], [0.6666666666666666, \"#ed7953\"], [0.7777777777777778, \"#fb9f3a\"], [0.8888888888888888, \"#fdca26\"], [1.0, \"#f0f921\"]], \"type\": \"surface\"}], \"table\": [{\"cells\": {\"fill\": {\"color\": \"#EBF0F8\"}, \"line\": {\"color\": \"white\"}}, \"header\": {\"fill\": {\"color\": \"#C8D4E3\"}, \"line\": {\"color\": \"white\"}}, \"type\": \"table\"}]}, \"layout\": {\"annotationdefaults\": {\"arrowcolor\": \"#2a3f5f\", \"arrowhead\": 0, \"arrowwidth\": 1}, \"coloraxis\": {\"colorbar\": {\"outlinewidth\": 0, \"ticks\": \"\"}}, \"colorscale\": {\"diverging\": [[0, \"#8e0152\"], [0.1, \"#c51b7d\"], [0.2, \"#de77ae\"], [0.3, \"#f1b6da\"], [0.4, \"#fde0ef\"], [0.5, \"#f7f7f7\"], [0.6, \"#e6f5d0\"], [0.7, \"#b8e186\"], [0.8, \"#7fbc41\"], [0.9, \"#4d9221\"], [1, \"#276419\"]], \"sequential\": [[0.0, \"#0d0887\"], [0.1111111111111111, \"#46039f\"], [0.2222222222222222, \"#7201a8\"], [0.3333333333333333, \"#9c179e\"], [0.4444444444444444, \"#bd3786\"], [0.5555555555555556, \"#d8576b\"], [0.6666666666666666, \"#ed7953\"], [0.7777777777777778, \"#fb9f3a\"], [0.8888888888888888, \"#fdca26\"], [1.0, \"#f0f921\"]], \"sequentialminus\": [[0.0, \"#0d0887\"], [0.1111111111111111, \"#46039f\"], [0.2222222222222222, \"#7201a8\"], [0.3333333333333333, \"#9c179e\"], [0.4444444444444444, \"#bd3786\"], [0.5555555555555556, \"#d8576b\"], [0.6666666666666666, \"#ed7953\"], [0.7777777777777778, \"#fb9f3a\"], [0.8888888888888888, \"#fdca26\"], [1.0, \"#f0f921\"]]}, \"colorway\": [\"#636efa\", \"#EF553B\", \"#00cc96\", \"#ab63fa\", \"#FFA15A\", \"#19d3f3\", \"#FF6692\", \"#B6E880\", \"#FF97FF\", \"#FECB52\"], \"font\": {\"color\": \"#2a3f5f\"}, \"geo\": {\"bgcolor\": \"white\", \"lakecolor\": \"white\", \"landcolor\": \"#E5ECF6\", \"showlakes\": true, \"showland\": true, \"subunitcolor\": \"white\"}, \"hoverlabel\": {\"align\": \"left\"}, \"hovermode\": \"closest\", \"mapbox\": {\"style\": \"light\"}, \"paper_bgcolor\": \"white\", \"plot_bgcolor\": \"#E5ECF6\", \"polar\": {\"angularaxis\": {\"gridcolor\": \"white\", \"linecolor\": \"white\", \"ticks\": \"\"}, \"bgcolor\": \"#E5ECF6\", \"radialaxis\": {\"gridcolor\": \"white\", \"linecolor\": \"white\", \"ticks\": \"\"}}, \"scene\": {\"xaxis\": {\"backgroundcolor\": \"#E5ECF6\", \"gridcolor\": \"white\", \"gridwidth\": 2, \"linecolor\": \"white\", \"showbackground\": true, \"ticks\": \"\", \"zerolinecolor\": \"white\"}, \"yaxis\": {\"backgroundcolor\": \"#E5ECF6\", \"gridcolor\": \"white\", \"gridwidth\": 2, \"linecolor\": \"white\", \"showbackground\": true, \"ticks\": \"\", \"zerolinecolor\": \"white\"}, \"zaxis\": {\"backgroundcolor\": \"#E5ECF6\", \"gridcolor\": \"white\", \"gridwidth\": 2, \"linecolor\": \"white\", \"showbackground\": true, \"ticks\": \"\", \"zerolinecolor\": \"white\"}}, \"shapedefaults\": {\"line\": {\"color\": \"#2a3f5f\"}}, \"ternary\": {\"aaxis\": {\"gridcolor\": \"white\", \"linecolor\": \"white\", \"ticks\": \"\"}, \"baxis\": {\"gridcolor\": \"white\", \"linecolor\": \"white\", \"ticks\": \"\"}, \"bgcolor\": \"#E5ECF6\", \"caxis\": {\"gridcolor\": \"white\", \"linecolor\": \"white\", \"ticks\": \"\"}}, \"title\": {\"x\": 0.05}, \"xaxis\": {\"automargin\": true, \"gridcolor\": \"white\", \"linecolor\": \"white\", \"ticks\": \"\", \"title\": {\"standoff\": 15}, \"zerolinecolor\": \"white\", \"zerolinewidth\": 2}, \"yaxis\": {\"automargin\": true, \"gridcolor\": \"white\", \"linecolor\": \"white\", \"ticks\": \"\", \"title\": {\"standoff\": 15}, \"zerolinecolor\": \"white\", \"zerolinewidth\": 2}}}},\n",
       "                        {\"responsive\": true}\n",
       "                    ).then(function(){\n",
       "                            \n",
       "var gd = document.getElementById('cd43ecdc-f41c-430e-8970-14d13fbce358');\n",
       "var x = new MutationObserver(function (mutations, observer) {{\n",
       "        var display = window.getComputedStyle(gd).display;\n",
       "        if (!display || display === 'none') {{\n",
       "            console.log([gd, 'removed!']);\n",
       "            Plotly.purge(gd);\n",
       "            observer.disconnect();\n",
       "        }}\n",
       "}});\n",
       "\n",
       "// Listen for the removal of the full notebook cells\n",
       "var notebookContainer = gd.closest('#notebook-container');\n",
       "if (notebookContainer) {{\n",
       "    x.observe(notebookContainer, {childList: true});\n",
       "}}\n",
       "\n",
       "// Listen for the clearing of the current output cell\n",
       "var outputEl = gd.closest('.output');\n",
       "if (outputEl) {{\n",
       "    x.observe(outputEl, {childList: true});\n",
       "}}\n",
       "\n",
       "                        })\n",
       "                };\n",
       "                });\n",
       "            </script>\n",
       "        </div>"
      ]
     },
     "metadata": {},
     "output_type": "display_data"
    }
   ],
   "source": [
    "\n",
    "scope = PlotlyScope()\n",
    "df=pd.read_csv(\"csvs/df_8.csv\",index_col=False)\n",
    "fig = px.scatter_3d(df, x=\"D1\",y=\"D2\",z=\"D3\",color=\"drum_type\",hover_data=[\"path\"],color_discrete_sequence=px.colors.qualitative.Dark24)\n",
    "fig.update_layout(scene = dict(\n",
    "                    camera=dict(eye=dict(x=1, y=-1, z=-1)),\n",
    "                    aspectmode=\"cube\",),\n",
    "                    margin=dict( r=0, l=0, b=0, t=0),\n",
    "                  showlegend=False,\n",
    "              legend=dict(\n",
    "                yanchor=\"top\",\n",
    "                y=0.99,\n",
    "                xanchor=\"right\",\n",
    "                x=0.01\n",
    "            ),\n",
    "\n",
    "                 )\n",
    "fig.update_traces(marker=dict(size=8,\n",
    "                      line=dict(width=0,\n",
    "                                color='DarkSlateGrey')),)\n",
    "\n",
    "g=fig\n",
    "fig.show()\n",
    "\n",
    "\n",
    "with open(\"figure5.svg\", \"wb\") as f:\n",
    "    f.write(scope.transform(fig, format=\"svg\"))"
   ]
  },
  {
   "cell_type": "code",
   "execution_count": 119,
   "metadata": {},
   "outputs": [
    {
     "data": {
      "text/plain": [
       "<bound method BaseFigure.get_subplot of Figure({\n",
       "    'data': [{'customdata': array([['./dk_data/tom_high/Roland Tr-909-TR-909Tom Hi 01.wav'],\n",
       "                                   ['./dk_data/tom_high/Kawai R50e-R50eTomA_Hi.wav'],\n",
       "                                   ['./dk_data/tom_high/Vermona Drum-MaxV - Tom Hi.wav'],\n",
       "                                   ['./dk_data/tom_high/Kawai R50-R50 TomH.wav'],\n",
       "                                   ['./dk_data/tom_high/Alesis Hr16-MaxV - HR16 10-DBL TOM.wav'],\n",
       "                                   ['./dk_data/tom_high/Yamaha RX21-RX21Tom_Hi.wav'],\n",
       "                                   ['./dk_data/tom_high/Alesis DM5-DM5Tom03_Hi.wav'],\n",
       "                                   ['./dk_data/tom_high/Yamaha SY22-Tom2elsy45.wav'],\n",
       "                                   ['./dk_data/tom_high/mercure_drums-gd-tom1.wav'],\n",
       "                                   ['./dk_data/tom_high/Emu Drumulator-DrumulatorTom03.wav'],\n",
       "                                   ['./dk_data/tom_high/Kawai r-50-MaxV - RTOMHREV.wav'],\n",
       "                                   ['./dk_data/tom_high/Alesis DM5-DM5Tom04_Hi.wav'],\n",
       "                                   ['./dk_data/tom_high/Sequential Tom-TOMTom_Hi.wav'],\n",
       "                                   ['./dk_data/tom_high/Emu Drumulator-DrumulatorTom02.wav'],\n",
       "                                   ['./dk_data/tom_high/Roland Tr-606-TR606TomHi05.wav'],\n",
       "                                   ['./dk_data/tom_high/Akai Mpc60-MaxV - Tom High.wav'],\n",
       "                                   ['./dk_data/tom_high/Coron Drum Synce DS-7-coron-ds7-tom7.wav'],\n",
       "                                   ['./dk_data/tom_high/Roland Tr-909-TR-909Tom Hi 02.wav'],\n",
       "                                   ['./dk_data/tom_high/Sequential DrumTraks Tom-MaxV - Tom Hi.wav'],\n",
       "                                   ['./dk_data/tom_high/Boss DR-202-202tom01.wav'],\n",
       "                                   ['./dk_data/tom_high/Coron Drum Synce DS-7-coron-ds7-tom5.wav'],\n",
       "                                   ['./dk_data/tom_high/Roland Tr-606-TR606TomHi_OD.wav'],\n",
       "                                   ['./dk_data/tom_high/Roland MC303-MaxV - Achitom2.wav'],\n",
       "                                   ['./dk_data/tom_high/Alesis Hr16-HR16Tom02.wav'],\n",
       "                                   ['./dk_data/tom_high/Roland Tr-606-MaxV - Roland Tr-606 - Tom-Hi.wav'],\n",
       "                                   ['./dk_data/tom_high/Alesis DM5-DM5Tom02_Hi.wav'],\n",
       "                                   ['./dk_data/tom_high/Akai XR10-XR10HiTom03.wav'],\n",
       "                                   ['./dk_data/tom_high/Alesis DM5-DM5Tom01_Hi.wav'],\n",
       "                                   ['./dk_data/tom_high/AKAI XE-8-MaxV - XE8 Tom High int_12.wav'],\n",
       "                                   ['./dk_data/tom_high/Fricke MFB 512-MaxV - Tom High.wav'],\n",
       "                                   ['./dk_data/tom_high/Kawai r-50-MaxV - ATOMSDGA.wav']], dtype=object),\n",
       "              'hovertemplate': ('drum_type=tom_high<br>D1=%{x}<' ... '{customdata[0]}<extra></extra>'),\n",
       "              'legendgroup': 'tom_high',\n",
       "              'marker': {'color': '#2E91E5',\n",
       "                         'line': {'color': 'DarkSlateGrey', 'width': 0},\n",
       "                         'size': 8,\n",
       "                         'symbol': 'circle'},\n",
       "              'mode': 'markers',\n",
       "              'name': 'tom_high',\n",
       "              'scene': 'scene',\n",
       "              'showlegend': True,\n",
       "              'type': 'scatter3d',\n",
       "              'x': array([ 19.722033 ,  18.804049 ,   6.3223133,  15.8800125,  16.978024 ,\n",
       "                           18.582457 ,  14.7816105,  17.12831  ,  20.28966  ,  -7.7262383,\n",
       "                           18.847153 ,  15.197134 ,  15.786109 ,  14.853873 ,  17.681147 ,\n",
       "                           17.254414 , -14.869064 ,  10.36142  ,  15.533519 ,   8.646336 ,\n",
       "                          -13.763152 ,  19.408707 ,  19.110216 ,  18.041046 ,  17.815834 ,\n",
       "                           17.077255 ,  16.94205  ,  16.149714 ,  15.838669 ,  17.324438 ,\n",
       "                           16.71549  ]),\n",
       "              'y': array([ -1.9588777 ,  -3.264532  , -10.138191  ,   7.0867405 ,  -3.7842872 ,\n",
       "                           -3.3941522 ,  -1.216827  ,   5.645736  ,  -2.598214  ,   1.584499  ,\n",
       "                           -1.752495  ,   0.44690737,  -5.021056  ,  -1.036013  ,  -8.544791  ,\n",
       "                            3.4135947 ,   8.226868  ,  -3.588247  ,  -3.1121864 ,  -7.2795863 ,\n",
       "                           -1.3651937 ,   0.8140098 ,   2.5435543 ,   1.7458907 ,  -8.540393  ,\n",
       "                           -1.8465245 ,   2.9402142 ,  -8.740514  ,  -1.5645425 ,  -4.800423  ,\n",
       "                            2.9438264 ]),\n",
       "              'z': array([  1.8199376 ,  -0.7455913 ,   2.249767  ,  -6.3474236 ,   2.3625288 ,\n",
       "                            3.6557157 ,   8.514452  ,   6.452076  ,   4.1850796 , -10.727784  ,\n",
       "                           -0.31160134,   6.551057  ,   7.680137  ,   6.9022465 ,  -0.30451235,\n",
       "                            4.186451  ,   5.506343  ,   9.841268  ,   7.3091173 ,   2.7822697 ,\n",
       "                           -8.626458  ,   2.7998466 ,   2.2522237 ,   5.5146384 ,   1.4555001 ,\n",
       "                            3.8619642 ,   2.5281103 ,   1.7877693 ,   6.056585  ,   4.3716803 ,\n",
       "                           -1.2035314 ])},\n",
       "             {'customdata': array([['./dk_data/tom_low/Visco Space drums-MaxV - Tom Lo.wav'],\n",
       "                                   ['./dk_data/tom_low/Yamaha RX-11-MaxV - RX11 TOM3.wav'],\n",
       "                                   ['./dk_data/tom_low/Korg DDM110-Ddm110Tom_Lo.wav'],\n",
       "                                   ['./dk_data/tom_low/Linn Drum LM1-tom6.wav'],\n",
       "                                   ['./dk_data/tom_low/Alesis DM5-DM5Tom10_Lo.wav'],\n",
       "                                   ['./dk_data/tom_low/Akai Mpc60-MaxV - Tom Low 2.wav'],\n",
       "                                   ['./dk_data/tom_low/Linn Drum LM1-tom1.wav'],\n",
       "                                   ['./dk_data/tom_low/Roland R-8-R8Tom35.wav'],\n",
       "                                   ['./dk_data/tom_low/Alesis DM5-DM5Tom12_Lo.wav'],\n",
       "                                   ['./dk_data/tom_low/Roland SH-09-MaxV - stompbass4.wav'],\n",
       "                                   ['./dk_data/tom_low/Roland R-8-R8Tom27.wav'],\n",
       "                                   ['./dk_data/tom_low/Fairlight IIx-MaxV - DeepTom.wav'],\n",
       "                                   ['./dk_data/tom_low/Roland Tr-606-TR606TomLo02.wav'],\n",
       "                                   ['./dk_data/tom_low/Akai XR10-XR10LoTom03.wav'],\n",
       "                                   ['./dk_data/tom_low/Roland JD-990-MaxV - RIM-TOM4.wav'],\n",
       "                                   ['./dk_data/tom_low/Suzuki RPM-40-MaxV - Tom.wav'],\n",
       "                                   ['./dk_data/tom_low/Linn Drum LM2-Linn lo tom.wav'],\n",
       "                                   ['./dk_data/tom_low/Korg MS-20-MaxV - TomLo.wav'],\n",
       "                                   ['./dk_data/tom_low/Alesis DM5-DM5Tom01_Lo.wav'],\n",
       "                                   ['./dk_data/tom_low/Kurzweil K2000 ROM-MaxV - lotom.wav'],\n",
       "                                   ['./dk_data/tom_low/Alesis DM5-DM5Tom20_Lo.wav'],\n",
       "                                   ['./dk_data/tom_low/Virtual MPC Electronics-MaxV - Tom.wav'],\n",
       "                                   ['./dk_data/tom_low/Alesis DM5-DM5Tom18_Lo.wav'],\n",
       "                                   ['./dk_data/tom_low/Alesis DM5-DM5Tom05_Lo.wav'],\n",
       "                                   ['./dk_data/tom_low/Roland R-5-R-5 Room Ambient Tom 1.wav'],\n",
       "                                   ['./dk_data/tom_low/DPM-48-TOM3.wav'],\n",
       "                                   ['./dk_data/tom_low/Kawai r-50-MaxV - ETOMLR50.wav'],\n",
       "                                   ['./dk_data/tom_low/Akai XR10-XR10LoTom04.wav'],\n",
       "                                   ['./dk_data/tom_low/Roland Tr-606-TR606TomLo_OD.wav'],\n",
       "                                   ['./dk_data/tom_low/Yamaha MR10-MR10Tom_Lo.wav'],\n",
       "                                   ['./dk_data/tom_low/Roland R-8-R8Tom16.wav'],\n",
       "                                   ['./dk_data/tom_low/Kawai XD5-XD5TomLo.wav'],\n",
       "                                   ['./dk_data/tom_low/Simmons SDS5-SDSTomE2.wav'],\n",
       "                                   ['./dk_data/tom_low/Boss DR-202-202tom06.wav'],\n",
       "                                   ['./dk_data/tom_low/Yamaha RX21-RX21Tom_Lo.wav'],\n",
       "                                   ['./dk_data/tom_low/Roland R-8-R8Tom19.wav'],\n",
       "                                   ['./dk_data/tom_low/Emu Drumulator-DrumulatorETomLo.wav']], dtype=object),\n",
       "              'hovertemplate': ('drum_type=tom_low<br>D1=%{x}<b' ... '{customdata[0]}<extra></extra>'),\n",
       "              'legendgroup': 'tom_low',\n",
       "              'marker': {'color': '#E15F99',\n",
       "                         'line': {'color': 'DarkSlateGrey', 'width': 0},\n",
       "                         'size': 8,\n",
       "                         'symbol': 'circle'},\n",
       "              'mode': 'markers',\n",
       "              'name': 'tom_low',\n",
       "              'scene': 'scene',\n",
       "              'showlegend': True,\n",
       "              'type': 'scatter3d',\n",
       "              'x': array([11.415589 , 11.441424 , 12.845717 , 19.110115 , 13.965582 , 15.243335 ,\n",
       "                          18.256205 , 14.859928 , 15.431134 , 10.367918 , 11.787411 ,  7.7803054,\n",
       "                          16.663342 , 14.86095  , 16.1988   , 19.775515 , 20.28337  , 14.906674 ,\n",
       "                           7.576457 , 17.1714   , 18.034407 , 15.098304 , 15.387407 , 11.868349 ,\n",
       "                          13.409075 , 10.752017 , 14.57719  , 16.137878 , 17.169538 ,  9.097327 ,\n",
       "                          16.659586 , 13.353056 , 15.581078 , 12.971248 , 12.622771 , 11.993007 ,\n",
       "                          18.600657 ]),\n",
       "              'y': array([ -4.9920244 ,  -5.037765  ,  -4.110141  ,   1.4056075 ,   0.06281113,\n",
       "                           -2.3223531 ,   0.84890205,  -0.8508447 ,   4.5684743 , -10.856512  ,\n",
       "                           -5.549247  ,  -3.565357  ,  -7.4970646 ,   4.9622636 ,   4.623072  ,\n",
       "                           -3.54524   ,  -3.8843956 ,   5.703409  ,  -7.3976684 ,  -0.4925483 ,\n",
       "                            3.6185777 ,  -5.2243505 ,   2.8977692 ,  -5.190138  ,  -8.599584  ,\n",
       "                            4.2281823 ,  -1.6307932 ,  -3.467791  ,   1.5357728 ,  -7.5575376 ,\n",
       "                            3.9006479 ,  -1.6699995 ,   2.6500466 ,  -0.5683534 ,  -5.1257806 ,\n",
       "                           -8.148893  ,   2.6531591 ]),\n",
       "              'z': array([13.728229 ,  8.946797 ,  7.6346464,  4.017836 ,  8.892485 ,  4.4771986,\n",
       "                           1.8751804,  3.9992163,  6.557483 , -1.8014863,  5.6678667, 11.412437 ,\n",
       "                           2.5709252,  4.8344707,  4.8446794,  0.7987905,  2.4590454,  6.088093 ,\n",
       "                          10.182217 ,  2.9938667,  5.7847733,  4.919686 ,  6.639683 , 12.027182 ,\n",
       "                          11.6892   ,  8.979271 ,  5.5513096,  4.4517937,  4.372882 ,  7.8542   ,\n",
       "                           7.860926 ,  5.3401055,  4.64441  ,  9.411705 ,  9.908535 , 12.830561 ,\n",
       "                           4.3105345])},\n",
       "             {'customdata': array([['./dk_data/snare/Emu Sp12-big esnare.wav'],\n",
       "                                   ['./dk_data/snare/Roland Tr-909-TR-909Snare 17.wav'],\n",
       "                                   ['./dk_data/snare/Alesis DM5-DM5Snare095.wav'],\n",
       "                                   ['./dk_data/snare/KORG DDD-1-MaxV - DDD1 snare2.wav'],\n",
       "                                   ['./dk_data/snare/Roland Tr-808-TR-808Snare11.wav'],\n",
       "                                   ['./dk_data/snare/Roland Tr-909-TR-909Snare 26.wav'],\n",
       "                                   ['./dk_data/snare/Alesis Hr16-HR16Snare01.wav'],\n",
       "                                   ['./dk_data/snare/Alesis DM5-DM5Snare066.wav'],\n",
       "                                   ['./dk_data/snare/Roland TR-55-MaxV - Snare.wav'],\n",
       "                                   ['./dk_data/snare/Roland JV 1080-MaxV - Snare1.wav'],\n",
       "                                   ['./dk_data/snare/Alesis Hr16-HR16Snare06.wav'],\n",
       "                                   ['./dk_data/snare/Alesis DM5-DM5Snare016.wav'],\n",
       "                                   ['./dk_data/snare/Akai XR10-XR10Snare01.wav'],\n",
       "                                   ['./dk_data/snare/MultiMoog-MaxV - Tiny Punch Snare.AIFF'],\n",
       "                                   ['./dk_data/snare/mercure_drums-gd-snr3.wav'],\n",
       "                                   ['./dk_data/snare/Alesis DM5-DM5Snare082.wav'],\n",
       "                                   ['./dk_data/snare/mercure_drums-p-snr1.wav'],\n",
       "                                   ['./dk_data/snare/Alesis DM5-DM5Snare055.wav'],\n",
       "                                   ['./dk_data/snare/Alesis DM5-DM5Snare084.wav'],\n",
       "                                   ['./dk_data/snare/Boss DR-202-202snr27.wav'],\n",
       "                                   ['./dk_data/snare/Roland MC09-MC09 Snare10.wav'],\n",
       "                                   ['./dk_data/snare/Boss DR-660-DR-660Snare52.wav'],\n",
       "                                   ['./dk_data/snare/Roland R-8-R8Snare06.wav'],\n",
       "                                   ['./dk_data/snare/Alesis DM5-DM5Snare049.wav'],\n",
       "                                   ['./dk_data/snare/MultiMoog-MaxV - FilterSnare.wav'],\n",
       "                                   ['./dk_data/snare/Alesis DM5-DM5Snare101.wav'],\n",
       "                                   ['./dk_data/snare/Roland Tr-808-TR-808Snare04.wav'],\n",
       "                                   ['./dk_data/snare/Lel UDS-MaxV - Snare 1.wav'],\n",
       "                                   ['./dk_data/snare/Alesis DM5-DM5Snare069.wav'],\n",
       "                                   ['./dk_data/snare/Alesis DM5-DM5Snare109.wav'],\n",
       "                                   ['./dk_data/snare/Roland R-8-R8Snare45.wav'],\n",
       "                                   ['./dk_data/snare/AKAI XE-8-MaxV - XE8 Snare 3 int_10.wav'],\n",
       "                                   ['./dk_data/snare/Boss DR-660-DR-660Snare47.wav'],\n",
       "                                   ['./dk_data/snare/Roland R-8-R8Snare36.wav'],\n",
       "                                   ['./dk_data/snare/Roland R-8-R8Snare17.wav'],\n",
       "                                   ['./dk_data/snare/MultiMoog-MaxV - Vilonter Snare.AIFF'],\n",
       "                                   ['./dk_data/snare/Kawai R50e-R50eSnare02.wav'],\n",
       "                                   ['./dk_data/snare/Yamaha RY30-RY30Snare02.wav'],\n",
       "                                   ['./dk_data/snare/Boss DR-202-202snr48.wav'],\n",
       "                                   ['./dk_data/snare/Luxor Passet-MaxV - Snare 2.wav'],\n",
       "                                   ['./dk_data/snare/Yamaha RX-5-MaxV - RX5FMSNR.wav'],\n",
       "                                   ['./dk_data/snare/KorgMP7-Snare2.wav'],\n",
       "                                   ['./dk_data/snare/Roland R-8-R8Snare14.wav'],\n",
       "                                   ['./dk_data/snare/mercure_drums-gd-snr6.wav'],\n",
       "                                   ['./dk_data/snare/Roland SC-88-MaxV - D2 Standard1 Snare1.wav'],\n",
       "                                   ['./dk_data/snare/Boss DR-660-DR-660Snare06.wav'],\n",
       "                                   ['./dk_data/snare/Boss DR-660-DR-660Snare07.wav'],\n",
       "                                   ['./dk_data/snare/Yamaha RY30-RY30Snare08.wav'],\n",
       "                                   ['./dk_data/snare/Boss DR-660-DR-660Snare60.wav'],\n",
       "                                   ['./dk_data/snare/Boss DR-660-DR-660Snare28.wav'],\n",
       "                                   ['./dk_data/snare/Alesis DM5-DM5Snare087.wav'],\n",
       "                                   ['./dk_data/snare/Boss DR-202-202snr46.wav'],\n",
       "                                   ['./dk_data/snare/Alesis D4fx-MaxV - Snare 8.wav'],\n",
       "                                   ['./dk_data/snare/Roland Tr-909-TR-909Snare 05.wav'],\n",
       "                                   ['./dk_data/snare/Alesis Hr16-HR16Snare04.wav'],\n",
       "                                   ['./dk_data/snare/Yamaha RY30-RY30Snare11.wav'],\n",
       "                                   ['./dk_data/snare/Roland MC09-MC09 Snare02.wav'],\n",
       "                                   ['./dk_data/snare/Boss DR-660-DR-660Snare77.wav'],\n",
       "                                   ['./dk_data/snare/Boss DR-660-DR-660Snare66.wav'],\n",
       "                                   ['./dk_data/snare/Alesis Hr16b-MaxV - Snare 3.wav'],\n",
       "                                   ['./dk_data/snare/Boss DR-660-DR-660Snare21.wav'],\n",
       "                                   ['./dk_data/snare/Roland Tr-909-TR-909Snare 07.wav'],\n",
       "                                   ['./dk_data/snare/Kawai R50e-R50eSnare04.wav'],\n",
       "                                   ['./dk_data/snare/Roland Tr-909-TR-909Snare 16.wav'],\n",
       "                                   ['./dk_data/snare/Wurlitzer Swinging Rhythm-MaxV - Snare2.wav'],\n",
       "                                   ['./dk_data/snare/Alesis DM5-DM5Snare050.wav'],\n",
       "                                   ['./dk_data/snare/Boss DR-660-DR-660Snare58.wav'],\n",
       "                                   ['./dk_data/snare/Alesis Sr16-SR16Snare09.wav'],\n",
       "                                   ['./dk_data/snare/Hammond Rhythm-MaxV - Snare2.wav'],\n",
       "                                   ['./dk_data/snare/Alesis DM5-DM5Snare073.wav'],\n",
       "                                   ['./dk_data/snare/Boss DR-660-DR-660Snare32.wav'],\n",
       "                                   ['./dk_data/snare/Roland R-8-R8Snare08.wav'],\n",
       "                                   ['./dk_data/snare/mercure_drums-tt-snr1.wav'],\n",
       "                                   ['./dk_data/snare/Alesis DM5-DM5Snare059.wav'],\n",
       "                                   ['./dk_data/snare/Oberheim Dmx-DMXSnare02.wav'],\n",
       "                                   ['./dk_data/snare/Simmons SDS5-SDSnare06.wav'],\n",
       "                                   ['./dk_data/snare/Yamaha PS-55-Acoustic Snare.wav'],\n",
       "                                   ['./dk_data/snare/Vermona Drum-MaxV - Snare.wav'],\n",
       "                                   ['./dk_data/snare/Boss DR-660-DR-660Snare48.wav'],\n",
       "                                   ['./dk_data/snare/Alesis DM5-DM5Snare036.wav'],\n",
       "                                   ['./dk_data/snare/Alesis D4fx-MaxV - Snare 10.wav'],\n",
       "                                   ['./dk_data/snare/Alesis DM5-DM5Snare103.wav'],\n",
       "                                   ['./dk_data/snare/Boss DR-660-DR-660Snare45.wav'],\n",
       "                                   ['./dk_data/snare/Acetone Rhythm King-MaxV - Snare.wav'],\n",
       "                                   ['./dk_data/snare/Boss DR-202-202snr41.wav'],\n",
       "                                   ['./dk_data/snare/Yamaha RY30-RY30Snare14.wav'],\n",
       "                                   ['./dk_data/snare/Alesis DM5-DM5Snare102.wav'],\n",
       "                                   ['./dk_data/snare/Simmons SDS5-SDSnare02.wav'],\n",
       "                                   ['./dk_data/snare/Alesis Sr16-SR16Snare04.wav'],\n",
       "                                   ['./dk_data/snare/Korg SR-120-MaxV - Snare.wav'],\n",
       "                                   ['./dk_data/snare/Alesis DM5-DM5Snare071.wav'],\n",
       "                                   ['./dk_data/snare/Alesis DM5-DM5Snare039.wav'],\n",
       "                                   ['./dk_data/snare/Fairlight IIx-MaxV - SNREL.wav'],\n",
       "                                   ['./dk_data/snare/Alesis DM5-DM5Snare091.wav'],\n",
       "                                   ['./dk_data/snare/Roland Tr-626-TR-626Snare03.wav'],\n",
       "                                   ['./dk_data/snare/Boss DR-202-202snr14.wav'],\n",
       "                                   ['./dk_data/snare/Alesis DM5-DM5Snare085.wav'],\n",
       "                                   ['./dk_data/snare/Boss DR-202-202snr06.wav'],\n",
       "                                   ['./dk_data/snare/Hammond Autovari 64-MaxV - Snare2.wav'],\n",
       "                                   ['./dk_data/snare/Ruby Orla-MaxV - Snare.wav'],\n",
       "                                   ['./dk_data/snare/Boss DR-660-DR-660Snare35.wav'],\n",
       "                                   ['./dk_data/snare/Emu Sp12-snare3.wav'],\n",
       "                                   ['./dk_data/snare/mercure_drums-gd-snr2.wav'],\n",
       "                                   ['./dk_data/snare/Roland R-8-R8Snare25.wav'],\n",
       "                                   ['./dk_data/snare/Fairlight IIx-MaxV - SymSnre2.wav'],\n",
       "                                   ['./dk_data/snare/Roland Tr-909-TR-909Snare 11.wav'],\n",
       "                                   ['./dk_data/snare/Roland Tr-909-TR-909Snare 20.wav'],\n",
       "                                   ['./dk_data/snare/Alesis D4fx-MaxV - Snare 5.wav'],\n",
       "                                   ['./dk_data/snare/Moog mg-1-MaxV - Snare-c1.wav'],\n",
       "                                   ['./dk_data/snare/Casio PT-30-MaxV - Snare.wav'],\n",
       "                                   ['./dk_data/snare/XE8-XE8 Snare 3 int_10.wav'],\n",
       "                                   ['./dk_data/snare/Boss DR-202-202snr45.wav'],\n",
       "                                   ['./dk_data/snare/Alesis D4fx-MaxV - Snare 13.wav'],\n",
       "                                   ['./dk_data/snare/Boss DR-660-DR-660Snare54.wav'],\n",
       "                                   ['./dk_data/snare/Acetone Rhythm King-MaxV - Snare2.wav'],\n",
       "                                   ['./dk_data/snare/Boss DR-202-202snr23.wav'],\n",
       "                                   ['./dk_data/snare/Roland Tr-808-TR-808Snare07.wav'],\n",
       "                                   ['./dk_data/snare/Boss DR-550-DR550Snare04.wav'],\n",
       "                                   ['./dk_data/snare/Farfisa-MaxV - Snare2.wav'],\n",
       "                                   ['./dk_data/snare/Kawai XD5-XD5Snare02.wav'],\n",
       "                                   ['./dk_data/snare/MultiMoog-MaxV - Generic MoogSnare.wav'],\n",
       "                                   ['./dk_data/snare/Yamaha SY22-Snr4sy42.wav'],\n",
       "                                   ['./dk_data/snare/Roland Tr-808-TR-808Snare05.wav'],\n",
       "                                   ['./dk_data/snare/Jomox Xbase-09-Snare06.wav'],\n",
       "                                   ['./dk_data/snare/Roland Tr-909-TR-909Snare 23.wav'],\n",
       "                                   ['./dk_data/snare/Alesis DM5-DM5Snare054.wav'],\n",
       "                                   ['./dk_data/snare/Alesis D4fx-MaxV - Snare 4.wav'],\n",
       "                                   ['./dk_data/snare/Roland Tr-808-TR-808Snare10.wav'],\n",
       "                                   ['./dk_data/snare/Roland Tr-909-TR-909Snare 02.wav'],\n",
       "                                   ['./dk_data/snare/Roland TR-33-MaxV - Snare.wav'],\n",
       "                                   ['./dk_data/snare/Linn Drum LM2-Linn Snare mid.wav'],\n",
       "                                   ['./dk_data/snare/Alesis DM5-DM5Snare078.wav'],\n",
       "                                   ['./dk_data/snare/Boss DR-660-DR-660Snare46.wav'],\n",
       "                                   ['./dk_data/snare/Linn Linndrum-LinnSnare05.wav'],\n",
       "                                   ['./dk_data/snare/Roland R-8-R8Snare43.wav'],\n",
       "                                   ['./dk_data/snare/Roland R-8-R8Snare38.wav'],\n",
       "                                   ['./dk_data/snare/Boss DR-660-DR-660Snare02.wav'],\n",
       "                                   ['./dk_data/snare/Roland PB-300 Rhythm Plus-MaxV - Snare.wav'],\n",
       "                                   ['./dk_data/snare/Roland MC09-MC09 Snare04.wav'],\n",
       "                                   ['./dk_data/snare/MultiMoog-MaxV - Generic MoogSnare2.AIFF'],\n",
       "                                   ['./dk_data/snare/Fricke MFB 502-MaxV - Snare 5.wav'],\n",
       "                                   ['./dk_data/snare/Fairlight IIx-MaxV - Ssnre.wav'],\n",
       "                                   ['./dk_data/snare/Alesis DM5-DM5Snare100.wav']], dtype=object),\n",
       "              'hovertemplate': ('drum_type=snare<br>D1=%{x}<br>' ... '{customdata[0]}<extra></extra>'),\n",
       "              'legendgroup': 'snare',\n",
       "              'marker': {'color': '#1CA71C',\n",
       "                         'line': {'color': 'DarkSlateGrey', 'width': 0},\n",
       "                         'size': 8,\n",
       "                         'symbol': 'circle'},\n",
       "              'mode': 'markers',\n",
       "              'name': 'snare',\n",
       "              'scene': 'scene',\n",
       "              'showlegend': True,\n",
       "              'type': 'scatter3d',\n",
       "              'x': array([ 10.957701 ,  12.727765 ,  17.43433  ,  16.053413 ,   6.3572135,\n",
       "                            7.725621 ,  15.951704 ,  17.135359 ,  13.014147 ,  14.896997 ,\n",
       "                           15.285131 ,  15.837358 ,  14.090053 ,  12.286546 ,  13.920005 ,\n",
       "                           15.16951  ,  19.914444 ,  17.43922  ,  18.23424  ,  16.306095 ,\n",
       "                           18.468267 ,  14.422463 ,  16.014654 ,  14.714055 ,  10.971003 ,\n",
       "                           15.0198765,  12.815767 ,  15.587234 ,  11.634835 ,  18.752619 ,\n",
       "                           13.43779  ,  18.133905 ,  12.307735 ,  16.125778 ,  12.9654455,\n",
       "                          -14.606976 ,  18.415033 ,  12.305788 ,   8.829784 ,  12.7961645,\n",
       "                           13.491921 ,  10.983956 ,  15.759247 ,  -4.183521 ,  13.515992 ,\n",
       "                           18.069515 ,  18.20701  ,  16.47499  ,  16.62599  ,  14.651585 ,\n",
       "                           16.437302 ,  11.640232 ,  16.34087  ,  18.111788 ,  16.821766 ,\n",
       "                           17.895613 ,  13.685398 ,  11.566766 ,   8.981875 ,  14.800545 ,\n",
       "                            7.2178674,  13.092868 ,  16.75708  ,  16.05098  ,   4.728452 ,\n",
       "                           17.512926 ,   7.745542 ,  14.00971  ,  13.010234 ,  10.733166 ,\n",
       "                           14.545709 ,  17.664    ,  18.377176 ,  15.362919 ,  15.069062 ,\n",
       "                           15.355816 ,  15.502403 ,  16.579876 ,  12.48737  ,  15.466129 ,\n",
       "                           15.9934225,  16.70086  ,  14.843762 ,   8.435499 ,  16.278242 ,\n",
       "                           15.344312 ,  10.384596 ,  15.655475 ,  17.408726 ,  13.15593  ,\n",
       "                           13.47358  ,  15.377064 ,   9.387858 ,  14.454514 ,  16.76485  ,\n",
       "                           17.67924  ,  18.222227 ,  16.313826 ,  12.193013 ,  12.383949 ,\n",
       "                            9.5191   ,  16.139318 ,  17.07609  ,  10.181837 ,  14.733349 ,\n",
       "                           12.938105 ,  14.045998 ,  12.243182 ,  15.420147 ,   9.254712 ,\n",
       "                           17.45189  ,   6.67536  ,  13.818345 ,  15.782212 ,   6.053817 ,\n",
       "                           14.329785 ,   6.9357443,  14.952173 ,  14.717773 ,  13.911068 ,\n",
       "                           13.632015 ,  18.66757  ,  12.320977 ,   9.438479 ,  15.670926 ,\n",
       "                           12.73603  ,  12.270151 ,  14.659721 ,  16.784536 ,  11.904549 ,\n",
       "                           18.078691 ,  13.182188 ,   7.7425804,  16.742712 ,  12.916848 ,\n",
       "                           17.825256 ,  13.357295 ,  13.719825 ,  18.487295 ,  19.247286 ,\n",
       "                           12.232578 ,  14.0861   ,  13.45855  ]),\n",
       "              'y': array([ 2.0256813e-01, -7.2246930e+00, -2.4796562e+00, -2.7872593e+00,\n",
       "                          -9.0888950e+00, -9.1813320e+00, -4.8992014e+00, -3.1416578e+00,\n",
       "                           1.8300547e-01, -6.8794518e+00, -3.4192940e+00, -3.3098454e+00,\n",
       "                          -5.0480026e-01,  5.1676674e+00, -4.3756210e+00, -9.9338890e+00,\n",
       "                          -4.8722696e+00, -5.4352818e+00, -8.0688405e-01, -2.4625360e+00,\n",
       "                          -5.0163445e+00, -1.9107047e+00, -3.1351671e+00, -7.6786340e+00,\n",
       "                          -3.7785342e+00, -6.9183216e+00, -3.0072355e+00,  1.6971001e-01,\n",
       "                          -8.5601140e+00, -6.1620740e+00, -5.8510847e+00, -2.4235706e+00,\n",
       "                           7.6215150e+00, -5.5523624e+00, -5.2062140e+00,  6.6600323e+00,\n",
       "                          -5.0713754e-01,  5.2720240e-01, -9.5295010e+00, -9.6141170e+00,\n",
       "                          -1.5641559e+00,  1.5735375e+00, -1.3097172e+00, -1.2230301e+01,\n",
       "                          -4.7984080e+00,  5.0454354e-01,  1.6621050e+00, -1.2422415e+00,\n",
       "                           2.0086975e+00, -5.0168550e+00, -7.4747210e+00,  3.2169187e+00,\n",
       "                          -1.1355136e-02, -6.5068555e+00,  2.1570992e+00, -2.7489327e-03,\n",
       "                           5.3484397e+00,  3.6210617e-01, -7.8873343e+00, -3.6267736e+00,\n",
       "                          -9.6414385e+00, -5.1311846e+00,  8.7760496e-01, -8.0535340e+00,\n",
       "                           1.0379444e+00, -1.8446206e+00, -8.4464200e+00, -3.0617034e+00,\n",
       "                          -1.4783282e+00, -5.7178940e+00, -5.3236017e+00, -5.0070724e+00,\n",
       "                          -2.6043513e+00, -8.1756460e+00, -7.7845840e+00,  1.0191034e+00,\n",
       "                          -6.4326143e+00, -9.1630670e+00,  4.4436530e+00, -2.4235573e+00,\n",
       "                          -6.2085414e+00, -6.1903780e+00, -4.9705920e+00,  1.0611762e+00,\n",
       "                          -3.8566020e+00, -5.0248800e+00, -9.2347145e+00,  1.3286538e+00,\n",
       "                          -3.2868457e+00, -4.5062410e+00, -9.4115650e+00, -6.5802870e+00,\n",
       "                          -5.8295426e+00, -9.2961980e+00, -7.1621184e+00, -1.4105349e+00,\n",
       "                          -6.9592890e+00, -6.3827395e+00, -2.9982264e+00, -5.4885200e+00,\n",
       "                          -2.1123753e+00, -2.3149867e+00, -5.4267187e+00, -8.0797640e+00,\n",
       "                           3.6660740e-01, -6.6431030e+00, -7.2364530e+00,  4.2244935e+00,\n",
       "                           5.3407707e+00, -8.4965690e+00, -1.5653430e+00, -9.5386915e+00,\n",
       "                           1.2898397e-01,  4.4816847e+00, -8.7503380e+00, -6.2272325e+00,\n",
       "                          -8.3392010e+00, -1.5709186e+00, -9.7831700e+00, -6.3631110e+00,\n",
       "                           1.0293753e+01, -3.8355370e+00, -6.1466084e+00, -1.0444024e+01,\n",
       "                          -5.5383663e+00, -7.2060450e+00,  4.3196917e+00, -8.5068610e+00,\n",
       "                          -7.3194950e+00, -3.8001227e+00, -7.0118446e+00,  2.0625980e+00,\n",
       "                          -1.0294762e+01, -5.3726006e+00, -7.5163627e+00, -3.8179677e+00,\n",
       "                           4.1529190e+00, -8.0421070e+00, -5.3495920e+00, -1.4136989e+00,\n",
       "                          -3.9034960e+00, -6.1891010e+00, -8.6136720e+00]),\n",
       "              'z': array([ 1.34629870e+00,  1.63469340e+00, -7.24251600e-01,  1.25884060e+00,\n",
       "                           1.61394870e+00,  3.20605870e+00,  3.53296110e+00, -5.61698440e+00,\n",
       "                          -6.08209000e-01,  3.04663280e+00, -2.20145250e+00, -3.68967100e+00,\n",
       "                          -4.24855600e+00, -4.99820470e+00,  1.46536890e+00, -2.53650520e-01,\n",
       "                          -1.34535830e+00,  2.60390420e+00,  1.52085640e+00, -4.69801000e+00,\n",
       "                          -2.02725320e+00, -3.26307270e+00,  5.71891740e+00, -2.63930200e+00,\n",
       "                           6.74073360e+00, -2.72210360e-01, -3.10509870e+00,  7.89001600e+00,\n",
       "                           5.56344400e-01,  3.21247700e+00,  6.94467500e-01, -4.69405900e+00,\n",
       "                          -5.97690770e+00, -3.26359630e+00, -1.95847820e+00, -4.99976970e+00,\n",
       "                           4.00179340e+00, -3.27799030e+00,  2.05055700e+00,  7.76147600e+00,\n",
       "                           7.38454960e+00, -3.90654060e+00, -4.16068600e-01,  5.55983450e+00,\n",
       "                           5.18852230e+00, -5.01986900e+00, -3.04002300e+00, -3.35162470e+00,\n",
       "                          -2.03505660e+00,  2.85297420e+00, -2.67158530e+00, -4.25115970e+00,\n",
       "                           3.10697080e-01, -1.96469320e+00,  6.90373000e+00, -8.03657300e-01,\n",
       "                          -4.31592000e+00, -9.62624670e-01, -1.08074860e+00,  1.41994270e-02,\n",
       "                           9.71458600e-01,  3.33987140e+00, -1.53434910e+00,  2.33721140e-01,\n",
       "                          -7.75171040e+00, -7.31412100e+00,  2.26586220e+00, -1.97488050e+00,\n",
       "                          -8.63290400e-01,  7.27044500e+00, -4.55595440e-02, -2.82352000e-01,\n",
       "                           7.78974400e-01, -1.01492730e+00,  1.63135100e+00,  3.27787880e+00,\n",
       "                           9.13954400e-01, -1.58479440e+00, -3.62222900e+00, -6.11534900e+00,\n",
       "                           2.19703360e+00, -2.35769450e-01, -1.95527670e+00, -3.04213000e+00,\n",
       "                          -6.70135000e-01,  1.33200130e+00, -2.05162720e+00,  1.76134530e+00,\n",
       "                          -2.53969450e+00, -5.53094150e-01, -7.96525200e-03, -1.68974180e+00,\n",
       "                           8.92343500e+00, -1.75354540e+00,  8.78937360e-01, -6.21445300e+00,\n",
       "                          -1.33811350e-01,  3.98286000e+00, -1.13141290e+00,  1.65126120e+00,\n",
       "                          -4.13919730e+00, -2.22533820e+00,  1.14904020e+00,  1.52127080e+00,\n",
       "                           8.77815300e-01,  3.34602200e+00,  7.67290700e-01,  7.59767200e+00,\n",
       "                           2.56610320e+00,  3.12259940e+00, -4.77715200e+00,  3.59817220e+00,\n",
       "                           2.66618250e+00, -4.05585430e+00,  2.65749810e+00,  1.83310510e+00,\n",
       "                           7.94834900e-01, -2.01423430e+00,  1.62044420e+00, -1.18272270e+00,\n",
       "                          -6.21965600e+00,  2.14806300e+00, -4.15186640e-01, -5.74526600e-01,\n",
       "                          -6.61828040e-01, -2.49610640e+00,  8.89459800e+00,  3.71040520e-01,\n",
       "                          -1.06496500e+00,  8.23835250e-01,  1.55015610e+00,  5.98234370e+00,\n",
       "                           2.14324200e+00, -1.87325990e+00, -1.08964026e-01, -4.66797300e+00,\n",
       "                          -4.02674340e+00, -1.06782760e+00,  1.10520050e+00, -4.84935950e+00,\n",
       "                           4.48900500e+00,  4.43184600e+00,  1.59104990e+00])},\n",
       "             {'customdata': array([['./dk_data/hihat_closed/Roland Tr-606-TR606Hat_C_OD.wav'],\n",
       "                                   ['./dk_data/hihat_closed/Roland Tr-606-TR606Hat_C05.wav'],\n",
       "                                   ['./dk_data/hihat_closed/Casio PT-68-MaxV - HH Cl.wav'],\n",
       "                                   ['./dk_data/hihat_closed/Boss DR-550-MaxV - CHH1.wav'],\n",
       "                                   ['./dk_data/hihat_closed/Akai Mpc60-MaxV - HiHat Closed.wav'],\n",
       "                                   ['./dk_data/hihat_closed/Acetone Rhythm King-MaxV - HH Cl.wav'],\n",
       "                                   ['./dk_data/hihat_closed/Roland MC09-MC09 HatC_03.wav'],\n",
       "                                   ['./dk_data/hihat_closed/Boss DR-550-DR550Hat03_C.wav'],\n",
       "                                   ['./dk_data/hihat_closed/Roland MC09-MC09 HatC_01.wav'],\n",
       "                                   ['./dk_data/hihat_closed/Sequential Tom-TOMHat_C.wav'],\n",
       "                                   ['./dk_data/hihat_closed/Roland Tr-626-MaxV - Roland - 626_chh 03.wav'],\n",
       "                                   ['./dk_data/hihat_closed/MXR Computer Rhythm 185-MaxV - MXR Hat_closed.wav'],\n",
       "                                   ['./dk_data/hihat_closed/Yamaha RY-10-MaxV - HHC6VRB.wav'],\n",
       "                                   ['./dk_data/hihat_closed/Alesis Hr16b-MaxV - HHC 1.wav'],\n",
       "                                   ['./dk_data/hihat_closed/Kawai r-50-MaxV - HHCL_R50.wav'],\n",
       "                                   ['./dk_data/hihat_closed/Electro Harmonix Drm32-MaxV - HH Cl.wav'],\n",
       "                                   ['./dk_data/hihat_closed/Roland D-70-MaxV - CL-HIHAT.wav'],\n",
       "                                   ['./dk_data/hihat_closed/Roland D-10 L.A-la-clhh.wav'],\n",
       "                                   ['./dk_data/hihat_closed/mercure_drums-p-hhc2.wav'],\n",
       "                                   ['./dk_data/hihat_closed/Boss DR-202-202hat07.wav'],\n",
       "                                   ['./dk_data/hihat_closed/Roland MC09-MC09 HatC_07.wav'],\n",
       "                                   ['./dk_data/hihat_closed/Alesis D4fx-MaxV - HiHat Closed 2.wav'],\n",
       "                                   ['./dk_data/hihat_closed/Kawai r-50-MaxV - HHCLENHA.wav'],\n",
       "                                   ['./dk_data/hihat_closed/Emu Drumulator-DrumulatorHat_C.wav'],\n",
       "                                   ['./dk_data/hihat_closed/KORG DDD-1-MaxV - DDD1 clhh1.wav'],\n",
       "                                   ['./dk_data/hihat_closed/Boss DR-202-202hat05.wav'],\n",
       "                                   ['./dk_data/hihat_closed/Roland CR-8000-CR8000Hat_C.wav'],\n",
       "                                   ['./dk_data/hihat_closed/Casio PT-30-MaxV - HH Cl.wav'],\n",
       "                                   ['./dk_data/hihat_closed/Boss DR-202-202hat09.wav'],\n",
       "                                   ['./dk_data/hihat_closed/Fairlight IIx-MaxV - HHPedal.wav'],\n",
       "                                   ['./dk_data/hihat_closed/Yamaha PSR-MaxV - psr-hatcl.wav'],\n",
       "                                   ['./dk_data/hihat_closed/Roland Tr-909-MaxV - Roland909 - 909HHB 05.wav'],\n",
       "                                   ['./dk_data/hihat_closed/Sequential DrumTraks Tom-MaxV - HiHat Closed.wav'],\n",
       "                                   ['./dk_data/hihat_closed/Roland MC09-MC09 HatC_08.wav'],\n",
       "                                   ['./dk_data/hihat_closed/Yamaha RY-10-MaxV - HHC9VRB.wav']],\n",
       "                                  dtype=object),\n",
       "              'hovertemplate': ('drum_type=hihat_closed<br>D1=%' ... '{customdata[0]}<extra></extra>'),\n",
       "              'legendgroup': 'hihat_closed',\n",
       "              'marker': {'color': '#FB0D0D',\n",
       "                         'line': {'color': 'DarkSlateGrey', 'width': 0},\n",
       "                         'size': 8,\n",
       "                         'symbol': 'circle'},\n",
       "              'mode': 'markers',\n",
       "              'name': 'hihat_closed',\n",
       "              'scene': 'scene',\n",
       "              'showlegend': True,\n",
       "              'type': 'scatter3d',\n",
       "              'x': array([ 4.8330226,  4.6893473,  6.9205837,  7.148657 ,  8.483983 ,  7.748259 ,\n",
       "                           8.789478 ,  6.7642465,  9.051354 ,  8.3926325,  9.351926 , 10.550721 ,\n",
       "                           6.5549893,  9.294502 , 10.086816 ,  7.4195566,  6.885193 , 10.879369 ,\n",
       "                          12.875843 ,  7.4673233,  9.388358 , 12.504021 ,  6.7171893,  8.58502  ,\n",
       "                           6.6796675,  7.585249 ,  7.9749846, 11.463915 , 15.783883 ,  9.513995 ,\n",
       "                           9.445212 ,  8.63847  ,  7.582912 ,  9.338938 ,  8.061283 ]),\n",
       "              'y': array([ 0.88033444,  1.0280231 ,  1.2985096 , -1.9166679 , -0.23430884,\n",
       "                           2.1729333 ,  0.05799376, -2.8224099 , -1.4319725 ,  3.426507  ,\n",
       "                           1.0147891 ,  2.136339  , -0.20752026, -2.1739893 ,  2.2824783 ,\n",
       "                          -4.613369  , -2.308286  ,  0.6647074 ,  0.5335584 ,  3.0681572 ,\n",
       "                          -0.70819014,  2.7955232 ,  4.4566545 ,  3.2419066 ,  3.053138  ,\n",
       "                          -0.8261205 , -2.19369   ,  5.74753   ,  0.38237387, -9.256515  ,\n",
       "                           2.6779265 ,  4.9151115 ,  3.366023  , -0.9949222 , -2.6792166 ]),\n",
       "              'z': array([-5.065625  , -5.916207  , -8.072649  , -1.4890875 , -8.9688635 ,\n",
       "                          -0.4231613 , -5.731348  , -5.02138   , -5.514488  , -4.0269346 ,\n",
       "                          -7.799073  , -5.8888483 , -6.9225082 , -2.7945278 , -4.679968  ,\n",
       "                          -1.0097284 , -6.0023737 , -1.2607201 , -2.1388116 , -7.998615  ,\n",
       "                          -4.717916  , -3.0051873 , -7.9123416 , -6.723942  , -9.1340065 ,\n",
       "                          -8.968718  , -4.473813  , -6.9450307 , -3.0483968 , -0.73404986,\n",
       "                          -8.55685   , -6.900175  , -4.365014  , -3.5085661 , -5.534711  ])},\n",
       "             {'customdata': array([['./dk_data/rim/Akai Mpc60-MaxV - Rimshot 3.wav'],\n",
       "                                   ['./dk_data/rim/Kawai R50e-R50eRimshot.wav'],\n",
       "                                   ['./dk_data/rim/Oberheim Dmx-DMXRim.wav'],\n",
       "                                   ['./dk_data/rim/Linn Linn-9000-MaxV - Rimshot.wav'],\n",
       "                                   ['./dk_data/rim/Gulbransen-MaxV - Rim.wav'],\n",
       "                                   ['./dk_data/rim/Jomox Xbase-09-Rim01.wav'],\n",
       "                                   ['./dk_data/rim/Akai Mpc60-MaxV - Rimshot 1.wav'],\n",
       "                                   ['./dk_data/rim/Korg DDM110-MaxV - 110_rim.wav'],\n",
       "                                   ['./dk_data/rim/Roland JD-990-MaxV - MARIMWAV.wav'],\n",
       "                                   ['./dk_data/rim/KORG DDD-1-MaxV - DDD1 rimshot.wav'],\n",
       "                                   ['./dk_data/rim/Roland R-5-R-5 Rimshot Snare 1.wav'],\n",
       "                                   ['./dk_data/rim/Yamaha RX11-RX11Rimshot.wav'],\n",
       "                                   ['./dk_data/rim/Akai XR10-XR10Rimshot02.wav'],\n",
       "                                   ['./dk_data/rim/Alesis DM5-DM5Rim05.wav'],\n",
       "                                   ['./dk_data/rim/Roland Tr-808-TR-808Rim01.wav'],\n",
       "                                   ['./dk_data/rim/Roland TR-505-TR-505Rim.wav'],\n",
       "                                   ['./dk_data/rim/Roland D-10 L.A-la-rim.wav'],\n",
       "                                   ['./dk_data/rim/Emu Drumulator-MaxV - EMU_RIM.wav'],\n",
       "                                   ['./dk_data/rim/Jomox Xbase-09-Rim02.wav']], dtype=object),\n",
       "              'hovertemplate': ('drum_type=rim<br>D1=%{x}<br>D2' ... '{customdata[0]}<extra></extra>'),\n",
       "              'legendgroup': 'rim',\n",
       "              'marker': {'color': '#DA16FF',\n",
       "                         'line': {'color': 'DarkSlateGrey', 'width': 0},\n",
       "                         'size': 8,\n",
       "                         'symbol': 'circle'},\n",
       "              'mode': 'markers',\n",
       "              'name': 'rim',\n",
       "              'scene': 'scene',\n",
       "              'showlegend': True,\n",
       "              'type': 'scatter3d',\n",
       "              'x': array([15.130954, 17.945574, 17.526854, 15.508397, 13.193465,  8.659432,\n",
       "                          14.362026,  8.682092, 17.556211, 14.036674, 14.371671, 17.303686,\n",
       "                          13.597636, 14.093613, 14.200465, 16.36746 , 14.286976, 15.31015 ,\n",
       "                          11.577144]),\n",
       "              'y': array([  7.411122 ,   0.9072003,   5.587547 ,   5.4541945,   4.3703637,\n",
       "                          -10.235647 ,   6.732616 ,  -9.800724 ,   5.587251 ,   7.420619 ,\n",
       "                           -5.969388 ,   5.6144757,  -3.6713603,   6.110032 ,   2.076503 ,\n",
       "                            3.9223282,   5.424035 ,  -0.7240887,  -9.092195 ]),\n",
       "              'z': array([-2.4602354, -6.066294 , -4.0880184, -5.268167 , -0.6845569,  3.6749375,\n",
       "                          -5.5489984, -1.3395774,  1.6137915, -1.4061345, -3.2082505, -5.0136757,\n",
       "                          -3.896223 , -0.1734202, -5.7712526, -4.0945983, -1.8481464, -6.058131 ,\n",
       "                          -2.9080067])},\n",
       "             {'customdata': array([['./dk_data/clap/Linn Linn-9000-MaxV - Clap 1.wav'],\n",
       "                                   ['./dk_data/clap/Linn Linn-9000-MaxV - Clap 2.wav'],\n",
       "                                   ['./dk_data/clap/Kawai r-50-MaxV - CLAP2R50.wav'],\n",
       "                                   ['./dk_data/clap/Roland Tr-626-MaxV - Roland - 626_clap 04.wav'],\n",
       "                                   ['./dk_data/clap/Kawai R-50e-MaxV - R50e Clap.wav'],\n",
       "                                   ['./dk_data/clap/Alesis Hr16b-HR16B 036 Gated Claps.wav'],\n",
       "                                   ['./dk_data/clap/Alesis D4fx-MaxV - Clap.wav'],\n",
       "                                   ['./dk_data/clap/Simmons Clap-MaxV - SM Clap14.wav'],\n",
       "                                   ['./dk_data/clap/Simmons Clap-MaxV - SM Clap12.wav'],\n",
       "                                   ['./dk_data/clap/Simmons Clap-MaxV - SM Clap7.wav'],\n",
       "                                   ['./dk_data/clap/EMU E-drum-MaxV - Clap.wav'],\n",
       "                                   ['./dk_data/clap/AKAI XE-8-MaxV - XE8 Clap int_15.wav'],\n",
       "                                   ['./dk_data/clap/Roland Tr-808-TR-808Clap01.wav'],\n",
       "                                   ['./dk_data/clap/Korg DDM110-MaxV - 110_clap.wav'],\n",
       "                                   ['./dk_data/clap/Simmons Clap-MaxV - SM Clap20.wav'],\n",
       "                                   ['./dk_data/clap/MultiMoog-MaxV - JeeesuosClaps.wav'],\n",
       "                                   ['./dk_data/clap/Simmons Clap-MaxV - SM Clap19.wav'],\n",
       "                                   ['./dk_data/clap/Boss DR-110-DR-110Clap.wav'],\n",
       "                                   ['./dk_data/clap/Yamaha RY30-RY30Clap.wav'],\n",
       "                                   ['./dk_data/clap/Simmons Clap-MaxV - SM Clap23.wav'],\n",
       "                                   ['./dk_data/clap/Roland Tr-808-TR-808Clap02.wav'],\n",
       "                                   ['./dk_data/clap/Simmons Clap-MaxV - SM Clap2.wav'],\n",
       "                                   ['./dk_data/clap/Roland D-70-MaxV - CLAP.wav'],\n",
       "                                   ['./dk_data/clap/Simmons Clap-MaxV - SM Clap11.wav'],\n",
       "                                   ['./dk_data/clap/Linn Linndrum-LinnClap.wav'],\n",
       "                                   ['./dk_data/clap/Roland MC303-MaxV - Rapclap1.wav'],\n",
       "                                   ['./dk_data/clap/Alesis Sr16-SR16Clap.wav'],\n",
       "                                   ['./dk_data/clap/Jomox Xbase-09-LFOClap.wav']], dtype=object),\n",
       "              'hovertemplate': ('drum_type=clap<br>D1=%{x}<br>D' ... '{customdata[0]}<extra></extra>'),\n",
       "              'legendgroup': 'clap',\n",
       "              'marker': {'color': '#222A2A',\n",
       "                         'line': {'color': 'DarkSlateGrey', 'width': 0},\n",
       "                         'size': 8,\n",
       "                         'symbol': 'circle'},\n",
       "              'mode': 'markers',\n",
       "              'name': 'clap',\n",
       "              'scene': 'scene',\n",
       "              'showlegend': True,\n",
       "              'type': 'scatter3d',\n",
       "              'x': array([14.731241, 12.136146, 14.394673, 13.301003, 13.37839 , 13.21308 ,\n",
       "                          13.065871, 14.029529,  9.821415, 18.683762, 10.233093, 11.749441,\n",
       "                          11.617813, 15.859232, 10.189081, 18.330662,  8.950463, 12.952873,\n",
       "                          10.24756 , 13.337769, 10.875525, 11.684226, 12.383968, 11.249944,\n",
       "                          15.635564, 12.00955 , 14.395798, 13.419209]),\n",
       "              'y': array([ 8.584433 ,  6.05122  ,  6.1298833,  8.687144 ,  7.2459764,  5.368523 ,\n",
       "                           6.4492083,  7.912706 ,  8.274845 ,  1.8932585,  7.7590795,  9.835954 ,\n",
       "                           7.8063507,  6.3261294,  7.0751095, -1.2689599,  8.473682 ,  8.520163 ,\n",
       "                           9.829758 ,  9.60733  ,  6.36828  ,  9.91155  ,  7.824351 ,  8.626168 ,\n",
       "                           7.582097 ,  5.8775783,  7.404337 ,  2.6443224]),\n",
       "              'z': array([-4.92825  , -4.20057  , -3.7437074, -2.76363  , -4.402691 , -2.6430907,\n",
       "                          -2.9457006, -6.3828063, -6.026833 , -4.1623893, -3.3277993, -5.403126 ,\n",
       "                          -4.630481 , -4.0940714, -5.4802566, -3.4794476, -6.192608 , -4.051689 ,\n",
       "                          -5.003471 , -5.0497384, -3.3573635, -7.0236588, -2.5810735, -3.8024178,\n",
       "                          -4.7488165, -2.4494402, -3.653873 , -4.4667645])},\n",
       "             {'customdata': array([['./dk_data/kick/Kawai r-50-MaxV - BD2__R50.wav'],\n",
       "                                   ['./dk_data/kick/Jomox Xbase-09-BassDr06.wav'],\n",
       "                                   ['./dk_data/kick/Roland Tr-808-TR-808Kick07.wav'],\n",
       "                                   ['./dk_data/kick/Yamaha RY30-RY30Kick05.wav'],\n",
       "                                   ['./dk_data/kick/mercure_drums-gd-kick1.wav'],\n",
       "                                   ['./dk_data/kick/Alesis DM5-DM5Kick21.wav'],\n",
       "                                   ['./dk_data/kick/Roland Tr-909-TR-909Kick 07.wav'],\n",
       "                                   ['./dk_data/kick/Roland D-10 L.A-la-bd1.wav'],\n",
       "                                   ['./dk_data/kick/Alesis Hr16b-HR16B 006 Deep Wood Kick.wav'],\n",
       "                                   ['./dk_data/kick/Roland R-8-R8Kick05.wav'],\n",
       "                                   ['./dk_data/kick/Boss DR-660-DR-660Kick21.wav'],\n",
       "                                   ['./dk_data/kick/Boss DR-660-DR-660Kick05.wav'],\n",
       "                                   ['./dk_data/kick/Roland Tr-909-MaxV - Roland909 - 909BDA 01.wav'],\n",
       "                                   ['./dk_data/kick/Roland R-8-R8Kick27.wav'],\n",
       "                                   ['./dk_data/kick/Alesis DM5-DM5Kick48.wav'],\n",
       "                                   ['./dk_data/kick/Alesis DM5-DM5Kick78.wav'],\n",
       "                                   ['./dk_data/kick/Akai XR10-XR10Kick04.wav'],\n",
       "                                   ['./dk_data/kick/Fricke MFB 512-MaxV - Kick.wav'],\n",
       "                                   ['./dk_data/kick/Roland Tr-707-TR-707Kick01.wav'],\n",
       "                                   ['./dk_data/kick/Roland TR-909 BD Selection-KK-Di909BD 26.wav'],\n",
       "                                   ['./dk_data/kick/Electro Harmonix Drm15-MaxV - Kick.wav'],\n",
       "                                   ['./dk_data/kick/Roland Tr-808-MaxV - Roland808 - BD0050 16.wav'],\n",
       "                                   ['./dk_data/kick/Boss DR-660-DR-660Kick41.wav'],\n",
       "                                   ['./dk_data/kick/Yamaha RX-11-MaxV - RX11 BD1.wav'],\n",
       "                                   ['./dk_data/kick/Alesis Hr16-HR16Kick02.wav'],\n",
       "                                   ['./dk_data/kick/AKAI XE-8-MaxV - XE8 Kick 2 int_2.wav'],\n",
       "                                   ['./dk_data/kick/Linn Linndrum-LinnKick02.wav'],\n",
       "                                   ['./dk_data/kick/Acetone Rhythm Ace-MaxV - KICK2.wav'],\n",
       "                                   ['./dk_data/kick/Roland R-8-R8Kick03.wav'],\n",
       "                                   ['./dk_data/kick/Roland MC303-MaxV - Drybd1.wav'],\n",
       "                                   ['./dk_data/kick/Roland TR-909 BD Selection-KK-Di909BD 49.wav'],\n",
       "                                   ['./dk_data/kick/Roland Tr-909-TR-909Kick 10.wav'],\n",
       "                                   ['./dk_data/kick/Kawai r-50-MaxV - ATMBDR50.wav'],\n",
       "                                   ['./dk_data/kick/Boss DR-660-DR-660Kick39.wav'],\n",
       "                                   ['./dk_data/kick/Yamaha RX11-RX11Kick.wav'],\n",
       "                                   ['./dk_data/kick/Boss DR-660-DR-660Kick07.wav'],\n",
       "                                   ['./dk_data/kick/Roland Tr-808-MaxV - Roland808 - BD7525 35.wav'],\n",
       "                                   ['./dk_data/kick/Fairlight IIx-MaxV - Bdrum.wav'],\n",
       "                                   ['./dk_data/kick/Roland TR-909 BD Selection-KK-Di909BD 40.wav'],\n",
       "                                   ['./dk_data/kick/Boss DR-660-DR-660Kick20.wav'],\n",
       "                                   ['./dk_data/kick/Alesis DM5-DM5Kick09.wav'],\n",
       "                                   ['./dk_data/kick/Alesis DM5-DM5Kick69.wav'],\n",
       "                                   ['./dk_data/kick/Roland TR-909 BD Selection-KK-Di909BD 08.wav'],\n",
       "                                   ['./dk_data/kick/Roland Tr-808-TR-808Kick03.wav'],\n",
       "                                   ['./dk_data/kick/Yamaha RX-5-MaxV - RX5PBD3.wav'],\n",
       "                                   ['./dk_data/kick/Roland TR-909 BD Selection-KK-Di909BD 62.wav'],\n",
       "                                   ['./dk_data/kick/Roland TR-909 BD Selection-KK-Di909BD 53.wav'],\n",
       "                                   ['./dk_data/kick/Oberheim Dmx-DMXKick02.wav'],\n",
       "                                   ['./dk_data/kick/Roland TR-909 BD Selection-KK-Di909BD 04.wav'],\n",
       "                                   ['./dk_data/kick/Roland Tr-606-TR606Kick01.wav'],\n",
       "                                   ['./dk_data/kick/Boss DR-660-DR-660Kick15.wav'],\n",
       "                                   ['./dk_data/kick/Univox Micro-Rhythmer 12-MaxV - UNIVOXBD.wav'],\n",
       "                                   ['./dk_data/kick/Roland S-50-MaxV - ebd.wav'],\n",
       "                                   ['./dk_data/kick/Akai XR10-XR10Kick02.wav'],\n",
       "                                   ['./dk_data/kick/Boss DR-660-DR-660Kick26.wav'],\n",
       "                                   ['./dk_data/kick/Yamaha RX-5-MaxV - RX5IBD1.wav'],\n",
       "                                   ['./dk_data/kick/Yamaha RX-5-MaxV - RX5PBD2.wav'],\n",
       "                                   ['./dk_data/kick/Alesis Hr16-HR16Kick06.wav'],\n",
       "                                   ['./dk_data/kick/Roland TR-909 BD Selection-KK-Di909BD 51.wav'],\n",
       "                                   ['./dk_data/kick/Roland TR-909 BD Selection-KK-Di909BD 25.wav'],\n",
       "                                   ['./dk_data/kick/Alesis DM5-DM5Kick16.wav'],\n",
       "                                   ['./dk_data/kick/Alesis DM5-DM5Kick62.wav'],\n",
       "                                   ['./dk_data/kick/Roland R-5-R-5 Electronic Kick.wav'],\n",
       "                                   ['./dk_data/kick/Alesis DM5-DM5Kick38.wav'],\n",
       "                                   ['./dk_data/kick/Alesis DM5-DM5Kick30.wav'],\n",
       "                                   ['./dk_data/kick/Linn Linndrum-LinnKick01.wav'],\n",
       "                                   ['./dk_data/kick/Roland D-10 L.A-la-wetbd.wav'],\n",
       "                                   ['./dk_data/kick/Korg DDM110-Ddm110Kick.wav'],\n",
       "                                   ['./dk_data/kick/Linn Linn-9000-MaxV - Kick 1.wav'],\n",
       "                                   ['./dk_data/kick/Roland R-8-R8Kick22.wav'],\n",
       "                                   ['./dk_data/kick/Kawai R50e-R50eKick03.wav'],\n",
       "                                   ['./dk_data/kick/Alesis DM5-DM5Kick77.wav'],\n",
       "                                   ['./dk_data/kick/Roland JV 1080-MaxV - BD2.wav'],\n",
       "                                   ['./dk_data/kick/Kawai XD5-XD5Kick04.wav'],\n",
       "                                   ['./dk_data/kick/Roland TR-909 BD Selection-KK-Di909BD 35.wav'],\n",
       "                                   ['./dk_data/kick/Kawai XD5-XD5Kick01.wav'],\n",
       "                                   ['./dk_data/kick/Akai XR-1-MaxV - Kick 09.wav'],\n",
       "                                   ['./dk_data/kick/Yamaha RX-5-MaxV - RX5PBD1.wav'],\n",
       "                                   ['./dk_data/kick/Boss DR-660-DR-660Kick49.wav'],\n",
       "                                   ['./dk_data/kick/Fairlight IIx-MaxV - Bbdrum1.wav'],\n",
       "                                   ['./dk_data/kick/MXR Computer Rhythm 185-MaxV - MXR Kick.wav'],\n",
       "                                   ['./dk_data/kick/Kawai r-50-MaxV - ACCBDENH.wav'],\n",
       "                                   ['./dk_data/kick/KorgMP7-Kickdrum.wav'],\n",
       "                                   ['./dk_data/kick/Alesis DM5-DM5Kick84.wav'],\n",
       "                                   ['./dk_data/kick/Alesis DM5-DM5Kick82.wav'],\n",
       "                                   ['./dk_data/kick/Linn Drum LM2-Linn kick hard.wav'],\n",
       "                                   ['./dk_data/kick/XE8-XE8 Kick 2 int_2.wav'],\n",
       "                                   ['./dk_data/kick/Acetone Rhythm Ace-MaxV - KICK4.wav'],\n",
       "                                   ['./dk_data/kick/Alesis Sr16-SR16Kick01.wav'],\n",
       "                                   ['./dk_data/kick/Fricke MFB 502-MaxV - Kick.wav'],\n",
       "                                   ['./dk_data/kick/Roland Tr-808-MaxV - Roland808 - BD7500 33.wav'],\n",
       "                                   ['./dk_data/kick/Roland Tr-606-TR606Kick_OD.wav'],\n",
       "                                   ['./dk_data/kick/Roland TR-55-MaxV - Kick.wav'],\n",
       "                                   ['./dk_data/kick/Roland MC09-MC09 Kick04.wav'],\n",
       "                                   ['./dk_data/kick/mercure_drums-tt-kick1.wav'],\n",
       "                                   ['./dk_data/kick/Roland JV 1080-MaxV - BD1.wav'],\n",
       "                                   ['./dk_data/kick/Alesis DM5-DM5Kick42.wav'],\n",
       "                                   ['./dk_data/kick/Roland TR-909 BD Selection-KK-Di909BD 59.wav'],\n",
       "                                   ['./dk_data/kick/Roland R-8-R8Kick26.wav'],\n",
       "                                   ['./dk_data/kick/Roland Tr-808-TR-808Kick15.wav'],\n",
       "                                   ['./dk_data/kick/Alesis DM5-DM5Kick32.wav'],\n",
       "                                   ['./dk_data/kick/Roland Tr-808-TR-808Kick02.wav'],\n",
       "                                   ['./dk_data/kick/Roland Tr-808-MaxV - Roland808 - BD2575 27.wav'],\n",
       "                                   ['./dk_data/kick/Alesis DM5-DM5Kick31.wav'],\n",
       "                                   ['./dk_data/kick/AKAI XE-8-MaxV - XE8 Kick 1 int_1.wav'],\n",
       "                                   ['./dk_data/kick/Roland TR-909 BD Selection-KK-Di909BD 11.wav'],\n",
       "                                   ['./dk_data/kick/EMU E-drum-MaxV - Kick4.wav'],\n",
       "                                   ['./dk_data/kick/Boss DR-660-DR-660Kick14.wav'],\n",
       "                                   ['./dk_data/kick/Yamaha RX21-RX21Kick.wav'],\n",
       "                                   ['./dk_data/kick/Deepsky-909kick.wav'],\n",
       "                                   ['./dk_data/kick/Fairlight IIx-MaxV - Symkick.wav'],\n",
       "                                   ['./dk_data/kick/Roland Tr-808-MaxV - Roland808 - BD2500 23.wav'],\n",
       "                                   ['./dk_data/kick/Linn Linn-9000-MaxV - Kick 2.wav'],\n",
       "                                   ['./dk_data/kick/Boss DR-55-DR-55Kick.wav'],\n",
       "                                   ['./dk_data/kick/Alesis Hr16b-HR16B 005 Techno Kick.wav'],\n",
       "                                   ['./dk_data/kick/Roland PB-300 Rhythm Plus-MaxV - Kick.wav']],\n",
       "                                  dtype=object),\n",
       "              'hovertemplate': ('drum_type=kick<br>D1=%{x}<br>D' ... '{customdata[0]}<extra></extra>'),\n",
       "              'legendgroup': 'kick',\n",
       "              'marker': {'color': '#B68100',\n",
       "                         'line': {'color': 'DarkSlateGrey', 'width': 0},\n",
       "                         'size': 8,\n",
       "                         'symbol': 'circle'},\n",
       "              'mode': 'markers',\n",
       "              'name': 'kick',\n",
       "              'scene': 'scene',\n",
       "              'showlegend': True,\n",
       "              'type': 'scatter3d',\n",
       "              'x': array([12.106888 , 11.8967705, 14.077173 , 10.342562 , 11.071248 ,  9.369712 ,\n",
       "                          12.084481 ,  7.6072993, 12.826772 , 12.772668 , 10.678185 ,  7.855329 ,\n",
       "                          15.73966  , 10.661619 ,  9.490621 ,  8.720893 , 11.875099 ,  6.5835223,\n",
       "                          12.0235615, 13.613719 ,  6.7150803, 10.861268 , 11.123123 ,  7.659104 ,\n",
       "                          14.067284 ,  7.831249 , 12.161021 ,  8.774266 , 13.34915  ,  8.138517 ,\n",
       "                          14.752528 , 12.297932 , 10.936379 , 10.573413 ,  9.240002 , 13.410615 ,\n",
       "                           9.690796 , 10.259445 , 13.609389 , 12.917071 ,  8.917871 ,  8.525674 ,\n",
       "                          12.926009 ,  9.942451 , 13.498697 , 14.2711525, 13.440924 , 11.567724 ,\n",
       "                          12.482385 ,  7.9568324,  8.488726 , 14.813665 ,  8.909598 , 12.038293 ,\n",
       "                          14.104774 , 10.568361 ,  9.507636 ,  9.9012165, 14.53514  , 14.115109 ,\n",
       "                           6.858385 , 18.118462 , 10.714582 , 10.222584 , 10.963926 ,  7.394402 ,\n",
       "                          10.047142 , 11.385759 ,  6.2631016, 13.4376955,  9.098019 ,  7.772725 ,\n",
       "                           7.995726 , 13.873766 , 12.987076 ,  7.515994 , 13.147671 ,  8.2488165,\n",
       "                          11.386446 , 11.657737 ,  8.67866  ,  9.007935 ,  7.1615925,  9.338459 ,\n",
       "                          12.870131 ,  6.172645 ,  9.030989 , 12.600543 , 11.05057  ,  9.115112 ,\n",
       "                           9.64714  , 10.094704 ,  6.6726127,  7.9009514, 13.374727 ,  8.78553  ,\n",
       "                           9.315068 , 14.08945  , 12.042403 , 14.379069 ,  9.7716255, 10.678938 ,\n",
       "                          13.436069 , 11.487289 , 10.160428 , 12.788987 , 11.850708 ,  8.581264 ,\n",
       "                           8.618053 ,  8.563073 , 12.281272 ,  7.814699 ,  6.7714286, 10.338301 ,\n",
       "                          12.4507475,  9.194346 ]),\n",
       "              'y': array([ -8.426604  ,  -3.1009598 ,   2.192129  ,  -7.515518  , -11.135627  ,\n",
       "                           -9.109322  ,  -8.67747   ,  -7.2238493 ,  -6.9279814 , -11.279611  ,\n",
       "                           -9.40147   ,  -3.723493  ,  -8.653901  ,  -7.567123  ,  -2.780624  ,\n",
       "                          -10.268918  ,  -7.4460006 , -10.660385  , -11.604096  ,   9.642624  ,\n",
       "                           -7.8855157 ,  -7.188937  ,  -6.6406484 , -12.217553  ,  -5.6481485 ,\n",
       "                           -9.891921  , -12.3641205 ,  -8.053617  ,  -3.2807882 ,  -2.2735085 ,\n",
       "                            8.585394  ,  -8.7244835 ,  -5.1651917 ,  -9.982521  , -12.34023   ,\n",
       "                           -9.14324   , -10.40861   , -10.702764  ,   8.400602  ,  -6.481494  ,\n",
       "                           -9.272974  , -11.428888  ,   5.9390316 ,  -7.067659  ,   4.5974855 ,\n",
       "                            7.160448  ,   7.5911646 ,  -9.953377  ,   8.735248  , -10.669521  ,\n",
       "                           -5.8097477 ,  -5.327843  ,  -4.1365886 ,  -6.507823  ,   0.96749914,\n",
       "                          -12.914415  ,  -6.5463886 ,  -8.494605  ,   6.483813  ,   9.020834  ,\n",
       "                          -11.964015  ,   5.3424134 ,  -6.42296   ,  -9.188865  , -11.385469  ,\n",
       "                           -9.191992  ,  -8.051075  , -10.8150425 ,  -8.748667  ,  -7.180382  ,\n",
       "                           -6.492117  ,  -9.114335  ,  -8.71567   ,  -3.994146  ,   6.1579638 ,\n",
       "                           -6.643029  , -10.459837  ,  -8.37352   ,  -9.270027  ,  -8.628736  ,\n",
       "                          -12.723729  ,  -2.8211234 , -11.240056  ,  -5.7376328 ,   3.1822042 ,\n",
       "                          -10.045036  , -10.185576  , -10.111048  , -12.269689  , -11.496873  ,\n",
       "                          -10.859031  ,  -5.055974  ,  -9.05037   ,  -9.883255  ,  -7.684982  ,\n",
       "                           -8.344912  , -11.575507  ,   5.0899553 ,  -8.118591  ,   3.4864302 ,\n",
       "                           -9.7414055 ,  -9.42969   ,  -1.3216666 ,  -6.9935346 , -11.418833  ,\n",
       "                            8.924051  ,  -9.942934  ,  -7.8272505 , -13.097082  ,  -2.1574376 ,\n",
       "                           -3.6211355 , -11.036682  ,  -5.532168  , -12.873497  ,  -5.6757855 ,\n",
       "                           -9.474256  ]),\n",
       "              'z': array([10.780593 ,  9.398625 ,  9.040679 ,  8.892196 , 10.649132 , 11.666962 ,\n",
       "                           3.5955446,  8.459503 ,  6.7970185,  9.318005 , 10.457272 ,  9.750709 ,\n",
       "                           3.3742208,  7.258967 , 11.2976265,  9.1399555,  9.644809 ,  9.624724 ,\n",
       "                          12.221591 ,  7.228289 , 11.61201  , 14.460359 , 12.929206 ,  9.628864 ,\n",
       "                           7.130009 , 11.908319 , 10.660761 , 14.2870455,  5.6499963, 10.498327 ,\n",
       "                           7.3029037,  4.637492 , 10.485912 , 12.678639 ,  8.790114 ,  9.693686 ,\n",
       "                          11.176289 ,  9.419483 ,  6.431723 , 11.275884 ,  7.6153255, 11.752175 ,\n",
       "                           8.484582 , 11.621973 ,  7.1533875,  7.0749397,  7.966268 , 11.561034 ,\n",
       "                           7.0586967, 10.496739 , 12.042012 , 11.062329 , 10.586466 ,  8.4969225,\n",
       "                           6.910854 , 12.244001 , 13.006804 , 13.058603 ,  8.273677 ,  8.444356 ,\n",
       "                          11.345039 , -2.646318 ,  9.805934 ,  8.8438   , 13.760389 ,  8.62539  ,\n",
       "                          10.375862 ,  8.129621 ,  9.901149 ,  9.981554 , 10.373838 , 10.587711 ,\n",
       "                           4.895206 ,  9.460059 ,  7.3292685, 13.225123 , 11.007061 , 12.677374 ,\n",
       "                          14.012722 ,  8.781793 , 12.699602 , 12.670534 , 13.016385 , 14.362028 ,\n",
       "                           8.371271 , 11.398918 , 12.823819 , 12.946912 ,  8.982577 , 13.902112 ,\n",
       "                           7.803869 , 12.134197 , 12.9526005, 14.072109 ,  8.44209  ,  9.3609705,\n",
       "                          10.269931 ,  8.404369 ,  7.3262167,  8.954741 , 14.528988 ,  7.231703 ,\n",
       "                          10.692077 , 11.128575 , 12.090852 ,  8.334962 ,  9.678294 , 11.315848 ,\n",
       "                          10.88438  ,  9.571809 , 10.705528 ,  8.127966 , 10.572636 , 10.483966 ,\n",
       "                           7.3828382, 10.190041 ])},\n",
       "             {'customdata': array([['./dk_data/hihat_open/Yamaha RX5-RX5Hat_O.wav'],\n",
       "                                   ['./dk_data/hihat_open/Sequential Tom-TOMHat_O.wav'],\n",
       "                                   ['./dk_data/hihat_open/Roland MC09-MC09 HatO_04.wav'],\n",
       "                                   ['./dk_data/hihat_open/Visco Space drums-MaxV - HH Op.wav'],\n",
       "                                   ['./dk_data/hihat_open/Korg SR-120-MaxV - HH Op.wav'],\n",
       "                                   ['./dk_data/hihat_open/Casio PT-68-MaxV - HH Op.wav'],\n",
       "                                   ['./dk_data/hihat_open/Roland MC09-MC09 HatO_02.wav'],\n",
       "                                   ['./dk_data/hihat_open/Roland SC-88-MaxV - D#4 Open High Conga.wav'],\n",
       "                                   ['./dk_data/hihat_open/MATTEL SYNSONIC-MaxV - Mattel Hi-Hat.wav'],\n",
       "                                   ['./dk_data/hihat_open/Roland MC09-MC09 HatO_03.wav'],\n",
       "                                   ['./dk_data/hihat_open/Roland Tr-808-TR-808Hat_O01.wav'],\n",
       "                                   ['./dk_data/hihat_open/Roland MC303-MaxV - Openpand.wav'],\n",
       "                                   ['./dk_data/hihat_open/Oberheim DX-MaxV - DMX__OHH.wav'],\n",
       "                                   ['./dk_data/hihat_open/Boss DR-110-DR-110Hat_O.wav'],\n",
       "                                   ['./dk_data/hihat_open/KORG DDD-1-MaxV - DDD1 ophh1.wav'],\n",
       "                                   ['./dk_data/hihat_open/Roland System-100-MaxV - Roland -open2 18.wav'],\n",
       "                                   ['./dk_data/hihat_open/Acetone Rhythm King-MaxV - HH Op.wav'],\n",
       "                                   ['./dk_data/hihat_open/Boss DR-55-DR-55Hat.wav'],\n",
       "                                   ['./dk_data/hihat_open/Roland Tr-606-TR606Hat_O01.wav'],\n",
       "                                   ['./dk_data/hihat_open/Alesis Sr16-SR16Hat_O4.wav'],\n",
       "                                   ['./dk_data/hihat_open/XE8-XE8 Hat Open ext_5.wav'],\n",
       "                                   ['./dk_data/hihat_open/Yamaha SY22-Hhopsy53.wav'],\n",
       "                                   ['./dk_data/hihat_open/Korg Pro-Wave-MaxV - PDLHIHAT.wav'],\n",
       "                                   ['./dk_data/hihat_open/Fricke MFB 502-MaxV - HiHat Open.wav'],\n",
       "                                   ['./dk_data/hihat_open/XE8-XE8 Hat Open int_7.wav'],\n",
       "                                   ['./dk_data/hihat_open/Korg KPR77-KPRHat_O.wav'],\n",
       "                                   ['./dk_data/hihat_open/Boss DR-202-202hat22.wav'],\n",
       "                                   ['./dk_data/hihat_open/Farfisa-MaxV - HH Op.wav'],\n",
       "                                   ['./dk_data/hihat_open/Kurzweil K2000 ROM-MaxV - hihat2.wav'],\n",
       "                                   ['./dk_data/hihat_open/Visco Space drums-MaxV - HH Cl.wav'],\n",
       "                                   ['./dk_data/hihat_open/Roland R-8-R8Hat_O03.wav'],\n",
       "                                   ['./dk_data/hihat_open/Korg MS-20-MaxV - HH Op.wav'],\n",
       "                                   ['./dk_data/hihat_open/Boss Dr Rhythm110-MaxV - HiHat Open.wav'],\n",
       "                                   ['./dk_data/hihat_open/Roland R-8-R8Hat_O06.wav'],\n",
       "                                   ['./dk_data/hihat_open/Roland Tr-606-TR606Hat_O_OD.wav'],\n",
       "                                   ['./dk_data/hihat_open/Luxor Passet-MaxV - HH Cl.wav'],\n",
       "                                   ['./dk_data/hihat_open/Roland System-100-MaxV - Roland -open2 30.wav'],\n",
       "                                   ['./dk_data/hihat_open/Roland Tr-808-MaxV - Roland808 - 808HH 06.wav'],\n",
       "                                   ['./dk_data/hihat_open/Yamaha RX5-RX5Hat_C.wav'],\n",
       "                                   ['./dk_data/hihat_open/Sequential Drumtrax-DrumtraxOpenhat.wav'],\n",
       "                                   ['./dk_data/hihat_open/Alesis Sr16-SR16Hat_O2.wav'],\n",
       "                                   ['./dk_data/hihat_open/Lel UDS-MaxV - HiHat Open 2.wav'],\n",
       "                                   ['./dk_data/hihat_open/Wurlitzer Swinging Rhythm-MaxV - HH Op.wav'],\n",
       "                                   ['./dk_data/hihat_open/Yamaha EM-90-MaxV - HH Op.wav'],\n",
       "                                   ['./dk_data/hihat_open/Roland Tr-626-TR-626Hat_O.wav'],\n",
       "                                   ['./dk_data/hihat_open/Roland MC09-MC09 HatO_05.wav'],\n",
       "                                   ['./dk_data/hihat_open/Roland MT32-MaxV - MTAgogoHigh.wav'],\n",
       "                                   ['./dk_data/hihat_open/Roland SC-88-MaxV - D#6 Open Surdo.wav'],\n",
       "                                   ['./dk_data/hihat_open/Korg KPR77-MaxV - KR77 -Hat-Op 05.wav'],\n",
       "                                   ['./dk_data/hihat_open/Alesis DM5-DM5Hat_O03.wav']], dtype=object),\n",
       "              'hovertemplate': ('drum_type=hihat_open<br>D1=%{x' ... '{customdata[0]}<extra></extra>'),\n",
       "              'legendgroup': 'hihat_open',\n",
       "              'marker': {'color': '#750D86',\n",
       "                         'line': {'color': 'DarkSlateGrey', 'width': 0},\n",
       "                         'size': 8,\n",
       "                         'symbol': 'circle'},\n",
       "              'mode': 'markers',\n",
       "              'name': 'hihat_open',\n",
       "              'scene': 'scene',\n",
       "              'showlegend': True,\n",
       "              'type': 'scatter3d',\n",
       "              'x': array([ 5.103068 ,  4.964027 ,  7.9152293,  7.8077445,  5.250717 ,  6.106604 ,\n",
       "                           7.050502 , 20.565973 ,  8.047687 ,  7.177393 ,  5.347127 , 20.269508 ,\n",
       "                           5.818878 ,  4.5465937,  4.6319985,  9.254516 ,  6.993228 ,  5.5647864,\n",
       "                           4.6669893,  7.4489264,  6.0148945,  7.0195613,  7.3752213,  8.637839 ,\n",
       "                           6.0284867,  7.966393 , 14.7164135,  5.66889  ,  7.0406995,  6.2895255,\n",
       "                           7.6567774, 11.665724 ,  4.5257077,  5.8722324, -1.2082034,  8.81341  ,\n",
       "                           6.103219 ,  7.7648892,  8.595751 ,  4.5529637,  7.746838 ,  7.549187 ,\n",
       "                           5.4983325,  7.9493737,  8.195984 ,  8.140001 , 12.185459 , 14.103951 ,\n",
       "                           5.8284774,  7.9639277]),\n",
       "              'y': array([ 8.582006  ,  5.439339  ,  1.9026005 , -3.967177  ,  2.7774782 ,\n",
       "                           6.105286  ,  3.0130932 , -3.2965696 ,  1.4484632 ,  1.1382362 ,\n",
       "                           2.0761359 , -5.8392534 ,  7.011339  ,  4.9675326 ,  6.8980155 ,\n",
       "                          -5.4638753 ,  3.1161773 ,  1.420225  ,  2.2975347 , -0.7426486 ,\n",
       "                           5.6716022 ,  4.1383753 , -3.3175523 ,  4.6185412 ,  6.001258  ,\n",
       "                          -1.2042061 ,  1.1398983 ,  2.1220474 ,  0.14309935, -4.290883  ,\n",
       "                           0.18530293,  0.5132943 ,  4.126628  ,  4.713975  ,  7.6092978 ,\n",
       "                          -3.8816762 ,  1.7142386 , -1.5311953 ,  4.1955175 ,  7.5110335 ,\n",
       "                          -1.0845842 ,  1.1940136 ,  2.7300053 ,  1.9175537 ,  6.0523033 ,\n",
       "                          -0.18478614,  7.2047725 ,  3.3181741 ,  3.7706687 , -0.45707276]),\n",
       "              'z': array([-4.4588027 , -3.162435  , -5.3906236 , -4.9630976 , -6.33693   ,\n",
       "                          -7.3132873 , -6.194476  , -3.7762465 , -7.0374255 , -5.8951993 ,\n",
       "                          -5.15686   ,  1.4488878 , -4.635747  , -6.522559  , -5.8375797 ,\n",
       "                           2.1825209 , -1.2589546 , -7.823077  , -4.3340697 , -4.7582507 ,\n",
       "                          -1.6372077 , -3.3783617 , -3.5002537 , -5.399838  , -2.3591502 ,\n",
       "                          -2.7407155 , -2.5241058 , -9.673656  , -2.8450382 , -2.7302923 ,\n",
       "                          -7.339947  , -5.537216  , -6.0485635 , -5.969593  , -6.161568  ,\n",
       "                          -2.8158226 , -0.6752094 , -7.193377  , -8.315685  , -4.022592  ,\n",
       "                          -1.1065695 , -4.3836656 , -8.381284  , -8.675219  , -3.916119  ,\n",
       "                          -3.9671352 ,  0.29786092,  7.7253375 , -2.6915493 , -0.57533455])},\n",
       "             {'customdata': array([['./dk_data/tom_mid/MFB-512-512mdtom.wav'],\n",
       "                                   ['./dk_data/tom_mid/Fricke MFB 502-MaxV - Tom 2.wav'],\n",
       "                                   ['./dk_data/tom_mid/Roland SH-09-MaxV - stompbass2.wav'],\n",
       "                                   ['./dk_data/tom_mid/Alesis DM5-DM5Tom01_M.wav'],\n",
       "                                   ['./dk_data/tom_mid/Emu Sp12-tom.wav'],\n",
       "                                   ['./dk_data/tom_mid/Kawai R50-R50 TomM.wav'],\n",
       "                                   ['./dk_data/tom_mid/Akai XR10-XR10MidTom03.wav'],\n",
       "                                   ['./dk_data/tom_mid/Roland R-8-R8Tom33.wav'],\n",
       "                                   ['./dk_data/tom_mid/Kawai R-50e-MaxV - R50e Tom 2.wav'],\n",
       "                                   ['./dk_data/tom_mid/Simmons SD-8-MaxV - TOM_05.wav'],\n",
       "                                   ['./dk_data/tom_mid/Alesis DM5-DM5Tom15_M.wav'],\n",
       "                                   ['./dk_data/tom_mid/Roland R-8-R8Tom14.wav'],\n",
       "                                   ['./dk_data/tom_mid/Roland Tr-808-TR-808Tom06.wav'],\n",
       "                                   ['./dk_data/tom_mid/Roland R-5-R-5 FX Tom.wav'],\n",
       "                                   ['./dk_data/tom_mid/Roland Tr-626-TR-626Tom_M02.wav'],\n",
       "                                   ['./dk_data/tom_mid/Roland MC303-MaxV - Acmidtom.wav'],\n",
       "                                   ['./dk_data/tom_mid/Roland TR-33-MaxV - Tom Mi.wav'],\n",
       "                                   ['./dk_data/tom_mid/Visco Space drums-MaxV - Tom Mi.wav'],\n",
       "                                   ['./dk_data/tom_mid/Roland R-5-R-5 Dry Tom 2.wav'],\n",
       "                                   ['./dk_data/tom_mid/Roland JV 1080-MaxV - TomMid2.wav'],\n",
       "                                   ['./dk_data/tom_mid/Roland R-8-R8Tom02.wav'],\n",
       "                                   ['./dk_data/tom_mid/Emu Drumulator-DrumulatorETomMid.wav'],\n",
       "                                   ['./dk_data/tom_mid/Kawai r-50-MaxV - TOMM_R50.wav'],\n",
       "                                   ['./dk_data/tom_mid/Kawai R50e-R50eTomE_Mid.wav'],\n",
       "                                   ['./dk_data/tom_mid/Hohner Automatic-MaxV - Tom Mi.wav'],\n",
       "                                   ['./dk_data/tom_mid/Yamaha PSR-MaxV - psr-tom1.wav'],\n",
       "                                   ['./dk_data/tom_mid/Korg ddd5-MaxV - MIDTOM.wav'],\n",
       "                                   ['./dk_data/tom_mid/Alesis DM5-DM5Tom08_M.wav'],\n",
       "                                   ['./dk_data/tom_mid/Simmons SD-8-MaxV - TOM_02.wav'],\n",
       "                                   ['./dk_data/tom_mid/Simmons SD-8-MaxV - TOM_15.wav']], dtype=object),\n",
       "              'hovertemplate': ('drum_type=tom_mid<br>D1=%{x}<b' ... '{customdata[0]}<extra></extra>'),\n",
       "              'legendgroup': 'tom_mid',\n",
       "              'marker': {'color': '#EB663B',\n",
       "                         'line': {'color': 'DarkSlateGrey', 'width': 0},\n",
       "                         'size': 8,\n",
       "                         'symbol': 'circle'},\n",
       "              'mode': 'markers',\n",
       "              'name': 'tom_mid',\n",
       "              'scene': 'scene',\n",
       "              'showlegend': True,\n",
       "              'type': 'scatter3d',\n",
       "              'x': array([14.598546 ,  6.365484 ,  9.658874 , 14.45465  , 13.581398 , 13.590345 ,\n",
       "                          17.758337 , 16.406387 , 18.700403 , 12.207605 , 16.95387  , 10.851773 ,\n",
       "                           7.5698423, 13.021868 , 16.499767 , 13.916505 , 14.045048 , 16.796457 ,\n",
       "                          13.610828 , 16.767754 , 17.525906 , 10.677756 , 14.14588  , 17.696512 ,\n",
       "                          13.310735 , 16.529558 , 16.16942  , 15.059737 , 15.31619  ,  6.693082 ]),\n",
       "              'y': array([ -3.9209769 ,  -7.927792  , -11.022411  ,  -3.9887    ,  -0.13727032,\n",
       "                           -0.2560046 ,   1.7418636 ,  -4.3447733 ,  -2.1064863 ,   1.8587192 ,\n",
       "                           -0.7705279 ,  -8.371136  ,  -7.736819  ,  -6.711349  ,  -0.66956335,\n",
       "                            3.5765002 ,  -8.09036   ,  -0.01316147,  -5.4873137 ,   3.372837  ,\n",
       "                           -1.1925026 ,  -1.2611024 ,   1.6346225 ,  -2.3517828 ,  -3.019697  ,\n",
       "                           -9.626057  ,   1.3649695 ,   0.14970666,  -3.4794858 ,  -7.2218256 ]),\n",
       "              'z': array([ 6.1129    ,  3.3792691 , -2.058076  ,  4.3664556 ,  4.52451   ,\n",
       "                           6.027579  ,  3.2020168 ,  0.71995425,  3.120189  , -1.1980765 ,\n",
       "                           6.617528  , 11.816685  ,  3.5327249 , 13.17522   ,  2.026964  ,\n",
       "                           5.6224155 ,  2.885782  ,  4.5382614 ,  8.652831  ,  5.8925824 ,\n",
       "                           5.1071825 ,  2.165471  ,  4.818279  ,  2.424239  ,  3.9408445 ,\n",
       "                           0.5674553 ,  5.54499   ,  5.3324194 ,  2.5506814 ,  2.0240686 ])},\n",
       "             {'customdata': array([['./dk_data/synth_noise/XU1F-1618-4.wav'],\n",
       "                                   ['./dk_data/synth_noise/HIY1-1113-4.wav'],\n",
       "                                   ['./dk_data/synth_noise/1LJG-1744-8.wav'],\n",
       "                                   ...,\n",
       "                                   ['./dk_data/synth_noise/838-8-XBHZ.wav'],\n",
       "                                   ['./dk_data/synth_noise/NH29-1189-4.wav'],\n",
       "                                   ['./dk_data/synth_noise/D3X4-1644-4.wav']], dtype=object),\n",
       "              'hovertemplate': ('drum_type=synth_noise<br>D1=%{' ... '{customdata[0]}<extra></extra>'),\n",
       "              'legendgroup': 'synth_noise',\n",
       "              'marker': {'color': '#511CFB',\n",
       "                         'line': {'color': 'DarkSlateGrey', 'width': 0},\n",
       "                         'size': 8,\n",
       "                         'symbol': 'circle'},\n",
       "              'mode': 'markers',\n",
       "              'name': 'synth_noise',\n",
       "              'scene': 'scene',\n",
       "              'showlegend': True,\n",
       "              'type': 'scatter3d',\n",
       "              'x': array([ -9.937355 ,  -3.0884845, -12.142387 , ...,  -7.0939994,  -4.1145663,\n",
       "                           -2.471703 ]),\n",
       "              'y': array([ -4.6484294,  -6.8823223,   3.6524127, ...,   3.6640153,  -4.368121 ,\n",
       "                          -10.012732 ]),\n",
       "              'z': array([ 0.2689458 ,  3.593466  , -8.296335  , ...,  0.10258125,  1.3953745 ,\n",
       "                           1.8699094 ])}],\n",
       "    'layout': {'legend': {'title': {'text': 'drum_type'},\n",
       "                          'tracegroupgap': 0,\n",
       "                          'x': 0.01,\n",
       "                          'xanchor': 'right',\n",
       "                          'y': 0.99,\n",
       "                          'yanchor': 'top'},\n",
       "               'margin': {'b': 0, 'l': 0, 'r': 0, 't': 0},\n",
       "               'scene': {'aspectmode': 'cube',\n",
       "                         'camera': {'eye': {'x': 1, 'y': 1, 'z': 1}},\n",
       "                         'domain': {'x': [0.0, 1.0], 'y': [0.0, 1.0]},\n",
       "                         'xaxis': {'title': {'text': 'D1'}},\n",
       "                         'yaxis': {'title': {'text': 'D2'}},\n",
       "                         'zaxis': {'title': {'text': 'D3'}}},\n",
       "               'showlegend': False,\n",
       "               'template': '...'}\n",
       "})>"
      ]
     },
     "execution_count": 119,
     "metadata": {},
     "output_type": "execute_result"
    }
   ],
   "source": [
    "fig."
   ]
  }
 ],
 "metadata": {
  "kernelspec": {
   "display_name": "Python 3",
   "language": "python",
   "name": "python3"
  },
  "language_info": {
   "codemirror_mode": {
    "name": "ipython",
    "version": 3
   },
   "file_extension": ".py",
   "mimetype": "text/x-python",
   "name": "python",
   "nbconvert_exporter": "python",
   "pygments_lexer": "ipython3",
   "version": "3.7.5"
  }
 },
 "nbformat": 4,
 "nbformat_minor": 4
}
