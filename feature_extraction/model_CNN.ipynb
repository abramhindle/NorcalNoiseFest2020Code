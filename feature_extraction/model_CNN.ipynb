{
 "cells": [
  {
   "cell_type": "code",
   "execution_count": 66,
   "metadata": {},
   "outputs": [],
   "source": [
    "# %reload_ext autoreload\n",
    "# %autoreload 1   \n",
    "import numpy as np\n",
    "import torch\n",
    "import torchvision\n",
    "import torchvision.transforms as transforms\n",
    "import torch.utils.data as data\n",
    "import torch.optim as optim\n",
    "import torch.nn as nn\n",
    "import torch.nn.functional as F\n",
    "from torch.autograd import Variable\n",
    "# import pytorch_models\n",
    "import imp\n",
    "# imp.reload(pytorch_models)\n",
    "# from pytorch_models import CNN_net\n",
    "\n",
    "import matplotlib.pyplot as plt\n",
    "import time\n",
    "\n",
    "device = torch.device(\"cuda\" if torch.cuda.is_available() else \"cpu\")\n",
    "\n",
    "seed = 42\n",
    "np.random.seed(seed)\n",
    "torch.manual_seed(seed)\n",
    "\n",
    "EPOCHS = 100\n",
    "BATCH_SIZE = 8\n",
    "LEARNING_RATE = 0.01"
   ]
  },
  {
   "cell_type": "code",
   "execution_count": 67,
   "metadata": {},
   "outputs": [
    {
     "name": "stdout",
     "output_type": "stream",
     "text": [
      "['clap', 'guitar', 'hat', 'kick', 'piano', 'snare', 'stacks'] 7\n"
     ]
    }
   ],
   "source": [
    "TRAIN_DATA_PATH = \"./cnn_data/train\"\n",
    "TEST_DATA_PATH = \"./cnn_data/test\"\n",
    "TRANSFORM_IMG = transforms.Compose(\n",
    "    [transforms.Grayscale(num_output_channels=1),\n",
    "    transforms.ToTensor(), \n",
    "    transforms.Normalize((0.5, 0.5, 0.5), (0.5, 0.5, 0.5))])\n",
    "\n",
    "train_data = torchvision.datasets.ImageFolder(root=TRAIN_DATA_PATH, transform=TRANSFORM_IMG)\n",
    "train_loader = data.DataLoader(train_data, batch_size=BATCH_SIZE,shuffle=True, num_workers=4)\n",
    "test_data = torchvision.datasets.ImageFolder(root=TEST_DATA_PATH, transform=TRANSFORM_IMG)\n",
    "test_loader  = data.DataLoader(test_data, batch_size=BATCH_SIZE, shuffle=True, num_workers=4)\n",
    "val_loader=test_loader\n",
    "\n",
    "classes=list(train_data.class_to_idx.keys()) #get list of classes\n",
    "print(classes,len(classes))"
   ]
  },
  {
   "cell_type": "code",
   "execution_count": 68,
   "metadata": {},
   "outputs": [
    {
     "name": "stderr",
     "output_type": "stream",
     "text": [
      "Clipping input data to the valid range for imshow with RGB data ([0..1] for floats or [0..255] for integers).\n"
     ]
    },
    {
     "data": {
      "image/png": "[encoded data removed]",
      "text/plain": [
       "<Figure size 432x288 with 1 Axes>"
      ]
     },
     "metadata": {
      "needs_background": "light"
     },
     "output_type": "display_data"
    },
    {
     "name": "stdout",
     "output_type": "stream",
     "text": [
      "GroundTruth:  stacks        snare        piano        stacks        stacks         clap         kick        snare\n"
     ]
    }
   ],
   "source": [
    "dataiter = iter(test_loader)\n",
    "# functions to show an image\n",
    "def imshow(img):\n",
    "    img = img      # unnormalize\n",
    "    npimg = img.numpy()\n",
    "    plt.imshow(np.transpose(npimg, (1, 2, 0)))\n",
    "    plt.show()\n",
    "    \n",
    "images, labels = dataiter.next()\n",
    "imshow(torchvision.utils.make_grid(images))\n",
    "print('GroundTruth: ', '        '.join('%5s' % classes[labels[j]] for j in range(BATCH_SIZE)))\n"
   ]
  },
  {
   "cell_type": "code",
   "execution_count": 69,
   "metadata": {},
   "outputs": [],
   "source": [
    "#io calculator\n",
    "def outputSize(in_size, kernel_size, stride, padding):\n",
    "    output = int((in_size - kernel_size + 2*(padding)) / stride) + 1\n",
    "    print(output)\n",
    "    return(output)\n",
    "#get all targets\n"
   ]
  },
  {
   "cell_type": "code",
   "execution_count": 70,
   "metadata": {},
   "outputs": [
    {
     "name": "stdout",
     "output_type": "stream",
     "text": [
      "here are the weights to account for class sizes\n",
      "{'clap': 2.7027028, 'guitar': 2.6385226, 'hat': 0.6578948, 'kick': 0.9910803, 'piano': 3.058104, 'snare': 0.698812, 'stacks': 0.2247191}\n"
     ]
    }
   ],
   "source": [
    "# let's get the weight of the samples incase we want to make a weighted\n",
    "# sampler to deal with data imbalance\n",
    "# # expensive to compute so commented\n",
    "targets=[]\n",
    "for batch_idx, (d, l) in enumerate(train_loader):\n",
    "    targets.extend(list(l.numpy()))\n",
    "# Compute samples weight (each sample should get its own weight)\n",
    "target=torch.tensor(targets)\n",
    "class_sample_count = torch.tensor(\n",
    "    [(target == t).sum() for t in torch.unique(target, sorted=True)])\n",
    "weight = 1. / class_sample_count.float()\n",
    "samples_weight = torch.tensor([weight[t] for t in target])\n",
    "print(\"here are the weights to account for class sizes\")\n",
    "print(dict(zip(classes,list(weight.numpy()*1000))))"
   ]
  },
  {
   "cell_type": "code",
   "execution_count": 71,
   "metadata": {},
   "outputs": [],
   "source": [
    "import numpy as np\n",
    "import torch\n",
    "import torch.nn as nn\n",
    "import torch.nn.functional as F\n",
    "class ConvNet(nn.Module):\n",
    "    def __init__(self):\n",
    "        super(ConvNet, self).__init__()\n",
    "        self.layer1 = nn.Sequential(\n",
    "            nn.Conv2d(1, 32, kernel_size=5, stride=1, padding=2),\n",
    "            nn.ReLU(),\n",
    "            nn.MaxPool2d(kernel_size=2, stride=2))\n",
    "        self.layer2 = nn.Sequential(\n",
    "            nn.Conv2d(32, 64, kernel_size=5, stride=1, padding=2),\n",
    "            nn.ReLU(),\n",
    "            nn.MaxPool2d(kernel_size=2, stride=2))\n",
    "        self.drop_out = nn.Dropout()\n",
    "        self.fc1 = nn.Linear(25 * 30 * 64, 1000)\n",
    "        self.fc2 = nn.Linear(1000, 7)\n",
    "    def forward(self, x):\n",
    "        out = self.layer1(x)\n",
    "        out = self.layer2(out)\n",
    "        out = out.reshape(out.size(0), -1)\n",
    "        out = self.drop_out(out)\n",
    "        out = self.fc1(out)\n",
    "        out = self.fc2(out)\n",
    "        return out"
   ]
  },
  {
   "cell_type": "code",
   "execution_count": 72,
   "metadata": {},
   "outputs": [],
   "source": [
    "def trainCNN(net, batch_size, n_epochs, learning_rate):\n",
    "    \n",
    "    #Print all of the hyperparameters of the training iteration:\n",
    "    print(\"===== HYPERPARAMETERS =====\")\n",
    "    print(\"batch_size=\", batch_size)\n",
    "    print(\"epochs=\", n_epochs)\n",
    "    print(\"learning_rate=\", learning_rate)\n",
    "    print(\"=\" * 30)\n",
    "    \n",
    "    n_batches = len(train_loader)\n",
    "    loss = torch.nn.CrossEntropyLoss(weight=weight.to(device))    \n",
    "    optimizer = optim.Adadelta(net.parameters(),learning_rate)\n",
    "    \n",
    "    #get time\n",
    "    training_start_time = time.time()    \n",
    "    #Loop for n_epochs\n",
    "    for epoch in range(n_epochs):\n",
    "        \n",
    "        running_loss = 0.0\n",
    "        print_every = n_batches // 10\n",
    "        start_time = time.time()\n",
    "        total_train_loss = 0\n",
    "        \n",
    "        for i, data in enumerate(train_loader, 0):\n",
    "            inputs, labels =  data[0].to(device), data[1].to(device)\n",
    "            #Wrap them in a Variable object\n",
    "            inputs, labels = Variable(inputs), Variable(labels)\n",
    "            \n",
    "            #Set the parameter gradients to zero\n",
    "            optimizer.zero_grad()\n",
    "            \n",
    "            #Forward pass, backward pass, optimize\n",
    "            outputs = net(inputs)\n",
    "            loss_size = loss(outputs, labels)\n",
    "            loss_size.backward()\n",
    "            optimizer.step()\n",
    "            \n",
    "            #Print statistics\n",
    "            running_loss += loss_size.data\n",
    "            total_train_loss += loss_size.data\n",
    "            \n",
    "            #Print every 20th batch of an epoch\n",
    "            if (i + 1) % (print_every + 1) == 0:\n",
    "                print(\"Epoch {}, {:d}% \\t train_loss: {:.2f} took: {:.2f}s\".format(\n",
    "                        epoch+1, int(100 * (i+1) / n_batches), running_loss / print_every, time.time() - start_time))\n",
    "                #Reset running loss and time\n",
    "                running_loss = 0.0\n",
    "                start_time = time.time()\n",
    "\n",
    "        #At the end of the epoch, do a pass on the validation set\n",
    "        total_val_loss = 0\n",
    "        for inputs, labels in val_loader:\n",
    "            inputs, labels = Variable(inputs), Variable(labels)\n",
    "            inputs, labels =  inputs.to(device), labels.to(device)\n",
    "            #Forward pass\n",
    "            val_outputs = net(inputs)\n",
    "            val_loss_size = loss(val_outputs, labels)\n",
    "            total_val_loss += val_loss_size.data\n",
    "            \n",
    "        print(\"Validation loss = {:.2f}\".format(total_val_loss / len(val_loader)))\n",
    "        torch.save({\n",
    "            'epoch': epoch,\n",
    "            'model_state_dict': net.state_dict(),\n",
    "            'optimizer_state_dict': optimizer.state_dict(),\n",
    "            'loss': loss,\n",
    "            }, \"./models/cnn/model-%s-%s.states\"%(BATCH_SIZE,epoch))\n",
    "            \n",
    "    print(\"Training finished, took {:.2f}s\".format(time.time() - training_start_time))"
   ]
  },
  {
   "cell_type": "code",
   "execution_count": null,
   "metadata": {
    "scrolled": true
   },
   "outputs": [
    {
     "name": "stdout",
     "output_type": "stream",
     "text": [
      "===== HYPERPARAMETERS =====\n",
      "batch_size= 8\n",
      "epochs= 10\n",
      "learning_rate= 0.001\n",
      "==============================\n",
      "Epoch 1, 10% \t train_loss: 1.89 took: 2.51s\n",
      "Epoch 1, 20% \t train_loss: 1.73 took: 2.34s\n",
      "Epoch 1, 30% \t train_loss: 1.61 took: 2.34s\n",
      "Epoch 1, 40% \t train_loss: 1.50 took: 2.34s\n",
      "Epoch 1, 50% \t train_loss: 1.46 took: 2.34s\n",
      "Epoch 1, 60% \t train_loss: 1.39 took: 2.34s\n",
      "Epoch 1, 70% \t train_loss: 1.29 took: 2.34s\n",
      "Epoch 1, 80% \t train_loss: 1.19 took: 2.34s\n",
      "Epoch 1, 90% \t train_loss: 1.20 took: 2.35s\n",
      "Validation loss = 1.11\n",
      "Epoch 2, 10% \t train_loss: 1.05 took: 2.52s\n",
      "Epoch 2, 20% \t train_loss: 1.02 took: 2.39s\n",
      "Epoch 2, 30% \t train_loss: 0.97 took: 2.40s\n",
      "Epoch 2, 40% \t train_loss: 1.02 took: 2.38s\n",
      "Epoch 2, 50% \t train_loss: 0.99 took: 2.38s\n",
      "Epoch 2, 60% \t train_loss: 0.95 took: 2.39s\n",
      "Epoch 2, 70% \t train_loss: 0.93 took: 2.38s\n",
      "Epoch 2, 80% \t train_loss: 0.89 took: 2.39s\n",
      "Epoch 2, 90% \t train_loss: 0.91 took: 2.38s\n",
      "Validation loss = 0.85\n",
      "Epoch 3, 10% \t train_loss: 0.86 took: 2.53s\n",
      "Epoch 3, 20% \t train_loss: 0.82 took: 2.40s\n",
      "Epoch 3, 30% \t train_loss: 0.79 took: 2.41s\n",
      "Epoch 3, 40% \t train_loss: 0.83 took: 2.40s\n",
      "Epoch 3, 50% \t train_loss: 0.75 took: 2.40s\n",
      "Epoch 3, 60% \t train_loss: 0.77 took: 2.38s\n",
      "Epoch 3, 70% \t train_loss: 0.80 took: 2.38s\n",
      "Epoch 3, 80% \t train_loss: 0.77 took: 2.40s\n",
      "Epoch 3, 90% \t train_loss: 0.73 took: 2.40s\n",
      "Validation loss = 0.73\n",
      "Epoch 4, 10% \t train_loss: 0.68 took: 2.53s\n",
      "Epoch 4, 20% \t train_loss: 0.78 took: 2.40s\n",
      "Epoch 4, 30% \t train_loss: 0.67 took: 2.42s\n",
      "Epoch 4, 40% \t train_loss: 0.67 took: 2.41s\n",
      "Epoch 4, 50% \t train_loss: 0.72 took: 2.39s\n",
      "Epoch 4, 60% \t train_loss: 0.67 took: 2.40s\n",
      "Epoch 4, 70% \t train_loss: 0.69 took: 2.40s\n",
      "Epoch 4, 80% \t train_loss: 0.66 took: 2.40s\n",
      "Epoch 4, 90% \t train_loss: 0.64 took: 2.39s\n",
      "Validation loss = 0.69\n",
      "Epoch 5, 10% \t train_loss: 0.66 took: 2.53s\n",
      "Epoch 5, 20% \t train_loss: 0.63 took: 2.40s\n",
      "Epoch 5, 30% \t train_loss: 0.63 took: 2.39s\n",
      "Epoch 5, 40% \t train_loss: 0.65 took: 2.41s\n",
      "Epoch 5, 50% \t train_loss: 0.66 took: 2.40s\n",
      "Epoch 5, 60% \t train_loss: 0.68 took: 2.39s\n",
      "Epoch 5, 70% \t train_loss: 0.68 took: 2.40s\n",
      "Epoch 5, 80% \t train_loss: 0.62 took: 2.40s\n",
      "Epoch 5, 90% \t train_loss: 0.58 took: 2.39s\n",
      "Validation loss = 0.61\n",
      "Epoch 6, 10% \t train_loss: 0.57 took: 2.53s\n",
      "Epoch 6, 20% \t train_loss: 0.57 took: 2.41s\n",
      "Epoch 6, 30% \t train_loss: 0.56 took: 2.41s\n",
      "Epoch 6, 40% \t train_loss: 0.60 took: 2.41s\n",
      "Epoch 6, 50% \t train_loss: 0.60 took: 2.40s\n",
      "Epoch 6, 60% \t train_loss: 0.59 took: 2.41s\n",
      "Epoch 6, 70% \t train_loss: 0.60 took: 2.40s\n",
      "Epoch 6, 80% \t train_loss: 0.55 took: 2.40s\n",
      "Epoch 6, 90% \t train_loss: 0.67 took: 2.40s\n",
      "Validation loss = 0.58\n",
      "Epoch 7, 10% \t train_loss: 0.56 took: 2.53s\n",
      "Epoch 7, 20% \t train_loss: 0.58 took: 2.41s\n",
      "Epoch 7, 30% \t train_loss: 0.58 took: 2.41s\n",
      "Epoch 7, 40% \t train_loss: 0.54 took: 2.40s\n",
      "Epoch 7, 50% \t train_loss: 0.54 took: 2.40s\n",
      "Epoch 7, 60% \t train_loss: 0.57 took: 2.40s\n",
      "Epoch 7, 70% \t train_loss: 0.55 took: 2.39s\n",
      "Epoch 7, 80% \t train_loss: 0.58 took: 2.40s\n",
      "Epoch 7, 90% \t train_loss: 0.58 took: 2.40s\n",
      "Validation loss = 0.55\n",
      "Epoch 8, 10% \t train_loss: 0.55 took: 2.58s\n",
      "Epoch 8, 20% \t train_loss: 0.50 took: 2.38s\n",
      "Epoch 8, 30% \t train_loss: 0.54 took: 2.39s\n",
      "Epoch 8, 40% \t train_loss: 0.57 took: 2.39s\n",
      "Epoch 8, 50% \t train_loss: 0.58 took: 2.39s\n",
      "Epoch 8, 60% \t train_loss: 0.56 took: 2.40s\n",
      "Epoch 8, 70% \t train_loss: 0.58 took: 2.39s\n",
      "Epoch 8, 80% \t train_loss: 0.58 took: 2.39s\n",
      "Epoch 8, 90% \t train_loss: 0.58 took: 2.40s\n",
      "Validation loss = 0.52\n",
      "Epoch 9, 10% \t train_loss: 0.54 took: 2.56s\n",
      "Epoch 9, 20% \t train_loss: 0.53 took: 2.39s\n",
      "Epoch 9, 30% \t train_loss: 0.51 took: 2.39s\n",
      "Epoch 9, 40% \t train_loss: 0.55 took: 2.39s\n",
      "Epoch 9, 50% \t train_loss: 0.50 took: 2.40s\n",
      "Epoch 9, 60% \t train_loss: 0.56 took: 2.40s\n",
      "Epoch 9, 70% \t train_loss: 0.53 took: 2.40s\n",
      "Epoch 9, 80% \t train_loss: 0.59 took: 2.40s\n",
      "Epoch 9, 90% \t train_loss: 0.51 took: 2.40s\n",
      "Validation loss = 0.52\n",
      "Epoch 10, 10% \t train_loss: 0.54 took: 2.53s\n",
      "Epoch 10, 20% \t train_loss: 0.54 took: 2.39s\n",
      "Epoch 10, 30% \t train_loss: 0.50 took: 2.43s\n",
      "Epoch 10, 40% \t train_loss: 0.49 took: 2.43s\n",
      "Epoch 10, 50% \t train_loss: 0.53 took: 2.42s\n",
      "Epoch 10, 60% \t train_loss: 0.51 took: 2.39s\n",
      "Epoch 10, 70% \t train_loss: 0.51 took: 2.42s\n",
      "Epoch 10, 80% \t train_loss: 0.53 took: 2.40s\n",
      "Epoch 10, 90% \t train_loss: 0.46 took: 2.40s\n"
     ]
    }
   ],
   "source": [
    "CNN = ConvNet()\n",
    "CNN.to(device)\n",
    "trainCNN(CNN, batch_size=BATCH_SIZE,n_epochs=10, learning_rate=0.001)"
   ]
  },
  {
   "cell_type": "code",
   "execution_count": 52,
   "metadata": {},
   "outputs": [
    {
     "data": {
      "text/plain": [
       "ConvNet(\n",
       "  (layer1): Sequential(\n",
       "    (0): Conv2d(1, 32, kernel_size=(5, 5), stride=(1, 1), padding=(2, 2))\n",
       "    (1): ReLU()\n",
       "    (2): MaxPool2d(kernel_size=2, stride=2, padding=0, dilation=1, ceil_mode=False)\n",
       "  )\n",
       "  (layer2): Sequential(\n",
       "    (0): Conv2d(32, 64, kernel_size=(5, 5), stride=(1, 1), padding=(2, 2))\n",
       "    (1): ReLU()\n",
       "    (2): MaxPool2d(kernel_size=2, stride=2, padding=0, dilation=1, ceil_mode=False)\n",
       "  )\n",
       "  (drop_out): Dropout(p=0.5)\n",
       "  (fc1): Linear(in_features=48000, out_features=1000, bias=True)\n",
       "  (fc2): Linear(in_features=1000, out_features=7, bias=True)\n",
       ")"
      ]
     },
     "execution_count": 52,
     "metadata": {},
     "output_type": "execute_result"
    }
   ],
   "source": [
    "s=torch.load(\"models/cnn/model-4-9.states\")\n",
    "cnn = ConvNet()\n",
    "cnn.load_state_dict(s[\"model_state_dict\"])\n",
    "cnn.to(device)\n",
    "\n",
    "# cnn.to(device)"
   ]
  },
  {
   "cell_type": "code",
   "execution_count": 53,
   "metadata": {},
   "outputs": [
    {
     "name": "stderr",
     "output_type": "stream",
     "text": [
      "Clipping input data to the valid range for imshow with RGB data ([0..1] for floats or [0..255] for integers).\n"
     ]
    },
    {
     "data": {
      "image/png": "[encoded data removed]",
      "text/plain": [
       "<Figure size 432x288 with 1 Axes>"
      ]
     },
     "metadata": {
      "needs_background": "light"
     },
     "output_type": "display_data"
    },
    {
     "name": "stdout",
     "output_type": "stream",
     "text": [
      "GroundTruth:   kick        stacks\n",
      "Predicted:     kick        stacks\n"
     ]
    }
   ],
   "source": [
    "dataiter = iter(test_loader)\n",
    "# functions to show an image\n",
    "def imshow(img):\n",
    "    img = img      # unnormalize\n",
    "    npimg = img.numpy()\n",
    "    plt.imshow(np.transpose(npimg, (1, 2, 0)))\n",
    "    plt.show()\n",
    "    \n",
    "images, labels = dataiter.next()\n",
    "imshow(torchvision.utils.make_grid(images))\n",
    "print('GroundTruth: ', '        '.join('%5s' % classes[labels[j]] for j in range(BATCH_SIZE)))\n",
    "dimg=images.to(device)\n",
    "outputs=CNN(dimg)\n",
    "_, predicted = torch.max(outputs, 1)\n",
    "\n",
    "print('Predicted:   ', '        '.join('%5s' % classes[predicted[j]]\n",
    "                              for j in range(BATCH_SIZE)))"
   ]
  },
  {
   "cell_type": "code",
   "execution_count": 55,
   "metadata": {},
   "outputs": [
    {
     "name": "stdout",
     "output_type": "stream",
     "text": [
      "Accuracy of the network on the test images: 86 %\n"
     ]
    }
   ],
   "source": [
    "correct = 0\n",
    "total = 0\n",
    "with torch.no_grad():\n",
    "    for data in test_loader:\n",
    "        images, labels =  data[0].to(device), data[1].to(device)\n",
    "        outputs = CNN(images)\n",
    "        _, predicted = torch.max(outputs.data, 1)\n",
    "        total += labels.size(0)\n",
    "        correct += (predicted == labels).sum().item()\n",
    "\n",
    "print('Accuracy of the network on the test images: %d %%' % (\n",
    "    100 * correct / total))"
   ]
  },
  {
   "cell_type": "code",
   "execution_count": 56,
   "metadata": {},
   "outputs": [
    {
     "name": "stdout",
     "output_type": "stream",
     "text": [
      "Accuracy of  clap :  7 %\n",
      "Accuracy of guitar : 62 %\n",
      "Accuracy of   hat : 89 %\n",
      "Accuracy of  kick : 87 %\n",
      "Accuracy of piano : 63 %\n",
      "Accuracy of snare : 79 %\n",
      "Accuracy of stacks : 98 %\n"
     ]
    }
   ],
   "source": [
    "class_correct = list(0. for i in range(19))\n",
    "class_total = list(0. for i in range(19))\n",
    "\n",
    "with torch.no_grad():\n",
    "    for data in test_loader:\n",
    "        images, labels =  data[0].to(device), data[1].to(device)\n",
    "        outputs = CNN(images)\n",
    "        _, predicted = torch.max(outputs, 1)\n",
    "        c = (predicted == labels).squeeze()\n",
    "        for i in range(BATCH_SIZE):\n",
    "            try:\n",
    "                label = labels[i]\n",
    "                class_correct[label] += c[i].item()\n",
    "                class_total[label] += 1\n",
    "            except:\n",
    "                continue\n",
    "\n",
    "for i in range(len(classes)):\n",
    "    print('Accuracy of %5s : %2d %%' % (\n",
    "        classes[i], 100 * class_correct[i] / class_total[i]))"
   ]
  },
  {
   "cell_type": "code",
   "execution_count": 57,
   "metadata": {},
   "outputs": [
    {
     "data": {
      "text/plain": [
       "(7.0, 0.0)"
      ]
     },
     "execution_count": 57,
     "metadata": {},
     "output_type": "execute_result"
    },
    {
     "data": {
      "image/png": "[encoded data removed]",
      "text/plain": [
       "<Figure size 864x864 with 2 Axes>"
      ]
     },
     "metadata": {
      "needs_background": "light"
     },
     "output_type": "display_data"
    }
   ],
   "source": [
    "## making a confusion matrix\n",
    "from sklearn.metrics import confusion_matrix\n",
    "import seaborn as sn\n",
    "import pandas as pd\n",
    "import matplotlib.pyplot as plt\n",
    "# plt.show() # ta-da!\n",
    "predictions=[]\n",
    "l=[]\n",
    "with torch.no_grad():\n",
    "    for data in test_loader:\n",
    "        images, labels =  data[0].to(device), data[1].to(device)\n",
    "        outputs = CNN(images)\n",
    "        _, predicted = torch.max(outputs, 1)\n",
    "        predictions.extend(predicted.cpu().numpy())\n",
    "        l.extend(labels.cpu().numpy())\n",
    "cm=confusion_matrix(l,predictions)\n",
    "\n",
    "# normalize confusion matrix per class\n",
    "for i,c in enumerate(cm):\n",
    "    cm[i]=c/sum(c)*100\n",
    "\n",
    "\n",
    "df_cm = pd.DataFrame(cm, index = [i for i in classes],\n",
    "                  columns = [i for i in classes])\n",
    "plt.figure(figsize = (12,12))\n",
    "sn.heatmap(df_cm, annot=True)\n",
    "# fix for mpl bug that cuts off top/bottom of seaborn viz\n",
    "b, t = plt.ylim() # discover the values for bottom and top\n",
    "b += 0.5 # Add 0.5 to the bottom\n",
    "t -= 0.5 # Subtract 0.5 from the top\n",
    "plt.ylim(b, t) # update the ylim(bottom, top) values"
   ]
  }
 ],
 "metadata": {
  "kernelspec": {
   "display_name": "Python 3",
   "language": "python",
   "name": "python3"
  },
  "language_info": {
   "codemirror_mode": {
    "name": "ipython",
    "version": 3
   },
   "file_extension": ".py",
   "mimetype": "text/x-python",
   "name": "python",
   "nbconvert_exporter": "python",
   "pygments_lexer": "ipython3",
   "version": "3.7.4"
  }
 },
 "nbformat": 4,
 "nbformat_minor": 4
}
