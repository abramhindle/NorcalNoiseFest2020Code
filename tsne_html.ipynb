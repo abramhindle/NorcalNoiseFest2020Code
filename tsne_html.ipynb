{
 "cells": [
  {
   "cell_type": "code",
   "execution_count": 12,
   "metadata": {},
   "outputs": [],
   "source": [
    "import numpy as np\n",
    "import plotly.graph_objects as go\n",
    "from plotly.subplots import make_subplots\n",
    "import pandas as pd\n",
    "from plotly.subplots import make_subplots\n",
    "import pandas as pd\n",
    "import time\n",
    "from sklearn.manifold import TSNE, Isomap, LocallyLinearEmbedding, SpectralEmbedding\n",
    "\n",
    "df=pd.read_csv(\"feat_frequency_bins.csv\",error_bad_lines=False)\n",
    "n_neighbors = 10\n",
    "# df.loc[:, ~df.columns.isin(['label','path'])].values\n",
    "X =df.loc[:, ~df.columns.isin(['label','path'])].values\n",
    "X = np.nan_to_num(X)\n",
    "time_start = time.time()\n",
    "# tsne = TSNE(n_components=2, random_state=0, perplexity=100, verbose=1)\n",
    "# tsne = Isomap(n_neighbors, n_components=2)\n",
    "# tsne = LocallyLinearEmbedding(n_neighbors,n_components=4)\n",
    "tsne = SpectralEmbedding(n_neighbors=16,n_components=5,random_state=1)\n",
    "X_2d = tsne.fit_transform(X)\n",
    "\n",
    "df2=pd.concat([df[\"path\"],df[\"label\"],pd.Series(X_2d[:,0]),pd.Series(X_2d[:,1])],axis=1)\n",
    "df2.columns=[\"path\",\"label\",\"v1\",\"v2\"]\n"
   ]
  },
  {
   "cell_type": "code",
   "execution_count": 13,
   "metadata": {},
   "outputs": [
    {
     "data": {
      "application/vnd.jupyter.widget-view+json": {
       "model_id": "4c787ac229c244099c89107dee01bf77",
       "version_major": 2,
       "version_minor": 0
      },
      "text/plain": [
       "FigureWidget({\n",
       "    'data': [{'customdata': array([['/dk_data/kick/XE8-XE8_Kick_3_int_3.wav'],\n",
       "                …"
      ]
     },
     "metadata": {},
     "output_type": "display_data"
    },
    {
     "data": {
      "application/vnd.jupyter.widget-view+json": {
       "model_id": "a044e22c86274ffa889fb5be5c84e37c",
       "version_major": 2,
       "version_minor": 0
      },
      "text/plain": [
       "HBox(children=(Textarea(value=''),))"
      ]
     },
     "metadata": {},
     "output_type": "display_data"
    }
   ],
   "source": [
    "import plotly_express as px\n",
    "import plotly.graph_objs as go\n",
    "import ipywidgets as widgets\n",
    "import os\n",
    "p = px.scatter(df2, x=\"v1\",\n",
    "                 y=\"v2\",color=\"label\",hover_data=[\"path\"],)\n",
    "for trace in p.data:\n",
    "    trace.update(hoverinfo=\"none\",hovertemplate= '')\n",
    "\n",
    "def hover_fn(trace, points, state):\n",
    "    if points.point_inds:\n",
    "        ind = points.point_inds[0]\n",
    "        filename=os.getcwd()+trace.customdata[ind][0]\n",
    "        os.system(\"play %s &\" % filename)\n",
    "        hover_data.value = str(trace.customdata[ind][0])\n",
    "        \n",
    "hover_data = widgets.Textarea()  \n",
    "layout = go.Layout(hovermode=False)\n",
    "fig  = go.FigureWidget(p)\n",
    "for f in fig.data:\n",
    "    f.on_hover(hover_fn)\n",
    "\n",
    "display(fig,widgets.HBox([hover_data]))"
   ]
  },
  {
   "cell_type": "code",
   "execution_count": null,
   "metadata": {},
   "outputs": [],
   "source": [
    "/dk_data/kick/Jomox_Xbase-09-LongBD01.wav\n",
    "/dk_data/kick/Jomox_Xbase-09-LongBD01.wav\n",
    "/dk_data/kick/Roland_TR-909_BD_Selection-KK-Di909BD_59.wav"
   ]
  }
 ],
 "metadata": {
  "kernelspec": {
   "display_name": "synthpyenv",
   "language": "python",
   "name": "synthpy"
  },
  "language_info": {
   "codemirror_mode": {
    "name": "ipython",
    "version": 3
   },
   "file_extension": ".py",
   "mimetype": "text/x-python",
   "name": "python",
   "nbconvert_exporter": "python",
   "pygments_lexer": "ipython3",
   "version": "3.6.8"
  },
  "varInspector": {
   "cols": {
    "lenName": 16,
    "lenType": 16,
    "lenVar": 40
   },
   "kernels_config": {
    "python": {
     "delete_cmd_postfix": "",
     "delete_cmd_prefix": "del ",
     "library": "var_list.py",
     "varRefreshCmd": "print(var_dic_list())"
    },
    "r": {
     "delete_cmd_postfix": ") ",
     "delete_cmd_prefix": "rm(",
     "library": "var_list.r",
     "varRefreshCmd": "cat(var_dic_list()) "
    }
   },
   "types_to_exclude": [
    "module",
    "function",
    "builtin_function_or_method",
    "instance",
    "_Feature"
   ],
   "window_display": false
  }
 },
 "nbformat": 4,
 "nbformat_minor": 4
}
