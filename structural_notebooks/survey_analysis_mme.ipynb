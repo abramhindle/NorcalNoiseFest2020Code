{
 "cells": [
  {
   "cell_type": "code",
   "execution_count": 1,
   "metadata": {},
   "outputs": [],
   "source": [
    "import pandas as pd\n",
    "import numpy as np\n",
    "import statsmodels.stats.inter_rater as inter\n",
    "# \n",
    "df1=pd.read_csv(\"./survey2/amir_answers.csv\")\n",
    "df2=pd.read_csv(\"./survey2/amir_answers.csv\")\n",
    "df3=pd.read_csv(\"./survey2/mme_answers.csv\")\n",
    "\n",
    "df1.columns=[\"name\",\"drum_category\"]\n",
    "df2.columns=[\"name\",\"drum_category\"]\n",
    "df3.columns=[\"name\",\"stack_size\",\"drum_category\",\"iteration\"]"
   ]
  },
  {
   "cell_type": "code",
   "execution_count": 2,
   "metadata": {},
   "outputs": [
    {
     "name": "stdout",
     "output_type": "stream",
     "text": [
      "300 300 300\n"
     ]
    }
   ],
   "source": [
    "df1=df1[[\"name\",\"drum_category\"]]\n",
    "df2=df2[[\"name\",\"drum_category\"]]\n",
    "#check to see if they're sorted the same way\n",
    "print(np.sum(df1[\"name\"]==df2[\"name\"]),\n",
    "      np.sum(df3[\"name\"]==df2[\"name\"]),\n",
    "      np.sum(df3[\"name\"]==df2[\"name\"]))\n",
    "df=pd.DataFrame()\n",
    "df[\"name\"]=df1[\"name\"].copy()\n",
    "\n",
    "df[\"abram\"]=df1[\"drum_category\"]\n",
    "df[\"amir\"]=df2[\"drum_category\"]\n",
    "df[\"mme\"]=df3[\"drum_category\"]\n"
   ]
  },
  {
   "cell_type": "code",
   "execution_count": 3,
   "metadata": {},
   "outputs": [
    {
     "name": "stdout",
     "output_type": "stream",
     "text": [
      "there are 4 common categories and 300 samples. The bad and other categories are only for persons\n",
      "amir has opted to select other category 68 times and thinks 20 samples are bad\n",
      "abram agreeing with mme 122\n",
      "amir agreeing with mme 122\n",
      "abram agreeing with amir 300\n",
      "both persons agreeing with mme 122\n"
     ]
    }
   ],
   "source": [
    "df=df.replace(\"kick\",\"k\")\n",
    "df=df.replace(\"snare\",\"s\")\n",
    "df=df.replace(\"hat\",\"h\")\n",
    "df=df.replace(\"clap\",\"c\")\n",
    "print(\"there are 4 common categories and 300 samples. The bad and other categories are only for persons\")\n",
    "print(\"amir has opted to select other category %d times and thinks %d samples are bad\"%(sum(df[\"amir\"]==\"o\"),sum(df[\"abram\"]==\"b\")))\n",
    "print(\"abram agreeing with mme\",np.sum(df[\"abram\"]==df[\"mme\"]))\n",
    "print(\"amir agreeing with mme\",np.sum(df[\"amir\"]==df[\"mme\"]))\n",
    "print(\"abram agreeing with amir\",np.sum(df[\"abram\"]==df[\"amir\"]))\n",
    "print(\"both persons agreeing with mme\",np.sum((df[\"abram\"]==df[\"amir\"]) &\n",
    "                                        (df[\"abram\"]==df[\"mme\"])))\n"
   ]
  },
  {
   "cell_type": "code",
   "execution_count": 4,
   "metadata": {},
   "outputs": [],
   "source": [
    "#make a 2d array for fleiss kappa\n",
    "cats=[\"b\",\"o\",\"h\",\"k\",\"s\",\"c\"]\n",
    "def count_cats(i,r):\n",
    "    cat_counts=[0]*len(cats)\n",
    "    for c in r:\n",
    "        j=cats.index(c)\n",
    "        cat_counts[j]=cat_counts[j]+1\n",
    "    M.append(cat_counts) \n",
    "\n",
    "M=[]\n",
    "for i,r in df.iterrows():\n",
    "    count_cats(i,r[1:])"
   ]
  },
  {
   "cell_type": "code",
   "execution_count": 5,
   "metadata": {},
   "outputs": [
    {
     "name": "stdout",
     "output_type": "stream",
     "text": [
      " kappa of 2 humans and 4 models\n"
     ]
    },
    {
     "data": {
      "text/plain": [
       "0.5253333333333332"
      ]
     },
     "execution_count": 5,
     "metadata": {},
     "output_type": "execute_result"
    }
   ],
   "source": [
    "M=[]\n",
    "for i,r in df.iterrows():\n",
    "    count_cats(i,r[1:])\n",
    "print(\" kappa of 2 humans and 4 models\")\n",
    "inter.fleiss_kappa(M,method='uniform')"
   ]
  },
  {
   "cell_type": "code",
   "execution_count": 6,
   "metadata": {},
   "outputs": [
    {
     "name": "stdout",
     "output_type": "stream",
     "text": [
      "kappa of 2 humans\n"
     ]
    },
    {
     "data": {
      "text/plain": [
       "1.0"
      ]
     },
     "execution_count": 6,
     "metadata": {},
     "output_type": "execute_result"
    }
   ],
   "source": [
    "print(\"kappa of 2 humans\")\n",
    "M=[]\n",
    "for i,r in df[[\"name\",\"abram\",\"amir\"]].iterrows():\n",
    "    count_cats(i,r[1:])\n",
    "inter.fleiss_kappa(M,method='uniform')"
   ]
  },
  {
   "cell_type": "code",
   "execution_count": 7,
   "metadata": {},
   "outputs": [
    {
     "name": "stdout",
     "output_type": "stream",
     "text": [
      "kappa of people + mme\n"
     ]
    },
    {
     "data": {
      "text/plain": [
       "0.28800000000000003"
      ]
     },
     "execution_count": 7,
     "metadata": {},
     "output_type": "execute_result"
    }
   ],
   "source": [
    "print(\"kappa of people + mme\")\n",
    "M=[]\n",
    "for i,r in df[[\"name\",\"abram\",\"mme\"]].iterrows():\n",
    "    count_cats(i,r[1:])\n",
    "inter.fleiss_kappa(M,method='uniform')"
   ]
  },
  {
   "cell_type": "code",
   "execution_count": 8,
   "metadata": {},
   "outputs": [
    {
     "name": "stdout",
     "output_type": "stream",
     "text": [
      "(280, 4)\n",
      " kappa of 2 people and mme\n"
     ]
    },
    {
     "data": {
      "text/plain": [
       "0.5485714285714287"
      ]
     },
     "execution_count": 8,
     "metadata": {},
     "output_type": "execute_result"
    }
   ],
   "source": [
    "#what happens if we delete the bad rows?\n",
    "df_nb=df[~((df[\"abram\"]==\"b\") | (df[\"amir\"]==\"b\")) ]\n",
    "print(df_nb.shape)\n",
    "M=[]\n",
    "for i,r in df_nb.iterrows():\n",
    "    count_cats(i,r[1:])\n",
    "print(\" kappa of 2 people and mme\")\n",
    "inter.fleiss_kappa(M,method='uniform')"
   ]
  },
  {
   "cell_type": "code",
   "execution_count": 9,
   "metadata": {},
   "outputs": [
    {
     "name": "stdout",
     "output_type": "stream",
     "text": [
      "kappa of 2 humans\n"
     ]
    },
    {
     "data": {
      "text/plain": [
       "1.0"
      ]
     },
     "execution_count": 9,
     "metadata": {},
     "output_type": "execute_result"
    }
   ],
   "source": [
    "print(\"kappa of 2 humans\")\n",
    "M=[]\n",
    "for i,r in df_nb[[\"name\",\"abram\",\"amir\"]].iterrows():\n",
    "    count_cats(i,r[1:])\n",
    "inter.fleiss_kappa(M,method='uniform')"
   ]
  },
  {
   "cell_type": "code",
   "execution_count": null,
   "metadata": {},
   "outputs": [],
   "source": []
  },
  {
   "cell_type": "code",
   "execution_count": 10,
   "metadata": {},
   "outputs": [
    {
     "name": "stdout",
     "output_type": "stream",
     "text": [
      "               clap   hat  kick  snare\n",
      "drum_category   690  2049   803   1098 \n",
      "         b  c   h   k   o   s\n",
      "abram  20  9  42  84  68  77 \n",
      "        b  c   h   k   o   s\n",
      "amir  20  9  42  84  68  77\n"
     ]
    }
   ],
   "source": [
    "all_predictions=pd.read_csv(\"model_predictions.csv\")\n",
    "all_predictions.columns=[\"name\",\"stack_size\",\"drum_category\",\"iteration\"]\n",
    "vmme=all_predictions[\"drum_category\"].value_counts().sort_index(ascending=True)\n",
    "\n",
    "vab=df[\"abram\"].value_counts().sort_index(ascending=True)\n",
    "va=df[\"amir\"].value_counts().sort_index(ascending=True)\n",
    "print(vmme.to_frame().T,\"\\n\",vab.to_frame().T,\"\\n\",va.to_frame().T)"
   ]
  },
  {
   "cell_type": "code",
   "execution_count": 11,
   "metadata": {},
   "outputs": [],
   "source": [
    "# [b , c, h , k , o , s]\n",
    "def percentage_calc(a):\n",
    "    name=a[0]\n",
    "    vals=a[1:]\n",
    "    s=np.sum(vals)\n",
    "    percentaged=[v/s for v in vals]\n",
    "    return [name]+percentaged\n",
    "\n",
    "mme=percentage_calc([\"mme\",0,690,2049,803,0,1098]) #calculated from shell\n",
    "p1=percentage_calc([\"Person1\",20,9,42,84,68,77]) #amir\n",
    "p2=percentage_calc([\"Person2\",46,18,50,62,17,64]) #abram"
   ]
  },
  {
   "cell_type": "code",
   "execution_count": 12,
   "metadata": {},
   "outputs": [
    {
     "ename": "NameError",
     "evalue": "name 'plt' is not defined",
     "output_type": "error",
     "traceback": [
      "\u001b[0;31m---------------------------------------------------------------------------\u001b[0m",
      "\u001b[0;31mNameError\u001b[0m                                 Traceback (most recent call last)",
      "\u001b[0;32m<ipython-input-12-77c6b7733fc2>\u001b[0m in \u001b[0;36m<module>\u001b[0;34m\u001b[0m\n\u001b[0;32m----> 1\u001b[0;31m \u001b[0mplt\u001b[0m\u001b[0;34m.\u001b[0m\u001b[0mstyle\u001b[0m\u001b[0;34m.\u001b[0m\u001b[0mavailable\u001b[0m\u001b[0;34m\u001b[0m\u001b[0;34m\u001b[0m\u001b[0m\n\u001b[0m",
      "\u001b[0;31mNameError\u001b[0m: name 'plt' is not defined"
     ]
    }
   ],
   "source": [
    "plt.style.available"
   ]
  },
  {
   "cell_type": "code",
   "execution_count": 82,
   "metadata": {},
   "outputs": [
    {
     "name": "stdout",
     "output_type": "stream",
     "text": [
      "                  Bad      Clap       Hat      Kick     Other     Snare\n",
      "categorizer                                                            \n",
      "Person1      0.066667  0.030000  0.140000  0.280000  0.226667  0.256667\n",
      "Person2      0.178988  0.070039  0.194553  0.241245  0.066148  0.249027\n",
      "mme          0.000000  0.148707  0.441595  0.173060  0.000000  0.236638\n"
     ]
    },
    {
     "data": {
      "image/png": "[encoded data removed]",
      "text/plain": [
       "<Figure size 720x288 with 1 Axes>"
      ]
     },
     "metadata": {
      "needs_background": "light"
     },
     "output_type": "display_data"
    }
   ],
   "source": [
    "\n",
    "import matplotlib\n",
    "import matplotlib.pyplot as plt\n",
    "\n",
    "import matplotlib as mpl\n",
    "\n",
    "\n",
    "from matplotlib import cm\n",
    "\n",
    "\n",
    "\n",
    "bf=pd.DataFrame(columns=[\"categorizer\",\"Bad\",\"Clap\",\"Hat\",\"Kick\",\"Other\",\"Snare\"],\n",
    "               data=[p1,p2,mme])\n",
    "bf=bf.set_index(\"categorizer\")\n",
    "\n",
    "c=cm.get_cmap(\"GnBu_r\",10)\n",
    "\n",
    "\n",
    "\n",
    "# plt.figure(figsize=(2,1))\n",
    "ax=bf.plot(kind='bar',rot=0,color=c(np.linspace(0.05,1,6)),linewidth=2, width=0.7)\n",
    "patterns =('-', '+', 'x','/','//','O','o','\\\\','\\\\\\\\')\n",
    "bars = ax.patches\n",
    "hatches = ''.join(h*len(bf) for h in [\"*\",\"x\",\"o\",\".\",\"/\",\"O\"])\n",
    "\n",
    "for bar, hatch in zip(bars, hatches):\n",
    "    bar.set_hatch(hatch)\n",
    "    bar.set_edgecolor(\"black\")\n",
    "    bar.set_linewidth(2)\n",
    "    \n",
    "plt.gcf().set_size_inches(10, 4)\n",
    "plt.legend(bbox_to_anchor=(1, 1),loc='upper left', ncol=1,prop={'size': 20},)\n",
    "plt.ylabel(\"Percentage\",fontsize=19)\n",
    "plt.xlabel(\"Categorizer\",fontsize=20)\n",
    "plt.tick_params(axis='x', which='major', labelsize=18)\n",
    "plt.title(\"Categorization of Humans and Averaged Model\",fontsize=19)\n",
    "\n",
    "plt.savefig(\"cat.pdf\",bbox_inches='tight',dpi=1000)\n"
   ]
  }
 ],
 "metadata": {
  "kernelspec": {
   "display_name": "Python 3",
   "language": "python",
   "name": "python3"
  },
  "language_info": {
   "codemirror_mode": {
    "name": "ipython",
    "version": 3
   },
   "file_extension": ".py",
   "mimetype": "text/x-python",
   "name": "python",
   "nbconvert_exporter": "python",
   "pygments_lexer": "ipython3",
   "version": "3.7.5"
  }
 },
 "nbformat": 4,
 "nbformat_minor": 4
}
