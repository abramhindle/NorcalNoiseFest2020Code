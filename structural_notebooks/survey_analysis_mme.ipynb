{
 "cells": [
  {
   "cell_type": "code",
   "execution_count": 123,
   "metadata": {},
   "outputs": [],
   "source": [
    "import pandas as pd\n",
    "import numpy as np\n",
    "import statsmodels.stats.inter_rater as inter\n",
    "# \n",
    "df2=pd.read_csv(\"./survey2/amir_answers.csv\")\n",
    "df1=pd.read_csv(\"./survey2/abram_answers.csv\")\n",
    "df1=df1.drop(columns=[\"Unnamed: 2\",\"Unnamed: 3\"])\n",
    "df3=pd.read_csv(\"./survey2/mme_answers.csv\")\n",
    "\n",
    "df1.columns=[\"name\",\"drum_category\"]\n",
    "df2.columns=[\"name\",\"drum_category\"]\n",
    "df3.columns=[\"name\",\"stack_size\",\"drum_category\",\"iteration\"]"
   ]
  },
  {
   "cell_type": "code",
   "execution_count": 151,
   "metadata": {},
   "outputs": [
    {
     "name": "stdout",
     "output_type": "stream",
     "text": [
      "300 300 300\n"
     ]
    }
   ],
   "source": [
    "df1=df1[[\"name\",\"drum_category\"]]\n",
    "df2=df2[[\"name\",\"drum_category\"]]\n",
    "#check to see if they're sorted the same way\n",
    "print(np.sum(df1[\"name\"]==df2[\"name\"]),\n",
    "      np.sum(df3[\"name\"]==df2[\"name\"]),\n",
    "      np.sum(df3[\"name\"]==df2[\"name\"]))\n",
    "df=pd.DataFrame()\n",
    "df[\"name\"]=df1[\"name\"].copy()\n",
    "\n",
    "df[\"abram\"]=df1[\"drum_category\"]\n",
    "df[\"amir\"]=df2[\"drum_category\"]\n",
    "df[\"mme\"]=df3[\"drum_category\"]\n",
    "\n",
    "df=df.drop([\"name\"],axis=1)"
   ]
  },
  {
   "cell_type": "code",
   "execution_count": 185,
   "metadata": {},
   "outputs": [
    {
     "name": "stdout",
     "output_type": "stream",
     "text": [
      "there are 4 common categories and 300 samples. The bad and other categories are only for persons\n",
      "amir has opted to select other category 54 times and thinks 67 samples are bad\n",
      "abram has opted to select other category 15 times and thinks 133 samples are bad\n",
      "abram agreeing with mme 98\n",
      "amir agreeing with mme 105\n",
      "abram agreeing with amir 134\n",
      "both persons agreeing with mme 60\n"
     ]
    }
   ],
   "source": [
    "df=df.replace(\"kick\",\"k\")\n",
    "df=df.replace(\"snare\",\"s\")\n",
    "df=df.replace(\"hat\",\"h\")\n",
    "df=df.replace(\"clap\",\"c\")\n",
    "print(\"there are 4 common categories and 300 samples. The bad and other categories are only for persons\")\n",
    "print(\"amir has opted to select other category %d times and thinks %d samples are bad\"%(sum(df[\"amir\"]==\"o\"),sum(df[\"amir\"]==\"b\")))\n",
    "print(\"abram has opted to select other category %d times and thinks %d samples are bad\"%(sum(df[\"abram\"]==\"o\"),sum(df[\"abram\"]==\"b\")))\n",
    "print(\"abram agreeing with mme\",np.sum(df[\"abram\"]==df[\"mme\"]))\n",
    "print(\"amir agreeing with mme\",np.sum(df[\"amir\"]==df[\"mme\"]))\n",
    "print(\"abram agreeing with amir\",np.sum(df[\"abram\"]==df[\"amir\"]))\n",
    "print(\"both persons agreeing with mme\",np.sum((df[\"abram\"]==df[\"amir\"]) &\n",
    "                                        (df[\"abram\"]==df[\"mme\"])))\n"
   ]
  },
  {
   "cell_type": "code",
   "execution_count": 187,
   "metadata": {},
   "outputs": [
    {
     "data": {
      "text/plain": [
       "(300, 6)"
      ]
     },
     "execution_count": 187,
     "metadata": {},
     "output_type": "execute_result"
    }
   ],
   "source": [
    "#make a 2d array for fleiss kappa\n",
    "cats=[\"b\",\"o\",\"h\",\"k\",\"s\",\"c\"]\n",
    "def count_cats(i,r):\n",
    "    cat_counts=[0]*len(cats)\n",
    "    for c in r:\n",
    "        j=cats.index(c)\n",
    "        cat_counts[j]=cat_counts[j]+1\n",
    "    M.append(cat_counts) \n",
    "\n",
    "M=[]\n",
    "for i,r in df.iterrows():\n",
    "    count_cats(i,r)\n",
    "np.array(M).shape\n"
   ]
  },
  {
   "cell_type": "code",
   "execution_count": 188,
   "metadata": {},
   "outputs": [
    {
     "name": "stdout",
     "output_type": "stream",
     "text": [
      "kappa of 2  people\n"
     ]
    },
    {
     "data": {
      "text/plain": [
       "0.336"
      ]
     },
     "execution_count": 188,
     "metadata": {},
     "output_type": "execute_result"
    }
   ],
   "source": [
    "print(\"kappa of 2  people\")\n",
    "M=[]\n",
    "for i,r in df[[\"abram\",\"amir\"]].iterrows():\n",
    "    count_cats(i,r)\n",
    "inter.fleiss_kappa(M,method='uniform')\n"
   ]
  },
  {
   "cell_type": "code",
   "execution_count": 189,
   "metadata": {},
   "outputs": [
    {
     "name": "stdout",
     "output_type": "stream",
     "text": [
      "kappa of people + mme\n"
     ]
    },
    {
     "data": {
      "text/plain": [
       "0.24933333333333335"
      ]
     },
     "execution_count": 189,
     "metadata": {},
     "output_type": "execute_result"
    }
   ],
   "source": [
    "print(\"kappa of people + mme\")\n",
    "M=[]\n",
    "for i,r in df[[\"amir\",\"abram\",\"mme\"]].iterrows():\n",
    "    count_cats(i,r)\n",
    "inter.fleiss_kappa(M,method='uniform')"
   ]
  },
  {
   "cell_type": "markdown",
   "metadata": {},
   "source": [
    "# Dropping bad or other samples"
   ]
  },
  {
   "cell_type": "code",
   "execution_count": 190,
   "metadata": {},
   "outputs": [
    {
     "name": "stdout",
     "output_type": "stream",
     "text": [
      "(151, 3)\n",
      "kappa of 2 persons\n",
      "0.45960264900662257\n",
      "kappa of people + mme\n",
      "0.4728476821192053\n"
     ]
    }
   ],
   "source": [
    "#what happens if we delete the bad rows?\n",
    "\n",
    "df_nb= df[~((df[\"abram\"]==\"b\") | (df[\"amir\"]==\"b\") ) ]  #all bads\n",
    "# df_nb= df[~((df[\"abram\"]==\"b\") | (df[\"amir\"]==\"b\") | (df[\"amir\"]==\"o\") | (df[\"abram\"]==\"o\")) ] #all bads and others\n",
    "print(df_nb.shape)\n",
    "print(\"kappa of 2 persons\")\n",
    "M=[]\n",
    "for i,r in df_nb[[\"abram\",\"amir\"]].iterrows():\n",
    "    count_cats(i,r)\n",
    "print(inter.fleiss_kappa(M,method='uniform'))\n",
    "\n",
    "print(\"kappa of people + mme\")\n",
    "M=[]\n",
    "for i,r in df_nb[[\"amir\",\"abram\",\"mme\"]].iterrows():\n",
    "    count_cats(i,r)\n",
    "print(inter.fleiss_kappa(M,method='uniform'))\n"
   ]
  },
  {
   "cell_type": "code",
   "execution_count": 191,
   "metadata": {},
   "outputs": [
    {
     "name": "stdout",
     "output_type": "stream",
     "text": [
      "kappa of 2 persons\n"
     ]
    },
    {
     "data": {
      "text/plain": [
       "0.45960264900662257"
      ]
     },
     "execution_count": 191,
     "metadata": {},
     "output_type": "execute_result"
    }
   ],
   "source": [
    "print(\"kappa of 2 persons\")\n",
    "M=[]\n",
    "for i,r in df_nb[[\"abram\",\"amir\"]].iterrows():\n",
    "    count_cats(i,r)\n",
    "inter.fleiss_kappa(M,method='uniform')"
   ]
  },
  {
   "cell_type": "code",
   "execution_count": 192,
   "metadata": {},
   "outputs": [
    {
     "name": "stdout",
     "output_type": "stream",
     "text": [
      "kappa of people + mme\n"
     ]
    },
    {
     "data": {
      "text/plain": [
       "0.4728476821192053"
      ]
     },
     "execution_count": 192,
     "metadata": {},
     "output_type": "execute_result"
    }
   ],
   "source": [
    "print(\"kappa of people + mme\")\n",
    "M=[]\n",
    "for i,r in df_nb[[\"amir\",\"abram\",\"mme\"]].iterrows():\n",
    "    count_cats(i,r)\n",
    "inter.fleiss_kappa(M,method='uniform')"
   ]
  },
  {
   "cell_type": "code",
   "execution_count": 137,
   "metadata": {},
   "outputs": [
    {
     "name": "stdout",
     "output_type": "stream",
     "text": [
      "               clap  hat  kick  snare\n",
      "drum_category    75   75    75     75 \n",
      "          b   c   h   k   o   s\n",
      "abram  133  10  39  60  15  43 \n",
      "        b   c   h   k   o   s\n",
      "amir  67  19  36  58  54  66\n"
     ]
    }
   ],
   "source": [
    "all_predictions=pd.read_csv(\"survey2/mme_answers.csv\")\n",
    "all_predictions.columns=[\"name\",\"stack_size\",\"drum_category\",\"iteration\"]\n",
    "vmme=all_predictions[\"drum_category\"].value_counts().sort_index(ascending=True)\n",
    "\n",
    "vab=df[\"abram\"].value_counts().sort_index(ascending=True)\n",
    "va=df[\"amir\"].value_counts().sort_index(ascending=True)\n",
    "print(vmme.to_frame().T,\"\\n\",vab.to_frame().T,\"\\n\",va.to_frame().T)"
   ]
  },
  {
   "cell_type": "code",
   "execution_count": 81,
   "metadata": {},
   "outputs": [],
   "source": [
    "# [b , c, h , k , o , s]\n",
    "def percentage_calc(a):\n",
    "    name=a[0]\n",
    "    vals=a[1:]\n",
    "    s=np.sum(vals)\n",
    "    percentaged=[v/s for v in vals]\n",
    "    return [name]+percentaged\n",
    "\n",
    "# mme=percentage_calc([\"MEM\",0,690,2049,803,0,1098]) #calculated from shell\n",
    "mme=percentage_calc([\"Ground Truth\",0,75,75,75,0,75]) #calculated from shell\n",
    "\n",
    "p1=percentage_calc([\"Person1\",133,10,39,60,15,43 ]) #amir\n",
    "p2=percentage_calc([\"Person2\",67,19,36,58,54,66]) #abram"
   ]
  },
  {
   "cell_type": "code",
   "execution_count": 82,
   "metadata": {},
   "outputs": [
    {
     "data": {
      "image/png": "[encoded data removed]",
      "text/plain": [
       "<Figure size 720x288 with 1 Axes>"
      ]
     },
     "metadata": {
      "needs_background": "light"
     },
     "output_type": "display_data"
    }
   ],
   "source": [
    "\n",
    "import matplotlib\n",
    "import matplotlib.pyplot as plt\n",
    "\n",
    "import matplotlib as mpl\n",
    "\n",
    "\n",
    "from matplotlib import cm\n",
    "\n",
    "\n",
    "\n",
    "bf=pd.DataFrame(columns=[\"categorizer\",\"Bad\",\"Clap\",\"Hat\",\"Kick\",\"Other\",\"Snare\"],\n",
    "               data=[p1,p2,mme])\n",
    "bf=bf.set_index(\"categorizer\")\n",
    "\n",
    "c=cm.get_cmap(\"GnBu_r\",10)\n",
    "\n",
    "\n",
    "\n",
    "# plt.figure(figsize=(2,1))\n",
    "ax=bf.plot(kind='bar',rot=0,color=c(np.linspace(0.05,1,6)),linewidth=2, width=0.7)\n",
    "patterns =('-', '+', 'x','/','//','O','o','\\\\','\\\\\\\\')\n",
    "bars = ax.patches\n",
    "hatches = ''.join(h*len(bf) for h in [\"*\",\"x\",\"o\",\".\",\"/\",\"O\"])\n",
    "\n",
    "for bar, hatch in zip(bars, hatches):\n",
    "    bar.set_hatch(hatch)\n",
    "    bar.set_edgecolor(\"black\")\n",
    "    bar.set_linewidth(2)\n",
    "    \n",
    "plt.gcf().set_size_inches(10, 4)\n",
    "plt.legend(bbox_to_anchor=(1, 1),loc='upper left', ncol=1,prop={'size': 20},)\n",
    "plt.ylabel(\"Percentage\",fontsize=19)\n",
    "plt.xlabel(\"Categorizer\",fontsize=20)\n",
    "plt.tick_params(axis='x', which='major', labelsize=18)\n",
    "plt.tick_params(axis='y', which='major', labelsize=18)\n",
    "# plt.title(\"Categorization Proportions\",fontsize=)\n",
    "# plt.show()\n",
    "plt.savefig(\"cat_mme.pdf\",bbox_inches='tight',dpi=1000)\n"
   ]
  }
 ],
 "metadata": {
  "kernelspec": {
   "display_name": "Python 3",
   "language": "python",
   "name": "python3"
  },
  "language_info": {
   "codemirror_mode": {
    "name": "ipython",
    "version": 3
   },
   "file_extension": ".py",
   "mimetype": "text/x-python",
   "name": "python",
   "nbconvert_exporter": "python",
   "pygments_lexer": "ipython3",
   "version": "3.7.5"
  }
 },
 "nbformat": 4,
 "nbformat_minor": 4
}
