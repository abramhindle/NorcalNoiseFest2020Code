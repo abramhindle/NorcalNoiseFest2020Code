{
 "cells": [
  {
   "cell_type": "code",
   "execution_count": 75,
   "metadata": {},
   "outputs": [
    {
     "data": {
      "text/plain": [
       "Index(['name', 'fc', 'fc_cat', 'cnn_cat', 'env_and_freq_cat', 'average_cat',\n",
       "       'stack_size', 'iteration_num'],\n",
       "      dtype='object')"
      ]
     },
     "execution_count": 75,
     "metadata": {},
     "output_type": "execute_result"
    }
   ],
   "source": [
    "import pandas as pd\n",
    "import numpy as np\n",
    "import statsmodels.stats.inter_rater as inter\n",
    "# \n",
    "df1=pd.read_csv(\"./survey1/abram_answers.csv\")\n",
    "df2=pd.read_csv(\"./survey1/amir_answers.csv\")\n",
    "df3=pd.read_csv(\"./survey1/computer_answers.csv\")\n",
    "df3.columns"
   ]
  },
  {
   "cell_type": "code",
   "execution_count": 76,
   "metadata": {},
   "outputs": [
    {
     "name": "stdout",
     "output_type": "stream",
     "text": [
      "257 257 257\n"
     ]
    }
   ],
   "source": [
    "df1=df1[[\"name\",\"drum_category\"]]\n",
    "df2=df2[[\"name\",\"drum_category\"]]\n",
    "#check to see if they're sorted the same way\n",
    "print(np.sum(df1[\"name\"]==df2[\"name\"]),\n",
    "      np.sum(df3[\"name\"]==df2[\"name\"]),\n",
    "      np.sum(df3[\"name\"]==df2[\"name\"]))\n",
    "df=pd.DataFrame()\n",
    "df[\"name\"]=df1[\"name\"].copy()\n",
    "\n",
    "df[\"abram\"]=df1[\"drum_category\"]\n",
    "df[\"amir\"]=df2[\"drum_category\"]\n",
    "df[\"c1\"]=df3[\"average_cat\"]\n",
    "df[\"c2\"]=df3[\"cnn_cat\"]\n",
    "df[\"c3\"]=df3[\"env_and_freq_cat\"]\n",
    "df[\"c4\"]=df3[\"fc_cat\"]"
   ]
  },
  {
   "cell_type": "code",
   "execution_count": 77,
   "metadata": {},
   "outputs": [
    {
     "name": "stdout",
     "output_type": "stream",
     "text": [
      "there are 6 categories and 257 samples the bad category is only for humans\n",
      "abram agreeing with averaged categorizer 113\n",
      "amir agreeing with averaged categorizer 121\n",
      "abram agreeing with amir 122\n",
      "both  humans agreeing with averaged categorizer 76\n",
      "both humans agreeing with cnn categorizer 76\n",
      "both humans agreeing with env+freq categorizer 46\n",
      "both  humans agreeing with fully connected categorizer 78\n"
     ]
    }
   ],
   "source": [
    "df=df.replace(\"kick\",\"k\")\n",
    "df=df.replace(\"rim\",\"o\")\n",
    "df=df.replace(\"snare\",\"s\")\n",
    "df=df.replace(\"hat\",\"h\")\n",
    "df=df.replace(\"clap\",\"c\")\n",
    "# df=df.replace(\"c\",\"s\")\n",
    "print(\"there are 6 categories and 257 samples the bad category is only for humans\")\n",
    "print(\"abram agreeing with averaged categorizer\",np.sum(df[\"abram\"]==df[\"c1\"]))\n",
    "print(\"amir agreeing with averaged categorizer\",np.sum(df[\"amir\"]==df[\"c1\"]))\n",
    "print(\"abram agreeing with amir\",np.sum(df[\"abram\"]==df[\"amir\"]))\n",
    "\n",
    "print(\"both  humans agreeing with averaged categorizer\",np.sum((df[\"abram\"]==df[\"amir\"]) &\n",
    "                                        (df[\"abram\"]==df[\"c1\"])))\n",
    "print(\"both humans agreeing with cnn categorizer\",np.sum((df[\"abram\"]==df[\"amir\"]) &\n",
    "                                        (df[\"abram\"]==df[\"c2\"])))\n",
    "print(\"both humans agreeing with env+freq categorizer\",np.sum((df[\"abram\"]==df[\"amir\"]) &\n",
    "                                        (df[\"abram\"]==df[\"c3\"])))\n",
    "print(\"both  humans agreeing with fully connected categorizer\",np.sum((df[\"abram\"]==df[\"amir\"]) &\n",
    "                                        (df[\"abram\"]==df[\"c4\"])))\n"
   ]
  },
  {
   "cell_type": "code",
   "execution_count": 78,
   "metadata": {},
   "outputs": [],
   "source": [
    "#make a 2d array for fleiss kappa\n",
    "cats=[\"b\",\"o\",\"h\",\"k\",\"s\",\"c\"]\n",
    "def count_cats(i,r):\n",
    "    cat_counts=[0]*len(cats)\n",
    "    for c in r:\n",
    "        j=cats.index(c)\n",
    "        cat_counts[j]=cat_counts[j]+1\n",
    "    M.append(cat_counts) \n",
    "\n",
    "M=[]\n",
    "for i,r in df.iterrows():\n",
    "    count_cats(i,r[1:])\n"
   ]
  },
  {
   "cell_type": "code",
   "execution_count": 89,
   "metadata": {},
   "outputs": [
    {
     "name": "stdout",
     "output_type": "stream",
     "text": [
      " kappa of 2 humans and 4 models\n"
     ]
    },
    {
     "data": {
      "text/plain": [
       "0.45822222222222236"
      ]
     },
     "execution_count": 89,
     "metadata": {},
     "output_type": "execute_result"
    }
   ],
   "source": [
    "M=[]\n",
    "for i,r in df[[\"name\",\"abram\",\"amir\",\"c1\",\"c3\",\"c2\",\"c4\"]].iterrows():\n",
    "    count_cats(i,r[1:])\n",
    "print(\" kappa of 2 humans and 4 models\")\n",
    "inter.fleiss_kappa(M,method='uniform')"
   ]
  },
  {
   "cell_type": "code",
   "execution_count": 90,
   "metadata": {},
   "outputs": [
    {
     "name": "stdout",
     "output_type": "stream",
     "text": [
      "kappa of 2 humans\n"
     ]
    },
    {
     "data": {
      "text/plain": [
       "0.4733333333333334"
      ]
     },
     "execution_count": 90,
     "metadata": {},
     "output_type": "execute_result"
    }
   ],
   "source": [
    "print(\"kappa of 2 humans\")\n",
    "M=[]\n",
    "for i,r in df[[\"name\",\"abram\",\"amir\"]].iterrows():\n",
    "    count_cats(i,r[1:])\n",
    "inter.fleiss_kappa(M,method='uniform')"
   ]
  },
  {
   "cell_type": "code",
   "execution_count": 93,
   "metadata": {},
   "outputs": [],
   "source": [
    "#dropping bads\n",
    "# df=df[(df[\"amir\"]!=\"b\") | (df[\"abram\"]!=\"b\")]\n",
    "# df=df[(df[\"amir\"]!=\"b\") | (df[\"abram\"]!=\"b\")]\n"
   ]
  },
  {
   "cell_type": "code",
   "execution_count": 92,
   "metadata": {},
   "outputs": [
    {
     "name": "stdout",
     "output_type": "stream",
     "text": [
      "kappa of 2 humans + cnn or fc\n",
      "0.48\n",
      "0.5000000000000001\n",
      "0.3444444444444445\n"
     ]
    }
   ],
   "source": [
    "\n",
    "print(\"kappa of 2 humans + cnn or fc\")\n",
    "M=[]\n",
    "for i,r in df[[\"name\",\"abram\",\"amir\",\"c2\"]].iterrows():\n",
    "    count_cats(i,r[1:])\n",
    "print(inter.fleiss_kappa(M,method='uniform'))\n",
    "M=[]\n",
    "for i,r in df[[\"name\",\"abram\",\"amir\",\"c4\"]].iterrows():\n",
    "    count_cats(i,r[1:])\n",
    "print(inter.fleiss_kappa(M,method='uniform'))\n",
    "M=[]\n",
    "for i,r in df[[\"name\",\"c3\",\"c2\",\"c4\"]].iterrows():\n",
    "    count_cats(i,r[1:])\n",
    "print(inter.fleiss_kappa(M,method='uniform'))"
   ]
  },
  {
   "cell_type": "code",
   "execution_count": 8,
   "metadata": {},
   "outputs": [
    {
     "name": "stdout",
     "output_type": "stream",
     "text": [
      "kappa of 2 humans + cnn or fc\n",
      "0.3540856031128404\n",
      "0.35719844357976643\n",
      "0.2840466926070038\n"
     ]
    }
   ],
   "source": [
    "print(\"kappa of 2 humans + cnn or fc\")\n",
    "M=[]\n",
    "for i,r in df[[\"name\",\"abram\",\"amir\",\"c2\"]].iterrows():\n",
    "    count_cats(i,r[1:])\n",
    "print(inter.fleiss_kappa(M,method='uniform'))\n",
    "M=[]\n",
    "for i,r in df[[\"name\",\"abram\",\"amir\",\"c4\"]].iterrows():\n",
    "    count_cats(i,r[1:])\n",
    "print(inter.fleiss_kappa(M,method='uniform'))\n",
    "M=[]\n",
    "for i,r in df[[\"name\",\"c3\",\"c2\",\"c4\"]].iterrows():\n",
    "    count_cats(i,r[1:])\n",
    "print(inter.fleiss_kappa(M,method='uniform'))"
   ]
  },
  {
   "cell_type": "code",
   "execution_count": 9,
   "metadata": {},
   "outputs": [
    {
     "name": "stdout",
     "output_type": "stream",
     "text": [
      "(180, 7)\n",
      " kappa of 2 humans and 4 models\n"
     ]
    },
    {
     "data": {
      "text/plain": [
       "0.45822222222222236"
      ]
     },
     "execution_count": 9,
     "metadata": {},
     "output_type": "execute_result"
    }
   ],
   "source": [
    "#what happens if we delete the bad rows?\n",
    "df_nb=df[~((df[\"abram\"]==\"b\") | (df[\"amir\"]==\"b\")) ]\n",
    "print(df_nb.shape)\n",
    "M=[]\n",
    "for i,r in df_nb.iterrows():\n",
    "    count_cats(i,r[1:])\n",
    "print(\" kappa of 2 humans and 4 models\")\n",
    "inter.fleiss_kappa(M,method='uniform')"
   ]
  },
  {
   "cell_type": "code",
   "execution_count": 10,
   "metadata": {},
   "outputs": [
    {
     "name": "stdout",
     "output_type": "stream",
     "text": [
      "kappa of 2 humans\n"
     ]
    },
    {
     "data": {
      "text/plain": [
       "0.4733333333333334"
      ]
     },
     "execution_count": 10,
     "metadata": {},
     "output_type": "execute_result"
    }
   ],
   "source": [
    "print(\"kappa of 2 humans\")\n",
    "M=[]\n",
    "for i,r in df_nb[[\"name\",\"abram\",\"amir\"]].iterrows():\n",
    "    count_cats(i,r[1:])\n",
    "inter.fleiss_kappa(M,method='uniform')"
   ]
  },
  {
   "cell_type": "code",
   "execution_count": 11,
   "metadata": {},
   "outputs": [
    {
     "name": "stdout",
     "output_type": "stream",
     "text": [
      "kappa of 2 humans and fc \n"
     ]
    },
    {
     "data": {
      "text/plain": [
       "0.5000000000000001"
      ]
     },
     "execution_count": 11,
     "metadata": {},
     "output_type": "execute_result"
    }
   ],
   "source": [
    "print(\"kappa of 2 humans and fc \")\n",
    "M=[]\n",
    "for i,r in df_nb[[\"name\",\"abram\",\"amir\",\"c4\"]].iterrows():\n",
    "    count_cats(i,r[1:])\n",
    "inter.fleiss_kappa(M,method='uniform')\n"
   ]
  },
  {
   "cell_type": "code",
   "execution_count": 12,
   "metadata": {},
   "outputs": [
    {
     "name": "stdout",
     "output_type": "stream",
     "text": [
      "0.2840466926070038\n"
     ]
    }
   ],
   "source": [
    "M=[]\n",
    "for i,r in df[[\"name\",\"c3\",\"c2\",\"c4\"]].iterrows():\n",
    "    count_cats(i,r[1:])\n",
    "print(inter.fleiss_kappa(M,method='uniform'))"
   ]
  },
  {
   "cell_type": "code",
   "execution_count": 13,
   "metadata": {},
   "outputs": [
    {
     "data": {
      "text/plain": [
       "102"
      ]
     },
     "execution_count": 13,
     "metadata": {},
     "output_type": "execute_result"
    }
   ],
   "source": [
    "models=[\"abram\",\"amir\",\"c1\",\"c2\",\"c3\",\"c4\"]\n",
    "cats=[\"b\",\"o\",\"h\",\"k\",\"s\",\"c\"]\n",
    "np.sum(df[\"c4\"]==\"k\")\n",
    "\n"
   ]
  },
  {
   "cell_type": "code",
   "execution_count": 14,
   "metadata": {},
   "outputs": [],
   "source": [
    "vdf=pd.DataFrame()\n",
    "vc4=df[\"c4\"].value_counts()\n",
    "vc3=df[\"c3\"].value_counts()\n",
    "vc2=df[\"c2\"].value_counts()\n",
    "\n",
    "\n",
    "vab=df[\"abram\"].value_counts()\n",
    "va=df[\"amir\"].value_counts()"
   ]
  },
  {
   "cell_type": "code",
   "execution_count": 39,
   "metadata": {},
   "outputs": [
    {
     "data": {
      "text/plain": [
       "s    113\n",
       "k    102\n",
       "h     42\n",
       "Name: c4, dtype: int64"
      ]
     },
     "execution_count": 39,
     "metadata": {},
     "output_type": "execute_result"
    }
   ],
   "source": [
    "#[b,c,h,k,o,s]\n",
    "# c4=[\"FC\",0,0,42,102,0,113]\n",
    "def percentage_calc(a):\n",
    "    name=a[0]\n",
    "    vals=a[1:]\n",
    "    s=np.sum(vals)\n",
    "    percentaged=[v/s*100 for v in vals]\n",
    "    return [name]+percentaged\n",
    "\n",
    "c3=percentage_calc([\"E+F\",0,38,144,0,75])\n",
    "# c2=[\"CNN\",0,39,60,54,44,60]\n",
    "c1=percentage_calc([\"Ground Truth\",0,39,60,54,44,60])\n",
    "h1=percentage_calc([\"Person1\",52,16,42,37,33,77]) #amir\n",
    "h2=percentage_calc([\"Person2\",46,18,50,62,17,64]) #abram\n",
    "df[\"c4\"].sort_index().value_counts()"
   ]
  },
  {
   "cell_type": "code",
   "execution_count": 40,
   "metadata": {},
   "outputs": [],
   "source": [
    "\n",
    "import matplotlib\n",
    "import matplotlib.pyplot as plt\n",
    "from matplotlib import cm\n",
    "bf=pd.DataFrame(columns=[\"categorizer\",\"Bad\",\"Clap\",\"Hat\",\"Kick\",\"Other\",\"Snare\"],\n",
    "               data=[h1,h2,c1])\n",
    "bf=bf.set_index(\"categorizer\")"
   ]
  },
  {
   "cell_type": "code",
   "execution_count": 43,
   "metadata": {},
   "outputs": [
    {
     "data": {
      "image/png": "[encoded data removed]",
      "text/plain": [
       "<Figure size 720x288 with 1 Axes>"
      ]
     },
     "metadata": {
      "needs_background": "light"
     },
     "output_type": "display_data"
    }
   ],
   "source": [
    "c=cm.get_cmap(\"GnBu_r\",10)\n",
    "# plt.figure(figsize=(2,1))\n",
    "ax=bf.plot(kind='bar',rot=0,color=c(np.linspace(0.05,1,6)),linewidth=2, width=0.7)\n",
    "patterns =('-', '+', 'x','/','//','O','o','\\\\','\\\\\\\\')\n",
    "bars = ax.patches\n",
    "hatches = ''.join(h*len(bf) for h in [\"*\",\"x\",\"o\",\".\",\"/\",\"O\"])\n",
    "\n",
    "for bar, hatch in zip(bars, hatches):\n",
    "    bar.set_hatch(hatch)\n",
    "    bar.set_edgecolor(\"black\")\n",
    "    bar.set_linewidth(2)\n",
    "    \n",
    "plt.gcf().set_size_inches(10, 4)\n",
    "plt.legend(bbox_to_anchor=(1, 1),loc='upper left', ncol=1,prop={'size': 20},)\n",
    "plt.ylabel(\"Percentage\",fontsize=19)\n",
    "plt.xlabel(\"Categorizer\",fontsize=20)\n",
    "plt.tick_params(axis='x', which='major', labelsize=18)\n",
    "plt.tick_params(axis='y', which='major', labelsize=18)\n",
    "# plt.title(\"Categorization Proportions\",fontsize=19)\n",
    "\n",
    "plt.savefig(\"cat_2p.pdf\",bbox_inches='tight',dpi=1000)"
   ]
  }
 ],
 "metadata": {
  "kernelspec": {
   "display_name": "Python 3",
   "language": "python",
   "name": "python3"
  },
  "language_info": {
   "codemirror_mode": {
    "name": "ipython",
    "version": 3
   },
   "file_extension": ".py",
   "mimetype": "text/x-python",
   "name": "python",
   "nbconvert_exporter": "python",
   "pygments_lexer": "ipython3",
   "version": "3.7.5"
  }
 },
 "nbformat": 4,
 "nbformat_minor": 4
}
