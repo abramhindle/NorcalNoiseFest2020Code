{
 "cells": [
  {
   "cell_type": "code",
   "execution_count": 1,
   "metadata": {},
   "outputs": [],
   "source": [
    "import sys\n",
    "from joblib import dump, load\n",
    "sys.path.append(\"..\")\n",
    "import numpy as np\n",
    "import pandas as pd\n",
    "import torch\n",
    "import torchvision\n",
    "import matplotlib.pyplot as plt\n",
    "import imp\n",
    "from pathlib import Path\n",
    "\n",
    "from pippi.soundbuffer import SoundBuffer\n",
    "from pippi import dsp,fx\n",
    "import param_generation as pg\n",
    "\n",
    "import _pickle as pickle\n",
    "from IPython.display import Audio\n",
    "from feature_extraction.mir_utils import *\n",
    "\n",
    "import torch.utils.data as utils\n",
    "import torchvision.transforms as transforms\n",
    "from PIL import Image\n",
    "import common_vars as comv\n",
    "\n",
    "import csv\n",
    "import helpers\n",
    "imp.reload(helpers)\n",
    "imp.reload(comv)\n",
    "imp.reload(pg)\n",
    "from feature_extraction import pytorch_models as tm\n",
    "from feature_extraction import pytorch_models as pm\n",
    "imp.reload(tm)\n",
    "from helpers import *\n",
    "\n",
    "from common_vars import SR\n",
    "device = torch.device(\"cuda\" if torch.cuda.is_available() else \"cpu\")\n",
    "save_path=\"./generated_sample_pack/\"\n",
    "# device = \"cpu\"\n",
    "stack_size=3\n",
    "BATCH_SIZE=1\n",
    "NUM_BINS=100\n",
    "\n",
    "classes=comv.classes\n",
    "classes_ranked=comv.classes_ranked\n",
    "cDict={v:i for i,v in enumerate(classes)}\n",
    "\n",
    "drum_groups=['tom_low','snare','hihat_closed','rim','synth_noise','clap','kick','hihat_open','tom_mid']\n",
    "\n",
    "drum_df=pd.DataFrame(columns=[\"name\",\"fc\",\"cnnlstm\",\"env+freq\",\"consensus\",\"stack_size\"])\n",
    "\n",
    "def model_loader(m,p):\n",
    "    s=torch.load(p) \n",
    "    m.load_state_dict(s)\n",
    "    m.to(device)\n",
    "    return m"
   ]
  },
  {
   "cell_type": "code",
   "execution_count": 2,
   "metadata": {},
   "outputs": [],
   "source": [
    "\n",
    "imp.reload(pm)\n",
    "\n",
    "input_dim = 120\n",
    "seq_dim=100\n",
    "output_size = 5\n",
    "hidden_dim = 1000\n",
    "n_layers = 1\n",
    "\n",
    "    \n",
    "#########DVN#########\n",
    "#env model stuff\n",
    "env_model_dvn = tm.env_Model(D_in=10,H1=10,H2=5,H3=10,H4=2,H5=10,device=device)\n",
    "state='../feature_extraction/models/fc/env_dvn_95_35.pt'\n",
    "env_model_dvn.load_state_dict(torch.load(state))\n",
    "env_trans=tm.envTrans()\n",
    "env_model_dvn.to(device)\n",
    "\n",
    "\n",
    "# pitch model stuff\n",
    "fc_spec_model_dvn=tm.getFCSpecModel(D_in=20*20,H1=20,H2=10,H3=4,D_out=2)\n",
    "state='../feature_extraction/models/fc/spec_fc_dvn_96.pt'\n",
    "fc_spec_model_dvn.load_state_dict(torch.load(state))\n",
    "fc_spec_trans_dvn=tm.specTrans(20)\n",
    "fc_spec_model_dvn.to(device)\n",
    "\n",
    "#cnn lstm\n",
    "cnn_model_dvn=pm.CNNLSTM_dvn()\n",
    "state='../feature_extraction/models/cnn/clst_dvn_96_279.pt'\n",
    "cnn_model_dvn.load_state_dict(torch.load(state))\n",
    "cnn_model_dvn.to(device)\n",
    "cnn_model_dvn.to(device)\n",
    "#########DVD#########\n",
    "#fc dvd\n",
    "dvd_fc=pm.getFCSpecModel(D_in=20*20,H1=100,H2=50,H3=100,D_out=len(drum_groups))\n",
    "state='../feature_extraction/models/fc/spec_fc_dvd_81.pt'\n",
    "dvd_fc.load_state_dict(torch.load(state))\n",
    "dvd_fc.to(device)\n",
    "\n",
    "#cnn_dvd\n",
    "dvd_cnn=pm.CNNLSTM_dvd(len_out=len(drum_groups))\n",
    "state='../feature_extraction/models/cnn/clst_dvd_90_170.pt'\n",
    "dvd_cnn.load_state_dict(torch.load(state))\n",
    "dvd_cnn.to(device)\n",
    "\n",
    "#freq+env model\n",
    "freq_env_model_dvd = tm.env_freq_Model(D_in=60,H1=30,H2=10,H3=10,D_out=len(drum_groups))\n",
    "state='../feature_extraction/models/fc/freq_env_dvd_86_351.pt'\n",
    "freq_env_model_dvd.load_state_dict(torch.load(state))\n",
    "freq_env_trans=tm.freq_and_env_Trans(feat_mels=50,env_mels=1)\n",
    "freq_env_model_dvd.to(device)\n",
    "\n",
    "\n",
    "\n",
    "from IPython.display import Audio\n",
    "import librosa.display\n",
    "\n",
    "for g in drum_groups:\n",
    "    Path(save_path+\"/\"+g).mkdir(parents=True, exist_ok=True)\n",
    "\n"
   ]
  },
  {
   "cell_type": "code",
   "execution_count": 3,
   "metadata": {},
   "outputs": [
    {
     "name": "stderr",
     "output_type": "stream",
     "text": [
      "/home/asalimi/miniconda3/lib/python3.7/site-packages/torch/nn/modules/container.py:92: UserWarning: Implicit dimension choice for softmax has been deprecated. Change the call to include dim=X as an argument.\n",
      "  input = module(input)\n",
      "../feature_extraction/pytorch_models.py:189: UserWarning: Implicit dimension choice for softmax has been deprecated. Change the call to include dim=X as an argument.\n",
      "  out=self.lsm(out)\n",
      "../feature_extraction/pytorch_models.py:167: UserWarning: Implicit dimension choice for softmax has been deprecated. Change the call to include dim=X as an argument.\n",
      "  out=self.lsm(out)\n"
     ]
    },
    {
     "data": {
      "text/plain": [
       "'fc.pdf'"
      ]
     },
     "execution_count": 3,
     "metadata": {},
     "output_type": "execute_result"
    }
   ],
   "source": [
    "#making graphs of models\n",
    "\n",
    "from torchsummary import summary\n",
    "import torchviz as torchviz\n",
    "from torchviz import make_dot, make_dot_from_trace\n",
    "import imp as imp\n",
    "out,params= stackMaker(stack_size)\n",
    "a= memToAud(out)\n",
    "imp.reload(torchviz)\n",
    "transform_input= {\"signal\":torch.tensor(a,dtype=torch.float),\"label\":torch.tensor(0)}\n",
    "env_feats=env_trans.call(transform_input)[\"feats\"].to(device)\n",
    "freq_feats=freq_env_trans.call(transform_input)[\"feats\"].to(device)\n",
    "pitch_feats=fc_spec_trans_dvn.call(transform_input)[\"feats\"].to(device)\n",
    "spec_flat=torch.flatten(pitch_feats, start_dim=1)\n",
    "\n",
    "outputEnvFreq=freq_env_model_dvd(freq_feats)\n",
    "outputCNNDVD=dvd_cnn(pitch_feats.reshape(-1,1,20,20))\n",
    "outputFCDVD=dvd_fc(spec_flat)\n",
    "outputE=env_model_dvn(env_feats)\n",
    "outputSPECFC=fc_spec_model_dvn(spec_flat)\n",
    "outputCNN= cnn_model_dvn(pitch_feats.reshape(-1,1,20,20))\n",
    "\n",
    "\n",
    "# summary(freq_env_model_dvd,freq_feats.shape)\n",
    "\n",
    "model,x=freq_env_model_dvd,freq_feats\n",
    "model,x=dvd_cnn,pitch_feats.reshape(-1,1,20,20)\n",
    "model,x=cnn_model_dvn,pitch_feats.reshape(-1,1,20,20)\n",
    "model,x=cnn_model_dvn,pitch_feats.reshape(-1,1,20,20)\n",
    "\n",
    "\n",
    "dot=make_dot(freq_env_model_dvd(freq_feats), params=dict(freq_env_model_dvd.named_parameters()))\n",
    "\n",
    "\n",
    "dot.format = 'pdf'\n",
    "dot.render(\"fc\")"
   ]
  },
  {
   "cell_type": "code",
   "execution_count": 19,
   "metadata": {},
   "outputs": [
    {
     "data": {
      "text/plain": [
       "Sequential(\n",
       "  (0): Linear(in_features=400, out_features=20, bias=True)\n",
       "  (1): PReLU(num_parameters=1)\n",
       "  (2): Linear(in_features=20, out_features=10, bias=True)\n",
       "  (3): PReLU(num_parameters=1)\n",
       "  (4): Linear(in_features=10, out_features=4, bias=True)\n",
       "  (5): PReLU(num_parameters=1)\n",
       "  (6): Linear(in_features=4, out_features=2, bias=True)\n",
       "  (7): Softmax(dim=None)\n",
       ")"
      ]
     },
     "execution_count": 19,
     "metadata": {},
     "output_type": "execute_result"
    }
   ],
   "source": [
    "# model,x=freq_env_model_dvd,freq_feats\n",
    "# model=fc_spec_model_dvn\n",
    "model=  fc_spec_model_dvn\n",
    "# model,x=dvd_cnn,pitch_feats.reshape(-1,1,20,20)\n",
    "# model,x=cnn_model_dvn,pitch_feats.reshape(-1,1,20,20)\n",
    "# model,x=dvd_cnn,pitch_feats.reshape(-1,1,20,20)\n",
    "model"
   ]
  },
  {
   "cell_type": "code",
   "execution_count": 8,
   "metadata": {},
   "outputs": [
    {
     "name": "stdout",
     "output_type": "stream",
     "text": [
      "----------------------------------------------------------------\n",
      "        Layer (type)               Output Shape         Param #\n",
      "================================================================\n",
      "            Conv2d-1            [-1, 2, 20, 20]              44\n",
      "              ReLU-2            [-1, 2, 20, 20]               0\n",
      "           Dropout-3                  [-1, 800]               0\n",
      "          LSTMCell-4       [[-1, 20], [-1, 20]]               0\n",
      "            Linear-5                    [-1, 2]              42\n",
      "           Softmax-6                    [-1, 2]               0\n",
      "================================================================\n",
      "Total params: 86\n",
      "Trainable params: 86\n",
      "Non-trainable params: 0\n",
      "----------------------------------------------------------------\n",
      "Input size (MB): 0.00\n",
      "Forward/backward pass size (MB): 0.02\n",
      "Params size (MB): 0.00\n",
      "Estimated Total Size (MB): 0.02\n",
      "----------------------------------------------------------------\n"
     ]
    },
    {
     "data": {
      "text/plain": [
       "\u001b[0;31mSignature:\u001b[0m \u001b[0msummary\u001b[0m\u001b[0;34m(\u001b[0m\u001b[0mmodel\u001b[0m\u001b[0;34m,\u001b[0m \u001b[0minput_size\u001b[0m\u001b[0;34m,\u001b[0m \u001b[0mbatch_size\u001b[0m\u001b[0;34m=\u001b[0m\u001b[0;34m-\u001b[0m\u001b[0;36m1\u001b[0m\u001b[0;34m,\u001b[0m \u001b[0mdevice\u001b[0m\u001b[0;34m=\u001b[0m\u001b[0;34m'cuda'\u001b[0m\u001b[0;34m)\u001b[0m\u001b[0;34m\u001b[0m\u001b[0;34m\u001b[0m\u001b[0m\n",
       "\u001b[0;31mDocstring:\u001b[0m <no docstring>\n",
       "\u001b[0;31mFile:\u001b[0m      ~/miniconda3/lib/python3.7/site-packages/torchsummary/torchsummary.py\n",
       "\u001b[0;31mType:\u001b[0m      function\n"
      ]
     },
     "metadata": {},
     "output_type": "display_data"
    }
   ],
   "source": [
    "x=summary(model,pitch_feats.reshape(1,20,20).shape)\n",
    "summary?"
   ]
  },
  {
   "cell_type": "code",
   "execution_count": 4,
   "metadata": {},
   "outputs": [
    {
     "name": "stderr",
     "output_type": "stream",
     "text": [
      "/home/asalimi/miniconda3/lib/python3.7/site-packages/torch/nn/modules/container.py:92: UserWarning: Implicit dimension choice for softmax has been deprecated. Change the call to include dim=X as an argument.\n",
      "  input = module(input)\n",
      "../feature_extraction/pytorch_models.py:189: UserWarning: Implicit dimension choice for softmax has been deprecated. Change the call to include dim=X as an argument.\n",
      "  out=self.lsm(out)\n",
      "../feature_extraction/pytorch_models.py:167: UserWarning: Implicit dimension choice for softmax has been deprecated. Change the call to include dim=X as an argument.\n",
      "  out=self.lsm(out)\n"
     ]
    },
    {
     "name": "stdout",
     "output_type": "stream",
     "text": [
      "env score 0.9774069786071777\n",
      "fc_spec 0.04053853079676628\n",
      "o_cnn_spec 0.00016071707068476826\n",
      "fc category synth_noise \n",
      "cnn category synth_noise \n",
      "env+freq hihat_open\n",
      "total consensus synth_noise\n",
      "it took 14 iteration, stack size 2\n"
     ]
    },
    {
     "data": {
      "text/html": [
       "\n",
       "                <audio  controls=\"controls\" autoplay=\"autoplay\">\n",
       "                    <source src=\"data:audio/wav;base64,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\" type=\"audio/wav\" />\n",
       "                    Your browser does not support the audio element.\n",
       "                </audio>\n",
       "              "
      ],
      "text/plain": [
       "<IPython.lib.display.Audio object>"
      ]
     },
     "execution_count": 4,
     "metadata": {},
     "output_type": "execute_result"
    },
    {
     "data": {
      "text/plain": [
       "<Figure size 864x216 with 0 Axes>"
      ]
     },
     "metadata": {},
     "output_type": "display_data"
    },
    {
     "data": {
      "image/png": "[encoded data removed]",
      "text/plain": [
       "<Figure size 1440x288 with 3 Axes>"
      ]
     },
     "metadata": {
      "needs_background": "light"
     },
     "output_type": "display_data"
    }
   ],
   "source": [
    "\n",
    "def evalSoundSlow(a):\n",
    "    try:\n",
    "        a=librosa.util.normalize(a)\n",
    "    except:\n",
    "        pass\n",
    "    transform_input= {\"signal\":torch.tensor(a,dtype=torch.float),\"label\":torch.tensor(0)}\n",
    "    env_feats=env_trans.call(transform_input)[\"feats\"].to(device)\n",
    "    freq_feats=freq_env_trans.call(transform_input)[\"feats\"].to(device)\n",
    "    pitch_feats=fc_spec_trans_dvn.call(transform_input)[\"feats\"].to(device)\n",
    "    spec_flat=torch.flatten(pitch_feats, start_dim=1)\n",
    "\n",
    "    outputEnvFreq=freq_env_model_dvd(freq_feats)\n",
    "    outputCNNDVD=dvd_cnn(pitch_feats.reshape(-1,1,20,20))\n",
    "    outputFCDVD=dvd_fc(spec_flat)\n",
    "    outputE=env_model_dvn(env_feats)\n",
    "    outputSPECFC=fc_spec_model_dvn(spec_flat)\n",
    "    outputCNN= cnn_model_dvn(pitch_feats.reshape(-1,1,20,20))\n",
    "    \n",
    "    o_e,o_fc_spec,o_cnn_spec=outputE[0].item(), outputSPECFC[0][0].item() ,outputCNN[0][0].item()\n",
    "    tote=outputE[0].item()+outputSPECFC[0][0].item()\n",
    "\n",
    "    gfc=drum_groups[torch.argmax(outputFCDVD).item()]\n",
    "    gcnn=drum_groups[torch.argmax(outputCNNDVD).item()]\n",
    "    genvfreq=drum_groups[torch.argmax(outputEnvFreq).item()]\n",
    "    cat_consensus=drum_groups[torch.argmax(outputFCDVD+outputCNNDVD+outputEnvFreq)]\n",
    "    \n",
    "    spec_score=(o_fc_spec+o_cnn_spec)/2\n",
    "    if (o_e>=0.5) or (o_e>0.5 and o_cnn_spec>0.7):\n",
    "        print(\"env score\",o_e)\n",
    "        print(\"fc_spec\",o_fc_spec)\n",
    "        print(\"o_cnn_spec\",o_cnn_spec)\n",
    "        print(\"fc category\",gfc,\"\\ncnn category\",gcnn,\"\\nenv+freq\",genvfreq)\n",
    "        print(\"total consensus\",cat_consensus)\n",
    "        \n",
    "        return(a,env_feats,freq_feats,pitch_feats,stack_size,\"found\")\n",
    "    return (a,env_feats,freq_feats,pitch_feats,stack_size,\"not_found\")\n",
    "\n",
    "def findDrum(stack_size=1,iteration=0):\n",
    "    out,params= stackMaker(stack_size)\n",
    "    a= memToAud(out)\n",
    "    return evalSoundSlow(a)\n",
    "i=0\n",
    "j=0\n",
    "while i<10000000:\n",
    "    i=i+1\n",
    "    j=j+1\n",
    "    stack_size=np.random.choice([2])\n",
    "    (a,env_feats,freq_feats,pitch_feats,stack_size,results)=findDrum(stack_size,iteration=i)\n",
    "    if results!=\"not_found\":\n",
    "        print(\"it took %d iteration, stack size %d\"%(j,stack_size))\n",
    "        j=0\n",
    "\n",
    "        break\n",
    "\n",
    "fig = plt.figure(figsize=(12,3))\n",
    "fig = plt.figure(figsize=(20,4))\n",
    "ax = plt.subplot(1, 3,1)\n",
    "\n",
    "plt.plot(env_feats.cpu())\n",
    "ax = plt.subplot(1, 3,2)\n",
    "plt.plot(freq_feats[0:50].cpu())\n",
    "ax=plt.subplot(1,3,3)\n",
    "ft=pitch_feats.cpu()\n",
    "ft=ft.numpy()\n",
    "librosa.display.specshow(ft[0])\n",
    "\n",
    "Audio(a,rate=sr, autoplay=True)"
   ]
  },
  {
   "cell_type": "code",
   "execution_count": 14,
   "metadata": {},
   "outputs": [
    {
     "name": "stdout",
     "output_type": "stream",
     "text": [
      "[-3.53832217e-21 -1.62281557e-05 -1.68413482e-04 ...  0.00000000e+00\n",
      "  0.00000000e+00  0.00000000e+00] 0.11958874762058258\n"
     ]
    },
    {
     "data": {
      "text/html": [
       "\n",
       "                <audio  controls=\"controls\" autoplay=\"autoplay\">\n",
       "                    <source src=\"data:audio/wav;base64,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\" type=\"audio/wav\" />\n",
       "                    Your browser does not support the audio element.\n",
       "                </audio>\n",
       "              "
      ],
      "text/plain": [
       "<IPython.lib.display.Audio object>"
      ]
     },
     "execution_count": 14,
     "metadata": {},
     "output_type": "execute_result"
    }
   ],
   "source": [
    "def evalSound(a,printing=False):\n",
    "    transform_input= {\"signal\":torch.tensor(a,dtype=torch.float),\"label\":torch.tensor(0)}\n",
    "    env_feats=env_trans.call(transform_input)[\"feats\"].to(device)\n",
    "    freq_feats=freq_env_trans.call(transform_input)[\"feats\"].to(device)\n",
    "    pitch_feats=fc_spec_trans_dvn.call(transform_input)[\"feats\"].to(device)\n",
    "    spec_flat=torch.flatten(pitch_feats, start_dim=1)\n",
    "\n",
    "\n",
    "#     outputEnvFreq=freq_env_model_dvd(freq_feats)\n",
    "#     outputCNNDVD=dvd_cnn(pitch_feats.reshape(-1,1,20,20))\n",
    "#     outputFCDVD=dvd_fc(spec_flat)\n",
    "    outputE=env_model_dvn(env_feats)\n",
    "    outputSPECFC=fc_spec_model_dvn(spec_flat)\n",
    "    outputCNN= cnn_model_dvn(pitch_feats.reshape(-1,1,20,20))\n",
    "    \n",
    "    o_e,o_fc_spec,o_cnn_spec=outputE[0].item(), outputSPECFC[0][0].item() ,outputCNN[0][0].item()\n",
    "#     tote=outputE[0].item()+outputSPECFC[0][0].item()\n",
    "\n",
    "#     gfc=drum_groups[torch.argmax(outputFCDVD).item()]\n",
    "#     gcnn=drum_groups[torch.argmax(outputCNNDVD).item()]\n",
    "#     genvfreq=drum_groups[torch.argmax(outputEnvFreq).item()]\n",
    "#     cat_consensus=drum_groups[torch.argmax(outputFCDVD+outputCNNDVD+outputEnvFreq)]\n",
    "    \n",
    "    spec_score=(o_fc_spec+o_cnn_spec)/2\n",
    "#     if printing:\n",
    "#         print(outputEnvFreq)\n",
    "#         print(torch.argmax(outputEnvFreq).item())\n",
    "#         print(\"env score\",o_e)\n",
    "#         print(\"fc_spec\",o_fc_spec)\n",
    "#         print(\"o_cnn_spec\",o_cnn_spec)\n",
    "#         print(\"fc category\",gfc,\"\\ncnn category\",gcnn,\"\\nenv+freq\",genvfreq)\n",
    "#         print(\"total consensus\",cat_consensus)\n",
    "#         return o_cnn_spec\n",
    "    return o_fc_spec\n",
    "out,params= stackMaker(stack_size)\n",
    "def findDrum(stack_size=1,iteration=0):\n",
    "    \n",
    "    a= memToAud(out)\n",
    "    return a,evalSound(a,printing=True)\n",
    "\n",
    "a,sc=findDrum(stack_size,iteration=i)\n",
    "\n",
    "\n",
    "# print(sc)\n",
    "print(a,sc)\n",
    "Audio(a,rate=sr, autoplay=True)"
   ]
  },
  {
   "cell_type": "code",
   "execution_count": 346,
   "metadata": {},
   "outputs": [],
   "source": [
    "def evalSound(a,printing=False):\n",
    "    transform_input= {\"signal\":torch.tensor(a,dtype=torch.float),\"label\":torch.tensor(0)}\n",
    "    env_feats=env_trans.call(transform_input)[\"feats\"].to(device)\n",
    "    freq_feats=freq_env_trans.call(transform_input)[\"feats\"].to(device)\n",
    "    pitch_feats=fc_spec_trans_dvn.call(transform_input)[\"feats\"].to(device)\n",
    "    spec_flat=torch.flatten(pitch_feats, start_dim=1)\n",
    "\n",
    "\n",
    "    outputEnvFreq=freq_env_model_dvd(freq_feats)\n",
    "    outputCNNDVD=dvd_cnn(pitch_feats.reshape(-1,1,20,20))\n",
    "    outputFCDVD=dvd_fc(spec_flat)\n",
    "    outputE=env_model_dvn(env_feats)\n",
    "    outputSPECFC=fc_spec_model_dvn(spec_flat)\n",
    "    outputCNN= cnn_model_dvn(pitch_feats.reshape(-1,1,20,20))\n",
    "    \n",
    "    o_e,o_fc_spec,o_cnn_spec=outputE[0].item(), outputSPECFC[0][0].item() ,outputCNN[0][0].item()\n",
    "    tote=outputE[0].item()+outputSPECFC[0][0].item()\n",
    "\n",
    "    gfc=drum_groups[torch.argmax(outputFCDVD).item()]\n",
    "    gcnn=drum_groups[torch.argmax(outputCNNDVD).item()]\n",
    "    genvfreq=drum_groups[torch.argmax(outputEnvFreq).item()]\n",
    "    cat_consensus=drum_groups[torch.argmax(outputFCDVD+outputCNNDVD+outputEnvFreq)]\n",
    "    \n",
    "    spec_score=(o_fc_spec+o_cnn_spec)/2\n",
    "    if printing:\n",
    "        print(tote)\n",
    "        print(outputEnvFreq)\n",
    "        print(torch.argmax(outputEnvFreq).item())\n",
    "        print(\"env score\",o_e)\n",
    "        print(\"fc_spec\",o_fc_spec)\n",
    "        print(\"o_cnn_spec\",o_cnn_spec)\n",
    "        print(\"fc category\",gfc,\"\\ncnn category\",gcnn,\"\\nenv+freq\",genvfreq)\n",
    "        print(\"total consensus\",cat_consensus)\n",
    "        return o_cnn_spec\n",
    "    return o_cnn_spec\n",
    "\n",
    "\n",
    "def findDrum(stack_size=1,iteration=0):\n",
    "    \n",
    "    a= memToAud(out)\n",
    "    return a,evalSound(a,printing=True)\n"
   ]
  },
  {
   "cell_type": "code",
   "execution_count": 41,
   "metadata": {},
   "outputs": [
    {
     "name": "stdout",
     "output_type": "stream",
     "text": [
      "50\r"
     ]
    }
   ],
   "source": [
    "stack_size=1\n",
    "#measure variation\n",
    "out,params= stackMaker(stack_size)\n",
    "\n",
    "j_shape=10\n",
    "all_rows = []\n",
    "while len(all_rows) < 50:\n",
    "    one_row= np.zeros(10)\n",
    "    out,params= stackMaker(stack_size)\n",
    "    for j in range(j_shape):\n",
    "        out=paramToSound(params)\n",
    "        a = memToAud(out)\n",
    "        one_row[j]=evalSound(a)\n",
    "#     print(np.average(one_row))\n",
    "    if np.average(one_row)>0: all_rows.append(one_row); print(str(len(all_rows))+\"\\r\",end='')\n",
    "    \n",
    "all_rows=np.array(all_rows)\n",
    "df = pd.DataFrame(all_rows)\n"
   ]
  },
  {
   "cell_type": "code",
   "execution_count": 42,
   "metadata": {},
   "outputs": [
    {
     "data": {
      "application/vnd.plotly.v1+json": {
       "config": {
        "plotlyServerURL": "https://plot.ly"
       },
       "data": [
        {
         "marker": {
          "color": "black"
         },
         "type": "box",
         "y": [
          5.455128484754823e-05,
          5.245261490927078e-05,
          5.885619611945003e-05,
          5.1341106882318854e-05,
          4.2800416849786416e-05,
          6.258724897634238e-05,
          5.966901881038211e-05,
          3.032120002899319e-05,
          6.748070154571906e-05,
          4.4733045797329396e-05
         ]
        },
        {
         "marker": {
          "color": "black"
         },
         "type": "box",
         "y": [
          0.0010309662902727723,
          0.0010309662902727723,
          0.0010309662902727723,
          0.0010309662902727723,
          0.0010309662902727723,
          0.0010309662902727723,
          0.0010309662902727723,
          0.0010309662902727723,
          0.0010309662902727723,
          0.0010309662902727723
         ]
        },
        {
         "marker": {
          "color": "black"
         },
         "type": "box",
         "y": [
          0.0013639760436490178,
          0.0013639760436490178,
          0.0013639760436490178,
          0.0013639760436490178,
          0.0013639760436490178,
          0.0013639760436490178,
          0.0013639760436490178,
          0.0013639760436490178,
          0.0013639760436490178,
          0.0013639760436490178
         ]
        },
        {
         "marker": {
          "color": "black"
         },
         "type": "box",
         "y": [
          0.0033386768773198128,
          0.0033386768773198128,
          0.0033386768773198128,
          0.0033386768773198128,
          0.0033386768773198128,
          0.0033386768773198128,
          0.0033386768773198128,
          0.0033386768773198128,
          0.0033386768773198128,
          0.0033386768773198128
         ]
        },
        {
         "marker": {
          "color": "black"
         },
         "type": "box",
         "y": [
          5.901401527808048e-05,
          9.316412615589797e-05,
          7.596659997943789e-05,
          8.297574822790921e-05,
          7.195736543508247e-05,
          6.112561095505953e-05,
          6.11408831900917e-05,
          0.00010603520786389709,
          7.79451074777171e-05,
          7.722721784375608e-05
         ]
        },
        {
         "marker": {
          "color": "black"
         },
         "type": "box",
         "y": [
          0.0024179595056921244,
          0.0024179595056921244,
          0.0024179595056921244,
          0.0024179595056921244,
          0.0024179595056921244,
          0.0024179595056921244,
          0.0024179595056921244,
          0.0024179595056921244,
          0.0024179595056921244,
          0.0024179595056921244
         ]
        },
        {
         "marker": {
          "color": "black"
         },
         "type": "box",
         "y": [
          5.423399852588773e-05,
          3.419406129978597e-05,
          6.04535780439619e-05,
          5.506348315975629e-05,
          4.824358256882988e-05,
          6.113365816418082e-05,
          6.45070758764632e-05,
          3.884577381541021e-05,
          3.461398227955215e-05,
          4.262079164618626e-05
         ]
        },
        {
         "marker": {
          "color": "black"
         },
         "type": "box",
         "y": [
          0.00016729407070670277,
          0.00016729407070670277,
          0.00016729407070670277,
          0.00016729407070670277,
          0.00016729407070670277,
          0.00016729407070670277,
          0.00016729407070670277,
          0.00016729407070670277,
          0.00016729407070670277,
          0.00016729407070670277
         ]
        },
        {
         "marker": {
          "color": "black"
         },
         "type": "box",
         "y": [
          0.0007138874498195946,
          0.0007138874498195946,
          0.0007138874498195946,
          0.0007138874498195946,
          0.0007138874498195946,
          0.0007138874498195946,
          0.0007138874498195946,
          0.0007138874498195946,
          0.0007138874498195946,
          0.0007138874498195946
         ]
        },
        {
         "marker": {
          "color": "black"
         },
         "type": "box",
         "y": [
          0.0012474308023229241,
          0.0012474308023229241,
          0.0012474308023229241,
          0.0012474308023229241,
          0.0012474308023229241,
          0.0012474308023229241,
          0.0012474308023229241,
          0.0012474308023229241,
          0.0012474308023229241,
          0.0012474308023229241
         ]
        },
        {
         "marker": {
          "color": "black"
         },
         "type": "box",
         "y": [
          0.0028887896332889795,
          0.0029014451429247856,
          0.002389081520959735,
          0.002379833720624447,
          0.002846178598701954,
          0.0023186136968433857,
          0.0019406334031373262,
          0.0024265688844025135,
          0.002432591049000621,
          0.002865888411179185
         ]
        },
        {
         "marker": {
          "color": "black"
         },
         "type": "box",
         "y": [
          4.6590834244852886e-05,
          5.317102841218002e-05,
          5.4368010751204565e-05,
          4.1869872802635655e-05,
          4.080019425600767e-05,
          4.876794264419004e-05,
          3.899364310200326e-05,
          3.107271186308935e-05,
          7.014629227342084e-05,
          5.1513692596927285e-05
         ]
        },
        {
         "marker": {
          "color": "black"
         },
         "type": "box",
         "y": [
          0.00013075907190795988,
          0.00017025232955347747,
          0.00014287856174632907,
          0.00014233397087082267,
          0.00010351163655286655,
          0.00015927765343803912,
          0.00013652716006617993,
          0.0001584904530318454,
          0.000129919673781842,
          8.293698192574084e-05
         ]
        },
        {
         "marker": {
          "color": "black"
         },
         "type": "box",
         "y": [
          0.0003326981095597148,
          0.0003326981095597148,
          0.0003326981095597148,
          0.0003326981095597148,
          0.0003326981095597148,
          0.0003326981095597148,
          0.0003326981095597148,
          0.0003326981095597148,
          0.0003326981095597148,
          0.0003326981095597148
         ]
        },
        {
         "marker": {
          "color": "black"
         },
         "type": "box",
         "y": [
          0.00012387227616272867,
          0.00012387227616272867,
          0.00012387227616272867,
          0.00012387227616272867,
          0.00012387227616272867,
          0.00012387227616272867,
          0.00012387227616272867,
          0.00012387227616272867,
          0.00012387227616272867,
          0.00012387227616272867
         ]
        },
        {
         "marker": {
          "color": "black"
         },
         "type": "box",
         "y": [
          2.3853797301853774e-06,
          2.5219244434993016e-06,
          2.370082711422583e-06,
          2.914772039730451e-06,
          2.0699380911537446e-06,
          2.893060127462377e-06,
          2.4852656679286156e-06,
          2.3759778287057998e-06,
          2.6578741199045908e-06,
          2.07915149985638e-06
         ]
        },
        {
         "marker": {
          "color": "black"
         },
         "type": "box",
         "y": [
          0.0011233064578846097,
          0.0011233064578846097,
          0.0011233064578846097,
          0.0011233064578846097,
          0.0011233064578846097,
          0.0011233064578846097,
          0.0011233064578846097,
          0.0011233064578846097,
          0.0011233064578846097,
          0.0011233064578846097
         ]
        },
        {
         "marker": {
          "color": "black"
         },
         "type": "box",
         "y": [
          2.455408321111463e-05,
          2.798362766043283e-05,
          3.255537012591958e-05,
          3.74253504560329e-05,
          3.9711005229037255e-05,
          3.496425415505655e-05,
          3.478572398307733e-05,
          3.374800508026965e-05,
          2.672128175618127e-05,
          2.80304484476801e-05
         ]
        },
        {
         "marker": {
          "color": "black"
         },
         "type": "box",
         "y": [
          0.000542117515578866,
          0.000542117515578866,
          0.000542117515578866,
          0.000542117515578866,
          0.000542117515578866,
          0.000542117515578866,
          0.000542117515578866,
          0.000542117515578866,
          0.000542117515578866,
          0.000542117515578866
         ]
        },
        {
         "marker": {
          "color": "black"
         },
         "type": "box",
         "y": [
          6.727490108460188e-05,
          9.121026960201561e-05,
          6.137185846455395e-05,
          6.271802703849971e-05,
          8.194433030439541e-05,
          7.265702151926234e-05,
          6.486800702987239e-05,
          5.682932896888815e-05,
          5.864297054358758e-05,
          7.842361083021387e-05
         ]
        },
        {
         "marker": {
          "color": "black"
         },
         "type": "box",
         "y": [
          8.342505680047907e-06,
          6.9885254561086185e-06,
          7.210811418190133e-06,
          5.0474282033974305e-06,
          6.927392860234249e-06,
          6.9251136665116064e-06,
          6.633765678998316e-06,
          6.437023785110796e-06,
          6.640848823735723e-06,
          5.208345100982115e-06
         ]
        },
        {
         "marker": {
          "color": "black"
         },
         "type": "box",
         "y": [
          0.001073400373570621,
          0.0008806318510323763,
          0.0008695587748661637,
          0.0008366521797142923,
          0.0008231251849792898,
          0.0010265898890793324,
          0.0008593762177042663,
          0.0009146733209490776,
          0.000853924488183111,
          0.0010622547706589103
         ]
        },
        {
         "marker": {
          "color": "black"
         },
         "type": "box",
         "y": [
          0.0027935714460909367,
          0.0027935714460909367,
          0.0027935714460909367,
          0.0027935714460909367,
          0.0027935714460909367,
          0.0027935714460909367,
          0.0027935714460909367,
          0.0027935714460909367,
          0.0027935714460909367,
          0.0027935714460909367
         ]
        },
        {
         "marker": {
          "color": "black"
         },
         "type": "box",
         "y": [
          0.0002520316920708865,
          0.0002520316920708865,
          0.0002520316920708865,
          0.0002520316920708865,
          0.0002520316920708865,
          0.0002520316920708865,
          0.0002520316920708865,
          0.0002520316920708865,
          0.0002520316920708865,
          0.0002520316920708865
         ]
        },
        {
         "marker": {
          "color": "black"
         },
         "type": "box",
         "y": [
          0.010464315302670002,
          0.01413529273122549,
          0.01003284566104412,
          0.00803779810667038,
          0.01081057172268629,
          0.01348878163844347,
          0.009451452642679214,
          0.008990057744085789,
          0.008012531325221062,
          0.008401596918702126
         ]
        },
        {
         "marker": {
          "color": "black"
         },
         "type": "box",
         "y": [
          0.0008837477653287351,
          0.000866252463310957,
          0.0007356243440881371,
          0.0007818252197466791,
          0.0007947557605803013,
          0.000990724889561534,
          0.0007523806416429579,
          0.0009029059438034892,
          0.0006748284795321524,
          0.0009229313000105321
         ]
        },
        {
         "marker": {
          "color": "black"
         },
         "type": "box",
         "y": [
          1.0532151861752936e-07,
          1.1639033203891813e-07,
          1.7618971526189853e-07,
          1.2300188245717436e-07,
          1.495053254529921e-07,
          2.0361942176805314e-07,
          2.209108771467072e-07,
          1.8127255430044897e-07,
          2.1568443742125964e-07,
          1.429426390586741e-07
         ]
        },
        {
         "marker": {
          "color": "black"
         },
         "type": "box",
         "y": [
          0.0005991142243146896,
          0.00048124033492058516,
          0.0004331873496994376,
          0.00047010957496240735,
          0.0005336381727829576,
          0.0004708264605142176,
          0.0004184235876891762,
          0.00044623942812904716,
          0.000518036016728729,
          0.0005188151262700558
         ]
        },
        {
         "marker": {
          "color": "black"
         },
         "type": "box",
         "y": [
          0.00036330800503492355,
          0.00036330800503492355,
          0.00036330800503492355,
          0.00036330800503492355,
          0.00036330800503492355,
          0.00036330800503492355,
          0.00036330800503492355,
          0.00036330800503492355,
          0.00036330800503492355,
          0.00036330800503492355
         ]
        },
        {
         "marker": {
          "color": "black"
         },
         "type": "box",
         "y": [
          0.0027094471734017134,
          0.0027094471734017134,
          0.0027094471734017134,
          0.0027094471734017134,
          0.0027094471734017134,
          0.0027094471734017134,
          0.0027094471734017134,
          0.0027094471734017134,
          0.0027094471734017134,
          0.0027094471734017134
         ]
        },
        {
         "marker": {
          "color": "black"
         },
         "type": "box",
         "y": [
          0.0010145541746169329,
          0.0013476136373355985,
          0.0011625514598563313,
          0.000877517566550523,
          0.000990954227745533,
          0.0015649899141862988,
          0.0010197068331763148,
          0.0008755360613577068,
          0.0016135243931785226,
          0.0011636379640549421
         ]
        },
        {
         "marker": {
          "color": "black"
         },
         "type": "box",
         "y": [
          0.001180895953439176,
          0.001180895953439176,
          0.001180895953439176,
          0.001180895953439176,
          0.001180895953439176,
          0.001180895953439176,
          0.001180895953439176,
          0.001180895953439176,
          0.001180895953439176,
          0.001180895953439176
         ]
        },
        {
         "marker": {
          "color": "black"
         },
         "type": "box",
         "y": [
          1.6371768651879393e-06,
          9.964613809643197e-07,
          1.309614617639454e-06,
          2.89727336166834e-06,
          1.5289813291019527e-06,
          1.489950591349043e-06,
          1.4484971870842855e-06,
          2.7130784019391285e-06,
          1.8969368511534412e-06,
          1.508676859884872e-06
         ]
        },
        {
         "marker": {
          "color": "black"
         },
         "type": "box",
         "y": [
          0.0006816174718551338,
          0.0006180270574986935,
          0.0005266271764412522,
          0.0006490470841526985,
          0.0005110995261929929,
          0.0005323107470758259,
          0.0006427066400647163,
          0.0006300767417997122,
          0.0006862485315650702,
          0.0005885091377422214
         ]
        },
        {
         "marker": {
          "color": "black"
         },
         "type": "box",
         "y": [
          2.721632696989218e-08,
          4.852648771702661e-08,
          4.989091095808362e-08,
          4.187635482821861e-08,
          5.61659092568334e-08,
          5.010452497344886e-08,
          5.167293437580156e-08,
          4.2230158925349315e-08,
          5.046427986599156e-08,
          4.063566905188054e-08
         ]
        },
        {
         "marker": {
          "color": "black"
         },
         "type": "box",
         "y": [
          0.0029522727709263563,
          0.0029522727709263563,
          0.0029522727709263563,
          0.0029522727709263563,
          0.0029522727709263563,
          0.0029522727709263563,
          0.0029522727709263563,
          0.0029522727709263563,
          0.0029522727709263563,
          0.0029522727709263563
         ]
        },
        {
         "marker": {
          "color": "black"
         },
         "type": "box",
         "y": [
          1.0936734042843455e-06,
          8.541225611224945e-07,
          8.280950964945077e-07,
          6.046030307516048e-07,
          4.879681227976107e-07,
          9.636726190365152e-07,
          8.636064876554883e-07,
          4.251456289239286e-07,
          8.089539278444136e-07,
          8.959513024819898e-07
         ]
        },
        {
         "marker": {
          "color": "black"
         },
         "type": "box",
         "y": [
          0.0007966418634168804,
          0.000674969982355833,
          0.000656849006190896,
          0.0007832513656467199,
          0.0006586139788851142,
          0.0009062254684977233,
          0.0006658342899754643,
          0.0005103189614601433,
          0.0007637397502548993,
          0.0006933106924407184
         ]
        },
        {
         "marker": {
          "color": "black"
         },
         "type": "box",
         "y": [
          0.00158957380335778,
          0.00158957380335778,
          0.00158957380335778,
          0.00158957380335778,
          0.00158957380335778,
          0.00158957380335778,
          0.00158957380335778,
          0.00158957380335778,
          0.00158957380335778,
          0.00158957380335778
         ]
        },
        {
         "marker": {
          "color": "black"
         },
         "type": "box",
         "y": [
          0.0007706996402703226,
          0.0007706996402703226,
          0.0007706996402703226,
          0.0007706996402703226,
          0.0007706996402703226,
          0.0007706996402703226,
          0.0007706996402703226,
          0.0007706996402703226,
          0.0007706996402703226,
          0.0007706996402703226
         ]
        },
        {
         "marker": {
          "color": "black"
         },
         "type": "box",
         "y": [
          0.00019799043366219848,
          0.00019799043366219848,
          0.00019799043366219848,
          0.00019799043366219848,
          0.00019799043366219848,
          0.00019799043366219848,
          0.00019799043366219848,
          0.00019799043366219848,
          0.00019799043366219848,
          0.00019799043366219848
         ]
        },
        {
         "marker": {
          "color": "black"
         },
         "type": "box",
         "y": [
          0.001737393089570105,
          0.001737393089570105,
          0.001737393089570105,
          0.001737393089570105,
          0.001737393089570105,
          0.001737393089570105,
          0.001737393089570105,
          0.001737393089570105,
          0.001737393089570105,
          0.001737393089570105
         ]
        },
        {
         "marker": {
          "color": "black"
         },
         "type": "box",
         "y": [
          9.361003208141483e-07,
          1.693448211881332e-06,
          7.767446277284762e-07,
          7.415051754833257e-07,
          9.105796721087245e-07,
          7.768253453832585e-07,
          7.789641358613153e-07,
          9.588972034180188e-07,
          9.760972261574352e-07,
          1.0439565585329547e-06
         ]
        },
        {
         "marker": {
          "color": "black"
         },
         "type": "box",
         "y": [
          9.16322005650727e-06,
          1.545414670545142e-05,
          2.1915711840847507e-05,
          1.4275328794610687e-05,
          1.5856923710089177e-05,
          2.419544216536451e-05,
          1.4348761396831833e-05,
          2.5988687411881983e-05,
          2.0099747416679747e-05,
          2.6898562282440253e-05
         ]
        },
        {
         "marker": {
          "color": "black"
         },
         "type": "box",
         "y": [
          0.0013877181336283684,
          0.0013877181336283684,
          0.0013877181336283684,
          0.0013877181336283684,
          0.0013877181336283684,
          0.0013877181336283684,
          0.0013877181336283684,
          0.0013877181336283684,
          0.0013877181336283684,
          0.0013877181336283684
         ]
        },
        {
         "marker": {
          "color": "black"
         },
         "type": "box",
         "y": [
          3.3518742839078186e-06,
          2.546343011999852e-06,
          5.4288107094180305e-06,
          2.9088794235576643e-06,
          1.8295004338142462e-06,
          3.009488409588812e-06,
          4.872840690950397e-06,
          3.082725015701726e-06,
          3.062161795241991e-06,
          1.8469115730113117e-06
         ]
        },
        {
         "marker": {
          "color": "black"
         },
         "type": "box",
         "y": [
          0.0003648546407930553,
          0.0003648546407930553,
          0.0003648546407930553,
          0.0003648546407930553,
          0.0003648546407930553,
          0.0003648546407930553,
          0.0003648546407930553,
          0.0003648546407930553,
          0.0003648546407930553,
          0.0003648546407930553
         ]
        },
        {
         "marker": {
          "color": "black"
         },
         "type": "box",
         "y": [
          4.65692464786116e-05,
          4.3258762161713094e-05,
          3.941356044379063e-05,
          4.283953967387788e-05,
          3.7099074688740075e-05,
          4.325612462707795e-05,
          4.2399042285978794e-05,
          4.086015542270616e-05,
          4.420689583639614e-05,
          2.5756120521691628e-05
         ]
        },
        {
         "marker": {
          "color": "black"
         },
         "type": "box",
         "y": [
          0.00012266779958736151,
          8.808400161797181e-05,
          0.00011050259490730241,
          0.00010116050543729216,
          0.00010785026825033128,
          9.680363291408867e-05,
          9.844397573033348e-05,
          0.00010533861495787278,
          0.0001351828977931291,
          0.00011058659583795816
         ]
        },
        {
         "marker": {
          "color": "black"
         },
         "type": "box",
         "y": [
          0.0031473736744374037,
          0.0031473736744374037,
          0.0031473736744374037,
          0.0031473736744374037,
          0.0031473736744374037,
          0.0031473736744374037,
          0.0031473736744374037,
          0.0031473736744374037,
          0.0031473736744374037,
          0.0031473736744374037
         ]
        }
       ],
       "layout": {
        "font": {
         "family": "Times New Roman",
         "size": 17
        },
        "height": 400,
        "margin": {
         "b": 1,
         "l": 0,
         "r": 1,
         "t": 5
        },
        "paper_bgcolor": "rgb(233,233,233)",
        "plot_bgcolor": "rgb(233,233,233)",
        "showlegend": false,
        "template": {
         "data": {
          "bar": [
           {
            "error_x": {
             "color": "rgb(36,36,36)"
            },
            "error_y": {
             "color": "rgb(36,36,36)"
            },
            "marker": {
             "line": {
              "color": "rgb(234,234,242)",
              "width": 0.5
             }
            },
            "type": "bar"
           }
          ],
          "barpolar": [
           {
            "marker": {
             "line": {
              "color": "rgb(234,234,242)",
              "width": 0.5
             }
            },
            "type": "barpolar"
           }
          ],
          "carpet": [
           {
            "aaxis": {
             "endlinecolor": "rgb(36,36,36)",
             "gridcolor": "white",
             "linecolor": "white",
             "minorgridcolor": "white",
             "startlinecolor": "rgb(36,36,36)"
            },
            "baxis": {
             "endlinecolor": "rgb(36,36,36)",
             "gridcolor": "white",
             "linecolor": "white",
             "minorgridcolor": "white",
             "startlinecolor": "rgb(36,36,36)"
            },
            "type": "carpet"
           }
          ],
          "choropleth": [
           {
            "colorbar": {
             "outlinewidth": 0,
             "tickcolor": "rgb(36,36,36)",
             "ticklen": 8,
             "ticks": "outside",
             "tickwidth": 2
            },
            "type": "choropleth"
           }
          ],
          "contour": [
           {
            "colorbar": {
             "outlinewidth": 0,
             "tickcolor": "rgb(36,36,36)",
             "ticklen": 8,
             "ticks": "outside",
             "tickwidth": 2
            },
            "colorscale": [
             [
              0,
              "rgb(2,4,25)"
             ],
             [
              0.06274509803921569,
              "rgb(24,15,41)"
             ],
             [
              0.12549019607843137,
              "rgb(47,23,57)"
             ],
             [
              0.18823529411764706,
              "rgb(71,28,72)"
             ],
             [
              0.25098039215686274,
              "rgb(97,30,82)"
             ],
             [
              0.3137254901960784,
              "rgb(123,30,89)"
             ],
             [
              0.3764705882352941,
              "rgb(150,27,91)"
             ],
             [
              0.4392156862745098,
              "rgb(177,22,88)"
             ],
             [
              0.5019607843137255,
              "rgb(203,26,79)"
             ],
             [
              0.5647058823529412,
              "rgb(223,47,67)"
             ],
             [
              0.6274509803921569,
              "rgb(236,76,61)"
             ],
             [
              0.6901960784313725,
              "rgb(242,107,73)"
             ],
             [
              0.7529411764705882,
              "rgb(244,135,95)"
             ],
             [
              0.8156862745098039,
              "rgb(245,162,122)"
             ],
             [
              0.8784313725490196,
              "rgb(246,188,153)"
             ],
             [
              0.9411764705882353,
              "rgb(247,212,187)"
             ],
             [
              1,
              "rgb(250,234,220)"
             ]
            ],
            "type": "contour"
           }
          ],
          "contourcarpet": [
           {
            "colorbar": {
             "outlinewidth": 0,
             "tickcolor": "rgb(36,36,36)",
             "ticklen": 8,
             "ticks": "outside",
             "tickwidth": 2
            },
            "type": "contourcarpet"
           }
          ],
          "heatmap": [
           {
            "colorbar": {
             "outlinewidth": 0,
             "tickcolor": "rgb(36,36,36)",
             "ticklen": 8,
             "ticks": "outside",
             "tickwidth": 2
            },
            "colorscale": [
             [
              0,
              "rgb(2,4,25)"
             ],
             [
              0.06274509803921569,
              "rgb(24,15,41)"
             ],
             [
              0.12549019607843137,
              "rgb(47,23,57)"
             ],
             [
              0.18823529411764706,
              "rgb(71,28,72)"
             ],
             [
              0.25098039215686274,
              "rgb(97,30,82)"
             ],
             [
              0.3137254901960784,
              "rgb(123,30,89)"
             ],
             [
              0.3764705882352941,
              "rgb(150,27,91)"
             ],
             [
              0.4392156862745098,
              "rgb(177,22,88)"
             ],
             [
              0.5019607843137255,
              "rgb(203,26,79)"
             ],
             [
              0.5647058823529412,
              "rgb(223,47,67)"
             ],
             [
              0.6274509803921569,
              "rgb(236,76,61)"
             ],
             [
              0.6901960784313725,
              "rgb(242,107,73)"
             ],
             [
              0.7529411764705882,
              "rgb(244,135,95)"
             ],
             [
              0.8156862745098039,
              "rgb(245,162,122)"
             ],
             [
              0.8784313725490196,
              "rgb(246,188,153)"
             ],
             [
              0.9411764705882353,
              "rgb(247,212,187)"
             ],
             [
              1,
              "rgb(250,234,220)"
             ]
            ],
            "type": "heatmap"
           }
          ],
          "heatmapgl": [
           {
            "colorbar": {
             "outlinewidth": 0,
             "tickcolor": "rgb(36,36,36)",
             "ticklen": 8,
             "ticks": "outside",
             "tickwidth": 2
            },
            "colorscale": [
             [
              0,
              "rgb(2,4,25)"
             ],
             [
              0.06274509803921569,
              "rgb(24,15,41)"
             ],
             [
              0.12549019607843137,
              "rgb(47,23,57)"
             ],
             [
              0.18823529411764706,
              "rgb(71,28,72)"
             ],
             [
              0.25098039215686274,
              "rgb(97,30,82)"
             ],
             [
              0.3137254901960784,
              "rgb(123,30,89)"
             ],
             [
              0.3764705882352941,
              "rgb(150,27,91)"
             ],
             [
              0.4392156862745098,
              "rgb(177,22,88)"
             ],
             [
              0.5019607843137255,
              "rgb(203,26,79)"
             ],
             [
              0.5647058823529412,
              "rgb(223,47,67)"
             ],
             [
              0.6274509803921569,
              "rgb(236,76,61)"
             ],
             [
              0.6901960784313725,
              "rgb(242,107,73)"
             ],
             [
              0.7529411764705882,
              "rgb(244,135,95)"
             ],
             [
              0.8156862745098039,
              "rgb(245,162,122)"
             ],
             [
              0.8784313725490196,
              "rgb(246,188,153)"
             ],
             [
              0.9411764705882353,
              "rgb(247,212,187)"
             ],
             [
              1,
              "rgb(250,234,220)"
             ]
            ],
            "type": "heatmapgl"
           }
          ],
          "histogram": [
           {
            "marker": {
             "colorbar": {
              "outlinewidth": 0,
              "tickcolor": "rgb(36,36,36)",
              "ticklen": 8,
              "ticks": "outside",
              "tickwidth": 2
             }
            },
            "type": "histogram"
           }
          ],
          "histogram2d": [
           {
            "colorbar": {
             "outlinewidth": 0,
             "tickcolor": "rgb(36,36,36)",
             "ticklen": 8,
             "ticks": "outside",
             "tickwidth": 2
            },
            "colorscale": [
             [
              0,
              "rgb(2,4,25)"
             ],
             [
              0.06274509803921569,
              "rgb(24,15,41)"
             ],
             [
              0.12549019607843137,
              "rgb(47,23,57)"
             ],
             [
              0.18823529411764706,
              "rgb(71,28,72)"
             ],
             [
              0.25098039215686274,
              "rgb(97,30,82)"
             ],
             [
              0.3137254901960784,
              "rgb(123,30,89)"
             ],
             [
              0.3764705882352941,
              "rgb(150,27,91)"
             ],
             [
              0.4392156862745098,
              "rgb(177,22,88)"
             ],
             [
              0.5019607843137255,
              "rgb(203,26,79)"
             ],
             [
              0.5647058823529412,
              "rgb(223,47,67)"
             ],
             [
              0.6274509803921569,
              "rgb(236,76,61)"
             ],
             [
              0.6901960784313725,
              "rgb(242,107,73)"
             ],
             [
              0.7529411764705882,
              "rgb(244,135,95)"
             ],
             [
              0.8156862745098039,
              "rgb(245,162,122)"
             ],
             [
              0.8784313725490196,
              "rgb(246,188,153)"
             ],
             [
              0.9411764705882353,
              "rgb(247,212,187)"
             ],
             [
              1,
              "rgb(250,234,220)"
             ]
            ],
            "type": "histogram2d"
           }
          ],
          "histogram2dcontour": [
           {
            "colorbar": {
             "outlinewidth": 0,
             "tickcolor": "rgb(36,36,36)",
             "ticklen": 8,
             "ticks": "outside",
             "tickwidth": 2
            },
            "colorscale": [
             [
              0,
              "rgb(2,4,25)"
             ],
             [
              0.06274509803921569,
              "rgb(24,15,41)"
             ],
             [
              0.12549019607843137,
              "rgb(47,23,57)"
             ],
             [
              0.18823529411764706,
              "rgb(71,28,72)"
             ],
             [
              0.25098039215686274,
              "rgb(97,30,82)"
             ],
             [
              0.3137254901960784,
              "rgb(123,30,89)"
             ],
             [
              0.3764705882352941,
              "rgb(150,27,91)"
             ],
             [
              0.4392156862745098,
              "rgb(177,22,88)"
             ],
             [
              0.5019607843137255,
              "rgb(203,26,79)"
             ],
             [
              0.5647058823529412,
              "rgb(223,47,67)"
             ],
             [
              0.6274509803921569,
              "rgb(236,76,61)"
             ],
             [
              0.6901960784313725,
              "rgb(242,107,73)"
             ],
             [
              0.7529411764705882,
              "rgb(244,135,95)"
             ],
             [
              0.8156862745098039,
              "rgb(245,162,122)"
             ],
             [
              0.8784313725490196,
              "rgb(246,188,153)"
             ],
             [
              0.9411764705882353,
              "rgb(247,212,187)"
             ],
             [
              1,
              "rgb(250,234,220)"
             ]
            ],
            "type": "histogram2dcontour"
           }
          ],
          "mesh3d": [
           {
            "colorbar": {
             "outlinewidth": 0,
             "tickcolor": "rgb(36,36,36)",
             "ticklen": 8,
             "ticks": "outside",
             "tickwidth": 2
            },
            "type": "mesh3d"
           }
          ],
          "parcoords": [
           {
            "line": {
             "colorbar": {
              "outlinewidth": 0,
              "tickcolor": "rgb(36,36,36)",
              "ticklen": 8,
              "ticks": "outside",
              "tickwidth": 2
             }
            },
            "type": "parcoords"
           }
          ],
          "pie": [
           {
            "automargin": true,
            "type": "pie"
           }
          ],
          "scatter": [
           {
            "marker": {
             "colorbar": {
              "outlinewidth": 0,
              "tickcolor": "rgb(36,36,36)",
              "ticklen": 8,
              "ticks": "outside",
              "tickwidth": 2
             }
            },
            "type": "scatter"
           }
          ],
          "scatter3d": [
           {
            "line": {
             "colorbar": {
              "outlinewidth": 0,
              "tickcolor": "rgb(36,36,36)",
              "ticklen": 8,
              "ticks": "outside",
              "tickwidth": 2
             }
            },
            "marker": {
             "colorbar": {
              "outlinewidth": 0,
              "tickcolor": "rgb(36,36,36)",
              "ticklen": 8,
              "ticks": "outside",
              "tickwidth": 2
             }
            },
            "type": "scatter3d"
           }
          ],
          "scattercarpet": [
           {
            "marker": {
             "colorbar": {
              "outlinewidth": 0,
              "tickcolor": "rgb(36,36,36)",
              "ticklen": 8,
              "ticks": "outside",
              "tickwidth": 2
             }
            },
            "type": "scattercarpet"
           }
          ],
          "scattergeo": [
           {
            "marker": {
             "colorbar": {
              "outlinewidth": 0,
              "tickcolor": "rgb(36,36,36)",
              "ticklen": 8,
              "ticks": "outside",
              "tickwidth": 2
             }
            },
            "type": "scattergeo"
           }
          ],
          "scattergl": [
           {
            "marker": {
             "colorbar": {
              "outlinewidth": 0,
              "tickcolor": "rgb(36,36,36)",
              "ticklen": 8,
              "ticks": "outside",
              "tickwidth": 2
             }
            },
            "type": "scattergl"
           }
          ],
          "scattermapbox": [
           {
            "marker": {
             "colorbar": {
              "outlinewidth": 0,
              "tickcolor": "rgb(36,36,36)",
              "ticklen": 8,
              "ticks": "outside",
              "tickwidth": 2
             }
            },
            "type": "scattermapbox"
           }
          ],
          "scatterpolar": [
           {
            "marker": {
             "colorbar": {
              "outlinewidth": 0,
              "tickcolor": "rgb(36,36,36)",
              "ticklen": 8,
              "ticks": "outside",
              "tickwidth": 2
             }
            },
            "type": "scatterpolar"
           }
          ],
          "scatterpolargl": [
           {
            "marker": {
             "colorbar": {
              "outlinewidth": 0,
              "tickcolor": "rgb(36,36,36)",
              "ticklen": 8,
              "ticks": "outside",
              "tickwidth": 2
             }
            },
            "type": "scatterpolargl"
           }
          ],
          "scatterternary": [
           {
            "marker": {
             "colorbar": {
              "outlinewidth": 0,
              "tickcolor": "rgb(36,36,36)",
              "ticklen": 8,
              "ticks": "outside",
              "tickwidth": 2
             }
            },
            "type": "scatterternary"
           }
          ],
          "surface": [
           {
            "colorbar": {
             "outlinewidth": 0,
             "tickcolor": "rgb(36,36,36)",
             "ticklen": 8,
             "ticks": "outside",
             "tickwidth": 2
            },
            "colorscale": [
             [
              0,
              "rgb(2,4,25)"
             ],
             [
              0.06274509803921569,
              "rgb(24,15,41)"
             ],
             [
              0.12549019607843137,
              "rgb(47,23,57)"
             ],
             [
              0.18823529411764706,
              "rgb(71,28,72)"
             ],
             [
              0.25098039215686274,
              "rgb(97,30,82)"
             ],
             [
              0.3137254901960784,
              "rgb(123,30,89)"
             ],
             [
              0.3764705882352941,
              "rgb(150,27,91)"
             ],
             [
              0.4392156862745098,
              "rgb(177,22,88)"
             ],
             [
              0.5019607843137255,
              "rgb(203,26,79)"
             ],
             [
              0.5647058823529412,
              "rgb(223,47,67)"
             ],
             [
              0.6274509803921569,
              "rgb(236,76,61)"
             ],
             [
              0.6901960784313725,
              "rgb(242,107,73)"
             ],
             [
              0.7529411764705882,
              "rgb(244,135,95)"
             ],
             [
              0.8156862745098039,
              "rgb(245,162,122)"
             ],
             [
              0.8784313725490196,
              "rgb(246,188,153)"
             ],
             [
              0.9411764705882353,
              "rgb(247,212,187)"
             ],
             [
              1,
              "rgb(250,234,220)"
             ]
            ],
            "type": "surface"
           }
          ],
          "table": [
           {
            "cells": {
             "fill": {
              "color": "rgb(231,231,240)"
             },
             "line": {
              "color": "white"
             }
            },
            "header": {
             "fill": {
              "color": "rgb(183,183,191)"
             },
             "line": {
              "color": "white"
             }
            },
            "type": "table"
           }
          ]
         },
         "layout": {
          "annotationdefaults": {
           "arrowcolor": "rgb(67,103,167)"
          },
          "coloraxis": {
           "colorbar": {
            "outlinewidth": 0,
            "tickcolor": "rgb(36,36,36)",
            "ticklen": 8,
            "ticks": "outside",
            "tickwidth": 2
           }
          },
          "colorscale": {
           "sequential": [
            [
             0,
             "rgb(2,4,25)"
            ],
            [
             0.06274509803921569,
             "rgb(24,15,41)"
            ],
            [
             0.12549019607843137,
             "rgb(47,23,57)"
            ],
            [
             0.18823529411764706,
             "rgb(71,28,72)"
            ],
            [
             0.25098039215686274,
             "rgb(97,30,82)"
            ],
            [
             0.3137254901960784,
             "rgb(123,30,89)"
            ],
            [
             0.3764705882352941,
             "rgb(150,27,91)"
            ],
            [
             0.4392156862745098,
             "rgb(177,22,88)"
            ],
            [
             0.5019607843137255,
             "rgb(203,26,79)"
            ],
            [
             0.5647058823529412,
             "rgb(223,47,67)"
            ],
            [
             0.6274509803921569,
             "rgb(236,76,61)"
            ],
            [
             0.6901960784313725,
             "rgb(242,107,73)"
            ],
            [
             0.7529411764705882,
             "rgb(244,135,95)"
            ],
            [
             0.8156862745098039,
             "rgb(245,162,122)"
            ],
            [
             0.8784313725490196,
             "rgb(246,188,153)"
            ],
            [
             0.9411764705882353,
             "rgb(247,212,187)"
            ],
            [
             1,
             "rgb(250,234,220)"
            ]
           ],
           "sequentialminus": [
            [
             0,
             "rgb(2,4,25)"
            ],
            [
             0.06274509803921569,
             "rgb(24,15,41)"
            ],
            [
             0.12549019607843137,
             "rgb(47,23,57)"
            ],
            [
             0.18823529411764706,
             "rgb(71,28,72)"
            ],
            [
             0.25098039215686274,
             "rgb(97,30,82)"
            ],
            [
             0.3137254901960784,
             "rgb(123,30,89)"
            ],
            [
             0.3764705882352941,
             "rgb(150,27,91)"
            ],
            [
             0.4392156862745098,
             "rgb(177,22,88)"
            ],
            [
             0.5019607843137255,
             "rgb(203,26,79)"
            ],
            [
             0.5647058823529412,
             "rgb(223,47,67)"
            ],
            [
             0.6274509803921569,
             "rgb(236,76,61)"
            ],
            [
             0.6901960784313725,
             "rgb(242,107,73)"
            ],
            [
             0.7529411764705882,
             "rgb(244,135,95)"
            ],
            [
             0.8156862745098039,
             "rgb(245,162,122)"
            ],
            [
             0.8784313725490196,
             "rgb(246,188,153)"
            ],
            [
             0.9411764705882353,
             "rgb(247,212,187)"
            ],
            [
             1,
             "rgb(250,234,220)"
            ]
           ]
          },
          "colorway": [
           "rgb(76,114,176)",
           "rgb(221,132,82)",
           "rgb(85,168,104)",
           "rgb(196,78,82)",
           "rgb(129,114,179)",
           "rgb(147,120,96)",
           "rgb(218,139,195)",
           "rgb(140,140,140)",
           "rgb(204,185,116)",
           "rgb(100,181,205)"
          ],
          "font": {
           "color": "rgb(36,36,36)"
          },
          "geo": {
           "bgcolor": "white",
           "lakecolor": "white",
           "landcolor": "rgb(234,234,242)",
           "showlakes": true,
           "showland": true,
           "subunitcolor": "white"
          },
          "hoverlabel": {
           "align": "left"
          },
          "hovermode": "closest",
          "paper_bgcolor": "white",
          "plot_bgcolor": "rgb(234,234,242)",
          "polar": {
           "angularaxis": {
            "gridcolor": "white",
            "linecolor": "white",
            "showgrid": true,
            "ticks": ""
           },
           "bgcolor": "rgb(234,234,242)",
           "radialaxis": {
            "gridcolor": "white",
            "linecolor": "white",
            "showgrid": true,
            "ticks": ""
           }
          },
          "scene": {
           "xaxis": {
            "backgroundcolor": "rgb(234,234,242)",
            "gridcolor": "white",
            "gridwidth": 2,
            "linecolor": "white",
            "showbackground": true,
            "showgrid": true,
            "ticks": "",
            "zerolinecolor": "white"
           },
           "yaxis": {
            "backgroundcolor": "rgb(234,234,242)",
            "gridcolor": "white",
            "gridwidth": 2,
            "linecolor": "white",
            "showbackground": true,
            "showgrid": true,
            "ticks": "",
            "zerolinecolor": "white"
           },
           "zaxis": {
            "backgroundcolor": "rgb(234,234,242)",
            "gridcolor": "white",
            "gridwidth": 2,
            "linecolor": "white",
            "showbackground": true,
            "showgrid": true,
            "ticks": "",
            "zerolinecolor": "white"
           }
          },
          "shapedefaults": {
           "fillcolor": "rgb(67,103,167)",
           "line": {
            "width": 0
           },
           "opacity": 0.5
          },
          "ternary": {
           "aaxis": {
            "gridcolor": "white",
            "linecolor": "white",
            "showgrid": true,
            "ticks": ""
           },
           "baxis": {
            "gridcolor": "white",
            "linecolor": "white",
            "showgrid": true,
            "ticks": ""
           },
           "bgcolor": "rgb(234,234,242)",
           "caxis": {
            "gridcolor": "white",
            "linecolor": "white",
            "showgrid": true,
            "ticks": ""
           }
          },
          "xaxis": {
           "automargin": true,
           "gridcolor": "white",
           "linecolor": "white",
           "showgrid": true,
           "ticks": "",
           "title": {
            "standoff": 15
           },
           "zerolinecolor": "white"
          },
          "yaxis": {
           "automargin": true,
           "gridcolor": "white",
           "linecolor": "white",
           "showgrid": true,
           "ticks": "",
           "title": {
            "standoff": 15
           },
           "zerolinecolor": "white"
          }
         }
        },
        "width": 900,
        "xaxis": {
         "autorange": true,
         "range": [
          -0.5,
          49.5
         ],
         "showgrid": true,
         "showticklabels": false,
         "title": {
          "text": "50 instances of 10 Evaluations On 1 stack parameters"
         },
         "type": "category",
         "zeroline": false
        },
        "yaxis": {
         "autorange": true,
         "gridcolor": "white",
         "range": [
          -0.0007852653122785036,
          0.014920585259830964
         ],
         "showgrid": false,
         "title": {
          "text": "Eval. Distribtuion "
         },
         "type": "linear",
         "zeroline": false
        }
       }
      },
      "image/png": "[encoded data removed]",
      "text/html": [
       "<div>\n",
       "        \n",
       "        \n",
       "            <div id=\"6d60820d-55a1-4ff1-9e3a-be138f015197\" class=\"plotly-graph-div\" style=\"height:400px; width:900px;\"></div>\n",
       "            <script type=\"text/javascript\">\n",
       "                require([\"plotly\"], function(Plotly) {\n",
       "                    window.PLOTLYENV=window.PLOTLYENV || {};\n",
       "                    \n",
       "                if (document.getElementById(\"6d60820d-55a1-4ff1-9e3a-be138f015197\")) {\n",
       "                    Plotly.newPlot(\n",
       "                        '6d60820d-55a1-4ff1-9e3a-be138f015197',\n",
       "                        [{\"marker\": {\"color\": \"black\"}, \"type\": \"box\", \"y\": [5.455128484754823e-05, 5.245261490927078e-05, 5.885619611945003e-05, 5.1341106882318854e-05, 4.2800416849786416e-05, 6.258724897634238e-05, 5.966901881038211e-05, 3.032120002899319e-05, 6.748070154571906e-05, 4.4733045797329396e-05]}, {\"marker\": {\"color\": \"black\"}, \"type\": \"box\", \"y\": [0.0010309662902727723, 0.0010309662902727723, 0.0010309662902727723, 0.0010309662902727723, 0.0010309662902727723, 0.0010309662902727723, 0.0010309662902727723, 0.0010309662902727723, 0.0010309662902727723, 0.0010309662902727723]}, {\"marker\": {\"color\": \"black\"}, \"type\": \"box\", \"y\": [0.0013639760436490178, 0.0013639760436490178, 0.0013639760436490178, 0.0013639760436490178, 0.0013639760436490178, 0.0013639760436490178, 0.0013639760436490178, 0.0013639760436490178, 0.0013639760436490178, 0.0013639760436490178]}, {\"marker\": {\"color\": \"black\"}, \"type\": \"box\", \"y\": [0.0033386768773198128, 0.0033386768773198128, 0.0033386768773198128, 0.0033386768773198128, 0.0033386768773198128, 0.0033386768773198128, 0.0033386768773198128, 0.0033386768773198128, 0.0033386768773198128, 0.0033386768773198128]}, {\"marker\": {\"color\": \"black\"}, \"type\": \"box\", \"y\": [5.901401527808048e-05, 9.316412615589797e-05, 7.596659997943789e-05, 8.297574822790921e-05, 7.195736543508247e-05, 6.112561095505953e-05, 6.11408831900917e-05, 0.00010603520786389709, 7.79451074777171e-05, 7.722721784375608e-05]}, {\"marker\": {\"color\": \"black\"}, \"type\": \"box\", \"y\": [0.0024179595056921244, 0.0024179595056921244, 0.0024179595056921244, 0.0024179595056921244, 0.0024179595056921244, 0.0024179595056921244, 0.0024179595056921244, 0.0024179595056921244, 0.0024179595056921244, 0.0024179595056921244]}, {\"marker\": {\"color\": \"black\"}, \"type\": \"box\", \"y\": [5.423399852588773e-05, 3.419406129978597e-05, 6.04535780439619e-05, 5.506348315975629e-05, 4.824358256882988e-05, 6.113365816418082e-05, 6.45070758764632e-05, 3.884577381541021e-05, 3.461398227955215e-05, 4.262079164618626e-05]}, {\"marker\": {\"color\": \"black\"}, \"type\": \"box\", \"y\": [0.00016729407070670277, 0.00016729407070670277, 0.00016729407070670277, 0.00016729407070670277, 0.00016729407070670277, 0.00016729407070670277, 0.00016729407070670277, 0.00016729407070670277, 0.00016729407070670277, 0.00016729407070670277]}, {\"marker\": {\"color\": \"black\"}, \"type\": \"box\", \"y\": [0.0007138874498195946, 0.0007138874498195946, 0.0007138874498195946, 0.0007138874498195946, 0.0007138874498195946, 0.0007138874498195946, 0.0007138874498195946, 0.0007138874498195946, 0.0007138874498195946, 0.0007138874498195946]}, {\"marker\": {\"color\": \"black\"}, \"type\": \"box\", \"y\": [0.0012474308023229241, 0.0012474308023229241, 0.0012474308023229241, 0.0012474308023229241, 0.0012474308023229241, 0.0012474308023229241, 0.0012474308023229241, 0.0012474308023229241, 0.0012474308023229241, 0.0012474308023229241]}, {\"marker\": {\"color\": \"black\"}, \"type\": \"box\", \"y\": [0.0028887896332889795, 0.0029014451429247856, 0.002389081520959735, 0.002379833720624447, 0.002846178598701954, 0.0023186136968433857, 0.0019406334031373262, 0.0024265688844025135, 0.002432591049000621, 0.002865888411179185]}, {\"marker\": {\"color\": \"black\"}, \"type\": \"box\", \"y\": [4.6590834244852886e-05, 5.317102841218002e-05, 5.4368010751204565e-05, 4.1869872802635655e-05, 4.080019425600767e-05, 4.876794264419004e-05, 3.899364310200326e-05, 3.107271186308935e-05, 7.014629227342084e-05, 5.1513692596927285e-05]}, {\"marker\": {\"color\": \"black\"}, \"type\": \"box\", \"y\": [0.00013075907190795988, 0.00017025232955347747, 0.00014287856174632907, 0.00014233397087082267, 0.00010351163655286655, 0.00015927765343803912, 0.00013652716006617993, 0.0001584904530318454, 0.000129919673781842, 8.293698192574084e-05]}, {\"marker\": {\"color\": \"black\"}, \"type\": \"box\", \"y\": [0.0003326981095597148, 0.0003326981095597148, 0.0003326981095597148, 0.0003326981095597148, 0.0003326981095597148, 0.0003326981095597148, 0.0003326981095597148, 0.0003326981095597148, 0.0003326981095597148, 0.0003326981095597148]}, {\"marker\": {\"color\": \"black\"}, \"type\": \"box\", \"y\": [0.00012387227616272867, 0.00012387227616272867, 0.00012387227616272867, 0.00012387227616272867, 0.00012387227616272867, 0.00012387227616272867, 0.00012387227616272867, 0.00012387227616272867, 0.00012387227616272867, 0.00012387227616272867]}, {\"marker\": {\"color\": \"black\"}, \"type\": \"box\", \"y\": [2.3853797301853774e-06, 2.5219244434993016e-06, 2.370082711422583e-06, 2.914772039730451e-06, 2.0699380911537446e-06, 2.893060127462377e-06, 2.4852656679286156e-06, 2.3759778287057998e-06, 2.6578741199045908e-06, 2.07915149985638e-06]}, {\"marker\": {\"color\": \"black\"}, \"type\": \"box\", \"y\": [0.0011233064578846097, 0.0011233064578846097, 0.0011233064578846097, 0.0011233064578846097, 0.0011233064578846097, 0.0011233064578846097, 0.0011233064578846097, 0.0011233064578846097, 0.0011233064578846097, 0.0011233064578846097]}, {\"marker\": {\"color\": \"black\"}, \"type\": \"box\", \"y\": [2.455408321111463e-05, 2.798362766043283e-05, 3.255537012591958e-05, 3.74253504560329e-05, 3.9711005229037255e-05, 3.496425415505655e-05, 3.478572398307733e-05, 3.374800508026965e-05, 2.672128175618127e-05, 2.80304484476801e-05]}, {\"marker\": {\"color\": \"black\"}, \"type\": \"box\", \"y\": [0.000542117515578866, 0.000542117515578866, 0.000542117515578866, 0.000542117515578866, 0.000542117515578866, 0.000542117515578866, 0.000542117515578866, 0.000542117515578866, 0.000542117515578866, 0.000542117515578866]}, {\"marker\": {\"color\": \"black\"}, \"type\": \"box\", \"y\": [6.727490108460188e-05, 9.121026960201561e-05, 6.137185846455395e-05, 6.271802703849971e-05, 8.194433030439541e-05, 7.265702151926234e-05, 6.486800702987239e-05, 5.682932896888815e-05, 5.864297054358758e-05, 7.842361083021387e-05]}, {\"marker\": {\"color\": \"black\"}, \"type\": \"box\", \"y\": [8.342505680047907e-06, 6.9885254561086185e-06, 7.210811418190133e-06, 5.0474282033974305e-06, 6.927392860234249e-06, 6.9251136665116064e-06, 6.633765678998316e-06, 6.437023785110796e-06, 6.640848823735723e-06, 5.208345100982115e-06]}, {\"marker\": {\"color\": \"black\"}, \"type\": \"box\", \"y\": [0.001073400373570621, 0.0008806318510323763, 0.0008695587748661637, 0.0008366521797142923, 0.0008231251849792898, 0.0010265898890793324, 0.0008593762177042663, 0.0009146733209490776, 0.000853924488183111, 0.0010622547706589103]}, {\"marker\": {\"color\": \"black\"}, \"type\": \"box\", \"y\": [0.0027935714460909367, 0.0027935714460909367, 0.0027935714460909367, 0.0027935714460909367, 0.0027935714460909367, 0.0027935714460909367, 0.0027935714460909367, 0.0027935714460909367, 0.0027935714460909367, 0.0027935714460909367]}, {\"marker\": {\"color\": \"black\"}, \"type\": \"box\", \"y\": [0.0002520316920708865, 0.0002520316920708865, 0.0002520316920708865, 0.0002520316920708865, 0.0002520316920708865, 0.0002520316920708865, 0.0002520316920708865, 0.0002520316920708865, 0.0002520316920708865, 0.0002520316920708865]}, {\"marker\": {\"color\": \"black\"}, \"type\": \"box\", \"y\": [0.010464315302670002, 0.01413529273122549, 0.01003284566104412, 0.00803779810667038, 0.01081057172268629, 0.01348878163844347, 0.009451452642679214, 0.008990057744085789, 0.008012531325221062, 0.008401596918702126]}, {\"marker\": {\"color\": \"black\"}, \"type\": \"box\", \"y\": [0.0008837477653287351, 0.000866252463310957, 0.0007356243440881371, 0.0007818252197466791, 0.0007947557605803013, 0.000990724889561534, 0.0007523806416429579, 0.0009029059438034892, 0.0006748284795321524, 0.0009229313000105321]}, {\"marker\": {\"color\": \"black\"}, \"type\": \"box\", \"y\": [1.0532151861752936e-07, 1.1639033203891813e-07, 1.7618971526189853e-07, 1.2300188245717436e-07, 1.495053254529921e-07, 2.0361942176805314e-07, 2.209108771467072e-07, 1.8127255430044897e-07, 2.1568443742125964e-07, 1.429426390586741e-07]}, {\"marker\": {\"color\": \"black\"}, \"type\": \"box\", \"y\": [0.0005991142243146896, 0.00048124033492058516, 0.0004331873496994376, 0.00047010957496240735, 0.0005336381727829576, 0.0004708264605142176, 0.0004184235876891762, 0.00044623942812904716, 0.000518036016728729, 0.0005188151262700558]}, {\"marker\": {\"color\": \"black\"}, \"type\": \"box\", \"y\": [0.00036330800503492355, 0.00036330800503492355, 0.00036330800503492355, 0.00036330800503492355, 0.00036330800503492355, 0.00036330800503492355, 0.00036330800503492355, 0.00036330800503492355, 0.00036330800503492355, 0.00036330800503492355]}, {\"marker\": {\"color\": \"black\"}, \"type\": \"box\", \"y\": [0.0027094471734017134, 0.0027094471734017134, 0.0027094471734017134, 0.0027094471734017134, 0.0027094471734017134, 0.0027094471734017134, 0.0027094471734017134, 0.0027094471734017134, 0.0027094471734017134, 0.0027094471734017134]}, {\"marker\": {\"color\": \"black\"}, \"type\": \"box\", \"y\": [0.0010145541746169329, 0.0013476136373355985, 0.0011625514598563313, 0.000877517566550523, 0.000990954227745533, 0.0015649899141862988, 0.0010197068331763148, 0.0008755360613577068, 0.0016135243931785226, 0.0011636379640549421]}, {\"marker\": {\"color\": \"black\"}, \"type\": \"box\", \"y\": [0.001180895953439176, 0.001180895953439176, 0.001180895953439176, 0.001180895953439176, 0.001180895953439176, 0.001180895953439176, 0.001180895953439176, 0.001180895953439176, 0.001180895953439176, 0.001180895953439176]}, {\"marker\": {\"color\": \"black\"}, \"type\": \"box\", \"y\": [1.6371768651879393e-06, 9.964613809643197e-07, 1.309614617639454e-06, 2.89727336166834e-06, 1.5289813291019527e-06, 1.489950591349043e-06, 1.4484971870842855e-06, 2.7130784019391285e-06, 1.8969368511534412e-06, 1.508676859884872e-06]}, {\"marker\": {\"color\": \"black\"}, \"type\": \"box\", \"y\": [0.0006816174718551338, 0.0006180270574986935, 0.0005266271764412522, 0.0006490470841526985, 0.0005110995261929929, 0.0005323107470758259, 0.0006427066400647163, 0.0006300767417997122, 0.0006862485315650702, 0.0005885091377422214]}, {\"marker\": {\"color\": \"black\"}, \"type\": \"box\", \"y\": [2.721632696989218e-08, 4.852648771702661e-08, 4.989091095808362e-08, 4.187635482821861e-08, 5.61659092568334e-08, 5.010452497344886e-08, 5.167293437580156e-08, 4.2230158925349315e-08, 5.046427986599156e-08, 4.063566905188054e-08]}, {\"marker\": {\"color\": \"black\"}, \"type\": \"box\", \"y\": [0.0029522727709263563, 0.0029522727709263563, 0.0029522727709263563, 0.0029522727709263563, 0.0029522727709263563, 0.0029522727709263563, 0.0029522727709263563, 0.0029522727709263563, 0.0029522727709263563, 0.0029522727709263563]}, {\"marker\": {\"color\": \"black\"}, \"type\": \"box\", \"y\": [1.0936734042843455e-06, 8.541225611224945e-07, 8.280950964945077e-07, 6.046030307516048e-07, 4.879681227976107e-07, 9.636726190365152e-07, 8.636064876554883e-07, 4.251456289239286e-07, 8.089539278444136e-07, 8.959513024819898e-07]}, {\"marker\": {\"color\": \"black\"}, \"type\": \"box\", \"y\": [0.0007966418634168804, 0.000674969982355833, 0.000656849006190896, 0.0007832513656467199, 0.0006586139788851142, 0.0009062254684977233, 0.0006658342899754643, 0.0005103189614601433, 0.0007637397502548993, 0.0006933106924407184]}, {\"marker\": {\"color\": \"black\"}, \"type\": \"box\", \"y\": [0.00158957380335778, 0.00158957380335778, 0.00158957380335778, 0.00158957380335778, 0.00158957380335778, 0.00158957380335778, 0.00158957380335778, 0.00158957380335778, 0.00158957380335778, 0.00158957380335778]}, {\"marker\": {\"color\": \"black\"}, \"type\": \"box\", \"y\": [0.0007706996402703226, 0.0007706996402703226, 0.0007706996402703226, 0.0007706996402703226, 0.0007706996402703226, 0.0007706996402703226, 0.0007706996402703226, 0.0007706996402703226, 0.0007706996402703226, 0.0007706996402703226]}, {\"marker\": {\"color\": \"black\"}, \"type\": \"box\", \"y\": [0.00019799043366219848, 0.00019799043366219848, 0.00019799043366219848, 0.00019799043366219848, 0.00019799043366219848, 0.00019799043366219848, 0.00019799043366219848, 0.00019799043366219848, 0.00019799043366219848, 0.00019799043366219848]}, {\"marker\": {\"color\": \"black\"}, \"type\": \"box\", \"y\": [0.001737393089570105, 0.001737393089570105, 0.001737393089570105, 0.001737393089570105, 0.001737393089570105, 0.001737393089570105, 0.001737393089570105, 0.001737393089570105, 0.001737393089570105, 0.001737393089570105]}, {\"marker\": {\"color\": \"black\"}, \"type\": \"box\", \"y\": [9.361003208141483e-07, 1.693448211881332e-06, 7.767446277284762e-07, 7.415051754833257e-07, 9.105796721087245e-07, 7.768253453832585e-07, 7.789641358613153e-07, 9.588972034180188e-07, 9.760972261574352e-07, 1.0439565585329547e-06]}, {\"marker\": {\"color\": \"black\"}, \"type\": \"box\", \"y\": [9.16322005650727e-06, 1.545414670545142e-05, 2.1915711840847507e-05, 1.4275328794610687e-05, 1.5856923710089177e-05, 2.419544216536451e-05, 1.4348761396831833e-05, 2.5988687411881983e-05, 2.0099747416679747e-05, 2.6898562282440253e-05]}, {\"marker\": {\"color\": \"black\"}, \"type\": \"box\", \"y\": [0.0013877181336283684, 0.0013877181336283684, 0.0013877181336283684, 0.0013877181336283684, 0.0013877181336283684, 0.0013877181336283684, 0.0013877181336283684, 0.0013877181336283684, 0.0013877181336283684, 0.0013877181336283684]}, {\"marker\": {\"color\": \"black\"}, \"type\": \"box\", \"y\": [3.3518742839078186e-06, 2.546343011999852e-06, 5.4288107094180305e-06, 2.9088794235576643e-06, 1.8295004338142462e-06, 3.009488409588812e-06, 4.872840690950397e-06, 3.082725015701726e-06, 3.062161795241991e-06, 1.8469115730113117e-06]}, {\"marker\": {\"color\": \"black\"}, \"type\": \"box\", \"y\": [0.0003648546407930553, 0.0003648546407930553, 0.0003648546407930553, 0.0003648546407930553, 0.0003648546407930553, 0.0003648546407930553, 0.0003648546407930553, 0.0003648546407930553, 0.0003648546407930553, 0.0003648546407930553]}, {\"marker\": {\"color\": \"black\"}, \"type\": \"box\", \"y\": [4.65692464786116e-05, 4.3258762161713094e-05, 3.941356044379063e-05, 4.283953967387788e-05, 3.7099074688740075e-05, 4.325612462707795e-05, 4.2399042285978794e-05, 4.086015542270616e-05, 4.420689583639614e-05, 2.5756120521691628e-05]}, {\"marker\": {\"color\": \"black\"}, \"type\": \"box\", \"y\": [0.00012266779958736151, 8.808400161797181e-05, 0.00011050259490730241, 0.00010116050543729216, 0.00010785026825033128, 9.680363291408867e-05, 9.844397573033348e-05, 0.00010533861495787278, 0.0001351828977931291, 0.00011058659583795816]}, {\"marker\": {\"color\": \"black\"}, \"type\": \"box\", \"y\": [0.0031473736744374037, 0.0031473736744374037, 0.0031473736744374037, 0.0031473736744374037, 0.0031473736744374037, 0.0031473736744374037, 0.0031473736744374037, 0.0031473736744374037, 0.0031473736744374037, 0.0031473736744374037]}],\n",
       "                        {\"font\": {\"family\": \"Times New Roman\", \"size\": 17}, \"height\": 400, \"margin\": {\"b\": 1, \"l\": 0, \"r\": 1, \"t\": 5}, \"paper_bgcolor\": \"rgb(233,233,233)\", \"plot_bgcolor\": \"rgb(233,233,233)\", \"showlegend\": false, \"template\": {\"data\": {\"bar\": [{\"error_x\": {\"color\": \"rgb(36,36,36)\"}, \"error_y\": {\"color\": \"rgb(36,36,36)\"}, \"marker\": {\"line\": {\"color\": \"rgb(234,234,242)\", \"width\": 0.5}}, \"type\": \"bar\"}], \"barpolar\": [{\"marker\": {\"line\": {\"color\": \"rgb(234,234,242)\", \"width\": 0.5}}, \"type\": \"barpolar\"}], \"carpet\": [{\"aaxis\": {\"endlinecolor\": \"rgb(36,36,36)\", \"gridcolor\": \"white\", \"linecolor\": \"white\", \"minorgridcolor\": \"white\", \"startlinecolor\": \"rgb(36,36,36)\"}, \"baxis\": {\"endlinecolor\": \"rgb(36,36,36)\", \"gridcolor\": \"white\", \"linecolor\": \"white\", \"minorgridcolor\": \"white\", \"startlinecolor\": \"rgb(36,36,36)\"}, \"type\": \"carpet\"}], \"choropleth\": [{\"colorbar\": {\"outlinewidth\": 0, \"tickcolor\": \"rgb(36,36,36)\", \"ticklen\": 8, \"ticks\": \"outside\", \"tickwidth\": 2}, \"type\": \"choropleth\"}], \"contour\": [{\"colorbar\": {\"outlinewidth\": 0, \"tickcolor\": \"rgb(36,36,36)\", \"ticklen\": 8, \"ticks\": \"outside\", \"tickwidth\": 2}, \"colorscale\": [[0.0, \"rgb(2,4,25)\"], [0.06274509803921569, \"rgb(24,15,41)\"], [0.12549019607843137, \"rgb(47,23,57)\"], [0.18823529411764706, \"rgb(71,28,72)\"], [0.25098039215686274, \"rgb(97,30,82)\"], [0.3137254901960784, \"rgb(123,30,89)\"], [0.3764705882352941, \"rgb(150,27,91)\"], [0.4392156862745098, \"rgb(177,22,88)\"], [0.5019607843137255, \"rgb(203,26,79)\"], [0.5647058823529412, \"rgb(223,47,67)\"], [0.6274509803921569, \"rgb(236,76,61)\"], [0.6901960784313725, \"rgb(242,107,73)\"], [0.7529411764705882, \"rgb(244,135,95)\"], [0.8156862745098039, \"rgb(245,162,122)\"], [0.8784313725490196, \"rgb(246,188,153)\"], [0.9411764705882353, \"rgb(247,212,187)\"], [1.0, \"rgb(250,234,220)\"]], \"type\": \"contour\"}], \"contourcarpet\": [{\"colorbar\": {\"outlinewidth\": 0, \"tickcolor\": \"rgb(36,36,36)\", \"ticklen\": 8, \"ticks\": \"outside\", \"tickwidth\": 2}, \"type\": \"contourcarpet\"}], \"heatmap\": [{\"colorbar\": {\"outlinewidth\": 0, \"tickcolor\": \"rgb(36,36,36)\", \"ticklen\": 8, \"ticks\": \"outside\", \"tickwidth\": 2}, \"colorscale\": [[0.0, \"rgb(2,4,25)\"], [0.06274509803921569, \"rgb(24,15,41)\"], [0.12549019607843137, \"rgb(47,23,57)\"], [0.18823529411764706, \"rgb(71,28,72)\"], [0.25098039215686274, \"rgb(97,30,82)\"], [0.3137254901960784, \"rgb(123,30,89)\"], [0.3764705882352941, \"rgb(150,27,91)\"], [0.4392156862745098, \"rgb(177,22,88)\"], [0.5019607843137255, \"rgb(203,26,79)\"], [0.5647058823529412, \"rgb(223,47,67)\"], [0.6274509803921569, \"rgb(236,76,61)\"], [0.6901960784313725, \"rgb(242,107,73)\"], [0.7529411764705882, \"rgb(244,135,95)\"], [0.8156862745098039, \"rgb(245,162,122)\"], [0.8784313725490196, \"rgb(246,188,153)\"], [0.9411764705882353, \"rgb(247,212,187)\"], [1.0, \"rgb(250,234,220)\"]], \"type\": \"heatmap\"}], \"heatmapgl\": [{\"colorbar\": {\"outlinewidth\": 0, \"tickcolor\": \"rgb(36,36,36)\", \"ticklen\": 8, \"ticks\": \"outside\", \"tickwidth\": 2}, \"colorscale\": [[0.0, \"rgb(2,4,25)\"], [0.06274509803921569, \"rgb(24,15,41)\"], [0.12549019607843137, \"rgb(47,23,57)\"], [0.18823529411764706, \"rgb(71,28,72)\"], [0.25098039215686274, \"rgb(97,30,82)\"], [0.3137254901960784, \"rgb(123,30,89)\"], [0.3764705882352941, \"rgb(150,27,91)\"], [0.4392156862745098, \"rgb(177,22,88)\"], [0.5019607843137255, \"rgb(203,26,79)\"], [0.5647058823529412, \"rgb(223,47,67)\"], [0.6274509803921569, \"rgb(236,76,61)\"], [0.6901960784313725, \"rgb(242,107,73)\"], [0.7529411764705882, \"rgb(244,135,95)\"], [0.8156862745098039, \"rgb(245,162,122)\"], [0.8784313725490196, \"rgb(246,188,153)\"], [0.9411764705882353, \"rgb(247,212,187)\"], [1.0, \"rgb(250,234,220)\"]], \"type\": \"heatmapgl\"}], \"histogram\": [{\"marker\": {\"colorbar\": {\"outlinewidth\": 0, \"tickcolor\": \"rgb(36,36,36)\", \"ticklen\": 8, \"ticks\": \"outside\", \"tickwidth\": 2}}, \"type\": \"histogram\"}], \"histogram2d\": [{\"colorbar\": {\"outlinewidth\": 0, \"tickcolor\": \"rgb(36,36,36)\", \"ticklen\": 8, \"ticks\": \"outside\", \"tickwidth\": 2}, \"colorscale\": [[0.0, \"rgb(2,4,25)\"], [0.06274509803921569, \"rgb(24,15,41)\"], [0.12549019607843137, \"rgb(47,23,57)\"], [0.18823529411764706, \"rgb(71,28,72)\"], [0.25098039215686274, \"rgb(97,30,82)\"], [0.3137254901960784, \"rgb(123,30,89)\"], [0.3764705882352941, \"rgb(150,27,91)\"], [0.4392156862745098, \"rgb(177,22,88)\"], [0.5019607843137255, \"rgb(203,26,79)\"], [0.5647058823529412, \"rgb(223,47,67)\"], [0.6274509803921569, \"rgb(236,76,61)\"], [0.6901960784313725, \"rgb(242,107,73)\"], [0.7529411764705882, \"rgb(244,135,95)\"], [0.8156862745098039, \"rgb(245,162,122)\"], [0.8784313725490196, \"rgb(246,188,153)\"], [0.9411764705882353, \"rgb(247,212,187)\"], [1.0, \"rgb(250,234,220)\"]], \"type\": \"histogram2d\"}], \"histogram2dcontour\": [{\"colorbar\": {\"outlinewidth\": 0, \"tickcolor\": \"rgb(36,36,36)\", \"ticklen\": 8, \"ticks\": \"outside\", \"tickwidth\": 2}, \"colorscale\": [[0.0, \"rgb(2,4,25)\"], [0.06274509803921569, \"rgb(24,15,41)\"], [0.12549019607843137, \"rgb(47,23,57)\"], [0.18823529411764706, \"rgb(71,28,72)\"], [0.25098039215686274, \"rgb(97,30,82)\"], [0.3137254901960784, \"rgb(123,30,89)\"], [0.3764705882352941, \"rgb(150,27,91)\"], [0.4392156862745098, \"rgb(177,22,88)\"], [0.5019607843137255, \"rgb(203,26,79)\"], [0.5647058823529412, \"rgb(223,47,67)\"], [0.6274509803921569, \"rgb(236,76,61)\"], [0.6901960784313725, \"rgb(242,107,73)\"], [0.7529411764705882, \"rgb(244,135,95)\"], [0.8156862745098039, \"rgb(245,162,122)\"], [0.8784313725490196, \"rgb(246,188,153)\"], [0.9411764705882353, \"rgb(247,212,187)\"], [1.0, \"rgb(250,234,220)\"]], \"type\": \"histogram2dcontour\"}], \"mesh3d\": [{\"colorbar\": {\"outlinewidth\": 0, \"tickcolor\": \"rgb(36,36,36)\", \"ticklen\": 8, \"ticks\": \"outside\", \"tickwidth\": 2}, \"type\": \"mesh3d\"}], \"parcoords\": [{\"line\": {\"colorbar\": {\"outlinewidth\": 0, \"tickcolor\": \"rgb(36,36,36)\", \"ticklen\": 8, \"ticks\": \"outside\", \"tickwidth\": 2}}, \"type\": \"parcoords\"}], \"pie\": [{\"automargin\": true, \"type\": \"pie\"}], \"scatter\": [{\"marker\": {\"colorbar\": {\"outlinewidth\": 0, \"tickcolor\": \"rgb(36,36,36)\", \"ticklen\": 8, \"ticks\": \"outside\", \"tickwidth\": 2}}, \"type\": \"scatter\"}], \"scatter3d\": [{\"line\": {\"colorbar\": {\"outlinewidth\": 0, \"tickcolor\": \"rgb(36,36,36)\", \"ticklen\": 8, \"ticks\": \"outside\", \"tickwidth\": 2}}, \"marker\": {\"colorbar\": {\"outlinewidth\": 0, \"tickcolor\": \"rgb(36,36,36)\", \"ticklen\": 8, \"ticks\": \"outside\", \"tickwidth\": 2}}, \"type\": \"scatter3d\"}], \"scattercarpet\": [{\"marker\": {\"colorbar\": {\"outlinewidth\": 0, \"tickcolor\": \"rgb(36,36,36)\", \"ticklen\": 8, \"ticks\": \"outside\", \"tickwidth\": 2}}, \"type\": \"scattercarpet\"}], \"scattergeo\": [{\"marker\": {\"colorbar\": {\"outlinewidth\": 0, \"tickcolor\": \"rgb(36,36,36)\", \"ticklen\": 8, \"ticks\": \"outside\", \"tickwidth\": 2}}, \"type\": \"scattergeo\"}], \"scattergl\": [{\"marker\": {\"colorbar\": {\"outlinewidth\": 0, \"tickcolor\": \"rgb(36,36,36)\", \"ticklen\": 8, \"ticks\": \"outside\", \"tickwidth\": 2}}, \"type\": \"scattergl\"}], \"scattermapbox\": [{\"marker\": {\"colorbar\": {\"outlinewidth\": 0, \"tickcolor\": \"rgb(36,36,36)\", \"ticklen\": 8, \"ticks\": \"outside\", \"tickwidth\": 2}}, \"type\": \"scattermapbox\"}], \"scatterpolar\": [{\"marker\": {\"colorbar\": {\"outlinewidth\": 0, \"tickcolor\": \"rgb(36,36,36)\", \"ticklen\": 8, \"ticks\": \"outside\", \"tickwidth\": 2}}, \"type\": \"scatterpolar\"}], \"scatterpolargl\": [{\"marker\": {\"colorbar\": {\"outlinewidth\": 0, \"tickcolor\": \"rgb(36,36,36)\", \"ticklen\": 8, \"ticks\": \"outside\", \"tickwidth\": 2}}, \"type\": \"scatterpolargl\"}], \"scatterternary\": [{\"marker\": {\"colorbar\": {\"outlinewidth\": 0, \"tickcolor\": \"rgb(36,36,36)\", \"ticklen\": 8, \"ticks\": \"outside\", \"tickwidth\": 2}}, \"type\": \"scatterternary\"}], \"surface\": [{\"colorbar\": {\"outlinewidth\": 0, \"tickcolor\": \"rgb(36,36,36)\", \"ticklen\": 8, \"ticks\": \"outside\", \"tickwidth\": 2}, \"colorscale\": [[0.0, \"rgb(2,4,25)\"], [0.06274509803921569, \"rgb(24,15,41)\"], [0.12549019607843137, \"rgb(47,23,57)\"], [0.18823529411764706, \"rgb(71,28,72)\"], [0.25098039215686274, \"rgb(97,30,82)\"], [0.3137254901960784, \"rgb(123,30,89)\"], [0.3764705882352941, \"rgb(150,27,91)\"], [0.4392156862745098, \"rgb(177,22,88)\"], [0.5019607843137255, \"rgb(203,26,79)\"], [0.5647058823529412, \"rgb(223,47,67)\"], [0.6274509803921569, \"rgb(236,76,61)\"], [0.6901960784313725, \"rgb(242,107,73)\"], [0.7529411764705882, \"rgb(244,135,95)\"], [0.8156862745098039, \"rgb(245,162,122)\"], [0.8784313725490196, \"rgb(246,188,153)\"], [0.9411764705882353, \"rgb(247,212,187)\"], [1.0, \"rgb(250,234,220)\"]], \"type\": \"surface\"}], \"table\": [{\"cells\": {\"fill\": {\"color\": \"rgb(231,231,240)\"}, \"line\": {\"color\": \"white\"}}, \"header\": {\"fill\": {\"color\": \"rgb(183,183,191)\"}, \"line\": {\"color\": \"white\"}}, \"type\": \"table\"}]}, \"layout\": {\"annotationdefaults\": {\"arrowcolor\": \"rgb(67,103,167)\"}, \"coloraxis\": {\"colorbar\": {\"outlinewidth\": 0, \"tickcolor\": \"rgb(36,36,36)\", \"ticklen\": 8, \"ticks\": \"outside\", \"tickwidth\": 2}}, \"colorscale\": {\"sequential\": [[0.0, \"rgb(2,4,25)\"], [0.06274509803921569, \"rgb(24,15,41)\"], [0.12549019607843137, \"rgb(47,23,57)\"], [0.18823529411764706, \"rgb(71,28,72)\"], [0.25098039215686274, \"rgb(97,30,82)\"], [0.3137254901960784, \"rgb(123,30,89)\"], [0.3764705882352941, \"rgb(150,27,91)\"], [0.4392156862745098, \"rgb(177,22,88)\"], [0.5019607843137255, \"rgb(203,26,79)\"], [0.5647058823529412, \"rgb(223,47,67)\"], [0.6274509803921569, \"rgb(236,76,61)\"], [0.6901960784313725, \"rgb(242,107,73)\"], [0.7529411764705882, \"rgb(244,135,95)\"], [0.8156862745098039, \"rgb(245,162,122)\"], [0.8784313725490196, \"rgb(246,188,153)\"], [0.9411764705882353, \"rgb(247,212,187)\"], [1.0, \"rgb(250,234,220)\"]], \"sequentialminus\": [[0.0, \"rgb(2,4,25)\"], [0.06274509803921569, \"rgb(24,15,41)\"], [0.12549019607843137, \"rgb(47,23,57)\"], [0.18823529411764706, \"rgb(71,28,72)\"], [0.25098039215686274, \"rgb(97,30,82)\"], [0.3137254901960784, \"rgb(123,30,89)\"], [0.3764705882352941, \"rgb(150,27,91)\"], [0.4392156862745098, \"rgb(177,22,88)\"], [0.5019607843137255, \"rgb(203,26,79)\"], [0.5647058823529412, \"rgb(223,47,67)\"], [0.6274509803921569, \"rgb(236,76,61)\"], [0.6901960784313725, \"rgb(242,107,73)\"], [0.7529411764705882, \"rgb(244,135,95)\"], [0.8156862745098039, \"rgb(245,162,122)\"], [0.8784313725490196, \"rgb(246,188,153)\"], [0.9411764705882353, \"rgb(247,212,187)\"], [1.0, \"rgb(250,234,220)\"]]}, \"colorway\": [\"rgb(76,114,176)\", \"rgb(221,132,82)\", \"rgb(85,168,104)\", \"rgb(196,78,82)\", \"rgb(129,114,179)\", \"rgb(147,120,96)\", \"rgb(218,139,195)\", \"rgb(140,140,140)\", \"rgb(204,185,116)\", \"rgb(100,181,205)\"], \"font\": {\"color\": \"rgb(36,36,36)\"}, \"geo\": {\"bgcolor\": \"white\", \"lakecolor\": \"white\", \"landcolor\": \"rgb(234,234,242)\", \"showlakes\": true, \"showland\": true, \"subunitcolor\": \"white\"}, \"hoverlabel\": {\"align\": \"left\"}, \"hovermode\": \"closest\", \"paper_bgcolor\": \"white\", \"plot_bgcolor\": \"rgb(234,234,242)\", \"polar\": {\"angularaxis\": {\"gridcolor\": \"white\", \"linecolor\": \"white\", \"showgrid\": true, \"ticks\": \"\"}, \"bgcolor\": \"rgb(234,234,242)\", \"radialaxis\": {\"gridcolor\": \"white\", \"linecolor\": \"white\", \"showgrid\": true, \"ticks\": \"\"}}, \"scene\": {\"xaxis\": {\"backgroundcolor\": \"rgb(234,234,242)\", \"gridcolor\": \"white\", \"gridwidth\": 2, \"linecolor\": \"white\", \"showbackground\": true, \"showgrid\": true, \"ticks\": \"\", \"zerolinecolor\": \"white\"}, \"yaxis\": {\"backgroundcolor\": \"rgb(234,234,242)\", \"gridcolor\": \"white\", \"gridwidth\": 2, \"linecolor\": \"white\", \"showbackground\": true, \"showgrid\": true, \"ticks\": \"\", \"zerolinecolor\": \"white\"}, \"zaxis\": {\"backgroundcolor\": \"rgb(234,234,242)\", \"gridcolor\": \"white\", \"gridwidth\": 2, \"linecolor\": \"white\", \"showbackground\": true, \"showgrid\": true, \"ticks\": \"\", \"zerolinecolor\": \"white\"}}, \"shapedefaults\": {\"fillcolor\": \"rgb(67,103,167)\", \"line\": {\"width\": 0}, \"opacity\": 0.5}, \"ternary\": {\"aaxis\": {\"gridcolor\": \"white\", \"linecolor\": \"white\", \"showgrid\": true, \"ticks\": \"\"}, \"baxis\": {\"gridcolor\": \"white\", \"linecolor\": \"white\", \"showgrid\": true, \"ticks\": \"\"}, \"bgcolor\": \"rgb(234,234,242)\", \"caxis\": {\"gridcolor\": \"white\", \"linecolor\": \"white\", \"showgrid\": true, \"ticks\": \"\"}}, \"xaxis\": {\"automargin\": true, \"gridcolor\": \"white\", \"linecolor\": \"white\", \"showgrid\": true, \"ticks\": \"\", \"title\": {\"standoff\": 15}, \"zerolinecolor\": \"white\"}, \"yaxis\": {\"automargin\": true, \"gridcolor\": \"white\", \"linecolor\": \"white\", \"showgrid\": true, \"ticks\": \"\", \"title\": {\"standoff\": 15}, \"zerolinecolor\": \"white\"}}}, \"width\": 900, \"xaxis\": {\"showgrid\": true, \"showticklabels\": false, \"title\": {\"text\": \"50 instances of 10 Evaluations On 1 stack parameters\"}, \"zeroline\": false}, \"yaxis\": {\"gridcolor\": \"white\", \"showgrid\": false, \"title\": {\"text\": \"Eval. Distribtuion \"}, \"zeroline\": false}},\n",
       "                        {\"responsive\": true}\n",
       "                    ).then(function(){\n",
       "                            \n",
       "var gd = document.getElementById('6d60820d-55a1-4ff1-9e3a-be138f015197');\n",
       "var x = new MutationObserver(function (mutations, observer) {{\n",
       "        var display = window.getComputedStyle(gd).display;\n",
       "        if (!display || display === 'none') {{\n",
       "            console.log([gd, 'removed!']);\n",
       "            Plotly.purge(gd);\n",
       "            observer.disconnect();\n",
       "        }}\n",
       "}});\n",
       "\n",
       "// Listen for the removal of the full notebook cells\n",
       "var notebookContainer = gd.closest('#notebook-container');\n",
       "if (notebookContainer) {{\n",
       "    x.observe(notebookContainer, {childList: true});\n",
       "}}\n",
       "\n",
       "// Listen for the clearing of the current output cell\n",
       "var outputEl = gd.closest('.output');\n",
       "if (outputEl) {{\n",
       "    x.observe(outputEl, {childList: true});\n",
       "}}\n",
       "\n",
       "                        })\n",
       "                };\n",
       "                });\n",
       "            </script>\n",
       "        </div>"
      ]
     },
     "metadata": {},
     "output_type": "display_data"
    }
   ],
   "source": [
    "\n",
    "\n",
    "import plotly.graph_objects as go\n",
    "import numpy as np\n",
    "from kaleido.scopes.plotly import PlotlyScope\n",
    "scope = PlotlyScope()\n",
    "N = 50    # Number of boxes\n",
    "\n",
    "# generate an array of rainbow colors by fixing the saturation and lightness of the HSL\n",
    "# representation of colour and marching around the hue.\n",
    "# Plotly accepts any CSS color format, see e.g. http://www.w3schools.com/cssref/css_colors_legal.asp.\n",
    "c = ['hsl('+str(h)+',50%'+',50%)' for h in np.linspace(0, 360, N)]\n",
    "\n",
    "# Each box is represented by a dict that contains the data, the type, and the colour.\n",
    "# Use list comprehension to describe N boxes, each with a different colour and with different randomly generated data:\n",
    "fig = go.Figure(data=[go.Box(\n",
    "    y=row,\n",
    "    marker_color=\"black\",\n",
    "    ) for i,row in enumerate(all_rows[0:N])])\n",
    "\n",
    "# format the layout\n",
    "fig.update_layout(\n",
    "    xaxis=dict(showgrid=False, zeroline=False, showticklabels=False),\n",
    "    yaxis=dict(zeroline=False, gridcolor='white'),\n",
    "#     yaxis_type=\"log\",\n",
    "    paper_bgcolor='rgb(233,233,233)',\n",
    "    plot_bgcolor='rgb(233,233,233)',\n",
    "    showlegend=False,\n",
    "    template=\"seaborn\",\n",
    "    width=900,height=400,\n",
    "    font_family=\"Times New Roman\",\n",
    "    margin=dict(l=0, t=5,r=1,  b=1),\n",
    "    font_size=17,\n",
    "    \n",
    ")\n",
    "fig.update_xaxes(title_text=\"%d instances of 10 Evaluations On %d stack parameters\"%(N,stack_size))\n",
    "fig.update_yaxes(title_text='Eval. Distribtuion ',\n",
    "                   \n",
    "#                     dtick=1,\n",
    "                    )\n",
    "fig.update_xaxes(showgrid=True,zeroline=False,)\n",
    "fig.update_yaxes(showgrid=False,zeroline=False,)\n",
    "\n",
    "fig.show()\n",
    "with open(\"eval_stability_stacksize%d.pdf\"%stack_size, \"wb\") as f:\n",
    "    f.write(scope.transform(fig, format=\"pdf\",width=1000,height=400,))\n"
   ]
  },
  {
   "cell_type": "code",
   "execution_count": 6,
   "metadata": {},
   "outputs": [
    {
     "name": "stdout",
     "output_type": "stream",
     "text": [
      "----------------------------------------------------------------\n",
      "        Layer (type)               Output Shape         Param #\n",
      "================================================================\n",
      "            Linear-1                   [-1, 30]           1,830\n",
      "             PReLU-2                   [-1, 30]               1\n",
      "            Linear-3                   [-1, 10]             310\n",
      "             PReLU-4                   [-1, 10]               1\n",
      "            Linear-5                   [-1, 10]             110\n",
      "             PReLU-6                   [-1, 10]               1\n",
      "            Linear-7                    [-1, 9]              99\n",
      "           Softmax-8                    [-1, 9]               0\n",
      "================================================================\n",
      "Total params: 2,352\n",
      "Trainable params: 2,352\n",
      "Non-trainable params: 0\n",
      "----------------------------------------------------------------\n",
      "Input size (MB): 0.00\n",
      "Forward/backward pass size (MB): 0.00\n",
      "Params size (MB): 0.01\n",
      "Estimated Total Size (MB): 0.01\n",
      "----------------------------------------------------------------\n"
     ]
    },
    {
     "data": {
      "image/svg+xml": [
       "<?xml version=\"1.0\" encoding=\"UTF-8\" standalone=\"no\"?>\n",
       "<!DOCTYPE svg PUBLIC \"-//W3C//DTD SVG 1.1//EN\"\n",
       " \"http://www.w3.org/Graphics/SVG/1.1/DTD/svg11.dtd\">\n",
       "<!-- Generated by graphviz version 2.40.1 (20161225.0304)\n",
       " -->\n",
       "<!-- Title: %3 Pages: 1 -->\n",
       "<svg width=\"430pt\" height=\"864pt\"\n",
       " viewBox=\"0.00 0.00 430.35 864.00\" xmlns=\"http://www.w3.org/2000/svg\" xmlns:xlink=\"http://www.w3.org/1999/xlink\">\n",
       "<g id=\"graph0\" class=\"graph\" transform=\"scale(.6585 .6585) rotate(0) translate(4 1308)\">\n",
       "<title>%3</title>\n",
       "<polygon fill=\"#ffffff\" stroke=\"transparent\" points=\"-4,4 -4,-1308 649.5,-1308 649.5,4 -4,4\"/>\n",
       "<!-- 140622263880784 -->\n",
       "<g id=\"node1\" class=\"node\">\n",
       "<title>140622263880784</title>\n",
       "<polygon fill=\"#caff70\" stroke=\"#000000\" points=\"620,-21 515,-21 515,0 620,0 620,-21\"/>\n",
       "<text text-anchor=\"middle\" x=\"567.5\" y=\"-7.4\" font-family=\"Times,serif\" font-size=\"12.00\" fill=\"#000000\">SoftmaxBackward</text>\n",
       "</g>\n",
       "<!-- 140622263879760 -->\n",
       "<g id=\"node2\" class=\"node\">\n",
       "<title>140622263879760</title>\n",
       "<polygon fill=\"#d3d3d3\" stroke=\"#000000\" points=\"613.5,-78 521.5,-78 521.5,-57 613.5,-57 613.5,-78\"/>\n",
       "<text text-anchor=\"middle\" x=\"567.5\" y=\"-64.4\" font-family=\"Times,serif\" font-size=\"12.00\" fill=\"#000000\">AddBackward0</text>\n",
       "</g>\n",
       "<!-- 140622263879760&#45;&gt;140622263880784 -->\n",
       "<g id=\"edge1\" class=\"edge\">\n",
       "<title>140622263879760&#45;&gt;140622263880784</title>\n",
       "<path fill=\"none\" stroke=\"#000000\" d=\"M567.5,-56.7787C567.5,-49.6134 567.5,-39.9517 567.5,-31.3097\"/>\n",
       "<polygon fill=\"#000000\" stroke=\"#000000\" points=\"571.0001,-31.1732 567.5,-21.1732 564.0001,-31.1732 571.0001,-31.1732\"/>\n",
       "</g>\n",
       "<!-- 140622263880656 -->\n",
       "<g id=\"node3\" class=\"node\">\n",
       "<title>140622263880656</title>\n",
       "<polygon fill=\"#d3d3d3\" stroke=\"#000000\" points=\"573,-141.5 462,-141.5 462,-120.5 573,-120.5 573,-141.5\"/>\n",
       "<text text-anchor=\"middle\" x=\"517.5\" y=\"-127.9\" font-family=\"Times,serif\" font-size=\"12.00\" fill=\"#000000\">SqueezeBackward3</text>\n",
       "</g>\n",
       "<!-- 140622263880656&#45;&gt;140622263879760 -->\n",
       "<g id=\"edge2\" class=\"edge\">\n",
       "<title>140622263880656&#45;&gt;140622263879760</title>\n",
       "<path fill=\"none\" stroke=\"#000000\" d=\"M525.9818,-120.2281C533.353,-110.8667 544.1919,-97.1012 552.9468,-85.9826\"/>\n",
       "<polygon fill=\"#000000\" stroke=\"#000000\" points=\"555.7069,-88.1348 559.1434,-78.1128 550.2071,-83.8043 555.7069,-88.1348\"/>\n",
       "</g>\n",
       "<!-- 140622263880080 -->\n",
       "<g id=\"node4\" class=\"node\">\n",
       "<title>140622263880080</title>\n",
       "<polygon fill=\"#d3d3d3\" stroke=\"#000000\" points=\"560,-205 475,-205 475,-184 560,-184 560,-205\"/>\n",
       "<text text-anchor=\"middle\" x=\"517.5\" y=\"-191.4\" font-family=\"Times,serif\" font-size=\"12.00\" fill=\"#000000\">MmBackward</text>\n",
       "</g>\n",
       "<!-- 140622263880080&#45;&gt;140622263880656 -->\n",
       "<g id=\"edge3\" class=\"edge\">\n",
       "<title>140622263880080&#45;&gt;140622263880656</title>\n",
       "<path fill=\"none\" stroke=\"#000000\" d=\"M517.5,-183.7281C517.5,-175.0091 517.5,-162.4699 517.5,-151.8068\"/>\n",
       "<polygon fill=\"#000000\" stroke=\"#000000\" points=\"521.0001,-151.6128 517.5,-141.6128 514.0001,-151.6129 521.0001,-151.6128\"/>\n",
       "</g>\n",
       "<!-- 140622263880720 -->\n",
       "<g id=\"node5\" class=\"node\">\n",
       "<title>140622263880720</title>\n",
       "<polygon fill=\"#d3d3d3\" stroke=\"#000000\" points=\"521.5,-262 397.5,-262 397.5,-241 521.5,-241 521.5,-262\"/>\n",
       "<text text-anchor=\"middle\" x=\"459.5\" y=\"-248.4\" font-family=\"Times,serif\" font-size=\"12.00\" fill=\"#000000\">UnsqueezeBackward0</text>\n",
       "</g>\n",
       "<!-- 140622263880720&#45;&gt;140622263880080 -->\n",
       "<g id=\"edge4\" class=\"edge\">\n",
       "<title>140622263880720&#45;&gt;140622263880080</title>\n",
       "<path fill=\"none\" stroke=\"#000000\" d=\"M470.4094,-240.7787C478.5915,-232.7376 489.9727,-221.5527 499.4965,-212.1931\"/>\n",
       "<polygon fill=\"#000000\" stroke=\"#000000\" points=\"501.9605,-214.6788 506.6396,-205.1732 497.054,-209.6862 501.9605,-214.6788\"/>\n",
       "</g>\n",
       "<!-- 140622263880144 -->\n",
       "<g id=\"node6\" class=\"node\">\n",
       "<title>140622263880144</title>\n",
       "<polygon fill=\"#d3d3d3\" stroke=\"#000000\" points=\"504.5,-325.5 414.5,-325.5 414.5,-304.5 504.5,-304.5 504.5,-325.5\"/>\n",
       "<text text-anchor=\"middle\" x=\"459.5\" y=\"-311.9\" font-family=\"Times,serif\" font-size=\"12.00\" fill=\"#000000\">PreluBackward</text>\n",
       "</g>\n",
       "<!-- 140622263880144&#45;&gt;140622263880720 -->\n",
       "<g id=\"edge5\" class=\"edge\">\n",
       "<title>140622263880144&#45;&gt;140622263880720</title>\n",
       "<path fill=\"none\" stroke=\"#000000\" d=\"M459.5,-304.2281C459.5,-295.5091 459.5,-282.9699 459.5,-272.3068\"/>\n",
       "<polygon fill=\"#000000\" stroke=\"#000000\" points=\"463.0001,-272.1128 459.5,-262.1128 456.0001,-272.1129 463.0001,-272.1128\"/>\n",
       "</g>\n",
       "<!-- 140622263880528 -->\n",
       "<g id=\"node7\" class=\"node\">\n",
       "<title>140622263880528</title>\n",
       "<polygon fill=\"#d3d3d3\" stroke=\"#000000\" points=\"459.5,-395.5 367.5,-395.5 367.5,-374.5 459.5,-374.5 459.5,-395.5\"/>\n",
       "<text text-anchor=\"middle\" x=\"413.5\" y=\"-381.9\" font-family=\"Times,serif\" font-size=\"12.00\" fill=\"#000000\">AddBackward0</text>\n",
       "</g>\n",
       "<!-- 140622263880528&#45;&gt;140622263880144 -->\n",
       "<g id=\"edge6\" class=\"edge\">\n",
       "<title>140622263880528&#45;&gt;140622263880144</title>\n",
       "<path fill=\"none\" stroke=\"#000000\" d=\"M420.4864,-374.3685C427.4437,-363.7814 438.2818,-347.2886 446.7708,-334.3705\"/>\n",
       "<polygon fill=\"#000000\" stroke=\"#000000\" points=\"449.881,-336.0108 452.4478,-325.7315 444.031,-332.1665 449.881,-336.0108\"/>\n",
       "</g>\n",
       "<!-- 140622263880464 -->\n",
       "<g id=\"node8\" class=\"node\">\n",
       "<title>140622263880464</title>\n",
       "<polygon fill=\"#d3d3d3\" stroke=\"#000000\" points=\"419,-465.5 308,-465.5 308,-444.5 419,-444.5 419,-465.5\"/>\n",
       "<text text-anchor=\"middle\" x=\"363.5\" y=\"-451.9\" font-family=\"Times,serif\" font-size=\"12.00\" fill=\"#000000\">SqueezeBackward3</text>\n",
       "</g>\n",
       "<!-- 140622263880464&#45;&gt;140622263880528 -->\n",
       "<g id=\"edge7\" class=\"edge\">\n",
       "<title>140622263880464&#45;&gt;140622263880528</title>\n",
       "<path fill=\"none\" stroke=\"#000000\" d=\"M371.0939,-444.3685C378.7296,-433.6786 390.6659,-416.9678 399.9319,-403.9953\"/>\n",
       "<polygon fill=\"#000000\" stroke=\"#000000\" points=\"402.8703,-405.9032 405.8346,-395.7315 397.1741,-401.8346 402.8703,-405.9032\"/>\n",
       "</g>\n",
       "<!-- 140622263879632 -->\n",
       "<g id=\"node9\" class=\"node\">\n",
       "<title>140622263879632</title>\n",
       "<polygon fill=\"#d3d3d3\" stroke=\"#000000\" points=\"406,-529 321,-529 321,-508 406,-508 406,-529\"/>\n",
       "<text text-anchor=\"middle\" x=\"363.5\" y=\"-515.4\" font-family=\"Times,serif\" font-size=\"12.00\" fill=\"#000000\">MmBackward</text>\n",
       "</g>\n",
       "<!-- 140622263879632&#45;&gt;140622263880464 -->\n",
       "<g id=\"edge8\" class=\"edge\">\n",
       "<title>140622263879632&#45;&gt;140622263880464</title>\n",
       "<path fill=\"none\" stroke=\"#000000\" d=\"M363.5,-507.7281C363.5,-499.0091 363.5,-486.4699 363.5,-475.8068\"/>\n",
       "<polygon fill=\"#000000\" stroke=\"#000000\" points=\"367.0001,-475.6128 363.5,-465.6128 360.0001,-475.6129 367.0001,-475.6128\"/>\n",
       "</g>\n",
       "<!-- 140622263879504 -->\n",
       "<g id=\"node10\" class=\"node\">\n",
       "<title>140622263879504</title>\n",
       "<polygon fill=\"#d3d3d3\" stroke=\"#000000\" points=\"367.5,-586 243.5,-586 243.5,-565 367.5,-565 367.5,-586\"/>\n",
       "<text text-anchor=\"middle\" x=\"305.5\" y=\"-572.4\" font-family=\"Times,serif\" font-size=\"12.00\" fill=\"#000000\">UnsqueezeBackward0</text>\n",
       "</g>\n",
       "<!-- 140622263879504&#45;&gt;140622263879632 -->\n",
       "<g id=\"edge9\" class=\"edge\">\n",
       "<title>140622263879504&#45;&gt;140622263879632</title>\n",
       "<path fill=\"none\" stroke=\"#000000\" d=\"M316.4094,-564.7787C324.5915,-556.7376 335.9727,-545.5527 345.4965,-536.1931\"/>\n",
       "<polygon fill=\"#000000\" stroke=\"#000000\" points=\"347.9605,-538.6788 352.6396,-529.1732 343.054,-533.6862 347.9605,-538.6788\"/>\n",
       "</g>\n",
       "<!-- 140622263879824 -->\n",
       "<g id=\"node11\" class=\"node\">\n",
       "<title>140622263879824</title>\n",
       "<polygon fill=\"#d3d3d3\" stroke=\"#000000\" points=\"350.5,-649.5 260.5,-649.5 260.5,-628.5 350.5,-628.5 350.5,-649.5\"/>\n",
       "<text text-anchor=\"middle\" x=\"305.5\" y=\"-635.9\" font-family=\"Times,serif\" font-size=\"12.00\" fill=\"#000000\">PreluBackward</text>\n",
       "</g>\n",
       "<!-- 140622263879824&#45;&gt;140622263879504 -->\n",
       "<g id=\"edge10\" class=\"edge\">\n",
       "<title>140622263879824&#45;&gt;140622263879504</title>\n",
       "<path fill=\"none\" stroke=\"#000000\" d=\"M305.5,-628.2281C305.5,-619.5091 305.5,-606.9699 305.5,-596.3068\"/>\n",
       "<polygon fill=\"#000000\" stroke=\"#000000\" points=\"309.0001,-596.1128 305.5,-586.1128 302.0001,-596.1129 309.0001,-596.1128\"/>\n",
       "</g>\n",
       "<!-- 140622263879696 -->\n",
       "<g id=\"node12\" class=\"node\">\n",
       "<title>140622263879696</title>\n",
       "<polygon fill=\"#d3d3d3\" stroke=\"#000000\" points=\"305.5,-719.5 213.5,-719.5 213.5,-698.5 305.5,-698.5 305.5,-719.5\"/>\n",
       "<text text-anchor=\"middle\" x=\"259.5\" y=\"-705.9\" font-family=\"Times,serif\" font-size=\"12.00\" fill=\"#000000\">AddBackward0</text>\n",
       "</g>\n",
       "<!-- 140622263879696&#45;&gt;140622263879824 -->\n",
       "<g id=\"edge11\" class=\"edge\">\n",
       "<title>140622263879696&#45;&gt;140622263879824</title>\n",
       "<path fill=\"none\" stroke=\"#000000\" d=\"M266.4864,-698.3685C273.4437,-687.7814 284.2818,-671.2886 292.7708,-658.3705\"/>\n",
       "<polygon fill=\"#000000\" stroke=\"#000000\" points=\"295.881,-660.0108 298.4478,-649.7315 290.031,-656.1665 295.881,-660.0108\"/>\n",
       "</g>\n",
       "<!-- 140622263879568 -->\n",
       "<g id=\"node13\" class=\"node\">\n",
       "<title>140622263879568</title>\n",
       "<polygon fill=\"#d3d3d3\" stroke=\"#000000\" points=\"265,-789.5 154,-789.5 154,-768.5 265,-768.5 265,-789.5\"/>\n",
       "<text text-anchor=\"middle\" x=\"209.5\" y=\"-775.9\" font-family=\"Times,serif\" font-size=\"12.00\" fill=\"#000000\">SqueezeBackward3</text>\n",
       "</g>\n",
       "<!-- 140622263879568&#45;&gt;140622263879696 -->\n",
       "<g id=\"edge12\" class=\"edge\">\n",
       "<title>140622263879568&#45;&gt;140622263879696</title>\n",
       "<path fill=\"none\" stroke=\"#000000\" d=\"M217.0939,-768.3685C224.7296,-757.6786 236.6659,-740.9678 245.9319,-727.9953\"/>\n",
       "<polygon fill=\"#000000\" stroke=\"#000000\" points=\"248.8703,-729.9032 251.8346,-719.7315 243.1741,-725.8346 248.8703,-729.9032\"/>\n",
       "</g>\n",
       "<!-- 140622263879440 -->\n",
       "<g id=\"node14\" class=\"node\">\n",
       "<title>140622263879440</title>\n",
       "<polygon fill=\"#d3d3d3\" stroke=\"#000000\" points=\"252,-853 167,-853 167,-832 252,-832 252,-853\"/>\n",
       "<text text-anchor=\"middle\" x=\"209.5\" y=\"-839.4\" font-family=\"Times,serif\" font-size=\"12.00\" fill=\"#000000\">MmBackward</text>\n",
       "</g>\n",
       "<!-- 140622263879440&#45;&gt;140622263879568 -->\n",
       "<g id=\"edge13\" class=\"edge\">\n",
       "<title>140622263879440&#45;&gt;140622263879568</title>\n",
       "<path fill=\"none\" stroke=\"#000000\" d=\"M209.5,-831.7281C209.5,-823.0091 209.5,-810.4699 209.5,-799.8068\"/>\n",
       "<polygon fill=\"#000000\" stroke=\"#000000\" points=\"213.0001,-799.6128 209.5,-789.6128 206.0001,-799.6129 213.0001,-799.6128\"/>\n",
       "</g>\n",
       "<!-- 140622263879312 -->\n",
       "<g id=\"node15\" class=\"node\">\n",
       "<title>140622263879312</title>\n",
       "<polygon fill=\"#d3d3d3\" stroke=\"#000000\" points=\"213.5,-910 89.5,-910 89.5,-889 213.5,-889 213.5,-910\"/>\n",
       "<text text-anchor=\"middle\" x=\"151.5\" y=\"-896.4\" font-family=\"Times,serif\" font-size=\"12.00\" fill=\"#000000\">UnsqueezeBackward0</text>\n",
       "</g>\n",
       "<!-- 140622263879312&#45;&gt;140622263879440 -->\n",
       "<g id=\"edge14\" class=\"edge\">\n",
       "<title>140622263879312&#45;&gt;140622263879440</title>\n",
       "<path fill=\"none\" stroke=\"#000000\" d=\"M162.4094,-888.7787C170.5915,-880.7376 181.9727,-869.5527 191.4965,-860.1931\"/>\n",
       "<polygon fill=\"#000000\" stroke=\"#000000\" points=\"193.9605,-862.6788 198.6396,-853.1732 189.054,-857.6862 193.9605,-862.6788\"/>\n",
       "</g>\n",
       "<!-- 140622263878416 -->\n",
       "<g id=\"node16\" class=\"node\">\n",
       "<title>140622263878416</title>\n",
       "<polygon fill=\"#d3d3d3\" stroke=\"#000000\" points=\"196.5,-973.5 106.5,-973.5 106.5,-952.5 196.5,-952.5 196.5,-973.5\"/>\n",
       "<text text-anchor=\"middle\" x=\"151.5\" y=\"-959.9\" font-family=\"Times,serif\" font-size=\"12.00\" fill=\"#000000\">PreluBackward</text>\n",
       "</g>\n",
       "<!-- 140622263878416&#45;&gt;140622263879312 -->\n",
       "<g id=\"edge15\" class=\"edge\">\n",
       "<title>140622263878416&#45;&gt;140622263879312</title>\n",
       "<path fill=\"none\" stroke=\"#000000\" d=\"M151.5,-952.2281C151.5,-943.5091 151.5,-930.9699 151.5,-920.3068\"/>\n",
       "<polygon fill=\"#000000\" stroke=\"#000000\" points=\"155.0001,-920.1128 151.5,-910.1128 148.0001,-920.1129 155.0001,-920.1128\"/>\n",
       "</g>\n",
       "<!-- 140622263878160 -->\n",
       "<g id=\"node17\" class=\"node\">\n",
       "<title>140622263878160</title>\n",
       "<polygon fill=\"#d3d3d3\" stroke=\"#000000\" points=\"151.5,-1043.5 59.5,-1043.5 59.5,-1022.5 151.5,-1022.5 151.5,-1043.5\"/>\n",
       "<text text-anchor=\"middle\" x=\"105.5\" y=\"-1029.9\" font-family=\"Times,serif\" font-size=\"12.00\" fill=\"#000000\">AddBackward0</text>\n",
       "</g>\n",
       "<!-- 140622263878160&#45;&gt;140622263878416 -->\n",
       "<g id=\"edge16\" class=\"edge\">\n",
       "<title>140622263878160&#45;&gt;140622263878416</title>\n",
       "<path fill=\"none\" stroke=\"#000000\" d=\"M112.4864,-1022.3685C119.4437,-1011.7814 130.2818,-995.2886 138.7708,-982.3705\"/>\n",
       "<polygon fill=\"#000000\" stroke=\"#000000\" points=\"141.881,-984.0108 144.4478,-973.7315 136.031,-980.1665 141.881,-984.0108\"/>\n",
       "</g>\n",
       "<!-- 140622263878544 -->\n",
       "<g id=\"node18\" class=\"node\">\n",
       "<title>140622263878544</title>\n",
       "<polygon fill=\"#d3d3d3\" stroke=\"#000000\" points=\"111,-1113.5 0,-1113.5 0,-1092.5 111,-1092.5 111,-1113.5\"/>\n",
       "<text text-anchor=\"middle\" x=\"55.5\" y=\"-1099.9\" font-family=\"Times,serif\" font-size=\"12.00\" fill=\"#000000\">SqueezeBackward3</text>\n",
       "</g>\n",
       "<!-- 140622263878544&#45;&gt;140622263878160 -->\n",
       "<g id=\"edge17\" class=\"edge\">\n",
       "<title>140622263878544&#45;&gt;140622263878160</title>\n",
       "<path fill=\"none\" stroke=\"#000000\" d=\"M63.0939,-1092.3685C70.7296,-1081.6786 82.6659,-1064.9678 91.9319,-1051.9953\"/>\n",
       "<polygon fill=\"#000000\" stroke=\"#000000\" points=\"94.8703,-1053.9032 97.8346,-1043.7315 89.1741,-1049.8346 94.8703,-1053.9032\"/>\n",
       "</g>\n",
       "<!-- 140622263878736 -->\n",
       "<g id=\"node19\" class=\"node\">\n",
       "<title>140622263878736</title>\n",
       "<polygon fill=\"#d3d3d3\" stroke=\"#000000\" points=\"98,-1177 13,-1177 13,-1156 98,-1156 98,-1177\"/>\n",
       "<text text-anchor=\"middle\" x=\"55.5\" y=\"-1163.4\" font-family=\"Times,serif\" font-size=\"12.00\" fill=\"#000000\">MmBackward</text>\n",
       "</g>\n",
       "<!-- 140622263878736&#45;&gt;140622263878544 -->\n",
       "<g id=\"edge18\" class=\"edge\">\n",
       "<title>140622263878736&#45;&gt;140622263878544</title>\n",
       "<path fill=\"none\" stroke=\"#000000\" d=\"M55.5,-1155.7281C55.5,-1147.0091 55.5,-1134.4699 55.5,-1123.8068\"/>\n",
       "<polygon fill=\"#000000\" stroke=\"#000000\" points=\"59.0001,-1123.6128 55.5,-1113.6128 52.0001,-1123.6129 59.0001,-1123.6128\"/>\n",
       "</g>\n",
       "<!-- 140622263881616 -->\n",
       "<g id=\"node20\" class=\"node\">\n",
       "<title>140622263881616</title>\n",
       "<polygon fill=\"#d3d3d3\" stroke=\"#000000\" points=\"92,-1234 19,-1234 19,-1213 92,-1213 92,-1234\"/>\n",
       "<text text-anchor=\"middle\" x=\"55.5\" y=\"-1220.4\" font-family=\"Times,serif\" font-size=\"12.00\" fill=\"#000000\">TBackward</text>\n",
       "</g>\n",
       "<!-- 140622263881616&#45;&gt;140622263878736 -->\n",
       "<g id=\"edge19\" class=\"edge\">\n",
       "<title>140622263881616&#45;&gt;140622263878736</title>\n",
       "<path fill=\"none\" stroke=\"#000000\" d=\"M55.5,-1212.7787C55.5,-1205.6134 55.5,-1195.9517 55.5,-1187.3097\"/>\n",
       "<polygon fill=\"#000000\" stroke=\"#000000\" points=\"59.0001,-1187.1732 55.5,-1177.1732 52.0001,-1187.1732 59.0001,-1187.1732\"/>\n",
       "</g>\n",
       "<!-- 140622263856528 -->\n",
       "<g id=\"node21\" class=\"node\">\n",
       "<title>140622263856528</title>\n",
       "<polygon fill=\"#add8e6\" stroke=\"#000000\" points=\"84.5,-1304 26.5,-1304 26.5,-1270 84.5,-1270 84.5,-1304\"/>\n",
       "<text text-anchor=\"middle\" x=\"55.5\" y=\"-1290.4\" font-family=\"Times,serif\" font-size=\"12.00\" fill=\"#000000\">0.weight</text>\n",
       "<text text-anchor=\"middle\" x=\"55.5\" y=\"-1277.4\" font-family=\"Times,serif\" font-size=\"12.00\" fill=\"#000000\"> (30, 60)</text>\n",
       "</g>\n",
       "<!-- 140622263856528&#45;&gt;140622263881616 -->\n",
       "<g id=\"edge20\" class=\"edge\">\n",
       "<title>140622263856528&#45;&gt;140622263881616</title>\n",
       "<path fill=\"none\" stroke=\"#000000\" d=\"M55.5,-1269.9832C55.5,-1262.1157 55.5,-1252.6973 55.5,-1244.4019\"/>\n",
       "<polygon fill=\"#000000\" stroke=\"#000000\" points=\"59.0001,-1244.3686 55.5,-1234.3687 52.0001,-1244.3687 59.0001,-1244.3686\"/>\n",
       "</g>\n",
       "<!-- 140622263856080 -->\n",
       "<g id=\"node22\" class=\"node\">\n",
       "<title>140622263856080</title>\n",
       "<polygon fill=\"#add8e6\" stroke=\"#000000\" points=\"183.5,-1120 129.5,-1120 129.5,-1086 183.5,-1086 183.5,-1120\"/>\n",
       "<text text-anchor=\"middle\" x=\"156.5\" y=\"-1106.4\" font-family=\"Times,serif\" font-size=\"12.00\" fill=\"#000000\">0.bias</text>\n",
       "<text text-anchor=\"middle\" x=\"156.5\" y=\"-1093.4\" font-family=\"Times,serif\" font-size=\"12.00\" fill=\"#000000\"> (30)</text>\n",
       "</g>\n",
       "<!-- 140622263856080&#45;&gt;140622263878160 -->\n",
       "<g id=\"edge21\" class=\"edge\">\n",
       "<title>140622263856080&#45;&gt;140622263878160</title>\n",
       "<path fill=\"none\" stroke=\"#000000\" d=\"M143.8933,-1085.6966C136.4268,-1075.4485 126.959,-1062.4535 119.2937,-1051.9325\"/>\n",
       "<polygon fill=\"#000000\" stroke=\"#000000\" points=\"122.0797,-1049.8126 113.3622,-1043.7913 116.422,-1053.9347 122.0797,-1049.8126\"/>\n",
       "</g>\n",
       "<!-- 140622263855888 -->\n",
       "<g id=\"node23\" class=\"node\">\n",
       "<title>140622263855888</title>\n",
       "<polygon fill=\"#add8e6\" stroke=\"#000000\" points=\"227.5,-1050 169.5,-1050 169.5,-1016 227.5,-1016 227.5,-1050\"/>\n",
       "<text text-anchor=\"middle\" x=\"198.5\" y=\"-1036.4\" font-family=\"Times,serif\" font-size=\"12.00\" fill=\"#000000\">1.weight</text>\n",
       "<text text-anchor=\"middle\" x=\"198.5\" y=\"-1023.4\" font-family=\"Times,serif\" font-size=\"12.00\" fill=\"#000000\"> (1)</text>\n",
       "</g>\n",
       "<!-- 140622263855888&#45;&gt;140622263878416 -->\n",
       "<g id=\"edge22\" class=\"edge\">\n",
       "<title>140622263855888&#45;&gt;140622263878416</title>\n",
       "<path fill=\"none\" stroke=\"#000000\" d=\"M186.882,-1015.6966C180.07,-1005.551 171.4503,-992.7131 164.4242,-982.2488\"/>\n",
       "<polygon fill=\"#000000\" stroke=\"#000000\" points=\"167.2257,-980.1425 158.7456,-973.7913 161.4142,-984.0445 167.2257,-980.1425\"/>\n",
       "</g>\n",
       "<!-- 140622263878992 -->\n",
       "<g id=\"node24\" class=\"node\">\n",
       "<title>140622263878992</title>\n",
       "<polygon fill=\"#d3d3d3\" stroke=\"#000000\" points=\"305,-910 232,-910 232,-889 305,-889 305,-910\"/>\n",
       "<text text-anchor=\"middle\" x=\"268.5\" y=\"-896.4\" font-family=\"Times,serif\" font-size=\"12.00\" fill=\"#000000\">TBackward</text>\n",
       "</g>\n",
       "<!-- 140622263878992&#45;&gt;140622263879440 -->\n",
       "<g id=\"edge23\" class=\"edge\">\n",
       "<title>140622263878992&#45;&gt;140622263879440</title>\n",
       "<path fill=\"none\" stroke=\"#000000\" d=\"M257.4026,-888.7787C249.0793,-880.7376 237.5019,-869.5527 227.8139,-860.1931\"/>\n",
       "<polygon fill=\"#000000\" stroke=\"#000000\" points=\"230.1715,-857.6042 220.5477,-853.1732 225.3078,-862.6385 230.1715,-857.6042\"/>\n",
       "</g>\n",
       "<!-- 140622263855760 -->\n",
       "<g id=\"node25\" class=\"node\">\n",
       "<title>140622263855760</title>\n",
       "<polygon fill=\"#add8e6\" stroke=\"#000000\" points=\"297.5,-980 239.5,-980 239.5,-946 297.5,-946 297.5,-980\"/>\n",
       "<text text-anchor=\"middle\" x=\"268.5\" y=\"-966.4\" font-family=\"Times,serif\" font-size=\"12.00\" fill=\"#000000\">2.weight</text>\n",
       "<text text-anchor=\"middle\" x=\"268.5\" y=\"-953.4\" font-family=\"Times,serif\" font-size=\"12.00\" fill=\"#000000\"> (10, 30)</text>\n",
       "</g>\n",
       "<!-- 140622263855760&#45;&gt;140622263878992 -->\n",
       "<g id=\"edge24\" class=\"edge\">\n",
       "<title>140622263855760&#45;&gt;140622263878992</title>\n",
       "<path fill=\"none\" stroke=\"#000000\" d=\"M268.5,-945.9832C268.5,-938.1157 268.5,-928.6973 268.5,-920.4019\"/>\n",
       "<polygon fill=\"#000000\" stroke=\"#000000\" points=\"272.0001,-920.3686 268.5,-910.3687 265.0001,-920.3687 272.0001,-920.3686\"/>\n",
       "</g>\n",
       "<!-- 140622263853520 -->\n",
       "<g id=\"node26\" class=\"node\">\n",
       "<title>140622263853520</title>\n",
       "<polygon fill=\"#add8e6\" stroke=\"#000000\" points=\"337.5,-796 283.5,-796 283.5,-762 337.5,-762 337.5,-796\"/>\n",
       "<text text-anchor=\"middle\" x=\"310.5\" y=\"-782.4\" font-family=\"Times,serif\" font-size=\"12.00\" fill=\"#000000\">2.bias</text>\n",
       "<text text-anchor=\"middle\" x=\"310.5\" y=\"-769.4\" font-family=\"Times,serif\" font-size=\"12.00\" fill=\"#000000\"> (10)</text>\n",
       "</g>\n",
       "<!-- 140622263853520&#45;&gt;140622263879696 -->\n",
       "<g id=\"edge25\" class=\"edge\">\n",
       "<title>140622263853520&#45;&gt;140622263879696</title>\n",
       "<path fill=\"none\" stroke=\"#000000\" d=\"M297.8933,-761.6966C290.4268,-751.4485 280.959,-738.4535 273.2937,-727.9325\"/>\n",
       "<polygon fill=\"#000000\" stroke=\"#000000\" points=\"276.0797,-725.8126 267.3622,-719.7913 270.422,-729.9347 276.0797,-725.8126\"/>\n",
       "</g>\n",
       "<!-- 140622263854032 -->\n",
       "<g id=\"node27\" class=\"node\">\n",
       "<title>140622263854032</title>\n",
       "<polygon fill=\"#add8e6\" stroke=\"#000000\" points=\"381.5,-726 323.5,-726 323.5,-692 381.5,-692 381.5,-726\"/>\n",
       "<text text-anchor=\"middle\" x=\"352.5\" y=\"-712.4\" font-family=\"Times,serif\" font-size=\"12.00\" fill=\"#000000\">3.weight</text>\n",
       "<text text-anchor=\"middle\" x=\"352.5\" y=\"-699.4\" font-family=\"Times,serif\" font-size=\"12.00\" fill=\"#000000\"> (1)</text>\n",
       "</g>\n",
       "<!-- 140622263854032&#45;&gt;140622263879824 -->\n",
       "<g id=\"edge26\" class=\"edge\">\n",
       "<title>140622263854032&#45;&gt;140622263879824</title>\n",
       "<path fill=\"none\" stroke=\"#000000\" d=\"M340.882,-691.6966C334.07,-681.551 325.4503,-668.7131 318.4242,-658.2488\"/>\n",
       "<polygon fill=\"#000000\" stroke=\"#000000\" points=\"321.2257,-656.1425 312.7456,-649.7913 315.4142,-660.0445 321.2257,-656.1425\"/>\n",
       "</g>\n",
       "<!-- 140622263879888 -->\n",
       "<g id=\"node28\" class=\"node\">\n",
       "<title>140622263879888</title>\n",
       "<polygon fill=\"#d3d3d3\" stroke=\"#000000\" points=\"459,-586 386,-586 386,-565 459,-565 459,-586\"/>\n",
       "<text text-anchor=\"middle\" x=\"422.5\" y=\"-572.4\" font-family=\"Times,serif\" font-size=\"12.00\" fill=\"#000000\">TBackward</text>\n",
       "</g>\n",
       "<!-- 140622263879888&#45;&gt;140622263879632 -->\n",
       "<g id=\"edge27\" class=\"edge\">\n",
       "<title>140622263879888&#45;&gt;140622263879632</title>\n",
       "<path fill=\"none\" stroke=\"#000000\" d=\"M411.4026,-564.7787C403.0793,-556.7376 391.5019,-545.5527 381.8139,-536.1931\"/>\n",
       "<polygon fill=\"#000000\" stroke=\"#000000\" points=\"384.1715,-533.6042 374.5477,-529.1732 379.3078,-538.6385 384.1715,-533.6042\"/>\n",
       "</g>\n",
       "<!-- 140622263854160 -->\n",
       "<g id=\"node29\" class=\"node\">\n",
       "<title>140622263854160</title>\n",
       "<polygon fill=\"#add8e6\" stroke=\"#000000\" points=\"451.5,-656 393.5,-656 393.5,-622 451.5,-622 451.5,-656\"/>\n",
       "<text text-anchor=\"middle\" x=\"422.5\" y=\"-642.4\" font-family=\"Times,serif\" font-size=\"12.00\" fill=\"#000000\">4.weight</text>\n",
       "<text text-anchor=\"middle\" x=\"422.5\" y=\"-629.4\" font-family=\"Times,serif\" font-size=\"12.00\" fill=\"#000000\"> (10, 10)</text>\n",
       "</g>\n",
       "<!-- 140622263854160&#45;&gt;140622263879888 -->\n",
       "<g id=\"edge28\" class=\"edge\">\n",
       "<title>140622263854160&#45;&gt;140622263879888</title>\n",
       "<path fill=\"none\" stroke=\"#000000\" d=\"M422.5,-621.9832C422.5,-614.1157 422.5,-604.6973 422.5,-596.4019\"/>\n",
       "<polygon fill=\"#000000\" stroke=\"#000000\" points=\"426.0001,-596.3686 422.5,-586.3687 419.0001,-596.3687 426.0001,-596.3686\"/>\n",
       "</g>\n",
       "<!-- 140622263854928 -->\n",
       "<g id=\"node30\" class=\"node\">\n",
       "<title>140622263854928</title>\n",
       "<polygon fill=\"#add8e6\" stroke=\"#000000\" points=\"491.5,-472 437.5,-472 437.5,-438 491.5,-438 491.5,-472\"/>\n",
       "<text text-anchor=\"middle\" x=\"464.5\" y=\"-458.4\" font-family=\"Times,serif\" font-size=\"12.00\" fill=\"#000000\">4.bias</text>\n",
       "<text text-anchor=\"middle\" x=\"464.5\" y=\"-445.4\" font-family=\"Times,serif\" font-size=\"12.00\" fill=\"#000000\"> (10)</text>\n",
       "</g>\n",
       "<!-- 140622263854928&#45;&gt;140622263880528 -->\n",
       "<g id=\"edge29\" class=\"edge\">\n",
       "<title>140622263854928&#45;&gt;140622263880528</title>\n",
       "<path fill=\"none\" stroke=\"#000000\" d=\"M451.8933,-437.6966C444.4268,-427.4485 434.959,-414.4535 427.2937,-403.9325\"/>\n",
       "<polygon fill=\"#000000\" stroke=\"#000000\" points=\"430.0797,-401.8126 421.3622,-395.7913 424.422,-405.9347 430.0797,-401.8126\"/>\n",
       "</g>\n",
       "<!-- 140622263855120 -->\n",
       "<g id=\"node31\" class=\"node\">\n",
       "<title>140622263855120</title>\n",
       "<polygon fill=\"#add8e6\" stroke=\"#000000\" points=\"535.5,-402 477.5,-402 477.5,-368 535.5,-368 535.5,-402\"/>\n",
       "<text text-anchor=\"middle\" x=\"506.5\" y=\"-388.4\" font-family=\"Times,serif\" font-size=\"12.00\" fill=\"#000000\">5.weight</text>\n",
       "<text text-anchor=\"middle\" x=\"506.5\" y=\"-375.4\" font-family=\"Times,serif\" font-size=\"12.00\" fill=\"#000000\"> (1)</text>\n",
       "</g>\n",
       "<!-- 140622263855120&#45;&gt;140622263880144 -->\n",
       "<g id=\"edge30\" class=\"edge\">\n",
       "<title>140622263855120&#45;&gt;140622263880144</title>\n",
       "<path fill=\"none\" stroke=\"#000000\" d=\"M494.882,-367.6966C488.07,-357.551 479.4503,-344.7131 472.4242,-334.2488\"/>\n",
       "<polygon fill=\"#000000\" stroke=\"#000000\" points=\"475.2257,-332.1425 466.7456,-325.7913 469.4142,-336.0445 475.2257,-332.1425\"/>\n",
       "</g>\n",
       "<!-- 140622263880208 -->\n",
       "<g id=\"node32\" class=\"node\">\n",
       "<title>140622263880208</title>\n",
       "<polygon fill=\"#d3d3d3\" stroke=\"#000000\" points=\"613,-262 540,-262 540,-241 613,-241 613,-262\"/>\n",
       "<text text-anchor=\"middle\" x=\"576.5\" y=\"-248.4\" font-family=\"Times,serif\" font-size=\"12.00\" fill=\"#000000\">TBackward</text>\n",
       "</g>\n",
       "<!-- 140622263880208&#45;&gt;140622263880080 -->\n",
       "<g id=\"edge31\" class=\"edge\">\n",
       "<title>140622263880208&#45;&gt;140622263880080</title>\n",
       "<path fill=\"none\" stroke=\"#000000\" d=\"M565.4026,-240.7787C557.0793,-232.7376 545.5019,-221.5527 535.8139,-212.1931\"/>\n",
       "<polygon fill=\"#000000\" stroke=\"#000000\" points=\"538.1715,-209.6042 528.5477,-205.1732 533.3078,-214.6385 538.1715,-209.6042\"/>\n",
       "</g>\n",
       "<!-- 140622263854672 -->\n",
       "<g id=\"node33\" class=\"node\">\n",
       "<title>140622263854672</title>\n",
       "<polygon fill=\"#add8e6\" stroke=\"#000000\" points=\"605.5,-332 547.5,-332 547.5,-298 605.5,-298 605.5,-332\"/>\n",
       "<text text-anchor=\"middle\" x=\"576.5\" y=\"-318.4\" font-family=\"Times,serif\" font-size=\"12.00\" fill=\"#000000\">6.weight</text>\n",
       "<text text-anchor=\"middle\" x=\"576.5\" y=\"-305.4\" font-family=\"Times,serif\" font-size=\"12.00\" fill=\"#000000\"> (9, 10)</text>\n",
       "</g>\n",
       "<!-- 140622263854672&#45;&gt;140622263880208 -->\n",
       "<g id=\"edge32\" class=\"edge\">\n",
       "<title>140622263854672&#45;&gt;140622263880208</title>\n",
       "<path fill=\"none\" stroke=\"#000000\" d=\"M576.5,-297.9832C576.5,-290.1157 576.5,-280.6973 576.5,-272.4019\"/>\n",
       "<polygon fill=\"#000000\" stroke=\"#000000\" points=\"580.0001,-272.3686 576.5,-262.3687 573.0001,-272.3687 580.0001,-272.3686\"/>\n",
       "</g>\n",
       "<!-- 140622263855248 -->\n",
       "<g id=\"node34\" class=\"node\">\n",
       "<title>140622263855248</title>\n",
       "<polygon fill=\"#add8e6\" stroke=\"#000000\" points=\"645.5,-148 591.5,-148 591.5,-114 645.5,-114 645.5,-148\"/>\n",
       "<text text-anchor=\"middle\" x=\"618.5\" y=\"-134.4\" font-family=\"Times,serif\" font-size=\"12.00\" fill=\"#000000\">6.bias</text>\n",
       "<text text-anchor=\"middle\" x=\"618.5\" y=\"-121.4\" font-family=\"Times,serif\" font-size=\"12.00\" fill=\"#000000\"> (9)</text>\n",
       "</g>\n",
       "<!-- 140622263855248&#45;&gt;140622263879760 -->\n",
       "<g id=\"edge33\" class=\"edge\">\n",
       "<title>140622263855248&#45;&gt;140622263879760</title>\n",
       "<path fill=\"none\" stroke=\"#000000\" d=\"M604.8329,-113.9832C597.9462,-105.4085 589.5799,-94.9916 582.5142,-86.1942\"/>\n",
       "<polygon fill=\"#000000\" stroke=\"#000000\" points=\"585.22,-83.9737 576.2292,-78.3687 579.7623,-88.3571 585.22,-83.9737\"/>\n",
       "</g>\n",
       "</g>\n",
       "</svg>\n"
      ],
      "text/plain": [
       "<graphviz.dot.Digraph at 0x7fe60949add0>"
      ]
     },
     "execution_count": 6,
     "metadata": {},
     "output_type": "execute_result"
    }
   ],
   "source": []
  }
 ],
 "metadata": {
  "kernelspec": {
   "display_name": "Python 3",
   "language": "python",
   "name": "python3"
  },
  "language_info": {
   "codemirror_mode": {
    "name": "ipython",
    "version": 3
   },
   "file_extension": ".py",
   "mimetype": "text/x-python",
   "name": "python",
   "nbconvert_exporter": "python",
   "pygments_lexer": "ipython3",
   "version": "3.7.5"
  }
 },
 "nbformat": 4,
 "nbformat_minor": 4
}
