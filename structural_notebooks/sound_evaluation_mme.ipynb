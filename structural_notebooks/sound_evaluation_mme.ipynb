{
 "cells": [
  {
   "cell_type": "code",
   "execution_count": 3,
   "metadata": {},
   "outputs": [],
   "source": [
    "import sys\n",
    "from joblib import dump, load\n",
    "sys.path.append(\"..\")\n",
    "import numpy as np\n",
    "import pandas as pd\n",
    "import torch\n",
    "import torchvision\n",
    "import matplotlib.pyplot as plt\n",
    "import imp\n",
    "from pathlib import Path\n",
    "\n",
    "from pippi.soundbuffer import SoundBuffer\n",
    "from pippi import dsp,fx\n",
    "import param_generation as pg\n",
    "\n",
    "import _pickle as pickle\n",
    "from IPython.display import Audio\n",
    "from feature_extraction.mir_utils import *\n",
    "\n",
    "import torch.utils.data as utils\n",
    "import torchvision.transforms as transforms\n",
    "from PIL import Image\n",
    "import common_vars as comv\n",
    "\n",
    "import csv\n",
    "import helpers\n",
    "imp.reload(helpers)\n",
    "imp.reload(comv)\n",
    "imp.reload(pg)\n",
    "from feature_extraction import pytorch_models as tm\n",
    "imp.reload(tm)\n",
    "from helpers import *\n",
    "\n",
    "from common_vars import SR\n",
    "device = torch.device(\"cuda\" if torch.cuda.is_available() else \"cpu\")\n",
    "pack_dir=\"mme_pack_r2\"\n",
    "classes= ['clap', 'hat', 'kick', 'snare', 'synth_noise']\n",
    "# device = \"cpu\"\n",
    "\n",
    "\n",
    "def model_loader(m,p):\n",
    "    s=torch.load(p) \n",
    "    m.load_state_dict(s)\n",
    "    m.to(device)\n",
    "    return m"
   ]
  },
  {
   "cell_type": "code",
   "execution_count": 2,
   "metadata": {},
   "outputs": [],
   "source": [
    "from IPython.display import Audio\n",
    "import librosa.display\n",
    "\n",
    "for g in classes:\n",
    "    Path(pack_dir+\"/\"+g).mkdir(parents=True, exist_ok=True)\n",
    "#round 1\n",
    "# MME models \n",
    "#optimized params\n",
    "learning_rate = 0.0011451089315356296\n",
    "dropout_rate = 0.5\n",
    "latent_size = 64\n",
    "FREQ_BINS = 30\n",
    "TIME_STEPS = 20\n",
    "hidden_layers = 2\n",
    "l2 = 3.2473701348597023e-06\n",
    "clf = load('../feature_extraction/models/mme/mme_extra_trees.joblib') \n",
    "m = tm.AE_Conv(input_shape=[FREQ_BINS,TIME_STEPS],compression_dim=latent_size,dropout_rate=dropout_rate,num_channels=5,eval_mode=True).to(device)\n",
    "m = model_loader(m,\"../feature_extraction/models/encode/nosynth_64_195_0.000450.pt\")\n",
    "spec_env_trns=tm.spec_and_env(tm.AE_specTrans(FREQ_BINS,time_steps=TIME_STEPS),tm.AE_envTrans(num_mels=10,SR=SR))\n",
    "\n",
    "\n",
    "#round 2"
   ]
  },
  {
   "cell_type": "code",
   "execution_count": 102,
   "metadata": {},
   "outputs": [
    {
     "name": "stdout",
     "output_type": "stream",
     "text": [
      "['5d182_3.wav', 3, 'kick', 958]]\r"
     ]
    }
   ],
   "source": [
    "import uuid\n",
    "\n",
    "# %%time\n",
    "#     with open(\"generations/pickles/%d.pkl\"%j, 'wb') as pfile:\n",
    "#         pickle.dump(params,pfile,-1)\n",
    "\n",
    "#make mme pipeline\n",
    "a,sr = librosa.load(\"../feature_extraction/drum_dbs/dk_data/kick/Acetone Rhythm Ace-MaxV - KICK1.wav\")\n",
    "\n",
    "def make_pack(iteration=0):\n",
    "   \n",
    "    stack_size=random.randint(1,5)\n",
    "    out,params= stackMaker(stack_size)\n",
    "    a= memToAud(out)\n",
    "    try:\n",
    "        a=librosa.util.normalize(a)\n",
    "    except:\n",
    "        pass\n",
    "\n",
    "    s={\"signal\":torch.tensor(a,dtype=torch.float32),\"label\":\"\",\"path\":\"\",\"drum_type\":\"\"}\n",
    "\n",
    "    t = spec_env_trns(s) #we got the transformation\n",
    "    spec_feat,env_feat=t[\"spec_trans_results\"][\"feats\"],t[\"env_trans_results\"] # env and spec transforms\n",
    "    m(spec_feat.contiguous().view(-1,TIME_STEPS,FREQ_BINS).to(device))\n",
    "    embeddings=list(m.encoding.detach().cpu().numpy()[0])\n",
    "    env_feat=env_feat.cpu().numpy()\n",
    "    embeddings.extend(env_feat)\n",
    "    prediction = clf.predict([embeddings])[0]\n",
    "    \n",
    "    if prediction != 4:\n",
    "        root_name=\"%s_%d.wav\"%(uuid.uuid4().hex[0:5],stack_size)\n",
    "\n",
    "        #write sound file and pickle params\n",
    "        out.write(\"./%s/%s/%s\"%(pack_dir,classes[prediction],root_name,))\n",
    "        with open(\"pkls/\"+\"%s.pkl\"%root_name, 'wb') as pfile:\n",
    "            pickle.dump(params,pfile,-1)       \n",
    "        #make row for predictions csv\n",
    "        row=[root_name,stack_size,classes[prediction],iteration]\n",
    "        print(f'{row}\\r',end=\"\")\n",
    "        \n",
    "        with open(\"model_predictions_r2.csv\", \"a\", newline='') as fp:\n",
    "            wr = csv.writer(fp, dialect='excel')\n",
    "            wr.writerow(row)\n",
    "\n",
    "for i in range(1000):\n",
    "    make_pack(i)"
   ]
  },
  {
   "cell_type": "code",
   "execution_count": 8,
   "metadata": {},
   "outputs": [
    {
     "ename": "NameError",
     "evalue": "name 'env_feats' is not defined",
     "output_type": "error",
     "traceback": [
      "\u001b[0;31m---------------------------------------------------------------------------\u001b[0m",
      "\u001b[0;31mNameError\u001b[0m                                 Traceback (most recent call last)",
      "\u001b[0;32m<ipython-input-8-9174e328a044>\u001b[0m in \u001b[0;36m<module>\u001b[0;34m\u001b[0m\n\u001b[1;32m      3\u001b[0m \u001b[0max\u001b[0m \u001b[0;34m=\u001b[0m \u001b[0mplt\u001b[0m\u001b[0;34m.\u001b[0m\u001b[0msubplot\u001b[0m\u001b[0;34m(\u001b[0m\u001b[0;36m1\u001b[0m\u001b[0;34m,\u001b[0m \u001b[0;36m3\u001b[0m\u001b[0;34m,\u001b[0m\u001b[0;36m1\u001b[0m\u001b[0;34m)\u001b[0m\u001b[0;34m\u001b[0m\u001b[0;34m\u001b[0m\u001b[0m\n\u001b[1;32m      4\u001b[0m \u001b[0;34m\u001b[0m\u001b[0m\n\u001b[0;32m----> 5\u001b[0;31m \u001b[0mplt\u001b[0m\u001b[0;34m.\u001b[0m\u001b[0mplot\u001b[0m\u001b[0;34m(\u001b[0m\u001b[0menv_feats\u001b[0m\u001b[0;34m.\u001b[0m\u001b[0mcpu\u001b[0m\u001b[0;34m(\u001b[0m\u001b[0;34m)\u001b[0m\u001b[0;34m)\u001b[0m\u001b[0;34m\u001b[0m\u001b[0;34m\u001b[0m\u001b[0m\n\u001b[0m\u001b[1;32m      6\u001b[0m \u001b[0max\u001b[0m \u001b[0;34m=\u001b[0m \u001b[0mplt\u001b[0m\u001b[0;34m.\u001b[0m\u001b[0msubplot\u001b[0m\u001b[0;34m(\u001b[0m\u001b[0;36m1\u001b[0m\u001b[0;34m,\u001b[0m \u001b[0;36m3\u001b[0m\u001b[0;34m,\u001b[0m\u001b[0;36m2\u001b[0m\u001b[0;34m)\u001b[0m\u001b[0;34m\u001b[0m\u001b[0;34m\u001b[0m\u001b[0m\n\u001b[1;32m      7\u001b[0m \u001b[0mplt\u001b[0m\u001b[0;34m.\u001b[0m\u001b[0mplot\u001b[0m\u001b[0;34m(\u001b[0m\u001b[0mfreq_feats\u001b[0m\u001b[0;34m[\u001b[0m\u001b[0;36m0\u001b[0m\u001b[0;34m:\u001b[0m\u001b[0;36m50\u001b[0m\u001b[0;34m]\u001b[0m\u001b[0;34m.\u001b[0m\u001b[0mcpu\u001b[0m\u001b[0;34m(\u001b[0m\u001b[0;34m)\u001b[0m\u001b[0;34m)\u001b[0m\u001b[0;34m\u001b[0m\u001b[0;34m\u001b[0m\u001b[0m\n",
      "\u001b[0;31mNameError\u001b[0m: name 'env_feats' is not defined"
     ]
    },
    {
     "data": {
      "text/plain": [
       "<Figure size 864x216 with 0 Axes>"
      ]
     },
     "metadata": {},
     "output_type": "display_data"
    },
    {
     "data": {
      "image/png": "[encoded data removed]",
      "text/plain": [
       "<Figure size 1440x288 with 1 Axes>"
      ]
     },
     "metadata": {
      "needs_background": "light"
     },
     "output_type": "display_data"
    }
   ],
   "source": [
    "fig = plt.figure(figsize=(12,3))\n",
    "fig = plt.figure(figsize=(20,4))\n",
    "ax = plt.subplot(1, 3,1)\n",
    "\n",
    "plt.plot(env_feats.cpu())\n",
    "ax = plt.subplot(1, 3,2)\n",
    "plt.plot(freq_feats[0:50].cpu())\n",
    "ax=plt.subplot(1,3,3)\n",
    "ft=pitch_feats.cpu()\n",
    "ft=ft.numpy()\n",
    "librosa.display.specshow(ft[0])\n",
    "Audio(a,rate=sr, autoplay=True)"
   ]
  }
 ],
 "metadata": {
  "kernelspec": {
   "display_name": "Python 3",
   "language": "python",
   "name": "python3"
  },
  "language_info": {
   "codemirror_mode": {
    "name": "ipython",
    "version": 3
   },
   "file_extension": ".py",
   "mimetype": "text/x-python",
   "name": "python",
   "nbconvert_exporter": "python",
   "pygments_lexer": "ipython3",
   "version": "3.7.5"
  }
 },
 "nbformat": 4,
 "nbformat_minor": 4
}
