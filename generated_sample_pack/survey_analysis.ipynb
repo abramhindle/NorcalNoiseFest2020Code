{
 "cells": [
  {
   "cell_type": "code",
   "execution_count": 468,
   "metadata": {},
   "outputs": [
    {
     "data": {
      "text/plain": [
       "Index(['name', 'fc', 'fc_cat', 'cnn_cat', 'env_and_freq_cat', 'average_cat',\n",
       "       'stack_size', 'iteration_num'],\n",
       "      dtype='object')"
      ]
     },
     "execution_count": 468,
     "metadata": {},
     "output_type": "execute_result"
    }
   ],
   "source": [
    "import pandas as pd\n",
    "import numpy as np\n",
    "import statsmodels.stats.inter_rater as inter\n",
    "# \n",
    "df1=pd.read_csv(\"./survey_results/abram_answers.csv\")\n",
    "df2=pd.read_csv(\"./survey_results/amir_answers.csv\")\n",
    "df3=pd.read_csv(\"./survey_results/computer_answers.csv\")\n",
    "df3.columns"
   ]
  },
  {
   "cell_type": "code",
   "execution_count": 579,
   "metadata": {},
   "outputs": [
    {
     "name": "stdout",
     "output_type": "stream",
     "text": [
      "257 257 257\n"
     ]
    }
   ],
   "source": [
    "df1=df1[[\"name\",\"drum_category\"]]\n",
    "df2=df2[[\"name\",\"drum_category\"]]\n",
    "#check to see if they're sorted the same way\n",
    "print(np.sum(df1[\"name\"]==df2[\"name\"]),\n",
    "      np.sum(df3[\"name\"]==df2[\"name\"]),\n",
    "      np.sum(df3[\"name\"]==df2[\"name\"]))\n",
    "df=pd.DataFrame()\n",
    "df[\"name\"]=df1[\"name\"].copy()\n",
    "\n",
    "df[\"abram\"]=df1[\"drum_category\"]\n",
    "df[\"amir\"]=df2[\"drum_category\"]\n",
    "df[\"c1\"]=df3[\"average_cat\"]\n",
    "df[\"c2\"]=df3[\"cnn_cat\"]\n",
    "df[\"c3\"]=df3[\"env_and_freq_cat\"]\n",
    "df[\"c4\"]=df3[\"fc_cat\"]"
   ]
  },
  {
   "cell_type": "code",
   "execution_count": 580,
   "metadata": {},
   "outputs": [
    {
     "name": "stdout",
     "output_type": "stream",
     "text": [
      "there are 6 categories and 257 samples the bad category is only for humans\n",
      "abram agreeing with averaged categorizer 113\n",
      "amir agreeing with averaged categorizer 121\n",
      "abram agreeing with amir 122\n",
      "both  humans agreeing with averaged categorizer 76\n",
      "both humans agreeing with cnn categorizer 76\n",
      "both humans agreeing with env+freq categorizer 46\n",
      "both  humans agreeing with fully connected categorizer 78\n"
     ]
    }
   ],
   "source": [
    "df=df.replace(\"kick\",\"k\")\n",
    "df=df.replace(\"rim\",\"o\")\n",
    "df=df.replace(\"snare\",\"s\")\n",
    "df=df.replace(\"hat\",\"h\")\n",
    "df=df.replace(\"clap\",\"c\")\n",
    "# df=df.replace(\"c\",\"s\")\n",
    "print(\"there are 6 categories and 257 samples the bad category is only for humans\")\n",
    "print(\"abram agreeing with averaged categorizer\",np.sum(df[\"abram\"]==df[\"c1\"]))\n",
    "print(\"amir agreeing with averaged categorizer\",np.sum(df[\"amir\"]==df[\"c1\"]))\n",
    "print(\"abram agreeing with amir\",np.sum(df[\"abram\"]==df[\"amir\"]))\n",
    "\n",
    "print(\"both  humans agreeing with averaged categorizer\",np.sum((df[\"abram\"]==df[\"amir\"]) &\n",
    "                                        (df[\"abram\"]==df[\"c1\"])))\n",
    "print(\"both humans agreeing with cnn categorizer\",np.sum((df[\"abram\"]==df[\"amir\"]) &\n",
    "                                        (df[\"abram\"]==df[\"c2\"])))\n",
    "print(\"both humans agreeing with env+freq categorizer\",np.sum((df[\"abram\"]==df[\"amir\"]) &\n",
    "                                        (df[\"abram\"]==df[\"c3\"])))\n",
    "print(\"both  humans agreeing with fully connected categorizer\",np.sum((df[\"abram\"]==df[\"amir\"]) &\n",
    "                                        (df[\"abram\"]==df[\"c4\"])))\n"
   ]
  },
  {
   "cell_type": "code",
   "execution_count": 564,
   "metadata": {},
   "outputs": [],
   "source": [
    "#make a 2d array for fleiss kappa\n",
    "cats=[\"b\",\"o\",\"h\",\"k\",\"s\",\"c\"]\n",
    "def count_cats(i,r):\n",
    "    cat_counts=[0]*len(cats)\n",
    "    for c in r:\n",
    "        j=cats.index(c)\n",
    "        cat_counts[j]=cat_counts[j]+1\n",
    "    M.append(cat_counts) \n",
    "\n",
    "M=[]\n",
    "for i,r in df.iterrows():\n",
    "    count_cats(i,r[1:])\n"
   ]
  },
  {
   "cell_type": "code",
   "execution_count": 565,
   "metadata": {},
   "outputs": [
    {
     "name": "stdout",
     "output_type": "stream",
     "text": [
      " kappa of 2 humans and 4 models\n"
     ]
    },
    {
     "data": {
      "text/plain": [
       "0.356887159533074"
      ]
     },
     "execution_count": 565,
     "metadata": {},
     "output_type": "execute_result"
    }
   ],
   "source": [
    "M=[]\n",
    "for i,r in df.iterrows():\n",
    "    count_cats(i,r[1:])\n",
    "print(\" kappa of 2 humans and 4 models\")\n",
    "inter.fleiss_kappa(M,method='uniform')"
   ]
  },
  {
   "cell_type": "code",
   "execution_count": 566,
   "metadata": {},
   "outputs": [
    {
     "name": "stdout",
     "output_type": "stream",
     "text": [
      "kappa of 2 humans\n"
     ]
    },
    {
     "data": {
      "text/plain": [
       "0.36964980544747084"
      ]
     },
     "execution_count": 566,
     "metadata": {},
     "output_type": "execute_result"
    }
   ],
   "source": [
    "print(\"kappa of 2 humans\")\n",
    "M=[]\n",
    "for i,r in df[[\"name\",\"abram\",\"amir\"]].iterrows():\n",
    "    count_cats(i,r[1:])\n",
    "inter.fleiss_kappa(M,method='uniform')"
   ]
  },
  {
   "cell_type": "code",
   "execution_count": 567,
   "metadata": {},
   "outputs": [
    {
     "name": "stdout",
     "output_type": "stream",
     "text": [
      "kappa of 2 humans + cnn or fc\n",
      "0.3540856031128404\n",
      "0.3556420233463034\n",
      "0.3317769130998702\n"
     ]
    }
   ],
   "source": [
    "print(\"kappa of 2 humans + cnn or fc\")\n",
    "M=[]\n",
    "for i,r in df[[\"name\",\"abram\",\"amir\",\"c2\"]].iterrows():\n",
    "    count_cats(i,r[1:])\n",
    "print(inter.fleiss_kappa(M,method='uniform'))\n",
    "for i,r in df[[\"name\",\"abram\",\"amir\",\"c4\"]].iterrows():\n",
    "    count_cats(i,r[1:])\n",
    "print(inter.fleiss_kappa(M,method='uniform'))\n",
    "for i,r in df[[\"name\",\"c3\",\"c2\",\"c4\"]].iterrows():\n",
    "    count_cats(i,r[1:])\n",
    "print(inter.fleiss_kappa(M,method='uniform'))"
   ]
  },
  {
   "cell_type": "code",
   "execution_count": 568,
   "metadata": {},
   "outputs": [
    {
     "name": "stdout",
     "output_type": "stream",
     "text": [
      "(180, 7)\n",
      " kappa of 2 humans and 4 models\n"
     ]
    },
    {
     "data": {
      "text/plain": [
       "0.45822222222222236"
      ]
     },
     "execution_count": 568,
     "metadata": {},
     "output_type": "execute_result"
    }
   ],
   "source": [
    "#what happens if we delete the bad rows?\n",
    "df_nb=df[~((df[\"abram\"]==\"b\") | (df[\"amir\"]==\"b\")) ]\n",
    "print(df_nb.shape)\n",
    "M=[]\n",
    "for i,r in df_nb.iterrows():\n",
    "    count_cats(i,r[1:])\n",
    "print(\" kappa of 2 humans and 4 models\")\n",
    "inter.fleiss_kappa(M,method='uniform')"
   ]
  },
  {
   "cell_type": "code",
   "execution_count": 569,
   "metadata": {},
   "outputs": [
    {
     "name": "stdout",
     "output_type": "stream",
     "text": [
      "kappa of 2 humans\n"
     ]
    },
    {
     "data": {
      "text/plain": [
       "0.4733333333333334"
      ]
     },
     "execution_count": 569,
     "metadata": {},
     "output_type": "execute_result"
    }
   ],
   "source": [
    "print(\"kappa of 2 humans\")\n",
    "M=[]\n",
    "for i,r in df_nb[[\"name\",\"abram\",\"amir\"]].iterrows():\n",
    "    count_cats(i,r[1:])\n",
    "inter.fleiss_kappa(M,method='uniform')"
   ]
  },
  {
   "cell_type": "code",
   "execution_count": 570,
   "metadata": {},
   "outputs": [
    {
     "name": "stdout",
     "output_type": "stream",
     "text": [
      "kappa of 2 humans and fc \n"
     ]
    },
    {
     "data": {
      "text/plain": [
       "0.5000000000000001"
      ]
     },
     "execution_count": 570,
     "metadata": {},
     "output_type": "execute_result"
    }
   ],
   "source": [
    "print(\"kappa of 2 humans and fc \")\n",
    "M=[]\n",
    "for i,r in df_nb[[\"name\",\"abram\",\"amir\",\"c4\"]].iterrows():\n",
    "    count_cats(i,r[1:])\n",
    "inter.fleiss_kappa(M,method='uniform')\n"
   ]
  },
  {
   "cell_type": "code",
   "execution_count": 571,
   "metadata": {},
   "outputs": [
    {
     "name": "stdout",
     "output_type": "stream",
     "text": [
      "0.37299771167048046\n"
     ]
    }
   ],
   "source": [
    "for i,r in df[[\"name\",\"c3\",\"c2\",\"c4\"]].iterrows():\n",
    "    count_cats(i,r[1:])\n",
    "print(inter.fleiss_kappa(M,method='uniform'))"
   ]
  },
  {
   "cell_type": "code",
   "execution_count": 572,
   "metadata": {},
   "outputs": [
    {
     "data": {
      "text/plain": [
       "102"
      ]
     },
     "execution_count": 572,
     "metadata": {},
     "output_type": "execute_result"
    }
   ],
   "source": [
    "models=[\"abram\",\"amir\",\"c1\",\"c2\",\"c3\",\"c4\"]\n",
    "cats=[\"b\",\"o\",\"h\",\"k\",\"s\",\"c\"]\n",
    "np.sum(df[\"c4\"]==\"k\")\n",
    "\n"
   ]
  },
  {
   "cell_type": "code",
   "execution_count": 573,
   "metadata": {},
   "outputs": [],
   "source": [
    "vdf=pd.DataFrame()\n",
    "vc4=df[\"c4\"].value_counts()\n",
    "vc3=df[\"c3\"].value_counts()\n",
    "vc2=df[\"c2\"].value_counts()\n",
    "\n",
    "vc1=\n",
    "vab=df[\"abram\"].value_counts()\n",
    "va=df[\"amir\"].value_counts()"
   ]
  },
  {
   "cell_type": "code",
   "execution_count": 606,
   "metadata": {},
   "outputs": [
    {
     "data": {
      "text/plain": [
       "s    113\n",
       "k    102\n",
       "h     42\n",
       "Name: c4, dtype: int64"
      ]
     },
     "execution_count": 606,
     "metadata": {},
     "output_type": "execute_result"
    }
   ],
   "source": [
    "#[b,c,h,k,o,s]\n",
    "# c4=[\"FC\",0,0,42,102,0,113]\n",
    "c3=[\"E+F\",0,38,144,0,75]\n",
    "# c2=[\"CNN\",0,39,60,54,44,60]\n",
    "c1=[\"Average\",0,39,60,54,44,60]\n",
    "h1=[\"Human1\",52,16,42,37,33,77] #amir\n",
    "h2=[\"Human2\",46,18,50,62,17,64] #abram\n",
    "df[\"c4\"].sort_index().value_counts()"
   ]
  },
  {
   "cell_type": "code",
   "execution_count": 611,
   "metadata": {},
   "outputs": [],
   "source": [
    "\n",
    "import matplotlib\n",
    "matplotlib.style.use('ggplot')\n",
    "import matplotlib.pyplot as plt\n",
    "import seaborn as sns\n",
    "sns.set()\n",
    "\n",
    "bf=pd.DataFrame(columns=[\"categorizer\",\"Bad\",\"Clap\",\"Hat\",\"Kick\",\"Other\",\"Snare\"],\n",
    "               data=[h1,h2,c1])\n",
    "bf=bf.set_index(\"categorizer\")"
   ]
  },
  {
   "cell_type": "code",
   "execution_count": 652,
   "metadata": {},
   "outputs": [
    {
     "data": {
      "image/png": "[encoded data removed]",
      "text/plain": [
       "<Figure size 720x360 with 1 Axes>"
      ]
     },
     "metadata": {},
     "output_type": "display_data"
    }
   ],
   "source": [
    "\n",
    "matplotlib.style.use('ggplot')\n",
    "from matplotlib.colors import ListedColormap\n",
    "# plt.figure(figsize=(2,1))\n",
    "bf.plot(kind='bar',rot=0)\n",
    "plt.gcf().set_size_inches(10, 5)\n",
    "plt.legend(bbox_to_anchor=(1, 1),loc='upper left', ncol=1,prop={'size': 16})\n",
    "plt.ylabel(\"Frequency\",fontsize=19)\n",
    "plt.xlabel(\"Categorizer\",fontsize=20)\n",
    "plt.tick_params(axis='x', which='major', labelsize=18)\n",
    "plt.title(\"Categorization of Humans and Averaged Model\",fontsize=19)\n",
    "\n",
    "plt.savefig(\"cat.pdf\",bbox_inches='tight')"
   ]
  },
  {
   "cell_type": "code",
   "execution_count": null,
   "metadata": {},
   "outputs": [],
   "source": []
  }
 ],
 "metadata": {
  "kernelspec": {
   "display_name": "Python 3",
   "language": "python",
   "name": "python3"
  },
  "language_info": {
   "codemirror_mode": {
    "name": "ipython",
    "version": 3
   },
   "file_extension": ".py",
   "mimetype": "text/x-python",
   "name": "python",
   "nbconvert_exporter": "python",
   "pygments_lexer": "ipython3",
   "version": "3.7.5"
  }
 },
 "nbformat": 4,
 "nbformat_minor": 4
}
