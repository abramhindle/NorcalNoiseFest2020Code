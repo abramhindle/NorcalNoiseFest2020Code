{
 "cells": [
  {
   "cell_type": "code",
   "execution_count": 373,
   "metadata": {},
   "outputs": [
    {
     "data": {
      "text/plain": [
       "Index(['name', 'fc', 'fc_cat', 'cnn_cat', 'env_and_freq_cat', 'average_cat',\n",
       "       'stack_size', 'iteration_num'],\n",
       "      dtype='object')"
      ]
     },
     "execution_count": 373,
     "metadata": {},
     "output_type": "execute_result"
    }
   ],
   "source": [
    "import pandas as pd\n",
    "import numpy as np\n",
    "import statsmodels.stats.inter_rater as inter\n",
    "# \n",
    "df1=pd.read_csv(\"./survey_results/abram_answers.csv\")\n",
    "df2=pd.read_csv(\"./survey_results/amir_answers.csv\")\n",
    "df3=pd.read_csv(\"./survey_results/computer_answers.csv\")\n",
    "df3.columns"
   ]
  },
  {
   "cell_type": "code",
   "execution_count": 374,
   "metadata": {},
   "outputs": [
    {
     "name": "stdout",
     "output_type": "stream",
     "text": [
      "257 257 257\n"
     ]
    }
   ],
   "source": [
    "df1=df1[[\"name\",\"drum_category\"]]\n",
    "df2=df2[[\"name\",\"drum_category\"]]\n",
    "#check to see if they're sorted the same way\n",
    "print(np.sum(df1[\"name\"]==df2[\"name\"]),\n",
    "      np.sum(df3[\"name\"]==df2[\"name\"]),\n",
    "      np.sum(df3[\"name\"]==df2[\"name\"]))\n",
    "df=pd.DataFrame()\n",
    "df[\"name\"]=df1[\"name\"].copy()\n",
    "\n",
    "df[\"abram\"]=df1[\"drum_category\"]\n",
    "df[\"amir\"]=df2[\"drum_category\"]\n",
    "df[\"c1\"]=df3[\"average_cat\"]\n",
    "df[\"c2\"]=df3[\"cnn_cat\"]\n",
    "df[\"c3\"]=df3[\"env_and_freq_cat\"]\n",
    "df[\"c4\"]=df3[\"fc_cat\"]"
   ]
  },
  {
   "cell_type": "code",
   "execution_count": 386,
   "metadata": {},
   "outputs": [
    {
     "name": "stdout",
     "output_type": "stream",
     "text": [
      "there are 6 categories and 257 samples the bad category is only for humans\n",
      "abram agreeing with averaged categorizer 125\n",
      "amir agreeing with averaged categorizer 141\n",
      "abram agreeing with amir 133\n",
      "both  humans agreeing with averaged categorizer 91\n",
      "both humans agreeing with cnn categorizer 91\n",
      "both humans agreeing with env+freq categorizer 56\n",
      "both  humans agreeing with fully connected categorizer 94\n"
     ]
    }
   ],
   "source": [
    "df=df.replace(\"kick\",\"k\")\n",
    "df=df.replace(\"rim\",\"o\")\n",
    "df=df.replace(\"snare\",\"s\")\n",
    "df=df.replace(\"hat\",\"h\")\n",
    "df=df.replace(\"clap\",\"c\")\n",
    "df=df.replace(\"c\",\"s\")\n",
    "print(\"there are 6 categories and 257 samples the bad category is only for humans\")\n",
    "print(\"abram agreeing with averaged categorizer\",np.sum(df[\"abram\"]==df[\"c1\"]))\n",
    "print(\"amir agreeing with averaged categorizer\",np.sum(df[\"amir\"]==df[\"c1\"]))\n",
    "print(\"abram agreeing with amir\",np.sum(df[\"abram\"]==df[\"amir\"]))\n",
    "\n",
    "print(\"both  humans agreeing with averaged categorizer\",np.sum((df[\"abram\"]==df[\"amir\"]) &\n",
    "                                        (df[\"abram\"]==df[\"c1\"])))\n",
    "print(\"both humans agreeing with cnn categorizer\",np.sum((df[\"abram\"]==df[\"amir\"]) &\n",
    "                                        (df[\"abram\"]==df[\"c2\"])))\n",
    "print(\"both humans agreeing with env+freq categorizer\",np.sum((df[\"abram\"]==df[\"amir\"]) &\n",
    "                                        (df[\"abram\"]==df[\"c3\"])))\n",
    "print(\"both  humans agreeing with fully connected categorizer\",np.sum((df[\"abram\"]==df[\"amir\"]) &\n",
    "                                        (df[\"abram\"]==df[\"c4\"])))\n"
   ]
  },
  {
   "cell_type": "code",
   "execution_count": 387,
   "metadata": {},
   "outputs": [],
   "source": [
    "#make a 2d array for fleiss kappa\n",
    "cats=[\"b\",\"o\",\"h\",\"k\",\"s\",\"c\"]\n",
    "def count_cats(i,r):\n",
    "    cat_counts=[0]*len(cats)\n",
    "    for c in r:\n",
    "        j=cats.index(c)\n",
    "        cat_counts[j]=cat_counts[j]+1\n",
    "    M.append(cat_counts) \n",
    "\n",
    "M=[]\n",
    "for i,r in df.iterrows():\n",
    "    count_cats(i,r[1:])\n"
   ]
  },
  {
   "cell_type": "code",
   "execution_count": 388,
   "metadata": {},
   "outputs": [
    {
     "name": "stdout",
     "output_type": "stream",
     "text": [
      " kappa of 2 humans and 4 models\n"
     ]
    },
    {
     "data": {
      "text/plain": [
       "0.4319066147859924"
      ]
     },
     "execution_count": 388,
     "metadata": {},
     "output_type": "execute_result"
    }
   ],
   "source": [
    "M=[]\n",
    "for i,r in df.iterrows():\n",
    "    count_cats(i,r[1:])\n",
    "print(\" kappa of 2 humans and 4 models\")\n",
    "inter.fleiss_kappa(M,method='uniform')"
   ]
  },
  {
   "cell_type": "code",
   "execution_count": 389,
   "metadata": {},
   "outputs": [
    {
     "name": "stdout",
     "output_type": "stream",
     "text": [
      "kappa of 2 humans\n"
     ]
    },
    {
     "data": {
      "text/plain": [
       "0.42101167315175103"
      ]
     },
     "execution_count": 389,
     "metadata": {},
     "output_type": "execute_result"
    }
   ],
   "source": [
    "print(\"kappa of 2 humans\")\n",
    "M=[]\n",
    "for i,r in df[[\"name\",\"abram\",\"amir\"]].iterrows():\n",
    "    count_cats(i,r[1:])\n",
    "inter.fleiss_kappa(M,method='uniform')"
   ]
  },
  {
   "cell_type": "code",
   "execution_count": 390,
   "metadata": {},
   "outputs": [
    {
     "name": "stdout",
     "output_type": "stream",
     "text": [
      "kappa of 2 humans + cnn or fc\n",
      "0.42101167315175103\n",
      "0.42101167315175103\n"
     ]
    }
   ],
   "source": [
    "print(\"kappa of 2 humans + cnn or fc\")\n",
    "M=[]\n",
    "for i,r in df[[\"name\",\"abram\",\"amir\",\"c2\"]].iterrows():\n",
    "    count_cats(i,r[1:])\n",
    "print(inter.fleiss_kappa(M,method='uniform'))\n",
    "for i,r in df[[\"name\",\"abram\",\"amir\",\"c4\"]].iterrows():\n",
    "    count_cats(i,r[1:])\n",
    "print(inter.fleiss_kappa(M,method='uniform'))"
   ]
  },
  {
   "cell_type": "code",
   "execution_count": 393,
   "metadata": {},
   "outputs": [
    {
     "name": "stdout",
     "output_type": "stream",
     "text": [
      " kappa of 2 humans and 4 models\n"
     ]
    },
    {
     "data": {
      "text/plain": [
       "0.5604444444444444"
      ]
     },
     "execution_count": 393,
     "metadata": {},
     "output_type": "execute_result"
    }
   ],
   "source": [
    "#what happens if we delete the bad rows?\n",
    "df_nb=df[~((df[\"abram\"]==\"b\") | (df[\"amir\"]==\"b\")) ]\n",
    "M=[]\n",
    "for i,r in df_nb.iterrows():\n",
    "    count_cats(i,r[1:])\n",
    "print(\" kappa of 2 humans and 4 models\")\n",
    "inter.fleiss_kappa(M,method='uniform')"
   ]
  },
  {
   "cell_type": "code",
   "execution_count": 399,
   "metadata": {},
   "outputs": [
    {
     "name": "stdout",
     "output_type": "stream",
     "text": [
      "kappa of 2 humans\n"
     ]
    },
    {
     "data": {
      "text/plain": [
       "0.5466666666666667"
      ]
     },
     "execution_count": 399,
     "metadata": {},
     "output_type": "execute_result"
    }
   ],
   "source": [
    "print(\"kappa of 2 humans\")\n",
    "M=[]\n",
    "for i,r in df_nb[[\"name\",\"abram\",\"amir\"]].iterrows():\n",
    "    count_cats(i,r[1:])\n",
    "inter.fleiss_kappa(M,method='uniform')"
   ]
  },
  {
   "cell_type": "code",
   "execution_count": 398,
   "metadata": {},
   "outputs": [
    {
     "data": {
      "text/html": [
       "<div>\n",
       "<style scoped>\n",
       "    .dataframe tbody tr th:only-of-type {\n",
       "        vertical-align: middle;\n",
       "    }\n",
       "\n",
       "    .dataframe tbody tr th {\n",
       "        vertical-align: top;\n",
       "    }\n",
       "\n",
       "    .dataframe thead th {\n",
       "        text-align: right;\n",
       "    }\n",
       "</style>\n",
       "<table border=\"1\" class=\"dataframe\">\n",
       "  <thead>\n",
       "    <tr style=\"text-align: right;\">\n",
       "      <th></th>\n",
       "      <th>name</th>\n",
       "      <th>abram</th>\n",
       "      <th>amir</th>\n",
       "      <th>c1</th>\n",
       "      <th>c2</th>\n",
       "      <th>c3</th>\n",
       "      <th>c4</th>\n",
       "    </tr>\n",
       "  </thead>\n",
       "  <tbody>\n",
       "    <tr>\n",
       "      <td>1</td>\n",
       "      <td>1-0KSA.wav</td>\n",
       "      <td>k</td>\n",
       "      <td>k</td>\n",
       "      <td>o</td>\n",
       "      <td>o</td>\n",
       "      <td>h</td>\n",
       "      <td>k</td>\n",
       "    </tr>\n",
       "    <tr>\n",
       "      <td>2</td>\n",
       "      <td>1-0MF2.wav</td>\n",
       "      <td>k</td>\n",
       "      <td>k</td>\n",
       "      <td>k</td>\n",
       "      <td>k</td>\n",
       "      <td>s</td>\n",
       "      <td>k</td>\n",
       "    </tr>\n",
       "    <tr>\n",
       "      <td>3</td>\n",
       "      <td>1-1HXL.wav</td>\n",
       "      <td>s</td>\n",
       "      <td>s</td>\n",
       "      <td>s</td>\n",
       "      <td>s</td>\n",
       "      <td>s</td>\n",
       "      <td>k</td>\n",
       "    </tr>\n",
       "    <tr>\n",
       "      <td>4</td>\n",
       "      <td>1-1PSC.wav</td>\n",
       "      <td>h</td>\n",
       "      <td>s</td>\n",
       "      <td>s</td>\n",
       "      <td>s</td>\n",
       "      <td>h</td>\n",
       "      <td>s</td>\n",
       "    </tr>\n",
       "    <tr>\n",
       "      <td>6</td>\n",
       "      <td>1-2I16.wav</td>\n",
       "      <td>s</td>\n",
       "      <td>s</td>\n",
       "      <td>s</td>\n",
       "      <td>s</td>\n",
       "      <td>s</td>\n",
       "      <td>s</td>\n",
       "    </tr>\n",
       "    <tr>\n",
       "      <td>...</td>\n",
       "      <td>...</td>\n",
       "      <td>...</td>\n",
       "      <td>...</td>\n",
       "      <td>...</td>\n",
       "      <td>...</td>\n",
       "      <td>...</td>\n",
       "      <td>...</td>\n",
       "    </tr>\n",
       "    <tr>\n",
       "      <td>251</td>\n",
       "      <td>4-XCEY.wav</td>\n",
       "      <td>k</td>\n",
       "      <td>o</td>\n",
       "      <td>h</td>\n",
       "      <td>h</td>\n",
       "      <td>h</td>\n",
       "      <td>h</td>\n",
       "    </tr>\n",
       "    <tr>\n",
       "      <td>252</td>\n",
       "      <td>4-YQIO.wav</td>\n",
       "      <td>k</td>\n",
       "      <td>k</td>\n",
       "      <td>k</td>\n",
       "      <td>k</td>\n",
       "      <td>s</td>\n",
       "      <td>k</td>\n",
       "    </tr>\n",
       "    <tr>\n",
       "      <td>253</td>\n",
       "      <td>4-YS1A.wav</td>\n",
       "      <td>s</td>\n",
       "      <td>s</td>\n",
       "      <td>s</td>\n",
       "      <td>s</td>\n",
       "      <td>s</td>\n",
       "      <td>s</td>\n",
       "    </tr>\n",
       "    <tr>\n",
       "      <td>255</td>\n",
       "      <td>4-Z4JN.wav</td>\n",
       "      <td>h</td>\n",
       "      <td>h</td>\n",
       "      <td>s</td>\n",
       "      <td>s</td>\n",
       "      <td>h</td>\n",
       "      <td>s</td>\n",
       "    </tr>\n",
       "    <tr>\n",
       "      <td>256</td>\n",
       "      <td>4-ZS6D.wav</td>\n",
       "      <td>s</td>\n",
       "      <td>h</td>\n",
       "      <td>h</td>\n",
       "      <td>h</td>\n",
       "      <td>h</td>\n",
       "      <td>s</td>\n",
       "    </tr>\n",
       "  </tbody>\n",
       "</table>\n",
       "<p>180 rows × 7 columns</p>\n",
       "</div>"
      ],
      "text/plain": [
       "           name abram amir c1 c2 c3 c4\n",
       "1    1-0KSA.wav     k    k  o  o  h  k\n",
       "2    1-0MF2.wav     k    k  k  k  s  k\n",
       "3    1-1HXL.wav     s    s  s  s  s  k\n",
       "4    1-1PSC.wav     h    s  s  s  h  s\n",
       "6    1-2I16.wav     s    s  s  s  s  s\n",
       "..          ...   ...  ... .. .. .. ..\n",
       "251  4-XCEY.wav     k    o  h  h  h  h\n",
       "252  4-YQIO.wav     k    k  k  k  s  k\n",
       "253  4-YS1A.wav     s    s  s  s  s  s\n",
       "255  4-Z4JN.wav     h    h  s  s  h  s\n",
       "256  4-ZS6D.wav     s    h  h  h  h  s\n",
       "\n",
       "[180 rows x 7 columns]"
      ]
     },
     "execution_count": 398,
     "metadata": {},
     "output_type": "execute_result"
    }
   ],
   "source": []
  }
 ],
 "metadata": {
  "kernelspec": {
   "display_name": "Python 3",
   "language": "python",
   "name": "python3"
  },
  "language_info": {
   "codemirror_mode": {
    "name": "ipython",
    "version": 3
   },
   "file_extension": ".py",
   "mimetype": "text/x-python",
   "name": "python",
   "nbconvert_exporter": "python",
   "pygments_lexer": "ipython3",
   "version": "3.7.4"
  }
 },
 "nbformat": 4,
 "nbformat_minor": 4
}
