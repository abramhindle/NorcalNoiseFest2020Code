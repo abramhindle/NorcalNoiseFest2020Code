{
 "cells": [
  {
   "cell_type": "code",
   "execution_count": 13,
   "metadata": {
    "scrolled": true
   },
   "outputs": [],
   "source": [
    "from __future__ import print_function\n",
    "import pandas as pd\n",
    "import numpy as np\n",
    "import matplotlib.pyplot  as plt\n",
    "import seaborn as sns\n",
    "import param_generation as pg\n",
    "import helpers as hp\n",
    "from ipywidgets import GridspecLayout,HBox,widgets\n",
    "from IPython.display import Audio, display\n",
    "\n",
    "import random\n",
    "#let's play the sound given the parameters\n",
    "import imp\n",
    "imp.reload(pg)\n",
    "imp.reload(hp)\n",
    "\n",
    "sr=41000\n",
    "score_cols=['clap', 'guitar', 'hat', 'kick', 'noise', 'piano', 'rim', 'shake', 'snare', 'synth', 'tom', 'voc']\n",
    "classes_ranked=[c+\"_rank\" for c in score_cols]\n",
    "param_cols=[ 'oscType_0', 'isNoise_0', \n",
    "      'A_0', 'D_0', 'S_0', 'R_0', 'numOscPitches_0', 'initPitch_0', 'pitchPathMag_0', \n",
    "      'pitchPathAccel_0', 'amplitude_0', 'bpCutLow_0', 'bpCutHigh_0', 'bpOrder_0', 'length_0', \n",
    "      'start_0', 'pitch0_0', 'pitch1_0', 'pitch2_0', 'pitch3_0', 'pitch4_0']\n",
    "\n",
    "pc_no_num=[x[0:-2] for x in param_cols] # param columns with no _# \n",
    "df = pd.read_csv(\"csvs/param_scores.csv\",error_bad_lines=False)"
   ]
  },
  {
   "cell_type": "code",
   "execution_count": 14,
   "metadata": {},
   "outputs": [
    {
     "data": {
      "text/html": [
       "<div>\n",
       "<style scoped>\n",
       "    .dataframe tbody tr th:only-of-type {\n",
       "        vertical-align: middle;\n",
       "    }\n",
       "\n",
       "    .dataframe tbody tr th {\n",
       "        vertical-align: top;\n",
       "    }\n",
       "\n",
       "    .dataframe thead th {\n",
       "        text-align: right;\n",
       "    }\n",
       "</style>\n",
       "<table border=\"1\" class=\"dataframe\">\n",
       "  <thead>\n",
       "    <tr style=\"text-align: right;\">\n",
       "      <th></th>\n",
       "      <th>clap</th>\n",
       "      <th>guitar</th>\n",
       "      <th>hat</th>\n",
       "      <th>kick</th>\n",
       "      <th>noise</th>\n",
       "      <th>piano</th>\n",
       "      <th>rim</th>\n",
       "      <th>shake</th>\n",
       "      <th>snare</th>\n",
       "      <th>synth</th>\n",
       "      <th>tom</th>\n",
       "      <th>voc</th>\n",
       "    </tr>\n",
       "  </thead>\n",
       "  <tbody>\n",
       "    <tr>\n",
       "      <td>mean</td>\n",
       "      <td>0.021974</td>\n",
       "      <td>0.066893</td>\n",
       "      <td>0.103740</td>\n",
       "      <td>0.102348</td>\n",
       "      <td>0.115490</td>\n",
       "      <td>0.058640</td>\n",
       "      <td>0.039107</td>\n",
       "      <td>0.059929</td>\n",
       "      <td>0.050521</td>\n",
       "      <td>0.182850</td>\n",
       "      <td>0.089866</td>\n",
       "      <td>0.108641</td>\n",
       "    </tr>\n",
       "    <tr>\n",
       "      <td>std</td>\n",
       "      <td>0.025288</td>\n",
       "      <td>0.036497</td>\n",
       "      <td>0.026005</td>\n",
       "      <td>0.038772</td>\n",
       "      <td>0.024156</td>\n",
       "      <td>0.045829</td>\n",
       "      <td>0.032260</td>\n",
       "      <td>0.045318</td>\n",
       "      <td>0.035573</td>\n",
       "      <td>0.043185</td>\n",
       "      <td>0.039619</td>\n",
       "      <td>0.031582</td>\n",
       "    </tr>\n",
       "    <tr>\n",
       "      <td>25%</td>\n",
       "      <td>0.000000</td>\n",
       "      <td>0.041022</td>\n",
       "      <td>0.084999</td>\n",
       "      <td>0.077449</td>\n",
       "      <td>0.100093</td>\n",
       "      <td>0.019862</td>\n",
       "      <td>0.008228</td>\n",
       "      <td>0.016645</td>\n",
       "      <td>0.022966</td>\n",
       "      <td>0.158893</td>\n",
       "      <td>0.062029</td>\n",
       "      <td>0.087285</td>\n",
       "    </tr>\n",
       "    <tr>\n",
       "      <td>50%</td>\n",
       "      <td>0.014521</td>\n",
       "      <td>0.066900</td>\n",
       "      <td>0.101465</td>\n",
       "      <td>0.100771</td>\n",
       "      <td>0.114036</td>\n",
       "      <td>0.054758</td>\n",
       "      <td>0.037075</td>\n",
       "      <td>0.061194</td>\n",
       "      <td>0.045702</td>\n",
       "      <td>0.184649</td>\n",
       "      <td>0.091365</td>\n",
       "      <td>0.106792</td>\n",
       "    </tr>\n",
       "    <tr>\n",
       "      <td>75%</td>\n",
       "      <td>0.035643</td>\n",
       "      <td>0.092229</td>\n",
       "      <td>0.119737</td>\n",
       "      <td>0.123807</td>\n",
       "      <td>0.129683</td>\n",
       "      <td>0.089109</td>\n",
       "      <td>0.062901</td>\n",
       "      <td>0.095475</td>\n",
       "      <td>0.073655</td>\n",
       "      <td>0.208953</td>\n",
       "      <td>0.119406</td>\n",
       "      <td>0.128314</td>\n",
       "    </tr>\n",
       "  </tbody>\n",
       "</table>\n",
       "</div>"
      ],
      "text/plain": [
       "          clap    guitar       hat      kick     noise     piano       rim  \\\n",
       "mean  0.021974  0.066893  0.103740  0.102348  0.115490  0.058640  0.039107   \n",
       "std   0.025288  0.036497  0.026005  0.038772  0.024156  0.045829  0.032260   \n",
       "25%   0.000000  0.041022  0.084999  0.077449  0.100093  0.019862  0.008228   \n",
       "50%   0.014521  0.066900  0.101465  0.100771  0.114036  0.054758  0.037075   \n",
       "75%   0.035643  0.092229  0.119737  0.123807  0.129683  0.089109  0.062901   \n",
       "\n",
       "         shake     snare     synth       tom       voc  \n",
       "mean  0.059929  0.050521  0.182850  0.089866  0.108641  \n",
       "std   0.045318  0.035573  0.043185  0.039619  0.031582  \n",
       "25%   0.016645  0.022966  0.158893  0.062029  0.087285  \n",
       "50%   0.061194  0.045702  0.184649  0.091365  0.106792  \n",
       "75%   0.095475  0.073655  0.208953  0.119406  0.128314  "
      ]
     },
     "execution_count": 14,
     "metadata": {},
     "output_type": "execute_result"
    }
   ],
   "source": [
    "df.columns=[*classes_ranked,*score_cols,*param_cols]\n",
    "df[score_cols].describe().loc[[\"mean\",\"std\",\"25%\",\"50%\",\"75%\"]]"
   ]
  },
  {
   "cell_type": "code",
   "execution_count": 15,
   "metadata": {},
   "outputs": [
    {
     "data": {
      "text/html": [
       "<div>\n",
       "<style scoped>\n",
       "    .dataframe tbody tr th:only-of-type {\n",
       "        vertical-align: middle;\n",
       "    }\n",
       "\n",
       "    .dataframe tbody tr th {\n",
       "        vertical-align: top;\n",
       "    }\n",
       "\n",
       "    .dataframe thead th {\n",
       "        text-align: right;\n",
       "    }\n",
       "</style>\n",
       "<table border=\"1\" class=\"dataframe\">\n",
       "  <thead>\n",
       "    <tr style=\"text-align: right;\">\n",
       "      <th></th>\n",
       "      <th>clap_rank</th>\n",
       "      <th>guitar_rank</th>\n",
       "      <th>hat_rank</th>\n",
       "      <th>kick_rank</th>\n",
       "      <th>noise_rank</th>\n",
       "      <th>piano_rank</th>\n",
       "      <th>rim_rank</th>\n",
       "      <th>shake_rank</th>\n",
       "      <th>snare_rank</th>\n",
       "      <th>synth_rank</th>\n",
       "      <th>tom_rank</th>\n",
       "      <th>voc_rank</th>\n",
       "    </tr>\n",
       "  </thead>\n",
       "  <tbody>\n",
       "    <tr>\n",
       "      <td>mean</td>\n",
       "      <td>10.576988</td>\n",
       "      <td>7.557092</td>\n",
       "      <td>4.892047</td>\n",
       "      <td>5.113609</td>\n",
       "      <td>3.944071</td>\n",
       "      <td>8.077024</td>\n",
       "      <td>9.443603</td>\n",
       "      <td>7.920449</td>\n",
       "      <td>8.530894</td>\n",
       "      <td>1.550895</td>\n",
       "      <td>5.946653</td>\n",
       "      <td>4.446674</td>\n",
       "    </tr>\n",
       "    <tr>\n",
       "      <td>std</td>\n",
       "      <td>1.625859</td>\n",
       "      <td>2.612674</td>\n",
       "      <td>2.020575</td>\n",
       "      <td>2.621103</td>\n",
       "      <td>1.652494</td>\n",
       "      <td>3.083400</td>\n",
       "      <td>2.105764</td>\n",
       "      <td>3.080503</td>\n",
       "      <td>2.537162</td>\n",
       "      <td>1.458206</td>\n",
       "      <td>2.856311</td>\n",
       "      <td>2.145714</td>\n",
       "    </tr>\n",
       "    <tr>\n",
       "      <td>25%</td>\n",
       "      <td>10.000000</td>\n",
       "      <td>6.000000</td>\n",
       "      <td>3.000000</td>\n",
       "      <td>3.000000</td>\n",
       "      <td>3.000000</td>\n",
       "      <td>6.000000</td>\n",
       "      <td>8.000000</td>\n",
       "      <td>6.000000</td>\n",
       "      <td>7.000000</td>\n",
       "      <td>1.000000</td>\n",
       "      <td>3.000000</td>\n",
       "      <td>3.000000</td>\n",
       "    </tr>\n",
       "    <tr>\n",
       "      <td>50%</td>\n",
       "      <td>11.000000</td>\n",
       "      <td>8.000000</td>\n",
       "      <td>5.000000</td>\n",
       "      <td>5.000000</td>\n",
       "      <td>4.000000</td>\n",
       "      <td>8.000000</td>\n",
       "      <td>10.000000</td>\n",
       "      <td>8.000000</td>\n",
       "      <td>9.000000</td>\n",
       "      <td>1.000000</td>\n",
       "      <td>6.000000</td>\n",
       "      <td>4.000000</td>\n",
       "    </tr>\n",
       "    <tr>\n",
       "      <td>75%</td>\n",
       "      <td>12.000000</td>\n",
       "      <td>10.000000</td>\n",
       "      <td>6.000000</td>\n",
       "      <td>7.000000</td>\n",
       "      <td>5.000000</td>\n",
       "      <td>11.000000</td>\n",
       "      <td>11.000000</td>\n",
       "      <td>11.000000</td>\n",
       "      <td>10.000000</td>\n",
       "      <td>1.000000</td>\n",
       "      <td>8.000000</td>\n",
       "      <td>6.000000</td>\n",
       "    </tr>\n",
       "  </tbody>\n",
       "</table>\n",
       "</div>"
      ],
      "text/plain": [
       "      clap_rank  guitar_rank  hat_rank  kick_rank  noise_rank  piano_rank  \\\n",
       "mean  10.576988     7.557092  4.892047   5.113609    3.944071    8.077024   \n",
       "std    1.625859     2.612674  2.020575   2.621103    1.652494    3.083400   \n",
       "25%   10.000000     6.000000  3.000000   3.000000    3.000000    6.000000   \n",
       "50%   11.000000     8.000000  5.000000   5.000000    4.000000    8.000000   \n",
       "75%   12.000000    10.000000  6.000000   7.000000    5.000000   11.000000   \n",
       "\n",
       "       rim_rank  shake_rank  snare_rank  synth_rank  tom_rank  voc_rank  \n",
       "mean   9.443603    7.920449    8.530894    1.550895  5.946653  4.446674  \n",
       "std    2.105764    3.080503    2.537162    1.458206  2.856311  2.145714  \n",
       "25%    8.000000    6.000000    7.000000    1.000000  3.000000  3.000000  \n",
       "50%   10.000000    8.000000    9.000000    1.000000  6.000000  4.000000  \n",
       "75%   11.000000   11.000000   10.000000    1.000000  8.000000  6.000000  "
      ]
     },
     "execution_count": 15,
     "metadata": {},
     "output_type": "execute_result"
    }
   ],
   "source": [
    "df.columns=[*classes_ranked,*score_cols,*param_cols]\n",
    "df[classes_ranked].describe().loc[[\"mean\",\"std\",\"25%\",\"50%\",\"75%\"]]"
   ]
  },
  {
   "cell_type": "code",
   "execution_count": 16,
   "metadata": {},
   "outputs": [
    {
     "data": {
      "text/plain": [
       "<matplotlib.axes._subplots.AxesSubplot at 0x7fcece44d470>"
      ]
     },
     "execution_count": 16,
     "metadata": {},
     "output_type": "execute_result"
    },
    {
     "data": {
      "text/plain": [
       "<Figure size 1080x540 with 0 Axes>"
      ]
     },
     "metadata": {},
     "output_type": "display_data"
    },
    {
     "data": {
      "image/png": "[encoded data removed]",
      "text/plain": [
       "<Figure size 1080x288 with 1 Axes>"
      ]
     },
     "metadata": {
      "needs_background": "light"
     },
     "output_type": "display_data"
    },
    {
     "data": {
      "image/png": "[encoded data removed]",
      "text/plain": [
       "<Figure size 1080x288 with 1 Axes>"
      ]
     },
     "metadata": {
      "needs_background": "light"
     },
     "output_type": "display_data"
    }
   ],
   "source": [
    "#visualizing ranks per group\n",
    "gc=pd.DataFrame(columns=range(1,5))\n",
    "for c in classes_ranked:\n",
    "    gc=gc.append(df[c].astype(int).value_counts())\n",
    "\n",
    "gc=gc.sort_values(by=[1,2],ascending=False)\n",
    "fig = plt.gcf()\n",
    "fig.set_size_inches(15, 7.5)\n",
    "\n",
    "gc[list(range(1,6))].plot(kind=\"bar\",figsize=(15,4),stacked=True)\n",
    "\n",
    "gc[list(range(6,13))].plot(kind=\"bar\",figsize=(15,4),stacked=True)"
   ]
  },
  {
   "cell_type": "code",
   "execution_count": 76,
   "metadata": {},
   "outputs": [],
   "source": [
    "#convert params ina  row to a sound and play it\n",
    "def rToParams(r,pset,n=0):\n",
    "\n",
    "    pset.oscType=r[\"oscType_%d\"%(n,)]\n",
    "    pset.isNoise=r[\"isNoise_%d\"%(n,)]\n",
    "    pset.A=r[\"A_%d\"%(n,)]\n",
    "    pset.D=r[\"D_%d\"%(n,)]\n",
    "    pset.S=r[\"S_%d\"%(n,)]\n",
    "    pset.R=r[\"R_%d\"%(n,)]\n",
    "    #pitches\n",
    "    pset.numOscPitches=r[\"numOscPitches_%d\"%(n,)]\n",
    "    pset.initPitch=r[\"initPitch_%d\"%(n,)]\n",
    "    pset.pitchPathMag=r[\"pitchPathMag_%d\"%(n,)]\n",
    "    pset.pitchPathAccel=r[\"pitchPathAccel_%d\"%(n,)]\n",
    "    #######\n",
    "    pset.amplitude=r[\"amplitude_%d\"%(n,)]\n",
    "    pset.bpCutLow,pset.bpCutHigh=r[\"bpCutLow_%d\"%(n,)],r[\"bpCutHigh_%d\"%(n,)]\n",
    "    pset.bpOrder=r[\"bpOrder_%d\"%(n,)]\n",
    "    pset.length=r[\"length_%d\"%(n,)]\n",
    "    pset.start=r[\"start_%d\"%(n,)]\n",
    "    pset.pitches=[]\n",
    "    return pset"
   ]
  },
  {
   "cell_type": "code",
   "execution_count": 79,
   "metadata": {},
   "outputs": [
    {
     "name": "stdout",
     "output_type": "stream",
     "text": [
      "(125, 45)\n"
     ]
    },
    {
     "data": {
      "application/vnd.jupyter.widget-view+json": {
       "model_id": "551025ddc50f4c94a9fddba080cfcb4b",
       "version_major": 2,
       "version_minor": 0
      },
      "text/plain": [
       "GridspecLayout(children=(Output(layout=Layout(grid_area='widget001')), Output(layout=Layout(grid_area='widget0…"
      ]
     },
     "metadata": {},
     "output_type": "display_data"
    }
   ],
   "source": [
    "g=\"kick\"\n",
    "\n",
    "selection=df[(df[g]>0.25) & (df[g+\"_rank\"]<3) & (df[\"synth_rank\"]>3)].reset_index(drop=True)\n",
    "print(selection.shape)\n",
    "\n",
    "grid = GridspecLayout(3, 3)\n",
    "for i in range(3):\n",
    "    for j in range(3):\n",
    "        r=selection.iloc[random.randint(0,selection.shape[0]-1)]\n",
    "        r=r[param_cols]\n",
    "        pset=pg.RandomParams()\n",
    "        pset=rToParams(r,pset)\n",
    "        out=pg.ensemble([pset])\n",
    "        \n",
    "        o= widgets.Output()\n",
    "        with o:\n",
    "            display(Audio(hp.memToAud(out),rate=sr))\n",
    "        grid[i, j] = o\n",
    "grid"
   ]
  },
  {
   "cell_type": "code",
   "execution_count": 52,
   "metadata": {},
   "outputs": [
    {
     "data": {
      "text/plain": [
       "\u001b[0;31mSignature:\u001b[0m \u001b[0mout\u001b[0m\u001b[0;34m.\u001b[0m\u001b[0mappend_display_data\u001b[0m\u001b[0;34m(\u001b[0m\u001b[0mdisplay_object\u001b[0m\u001b[0;34m)\u001b[0m\u001b[0;34m\u001b[0m\u001b[0;34m\u001b[0m\u001b[0m\n",
       "\u001b[0;31mDocstring:\u001b[0m\n",
       "Append a display object as an output.\n",
       "\n",
       "Parameters\n",
       "----------\n",
       "display_object : IPython.core.display.DisplayObject\n",
       "    The object to display (e.g., an instance of\n",
       "    `IPython.display.Markdown` or `IPython.display.Image`).\n",
       "\u001b[0;31mFile:\u001b[0m      ~/miniconda3/envs/syn/lib/python3.6/site-packages/ipywidgets/widgets/widget_output.py\n",
       "\u001b[0;31mType:\u001b[0m      method\n"
      ]
     },
     "metadata": {},
     "output_type": "display_data"
    }
   ],
   "source": [
    "\n"
   ]
  }
 ],
 "metadata": {
  "kernelspec": {
   "display_name": "Python 3",
   "language": "python",
   "name": "python3"
  },
  "language_info": {
   "codemirror_mode": {
    "name": "ipython",
    "version": 3
   },
   "file_extension": ".py",
   "mimetype": "text/x-python",
   "name": "python",
   "nbconvert_exporter": "python",
   "pygments_lexer": "ipython3",
   "version": "3.6.9"
  }
 },
 "nbformat": 4,
 "nbformat_minor": 4
}
